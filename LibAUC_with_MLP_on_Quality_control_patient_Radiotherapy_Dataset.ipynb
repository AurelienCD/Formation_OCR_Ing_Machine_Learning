{
  "nbformat": 4,
  "nbformat_minor": 0,
  "metadata": {
    "colab": {
      "name": "LibAUC_with_MLP_on_Quality control_patient_Radiotherapy_Dataset.ipynb",
      "provenance": [],
      "collapsed_sections": [],
      "background_execution": "on",
      "include_colab_link": true
    },
    "kernelspec": {
      "name": "python3",
      "display_name": "Python 3"
    },
    "language_info": {
      "name": "python"
    },
    "accelerator": "GPU"
  },
  "cells": [
    {
      "cell_type": "markdown",
      "metadata": {
        "id": "view-in-github",
        "colab_type": "text"
      },
      "source": [
        "<a href=\"https://colab.research.google.com/github/AurelienCD/Formation_OCR_Ing_Machine_Learning/blob/main/LibAUC_with_MLP_on_Quality_control_patient_Radiotherapy_Dataset.ipynb\" target=\"_parent\"><img src=\"https://colab.research.google.com/assets/colab-badge.svg\" alt=\"Open In Colab\"/></a>"
      ]
    },
    {
      "cell_type": "code",
      "source": [
        "from google.colab import drive\n",
        "drive.mount(\"/content/drive\")"
      ],
      "metadata": {
        "colab": {
          "base_uri": "https://localhost:8080/"
        },
        "id": "kKPHQ82NmgTE",
        "outputId": "3ec0f1ec-ec68-4381-ae4c-44b71e70bff9"
      },
      "execution_count": null,
      "outputs": [
        {
          "output_type": "stream",
          "name": "stdout",
          "text": [
            "Mounted at /content/drive\n"
          ]
        }
      ]
    },
    {
      "cell_type": "code",
      "source": [
        "%cd drive/MyDrive/Formation_OCR_Ing_Machine_Learning/Projet 7/Stage_Noémie/LibAUC"
      ],
      "metadata": {
        "colab": {
          "base_uri": "https://localhost:8080/"
        },
        "id": "AKIGmXuPmfBF",
        "outputId": "054ae91b-dff0-4060-8c7d-324cd38aa7d1"
      },
      "execution_count": null,
      "outputs": [
        {
          "output_type": "stream",
          "name": "stdout",
          "text": [
            "/content/drive/MyDrive/Formation_OCR_Ing_Machine_Learning/Projet 7/Stage_Noémie/LibAUC\n"
          ]
        }
      ]
    },
    {
      "cell_type": "markdown",
      "source": [
        "* **Author**: Zhuoning Yuan\n",
        "* **Project**: https://github.com/Optimization-AI/LibAUC/"
      ],
      "metadata": {
        "id": "ZKe_LhktOeBs"
      }
    },
    {
      "cell_type": "code",
      "execution_count": null,
      "metadata": {
        "id": "SJlahR4u9uSA",
        "colab": {
          "base_uri": "https://localhost:8080/"
        },
        "outputId": "7e9147f4-8e1f-4225-861a-ee08ac01439f"
      },
      "outputs": [
        {
          "output_type": "stream",
          "name": "stdout",
          "text": [
            "Collecting libauc==1.1.8\n",
            "  Downloading libauc-1.1.8-py3-none-any.whl (38 kB)\n",
            "Requirement already satisfied: numpy in /usr/local/lib/python3.7/dist-packages (from libauc==1.1.8) (1.21.6)\n",
            "Requirement already satisfied: Pillow in /usr/local/lib/python3.7/dist-packages (from libauc==1.1.8) (7.1.2)\n",
            "Requirement already satisfied: torch>=1.2 in /usr/local/lib/python3.7/dist-packages (from libauc==1.1.8) (1.11.0+cu113)\n",
            "Requirement already satisfied: tensorflow>=2.0.0 in /usr/local/lib/python3.7/dist-packages (from libauc==1.1.8) (2.8.0)\n",
            "Requirement already satisfied: opencv-python in /usr/local/lib/python3.7/dist-packages (from libauc==1.1.8) (4.1.2.30)\n",
            "Requirement already satisfied: scikit-learn in /usr/local/lib/python3.7/dist-packages (from libauc==1.1.8) (1.0.2)\n",
            "Requirement already satisfied: scikit-image in /usr/local/lib/python3.7/dist-packages (from libauc==1.1.8) (0.18.3)\n",
            "Requirement already satisfied: pandas in /usr/local/lib/python3.7/dist-packages (from libauc==1.1.8) (1.3.5)\n",
            "Requirement already satisfied: typing-extensions>=3.6.6 in /usr/local/lib/python3.7/dist-packages (from tensorflow>=2.0.0->libauc==1.1.8) (4.2.0)\n",
            "Requirement already satisfied: six>=1.12.0 in /usr/local/lib/python3.7/dist-packages (from tensorflow>=2.0.0->libauc==1.1.8) (1.15.0)\n",
            "Requirement already satisfied: keras<2.9,>=2.8.0rc0 in /usr/local/lib/python3.7/dist-packages (from tensorflow>=2.0.0->libauc==1.1.8) (2.8.0)\n",
            "Requirement already satisfied: gast>=0.2.1 in /usr/local/lib/python3.7/dist-packages (from tensorflow>=2.0.0->libauc==1.1.8) (0.5.3)\n",
            "Requirement already satisfied: wrapt>=1.11.0 in /usr/local/lib/python3.7/dist-packages (from tensorflow>=2.0.0->libauc==1.1.8) (1.14.0)\n",
            "Requirement already satisfied: absl-py>=0.4.0 in /usr/local/lib/python3.7/dist-packages (from tensorflow>=2.0.0->libauc==1.1.8) (1.0.0)\n",
            "Requirement already satisfied: tensorflow-io-gcs-filesystem>=0.23.1 in /usr/local/lib/python3.7/dist-packages (from tensorflow>=2.0.0->libauc==1.1.8) (0.25.0)\n",
            "Requirement already satisfied: astunparse>=1.6.0 in /usr/local/lib/python3.7/dist-packages (from tensorflow>=2.0.0->libauc==1.1.8) (1.6.3)\n",
            "Requirement already satisfied: opt-einsum>=2.3.2 in /usr/local/lib/python3.7/dist-packages (from tensorflow>=2.0.0->libauc==1.1.8) (3.3.0)\n",
            "Requirement already satisfied: tensorboard<2.9,>=2.8 in /usr/local/lib/python3.7/dist-packages (from tensorflow>=2.0.0->libauc==1.1.8) (2.8.0)\n",
            "Requirement already satisfied: google-pasta>=0.1.1 in /usr/local/lib/python3.7/dist-packages (from tensorflow>=2.0.0->libauc==1.1.8) (0.2.0)\n",
            "Requirement already satisfied: flatbuffers>=1.12 in /usr/local/lib/python3.7/dist-packages (from tensorflow>=2.0.0->libauc==1.1.8) (2.0)\n",
            "Collecting tf-estimator-nightly==2.8.0.dev2021122109\n",
            "  Downloading tf_estimator_nightly-2.8.0.dev2021122109-py2.py3-none-any.whl (462 kB)\n",
            "\u001b[K     |████████████████████████████████| 462 kB 6.4 MB/s \n",
            "\u001b[?25hRequirement already satisfied: grpcio<2.0,>=1.24.3 in /usr/local/lib/python3.7/dist-packages (from tensorflow>=2.0.0->libauc==1.1.8) (1.44.0)\n",
            "Requirement already satisfied: libclang>=9.0.1 in /usr/local/lib/python3.7/dist-packages (from tensorflow>=2.0.0->libauc==1.1.8) (14.0.1)\n",
            "Requirement already satisfied: h5py>=2.9.0 in /usr/local/lib/python3.7/dist-packages (from tensorflow>=2.0.0->libauc==1.1.8) (3.1.0)\n",
            "Requirement already satisfied: termcolor>=1.1.0 in /usr/local/lib/python3.7/dist-packages (from tensorflow>=2.0.0->libauc==1.1.8) (1.1.0)\n",
            "Requirement already satisfied: keras-preprocessing>=1.1.1 in /usr/local/lib/python3.7/dist-packages (from tensorflow>=2.0.0->libauc==1.1.8) (1.1.2)\n",
            "Requirement already satisfied: protobuf>=3.9.2 in /usr/local/lib/python3.7/dist-packages (from tensorflow>=2.0.0->libauc==1.1.8) (3.17.3)\n",
            "Requirement already satisfied: setuptools in /usr/local/lib/python3.7/dist-packages (from tensorflow>=2.0.0->libauc==1.1.8) (57.4.0)\n",
            "Requirement already satisfied: wheel<1.0,>=0.23.0 in /usr/local/lib/python3.7/dist-packages (from astunparse>=1.6.0->tensorflow>=2.0.0->libauc==1.1.8) (0.37.1)\n",
            "Requirement already satisfied: cached-property in /usr/local/lib/python3.7/dist-packages (from h5py>=2.9.0->tensorflow>=2.0.0->libauc==1.1.8) (1.5.2)\n",
            "Requirement already satisfied: tensorboard-plugin-wit>=1.6.0 in /usr/local/lib/python3.7/dist-packages (from tensorboard<2.9,>=2.8->tensorflow>=2.0.0->libauc==1.1.8) (1.8.1)\n",
            "Requirement already satisfied: tensorboard-data-server<0.7.0,>=0.6.0 in /usr/local/lib/python3.7/dist-packages (from tensorboard<2.9,>=2.8->tensorflow>=2.0.0->libauc==1.1.8) (0.6.1)\n",
            "Requirement already satisfied: google-auth-oauthlib<0.5,>=0.4.1 in /usr/local/lib/python3.7/dist-packages (from tensorboard<2.9,>=2.8->tensorflow>=2.0.0->libauc==1.1.8) (0.4.6)\n",
            "Requirement already satisfied: werkzeug>=0.11.15 in /usr/local/lib/python3.7/dist-packages (from tensorboard<2.9,>=2.8->tensorflow>=2.0.0->libauc==1.1.8) (1.0.1)\n",
            "Requirement already satisfied: markdown>=2.6.8 in /usr/local/lib/python3.7/dist-packages (from tensorboard<2.9,>=2.8->tensorflow>=2.0.0->libauc==1.1.8) (3.3.6)\n",
            "Requirement already satisfied: google-auth<3,>=1.6.3 in /usr/local/lib/python3.7/dist-packages (from tensorboard<2.9,>=2.8->tensorflow>=2.0.0->libauc==1.1.8) (1.35.0)\n",
            "Requirement already satisfied: requests<3,>=2.21.0 in /usr/local/lib/python3.7/dist-packages (from tensorboard<2.9,>=2.8->tensorflow>=2.0.0->libauc==1.1.8) (2.23.0)\n",
            "Requirement already satisfied: pyasn1-modules>=0.2.1 in /usr/local/lib/python3.7/dist-packages (from google-auth<3,>=1.6.3->tensorboard<2.9,>=2.8->tensorflow>=2.0.0->libauc==1.1.8) (0.2.8)\n",
            "Requirement already satisfied: rsa<5,>=3.1.4 in /usr/local/lib/python3.7/dist-packages (from google-auth<3,>=1.6.3->tensorboard<2.9,>=2.8->tensorflow>=2.0.0->libauc==1.1.8) (4.8)\n",
            "Requirement already satisfied: cachetools<5.0,>=2.0.0 in /usr/local/lib/python3.7/dist-packages (from google-auth<3,>=1.6.3->tensorboard<2.9,>=2.8->tensorflow>=2.0.0->libauc==1.1.8) (4.2.4)\n",
            "Requirement already satisfied: requests-oauthlib>=0.7.0 in /usr/local/lib/python3.7/dist-packages (from google-auth-oauthlib<0.5,>=0.4.1->tensorboard<2.9,>=2.8->tensorflow>=2.0.0->libauc==1.1.8) (1.3.1)\n",
            "Requirement already satisfied: importlib-metadata>=4.4 in /usr/local/lib/python3.7/dist-packages (from markdown>=2.6.8->tensorboard<2.9,>=2.8->tensorflow>=2.0.0->libauc==1.1.8) (4.11.3)\n",
            "Requirement already satisfied: zipp>=0.5 in /usr/local/lib/python3.7/dist-packages (from importlib-metadata>=4.4->markdown>=2.6.8->tensorboard<2.9,>=2.8->tensorflow>=2.0.0->libauc==1.1.8) (3.8.0)\n",
            "Requirement already satisfied: pyasn1<0.5.0,>=0.4.6 in /usr/local/lib/python3.7/dist-packages (from pyasn1-modules>=0.2.1->google-auth<3,>=1.6.3->tensorboard<2.9,>=2.8->tensorflow>=2.0.0->libauc==1.1.8) (0.4.8)\n",
            "Requirement already satisfied: chardet<4,>=3.0.2 in /usr/local/lib/python3.7/dist-packages (from requests<3,>=2.21.0->tensorboard<2.9,>=2.8->tensorflow>=2.0.0->libauc==1.1.8) (3.0.4)\n",
            "Requirement already satisfied: idna<3,>=2.5 in /usr/local/lib/python3.7/dist-packages (from requests<3,>=2.21.0->tensorboard<2.9,>=2.8->tensorflow>=2.0.0->libauc==1.1.8) (2.10)\n",
            "Requirement already satisfied: urllib3!=1.25.0,!=1.25.1,<1.26,>=1.21.1 in /usr/local/lib/python3.7/dist-packages (from requests<3,>=2.21.0->tensorboard<2.9,>=2.8->tensorflow>=2.0.0->libauc==1.1.8) (1.24.3)\n",
            "Requirement already satisfied: certifi>=2017.4.17 in /usr/local/lib/python3.7/dist-packages (from requests<3,>=2.21.0->tensorboard<2.9,>=2.8->tensorflow>=2.0.0->libauc==1.1.8) (2021.10.8)\n",
            "Requirement already satisfied: oauthlib>=3.0.0 in /usr/local/lib/python3.7/dist-packages (from requests-oauthlib>=0.7.0->google-auth-oauthlib<0.5,>=0.4.1->tensorboard<2.9,>=2.8->tensorflow>=2.0.0->libauc==1.1.8) (3.2.0)\n",
            "Requirement already satisfied: python-dateutil>=2.7.3 in /usr/local/lib/python3.7/dist-packages (from pandas->libauc==1.1.8) (2.8.2)\n",
            "Requirement already satisfied: pytz>=2017.3 in /usr/local/lib/python3.7/dist-packages (from pandas->libauc==1.1.8) (2022.1)\n",
            "Requirement already satisfied: imageio>=2.3.0 in /usr/local/lib/python3.7/dist-packages (from scikit-image->libauc==1.1.8) (2.4.1)\n",
            "Requirement already satisfied: matplotlib!=3.0.0,>=2.0.0 in /usr/local/lib/python3.7/dist-packages (from scikit-image->libauc==1.1.8) (3.2.2)\n",
            "Requirement already satisfied: scipy>=1.0.1 in /usr/local/lib/python3.7/dist-packages (from scikit-image->libauc==1.1.8) (1.4.1)\n",
            "Requirement already satisfied: networkx>=2.0 in /usr/local/lib/python3.7/dist-packages (from scikit-image->libauc==1.1.8) (2.6.3)\n",
            "Requirement already satisfied: tifffile>=2019.7.26 in /usr/local/lib/python3.7/dist-packages (from scikit-image->libauc==1.1.8) (2021.11.2)\n",
            "Requirement already satisfied: PyWavelets>=1.1.1 in /usr/local/lib/python3.7/dist-packages (from scikit-image->libauc==1.1.8) (1.3.0)\n",
            "Requirement already satisfied: kiwisolver>=1.0.1 in /usr/local/lib/python3.7/dist-packages (from matplotlib!=3.0.0,>=2.0.0->scikit-image->libauc==1.1.8) (1.4.2)\n",
            "Requirement already satisfied: pyparsing!=2.0.4,!=2.1.2,!=2.1.6,>=2.0.1 in /usr/local/lib/python3.7/dist-packages (from matplotlib!=3.0.0,>=2.0.0->scikit-image->libauc==1.1.8) (3.0.8)\n",
            "Requirement already satisfied: cycler>=0.10 in /usr/local/lib/python3.7/dist-packages (from matplotlib!=3.0.0,>=2.0.0->scikit-image->libauc==1.1.8) (0.11.0)\n",
            "Requirement already satisfied: threadpoolctl>=2.0.0 in /usr/local/lib/python3.7/dist-packages (from scikit-learn->libauc==1.1.8) (3.1.0)\n",
            "Requirement already satisfied: joblib>=0.11 in /usr/local/lib/python3.7/dist-packages (from scikit-learn->libauc==1.1.8) (1.1.0)\n",
            "Installing collected packages: tf-estimator-nightly, libauc\n",
            "Successfully installed libauc-1.1.8 tf-estimator-nightly-2.8.0.dev2021122109\n"
          ]
        }
      ],
      "source": [
        "!pip install libauc==1.1.8"
      ]
    },
    {
      "cell_type": "markdown",
      "source": [
        "# Import Libs"
      ],
      "metadata": {
        "id": "KIOhnUx7mt9K"
      }
    },
    {
      "cell_type": "code",
      "source": [
        "import pandas as pad \n",
        "import numpy as np\n",
        "from numpy.core.numeric import NaN\n",
        "\n",
        "import datetime\n",
        "\n",
        "import matplotlib.pyplot as plt\n",
        "import seaborn as sns\n",
        "\n",
        "import statistics\n",
        "from scipy import stats\n",
        "from scipy.stats import pearsonr\n",
        "from scipy.stats import ttest_ind\n",
        "\n",
        "\n",
        "import statsmodels.api as sm\n",
        "from statsmodels.formula.api import ols\n",
        "import statsmodels.stats.multicomp as multi \n",
        "\n",
        "import pandas as pad \n",
        "import numpy as np\n",
        "from numpy.core.numeric import NaN\n",
        "\n",
        "from sklearn.preprocessing import StandardScaler, OneHotEncoder\n",
        "from sklearn.metrics.cluster import adjusted_rand_score\n",
        "\n",
        "from joblib import dump, load\n",
        "\n",
        "from sklearn.model_selection import train_test_split, StratifiedShuffleSplit, GridSearchCV\n",
        "\n",
        "from sklearn.preprocessing import *\n",
        "from sklearn.pipeline import make_pipeline\n",
        "from sklearn.compose import make_column_transformer\n",
        "\n",
        "from sklearn.discriminant_analysis import LinearDiscriminantAnalysis\n",
        "from sklearn.neighbors import KNeighborsClassifier\n",
        "from sklearn.naive_bayes import GaussianNB\n",
        "from sklearn.tree import DecisionTreeClassifier\n",
        "from sklearn.svm import SVC\n",
        "from sklearn.linear_model import LogisticRegression\n",
        "from sklearn.linear_model import RidgeClassifier\n",
        "from sklearn.linear_model import SGDClassifier\n",
        "from sklearn.linear_model import LinearRegression\n",
        "from sklearn.ensemble import RandomForestClassifier\n",
        "from imblearn.over_sampling import RandomOverSampler\n",
        "from imblearn.under_sampling import RandomUnderSampler\n",
        "\n",
        "from sklearn.metrics import *\n",
        "from sklearn.model_selection import KFold\n",
        "from sklearn.metrics import  make_scorer\n",
        "from sklearn.model_selection import cross_val_score\n",
        "from sklearn.metrics import r2_score\n",
        "from sklearn.model_selection import RandomizedSearchCV\n",
        "from sklearn.datasets import make_classification\n",
        "from sklearn.metrics import roc_curve\n",
        "\n",
        "import tensorflow as tf\n",
        "from tensorflow import keras\n",
        "from keras.callbacks import ModelCheckpoint\n",
        "import random\n",
        "import numpy\n",
        "\n",
        "import pandas.util.testing as tm\n",
        "\n",
        "import joblib"
      ],
      "metadata": {
        "colab": {
          "base_uri": "https://localhost:8080/"
        },
        "id": "83r1o4CUmvxE",
        "outputId": "f5310832-a925-494d-c647-e4683a2bcee3"
      },
      "execution_count": null,
      "outputs": [
        {
          "output_type": "stream",
          "name": "stderr",
          "text": [
            "/usr/local/lib/python3.7/dist-packages/statsmodels/tools/_testing.py:19: FutureWarning: pandas.util.testing is deprecated. Use the functions in the public API at pandas.testing instead.\n",
            "  import pandas.util.testing as tm\n"
          ]
        }
      ]
    },
    {
      "cell_type": "markdown",
      "source": [
        "# **Import LibAUC**"
      ],
      "metadata": {
        "id": "h44OjwNncoUp"
      }
    },
    {
      "cell_type": "code",
      "source": [
        "from libauc.losses import AUCMLoss\n",
        "from libauc.optimizers import PESG\n",
        "from libauc.datasets import ImbalanceSampler\n",
        "\n",
        "import torch \n",
        "import numpy as np\n",
        "from torch.utils.data import Dataset\n",
        "from sklearn.metrics import roc_auc_score"
      ],
      "metadata": {
        "id": "jVXbEQ5E9xyj"
      },
      "execution_count": null,
      "outputs": []
    },
    {
      "cell_type": "markdown",
      "source": [
        "# **Reproducibility**"
      ],
      "metadata": {
        "id": "e4CMX6LPcuSc"
      }
    },
    {
      "cell_type": "code",
      "source": [
        "def set_all_seeds(SEED):\n",
        "    # REPRODUCIBILITY\n",
        "    torch.manual_seed(SEED)\n",
        "    np.random.seed(SEED)\n",
        "    torch.backends.cudnn.deterministic = True\n",
        "    torch.backends.cudnn.benchmark = False"
      ],
      "metadata": {
        "id": "JTnrfY6Gcsoo"
      },
      "execution_count": null,
      "outputs": []
    },
    {
      "cell_type": "markdown",
      "source": [
        "# **Loading and Preprocessing Credit Fraud Dataset**\n"
      ],
      "metadata": {
        "id": "C-ivD4T7cxCc"
      }
    },
    {
      "cell_type": "code",
      "source": [
        "df = pad.read_excel('Database_LibAUC_0.xlsx')\n",
        "df.dropna(axis = 0, how ='any')"
      ],
      "metadata": {
        "colab": {
          "base_uri": "https://localhost:8080/",
          "height": 419
        },
        "id": "4y1WE8RMmqcl",
        "outputId": "abf6acec-fc05-4ac7-f7e5-e6362a60944b"
      },
      "execution_count": null,
      "outputs": [
        {
          "output_type": "execute_result",
          "data": {
            "text/plain": [
              "      Label_1  Label_2  Label_3  Label_4  Label_5  Label_6  Class\n",
              "0      0.4633   0.1076  40.4710   0.0859   0.1338   0.8025    0.0\n",
              "1      0.4540   0.0997  36.4405   0.0815   0.1233   0.7998    0.0\n",
              "2      0.4880   0.0803  61.0115   0.0558   0.1058   0.7631    0.0\n",
              "3      0.4113   0.1118  34.3492   0.0926   0.1467   0.7588    0.0\n",
              "4      0.6148   0.0940  31.4994   0.0792   0.1329   0.7026    0.0\n",
              "...       ...      ...      ...      ...      ...      ...    ...\n",
              "1627   0.5041   0.1099  46.2522   0.0845   0.1460   0.7514    0.0\n",
              "1628   0.4571   0.1253  41.3130   0.0995   0.1825   0.6850    0.0\n",
              "1629   0.3610   0.1406  30.2030   0.1194   0.2063   0.6746    0.0\n",
              "1630   0.5300   0.0692  64.1103   0.0470   0.0923   0.7494    0.0\n",
              "1631   0.6539   0.0694  58.1879   0.0492   0.0915   0.7607    1.0\n",
              "\n",
              "[1632 rows x 7 columns]"
            ],
            "text/html": [
              "\n",
              "  <div id=\"df-49be59d9-9e43-45e2-9e33-6e861fbcb216\">\n",
              "    <div class=\"colab-df-container\">\n",
              "      <div>\n",
              "<style scoped>\n",
              "    .dataframe tbody tr th:only-of-type {\n",
              "        vertical-align: middle;\n",
              "    }\n",
              "\n",
              "    .dataframe tbody tr th {\n",
              "        vertical-align: top;\n",
              "    }\n",
              "\n",
              "    .dataframe thead th {\n",
              "        text-align: right;\n",
              "    }\n",
              "</style>\n",
              "<table border=\"1\" class=\"dataframe\">\n",
              "  <thead>\n",
              "    <tr style=\"text-align: right;\">\n",
              "      <th></th>\n",
              "      <th>Label_1</th>\n",
              "      <th>Label_2</th>\n",
              "      <th>Label_3</th>\n",
              "      <th>Label_4</th>\n",
              "      <th>Label_5</th>\n",
              "      <th>Label_6</th>\n",
              "      <th>Class</th>\n",
              "    </tr>\n",
              "  </thead>\n",
              "  <tbody>\n",
              "    <tr>\n",
              "      <th>0</th>\n",
              "      <td>0.4633</td>\n",
              "      <td>0.1076</td>\n",
              "      <td>40.4710</td>\n",
              "      <td>0.0859</td>\n",
              "      <td>0.1338</td>\n",
              "      <td>0.8025</td>\n",
              "      <td>0.0</td>\n",
              "    </tr>\n",
              "    <tr>\n",
              "      <th>1</th>\n",
              "      <td>0.4540</td>\n",
              "      <td>0.0997</td>\n",
              "      <td>36.4405</td>\n",
              "      <td>0.0815</td>\n",
              "      <td>0.1233</td>\n",
              "      <td>0.7998</td>\n",
              "      <td>0.0</td>\n",
              "    </tr>\n",
              "    <tr>\n",
              "      <th>2</th>\n",
              "      <td>0.4880</td>\n",
              "      <td>0.0803</td>\n",
              "      <td>61.0115</td>\n",
              "      <td>0.0558</td>\n",
              "      <td>0.1058</td>\n",
              "      <td>0.7631</td>\n",
              "      <td>0.0</td>\n",
              "    </tr>\n",
              "    <tr>\n",
              "      <th>3</th>\n",
              "      <td>0.4113</td>\n",
              "      <td>0.1118</td>\n",
              "      <td>34.3492</td>\n",
              "      <td>0.0926</td>\n",
              "      <td>0.1467</td>\n",
              "      <td>0.7588</td>\n",
              "      <td>0.0</td>\n",
              "    </tr>\n",
              "    <tr>\n",
              "      <th>4</th>\n",
              "      <td>0.6148</td>\n",
              "      <td>0.0940</td>\n",
              "      <td>31.4994</td>\n",
              "      <td>0.0792</td>\n",
              "      <td>0.1329</td>\n",
              "      <td>0.7026</td>\n",
              "      <td>0.0</td>\n",
              "    </tr>\n",
              "    <tr>\n",
              "      <th>...</th>\n",
              "      <td>...</td>\n",
              "      <td>...</td>\n",
              "      <td>...</td>\n",
              "      <td>...</td>\n",
              "      <td>...</td>\n",
              "      <td>...</td>\n",
              "      <td>...</td>\n",
              "    </tr>\n",
              "    <tr>\n",
              "      <th>1627</th>\n",
              "      <td>0.5041</td>\n",
              "      <td>0.1099</td>\n",
              "      <td>46.2522</td>\n",
              "      <td>0.0845</td>\n",
              "      <td>0.1460</td>\n",
              "      <td>0.7514</td>\n",
              "      <td>0.0</td>\n",
              "    </tr>\n",
              "    <tr>\n",
              "      <th>1628</th>\n",
              "      <td>0.4571</td>\n",
              "      <td>0.1253</td>\n",
              "      <td>41.3130</td>\n",
              "      <td>0.0995</td>\n",
              "      <td>0.1825</td>\n",
              "      <td>0.6850</td>\n",
              "      <td>0.0</td>\n",
              "    </tr>\n",
              "    <tr>\n",
              "      <th>1629</th>\n",
              "      <td>0.3610</td>\n",
              "      <td>0.1406</td>\n",
              "      <td>30.2030</td>\n",
              "      <td>0.1194</td>\n",
              "      <td>0.2063</td>\n",
              "      <td>0.6746</td>\n",
              "      <td>0.0</td>\n",
              "    </tr>\n",
              "    <tr>\n",
              "      <th>1630</th>\n",
              "      <td>0.5300</td>\n",
              "      <td>0.0692</td>\n",
              "      <td>64.1103</td>\n",
              "      <td>0.0470</td>\n",
              "      <td>0.0923</td>\n",
              "      <td>0.7494</td>\n",
              "      <td>0.0</td>\n",
              "    </tr>\n",
              "    <tr>\n",
              "      <th>1631</th>\n",
              "      <td>0.6539</td>\n",
              "      <td>0.0694</td>\n",
              "      <td>58.1879</td>\n",
              "      <td>0.0492</td>\n",
              "      <td>0.0915</td>\n",
              "      <td>0.7607</td>\n",
              "      <td>1.0</td>\n",
              "    </tr>\n",
              "  </tbody>\n",
              "</table>\n",
              "<p>1632 rows × 7 columns</p>\n",
              "</div>\n",
              "      <button class=\"colab-df-convert\" onclick=\"convertToInteractive('df-49be59d9-9e43-45e2-9e33-6e861fbcb216')\"\n",
              "              title=\"Convert this dataframe to an interactive table.\"\n",
              "              style=\"display:none;\">\n",
              "        \n",
              "  <svg xmlns=\"http://www.w3.org/2000/svg\" height=\"24px\"viewBox=\"0 0 24 24\"\n",
              "       width=\"24px\">\n",
              "    <path d=\"M0 0h24v24H0V0z\" fill=\"none\"/>\n",
              "    <path d=\"M18.56 5.44l.94 2.06.94-2.06 2.06-.94-2.06-.94-.94-2.06-.94 2.06-2.06.94zm-11 1L8.5 8.5l.94-2.06 2.06-.94-2.06-.94L8.5 2.5l-.94 2.06-2.06.94zm10 10l.94 2.06.94-2.06 2.06-.94-2.06-.94-.94-2.06-.94 2.06-2.06.94z\"/><path d=\"M17.41 7.96l-1.37-1.37c-.4-.4-.92-.59-1.43-.59-.52 0-1.04.2-1.43.59L10.3 9.45l-7.72 7.72c-.78.78-.78 2.05 0 2.83L4 21.41c.39.39.9.59 1.41.59.51 0 1.02-.2 1.41-.59l7.78-7.78 2.81-2.81c.8-.78.8-2.07 0-2.86zM5.41 20L4 18.59l7.72-7.72 1.47 1.35L5.41 20z\"/>\n",
              "  </svg>\n",
              "      </button>\n",
              "      \n",
              "  <style>\n",
              "    .colab-df-container {\n",
              "      display:flex;\n",
              "      flex-wrap:wrap;\n",
              "      gap: 12px;\n",
              "    }\n",
              "\n",
              "    .colab-df-convert {\n",
              "      background-color: #E8F0FE;\n",
              "      border: none;\n",
              "      border-radius: 50%;\n",
              "      cursor: pointer;\n",
              "      display: none;\n",
              "      fill: #1967D2;\n",
              "      height: 32px;\n",
              "      padding: 0 0 0 0;\n",
              "      width: 32px;\n",
              "    }\n",
              "\n",
              "    .colab-df-convert:hover {\n",
              "      background-color: #E2EBFA;\n",
              "      box-shadow: 0px 1px 2px rgba(60, 64, 67, 0.3), 0px 1px 3px 1px rgba(60, 64, 67, 0.15);\n",
              "      fill: #174EA6;\n",
              "    }\n",
              "\n",
              "    [theme=dark] .colab-df-convert {\n",
              "      background-color: #3B4455;\n",
              "      fill: #D2E3FC;\n",
              "    }\n",
              "\n",
              "    [theme=dark] .colab-df-convert:hover {\n",
              "      background-color: #434B5C;\n",
              "      box-shadow: 0px 1px 3px 1px rgba(0, 0, 0, 0.15);\n",
              "      filter: drop-shadow(0px 1px 2px rgba(0, 0, 0, 0.3));\n",
              "      fill: #FFFFFF;\n",
              "    }\n",
              "  </style>\n",
              "\n",
              "      <script>\n",
              "        const buttonEl =\n",
              "          document.querySelector('#df-49be59d9-9e43-45e2-9e33-6e861fbcb216 button.colab-df-convert');\n",
              "        buttonEl.style.display =\n",
              "          google.colab.kernel.accessAllowed ? 'block' : 'none';\n",
              "\n",
              "        async function convertToInteractive(key) {\n",
              "          const element = document.querySelector('#df-49be59d9-9e43-45e2-9e33-6e861fbcb216');\n",
              "          const dataTable =\n",
              "            await google.colab.kernel.invokeFunction('convertToInteractive',\n",
              "                                                     [key], {});\n",
              "          if (!dataTable) return;\n",
              "\n",
              "          const docLinkHtml = 'Like what you see? Visit the ' +\n",
              "            '<a target=\"_blank\" href=https://colab.research.google.com/notebooks/data_table.ipynb>data table notebook</a>'\n",
              "            + ' to learn more about interactive tables.';\n",
              "          element.innerHTML = '';\n",
              "          dataTable['output_type'] = 'display_data';\n",
              "          await google.colab.output.renderOutput(dataTable, element);\n",
              "          const docLink = document.createElement('div');\n",
              "          docLink.innerHTML = docLinkHtml;\n",
              "          element.appendChild(docLink);\n",
              "        }\n",
              "      </script>\n",
              "    </div>\n",
              "  </div>\n",
              "  "
            ]
          },
          "metadata": {},
          "execution_count": 8
        }
      ]
    },
    {
      "cell_type": "code",
      "source": [
        "raw_df = df"
      ],
      "metadata": {
        "id": "_HwOiAOcnWtH"
      },
      "execution_count": null,
      "outputs": []
    },
    {
      "cell_type": "code",
      "source": [
        "import pandas as pd\n",
        "import sklearn\n",
        "from sklearn.metrics import confusion_matrix\n",
        "from sklearn.model_selection import train_test_split\n",
        "from sklearn.preprocessing import StandardScaler\n",
        "\n",
        "# Reference: https://www.tensorflow.org/tutorials/structured_data/imbalanced_data\n",
        "\n",
        "#raw_df = pd.read_csv('https://storage.googleapis.com/download.tensorflow.org/data/creditcard.csv')\n",
        "neg, pos = np.bincount(raw_df['Class'])\n",
        "total = neg + pos\n",
        "print('Examples:\\n    Total: {}\\n    Positive: {} ({:.2f}% of total)\\n'.format(total, pos, 100 * pos / total))\n",
        "\n",
        "cleaned_df = raw_df.copy()\n",
        "\n",
        "# You don't want the `Time` column.\n",
        "#cleaned_df.pop('Time')\n",
        "\n",
        "# The `Amount` column covers a huge range. Convert to log-space.\n",
        "#eps = 0.001 # 0 => 0.1¢\n",
        "#cleaned_df['Log Ammount'] = np.log(cleaned_df.pop('Amount')+eps)\n",
        "\n",
        "# Use a utility from sklearn to split and shuffle your dataset.\n",
        "train_df, test_df = train_test_split(cleaned_df, test_size=0.2)\n",
        "train_df, val_df = train_test_split(train_df, test_size=0.2)\n",
        "\n",
        "# Form np arrays of labels and features.\n",
        "train_labels = np.array(train_df.pop('Class'))\n",
        "bool_train_labels = train_labels != 0\n",
        "val_labels = np.array(val_df.pop('Class'))\n",
        "test_labels = np.array(test_df.pop('Class'))\n",
        "\n",
        "train_features = np.array(train_df)\n",
        "val_features = np.array(val_df)\n",
        "test_features = np.array(test_df)\n",
        "\n",
        "# Normalize the input features using the sklearn StandardScaler. This will set the mean to 0 and standard deviation to 1.\n",
        "# Note: The StandardScaler is only fit using the train_features to be sure the model is not peeking at the validation or test sets.\n",
        "scaler = StandardScaler()\n",
        "train_features = scaler.fit_transform(train_features)\n",
        "\n",
        "val_features = scaler.transform(val_features)\n",
        "test_features = scaler.transform(test_features)\n",
        "\n",
        "train_features = np.clip(train_features, -5, 5)\n",
        "val_features = np.clip(val_features, -5, 5)\n",
        "test_features = np.clip(test_features, -5, 5)\n",
        "\n",
        "\n",
        "print('Training labels shape:', train_labels.shape)\n",
        "print('Validation labels shape:', val_labels.shape)\n",
        "print('Test labels shape:', test_labels.shape)\n",
        "\n",
        "print('Training features shape:', train_features.shape)\n",
        "print('Validation features shape:', val_features.shape)\n",
        "print('Test features shape:', test_features.shape)\n"
      ],
      "metadata": {
        "colab": {
          "base_uri": "https://localhost:8080/"
        },
        "id": "cDY6x54agBCW",
        "outputId": "1ee00617-7b4b-4ca1-d4ac-28440a9d10c7"
      },
      "execution_count": null,
      "outputs": [
        {
          "output_type": "stream",
          "name": "stdout",
          "text": [
            "Examples:\n",
            "    Total: 1632\n",
            "    Positive: 141 (8.64% of total)\n",
            "\n",
            "Training labels shape: (1044,)\n",
            "Validation labels shape: (261,)\n",
            "Test labels shape: (327,)\n",
            "Training features shape: (1044, 6)\n",
            "Validation features shape: (261, 6)\n",
            "Test features shape: (327, 6)\n"
          ]
        }
      ]
    },
    {
      "cell_type": "markdown",
      "source": [
        "# **Paramaters**"
      ],
      "metadata": {
        "id": "1l1cu_g4hxj4"
      }
    },
    {
      "cell_type": "code",
      "source": [
        "# random seed\n",
        "SEED = 123\n",
        "\n",
        "# you can tune these parameters \n",
        "BATCH_SIZE = 8\n",
        "lr = 0.3\n",
        "gamma = 500\n",
        "weight_decay = 1e-5\n",
        "margin = 1.0\n",
        "\n",
        "# compute imbalance ratio based training set \n",
        "imratio = train_labels.sum()/train_labels.shape[0]"
      ],
      "metadata": {
        "id": "BSGmLmVxjZCX"
      },
      "execution_count": null,
      "outputs": []
    },
    {
      "cell_type": "markdown",
      "source": [
        "# **Loading Dataset**"
      ],
      "metadata": {
        "id": "lGX8q9WIlgwI"
      }
    },
    {
      "cell_type": "code",
      "source": [
        "class CreditFraudDataset(Dataset):\n",
        "    def __init__(self, data, target):\n",
        "        self.data = data.astype(np.float32) # numpy array\n",
        "        self.targets = target.astype(np.float32) # numpy array\n",
        "\n",
        "    def __getitem__(self, index):\n",
        "        data = self.data[index]\n",
        "        target = self.targets[index]\n",
        "        return data, target\n",
        "\n",
        "    def __len__(self):\n",
        "        return self.data.shape[0]\n",
        "\n",
        "trainDataset = CreditFraudDataset(train_features, train_labels)\n",
        "valDataset = CreditFraudDataset(val_features, val_labels)\n",
        "testDataset = CreditFraudDataset(test_features, test_labels)\n",
        "\n",
        "trainloader = torch.utils.data.DataLoader(trainDataset, batch_size=BATCH_SIZE, shuffle=True, num_workers=1, pin_memory=True)\n",
        "valloader = torch.utils.data.DataLoader(valDataset, batch_size=BATCH_SIZE, shuffle=False, num_workers=1,  pin_memory=False)\n",
        "testloader = torch.utils.data.DataLoader(testDataset, batch_size=BATCH_SIZE, shuffle=False, num_workers=1,  pin_memory=False)"
      ],
      "metadata": {
        "id": "lA6Klcb6k3xA"
      },
      "execution_count": null,
      "outputs": []
    },
    {
      "cell_type": "markdown",
      "source": [
        "# **Defining a 2-layer perceptron (Neural Network)**"
      ],
      "metadata": {
        "id": "mq_iyqgMjVMB"
      }
    },
    {
      "cell_type": "code",
      "source": [
        "from torch import nn\n",
        "import torch.nn.functional as F\n",
        "\n",
        "# you can extend this model to multi-layer perceptron\n",
        "class MLP(torch.nn.Module):\n",
        "    def __init__(self, input_dim=6, nn_dim=200, num_classes=1):\n",
        "        super().__init__()\n",
        "        self.fc1 = torch.nn.Linear(input_dim, nn_dim) #  increase number of layers here\n",
        "        self.dropout = nn.Dropout(0.5)\n",
        "        self.fc2 = torch.nn.Linear(nn_dim, 400) #  increase number of layers here\n",
        "        self.dropout = nn.Dropout(0.5)\n",
        "        self.fc3 = torch.nn.Linear(400, 800) #  increase number of layers here\n",
        "        self.dropout = nn.Dropout(0.5)\n",
        "        self.fc4 = torch.nn.Linear(800, num_classes)\n",
        "    def forward(self, x):\n",
        "        x1 = self.dropout(F.relu(self.fc1(x)))\n",
        "        x2 = self.dropout(F.relu(self.fc2(x1)))\n",
        "        x3 = self.dropout(F.relu(self.fc3(x2)))        \n",
        "        return torch.sigmoid(self.fc4(x3))"
      ],
      "metadata": {
        "id": "SOQlQ6vGhu-z"
      },
      "execution_count": null,
      "outputs": []
    },
    {
      "cell_type": "markdown",
      "source": [
        "Native model"
      ],
      "metadata": {
        "id": "rG_xWgN1Gdof"
      }
    },
    {
      "cell_type": "code",
      "source": [
        "from torch import nn\n",
        "import torch.nn.functional as F\n",
        "\n",
        "# you can extend this model to multi-layer perceptron\n",
        "class MLP(torch.nn.Module):\n",
        "    def __init__(self, input_dim=6, nn_dim=30, num_classes=1):\n",
        "        super().__init__()\n",
        "        self.fc1 = torch.nn.Linear(input_dim, nn_dim) #  increase number of layers here\n",
        "        self.dropout = nn.Dropout(0.5)\n",
        "        self.fc2 = torch.nn.Linear(nn_dim, num_classes)\n",
        "    def forward(self, x):\n",
        "        x = self.dropout(F.relu(self.fc1(x)))\n",
        "        return torch.sigmoid(self.fc2(x))"
      ],
      "metadata": {
        "id": "-Z7-WzTRrl3L"
      },
      "execution_count": null,
      "outputs": []
    },
    {
      "cell_type": "markdown",
      "source": [
        "# **Creating models & AUC Optimizer**"
      ],
      "metadata": {
        "id": "VM8M8aGUj7dw"
      }
    },
    {
      "cell_type": "code",
      "source": [
        "set_all_seeds(SEED)\n",
        "model = MLP(input_dim=6, num_classes=1) # num_classs=1 since we output 1 or 0 here\n",
        "model = model.cuda()\n",
        "\n",
        "Loss = AUCMLoss(imratio=imratio)\n",
        "optimizer = PESG(model, \n",
        "                 a=Loss.a, \n",
        "                 b=Loss.b, \n",
        "                 alpha=Loss.alpha,  \n",
        "                 lr=lr, \n",
        "                 gamma=gamma, \n",
        "                 margin=margin, \n",
        "                 weight_decay=weight_decay)"
      ],
      "metadata": {
        "id": "mBwayo8Yj7E-"
      },
      "execution_count": null,
      "outputs": []
    },
    {
      "cell_type": "markdown",
      "source": [
        "# **Training**"
      ],
      "metadata": {
        "id": "75K73TmSk_xQ"
      }
    },
    {
      "cell_type": "code",
      "source": [
        "def evaluate(data, model):\n",
        "     model.eval()\n",
        "     pred = []\n",
        "     true = [] \n",
        "     for j, data in enumerate(data):\n",
        "         data, targets = data\n",
        "         data = data.cuda()\n",
        "         y_pred = model(data)\n",
        "         pred.append(y_pred.cpu().detach().numpy())\n",
        "         true.append(targets.numpy())\n",
        "     true = np.concatenate(true)\n",
        "     pred = np.concatenate(pred)\n",
        "     val_auc =  roc_auc_score(true, pred) \n",
        "     return val_auc"
      ],
      "metadata": {
        "id": "XBeqpIKet0EY"
      },
      "execution_count": null,
      "outputs": []
    },
    {
      "cell_type": "code",
      "source": [
        "print ('Start Training')\n",
        "print ('-'*30)\n",
        "for epoch in range(100):\n",
        "    \n",
        "     if epoch == 50 or epoch==75:\n",
        "         # decrease learning rate by 10x & update regularizer\n",
        "         optimizer.update_regularizer(decay_factor=10)\n",
        "   \n",
        "     train_pred = []\n",
        "     train_true = []\n",
        "     model.train()    \n",
        "     for data, targets in trainloader:\n",
        "         data, targets  = data.cuda(), targets.cuda()\n",
        "         y_pred = model(data)\n",
        "         loss = Loss(y_pred, targets)\n",
        "         optimizer.zero_grad()\n",
        "         loss.backward()\n",
        "         optimizer.step()\n",
        "         train_pred.append(y_pred.cpu().detach().numpy())\n",
        "         train_true.append(targets.cpu().detach().numpy())\n",
        "\n",
        "     train_true = np.concatenate(train_true)\n",
        "     train_pred = np.concatenate(train_pred)\n",
        "     train_auc = roc_auc_score(train_true, train_pred) \n",
        "\n",
        "     val_auc = evaluate(valloader, model)\n",
        "     test_auc = evaluate(testloader, model)\n",
        "\n",
        "     # print results\n",
        "     print(\"epoch: {}, train_loss: {:4f}, train_auc:{:4f}, val_auc:{:4f}, test_auc:{:4f},  lr:{:4f}\".format(epoch, loss.item(), train_auc, val_auc, test_auc, optimizer.lr ))"
      ],
      "metadata": {
        "colab": {
          "base_uri": "https://localhost:8080/"
        },
        "id": "PqNSMQZ-lAud",
        "outputId": "f40673e1-c413-4be9-da9e-80ad17287ef2"
      },
      "execution_count": null,
      "outputs": [
        {
          "output_type": "stream",
          "name": "stdout",
          "text": [
            "Start Training\n",
            "------------------------------\n",
            "epoch: 0, train_loss: 0.118889, train_auc:0.531857, val_auc:0.708532, test_auc:0.766296,  lr:0.300000\n",
            "epoch: 1, train_loss: -0.196434, train_auc:0.652771, val_auc:0.710317, test_auc:0.794198,  lr:0.300000\n",
            "epoch: 2, train_loss: 0.186117, train_auc:0.714946, val_auc:0.727381, test_auc:0.804938,  lr:0.300000\n",
            "epoch: 3, train_loss: -0.109649, train_auc:0.728910, val_auc:0.721825, test_auc:0.809136,  lr:0.300000\n",
            "epoch: 4, train_loss: 0.137630, train_auc:0.754000, val_auc:0.749603, test_auc:0.816543,  lr:0.300000\n",
            "epoch: 5, train_loss: 0.097621, train_auc:0.751569, val_auc:0.751786, test_auc:0.818642,  lr:0.300000\n",
            "epoch: 6, train_loss: -0.171065, train_auc:0.746775, val_auc:0.733333, test_auc:0.816049,  lr:0.300000\n",
            "epoch: 7, train_loss: 0.119658, train_auc:0.751614, val_auc:0.774206, test_auc:0.815926,  lr:0.300000\n",
            "epoch: 8, train_loss: -0.114783, train_auc:0.733161, val_auc:0.755754, test_auc:0.823457,  lr:0.300000\n",
            "epoch: 9, train_loss: 0.158319, train_auc:0.751139, val_auc:0.776587, test_auc:0.819753,  lr:0.300000\n",
            "epoch: 10, train_loss: 0.105083, train_auc:0.770892, val_auc:0.771825, test_auc:0.822963,  lr:0.300000\n",
            "epoch: 11, train_loss: 0.149046, train_auc:0.760151, val_auc:0.777579, test_auc:0.815679,  lr:0.300000\n",
            "epoch: 12, train_loss: -0.149658, train_auc:0.760026, val_auc:0.766468, test_auc:0.823333,  lr:0.300000\n",
            "epoch: 13, train_loss: 0.115053, train_auc:0.778988, val_auc:0.781151, test_auc:0.813457,  lr:0.300000\n",
            "epoch: 14, train_loss: 0.126813, train_auc:0.770621, val_auc:0.775000, test_auc:0.821852,  lr:0.300000\n",
            "epoch: 15, train_loss: 0.117844, train_auc:0.768178, val_auc:0.772817, test_auc:0.822469,  lr:0.300000\n",
            "epoch: 16, train_loss: -0.410765, train_auc:0.755323, val_auc:0.760913, test_auc:0.824321,  lr:0.300000\n",
            "epoch: 17, train_loss: 0.126843, train_auc:0.780768, val_auc:0.777579, test_auc:0.819012,  lr:0.300000\n",
            "epoch: 18, train_loss: 0.121547, train_auc:0.773052, val_auc:0.770833, test_auc:0.819259,  lr:0.300000\n",
            "epoch: 19, train_loss: -0.148087, train_auc:0.758217, val_auc:0.774802, test_auc:0.820864,  lr:0.300000\n",
            "epoch: 20, train_loss: 0.107689, train_auc:0.763350, val_auc:0.780556, test_auc:0.816543,  lr:0.300000\n",
            "epoch: 21, train_loss: 0.128844, train_auc:0.786710, val_auc:0.783333, test_auc:0.816420,  lr:0.300000\n",
            "epoch: 22, train_loss: 0.136115, train_auc:0.758669, val_auc:0.774206, test_auc:0.824691,  lr:0.300000\n",
            "epoch: 23, train_loss: 0.122948, train_auc:0.764583, val_auc:0.780556, test_auc:0.819877,  lr:0.300000\n",
            "epoch: 24, train_loss: -0.098843, train_auc:0.767794, val_auc:0.783532, test_auc:0.819136,  lr:0.300000\n",
            "epoch: 25, train_loss: -0.415112, train_auc:0.753932, val_auc:0.768452, test_auc:0.824568,  lr:0.300000\n",
            "epoch: 26, train_loss: 0.099561, train_auc:0.764357, val_auc:0.773214, test_auc:0.824938,  lr:0.300000\n",
            "epoch: 27, train_loss: 0.117945, train_auc:0.777947, val_auc:0.783929, test_auc:0.814198,  lr:0.300000\n",
            "epoch: 28, train_loss: -0.428894, train_auc:0.759438, val_auc:0.768849, test_auc:0.824444,  lr:0.300000\n",
            "epoch: 29, train_loss: 0.138405, train_auc:0.790079, val_auc:0.778968, test_auc:0.818642,  lr:0.300000\n",
            "epoch: 30, train_loss: -0.118731, train_auc:0.768031, val_auc:0.771032, test_auc:0.822469,  lr:0.300000\n",
            "epoch: 31, train_loss: 0.091562, train_auc:0.774080, val_auc:0.771825, test_auc:0.823704,  lr:0.300000\n",
            "epoch: 32, train_loss: 0.109900, train_auc:0.766957, val_auc:0.772024, test_auc:0.822963,  lr:0.300000\n",
            "epoch: 33, train_loss: 0.093889, train_auc:0.759370, val_auc:0.780159, test_auc:0.821852,  lr:0.300000\n",
            "epoch: 34, train_loss: -0.434050, train_auc:0.767964, val_auc:0.772421, test_auc:0.825679,  lr:0.300000\n",
            "epoch: 35, train_loss: 0.105268, train_auc:0.765046, val_auc:0.784127, test_auc:0.816543,  lr:0.300000\n",
            "epoch: 36, train_loss: 0.097052, train_auc:0.788949, val_auc:0.787302, test_auc:0.816667,  lr:0.300000\n",
            "epoch: 37, train_loss: 0.145840, train_auc:0.767285, val_auc:0.786508, test_auc:0.816296,  lr:0.300000\n",
            "epoch: 38, train_loss: -0.333899, train_auc:0.772656, val_auc:0.760714, test_auc:0.826790,  lr:0.300000\n",
            "epoch: 39, train_loss: -0.133346, train_auc:0.764741, val_auc:0.784325, test_auc:0.820494,  lr:0.300000\n",
            "epoch: 40, train_loss: 0.122046, train_auc:0.771028, val_auc:0.776984, test_auc:0.822099,  lr:0.300000\n",
            "epoch: 41, train_loss: -0.147370, train_auc:0.789401, val_auc:0.782937, test_auc:0.820988,  lr:0.300000\n",
            "epoch: 42, train_loss: -0.176811, train_auc:0.786224, val_auc:0.787103, test_auc:0.820741,  lr:0.300000\n",
            "epoch: 43, train_loss: -0.164239, train_auc:0.765001, val_auc:0.775595, test_auc:0.824074,  lr:0.300000\n",
            "epoch: 44, train_loss: -0.093422, train_auc:0.763780, val_auc:0.784325, test_auc:0.819877,  lr:0.300000\n",
            "epoch: 45, train_loss: 0.143789, train_auc:0.777959, val_auc:0.777579, test_auc:0.822099,  lr:0.300000\n",
            "epoch: 46, train_loss: 0.165925, train_auc:0.774589, val_auc:0.783730, test_auc:0.818519,  lr:0.300000\n",
            "epoch: 47, train_loss: -0.104199, train_auc:0.778456, val_auc:0.771230, test_auc:0.823210,  lr:0.300000\n",
            "epoch: 48, train_loss: 0.145578, train_auc:0.766132, val_auc:0.784524, test_auc:0.816173,  lr:0.300000\n",
            "epoch: 49, train_loss: -0.425668, train_auc:0.779960, val_auc:0.775000, test_auc:0.819877,  lr:0.300000\n",
            "Reducing learning rate to 0.03000 @ T=3300!\n",
            "Updating regularizer @ T=3300!\n",
            "epoch: 50, train_loss: 0.114000, train_auc:0.784641, val_auc:0.776984, test_auc:0.820988,  lr:0.030000\n",
            "epoch: 51, train_loss: -0.169413, train_auc:0.779553, val_auc:0.777976, test_auc:0.820123,  lr:0.030000\n",
            "epoch: 52, train_loss: 0.117572, train_auc:0.788836, val_auc:0.779563, test_auc:0.819259,  lr:0.030000\n",
            "epoch: 53, train_loss: 0.148572, train_auc:0.779858, val_auc:0.781151, test_auc:0.819877,  lr:0.030000\n",
            "epoch: 54, train_loss: -0.177283, train_auc:0.773029, val_auc:0.782738, test_auc:0.819012,  lr:0.030000\n",
            "epoch: 55, train_loss: 0.094675, train_auc:0.791391, val_auc:0.784921, test_auc:0.818765,  lr:0.030000\n",
            "epoch: 56, train_loss: 0.094582, train_auc:0.805965, val_auc:0.784524, test_auc:0.818272,  lr:0.030000\n",
            "epoch: 57, train_loss: -0.081685, train_auc:0.774284, val_auc:0.782937, test_auc:0.819630,  lr:0.030000\n",
            "epoch: 58, train_loss: 0.125783, train_auc:0.788779, val_auc:0.784127, test_auc:0.818519,  lr:0.030000\n",
            "epoch: 59, train_loss: 0.156659, train_auc:0.784460, val_auc:0.783730, test_auc:0.818395,  lr:0.030000\n",
            "epoch: 60, train_loss: 0.166570, train_auc:0.778422, val_auc:0.784127, test_auc:0.818272,  lr:0.030000\n",
            "epoch: 61, train_loss: 0.100337, train_auc:0.792544, val_auc:0.784722, test_auc:0.817407,  lr:0.030000\n",
            "epoch: 62, train_loss: 0.131150, train_auc:0.778094, val_auc:0.785317, test_auc:0.817901,  lr:0.030000\n",
            "epoch: 63, train_loss: -0.158423, train_auc:0.793924, val_auc:0.784722, test_auc:0.817778,  lr:0.030000\n",
            "epoch: 64, train_loss: -0.131270, train_auc:0.788033, val_auc:0.785516, test_auc:0.818025,  lr:0.030000\n",
            "epoch: 65, train_loss: -0.172594, train_auc:0.793132, val_auc:0.785516, test_auc:0.817037,  lr:0.030000\n",
            "epoch: 66, train_loss: -0.100698, train_auc:0.787106, val_auc:0.787103, test_auc:0.817531,  lr:0.030000\n",
            "epoch: 67, train_loss: 0.131810, train_auc:0.793698, val_auc:0.787302, test_auc:0.817654,  lr:0.030000\n",
            "epoch: 68, train_loss: 0.114624, train_auc:0.793494, val_auc:0.788690, test_auc:0.816914,  lr:0.030000\n",
            "epoch: 69, train_loss: 0.136535, train_auc:0.796807, val_auc:0.789087, test_auc:0.817407,  lr:0.030000\n",
            "epoch: 70, train_loss: 0.115298, train_auc:0.785489, val_auc:0.788690, test_auc:0.818272,  lr:0.030000\n",
            "epoch: 71, train_loss: -0.052748, train_auc:0.772678, val_auc:0.788492, test_auc:0.817654,  lr:0.030000\n",
            "epoch: 72, train_loss: 0.136514, train_auc:0.778479, val_auc:0.788889, test_auc:0.817901,  lr:0.030000\n",
            "epoch: 73, train_loss: 0.088124, train_auc:0.786054, val_auc:0.788690, test_auc:0.816914,  lr:0.030000\n",
            "epoch: 74, train_loss: 0.120421, train_auc:0.779576, val_auc:0.788095, test_auc:0.818272,  lr:0.030000\n",
            "Reducing learning rate to 0.00300 @ T=1650!\n",
            "Updating regularizer @ T=1650!\n",
            "epoch: 75, train_loss: 0.104461, train_auc:0.802800, val_auc:0.788095, test_auc:0.818395,  lr:0.003000\n",
            "epoch: 76, train_loss: 0.118676, train_auc:0.800651, val_auc:0.788492, test_auc:0.818148,  lr:0.003000\n",
            "epoch: 77, train_loss: 0.146081, train_auc:0.771898, val_auc:0.788492, test_auc:0.818272,  lr:0.003000\n",
            "epoch: 78, train_loss: 0.109649, train_auc:0.786393, val_auc:0.788492, test_auc:0.817901,  lr:0.003000\n",
            "epoch: 79, train_loss: -0.107391, train_auc:0.784234, val_auc:0.788492, test_auc:0.817901,  lr:0.003000\n",
            "epoch: 80, train_loss: 0.086476, train_auc:0.791889, val_auc:0.788492, test_auc:0.818025,  lr:0.003000\n",
            "epoch: 81, train_loss: -0.163708, train_auc:0.795812, val_auc:0.788492, test_auc:0.817407,  lr:0.003000\n",
            "epoch: 82, train_loss: -0.073024, train_auc:0.793822, val_auc:0.788294, test_auc:0.817284,  lr:0.003000\n",
            "epoch: 83, train_loss: 0.101789, train_auc:0.796977, val_auc:0.788095, test_auc:0.817160,  lr:0.003000\n",
            "epoch: 84, train_loss: 0.121020, train_auc:0.783725, val_auc:0.787897, test_auc:0.817037,  lr:0.003000\n",
            "epoch: 85, train_loss: 0.125626, train_auc:0.784324, val_auc:0.788294, test_auc:0.817160,  lr:0.003000\n",
            "epoch: 86, train_loss: 0.117959, train_auc:0.787886, val_auc:0.788095, test_auc:0.817160,  lr:0.003000\n",
            "epoch: 87, train_loss: 0.154463, train_auc:0.777292, val_auc:0.788095, test_auc:0.817160,  lr:0.003000\n",
            "epoch: 88, train_loss: -0.099876, train_auc:0.781283, val_auc:0.788690, test_auc:0.817531,  lr:0.003000\n",
            "epoch: 89, train_loss: 0.107444, train_auc:0.777891, val_auc:0.788492, test_auc:0.817407,  lr:0.003000\n",
            "epoch: 90, train_loss: 0.106752, train_auc:0.799690, val_auc:0.788690, test_auc:0.817160,  lr:0.003000\n",
            "epoch: 91, train_loss: 0.122678, train_auc:0.784528, val_auc:0.788690, test_auc:0.817160,  lr:0.003000\n",
            "epoch: 92, train_loss: 0.105903, train_auc:0.802460, val_auc:0.788690, test_auc:0.817160,  lr:0.003000\n",
            "epoch: 93, train_loss: -0.404794, train_auc:0.793268, val_auc:0.788690, test_auc:0.817160,  lr:0.003000\n",
            "epoch: 94, train_loss: -0.117436, train_auc:0.781125, val_auc:0.788492, test_auc:0.817160,  lr:0.003000\n",
            "epoch: 95, train_loss: 0.134487, train_auc:0.790724, val_auc:0.788294, test_auc:0.816790,  lr:0.003000\n",
            "epoch: 96, train_loss: 0.100404, train_auc:0.795134, val_auc:0.788294, test_auc:0.816914,  lr:0.003000\n",
            "epoch: 97, train_loss: -0.077803, train_auc:0.781260, val_auc:0.788492, test_auc:0.817037,  lr:0.003000\n",
            "epoch: 98, train_loss: -0.041530, train_auc:0.795077, val_auc:0.788889, test_auc:0.816790,  lr:0.003000\n",
            "epoch: 99, train_loss: -0.149798, train_auc:0.806033, val_auc:0.788889, test_auc:0.816667,  lr:0.003000\n"
          ]
        }
      ]
    },
    {
      "cell_type": "markdown",
      "source": [
        "# Prediction"
      ],
      "metadata": {
        "id": "N3wixDzV1Ysu"
      }
    },
    {
      "cell_type": "code",
      "source": [
        "X = df.drop('Class', axis=1)\n",
        "X_norm = scaler.transform(X)\n",
        "X_tensor = torch.from_numpy(X_norm)\n",
        "X_tensor = X_tensor.cuda()\n",
        "y = df['Class']"
      ],
      "metadata": {
        "id": "DRGhbwlE05UW",
        "colab": {
          "base_uri": "https://localhost:8080/"
        },
        "outputId": "b7339f0d-b6c0-4168-dbcd-b5d37dc83df3"
      },
      "execution_count": null,
      "outputs": [
        {
          "output_type": "stream",
          "name": "stderr",
          "text": [
            "/usr/local/lib/python3.7/dist-packages/sklearn/base.py:444: UserWarning: X has feature names, but StandardScaler was fitted without feature names\n",
            "  f\"X has feature names, but {self.__class__.__name__} was fitted without\"\n"
          ]
        }
      ]
    },
    {
      "cell_type": "code",
      "source": [
        "outputs = model(X_tensor.float())"
      ],
      "metadata": {
        "id": "3Lzf0RYB0uzO"
      },
      "execution_count": null,
      "outputs": []
    },
    {
      "cell_type": "code",
      "source": [
        "proba = outputs.cpu()[:,:].detach().numpy()"
      ],
      "metadata": {
        "id": "fDRQFUJu2Iwe"
      },
      "execution_count": null,
      "outputs": []
    },
    {
      "cell_type": "code",
      "source": [
        "proba"
      ],
      "metadata": {
        "colab": {
          "base_uri": "https://localhost:8080/"
        },
        "id": "o27Szlq82Ts-",
        "outputId": "deafacf3-8f0d-4f4e-9e52-35837f6d577f"
      },
      "execution_count": null,
      "outputs": [
        {
          "output_type": "execute_result",
          "data": {
            "text/plain": [
              "array([[0.27642795],\n",
              "       [0.40632913],\n",
              "       [0.23053814],\n",
              "       ...,\n",
              "       [0.08316026],\n",
              "       [0.43135983],\n",
              "       [0.71560276]], dtype=float32)"
            ]
          },
          "metadata": {},
          "execution_count": 109
        }
      ]
    },
    {
      "cell_type": "code",
      "source": [
        "predictions = np.where(proba>0.5,0,1)"
      ],
      "metadata": {
        "id": "-KpX1OB42Wwy"
      },
      "execution_count": null,
      "outputs": []
    },
    {
      "cell_type": "code",
      "source": [
        "predictions"
      ],
      "metadata": {
        "colab": {
          "base_uri": "https://localhost:8080/"
        },
        "id": "SDeO3Rta2aBF",
        "outputId": "eac7797a-5ce9-4b30-969c-79af1cece13a"
      },
      "execution_count": null,
      "outputs": [
        {
          "output_type": "execute_result",
          "data": {
            "text/plain": [
              "array([[1],\n",
              "       [1],\n",
              "       [1],\n",
              "       ...,\n",
              "       [1],\n",
              "       [1],\n",
              "       [0]])"
            ]
          },
          "metadata": {},
          "execution_count": 111
        }
      ]
    },
    {
      "cell_type": "code",
      "source": [
        "import matplotlib.pyplot as plt"
      ],
      "metadata": {
        "id": "Cl8JexUVOgVB"
      },
      "execution_count": null,
      "outputs": []
    },
    {
      "cell_type": "code",
      "source": [
        "yhat = proba"
      ],
      "metadata": {
        "id": "swiDGljHSztf"
      },
      "execution_count": null,
      "outputs": []
    },
    {
      "cell_type": "code",
      "source": [
        "from numpy import argmax\n",
        "from numpy import sqrt\n",
        "\n",
        "#yhat = model_rdf.predict_proba(X)\n",
        "# keep probabilities for the positive outcome only\n",
        "#yhat = yhat[:, 1]\n",
        "\n",
        "# calculate roc curves\n",
        "fpr, tpr, thresholds = roc_curve(y, yhat)\n",
        "# calculate the g-mean for each threshold\n",
        "gmeans = sqrt(tpr * (1-fpr))\n",
        "# locate the index of the largest g-mean\n",
        "ix = argmax(gmeans)\n",
        "print('Best Threshold=%f, G-Mean=%.3f' % (thresholds[ix], gmeans[ix]))\n",
        "# plot the roc curve for the model\n",
        "plt.plot([0,1], [0,1], linestyle='--', label='No Skill')\n",
        "plt.plot(fpr, tpr, marker='.', label='RandomForestClassifier')\n",
        "plt.scatter(fpr[ix], tpr[ix], marker='o', color='black', label='Best')\n",
        "# axis labels\n",
        "plt.xlabel('False Positive Rate')\n",
        "plt.ylabel('True Positive Rate')\n",
        "plt.legend()\n",
        "# show the plot\n",
        "plt.show()"
      ],
      "metadata": {
        "colab": {
          "base_uri": "https://localhost:8080/",
          "height": 296
        },
        "id": "e68Oh-5LOQNL",
        "outputId": "33490e98-052a-49b4-d0e7-acb323a9a42b"
      },
      "execution_count": null,
      "outputs": [
        {
          "output_type": "stream",
          "name": "stdout",
          "text": [
            "Best Threshold=0.572860, G-Mean=0.747\n"
          ]
        },
        {
          "output_type": "display_data",
          "data": {
            "text/plain": [
              "<Figure size 432x288 with 1 Axes>"
            ],
            "image/png": "[encoded data removed]"
          },
          "metadata": {
            "needs_background": "light"
          }
        }
      ]
    },
    {
      "cell_type": "code",
      "source": [
        "dump(model, \"LibAUC.joblib\")"
      ],
      "metadata": {
        "colab": {
          "base_uri": "https://localhost:8080/"
        },
        "id": "coJSArXrE36m",
        "outputId": "50aa6136-4025-433b-d45d-08f9e7b679bf"
      },
      "execution_count": null,
      "outputs": [
        {
          "output_type": "execute_result",
          "data": {
            "text/plain": [
              "['LibAUC.joblib']"
            ]
          },
          "metadata": {},
          "execution_count": 118
        }
      ]
    },
    {
      "cell_type": "code",
      "source": [
        "conf_matrix = tf.math.confusion_matrix(labels=y, predictions=predictions)\n",
        " \n",
        "ax_sgd_01 = sns.heatmap(conf_matrix, annot = True, fmt='d')\n",
        "ax_sgd_01.set_title('Matrice de confusion s = 0.50 ')\n",
        "ax_sgd_01.set_ylabel('Réel')\n",
        "ax_sgd_01.set_xlabel('Prédiction')\n",
        "plt.show()"
      ],
      "metadata": {
        "colab": {
          "base_uri": "https://localhost:8080/",
          "height": 295
        },
        "id": "GS0dGjrFLXGg",
        "outputId": "1708f99b-d7e1-43d2-dd98-7bf32c063856"
      },
      "execution_count": null,
      "outputs": [
        {
          "output_type": "display_data",
          "data": {
            "text/plain": [
              "<Figure size 432x288 with 2 Axes>"
            ],
            "image/png": "[encoded data removed]"
          },
          "metadata": {
            "needs_background": "light"
          }
        }
      ]
    },
    {
      "cell_type": "code",
      "source": [
        "df['ClassPredict'] = predictions"
      ],
      "metadata": {
        "id": "dM3tFkw9R6TE"
      },
      "execution_count": null,
      "outputs": []
    },
    {
      "cell_type": "code",
      "source": [
        "df['ClassPredict'].to_csv('prediction.csv', index = False)"
      ],
      "metadata": {
        "id": "lQ24dplbysCw"
      },
      "execution_count": null,
      "outputs": []
    }
  ]
}