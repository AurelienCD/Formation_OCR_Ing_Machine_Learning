{
  "nbformat": 4,
  "nbformat_minor": 0,
  "metadata": {
    "colab": {
      "name": "P5_01_notebookExploration.ipynb",
      "provenance": [],
      "collapsed_sections": [],
      "authorship_tag": "ABX9TyPWsTztT816Ft8Y3youDqJs",
      "include_colab_link": true
    },
    "kernelspec": {
      "name": "python3",
      "display_name": "Python 3"
    },
    "language_info": {
      "name": "python"
    }
  },
  "cells": [
    {
      "cell_type": "markdown",
      "metadata": {
        "id": "view-in-github",
        "colab_type": "text"
      },
      "source": [
        "<a href=\"https://colab.research.google.com/github/AurelienCD/Formation_OCR_Ing_Machine_Learning/blob/main/P5_01_notebookExploration.ipynb\" target=\"_parent\"><img src=\"https://colab.research.google.com/assets/colab-badge.svg\" alt=\"Open In Colab\"/></a>"
      ]
    },
    {
      "cell_type": "markdown",
      "source": [
        "Connexion au google drive, déplacement dans le dossier contenant les données nécessaires au projet"
      ],
      "metadata": {
        "id": "qJ1LudLSaN7y"
      }
    },
    {
      "cell_type": "code",
      "execution_count": null,
      "metadata": {
        "id": "J1yZsOaDZMVN",
        "colab": {
          "base_uri": "https://localhost:8080/"
        },
        "outputId": "faccacfc-95c7-4f89-d2fe-cbfefa530a02"
      },
      "outputs": [
        {
          "output_type": "stream",
          "name": "stdout",
          "text": [
            "Drive already mounted at /content/drive; to attempt to forcibly remount, call drive.mount(\"/content/drive\", force_remount=True).\n"
          ]
        }
      ],
      "source": [
        "from google.colab import drive\n",
        "drive.mount(\"/content/drive\")"
      ]
    },
    {
      "cell_type": "code",
      "source": [
        "%cd drive/MyDrive/Formation_OCR_Ing_Machine_Learning/Projet 5"
      ],
      "metadata": {
        "colab": {
          "base_uri": "https://localhost:8080/"
        },
        "id": "TMHjjJ81aImE",
        "outputId": "1124b769-a840-4030-fb61-e720efa37375"
      },
      "execution_count": null,
      "outputs": [
        {
          "output_type": "stream",
          "name": "stdout",
          "text": [
            "[Errno 2] No such file or directory: 'drive/MyDrive/Formation_OCR_Ing_Machine_Learning/Projet 5'\n",
            "/content/drive/MyDrive/Formation_OCR_Ing_Machine_Learning/Projet 5\n"
          ]
        }
      ]
    },
    {
      "cell_type": "markdown",
      "source": [
        "Importation des librairies nécessaires au projet"
      ],
      "metadata": {
        "id": "scL1IlIIawNw"
      }
    },
    {
      "cell_type": "code",
      "source": [
        "import pandas as pad \n",
        "import numpy as np\n",
        "from numpy.core.numeric import NaN\n",
        "\n",
        "import matplotlib.pyplot as plt\n",
        "import seaborn as sns\n",
        "\n",
        "import statistics\n",
        "from scipy import stats\n",
        "from scipy.stats import pearsonr\n",
        "from scipy.stats import ttest_ind\n",
        "from sklearn.preprocessing import StandardScaler\n",
        "from sklearn.decomposition import PCA\n",
        "\n",
        "import statsmodels.api as sm\n",
        "from statsmodels.formula.api import ols\n",
        "import statsmodels.stats.multicomp as multi \n",
        "\n",
        "import nltk\n",
        "from nltk.corpus import stopwords\n",
        "from nltk.tokenize import word_tokenize\n",
        "from nltk.stem import PorterStemmer"
      ],
      "metadata": {
        "id": "u4WZGclQamDR"
      },
      "execution_count": 179,
      "outputs": []
    },
    {
      "cell_type": "code",
      "source": [
        "nltk.download('punkt')\n",
        "nltk.download('stopwords')"
      ],
      "metadata": {
        "colab": {
          "base_uri": "https://localhost:8080/"
        },
        "id": "pCreNas1xBiE",
        "outputId": "59eba059-5ef5-4e88-d084-eabe2fb4f7a2"
      },
      "execution_count": null,
      "outputs": [
        {
          "output_type": "stream",
          "name": "stdout",
          "text": [
            "[nltk_data] Downloading package punkt to /root/nltk_data...\n",
            "[nltk_data]   Package punkt is already up-to-date!\n",
            "[nltk_data] Downloading package stopwords to /root/nltk_data...\n",
            "[nltk_data]   Package stopwords is already up-to-date!\n"
          ]
        },
        {
          "output_type": "execute_result",
          "data": {
            "text/plain": [
              "True"
            ]
          },
          "metadata": {},
          "execution_count": 132
        }
      ]
    },
    {
      "cell_type": "markdown",
      "source": [
        "Importation des données avec requète SQL sur le serveur de StackOverflow"
      ],
      "metadata": {
        "id": "8M-pdM2hYYmz"
      }
    },
    {
      "cell_type": "code",
      "source": [
        "#SELECT * FROM posts \n",
        "#WHERE (id < 50000 AND (Tags IS NOT NULL))"
      ],
      "metadata": {
        "id": "o39-IJtbtioz"
      },
      "execution_count": null,
      "outputs": []
    },
    {
      "cell_type": "code",
      "source": [
        "df_posts = pad.read_csv('QueryResults.csv')"
      ],
      "metadata": {
        "id": "0qx2shAZabXR"
      },
      "execution_count": null,
      "outputs": []
    },
    {
      "cell_type": "code",
      "source": [
        "df_posts.head(10)"
      ],
      "metadata": {
        "colab": {
          "base_uri": "https://localhost:8080/",
          "height": 1000
        },
        "id": "UL3QKblSt_s0",
        "outputId": "fdc1a0d9-1965-4b0a-94d2-6f22992ab0dd"
      },
      "execution_count": null,
      "outputs": [
        {
          "output_type": "execute_result",
          "data": {
            "text/plain": [
              "   Id  PostTypeId  AcceptedAnswerId  ParentId         CreationDate  \\\n",
              "0   4           1               7.0       NaN  2008-07-31 21:42:52   \n",
              "1   6           1              31.0       NaN  2008-07-31 22:08:08   \n",
              "2   9           1            1404.0       NaN  2008-07-31 23:40:59   \n",
              "3  11           1            1248.0       NaN  2008-07-31 23:55:37   \n",
              "4  13           1               NaN       NaN  2008-08-01 00:42:38   \n",
              "5  14           1               NaN       NaN  2008-08-01 00:59:11   \n",
              "6  16           1           12446.0       NaN  2008-08-01 04:59:33   \n",
              "7  17           1              26.0       NaN  2008-08-01 05:09:55   \n",
              "8  19           1             531.0       NaN  2008-08-01 05:21:22   \n",
              "9  24           1              49.0       NaN  2008-08-01 12:12:19   \n",
              "\n",
              "   DeletionDate  Score  ViewCount  \\\n",
              "0           NaN    756      63611   \n",
              "1           NaN    313      22490   \n",
              "2           NaN   2100     727355   \n",
              "3           NaN   1610     188194   \n",
              "4           NaN    672     246671   \n",
              "5           NaN    471     161542   \n",
              "6           NaN    149      86506   \n",
              "7           NaN    194      83437   \n",
              "8           NaN    340      63486   \n",
              "9           NaN    189      95256   \n",
              "\n",
              "                                                Body  OwnerUserId  ...  \\\n",
              "0  <p>I want to use a <code>Track-Bar</code> to c...          8.0  ...   \n",
              "1  <p>I have an absolutely positioned <code>div</...          9.0  ...   \n",
              "2  <p>Given a <code>DateTime</code> representing ...          1.0  ...   \n",
              "3  <p>Given a specific <code>DateTime</code> valu...          1.0  ...   \n",
              "4  <p>Is there a standard way for a web server to...          9.0  ...   \n",
              "5  <p>What is the difference between <a href=\"htt...         11.0  ...   \n",
              "6  <p>How do you expose a LINQ query as an ASMX w...          2.0  ...   \n",
              "7  <p>How do I store binary data in <a href=\"http...          2.0  ...   \n",
              "8  <p>I'm looking for the fastest way to obtain t...         13.0  ...   \n",
              "9  <p>If I have a trigger before the update on a ...         22.0  ...   \n",
              "\n",
              "          LastEditDate     LastActivityDate  \\\n",
              "0  2021-02-26 03:31:15  2021-11-15 21:15:29   \n",
              "1  2021-01-29 18:46:45  2021-01-29 18:46:45   \n",
              "2  2021-01-05 17:33:32  2022-02-19 14:25:44   \n",
              "3  2017-06-04 15:51:19  2022-03-11 20:03:19   \n",
              "4  2020-12-03 03:37:56  2021-12-27 13:34:18   \n",
              "5  2017-02-25 17:42:17  2021-04-22 05:49:24   \n",
              "6  2021-01-07 14:09:26  2021-01-07 14:09:26   \n",
              "7  2020-12-03 03:37:51  2020-12-03 03:37:51   \n",
              "8  2019-05-15 01:33:48  2021-11-24 18:36:40   \n",
              "9  2021-01-29 12:57:17  2021-01-29 12:57:17   \n",
              "\n",
              "                                               Title  \\\n",
              "0        How to convert a Decimal to a Double in C#?   \n",
              "1  Why did the width collapse in the percentage w...   \n",
              "2  How do I calculate someone's age based on a Da...   \n",
              "3                      Calculate relative time in C#   \n",
              "4                        Determine a user's timezone   \n",
              "5  Difference between Math.Floor() and Math.Trunc...   \n",
              "6  Filling a DataSet or a DataTable from a LINQ q...   \n",
              "7                               Binary Data in MySQL   \n",
              "8     What is the fastest way to get the value of π?   \n",
              "9  Throw an error preventing a table update in a ...   \n",
              "\n",
              "                                                Tags AnswerCount CommentCount  \\\n",
              "0  <c#><floating-point><type-conversion><double><...          12            4   \n",
              "1                   <html><css><internet-explorer-7>           7            0   \n",
              "2                               <c#><.net><datetime>          70           10   \n",
              "3  <c#><datetime><time><datediff><relative-time-s...          41            3   \n",
              "4  <html><browser><timezone><user-agent><timezone...          27           10   \n",
              "5                                       <.net><math>          13            1   \n",
              "6                 <c#><linq><web-services><.net-3.5>           7            0   \n",
              "7       <mysql><database><binary-data><data-storage>           9            3   \n",
              "8  <performance><algorithm><language-agnostic><un...          23           17   \n",
              "9                        <mysql><database><triggers>           7            0   \n",
              "\n",
              "  FavoriteCount           ClosedDate   CommunityOwnedDate  ContentLicense  \n",
              "0          59.0                  NaN  2012-10-31 16:42:47    CC BY-SA 4.0  \n",
              "1          13.0                  NaN                  NaN    CC BY-SA 4.0  \n",
              "2         484.0                  NaN  2011-08-16 19:40:43    CC BY-SA 4.0  \n",
              "3         552.0                  NaN  2009-09-04 13:15:59    CC BY-SA 3.0  \n",
              "4         157.0                  NaN                  NaN    CC BY-SA 4.0  \n",
              "5          66.0                  NaN                  NaN    CC BY-SA 3.0  \n",
              "6          15.0                  NaN                  NaN    CC BY-SA 4.0  \n",
              "7          23.0  2018-11-29 15:36:04                  NaN    CC BY-SA 3.0  \n",
              "8          85.0                  NaN                  NaN    CC BY-SA 4.0  \n",
              "9          27.0                  NaN                  NaN    CC BY-SA 4.0  \n",
              "\n",
              "[10 rows x 23 columns]"
            ],
            "text/html": [
              "\n",
              "  <div id=\"df-d8232ca5-40b3-4d42-b8d0-7a8f0090c793\">\n",
              "    <div class=\"colab-df-container\">\n",
              "      <div>\n",
              "<style scoped>\n",
              "    .dataframe tbody tr th:only-of-type {\n",
              "        vertical-align: middle;\n",
              "    }\n",
              "\n",
              "    .dataframe tbody tr th {\n",
              "        vertical-align: top;\n",
              "    }\n",
              "\n",
              "    .dataframe thead th {\n",
              "        text-align: right;\n",
              "    }\n",
              "</style>\n",
              "<table border=\"1\" class=\"dataframe\">\n",
              "  <thead>\n",
              "    <tr style=\"text-align: right;\">\n",
              "      <th></th>\n",
              "      <th>Id</th>\n",
              "      <th>PostTypeId</th>\n",
              "      <th>AcceptedAnswerId</th>\n",
              "      <th>ParentId</th>\n",
              "      <th>CreationDate</th>\n",
              "      <th>DeletionDate</th>\n",
              "      <th>Score</th>\n",
              "      <th>ViewCount</th>\n",
              "      <th>Body</th>\n",
              "      <th>OwnerUserId</th>\n",
              "      <th>...</th>\n",
              "      <th>LastEditDate</th>\n",
              "      <th>LastActivityDate</th>\n",
              "      <th>Title</th>\n",
              "      <th>Tags</th>\n",
              "      <th>AnswerCount</th>\n",
              "      <th>CommentCount</th>\n",
              "      <th>FavoriteCount</th>\n",
              "      <th>ClosedDate</th>\n",
              "      <th>CommunityOwnedDate</th>\n",
              "      <th>ContentLicense</th>\n",
              "    </tr>\n",
              "  </thead>\n",
              "  <tbody>\n",
              "    <tr>\n",
              "      <th>0</th>\n",
              "      <td>4</td>\n",
              "      <td>1</td>\n",
              "      <td>7.0</td>\n",
              "      <td>NaN</td>\n",
              "      <td>2008-07-31 21:42:52</td>\n",
              "      <td>NaN</td>\n",
              "      <td>756</td>\n",
              "      <td>63611</td>\n",
              "      <td>&lt;p&gt;I want to use a &lt;code&gt;Track-Bar&lt;/code&gt; to c...</td>\n",
              "      <td>8.0</td>\n",
              "      <td>...</td>\n",
              "      <td>2021-02-26 03:31:15</td>\n",
              "      <td>2021-11-15 21:15:29</td>\n",
              "      <td>How to convert a Decimal to a Double in C#?</td>\n",
              "      <td>&lt;c#&gt;&lt;floating-point&gt;&lt;type-conversion&gt;&lt;double&gt;&lt;...</td>\n",
              "      <td>12</td>\n",
              "      <td>4</td>\n",
              "      <td>59.0</td>\n",
              "      <td>NaN</td>\n",
              "      <td>2012-10-31 16:42:47</td>\n",
              "      <td>CC BY-SA 4.0</td>\n",
              "    </tr>\n",
              "    <tr>\n",
              "      <th>1</th>\n",
              "      <td>6</td>\n",
              "      <td>1</td>\n",
              "      <td>31.0</td>\n",
              "      <td>NaN</td>\n",
              "      <td>2008-07-31 22:08:08</td>\n",
              "      <td>NaN</td>\n",
              "      <td>313</td>\n",
              "      <td>22490</td>\n",
              "      <td>&lt;p&gt;I have an absolutely positioned &lt;code&gt;div&lt;/...</td>\n",
              "      <td>9.0</td>\n",
              "      <td>...</td>\n",
              "      <td>2021-01-29 18:46:45</td>\n",
              "      <td>2021-01-29 18:46:45</td>\n",
              "      <td>Why did the width collapse in the percentage w...</td>\n",
              "      <td>&lt;html&gt;&lt;css&gt;&lt;internet-explorer-7&gt;</td>\n",
              "      <td>7</td>\n",
              "      <td>0</td>\n",
              "      <td>13.0</td>\n",
              "      <td>NaN</td>\n",
              "      <td>NaN</td>\n",
              "      <td>CC BY-SA 4.0</td>\n",
              "    </tr>\n",
              "    <tr>\n",
              "      <th>2</th>\n",
              "      <td>9</td>\n",
              "      <td>1</td>\n",
              "      <td>1404.0</td>\n",
              "      <td>NaN</td>\n",
              "      <td>2008-07-31 23:40:59</td>\n",
              "      <td>NaN</td>\n",
              "      <td>2100</td>\n",
              "      <td>727355</td>\n",
              "      <td>&lt;p&gt;Given a &lt;code&gt;DateTime&lt;/code&gt; representing ...</td>\n",
              "      <td>1.0</td>\n",
              "      <td>...</td>\n",
              "      <td>2021-01-05 17:33:32</td>\n",
              "      <td>2022-02-19 14:25:44</td>\n",
              "      <td>How do I calculate someone's age based on a Da...</td>\n",
              "      <td>&lt;c#&gt;&lt;.net&gt;&lt;datetime&gt;</td>\n",
              "      <td>70</td>\n",
              "      <td>10</td>\n",
              "      <td>484.0</td>\n",
              "      <td>NaN</td>\n",
              "      <td>2011-08-16 19:40:43</td>\n",
              "      <td>CC BY-SA 4.0</td>\n",
              "    </tr>\n",
              "    <tr>\n",
              "      <th>3</th>\n",
              "      <td>11</td>\n",
              "      <td>1</td>\n",
              "      <td>1248.0</td>\n",
              "      <td>NaN</td>\n",
              "      <td>2008-07-31 23:55:37</td>\n",
              "      <td>NaN</td>\n",
              "      <td>1610</td>\n",
              "      <td>188194</td>\n",
              "      <td>&lt;p&gt;Given a specific &lt;code&gt;DateTime&lt;/code&gt; valu...</td>\n",
              "      <td>1.0</td>\n",
              "      <td>...</td>\n",
              "      <td>2017-06-04 15:51:19</td>\n",
              "      <td>2022-03-11 20:03:19</td>\n",
              "      <td>Calculate relative time in C#</td>\n",
              "      <td>&lt;c#&gt;&lt;datetime&gt;&lt;time&gt;&lt;datediff&gt;&lt;relative-time-s...</td>\n",
              "      <td>41</td>\n",
              "      <td>3</td>\n",
              "      <td>552.0</td>\n",
              "      <td>NaN</td>\n",
              "      <td>2009-09-04 13:15:59</td>\n",
              "      <td>CC BY-SA 3.0</td>\n",
              "    </tr>\n",
              "    <tr>\n",
              "      <th>4</th>\n",
              "      <td>13</td>\n",
              "      <td>1</td>\n",
              "      <td>NaN</td>\n",
              "      <td>NaN</td>\n",
              "      <td>2008-08-01 00:42:38</td>\n",
              "      <td>NaN</td>\n",
              "      <td>672</td>\n",
              "      <td>246671</td>\n",
              "      <td>&lt;p&gt;Is there a standard way for a web server to...</td>\n",
              "      <td>9.0</td>\n",
              "      <td>...</td>\n",
              "      <td>2020-12-03 03:37:56</td>\n",
              "      <td>2021-12-27 13:34:18</td>\n",
              "      <td>Determine a user's timezone</td>\n",
              "      <td>&lt;html&gt;&lt;browser&gt;&lt;timezone&gt;&lt;user-agent&gt;&lt;timezone...</td>\n",
              "      <td>27</td>\n",
              "      <td>10</td>\n",
              "      <td>157.0</td>\n",
              "      <td>NaN</td>\n",
              "      <td>NaN</td>\n",
              "      <td>CC BY-SA 4.0</td>\n",
              "    </tr>\n",
              "    <tr>\n",
              "      <th>5</th>\n",
              "      <td>14</td>\n",
              "      <td>1</td>\n",
              "      <td>NaN</td>\n",
              "      <td>NaN</td>\n",
              "      <td>2008-08-01 00:59:11</td>\n",
              "      <td>NaN</td>\n",
              "      <td>471</td>\n",
              "      <td>161542</td>\n",
              "      <td>&lt;p&gt;What is the difference between &lt;a href=\"htt...</td>\n",
              "      <td>11.0</td>\n",
              "      <td>...</td>\n",
              "      <td>2017-02-25 17:42:17</td>\n",
              "      <td>2021-04-22 05:49:24</td>\n",
              "      <td>Difference between Math.Floor() and Math.Trunc...</td>\n",
              "      <td>&lt;.net&gt;&lt;math&gt;</td>\n",
              "      <td>13</td>\n",
              "      <td>1</td>\n",
              "      <td>66.0</td>\n",
              "      <td>NaN</td>\n",
              "      <td>NaN</td>\n",
              "      <td>CC BY-SA 3.0</td>\n",
              "    </tr>\n",
              "    <tr>\n",
              "      <th>6</th>\n",
              "      <td>16</td>\n",
              "      <td>1</td>\n",
              "      <td>12446.0</td>\n",
              "      <td>NaN</td>\n",
              "      <td>2008-08-01 04:59:33</td>\n",
              "      <td>NaN</td>\n",
              "      <td>149</td>\n",
              "      <td>86506</td>\n",
              "      <td>&lt;p&gt;How do you expose a LINQ query as an ASMX w...</td>\n",
              "      <td>2.0</td>\n",
              "      <td>...</td>\n",
              "      <td>2021-01-07 14:09:26</td>\n",
              "      <td>2021-01-07 14:09:26</td>\n",
              "      <td>Filling a DataSet or a DataTable from a LINQ q...</td>\n",
              "      <td>&lt;c#&gt;&lt;linq&gt;&lt;web-services&gt;&lt;.net-3.5&gt;</td>\n",
              "      <td>7</td>\n",
              "      <td>0</td>\n",
              "      <td>15.0</td>\n",
              "      <td>NaN</td>\n",
              "      <td>NaN</td>\n",
              "      <td>CC BY-SA 4.0</td>\n",
              "    </tr>\n",
              "    <tr>\n",
              "      <th>7</th>\n",
              "      <td>17</td>\n",
              "      <td>1</td>\n",
              "      <td>26.0</td>\n",
              "      <td>NaN</td>\n",
              "      <td>2008-08-01 05:09:55</td>\n",
              "      <td>NaN</td>\n",
              "      <td>194</td>\n",
              "      <td>83437</td>\n",
              "      <td>&lt;p&gt;How do I store binary data in &lt;a href=\"http...</td>\n",
              "      <td>2.0</td>\n",
              "      <td>...</td>\n",
              "      <td>2020-12-03 03:37:51</td>\n",
              "      <td>2020-12-03 03:37:51</td>\n",
              "      <td>Binary Data in MySQL</td>\n",
              "      <td>&lt;mysql&gt;&lt;database&gt;&lt;binary-data&gt;&lt;data-storage&gt;</td>\n",
              "      <td>9</td>\n",
              "      <td>3</td>\n",
              "      <td>23.0</td>\n",
              "      <td>2018-11-29 15:36:04</td>\n",
              "      <td>NaN</td>\n",
              "      <td>CC BY-SA 3.0</td>\n",
              "    </tr>\n",
              "    <tr>\n",
              "      <th>8</th>\n",
              "      <td>19</td>\n",
              "      <td>1</td>\n",
              "      <td>531.0</td>\n",
              "      <td>NaN</td>\n",
              "      <td>2008-08-01 05:21:22</td>\n",
              "      <td>NaN</td>\n",
              "      <td>340</td>\n",
              "      <td>63486</td>\n",
              "      <td>&lt;p&gt;I'm looking for the fastest way to obtain t...</td>\n",
              "      <td>13.0</td>\n",
              "      <td>...</td>\n",
              "      <td>2019-05-15 01:33:48</td>\n",
              "      <td>2021-11-24 18:36:40</td>\n",
              "      <td>What is the fastest way to get the value of π?</td>\n",
              "      <td>&lt;performance&gt;&lt;algorithm&gt;&lt;language-agnostic&gt;&lt;un...</td>\n",
              "      <td>23</td>\n",
              "      <td>17</td>\n",
              "      <td>85.0</td>\n",
              "      <td>NaN</td>\n",
              "      <td>NaN</td>\n",
              "      <td>CC BY-SA 4.0</td>\n",
              "    </tr>\n",
              "    <tr>\n",
              "      <th>9</th>\n",
              "      <td>24</td>\n",
              "      <td>1</td>\n",
              "      <td>49.0</td>\n",
              "      <td>NaN</td>\n",
              "      <td>2008-08-01 12:12:19</td>\n",
              "      <td>NaN</td>\n",
              "      <td>189</td>\n",
              "      <td>95256</td>\n",
              "      <td>&lt;p&gt;If I have a trigger before the update on a ...</td>\n",
              "      <td>22.0</td>\n",
              "      <td>...</td>\n",
              "      <td>2021-01-29 12:57:17</td>\n",
              "      <td>2021-01-29 12:57:17</td>\n",
              "      <td>Throw an error preventing a table update in a ...</td>\n",
              "      <td>&lt;mysql&gt;&lt;database&gt;&lt;triggers&gt;</td>\n",
              "      <td>7</td>\n",
              "      <td>0</td>\n",
              "      <td>27.0</td>\n",
              "      <td>NaN</td>\n",
              "      <td>NaN</td>\n",
              "      <td>CC BY-SA 4.0</td>\n",
              "    </tr>\n",
              "  </tbody>\n",
              "</table>\n",
              "<p>10 rows × 23 columns</p>\n",
              "</div>\n",
              "      <button class=\"colab-df-convert\" onclick=\"convertToInteractive('df-d8232ca5-40b3-4d42-b8d0-7a8f0090c793')\"\n",
              "              title=\"Convert this dataframe to an interactive table.\"\n",
              "              style=\"display:none;\">\n",
              "        \n",
              "  <svg xmlns=\"http://www.w3.org/2000/svg\" height=\"24px\"viewBox=\"0 0 24 24\"\n",
              "       width=\"24px\">\n",
              "    <path d=\"M0 0h24v24H0V0z\" fill=\"none\"/>\n",
              "    <path d=\"M18.56 5.44l.94 2.06.94-2.06 2.06-.94-2.06-.94-.94-2.06-.94 2.06-2.06.94zm-11 1L8.5 8.5l.94-2.06 2.06-.94-2.06-.94L8.5 2.5l-.94 2.06-2.06.94zm10 10l.94 2.06.94-2.06 2.06-.94-2.06-.94-.94-2.06-.94 2.06-2.06.94z\"/><path d=\"M17.41 7.96l-1.37-1.37c-.4-.4-.92-.59-1.43-.59-.52 0-1.04.2-1.43.59L10.3 9.45l-7.72 7.72c-.78.78-.78 2.05 0 2.83L4 21.41c.39.39.9.59 1.41.59.51 0 1.02-.2 1.41-.59l7.78-7.78 2.81-2.81c.8-.78.8-2.07 0-2.86zM5.41 20L4 18.59l7.72-7.72 1.47 1.35L5.41 20z\"/>\n",
              "  </svg>\n",
              "      </button>\n",
              "      \n",
              "  <style>\n",
              "    .colab-df-container {\n",
              "      display:flex;\n",
              "      flex-wrap:wrap;\n",
              "      gap: 12px;\n",
              "    }\n",
              "\n",
              "    .colab-df-convert {\n",
              "      background-color: #E8F0FE;\n",
              "      border: none;\n",
              "      border-radius: 50%;\n",
              "      cursor: pointer;\n",
              "      display: none;\n",
              "      fill: #1967D2;\n",
              "      height: 32px;\n",
              "      padding: 0 0 0 0;\n",
              "      width: 32px;\n",
              "    }\n",
              "\n",
              "    .colab-df-convert:hover {\n",
              "      background-color: #E2EBFA;\n",
              "      box-shadow: 0px 1px 2px rgba(60, 64, 67, 0.3), 0px 1px 3px 1px rgba(60, 64, 67, 0.15);\n",
              "      fill: #174EA6;\n",
              "    }\n",
              "\n",
              "    [theme=dark] .colab-df-convert {\n",
              "      background-color: #3B4455;\n",
              "      fill: #D2E3FC;\n",
              "    }\n",
              "\n",
              "    [theme=dark] .colab-df-convert:hover {\n",
              "      background-color: #434B5C;\n",
              "      box-shadow: 0px 1px 3px 1px rgba(0, 0, 0, 0.15);\n",
              "      filter: drop-shadow(0px 1px 2px rgba(0, 0, 0, 0.3));\n",
              "      fill: #FFFFFF;\n",
              "    }\n",
              "  </style>\n",
              "\n",
              "      <script>\n",
              "        const buttonEl =\n",
              "          document.querySelector('#df-d8232ca5-40b3-4d42-b8d0-7a8f0090c793 button.colab-df-convert');\n",
              "        buttonEl.style.display =\n",
              "          google.colab.kernel.accessAllowed ? 'block' : 'none';\n",
              "\n",
              "        async function convertToInteractive(key) {\n",
              "          const element = document.querySelector('#df-d8232ca5-40b3-4d42-b8d0-7a8f0090c793');\n",
              "          const dataTable =\n",
              "            await google.colab.kernel.invokeFunction('convertToInteractive',\n",
              "                                                     [key], {});\n",
              "          if (!dataTable) return;\n",
              "\n",
              "          const docLinkHtml = 'Like what you see? Visit the ' +\n",
              "            '<a target=\"_blank\" href=https://colab.research.google.com/notebooks/data_table.ipynb>data table notebook</a>'\n",
              "            + ' to learn more about interactive tables.';\n",
              "          element.innerHTML = '';\n",
              "          dataTable['output_type'] = 'display_data';\n",
              "          await google.colab.output.renderOutput(dataTable, element);\n",
              "          const docLink = document.createElement('div');\n",
              "          docLink.innerHTML = docLinkHtml;\n",
              "          element.appendChild(docLink);\n",
              "        }\n",
              "      </script>\n",
              "    </div>\n",
              "  </div>\n",
              "  "
            ]
          },
          "metadata": {},
          "execution_count": 135
        }
      ]
    },
    {
      "cell_type": "code",
      "source": [
        "df_posts.columns"
      ],
      "metadata": {
        "colab": {
          "base_uri": "https://localhost:8080/"
        },
        "id": "hWXrguk_vb3M",
        "outputId": "04ac6100-9cb1-4ccc-c745-5b9636b97d98"
      },
      "execution_count": null,
      "outputs": [
        {
          "output_type": "execute_result",
          "data": {
            "text/plain": [
              "Index(['Id', 'PostTypeId', 'AcceptedAnswerId', 'ParentId', 'CreationDate',\n",
              "       'DeletionDate', 'Score', 'ViewCount', 'Body', 'OwnerUserId',\n",
              "       'OwnerDisplayName', 'LastEditorUserId', 'LastEditorDisplayName',\n",
              "       'LastEditDate', 'LastActivityDate', 'Title', 'Tags', 'AnswerCount',\n",
              "       'CommentCount', 'FavoriteCount', 'ClosedDate', 'CommunityOwnedDate',\n",
              "       'ContentLicense'],\n",
              "      dtype='object')"
            ]
          },
          "metadata": {},
          "execution_count": 136
        }
      ]
    },
    {
      "cell_type": "code",
      "source": [
        "df_posts = df_posts[['Body', 'Tags', 'Title']]"
      ],
      "metadata": {
        "id": "2CARM1nYvYzR"
      },
      "execution_count": null,
      "outputs": []
    },
    {
      "cell_type": "markdown",
      "source": [
        "Exploration des données"
      ],
      "metadata": {
        "id": "bkwkr-E0revs"
      }
    },
    {
      "cell_type": "code",
      "source": [
        "custom_palette = [sns.xkcd_rgb[\"windows blue\"], sns.xkcd_rgb[\"pale red\"], sns.xkcd_rgb[\"medium green\"], \"orange\", \"blue\",\"yellow\", \"purple\", \"deeppink\", \"brown\", \"teal\", \"black\"] \n",
        "sns.set_palette(custom_palette) "
      ],
      "metadata": {
        "id": "JuAfQpH20zxL"
      },
      "execution_count": null,
      "outputs": []
    },
    {
      "cell_type": "code",
      "source": [
        "df_posts['Title'][0]"
      ],
      "metadata": {
        "colab": {
          "base_uri": "https://localhost:8080/",
          "height": 35
        },
        "id": "5XwDzO4Fwgwd",
        "outputId": "5ddfa113-8a49-4503-a7a2-206390e8725a"
      },
      "execution_count": null,
      "outputs": [
        {
          "output_type": "execute_result",
          "data": {
            "text/plain": [
              "'How to convert a Decimal to a Double in C#?'"
            ],
            "application/vnd.google.colaboratory.intrinsic+json": {
              "type": "string"
            }
          },
          "metadata": {},
          "execution_count": 139
        }
      ]
    },
    {
      "cell_type": "code",
      "source": [
        "nltk.word_tokenize(df_posts['Title'][0])"
      ],
      "metadata": {
        "colab": {
          "base_uri": "https://localhost:8080/"
        },
        "id": "8PznmswMwYqe",
        "outputId": "3dd7ead2-22a2-437c-bf71-765d9a56f8c4"
      },
      "execution_count": null,
      "outputs": [
        {
          "output_type": "execute_result",
          "data": {
            "text/plain": [
              "['How',\n",
              " 'to',\n",
              " 'convert',\n",
              " 'a',\n",
              " 'Decimal',\n",
              " 'to',\n",
              " 'a',\n",
              " 'Double',\n",
              " 'in',\n",
              " 'C',\n",
              " '#',\n",
              " '?']"
            ]
          },
          "metadata": {},
          "execution_count": 140
        }
      ]
    },
    {
      "cell_type": "markdown",
      "source": [
        "Discrimination des mots avec '"
      ],
      "metadata": {
        "id": "DPjqTICgxXTM"
      }
    },
    {
      "cell_type": "code",
      "source": [
        "tokenizer = nltk.RegexpTokenizer(r'\\w+')\n",
        "tokenizer.tokenize(df_posts['Title'][0])"
      ],
      "metadata": {
        "colab": {
          "base_uri": "https://localhost:8080/"
        },
        "id": "Uccxz5X_xW2D",
        "outputId": "fe4d2b93-df1a-494e-a694-8c3f7b0036bf"
      },
      "execution_count": null,
      "outputs": [
        {
          "output_type": "execute_result",
          "data": {
            "text/plain": [
              "['How', 'to', 'convert', 'a', 'Decimal', 'to', 'a', 'Double', 'in', 'C']"
            ]
          },
          "metadata": {},
          "execution_count": 141
        }
      ]
    },
    {
      "cell_type": "markdown",
      "source": [
        "N'est pas intéressant pour la problématique car enlève les infos type \"#\""
      ],
      "metadata": {
        "id": "hDEBzZDKx3FT"
      }
    },
    {
      "cell_type": "code",
      "source": [
        "freq_word = (df_posts.Title.str.split(expand=True).stack().value_counts()/len(df_posts.Title.str.split(expand=True).stack().value_counts())*100).head(10)"
      ],
      "metadata": {
        "id": "C7tVDVMhzq_H"
      },
      "execution_count": null,
      "outputs": []
    },
    {
      "cell_type": "code",
      "source": [
        "ax = sns.barplot(x=freq_word.index, y=freq_word, palette = custom_palette)\n",
        "ax.set(xlabel = \"Words\", ylabel = \"Frequency\")"
      ],
      "metadata": {
        "colab": {
          "base_uri": "https://localhost:8080/",
          "height": 296
        },
        "id": "XaPucRkw0j3k",
        "outputId": "9299782f-da9e-477c-f7e6-d1b3240b2a0f"
      },
      "execution_count": null,
      "outputs": [
        {
          "output_type": "execute_result",
          "data": {
            "text/plain": [
              "[Text(0, 0.5, 'Frequency'), Text(0.5, 0, 'Words')]"
            ]
          },
          "metadata": {},
          "execution_count": 143
        },
        {
          "output_type": "display_data",
          "data": {
            "text/plain": [
              "<Figure size 432x288 with 1 Axes>"
            ],
            "image/png": "[encoded data removed]"
          },
          "metadata": {
            "needs_background": "light"
          }
        }
      ]
    },
    {
      "cell_type": "code",
      "source": [
        "stop_words = nltk.corpus.stopwords.words('english')"
      ],
      "metadata": {
        "id": "FNUq7rWz3oYy"
      },
      "execution_count": null,
      "outputs": []
    },
    {
      "cell_type": "code",
      "source": [
        "def stopWordFucntion(sentence) :\n",
        "  word_tokens = word_tokenize(sentence)\n",
        "  filtered_sentence = []\n",
        "  for w in word_tokens:\n",
        "    if w not in stop_words:\n",
        "        filtered_sentence.append(w)\n",
        "  return ', '.join(filtered_sentence)"
      ],
      "metadata": {
        "id": "qTh6P6SK4fxE"
      },
      "execution_count": null,
      "outputs": []
    },
    {
      "cell_type": "code",
      "source": [
        "df_posts[\"Title_StopWordLess\"] = df_posts[\"Title\"].apply(stopWordFucntion)"
      ],
      "metadata": {
        "id": "_7ksEZaV5iNz"
      },
      "execution_count": null,
      "outputs": []
    },
    {
      "cell_type": "code",
      "source": [
        "freq_word = (df_posts.Title_StopWordLess.str.split(expand=True).stack().value_counts()/len(df_posts.Title_StopWordLess.str.split(expand=True).stack().value_counts())*100).head(20)\n",
        "plt.figure(figsize=(10, 6))\n",
        "ax = sns.barplot(x=freq_word.index, y=freq_word, palette = custom_palette)\n",
        "ax.set(xlabel = \"Words\", ylabel = \"Frequency\")\n",
        "plt.tight_layout()"
      ],
      "metadata": {
        "colab": {
          "base_uri": "https://localhost:8080/",
          "height": 441
        },
        "id": "yz-vJTeD6NRj",
        "outputId": "e13a658a-06f5-46f2-d34c-9c30556e4ec4"
      },
      "execution_count": null,
      "outputs": [
        {
          "output_type": "display_data",
          "data": {
            "text/plain": [
              "<Figure size 720x432 with 1 Axes>"
            ],
            "image/png": "[encoded data removed]"
          },
          "metadata": {
            "needs_background": "light"
          }
        }
      ]
    },
    {
      "cell_type": "markdown",
      "source": [
        "Il y a encore beaucoup de \"mots\" qui n'ont pas d'intérêt dans notre problématique, je mets à jours la liste des stopwords pour les supprimers de notre dababase"
      ],
      "metadata": {
        "id": "WfxaO5n3CHg4"
      }
    },
    {
      "cell_type": "code",
      "source": [
        "new_stopwords = [\"?\", \"How\", \"What\", \"way\" \"I\", \"(\", \")\", \",,\", \"Is\", \":\", \"'s\", \":\", \"``\", \"-\", \"best\", \"Best\"]\n",
        "stop_words.extend(new_stopwords)"
      ],
      "metadata": {
        "id": "fKUTuBcX8Ew_"
      },
      "execution_count": 178,
      "outputs": []
    },
    {
      "cell_type": "code",
      "source": [
        "df_posts[\"Title_StopWordLess\"] = df_posts[\"Title\"].apply(stopWordFucntion)"
      ],
      "metadata": {
        "id": "yWBd5Knq9NF_"
      },
      "execution_count": 176,
      "outputs": []
    },
    {
      "cell_type": "code",
      "source": [
        "freq_word = (df_posts.Title_StopWordLess.str.split(expand=True).stack().value_counts()/len(df_posts.Title_StopWordLess.str.split(expand=True).stack().value_counts())*100).head(20)\n",
        "plt.figure(figsize=(12, 6))\n",
        "ax = sns.barplot(x=freq_word.index, y=freq_word, palette = custom_palette)\n",
        "ax.set(xlabel = \"Words\", ylabel = \"Frequency\")\n",
        "plt.tight_layout()"
      ],
      "metadata": {
        "colab": {
          "base_uri": "https://localhost:8080/",
          "height": 441
        },
        "id": "Q-GFn4nD9OVt",
        "outputId": "218a07bf-42d9-4bbb-bd14-caa560f7db11"
      },
      "execution_count": 185,
      "outputs": [
        {
          "output_type": "display_data",
          "data": {
            "text/plain": [
              "<Figure size 864x432 with 1 Axes>"
            ],
            "image/png": "[encoded data removed]"
          },
          "metadata": {
            "needs_background": "light"
          }
        }
      ]
    },
    {
      "cell_type": "markdown",
      "source": [
        "J'applique ensuite une lemmatisation pour représenter les mots sous leur forme canonique"
      ],
      "metadata": {
        "id": "VJ4lGx9WB4n4"
      }
    },
    {
      "cell_type": "code",
      "source": [
        "porter = PorterStemmer()\n",
        "df_posts[\"Title_StopWordLess\"] = df_posts[\"Title_StopWordLess\"].apply(porter.stem)"
      ],
      "metadata": {
        "id": "urAzLe14BWXh"
      },
      "execution_count": 182,
      "outputs": []
    },
    {
      "cell_type": "markdown",
      "source": [
        "Sauvegarde de la database pour modélisation"
      ],
      "metadata": {
        "id": "kABXQ_Y-gVfM"
      }
    },
    {
      "cell_type": "code",
      "source": [
        "df_final.to_csv('data_projet5_clean.csv', sep='\\t', index=True)"
      ],
      "metadata": {
        "id": "QXQNNb0dTTLD"
      },
      "execution_count": null,
      "outputs": []
    }
  ]
}