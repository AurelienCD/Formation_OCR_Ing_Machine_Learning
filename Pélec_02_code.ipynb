{
  "nbformat": 4,
  "nbformat_minor": 0,
  "metadata": {
    "colab": {
      "name": "Pélec_02_code.ipynb",
      "provenance": [],
      "collapsed_sections": [],
      "authorship_tag": "ABX9TyOdfhf1RWXRfPeTQWCA6aAW",
      "include_colab_link": true
    },
    "kernelspec": {
      "name": "python3",
      "display_name": "Python 3"
    },
    "language_info": {
      "name": "python"
    }
  },
  "cells": [
    {
      "cell_type": "markdown",
      "metadata": {
        "id": "view-in-github",
        "colab_type": "text"
      },
      "source": [
        "<a href=\"https://colab.research.google.com/github/AurelienCD/Formation_OCR_Ing_Machine_Learning/blob/main/P%C3%A9lec_02_code.ipynb\" target=\"_parent\"><img src=\"https://colab.research.google.com/assets/colab-badge.svg\" alt=\"Open In Colab\"/></a>"
      ]
    },
    {
      "cell_type": "markdown",
      "source": [
        "Connexion au google drive, déplacement dans le dossier contenant les données nécessaires au projet"
      ],
      "metadata": {
        "id": "qJ1LudLSaN7y"
      }
    },
    {
      "cell_type": "code",
      "execution_count": 1,
      "metadata": {
        "id": "J1yZsOaDZMVN",
        "colab": {
          "base_uri": "https://localhost:8080/"
        },
        "outputId": "2951b4e4-c452-47ad-b3a9-57cf05b0211b"
      },
      "outputs": [
        {
          "output_type": "stream",
          "name": "stdout",
          "text": [
            "Drive already mounted at /content/drive; to attempt to forcibly remount, call drive.mount(\"/content/drive\", force_remount=True).\n"
          ]
        }
      ],
      "source": [
        "from google.colab import drive\n",
        "drive.mount(\"/content/drive\")"
      ]
    },
    {
      "cell_type": "code",
      "source": [
        "%cd drive/MyDrive/Formation_OCR_Ing_Machine_Learning/Projet 3"
      ],
      "metadata": {
        "colab": {
          "base_uri": "https://localhost:8080/"
        },
        "id": "TMHjjJ81aImE",
        "outputId": "d0a84be9-5acb-4860-a835-66a54c11e7a5"
      },
      "execution_count": 2,
      "outputs": [
        {
          "output_type": "stream",
          "name": "stdout",
          "text": [
            "/content/drive/MyDrive/Formation_OCR_Ing_Machine_Learning/Projet 3\n"
          ]
        }
      ]
    },
    {
      "cell_type": "markdown",
      "source": [
        "Importation des librairies nécessaires au projet"
      ],
      "metadata": {
        "id": "scL1IlIIawNw"
      }
    },
    {
      "cell_type": "code",
      "source": [
        "import pandas as pad \n",
        "import statistics\n",
        "from scipy import stats\n",
        "import matplotlib.pyplot as plt\n",
        "import seaborn as sns\n",
        "import numpy as np\n",
        "from scipy.stats import pearsonr\n",
        "from scipy.stats import ttest_ind\n",
        "\n",
        "\n",
        "from sklearn.model_selection import train_test_split, StratifiedShuffleSplit, GridSearchCV\n",
        "\n",
        "from sklearn.preprocessing import *\n",
        "from sklearn.pipeline import make_pipeline\n",
        "from sklearn.compose import make_column_transformer\n",
        "from sklearn.preprocessing import StandardScaler\n",
        "\n",
        "from sklearn import model_selection\n",
        "from sklearn import linear_model\n",
        "from sklearn.linear_model import LinearRegression, Lasso, Ridge, SGDRegressor, ElasticNet, BayesianRidge, TweedieRegressor, HuberRegressor, QuantileRegressor\n",
        "from sklearn.preprocessing import PolynomialFeatures\n",
        "from sklearn.svm import SVR\n",
        "from sklearn.ensemble import RandomForestRegressor\n",
        "from xgboost import XGBRegressor\n",
        "\n",
        "from sklearn.metrics import *\n",
        "from sklearn.model_selection import KFold\n",
        "from sklearn.metrics import  make_scorer\n",
        "from sklearn.model_selection import cross_val_score\n",
        "from sklearn.metrics import r2_score\n",
        "from sklearn.model_selection import RandomizedSearchCV"
      ],
      "metadata": {
        "id": "u4WZGclQamDR"
      },
      "execution_count": 3,
      "outputs": []
    },
    {
      "cell_type": "code",
      "source": [
        "df = pad.read_csv('data_projet3_clean.csv', sep='\\t')"
      ],
      "metadata": {
        "id": "0qx2shAZabXR"
      },
      "execution_count": 4,
      "outputs": []
    },
    {
      "cell_type": "markdown",
      "source": [
        "Exploration rapide des données"
      ],
      "metadata": {
        "id": "bkwkr-E0revs"
      }
    },
    {
      "cell_type": "code",
      "source": [
        "df.shape"
      ],
      "metadata": {
        "id": "SQOGSjkl0ayB",
        "colab": {
          "base_uri": "https://localhost:8080/"
        },
        "outputId": "36aa348e-7ea8-499e-b017-05dba6e24471"
      },
      "execution_count": 5,
      "outputs": [
        {
          "output_type": "execute_result",
          "data": {
            "text/plain": [
              "(1532, 25)"
            ]
          },
          "metadata": {},
          "execution_count": 5
        }
      ]
    },
    {
      "cell_type": "code",
      "source": [
        "df.head()"
      ],
      "metadata": {
        "colab": {
          "base_uri": "https://localhost:8080/",
          "height": 268
        },
        "id": "6yLVmgZ70b_K",
        "outputId": "23f38583-96aa-4e8e-ff29-4c7cadd07d7e"
      },
      "execution_count": 6,
      "outputs": [
        {
          "output_type": "execute_result",
          "data": {
            "text/html": [
              "\n",
              "  <div id=\"df-9b535c80-11dc-4857-a8cb-1c6d35c4799a\">\n",
              "    <div class=\"colab-df-container\">\n",
              "      <div>\n",
              "<style scoped>\n",
              "    .dataframe tbody tr th:only-of-type {\n",
              "        vertical-align: middle;\n",
              "    }\n",
              "\n",
              "    .dataframe tbody tr th {\n",
              "        vertical-align: top;\n",
              "    }\n",
              "\n",
              "    .dataframe thead th {\n",
              "        text-align: right;\n",
              "    }\n",
              "</style>\n",
              "<table border=\"1\" class=\"dataframe\">\n",
              "  <thead>\n",
              "    <tr style=\"text-align: right;\">\n",
              "      <th></th>\n",
              "      <th>OSEBuildingID</th>\n",
              "      <th>DataYear</th>\n",
              "      <th>BuildingType</th>\n",
              "      <th>PrimaryPropertyType</th>\n",
              "      <th>CouncilDistrictCode</th>\n",
              "      <th>Neighborhood</th>\n",
              "      <th>YearBuilt</th>\n",
              "      <th>NumberofBuildings</th>\n",
              "      <th>NumberofFloors</th>\n",
              "      <th>PropertyGFATotal</th>\n",
              "      <th>PropertyGFAParking</th>\n",
              "      <th>PropertyGFABuilding(s)</th>\n",
              "      <th>ListOfAllPropertyUseTypes</th>\n",
              "      <th>LargestPropertyUseType</th>\n",
              "      <th>LargestPropertyUseTypeGFA</th>\n",
              "      <th>ENERGYSTARScore</th>\n",
              "      <th>SiteEUI(kBtu/sf)</th>\n",
              "      <th>SourceEUI(kBtu/sf)</th>\n",
              "      <th>SiteEnergyUse(kBtu)</th>\n",
              "      <th>SteamUse(kBtu)</th>\n",
              "      <th>Electricity(kWh)</th>\n",
              "      <th>NaturalGas(therms)</th>\n",
              "      <th>TotalGHGEmissions</th>\n",
              "      <th>GHGEmissionsIntensity</th>\n",
              "      <th>YearBuilt_age</th>\n",
              "    </tr>\n",
              "  </thead>\n",
              "  <tbody>\n",
              "    <tr>\n",
              "      <th>0</th>\n",
              "      <td>1.0</td>\n",
              "      <td>2015.0</td>\n",
              "      <td>NonResidential</td>\n",
              "      <td>Hotel</td>\n",
              "      <td>7.0</td>\n",
              "      <td>DOWNTOWN</td>\n",
              "      <td>1927.0</td>\n",
              "      <td>1.0</td>\n",
              "      <td>12.0</td>\n",
              "      <td>88434.0</td>\n",
              "      <td>0.0</td>\n",
              "      <td>88434.0</td>\n",
              "      <td>Hotel</td>\n",
              "      <td>Hotel</td>\n",
              "      <td>88434.0</td>\n",
              "      <td>65.0</td>\n",
              "      <td>78.9</td>\n",
              "      <td>173.5</td>\n",
              "      <td>6981428.0</td>\n",
              "      <td>2023032.0</td>\n",
              "      <td>1080307.0</td>\n",
              "      <td>12724.0</td>\n",
              "      <td>249.43</td>\n",
              "      <td>2.64</td>\n",
              "      <td>old</td>\n",
              "    </tr>\n",
              "    <tr>\n",
              "      <th>1</th>\n",
              "      <td>2.0</td>\n",
              "      <td>2015.0</td>\n",
              "      <td>NonResidential</td>\n",
              "      <td>Hotel</td>\n",
              "      <td>7.0</td>\n",
              "      <td>DOWNTOWN</td>\n",
              "      <td>1996.0</td>\n",
              "      <td>1.0</td>\n",
              "      <td>11.0</td>\n",
              "      <td>103566.0</td>\n",
              "      <td>15064.0</td>\n",
              "      <td>88502.0</td>\n",
              "      <td>Hotel, Parking, Restaurant</td>\n",
              "      <td>Hotel</td>\n",
              "      <td>83880.0</td>\n",
              "      <td>51.0</td>\n",
              "      <td>94.4</td>\n",
              "      <td>191.3</td>\n",
              "      <td>8354235.0</td>\n",
              "      <td>0.0</td>\n",
              "      <td>1144563.0</td>\n",
              "      <td>44490.0</td>\n",
              "      <td>263.51</td>\n",
              "      <td>2.38</td>\n",
              "      <td>old</td>\n",
              "    </tr>\n",
              "    <tr>\n",
              "      <th>2</th>\n",
              "      <td>10.0</td>\n",
              "      <td>2015.0</td>\n",
              "      <td>NonResidential</td>\n",
              "      <td>Hotel</td>\n",
              "      <td>7.0</td>\n",
              "      <td>DOWNTOWN</td>\n",
              "      <td>1926.0</td>\n",
              "      <td>1.0</td>\n",
              "      <td>11.0</td>\n",
              "      <td>83008.0</td>\n",
              "      <td>0.0</td>\n",
              "      <td>83008.0</td>\n",
              "      <td>Hotel</td>\n",
              "      <td>Hotel</td>\n",
              "      <td>81352.0</td>\n",
              "      <td>25.0</td>\n",
              "      <td>76.9</td>\n",
              "      <td>149.5</td>\n",
              "      <td>6252842.0</td>\n",
              "      <td>0.0</td>\n",
              "      <td>785342.0</td>\n",
              "      <td>35733.0</td>\n",
              "      <td>208.46</td>\n",
              "      <td>2.37</td>\n",
              "      <td>old</td>\n",
              "    </tr>\n",
              "    <tr>\n",
              "      <th>3</th>\n",
              "      <td>12.0</td>\n",
              "      <td>2015.0</td>\n",
              "      <td>NonResidential</td>\n",
              "      <td>Hotel</td>\n",
              "      <td>7.0</td>\n",
              "      <td>DOWNTOWN</td>\n",
              "      <td>1904.0</td>\n",
              "      <td>1.0</td>\n",
              "      <td>15.0</td>\n",
              "      <td>163984.0</td>\n",
              "      <td>0.0</td>\n",
              "      <td>163984.0</td>\n",
              "      <td>Hotel</td>\n",
              "      <td>Hotel</td>\n",
              "      <td>163984.0</td>\n",
              "      <td>46.0</td>\n",
              "      <td>77.0</td>\n",
              "      <td>174.6</td>\n",
              "      <td>12633744.0</td>\n",
              "      <td>0.0</td>\n",
              "      <td>2155728.0</td>\n",
              "      <td>52784.0</td>\n",
              "      <td>331.61</td>\n",
              "      <td>1.83</td>\n",
              "      <td>old</td>\n",
              "    </tr>\n",
              "    <tr>\n",
              "      <th>4</th>\n",
              "      <td>17.0</td>\n",
              "      <td>2015.0</td>\n",
              "      <td>NonResidential</td>\n",
              "      <td>Hotel</td>\n",
              "      <td>7.0</td>\n",
              "      <td>DOWNTOWN</td>\n",
              "      <td>1928.0</td>\n",
              "      <td>1.0</td>\n",
              "      <td>9.0</td>\n",
              "      <td>65009.0</td>\n",
              "      <td>0.0</td>\n",
              "      <td>65009.0</td>\n",
              "      <td>Hotel</td>\n",
              "      <td>Hotel</td>\n",
              "      <td>65009.0</td>\n",
              "      <td>39.0</td>\n",
              "      <td>104.7</td>\n",
              "      <td>166.5</td>\n",
              "      <td>6807227.0</td>\n",
              "      <td>1987163.0</td>\n",
              "      <td>473326.0</td>\n",
              "      <td>32051.0</td>\n",
              "      <td>334.87</td>\n",
              "      <td>5.04</td>\n",
              "      <td>old</td>\n",
              "    </tr>\n",
              "  </tbody>\n",
              "</table>\n",
              "</div>\n",
              "      <button class=\"colab-df-convert\" onclick=\"convertToInteractive('df-9b535c80-11dc-4857-a8cb-1c6d35c4799a')\"\n",
              "              title=\"Convert this dataframe to an interactive table.\"\n",
              "              style=\"display:none;\">\n",
              "        \n",
              "  <svg xmlns=\"http://www.w3.org/2000/svg\" height=\"24px\"viewBox=\"0 0 24 24\"\n",
              "       width=\"24px\">\n",
              "    <path d=\"M0 0h24v24H0V0z\" fill=\"none\"/>\n",
              "    <path d=\"M18.56 5.44l.94 2.06.94-2.06 2.06-.94-2.06-.94-.94-2.06-.94 2.06-2.06.94zm-11 1L8.5 8.5l.94-2.06 2.06-.94-2.06-.94L8.5 2.5l-.94 2.06-2.06.94zm10 10l.94 2.06.94-2.06 2.06-.94-2.06-.94-.94-2.06-.94 2.06-2.06.94z\"/><path d=\"M17.41 7.96l-1.37-1.37c-.4-.4-.92-.59-1.43-.59-.52 0-1.04.2-1.43.59L10.3 9.45l-7.72 7.72c-.78.78-.78 2.05 0 2.83L4 21.41c.39.39.9.59 1.41.59.51 0 1.02-.2 1.41-.59l7.78-7.78 2.81-2.81c.8-.78.8-2.07 0-2.86zM5.41 20L4 18.59l7.72-7.72 1.47 1.35L5.41 20z\"/>\n",
              "  </svg>\n",
              "      </button>\n",
              "      \n",
              "  <style>\n",
              "    .colab-df-container {\n",
              "      display:flex;\n",
              "      flex-wrap:wrap;\n",
              "      gap: 12px;\n",
              "    }\n",
              "\n",
              "    .colab-df-convert {\n",
              "      background-color: #E8F0FE;\n",
              "      border: none;\n",
              "      border-radius: 50%;\n",
              "      cursor: pointer;\n",
              "      display: none;\n",
              "      fill: #1967D2;\n",
              "      height: 32px;\n",
              "      padding: 0 0 0 0;\n",
              "      width: 32px;\n",
              "    }\n",
              "\n",
              "    .colab-df-convert:hover {\n",
              "      background-color: #E2EBFA;\n",
              "      box-shadow: 0px 1px 2px rgba(60, 64, 67, 0.3), 0px 1px 3px 1px rgba(60, 64, 67, 0.15);\n",
              "      fill: #174EA6;\n",
              "    }\n",
              "\n",
              "    [theme=dark] .colab-df-convert {\n",
              "      background-color: #3B4455;\n",
              "      fill: #D2E3FC;\n",
              "    }\n",
              "\n",
              "    [theme=dark] .colab-df-convert:hover {\n",
              "      background-color: #434B5C;\n",
              "      box-shadow: 0px 1px 3px 1px rgba(0, 0, 0, 0.15);\n",
              "      filter: drop-shadow(0px 1px 2px rgba(0, 0, 0, 0.3));\n",
              "      fill: #FFFFFF;\n",
              "    }\n",
              "  </style>\n",
              "\n",
              "      <script>\n",
              "        const buttonEl =\n",
              "          document.querySelector('#df-9b535c80-11dc-4857-a8cb-1c6d35c4799a button.colab-df-convert');\n",
              "        buttonEl.style.display =\n",
              "          google.colab.kernel.accessAllowed ? 'block' : 'none';\n",
              "\n",
              "        async function convertToInteractive(key) {\n",
              "          const element = document.querySelector('#df-9b535c80-11dc-4857-a8cb-1c6d35c4799a');\n",
              "          const dataTable =\n",
              "            await google.colab.kernel.invokeFunction('convertToInteractive',\n",
              "                                                     [key], {});\n",
              "          if (!dataTable) return;\n",
              "\n",
              "          const docLinkHtml = 'Like what you see? Visit the ' +\n",
              "            '<a target=\"_blank\" href=https://colab.research.google.com/notebooks/data_table.ipynb>data table notebook</a>'\n",
              "            + ' to learn more about interactive tables.';\n",
              "          element.innerHTML = '';\n",
              "          dataTable['output_type'] = 'display_data';\n",
              "          await google.colab.output.renderOutput(dataTable, element);\n",
              "          const docLink = document.createElement('div');\n",
              "          docLink.innerHTML = docLinkHtml;\n",
              "          element.appendChild(docLink);\n",
              "        }\n",
              "      </script>\n",
              "    </div>\n",
              "  </div>\n",
              "  "
            ],
            "text/plain": [
              "   OSEBuildingID  DataYear  ... GHGEmissionsIntensity YearBuilt_age\n",
              "0            1.0    2015.0  ...                  2.64           old\n",
              "1            2.0    2015.0  ...                  2.38           old\n",
              "2           10.0    2015.0  ...                  2.37           old\n",
              "3           12.0    2015.0  ...                  1.83           old\n",
              "4           17.0    2015.0  ...                  5.04           old\n",
              "\n",
              "[5 rows x 25 columns]"
            ]
          },
          "metadata": {},
          "execution_count": 6
        }
      ]
    },
    {
      "cell_type": "code",
      "source": [
        "df.columns"
      ],
      "metadata": {
        "colab": {
          "base_uri": "https://localhost:8080/"
        },
        "id": "EGUDY8HnUAyf",
        "outputId": "ec18b5e4-dece-4457-80c3-42786f8a7edc"
      },
      "execution_count": 7,
      "outputs": [
        {
          "output_type": "execute_result",
          "data": {
            "text/plain": [
              "Index(['OSEBuildingID', 'DataYear', 'BuildingType', 'PrimaryPropertyType',\n",
              "       'CouncilDistrictCode', 'Neighborhood', 'YearBuilt', 'NumberofBuildings',\n",
              "       'NumberofFloors', 'PropertyGFATotal', 'PropertyGFAParking',\n",
              "       'PropertyGFABuilding(s)', 'ListOfAllPropertyUseTypes',\n",
              "       'LargestPropertyUseType', 'LargestPropertyUseTypeGFA',\n",
              "       'ENERGYSTARScore', 'SiteEUI(kBtu/sf)', 'SourceEUI(kBtu/sf)',\n",
              "       'SiteEnergyUse(kBtu)', 'SteamUse(kBtu)', 'Electricity(kWh)',\n",
              "       'NaturalGas(therms)', 'TotalGHGEmissions', 'GHGEmissionsIntensity',\n",
              "       'YearBuilt_age'],\n",
              "      dtype='object')"
            ]
          },
          "metadata": {},
          "execution_count": 7
        }
      ]
    },
    {
      "cell_type": "markdown",
      "source": [
        "# Création des variables d'intérêt :\n",
        "\n",
        "Dans notre problématique de prédiction des émissions de GES et de consommation, pour moi il y aurait comme variables intéressantes en plus de celles de la databse :\n",
        "  - Isolation des batiments\n",
        "  - Nombre de fenêtre\n",
        "  - Type d'énergie consommée\n",
        "\n",
        "Nous n'avons pas les deux premières et aucun moyen par feature engineering de les retrouver à partir des données présentes\n",
        "Pour la dernière on pourrait créer un feature avec le type d'énergie utilisé, on suppose facilement que si le batiment utilise \"Steam\", \"Electricity\" ou \"NaturalGAS\" sont bilan carbon ne sera pas le même, cependant dans l'AAP il est bien stipulé que le but à long terme est de se passer des relevés de consommation trop couteux, on ne peut donc pas se servir de cette variable\n",
        "\n",
        "En revanche on peut créer ces features là :\n",
        "  - « GFA_per_floor » (en plus de la surface totale et du nombre d'étage, la surface par étage pourrait être une information intéressante pour notre modèle\n",
        "  - « Building_age » (exprime l'âge du batiment directement, ce sera sûrement plus parlant que la date de construction qui ne varie que de 5% (1900 vs 2000)"
      ],
      "metadata": {
        "id": "EWRWEgri8qfk"
      }
    },
    {
      "cell_type": "code",
      "source": [
        "df['GFA_per_floor'] = df['PropertyGFATotal'] / df['NumberofFloors']\n",
        "df['Building_age'] = 2022 - df['YearBuilt']"
      ],
      "metadata": {
        "id": "R3xTkrScVUTE"
      },
      "execution_count": 8,
      "outputs": []
    },
    {
      "cell_type": "code",
      "source": [
        "df.describe()"
      ],
      "metadata": {
        "colab": {
          "base_uri": "https://localhost:8080/",
          "height": 361
        },
        "id": "q3stmOIg1iEG",
        "outputId": "68eb483b-d9a7-4b0a-d715-ba94daa29e72"
      },
      "execution_count": 9,
      "outputs": [
        {
          "output_type": "execute_result",
          "data": {
            "text/html": [
              "\n",
              "  <div id=\"df-ff8368d3-c2fa-437d-8e80-12315cd2a919\">\n",
              "    <div class=\"colab-df-container\">\n",
              "      <div>\n",
              "<style scoped>\n",
              "    .dataframe tbody tr th:only-of-type {\n",
              "        vertical-align: middle;\n",
              "    }\n",
              "\n",
              "    .dataframe tbody tr th {\n",
              "        vertical-align: top;\n",
              "    }\n",
              "\n",
              "    .dataframe thead th {\n",
              "        text-align: right;\n",
              "    }\n",
              "</style>\n",
              "<table border=\"1\" class=\"dataframe\">\n",
              "  <thead>\n",
              "    <tr style=\"text-align: right;\">\n",
              "      <th></th>\n",
              "      <th>OSEBuildingID</th>\n",
              "      <th>DataYear</th>\n",
              "      <th>CouncilDistrictCode</th>\n",
              "      <th>YearBuilt</th>\n",
              "      <th>NumberofBuildings</th>\n",
              "      <th>NumberofFloors</th>\n",
              "      <th>PropertyGFATotal</th>\n",
              "      <th>PropertyGFAParking</th>\n",
              "      <th>PropertyGFABuilding(s)</th>\n",
              "      <th>LargestPropertyUseTypeGFA</th>\n",
              "      <th>ENERGYSTARScore</th>\n",
              "      <th>SiteEUI(kBtu/sf)</th>\n",
              "      <th>SourceEUI(kBtu/sf)</th>\n",
              "      <th>SiteEnergyUse(kBtu)</th>\n",
              "      <th>SteamUse(kBtu)</th>\n",
              "      <th>Electricity(kWh)</th>\n",
              "      <th>NaturalGas(therms)</th>\n",
              "      <th>TotalGHGEmissions</th>\n",
              "      <th>GHGEmissionsIntensity</th>\n",
              "      <th>GFA_per_floor</th>\n",
              "      <th>Building_age</th>\n",
              "    </tr>\n",
              "  </thead>\n",
              "  <tbody>\n",
              "    <tr>\n",
              "      <th>count</th>\n",
              "      <td>1532.000000</td>\n",
              "      <td>1532.000000</td>\n",
              "      <td>1532.000000</td>\n",
              "      <td>1532.000000</td>\n",
              "      <td>1532.0</td>\n",
              "      <td>1532.000000</td>\n",
              "      <td>1532.000000</td>\n",
              "      <td>1532.000000</td>\n",
              "      <td>1532.000000</td>\n",
              "      <td>1532.000000</td>\n",
              "      <td>1532.000000</td>\n",
              "      <td>1532.000000</td>\n",
              "      <td>1532.000000</td>\n",
              "      <td>1.532000e+03</td>\n",
              "      <td>1.532000e+03</td>\n",
              "      <td>1.532000e+03</td>\n",
              "      <td>1532.000000</td>\n",
              "      <td>1532.000000</td>\n",
              "      <td>1532.000000</td>\n",
              "      <td>1532.000000</td>\n",
              "      <td>1532.000000</td>\n",
              "    </tr>\n",
              "    <tr>\n",
              "      <th>mean</th>\n",
              "      <td>15189.592037</td>\n",
              "      <td>2015.490209</td>\n",
              "      <td>4.344648</td>\n",
              "      <td>1958.757180</td>\n",
              "      <td>1.0</td>\n",
              "      <td>3.355744</td>\n",
              "      <td>74082.328982</td>\n",
              "      <td>6774.404047</td>\n",
              "      <td>67307.924935</td>\n",
              "      <td>62530.179504</td>\n",
              "      <td>66.627285</td>\n",
              "      <td>51.555809</td>\n",
              "      <td>129.475261</td>\n",
              "      <td>3.612240e+06</td>\n",
              "      <td>9.941527e+04</td>\n",
              "      <td>7.823197e+05</td>\n",
              "      <td>8345.889858</td>\n",
              "      <td>70.607134</td>\n",
              "      <td>0.966397</td>\n",
              "      <td>29293.260956</td>\n",
              "      <td>63.242820</td>\n",
              "    </tr>\n",
              "    <tr>\n",
              "      <th>std</th>\n",
              "      <td>12450.877949</td>\n",
              "      <td>0.500067</td>\n",
              "      <td>2.194945</td>\n",
              "      <td>32.541263</td>\n",
              "      <td>0.0</td>\n",
              "      <td>2.758174</td>\n",
              "      <td>66720.168681</td>\n",
              "      <td>17959.627448</td>\n",
              "      <td>59857.023820</td>\n",
              "      <td>54490.822868</td>\n",
              "      <td>25.497303</td>\n",
              "      <td>31.033147</td>\n",
              "      <td>80.447218</td>\n",
              "      <td>4.067234e+06</td>\n",
              "      <td>5.768289e+05</td>\n",
              "      <td>1.009597e+06</td>\n",
              "      <td>13863.269932</td>\n",
              "      <td>93.478450</td>\n",
              "      <td>1.022007</td>\n",
              "      <td>31827.396892</td>\n",
              "      <td>32.541263</td>\n",
              "    </tr>\n",
              "    <tr>\n",
              "      <th>min</th>\n",
              "      <td>1.000000</td>\n",
              "      <td>2015.000000</td>\n",
              "      <td>1.000000</td>\n",
              "      <td>1900.000000</td>\n",
              "      <td>1.0</td>\n",
              "      <td>1.000000</td>\n",
              "      <td>16300.000000</td>\n",
              "      <td>0.000000</td>\n",
              "      <td>16200.000000</td>\n",
              "      <td>8061.000000</td>\n",
              "      <td>7.000000</td>\n",
              "      <td>1.800000</td>\n",
              "      <td>0.000000</td>\n",
              "      <td>4.394300e+04</td>\n",
              "      <td>0.000000e+00</td>\n",
              "      <td>0.000000e+00</td>\n",
              "      <td>0.000000</td>\n",
              "      <td>0.000000</td>\n",
              "      <td>0.000000</td>\n",
              "      <td>3294.545455</td>\n",
              "      <td>7.000000</td>\n",
              "    </tr>\n",
              "    <tr>\n",
              "      <th>25%</th>\n",
              "      <td>611.000000</td>\n",
              "      <td>2015.000000</td>\n",
              "      <td>2.000000</td>\n",
              "      <td>1928.000000</td>\n",
              "      <td>1.0</td>\n",
              "      <td>1.000000</td>\n",
              "      <td>28846.250000</td>\n",
              "      <td>0.000000</td>\n",
              "      <td>28008.500000</td>\n",
              "      <td>25981.750000</td>\n",
              "      <td>50.750000</td>\n",
              "      <td>29.900000</td>\n",
              "      <td>68.475000</td>\n",
              "      <td>1.069189e+06</td>\n",
              "      <td>0.000000e+00</td>\n",
              "      <td>1.821662e+05</td>\n",
              "      <td>0.000000</td>\n",
              "      <td>15.492500</td>\n",
              "      <td>0.220000</td>\n",
              "      <td>12113.125000</td>\n",
              "      <td>37.750000</td>\n",
              "    </tr>\n",
              "    <tr>\n",
              "      <th>50%</th>\n",
              "      <td>20871.000000</td>\n",
              "      <td>2015.000000</td>\n",
              "      <td>4.000000</td>\n",
              "      <td>1963.000000</td>\n",
              "      <td>1.0</td>\n",
              "      <td>3.000000</td>\n",
              "      <td>48112.000000</td>\n",
              "      <td>0.000000</td>\n",
              "      <td>45864.000000</td>\n",
              "      <td>41732.500000</td>\n",
              "      <td>72.000000</td>\n",
              "      <td>47.099999</td>\n",
              "      <td>118.950001</td>\n",
              "      <td>2.067009e+06</td>\n",
              "      <td>0.000000e+00</td>\n",
              "      <td>3.939894e+05</td>\n",
              "      <td>3240.865112</td>\n",
              "      <td>37.420000</td>\n",
              "      <td>0.610000</td>\n",
              "      <td>20648.833333</td>\n",
              "      <td>59.000000</td>\n",
              "    </tr>\n",
              "    <tr>\n",
              "      <th>75%</th>\n",
              "      <td>24218.000000</td>\n",
              "      <td>2016.000000</td>\n",
              "      <td>7.000000</td>\n",
              "      <td>1984.250000</td>\n",
              "      <td>1.0</td>\n",
              "      <td>4.000000</td>\n",
              "      <td>94002.000000</td>\n",
              "      <td>0.000000</td>\n",
              "      <td>83008.000000</td>\n",
              "      <td>79384.000000</td>\n",
              "      <td>88.000000</td>\n",
              "      <td>66.425000</td>\n",
              "      <td>171.125005</td>\n",
              "      <td>4.712360e+06</td>\n",
              "      <td>0.000000e+00</td>\n",
              "      <td>9.600228e+05</td>\n",
              "      <td>9936.879883</td>\n",
              "      <td>82.295000</td>\n",
              "      <td>1.350000</td>\n",
              "      <td>33514.000000</td>\n",
              "      <td>94.000000</td>\n",
              "    </tr>\n",
              "    <tr>\n",
              "      <th>max</th>\n",
              "      <td>50081.000000</td>\n",
              "      <td>2016.000000</td>\n",
              "      <td>7.000000</td>\n",
              "      <td>2015.000000</td>\n",
              "      <td>1.0</td>\n",
              "      <td>17.000000</td>\n",
              "      <td>411584.000000</td>\n",
              "      <td>101342.000000</td>\n",
              "      <td>411584.000000</td>\n",
              "      <td>388934.000000</td>\n",
              "      <td>100.000000</td>\n",
              "      <td>216.000000</td>\n",
              "      <td>540.500000</td>\n",
              "      <td>2.843306e+07</td>\n",
              "      <td>1.092107e+07</td>\n",
              "      <td>8.306096e+06</td>\n",
              "      <td>122680.000000</td>\n",
              "      <td>940.470000</td>\n",
              "      <td>5.540000</td>\n",
              "      <td>411584.000000</td>\n",
              "      <td>122.000000</td>\n",
              "    </tr>\n",
              "  </tbody>\n",
              "</table>\n",
              "</div>\n",
              "      <button class=\"colab-df-convert\" onclick=\"convertToInteractive('df-ff8368d3-c2fa-437d-8e80-12315cd2a919')\"\n",
              "              title=\"Convert this dataframe to an interactive table.\"\n",
              "              style=\"display:none;\">\n",
              "        \n",
              "  <svg xmlns=\"http://www.w3.org/2000/svg\" height=\"24px\"viewBox=\"0 0 24 24\"\n",
              "       width=\"24px\">\n",
              "    <path d=\"M0 0h24v24H0V0z\" fill=\"none\"/>\n",
              "    <path d=\"M18.56 5.44l.94 2.06.94-2.06 2.06-.94-2.06-.94-.94-2.06-.94 2.06-2.06.94zm-11 1L8.5 8.5l.94-2.06 2.06-.94-2.06-.94L8.5 2.5l-.94 2.06-2.06.94zm10 10l.94 2.06.94-2.06 2.06-.94-2.06-.94-.94-2.06-.94 2.06-2.06.94z\"/><path d=\"M17.41 7.96l-1.37-1.37c-.4-.4-.92-.59-1.43-.59-.52 0-1.04.2-1.43.59L10.3 9.45l-7.72 7.72c-.78.78-.78 2.05 0 2.83L4 21.41c.39.39.9.59 1.41.59.51 0 1.02-.2 1.41-.59l7.78-7.78 2.81-2.81c.8-.78.8-2.07 0-2.86zM5.41 20L4 18.59l7.72-7.72 1.47 1.35L5.41 20z\"/>\n",
              "  </svg>\n",
              "      </button>\n",
              "      \n",
              "  <style>\n",
              "    .colab-df-container {\n",
              "      display:flex;\n",
              "      flex-wrap:wrap;\n",
              "      gap: 12px;\n",
              "    }\n",
              "\n",
              "    .colab-df-convert {\n",
              "      background-color: #E8F0FE;\n",
              "      border: none;\n",
              "      border-radius: 50%;\n",
              "      cursor: pointer;\n",
              "      display: none;\n",
              "      fill: #1967D2;\n",
              "      height: 32px;\n",
              "      padding: 0 0 0 0;\n",
              "      width: 32px;\n",
              "    }\n",
              "\n",
              "    .colab-df-convert:hover {\n",
              "      background-color: #E2EBFA;\n",
              "      box-shadow: 0px 1px 2px rgba(60, 64, 67, 0.3), 0px 1px 3px 1px rgba(60, 64, 67, 0.15);\n",
              "      fill: #174EA6;\n",
              "    }\n",
              "\n",
              "    [theme=dark] .colab-df-convert {\n",
              "      background-color: #3B4455;\n",
              "      fill: #D2E3FC;\n",
              "    }\n",
              "\n",
              "    [theme=dark] .colab-df-convert:hover {\n",
              "      background-color: #434B5C;\n",
              "      box-shadow: 0px 1px 3px 1px rgba(0, 0, 0, 0.15);\n",
              "      filter: drop-shadow(0px 1px 2px rgba(0, 0, 0, 0.3));\n",
              "      fill: #FFFFFF;\n",
              "    }\n",
              "  </style>\n",
              "\n",
              "      <script>\n",
              "        const buttonEl =\n",
              "          document.querySelector('#df-ff8368d3-c2fa-437d-8e80-12315cd2a919 button.colab-df-convert');\n",
              "        buttonEl.style.display =\n",
              "          google.colab.kernel.accessAllowed ? 'block' : 'none';\n",
              "\n",
              "        async function convertToInteractive(key) {\n",
              "          const element = document.querySelector('#df-ff8368d3-c2fa-437d-8e80-12315cd2a919');\n",
              "          const dataTable =\n",
              "            await google.colab.kernel.invokeFunction('convertToInteractive',\n",
              "                                                     [key], {});\n",
              "          if (!dataTable) return;\n",
              "\n",
              "          const docLinkHtml = 'Like what you see? Visit the ' +\n",
              "            '<a target=\"_blank\" href=https://colab.research.google.com/notebooks/data_table.ipynb>data table notebook</a>'\n",
              "            + ' to learn more about interactive tables.';\n",
              "          element.innerHTML = '';\n",
              "          dataTable['output_type'] = 'display_data';\n",
              "          await google.colab.output.renderOutput(dataTable, element);\n",
              "          const docLink = document.createElement('div');\n",
              "          docLink.innerHTML = docLinkHtml;\n",
              "          element.appendChild(docLink);\n",
              "        }\n",
              "      </script>\n",
              "    </div>\n",
              "  </div>\n",
              "  "
            ],
            "text/plain": [
              "       OSEBuildingID     DataYear  ...  GFA_per_floor  Building_age\n",
              "count    1532.000000  1532.000000  ...    1532.000000   1532.000000\n",
              "mean    15189.592037  2015.490209  ...   29293.260956     63.242820\n",
              "std     12450.877949     0.500067  ...   31827.396892     32.541263\n",
              "min         1.000000  2015.000000  ...    3294.545455      7.000000\n",
              "25%       611.000000  2015.000000  ...   12113.125000     37.750000\n",
              "50%     20871.000000  2015.000000  ...   20648.833333     59.000000\n",
              "75%     24218.000000  2016.000000  ...   33514.000000     94.000000\n",
              "max     50081.000000  2016.000000  ...  411584.000000    122.000000\n",
              "\n",
              "[8 rows x 21 columns]"
            ]
          },
          "metadata": {},
          "execution_count": 9
        }
      ]
    },
    {
      "cell_type": "markdown",
      "source": [
        "# Préparation du jeu de données pour l'entrainement des modèles :"
      ],
      "metadata": {
        "id": "bTiySuvvxljZ"
      }
    },
    {
      "cell_type": "markdown",
      "source": [
        "La problématique est de prédire la consommation en énergie (variable *SiteEnergyUse(kBtu)*) et les émissions de GES (variable *TotalGHGEmissions*) sans avoir accès aux relevés qui sont couteux à obtenir (variables : *SiteEUI(kBtu/sf)* , *SourceEUI(kBtu/sf)*, *SteamUse(kBtu)*, *Electricity(kWh)*, *NaturalGas(therms)*)\n",
        "\n",
        "Il faut donc exclures ces dernières variables pour l'entrainement des modèles"
      ],
      "metadata": {
        "id": "xoyHAmYLypR-"
      }
    },
    {
      "cell_type": "code",
      "source": [
        "data = df.drop(['SiteEUI(kBtu/sf)'], axis=1)\n",
        "data = data.drop(['SourceEUI(kBtu/sf)'], axis=1)\n",
        "data = data.drop(['SteamUse(kBtu)'], axis=1)\n",
        "data = data.drop(['Electricity(kWh)'], axis=1)\n",
        "data = data.drop(['NaturalGas(therms)'], axis=1)"
      ],
      "metadata": {
        "id": "Mr_NliU3xpTi"
      },
      "execution_count": 10,
      "outputs": []
    },
    {
      "cell_type": "markdown",
      "source": [
        "La variable *GHGEmissionsIntensity* est intéressante mais ne dois pas être utilisée pour les modélisations, il faut donc la supprimer du dataset utilisé pour faire le modèle en la gardant dans une autre dataframe"
      ],
      "metadata": {
        "id": "WfCQpiZF3jkF"
      }
    },
    {
      "cell_type": "code",
      "source": [
        "df_GES_Intensity = data[\"GHGEmissionsIntensity\"]\n",
        "data = data.drop(['GHGEmissionsIntensity'], axis=1)"
      ],
      "metadata": {
        "id": "DnW8jSrs3U-9"
      },
      "execution_count": 11,
      "outputs": []
    },
    {
      "cell_type": "markdown",
      "source": [
        "C'est aussi vrai pour la variable *ENERGYSTARScore*, elle est intéressante mais ne dois pas être utilisée pour les modélisations, il faut donc la supprimer du dataset utilisé pour faire le modèle en la gardant dans une autre dataframe"
      ],
      "metadata": {
        "id": "2Bug5gAj35Sp"
      }
    },
    {
      "cell_type": "code",
      "source": [
        "df_EnergyStarScore = data[\"ENERGYSTARScore\"]\n",
        "data = data.drop(['ENERGYSTARScore'], axis=1)"
      ],
      "metadata": {
        "id": "AGUrci1X4GzM"
      },
      "execution_count": 12,
      "outputs": []
    },
    {
      "cell_type": "markdown",
      "source": [
        "Suppression des dernières variables non utilisables pour le modèle"
      ],
      "metadata": {
        "id": "1oJJEhSg4iQY"
      }
    },
    {
      "cell_type": "code",
      "source": [
        "data = data.drop(['DataYear'], axis=1)\n",
        "data = data.drop(['YearBuilt'], axis=1)\n",
        "data = data.drop(['NumberofBuildings'], axis=1)\n",
        "data = data.drop(['OSEBuildingID'], axis=1)\n",
        "data = data.drop(['BuildingType'], axis=1)\n",
        "data = data.drop(['ListOfAllPropertyUseTypes'], axis=1)"
      ],
      "metadata": {
        "id": "rB4hNg524o5C"
      },
      "execution_count": 13,
      "outputs": []
    },
    {
      "cell_type": "markdown",
      "source": [
        "Préparation des données utilisées pour les modèles de machine learning"
      ],
      "metadata": {
        "id": "yKZMdKu6Ujeo"
      }
    },
    {
      "cell_type": "code",
      "source": [
        "to_predict_features = ['SiteEnergyUse(kBtu)', 'TotalGHGEmissions']\n",
        "Y = data[to_predict_features]\n",
        "X = data.drop(to_predict_features, axis=1)"
      ],
      "metadata": {
        "id": "eUUprYhm2DWD"
      },
      "execution_count": 14,
      "outputs": []
    },
    {
      "cell_type": "markdown",
      "source": [
        "Split des features quantitatives et qualitatives :"
      ],
      "metadata": {
        "id": "dV_o8fJsUX81"
      }
    },
    {
      "cell_type": "code",
      "source": [
        "features_Quant = ['CouncilDistrictCode', 'NumberofFloors','PropertyGFATotal', 'PropertyGFAParking', 'PropertyGFABuilding(s)', 'LargestPropertyUseTypeGFA', 'GFA_per_floor','Building_age']\n",
        "features_Qual = ['PrimaryPropertyType', 'Neighborhood', 'LargestPropertyUseType', 'YearBuilt_age']"
      ],
      "metadata": {
        "id": "9M3rQBZ3CzmS"
      },
      "execution_count": 15,
      "outputs": []
    },
    {
      "cell_type": "code",
      "source": [
        "X.describe()"
      ],
      "metadata": {
        "colab": {
          "base_uri": "https://localhost:8080/",
          "height": 297
        },
        "id": "fiEZaFC93IrG",
        "outputId": "3eddcff4-7b50-48b7-df8c-b1b6d9ff7480"
      },
      "execution_count": 16,
      "outputs": [
        {
          "output_type": "execute_result",
          "data": {
            "text/html": [
              "\n",
              "  <div id=\"df-9b1c7982-3d3a-4ea0-bd99-be32696baeea\">\n",
              "    <div class=\"colab-df-container\">\n",
              "      <div>\n",
              "<style scoped>\n",
              "    .dataframe tbody tr th:only-of-type {\n",
              "        vertical-align: middle;\n",
              "    }\n",
              "\n",
              "    .dataframe tbody tr th {\n",
              "        vertical-align: top;\n",
              "    }\n",
              "\n",
              "    .dataframe thead th {\n",
              "        text-align: right;\n",
              "    }\n",
              "</style>\n",
              "<table border=\"1\" class=\"dataframe\">\n",
              "  <thead>\n",
              "    <tr style=\"text-align: right;\">\n",
              "      <th></th>\n",
              "      <th>CouncilDistrictCode</th>\n",
              "      <th>NumberofFloors</th>\n",
              "      <th>PropertyGFATotal</th>\n",
              "      <th>PropertyGFAParking</th>\n",
              "      <th>PropertyGFABuilding(s)</th>\n",
              "      <th>LargestPropertyUseTypeGFA</th>\n",
              "      <th>GFA_per_floor</th>\n",
              "      <th>Building_age</th>\n",
              "    </tr>\n",
              "  </thead>\n",
              "  <tbody>\n",
              "    <tr>\n",
              "      <th>count</th>\n",
              "      <td>1532.000000</td>\n",
              "      <td>1532.000000</td>\n",
              "      <td>1532.000000</td>\n",
              "      <td>1532.000000</td>\n",
              "      <td>1532.000000</td>\n",
              "      <td>1532.000000</td>\n",
              "      <td>1532.000000</td>\n",
              "      <td>1532.000000</td>\n",
              "    </tr>\n",
              "    <tr>\n",
              "      <th>mean</th>\n",
              "      <td>4.344648</td>\n",
              "      <td>3.355744</td>\n",
              "      <td>74082.328982</td>\n",
              "      <td>6774.404047</td>\n",
              "      <td>67307.924935</td>\n",
              "      <td>62530.179504</td>\n",
              "      <td>29293.260956</td>\n",
              "      <td>63.242820</td>\n",
              "    </tr>\n",
              "    <tr>\n",
              "      <th>std</th>\n",
              "      <td>2.194945</td>\n",
              "      <td>2.758174</td>\n",
              "      <td>66720.168681</td>\n",
              "      <td>17959.627448</td>\n",
              "      <td>59857.023820</td>\n",
              "      <td>54490.822868</td>\n",
              "      <td>31827.396892</td>\n",
              "      <td>32.541263</td>\n",
              "    </tr>\n",
              "    <tr>\n",
              "      <th>min</th>\n",
              "      <td>1.000000</td>\n",
              "      <td>1.000000</td>\n",
              "      <td>16300.000000</td>\n",
              "      <td>0.000000</td>\n",
              "      <td>16200.000000</td>\n",
              "      <td>8061.000000</td>\n",
              "      <td>3294.545455</td>\n",
              "      <td>7.000000</td>\n",
              "    </tr>\n",
              "    <tr>\n",
              "      <th>25%</th>\n",
              "      <td>2.000000</td>\n",
              "      <td>1.000000</td>\n",
              "      <td>28846.250000</td>\n",
              "      <td>0.000000</td>\n",
              "      <td>28008.500000</td>\n",
              "      <td>25981.750000</td>\n",
              "      <td>12113.125000</td>\n",
              "      <td>37.750000</td>\n",
              "    </tr>\n",
              "    <tr>\n",
              "      <th>50%</th>\n",
              "      <td>4.000000</td>\n",
              "      <td>3.000000</td>\n",
              "      <td>48112.000000</td>\n",
              "      <td>0.000000</td>\n",
              "      <td>45864.000000</td>\n",
              "      <td>41732.500000</td>\n",
              "      <td>20648.833333</td>\n",
              "      <td>59.000000</td>\n",
              "    </tr>\n",
              "    <tr>\n",
              "      <th>75%</th>\n",
              "      <td>7.000000</td>\n",
              "      <td>4.000000</td>\n",
              "      <td>94002.000000</td>\n",
              "      <td>0.000000</td>\n",
              "      <td>83008.000000</td>\n",
              "      <td>79384.000000</td>\n",
              "      <td>33514.000000</td>\n",
              "      <td>94.000000</td>\n",
              "    </tr>\n",
              "    <tr>\n",
              "      <th>max</th>\n",
              "      <td>7.000000</td>\n",
              "      <td>17.000000</td>\n",
              "      <td>411584.000000</td>\n",
              "      <td>101342.000000</td>\n",
              "      <td>411584.000000</td>\n",
              "      <td>388934.000000</td>\n",
              "      <td>411584.000000</td>\n",
              "      <td>122.000000</td>\n",
              "    </tr>\n",
              "  </tbody>\n",
              "</table>\n",
              "</div>\n",
              "      <button class=\"colab-df-convert\" onclick=\"convertToInteractive('df-9b1c7982-3d3a-4ea0-bd99-be32696baeea')\"\n",
              "              title=\"Convert this dataframe to an interactive table.\"\n",
              "              style=\"display:none;\">\n",
              "        \n",
              "  <svg xmlns=\"http://www.w3.org/2000/svg\" height=\"24px\"viewBox=\"0 0 24 24\"\n",
              "       width=\"24px\">\n",
              "    <path d=\"M0 0h24v24H0V0z\" fill=\"none\"/>\n",
              "    <path d=\"M18.56 5.44l.94 2.06.94-2.06 2.06-.94-2.06-.94-.94-2.06-.94 2.06-2.06.94zm-11 1L8.5 8.5l.94-2.06 2.06-.94-2.06-.94L8.5 2.5l-.94 2.06-2.06.94zm10 10l.94 2.06.94-2.06 2.06-.94-2.06-.94-.94-2.06-.94 2.06-2.06.94z\"/><path d=\"M17.41 7.96l-1.37-1.37c-.4-.4-.92-.59-1.43-.59-.52 0-1.04.2-1.43.59L10.3 9.45l-7.72 7.72c-.78.78-.78 2.05 0 2.83L4 21.41c.39.39.9.59 1.41.59.51 0 1.02-.2 1.41-.59l7.78-7.78 2.81-2.81c.8-.78.8-2.07 0-2.86zM5.41 20L4 18.59l7.72-7.72 1.47 1.35L5.41 20z\"/>\n",
              "  </svg>\n",
              "      </button>\n",
              "      \n",
              "  <style>\n",
              "    .colab-df-container {\n",
              "      display:flex;\n",
              "      flex-wrap:wrap;\n",
              "      gap: 12px;\n",
              "    }\n",
              "\n",
              "    .colab-df-convert {\n",
              "      background-color: #E8F0FE;\n",
              "      border: none;\n",
              "      border-radius: 50%;\n",
              "      cursor: pointer;\n",
              "      display: none;\n",
              "      fill: #1967D2;\n",
              "      height: 32px;\n",
              "      padding: 0 0 0 0;\n",
              "      width: 32px;\n",
              "    }\n",
              "\n",
              "    .colab-df-convert:hover {\n",
              "      background-color: #E2EBFA;\n",
              "      box-shadow: 0px 1px 2px rgba(60, 64, 67, 0.3), 0px 1px 3px 1px rgba(60, 64, 67, 0.15);\n",
              "      fill: #174EA6;\n",
              "    }\n",
              "\n",
              "    [theme=dark] .colab-df-convert {\n",
              "      background-color: #3B4455;\n",
              "      fill: #D2E3FC;\n",
              "    }\n",
              "\n",
              "    [theme=dark] .colab-df-convert:hover {\n",
              "      background-color: #434B5C;\n",
              "      box-shadow: 0px 1px 3px 1px rgba(0, 0, 0, 0.15);\n",
              "      filter: drop-shadow(0px 1px 2px rgba(0, 0, 0, 0.3));\n",
              "      fill: #FFFFFF;\n",
              "    }\n",
              "  </style>\n",
              "\n",
              "      <script>\n",
              "        const buttonEl =\n",
              "          document.querySelector('#df-9b1c7982-3d3a-4ea0-bd99-be32696baeea button.colab-df-convert');\n",
              "        buttonEl.style.display =\n",
              "          google.colab.kernel.accessAllowed ? 'block' : 'none';\n",
              "\n",
              "        async function convertToInteractive(key) {\n",
              "          const element = document.querySelector('#df-9b1c7982-3d3a-4ea0-bd99-be32696baeea');\n",
              "          const dataTable =\n",
              "            await google.colab.kernel.invokeFunction('convertToInteractive',\n",
              "                                                     [key], {});\n",
              "          if (!dataTable) return;\n",
              "\n",
              "          const docLinkHtml = 'Like what you see? Visit the ' +\n",
              "            '<a target=\"_blank\" href=https://colab.research.google.com/notebooks/data_table.ipynb>data table notebook</a>'\n",
              "            + ' to learn more about interactive tables.';\n",
              "          element.innerHTML = '';\n",
              "          dataTable['output_type'] = 'display_data';\n",
              "          await google.colab.output.renderOutput(dataTable, element);\n",
              "          const docLink = document.createElement('div');\n",
              "          docLink.innerHTML = docLinkHtml;\n",
              "          element.appendChild(docLink);\n",
              "        }\n",
              "      </script>\n",
              "    </div>\n",
              "  </div>\n",
              "  "
            ],
            "text/plain": [
              "       CouncilDistrictCode  NumberofFloors  ...  GFA_per_floor  Building_age\n",
              "count          1532.000000     1532.000000  ...    1532.000000   1532.000000\n",
              "mean              4.344648        3.355744  ...   29293.260956     63.242820\n",
              "std               2.194945        2.758174  ...   31827.396892     32.541263\n",
              "min               1.000000        1.000000  ...    3294.545455      7.000000\n",
              "25%               2.000000        1.000000  ...   12113.125000     37.750000\n",
              "50%               4.000000        3.000000  ...   20648.833333     59.000000\n",
              "75%               7.000000        4.000000  ...   33514.000000     94.000000\n",
              "max               7.000000       17.000000  ...  411584.000000    122.000000\n",
              "\n",
              "[8 rows x 8 columns]"
            ]
          },
          "metadata": {},
          "execution_count": 16
        }
      ]
    },
    {
      "cell_type": "code",
      "source": [
        "X.head()"
      ],
      "metadata": {
        "colab": {
          "base_uri": "https://localhost:8080/",
          "height": 268
        },
        "id": "GHGtOfNEELdz",
        "outputId": "0b337bfa-db2a-4b0a-9dbc-8270e3faa83c"
      },
      "execution_count": 17,
      "outputs": [
        {
          "output_type": "execute_result",
          "data": {
            "text/html": [
              "\n",
              "  <div id=\"df-42811ded-8729-4aac-a540-336d4426d5c5\">\n",
              "    <div class=\"colab-df-container\">\n",
              "      <div>\n",
              "<style scoped>\n",
              "    .dataframe tbody tr th:only-of-type {\n",
              "        vertical-align: middle;\n",
              "    }\n",
              "\n",
              "    .dataframe tbody tr th {\n",
              "        vertical-align: top;\n",
              "    }\n",
              "\n",
              "    .dataframe thead th {\n",
              "        text-align: right;\n",
              "    }\n",
              "</style>\n",
              "<table border=\"1\" class=\"dataframe\">\n",
              "  <thead>\n",
              "    <tr style=\"text-align: right;\">\n",
              "      <th></th>\n",
              "      <th>PrimaryPropertyType</th>\n",
              "      <th>CouncilDistrictCode</th>\n",
              "      <th>Neighborhood</th>\n",
              "      <th>NumberofFloors</th>\n",
              "      <th>PropertyGFATotal</th>\n",
              "      <th>PropertyGFAParking</th>\n",
              "      <th>PropertyGFABuilding(s)</th>\n",
              "      <th>LargestPropertyUseType</th>\n",
              "      <th>LargestPropertyUseTypeGFA</th>\n",
              "      <th>YearBuilt_age</th>\n",
              "      <th>GFA_per_floor</th>\n",
              "      <th>Building_age</th>\n",
              "    </tr>\n",
              "  </thead>\n",
              "  <tbody>\n",
              "    <tr>\n",
              "      <th>0</th>\n",
              "      <td>Hotel</td>\n",
              "      <td>7.0</td>\n",
              "      <td>DOWNTOWN</td>\n",
              "      <td>12.0</td>\n",
              "      <td>88434.0</td>\n",
              "      <td>0.0</td>\n",
              "      <td>88434.0</td>\n",
              "      <td>Hotel</td>\n",
              "      <td>88434.0</td>\n",
              "      <td>old</td>\n",
              "      <td>7369.500000</td>\n",
              "      <td>95.0</td>\n",
              "    </tr>\n",
              "    <tr>\n",
              "      <th>1</th>\n",
              "      <td>Hotel</td>\n",
              "      <td>7.0</td>\n",
              "      <td>DOWNTOWN</td>\n",
              "      <td>11.0</td>\n",
              "      <td>103566.0</td>\n",
              "      <td>15064.0</td>\n",
              "      <td>88502.0</td>\n",
              "      <td>Hotel</td>\n",
              "      <td>83880.0</td>\n",
              "      <td>old</td>\n",
              "      <td>9415.090909</td>\n",
              "      <td>26.0</td>\n",
              "    </tr>\n",
              "    <tr>\n",
              "      <th>2</th>\n",
              "      <td>Hotel</td>\n",
              "      <td>7.0</td>\n",
              "      <td>DOWNTOWN</td>\n",
              "      <td>11.0</td>\n",
              "      <td>83008.0</td>\n",
              "      <td>0.0</td>\n",
              "      <td>83008.0</td>\n",
              "      <td>Hotel</td>\n",
              "      <td>81352.0</td>\n",
              "      <td>old</td>\n",
              "      <td>7546.181818</td>\n",
              "      <td>96.0</td>\n",
              "    </tr>\n",
              "    <tr>\n",
              "      <th>3</th>\n",
              "      <td>Hotel</td>\n",
              "      <td>7.0</td>\n",
              "      <td>DOWNTOWN</td>\n",
              "      <td>15.0</td>\n",
              "      <td>163984.0</td>\n",
              "      <td>0.0</td>\n",
              "      <td>163984.0</td>\n",
              "      <td>Hotel</td>\n",
              "      <td>163984.0</td>\n",
              "      <td>old</td>\n",
              "      <td>10932.266667</td>\n",
              "      <td>118.0</td>\n",
              "    </tr>\n",
              "    <tr>\n",
              "      <th>4</th>\n",
              "      <td>Hotel</td>\n",
              "      <td>7.0</td>\n",
              "      <td>DOWNTOWN</td>\n",
              "      <td>9.0</td>\n",
              "      <td>65009.0</td>\n",
              "      <td>0.0</td>\n",
              "      <td>65009.0</td>\n",
              "      <td>Hotel</td>\n",
              "      <td>65009.0</td>\n",
              "      <td>old</td>\n",
              "      <td>7223.222222</td>\n",
              "      <td>94.0</td>\n",
              "    </tr>\n",
              "  </tbody>\n",
              "</table>\n",
              "</div>\n",
              "      <button class=\"colab-df-convert\" onclick=\"convertToInteractive('df-42811ded-8729-4aac-a540-336d4426d5c5')\"\n",
              "              title=\"Convert this dataframe to an interactive table.\"\n",
              "              style=\"display:none;\">\n",
              "        \n",
              "  <svg xmlns=\"http://www.w3.org/2000/svg\" height=\"24px\"viewBox=\"0 0 24 24\"\n",
              "       width=\"24px\">\n",
              "    <path d=\"M0 0h24v24H0V0z\" fill=\"none\"/>\n",
              "    <path d=\"M18.56 5.44l.94 2.06.94-2.06 2.06-.94-2.06-.94-.94-2.06-.94 2.06-2.06.94zm-11 1L8.5 8.5l.94-2.06 2.06-.94-2.06-.94L8.5 2.5l-.94 2.06-2.06.94zm10 10l.94 2.06.94-2.06 2.06-.94-2.06-.94-.94-2.06-.94 2.06-2.06.94z\"/><path d=\"M17.41 7.96l-1.37-1.37c-.4-.4-.92-.59-1.43-.59-.52 0-1.04.2-1.43.59L10.3 9.45l-7.72 7.72c-.78.78-.78 2.05 0 2.83L4 21.41c.39.39.9.59 1.41.59.51 0 1.02-.2 1.41-.59l7.78-7.78 2.81-2.81c.8-.78.8-2.07 0-2.86zM5.41 20L4 18.59l7.72-7.72 1.47 1.35L5.41 20z\"/>\n",
              "  </svg>\n",
              "      </button>\n",
              "      \n",
              "  <style>\n",
              "    .colab-df-container {\n",
              "      display:flex;\n",
              "      flex-wrap:wrap;\n",
              "      gap: 12px;\n",
              "    }\n",
              "\n",
              "    .colab-df-convert {\n",
              "      background-color: #E8F0FE;\n",
              "      border: none;\n",
              "      border-radius: 50%;\n",
              "      cursor: pointer;\n",
              "      display: none;\n",
              "      fill: #1967D2;\n",
              "      height: 32px;\n",
              "      padding: 0 0 0 0;\n",
              "      width: 32px;\n",
              "    }\n",
              "\n",
              "    .colab-df-convert:hover {\n",
              "      background-color: #E2EBFA;\n",
              "      box-shadow: 0px 1px 2px rgba(60, 64, 67, 0.3), 0px 1px 3px 1px rgba(60, 64, 67, 0.15);\n",
              "      fill: #174EA6;\n",
              "    }\n",
              "\n",
              "    [theme=dark] .colab-df-convert {\n",
              "      background-color: #3B4455;\n",
              "      fill: #D2E3FC;\n",
              "    }\n",
              "\n",
              "    [theme=dark] .colab-df-convert:hover {\n",
              "      background-color: #434B5C;\n",
              "      box-shadow: 0px 1px 3px 1px rgba(0, 0, 0, 0.15);\n",
              "      filter: drop-shadow(0px 1px 2px rgba(0, 0, 0, 0.3));\n",
              "      fill: #FFFFFF;\n",
              "    }\n",
              "  </style>\n",
              "\n",
              "      <script>\n",
              "        const buttonEl =\n",
              "          document.querySelector('#df-42811ded-8729-4aac-a540-336d4426d5c5 button.colab-df-convert');\n",
              "        buttonEl.style.display =\n",
              "          google.colab.kernel.accessAllowed ? 'block' : 'none';\n",
              "\n",
              "        async function convertToInteractive(key) {\n",
              "          const element = document.querySelector('#df-42811ded-8729-4aac-a540-336d4426d5c5');\n",
              "          const dataTable =\n",
              "            await google.colab.kernel.invokeFunction('convertToInteractive',\n",
              "                                                     [key], {});\n",
              "          if (!dataTable) return;\n",
              "\n",
              "          const docLinkHtml = 'Like what you see? Visit the ' +\n",
              "            '<a target=\"_blank\" href=https://colab.research.google.com/notebooks/data_table.ipynb>data table notebook</a>'\n",
              "            + ' to learn more about interactive tables.';\n",
              "          element.innerHTML = '';\n",
              "          dataTable['output_type'] = 'display_data';\n",
              "          await google.colab.output.renderOutput(dataTable, element);\n",
              "          const docLink = document.createElement('div');\n",
              "          docLink.innerHTML = docLinkHtml;\n",
              "          element.appendChild(docLink);\n",
              "        }\n",
              "      </script>\n",
              "    </div>\n",
              "  </div>\n",
              "  "
            ],
            "text/plain": [
              "  PrimaryPropertyType  CouncilDistrictCode  ... GFA_per_floor  Building_age\n",
              "0               Hotel                  7.0  ...   7369.500000          95.0\n",
              "1               Hotel                  7.0  ...   9415.090909          26.0\n",
              "2               Hotel                  7.0  ...   7546.181818          96.0\n",
              "3               Hotel                  7.0  ...  10932.266667         118.0\n",
              "4               Hotel                  7.0  ...   7223.222222          94.0\n",
              "\n",
              "[5 rows x 12 columns]"
            ]
          },
          "metadata": {},
          "execution_count": 17
        }
      ]
    },
    {
      "cell_type": "code",
      "source": [
        "Y.describe()"
      ],
      "metadata": {
        "colab": {
          "base_uri": "https://localhost:8080/",
          "height": 297
        },
        "id": "HjqisNyi3Ng0",
        "outputId": "8bd904a7-ea41-494e-c1cf-f11bace500ba"
      },
      "execution_count": 18,
      "outputs": [
        {
          "output_type": "execute_result",
          "data": {
            "text/html": [
              "\n",
              "  <div id=\"df-43164e42-9d6f-479e-962f-83e44905178e\">\n",
              "    <div class=\"colab-df-container\">\n",
              "      <div>\n",
              "<style scoped>\n",
              "    .dataframe tbody tr th:only-of-type {\n",
              "        vertical-align: middle;\n",
              "    }\n",
              "\n",
              "    .dataframe tbody tr th {\n",
              "        vertical-align: top;\n",
              "    }\n",
              "\n",
              "    .dataframe thead th {\n",
              "        text-align: right;\n",
              "    }\n",
              "</style>\n",
              "<table border=\"1\" class=\"dataframe\">\n",
              "  <thead>\n",
              "    <tr style=\"text-align: right;\">\n",
              "      <th></th>\n",
              "      <th>SiteEnergyUse(kBtu)</th>\n",
              "      <th>TotalGHGEmissions</th>\n",
              "    </tr>\n",
              "  </thead>\n",
              "  <tbody>\n",
              "    <tr>\n",
              "      <th>count</th>\n",
              "      <td>1.532000e+03</td>\n",
              "      <td>1532.000000</td>\n",
              "    </tr>\n",
              "    <tr>\n",
              "      <th>mean</th>\n",
              "      <td>3.612240e+06</td>\n",
              "      <td>70.607134</td>\n",
              "    </tr>\n",
              "    <tr>\n",
              "      <th>std</th>\n",
              "      <td>4.067234e+06</td>\n",
              "      <td>93.478450</td>\n",
              "    </tr>\n",
              "    <tr>\n",
              "      <th>min</th>\n",
              "      <td>4.394300e+04</td>\n",
              "      <td>0.000000</td>\n",
              "    </tr>\n",
              "    <tr>\n",
              "      <th>25%</th>\n",
              "      <td>1.069189e+06</td>\n",
              "      <td>15.492500</td>\n",
              "    </tr>\n",
              "    <tr>\n",
              "      <th>50%</th>\n",
              "      <td>2.067009e+06</td>\n",
              "      <td>37.420000</td>\n",
              "    </tr>\n",
              "    <tr>\n",
              "      <th>75%</th>\n",
              "      <td>4.712360e+06</td>\n",
              "      <td>82.295000</td>\n",
              "    </tr>\n",
              "    <tr>\n",
              "      <th>max</th>\n",
              "      <td>2.843306e+07</td>\n",
              "      <td>940.470000</td>\n",
              "    </tr>\n",
              "  </tbody>\n",
              "</table>\n",
              "</div>\n",
              "      <button class=\"colab-df-convert\" onclick=\"convertToInteractive('df-43164e42-9d6f-479e-962f-83e44905178e')\"\n",
              "              title=\"Convert this dataframe to an interactive table.\"\n",
              "              style=\"display:none;\">\n",
              "        \n",
              "  <svg xmlns=\"http://www.w3.org/2000/svg\" height=\"24px\"viewBox=\"0 0 24 24\"\n",
              "       width=\"24px\">\n",
              "    <path d=\"M0 0h24v24H0V0z\" fill=\"none\"/>\n",
              "    <path d=\"M18.56 5.44l.94 2.06.94-2.06 2.06-.94-2.06-.94-.94-2.06-.94 2.06-2.06.94zm-11 1L8.5 8.5l.94-2.06 2.06-.94-2.06-.94L8.5 2.5l-.94 2.06-2.06.94zm10 10l.94 2.06.94-2.06 2.06-.94-2.06-.94-.94-2.06-.94 2.06-2.06.94z\"/><path d=\"M17.41 7.96l-1.37-1.37c-.4-.4-.92-.59-1.43-.59-.52 0-1.04.2-1.43.59L10.3 9.45l-7.72 7.72c-.78.78-.78 2.05 0 2.83L4 21.41c.39.39.9.59 1.41.59.51 0 1.02-.2 1.41-.59l7.78-7.78 2.81-2.81c.8-.78.8-2.07 0-2.86zM5.41 20L4 18.59l7.72-7.72 1.47 1.35L5.41 20z\"/>\n",
              "  </svg>\n",
              "      </button>\n",
              "      \n",
              "  <style>\n",
              "    .colab-df-container {\n",
              "      display:flex;\n",
              "      flex-wrap:wrap;\n",
              "      gap: 12px;\n",
              "    }\n",
              "\n",
              "    .colab-df-convert {\n",
              "      background-color: #E8F0FE;\n",
              "      border: none;\n",
              "      border-radius: 50%;\n",
              "      cursor: pointer;\n",
              "      display: none;\n",
              "      fill: #1967D2;\n",
              "      height: 32px;\n",
              "      padding: 0 0 0 0;\n",
              "      width: 32px;\n",
              "    }\n",
              "\n",
              "    .colab-df-convert:hover {\n",
              "      background-color: #E2EBFA;\n",
              "      box-shadow: 0px 1px 2px rgba(60, 64, 67, 0.3), 0px 1px 3px 1px rgba(60, 64, 67, 0.15);\n",
              "      fill: #174EA6;\n",
              "    }\n",
              "\n",
              "    [theme=dark] .colab-df-convert {\n",
              "      background-color: #3B4455;\n",
              "      fill: #D2E3FC;\n",
              "    }\n",
              "\n",
              "    [theme=dark] .colab-df-convert:hover {\n",
              "      background-color: #434B5C;\n",
              "      box-shadow: 0px 1px 3px 1px rgba(0, 0, 0, 0.15);\n",
              "      filter: drop-shadow(0px 1px 2px rgba(0, 0, 0, 0.3));\n",
              "      fill: #FFFFFF;\n",
              "    }\n",
              "  </style>\n",
              "\n",
              "      <script>\n",
              "        const buttonEl =\n",
              "          document.querySelector('#df-43164e42-9d6f-479e-962f-83e44905178e button.colab-df-convert');\n",
              "        buttonEl.style.display =\n",
              "          google.colab.kernel.accessAllowed ? 'block' : 'none';\n",
              "\n",
              "        async function convertToInteractive(key) {\n",
              "          const element = document.querySelector('#df-43164e42-9d6f-479e-962f-83e44905178e');\n",
              "          const dataTable =\n",
              "            await google.colab.kernel.invokeFunction('convertToInteractive',\n",
              "                                                     [key], {});\n",
              "          if (!dataTable) return;\n",
              "\n",
              "          const docLinkHtml = 'Like what you see? Visit the ' +\n",
              "            '<a target=\"_blank\" href=https://colab.research.google.com/notebooks/data_table.ipynb>data table notebook</a>'\n",
              "            + ' to learn more about interactive tables.';\n",
              "          element.innerHTML = '';\n",
              "          dataTable['output_type'] = 'display_data';\n",
              "          await google.colab.output.renderOutput(dataTable, element);\n",
              "          const docLink = document.createElement('div');\n",
              "          docLink.innerHTML = docLinkHtml;\n",
              "          element.appendChild(docLink);\n",
              "        }\n",
              "      </script>\n",
              "    </div>\n",
              "  </div>\n",
              "  "
            ],
            "text/plain": [
              "       SiteEnergyUse(kBtu)  TotalGHGEmissions\n",
              "count         1.532000e+03        1532.000000\n",
              "mean          3.612240e+06          70.607134\n",
              "std           4.067234e+06          93.478450\n",
              "min           4.394300e+04           0.000000\n",
              "25%           1.069189e+06          15.492500\n",
              "50%           2.067009e+06          37.420000\n",
              "75%           4.712360e+06          82.295000\n",
              "max           2.843306e+07         940.470000"
            ]
          },
          "metadata": {},
          "execution_count": 18
        }
      ]
    },
    {
      "cell_type": "markdown",
      "source": [
        "# Utilisation des variables quantitatives uniquement"
      ],
      "metadata": {
        "id": "ZBbpzcJO3NHL"
      }
    },
    {
      "cell_type": "markdown",
      "source": [
        "## Modélisation linéaire, évaluation des performances des différents algorithmes\n",
        "\n",
        "*Je choisi comme métric d'évaluation des performances des modèles le score de prédiction ainsi que le RMSE qui donnent des informations complémentaires* "
      ],
      "metadata": {
        "id": "RwB_n5BA7k6K"
      }
    },
    {
      "cell_type": "markdown",
      "source": [
        "Définition des modèles que je vais évaluer :"
      ],
      "metadata": {
        "id": "L2ZDsWWvUrkF"
      }
    },
    {
      "cell_type": "code",
      "source": [
        "List_of_models = [LinearRegression(), Lasso(), Ridge(), ElasticNet(), TweedieRegressor(), HuberRegressor(), SVR(), XGBRegressor(), RandomForestRegressor()]\n",
        "List_of_models_for_graph = [\"LinearRegression\", \"Lasso\", \"Ridge\", \"ElasticNet\", \"TweedieRegressor\", \"HuberRegressor\", \"SVR\", \"XGBRegressor\", \"RandomForestRegressor\"]"
      ],
      "metadata": {
        "id": "UK_1UPTPDhZD"
      },
      "execution_count": 40,
      "outputs": []
    },
    {
      "cell_type": "code",
      "source": [
        "X = X[features_Quant]"
      ],
      "metadata": {
        "id": "PKZbP_20CmMI"
      },
      "execution_count": 20,
      "outputs": []
    },
    {
      "cell_type": "markdown",
      "source": [
        "Création d'une fonction permettant de montrer les résultats en fonction du modèle choisit"
      ],
      "metadata": {
        "id": "8j3sv_QsnwMN"
      }
    },
    {
      "cell_type": "code",
      "source": [
        "def run_model_and_performance_check(feature_to_predict, model):\n",
        "   # Sélection des données\n",
        "  if feature_to_predict == \"Consommation\":\n",
        "    X_train, X_test, y_train, y_test = train_test_split(X, Y['SiteEnergyUse(kBtu)'], test_size=0.25, random_state=7)\n",
        "  if feature_to_predict == \"EmissionGES\":\n",
        "    X_train, X_test, y_train, y_test = train_test_split(X, Y['TotalGHGEmissions'], test_size=0.25, random_state=7)\n",
        "\n",
        "  # Choix du model et entrainement\n",
        "  model_regr = model\n",
        "  model_regr.fit(X_train, y_train)\n",
        "\n",
        "  # Prédiction du modèle et archivage des résultats\n",
        "  y_pred = model_regr.predict(X_test)\n",
        " \n",
        "  # Création des dataframes résultats\n",
        "  results_regression = np.array([model_regr.score(X_train,y_train), model_regr.score(X_test,y_test), mean_absolute_error(y_test,y_pred), np.sqrt(mean_squared_error(y_test,y_pred)), median_absolute_error(y_test,y_pred)])\n",
        "  df_results = pad.DataFrame(index = [\"Score entrainement\", \"Score de prédiction\", \"MAE\", \"RMSE\", \"median absolute error\"], columns = [str(model)[:-2]])\n",
        "  df_results[str(model)[:-2]] = results_regression\n",
        "\n",
        "  # Ennoncé des résultats de performance du modèle\n",
        "  if feature_to_predict == \"Consommation\":\n",
        "    print(\"Prédiction de la consommation : \\n\")\n",
        "  if feature_to_predict == \"EmissionGES\":\n",
        "    print(\"Prédiction des Emission de GES : \\n\")\n",
        "\n",
        "  return df_results"
      ],
      "metadata": {
        "id": "LZJ2xMvBJbPI"
      },
      "execution_count": 62,
      "outputs": []
    },
    {
      "cell_type": "markdown",
      "source": [
        "### Régression linéaire classique"
      ],
      "metadata": {
        "id": "ZCcfOM-oFNqv"
      }
    },
    {
      "cell_type": "markdown",
      "source": [
        "Prédiction de la consommation :"
      ],
      "metadata": {
        "id": "5tXL3Vi2o7ar"
      }
    },
    {
      "cell_type": "code",
      "source": [
        "run_model_and_performance_check(\"Consommation\", LinearRegression())"
      ],
      "metadata": {
        "colab": {
          "base_uri": "https://localhost:8080/",
          "height": 238
        },
        "id": "FTkjWGJtmSkU",
        "outputId": "b1040980-3d6f-4378-951a-8e63f48be864"
      },
      "execution_count": 65,
      "outputs": [
        {
          "output_type": "stream",
          "name": "stdout",
          "text": [
            "Prédiction de la consommation : \n",
            "\n"
          ]
        },
        {
          "output_type": "execute_result",
          "data": {
            "text/html": [
              "\n",
              "  <div id=\"df-85da3354-6593-46d1-8d5c-0438e7449ad0\">\n",
              "    <div class=\"colab-df-container\">\n",
              "      <div>\n",
              "<style scoped>\n",
              "    .dataframe tbody tr th:only-of-type {\n",
              "        vertical-align: middle;\n",
              "    }\n",
              "\n",
              "    .dataframe tbody tr th {\n",
              "        vertical-align: top;\n",
              "    }\n",
              "\n",
              "    .dataframe thead th {\n",
              "        text-align: right;\n",
              "    }\n",
              "</style>\n",
              "<table border=\"1\" class=\"dataframe\">\n",
              "  <thead>\n",
              "    <tr style=\"text-align: right;\">\n",
              "      <th></th>\n",
              "      <th>LinearRegression</th>\n",
              "    </tr>\n",
              "  </thead>\n",
              "  <tbody>\n",
              "    <tr>\n",
              "      <th>Score entrainement</th>\n",
              "      <td>6.294315e-01</td>\n",
              "    </tr>\n",
              "    <tr>\n",
              "      <th>Score de prédiction</th>\n",
              "      <td>6.696227e-01</td>\n",
              "    </tr>\n",
              "    <tr>\n",
              "      <th>MAE</th>\n",
              "      <td>1.448111e+06</td>\n",
              "    </tr>\n",
              "    <tr>\n",
              "      <th>RMSE</th>\n",
              "      <td>2.378088e+06</td>\n",
              "    </tr>\n",
              "    <tr>\n",
              "      <th>median absolute error</th>\n",
              "      <td>8.279928e+05</td>\n",
              "    </tr>\n",
              "  </tbody>\n",
              "</table>\n",
              "</div>\n",
              "      <button class=\"colab-df-convert\" onclick=\"convertToInteractive('df-85da3354-6593-46d1-8d5c-0438e7449ad0')\"\n",
              "              title=\"Convert this dataframe to an interactive table.\"\n",
              "              style=\"display:none;\">\n",
              "        \n",
              "  <svg xmlns=\"http://www.w3.org/2000/svg\" height=\"24px\"viewBox=\"0 0 24 24\"\n",
              "       width=\"24px\">\n",
              "    <path d=\"M0 0h24v24H0V0z\" fill=\"none\"/>\n",
              "    <path d=\"M18.56 5.44l.94 2.06.94-2.06 2.06-.94-2.06-.94-.94-2.06-.94 2.06-2.06.94zm-11 1L8.5 8.5l.94-2.06 2.06-.94-2.06-.94L8.5 2.5l-.94 2.06-2.06.94zm10 10l.94 2.06.94-2.06 2.06-.94-2.06-.94-.94-2.06-.94 2.06-2.06.94z\"/><path d=\"M17.41 7.96l-1.37-1.37c-.4-.4-.92-.59-1.43-.59-.52 0-1.04.2-1.43.59L10.3 9.45l-7.72 7.72c-.78.78-.78 2.05 0 2.83L4 21.41c.39.39.9.59 1.41.59.51 0 1.02-.2 1.41-.59l7.78-7.78 2.81-2.81c.8-.78.8-2.07 0-2.86zM5.41 20L4 18.59l7.72-7.72 1.47 1.35L5.41 20z\"/>\n",
              "  </svg>\n",
              "      </button>\n",
              "      \n",
              "  <style>\n",
              "    .colab-df-container {\n",
              "      display:flex;\n",
              "      flex-wrap:wrap;\n",
              "      gap: 12px;\n",
              "    }\n",
              "\n",
              "    .colab-df-convert {\n",
              "      background-color: #E8F0FE;\n",
              "      border: none;\n",
              "      border-radius: 50%;\n",
              "      cursor: pointer;\n",
              "      display: none;\n",
              "      fill: #1967D2;\n",
              "      height: 32px;\n",
              "      padding: 0 0 0 0;\n",
              "      width: 32px;\n",
              "    }\n",
              "\n",
              "    .colab-df-convert:hover {\n",
              "      background-color: #E2EBFA;\n",
              "      box-shadow: 0px 1px 2px rgba(60, 64, 67, 0.3), 0px 1px 3px 1px rgba(60, 64, 67, 0.15);\n",
              "      fill: #174EA6;\n",
              "    }\n",
              "\n",
              "    [theme=dark] .colab-df-convert {\n",
              "      background-color: #3B4455;\n",
              "      fill: #D2E3FC;\n",
              "    }\n",
              "\n",
              "    [theme=dark] .colab-df-convert:hover {\n",
              "      background-color: #434B5C;\n",
              "      box-shadow: 0px 1px 3px 1px rgba(0, 0, 0, 0.15);\n",
              "      filter: drop-shadow(0px 1px 2px rgba(0, 0, 0, 0.3));\n",
              "      fill: #FFFFFF;\n",
              "    }\n",
              "  </style>\n",
              "\n",
              "      <script>\n",
              "        const buttonEl =\n",
              "          document.querySelector('#df-85da3354-6593-46d1-8d5c-0438e7449ad0 button.colab-df-convert');\n",
              "        buttonEl.style.display =\n",
              "          google.colab.kernel.accessAllowed ? 'block' : 'none';\n",
              "\n",
              "        async function convertToInteractive(key) {\n",
              "          const element = document.querySelector('#df-85da3354-6593-46d1-8d5c-0438e7449ad0');\n",
              "          const dataTable =\n",
              "            await google.colab.kernel.invokeFunction('convertToInteractive',\n",
              "                                                     [key], {});\n",
              "          if (!dataTable) return;\n",
              "\n",
              "          const docLinkHtml = 'Like what you see? Visit the ' +\n",
              "            '<a target=\"_blank\" href=https://colab.research.google.com/notebooks/data_table.ipynb>data table notebook</a>'\n",
              "            + ' to learn more about interactive tables.';\n",
              "          element.innerHTML = '';\n",
              "          dataTable['output_type'] = 'display_data';\n",
              "          await google.colab.output.renderOutput(dataTable, element);\n",
              "          const docLink = document.createElement('div');\n",
              "          docLink.innerHTML = docLinkHtml;\n",
              "          element.appendChild(docLink);\n",
              "        }\n",
              "      </script>\n",
              "    </div>\n",
              "  </div>\n",
              "  "
            ],
            "text/plain": [
              "                       LinearRegression\n",
              "Score entrainement         6.294315e-01\n",
              "Score de prédiction        6.696227e-01\n",
              "MAE                        1.448111e+06\n",
              "RMSE                       2.378088e+06\n",
              "median absolute error      8.279928e+05"
            ]
          },
          "metadata": {},
          "execution_count": 65
        }
      ]
    },
    {
      "cell_type": "markdown",
      "source": [
        "Prédiction de l'émission de GES :"
      ],
      "metadata": {
        "id": "lFWlrdh8CUwL"
      }
    },
    {
      "cell_type": "code",
      "source": [
        "run_model_and_performance_check(\"EmissionGES\", LinearRegression())"
      ],
      "metadata": {
        "colab": {
          "base_uri": "https://localhost:8080/",
          "height": 238
        },
        "id": "-NZszeufn-_1",
        "outputId": "cc5a3219-04a0-480f-ddd7-ff2633fb00dc"
      },
      "execution_count": 66,
      "outputs": [
        {
          "output_type": "stream",
          "name": "stdout",
          "text": [
            "Prédiction des Emission de GES : \n",
            "\n"
          ]
        },
        {
          "output_type": "execute_result",
          "data": {
            "text/html": [
              "\n",
              "  <div id=\"df-8d777f4d-c747-44f0-b932-1e0d80460e13\">\n",
              "    <div class=\"colab-df-container\">\n",
              "      <div>\n",
              "<style scoped>\n",
              "    .dataframe tbody tr th:only-of-type {\n",
              "        vertical-align: middle;\n",
              "    }\n",
              "\n",
              "    .dataframe tbody tr th {\n",
              "        vertical-align: top;\n",
              "    }\n",
              "\n",
              "    .dataframe thead th {\n",
              "        text-align: right;\n",
              "    }\n",
              "</style>\n",
              "<table border=\"1\" class=\"dataframe\">\n",
              "  <thead>\n",
              "    <tr style=\"text-align: right;\">\n",
              "      <th></th>\n",
              "      <th>LinearRegression</th>\n",
              "    </tr>\n",
              "  </thead>\n",
              "  <tbody>\n",
              "    <tr>\n",
              "      <th>Score entrainement</th>\n",
              "      <td>0.346022</td>\n",
              "    </tr>\n",
              "    <tr>\n",
              "      <th>Score de prédiction</th>\n",
              "      <td>0.297621</td>\n",
              "    </tr>\n",
              "    <tr>\n",
              "      <th>MAE</th>\n",
              "      <td>49.576897</td>\n",
              "    </tr>\n",
              "    <tr>\n",
              "      <th>RMSE</th>\n",
              "      <td>77.504272</td>\n",
              "    </tr>\n",
              "    <tr>\n",
              "      <th>median absolute error</th>\n",
              "      <td>31.534283</td>\n",
              "    </tr>\n",
              "  </tbody>\n",
              "</table>\n",
              "</div>\n",
              "      <button class=\"colab-df-convert\" onclick=\"convertToInteractive('df-8d777f4d-c747-44f0-b932-1e0d80460e13')\"\n",
              "              title=\"Convert this dataframe to an interactive table.\"\n",
              "              style=\"display:none;\">\n",
              "        \n",
              "  <svg xmlns=\"http://www.w3.org/2000/svg\" height=\"24px\"viewBox=\"0 0 24 24\"\n",
              "       width=\"24px\">\n",
              "    <path d=\"M0 0h24v24H0V0z\" fill=\"none\"/>\n",
              "    <path d=\"M18.56 5.44l.94 2.06.94-2.06 2.06-.94-2.06-.94-.94-2.06-.94 2.06-2.06.94zm-11 1L8.5 8.5l.94-2.06 2.06-.94-2.06-.94L8.5 2.5l-.94 2.06-2.06.94zm10 10l.94 2.06.94-2.06 2.06-.94-2.06-.94-.94-2.06-.94 2.06-2.06.94z\"/><path d=\"M17.41 7.96l-1.37-1.37c-.4-.4-.92-.59-1.43-.59-.52 0-1.04.2-1.43.59L10.3 9.45l-7.72 7.72c-.78.78-.78 2.05 0 2.83L4 21.41c.39.39.9.59 1.41.59.51 0 1.02-.2 1.41-.59l7.78-7.78 2.81-2.81c.8-.78.8-2.07 0-2.86zM5.41 20L4 18.59l7.72-7.72 1.47 1.35L5.41 20z\"/>\n",
              "  </svg>\n",
              "      </button>\n",
              "      \n",
              "  <style>\n",
              "    .colab-df-container {\n",
              "      display:flex;\n",
              "      flex-wrap:wrap;\n",
              "      gap: 12px;\n",
              "    }\n",
              "\n",
              "    .colab-df-convert {\n",
              "      background-color: #E8F0FE;\n",
              "      border: none;\n",
              "      border-radius: 50%;\n",
              "      cursor: pointer;\n",
              "      display: none;\n",
              "      fill: #1967D2;\n",
              "      height: 32px;\n",
              "      padding: 0 0 0 0;\n",
              "      width: 32px;\n",
              "    }\n",
              "\n",
              "    .colab-df-convert:hover {\n",
              "      background-color: #E2EBFA;\n",
              "      box-shadow: 0px 1px 2px rgba(60, 64, 67, 0.3), 0px 1px 3px 1px rgba(60, 64, 67, 0.15);\n",
              "      fill: #174EA6;\n",
              "    }\n",
              "\n",
              "    [theme=dark] .colab-df-convert {\n",
              "      background-color: #3B4455;\n",
              "      fill: #D2E3FC;\n",
              "    }\n",
              "\n",
              "    [theme=dark] .colab-df-convert:hover {\n",
              "      background-color: #434B5C;\n",
              "      box-shadow: 0px 1px 3px 1px rgba(0, 0, 0, 0.15);\n",
              "      filter: drop-shadow(0px 1px 2px rgba(0, 0, 0, 0.3));\n",
              "      fill: #FFFFFF;\n",
              "    }\n",
              "  </style>\n",
              "\n",
              "      <script>\n",
              "        const buttonEl =\n",
              "          document.querySelector('#df-8d777f4d-c747-44f0-b932-1e0d80460e13 button.colab-df-convert');\n",
              "        buttonEl.style.display =\n",
              "          google.colab.kernel.accessAllowed ? 'block' : 'none';\n",
              "\n",
              "        async function convertToInteractive(key) {\n",
              "          const element = document.querySelector('#df-8d777f4d-c747-44f0-b932-1e0d80460e13');\n",
              "          const dataTable =\n",
              "            await google.colab.kernel.invokeFunction('convertToInteractive',\n",
              "                                                     [key], {});\n",
              "          if (!dataTable) return;\n",
              "\n",
              "          const docLinkHtml = 'Like what you see? Visit the ' +\n",
              "            '<a target=\"_blank\" href=https://colab.research.google.com/notebooks/data_table.ipynb>data table notebook</a>'\n",
              "            + ' to learn more about interactive tables.';\n",
              "          element.innerHTML = '';\n",
              "          dataTable['output_type'] = 'display_data';\n",
              "          await google.colab.output.renderOutput(dataTable, element);\n",
              "          const docLink = document.createElement('div');\n",
              "          docLink.innerHTML = docLinkHtml;\n",
              "          element.appendChild(docLink);\n",
              "        }\n",
              "      </script>\n",
              "    </div>\n",
              "  </div>\n",
              "  "
            ],
            "text/plain": [
              "                       LinearRegression\n",
              "Score entrainement             0.346022\n",
              "Score de prédiction            0.297621\n",
              "MAE                           49.576897\n",
              "RMSE                          77.504272\n",
              "median absolute error         31.534283"
            ]
          },
          "metadata": {},
          "execution_count": 66
        }
      ]
    },
    {
      "cell_type": "markdown",
      "source": [
        "Les performances de ce premier algorithme de régression linéaire ne sont pas très intéressante, essayons un autre modèle"
      ],
      "metadata": {
        "id": "BvKQopmPna_N"
      }
    },
    {
      "cell_type": "markdown",
      "source": [
        "### Régression RandomForest (modèle de type \"ensembliste\")"
      ],
      "metadata": {
        "id": "4di-eiXWGBan"
      }
    },
    {
      "cell_type": "markdown",
      "source": [
        "Prédiction de la consommation :"
      ],
      "metadata": {
        "id": "PFFl5Xf24Zhj"
      }
    },
    {
      "cell_type": "code",
      "source": [
        "run_model_and_performance_check(\"Consommation\", RandomForestRegressor())"
      ],
      "metadata": {
        "colab": {
          "base_uri": "https://localhost:8080/",
          "height": 238
        },
        "id": "T47uELhEqcho",
        "outputId": "b114304c-2257-42be-d91f-b07922a06d6c"
      },
      "execution_count": 67,
      "outputs": [
        {
          "output_type": "stream",
          "name": "stdout",
          "text": [
            "Prédiction de la consommation : \n",
            "\n"
          ]
        },
        {
          "output_type": "execute_result",
          "data": {
            "text/html": [
              "\n",
              "  <div id=\"df-bc8ab47d-b49f-4aba-97c5-45125a2198cd\">\n",
              "    <div class=\"colab-df-container\">\n",
              "      <div>\n",
              "<style scoped>\n",
              "    .dataframe tbody tr th:only-of-type {\n",
              "        vertical-align: middle;\n",
              "    }\n",
              "\n",
              "    .dataframe tbody tr th {\n",
              "        vertical-align: top;\n",
              "    }\n",
              "\n",
              "    .dataframe thead th {\n",
              "        text-align: right;\n",
              "    }\n",
              "</style>\n",
              "<table border=\"1\" class=\"dataframe\">\n",
              "  <thead>\n",
              "    <tr style=\"text-align: right;\">\n",
              "      <th></th>\n",
              "      <th>RandomForestRegressor</th>\n",
              "    </tr>\n",
              "  </thead>\n",
              "  <tbody>\n",
              "    <tr>\n",
              "      <th>Score entrainement</th>\n",
              "      <td>9.659862e-01</td>\n",
              "    </tr>\n",
              "    <tr>\n",
              "      <th>Score de prédiction</th>\n",
              "      <td>8.273906e-01</td>\n",
              "    </tr>\n",
              "    <tr>\n",
              "      <th>MAE</th>\n",
              "      <td>9.401331e+05</td>\n",
              "    </tr>\n",
              "    <tr>\n",
              "      <th>RMSE</th>\n",
              "      <td>1.718918e+06</td>\n",
              "    </tr>\n",
              "    <tr>\n",
              "      <th>median absolute error</th>\n",
              "      <td>3.765247e+05</td>\n",
              "    </tr>\n",
              "  </tbody>\n",
              "</table>\n",
              "</div>\n",
              "      <button class=\"colab-df-convert\" onclick=\"convertToInteractive('df-bc8ab47d-b49f-4aba-97c5-45125a2198cd')\"\n",
              "              title=\"Convert this dataframe to an interactive table.\"\n",
              "              style=\"display:none;\">\n",
              "        \n",
              "  <svg xmlns=\"http://www.w3.org/2000/svg\" height=\"24px\"viewBox=\"0 0 24 24\"\n",
              "       width=\"24px\">\n",
              "    <path d=\"M0 0h24v24H0V0z\" fill=\"none\"/>\n",
              "    <path d=\"M18.56 5.44l.94 2.06.94-2.06 2.06-.94-2.06-.94-.94-2.06-.94 2.06-2.06.94zm-11 1L8.5 8.5l.94-2.06 2.06-.94-2.06-.94L8.5 2.5l-.94 2.06-2.06.94zm10 10l.94 2.06.94-2.06 2.06-.94-2.06-.94-.94-2.06-.94 2.06-2.06.94z\"/><path d=\"M17.41 7.96l-1.37-1.37c-.4-.4-.92-.59-1.43-.59-.52 0-1.04.2-1.43.59L10.3 9.45l-7.72 7.72c-.78.78-.78 2.05 0 2.83L4 21.41c.39.39.9.59 1.41.59.51 0 1.02-.2 1.41-.59l7.78-7.78 2.81-2.81c.8-.78.8-2.07 0-2.86zM5.41 20L4 18.59l7.72-7.72 1.47 1.35L5.41 20z\"/>\n",
              "  </svg>\n",
              "      </button>\n",
              "      \n",
              "  <style>\n",
              "    .colab-df-container {\n",
              "      display:flex;\n",
              "      flex-wrap:wrap;\n",
              "      gap: 12px;\n",
              "    }\n",
              "\n",
              "    .colab-df-convert {\n",
              "      background-color: #E8F0FE;\n",
              "      border: none;\n",
              "      border-radius: 50%;\n",
              "      cursor: pointer;\n",
              "      display: none;\n",
              "      fill: #1967D2;\n",
              "      height: 32px;\n",
              "      padding: 0 0 0 0;\n",
              "      width: 32px;\n",
              "    }\n",
              "\n",
              "    .colab-df-convert:hover {\n",
              "      background-color: #E2EBFA;\n",
              "      box-shadow: 0px 1px 2px rgba(60, 64, 67, 0.3), 0px 1px 3px 1px rgba(60, 64, 67, 0.15);\n",
              "      fill: #174EA6;\n",
              "    }\n",
              "\n",
              "    [theme=dark] .colab-df-convert {\n",
              "      background-color: #3B4455;\n",
              "      fill: #D2E3FC;\n",
              "    }\n",
              "\n",
              "    [theme=dark] .colab-df-convert:hover {\n",
              "      background-color: #434B5C;\n",
              "      box-shadow: 0px 1px 3px 1px rgba(0, 0, 0, 0.15);\n",
              "      filter: drop-shadow(0px 1px 2px rgba(0, 0, 0, 0.3));\n",
              "      fill: #FFFFFF;\n",
              "    }\n",
              "  </style>\n",
              "\n",
              "      <script>\n",
              "        const buttonEl =\n",
              "          document.querySelector('#df-bc8ab47d-b49f-4aba-97c5-45125a2198cd button.colab-df-convert');\n",
              "        buttonEl.style.display =\n",
              "          google.colab.kernel.accessAllowed ? 'block' : 'none';\n",
              "\n",
              "        async function convertToInteractive(key) {\n",
              "          const element = document.querySelector('#df-bc8ab47d-b49f-4aba-97c5-45125a2198cd');\n",
              "          const dataTable =\n",
              "            await google.colab.kernel.invokeFunction('convertToInteractive',\n",
              "                                                     [key], {});\n",
              "          if (!dataTable) return;\n",
              "\n",
              "          const docLinkHtml = 'Like what you see? Visit the ' +\n",
              "            '<a target=\"_blank\" href=https://colab.research.google.com/notebooks/data_table.ipynb>data table notebook</a>'\n",
              "            + ' to learn more about interactive tables.';\n",
              "          element.innerHTML = '';\n",
              "          dataTable['output_type'] = 'display_data';\n",
              "          await google.colab.output.renderOutput(dataTable, element);\n",
              "          const docLink = document.createElement('div');\n",
              "          docLink.innerHTML = docLinkHtml;\n",
              "          element.appendChild(docLink);\n",
              "        }\n",
              "      </script>\n",
              "    </div>\n",
              "  </div>\n",
              "  "
            ],
            "text/plain": [
              "                       RandomForestRegressor\n",
              "Score entrainement              9.659862e-01\n",
              "Score de prédiction             8.273906e-01\n",
              "MAE                             9.401331e+05\n",
              "RMSE                            1.718918e+06\n",
              "median absolute error           3.765247e+05"
            ]
          },
          "metadata": {},
          "execution_count": 67
        }
      ]
    },
    {
      "cell_type": "markdown",
      "source": [
        "Prédiction des émissions de GES :"
      ],
      "metadata": {
        "id": "NS5zxnvtGGiu"
      }
    },
    {
      "cell_type": "code",
      "source": [
        "run_model_and_performance_check(\"EmissionGES\", RandomForestRegressor())"
      ],
      "metadata": {
        "colab": {
          "base_uri": "https://localhost:8080/",
          "height": 238
        },
        "id": "NUkxvkAXqZOI",
        "outputId": "9741395a-3641-49a5-90ea-cd3e6a81e8af"
      },
      "execution_count": 68,
      "outputs": [
        {
          "output_type": "stream",
          "name": "stdout",
          "text": [
            "Prédiction des Emission de GES : \n",
            "\n"
          ]
        },
        {
          "output_type": "execute_result",
          "data": {
            "text/html": [
              "\n",
              "  <div id=\"df-90362787-c765-4733-847b-067b53bc9b09\">\n",
              "    <div class=\"colab-df-container\">\n",
              "      <div>\n",
              "<style scoped>\n",
              "    .dataframe tbody tr th:only-of-type {\n",
              "        vertical-align: middle;\n",
              "    }\n",
              "\n",
              "    .dataframe tbody tr th {\n",
              "        vertical-align: top;\n",
              "    }\n",
              "\n",
              "    .dataframe thead th {\n",
              "        text-align: right;\n",
              "    }\n",
              "</style>\n",
              "<table border=\"1\" class=\"dataframe\">\n",
              "  <thead>\n",
              "    <tr style=\"text-align: right;\">\n",
              "      <th></th>\n",
              "      <th>RandomForestRegressor</th>\n",
              "    </tr>\n",
              "  </thead>\n",
              "  <tbody>\n",
              "    <tr>\n",
              "      <th>Score entrainement</th>\n",
              "      <td>0.931110</td>\n",
              "    </tr>\n",
              "    <tr>\n",
              "      <th>Score de prédiction</th>\n",
              "      <td>0.663836</td>\n",
              "    </tr>\n",
              "    <tr>\n",
              "      <th>MAE</th>\n",
              "      <td>29.404324</td>\n",
              "    </tr>\n",
              "    <tr>\n",
              "      <th>RMSE</th>\n",
              "      <td>53.618570</td>\n",
              "    </tr>\n",
              "    <tr>\n",
              "      <th>median absolute error</th>\n",
              "      <td>14.894200</td>\n",
              "    </tr>\n",
              "  </tbody>\n",
              "</table>\n",
              "</div>\n",
              "      <button class=\"colab-df-convert\" onclick=\"convertToInteractive('df-90362787-c765-4733-847b-067b53bc9b09')\"\n",
              "              title=\"Convert this dataframe to an interactive table.\"\n",
              "              style=\"display:none;\">\n",
              "        \n",
              "  <svg xmlns=\"http://www.w3.org/2000/svg\" height=\"24px\"viewBox=\"0 0 24 24\"\n",
              "       width=\"24px\">\n",
              "    <path d=\"M0 0h24v24H0V0z\" fill=\"none\"/>\n",
              "    <path d=\"M18.56 5.44l.94 2.06.94-2.06 2.06-.94-2.06-.94-.94-2.06-.94 2.06-2.06.94zm-11 1L8.5 8.5l.94-2.06 2.06-.94-2.06-.94L8.5 2.5l-.94 2.06-2.06.94zm10 10l.94 2.06.94-2.06 2.06-.94-2.06-.94-.94-2.06-.94 2.06-2.06.94z\"/><path d=\"M17.41 7.96l-1.37-1.37c-.4-.4-.92-.59-1.43-.59-.52 0-1.04.2-1.43.59L10.3 9.45l-7.72 7.72c-.78.78-.78 2.05 0 2.83L4 21.41c.39.39.9.59 1.41.59.51 0 1.02-.2 1.41-.59l7.78-7.78 2.81-2.81c.8-.78.8-2.07 0-2.86zM5.41 20L4 18.59l7.72-7.72 1.47 1.35L5.41 20z\"/>\n",
              "  </svg>\n",
              "      </button>\n",
              "      \n",
              "  <style>\n",
              "    .colab-df-container {\n",
              "      display:flex;\n",
              "      flex-wrap:wrap;\n",
              "      gap: 12px;\n",
              "    }\n",
              "\n",
              "    .colab-df-convert {\n",
              "      background-color: #E8F0FE;\n",
              "      border: none;\n",
              "      border-radius: 50%;\n",
              "      cursor: pointer;\n",
              "      display: none;\n",
              "      fill: #1967D2;\n",
              "      height: 32px;\n",
              "      padding: 0 0 0 0;\n",
              "      width: 32px;\n",
              "    }\n",
              "\n",
              "    .colab-df-convert:hover {\n",
              "      background-color: #E2EBFA;\n",
              "      box-shadow: 0px 1px 2px rgba(60, 64, 67, 0.3), 0px 1px 3px 1px rgba(60, 64, 67, 0.15);\n",
              "      fill: #174EA6;\n",
              "    }\n",
              "\n",
              "    [theme=dark] .colab-df-convert {\n",
              "      background-color: #3B4455;\n",
              "      fill: #D2E3FC;\n",
              "    }\n",
              "\n",
              "    [theme=dark] .colab-df-convert:hover {\n",
              "      background-color: #434B5C;\n",
              "      box-shadow: 0px 1px 3px 1px rgba(0, 0, 0, 0.15);\n",
              "      filter: drop-shadow(0px 1px 2px rgba(0, 0, 0, 0.3));\n",
              "      fill: #FFFFFF;\n",
              "    }\n",
              "  </style>\n",
              "\n",
              "      <script>\n",
              "        const buttonEl =\n",
              "          document.querySelector('#df-90362787-c765-4733-847b-067b53bc9b09 button.colab-df-convert');\n",
              "        buttonEl.style.display =\n",
              "          google.colab.kernel.accessAllowed ? 'block' : 'none';\n",
              "\n",
              "        async function convertToInteractive(key) {\n",
              "          const element = document.querySelector('#df-90362787-c765-4733-847b-067b53bc9b09');\n",
              "          const dataTable =\n",
              "            await google.colab.kernel.invokeFunction('convertToInteractive',\n",
              "                                                     [key], {});\n",
              "          if (!dataTable) return;\n",
              "\n",
              "          const docLinkHtml = 'Like what you see? Visit the ' +\n",
              "            '<a target=\"_blank\" href=https://colab.research.google.com/notebooks/data_table.ipynb>data table notebook</a>'\n",
              "            + ' to learn more about interactive tables.';\n",
              "          element.innerHTML = '';\n",
              "          dataTable['output_type'] = 'display_data';\n",
              "          await google.colab.output.renderOutput(dataTable, element);\n",
              "          const docLink = document.createElement('div');\n",
              "          docLink.innerHTML = docLinkHtml;\n",
              "          element.appendChild(docLink);\n",
              "        }\n",
              "      </script>\n",
              "    </div>\n",
              "  </div>\n",
              "  "
            ],
            "text/plain": [
              "                       RandomForestRegressor\n",
              "Score entrainement                  0.931110\n",
              "Score de prédiction                 0.663836\n",
              "MAE                                29.404324\n",
              "RMSE                               53.618570\n",
              "median absolute error              14.894200"
            ]
          },
          "metadata": {},
          "execution_count": 68
        }
      ]
    },
    {
      "cell_type": "markdown",
      "source": [
        "Les résultats sont ici beaucoup plus intéressant avec le RandomForestRegressor"
      ],
      "metadata": {
        "id": "VziQFbDx34Vb"
      }
    },
    {
      "cell_type": "markdown",
      "source": [
        "### Boucle sur un ensemble de modèles de régression, archivage des résultats"
      ],
      "metadata": {
        "id": "4fJMvapvGUKN"
      }
    },
    {
      "cell_type": "code",
      "source": [
        "# Création des dataframes résultats\n",
        "df_results01_Consommation = pad.DataFrame(index = [\"Score entrainement\", \"Score de prédiction\", \"MAE\", \"RMSE\", \"median absolute error\"], columns = [\"LinearRegression\"])\n",
        "df_results01_GESEmission = pad.DataFrame(index = [\"Score entrainement\", \"Score de prédiction\", \"MAE\", \"RMSE\", \"median absolute error\"], columns = [\"LinearRegression\"])"
      ],
      "metadata": {
        "id": "J_5n4mmlNE07"
      },
      "execution_count": 69,
      "outputs": []
    },
    {
      "cell_type": "code",
      "source": [
        "X_train, X_test, y_train, y_test = train_test_split(X, Y['SiteEnergyUse(kBtu)'], test_size=0.25)\n",
        "for i in range(len(List_of_models)):\n",
        "  model_regr = List_of_models[i] \n",
        "  model_regr.fit(X_train, y_train)\n",
        "  y_pred = model_regr.predict(X_test)\n",
        "  results_linear_regression = np.array([model_regr.score(X_train,y_train), model_regr.score(X_test,y_test), mean_absolute_error(y_test,y_pred), np.sqrt(mean_squared_error(y_test,y_pred)), median_absolute_error(y_test,y_pred)])\n",
        "  df_results01_Consommation[List_of_models_for_graph[i]] = results_linear_regression\n",
        "\n",
        "X_train, X_test, y_train, y_test = train_test_split(X, Y['TotalGHGEmissions'], test_size=0.25)\n",
        "for i in range(len(List_of_models)):\n",
        "  model_regr = List_of_models[i]\n",
        "  model_regr.fit(X_train, y_train)\n",
        "  y_pred = model_regr.predict(X_test)\n",
        "  results_linear_regression = np.array([model_regr.score(X_train,y_train), model_regr.score(X_test,y_test), mean_absolute_error(y_test,y_pred), np.sqrt(mean_squared_error(y_test,y_pred)), median_absolute_error(y_test,y_pred)])\n",
        "  df_results01_GESEmission[List_of_models_for_graph[i]] = results_linear_regression"
      ],
      "metadata": {
        "id": "zb3PVe3y9hbs"
      },
      "execution_count": null,
      "outputs": []
    },
    {
      "cell_type": "markdown",
      "source": [
        "### Comparaison des performances des différents modèles"
      ],
      "metadata": {
        "id": "7ovEMlIkVvKu"
      }
    },
    {
      "cell_type": "code",
      "source": [
        "df_results01_Consommation"
      ],
      "metadata": {
        "colab": {
          "base_uri": "https://localhost:8080/",
          "height": 204
        },
        "id": "z1q3vuKdNT-5",
        "outputId": "0b456a3d-a6c2-4487-c22d-fc9bcc1fcb52"
      },
      "execution_count": 71,
      "outputs": [
        {
          "output_type": "execute_result",
          "data": {
            "text/html": [
              "\n",
              "  <div id=\"df-97d8c954-087e-4ee8-88b1-376166398ec8\">\n",
              "    <div class=\"colab-df-container\">\n",
              "      <div>\n",
              "<style scoped>\n",
              "    .dataframe tbody tr th:only-of-type {\n",
              "        vertical-align: middle;\n",
              "    }\n",
              "\n",
              "    .dataframe tbody tr th {\n",
              "        vertical-align: top;\n",
              "    }\n",
              "\n",
              "    .dataframe thead th {\n",
              "        text-align: right;\n",
              "    }\n",
              "</style>\n",
              "<table border=\"1\" class=\"dataframe\">\n",
              "  <thead>\n",
              "    <tr style=\"text-align: right;\">\n",
              "      <th></th>\n",
              "      <th>LinearRegression</th>\n",
              "      <th>Lasso</th>\n",
              "      <th>Ridge</th>\n",
              "      <th>ElasticNet</th>\n",
              "      <th>TweedieRegressor</th>\n",
              "      <th>HuberRegressor</th>\n",
              "      <th>SVR</th>\n",
              "      <th>XGBRegressor</th>\n",
              "      <th>RandomForestRegressor</th>\n",
              "    </tr>\n",
              "  </thead>\n",
              "  <tbody>\n",
              "    <tr>\n",
              "      <th>Score entrainement</th>\n",
              "      <td>6.434209e-01</td>\n",
              "      <td>6.434209e-01</td>\n",
              "      <td>6.434209e-01</td>\n",
              "      <td>6.432217e-01</td>\n",
              "      <td>5.724242e-01</td>\n",
              "      <td>6.193482e-01</td>\n",
              "      <td>-1.517838e-01</td>\n",
              "      <td>8.581238e-01</td>\n",
              "      <td>9.647263e-01</td>\n",
              "    </tr>\n",
              "    <tr>\n",
              "      <th>Score de prédiction</th>\n",
              "      <td>6.271845e-01</td>\n",
              "      <td>6.271845e-01</td>\n",
              "      <td>6.271861e-01</td>\n",
              "      <td>6.278497e-01</td>\n",
              "      <td>5.814679e-01</td>\n",
              "      <td>6.063961e-01</td>\n",
              "      <td>-1.196768e-01</td>\n",
              "      <td>7.223022e-01</td>\n",
              "      <td>8.141009e-01</td>\n",
              "    </tr>\n",
              "    <tr>\n",
              "      <th>MAE</th>\n",
              "      <td>1.470348e+06</td>\n",
              "      <td>1.470348e+06</td>\n",
              "      <td>1.470338e+06</td>\n",
              "      <td>1.465867e+06</td>\n",
              "      <td>1.738437e+06</td>\n",
              "      <td>1.408920e+06</td>\n",
              "      <td>2.468452e+06</td>\n",
              "      <td>1.225189e+06</td>\n",
              "      <td>9.429853e+05</td>\n",
              "    </tr>\n",
              "    <tr>\n",
              "      <th>RMSE</th>\n",
              "      <td>2.565624e+06</td>\n",
              "      <td>2.565624e+06</td>\n",
              "      <td>2.565619e+06</td>\n",
              "      <td>2.563334e+06</td>\n",
              "      <td>2.718382e+06</td>\n",
              "      <td>2.636184e+06</td>\n",
              "      <td>4.446235e+06</td>\n",
              "      <td>2.214279e+06</td>\n",
              "      <td>1.811693e+06</td>\n",
              "    </tr>\n",
              "    <tr>\n",
              "      <th>median absolute error</th>\n",
              "      <td>8.524612e+05</td>\n",
              "      <td>8.524607e+05</td>\n",
              "      <td>8.524184e+05</td>\n",
              "      <td>8.327916e+05</td>\n",
              "      <td>1.197863e+06</td>\n",
              "      <td>5.990012e+05</td>\n",
              "      <td>1.208037e+06</td>\n",
              "      <td>6.375992e+05</td>\n",
              "      <td>4.390314e+05</td>\n",
              "    </tr>\n",
              "  </tbody>\n",
              "</table>\n",
              "</div>\n",
              "      <button class=\"colab-df-convert\" onclick=\"convertToInteractive('df-97d8c954-087e-4ee8-88b1-376166398ec8')\"\n",
              "              title=\"Convert this dataframe to an interactive table.\"\n",
              "              style=\"display:none;\">\n",
              "        \n",
              "  <svg xmlns=\"http://www.w3.org/2000/svg\" height=\"24px\"viewBox=\"0 0 24 24\"\n",
              "       width=\"24px\">\n",
              "    <path d=\"M0 0h24v24H0V0z\" fill=\"none\"/>\n",
              "    <path d=\"M18.56 5.44l.94 2.06.94-2.06 2.06-.94-2.06-.94-.94-2.06-.94 2.06-2.06.94zm-11 1L8.5 8.5l.94-2.06 2.06-.94-2.06-.94L8.5 2.5l-.94 2.06-2.06.94zm10 10l.94 2.06.94-2.06 2.06-.94-2.06-.94-.94-2.06-.94 2.06-2.06.94z\"/><path d=\"M17.41 7.96l-1.37-1.37c-.4-.4-.92-.59-1.43-.59-.52 0-1.04.2-1.43.59L10.3 9.45l-7.72 7.72c-.78.78-.78 2.05 0 2.83L4 21.41c.39.39.9.59 1.41.59.51 0 1.02-.2 1.41-.59l7.78-7.78 2.81-2.81c.8-.78.8-2.07 0-2.86zM5.41 20L4 18.59l7.72-7.72 1.47 1.35L5.41 20z\"/>\n",
              "  </svg>\n",
              "      </button>\n",
              "      \n",
              "  <style>\n",
              "    .colab-df-container {\n",
              "      display:flex;\n",
              "      flex-wrap:wrap;\n",
              "      gap: 12px;\n",
              "    }\n",
              "\n",
              "    .colab-df-convert {\n",
              "      background-color: #E8F0FE;\n",
              "      border: none;\n",
              "      border-radius: 50%;\n",
              "      cursor: pointer;\n",
              "      display: none;\n",
              "      fill: #1967D2;\n",
              "      height: 32px;\n",
              "      padding: 0 0 0 0;\n",
              "      width: 32px;\n",
              "    }\n",
              "\n",
              "    .colab-df-convert:hover {\n",
              "      background-color: #E2EBFA;\n",
              "      box-shadow: 0px 1px 2px rgba(60, 64, 67, 0.3), 0px 1px 3px 1px rgba(60, 64, 67, 0.15);\n",
              "      fill: #174EA6;\n",
              "    }\n",
              "\n",
              "    [theme=dark] .colab-df-convert {\n",
              "      background-color: #3B4455;\n",
              "      fill: #D2E3FC;\n",
              "    }\n",
              "\n",
              "    [theme=dark] .colab-df-convert:hover {\n",
              "      background-color: #434B5C;\n",
              "      box-shadow: 0px 1px 3px 1px rgba(0, 0, 0, 0.15);\n",
              "      filter: drop-shadow(0px 1px 2px rgba(0, 0, 0, 0.3));\n",
              "      fill: #FFFFFF;\n",
              "    }\n",
              "  </style>\n",
              "\n",
              "      <script>\n",
              "        const buttonEl =\n",
              "          document.querySelector('#df-97d8c954-087e-4ee8-88b1-376166398ec8 button.colab-df-convert');\n",
              "        buttonEl.style.display =\n",
              "          google.colab.kernel.accessAllowed ? 'block' : 'none';\n",
              "\n",
              "        async function convertToInteractive(key) {\n",
              "          const element = document.querySelector('#df-97d8c954-087e-4ee8-88b1-376166398ec8');\n",
              "          const dataTable =\n",
              "            await google.colab.kernel.invokeFunction('convertToInteractive',\n",
              "                                                     [key], {});\n",
              "          if (!dataTable) return;\n",
              "\n",
              "          const docLinkHtml = 'Like what you see? Visit the ' +\n",
              "            '<a target=\"_blank\" href=https://colab.research.google.com/notebooks/data_table.ipynb>data table notebook</a>'\n",
              "            + ' to learn more about interactive tables.';\n",
              "          element.innerHTML = '';\n",
              "          dataTable['output_type'] = 'display_data';\n",
              "          await google.colab.output.renderOutput(dataTable, element);\n",
              "          const docLink = document.createElement('div');\n",
              "          docLink.innerHTML = docLinkHtml;\n",
              "          element.appendChild(docLink);\n",
              "        }\n",
              "      </script>\n",
              "    </div>\n",
              "  </div>\n",
              "  "
            ],
            "text/plain": [
              "                       LinearRegression  ...  RandomForestRegressor\n",
              "Score entrainement         6.434209e-01  ...           9.647263e-01\n",
              "Score de prédiction        6.271845e-01  ...           8.141009e-01\n",
              "MAE                        1.470348e+06  ...           9.429853e+05\n",
              "RMSE                       2.565624e+06  ...           1.811693e+06\n",
              "median absolute error      8.524612e+05  ...           4.390314e+05\n",
              "\n",
              "[5 rows x 9 columns]"
            ]
          },
          "metadata": {},
          "execution_count": 71
        }
      ]
    },
    {
      "cell_type": "code",
      "source": [
        "df_results01_GESEmission"
      ],
      "metadata": {
        "colab": {
          "base_uri": "https://localhost:8080/",
          "height": 204
        },
        "id": "rYcgOhq9NU6B",
        "outputId": "b51d794e-e77b-4eeb-f6dc-4f4d5f216424"
      },
      "execution_count": 72,
      "outputs": [
        {
          "output_type": "execute_result",
          "data": {
            "text/html": [
              "\n",
              "  <div id=\"df-8f28f111-a8a2-4c72-bea4-4c98a30b0213\">\n",
              "    <div class=\"colab-df-container\">\n",
              "      <div>\n",
              "<style scoped>\n",
              "    .dataframe tbody tr th:only-of-type {\n",
              "        vertical-align: middle;\n",
              "    }\n",
              "\n",
              "    .dataframe tbody tr th {\n",
              "        vertical-align: top;\n",
              "    }\n",
              "\n",
              "    .dataframe thead th {\n",
              "        text-align: right;\n",
              "    }\n",
              "</style>\n",
              "<table border=\"1\" class=\"dataframe\">\n",
              "  <thead>\n",
              "    <tr style=\"text-align: right;\">\n",
              "      <th></th>\n",
              "      <th>LinearRegression</th>\n",
              "      <th>Lasso</th>\n",
              "      <th>Ridge</th>\n",
              "      <th>ElasticNet</th>\n",
              "      <th>TweedieRegressor</th>\n",
              "      <th>HuberRegressor</th>\n",
              "      <th>SVR</th>\n",
              "      <th>XGBRegressor</th>\n",
              "      <th>RandomForestRegressor</th>\n",
              "    </tr>\n",
              "  </thead>\n",
              "  <tbody>\n",
              "    <tr>\n",
              "      <th>Score entrainement</th>\n",
              "      <td>0.333155</td>\n",
              "      <td>0.333096</td>\n",
              "      <td>0.333155</td>\n",
              "      <td>0.331588</td>\n",
              "      <td>0.257720</td>\n",
              "      <td>0.185018</td>\n",
              "      <td>0.102399</td>\n",
              "      <td>0.717220</td>\n",
              "      <td>0.926572</td>\n",
              "    </tr>\n",
              "    <tr>\n",
              "      <th>Score de prédiction</th>\n",
              "      <td>0.338585</td>\n",
              "      <td>0.337667</td>\n",
              "      <td>0.338578</td>\n",
              "      <td>0.333495</td>\n",
              "      <td>0.272512</td>\n",
              "      <td>0.158610</td>\n",
              "      <td>0.089688</td>\n",
              "      <td>0.642149</td>\n",
              "      <td>0.689032</td>\n",
              "    </tr>\n",
              "    <tr>\n",
              "      <th>MAE</th>\n",
              "      <td>49.062583</td>\n",
              "      <td>49.129966</td>\n",
              "      <td>49.062756</td>\n",
              "      <td>49.214835</td>\n",
              "      <td>54.597862</td>\n",
              "      <td>46.858591</td>\n",
              "      <td>47.742920</td>\n",
              "      <td>38.046658</td>\n",
              "      <td>31.578556</td>\n",
              "    </tr>\n",
              "    <tr>\n",
              "      <th>RMSE</th>\n",
              "      <td>74.415747</td>\n",
              "      <td>74.467383</td>\n",
              "      <td>74.416122</td>\n",
              "      <td>74.701509</td>\n",
              "      <td>78.044213</td>\n",
              "      <td>83.931797</td>\n",
              "      <td>87.301761</td>\n",
              "      <td>54.736760</td>\n",
              "      <td>51.025279</td>\n",
              "    </tr>\n",
              "    <tr>\n",
              "      <th>median absolute error</th>\n",
              "      <td>30.958111</td>\n",
              "      <td>31.219023</td>\n",
              "      <td>30.959944</td>\n",
              "      <td>31.069651</td>\n",
              "      <td>43.074548</td>\n",
              "      <td>19.594667</td>\n",
              "      <td>20.501737</td>\n",
              "      <td>23.215992</td>\n",
              "      <td>16.297810</td>\n",
              "    </tr>\n",
              "  </tbody>\n",
              "</table>\n",
              "</div>\n",
              "      <button class=\"colab-df-convert\" onclick=\"convertToInteractive('df-8f28f111-a8a2-4c72-bea4-4c98a30b0213')\"\n",
              "              title=\"Convert this dataframe to an interactive table.\"\n",
              "              style=\"display:none;\">\n",
              "        \n",
              "  <svg xmlns=\"http://www.w3.org/2000/svg\" height=\"24px\"viewBox=\"0 0 24 24\"\n",
              "       width=\"24px\">\n",
              "    <path d=\"M0 0h24v24H0V0z\" fill=\"none\"/>\n",
              "    <path d=\"M18.56 5.44l.94 2.06.94-2.06 2.06-.94-2.06-.94-.94-2.06-.94 2.06-2.06.94zm-11 1L8.5 8.5l.94-2.06 2.06-.94-2.06-.94L8.5 2.5l-.94 2.06-2.06.94zm10 10l.94 2.06.94-2.06 2.06-.94-2.06-.94-.94-2.06-.94 2.06-2.06.94z\"/><path d=\"M17.41 7.96l-1.37-1.37c-.4-.4-.92-.59-1.43-.59-.52 0-1.04.2-1.43.59L10.3 9.45l-7.72 7.72c-.78.78-.78 2.05 0 2.83L4 21.41c.39.39.9.59 1.41.59.51 0 1.02-.2 1.41-.59l7.78-7.78 2.81-2.81c.8-.78.8-2.07 0-2.86zM5.41 20L4 18.59l7.72-7.72 1.47 1.35L5.41 20z\"/>\n",
              "  </svg>\n",
              "      </button>\n",
              "      \n",
              "  <style>\n",
              "    .colab-df-container {\n",
              "      display:flex;\n",
              "      flex-wrap:wrap;\n",
              "      gap: 12px;\n",
              "    }\n",
              "\n",
              "    .colab-df-convert {\n",
              "      background-color: #E8F0FE;\n",
              "      border: none;\n",
              "      border-radius: 50%;\n",
              "      cursor: pointer;\n",
              "      display: none;\n",
              "      fill: #1967D2;\n",
              "      height: 32px;\n",
              "      padding: 0 0 0 0;\n",
              "      width: 32px;\n",
              "    }\n",
              "\n",
              "    .colab-df-convert:hover {\n",
              "      background-color: #E2EBFA;\n",
              "      box-shadow: 0px 1px 2px rgba(60, 64, 67, 0.3), 0px 1px 3px 1px rgba(60, 64, 67, 0.15);\n",
              "      fill: #174EA6;\n",
              "    }\n",
              "\n",
              "    [theme=dark] .colab-df-convert {\n",
              "      background-color: #3B4455;\n",
              "      fill: #D2E3FC;\n",
              "    }\n",
              "\n",
              "    [theme=dark] .colab-df-convert:hover {\n",
              "      background-color: #434B5C;\n",
              "      box-shadow: 0px 1px 3px 1px rgba(0, 0, 0, 0.15);\n",
              "      filter: drop-shadow(0px 1px 2px rgba(0, 0, 0, 0.3));\n",
              "      fill: #FFFFFF;\n",
              "    }\n",
              "  </style>\n",
              "\n",
              "      <script>\n",
              "        const buttonEl =\n",
              "          document.querySelector('#df-8f28f111-a8a2-4c72-bea4-4c98a30b0213 button.colab-df-convert');\n",
              "        buttonEl.style.display =\n",
              "          google.colab.kernel.accessAllowed ? 'block' : 'none';\n",
              "\n",
              "        async function convertToInteractive(key) {\n",
              "          const element = document.querySelector('#df-8f28f111-a8a2-4c72-bea4-4c98a30b0213');\n",
              "          const dataTable =\n",
              "            await google.colab.kernel.invokeFunction('convertToInteractive',\n",
              "                                                     [key], {});\n",
              "          if (!dataTable) return;\n",
              "\n",
              "          const docLinkHtml = 'Like what you see? Visit the ' +\n",
              "            '<a target=\"_blank\" href=https://colab.research.google.com/notebooks/data_table.ipynb>data table notebook</a>'\n",
              "            + ' to learn more about interactive tables.';\n",
              "          element.innerHTML = '';\n",
              "          dataTable['output_type'] = 'display_data';\n",
              "          await google.colab.output.renderOutput(dataTable, element);\n",
              "          const docLink = document.createElement('div');\n",
              "          docLink.innerHTML = docLinkHtml;\n",
              "          element.appendChild(docLink);\n",
              "        }\n",
              "      </script>\n",
              "    </div>\n",
              "  </div>\n",
              "  "
            ],
            "text/plain": [
              "                       LinearRegression  ...  RandomForestRegressor\n",
              "Score entrainement             0.333155  ...               0.926572\n",
              "Score de prédiction            0.338585  ...               0.689032\n",
              "MAE                           49.062583  ...              31.578556\n",
              "RMSE                          74.415747  ...              51.025279\n",
              "median absolute error         30.958111  ...              16.297810\n",
              "\n",
              "[5 rows x 9 columns]"
            ]
          },
          "metadata": {},
          "execution_count": 72
        }
      ]
    },
    {
      "cell_type": "code",
      "source": [
        "custom_palette = [sns.xkcd_rgb[\"windows blue\"], sns.xkcd_rgb[\"pale red\"], sns.xkcd_rgb[\"medium green\"], \"orange\", \"blue\",\"yellow\", \"purple\", \"deeppink\", \"brown\", \"teal\", \"black\"] \n",
        "sns.set_palette(custom_palette)"
      ],
      "metadata": {
        "id": "jI7U6UktklH1"
      },
      "execution_count": 73,
      "outputs": []
    },
    {
      "cell_type": "code",
      "source": [
        "df_graph_conso = df_results01_Consommation.transpose()\n",
        "fig, axs = plt.subplots(1, 2, figsize=(25, 7))\n",
        "ax1 = sns.barplot(x=df_graph_conso.index, y=df_graph_conso[\"Score entrainement\"].values, data=df_graph_conso, ax=axs[0], palette = custom_palette)\n",
        "ax2 = sns.barplot(x=df_graph_conso.index, y=df_graph_conso[\"Score de prédiction\"].values, data=df_graph_conso, ax=axs[1], palette = custom_palette)\n",
        "ax1.set_xticklabels(ax1.get_xticklabels(),rotation=30)\n",
        "ax1.set_title('Efficacité des modèles linéaires pour la prédiction de la consommation')\n",
        "ax1.set_ylabel('Score entrainement')\n",
        "ax1.set(ylim=(-0.2, 1))\n",
        "ax2.set_xticklabels(ax2.get_xticklabels(),rotation=30)\n",
        "ax2.set_title('Efficacité des modèles linéaires pour la prédiction de la consommation')\n",
        "ax2.set_ylabel('Score prédiction')\n",
        "ax2.set(ylim=(-0.2, 1))\n",
        "\n",
        "plt.tight_layout()\n",
        "fig.savefig(\"Performance modèles variables quantif consommation\", dpi=400)"
      ],
      "metadata": {
        "id": "ga0SVfyRObNB",
        "colab": {
          "base_uri": "https://localhost:8080/",
          "height": 506
        },
        "outputId": "6a3886df-71ab-4449-88c7-5307985c3665"
      },
      "execution_count": 77,
      "outputs": [
        {
          "output_type": "display_data",
          "data": {
            "image/png": "[encoded data removed]",
            "text/plain": [
              "<Figure size 1800x504 with 2 Axes>"
            ]
          },
          "metadata": {
            "needs_background": "light"
          }
        }
      ]
    },
    {
      "cell_type": "code",
      "source": [
        "df_graph_conso = df_results01_GESEmission.transpose()\n",
        "fig, axs = plt.subplots(1, 2, figsize=(25, 7))\n",
        "ax1 = sns.barplot(x=df_graph_conso.index, y=df_graph_conso[\"Score entrainement\"].values, data=df_graph_conso, ax=axs[0], palette = custom_palette)\n",
        "ax2 = sns.barplot(x=df_graph_conso.index, y=df_graph_conso[\"Score de prédiction\"].values, data=df_graph_conso, ax=axs[1], palette = custom_palette)\n",
        "ax1.set_xticklabels(ax1.get_xticklabels(),rotation=30)\n",
        "ax1.set_title('Efficacité des modèles linéaires pour la prédiction des émissions de GES')\n",
        "ax1.set_ylabel('Score entrainement')\n",
        "ax1.set(ylim=(0, 1))\n",
        "ax2.set_xticklabels(ax2.get_xticklabels(),rotation=30)\n",
        "ax2.set_title('Efficacité des modèles linéaires pour la prédiction des émissions de GES')\n",
        "ax2.set_ylabel('Score prédiction')\n",
        "ax2.set(ylim=(0, 1))\n",
        "\n",
        "\n",
        "plt.tight_layout()\n",
        "fig.savefig(\"Performance modèles variables quantif GES émission\", dpi=400)"
      ],
      "metadata": {
        "id": "6tXcXR3vObz7",
        "colab": {
          "base_uri": "https://localhost:8080/",
          "height": 506
        },
        "outputId": "64155adb-1ae5-4528-ffbc-ef8672a60ff9"
      },
      "execution_count": 76,
      "outputs": [
        {
          "output_type": "display_data",
          "data": {
            "image/png": "[encoded data removed]",
            "text/plain": [
              "<Figure size 1800x504 with 2 Axes>"
            ]
          },
          "metadata": {
            "needs_background": "light"
          }
        }
      ]
    },
    {
      "cell_type": "markdown",
      "source": [
        "Le modèle RandomForest semble être le plus efficace. Peut-on quand même optimiser ses prédictions en optimisant le choix des paramètres ?"
      ],
      "metadata": {
        "id": "AzAYd9B-QNDC"
      }
    },
    {
      "cell_type": "markdown",
      "source": [
        "## Optimisation du modèle de machine learning : Validation croisée et choix des hyperparamètres"
      ],
      "metadata": {
        "id": "qrUNqvbE3lEz"
      }
    },
    {
      "cell_type": "markdown",
      "source": [
        "On va chercher les meilleurs paramètres par un \"*grid search*\""
      ],
      "metadata": {
        "id": "2R5PbNQHRf44"
      }
    },
    {
      "cell_type": "markdown",
      "source": [
        "Prédiction de la consommation :"
      ],
      "metadata": {
        "id": "ci0Ebw8ISzGO"
      }
    },
    {
      "cell_type": "code",
      "source": [
        "# création des différentes valeurs possibles pour les différents paramètres\n",
        "parameters = {\"n_estimators\" : [10,20,30],\"max_features\": [\"auto\", \"sqrt\", \"log2\"], \"max_depth\": [int(x) for x in np.linspace(10, 110, num = 11)], \"min_samples_split\": [2,4,8], \"min_samples_leaf\": [1, 2, 4], \"bootstrap\": [True, False],}"
      ],
      "metadata": {
        "id": "tnSGqM2J76BW"
      },
      "execution_count": 85,
      "outputs": []
    },
    {
      "cell_type": "code",
      "source": [
        "# Je mets ce code en commentaire car très long à executer\n",
        "\n",
        "# Application de la grid search pour obtenir les meilleurs paramètres du modèles\n",
        "X_train, X_test, y_train, y_test = train_test_split(X, Y['SiteEnergyUse(kBtu)'], test_size=0.25, random_state = 7)\n",
        "# je centre-réduit les données pour un gain de temps\n",
        "X_train=StandardScaler().fit_transform(X_train)\n",
        "model = RandomForestRegressor()\n",
        "rf_GridSearchCV_conso = GridSearchCV(estimator = model, param_grid = parameters, cv = 5, n_jobs=-1)\n",
        "rf_GridSearchCV_conso.fit(X_train, y_train)"
      ],
      "metadata": {
        "colab": {
          "base_uri": "https://localhost:8080/"
        },
        "id": "5qUYW88AG51S",
        "outputId": "270777b1-652b-4eea-cc2b-b7850e4cae2e"
      },
      "execution_count": 91,
      "outputs": [
        {
          "output_type": "execute_result",
          "data": {
            "text/plain": [
              "GridSearchCV(cv=5, estimator=RandomForestRegressor(), n_jobs=-1,\n",
              "             param_grid={'bootstrap': [True, False],\n",
              "                         'max_depth': [10, 20, 30, 40, 50, 60, 70, 80, 90, 100,\n",
              "                                       110],\n",
              "                         'max_features': ['auto', 'sqrt', 'log2'],\n",
              "                         'min_samples_leaf': [1, 2, 4],\n",
              "                         'min_samples_split': [2, 4, 8],\n",
              "                         'n_estimators': [10, 20, 30]})"
            ]
          },
          "metadata": {},
          "execution_count": 91
        }
      ]
    },
    {
      "cell_type": "markdown",
      "source": [
        "Il est a noté ici que le temps de calcul du code ci-dessus requiert **9min**.\n",
        "\n",
        "Ce long temps de calcul sera à mettre en relief du gain en performance du modèle (peut-être que le gain en performance optenu ici n'est pas significatif par rapport à la lourdeur d'application du code)."
      ],
      "metadata": {
        "id": "ywe8lSZgVAYE"
      }
    },
    {
      "cell_type": "code",
      "source": [
        "# Je mets ce code en commentaire car le précédent est très long à executer, les paramètres en sortie sont ceux dans le bloc de code ci-dessous\n",
        "rf_GridSearchCV_conso.best_params_"
      ],
      "metadata": {
        "id": "ODXl8qJzdKyq",
        "colab": {
          "base_uri": "https://localhost:8080/"
        },
        "outputId": "81952ade-f36d-4297-a988-77d7d0e86468"
      },
      "execution_count": 93,
      "outputs": [
        {
          "output_type": "execute_result",
          "data": {
            "text/plain": [
              "{'bootstrap': False,\n",
              " 'max_depth': 20,\n",
              " 'max_features': 'sqrt',\n",
              " 'min_samples_leaf': 1,\n",
              " 'min_samples_split': 4,\n",
              " 'n_estimators': 30}"
            ]
          },
          "metadata": {},
          "execution_count": 93
        }
      ]
    },
    {
      "cell_type": "markdown",
      "source": [
        "Application des meilleurs hyperparamètres :"
      ],
      "metadata": {
        "id": "84jyT7ze5nb1"
      }
    },
    {
      "cell_type": "code",
      "source": [
        "df_results = run_model_and_performance_check(\"Consommation\", RandomForestRegressor(bootstrap = False, max_depth = 20, max_features=\"sqrt\", min_samples_leaf = 1, min_samples_split=4, n_estimators=30))\n",
        "results_regression = df_results\n",
        "df_results01_Consommation[\"RandomForestRegressor_Optimised\"] = results_regression\n",
        "df_results"
      ],
      "metadata": {
        "colab": {
          "base_uri": "https://localhost:8080/",
          "height": 238
        },
        "id": "aLGdc-rC5FzI",
        "outputId": "8c4b6769-5466-4a6e-b25e-3b09d5cdd635"
      },
      "execution_count": 103,
      "outputs": [
        {
          "output_type": "stream",
          "name": "stdout",
          "text": [
            "Prédiction de la consommation : \n",
            "\n"
          ]
        },
        {
          "output_type": "execute_result",
          "data": {
            "text/html": [
              "\n",
              "  <div id=\"df-4fdc8fca-18de-42b8-92ea-7f2d4d211b82\">\n",
              "    <div class=\"colab-df-container\">\n",
              "      <div>\n",
              "<style scoped>\n",
              "    .dataframe tbody tr th:only-of-type {\n",
              "        vertical-align: middle;\n",
              "    }\n",
              "\n",
              "    .dataframe tbody tr th {\n",
              "        vertical-align: top;\n",
              "    }\n",
              "\n",
              "    .dataframe thead th {\n",
              "        text-align: right;\n",
              "    }\n",
              "</style>\n",
              "<table border=\"1\" class=\"dataframe\">\n",
              "  <thead>\n",
              "    <tr style=\"text-align: right;\">\n",
              "      <th></th>\n",
              "      <th>RandomForestRegressor(bootstrap=False, max_depth=20, max_features='sqrt',\\n                      min_samples_split=4, n_estimators=3</th>\n",
              "    </tr>\n",
              "  </thead>\n",
              "  <tbody>\n",
              "    <tr>\n",
              "      <th>Score entrainement</th>\n",
              "      <td>9.922898e-01</td>\n",
              "    </tr>\n",
              "    <tr>\n",
              "      <th>Score de prédiction</th>\n",
              "      <td>8.684693e-01</td>\n",
              "    </tr>\n",
              "    <tr>\n",
              "      <th>MAE</th>\n",
              "      <td>7.483526e+05</td>\n",
              "    </tr>\n",
              "    <tr>\n",
              "      <th>RMSE</th>\n",
              "      <td>1.500501e+06</td>\n",
              "    </tr>\n",
              "    <tr>\n",
              "      <th>median absolute error</th>\n",
              "      <td>2.930146e+05</td>\n",
              "    </tr>\n",
              "  </tbody>\n",
              "</table>\n",
              "</div>\n",
              "      <button class=\"colab-df-convert\" onclick=\"convertToInteractive('df-4fdc8fca-18de-42b8-92ea-7f2d4d211b82')\"\n",
              "              title=\"Convert this dataframe to an interactive table.\"\n",
              "              style=\"display:none;\">\n",
              "        \n",
              "  <svg xmlns=\"http://www.w3.org/2000/svg\" height=\"24px\"viewBox=\"0 0 24 24\"\n",
              "       width=\"24px\">\n",
              "    <path d=\"M0 0h24v24H0V0z\" fill=\"none\"/>\n",
              "    <path d=\"M18.56 5.44l.94 2.06.94-2.06 2.06-.94-2.06-.94-.94-2.06-.94 2.06-2.06.94zm-11 1L8.5 8.5l.94-2.06 2.06-.94-2.06-.94L8.5 2.5l-.94 2.06-2.06.94zm10 10l.94 2.06.94-2.06 2.06-.94-2.06-.94-.94-2.06-.94 2.06-2.06.94z\"/><path d=\"M17.41 7.96l-1.37-1.37c-.4-.4-.92-.59-1.43-.59-.52 0-1.04.2-1.43.59L10.3 9.45l-7.72 7.72c-.78.78-.78 2.05 0 2.83L4 21.41c.39.39.9.59 1.41.59.51 0 1.02-.2 1.41-.59l7.78-7.78 2.81-2.81c.8-.78.8-2.07 0-2.86zM5.41 20L4 18.59l7.72-7.72 1.47 1.35L5.41 20z\"/>\n",
              "  </svg>\n",
              "      </button>\n",
              "      \n",
              "  <style>\n",
              "    .colab-df-container {\n",
              "      display:flex;\n",
              "      flex-wrap:wrap;\n",
              "      gap: 12px;\n",
              "    }\n",
              "\n",
              "    .colab-df-convert {\n",
              "      background-color: #E8F0FE;\n",
              "      border: none;\n",
              "      border-radius: 50%;\n",
              "      cursor: pointer;\n",
              "      display: none;\n",
              "      fill: #1967D2;\n",
              "      height: 32px;\n",
              "      padding: 0 0 0 0;\n",
              "      width: 32px;\n",
              "    }\n",
              "\n",
              "    .colab-df-convert:hover {\n",
              "      background-color: #E2EBFA;\n",
              "      box-shadow: 0px 1px 2px rgba(60, 64, 67, 0.3), 0px 1px 3px 1px rgba(60, 64, 67, 0.15);\n",
              "      fill: #174EA6;\n",
              "    }\n",
              "\n",
              "    [theme=dark] .colab-df-convert {\n",
              "      background-color: #3B4455;\n",
              "      fill: #D2E3FC;\n",
              "    }\n",
              "\n",
              "    [theme=dark] .colab-df-convert:hover {\n",
              "      background-color: #434B5C;\n",
              "      box-shadow: 0px 1px 3px 1px rgba(0, 0, 0, 0.15);\n",
              "      filter: drop-shadow(0px 1px 2px rgba(0, 0, 0, 0.3));\n",
              "      fill: #FFFFFF;\n",
              "    }\n",
              "  </style>\n",
              "\n",
              "      <script>\n",
              "        const buttonEl =\n",
              "          document.querySelector('#df-4fdc8fca-18de-42b8-92ea-7f2d4d211b82 button.colab-df-convert');\n",
              "        buttonEl.style.display =\n",
              "          google.colab.kernel.accessAllowed ? 'block' : 'none';\n",
              "\n",
              "        async function convertToInteractive(key) {\n",
              "          const element = document.querySelector('#df-4fdc8fca-18de-42b8-92ea-7f2d4d211b82');\n",
              "          const dataTable =\n",
              "            await google.colab.kernel.invokeFunction('convertToInteractive',\n",
              "                                                     [key], {});\n",
              "          if (!dataTable) return;\n",
              "\n",
              "          const docLinkHtml = 'Like what you see? Visit the ' +\n",
              "            '<a target=\"_blank\" href=https://colab.research.google.com/notebooks/data_table.ipynb>data table notebook</a>'\n",
              "            + ' to learn more about interactive tables.';\n",
              "          element.innerHTML = '';\n",
              "          dataTable['output_type'] = 'display_data';\n",
              "          await google.colab.output.renderOutput(dataTable, element);\n",
              "          const docLink = document.createElement('div');\n",
              "          docLink.innerHTML = docLinkHtml;\n",
              "          element.appendChild(docLink);\n",
              "        }\n",
              "      </script>\n",
              "    </div>\n",
              "  </div>\n",
              "  "
            ],
            "text/plain": [
              "                       RandomForestRegressor(bootstrap=False, max_depth=20, max_features='sqrt',\\n                      min_samples_split=4, n_estimators=3\n",
              "Score entrainement                                          9.922898e-01                                                                                   \n",
              "Score de prédiction                                         8.684693e-01                                                                                   \n",
              "MAE                                                         7.483526e+05                                                                                   \n",
              "RMSE                                                        1.500501e+06                                                                                   \n",
              "median absolute error                                       2.930146e+05                                                                                   "
            ]
          },
          "metadata": {},
          "execution_count": 103
        }
      ]
    },
    {
      "cell_type": "markdown",
      "source": [
        "Prédiction de l'émission des GES :"
      ],
      "metadata": {
        "id": "nLrT1uRrSv5O"
      }
    },
    {
      "cell_type": "code",
      "source": [
        "# Je mets ce code en commentaire car très long à executer\n",
        "\n",
        "# Application de la grid search pour obtenir les meilleurs paramètres du modèles\n",
        "X_train, X_test, y_train, y_test = train_test_split(X, Y['TotalGHGEmissions'], test_size=0.25, random_state = 7)\n",
        "# Je centre-réduit les données pour un gain de temps\n",
        "X_train=StandardScaler().fit_transform(X_train)\n",
        "model = RandomForestRegressor()\n",
        "rf_GridSearchCV_GES = GridSearchCV(estimator = model, param_grid = parameters, cv = 5, n_jobs=-1)\n",
        "rf_GridSearchCV_GES.fit(X_train, y_train)"
      ],
      "metadata": {
        "colab": {
          "base_uri": "https://localhost:8080/"
        },
        "id": "fhBJPj-groPq",
        "outputId": "143a7b84-8d36-4c6f-d31f-27dc4acb427e"
      },
      "execution_count": 87,
      "outputs": [
        {
          "output_type": "execute_result",
          "data": {
            "text/plain": [
              "GridSearchCV(cv=5, estimator=RandomForestRegressor(), n_jobs=-1,\n",
              "             param_grid={'bootstrap': [True, False],\n",
              "                         'max_depth': [10, 20, 30, 40, 50, 60, 70, 80, 90, 100,\n",
              "                                       110],\n",
              "                         'max_features': ['auto', 'sqrt', 'log2'],\n",
              "                         'min_samples_leaf': [1, 2, 4],\n",
              "                         'min_samples_split': [2, 4, 8],\n",
              "                         'n_estimators': [10, 20, 30]})"
            ]
          },
          "metadata": {},
          "execution_count": 87
        }
      ]
    },
    {
      "cell_type": "markdown",
      "source": [
        "Il est a noté ici que le temps de calcul du code ci-dessus requiert **8min**.\n",
        "\n",
        "Ce long temps de calcul sera à mettre en relief du gain en performance du modèle (peut-être que le gain en performance optenu ici n'est pas significatif par rapport à la lourdeur d'application du code)."
      ],
      "metadata": {
        "id": "BeKVqytAeDOA"
      }
    },
    {
      "cell_type": "code",
      "source": [
        "# Je mets ce code en commentaire car le précédent est très long à executer, les paramètres en sortie sont ceux dans le bloc de code ci-dessous\n",
        "rf_GridSearchCV_GES.best_params_"
      ],
      "metadata": {
        "id": "ID6ObPDQXrlB",
        "colab": {
          "base_uri": "https://localhost:8080/"
        },
        "outputId": "103dc650-2d2c-4a3b-81ce-ff572cb1ff9e"
      },
      "execution_count": 89,
      "outputs": [
        {
          "output_type": "execute_result",
          "data": {
            "text/plain": [
              "{'bootstrap': False,\n",
              " 'max_depth': 60,\n",
              " 'max_features': 'sqrt',\n",
              " 'min_samples_leaf': 1,\n",
              " 'min_samples_split': 4,\n",
              " 'n_estimators': 10}"
            ]
          },
          "metadata": {},
          "execution_count": 89
        }
      ]
    },
    {
      "cell_type": "markdown",
      "source": [
        "Application des hyperparamètres optimaux :"
      ],
      "metadata": {
        "id": "nL341XhnxRRH"
      }
    },
    {
      "cell_type": "code",
      "source": [
        "df_results = run_model_and_performance_check(\"EmissionGES\", RandomForestRegressor(bootstrap = False, max_depth = 60, max_features=\"sqrt\", min_samples_leaf = 1, min_samples_split=4, n_estimators=10))\n",
        "results_regression = df_results\n",
        "df_results01_GESEmission[\"RandomForestRegressor_Optimised\"] = results_regression\n",
        "df_results"
      ],
      "metadata": {
        "colab": {
          "base_uri": "https://localhost:8080/",
          "height": 238
        },
        "id": "gLyiIjF18Xg2",
        "outputId": "57a1238b-b4fa-46fe-ecbc-a17bd61c735b"
      },
      "execution_count": 106,
      "outputs": [
        {
          "output_type": "stream",
          "name": "stdout",
          "text": [
            "Prédiction des Emission de GES : \n",
            "\n"
          ]
        },
        {
          "output_type": "execute_result",
          "data": {
            "text/html": [
              "\n",
              "  <div id=\"df-6b11082d-351e-4dde-9a0c-e7ef42ed227b\">\n",
              "    <div class=\"colab-df-container\">\n",
              "      <div>\n",
              "<style scoped>\n",
              "    .dataframe tbody tr th:only-of-type {\n",
              "        vertical-align: middle;\n",
              "    }\n",
              "\n",
              "    .dataframe tbody tr th {\n",
              "        vertical-align: top;\n",
              "    }\n",
              "\n",
              "    .dataframe thead th {\n",
              "        text-align: right;\n",
              "    }\n",
              "</style>\n",
              "<table border=\"1\" class=\"dataframe\">\n",
              "  <thead>\n",
              "    <tr style=\"text-align: right;\">\n",
              "      <th></th>\n",
              "      <th>RandomForestRegressor(bootstrap=False, max_depth=60, max_features='sqrt',\\n                      min_samples_split=4, n_estimators=1</th>\n",
              "    </tr>\n",
              "  </thead>\n",
              "  <tbody>\n",
              "    <tr>\n",
              "      <th>Score entrainement</th>\n",
              "      <td>0.980994</td>\n",
              "    </tr>\n",
              "    <tr>\n",
              "      <th>Score de prédiction</th>\n",
              "      <td>0.649179</td>\n",
              "    </tr>\n",
              "    <tr>\n",
              "      <th>MAE</th>\n",
              "      <td>25.749478</td>\n",
              "    </tr>\n",
              "    <tr>\n",
              "      <th>RMSE</th>\n",
              "      <td>54.775045</td>\n",
              "    </tr>\n",
              "    <tr>\n",
              "      <th>median absolute error</th>\n",
              "      <td>8.208667</td>\n",
              "    </tr>\n",
              "  </tbody>\n",
              "</table>\n",
              "</div>\n",
              "      <button class=\"colab-df-convert\" onclick=\"convertToInteractive('df-6b11082d-351e-4dde-9a0c-e7ef42ed227b')\"\n",
              "              title=\"Convert this dataframe to an interactive table.\"\n",
              "              style=\"display:none;\">\n",
              "        \n",
              "  <svg xmlns=\"http://www.w3.org/2000/svg\" height=\"24px\"viewBox=\"0 0 24 24\"\n",
              "       width=\"24px\">\n",
              "    <path d=\"M0 0h24v24H0V0z\" fill=\"none\"/>\n",
              "    <path d=\"M18.56 5.44l.94 2.06.94-2.06 2.06-.94-2.06-.94-.94-2.06-.94 2.06-2.06.94zm-11 1L8.5 8.5l.94-2.06 2.06-.94-2.06-.94L8.5 2.5l-.94 2.06-2.06.94zm10 10l.94 2.06.94-2.06 2.06-.94-2.06-.94-.94-2.06-.94 2.06-2.06.94z\"/><path d=\"M17.41 7.96l-1.37-1.37c-.4-.4-.92-.59-1.43-.59-.52 0-1.04.2-1.43.59L10.3 9.45l-7.72 7.72c-.78.78-.78 2.05 0 2.83L4 21.41c.39.39.9.59 1.41.59.51 0 1.02-.2 1.41-.59l7.78-7.78 2.81-2.81c.8-.78.8-2.07 0-2.86zM5.41 20L4 18.59l7.72-7.72 1.47 1.35L5.41 20z\"/>\n",
              "  </svg>\n",
              "      </button>\n",
              "      \n",
              "  <style>\n",
              "    .colab-df-container {\n",
              "      display:flex;\n",
              "      flex-wrap:wrap;\n",
              "      gap: 12px;\n",
              "    }\n",
              "\n",
              "    .colab-df-convert {\n",
              "      background-color: #E8F0FE;\n",
              "      border: none;\n",
              "      border-radius: 50%;\n",
              "      cursor: pointer;\n",
              "      display: none;\n",
              "      fill: #1967D2;\n",
              "      height: 32px;\n",
              "      padding: 0 0 0 0;\n",
              "      width: 32px;\n",
              "    }\n",
              "\n",
              "    .colab-df-convert:hover {\n",
              "      background-color: #E2EBFA;\n",
              "      box-shadow: 0px 1px 2px rgba(60, 64, 67, 0.3), 0px 1px 3px 1px rgba(60, 64, 67, 0.15);\n",
              "      fill: #174EA6;\n",
              "    }\n",
              "\n",
              "    [theme=dark] .colab-df-convert {\n",
              "      background-color: #3B4455;\n",
              "      fill: #D2E3FC;\n",
              "    }\n",
              "\n",
              "    [theme=dark] .colab-df-convert:hover {\n",
              "      background-color: #434B5C;\n",
              "      box-shadow: 0px 1px 3px 1px rgba(0, 0, 0, 0.15);\n",
              "      filter: drop-shadow(0px 1px 2px rgba(0, 0, 0, 0.3));\n",
              "      fill: #FFFFFF;\n",
              "    }\n",
              "  </style>\n",
              "\n",
              "      <script>\n",
              "        const buttonEl =\n",
              "          document.querySelector('#df-6b11082d-351e-4dde-9a0c-e7ef42ed227b button.colab-df-convert');\n",
              "        buttonEl.style.display =\n",
              "          google.colab.kernel.accessAllowed ? 'block' : 'none';\n",
              "\n",
              "        async function convertToInteractive(key) {\n",
              "          const element = document.querySelector('#df-6b11082d-351e-4dde-9a0c-e7ef42ed227b');\n",
              "          const dataTable =\n",
              "            await google.colab.kernel.invokeFunction('convertToInteractive',\n",
              "                                                     [key], {});\n",
              "          if (!dataTable) return;\n",
              "\n",
              "          const docLinkHtml = 'Like what you see? Visit the ' +\n",
              "            '<a target=\"_blank\" href=https://colab.research.google.com/notebooks/data_table.ipynb>data table notebook</a>'\n",
              "            + ' to learn more about interactive tables.';\n",
              "          element.innerHTML = '';\n",
              "          dataTable['output_type'] = 'display_data';\n",
              "          await google.colab.output.renderOutput(dataTable, element);\n",
              "          const docLink = document.createElement('div');\n",
              "          docLink.innerHTML = docLinkHtml;\n",
              "          element.appendChild(docLink);\n",
              "        }\n",
              "      </script>\n",
              "    </div>\n",
              "  </div>\n",
              "  "
            ],
            "text/plain": [
              "                       RandomForestRegressor(bootstrap=False, max_depth=60, max_features='sqrt',\\n                      min_samples_split=4, n_estimators=1\n",
              "Score entrainement                                              0.980994                                                                                   \n",
              "Score de prédiction                                             0.649179                                                                                   \n",
              "MAE                                                            25.749478                                                                                   \n",
              "RMSE                                                           54.775045                                                                                   \n",
              "median absolute error                                           8.208667                                                                                   "
            ]
          },
          "metadata": {},
          "execution_count": 106
        }
      ]
    },
    {
      "cell_type": "markdown",
      "source": [
        "Présentation des résultats d'optimisation des hyperparamètres sur le modèle RandomForestRegressor"
      ],
      "metadata": {
        "id": "mVvXZpq8_6-5"
      }
    },
    {
      "cell_type": "code",
      "source": [
        "df_graph_conso = df_results01_Consommation.transpose()\n",
        "fig, axs = plt.subplots(1, 2, figsize=(25, 7))\n",
        "ax1 = sns.barplot(x=df_graph_conso.index, y=df_graph_conso[\"Score entrainement\"].values, data=df_graph_conso, ax=axs[0], palette = custom_palette)\n",
        "ax2 = sns.barplot(x=df_graph_conso.index, y=df_graph_conso[\"Score de prédiction\"].values, data=df_graph_conso, ax=axs[1], palette = custom_palette)\n",
        "ax1.set_xticklabels(ax1.get_xticklabels(),rotation=30)\n",
        "ax1.set_title('Efficacité des modèles linéaires pour la prédiction de la consommation')\n",
        "ax1.set_ylabel('Score entrainement')\n",
        "ax1.set(ylim=(-0.4, 1))\n",
        "ax2.set_xticklabels(ax2.get_xticklabels(),rotation=30)\n",
        "ax2.set_title('Efficacité des modèles linéaires pour la prédiction de la consommation')\n",
        "ax2.set_ylabel('Score prédiction')\n",
        "ax2.set(ylim=(-0.4, 1))\n",
        "\n",
        "plt.tight_layout()\n",
        "fig.savefig(\"Performance modèles variables quantif consommation optimisation RF\", dpi=400)"
      ],
      "metadata": {
        "colab": {
          "base_uri": "https://localhost:8080/",
          "height": 506
        },
        "id": "BsqgXJFETnW4",
        "outputId": "216a7116-f3c3-4581-b6c6-53e1442fcc66"
      },
      "execution_count": 107,
      "outputs": [
        {
          "output_type": "display_data",
          "data": {
            "image/png": "[encoded data removed]",
            "text/plain": [
              "<Figure size 1800x504 with 2 Axes>"
            ]
          },
          "metadata": {
            "needs_background": "light"
          }
        }
      ]
    },
    {
      "cell_type": "code",
      "source": [
        "df_barplot_conso = df_graph_conso.drop('LinearRegression') \n",
        "df_barplot_conso = df_barplot_conso.drop('Lasso')\n",
        "df_barplot_conso = df_barplot_conso.drop('Ridge') \n",
        "df_barplot_conso = df_barplot_conso.drop('ElasticNet') \n",
        "df_barplot_conso = df_barplot_conso.drop('TweedieRegressor') \n",
        "df_barplot_conso = df_barplot_conso.drop('HuberRegressor') \n",
        "df_barplot_conso = df_barplot_conso.drop('SVR') \n",
        "df_barplot_conso = df_barplot_conso.drop('XGBRegressor') "
      ],
      "metadata": {
        "id": "KkCV7pbM8OMt"
      },
      "execution_count": 108,
      "outputs": []
    },
    {
      "cell_type": "code",
      "source": [
        "fig, axs = plt.subplots(1, 2, figsize=(13, 7))\n",
        "ax1 = sns.barplot(x=df_barplot_conso.index, y=df_barplot_conso[\"Score entrainement\"].values, data=df_barplot_conso, ax=axs[0], palette = custom_palette)\n",
        "ax2 = sns.barplot(x=df_barplot_conso.index, y=df_barplot_conso[\"Score de prédiction\"].values, data=df_barplot_conso, ax=axs[1], palette = custom_palette)\n",
        "ax1.set_xticklabels(ax1.get_xticklabels(),rotation=30)\n",
        "ax1.set_title('Efficacité des modèles linéaires pour la prédiction de la consommation')\n",
        "ax1.set_ylabel('Score entrainement')\n",
        "ax1.set(ylim=(0.6, 1))\n",
        "ax2.set_xticklabels(ax2.get_xticklabels(),rotation=30)\n",
        "ax2.set_title('Efficacité des modèles linéaires pour la prédiction de la consommation')\n",
        "ax2.set_ylabel('Score prédiction')\n",
        "ax2.set(ylim=(0.6, 1))\n",
        "\n",
        "plt.tight_layout()\n",
        "fig.savefig(\"Performance modèles variables quantif consommation optimisation RF2\", dpi=400)"
      ],
      "metadata": {
        "colab": {
          "base_uri": "https://localhost:8080/",
          "height": 513
        },
        "id": "o4hGfKMu6Mld",
        "outputId": "677be606-cd13-4fb4-d41b-54f6d3a91a09"
      },
      "execution_count": 109,
      "outputs": [
        {
          "output_type": "display_data",
          "data": {
            "image/png": "[encoded data removed]",
            "text/plain": [
              "<Figure size 936x504 with 2 Axes>"
            ]
          },
          "metadata": {
            "needs_background": "light"
          }
        }
      ]
    },
    {
      "cell_type": "markdown",
      "source": [
        "On remarque ici que l'optimisation du modèle de RandomForest créé de l'overfitting sur le jeu d'entrainement pour la prédiction de la consommation"
      ],
      "metadata": {
        "id": "g7WyA6Pc10iD"
      }
    },
    {
      "cell_type": "code",
      "source": [
        "df_graph_GES = df_results01_GESEmission.transpose()\n",
        "fig, axs = plt.subplots(1, 2, figsize=(25, 7))\n",
        "ax1 = sns.barplot(x=df_graph_GES.index, y=df_graph_GES[\"Score entrainement\"].values, data=df_graph_GES, ax=axs[0], palette = custom_palette)\n",
        "ax2 = sns.barplot(x=df_graph_GES.index, y=df_graph_GES[\"Score de prédiction\"].values, data=df_graph_GES, ax=axs[1], palette = custom_palette)\n",
        "ax1.set_xticklabels(ax1.get_xticklabels(),rotation=30)\n",
        "ax1.set_title('Efficacité des modèles linéaires pour la prédiction des émissions de GES')\n",
        "ax1.set_ylabel('Score entrainement')\n",
        "ax1.set(ylim=(-0.4, 1))\n",
        "ax2.set_xticklabels(ax2.get_xticklabels(),rotation=30)\n",
        "ax2.set_title('Efficacité des modèles linéaires pour la prédiction des émissions de GES')\n",
        "ax2.set_ylabel('Score prédiction')\n",
        "ax2.set(ylim=(-0.4, 1))\n",
        "\n",
        "\n",
        "plt.tight_layout()\n",
        "fig.savefig(\"Performance modèles variables quantif GES émission optimisation RF\", dpi=400)"
      ],
      "metadata": {
        "colab": {
          "base_uri": "https://localhost:8080/",
          "height": 506
        },
        "id": "IfIUkaA4Tkwx",
        "outputId": "16abbae5-4238-4047-d7a6-45861068cbfd"
      },
      "execution_count": 110,
      "outputs": [
        {
          "output_type": "display_data",
          "data": {
            "image/png": "[encoded data removed]",
            "text/plain": [
              "<Figure size 1800x504 with 2 Axes>"
            ]
          },
          "metadata": {
            "needs_background": "light"
          }
        }
      ]
    },
    {
      "cell_type": "code",
      "source": [
        "df_barplotGES = df_graph_GES.drop('LinearRegression') \n",
        "df_barplotGES = df_barplotGES.drop('Lasso')\n",
        "df_barplotGES = df_barplotGES.drop('Ridge') \n",
        "df_barplotGES = df_barplotGES.drop('ElasticNet') \n",
        "df_barplotGES = df_barplotGES.drop('TweedieRegressor') \n",
        "df_barplotGES = df_barplotGES.drop('HuberRegressor') \n",
        "df_barplotGES = df_barplotGES.drop('SVR') \n",
        "df_barplotGES = df_barplotGES.drop('XGBRegressor') "
      ],
      "metadata": {
        "id": "mrUs8HKiV6i5"
      },
      "execution_count": 111,
      "outputs": []
    },
    {
      "cell_type": "code",
      "source": [
        "fig, axs = plt.subplots(1, 2, figsize=(13, 7))\n",
        "ax1 = sns.barplot(x=df_barplotGES.index, y=df_barplotGES[\"Score entrainement\"].values, data=df_barplotGES, ax=axs[0], palette = custom_palette)\n",
        "ax2 = sns.barplot(x=df_barplotGES.index, y=df_barplotGES[\"Score de prédiction\"].values, data=df_barplotGES, ax=axs[1], palette = custom_palette)\n",
        "ax1.set_xticklabels(ax1.get_xticklabels(),rotation=30)\n",
        "ax1.set_title(\"Efficacité des modèles linéaires pour la prédiction de l'émission des GES\")\n",
        "ax1.set_ylabel('Score entrainement')\n",
        "ax1.set(ylim=(0.6, 1))\n",
        "ax2.set_xticklabels(ax2.get_xticklabels(),rotation=30)\n",
        "ax2.set_title(\"Efficacité des modèles linéaires pour la prédiction de l'émission des GES\")\n",
        "ax2.set_ylabel('Score prédiction')\n",
        "ax2.set(ylim=(0.4, 1))\n",
        "\n",
        "plt.tight_layout()\n",
        "fig.savefig(\"Performance modèles variables quantif GES optimisation RF2\", dpi=400)"
      ],
      "metadata": {
        "colab": {
          "base_uri": "https://localhost:8080/",
          "height": 513
        },
        "id": "EY3zCpZOV4qh",
        "outputId": "94eea866-9731-4d94-c2eb-75ca578084b1"
      },
      "execution_count": 112,
      "outputs": [
        {
          "output_type": "display_data",
          "data": {
            "image/png": "[encoded data removed]",
            "text/plain": [
              "<Figure size 936x504 with 2 Axes>"
            ]
          },
          "metadata": {
            "needs_background": "light"
          }
        }
      ]
    },
    {
      "cell_type": "markdown",
      "source": [
        "L'optimisation par validation croisée et grid search améliore l'algorithme de RandomForest. On peut cependant noté que l'entrainement prend beaucoup de temps (environ 8min sur google collab) pour un gain en performance relativement faible pour la prédiction de la consommation (0.87 (optimisé) à la place de 0.81 (non-optimisé)) et provoque un overfitting pour la prédiction des émissions de GES."
      ],
      "metadata": {
        "id": "1zl25MeXe1hx"
      }
    },
    {
      "cell_type": "markdown",
      "source": [
        "## Importance de normalisation de type log sur les variables d'intérêt (consommation et émission de GES) :"
      ],
      "metadata": {
        "id": "TCh55JIhAmqs"
      }
    },
    {
      "cell_type": "code",
      "source": [
        "# Pour la prédiction de la consommation en énergie\n",
        "X = X[features_Quant]\n",
        "Y_conso = Y['SiteEnergyUse(kBtu)']\n",
        "X_train, X_test, y_train, y_test = train_test_split(X, Y_conso, test_size=0.25, random_state = 7)\n",
        "model_regr_RF_Consommation_nolog = RandomForestRegressor(bootstrap = False, max_depth=None, max_features=\"sqrt\", min_samples_leaf=1, min_samples_split=2, n_estimators=400)\n",
        "model_regr_RF_Consommation_nolog.fit(X_train, y_train)\n",
        "y_pred = model_regr_RF_Consommation_nolog.predict(X_test)\n",
        "print(\"Efficacité du modèle de régression Random Forest sans normalisation log :\")\n",
        "print(\"Score entrainement = \",model_regr_RF_Consommation_nolog.score(X_train,y_train))\n",
        "print(\"Score de prédiction = \",model_regr_RF_Consommation_nolog.score(X_test,y_test))\n",
        "\n",
        "y_trainlog_conso = np.log(1+y_train)\n",
        "y_testlog_conso = np.log(1+y_test)\n",
        "model_regr_RF_Consommation_log = RandomForestRegressor(bootstrap = False, max_depth=None, max_features=\"sqrt\", min_samples_leaf=1, min_samples_split=2, n_estimators=400)\n",
        "model_regr_RF_Consommation_log.fit(X_train, y_trainlog_conso)\n",
        "y_pred = model_regr_RF_Consommation_log.predict(X_test)\n",
        "results_conso_log = np.array([model_regr_RF_Consommation_log.score(X_train,y_trainlog_conso), model_regr_RF_Consommation_log.score(X_test,y_testlog_conso), mean_absolute_error(y_testlog_conso,y_pred), np.sqrt(mean_squared_error(y_testlog_conso,y_pred)), median_absolute_error(y_testlog_conso,y_pred)])\n",
        "df_barplot_conso.loc[2]=[results_conso_log[0],results_conso_log[1],results_conso_log[2], results_conso_log[3], results_conso_log[4]]\n",
        "print(\"\\nEfficacité du modèle de régression Random Forest avec normalisation log : \")\n",
        "print(\"Score entrainement = \",model_regr_RF_Consommation_log.score(X_train,y_trainlog_conso))\n",
        "print(\"Score de prédiction = \",model_regr_RF_Consommation_log.score(X_test,y_testlog_conso))"
      ],
      "metadata": {
        "colab": {
          "base_uri": "https://localhost:8080/"
        },
        "id": "kGkY2yT5Awzu",
        "outputId": "eb7af242-83f9-4988-a73d-f05670f81dfd"
      },
      "execution_count": 115,
      "outputs": [
        {
          "output_type": "stream",
          "name": "stdout",
          "text": [
            "Efficacité du modèle de régression Random Forest sans normalisation log :\n",
            "Score entrainement =  0.996884487729903\n",
            "Score de prédiction =  0.8699765930637134\n",
            "\n",
            "Efficacité du modèle de régression Random Forest avec normalisation log : \n",
            "Score entrainement =  0.9952258349886923\n",
            "Score de prédiction =  0.8655916122995051\n"
          ]
        }
      ]
    },
    {
      "cell_type": "code",
      "source": [
        "y1 = [model_regr_RF_Consommation_nolog.score(X_train,y_train), model_regr_RF_Consommation_log.score(X_train,y_trainlog_conso)]\n",
        "x1 = [\"RandomForestOpt\", \"RandomForestOpt+Log\"]\n",
        "y2 = [model_regr_RF_Consommation_nolog.score(X_test,y_test), model_regr_RF_Consommation_log.score(X_test,y_testlog_conso)]\n",
        "x2 = x1\n",
        "fig, axs = plt.subplots(1, 2, figsize=(13, 7))\n",
        "ax1 = sns.barplot(x=x1, y=y1, ax=axs[0], palette = custom_palette)\n",
        "ax2 = sns.barplot(x=x2, y=y2, ax=axs[1], palette = custom_palette)\n",
        "ax1.set_xticklabels(ax1.get_xticklabels(),rotation=30)\n",
        "ax1.set_title(\"Efficacité des modèles linéaires pour la prédiction de l'émission des GES\")\n",
        "ax1.set_ylabel('Score entrainement')\n",
        "ax1.set(ylim=(0.9, 1))\n",
        "ax2.set_xticklabels(ax2.get_xticklabels(),rotation=30)\n",
        "ax2.set_title(\"Efficacité des modèles linéaires pour la prédiction de l'émission des GES\")\n",
        "ax2.set_ylabel('Score prédiction')\n",
        "ax2.set(ylim=(0.4, 1))\n",
        "\n",
        "plt.tight_layout()\n",
        "fig.savefig(\"Performance modèles variables quantif émission optimisation + Log RF\", dpi=400)"
      ],
      "metadata": {
        "colab": {
          "base_uri": "https://localhost:8080/",
          "height": 513
        },
        "id": "5-9F5q57GOOm",
        "outputId": "34322cf4-4289-4669-886c-7077f75fa012"
      },
      "execution_count": 116,
      "outputs": [
        {
          "output_type": "display_data",
          "data": {
            "image/png": "[encoded data removed]",
            "text/plain": [
              "<Figure size 936x504 with 2 Axes>"
            ]
          },
          "metadata": {
            "needs_background": "light"
          }
        }
      ]
    },
    {
      "cell_type": "markdown",
      "source": [
        "Il n'y a pas d'intérêt à normaliser les données de consommation par le log"
      ],
      "metadata": {
        "id": "LnnT9j84Cnfd"
      }
    },
    {
      "cell_type": "code",
      "source": [
        "# Pour la prédiction de l'émission de GES\n",
        "X = X[features_Quant]\n",
        "Y_conso = Y['TotalGHGEmissions']\n",
        "X_train, X_test, y_train, y_test = train_test_split(X, Y_conso, test_size=0.25)\n",
        "model_regr_RF_Consommation_nolog = RandomForestRegressor(bootstrap = False, max_depth=None, max_features=\"sqrt\", min_samples_leaf=1, min_samples_split=2, n_estimators=400)\n",
        "model_regr_RF_Consommation_nolog.fit(X_train, y_train)\n",
        "y_pred = model_regr_RF_Consommation_nolog.predict(X_test)\n",
        "print(\"Efficacité du modèle de régression Random Forest sans normalisation log :\")\n",
        "print(\"Score entrainement = \",model_regr_RF_Consommation_nolog.score(X_train,y_train))\n",
        "print(\"Score de prédiction = \",model_regr_RF_Consommation_nolog.score(X_test,y_test))\n",
        "\n",
        "y_trainlog_conso = np.log(1+y_train)\n",
        "y_testlog_conso = np.log(1+y_test)\n",
        "model_regr_RF_Consommation_log = RandomForestRegressor(bootstrap = False, max_depth=None, max_features=\"sqrt\", min_samples_leaf=1, min_samples_split=2, n_estimators=400)\n",
        "model_regr_RF_Consommation_log.fit(X_train, y_trainlog_conso)\n",
        "y_pred = model_regr_RF_Consommation_log.predict(X_test)\n",
        "results_conso_log = np.array([model_regr_RF_Consommation_log.score(X_train,y_trainlog_conso), model_regr_RF_Consommation_log.score(X_test,y_testlog_conso), mean_absolute_error(y_testlog_conso,y_pred), np.sqrt(mean_squared_error(y_testlog_conso,y_pred)), median_absolute_error(y_testlog_conso,y_pred)])\n",
        "df_barplot_conso.loc[2]=[results_conso_log[0],results_conso_log[1],results_conso_log[2], results_conso_log[3], results_conso_log[4]]\n",
        "print(\"\\nEfficacité du modèle de régression Random Forest avec normalisation log : \")\n",
        "print(\"Score entrainement = \",model_regr_RF_Consommation_log.score(X_train,y_trainlog_conso))\n",
        "print(\"Score de prédiction = \",model_regr_RF_Consommation_log.score(X_test,y_testlog_conso))"
      ],
      "metadata": {
        "colab": {
          "base_uri": "https://localhost:8080/"
        },
        "id": "ln0rqroSKiVm",
        "outputId": "38bd5bc1-7cfb-41f0-dca4-aa12321d523a"
      },
      "execution_count": 117,
      "outputs": [
        {
          "output_type": "stream",
          "name": "stdout",
          "text": [
            "Efficacité du modèle de régression Random Forest sans normalisation log :\n",
            "Score entrainement =  0.9952014547706485\n",
            "Score de prédiction =  0.6169730222994667\n",
            "\n",
            "Efficacité du modèle de régression Random Forest avec normalisation log : \n",
            "Score entrainement =  0.9952869500195246\n",
            "Score de prédiction =  0.6695314299595431\n"
          ]
        }
      ]
    },
    {
      "cell_type": "code",
      "source": [
        "y1 = [model_regr_RF_Consommation_nolog.score(X_train,y_train), model_regr_RF_Consommation_log.score(X_train,y_trainlog_conso)]\n",
        "x1 = [\"RandomForestOpt\", \"RandomForestOpt+Log\"]\n",
        "y2 = [model_regr_RF_Consommation_nolog.score(X_test,y_test), model_regr_RF_Consommation_log.score(X_test,y_testlog_conso)]\n",
        "x2 = x1\n",
        "fig, axs = plt.subplots(1, 2, figsize=(13, 7))\n",
        "ax1 = sns.barplot(x=x1, y=y1, ax=axs[0], palette = custom_palette)\n",
        "ax2 = sns.barplot(x=x2, y=y2, ax=axs[1], palette = custom_palette)\n",
        "ax1.set_xticklabels(ax1.get_xticklabels(),rotation=30)\n",
        "ax1.set_title(\"Efficacité des modèles linéaires pour la prédiction de l'émission des GES\")\n",
        "ax1.set_ylabel('Score entrainement')\n",
        "ax1.set(ylim=(0.9, 1))\n",
        "ax2.set_xticklabels(ax2.get_xticklabels(),rotation=30)\n",
        "ax2.set_title(\"Efficacité des modèles linéaires pour la prédiction de l'émission des GES\")\n",
        "ax2.set_ylabel('Score prédiction')\n",
        "ax2.set(ylim=(0.4, 1))\n",
        "\n",
        "plt.tight_layout()\n",
        "fig.savefig(\"Performance modèles variables quantif GES optimisation + Log RF\", dpi=400)"
      ],
      "metadata": {
        "colab": {
          "base_uri": "https://localhost:8080/",
          "height": 513
        },
        "id": "9-YPwZkhGQwv",
        "outputId": "f71f25c1-25fc-4102-805b-44e299ea0c71"
      },
      "execution_count": 118,
      "outputs": [
        {
          "output_type": "display_data",
          "data": {
            "image/png": "[encoded data removed]",
            "text/plain": [
              "<Figure size 936x504 with 2 Axes>"
            ]
          },
          "metadata": {
            "needs_background": "light"
          }
        }
      ]
    },
    {
      "cell_type": "markdown",
      "source": [
        "Il y aurait un léger intérêt à normaliser les données d'émission de GES par le log"
      ],
      "metadata": {
        "id": "xg6dE7MWCtUN"
      }
    },
    {
      "cell_type": "markdown",
      "source": [
        "# Utilisation des variables quantitatives ET qualitatives"
      ],
      "metadata": {
        "id": "ICr4tYdi3WEQ"
      }
    },
    {
      "cell_type": "markdown",
      "source": [
        "Les modèles de prédiction peuvent prendre en entrée des variables catégorielles si au préalable, une transformation incluant des encoders est effectuée.\n",
        "\n",
        "L'objectif ici est de tester la plus-value à utiliser ce mode d'entrainement de modèle de machine learning."
      ],
      "metadata": {
        "id": "OBFaVuQzfWoi"
      }
    },
    {
      "cell_type": "markdown",
      "source": [
        "## Modélisation linéaire, test des différents algorithmes"
      ],
      "metadata": {
        "id": "uIwvcs_c3srH"
      }
    },
    {
      "cell_type": "code",
      "source": [
        "Y = data[to_predict_features]\n",
        "X = data.drop(to_predict_features, axis=1)"
      ],
      "metadata": {
        "id": "WbMIXWCCC8w0"
      },
      "execution_count": 119,
      "outputs": []
    },
    {
      "cell_type": "code",
      "source": [
        "X.columns"
      ],
      "metadata": {
        "colab": {
          "base_uri": "https://localhost:8080/"
        },
        "id": "Ugxa41E9GZrs",
        "outputId": "f2344ef1-d4f2-4cef-d4d1-1fdc71d6a2ea"
      },
      "execution_count": 120,
      "outputs": [
        {
          "output_type": "execute_result",
          "data": {
            "text/plain": [
              "Index(['PrimaryPropertyType', 'CouncilDistrictCode', 'Neighborhood',\n",
              "       'NumberofFloors', 'PropertyGFATotal', 'PropertyGFAParking',\n",
              "       'PropertyGFABuilding(s)', 'LargestPropertyUseType',\n",
              "       'LargestPropertyUseTypeGFA', 'YearBuilt_age', 'GFA_per_floor',\n",
              "       'Building_age'],\n",
              "      dtype='object')"
            ]
          },
          "metadata": {},
          "execution_count": 120
        }
      ]
    },
    {
      "cell_type": "code",
      "source": [
        "features_Quant = ['CouncilDistrictCode', 'NumberofFloors','PropertyGFATotal', 'PropertyGFAParking', 'PropertyGFABuilding(s)', 'LargestPropertyUseTypeGFA', 'GFA_per_floor','Building_age']\n",
        "features_Qual = ['PrimaryPropertyType', 'Neighborhood', 'LargestPropertyUseType', 'YearBuilt_age']"
      ],
      "metadata": {
        "id": "1q8kIK3dT_-C"
      },
      "execution_count": 121,
      "outputs": []
    },
    {
      "cell_type": "markdown",
      "source": [
        "Standardisation des données"
      ],
      "metadata": {
        "id": "kpqOLJv-F6NG"
      }
    },
    {
      "cell_type": "code",
      "source": [
        "preprocessor = make_column_transformer((RobustScaler(),features_Quant),(OneHotEncoder(handle_unknown = 'ignore'),features_Qual))"
      ],
      "metadata": {
        "id": "pLRSqB7rF9pZ"
      },
      "execution_count": 122,
      "outputs": []
    },
    {
      "cell_type": "markdown",
      "source": [
        "  ### Régression linéaire basic\n"
      ],
      "metadata": {
        "id": "hp1HqP7l7sbo"
      }
    },
    {
      "cell_type": "markdown",
      "source": [
        "Prédiction de la consommation :"
      ],
      "metadata": {
        "id": "q7bRKnHCN0Bc"
      }
    },
    {
      "cell_type": "code",
      "source": [
        "def run_model_and_performance_check_with_Quali(feature_to_predict, model):\n",
        "   # Sélection des données\n",
        "  if feature_to_predict == \"Consommation\":\n",
        "    X_train, X_test, y_train, y_test = train_test_split(X, Y['SiteEnergyUse(kBtu)'], test_size=0.25, random_state=7)\n",
        "  if feature_to_predict == \"EmissionGES\":\n",
        "    X_train, X_test, y_train, y_test = train_test_split(X, Y['TotalGHGEmissions'], test_size=0.25, random_state=7)\n",
        "\n",
        "  # Choix du model et entrainement\n",
        "  model_regr = make_pipeline(preprocessor,model)\n",
        "  model_regr.fit(X_train, y_train)\n",
        "\n",
        "  # Prédiction du modèle et archivage des résultats\n",
        "  y_pred = model_regr.predict(X_test)\n",
        " \n",
        "  # Création des dataframes résultats\n",
        "  results_regression = np.array([model_regr.score(X_train,y_train), model_regr.score(X_test,y_test), mean_absolute_error(y_test,y_pred), np.sqrt(mean_squared_error(y_test,y_pred)), median_absolute_error(y_test,y_pred)])\n",
        "  df_results = pad.DataFrame(index = [\"Score entrainement\", \"Score de prédiction\", \"MAE\", \"RMSE\", \"median absolute error\"], columns = [str(model)[:-2]])\n",
        "  df_results[str(model)[:-2]] = results_regression\n",
        "\n",
        "  # Ennoncé des résultats de performance du modèle\n",
        "  if feature_to_predict == \"Consommation\":\n",
        "    print(\"Prédiction de la consommation : \\n\")\n",
        "  if feature_to_predict == \"EmissionGES\":\n",
        "    print(\"Prédiction des Emission de GES : \\n\")\n",
        "\n",
        "  return df_results"
      ],
      "metadata": {
        "id": "v1ATmP-eEmHa"
      },
      "execution_count": 123,
      "outputs": []
    },
    {
      "cell_type": "code",
      "source": [
        "run_model_and_performance_check_with_Quali(\"Consommation\", LinearRegression())"
      ],
      "metadata": {
        "colab": {
          "base_uri": "https://localhost:8080/",
          "height": 238
        },
        "id": "PKNyNzMfEnzn",
        "outputId": "b7d74e6c-5d37-46d0-e146-ebddc035fe12"
      },
      "execution_count": 129,
      "outputs": [
        {
          "output_type": "stream",
          "name": "stdout",
          "text": [
            "Prédiction de la consommation : \n",
            "\n"
          ]
        },
        {
          "output_type": "execute_result",
          "data": {
            "text/html": [
              "\n",
              "  <div id=\"df-a5446792-3e52-40c1-9347-d7302bc5a669\">\n",
              "    <div class=\"colab-df-container\">\n",
              "      <div>\n",
              "<style scoped>\n",
              "    .dataframe tbody tr th:only-of-type {\n",
              "        vertical-align: middle;\n",
              "    }\n",
              "\n",
              "    .dataframe tbody tr th {\n",
              "        vertical-align: top;\n",
              "    }\n",
              "\n",
              "    .dataframe thead th {\n",
              "        text-align: right;\n",
              "    }\n",
              "</style>\n",
              "<table border=\"1\" class=\"dataframe\">\n",
              "  <thead>\n",
              "    <tr style=\"text-align: right;\">\n",
              "      <th></th>\n",
              "      <th>LinearRegression</th>\n",
              "    </tr>\n",
              "  </thead>\n",
              "  <tbody>\n",
              "    <tr>\n",
              "      <th>Score entrainement</th>\n",
              "      <td>7.156261e-01</td>\n",
              "    </tr>\n",
              "    <tr>\n",
              "      <th>Score de prédiction</th>\n",
              "      <td>7.134886e-01</td>\n",
              "    </tr>\n",
              "    <tr>\n",
              "      <th>MAE</th>\n",
              "      <td>1.423770e+06</td>\n",
              "    </tr>\n",
              "    <tr>\n",
              "      <th>RMSE</th>\n",
              "      <td>2.214592e+06</td>\n",
              "    </tr>\n",
              "    <tr>\n",
              "      <th>median absolute error</th>\n",
              "      <td>9.654726e+05</td>\n",
              "    </tr>\n",
              "  </tbody>\n",
              "</table>\n",
              "</div>\n",
              "      <button class=\"colab-df-convert\" onclick=\"convertToInteractive('df-a5446792-3e52-40c1-9347-d7302bc5a669')\"\n",
              "              title=\"Convert this dataframe to an interactive table.\"\n",
              "              style=\"display:none;\">\n",
              "        \n",
              "  <svg xmlns=\"http://www.w3.org/2000/svg\" height=\"24px\"viewBox=\"0 0 24 24\"\n",
              "       width=\"24px\">\n",
              "    <path d=\"M0 0h24v24H0V0z\" fill=\"none\"/>\n",
              "    <path d=\"M18.56 5.44l.94 2.06.94-2.06 2.06-.94-2.06-.94-.94-2.06-.94 2.06-2.06.94zm-11 1L8.5 8.5l.94-2.06 2.06-.94-2.06-.94L8.5 2.5l-.94 2.06-2.06.94zm10 10l.94 2.06.94-2.06 2.06-.94-2.06-.94-.94-2.06-.94 2.06-2.06.94z\"/><path d=\"M17.41 7.96l-1.37-1.37c-.4-.4-.92-.59-1.43-.59-.52 0-1.04.2-1.43.59L10.3 9.45l-7.72 7.72c-.78.78-.78 2.05 0 2.83L4 21.41c.39.39.9.59 1.41.59.51 0 1.02-.2 1.41-.59l7.78-7.78 2.81-2.81c.8-.78.8-2.07 0-2.86zM5.41 20L4 18.59l7.72-7.72 1.47 1.35L5.41 20z\"/>\n",
              "  </svg>\n",
              "      </button>\n",
              "      \n",
              "  <style>\n",
              "    .colab-df-container {\n",
              "      display:flex;\n",
              "      flex-wrap:wrap;\n",
              "      gap: 12px;\n",
              "    }\n",
              "\n",
              "    .colab-df-convert {\n",
              "      background-color: #E8F0FE;\n",
              "      border: none;\n",
              "      border-radius: 50%;\n",
              "      cursor: pointer;\n",
              "      display: none;\n",
              "      fill: #1967D2;\n",
              "      height: 32px;\n",
              "      padding: 0 0 0 0;\n",
              "      width: 32px;\n",
              "    }\n",
              "\n",
              "    .colab-df-convert:hover {\n",
              "      background-color: #E2EBFA;\n",
              "      box-shadow: 0px 1px 2px rgba(60, 64, 67, 0.3), 0px 1px 3px 1px rgba(60, 64, 67, 0.15);\n",
              "      fill: #174EA6;\n",
              "    }\n",
              "\n",
              "    [theme=dark] .colab-df-convert {\n",
              "      background-color: #3B4455;\n",
              "      fill: #D2E3FC;\n",
              "    }\n",
              "\n",
              "    [theme=dark] .colab-df-convert:hover {\n",
              "      background-color: #434B5C;\n",
              "      box-shadow: 0px 1px 3px 1px rgba(0, 0, 0, 0.15);\n",
              "      filter: drop-shadow(0px 1px 2px rgba(0, 0, 0, 0.3));\n",
              "      fill: #FFFFFF;\n",
              "    }\n",
              "  </style>\n",
              "\n",
              "      <script>\n",
              "        const buttonEl =\n",
              "          document.querySelector('#df-a5446792-3e52-40c1-9347-d7302bc5a669 button.colab-df-convert');\n",
              "        buttonEl.style.display =\n",
              "          google.colab.kernel.accessAllowed ? 'block' : 'none';\n",
              "\n",
              "        async function convertToInteractive(key) {\n",
              "          const element = document.querySelector('#df-a5446792-3e52-40c1-9347-d7302bc5a669');\n",
              "          const dataTable =\n",
              "            await google.colab.kernel.invokeFunction('convertToInteractive',\n",
              "                                                     [key], {});\n",
              "          if (!dataTable) return;\n",
              "\n",
              "          const docLinkHtml = 'Like what you see? Visit the ' +\n",
              "            '<a target=\"_blank\" href=https://colab.research.google.com/notebooks/data_table.ipynb>data table notebook</a>'\n",
              "            + ' to learn more about interactive tables.';\n",
              "          element.innerHTML = '';\n",
              "          dataTable['output_type'] = 'display_data';\n",
              "          await google.colab.output.renderOutput(dataTable, element);\n",
              "          const docLink = document.createElement('div');\n",
              "          docLink.innerHTML = docLinkHtml;\n",
              "          element.appendChild(docLink);\n",
              "        }\n",
              "      </script>\n",
              "    </div>\n",
              "  </div>\n",
              "  "
            ],
            "text/plain": [
              "                       LinearRegression\n",
              "Score entrainement         7.156261e-01\n",
              "Score de prédiction        7.134886e-01\n",
              "MAE                        1.423770e+06\n",
              "RMSE                       2.214592e+06\n",
              "median absolute error      9.654726e+05"
            ]
          },
          "metadata": {},
          "execution_count": 129
        }
      ]
    },
    {
      "cell_type": "markdown",
      "source": [
        "Prédiction de l'émission de GES :"
      ],
      "metadata": {
        "id": "cW8AdR8ON3Ew"
      }
    },
    {
      "cell_type": "code",
      "source": [
        "run_model_and_performance_check_with_Quali(\"EmissionGES\", LinearRegression())"
      ],
      "metadata": {
        "id": "Xf1g1Aw3NN0c",
        "colab": {
          "base_uri": "https://localhost:8080/",
          "height": 238
        },
        "outputId": "3713c22b-194b-4315-dc81-53832b8bb8b1"
      },
      "execution_count": 131,
      "outputs": [
        {
          "output_type": "stream",
          "name": "stdout",
          "text": [
            "Prédiction des Emission de GES : \n",
            "\n"
          ]
        },
        {
          "output_type": "execute_result",
          "data": {
            "text/html": [
              "\n",
              "  <div id=\"df-ce747cbc-7577-4d9d-bbda-a89fdc3ae3d4\">\n",
              "    <div class=\"colab-df-container\">\n",
              "      <div>\n",
              "<style scoped>\n",
              "    .dataframe tbody tr th:only-of-type {\n",
              "        vertical-align: middle;\n",
              "    }\n",
              "\n",
              "    .dataframe tbody tr th {\n",
              "        vertical-align: top;\n",
              "    }\n",
              "\n",
              "    .dataframe thead th {\n",
              "        text-align: right;\n",
              "    }\n",
              "</style>\n",
              "<table border=\"1\" class=\"dataframe\">\n",
              "  <thead>\n",
              "    <tr style=\"text-align: right;\">\n",
              "      <th></th>\n",
              "      <th>LinearRegression</th>\n",
              "    </tr>\n",
              "  </thead>\n",
              "  <tbody>\n",
              "    <tr>\n",
              "      <th>Score entrainement</th>\n",
              "      <td>0.516256</td>\n",
              "    </tr>\n",
              "    <tr>\n",
              "      <th>Score de prédiction</th>\n",
              "      <td>0.434288</td>\n",
              "    </tr>\n",
              "    <tr>\n",
              "      <th>MAE</th>\n",
              "      <td>43.267042</td>\n",
              "    </tr>\n",
              "    <tr>\n",
              "      <th>RMSE</th>\n",
              "      <td>69.556452</td>\n",
              "    </tr>\n",
              "    <tr>\n",
              "      <th>median absolute error</th>\n",
              "      <td>27.457283</td>\n",
              "    </tr>\n",
              "  </tbody>\n",
              "</table>\n",
              "</div>\n",
              "      <button class=\"colab-df-convert\" onclick=\"convertToInteractive('df-ce747cbc-7577-4d9d-bbda-a89fdc3ae3d4')\"\n",
              "              title=\"Convert this dataframe to an interactive table.\"\n",
              "              style=\"display:none;\">\n",
              "        \n",
              "  <svg xmlns=\"http://www.w3.org/2000/svg\" height=\"24px\"viewBox=\"0 0 24 24\"\n",
              "       width=\"24px\">\n",
              "    <path d=\"M0 0h24v24H0V0z\" fill=\"none\"/>\n",
              "    <path d=\"M18.56 5.44l.94 2.06.94-2.06 2.06-.94-2.06-.94-.94-2.06-.94 2.06-2.06.94zm-11 1L8.5 8.5l.94-2.06 2.06-.94-2.06-.94L8.5 2.5l-.94 2.06-2.06.94zm10 10l.94 2.06.94-2.06 2.06-.94-2.06-.94-.94-2.06-.94 2.06-2.06.94z\"/><path d=\"M17.41 7.96l-1.37-1.37c-.4-.4-.92-.59-1.43-.59-.52 0-1.04.2-1.43.59L10.3 9.45l-7.72 7.72c-.78.78-.78 2.05 0 2.83L4 21.41c.39.39.9.59 1.41.59.51 0 1.02-.2 1.41-.59l7.78-7.78 2.81-2.81c.8-.78.8-2.07 0-2.86zM5.41 20L4 18.59l7.72-7.72 1.47 1.35L5.41 20z\"/>\n",
              "  </svg>\n",
              "      </button>\n",
              "      \n",
              "  <style>\n",
              "    .colab-df-container {\n",
              "      display:flex;\n",
              "      flex-wrap:wrap;\n",
              "      gap: 12px;\n",
              "    }\n",
              "\n",
              "    .colab-df-convert {\n",
              "      background-color: #E8F0FE;\n",
              "      border: none;\n",
              "      border-radius: 50%;\n",
              "      cursor: pointer;\n",
              "      display: none;\n",
              "      fill: #1967D2;\n",
              "      height: 32px;\n",
              "      padding: 0 0 0 0;\n",
              "      width: 32px;\n",
              "    }\n",
              "\n",
              "    .colab-df-convert:hover {\n",
              "      background-color: #E2EBFA;\n",
              "      box-shadow: 0px 1px 2px rgba(60, 64, 67, 0.3), 0px 1px 3px 1px rgba(60, 64, 67, 0.15);\n",
              "      fill: #174EA6;\n",
              "    }\n",
              "\n",
              "    [theme=dark] .colab-df-convert {\n",
              "      background-color: #3B4455;\n",
              "      fill: #D2E3FC;\n",
              "    }\n",
              "\n",
              "    [theme=dark] .colab-df-convert:hover {\n",
              "      background-color: #434B5C;\n",
              "      box-shadow: 0px 1px 3px 1px rgba(0, 0, 0, 0.15);\n",
              "      filter: drop-shadow(0px 1px 2px rgba(0, 0, 0, 0.3));\n",
              "      fill: #FFFFFF;\n",
              "    }\n",
              "  </style>\n",
              "\n",
              "      <script>\n",
              "        const buttonEl =\n",
              "          document.querySelector('#df-ce747cbc-7577-4d9d-bbda-a89fdc3ae3d4 button.colab-df-convert');\n",
              "        buttonEl.style.display =\n",
              "          google.colab.kernel.accessAllowed ? 'block' : 'none';\n",
              "\n",
              "        async function convertToInteractive(key) {\n",
              "          const element = document.querySelector('#df-ce747cbc-7577-4d9d-bbda-a89fdc3ae3d4');\n",
              "          const dataTable =\n",
              "            await google.colab.kernel.invokeFunction('convertToInteractive',\n",
              "                                                     [key], {});\n",
              "          if (!dataTable) return;\n",
              "\n",
              "          const docLinkHtml = 'Like what you see? Visit the ' +\n",
              "            '<a target=\"_blank\" href=https://colab.research.google.com/notebooks/data_table.ipynb>data table notebook</a>'\n",
              "            + ' to learn more about interactive tables.';\n",
              "          element.innerHTML = '';\n",
              "          dataTable['output_type'] = 'display_data';\n",
              "          await google.colab.output.renderOutput(dataTable, element);\n",
              "          const docLink = document.createElement('div');\n",
              "          docLink.innerHTML = docLinkHtml;\n",
              "          element.appendChild(docLink);\n",
              "        }\n",
              "      </script>\n",
              "    </div>\n",
              "  </div>\n",
              "  "
            ],
            "text/plain": [
              "                       LinearRegression\n",
              "Score entrainement             0.516256\n",
              "Score de prédiction            0.434288\n",
              "MAE                           43.267042\n",
              "RMSE                          69.556452\n",
              "median absolute error         27.457283"
            ]
          },
          "metadata": {},
          "execution_count": 131
        }
      ]
    },
    {
      "cell_type": "markdown",
      "source": [
        "Prédiction de la consommation ET de l'émission de GES:"
      ],
      "metadata": {
        "id": "eZtk_QEEN5MC"
      }
    },
    {
      "cell_type": "code",
      "source": [
        "X_train, X_test, y_train, y_test = train_test_split(X, Y, test_size=0.25, random_state = 7)\n",
        "\n",
        "model_regr = make_pipeline(preprocessor,LinearRegression())\n",
        "model_regr.fit(X_train, y_train)\n",
        "y_pred = model_regr.predict(X_test)\n",
        "\n",
        "print(\"Efficacité du modèle de régression linéaire basic : \\n\")\n",
        "print(\"Score entrainement = \",model_regr.score(X_train,y_train))\n",
        "print(\"\\nErreur de prédiction : \")\n",
        "print(\" MAE = \",mean_absolute_error(y_test,y_pred))\n",
        "print(\" RMSE = \",np.sqrt(mean_squared_error(y_test,y_pred)))\n",
        "print(\" median abs err = \",median_absolute_error(y_test,y_pred))"
      ],
      "metadata": {
        "id": "x6-kv-oVCZWM",
        "colab": {
          "base_uri": "https://localhost:8080/"
        },
        "outputId": "d88c35b1-9e06-4937-f2fe-8c8344dc1bcd"
      },
      "execution_count": 136,
      "outputs": [
        {
          "output_type": "stream",
          "name": "stdout",
          "text": [
            "Efficacité du modèle de régression linéaire basic : \n",
            "\n",
            "Score entrainement =  0.6159407963317719\n",
            "\n",
            "Erreur de prédiction : \n",
            " MAE =  711906.7721064793\n",
            " RMSE =  1565953.2612351342\n",
            " median abs err =  482750.0166488208\n"
          ]
        }
      ]
    },
    {
      "cell_type": "markdown",
      "source": [
        "  ### Régression Random Forest"
      ],
      "metadata": {
        "id": "x2YPSjECURIJ"
      }
    },
    {
      "cell_type": "code",
      "source": [
        "run_model_and_performance_check_with_Quali(\"Consommation\", RandomForestRegressor())"
      ],
      "metadata": {
        "colab": {
          "base_uri": "https://localhost:8080/",
          "height": 238
        },
        "id": "05KgD-URGmWI",
        "outputId": "f55045b7-e78f-4495-8c4e-1ab87610cd2b"
      },
      "execution_count": 134,
      "outputs": [
        {
          "output_type": "stream",
          "name": "stdout",
          "text": [
            "Prédiction de la consommation : \n",
            "\n"
          ]
        },
        {
          "output_type": "execute_result",
          "data": {
            "text/html": [
              "\n",
              "  <div id=\"df-3453cf06-c997-494e-93c4-fd1d9ad6304a\">\n",
              "    <div class=\"colab-df-container\">\n",
              "      <div>\n",
              "<style scoped>\n",
              "    .dataframe tbody tr th:only-of-type {\n",
              "        vertical-align: middle;\n",
              "    }\n",
              "\n",
              "    .dataframe tbody tr th {\n",
              "        vertical-align: top;\n",
              "    }\n",
              "\n",
              "    .dataframe thead th {\n",
              "        text-align: right;\n",
              "    }\n",
              "</style>\n",
              "<table border=\"1\" class=\"dataframe\">\n",
              "  <thead>\n",
              "    <tr style=\"text-align: right;\">\n",
              "      <th></th>\n",
              "      <th>RandomForestRegressor</th>\n",
              "    </tr>\n",
              "  </thead>\n",
              "  <tbody>\n",
              "    <tr>\n",
              "      <th>Score entrainement</th>\n",
              "      <td>9.730344e-01</td>\n",
              "    </tr>\n",
              "    <tr>\n",
              "      <th>Score de prédiction</th>\n",
              "      <td>8.639469e-01</td>\n",
              "    </tr>\n",
              "    <tr>\n",
              "      <th>MAE</th>\n",
              "      <td>8.216151e+05</td>\n",
              "    </tr>\n",
              "    <tr>\n",
              "      <th>RMSE</th>\n",
              "      <td>1.526079e+06</td>\n",
              "    </tr>\n",
              "    <tr>\n",
              "      <th>median absolute error</th>\n",
              "      <td>3.618269e+05</td>\n",
              "    </tr>\n",
              "  </tbody>\n",
              "</table>\n",
              "</div>\n",
              "      <button class=\"colab-df-convert\" onclick=\"convertToInteractive('df-3453cf06-c997-494e-93c4-fd1d9ad6304a')\"\n",
              "              title=\"Convert this dataframe to an interactive table.\"\n",
              "              style=\"display:none;\">\n",
              "        \n",
              "  <svg xmlns=\"http://www.w3.org/2000/svg\" height=\"24px\"viewBox=\"0 0 24 24\"\n",
              "       width=\"24px\">\n",
              "    <path d=\"M0 0h24v24H0V0z\" fill=\"none\"/>\n",
              "    <path d=\"M18.56 5.44l.94 2.06.94-2.06 2.06-.94-2.06-.94-.94-2.06-.94 2.06-2.06.94zm-11 1L8.5 8.5l.94-2.06 2.06-.94-2.06-.94L8.5 2.5l-.94 2.06-2.06.94zm10 10l.94 2.06.94-2.06 2.06-.94-2.06-.94-.94-2.06-.94 2.06-2.06.94z\"/><path d=\"M17.41 7.96l-1.37-1.37c-.4-.4-.92-.59-1.43-.59-.52 0-1.04.2-1.43.59L10.3 9.45l-7.72 7.72c-.78.78-.78 2.05 0 2.83L4 21.41c.39.39.9.59 1.41.59.51 0 1.02-.2 1.41-.59l7.78-7.78 2.81-2.81c.8-.78.8-2.07 0-2.86zM5.41 20L4 18.59l7.72-7.72 1.47 1.35L5.41 20z\"/>\n",
              "  </svg>\n",
              "      </button>\n",
              "      \n",
              "  <style>\n",
              "    .colab-df-container {\n",
              "      display:flex;\n",
              "      flex-wrap:wrap;\n",
              "      gap: 12px;\n",
              "    }\n",
              "\n",
              "    .colab-df-convert {\n",
              "      background-color: #E8F0FE;\n",
              "      border: none;\n",
              "      border-radius: 50%;\n",
              "      cursor: pointer;\n",
              "      display: none;\n",
              "      fill: #1967D2;\n",
              "      height: 32px;\n",
              "      padding: 0 0 0 0;\n",
              "      width: 32px;\n",
              "    }\n",
              "\n",
              "    .colab-df-convert:hover {\n",
              "      background-color: #E2EBFA;\n",
              "      box-shadow: 0px 1px 2px rgba(60, 64, 67, 0.3), 0px 1px 3px 1px rgba(60, 64, 67, 0.15);\n",
              "      fill: #174EA6;\n",
              "    }\n",
              "\n",
              "    [theme=dark] .colab-df-convert {\n",
              "      background-color: #3B4455;\n",
              "      fill: #D2E3FC;\n",
              "    }\n",
              "\n",
              "    [theme=dark] .colab-df-convert:hover {\n",
              "      background-color: #434B5C;\n",
              "      box-shadow: 0px 1px 3px 1px rgba(0, 0, 0, 0.15);\n",
              "      filter: drop-shadow(0px 1px 2px rgba(0, 0, 0, 0.3));\n",
              "      fill: #FFFFFF;\n",
              "    }\n",
              "  </style>\n",
              "\n",
              "      <script>\n",
              "        const buttonEl =\n",
              "          document.querySelector('#df-3453cf06-c997-494e-93c4-fd1d9ad6304a button.colab-df-convert');\n",
              "        buttonEl.style.display =\n",
              "          google.colab.kernel.accessAllowed ? 'block' : 'none';\n",
              "\n",
              "        async function convertToInteractive(key) {\n",
              "          const element = document.querySelector('#df-3453cf06-c997-494e-93c4-fd1d9ad6304a');\n",
              "          const dataTable =\n",
              "            await google.colab.kernel.invokeFunction('convertToInteractive',\n",
              "                                                     [key], {});\n",
              "          if (!dataTable) return;\n",
              "\n",
              "          const docLinkHtml = 'Like what you see? Visit the ' +\n",
              "            '<a target=\"_blank\" href=https://colab.research.google.com/notebooks/data_table.ipynb>data table notebook</a>'\n",
              "            + ' to learn more about interactive tables.';\n",
              "          element.innerHTML = '';\n",
              "          dataTable['output_type'] = 'display_data';\n",
              "          await google.colab.output.renderOutput(dataTable, element);\n",
              "          const docLink = document.createElement('div');\n",
              "          docLink.innerHTML = docLinkHtml;\n",
              "          element.appendChild(docLink);\n",
              "        }\n",
              "      </script>\n",
              "    </div>\n",
              "  </div>\n",
              "  "
            ],
            "text/plain": [
              "                       RandomForestRegressor\n",
              "Score entrainement              9.730344e-01\n",
              "Score de prédiction             8.639469e-01\n",
              "MAE                             8.216151e+05\n",
              "RMSE                            1.526079e+06\n",
              "median absolute error           3.618269e+05"
            ]
          },
          "metadata": {},
          "execution_count": 134
        }
      ]
    },
    {
      "cell_type": "code",
      "source": [
        "run_model_and_performance_check_with_Quali(\"EmissionGES\", RandomForestRegressor())"
      ],
      "metadata": {
        "colab": {
          "base_uri": "https://localhost:8080/",
          "height": 238
        },
        "id": "QBWRVE6xGlW-",
        "outputId": "d8d37888-015d-4e30-95fa-1fb3afaf5a92"
      },
      "execution_count": 135,
      "outputs": [
        {
          "output_type": "stream",
          "name": "stdout",
          "text": [
            "Prédiction des Emission de GES : \n",
            "\n"
          ]
        },
        {
          "output_type": "execute_result",
          "data": {
            "text/html": [
              "\n",
              "  <div id=\"df-6a19b8bc-2cbb-44fa-b787-a5eb14fe738b\">\n",
              "    <div class=\"colab-df-container\">\n",
              "      <div>\n",
              "<style scoped>\n",
              "    .dataframe tbody tr th:only-of-type {\n",
              "        vertical-align: middle;\n",
              "    }\n",
              "\n",
              "    .dataframe tbody tr th {\n",
              "        vertical-align: top;\n",
              "    }\n",
              "\n",
              "    .dataframe thead th {\n",
              "        text-align: right;\n",
              "    }\n",
              "</style>\n",
              "<table border=\"1\" class=\"dataframe\">\n",
              "  <thead>\n",
              "    <tr style=\"text-align: right;\">\n",
              "      <th></th>\n",
              "      <th>RandomForestRegressor</th>\n",
              "    </tr>\n",
              "  </thead>\n",
              "  <tbody>\n",
              "    <tr>\n",
              "      <th>Score entrainement</th>\n",
              "      <td>0.938214</td>\n",
              "    </tr>\n",
              "    <tr>\n",
              "      <th>Score de prédiction</th>\n",
              "      <td>0.743236</td>\n",
              "    </tr>\n",
              "    <tr>\n",
              "      <th>MAE</th>\n",
              "      <td>24.690983</td>\n",
              "    </tr>\n",
              "    <tr>\n",
              "      <th>RMSE</th>\n",
              "      <td>46.860449</td>\n",
              "    </tr>\n",
              "    <tr>\n",
              "      <th>median absolute error</th>\n",
              "      <td>12.834380</td>\n",
              "    </tr>\n",
              "  </tbody>\n",
              "</table>\n",
              "</div>\n",
              "      <button class=\"colab-df-convert\" onclick=\"convertToInteractive('df-6a19b8bc-2cbb-44fa-b787-a5eb14fe738b')\"\n",
              "              title=\"Convert this dataframe to an interactive table.\"\n",
              "              style=\"display:none;\">\n",
              "        \n",
              "  <svg xmlns=\"http://www.w3.org/2000/svg\" height=\"24px\"viewBox=\"0 0 24 24\"\n",
              "       width=\"24px\">\n",
              "    <path d=\"M0 0h24v24H0V0z\" fill=\"none\"/>\n",
              "    <path d=\"M18.56 5.44l.94 2.06.94-2.06 2.06-.94-2.06-.94-.94-2.06-.94 2.06-2.06.94zm-11 1L8.5 8.5l.94-2.06 2.06-.94-2.06-.94L8.5 2.5l-.94 2.06-2.06.94zm10 10l.94 2.06.94-2.06 2.06-.94-2.06-.94-.94-2.06-.94 2.06-2.06.94z\"/><path d=\"M17.41 7.96l-1.37-1.37c-.4-.4-.92-.59-1.43-.59-.52 0-1.04.2-1.43.59L10.3 9.45l-7.72 7.72c-.78.78-.78 2.05 0 2.83L4 21.41c.39.39.9.59 1.41.59.51 0 1.02-.2 1.41-.59l7.78-7.78 2.81-2.81c.8-.78.8-2.07 0-2.86zM5.41 20L4 18.59l7.72-7.72 1.47 1.35L5.41 20z\"/>\n",
              "  </svg>\n",
              "      </button>\n",
              "      \n",
              "  <style>\n",
              "    .colab-df-container {\n",
              "      display:flex;\n",
              "      flex-wrap:wrap;\n",
              "      gap: 12px;\n",
              "    }\n",
              "\n",
              "    .colab-df-convert {\n",
              "      background-color: #E8F0FE;\n",
              "      border: none;\n",
              "      border-radius: 50%;\n",
              "      cursor: pointer;\n",
              "      display: none;\n",
              "      fill: #1967D2;\n",
              "      height: 32px;\n",
              "      padding: 0 0 0 0;\n",
              "      width: 32px;\n",
              "    }\n",
              "\n",
              "    .colab-df-convert:hover {\n",
              "      background-color: #E2EBFA;\n",
              "      box-shadow: 0px 1px 2px rgba(60, 64, 67, 0.3), 0px 1px 3px 1px rgba(60, 64, 67, 0.15);\n",
              "      fill: #174EA6;\n",
              "    }\n",
              "\n",
              "    [theme=dark] .colab-df-convert {\n",
              "      background-color: #3B4455;\n",
              "      fill: #D2E3FC;\n",
              "    }\n",
              "\n",
              "    [theme=dark] .colab-df-convert:hover {\n",
              "      background-color: #434B5C;\n",
              "      box-shadow: 0px 1px 3px 1px rgba(0, 0, 0, 0.15);\n",
              "      filter: drop-shadow(0px 1px 2px rgba(0, 0, 0, 0.3));\n",
              "      fill: #FFFFFF;\n",
              "    }\n",
              "  </style>\n",
              "\n",
              "      <script>\n",
              "        const buttonEl =\n",
              "          document.querySelector('#df-6a19b8bc-2cbb-44fa-b787-a5eb14fe738b button.colab-df-convert');\n",
              "        buttonEl.style.display =\n",
              "          google.colab.kernel.accessAllowed ? 'block' : 'none';\n",
              "\n",
              "        async function convertToInteractive(key) {\n",
              "          const element = document.querySelector('#df-6a19b8bc-2cbb-44fa-b787-a5eb14fe738b');\n",
              "          const dataTable =\n",
              "            await google.colab.kernel.invokeFunction('convertToInteractive',\n",
              "                                                     [key], {});\n",
              "          if (!dataTable) return;\n",
              "\n",
              "          const docLinkHtml = 'Like what you see? Visit the ' +\n",
              "            '<a target=\"_blank\" href=https://colab.research.google.com/notebooks/data_table.ipynb>data table notebook</a>'\n",
              "            + ' to learn more about interactive tables.';\n",
              "          element.innerHTML = '';\n",
              "          dataTable['output_type'] = 'display_data';\n",
              "          await google.colab.output.renderOutput(dataTable, element);\n",
              "          const docLink = document.createElement('div');\n",
              "          docLink.innerHTML = docLinkHtml;\n",
              "          element.appendChild(docLink);\n",
              "        }\n",
              "      </script>\n",
              "    </div>\n",
              "  </div>\n",
              "  "
            ],
            "text/plain": [
              "                       RandomForestRegressor\n",
              "Score entrainement                  0.938214\n",
              "Score de prédiction                 0.743236\n",
              "MAE                                24.690983\n",
              "RMSE                               46.860449\n",
              "median absolute error              12.834380"
            ]
          },
          "metadata": {},
          "execution_count": 135
        }
      ]
    },
    {
      "cell_type": "markdown",
      "source": [
        "  ### Test d'autres modèles de régression linéaire et archivage des résultats dans une dataframe"
      ],
      "metadata": {
        "id": "Qwon4XhdWw0O"
      }
    },
    {
      "cell_type": "code",
      "source": [
        "X_train, X_test, y_train, y_test = train_test_split(X, Y['SiteEnergyUse(kBtu)'], test_size=0.25)\n",
        "df_results_Consommation = pad.DataFrame(index = [\"Score entrainement\", \"Score de prédiction\", \"MAE\", \"RMSE\", \"median absolute error\"], columns = [\"LinearRegression\"])\n",
        "for i in range(len(List_of_models)):\n",
        "  model_regr = make_pipeline(preprocessor,List_of_models[i])\n",
        "  model_regr.fit(X_train, y_train)\n",
        "  y_pred = model_regr.predict(X_test)\n",
        "  results_linear_regression = np.array([model_regr.score(X_train,y_train), model_regr.score(X_test,y_test), mean_absolute_error(y_test,y_pred), np.sqrt(mean_squared_error(y_test,y_pred)), median_absolute_error(y_test,y_pred)])\n",
        "  df_results_Consommation[List_of_models_for_graph[i]] = results_linear_regression"
      ],
      "metadata": {
        "id": "Y4tlmeHnWCyp"
      },
      "execution_count": null,
      "outputs": []
    },
    {
      "cell_type": "code",
      "source": [
        "df_results_Consommation"
      ],
      "metadata": {
        "colab": {
          "base_uri": "https://localhost:8080/",
          "height": 204
        },
        "id": "w-Ase682WYko",
        "outputId": "7d42c971-093d-4180-dc91-e93eda28d5b5"
      },
      "execution_count": 140,
      "outputs": [
        {
          "output_type": "execute_result",
          "data": {
            "text/html": [
              "\n",
              "  <div id=\"df-01df79d4-d1bc-429d-a201-488d5add82c8\">\n",
              "    <div class=\"colab-df-container\">\n",
              "      <div>\n",
              "<style scoped>\n",
              "    .dataframe tbody tr th:only-of-type {\n",
              "        vertical-align: middle;\n",
              "    }\n",
              "\n",
              "    .dataframe tbody tr th {\n",
              "        vertical-align: top;\n",
              "    }\n",
              "\n",
              "    .dataframe thead th {\n",
              "        text-align: right;\n",
              "    }\n",
              "</style>\n",
              "<table border=\"1\" class=\"dataframe\">\n",
              "  <thead>\n",
              "    <tr style=\"text-align: right;\">\n",
              "      <th></th>\n",
              "      <th>LinearRegression</th>\n",
              "      <th>Lasso</th>\n",
              "      <th>Ridge</th>\n",
              "      <th>ElasticNet</th>\n",
              "      <th>TweedieRegressor</th>\n",
              "      <th>HuberRegressor</th>\n",
              "      <th>SVR</th>\n",
              "      <th>XGBRegressor</th>\n",
              "      <th>RandomForestRegressor</th>\n",
              "    </tr>\n",
              "  </thead>\n",
              "  <tbody>\n",
              "    <tr>\n",
              "      <th>Score entrainement</th>\n",
              "      <td>7.299950e-01</td>\n",
              "      <td>7.300125e-01</td>\n",
              "      <td>1.454730e-01</td>\n",
              "      <td>6.538321e-01</td>\n",
              "      <td>6.254426e-01</td>\n",
              "      <td>-3.643632e-01</td>\n",
              "      <td>-1.508877e-01</td>\n",
              "      <td>8.889090e-01</td>\n",
              "      <td>9.709440e-01</td>\n",
              "    </tr>\n",
              "    <tr>\n",
              "      <th>Score de prédiction</th>\n",
              "      <td>6.765465e-01</td>\n",
              "      <td>6.767223e-01</td>\n",
              "      <td>1.266225e-01</td>\n",
              "      <td>6.297396e-01</td>\n",
              "      <td>6.052304e-01</td>\n",
              "      <td>-3.261348e-01</td>\n",
              "      <td>-1.202593e-01</td>\n",
              "      <td>8.210593e-01</td>\n",
              "      <td>8.613177e-01</td>\n",
              "    </tr>\n",
              "    <tr>\n",
              "      <th>MAE</th>\n",
              "      <td>1.496405e+06</td>\n",
              "      <td>1.495775e+06</td>\n",
              "      <td>2.561299e+06</td>\n",
              "      <td>1.497496e+06</td>\n",
              "      <td>1.609552e+06</td>\n",
              "      <td>3.006897e+06</td>\n",
              "      <td>2.492574e+06</td>\n",
              "      <td>1.073207e+06</td>\n",
              "      <td>8.253329e+05</td>\n",
              "    </tr>\n",
              "    <tr>\n",
              "      <th>RMSE</th>\n",
              "      <td>2.393602e+06</td>\n",
              "      <td>2.392952e+06</td>\n",
              "      <td>3.933209e+06</td>\n",
              "      <td>2.560942e+06</td>\n",
              "      <td>2.644344e+06</td>\n",
              "      <td>4.846630e+06</td>\n",
              "      <td>4.454565e+06</td>\n",
              "      <td>1.780331e+06</td>\n",
              "      <td>1.567316e+06</td>\n",
              "    </tr>\n",
              "    <tr>\n",
              "      <th>median absolute error</th>\n",
              "      <td>9.282180e+05</td>\n",
              "      <td>9.276261e+05</td>\n",
              "      <td>2.017097e+06</td>\n",
              "      <td>8.165955e+05</td>\n",
              "      <td>1.013668e+06</td>\n",
              "      <td>1.657201e+06</td>\n",
              "      <td>1.249960e+06</td>\n",
              "      <td>6.191560e+05</td>\n",
              "      <td>3.738393e+05</td>\n",
              "    </tr>\n",
              "  </tbody>\n",
              "</table>\n",
              "</div>\n",
              "      <button class=\"colab-df-convert\" onclick=\"convertToInteractive('df-01df79d4-d1bc-429d-a201-488d5add82c8')\"\n",
              "              title=\"Convert this dataframe to an interactive table.\"\n",
              "              style=\"display:none;\">\n",
              "        \n",
              "  <svg xmlns=\"http://www.w3.org/2000/svg\" height=\"24px\"viewBox=\"0 0 24 24\"\n",
              "       width=\"24px\">\n",
              "    <path d=\"M0 0h24v24H0V0z\" fill=\"none\"/>\n",
              "    <path d=\"M18.56 5.44l.94 2.06.94-2.06 2.06-.94-2.06-.94-.94-2.06-.94 2.06-2.06.94zm-11 1L8.5 8.5l.94-2.06 2.06-.94-2.06-.94L8.5 2.5l-.94 2.06-2.06.94zm10 10l.94 2.06.94-2.06 2.06-.94-2.06-.94-.94-2.06-.94 2.06-2.06.94z\"/><path d=\"M17.41 7.96l-1.37-1.37c-.4-.4-.92-.59-1.43-.59-.52 0-1.04.2-1.43.59L10.3 9.45l-7.72 7.72c-.78.78-.78 2.05 0 2.83L4 21.41c.39.39.9.59 1.41.59.51 0 1.02-.2 1.41-.59l7.78-7.78 2.81-2.81c.8-.78.8-2.07 0-2.86zM5.41 20L4 18.59l7.72-7.72 1.47 1.35L5.41 20z\"/>\n",
              "  </svg>\n",
              "      </button>\n",
              "      \n",
              "  <style>\n",
              "    .colab-df-container {\n",
              "      display:flex;\n",
              "      flex-wrap:wrap;\n",
              "      gap: 12px;\n",
              "    }\n",
              "\n",
              "    .colab-df-convert {\n",
              "      background-color: #E8F0FE;\n",
              "      border: none;\n",
              "      border-radius: 50%;\n",
              "      cursor: pointer;\n",
              "      display: none;\n",
              "      fill: #1967D2;\n",
              "      height: 32px;\n",
              "      padding: 0 0 0 0;\n",
              "      width: 32px;\n",
              "    }\n",
              "\n",
              "    .colab-df-convert:hover {\n",
              "      background-color: #E2EBFA;\n",
              "      box-shadow: 0px 1px 2px rgba(60, 64, 67, 0.3), 0px 1px 3px 1px rgba(60, 64, 67, 0.15);\n",
              "      fill: #174EA6;\n",
              "    }\n",
              "\n",
              "    [theme=dark] .colab-df-convert {\n",
              "      background-color: #3B4455;\n",
              "      fill: #D2E3FC;\n",
              "    }\n",
              "\n",
              "    [theme=dark] .colab-df-convert:hover {\n",
              "      background-color: #434B5C;\n",
              "      box-shadow: 0px 1px 3px 1px rgba(0, 0, 0, 0.15);\n",
              "      filter: drop-shadow(0px 1px 2px rgba(0, 0, 0, 0.3));\n",
              "      fill: #FFFFFF;\n",
              "    }\n",
              "  </style>\n",
              "\n",
              "      <script>\n",
              "        const buttonEl =\n",
              "          document.querySelector('#df-01df79d4-d1bc-429d-a201-488d5add82c8 button.colab-df-convert');\n",
              "        buttonEl.style.display =\n",
              "          google.colab.kernel.accessAllowed ? 'block' : 'none';\n",
              "\n",
              "        async function convertToInteractive(key) {\n",
              "          const element = document.querySelector('#df-01df79d4-d1bc-429d-a201-488d5add82c8');\n",
              "          const dataTable =\n",
              "            await google.colab.kernel.invokeFunction('convertToInteractive',\n",
              "                                                     [key], {});\n",
              "          if (!dataTable) return;\n",
              "\n",
              "          const docLinkHtml = 'Like what you see? Visit the ' +\n",
              "            '<a target=\"_blank\" href=https://colab.research.google.com/notebooks/data_table.ipynb>data table notebook</a>'\n",
              "            + ' to learn more about interactive tables.';\n",
              "          element.innerHTML = '';\n",
              "          dataTable['output_type'] = 'display_data';\n",
              "          await google.colab.output.renderOutput(dataTable, element);\n",
              "          const docLink = document.createElement('div');\n",
              "          docLink.innerHTML = docLinkHtml;\n",
              "          element.appendChild(docLink);\n",
              "        }\n",
              "      </script>\n",
              "    </div>\n",
              "  </div>\n",
              "  "
            ],
            "text/plain": [
              "                       LinearRegression  ...  RandomForestRegressor\n",
              "Score entrainement         7.299950e-01  ...           9.709440e-01\n",
              "Score de prédiction        6.765465e-01  ...           8.613177e-01\n",
              "MAE                        1.496405e+06  ...           8.253329e+05\n",
              "RMSE                       2.393602e+06  ...           1.567316e+06\n",
              "median absolute error      9.282180e+05  ...           3.738393e+05\n",
              "\n",
              "[5 rows x 9 columns]"
            ]
          },
          "metadata": {},
          "execution_count": 140
        }
      ]
    },
    {
      "cell_type": "code",
      "source": [
        "X_train, X_test, y_train, y_test = train_test_split(X, Y['TotalGHGEmissions'], test_size=0.25)\n",
        "df_results_GESEmission = pad.DataFrame(index = [\"Score entrainement\", \"Score de prédiction\", \"MAE\", \"RMSE\", \"median absolute error\"], columns = [\"LinearRegression\"])\n",
        "for i in range(len(List_of_models)):\n",
        "  model_regr = make_pipeline(preprocessor,List_of_models[i])\n",
        "  model_regr.fit(X_train, y_train)\n",
        "  y_pred = model_regr.predict(X_test)\n",
        "  results_linear_regression = np.array([model_regr.score(X_train,y_train), model_regr.score(X_test,y_test), mean_absolute_error(y_test,y_pred), np.sqrt(mean_squared_error(y_test,y_pred)), median_absolute_error(y_test,y_pred)])\n",
        "  df_results_GESEmission[List_of_models_for_graph[i]] = results_linear_regression\n",
        "  df_results_GESEmission"
      ],
      "metadata": {
        "id": "YZ3zdaagQHID"
      },
      "execution_count": null,
      "outputs": []
    },
    {
      "cell_type": "code",
      "source": [
        "df_results_GESEmission"
      ],
      "metadata": {
        "colab": {
          "base_uri": "https://localhost:8080/",
          "height": 204
        },
        "id": "m6GO7pTZVb4o",
        "outputId": "88a15f7a-015f-4c43-e2cc-7766a3adf46f"
      },
      "execution_count": 138,
      "outputs": [
        {
          "output_type": "execute_result",
          "data": {
            "text/html": [
              "\n",
              "  <div id=\"df-a4811856-7cb8-4ccf-9398-f11b15da4d56\">\n",
              "    <div class=\"colab-df-container\">\n",
              "      <div>\n",
              "<style scoped>\n",
              "    .dataframe tbody tr th:only-of-type {\n",
              "        vertical-align: middle;\n",
              "    }\n",
              "\n",
              "    .dataframe tbody tr th {\n",
              "        vertical-align: top;\n",
              "    }\n",
              "\n",
              "    .dataframe thead th {\n",
              "        text-align: right;\n",
              "    }\n",
              "</style>\n",
              "<table border=\"1\" class=\"dataframe\">\n",
              "  <thead>\n",
              "    <tr style=\"text-align: right;\">\n",
              "      <th></th>\n",
              "      <th>LinearRegression</th>\n",
              "      <th>Lasso</th>\n",
              "      <th>Ridge</th>\n",
              "      <th>ElasticNet</th>\n",
              "      <th>TweedieRegressor</th>\n",
              "      <th>HuberRegressor</th>\n",
              "      <th>SVR</th>\n",
              "      <th>XGBRegressor</th>\n",
              "      <th>RandomForestRegressor</th>\n",
              "    </tr>\n",
              "  </thead>\n",
              "  <tbody>\n",
              "    <tr>\n",
              "      <th>Score entrainement</th>\n",
              "      <td>0.505725</td>\n",
              "      <td>0.455422</td>\n",
              "      <td>0.039576</td>\n",
              "      <td>0.361225</td>\n",
              "      <td>0.333979</td>\n",
              "      <td>0.116628</td>\n",
              "      <td>-0.098322</td>\n",
              "      <td>0.804118</td>\n",
              "      <td>0.950917</td>\n",
              "    </tr>\n",
              "    <tr>\n",
              "      <th>Score de prédiction</th>\n",
              "      <td>0.437627</td>\n",
              "      <td>0.490126</td>\n",
              "      <td>0.004141</td>\n",
              "      <td>0.371973</td>\n",
              "      <td>0.337366</td>\n",
              "      <td>0.091620</td>\n",
              "      <td>-0.145607</td>\n",
              "      <td>0.646883</td>\n",
              "      <td>0.713829</td>\n",
              "    </tr>\n",
              "    <tr>\n",
              "      <th>MAE</th>\n",
              "      <td>44.700799</td>\n",
              "      <td>42.197878</td>\n",
              "      <td>60.367107</td>\n",
              "      <td>47.080810</td>\n",
              "      <td>48.536858</td>\n",
              "      <td>49.491059</td>\n",
              "      <td>52.290885</td>\n",
              "      <td>34.682439</td>\n",
              "      <td>27.596071</td>\n",
              "    </tr>\n",
              "    <tr>\n",
              "      <th>RMSE</th>\n",
              "      <td>63.948847</td>\n",
              "      <td>60.890823</td>\n",
              "      <td>85.098000</td>\n",
              "      <td>67.578671</td>\n",
              "      <td>69.415654</td>\n",
              "      <td>81.274484</td>\n",
              "      <td>91.272155</td>\n",
              "      <td>50.673390</td>\n",
              "      <td>45.617722</td>\n",
              "    </tr>\n",
              "    <tr>\n",
              "      <th>median absolute error</th>\n",
              "      <td>29.496657</td>\n",
              "      <td>26.958557</td>\n",
              "      <td>46.839966</td>\n",
              "      <td>31.358732</td>\n",
              "      <td>33.087209</td>\n",
              "      <td>26.179381</td>\n",
              "      <td>24.009807</td>\n",
              "      <td>22.130876</td>\n",
              "      <td>13.979295</td>\n",
              "    </tr>\n",
              "  </tbody>\n",
              "</table>\n",
              "</div>\n",
              "      <button class=\"colab-df-convert\" onclick=\"convertToInteractive('df-a4811856-7cb8-4ccf-9398-f11b15da4d56')\"\n",
              "              title=\"Convert this dataframe to an interactive table.\"\n",
              "              style=\"display:none;\">\n",
              "        \n",
              "  <svg xmlns=\"http://www.w3.org/2000/svg\" height=\"24px\"viewBox=\"0 0 24 24\"\n",
              "       width=\"24px\">\n",
              "    <path d=\"M0 0h24v24H0V0z\" fill=\"none\"/>\n",
              "    <path d=\"M18.56 5.44l.94 2.06.94-2.06 2.06-.94-2.06-.94-.94-2.06-.94 2.06-2.06.94zm-11 1L8.5 8.5l.94-2.06 2.06-.94-2.06-.94L8.5 2.5l-.94 2.06-2.06.94zm10 10l.94 2.06.94-2.06 2.06-.94-2.06-.94-.94-2.06-.94 2.06-2.06.94z\"/><path d=\"M17.41 7.96l-1.37-1.37c-.4-.4-.92-.59-1.43-.59-.52 0-1.04.2-1.43.59L10.3 9.45l-7.72 7.72c-.78.78-.78 2.05 0 2.83L4 21.41c.39.39.9.59 1.41.59.51 0 1.02-.2 1.41-.59l7.78-7.78 2.81-2.81c.8-.78.8-2.07 0-2.86zM5.41 20L4 18.59l7.72-7.72 1.47 1.35L5.41 20z\"/>\n",
              "  </svg>\n",
              "      </button>\n",
              "      \n",
              "  <style>\n",
              "    .colab-df-container {\n",
              "      display:flex;\n",
              "      flex-wrap:wrap;\n",
              "      gap: 12px;\n",
              "    }\n",
              "\n",
              "    .colab-df-convert {\n",
              "      background-color: #E8F0FE;\n",
              "      border: none;\n",
              "      border-radius: 50%;\n",
              "      cursor: pointer;\n",
              "      display: none;\n",
              "      fill: #1967D2;\n",
              "      height: 32px;\n",
              "      padding: 0 0 0 0;\n",
              "      width: 32px;\n",
              "    }\n",
              "\n",
              "    .colab-df-convert:hover {\n",
              "      background-color: #E2EBFA;\n",
              "      box-shadow: 0px 1px 2px rgba(60, 64, 67, 0.3), 0px 1px 3px 1px rgba(60, 64, 67, 0.15);\n",
              "      fill: #174EA6;\n",
              "    }\n",
              "\n",
              "    [theme=dark] .colab-df-convert {\n",
              "      background-color: #3B4455;\n",
              "      fill: #D2E3FC;\n",
              "    }\n",
              "\n",
              "    [theme=dark] .colab-df-convert:hover {\n",
              "      background-color: #434B5C;\n",
              "      box-shadow: 0px 1px 3px 1px rgba(0, 0, 0, 0.15);\n",
              "      filter: drop-shadow(0px 1px 2px rgba(0, 0, 0, 0.3));\n",
              "      fill: #FFFFFF;\n",
              "    }\n",
              "  </style>\n",
              "\n",
              "      <script>\n",
              "        const buttonEl =\n",
              "          document.querySelector('#df-a4811856-7cb8-4ccf-9398-f11b15da4d56 button.colab-df-convert');\n",
              "        buttonEl.style.display =\n",
              "          google.colab.kernel.accessAllowed ? 'block' : 'none';\n",
              "\n",
              "        async function convertToInteractive(key) {\n",
              "          const element = document.querySelector('#df-a4811856-7cb8-4ccf-9398-f11b15da4d56');\n",
              "          const dataTable =\n",
              "            await google.colab.kernel.invokeFunction('convertToInteractive',\n",
              "                                                     [key], {});\n",
              "          if (!dataTable) return;\n",
              "\n",
              "          const docLinkHtml = 'Like what you see? Visit the ' +\n",
              "            '<a target=\"_blank\" href=https://colab.research.google.com/notebooks/data_table.ipynb>data table notebook</a>'\n",
              "            + ' to learn more about interactive tables.';\n",
              "          element.innerHTML = '';\n",
              "          dataTable['output_type'] = 'display_data';\n",
              "          await google.colab.output.renderOutput(dataTable, element);\n",
              "          const docLink = document.createElement('div');\n",
              "          docLink.innerHTML = docLinkHtml;\n",
              "          element.appendChild(docLink);\n",
              "        }\n",
              "      </script>\n",
              "    </div>\n",
              "  </div>\n",
              "  "
            ],
            "text/plain": [
              "                       LinearRegression  ...  RandomForestRegressor\n",
              "Score entrainement             0.505725  ...               0.950917\n",
              "Score de prédiction            0.437627  ...               0.713829\n",
              "MAE                           44.700799  ...              27.596071\n",
              "RMSE                          63.948847  ...              45.617722\n",
              "median absolute error         29.496657  ...              13.979295\n",
              "\n",
              "[5 rows x 9 columns]"
            ]
          },
          "metadata": {},
          "execution_count": 138
        }
      ]
    },
    {
      "cell_type": "code",
      "source": [
        "custom_palette = [sns.xkcd_rgb[\"windows blue\"], sns.xkcd_rgb[\"pale red\"], sns.xkcd_rgb[\"medium green\"], \"orange\", \"blue\",\"yellow\", \"purple\", \"deeppink\", \"brown\", \"teal\", \"black\"] \n",
        "sns.set_palette(custom_palette)"
      ],
      "metadata": {
        "id": "pXIYN24cpT71"
      },
      "execution_count": 143,
      "outputs": []
    },
    {
      "cell_type": "code",
      "source": [
        "df_graph_conso = df_results_Consommation.transpose()\n",
        "fig, axs = plt.subplots(1, 2, figsize=(25, 7))\n",
        "ax1 = sns.barplot(x=df_graph_conso.index, y=df_graph_conso[\"Score entrainement\"].values, data=df_graph_conso, ax=axs[0], palette = custom_palette)\n",
        "ax2 = sns.barplot(x=df_graph_conso.index, y=df_graph_conso[\"Score de prédiction\"].values, data=df_graph_conso, ax=axs[1], palette = custom_palette)\n",
        "ax1.set_xticklabels(ax1.get_xticklabels(),rotation=30)\n",
        "ax1.set_title('Efficacité des modèles linéaires pour la prédiction de la consommation')\n",
        "ax1.set_ylabel('Score entrainement')\n",
        "ax1.set(ylim=(-0.4, 1))\n",
        "ax2.set_xticklabels(ax2.get_xticklabels(),rotation=30)\n",
        "ax2.set_title('Efficacité des modèles linéaires pour la prédiction de la consommation')\n",
        "ax2.set_ylabel('Score prédiction')\n",
        "ax2.set(ylim=(-0.4, 1))\n",
        "\n",
        "plt.tight_layout()\n",
        "fig.savefig(\"Performance modèles variables quantif-quali consommation\", dpi=400)"
      ],
      "metadata": {
        "colab": {
          "base_uri": "https://localhost:8080/",
          "height": 506
        },
        "id": "yXKT-QgTl-q4",
        "outputId": "6f0627ba-b43f-44b5-f098-3ce96d6c8620"
      },
      "execution_count": 141,
      "outputs": [
        {
          "output_type": "display_data",
          "data": {
            "image/png": "[encoded data removed]",
            "text/plain": [
              "<Figure size 1800x504 with 2 Axes>"
            ]
          },
          "metadata": {
            "needs_background": "light"
          }
        }
      ]
    },
    {
      "cell_type": "code",
      "source": [
        "df_graph_GES = df_results_GESEmission.transpose()\n",
        "fig, axs = plt.subplots(1, 2, figsize=(25, 7))\n",
        "ax1 = sns.barplot(x=df_graph_GES.index, y=df_graph_GES[\"Score entrainement\"].values, data=df_graph_GES, ax=axs[0], palette = custom_palette)\n",
        "ax2 = sns.barplot(x=df_graph_GES.index, y=df_graph_GES[\"Score de prédiction\"].values, data=df_graph_GES, ax=axs[1], palette = custom_palette)\n",
        "ax1.set_xticklabels(ax1.get_xticklabels(),rotation=30)\n",
        "ax1.set_title('Efficacité des modèles linéaires pour la prédiction des GES')\n",
        "ax1.set_ylabel('Score entrainement')\n",
        "ax1.set(ylim=(-0.2, 1))\n",
        "ax2.set_xticklabels(ax2.get_xticklabels(),rotation=30)\n",
        "ax2.set_title('Efficacité des modèles linéaires pour la prédiction des GES')\n",
        "ax2.set_ylabel('Score prédiction')\n",
        "ax2.set(ylim=(-0.2, 1))\n",
        "\n",
        "plt.tight_layout()\n",
        "fig.savefig(\"Performance modèles variables quantif-quali GES émission\", dpi=400)"
      ],
      "metadata": {
        "colab": {
          "base_uri": "https://localhost:8080/",
          "height": 506
        },
        "id": "MKttSFxtsKm8",
        "outputId": "93a35486-013c-4253-9fda-afbeb8f82f89"
      },
      "execution_count": 142,
      "outputs": [
        {
          "output_type": "display_data",
          "data": {
            "image/png": "[encoded data removed]",
            "text/plain": [
              "<Figure size 1800x504 with 2 Axes>"
            ]
          },
          "metadata": {
            "needs_background": "light"
          }
        }
      ]
    },
    {
      "cell_type": "markdown",
      "source": [
        "# CONCLUSION :      \n",
        "Les performances sont globalement similaires en comparaison aux performances des modèles n'incluant pas les variables catégorielles.\n",
        "\n",
        "Dans les deux cas l'algorithme *RandomForestRegressor* est le plus performant suivi par l'algorithme *XGBRegressor*"
      ],
      "metadata": {
        "id": "S7urG1alf0T_"
      }
    },
    {
      "cell_type": "markdown",
      "source": [
        "Visualisation finale de la validation de notre approche"
      ],
      "metadata": {
        "id": "J1QD9faekKR7"
      }
    },
    {
      "cell_type": "code",
      "source": [
        "X = X[features_Quant]\n",
        "X_train, X_test, y_train, y_test = train_test_split(X, Y['SiteEnergyUse(kBtu)'], test_size=0.25)\n",
        "model_regr_RF_Consommation = RandomForestRegressor(bootstrap = False, max_depth = 20, max_features=\"sqrt\", min_samples_leaf = 1, min_samples_split=4, n_estimators=30)\n",
        "model_regr_RF_Consommation.fit(X_train, y_train)\n",
        "data[\"Predicted_consommation\"] = model_regr_RF_Consommation.predict(data[features_Quant])"
      ],
      "metadata": {
        "id": "oYMMkiBRiE6d"
      },
      "execution_count": 148,
      "outputs": []
    },
    {
      "cell_type": "code",
      "source": [
        "data.plot.scatter(x=\"Predicted_consommation\",y=\"SiteEnergyUse(kBtu)\")"
      ],
      "metadata": {
        "colab": {
          "base_uri": "https://localhost:8080/",
          "height": 345
        },
        "id": "mhHMcAEfikeG",
        "outputId": "147f8779-83ec-4956-9246-e39176fff8ae"
      },
      "execution_count": 149,
      "outputs": [
        {
          "output_type": "stream",
          "name": "stderr",
          "text": [
            "*c* argument looks like a single numeric RGB or RGBA sequence, which should be avoided as value-mapping will have precedence in case its length matches with *x* & *y*.  Please use the *color* keyword-argument or provide a 2-D array with a single row if you intend to specify the same RGB or RGBA value for all points.\n"
          ]
        },
        {
          "output_type": "execute_result",
          "data": {
            "text/plain": [
              "<matplotlib.axes._subplots.AxesSubplot at 0x7ffbab975d90>"
            ]
          },
          "metadata": {},
          "execution_count": 149
        },
        {
          "output_type": "display_data",
          "data": {
            "image/png": "[encoded data removed]",
            "text/plain": [
              "<Figure size 432x288 with 1 Axes>"
            ]
          },
          "metadata": {
            "needs_background": "light"
          }
        }
      ]
    },
    {
      "cell_type": "code",
      "source": [
        "X_train, X_test, y_train, y_test = train_test_split(X, Y['TotalGHGEmissions'], test_size=0.25, random_state = 7)\n",
        "model_regr = RandomForestRegressor(bootstrap = False, max_depth=None, max_features=\"sqrt\", min_samples_leaf=1, min_samples_split=2, n_estimators=400)\n",
        "model_regr.fit(X_train, y_train)\n",
        "data[\"Predicted_GES-emission\"] = model_regr.predict(data[features_Quant])"
      ],
      "metadata": {
        "id": "0a8bGhQ9iDnF"
      },
      "execution_count": 150,
      "outputs": []
    },
    {
      "cell_type": "code",
      "source": [
        "data.plot.scatter(x=\"Predicted_GES-emission\",y=\"TotalGHGEmissions\")"
      ],
      "metadata": {
        "colab": {
          "base_uri": "https://localhost:8080/",
          "height": 334
        },
        "id": "AW4gO9vzjy9N",
        "outputId": "de295bb3-9fbc-48a2-d4f3-c6992912fde6"
      },
      "execution_count": 151,
      "outputs": [
        {
          "output_type": "stream",
          "name": "stderr",
          "text": [
            "*c* argument looks like a single numeric RGB or RGBA sequence, which should be avoided as value-mapping will have precedence in case its length matches with *x* & *y*.  Please use the *color* keyword-argument or provide a 2-D array with a single row if you intend to specify the same RGB or RGBA value for all points.\n"
          ]
        },
        {
          "output_type": "execute_result",
          "data": {
            "text/plain": [
              "<matplotlib.axes._subplots.AxesSubplot at 0x7ffbaba35b50>"
            ]
          },
          "metadata": {},
          "execution_count": 151
        },
        {
          "output_type": "display_data",
          "data": {
            "image/png": "[encoded data removed]",
            "text/plain": [
              "<Figure size 432x288 with 1 Axes>"
            ]
          },
          "metadata": {
            "needs_background": "light"
          }
        }
      ]
    },
    {
      "cell_type": "code",
      "source": [
        "data.head()"
      ],
      "metadata": {
        "colab": {
          "base_uri": "https://localhost:8080/",
          "height": 285
        },
        "id": "j_i-aifCiEvW",
        "outputId": "a21553f8-320a-466e-a0a8-2946cc2742e7"
      },
      "execution_count": 152,
      "outputs": [
        {
          "output_type": "execute_result",
          "data": {
            "text/html": [
              "\n",
              "  <div id=\"df-11a01ad1-6fb6-43f7-85d5-4567bdcb977a\">\n",
              "    <div class=\"colab-df-container\">\n",
              "      <div>\n",
              "<style scoped>\n",
              "    .dataframe tbody tr th:only-of-type {\n",
              "        vertical-align: middle;\n",
              "    }\n",
              "\n",
              "    .dataframe tbody tr th {\n",
              "        vertical-align: top;\n",
              "    }\n",
              "\n",
              "    .dataframe thead th {\n",
              "        text-align: right;\n",
              "    }\n",
              "</style>\n",
              "<table border=\"1\" class=\"dataframe\">\n",
              "  <thead>\n",
              "    <tr style=\"text-align: right;\">\n",
              "      <th></th>\n",
              "      <th>PrimaryPropertyType</th>\n",
              "      <th>CouncilDistrictCode</th>\n",
              "      <th>Neighborhood</th>\n",
              "      <th>NumberofFloors</th>\n",
              "      <th>PropertyGFATotal</th>\n",
              "      <th>PropertyGFAParking</th>\n",
              "      <th>PropertyGFABuilding(s)</th>\n",
              "      <th>LargestPropertyUseType</th>\n",
              "      <th>LargestPropertyUseTypeGFA</th>\n",
              "      <th>SiteEnergyUse(kBtu)</th>\n",
              "      <th>TotalGHGEmissions</th>\n",
              "      <th>YearBuilt_age</th>\n",
              "      <th>GFA_per_floor</th>\n",
              "      <th>Building_age</th>\n",
              "      <th>Predicted_GES-emission</th>\n",
              "      <th>Predicted_consommation</th>\n",
              "    </tr>\n",
              "  </thead>\n",
              "  <tbody>\n",
              "    <tr>\n",
              "      <th>0</th>\n",
              "      <td>Hotel</td>\n",
              "      <td>7.0</td>\n",
              "      <td>DOWNTOWN</td>\n",
              "      <td>12.0</td>\n",
              "      <td>88434.0</td>\n",
              "      <td>0.0</td>\n",
              "      <td>88434.0</td>\n",
              "      <td>Hotel</td>\n",
              "      <td>88434.0</td>\n",
              "      <td>6981428.0</td>\n",
              "      <td>249.43</td>\n",
              "      <td>old</td>\n",
              "      <td>7369.500000</td>\n",
              "      <td>95.0</td>\n",
              "      <td>249.705</td>\n",
              "      <td>7.019059e+06</td>\n",
              "    </tr>\n",
              "    <tr>\n",
              "      <th>1</th>\n",
              "      <td>Hotel</td>\n",
              "      <td>7.0</td>\n",
              "      <td>DOWNTOWN</td>\n",
              "      <td>11.0</td>\n",
              "      <td>103566.0</td>\n",
              "      <td>15064.0</td>\n",
              "      <td>88502.0</td>\n",
              "      <td>Hotel</td>\n",
              "      <td>83880.0</td>\n",
              "      <td>8354235.0</td>\n",
              "      <td>263.51</td>\n",
              "      <td>old</td>\n",
              "      <td>9415.090909</td>\n",
              "      <td>26.0</td>\n",
              "      <td>279.685</td>\n",
              "      <td>8.028232e+06</td>\n",
              "    </tr>\n",
              "    <tr>\n",
              "      <th>2</th>\n",
              "      <td>Hotel</td>\n",
              "      <td>7.0</td>\n",
              "      <td>DOWNTOWN</td>\n",
              "      <td>11.0</td>\n",
              "      <td>83008.0</td>\n",
              "      <td>0.0</td>\n",
              "      <td>83008.0</td>\n",
              "      <td>Hotel</td>\n",
              "      <td>81352.0</td>\n",
              "      <td>6252842.0</td>\n",
              "      <td>208.46</td>\n",
              "      <td>old</td>\n",
              "      <td>7546.181818</td>\n",
              "      <td>96.0</td>\n",
              "      <td>192.300</td>\n",
              "      <td>6.080161e+06</td>\n",
              "    </tr>\n",
              "    <tr>\n",
              "      <th>3</th>\n",
              "      <td>Hotel</td>\n",
              "      <td>7.0</td>\n",
              "      <td>DOWNTOWN</td>\n",
              "      <td>15.0</td>\n",
              "      <td>163984.0</td>\n",
              "      <td>0.0</td>\n",
              "      <td>163984.0</td>\n",
              "      <td>Hotel</td>\n",
              "      <td>163984.0</td>\n",
              "      <td>12633744.0</td>\n",
              "      <td>331.61</td>\n",
              "      <td>old</td>\n",
              "      <td>10932.266667</td>\n",
              "      <td>118.0</td>\n",
              "      <td>361.885</td>\n",
              "      <td>1.423001e+07</td>\n",
              "    </tr>\n",
              "    <tr>\n",
              "      <th>4</th>\n",
              "      <td>Hotel</td>\n",
              "      <td>7.0</td>\n",
              "      <td>DOWNTOWN</td>\n",
              "      <td>9.0</td>\n",
              "      <td>65009.0</td>\n",
              "      <td>0.0</td>\n",
              "      <td>65009.0</td>\n",
              "      <td>Hotel</td>\n",
              "      <td>65009.0</td>\n",
              "      <td>6807227.0</td>\n",
              "      <td>334.87</td>\n",
              "      <td>old</td>\n",
              "      <td>7223.222222</td>\n",
              "      <td>94.0</td>\n",
              "      <td>328.230</td>\n",
              "      <td>5.173988e+06</td>\n",
              "    </tr>\n",
              "  </tbody>\n",
              "</table>\n",
              "</div>\n",
              "      <button class=\"colab-df-convert\" onclick=\"convertToInteractive('df-11a01ad1-6fb6-43f7-85d5-4567bdcb977a')\"\n",
              "              title=\"Convert this dataframe to an interactive table.\"\n",
              "              style=\"display:none;\">\n",
              "        \n",
              "  <svg xmlns=\"http://www.w3.org/2000/svg\" height=\"24px\"viewBox=\"0 0 24 24\"\n",
              "       width=\"24px\">\n",
              "    <path d=\"M0 0h24v24H0V0z\" fill=\"none\"/>\n",
              "    <path d=\"M18.56 5.44l.94 2.06.94-2.06 2.06-.94-2.06-.94-.94-2.06-.94 2.06-2.06.94zm-11 1L8.5 8.5l.94-2.06 2.06-.94-2.06-.94L8.5 2.5l-.94 2.06-2.06.94zm10 10l.94 2.06.94-2.06 2.06-.94-2.06-.94-.94-2.06-.94 2.06-2.06.94z\"/><path d=\"M17.41 7.96l-1.37-1.37c-.4-.4-.92-.59-1.43-.59-.52 0-1.04.2-1.43.59L10.3 9.45l-7.72 7.72c-.78.78-.78 2.05 0 2.83L4 21.41c.39.39.9.59 1.41.59.51 0 1.02-.2 1.41-.59l7.78-7.78 2.81-2.81c.8-.78.8-2.07 0-2.86zM5.41 20L4 18.59l7.72-7.72 1.47 1.35L5.41 20z\"/>\n",
              "  </svg>\n",
              "      </button>\n",
              "      \n",
              "  <style>\n",
              "    .colab-df-container {\n",
              "      display:flex;\n",
              "      flex-wrap:wrap;\n",
              "      gap: 12px;\n",
              "    }\n",
              "\n",
              "    .colab-df-convert {\n",
              "      background-color: #E8F0FE;\n",
              "      border: none;\n",
              "      border-radius: 50%;\n",
              "      cursor: pointer;\n",
              "      display: none;\n",
              "      fill: #1967D2;\n",
              "      height: 32px;\n",
              "      padding: 0 0 0 0;\n",
              "      width: 32px;\n",
              "    }\n",
              "\n",
              "    .colab-df-convert:hover {\n",
              "      background-color: #E2EBFA;\n",
              "      box-shadow: 0px 1px 2px rgba(60, 64, 67, 0.3), 0px 1px 3px 1px rgba(60, 64, 67, 0.15);\n",
              "      fill: #174EA6;\n",
              "    }\n",
              "\n",
              "    [theme=dark] .colab-df-convert {\n",
              "      background-color: #3B4455;\n",
              "      fill: #D2E3FC;\n",
              "    }\n",
              "\n",
              "    [theme=dark] .colab-df-convert:hover {\n",
              "      background-color: #434B5C;\n",
              "      box-shadow: 0px 1px 3px 1px rgba(0, 0, 0, 0.15);\n",
              "      filter: drop-shadow(0px 1px 2px rgba(0, 0, 0, 0.3));\n",
              "      fill: #FFFFFF;\n",
              "    }\n",
              "  </style>\n",
              "\n",
              "      <script>\n",
              "        const buttonEl =\n",
              "          document.querySelector('#df-11a01ad1-6fb6-43f7-85d5-4567bdcb977a button.colab-df-convert');\n",
              "        buttonEl.style.display =\n",
              "          google.colab.kernel.accessAllowed ? 'block' : 'none';\n",
              "\n",
              "        async function convertToInteractive(key) {\n",
              "          const element = document.querySelector('#df-11a01ad1-6fb6-43f7-85d5-4567bdcb977a');\n",
              "          const dataTable =\n",
              "            await google.colab.kernel.invokeFunction('convertToInteractive',\n",
              "                                                     [key], {});\n",
              "          if (!dataTable) return;\n",
              "\n",
              "          const docLinkHtml = 'Like what you see? Visit the ' +\n",
              "            '<a target=\"_blank\" href=https://colab.research.google.com/notebooks/data_table.ipynb>data table notebook</a>'\n",
              "            + ' to learn more about interactive tables.';\n",
              "          element.innerHTML = '';\n",
              "          dataTable['output_type'] = 'display_data';\n",
              "          await google.colab.output.renderOutput(dataTable, element);\n",
              "          const docLink = document.createElement('div');\n",
              "          docLink.innerHTML = docLinkHtml;\n",
              "          element.appendChild(docLink);\n",
              "        }\n",
              "      </script>\n",
              "    </div>\n",
              "  </div>\n",
              "  "
            ],
            "text/plain": [
              "  PrimaryPropertyType  ...  Predicted_consommation\n",
              "0               Hotel  ...            7.019059e+06\n",
              "1               Hotel  ...            8.028232e+06\n",
              "2               Hotel  ...            6.080161e+06\n",
              "3               Hotel  ...            1.423001e+07\n",
              "4               Hotel  ...            5.173988e+06\n",
              "\n",
              "[5 rows x 16 columns]"
            ]
          },
          "metadata": {},
          "execution_count": 152
        }
      ]
    },
    {
      "cell_type": "markdown",
      "source": [
        "## Importance des features pour la modélisation :     \n",
        " \n",
        " Il y a t-il des features qui sont primordiaux pour la modélisation et qu'il faudra donc garder dans les années à suivre et au contraire existe-t-il des features dont nous pourrions nous passer (et ainsi gagner du temps sur le terrain dans la préparation de la base de donnée) ?\n"
      ],
      "metadata": {
        "id": "gdrvgSEGrt0o"
      }
    },
    {
      "cell_type": "markdown",
      "source": [
        "Pour la prédiction de la consommation :"
      ],
      "metadata": {
        "id": "wTWU3hbZyPiC"
      }
    },
    {
      "cell_type": "code",
      "source": [
        "# Calcul des coefficients relevant l'importance de chaque features\n",
        "coefficients = abs(rf_GridSearchCV_conso.best_estimator_.feature_importances_)\n",
        "liste_coef_conso = pad.concat((pad.DataFrame(X.columns, columns = ['Variables']), pad.DataFrame(coefficients, columns = ['Coefficients'])), axis = 1).sort_values(by='Coefficients', ascending = False)"
      ],
      "metadata": {
        "id": "VUDH6i4HyVjV"
      },
      "execution_count": 155,
      "outputs": []
    },
    {
      "cell_type": "code",
      "source": [
        "plt.figure(figsize=(8,8))\n",
        "plt.title('Prédiction de la consommation - Random Forest - Importance des features')\n",
        "ax = sns.barplot(y = liste_coef_conso['Variables'], x = liste_coef_conso['Coefficients'])\n",
        "plt.tight_layout()\n",
        "fig = ax.get_figure()\n",
        "fig.savefig(\"Importance des features consommation\", dpi=400)\n",
        "plt.show()"
      ],
      "metadata": {
        "id": "hT8T70cxyWMF",
        "colab": {
          "base_uri": "https://localhost:8080/",
          "height": 585
        },
        "outputId": "28162572-227b-4931-a21a-ad5036173764"
      },
      "execution_count": 156,
      "outputs": [
        {
          "output_type": "display_data",
          "data": {
            "image/png": "[encoded data removed]",
            "text/plain": [
              "<Figure size 576x576 with 1 Axes>"
            ]
          },
          "metadata": {
            "needs_background": "light"
          }
        }
      ]
    },
    {
      "cell_type": "markdown",
      "source": [
        "De façon assez logique, les surfaces des batiments et étages sont importants pour la création du modèle, vient ensuite le nombre d'étage, l'âge du batiment et enfin le n° du district où se situe le batiment"
      ],
      "metadata": {
        "id": "dz7OeQuS17rW"
      }
    },
    {
      "cell_type": "markdown",
      "source": [
        "Pour la prédiction des émissions de GES :"
      ],
      "metadata": {
        "id": "Sb6YW9AbySym"
      }
    },
    {
      "cell_type": "code",
      "source": [
        "# Calcul des coefficients relevant l'importance de chaque features\n",
        "coefficients = abs(rf_GridSearchCV_GES.best_estimator_.feature_importances_)\n",
        "liste_coef = pad.concat((pad.DataFrame(X.columns, columns = ['Variables']), pad.DataFrame(coefficients, columns = ['Coefficients'])), axis = 1).sort_values(by='Coefficients', ascending = False)"
      ],
      "metadata": {
        "id": "S9Y_Ctf_rp5b"
      },
      "execution_count": 153,
      "outputs": []
    },
    {
      "cell_type": "code",
      "source": [
        "plt.figure(figsize=(8,8))\n",
        "plt.title('Prédiction des émissions de GES - Random Forest - Importance des features')\n",
        "ax = sns.barplot(y = liste_coef['Variables'], x = liste_coef['Coefficients'])\n",
        "plt.tight_layout()\n",
        "fig = ax.get_figure()\n",
        "fig.savefig(\"Importance des features émission GES\", dpi=400)\n",
        "plt.show()"
      ],
      "metadata": {
        "id": "vU9aFamor0YL",
        "colab": {
          "base_uri": "https://localhost:8080/",
          "height": 585
        },
        "outputId": "15e78526-ac63-4dd1-c8e8-e64c26a276a9"
      },
      "execution_count": 154,
      "outputs": [
        {
          "output_type": "display_data",
          "data": {
            "image/png": "[encoded data removed]",
            "text/plain": [
              "<Figure size 576x576 with 1 Axes>"
            ]
          },
          "metadata": {
            "needs_background": "light"
          }
        }
      ]
    },
    {
      "cell_type": "markdown",
      "source": [
        "De façon assez logique, les surfaces des batiments et étages sont importants pour la création du modèle, vient ensuite le nombre d'étage, l'âge du batiment et enfin le n° du district où se situe le batiment"
      ],
      "metadata": {
        "id": "p9-hYhDovIj_"
      }
    }
  ]
}