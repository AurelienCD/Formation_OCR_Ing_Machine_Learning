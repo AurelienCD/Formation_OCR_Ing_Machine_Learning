{
  "nbformat": 4,
  "nbformat_minor": 0,
  "metadata": {
    "colab": {
      "name": "XBNet.ipynb",
      "provenance": [],
      "collapsed_sections": [
        "WB3ZVKvOHqjJ",
        "vVYXaIS7vloY",
        "6nFGnlHsGkyA"
      ],
      "include_colab_link": true
    },
    "kernelspec": {
      "name": "python3",
      "display_name": "Python 3"
    },
    "language_info": {
      "name": "python"
    },
    "accelerator": "GPU"
  },
  "cells": [
    {
      "cell_type": "markdown",
      "metadata": {
        "id": "view-in-github",
        "colab_type": "text"
      },
      "source": [
        "<a href=\"https://colab.research.google.com/github/AurelienCD/Formation_OCR_Ing_Machine_Learning/blob/main/XBNet.ipynb\" target=\"_parent\"><img src=\"https://colab.research.google.com/assets/colab-badge.svg\" alt=\"Open In Colab\"/></a>"
      ]
    },
    {
      "cell_type": "markdown",
      "source": [
        "## Importation des librairies"
      ],
      "metadata": {
        "id": "my5twxtovcJq"
      }
    },
    {
      "cell_type": "code",
      "execution_count": 1,
      "metadata": {
        "colab": {
          "base_uri": "https://localhost:8080/"
        },
        "id": "0lJ9tHiRt7Gc",
        "outputId": "0f156956-a8af-4df9-870a-44d08972481e"
      },
      "outputs": [
        {
          "output_type": "stream",
          "name": "stdout",
          "text": [
            "Drive already mounted at /content/drive; to attempt to forcibly remount, call drive.mount(\"/content/drive\", force_remount=True).\n"
          ]
        }
      ],
      "source": [
        "from google.colab import drive\n",
        "drive.mount(\"/content/drive\")"
      ]
    },
    {
      "cell_type": "code",
      "source": [
        "%cd drive/MyDrive/Formation_OCR_Ing_Machine_Learning/Projet 7/Stage_Noémie/"
      ],
      "metadata": {
        "colab": {
          "base_uri": "https://localhost:8080/"
        },
        "id": "lObhDILwuIg5",
        "outputId": "28546d0a-bb69-40df-c90b-932b911104fa"
      },
      "execution_count": 2,
      "outputs": [
        {
          "output_type": "stream",
          "name": "stdout",
          "text": [
            "/content/drive/MyDrive/Formation_OCR_Ing_Machine_Learning/Projet 7/Stage_Noémie\n"
          ]
        }
      ]
    },
    {
      "cell_type": "code",
      "source": [
        "pip install --upgrade git+https://github.com/tusharsarkar3/XBNet.git"
      ],
      "metadata": {
        "colab": {
          "base_uri": "https://localhost:8080/"
        },
        "id": "UMA9sHqhhRZW",
        "outputId": "9ddc3e7c-bf54-42ed-c958-78c6fddb9b73"
      },
      "execution_count": 3,
      "outputs": [
        {
          "output_type": "stream",
          "name": "stdout",
          "text": [
            "Collecting git+https://github.com/tusharsarkar3/XBNet.git\n",
            "  Cloning https://github.com/tusharsarkar3/XBNet.git to /tmp/pip-req-build-7ylubnaa\n",
            "  Running command git clone -q https://github.com/tusharsarkar3/XBNet.git /tmp/pip-req-build-7ylubnaa\n",
            "Requirement already satisfied: sklearn==0.0 in /usr/local/lib/python3.7/dist-packages (from XBNet==1.4.6) (0.0)\n",
            "Requirement already satisfied: numpy==1.21.2 in /usr/local/lib/python3.7/dist-packages (from XBNet==1.4.6) (1.21.2)\n",
            "Requirement already satisfied: pandas==1.3.3 in /usr/local/lib/python3.7/dist-packages (from XBNet==1.4.6) (1.3.3)\n",
            "Requirement already satisfied: matplotlib==3.4.3 in /usr/local/lib/python3.7/dist-packages (from XBNet==1.4.6) (3.4.3)\n",
            "Requirement already satisfied: torch==1.9.0 in /usr/local/lib/python3.7/dist-packages (from XBNet==1.4.6) (1.9.0)\n",
            "Requirement already satisfied: xgboost==1.4.2 in /usr/local/lib/python3.7/dist-packages (from XBNet==1.4.6) (1.4.2)\n",
            "Requirement already satisfied: tqdm==4.62.2 in /usr/local/lib/python3.7/dist-packages (from XBNet==1.4.6) (4.62.2)\n",
            "Requirement already satisfied: pyparsing>=2.2.1 in /usr/local/lib/python3.7/dist-packages (from matplotlib==3.4.3->XBNet==1.4.6) (3.0.8)\n",
            "Requirement already satisfied: kiwisolver>=1.0.1 in /usr/local/lib/python3.7/dist-packages (from matplotlib==3.4.3->XBNet==1.4.6) (1.4.2)\n",
            "Requirement already satisfied: python-dateutil>=2.7 in /usr/local/lib/python3.7/dist-packages (from matplotlib==3.4.3->XBNet==1.4.6) (2.8.2)\n",
            "Requirement already satisfied: cycler>=0.10 in /usr/local/lib/python3.7/dist-packages (from matplotlib==3.4.3->XBNet==1.4.6) (0.11.0)\n",
            "Requirement already satisfied: pillow>=6.2.0 in /usr/local/lib/python3.7/dist-packages (from matplotlib==3.4.3->XBNet==1.4.6) (7.1.2)\n",
            "Requirement already satisfied: pytz>=2017.3 in /usr/local/lib/python3.7/dist-packages (from pandas==1.3.3->XBNet==1.4.6) (2022.1)\n",
            "Requirement already satisfied: scikit-learn in /usr/local/lib/python3.7/dist-packages (from sklearn==0.0->XBNet==1.4.6) (1.0.2)\n",
            "Requirement already satisfied: typing-extensions in /usr/local/lib/python3.7/dist-packages (from torch==1.9.0->XBNet==1.4.6) (4.2.0)\n",
            "Requirement already satisfied: scipy in /usr/local/lib/python3.7/dist-packages (from xgboost==1.4.2->XBNet==1.4.6) (1.4.1)\n",
            "Requirement already satisfied: six>=1.5 in /usr/local/lib/python3.7/dist-packages (from python-dateutil>=2.7->matplotlib==3.4.3->XBNet==1.4.6) (1.15.0)\n",
            "Requirement already satisfied: threadpoolctl>=2.0.0 in /usr/local/lib/python3.7/dist-packages (from scikit-learn->sklearn==0.0->XBNet==1.4.6) (3.1.0)\n",
            "Requirement already satisfied: joblib>=0.11 in /usr/local/lib/python3.7/dist-packages (from scikit-learn->sklearn==0.0->XBNet==1.4.6) (1.1.0)\n"
          ]
        }
      ]
    },
    {
      "cell_type": "code",
      "source": [
        "import pandas as pad \n",
        "import numpy as np\n",
        "from numpy.core.numeric import NaN\n",
        "\n",
        "import datetime\n",
        "\n",
        "import matplotlib.pyplot as plt\n",
        "import seaborn as sns\n",
        "\n",
        "import statistics\n",
        "from scipy import stats\n",
        "from scipy.stats import pearsonr\n",
        "from scipy.stats import ttest_ind\n",
        "\n",
        "\n",
        "import statsmodels.api as sm\n",
        "from statsmodels.formula.api import ols\n",
        "import statsmodels.stats.multicomp as multi \n",
        "\n",
        "import pandas as pad \n",
        "import numpy as np\n",
        "from numpy.core.numeric import NaN\n",
        "\n",
        "from sklearn.preprocessing import StandardScaler, OneHotEncoder\n",
        "from sklearn.metrics.cluster import adjusted_rand_score\n",
        "\n",
        "from joblib import dump, load\n",
        "\n",
        "from sklearn.model_selection import train_test_split, StratifiedShuffleSplit, GridSearchCV\n",
        "\n",
        "from sklearn.preprocessing import *\n",
        "from sklearn.pipeline import make_pipeline\n",
        "from sklearn.compose import make_column_transformer\n",
        "\n",
        "from sklearn.discriminant_analysis import LinearDiscriminantAnalysis\n",
        "from sklearn.neighbors import KNeighborsClassifier\n",
        "from sklearn.naive_bayes import GaussianNB\n",
        "from sklearn.tree import DecisionTreeClassifier\n",
        "from sklearn.svm import SVC\n",
        "from sklearn.linear_model import LogisticRegression\n",
        "from sklearn.linear_model import RidgeClassifier\n",
        "from sklearn.linear_model import SGDClassifier\n",
        "from sklearn.linear_model import LinearRegression\n",
        "from sklearn.ensemble import RandomForestClassifier\n",
        "from imblearn.over_sampling import RandomOverSampler\n",
        "from imblearn.under_sampling import RandomUnderSampler\n",
        "\n",
        "from sklearn.metrics import *\n",
        "from sklearn.model_selection import KFold\n",
        "from sklearn.metrics import  make_scorer\n",
        "from sklearn.model_selection import cross_val_score\n",
        "from sklearn.metrics import r2_score\n",
        "from sklearn.model_selection import RandomizedSearchCV\n",
        "from sklearn.datasets import make_classification\n",
        "from sklearn.metrics import roc_curve\n",
        "\n",
        "import tensorflow as tf\n",
        "from tensorflow import keras\n",
        "from keras.callbacks import ModelCheckpoint\n",
        "import random\n",
        "import numpy\n",
        "\n",
        "import pandas.util.testing as tm\n",
        "\n",
        "import joblib"
      ],
      "metadata": {
        "id": "ipF7WOHnuJqp",
        "colab": {
          "base_uri": "https://localhost:8080/"
        },
        "outputId": "142abddd-de5d-451e-b882-92cd1ce3333b"
      },
      "execution_count": 4,
      "outputs": [
        {
          "output_type": "stream",
          "name": "stderr",
          "text": [
            "/usr/local/lib/python3.7/dist-packages/statsmodels/tools/_testing.py:19: FutureWarning: pandas.util.testing is deprecated. Use the functions in the public API at pandas.testing instead.\n",
            "  import pandas.util.testing as tm\n"
          ]
        }
      ]
    },
    {
      "cell_type": "code",
      "source": [
        "import torch\n",
        "import pandas as pd\n",
        "from sklearn.preprocessing import LabelEncoder\n",
        "from sklearn.model_selection import train_test_split\n",
        "from XBNet.training_utils import training,predict\n",
        "from XBNet.models import XBNETClassifier\n",
        "from XBNet.run import run_XBNET"
      ],
      "metadata": {
        "id": "fX1BDCRw9-by"
      },
      "execution_count": 5,
      "outputs": []
    },
    {
      "cell_type": "code",
      "source": [
        "df = pad.read_excel('Database_finale.xlsx')\n",
        "df"
      ],
      "metadata": {
        "colab": {
          "base_uri": "https://localhost:8080/",
          "height": 419
        },
        "outputId": "8f98f3bb-8121-47f5-bd20-b8dc7b71cc4e",
        "id": "FSNnkrVN9nxJ"
      },
      "execution_count": 9,
      "outputs": [
        {
          "output_type": "execute_result",
          "data": {
            "text/plain": [
              "      Label_1  Label_2  Label_3  Label_4  Label_5  Label_6  Class\n",
              "0      0.4633   0.1076  40.4710   0.0859   0.1338   0.8025    1.0\n",
              "1      0.4540   0.0997  36.4405   0.0815   0.1233   0.7998    1.0\n",
              "2      0.4880   0.0803  61.0115   0.0558   0.1058   0.7631    1.0\n",
              "3      0.4113   0.1118  34.3492   0.0926   0.1467   0.7588    1.0\n",
              "4      0.6148   0.0940  31.4994   0.0792   0.1329   0.7026    1.0\n",
              "...       ...      ...      ...      ...      ...      ...    ...\n",
              "1627   0.5041   0.1099  46.2522   0.0845   0.1460   0.7514    1.0\n",
              "1628   0.4571   0.1253  41.3130   0.0995   0.1825   0.6850    1.0\n",
              "1629   0.3610   0.1406  30.2030   0.1194   0.2063   0.6746    1.0\n",
              "1630   0.5300   0.0692  64.1103   0.0470   0.0923   0.7494    1.0\n",
              "1631   0.6539   0.0694  58.1879   0.0492   0.0915   0.7607    0.0\n",
              "\n",
              "[1632 rows x 7 columns]"
            ],
            "text/html": [
              "\n",
              "  <div id=\"df-91ae3374-c6db-472e-b9a3-b2f7231e292f\">\n",
              "    <div class=\"colab-df-container\">\n",
              "      <div>\n",
              "<style scoped>\n",
              "    .dataframe tbody tr th:only-of-type {\n",
              "        vertical-align: middle;\n",
              "    }\n",
              "\n",
              "    .dataframe tbody tr th {\n",
              "        vertical-align: top;\n",
              "    }\n",
              "\n",
              "    .dataframe thead th {\n",
              "        text-align: right;\n",
              "    }\n",
              "</style>\n",
              "<table border=\"1\" class=\"dataframe\">\n",
              "  <thead>\n",
              "    <tr style=\"text-align: right;\">\n",
              "      <th></th>\n",
              "      <th>Label_1</th>\n",
              "      <th>Label_2</th>\n",
              "      <th>Label_3</th>\n",
              "      <th>Label_4</th>\n",
              "      <th>Label_5</th>\n",
              "      <th>Label_6</th>\n",
              "      <th>Class</th>\n",
              "    </tr>\n",
              "  </thead>\n",
              "  <tbody>\n",
              "    <tr>\n",
              "      <th>0</th>\n",
              "      <td>0.4633</td>\n",
              "      <td>0.1076</td>\n",
              "      <td>40.4710</td>\n",
              "      <td>0.0859</td>\n",
              "      <td>0.1338</td>\n",
              "      <td>0.8025</td>\n",
              "      <td>1.0</td>\n",
              "    </tr>\n",
              "    <tr>\n",
              "      <th>1</th>\n",
              "      <td>0.4540</td>\n",
              "      <td>0.0997</td>\n",
              "      <td>36.4405</td>\n",
              "      <td>0.0815</td>\n",
              "      <td>0.1233</td>\n",
              "      <td>0.7998</td>\n",
              "      <td>1.0</td>\n",
              "    </tr>\n",
              "    <tr>\n",
              "      <th>2</th>\n",
              "      <td>0.4880</td>\n",
              "      <td>0.0803</td>\n",
              "      <td>61.0115</td>\n",
              "      <td>0.0558</td>\n",
              "      <td>0.1058</td>\n",
              "      <td>0.7631</td>\n",
              "      <td>1.0</td>\n",
              "    </tr>\n",
              "    <tr>\n",
              "      <th>3</th>\n",
              "      <td>0.4113</td>\n",
              "      <td>0.1118</td>\n",
              "      <td>34.3492</td>\n",
              "      <td>0.0926</td>\n",
              "      <td>0.1467</td>\n",
              "      <td>0.7588</td>\n",
              "      <td>1.0</td>\n",
              "    </tr>\n",
              "    <tr>\n",
              "      <th>4</th>\n",
              "      <td>0.6148</td>\n",
              "      <td>0.0940</td>\n",
              "      <td>31.4994</td>\n",
              "      <td>0.0792</td>\n",
              "      <td>0.1329</td>\n",
              "      <td>0.7026</td>\n",
              "      <td>1.0</td>\n",
              "    </tr>\n",
              "    <tr>\n",
              "      <th>...</th>\n",
              "      <td>...</td>\n",
              "      <td>...</td>\n",
              "      <td>...</td>\n",
              "      <td>...</td>\n",
              "      <td>...</td>\n",
              "      <td>...</td>\n",
              "      <td>...</td>\n",
              "    </tr>\n",
              "    <tr>\n",
              "      <th>1627</th>\n",
              "      <td>0.5041</td>\n",
              "      <td>0.1099</td>\n",
              "      <td>46.2522</td>\n",
              "      <td>0.0845</td>\n",
              "      <td>0.1460</td>\n",
              "      <td>0.7514</td>\n",
              "      <td>1.0</td>\n",
              "    </tr>\n",
              "    <tr>\n",
              "      <th>1628</th>\n",
              "      <td>0.4571</td>\n",
              "      <td>0.1253</td>\n",
              "      <td>41.3130</td>\n",
              "      <td>0.0995</td>\n",
              "      <td>0.1825</td>\n",
              "      <td>0.6850</td>\n",
              "      <td>1.0</td>\n",
              "    </tr>\n",
              "    <tr>\n",
              "      <th>1629</th>\n",
              "      <td>0.3610</td>\n",
              "      <td>0.1406</td>\n",
              "      <td>30.2030</td>\n",
              "      <td>0.1194</td>\n",
              "      <td>0.2063</td>\n",
              "      <td>0.6746</td>\n",
              "      <td>1.0</td>\n",
              "    </tr>\n",
              "    <tr>\n",
              "      <th>1630</th>\n",
              "      <td>0.5300</td>\n",
              "      <td>0.0692</td>\n",
              "      <td>64.1103</td>\n",
              "      <td>0.0470</td>\n",
              "      <td>0.0923</td>\n",
              "      <td>0.7494</td>\n",
              "      <td>1.0</td>\n",
              "    </tr>\n",
              "    <tr>\n",
              "      <th>1631</th>\n",
              "      <td>0.6539</td>\n",
              "      <td>0.0694</td>\n",
              "      <td>58.1879</td>\n",
              "      <td>0.0492</td>\n",
              "      <td>0.0915</td>\n",
              "      <td>0.7607</td>\n",
              "      <td>0.0</td>\n",
              "    </tr>\n",
              "  </tbody>\n",
              "</table>\n",
              "<p>1632 rows × 7 columns</p>\n",
              "</div>\n",
              "      <button class=\"colab-df-convert\" onclick=\"convertToInteractive('df-91ae3374-c6db-472e-b9a3-b2f7231e292f')\"\n",
              "              title=\"Convert this dataframe to an interactive table.\"\n",
              "              style=\"display:none;\">\n",
              "        \n",
              "  <svg xmlns=\"http://www.w3.org/2000/svg\" height=\"24px\"viewBox=\"0 0 24 24\"\n",
              "       width=\"24px\">\n",
              "    <path d=\"M0 0h24v24H0V0z\" fill=\"none\"/>\n",
              "    <path d=\"M18.56 5.44l.94 2.06.94-2.06 2.06-.94-2.06-.94-.94-2.06-.94 2.06-2.06.94zm-11 1L8.5 8.5l.94-2.06 2.06-.94-2.06-.94L8.5 2.5l-.94 2.06-2.06.94zm10 10l.94 2.06.94-2.06 2.06-.94-2.06-.94-.94-2.06-.94 2.06-2.06.94z\"/><path d=\"M17.41 7.96l-1.37-1.37c-.4-.4-.92-.59-1.43-.59-.52 0-1.04.2-1.43.59L10.3 9.45l-7.72 7.72c-.78.78-.78 2.05 0 2.83L4 21.41c.39.39.9.59 1.41.59.51 0 1.02-.2 1.41-.59l7.78-7.78 2.81-2.81c.8-.78.8-2.07 0-2.86zM5.41 20L4 18.59l7.72-7.72 1.47 1.35L5.41 20z\"/>\n",
              "  </svg>\n",
              "      </button>\n",
              "      \n",
              "  <style>\n",
              "    .colab-df-container {\n",
              "      display:flex;\n",
              "      flex-wrap:wrap;\n",
              "      gap: 12px;\n",
              "    }\n",
              "\n",
              "    .colab-df-convert {\n",
              "      background-color: #E8F0FE;\n",
              "      border: none;\n",
              "      border-radius: 50%;\n",
              "      cursor: pointer;\n",
              "      display: none;\n",
              "      fill: #1967D2;\n",
              "      height: 32px;\n",
              "      padding: 0 0 0 0;\n",
              "      width: 32px;\n",
              "    }\n",
              "\n",
              "    .colab-df-convert:hover {\n",
              "      background-color: #E2EBFA;\n",
              "      box-shadow: 0px 1px 2px rgba(60, 64, 67, 0.3), 0px 1px 3px 1px rgba(60, 64, 67, 0.15);\n",
              "      fill: #174EA6;\n",
              "    }\n",
              "\n",
              "    [theme=dark] .colab-df-convert {\n",
              "      background-color: #3B4455;\n",
              "      fill: #D2E3FC;\n",
              "    }\n",
              "\n",
              "    [theme=dark] .colab-df-convert:hover {\n",
              "      background-color: #434B5C;\n",
              "      box-shadow: 0px 1px 3px 1px rgba(0, 0, 0, 0.15);\n",
              "      filter: drop-shadow(0px 1px 2px rgba(0, 0, 0, 0.3));\n",
              "      fill: #FFFFFF;\n",
              "    }\n",
              "  </style>\n",
              "\n",
              "      <script>\n",
              "        const buttonEl =\n",
              "          document.querySelector('#df-91ae3374-c6db-472e-b9a3-b2f7231e292f button.colab-df-convert');\n",
              "        buttonEl.style.display =\n",
              "          google.colab.kernel.accessAllowed ? 'block' : 'none';\n",
              "\n",
              "        async function convertToInteractive(key) {\n",
              "          const element = document.querySelector('#df-91ae3374-c6db-472e-b9a3-b2f7231e292f');\n",
              "          const dataTable =\n",
              "            await google.colab.kernel.invokeFunction('convertToInteractive',\n",
              "                                                     [key], {});\n",
              "          if (!dataTable) return;\n",
              "\n",
              "          const docLinkHtml = 'Like what you see? Visit the ' +\n",
              "            '<a target=\"_blank\" href=https://colab.research.google.com/notebooks/data_table.ipynb>data table notebook</a>'\n",
              "            + ' to learn more about interactive tables.';\n",
              "          element.innerHTML = '';\n",
              "          dataTable['output_type'] = 'display_data';\n",
              "          await google.colab.output.renderOutput(dataTable, element);\n",
              "          const docLink = document.createElement('div');\n",
              "          docLink.innerHTML = docLinkHtml;\n",
              "          element.appendChild(docLink);\n",
              "        }\n",
              "      </script>\n",
              "    </div>\n",
              "  </div>\n",
              "  "
            ]
          },
          "metadata": {},
          "execution_count": 9
        }
      ]
    },
    {
      "cell_type": "code",
      "source": [
        "# Importation des données\n",
        "X = df.drop(\"Class\", axis = 1)\n",
        "y = df[\"Class\"]"
      ],
      "metadata": {
        "id": "-HKPDJ3_9nxK"
      },
      "execution_count": 11,
      "outputs": []
    },
    {
      "cell_type": "code",
      "source": [
        "X_np = np.array(X)"
      ],
      "metadata": {
        "id": "XuUQ4UK89nxL"
      },
      "execution_count": 12,
      "outputs": []
    },
    {
      "cell_type": "code",
      "source": [
        "sc = StandardScaler()"
      ],
      "metadata": {
        "id": "CZowdvMs9nxL"
      },
      "execution_count": 13,
      "outputs": []
    },
    {
      "cell_type": "code",
      "source": [
        "X_norm = sc.fit_transform(X_np)"
      ],
      "metadata": {
        "id": "uoYUXzx99nxL"
      },
      "execution_count": 14,
      "outputs": []
    },
    {
      "cell_type": "code",
      "source": [
        "x_data = X_norm\n",
        "y_data = y"
      ],
      "metadata": {
        "id": "f66ZSiPp-AfS"
      },
      "execution_count": 15,
      "outputs": []
    },
    {
      "cell_type": "code",
      "source": [
        "le = LabelEncoder()\n",
        "y_data = np.array(le.fit_transform(y_data))\n",
        "print(le.classes_)"
      ],
      "metadata": {
        "id": "j6Kn4-Vc-FRa",
        "colab": {
          "base_uri": "https://localhost:8080/"
        },
        "outputId": "ed705204-b994-4f1a-b9a7-1b6cc197a0b0"
      },
      "execution_count": 16,
      "outputs": [
        {
          "output_type": "stream",
          "name": "stdout",
          "text": [
            "[0. 1.]\n"
          ]
        }
      ]
    },
    {
      "cell_type": "code",
      "source": [
        "X_train,X_test,y_train,y_test = train_test_split(x_data,y_data,test_size = 0.3,random_state = 0)"
      ],
      "metadata": {
        "id": "Kgrl9kj6CND_"
      },
      "execution_count": 17,
      "outputs": []
    },
    {
      "cell_type": "code",
      "source": [
        "# Sur-échantillonnage des données d'entraînement\n",
        "ros = RandomOverSampler(sampling_strategy='minority')\n",
        "X_train, y_train = ros.fit_resample(X_train, y_train)"
      ],
      "metadata": {
        "id": "_UKnZ9ZTBlHQ"
      },
      "execution_count": 19,
      "outputs": []
    },
    {
      "cell_type": "code",
      "source": [
        "model = XBNETClassifier(X_train,y_train,2)\n",
        "\n",
        "criterion = torch.nn.CrossEntropyLoss()\n",
        "optimizer = torch.optim.Adam(model.parameters(), lr=0.01)\n",
        "\n",
        "m,acc, lo, val_ac, val_lo = run_XBNET(X_train,X_test,y_train,y_test,model,criterion,optimizer,16,30)\n",
        "results = predict(m,x_data)"
      ],
      "metadata": {
        "id": "_WkvIV2nhZCF",
        "colab": {
          "base_uri": "https://localhost:8080/",
          "height": 1000
        },
        "outputId": "8b101a15-131c-435a-c8c4-ef98a0cb46c3"
      },
      "execution_count": 20,
      "outputs": [
        {
          "name": "stdout",
          "output_type": "stream",
          "text": [
            "Enter dimensions of linear layers: \n",
            "Enter input dimensions of layer 1: 12\n",
            "Enter output dimensions of layer 1: 24\n",
            "Set bias as True or False: True\n",
            "Enter input dimensions of layer 2: 24\n",
            "Enter output dimensions of layer 2: 2\n",
            "Set bias as True or False: True\n",
            "Enter your last layer \n",
            "1. Sigmoid \n",
            "2. Softmax \n",
            "3. None \n",
            "2\n",
            "Enter dimension for Softmax: 1\n"
          ]
        },
        {
          "output_type": "stream",
          "name": "stderr",
          "text": [
            "/usr/local/lib/python3.7/dist-packages/xgboost/sklearn.py:1146: UserWarning: The use of label encoder in XGBClassifier is deprecated and will be removed in a future release. To remove this warning, do the following: 1) Pass option use_label_encoder=False when constructing XGBClassifier object; and 2) Encode your labels (y) as integers starting with 0, i.e. 0, 1, 2, ..., [num_class - 1].\n",
            "  warnings.warn(label_encoder_deprecation_msg, UserWarning)\n",
            "Percentage training completed:   3%|▎         | 1/30 [00:04<02:08,  4.44s/it]"
          ]
        },
        {
          "output_type": "stream",
          "name": "stdout",
          "text": [
            "Training Loss after epoch 1 is 0.5388637182804255 and Accuracy is 79.53667953667954\n",
            "Validation Loss after epoch 1 is 0.8115759491920471 and Accuracy is 48.775510204081634\n"
          ]
        },
        {
          "output_type": "stream",
          "name": "stderr",
          "text": [
            "\rPercentage training completed:   7%|▋         | 2/30 [00:09<02:21,  5.07s/it]"
          ]
        },
        {
          "output_type": "stream",
          "name": "stdout",
          "text": [
            "Training Loss after epoch 2 is 0.640280776986709 and Accuracy is 66.89189189189189\n",
            "Validation Loss after epoch 2 is 0.7521266341209412 and Accuracy is 54.89795918367347\n"
          ]
        },
        {
          "output_type": "stream",
          "name": "stderr",
          "text": [
            "\rPercentage training completed:  10%|█         | 3/30 [00:14<02:09,  4.79s/it]"
          ]
        },
        {
          "output_type": "stream",
          "name": "stdout",
          "text": [
            "Training Loss after epoch 3 is 0.6377990323763627 and Accuracy is 67.03667953667954\n",
            "Validation Loss after epoch 3 is 0.7340993285179138 and Accuracy is 57.142857142857146\n"
          ]
        },
        {
          "output_type": "stream",
          "name": "stderr",
          "text": [
            "\rPercentage training completed:  13%|█▎        | 4/30 [00:18<02:01,  4.68s/it]"
          ]
        },
        {
          "output_type": "stream",
          "name": "stdout",
          "text": [
            "Training Loss after epoch 4 is 0.6516349104734568 and Accuracy is 66.21621621621621\n",
            "Validation Loss after epoch 4 is 0.7160590887069702 and Accuracy is 59.38775510204081\n"
          ]
        },
        {
          "output_type": "stream",
          "name": "stderr",
          "text": [
            "\rPercentage training completed:  17%|█▋        | 5/30 [00:23<01:55,  4.63s/it]"
          ]
        },
        {
          "output_type": "stream",
          "name": "stdout",
          "text": [
            "Training Loss after epoch 5 is 0.6348568714582004 and Accuracy is 68.0019305019305\n",
            "Validation Loss after epoch 5 is 0.7002977132797241 and Accuracy is 60.61224489795919\n"
          ]
        },
        {
          "output_type": "stream",
          "name": "stderr",
          "text": [
            "\rPercentage training completed:  20%|██        | 6/30 [00:27<01:49,  4.57s/it]"
          ]
        },
        {
          "output_type": "stream",
          "name": "stdout",
          "text": [
            "Training Loss after epoch 6 is 0.6170022645821938 and Accuracy is 69.64285714285714\n",
            "Validation Loss after epoch 6 is 0.7031402587890625 and Accuracy is 60.40816326530612\n"
          ]
        },
        {
          "output_type": "stream",
          "name": "stderr",
          "text": [
            "\rPercentage training completed:  23%|██▎       | 7/30 [00:32<01:44,  4.54s/it]"
          ]
        },
        {
          "output_type": "stream",
          "name": "stdout",
          "text": [
            "Training Loss after epoch 7 is 0.6168405950069428 and Accuracy is 69.4015444015444\n",
            "Validation Loss after epoch 7 is 0.6959237456321716 and Accuracy is 61.02040816326531\n"
          ]
        },
        {
          "output_type": "stream",
          "name": "stderr",
          "text": [
            "\rPercentage training completed:  27%|██▋       | 8/30 [00:36<01:39,  4.51s/it]"
          ]
        },
        {
          "output_type": "stream",
          "name": "stdout",
          "text": [
            "Training Loss after epoch 8 is 0.6059705649430935 and Accuracy is 70.70463320463321\n",
            "Validation Loss after epoch 8 is 0.6986801624298096 and Accuracy is 61.224489795918366\n"
          ]
        },
        {
          "output_type": "stream",
          "name": "stderr",
          "text": [
            "\rPercentage training completed:  30%|███       | 9/30 [00:41<01:34,  4.50s/it]"
          ]
        },
        {
          "output_type": "stream",
          "name": "stdout",
          "text": [
            "Training Loss after epoch 9 is 0.6122648417949677 and Accuracy is 69.83590733590734\n",
            "Validation Loss after epoch 9 is 0.6988016366958618 and Accuracy is 61.02040816326531\n"
          ]
        },
        {
          "output_type": "stream",
          "name": "stderr",
          "text": [
            "\rPercentage training completed:  33%|███▎      | 10/30 [00:45<01:29,  4.48s/it]"
          ]
        },
        {
          "output_type": "stream",
          "name": "stdout",
          "text": [
            "Training Loss after epoch 10 is 0.6118911596444937 and Accuracy is 69.98069498069498\n",
            "Validation Loss after epoch 10 is 0.697891116142273 and Accuracy is 61.02040816326531\n"
          ]
        },
        {
          "output_type": "stream",
          "name": "stderr",
          "text": [
            "\rPercentage training completed:  37%|███▋      | 11/30 [00:50<01:24,  4.47s/it]"
          ]
        },
        {
          "output_type": "stream",
          "name": "stdout",
          "text": [
            "Training Loss after epoch 11 is 0.6146306858612941 and Accuracy is 69.7876447876448\n",
            "Validation Loss after epoch 11 is 0.6932438611984253 and Accuracy is 61.224489795918366\n"
          ]
        },
        {
          "output_type": "stream",
          "name": "stderr",
          "text": [
            "\rPercentage training completed:  40%|████      | 12/30 [00:54<01:20,  4.45s/it]"
          ]
        },
        {
          "output_type": "stream",
          "name": "stdout",
          "text": [
            "Training Loss after epoch 12 is 0.6052701321931986 and Accuracy is 70.55984555984556\n",
            "Validation Loss after epoch 12 is 0.6922729015350342 and Accuracy is 61.63265306122449\n"
          ]
        },
        {
          "output_type": "stream",
          "name": "stderr",
          "text": [
            "\rPercentage training completed:  43%|████▎     | 13/30 [00:59<01:15,  4.45s/it]"
          ]
        },
        {
          "output_type": "stream",
          "name": "stdout",
          "text": [
            "Training Loss after epoch 13 is 0.6094750560246981 and Accuracy is 70.17374517374517\n",
            "Validation Loss after epoch 13 is 0.6962115168571472 and Accuracy is 61.42857142857143\n"
          ]
        },
        {
          "output_type": "stream",
          "name": "stderr",
          "text": [
            "\rPercentage training completed:  47%|████▋     | 14/30 [01:03<01:11,  4.45s/it]"
          ]
        },
        {
          "output_type": "stream",
          "name": "stdout",
          "text": [
            "Training Loss after epoch 14 is 0.6111299631687311 and Accuracy is 70.07722007722008\n",
            "Validation Loss after epoch 14 is 0.6984227299690247 and Accuracy is 61.224489795918366\n"
          ]
        },
        {
          "output_type": "stream",
          "name": "stderr",
          "text": [
            "\rPercentage training completed:  50%|█████     | 15/30 [01:07<01:06,  4.46s/it]"
          ]
        },
        {
          "output_type": "stream",
          "name": "stdout",
          "text": [
            "Training Loss after epoch 15 is 0.6122311995579646 and Accuracy is 70.07722007722008\n",
            "Validation Loss after epoch 15 is 0.699225664138794 and Accuracy is 61.224489795918366\n"
          ]
        },
        {
          "output_type": "stream",
          "name": "stderr",
          "text": [
            "\rPercentage training completed:  53%|█████▎    | 16/30 [01:12<01:02,  4.44s/it]"
          ]
        },
        {
          "output_type": "stream",
          "name": "stdout",
          "text": [
            "Training Loss after epoch 16 is 0.6121434528094072 and Accuracy is 70.02895752895753\n",
            "Validation Loss after epoch 16 is 0.6995419263839722 and Accuracy is 60.816326530612244\n"
          ]
        },
        {
          "output_type": "stream",
          "name": "stderr",
          "text": [
            "\rPercentage training completed:  57%|█████▋    | 17/30 [01:16<00:57,  4.43s/it]"
          ]
        },
        {
          "output_type": "stream",
          "name": "stdout",
          "text": [
            "Training Loss after epoch 17 is 0.6121265938648811 and Accuracy is 70.17374517374517\n",
            "Validation Loss after epoch 17 is 0.6994588971138 and Accuracy is 61.224489795918366\n"
          ]
        },
        {
          "output_type": "stream",
          "name": "stderr",
          "text": [
            "\rPercentage training completed:  60%|██████    | 18/30 [01:21<00:53,  4.43s/it]"
          ]
        },
        {
          "output_type": "stream",
          "name": "stdout",
          "text": [
            "Training Loss after epoch 18 is 0.6120516284154012 and Accuracy is 70.27027027027027\n",
            "Validation Loss after epoch 18 is 0.7008135914802551 and Accuracy is 60.816326530612244\n"
          ]
        },
        {
          "output_type": "stream",
          "name": "stderr",
          "text": [
            "\rPercentage training completed:  63%|██████▎   | 19/30 [01:25<00:48,  4.41s/it]"
          ]
        },
        {
          "output_type": "stream",
          "name": "stdout",
          "text": [
            "Training Loss after epoch 19 is 0.6120137508098896 and Accuracy is 69.7876447876448\n",
            "Validation Loss after epoch 19 is 0.6959444284439087 and Accuracy is 61.63265306122449\n"
          ]
        },
        {
          "output_type": "stream",
          "name": "stderr",
          "text": [
            "\rPercentage training completed:  67%|██████▋   | 20/30 [01:29<00:43,  4.39s/it]"
          ]
        },
        {
          "output_type": "stream",
          "name": "stdout",
          "text": [
            "Training Loss after epoch 20 is 0.6099171576591639 and Accuracy is 70.22200772200772\n",
            "Validation Loss after epoch 20 is 0.6947243213653564 and Accuracy is 61.63265306122449\n"
          ]
        },
        {
          "output_type": "stream",
          "name": "stderr",
          "text": [
            "\rPercentage training completed:  70%|███████   | 21/30 [01:34<00:39,  4.40s/it]"
          ]
        },
        {
          "output_type": "stream",
          "name": "stdout",
          "text": [
            "Training Loss after epoch 21 is 0.6100739641831472 and Accuracy is 70.17374517374517\n",
            "Validation Loss after epoch 21 is 0.7003328204154968 and Accuracy is 60.61224489795919\n"
          ]
        },
        {
          "output_type": "stream",
          "name": "stderr",
          "text": [
            "\rPercentage training completed:  73%|███████▎  | 22/30 [01:38<00:35,  4.40s/it]"
          ]
        },
        {
          "output_type": "stream",
          "name": "stdout",
          "text": [
            "Training Loss after epoch 22 is 0.6114691527990195 and Accuracy is 70.12548262548262\n",
            "Validation Loss after epoch 22 is 0.6967437267303467 and Accuracy is 61.02040816326531\n"
          ]
        },
        {
          "output_type": "stream",
          "name": "stderr",
          "text": [
            "\rPercentage training completed:  77%|███████▋  | 23/30 [01:43<00:30,  4.39s/it]"
          ]
        },
        {
          "output_type": "stream",
          "name": "stdout",
          "text": [
            "Training Loss after epoch 23 is 0.613742108299182 and Accuracy is 70.07722007722008\n",
            "Validation Loss after epoch 23 is 0.6859748959541321 and Accuracy is 62.6530612244898\n"
          ]
        },
        {
          "output_type": "stream",
          "name": "stderr",
          "text": [
            "\rPercentage training completed:  80%|████████  | 24/30 [01:47<00:26,  4.40s/it]"
          ]
        },
        {
          "output_type": "stream",
          "name": "stdout",
          "text": [
            "Training Loss after epoch 24 is 0.6197544205647249 and Accuracy is 69.83590733590734\n",
            "Validation Loss after epoch 24 is 0.7000993490219116 and Accuracy is 61.02040816326531\n"
          ]
        },
        {
          "output_type": "stream",
          "name": "stderr",
          "text": [
            "\rPercentage training completed:  83%|████████▎ | 25/30 [01:53<00:23,  4.77s/it]"
          ]
        },
        {
          "output_type": "stream",
          "name": "stdout",
          "text": [
            "Training Loss after epoch 25 is 0.618192992072839 and Accuracy is 69.54633204633204\n",
            "Validation Loss after epoch 25 is 0.6839392781257629 and Accuracy is 62.44897959183673\n"
          ]
        },
        {
          "output_type": "stream",
          "name": "stderr",
          "text": [
            "\rPercentage training completed:  87%|████████▋ | 26/30 [01:57<00:18,  4.65s/it]"
          ]
        },
        {
          "output_type": "stream",
          "name": "stdout",
          "text": [
            "Training Loss after epoch 26 is 0.6299707729082841 and Accuracy is 68.43629343629344\n",
            "Validation Loss after epoch 26 is 0.6735432744026184 and Accuracy is 64.08163265306122\n"
          ]
        },
        {
          "output_type": "stream",
          "name": "stderr",
          "text": [
            "\rPercentage training completed:  90%|█████████ | 27/30 [02:01<00:13,  4.57s/it]"
          ]
        },
        {
          "output_type": "stream",
          "name": "stdout",
          "text": [
            "Training Loss after epoch 27 is 0.6067607602247825 and Accuracy is 70.84942084942085\n",
            "Validation Loss after epoch 27 is 0.6723235249519348 and Accuracy is 63.46938775510204\n"
          ]
        },
        {
          "output_type": "stream",
          "name": "stderr",
          "text": [
            "\rPercentage training completed:  93%|█████████▎| 28/30 [02:06<00:09,  4.57s/it]"
          ]
        },
        {
          "output_type": "stream",
          "name": "stdout",
          "text": [
            "Training Loss after epoch 28 is 0.6285745503810736 and Accuracy is 68.91891891891892\n",
            "Validation Loss after epoch 28 is 0.6635692715644836 and Accuracy is 64.48979591836735\n"
          ]
        },
        {
          "output_type": "stream",
          "name": "stderr",
          "text": [
            "\rPercentage training completed:  97%|█████████▋| 29/30 [02:10<00:04,  4.51s/it]"
          ]
        },
        {
          "output_type": "stream",
          "name": "stdout",
          "text": [
            "Training Loss after epoch 29 is 0.6003132547323521 and Accuracy is 71.42857142857143\n",
            "Validation Loss after epoch 29 is 0.6634094715118408 and Accuracy is 64.89795918367346\n"
          ]
        },
        {
          "output_type": "stream",
          "name": "stderr",
          "text": [
            "Percentage training completed: 100%|██████████| 30/30 [02:15<00:00,  4.51s/it]"
          ]
        },
        {
          "output_type": "stream",
          "name": "stdout",
          "text": [
            "Training Loss after epoch 30 is 0.6421246654712237 and Accuracy is 67.32625482625483\n",
            "Validation Loss after epoch 30 is 0.6412151455879211 and Accuracy is 66.93877551020408\n",
            "              precision    recall  f1-score   support\n",
            "\n",
            "           0       0.70      0.61      0.65      1036\n",
            "           1       0.65      0.73      0.69      1036\n",
            "\n",
            "    accuracy                           0.67      2072\n",
            "   macro avg       0.68      0.67      0.67      2072\n",
            "weighted avg       0.68      0.67      0.67      2072\n",
            "\n",
            "              precision    recall  f1-score   support\n",
            "\n",
            "           0       0.14      0.69      0.23        35\n",
            "           1       0.97      0.67      0.79       455\n",
            "\n",
            "    accuracy                           0.67       490\n",
            "   macro avg       0.55      0.68      0.51       490\n",
            "weighted avg       0.91      0.67      0.75       490\n",
            "\n",
            "Validation Loss after epoch 30 is 0.6412151455879211 and Accuracy is 66.93877551020408\n"
          ]
        },
        {
          "output_type": "stream",
          "name": "stderr",
          "text": [
            "\n"
          ]
        },
        {
          "output_type": "display_data",
          "data": {
            "text/plain": [
              "<Figure size 432x288 with 2 Axes>"
            ],
            "image/png": "[encoded data removed]"
          },
          "metadata": {
            "needs_background": "light"
          }
        }
      ]
    },
    {
      "cell_type": "code",
      "source": [
        "#X_train_tensor = torch.from_numpy(X_train)\n",
        "#y_train_tensor = torch.from_numpy(y_train)"
      ],
      "metadata": {
        "id": "pVKgsI12JiU0"
      },
      "execution_count": null,
      "outputs": []
    },
    {
      "cell_type": "code",
      "source": [
        "X_tensor = torch.from_numpy(X_norm)"
      ],
      "metadata": {
        "id": "_bZZfn1qM4Zp"
      },
      "execution_count": 21,
      "outputs": []
    },
    {
      "cell_type": "code",
      "source": [
        "outputs = model(X_tensor.float())"
      ],
      "metadata": {
        "id": "l4aBq4PIIV6s",
        "colab": {
          "base_uri": "https://localhost:8080/"
        },
        "outputId": "f5cd465b-725f-4eb5-feeb-e5fe1a225137"
      },
      "execution_count": 22,
      "outputs": [
        {
          "output_type": "stream",
          "name": "stderr",
          "text": [
            "/usr/local/lib/python3.7/dist-packages/xgboost/sklearn.py:1146: UserWarning: The use of label encoder in XGBClassifier is deprecated and will be removed in a future release. To remove this warning, do the following: 1) Pass option use_label_encoder=False when constructing XGBClassifier object; and 2) Encode your labels (y) as integers starting with 0, i.e. 0, 1, 2, ..., [num_class - 1].\n",
            "  warnings.warn(label_encoder_deprecation_msg, UserWarning)\n"
          ]
        }
      ]
    },
    {
      "cell_type": "code",
      "source": [
        "outputs"
      ],
      "metadata": {
        "id": "9SrQBZ8VO1a7"
      },
      "execution_count": null,
      "outputs": []
    },
    {
      "cell_type": "code",
      "source": [
        "proba = outputs[:,:].detach().numpy()"
      ],
      "metadata": {
        "id": "DiNUR4PAUG6e"
      },
      "execution_count": 23,
      "outputs": []
    },
    {
      "cell_type": "code",
      "source": [
        "proba"
      ],
      "metadata": {
        "id": "YH57jjB7VMl2",
        "colab": {
          "base_uri": "https://localhost:8080/"
        },
        "outputId": "b235bfab-04aa-4352-f3b6-071ed216249c"
      },
      "execution_count": 24,
      "outputs": [
        {
          "output_type": "execute_result",
          "data": {
            "text/plain": [
              "array([[1.1325469e-03, 9.9886751e-01],\n",
              "       [9.9967885e-01, 3.2112902e-04],\n",
              "       [6.5952368e-17, 1.0000000e+00],\n",
              "       ...,\n",
              "       [6.9224357e-32, 1.0000000e+00],\n",
              "       [1.2520103e-15, 1.0000000e+00],\n",
              "       [1.5771693e-04, 9.9984229e-01]], dtype=float32)"
            ]
          },
          "metadata": {},
          "execution_count": 24
        }
      ]
    },
    {
      "cell_type": "code",
      "source": [
        "predictions = np.where(proba[:,0]>0.50,0,1)"
      ],
      "metadata": {
        "id": "Y0Mo1NXpQX_4"
      },
      "execution_count": 25,
      "outputs": []
    },
    {
      "cell_type": "code",
      "source": [
        "predictions[:300]"
      ],
      "metadata": {
        "id": "j_K_BHGZN6_5",
        "colab": {
          "base_uri": "https://localhost:8080/"
        },
        "outputId": "657ce164-05ca-45b6-c326-151029080028"
      },
      "execution_count": 26,
      "outputs": [
        {
          "output_type": "execute_result",
          "data": {
            "text/plain": [
              "array([1, 0, 1, 1, 0, 0, 1, 0, 1, 1, 1, 1, 1, 0, 0, 1, 0, 0, 0, 1, 1, 1,\n",
              "       1, 0, 1, 1, 1, 1, 1, 1, 1, 1, 1, 1, 0, 1, 0, 0, 0, 1, 1, 1, 1, 1,\n",
              "       1, 1, 1, 1, 1, 1, 1, 1, 1, 1, 0, 0, 0, 0, 1, 1, 1, 0, 1, 0, 1, 1,\n",
              "       1, 1, 1, 1, 0, 0, 1, 1, 0, 1, 1, 1, 1, 1, 1, 0, 0, 1, 1, 1, 1, 0,\n",
              "       1, 1, 0, 1, 1, 1, 0, 1, 0, 1, 0, 0, 0, 0, 0, 1, 0, 1, 1, 1, 0, 0,\n",
              "       0, 1, 1, 0, 1, 1, 1, 1, 1, 1, 0, 1, 0, 1, 1, 0, 0, 0, 1, 0, 0, 0,\n",
              "       1, 0, 0, 0, 0, 0, 1, 1, 0, 1, 1, 1, 1, 0, 0, 0, 0, 0, 1, 1, 0, 0,\n",
              "       1, 1, 1, 1, 1, 1, 0, 0, 1, 1, 1, 1, 1, 1, 1, 1, 0, 1, 1, 1, 1, 1,\n",
              "       0, 0, 1, 1, 1, 1, 1, 0, 1, 1, 1, 1, 1, 0, 0, 1, 1, 1, 1, 1, 0, 0,\n",
              "       0, 1, 1, 0, 0, 1, 1, 0, 0, 1, 0, 1, 0, 0, 1, 1, 1, 1, 1, 1, 1, 0,\n",
              "       1, 1, 1, 0, 0, 0, 0, 0, 0, 1, 1, 1, 1, 1, 0, 0, 0, 1, 1, 1, 0, 0,\n",
              "       0, 0, 1, 1, 0, 1, 1, 1, 0, 1, 1, 1, 0, 0, 1, 1, 1, 1, 1, 0, 0, 1,\n",
              "       1, 1, 1, 1, 0, 1, 0, 1, 1, 1, 1, 1, 0, 1, 1, 1, 1, 1, 1, 1, 0, 0,\n",
              "       1, 1, 1, 1, 1, 1, 1, 1, 0, 1, 1, 1, 1, 0])"
            ]
          },
          "metadata": {},
          "execution_count": 26
        }
      ]
    },
    {
      "cell_type": "code",
      "source": [
        "df['ClassPredict'] = predictions"
      ],
      "metadata": {
        "id": "1PoZV9M-Qkqt"
      },
      "execution_count": null,
      "outputs": []
    },
    {
      "cell_type": "code",
      "source": [
        "df['ClassPredict'].to_csv('prediction.csv', index = False)"
      ],
      "metadata": {
        "id": "qdt80bDsQkqt"
      },
      "execution_count": null,
      "outputs": []
    },
    {
      "cell_type": "code",
      "source": [
        "import matplotlib.pyplot as plt"
      ],
      "metadata": {
        "id": "Cl8JexUVOgVB"
      },
      "execution_count": 27,
      "outputs": []
    },
    {
      "cell_type": "code",
      "source": [
        "yhat = proba"
      ],
      "metadata": {
        "id": "swiDGljHSztf"
      },
      "execution_count": 28,
      "outputs": []
    },
    {
      "cell_type": "code",
      "source": [
        "yhat"
      ],
      "metadata": {
        "id": "UYuc6_ojVJCu",
        "colab": {
          "base_uri": "https://localhost:8080/"
        },
        "outputId": "577d852a-d16e-4b12-8d8f-df24248ac9b2"
      },
      "execution_count": 29,
      "outputs": [
        {
          "output_type": "execute_result",
          "data": {
            "text/plain": [
              "array([[1.1325469e-03, 9.9886751e-01],\n",
              "       [9.9967885e-01, 3.2112902e-04],\n",
              "       [6.5952368e-17, 1.0000000e+00],\n",
              "       ...,\n",
              "       [6.9224357e-32, 1.0000000e+00],\n",
              "       [1.2520103e-15, 1.0000000e+00],\n",
              "       [1.5771693e-04, 9.9984229e-01]], dtype=float32)"
            ]
          },
          "metadata": {},
          "execution_count": 29
        }
      ]
    },
    {
      "cell_type": "code",
      "source": [
        "#pip install matplotlib"
      ],
      "metadata": {
        "id": "o3LWlee1Ua3t"
      },
      "execution_count": null,
      "outputs": []
    },
    {
      "cell_type": "code",
      "source": [
        "from numpy import argmax\n",
        "from numpy import sqrt\n",
        "\n",
        "#yhat = model_rdf.predict_proba(X)\n",
        "# keep probabilities for the positive outcome only\n",
        "yhat = yhat[:, 1]\n",
        "\n",
        "# calculate roc curves\n",
        "fpr, tpr, thresholds = roc_curve(y, yhat)\n",
        "# calculate the g-mean for each threshold\n",
        "gmeans = sqrt(tpr * (1-fpr))\n",
        "# locate the index of the largest g-mean\n",
        "ix = argmax(gmeans)\n",
        "print('Best Threshold=%f, G-Mean=%.3f' % (thresholds[ix], gmeans[ix]))\n",
        "# plot the roc curve for the model\n",
        "plt.plot([0,1], [0,1], linestyle='--', label='No Skill')\n",
        "plt.plot(fpr, tpr, marker='.', label='RandomForestClassifier')\n",
        "plt.scatter(fpr[ix], tpr[ix], marker='o', color='black', label='Best')\n",
        "# axis labels\n",
        "plt.xlabel('False Positive Rate')\n",
        "plt.ylabel('True Positive Rate')\n",
        "plt.legend()\n",
        "# show the plot\n",
        "plt.show()"
      ],
      "metadata": {
        "id": "e68Oh-5LOQNL",
        "colab": {
          "base_uri": "https://localhost:8080/",
          "height": 296
        },
        "outputId": "09993475-a93d-409d-a17f-d03a100fd428"
      },
      "execution_count": 30,
      "outputs": [
        {
          "output_type": "stream",
          "name": "stdout",
          "text": [
            "Best Threshold=0.999492, G-Mean=0.693\n"
          ]
        },
        {
          "output_type": "display_data",
          "data": {
            "text/plain": [
              "<Figure size 432x288 with 1 Axes>"
            ],
            "image/png": "[encoded data removed]"
          },
          "metadata": {
            "needs_background": "light"
          }
        }
      ]
    },
    {
      "cell_type": "code",
      "source": [
        "auc = roc_auc_score(y, yhat)\n",
        "print(auc)"
      ],
      "metadata": {
        "colab": {
          "base_uri": "https://localhost:8080/"
        },
        "id": "S2S3j5DoU1SV",
        "outputId": "9522416d-8bc5-4a8e-ddd0-0f1842069d9e"
      },
      "execution_count": 33,
      "outputs": [
        {
          "output_type": "stream",
          "name": "stdout",
          "text": [
            "0.7366206696443436\n"
          ]
        }
      ]
    },
    {
      "cell_type": "code",
      "source": [
        "dump(model, \"XBNet.joblib\")"
      ],
      "metadata": {
        "colab": {
          "base_uri": "https://localhost:8080/"
        },
        "id": "coJSArXrE36m",
        "outputId": "395f5a03-aeec-40c2-c346-4ef76c435237"
      },
      "execution_count": 31,
      "outputs": [
        {
          "output_type": "execute_result",
          "data": {
            "text/plain": [
              "['XBNet.joblib']"
            ]
          },
          "metadata": {},
          "execution_count": 31
        }
      ]
    },
    {
      "cell_type": "code",
      "source": [
        "conf_matrix = tf.math.confusion_matrix(labels=y_data, predictions=predictions)\n",
        " \n",
        "ax_sgd_01 = sns.heatmap(conf_matrix, annot = True, fmt='d')\n",
        "ax_sgd_01.set_title('Matrice de confusion')\n",
        "ax_sgd_01.set_ylabel('Réel')\n",
        "ax_sgd_01.set_xlabel('Prédiction')\n",
        "plt.show()"
      ],
      "metadata": {
        "id": "GS0dGjrFLXGg",
        "colab": {
          "base_uri": "https://localhost:8080/",
          "height": 295
        },
        "outputId": "2f241466-327a-44db-f877-e5f34f077a5f"
      },
      "execution_count": 34,
      "outputs": [
        {
          "output_type": "display_data",
          "data": {
            "text/plain": [
              "<Figure size 432x288 with 2 Axes>"
            ],
            "image/png": "[encoded data removed]"
          },
          "metadata": {
            "needs_background": "light"
          }
        }
      ]
    },
    {
      "cell_type": "code",
      "source": [
        "df['ClassPredict'] = predictions"
      ],
      "metadata": {
        "id": "dM3tFkw9R6TE"
      },
      "execution_count": null,
      "outputs": []
    },
    {
      "cell_type": "code",
      "source": [
        "df['ClassPredict'].to_csv('prediction.csv', index = False)"
      ],
      "metadata": {
        "id": "lQ24dplbysCw"
      },
      "execution_count": null,
      "outputs": []
    }
  ]
}