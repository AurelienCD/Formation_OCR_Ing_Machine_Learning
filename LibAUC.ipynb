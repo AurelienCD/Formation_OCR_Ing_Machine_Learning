{
  "nbformat": 4,
  "nbformat_minor": 0,
  "metadata": {
    "colab": {
      "name": "LibAUC.ipynb",
      "provenance": [],
      "collapsed_sections": [],
      "include_colab_link": true
    },
    "kernelspec": {
      "name": "python3",
      "display_name": "Python 3"
    },
    "language_info": {
      "name": "python"
    },
    "accelerator": "GPU"
  },
  "cells": [
    {
      "cell_type": "markdown",
      "metadata": {
        "id": "view-in-github",
        "colab_type": "text"
      },
      "source": [
        "<a href=\"https://colab.research.google.com/github/AurelienCD/Formation_OCR_Ing_Machine_Learning/blob/main/LibAUC.ipynb\" target=\"_parent\"><img src=\"https://colab.research.google.com/assets/colab-badge.svg\" alt=\"Open In Colab\"/></a>"
      ]
    },
    {
      "cell_type": "markdown",
      "source": [
        "## Importation des librairies"
      ],
      "metadata": {
        "id": "my5twxtovcJq"
      }
    },
    {
      "cell_type": "code",
      "execution_count": 1,
      "metadata": {
        "colab": {
          "base_uri": "https://localhost:8080/"
        },
        "id": "0lJ9tHiRt7Gc",
        "outputId": "32e759ed-a02f-4701-b142-b70e4fb49697"
      },
      "outputs": [
        {
          "output_type": "stream",
          "name": "stdout",
          "text": [
            "Mounted at /content/drive\n"
          ]
        }
      ],
      "source": [
        "from google.colab import drive\n",
        "drive.mount(\"/content/drive\")"
      ]
    },
    {
      "cell_type": "code",
      "source": [
        "%cd drive/MyDrive/Formation_OCR_Ing_Machine_Learning/Projet 7/Stage_Noémie/LibAUC"
      ],
      "metadata": {
        "colab": {
          "base_uri": "https://localhost:8080/"
        },
        "id": "lObhDILwuIg5",
        "outputId": "fa5e91b2-218f-4fcf-a3fb-859b55be1282"
      },
      "execution_count": 2,
      "outputs": [
        {
          "output_type": "stream",
          "name": "stdout",
          "text": [
            "/content/drive/MyDrive/Formation_OCR_Ing_Machine_Learning/Projet 7/Stage_Noémie/LibAUC\n"
          ]
        }
      ]
    },
    {
      "cell_type": "code",
      "source": [
        "pip install libauc"
      ],
      "metadata": {
        "colab": {
          "base_uri": "https://localhost:8080/"
        },
        "id": "UMA9sHqhhRZW",
        "outputId": "f470b0e7-9ed2-4cab-899a-c9e1e873b3a9"
      },
      "execution_count": 3,
      "outputs": [
        {
          "output_type": "stream",
          "name": "stdout",
          "text": [
            "Collecting libauc\n",
            "  Downloading libauc-1.1.8-py3-none-any.whl (38 kB)\n",
            "Requirement already satisfied: torch>=1.2 in /usr/local/lib/python3.7/dist-packages (from libauc) (1.11.0+cu113)\n",
            "Requirement already satisfied: tensorflow>=2.0.0 in /usr/local/lib/python3.7/dist-packages (from libauc) (2.8.0+zzzcolab20220506162203)\n",
            "Requirement already satisfied: Pillow in /usr/local/lib/python3.7/dist-packages (from libauc) (7.1.2)\n",
            "Requirement already satisfied: scikit-learn in /usr/local/lib/python3.7/dist-packages (from libauc) (1.0.2)\n",
            "Requirement already satisfied: scikit-image in /usr/local/lib/python3.7/dist-packages (from libauc) (0.18.3)\n",
            "Requirement already satisfied: pandas in /usr/local/lib/python3.7/dist-packages (from libauc) (1.3.5)\n",
            "Requirement already satisfied: opencv-python in /usr/local/lib/python3.7/dist-packages (from libauc) (4.1.2.30)\n",
            "Requirement already satisfied: numpy in /usr/local/lib/python3.7/dist-packages (from libauc) (1.21.6)\n",
            "Requirement already satisfied: flatbuffers>=1.12 in /usr/local/lib/python3.7/dist-packages (from tensorflow>=2.0.0->libauc) (2.0)\n",
            "Requirement already satisfied: libclang>=9.0.1 in /usr/local/lib/python3.7/dist-packages (from tensorflow>=2.0.0->libauc) (14.0.1)\n",
            "Requirement already satisfied: protobuf>=3.9.2 in /usr/local/lib/python3.7/dist-packages (from tensorflow>=2.0.0->libauc) (3.17.3)\n",
            "Requirement already satisfied: keras<2.9,>=2.8.0rc0 in /usr/local/lib/python3.7/dist-packages (from tensorflow>=2.0.0->libauc) (2.8.0)\n",
            "Requirement already satisfied: termcolor>=1.1.0 in /usr/local/lib/python3.7/dist-packages (from tensorflow>=2.0.0->libauc) (1.1.0)\n",
            "Requirement already satisfied: astunparse>=1.6.0 in /usr/local/lib/python3.7/dist-packages (from tensorflow>=2.0.0->libauc) (1.6.3)\n",
            "Requirement already satisfied: wrapt>=1.11.0 in /usr/local/lib/python3.7/dist-packages (from tensorflow>=2.0.0->libauc) (1.14.1)\n",
            "Requirement already satisfied: six>=1.12.0 in /usr/local/lib/python3.7/dist-packages (from tensorflow>=2.0.0->libauc) (1.15.0)\n",
            "Requirement already satisfied: tensorboard<2.9,>=2.8 in /usr/local/lib/python3.7/dist-packages (from tensorflow>=2.0.0->libauc) (2.8.0)\n",
            "Requirement already satisfied: setuptools in /usr/local/lib/python3.7/dist-packages (from tensorflow>=2.0.0->libauc) (57.4.0)\n",
            "Collecting tf-estimator-nightly==2.8.0.dev2021122109\n",
            "  Downloading tf_estimator_nightly-2.8.0.dev2021122109-py2.py3-none-any.whl (462 kB)\n",
            "\u001b[K     |████████████████████████████████| 462 kB 33.2 MB/s \n",
            "\u001b[?25hRequirement already satisfied: google-pasta>=0.1.1 in /usr/local/lib/python3.7/dist-packages (from tensorflow>=2.0.0->libauc) (0.2.0)\n",
            "Requirement already satisfied: gast>=0.2.1 in /usr/local/lib/python3.7/dist-packages (from tensorflow>=2.0.0->libauc) (0.5.3)\n",
            "Requirement already satisfied: tensorflow-io-gcs-filesystem>=0.23.1 in /usr/local/lib/python3.7/dist-packages (from tensorflow>=2.0.0->libauc) (0.25.0)\n",
            "Requirement already satisfied: absl-py>=0.4.0 in /usr/local/lib/python3.7/dist-packages (from tensorflow>=2.0.0->libauc) (1.0.0)\n",
            "Requirement already satisfied: typing-extensions>=3.6.6 in /usr/local/lib/python3.7/dist-packages (from tensorflow>=2.0.0->libauc) (4.2.0)\n",
            "Requirement already satisfied: keras-preprocessing>=1.1.1 in /usr/local/lib/python3.7/dist-packages (from tensorflow>=2.0.0->libauc) (1.1.2)\n",
            "Requirement already satisfied: grpcio<2.0,>=1.24.3 in /usr/local/lib/python3.7/dist-packages (from tensorflow>=2.0.0->libauc) (1.46.1)\n",
            "Requirement already satisfied: h5py>=2.9.0 in /usr/local/lib/python3.7/dist-packages (from tensorflow>=2.0.0->libauc) (3.1.0)\n",
            "Requirement already satisfied: opt-einsum>=2.3.2 in /usr/local/lib/python3.7/dist-packages (from tensorflow>=2.0.0->libauc) (3.3.0)\n",
            "Requirement already satisfied: wheel<1.0,>=0.23.0 in /usr/local/lib/python3.7/dist-packages (from astunparse>=1.6.0->tensorflow>=2.0.0->libauc) (0.37.1)\n",
            "Requirement already satisfied: cached-property in /usr/local/lib/python3.7/dist-packages (from h5py>=2.9.0->tensorflow>=2.0.0->libauc) (1.5.2)\n",
            "Requirement already satisfied: werkzeug>=0.11.15 in /usr/local/lib/python3.7/dist-packages (from tensorboard<2.9,>=2.8->tensorflow>=2.0.0->libauc) (1.0.1)\n",
            "Requirement already satisfied: google-auth<3,>=1.6.3 in /usr/local/lib/python3.7/dist-packages (from tensorboard<2.9,>=2.8->tensorflow>=2.0.0->libauc) (1.35.0)\n",
            "Requirement already satisfied: google-auth-oauthlib<0.5,>=0.4.1 in /usr/local/lib/python3.7/dist-packages (from tensorboard<2.9,>=2.8->tensorflow>=2.0.0->libauc) (0.4.6)\n",
            "Requirement already satisfied: markdown>=2.6.8 in /usr/local/lib/python3.7/dist-packages (from tensorboard<2.9,>=2.8->tensorflow>=2.0.0->libauc) (3.3.7)\n",
            "Requirement already satisfied: tensorboard-data-server<0.7.0,>=0.6.0 in /usr/local/lib/python3.7/dist-packages (from tensorboard<2.9,>=2.8->tensorflow>=2.0.0->libauc) (0.6.1)\n",
            "Requirement already satisfied: requests<3,>=2.21.0 in /usr/local/lib/python3.7/dist-packages (from tensorboard<2.9,>=2.8->tensorflow>=2.0.0->libauc) (2.23.0)\n",
            "Requirement already satisfied: tensorboard-plugin-wit>=1.6.0 in /usr/local/lib/python3.7/dist-packages (from tensorboard<2.9,>=2.8->tensorflow>=2.0.0->libauc) (1.8.1)\n",
            "Requirement already satisfied: pyasn1-modules>=0.2.1 in /usr/local/lib/python3.7/dist-packages (from google-auth<3,>=1.6.3->tensorboard<2.9,>=2.8->tensorflow>=2.0.0->libauc) (0.2.8)\n",
            "Requirement already satisfied: rsa<5,>=3.1.4 in /usr/local/lib/python3.7/dist-packages (from google-auth<3,>=1.6.3->tensorboard<2.9,>=2.8->tensorflow>=2.0.0->libauc) (4.8)\n",
            "Requirement already satisfied: cachetools<5.0,>=2.0.0 in /usr/local/lib/python3.7/dist-packages (from google-auth<3,>=1.6.3->tensorboard<2.9,>=2.8->tensorflow>=2.0.0->libauc) (4.2.4)\n",
            "Requirement already satisfied: requests-oauthlib>=0.7.0 in /usr/local/lib/python3.7/dist-packages (from google-auth-oauthlib<0.5,>=0.4.1->tensorboard<2.9,>=2.8->tensorflow>=2.0.0->libauc) (1.3.1)\n",
            "Requirement already satisfied: importlib-metadata>=4.4 in /usr/local/lib/python3.7/dist-packages (from markdown>=2.6.8->tensorboard<2.9,>=2.8->tensorflow>=2.0.0->libauc) (4.11.3)\n",
            "Requirement already satisfied: zipp>=0.5 in /usr/local/lib/python3.7/dist-packages (from importlib-metadata>=4.4->markdown>=2.6.8->tensorboard<2.9,>=2.8->tensorflow>=2.0.0->libauc) (3.8.0)\n",
            "Requirement already satisfied: pyasn1<0.5.0,>=0.4.6 in /usr/local/lib/python3.7/dist-packages (from pyasn1-modules>=0.2.1->google-auth<3,>=1.6.3->tensorboard<2.9,>=2.8->tensorflow>=2.0.0->libauc) (0.4.8)\n",
            "Requirement already satisfied: idna<3,>=2.5 in /usr/local/lib/python3.7/dist-packages (from requests<3,>=2.21.0->tensorboard<2.9,>=2.8->tensorflow>=2.0.0->libauc) (2.10)\n",
            "Requirement already satisfied: urllib3!=1.25.0,!=1.25.1,<1.26,>=1.21.1 in /usr/local/lib/python3.7/dist-packages (from requests<3,>=2.21.0->tensorboard<2.9,>=2.8->tensorflow>=2.0.0->libauc) (1.24.3)\n",
            "Requirement already satisfied: certifi>=2017.4.17 in /usr/local/lib/python3.7/dist-packages (from requests<3,>=2.21.0->tensorboard<2.9,>=2.8->tensorflow>=2.0.0->libauc) (2021.10.8)\n",
            "Requirement already satisfied: chardet<4,>=3.0.2 in /usr/local/lib/python3.7/dist-packages (from requests<3,>=2.21.0->tensorboard<2.9,>=2.8->tensorflow>=2.0.0->libauc) (3.0.4)\n",
            "Requirement already satisfied: oauthlib>=3.0.0 in /usr/local/lib/python3.7/dist-packages (from requests-oauthlib>=0.7.0->google-auth-oauthlib<0.5,>=0.4.1->tensorboard<2.9,>=2.8->tensorflow>=2.0.0->libauc) (3.2.0)\n",
            "Requirement already satisfied: python-dateutil>=2.7.3 in /usr/local/lib/python3.7/dist-packages (from pandas->libauc) (2.8.2)\n",
            "Requirement already satisfied: pytz>=2017.3 in /usr/local/lib/python3.7/dist-packages (from pandas->libauc) (2022.1)\n",
            "Requirement already satisfied: matplotlib!=3.0.0,>=2.0.0 in /usr/local/lib/python3.7/dist-packages (from scikit-image->libauc) (3.2.2)\n",
            "Requirement already satisfied: tifffile>=2019.7.26 in /usr/local/lib/python3.7/dist-packages (from scikit-image->libauc) (2021.11.2)\n",
            "Requirement already satisfied: PyWavelets>=1.1.1 in /usr/local/lib/python3.7/dist-packages (from scikit-image->libauc) (1.3.0)\n",
            "Requirement already satisfied: networkx>=2.0 in /usr/local/lib/python3.7/dist-packages (from scikit-image->libauc) (2.6.3)\n",
            "Requirement already satisfied: imageio>=2.3.0 in /usr/local/lib/python3.7/dist-packages (from scikit-image->libauc) (2.4.1)\n",
            "Requirement already satisfied: scipy>=1.0.1 in /usr/local/lib/python3.7/dist-packages (from scikit-image->libauc) (1.4.1)\n",
            "Requirement already satisfied: kiwisolver>=1.0.1 in /usr/local/lib/python3.7/dist-packages (from matplotlib!=3.0.0,>=2.0.0->scikit-image->libauc) (1.4.2)\n",
            "Requirement already satisfied: pyparsing!=2.0.4,!=2.1.2,!=2.1.6,>=2.0.1 in /usr/local/lib/python3.7/dist-packages (from matplotlib!=3.0.0,>=2.0.0->scikit-image->libauc) (3.0.9)\n",
            "Requirement already satisfied: cycler>=0.10 in /usr/local/lib/python3.7/dist-packages (from matplotlib!=3.0.0,>=2.0.0->scikit-image->libauc) (0.11.0)\n",
            "Requirement already satisfied: joblib>=0.11 in /usr/local/lib/python3.7/dist-packages (from scikit-learn->libauc) (1.1.0)\n",
            "Requirement already satisfied: threadpoolctl>=2.0.0 in /usr/local/lib/python3.7/dist-packages (from scikit-learn->libauc) (3.1.0)\n",
            "Installing collected packages: tf-estimator-nightly, libauc\n",
            "Successfully installed libauc-1.1.8 tf-estimator-nightly-2.8.0.dev2021122109\n"
          ]
        }
      ]
    },
    {
      "cell_type": "code",
      "source": [
        "import pandas as pad \n",
        "import numpy as np\n",
        "from numpy.core.numeric import NaN\n",
        "\n",
        "import datetime\n",
        "\n",
        "import matplotlib.pyplot as plt\n",
        "import seaborn as sns\n",
        "\n",
        "import statistics\n",
        "from scipy import stats\n",
        "from scipy.stats import pearsonr\n",
        "from scipy.stats import ttest_ind\n",
        "\n",
        "\n",
        "import statsmodels.api as sm\n",
        "from statsmodels.formula.api import ols\n",
        "import statsmodels.stats.multicomp as multi \n",
        "\n",
        "import pandas as pad \n",
        "import numpy as np\n",
        "from numpy.core.numeric import NaN\n",
        "\n",
        "from sklearn.preprocessing import StandardScaler, OneHotEncoder\n",
        "from sklearn.metrics.cluster import adjusted_rand_score\n",
        "\n",
        "from joblib import dump, load\n",
        "\n",
        "from sklearn.model_selection import train_test_split, StratifiedShuffleSplit, GridSearchCV\n",
        "\n",
        "from sklearn.preprocessing import *\n",
        "from sklearn.pipeline import make_pipeline\n",
        "from sklearn.compose import make_column_transformer\n",
        "\n",
        "from sklearn.ensemble import RandomForestClassifier\n",
        "from imblearn.over_sampling import RandomOverSampler\n",
        "from imblearn.under_sampling import RandomUnderSampler\n",
        "\n",
        "from sklearn.metrics import *\n",
        "from sklearn.model_selection import KFold\n",
        "from sklearn.metrics import  make_scorer\n",
        "from sklearn.model_selection import cross_val_score\n",
        "from sklearn.metrics import r2_score\n",
        "from sklearn.model_selection import RandomizedSearchCV\n",
        "from sklearn.datasets import make_classification\n",
        "from sklearn.metrics import roc_curve\n",
        "\n",
        "import tensorflow as tf\n",
        "from tensorflow import keras\n",
        "from keras.callbacks import ModelCheckpoint\n",
        "import random\n",
        "import numpy\n",
        "\n",
        "import pandas.util.testing as tm\n",
        "\n",
        "import joblib"
      ],
      "metadata": {
        "id": "ipF7WOHnuJqp",
        "colab": {
          "base_uri": "https://localhost:8080/"
        },
        "outputId": "e0ebdb76-80f0-437e-f068-87161d6a186e"
      },
      "execution_count": 4,
      "outputs": [
        {
          "output_type": "stream",
          "name": "stderr",
          "text": [
            "/usr/local/lib/python3.7/dist-packages/statsmodels/tools/_testing.py:19: FutureWarning: pandas.util.testing is deprecated. Use the functions in the public API at pandas.testing instead.\n",
            "  import pandas.util.testing as tm\n"
          ]
        }
      ]
    },
    {
      "cell_type": "code",
      "source": [
        "from libauc.datasets import imbalance_generator"
      ],
      "metadata": {
        "id": "Uq0lI9DdT3KS"
      },
      "execution_count": 5,
      "outputs": []
    },
    {
      "cell_type": "code",
      "source": [
        "import torch\n",
        "from torch.utils.data import Dataset, DataLoader\n",
        "import torchvision.transforms as transforms\n",
        "import numpy as np"
      ],
      "metadata": {
        "id": "TluDVafRWrSZ"
      },
      "execution_count": 6,
      "outputs": []
    },
    {
      "cell_type": "markdown",
      "source": [
        "# Préparation des données"
      ],
      "metadata": {
        "id": "G5kFw4Y0Uh4n"
      }
    },
    {
      "cell_type": "markdown",
      "source": [
        "## Importation des données"
      ],
      "metadata": {
        "id": "o66C-V4-UlMm"
      }
    },
    {
      "cell_type": "code",
      "source": [
        ""
      ],
      "metadata": {
        "id": "9xnwcqH9p4kd"
      },
      "execution_count": null,
      "outputs": []
    },
    {
      "cell_type": "code",
      "source": [
        "!pip install libauc==1.1.8"
      ],
      "metadata": {
        "id": "Zp3xKPbaaYd9"
      },
      "execution_count": null,
      "outputs": []
    },
    {
      "cell_type": "markdown",
      "source": [
        "### **Reproducibility**"
      ],
      "metadata": {
        "id": "e4CMX6LPcuSc"
      }
    },
    {
      "cell_type": "code",
      "source": [
        "def set_all_seeds(SEED):\n",
        "    # REPRODUCIBILITY\n",
        "    torch.manual_seed(SEED)\n",
        "    np.random.seed(SEED)\n",
        "    torch.backends.cudnn.deterministic = True\n",
        "    torch.backends.cudnn.benchmark = False"
      ],
      "metadata": {
        "id": "JTnrfY6Gcsoo"
      },
      "execution_count": null,
      "outputs": []
    },
    {
      "cell_type": "markdown",
      "source": [
        "### **Loading and Preprocessing Dataset**\n"
      ],
      "metadata": {
        "id": "C-ivD4T7cxCc"
      }
    },
    {
      "cell_type": "code",
      "source": [
        "df = pad.read_excel('Database_LibAUC_0.xlsx')\n",
        "df.dropna(axis = 0, how ='any')"
      ],
      "metadata": {
        "colab": {
          "base_uri": "https://localhost:8080/",
          "height": 419
        },
        "id": "4y1WE8RMmqcl",
        "outputId": "4890fb49-8a4c-4617-df89-396e7e5247e8"
      },
      "execution_count": null,
      "outputs": [
        {
          "output_type": "execute_result",
          "data": {
            "text/plain": [
              "      Feature_01  Feature_02  Feature_03  Feature_04  Feature_05  Feature_06  \\\n",
              "0         0.4633      0.1076     40.4710      0.0859      0.1338      0.8025   \n",
              "1         0.4540      0.0997     36.4405      0.0815      0.1233      0.7998   \n",
              "2         0.4880      0.0803     61.0115      0.0558      0.1058      0.7631   \n",
              "3         0.4113      0.1118     34.3492      0.0926      0.1467      0.7588   \n",
              "4         0.6148      0.0940     31.4994      0.0792      0.1329      0.7026   \n",
              "...          ...         ...         ...         ...         ...         ...   \n",
              "1627      0.5041      0.1099     46.2522      0.0845      0.1460      0.7514   \n",
              "1628      0.4571      0.1253     41.3130      0.0995      0.1825      0.6850   \n",
              "1629      0.3610      0.1406     30.2030      0.1194      0.2063      0.6746   \n",
              "1630      0.5300      0.0692     64.1103      0.0470      0.0923      0.7494   \n",
              "1631      0.6539      0.0694     58.1879      0.0492      0.0915      0.7607   \n",
              "\n",
              "      Class  \n",
              "0       0.0  \n",
              "1       0.0  \n",
              "2       0.0  \n",
              "3       0.0  \n",
              "4       0.0  \n",
              "...     ...  \n",
              "1627    0.0  \n",
              "1628    0.0  \n",
              "1629    0.0  \n",
              "1630    0.0  \n",
              "1631    1.0  \n",
              "\n",
              "[1632 rows x 7 columns]"
            ],
            "text/html": [
              "\n",
              "  <div id=\"df-ee22645e-fe87-4cc2-bede-c1e7a5cf93d1\">\n",
              "    <div class=\"colab-df-container\">\n",
              "      <div>\n",
              "<style scoped>\n",
              "    .dataframe tbody tr th:only-of-type {\n",
              "        vertical-align: middle;\n",
              "    }\n",
              "\n",
              "    .dataframe tbody tr th {\n",
              "        vertical-align: top;\n",
              "    }\n",
              "\n",
              "    .dataframe thead th {\n",
              "        text-align: right;\n",
              "    }\n",
              "</style>\n",
              "<table border=\"1\" class=\"dataframe\">\n",
              "  <thead>\n",
              "    <tr style=\"text-align: right;\">\n",
              "      <th></th>\n",
              "      <th>Feature_01</th>\n",
              "      <th>Feature_02</th>\n",
              "      <th>Feature_03</th>\n",
              "      <th>Feature_04</th>\n",
              "      <th>Feature_05</th>\n",
              "      <th>Feature_06</th>\n",
              "      <th>Class</th>\n",
              "    </tr>\n",
              "  </thead>\n",
              "  <tbody>\n",
              "    <tr>\n",
              "      <th>0</th>\n",
              "      <td>0.4633</td>\n",
              "      <td>0.1076</td>\n",
              "      <td>40.4710</td>\n",
              "      <td>0.0859</td>\n",
              "      <td>0.1338</td>\n",
              "      <td>0.8025</td>\n",
              "      <td>0.0</td>\n",
              "    </tr>\n",
              "    <tr>\n",
              "      <th>1</th>\n",
              "      <td>0.4540</td>\n",
              "      <td>0.0997</td>\n",
              "      <td>36.4405</td>\n",
              "      <td>0.0815</td>\n",
              "      <td>0.1233</td>\n",
              "      <td>0.7998</td>\n",
              "      <td>0.0</td>\n",
              "    </tr>\n",
              "    <tr>\n",
              "      <th>2</th>\n",
              "      <td>0.4880</td>\n",
              "      <td>0.0803</td>\n",
              "      <td>61.0115</td>\n",
              "      <td>0.0558</td>\n",
              "      <td>0.1058</td>\n",
              "      <td>0.7631</td>\n",
              "      <td>0.0</td>\n",
              "    </tr>\n",
              "    <tr>\n",
              "      <th>3</th>\n",
              "      <td>0.4113</td>\n",
              "      <td>0.1118</td>\n",
              "      <td>34.3492</td>\n",
              "      <td>0.0926</td>\n",
              "      <td>0.1467</td>\n",
              "      <td>0.7588</td>\n",
              "      <td>0.0</td>\n",
              "    </tr>\n",
              "    <tr>\n",
              "      <th>4</th>\n",
              "      <td>0.6148</td>\n",
              "      <td>0.0940</td>\n",
              "      <td>31.4994</td>\n",
              "      <td>0.0792</td>\n",
              "      <td>0.1329</td>\n",
              "      <td>0.7026</td>\n",
              "      <td>0.0</td>\n",
              "    </tr>\n",
              "    <tr>\n",
              "      <th>...</th>\n",
              "      <td>...</td>\n",
              "      <td>...</td>\n",
              "      <td>...</td>\n",
              "      <td>...</td>\n",
              "      <td>...</td>\n",
              "      <td>...</td>\n",
              "      <td>...</td>\n",
              "    </tr>\n",
              "    <tr>\n",
              "      <th>1627</th>\n",
              "      <td>0.5041</td>\n",
              "      <td>0.1099</td>\n",
              "      <td>46.2522</td>\n",
              "      <td>0.0845</td>\n",
              "      <td>0.1460</td>\n",
              "      <td>0.7514</td>\n",
              "      <td>0.0</td>\n",
              "    </tr>\n",
              "    <tr>\n",
              "      <th>1628</th>\n",
              "      <td>0.4571</td>\n",
              "      <td>0.1253</td>\n",
              "      <td>41.3130</td>\n",
              "      <td>0.0995</td>\n",
              "      <td>0.1825</td>\n",
              "      <td>0.6850</td>\n",
              "      <td>0.0</td>\n",
              "    </tr>\n",
              "    <tr>\n",
              "      <th>1629</th>\n",
              "      <td>0.3610</td>\n",
              "      <td>0.1406</td>\n",
              "      <td>30.2030</td>\n",
              "      <td>0.1194</td>\n",
              "      <td>0.2063</td>\n",
              "      <td>0.6746</td>\n",
              "      <td>0.0</td>\n",
              "    </tr>\n",
              "    <tr>\n",
              "      <th>1630</th>\n",
              "      <td>0.5300</td>\n",
              "      <td>0.0692</td>\n",
              "      <td>64.1103</td>\n",
              "      <td>0.0470</td>\n",
              "      <td>0.0923</td>\n",
              "      <td>0.7494</td>\n",
              "      <td>0.0</td>\n",
              "    </tr>\n",
              "    <tr>\n",
              "      <th>1631</th>\n",
              "      <td>0.6539</td>\n",
              "      <td>0.0694</td>\n",
              "      <td>58.1879</td>\n",
              "      <td>0.0492</td>\n",
              "      <td>0.0915</td>\n",
              "      <td>0.7607</td>\n",
              "      <td>1.0</td>\n",
              "    </tr>\n",
              "  </tbody>\n",
              "</table>\n",
              "<p>1632 rows × 7 columns</p>\n",
              "</div>\n",
              "      <button class=\"colab-df-convert\" onclick=\"convertToInteractive('df-ee22645e-fe87-4cc2-bede-c1e7a5cf93d1')\"\n",
              "              title=\"Convert this dataframe to an interactive table.\"\n",
              "              style=\"display:none;\">\n",
              "        \n",
              "  <svg xmlns=\"http://www.w3.org/2000/svg\" height=\"24px\"viewBox=\"0 0 24 24\"\n",
              "       width=\"24px\">\n",
              "    <path d=\"M0 0h24v24H0V0z\" fill=\"none\"/>\n",
              "    <path d=\"M18.56 5.44l.94 2.06.94-2.06 2.06-.94-2.06-.94-.94-2.06-.94 2.06-2.06.94zm-11 1L8.5 8.5l.94-2.06 2.06-.94-2.06-.94L8.5 2.5l-.94 2.06-2.06.94zm10 10l.94 2.06.94-2.06 2.06-.94-2.06-.94-.94-2.06-.94 2.06-2.06.94z\"/><path d=\"M17.41 7.96l-1.37-1.37c-.4-.4-.92-.59-1.43-.59-.52 0-1.04.2-1.43.59L10.3 9.45l-7.72 7.72c-.78.78-.78 2.05 0 2.83L4 21.41c.39.39.9.59 1.41.59.51 0 1.02-.2 1.41-.59l7.78-7.78 2.81-2.81c.8-.78.8-2.07 0-2.86zM5.41 20L4 18.59l7.72-7.72 1.47 1.35L5.41 20z\"/>\n",
              "  </svg>\n",
              "      </button>\n",
              "      \n",
              "  <style>\n",
              "    .colab-df-container {\n",
              "      display:flex;\n",
              "      flex-wrap:wrap;\n",
              "      gap: 12px;\n",
              "    }\n",
              "\n",
              "    .colab-df-convert {\n",
              "      background-color: #E8F0FE;\n",
              "      border: none;\n",
              "      border-radius: 50%;\n",
              "      cursor: pointer;\n",
              "      display: none;\n",
              "      fill: #1967D2;\n",
              "      height: 32px;\n",
              "      padding: 0 0 0 0;\n",
              "      width: 32px;\n",
              "    }\n",
              "\n",
              "    .colab-df-convert:hover {\n",
              "      background-color: #E2EBFA;\n",
              "      box-shadow: 0px 1px 2px rgba(60, 64, 67, 0.3), 0px 1px 3px 1px rgba(60, 64, 67, 0.15);\n",
              "      fill: #174EA6;\n",
              "    }\n",
              "\n",
              "    [theme=dark] .colab-df-convert {\n",
              "      background-color: #3B4455;\n",
              "      fill: #D2E3FC;\n",
              "    }\n",
              "\n",
              "    [theme=dark] .colab-df-convert:hover {\n",
              "      background-color: #434B5C;\n",
              "      box-shadow: 0px 1px 3px 1px rgba(0, 0, 0, 0.15);\n",
              "      filter: drop-shadow(0px 1px 2px rgba(0, 0, 0, 0.3));\n",
              "      fill: #FFFFFF;\n",
              "    }\n",
              "  </style>\n",
              "\n",
              "      <script>\n",
              "        const buttonEl =\n",
              "          document.querySelector('#df-ee22645e-fe87-4cc2-bede-c1e7a5cf93d1 button.colab-df-convert');\n",
              "        buttonEl.style.display =\n",
              "          google.colab.kernel.accessAllowed ? 'block' : 'none';\n",
              "\n",
              "        async function convertToInteractive(key) {\n",
              "          const element = document.querySelector('#df-ee22645e-fe87-4cc2-bede-c1e7a5cf93d1');\n",
              "          const dataTable =\n",
              "            await google.colab.kernel.invokeFunction('convertToInteractive',\n",
              "                                                     [key], {});\n",
              "          if (!dataTable) return;\n",
              "\n",
              "          const docLinkHtml = 'Like what you see? Visit the ' +\n",
              "            '<a target=\"_blank\" href=https://colab.research.google.com/notebooks/data_table.ipynb>data table notebook</a>'\n",
              "            + ' to learn more about interactive tables.';\n",
              "          element.innerHTML = '';\n",
              "          dataTable['output_type'] = 'display_data';\n",
              "          await google.colab.output.renderOutput(dataTable, element);\n",
              "          const docLink = document.createElement('div');\n",
              "          docLink.innerHTML = docLinkHtml;\n",
              "          element.appendChild(docLink);\n",
              "        }\n",
              "      </script>\n",
              "    </div>\n",
              "  </div>\n",
              "  "
            ]
          },
          "metadata": {},
          "execution_count": 17
        }
      ]
    },
    {
      "cell_type": "code",
      "source": [
        "raw_df = df"
      ],
      "metadata": {
        "id": "_HwOiAOcnWtH"
      },
      "execution_count": null,
      "outputs": []
    },
    {
      "cell_type": "code",
      "source": [
        "# Reference: https://www.tensorflow.org/tutorials/structured_data/imbalanced_data\n",
        "\n",
        "neg, pos = np.bincount(raw_df['Class'])\n",
        "total = neg + pos\n",
        "print('Examples:\\n    Total: {}\\n    Positive: {} ({:.2f}% of total)\\n'.format(total, pos, 100 * pos / total))\n",
        "\n",
        "cleaned_df = raw_df.copy()\n",
        "\n",
        "# Use a utility from sklearn to split and shuffle your dataset.\n",
        "train_df, test_df = train_test_split(cleaned_df, test_size=0.2)\n",
        "train_df, val_df = train_test_split(train_df, test_size=0.2)\n",
        "\n",
        "# Form np arrays of labels and features.\n",
        "train_labels = np.array(train_df.pop('Class'))\n",
        "bool_train_labels = train_labels != 0\n",
        "val_labels = np.array(val_df.pop('Class'))\n",
        "test_labels = np.array(test_df.pop('Class'))\n",
        "\n",
        "train_features = np.array(train_df)\n",
        "val_features = np.array(val_df)\n",
        "test_features = np.array(test_df)\n",
        "\n",
        "# Normalize the input features using the sklearn StandardScaler. This will set the mean to 0 and standard deviation to 1.\n",
        "# Note: The StandardScaler is only fit using the train_features to be sure the model is not peeking at the validation or test sets.\n",
        "scaler = StandardScaler()\n",
        "train_features = scaler.fit_transform(train_features)\n",
        "\n",
        "val_features = scaler.transform(val_features)\n",
        "test_features = scaler.transform(test_features)\n",
        "\n",
        "train_features = np.clip(train_features, -5, 5)\n",
        "val_features = np.clip(val_features, -5, 5)\n",
        "test_features = np.clip(test_features, -5, 5)\n",
        "\n",
        "\n",
        "print('Training labels shape:', train_labels.shape)\n",
        "print('Validation labels shape:', val_labels.shape)\n",
        "print('Test labels shape:', test_labels.shape)\n",
        "\n",
        "print('Training features shape:', train_features.shape)\n",
        "print('Validation features shape:', val_features.shape)\n",
        "print('Test features shape:', test_features.shape)\n"
      ],
      "metadata": {
        "colab": {
          "base_uri": "https://localhost:8080/"
        },
        "id": "cDY6x54agBCW",
        "outputId": "da247d1e-44a5-4e2c-d98a-69443f1c2c02"
      },
      "execution_count": null,
      "outputs": [
        {
          "output_type": "stream",
          "name": "stdout",
          "text": [
            "Examples:\n",
            "    Total: 1632\n",
            "    Positive: 141 (8.64% of total)\n",
            "\n",
            "Training labels shape: (1044,)\n",
            "Validation labels shape: (261,)\n",
            "Test labels shape: (327,)\n",
            "Training features shape: (1044, 6)\n",
            "Validation features shape: (261, 6)\n",
            "Test features shape: (327, 6)\n"
          ]
        }
      ]
    },
    {
      "cell_type": "markdown",
      "source": [
        "### **Paramaters**"
      ],
      "metadata": {
        "id": "1l1cu_g4hxj4"
      }
    },
    {
      "cell_type": "code",
      "source": [
        "# random seed\n",
        "SEED = 123\n",
        "\n",
        "# you can tune these parameters \n",
        "BATCH_SIZE = 8\n",
        "lr = 0.3\n",
        "gamma = 500\n",
        "weight_decay = 1e-5\n",
        "margin = 1.0\n",
        "\n",
        "# compute imbalance ratio based training set \n",
        "imratio = train_labels.sum()/train_labels.shape[0]"
      ],
      "metadata": {
        "id": "BSGmLmVxjZCX"
      },
      "execution_count": null,
      "outputs": []
    },
    {
      "cell_type": "markdown",
      "source": [
        "### **Loading Dataset**"
      ],
      "metadata": {
        "id": "lGX8q9WIlgwI"
      }
    },
    {
      "cell_type": "code",
      "source": [
        "class CreditFraudDataset(Dataset):\n",
        "    def __init__(self, data, target):\n",
        "        self.data = data.astype(np.float32) # numpy array\n",
        "        self.targets = target.astype(np.float32) # numpy array\n",
        "\n",
        "    def __getitem__(self, index):\n",
        "        data = self.data[index]\n",
        "        target = self.targets[index]\n",
        "        return data, target\n",
        "\n",
        "    def __len__(self):\n",
        "        return self.data.shape[0]\n",
        "\n",
        "trainDataset = CreditFraudDataset(train_features, train_labels)\n",
        "valDataset = CreditFraudDataset(val_features, val_labels)\n",
        "testDataset = CreditFraudDataset(test_features, test_labels)\n",
        "\n",
        "trainloader = torch.utils.data.DataLoader(trainDataset, batch_size=BATCH_SIZE, shuffle=True, num_workers=1, pin_memory=True)\n",
        "valloader = torch.utils.data.DataLoader(valDataset, batch_size=BATCH_SIZE, shuffle=False, num_workers=1,  pin_memory=False)\n",
        "testloader = torch.utils.data.DataLoader(testDataset, batch_size=BATCH_SIZE, shuffle=False, num_workers=1,  pin_memory=False)"
      ],
      "metadata": {
        "id": "lA6Klcb6k3xA"
      },
      "execution_count": null,
      "outputs": []
    },
    {
      "cell_type": "markdown",
      "source": [
        "### **Defining a multi-layer perceptron (Neural Network)**"
      ],
      "metadata": {
        "id": "mq_iyqgMjVMB"
      }
    },
    {
      "cell_type": "code",
      "source": [
        "from torch import nn\n",
        "import torch.nn.functional as F\n",
        "\n",
        "# you can extend this model to multi-layer perceptron\n",
        "class MLP(torch.nn.Module):\n",
        "    def __init__(self, input_dim=6, nn_dim=200, num_classes=1):\n",
        "        super().__init__()\n",
        "        self.fc1 = torch.nn.Linear(input_dim, nn_dim) #  increase number of layers here\n",
        "        self.dropout = nn.Dropout(0.5)\n",
        "        self.fc2 = torch.nn.Linear(nn_dim, 400) #  increase number of layers here\n",
        "        self.dropout = nn.Dropout(0.5)\n",
        "        self.fc3 = torch.nn.Linear(400, 800) #  increase number of layers here\n",
        "        self.dropout = nn.Dropout(0.5)\n",
        "        self.fc4 = torch.nn.Linear(800, num_classes)\n",
        "    def forward(self, x):\n",
        "        x1 = self.dropout(F.relu(self.fc1(x)))\n",
        "        x2 = self.dropout(F.relu(self.fc2(x1)))\n",
        "        x3 = self.dropout(F.relu(self.fc3(x2)))        \n",
        "        return torch.sigmoid(self.fc4(x3))"
      ],
      "metadata": {
        "id": "SOQlQ6vGhu-z"
      },
      "execution_count": null,
      "outputs": []
    },
    {
      "cell_type": "markdown",
      "source": [
        "### **Creating models & AUC Optimizer**"
      ],
      "metadata": {
        "id": "VM8M8aGUj7dw"
      }
    },
    {
      "cell_type": "code",
      "source": [
        "set_all_seeds(SEED)\n",
        "model = MLP(input_dim=6, num_classes=1) # num_classs=1 since we output 1 or 0 here\n",
        "model = model.cuda()\n",
        "\n",
        "Loss = AUCMLoss(imratio=imratio)\n",
        "optimizer = PESG(model, \n",
        "                 a=Loss.a, \n",
        "                 b=Loss.b, \n",
        "                 alpha=Loss.alpha,  \n",
        "                 lr=lr, \n",
        "                 gamma=gamma, \n",
        "                 margin=margin, \n",
        "                 weight_decay=weight_decay)"
      ],
      "metadata": {
        "id": "mBwayo8Yj7E-"
      },
      "execution_count": null,
      "outputs": []
    },
    {
      "cell_type": "markdown",
      "source": [
        "### **Training**"
      ],
      "metadata": {
        "id": "75K73TmSk_xQ"
      }
    },
    {
      "cell_type": "code",
      "source": [
        "def evaluate(data, model):\n",
        "     model.eval()\n",
        "     pred = []\n",
        "     true = [] \n",
        "     for j, data in enumerate(data):\n",
        "         data, targets = data\n",
        "         data = data.cuda()\n",
        "         y_pred = model(data)\n",
        "         pred.append(y_pred.cpu().detach().numpy())\n",
        "         true.append(targets.numpy())\n",
        "     true = np.concatenate(true)\n",
        "     pred = np.concatenate(pred)\n",
        "     val_auc =  roc_auc_score(true, pred) \n",
        "     return val_auc"
      ],
      "metadata": {
        "id": "XBeqpIKet0EY"
      },
      "execution_count": null,
      "outputs": []
    },
    {
      "cell_type": "code",
      "source": [
        "print ('Start Training')\n",
        "print ('-'*30)\n",
        "for epoch in range(100):\n",
        "    \n",
        "     if epoch == 50 or epoch==75:\n",
        "         # decrease learning rate by 10x & update regularizer\n",
        "         optimizer.update_regularizer(decay_factor=10)\n",
        "   \n",
        "     train_pred = []\n",
        "     train_true = []\n",
        "     model.train()    \n",
        "     for data, targets in trainloader:\n",
        "         data, targets  = data.cuda(), targets.cuda()\n",
        "         y_pred = model(data)\n",
        "         loss = Loss(y_pred, targets)\n",
        "         optimizer.zero_grad()\n",
        "         loss.backward()\n",
        "         optimizer.step()\n",
        "         train_pred.append(y_pred.cpu().detach().numpy())\n",
        "         train_true.append(targets.cpu().detach().numpy())\n",
        "\n",
        "     train_true = np.concatenate(train_true)\n",
        "     train_pred = np.concatenate(train_pred)\n",
        "     train_auc = roc_auc_score(train_true, train_pred) \n",
        "\n",
        "     val_auc = evaluate(valloader, model)\n",
        "     test_auc = evaluate(testloader, model)\n",
        "\n",
        "     # print results\n",
        "     print(\"epoch: {}, train_loss: {:4f}, train_auc:{:4f}, val_auc:{:4f}, test_auc:{:4f},  lr:{:4f}\".format(epoch, loss.item(), train_auc, val_auc, test_auc, optimizer.lr ))"
      ],
      "metadata": {
        "colab": {
          "base_uri": "https://localhost:8080/"
        },
        "id": "PqNSMQZ-lAud",
        "outputId": "959ec93d-59c4-4781-c9ac-1768e1700c6d"
      },
      "execution_count": null,
      "outputs": [
        {
          "output_type": "stream",
          "name": "stdout",
          "text": [
            "Start Training\n",
            "------------------------------\n",
            "epoch: 0, train_loss: 0.112865, train_auc:0.646928, val_auc:0.809750, test_auc:0.633681,  lr:0.300000\n",
            "epoch: 1, train_loss: 0.142306, train_auc:0.698746, val_auc:0.824628, test_auc:0.671535,  lr:0.300000\n",
            "epoch: 2, train_loss: 0.161619, train_auc:0.714468, val_auc:0.830801, test_auc:0.687630,  lr:0.300000\n",
            "epoch: 3, train_loss: -0.054882, train_auc:0.734552, val_auc:0.832700, test_auc:0.704918,  lr:0.300000\n",
            "epoch: 4, train_loss: 0.134854, train_auc:0.751850, val_auc:0.826686, test_auc:0.705663,  lr:0.300000\n",
            "epoch: 5, train_loss: 0.116377, train_auc:0.755617, val_auc:0.827477, test_auc:0.707004,  lr:0.300000\n",
            "epoch: 6, train_loss: 0.141628, train_auc:0.763633, val_auc:0.832067, test_auc:0.715052,  lr:0.300000\n",
            "epoch: 7, train_loss: 0.193329, train_auc:0.769730, val_auc:0.830643, test_auc:0.716095,  lr:0.300000\n",
            "epoch: 8, train_loss: 0.114239, train_auc:0.737600, val_auc:0.832067, test_auc:0.710730,  lr:0.300000\n",
            "epoch: 9, train_loss: 0.120153, train_auc:0.753597, val_auc:0.828743, test_auc:0.714605,  lr:0.300000\n",
            "epoch: 10, train_loss: 0.090803, train_auc:0.758632, val_auc:0.834283, test_auc:0.713264,  lr:0.300000\n",
            "epoch: 11, train_loss: 0.101660, train_auc:0.768611, val_auc:0.833808, test_auc:0.717139,  lr:0.300000\n",
            "epoch: 12, train_loss: 0.106379, train_auc:0.751187, val_auc:0.833333, test_auc:0.718778,  lr:0.300000\n",
            "epoch: 13, train_loss: 0.129885, train_auc:0.747751, val_auc:0.837132, test_auc:0.717139,  lr:0.300000\n",
            "epoch: 14, train_loss: 0.134270, train_auc:0.742293, val_auc:0.833808, test_auc:0.711624,  lr:0.300000\n",
            "epoch: 15, train_loss: 0.138112, train_auc:0.755241, val_auc:0.836974, test_auc:0.714307,  lr:0.300000\n",
            "epoch: 16, train_loss: -0.040452, train_auc:0.742110, val_auc:0.830643, test_auc:0.699106,  lr:0.300000\n",
            "epoch: 17, train_loss: -0.159574, train_auc:0.765756, val_auc:0.832384, test_auc:0.708346,  lr:0.300000\n",
            "epoch: 18, train_loss: 0.118050, train_auc:0.774765, val_auc:0.831276, test_auc:0.717139,  lr:0.300000\n",
            "epoch: 19, train_loss: 0.113805, train_auc:0.747203, val_auc:0.831751, test_auc:0.718331,  lr:0.300000\n",
            "epoch: 20, train_loss: 0.127670, train_auc:0.761966, val_auc:0.829376, test_auc:0.714158,  lr:0.300000\n",
            "epoch: 21, train_loss: 0.097324, train_auc:0.770129, val_auc:0.830009, test_auc:0.727273,  lr:0.300000\n",
            "epoch: 22, train_loss: -0.415274, train_auc:0.771237, val_auc:0.831434, test_auc:0.729955,  lr:0.300000\n",
            "epoch: 23, train_loss: 0.101355, train_auc:0.749840, val_auc:0.832384, test_auc:0.720715,  lr:0.300000\n",
            "epoch: 24, train_loss: 0.126801, train_auc:0.761486, val_auc:0.830959, test_auc:0.724292,  lr:0.300000\n",
            "epoch: 25, train_loss: 0.134815, train_auc:0.769536, val_auc:0.833492, test_auc:0.722951,  lr:0.300000\n",
            "epoch: 26, train_loss: -0.183931, train_auc:0.774833, val_auc:0.833017, test_auc:0.733234,  lr:0.300000\n",
            "epoch: 27, train_loss: 0.158703, train_auc:0.745547, val_auc:0.836657, test_auc:0.721908,  lr:0.300000\n",
            "epoch: 28, train_loss: 0.113490, train_auc:0.753962, val_auc:0.835549, test_auc:0.708346,  lr:0.300000\n",
            "epoch: 29, train_loss: 0.190054, train_auc:0.746381, val_auc:0.835074, test_auc:0.717735,  lr:0.300000\n",
            "epoch: 30, train_loss: 0.115677, train_auc:0.752386, val_auc:0.836182, test_auc:0.724739,  lr:0.300000\n",
            "epoch: 31, train_loss: -0.359134, train_auc:0.773829, val_auc:0.835233, test_auc:0.716393,  lr:0.300000\n",
            "epoch: 32, train_loss: 0.120450, train_auc:0.763222, val_auc:0.833492, test_auc:0.716244,  lr:0.300000\n",
            "epoch: 33, train_loss: 0.102433, train_auc:0.745958, val_auc:0.835708, test_auc:0.719225,  lr:0.300000\n",
            "epoch: 34, train_loss: 0.144547, train_auc:0.761178, val_auc:0.830801, test_auc:0.709389,  lr:0.300000\n",
            "epoch: 35, train_loss: 0.167666, train_auc:0.749509, val_auc:0.826844, test_auc:0.712072,  lr:0.300000\n",
            "epoch: 36, train_loss: 0.124115, train_auc:0.764432, val_auc:0.829851, test_auc:0.722206,  lr:0.300000\n",
            "epoch: 37, train_loss: 0.137694, train_auc:0.754864, val_auc:0.835708, test_auc:0.723547,  lr:0.300000\n",
            "epoch: 38, train_loss: 0.166744, train_auc:0.760801, val_auc:0.829693, test_auc:0.720119,  lr:0.300000\n",
            "epoch: 39, train_loss: 0.134282, train_auc:0.728992, val_auc:0.832700, test_auc:0.721759,  lr:0.300000\n",
            "epoch: 40, train_loss: 0.127024, train_auc:0.772139, val_auc:0.830801, test_auc:0.724292,  lr:0.300000\n",
            "epoch: 41, train_loss: -0.186999, train_auc:0.745570, val_auc:0.833966, test_auc:0.733681,  lr:0.300000\n",
            "epoch: 42, train_loss: 0.123863, train_auc:0.754156, val_auc:0.829851, test_auc:0.724739,  lr:0.300000\n",
            "epoch: 43, train_loss: 0.126911, train_auc:0.762708, val_auc:0.835708, test_auc:0.721461,  lr:0.300000\n",
            "epoch: 44, train_loss: 0.089111, train_auc:0.750308, val_auc:0.835549, test_auc:0.735917,  lr:0.300000\n",
            "epoch: 45, train_loss: 0.121531, train_auc:0.750948, val_auc:0.834441, test_auc:0.739493,  lr:0.300000\n",
            "epoch: 46, train_loss: 0.180146, train_auc:0.758689, val_auc:0.833492, test_auc:0.739642,  lr:0.300000\n",
            "epoch: 47, train_loss: -0.167459, train_auc:0.746780, val_auc:0.836815, test_auc:0.731297,  lr:0.300000\n",
            "epoch: 48, train_loss: 0.120890, train_auc:0.765848, val_auc:0.833175, test_auc:0.729657,  lr:0.300000\n",
            "epoch: 49, train_loss: -0.103689, train_auc:0.762445, val_auc:0.830801, test_auc:0.715946,  lr:0.300000\n",
            "Reducing learning rate to 0.03000 @ T=6550!\n",
            "Updating regularizer @ T=6550!\n",
            "epoch: 50, train_loss: 0.129283, train_auc:0.762411, val_auc:0.831276, test_auc:0.720119,  lr:0.030000\n",
            "epoch: 51, train_loss: 0.001980, train_auc:0.762719, val_auc:0.831751, test_auc:0.722057,  lr:0.030000\n",
            "epoch: 52, train_loss: 0.114529, train_auc:0.752306, val_auc:0.831592, test_auc:0.721759,  lr:0.030000\n",
            "epoch: 53, train_loss: -0.122458, train_auc:0.758860, val_auc:0.831592, test_auc:0.722951,  lr:0.030000\n",
            "epoch: 54, train_loss: -0.156299, train_auc:0.764968, val_auc:0.833175, test_auc:0.726080,  lr:0.030000\n",
            "epoch: 55, train_loss: 0.143427, train_auc:0.771043, val_auc:0.833333, test_auc:0.725931,  lr:0.030000\n",
            "epoch: 56, train_loss: -0.071365, train_auc:0.766830, val_auc:0.833808, test_auc:0.726528,  lr:0.030000\n",
            "epoch: 57, train_loss: 0.116951, train_auc:0.756314, val_auc:0.833175, test_auc:0.725335,  lr:0.030000\n",
            "epoch: 58, train_loss: -0.155074, train_auc:0.773201, val_auc:0.833175, test_auc:0.725484,  lr:0.030000\n",
            "epoch: 59, train_loss: -0.169442, train_auc:0.763553, val_auc:0.833017, test_auc:0.727422,  lr:0.030000\n",
            "epoch: 60, train_loss: -0.176303, train_auc:0.768976, val_auc:0.833492, test_auc:0.727124,  lr:0.030000\n",
            "epoch: 61, train_loss: 0.180353, train_auc:0.761429, val_auc:0.832700, test_auc:0.727273,  lr:0.030000\n",
            "epoch: 62, train_loss: -0.072941, train_auc:0.778955, val_auc:0.832858, test_auc:0.728465,  lr:0.030000\n",
            "epoch: 63, train_loss: -0.001896, train_auc:0.760898, val_auc:0.832858, test_auc:0.728167,  lr:0.030000\n",
            "epoch: 64, train_loss: 0.143268, train_auc:0.753893, val_auc:0.832700, test_auc:0.728018,  lr:0.030000\n",
            "epoch: 65, train_loss: 0.089661, train_auc:0.765950, val_auc:0.832384, test_auc:0.728465,  lr:0.030000\n",
            "epoch: 66, train_loss: 0.123762, train_auc:0.766076, val_auc:0.832384, test_auc:0.728465,  lr:0.030000\n",
            "epoch: 67, train_loss: 0.114915, train_auc:0.772961, val_auc:0.832700, test_auc:0.729359,  lr:0.030000\n",
            "epoch: 68, train_loss: 0.111225, train_auc:0.771888, val_auc:0.832700, test_auc:0.729806,  lr:0.030000\n",
            "epoch: 69, train_loss: -0.154552, train_auc:0.767903, val_auc:0.832384, test_auc:0.731744,  lr:0.030000\n",
            "epoch: 70, train_loss: 0.102316, train_auc:0.761589, val_auc:0.832225, test_auc:0.731893,  lr:0.030000\n",
            "epoch: 71, train_loss: 0.017291, train_auc:0.774171, val_auc:0.832858, test_auc:0.732489,  lr:0.030000\n",
            "epoch: 72, train_loss: 0.106097, train_auc:0.765037, val_auc:0.832700, test_auc:0.733532,  lr:0.030000\n",
            "epoch: 73, train_loss: 0.120201, train_auc:0.758814, val_auc:0.833017, test_auc:0.732340,  lr:0.030000\n",
            "epoch: 74, train_loss: 0.119973, train_auc:0.779001, val_auc:0.832858, test_auc:0.732489,  lr:0.030000\n",
            "Reducing learning rate to 0.00300 @ T=3275!\n",
            "Updating regularizer @ T=3275!\n",
            "epoch: 75, train_loss: 0.055992, train_auc:0.791674, val_auc:0.832700, test_auc:0.732638,  lr:0.003000\n",
            "epoch: 76, train_loss: -0.166621, train_auc:0.765574, val_auc:0.832700, test_auc:0.732638,  lr:0.003000\n",
            "epoch: 77, train_loss: -0.112823, train_auc:0.771534, val_auc:0.832700, test_auc:0.732638,  lr:0.003000\n",
            "epoch: 78, train_loss: 0.141530, train_auc:0.779241, val_auc:0.832542, test_auc:0.732936,  lr:0.003000\n",
            "epoch: 79, train_loss: 0.124014, train_auc:0.781535, val_auc:0.832542, test_auc:0.732936,  lr:0.003000\n",
            "epoch: 80, train_loss: 0.114320, train_auc:0.767880, val_auc:0.832542, test_auc:0.732936,  lr:0.003000\n",
            "epoch: 81, train_loss: 0.088914, train_auc:0.760949, val_auc:0.832542, test_auc:0.732787,  lr:0.003000\n",
            "epoch: 82, train_loss: 0.120984, train_auc:0.760481, val_auc:0.832700, test_auc:0.732638,  lr:0.003000\n",
            "epoch: 83, train_loss: -0.108550, train_auc:0.762537, val_auc:0.832700, test_auc:0.732638,  lr:0.003000\n",
            "epoch: 84, train_loss: 0.120817, train_auc:0.774536, val_auc:0.832858, test_auc:0.732489,  lr:0.003000\n",
            "epoch: 85, train_loss: 0.202136, train_auc:0.779709, val_auc:0.832700, test_auc:0.732936,  lr:0.003000\n",
            "epoch: 86, train_loss: 0.107119, train_auc:0.781433, val_auc:0.832542, test_auc:0.732936,  lr:0.003000\n",
            "epoch: 87, train_loss: 0.127718, train_auc:0.772881, val_auc:0.832542, test_auc:0.733085,  lr:0.003000\n",
            "epoch: 88, train_loss: -0.130749, train_auc:0.774776, val_auc:0.832542, test_auc:0.732936,  lr:0.003000\n",
            "epoch: 89, train_loss: 0.142691, train_auc:0.770164, val_auc:0.832700, test_auc:0.732936,  lr:0.003000\n",
            "epoch: 90, train_loss: 0.137949, train_auc:0.756828, val_auc:0.832700, test_auc:0.732787,  lr:0.003000\n",
            "epoch: 91, train_loss: 0.135071, train_auc:0.787347, val_auc:0.832542, test_auc:0.732787,  lr:0.003000\n",
            "epoch: 92, train_loss: 0.125749, train_auc:0.747294, val_auc:0.832542, test_auc:0.732787,  lr:0.003000\n",
            "epoch: 93, train_loss: 0.113930, train_auc:0.755960, val_auc:0.832384, test_auc:0.732638,  lr:0.003000\n",
            "epoch: 94, train_loss: 0.188928, train_auc:0.766076, val_auc:0.832542, test_auc:0.732489,  lr:0.003000\n",
            "epoch: 95, train_loss: 0.086640, train_auc:0.785897, val_auc:0.832542, test_auc:0.732489,  lr:0.003000\n",
            "epoch: 96, train_loss: -0.381157, train_auc:0.780588, val_auc:0.832384, test_auc:0.732489,  lr:0.003000\n",
            "epoch: 97, train_loss: 0.117723, train_auc:0.783294, val_auc:0.832384, test_auc:0.732340,  lr:0.003000\n",
            "epoch: 98, train_loss: 0.176427, train_auc:0.768713, val_auc:0.832384, test_auc:0.732340,  lr:0.003000\n",
            "epoch: 99, train_loss: 0.093677, train_auc:0.754099, val_auc:0.832225, test_auc:0.732340,  lr:0.003000\n"
          ]
        }
      ]
    },
    {
      "cell_type": "markdown",
      "source": [
        "## Prediction"
      ],
      "metadata": {
        "id": "N3wixDzV1Ysu"
      }
    },
    {
      "cell_type": "code",
      "source": [
        "X = df.drop('Class', axis=1)\n",
        "X_norm = scaler.transform(X)\n",
        "X_tensor = torch.from_numpy(X_norm)\n",
        "X_tensor = X_tensor.cuda()\n",
        "y = df['Class']"
      ],
      "metadata": {
        "id": "DRGhbwlE05UW",
        "colab": {
          "base_uri": "https://localhost:8080/"
        },
        "outputId": "62798bf9-8f2e-47b6-ef5c-141eba529b15"
      },
      "execution_count": null,
      "outputs": [
        {
          "output_type": "stream",
          "name": "stderr",
          "text": [
            "/usr/local/lib/python3.7/dist-packages/sklearn/base.py:444: UserWarning: X has feature names, but StandardScaler was fitted without feature names\n",
            "  f\"X has feature names, but {self.__class__.__name__} was fitted without\"\n"
          ]
        }
      ]
    },
    {
      "cell_type": "code",
      "source": [
        "outputs = model(X_tensor.float())"
      ],
      "metadata": {
        "id": "3Lzf0RYB0uzO"
      },
      "execution_count": null,
      "outputs": []
    },
    {
      "cell_type": "code",
      "source": [
        "proba = outputs.cpu()[:,:].detach().numpy()"
      ],
      "metadata": {
        "id": "fDRQFUJu2Iwe"
      },
      "execution_count": null,
      "outputs": []
    },
    {
      "cell_type": "code",
      "source": [
        "proba"
      ],
      "metadata": {
        "colab": {
          "base_uri": "https://localhost:8080/"
        },
        "id": "o27Szlq82Ts-",
        "outputId": "4a28ad49-54e7-4131-ce62-c0b6287981bc"
      },
      "execution_count": null,
      "outputs": [
        {
          "output_type": "execute_result",
          "data": {
            "text/plain": [
              "array([[0.32251382],\n",
              "       [0.46418366],\n",
              "       [0.26707017],\n",
              "       ...,\n",
              "       [0.03778607],\n",
              "       [0.38745627],\n",
              "       [0.6901977 ]], dtype=float32)"
            ]
          },
          "metadata": {},
          "execution_count": 21
        }
      ]
    },
    {
      "cell_type": "code",
      "source": [
        "predictions = np.where(proba>0.20,0,1)"
      ],
      "metadata": {
        "id": "-KpX1OB42Wwy"
      },
      "execution_count": null,
      "outputs": []
    },
    {
      "cell_type": "code",
      "source": [
        "predictions"
      ],
      "metadata": {
        "colab": {
          "base_uri": "https://localhost:8080/"
        },
        "id": "SDeO3Rta2aBF",
        "outputId": "e6f273eb-0d00-4194-bedd-ce18ceb175aa"
      },
      "execution_count": null,
      "outputs": [
        {
          "output_type": "execute_result",
          "data": {
            "text/plain": [
              "array([[1],\n",
              "       [0],\n",
              "       [1],\n",
              "       ...,\n",
              "       [1],\n",
              "       [1],\n",
              "       [0]])"
            ]
          },
          "metadata": {},
          "execution_count": 31
        }
      ]
    },
    {
      "cell_type": "code",
      "source": [
        "# calculate roc curves\n",
        "fpr, tpr, thresholds = roc_curve(y, proba)\n",
        "# calculate the g-mean for each threshold\n",
        "gmeans = sqrt(tpr * (1-fpr))\n",
        "# locate the index of the largest g-mean\n",
        "ix = argmax(gmeans)\n",
        "print('Best Threshold=%f, G-Mean=%.3f' % (thresholds[ix], gmeans[ix]))\n",
        "# plot the roc curve for the model\n",
        "plt.plot([0,1], [0,1], linestyle='--', label='No Skill')\n",
        "plt.plot(fpr, tpr, marker='.', label='LibAUC')\n",
        "plt.scatter(fpr[ix], tpr[ix], marker='o', color='black', label='Best')\n",
        "# axis labels\n",
        "plt.xlabel('False Positive Rate')\n",
        "plt.ylabel('True Positive Rate')\n",
        "plt.legend()\n",
        "# show the plot\n",
        "plt.show()"
      ],
      "metadata": {
        "colab": {
          "base_uri": "https://localhost:8080/",
          "height": 296
        },
        "outputId": "ba7ab0bd-3d96-4efe-bdab-d5a83513c5bd",
        "id": "81OZOhAxakPT"
      },
      "execution_count": null,
      "outputs": [
        {
          "output_type": "stream",
          "name": "stdout",
          "text": [
            "Best Threshold=0.519712, G-Mean=0.736\n"
          ]
        },
        {
          "output_type": "display_data",
          "data": {
            "text/plain": [
              "<Figure size 432x288 with 1 Axes>"
            ],
            "image/png": "[encoded data removed]"
          },
          "metadata": {
            "needs_background": "light"
          }
        }
      ]
    },
    {
      "cell_type": "code",
      "source": [
        "auc = roc_auc_score(y, proba)\n",
        "print(auc)"
      ],
      "metadata": {
        "id": "OGBOwpGQfT8D"
      },
      "execution_count": null,
      "outputs": []
    },
    {
      "cell_type": "code",
      "source": [
        "dump(model, \"LibAUC.joblib\")"
      ],
      "metadata": {
        "colab": {
          "base_uri": "https://localhost:8080/"
        },
        "outputId": "37a705e2-999e-4db8-e1e0-018a4645c35f",
        "id": "R-jcnOg6akPU"
      },
      "execution_count": null,
      "outputs": [
        {
          "output_type": "execute_result",
          "data": {
            "text/plain": [
              "['LibAUC.joblib']"
            ]
          },
          "metadata": {},
          "execution_count": 27
        }
      ]
    },
    {
      "cell_type": "code",
      "source": [
        "conf_matrix = tf.math.confusion_matrix(labels=y, predictions=predictions)\n",
        " \n",
        "ax_sgd_01 = sns.heatmap(conf_matrix, annot = True, fmt='d')\n",
        "ax_sgd_01.set_title('Matrice de confusion')\n",
        "ax_sgd_01.set_ylabel('Réel')\n",
        "ax_sgd_01.set_xlabel('Prédiction')\n",
        "plt.show()"
      ],
      "metadata": {
        "colab": {
          "base_uri": "https://localhost:8080/",
          "height": 295
        },
        "outputId": "9854553d-82fc-48f3-ecfb-da1c2412218e",
        "id": "3XQuqjGtakPU"
      },
      "execution_count": null,
      "outputs": [
        {
          "output_type": "display_data",
          "data": {
            "text/plain": [
              "<Figure size 432x288 with 2 Axes>"
            ],
            "image/png": "[encoded data removed]"
          },
          "metadata": {
            "needs_background": "light"
          }
        }
      ]
    },
    {
      "cell_type": "code",
      "source": [
        "df['ClassPredict'] = predictions"
      ],
      "metadata": {
        "id": "qST9pMuCakPU"
      },
      "execution_count": null,
      "outputs": []
    },
    {
      "cell_type": "code",
      "source": [
        "df['ClassPredict'].to_csv('prediction.csv', index = False)"
      ],
      "metadata": {
        "id": "Jwsq05HcakPU"
      },
      "execution_count": null,
      "outputs": []
    }
  ]
}