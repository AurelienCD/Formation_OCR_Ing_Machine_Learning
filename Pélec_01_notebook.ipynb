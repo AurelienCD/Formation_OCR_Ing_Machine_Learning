{
  "nbformat": 4,
  "nbformat_minor": 0,
  "metadata": {
    "colab": {
      "name": "Pélec_01_notebook.ipynb",
      "provenance": [],
      "collapsed_sections": [],
      "authorship_tag": "ABX9TyNKjiGmc5g+MjNIQ3mJthFM",
      "include_colab_link": true
    },
    "kernelspec": {
      "name": "python3",
      "display_name": "Python 3"
    },
    "language_info": {
      "name": "python"
    }
  },
  "cells": [
    {
      "cell_type": "markdown",
      "metadata": {
        "id": "view-in-github",
        "colab_type": "text"
      },
      "source": [
        "<a href=\"https://colab.research.google.com/github/AurelienCD/Formation_OCR_Ing_Machine_Learning/blob/main/P%C3%A9lec_01_notebook.ipynb\" target=\"_parent\"><img src=\"https://colab.research.google.com/assets/colab-badge.svg\" alt=\"Open In Colab\"/></a>"
      ]
    },
    {
      "cell_type": "markdown",
      "source": [
        "Connexion au google drive, déplacement dans le dossier contenant les données nécessaires au projet"
      ],
      "metadata": {
        "id": "qJ1LudLSaN7y"
      }
    },
    {
      "cell_type": "code",
      "execution_count": null,
      "metadata": {
        "id": "J1yZsOaDZMVN",
        "colab": {
          "base_uri": "https://localhost:8080/"
        },
        "outputId": "1f520946-1dbe-45f4-81f6-828c333daaf7"
      },
      "outputs": [
        {
          "output_type": "stream",
          "name": "stdout",
          "text": [
            "Drive already mounted at /content/drive; to attempt to forcibly remount, call drive.mount(\"/content/drive\", force_remount=True).\n"
          ]
        }
      ],
      "source": [
        "from google.colab import drive\n",
        "drive.mount(\"/content/drive\")"
      ]
    },
    {
      "cell_type": "code",
      "source": [
        "%cd drive/MyDrive/Formation_OCR_Ing_Machine_Learning/Projet 3"
      ],
      "metadata": {
        "colab": {
          "base_uri": "https://localhost:8080/"
        },
        "id": "TMHjjJ81aImE",
        "outputId": "c2000293-bd78-4ea2-bcf3-1a95aa1ed393"
      },
      "execution_count": null,
      "outputs": [
        {
          "output_type": "stream",
          "name": "stdout",
          "text": [
            "/content/drive/MyDrive/Formation_OCR_Ing_Machine_Learning/Projet 3\n"
          ]
        }
      ]
    },
    {
      "cell_type": "markdown",
      "source": [
        "Importation des librairies nécessaires au projet"
      ],
      "metadata": {
        "id": "scL1IlIIawNw"
      }
    },
    {
      "cell_type": "code",
      "source": [
        "import pandas as pad \n",
        "import numpy as np\n",
        "\n",
        "import matplotlib.pyplot as plt\n",
        "import seaborn as sns"
      ],
      "metadata": {
        "id": "u4WZGclQamDR"
      },
      "execution_count": null,
      "outputs": []
    },
    {
      "cell_type": "markdown",
      "source": [
        "Importation des données"
      ],
      "metadata": {
        "id": "8M-pdM2hYYmz"
      }
    },
    {
      "cell_type": "code",
      "source": [
        "df_2015 = pad.read_csv('2015-building-energy-benchmarking.csv')\n",
        "df_2016 = pad.read_csv('2016-building-energy-benchmarking.csv')"
      ],
      "metadata": {
        "id": "0qx2shAZabXR"
      },
      "execution_count": null,
      "outputs": []
    },
    {
      "cell_type": "markdown",
      "source": [
        "Exploration rapide des données"
      ],
      "metadata": {
        "id": "bkwkr-E0revs"
      }
    },
    {
      "cell_type": "code",
      "source": [
        "print(df_2015.shape)\n",
        "print(df_2016.shape)"
      ],
      "metadata": {
        "colab": {
          "base_uri": "https://localhost:8080/"
        },
        "id": "-55py98jXOtn",
        "outputId": "c62af6a4-79e2-4d5a-acab-8b6af630035c"
      },
      "execution_count": null,
      "outputs": [
        {
          "output_type": "stream",
          "name": "stdout",
          "text": [
            "(3340, 47)\n",
            "(3376, 46)\n"
          ]
        }
      ]
    },
    {
      "cell_type": "code",
      "source": [
        "df_2015.info()"
      ],
      "metadata": {
        "colab": {
          "base_uri": "https://localhost:8080/"
        },
        "id": "MwadOr0mbo2Z",
        "outputId": "1f66ccb4-d57d-4937-f25b-dfbef522046c"
      },
      "execution_count": null,
      "outputs": [
        {
          "output_type": "stream",
          "name": "stdout",
          "text": [
            "<class 'pandas.core.frame.DataFrame'>\n",
            "RangeIndex: 3340 entries, 0 to 3339\n",
            "Data columns (total 47 columns):\n",
            " #   Column                                                         Non-Null Count  Dtype  \n",
            "---  ------                                                         --------------  -----  \n",
            " 0   OSEBuildingID                                                  3340 non-null   int64  \n",
            " 1   DataYear                                                       3340 non-null   int64  \n",
            " 2   BuildingType                                                   3340 non-null   object \n",
            " 3   PrimaryPropertyType                                            3340 non-null   object \n",
            " 4   PropertyName                                                   3340 non-null   object \n",
            " 5   TaxParcelIdentificationNumber                                  3338 non-null   object \n",
            " 6   Location                                                       3340 non-null   object \n",
            " 7   CouncilDistrictCode                                            3340 non-null   int64  \n",
            " 8   Neighborhood                                                   3340 non-null   object \n",
            " 9   YearBuilt                                                      3340 non-null   int64  \n",
            " 10  NumberofBuildings                                              3340 non-null   int64  \n",
            " 11  NumberofFloors                                                 3332 non-null   float64\n",
            " 12  PropertyGFATotal                                               3340 non-null   int64  \n",
            " 13  PropertyGFAParking                                             3340 non-null   int64  \n",
            " 14  PropertyGFABuilding(s)                                         3340 non-null   int64  \n",
            " 15  ListOfAllPropertyUseTypes                                      3213 non-null   object \n",
            " 16  LargestPropertyUseType                                         3204 non-null   object \n",
            " 17  LargestPropertyUseTypeGFA                                      3204 non-null   float64\n",
            " 18  SecondLargestPropertyUseType                                   1559 non-null   object \n",
            " 19  SecondLargestPropertyUseTypeGFA                                1559 non-null   float64\n",
            " 20  ThirdLargestPropertyUseType                                    560 non-null    object \n",
            " 21  ThirdLargestPropertyUseTypeGFA                                 560 non-null    float64\n",
            " 22  YearsENERGYSTARCertified                                       110 non-null    object \n",
            " 23  ENERGYSTARScore                                                2560 non-null   float64\n",
            " 24  SiteEUI(kBtu/sf)                                               3330 non-null   float64\n",
            " 25  SiteEUIWN(kBtu/sf)                                             3330 non-null   float64\n",
            " 26  SourceEUI(kBtu/sf)                                             3330 non-null   float64\n",
            " 27  SourceEUIWN(kBtu/sf)                                           3330 non-null   float64\n",
            " 28  SiteEnergyUse(kBtu)                                            3330 non-null   float64\n",
            " 29  SiteEnergyUseWN(kBtu)                                          3330 non-null   float64\n",
            " 30  SteamUse(kBtu)                                                 3330 non-null   float64\n",
            " 31  Electricity(kWh)                                               3330 non-null   float64\n",
            " 32  Electricity(kBtu)                                              3330 non-null   float64\n",
            " 33  NaturalGas(therms)                                             3330 non-null   float64\n",
            " 34  NaturalGas(kBtu)                                               3330 non-null   float64\n",
            " 35  OtherFuelUse(kBtu)                                             3330 non-null   float64\n",
            " 36  GHGEmissions(MetricTonsCO2e)                                   3330 non-null   float64\n",
            " 37  GHGEmissionsIntensity(kgCO2e/ft2)                              3330 non-null   float64\n",
            " 38  DefaultData                                                    3339 non-null   object \n",
            " 39  Comment                                                        13 non-null     object \n",
            " 40  ComplianceStatus                                               3340 non-null   object \n",
            " 41  Outlier                                                        84 non-null     object \n",
            " 42  2010 Census Tracts                                             224 non-null    float64\n",
            " 43  Seattle Police Department Micro Community Policing Plan Areas  3338 non-null   float64\n",
            " 44  City Council Districts                                         213 non-null    float64\n",
            " 45  SPD Beats                                                      3338 non-null   float64\n",
            " 46  Zip Codes                                                      3340 non-null   int64  \n",
            "dtypes: float64(23), int64(9), object(15)\n",
            "memory usage: 1.2+ MB\n"
          ]
        }
      ]
    },
    {
      "cell_type": "code",
      "source": [
        "df_2016.info()"
      ],
      "metadata": {
        "colab": {
          "base_uri": "https://localhost:8080/"
        },
        "id": "v-IcaspSbsGG",
        "outputId": "5bb16f57-bc3b-47d2-e376-07959946fb19"
      },
      "execution_count": null,
      "outputs": [
        {
          "output_type": "stream",
          "name": "stdout",
          "text": [
            "<class 'pandas.core.frame.DataFrame'>\n",
            "RangeIndex: 3376 entries, 0 to 3375\n",
            "Data columns (total 46 columns):\n",
            " #   Column                           Non-Null Count  Dtype  \n",
            "---  ------                           --------------  -----  \n",
            " 0   OSEBuildingID                    3376 non-null   int64  \n",
            " 1   DataYear                         3376 non-null   int64  \n",
            " 2   BuildingType                     3376 non-null   object \n",
            " 3   PrimaryPropertyType              3376 non-null   object \n",
            " 4   PropertyName                     3376 non-null   object \n",
            " 5   Address                          3376 non-null   object \n",
            " 6   City                             3376 non-null   object \n",
            " 7   State                            3376 non-null   object \n",
            " 8   ZipCode                          3360 non-null   float64\n",
            " 9   TaxParcelIdentificationNumber    3376 non-null   object \n",
            " 10  CouncilDistrictCode              3376 non-null   int64  \n",
            " 11  Neighborhood                     3376 non-null   object \n",
            " 12  Latitude                         3376 non-null   float64\n",
            " 13  Longitude                        3376 non-null   float64\n",
            " 14  YearBuilt                        3376 non-null   int64  \n",
            " 15  NumberofBuildings                3368 non-null   float64\n",
            " 16  NumberofFloors                   3376 non-null   int64  \n",
            " 17  PropertyGFATotal                 3376 non-null   int64  \n",
            " 18  PropertyGFAParking               3376 non-null   int64  \n",
            " 19  PropertyGFABuilding(s)           3376 non-null   int64  \n",
            " 20  ListOfAllPropertyUseTypes        3367 non-null   object \n",
            " 21  LargestPropertyUseType           3356 non-null   object \n",
            " 22  LargestPropertyUseTypeGFA        3356 non-null   float64\n",
            " 23  SecondLargestPropertyUseType     1679 non-null   object \n",
            " 24  SecondLargestPropertyUseTypeGFA  1679 non-null   float64\n",
            " 25  ThirdLargestPropertyUseType      596 non-null    object \n",
            " 26  ThirdLargestPropertyUseTypeGFA   596 non-null    float64\n",
            " 27  YearsENERGYSTARCertified         119 non-null    object \n",
            " 28  ENERGYSTARScore                  2533 non-null   float64\n",
            " 29  SiteEUI(kBtu/sf)                 3369 non-null   float64\n",
            " 30  SiteEUIWN(kBtu/sf)               3370 non-null   float64\n",
            " 31  SourceEUI(kBtu/sf)               3367 non-null   float64\n",
            " 32  SourceEUIWN(kBtu/sf)             3367 non-null   float64\n",
            " 33  SiteEnergyUse(kBtu)              3371 non-null   float64\n",
            " 34  SiteEnergyUseWN(kBtu)            3370 non-null   float64\n",
            " 35  SteamUse(kBtu)                   3367 non-null   float64\n",
            " 36  Electricity(kWh)                 3367 non-null   float64\n",
            " 37  Electricity(kBtu)                3367 non-null   float64\n",
            " 38  NaturalGas(therms)               3367 non-null   float64\n",
            " 39  NaturalGas(kBtu)                 3367 non-null   float64\n",
            " 40  DefaultData                      3376 non-null   bool   \n",
            " 41  Comments                         0 non-null      float64\n",
            " 42  ComplianceStatus                 3376 non-null   object \n",
            " 43  Outlier                          32 non-null     object \n",
            " 44  TotalGHGEmissions                3367 non-null   float64\n",
            " 45  GHGEmissionsIntensity            3367 non-null   float64\n",
            "dtypes: bool(1), float64(22), int64(8), object(15)\n",
            "memory usage: 1.2+ MB\n"
          ]
        }
      ]
    },
    {
      "cell_type": "code",
      "source": [
        "df_2015.head()"
      ],
      "metadata": {
        "colab": {
          "base_uri": "https://localhost:8080/",
          "height": 635
        },
        "id": "tUnKjXHcXjEA",
        "outputId": "446b8d52-e886-41a0-a8c7-35aa65f7d140"
      },
      "execution_count": null,
      "outputs": [
        {
          "output_type": "execute_result",
          "data": {
            "text/html": [
              "\n",
              "  <div id=\"df-80c492ec-3b7b-4191-8cf1-42839291d811\">\n",
              "    <div class=\"colab-df-container\">\n",
              "      <div>\n",
              "<style scoped>\n",
              "    .dataframe tbody tr th:only-of-type {\n",
              "        vertical-align: middle;\n",
              "    }\n",
              "\n",
              "    .dataframe tbody tr th {\n",
              "        vertical-align: top;\n",
              "    }\n",
              "\n",
              "    .dataframe thead th {\n",
              "        text-align: right;\n",
              "    }\n",
              "</style>\n",
              "<table border=\"1\" class=\"dataframe\">\n",
              "  <thead>\n",
              "    <tr style=\"text-align: right;\">\n",
              "      <th></th>\n",
              "      <th>OSEBuildingID</th>\n",
              "      <th>DataYear</th>\n",
              "      <th>BuildingType</th>\n",
              "      <th>PrimaryPropertyType</th>\n",
              "      <th>PropertyName</th>\n",
              "      <th>TaxParcelIdentificationNumber</th>\n",
              "      <th>Location</th>\n",
              "      <th>CouncilDistrictCode</th>\n",
              "      <th>Neighborhood</th>\n",
              "      <th>YearBuilt</th>\n",
              "      <th>NumberofBuildings</th>\n",
              "      <th>NumberofFloors</th>\n",
              "      <th>PropertyGFATotal</th>\n",
              "      <th>PropertyGFAParking</th>\n",
              "      <th>PropertyGFABuilding(s)</th>\n",
              "      <th>ListOfAllPropertyUseTypes</th>\n",
              "      <th>LargestPropertyUseType</th>\n",
              "      <th>LargestPropertyUseTypeGFA</th>\n",
              "      <th>SecondLargestPropertyUseType</th>\n",
              "      <th>SecondLargestPropertyUseTypeGFA</th>\n",
              "      <th>ThirdLargestPropertyUseType</th>\n",
              "      <th>ThirdLargestPropertyUseTypeGFA</th>\n",
              "      <th>YearsENERGYSTARCertified</th>\n",
              "      <th>ENERGYSTARScore</th>\n",
              "      <th>SiteEUI(kBtu/sf)</th>\n",
              "      <th>SiteEUIWN(kBtu/sf)</th>\n",
              "      <th>SourceEUI(kBtu/sf)</th>\n",
              "      <th>SourceEUIWN(kBtu/sf)</th>\n",
              "      <th>SiteEnergyUse(kBtu)</th>\n",
              "      <th>SiteEnergyUseWN(kBtu)</th>\n",
              "      <th>SteamUse(kBtu)</th>\n",
              "      <th>Electricity(kWh)</th>\n",
              "      <th>Electricity(kBtu)</th>\n",
              "      <th>NaturalGas(therms)</th>\n",
              "      <th>NaturalGas(kBtu)</th>\n",
              "      <th>OtherFuelUse(kBtu)</th>\n",
              "      <th>GHGEmissions(MetricTonsCO2e)</th>\n",
              "      <th>GHGEmissionsIntensity(kgCO2e/ft2)</th>\n",
              "      <th>DefaultData</th>\n",
              "      <th>Comment</th>\n",
              "      <th>ComplianceStatus</th>\n",
              "      <th>Outlier</th>\n",
              "      <th>2010 Census Tracts</th>\n",
              "      <th>Seattle Police Department Micro Community Policing Plan Areas</th>\n",
              "      <th>City Council Districts</th>\n",
              "      <th>SPD Beats</th>\n",
              "      <th>Zip Codes</th>\n",
              "    </tr>\n",
              "  </thead>\n",
              "  <tbody>\n",
              "    <tr>\n",
              "      <th>0</th>\n",
              "      <td>1</td>\n",
              "      <td>2015</td>\n",
              "      <td>NonResidential</td>\n",
              "      <td>Hotel</td>\n",
              "      <td>MAYFLOWER PARK HOTEL</td>\n",
              "      <td>659000030</td>\n",
              "      <td>{'latitude': '47.61219025', 'longitude': '-122...</td>\n",
              "      <td>7</td>\n",
              "      <td>DOWNTOWN</td>\n",
              "      <td>1927</td>\n",
              "      <td>1</td>\n",
              "      <td>12.0</td>\n",
              "      <td>88434</td>\n",
              "      <td>0</td>\n",
              "      <td>88434</td>\n",
              "      <td>Hotel</td>\n",
              "      <td>Hotel</td>\n",
              "      <td>88434.0</td>\n",
              "      <td>NaN</td>\n",
              "      <td>NaN</td>\n",
              "      <td>NaN</td>\n",
              "      <td>NaN</td>\n",
              "      <td>NaN</td>\n",
              "      <td>65.0</td>\n",
              "      <td>78.9</td>\n",
              "      <td>80.3</td>\n",
              "      <td>173.5</td>\n",
              "      <td>175.1</td>\n",
              "      <td>6981428.0</td>\n",
              "      <td>7097539.0</td>\n",
              "      <td>2023032.0</td>\n",
              "      <td>1080307.0</td>\n",
              "      <td>3686160.0</td>\n",
              "      <td>12724.0</td>\n",
              "      <td>1272388.0</td>\n",
              "      <td>0.0</td>\n",
              "      <td>249.43</td>\n",
              "      <td>2.64</td>\n",
              "      <td>No</td>\n",
              "      <td>NaN</td>\n",
              "      <td>Compliant</td>\n",
              "      <td>NaN</td>\n",
              "      <td>NaN</td>\n",
              "      <td>14.0</td>\n",
              "      <td>NaN</td>\n",
              "      <td>31.0</td>\n",
              "      <td>18081</td>\n",
              "    </tr>\n",
              "    <tr>\n",
              "      <th>1</th>\n",
              "      <td>2</td>\n",
              "      <td>2015</td>\n",
              "      <td>NonResidential</td>\n",
              "      <td>Hotel</td>\n",
              "      <td>PARAMOUNT HOTEL</td>\n",
              "      <td>659000220</td>\n",
              "      <td>{'latitude': '47.61310583', 'longitude': '-122...</td>\n",
              "      <td>7</td>\n",
              "      <td>DOWNTOWN</td>\n",
              "      <td>1996</td>\n",
              "      <td>1</td>\n",
              "      <td>11.0</td>\n",
              "      <td>103566</td>\n",
              "      <td>15064</td>\n",
              "      <td>88502</td>\n",
              "      <td>Hotel, Parking, Restaurant</td>\n",
              "      <td>Hotel</td>\n",
              "      <td>83880.0</td>\n",
              "      <td>Parking</td>\n",
              "      <td>15064.0</td>\n",
              "      <td>Restaurant</td>\n",
              "      <td>4622.0</td>\n",
              "      <td>NaN</td>\n",
              "      <td>51.0</td>\n",
              "      <td>94.4</td>\n",
              "      <td>99.0</td>\n",
              "      <td>191.3</td>\n",
              "      <td>195.2</td>\n",
              "      <td>8354235.0</td>\n",
              "      <td>8765788.0</td>\n",
              "      <td>0.0</td>\n",
              "      <td>1144563.0</td>\n",
              "      <td>3905411.0</td>\n",
              "      <td>44490.0</td>\n",
              "      <td>4448985.0</td>\n",
              "      <td>0.0</td>\n",
              "      <td>263.51</td>\n",
              "      <td>2.38</td>\n",
              "      <td>No</td>\n",
              "      <td>NaN</td>\n",
              "      <td>Compliant</td>\n",
              "      <td>NaN</td>\n",
              "      <td>NaN</td>\n",
              "      <td>14.0</td>\n",
              "      <td>NaN</td>\n",
              "      <td>31.0</td>\n",
              "      <td>18081</td>\n",
              "    </tr>\n",
              "    <tr>\n",
              "      <th>2</th>\n",
              "      <td>3</td>\n",
              "      <td>2015</td>\n",
              "      <td>NonResidential</td>\n",
              "      <td>Hotel</td>\n",
              "      <td>WESTIN HOTEL</td>\n",
              "      <td>659000475</td>\n",
              "      <td>{'latitude': '47.61334897', 'longitude': '-122...</td>\n",
              "      <td>7</td>\n",
              "      <td>DOWNTOWN</td>\n",
              "      <td>1969</td>\n",
              "      <td>1</td>\n",
              "      <td>41.0</td>\n",
              "      <td>961990</td>\n",
              "      <td>0</td>\n",
              "      <td>961990</td>\n",
              "      <td>Hotel, Parking, Swimming Pool</td>\n",
              "      <td>Hotel</td>\n",
              "      <td>757243.0</td>\n",
              "      <td>Parking</td>\n",
              "      <td>100000.0</td>\n",
              "      <td>Swimming Pool</td>\n",
              "      <td>0.0</td>\n",
              "      <td>NaN</td>\n",
              "      <td>18.0</td>\n",
              "      <td>96.6</td>\n",
              "      <td>99.7</td>\n",
              "      <td>242.7</td>\n",
              "      <td>246.5</td>\n",
              "      <td>73130656.0</td>\n",
              "      <td>75506272.0</td>\n",
              "      <td>19660404.0</td>\n",
              "      <td>14583930.0</td>\n",
              "      <td>49762435.0</td>\n",
              "      <td>37099.0</td>\n",
              "      <td>3709900.0</td>\n",
              "      <td>0.0</td>\n",
              "      <td>2061.48</td>\n",
              "      <td>1.92</td>\n",
              "      <td>Yes</td>\n",
              "      <td>NaN</td>\n",
              "      <td>Compliant</td>\n",
              "      <td>NaN</td>\n",
              "      <td>NaN</td>\n",
              "      <td>56.0</td>\n",
              "      <td>NaN</td>\n",
              "      <td>31.0</td>\n",
              "      <td>18081</td>\n",
              "    </tr>\n",
              "    <tr>\n",
              "      <th>3</th>\n",
              "      <td>5</td>\n",
              "      <td>2015</td>\n",
              "      <td>NonResidential</td>\n",
              "      <td>Hotel</td>\n",
              "      <td>HOTEL MAX</td>\n",
              "      <td>659000640</td>\n",
              "      <td>{'latitude': '47.61421585', 'longitude': '-122...</td>\n",
              "      <td>7</td>\n",
              "      <td>DOWNTOWN</td>\n",
              "      <td>1926</td>\n",
              "      <td>1</td>\n",
              "      <td>10.0</td>\n",
              "      <td>61320</td>\n",
              "      <td>0</td>\n",
              "      <td>61320</td>\n",
              "      <td>Hotel</td>\n",
              "      <td>Hotel</td>\n",
              "      <td>61320.0</td>\n",
              "      <td>NaN</td>\n",
              "      <td>NaN</td>\n",
              "      <td>NaN</td>\n",
              "      <td>NaN</td>\n",
              "      <td>NaN</td>\n",
              "      <td>1.0</td>\n",
              "      <td>460.4</td>\n",
              "      <td>462.5</td>\n",
              "      <td>636.3</td>\n",
              "      <td>643.2</td>\n",
              "      <td>28229320.0</td>\n",
              "      <td>28363444.0</td>\n",
              "      <td>23458518.0</td>\n",
              "      <td>811521.0</td>\n",
              "      <td>2769023.0</td>\n",
              "      <td>20019.0</td>\n",
              "      <td>2001894.0</td>\n",
              "      <td>0.0</td>\n",
              "      <td>1936.34</td>\n",
              "      <td>31.38</td>\n",
              "      <td>No</td>\n",
              "      <td>NaN</td>\n",
              "      <td>Compliant</td>\n",
              "      <td>High Outlier</td>\n",
              "      <td>NaN</td>\n",
              "      <td>56.0</td>\n",
              "      <td>NaN</td>\n",
              "      <td>31.0</td>\n",
              "      <td>18081</td>\n",
              "    </tr>\n",
              "    <tr>\n",
              "      <th>4</th>\n",
              "      <td>8</td>\n",
              "      <td>2015</td>\n",
              "      <td>NonResidential</td>\n",
              "      <td>Hotel</td>\n",
              "      <td>WARWICK SEATTLE HOTEL</td>\n",
              "      <td>659000970</td>\n",
              "      <td>{'latitude': '47.6137544', 'longitude': '-122....</td>\n",
              "      <td>7</td>\n",
              "      <td>DOWNTOWN</td>\n",
              "      <td>1980</td>\n",
              "      <td>1</td>\n",
              "      <td>18.0</td>\n",
              "      <td>119890</td>\n",
              "      <td>12460</td>\n",
              "      <td>107430</td>\n",
              "      <td>Hotel, Parking, Swimming Pool</td>\n",
              "      <td>Hotel</td>\n",
              "      <td>123445.0</td>\n",
              "      <td>Parking</td>\n",
              "      <td>68009.0</td>\n",
              "      <td>Swimming Pool</td>\n",
              "      <td>0.0</td>\n",
              "      <td>NaN</td>\n",
              "      <td>67.0</td>\n",
              "      <td>120.1</td>\n",
              "      <td>122.1</td>\n",
              "      <td>228.8</td>\n",
              "      <td>227.1</td>\n",
              "      <td>14829099.0</td>\n",
              "      <td>15078243.0</td>\n",
              "      <td>0.0</td>\n",
              "      <td>1777841.0</td>\n",
              "      <td>6066245.0</td>\n",
              "      <td>87631.0</td>\n",
              "      <td>8763105.0</td>\n",
              "      <td>0.0</td>\n",
              "      <td>507.70</td>\n",
              "      <td>4.02</td>\n",
              "      <td>No</td>\n",
              "      <td>NaN</td>\n",
              "      <td>Compliant</td>\n",
              "      <td>NaN</td>\n",
              "      <td>NaN</td>\n",
              "      <td>56.0</td>\n",
              "      <td>NaN</td>\n",
              "      <td>31.0</td>\n",
              "      <td>19576</td>\n",
              "    </tr>\n",
              "  </tbody>\n",
              "</table>\n",
              "</div>\n",
              "      <button class=\"colab-df-convert\" onclick=\"convertToInteractive('df-80c492ec-3b7b-4191-8cf1-42839291d811')\"\n",
              "              title=\"Convert this dataframe to an interactive table.\"\n",
              "              style=\"display:none;\">\n",
              "        \n",
              "  <svg xmlns=\"http://www.w3.org/2000/svg\" height=\"24px\"viewBox=\"0 0 24 24\"\n",
              "       width=\"24px\">\n",
              "    <path d=\"M0 0h24v24H0V0z\" fill=\"none\"/>\n",
              "    <path d=\"M18.56 5.44l.94 2.06.94-2.06 2.06-.94-2.06-.94-.94-2.06-.94 2.06-2.06.94zm-11 1L8.5 8.5l.94-2.06 2.06-.94-2.06-.94L8.5 2.5l-.94 2.06-2.06.94zm10 10l.94 2.06.94-2.06 2.06-.94-2.06-.94-.94-2.06-.94 2.06-2.06.94z\"/><path d=\"M17.41 7.96l-1.37-1.37c-.4-.4-.92-.59-1.43-.59-.52 0-1.04.2-1.43.59L10.3 9.45l-7.72 7.72c-.78.78-.78 2.05 0 2.83L4 21.41c.39.39.9.59 1.41.59.51 0 1.02-.2 1.41-.59l7.78-7.78 2.81-2.81c.8-.78.8-2.07 0-2.86zM5.41 20L4 18.59l7.72-7.72 1.47 1.35L5.41 20z\"/>\n",
              "  </svg>\n",
              "      </button>\n",
              "      \n",
              "  <style>\n",
              "    .colab-df-container {\n",
              "      display:flex;\n",
              "      flex-wrap:wrap;\n",
              "      gap: 12px;\n",
              "    }\n",
              "\n",
              "    .colab-df-convert {\n",
              "      background-color: #E8F0FE;\n",
              "      border: none;\n",
              "      border-radius: 50%;\n",
              "      cursor: pointer;\n",
              "      display: none;\n",
              "      fill: #1967D2;\n",
              "      height: 32px;\n",
              "      padding: 0 0 0 0;\n",
              "      width: 32px;\n",
              "    }\n",
              "\n",
              "    .colab-df-convert:hover {\n",
              "      background-color: #E2EBFA;\n",
              "      box-shadow: 0px 1px 2px rgba(60, 64, 67, 0.3), 0px 1px 3px 1px rgba(60, 64, 67, 0.15);\n",
              "      fill: #174EA6;\n",
              "    }\n",
              "\n",
              "    [theme=dark] .colab-df-convert {\n",
              "      background-color: #3B4455;\n",
              "      fill: #D2E3FC;\n",
              "    }\n",
              "\n",
              "    [theme=dark] .colab-df-convert:hover {\n",
              "      background-color: #434B5C;\n",
              "      box-shadow: 0px 1px 3px 1px rgba(0, 0, 0, 0.15);\n",
              "      filter: drop-shadow(0px 1px 2px rgba(0, 0, 0, 0.3));\n",
              "      fill: #FFFFFF;\n",
              "    }\n",
              "  </style>\n",
              "\n",
              "      <script>\n",
              "        const buttonEl =\n",
              "          document.querySelector('#df-80c492ec-3b7b-4191-8cf1-42839291d811 button.colab-df-convert');\n",
              "        buttonEl.style.display =\n",
              "          google.colab.kernel.accessAllowed ? 'block' : 'none';\n",
              "\n",
              "        async function convertToInteractive(key) {\n",
              "          const element = document.querySelector('#df-80c492ec-3b7b-4191-8cf1-42839291d811');\n",
              "          const dataTable =\n",
              "            await google.colab.kernel.invokeFunction('convertToInteractive',\n",
              "                                                     [key], {});\n",
              "          if (!dataTable) return;\n",
              "\n",
              "          const docLinkHtml = 'Like what you see? Visit the ' +\n",
              "            '<a target=\"_blank\" href=https://colab.research.google.com/notebooks/data_table.ipynb>data table notebook</a>'\n",
              "            + ' to learn more about interactive tables.';\n",
              "          element.innerHTML = '';\n",
              "          dataTable['output_type'] = 'display_data';\n",
              "          await google.colab.output.renderOutput(dataTable, element);\n",
              "          const docLink = document.createElement('div');\n",
              "          docLink.innerHTML = docLinkHtml;\n",
              "          element.appendChild(docLink);\n",
              "        }\n",
              "      </script>\n",
              "    </div>\n",
              "  </div>\n",
              "  "
            ],
            "text/plain": [
              "   OSEBuildingID  DataYear  ... SPD Beats Zip Codes\n",
              "0              1      2015  ...      31.0     18081\n",
              "1              2      2015  ...      31.0     18081\n",
              "2              3      2015  ...      31.0     18081\n",
              "3              5      2015  ...      31.0     18081\n",
              "4              8      2015  ...      31.0     19576\n",
              "\n",
              "[5 rows x 47 columns]"
            ]
          },
          "metadata": {},
          "execution_count": 8
        }
      ]
    },
    {
      "cell_type": "code",
      "source": [
        "df_2016.head()"
      ],
      "metadata": {
        "colab": {
          "base_uri": "https://localhost:8080/",
          "height": 392
        },
        "id": "G22tNBGbYKrd",
        "outputId": "af7fe77c-ba50-40c0-9d78-e5f9e6136eeb"
      },
      "execution_count": null,
      "outputs": [
        {
          "output_type": "execute_result",
          "data": {
            "text/html": [
              "\n",
              "  <div id=\"df-ccf365f1-3fb7-4f1b-8ba4-40965ccfdb38\">\n",
              "    <div class=\"colab-df-container\">\n",
              "      <div>\n",
              "<style scoped>\n",
              "    .dataframe tbody tr th:only-of-type {\n",
              "        vertical-align: middle;\n",
              "    }\n",
              "\n",
              "    .dataframe tbody tr th {\n",
              "        vertical-align: top;\n",
              "    }\n",
              "\n",
              "    .dataframe thead th {\n",
              "        text-align: right;\n",
              "    }\n",
              "</style>\n",
              "<table border=\"1\" class=\"dataframe\">\n",
              "  <thead>\n",
              "    <tr style=\"text-align: right;\">\n",
              "      <th></th>\n",
              "      <th>OSEBuildingID</th>\n",
              "      <th>DataYear</th>\n",
              "      <th>BuildingType</th>\n",
              "      <th>PrimaryPropertyType</th>\n",
              "      <th>PropertyName</th>\n",
              "      <th>Address</th>\n",
              "      <th>City</th>\n",
              "      <th>State</th>\n",
              "      <th>ZipCode</th>\n",
              "      <th>TaxParcelIdentificationNumber</th>\n",
              "      <th>CouncilDistrictCode</th>\n",
              "      <th>Neighborhood</th>\n",
              "      <th>Latitude</th>\n",
              "      <th>Longitude</th>\n",
              "      <th>YearBuilt</th>\n",
              "      <th>NumberofBuildings</th>\n",
              "      <th>NumberofFloors</th>\n",
              "      <th>PropertyGFATotal</th>\n",
              "      <th>PropertyGFAParking</th>\n",
              "      <th>PropertyGFABuilding(s)</th>\n",
              "      <th>ListOfAllPropertyUseTypes</th>\n",
              "      <th>LargestPropertyUseType</th>\n",
              "      <th>LargestPropertyUseTypeGFA</th>\n",
              "      <th>SecondLargestPropertyUseType</th>\n",
              "      <th>SecondLargestPropertyUseTypeGFA</th>\n",
              "      <th>ThirdLargestPropertyUseType</th>\n",
              "      <th>ThirdLargestPropertyUseTypeGFA</th>\n",
              "      <th>YearsENERGYSTARCertified</th>\n",
              "      <th>ENERGYSTARScore</th>\n",
              "      <th>SiteEUI(kBtu/sf)</th>\n",
              "      <th>SiteEUIWN(kBtu/sf)</th>\n",
              "      <th>SourceEUI(kBtu/sf)</th>\n",
              "      <th>SourceEUIWN(kBtu/sf)</th>\n",
              "      <th>SiteEnergyUse(kBtu)</th>\n",
              "      <th>SiteEnergyUseWN(kBtu)</th>\n",
              "      <th>SteamUse(kBtu)</th>\n",
              "      <th>Electricity(kWh)</th>\n",
              "      <th>Electricity(kBtu)</th>\n",
              "      <th>NaturalGas(therms)</th>\n",
              "      <th>NaturalGas(kBtu)</th>\n",
              "      <th>DefaultData</th>\n",
              "      <th>Comments</th>\n",
              "      <th>ComplianceStatus</th>\n",
              "      <th>Outlier</th>\n",
              "      <th>TotalGHGEmissions</th>\n",
              "      <th>GHGEmissionsIntensity</th>\n",
              "    </tr>\n",
              "  </thead>\n",
              "  <tbody>\n",
              "    <tr>\n",
              "      <th>0</th>\n",
              "      <td>1</td>\n",
              "      <td>2016</td>\n",
              "      <td>NonResidential</td>\n",
              "      <td>Hotel</td>\n",
              "      <td>Mayflower park hotel</td>\n",
              "      <td>405 Olive way</td>\n",
              "      <td>Seattle</td>\n",
              "      <td>WA</td>\n",
              "      <td>98101.0</td>\n",
              "      <td>0659000030</td>\n",
              "      <td>7</td>\n",
              "      <td>DOWNTOWN</td>\n",
              "      <td>47.61220</td>\n",
              "      <td>-122.33799</td>\n",
              "      <td>1927</td>\n",
              "      <td>1.0</td>\n",
              "      <td>12</td>\n",
              "      <td>88434</td>\n",
              "      <td>0</td>\n",
              "      <td>88434</td>\n",
              "      <td>Hotel</td>\n",
              "      <td>Hotel</td>\n",
              "      <td>88434.0</td>\n",
              "      <td>NaN</td>\n",
              "      <td>NaN</td>\n",
              "      <td>NaN</td>\n",
              "      <td>NaN</td>\n",
              "      <td>NaN</td>\n",
              "      <td>60.0</td>\n",
              "      <td>81.699997</td>\n",
              "      <td>84.300003</td>\n",
              "      <td>182.500000</td>\n",
              "      <td>189.000000</td>\n",
              "      <td>7226362.5</td>\n",
              "      <td>7456910.0</td>\n",
              "      <td>2003882.00</td>\n",
              "      <td>1.156514e+06</td>\n",
              "      <td>3946027.0</td>\n",
              "      <td>12764.52930</td>\n",
              "      <td>1276453.0</td>\n",
              "      <td>False</td>\n",
              "      <td>NaN</td>\n",
              "      <td>Compliant</td>\n",
              "      <td>NaN</td>\n",
              "      <td>249.98</td>\n",
              "      <td>2.83</td>\n",
              "    </tr>\n",
              "    <tr>\n",
              "      <th>1</th>\n",
              "      <td>2</td>\n",
              "      <td>2016</td>\n",
              "      <td>NonResidential</td>\n",
              "      <td>Hotel</td>\n",
              "      <td>Paramount Hotel</td>\n",
              "      <td>724 Pine street</td>\n",
              "      <td>Seattle</td>\n",
              "      <td>WA</td>\n",
              "      <td>98101.0</td>\n",
              "      <td>0659000220</td>\n",
              "      <td>7</td>\n",
              "      <td>DOWNTOWN</td>\n",
              "      <td>47.61317</td>\n",
              "      <td>-122.33393</td>\n",
              "      <td>1996</td>\n",
              "      <td>1.0</td>\n",
              "      <td>11</td>\n",
              "      <td>103566</td>\n",
              "      <td>15064</td>\n",
              "      <td>88502</td>\n",
              "      <td>Hotel, Parking, Restaurant</td>\n",
              "      <td>Hotel</td>\n",
              "      <td>83880.0</td>\n",
              "      <td>Parking</td>\n",
              "      <td>15064.0</td>\n",
              "      <td>Restaurant</td>\n",
              "      <td>4622.0</td>\n",
              "      <td>NaN</td>\n",
              "      <td>61.0</td>\n",
              "      <td>94.800003</td>\n",
              "      <td>97.900002</td>\n",
              "      <td>176.100006</td>\n",
              "      <td>179.399994</td>\n",
              "      <td>8387933.0</td>\n",
              "      <td>8664479.0</td>\n",
              "      <td>0.00</td>\n",
              "      <td>9.504252e+05</td>\n",
              "      <td>3242851.0</td>\n",
              "      <td>51450.81641</td>\n",
              "      <td>5145082.0</td>\n",
              "      <td>False</td>\n",
              "      <td>NaN</td>\n",
              "      <td>Compliant</td>\n",
              "      <td>NaN</td>\n",
              "      <td>295.86</td>\n",
              "      <td>2.86</td>\n",
              "    </tr>\n",
              "    <tr>\n",
              "      <th>2</th>\n",
              "      <td>3</td>\n",
              "      <td>2016</td>\n",
              "      <td>NonResidential</td>\n",
              "      <td>Hotel</td>\n",
              "      <td>5673-The Westin Seattle</td>\n",
              "      <td>1900 5th Avenue</td>\n",
              "      <td>Seattle</td>\n",
              "      <td>WA</td>\n",
              "      <td>98101.0</td>\n",
              "      <td>0659000475</td>\n",
              "      <td>7</td>\n",
              "      <td>DOWNTOWN</td>\n",
              "      <td>47.61393</td>\n",
              "      <td>-122.33810</td>\n",
              "      <td>1969</td>\n",
              "      <td>1.0</td>\n",
              "      <td>41</td>\n",
              "      <td>956110</td>\n",
              "      <td>196718</td>\n",
              "      <td>759392</td>\n",
              "      <td>Hotel</td>\n",
              "      <td>Hotel</td>\n",
              "      <td>756493.0</td>\n",
              "      <td>NaN</td>\n",
              "      <td>NaN</td>\n",
              "      <td>NaN</td>\n",
              "      <td>NaN</td>\n",
              "      <td>NaN</td>\n",
              "      <td>43.0</td>\n",
              "      <td>96.000000</td>\n",
              "      <td>97.699997</td>\n",
              "      <td>241.899994</td>\n",
              "      <td>244.100006</td>\n",
              "      <td>72587024.0</td>\n",
              "      <td>73937112.0</td>\n",
              "      <td>21566554.00</td>\n",
              "      <td>1.451544e+07</td>\n",
              "      <td>49526664.0</td>\n",
              "      <td>14938.00000</td>\n",
              "      <td>1493800.0</td>\n",
              "      <td>False</td>\n",
              "      <td>NaN</td>\n",
              "      <td>Compliant</td>\n",
              "      <td>NaN</td>\n",
              "      <td>2089.28</td>\n",
              "      <td>2.19</td>\n",
              "    </tr>\n",
              "    <tr>\n",
              "      <th>3</th>\n",
              "      <td>5</td>\n",
              "      <td>2016</td>\n",
              "      <td>NonResidential</td>\n",
              "      <td>Hotel</td>\n",
              "      <td>HOTEL MAX</td>\n",
              "      <td>620 STEWART ST</td>\n",
              "      <td>Seattle</td>\n",
              "      <td>WA</td>\n",
              "      <td>98101.0</td>\n",
              "      <td>0659000640</td>\n",
              "      <td>7</td>\n",
              "      <td>DOWNTOWN</td>\n",
              "      <td>47.61412</td>\n",
              "      <td>-122.33664</td>\n",
              "      <td>1926</td>\n",
              "      <td>1.0</td>\n",
              "      <td>10</td>\n",
              "      <td>61320</td>\n",
              "      <td>0</td>\n",
              "      <td>61320</td>\n",
              "      <td>Hotel</td>\n",
              "      <td>Hotel</td>\n",
              "      <td>61320.0</td>\n",
              "      <td>NaN</td>\n",
              "      <td>NaN</td>\n",
              "      <td>NaN</td>\n",
              "      <td>NaN</td>\n",
              "      <td>NaN</td>\n",
              "      <td>56.0</td>\n",
              "      <td>110.800003</td>\n",
              "      <td>113.300003</td>\n",
              "      <td>216.199997</td>\n",
              "      <td>224.000000</td>\n",
              "      <td>6794584.0</td>\n",
              "      <td>6946800.5</td>\n",
              "      <td>2214446.25</td>\n",
              "      <td>8.115253e+05</td>\n",
              "      <td>2768924.0</td>\n",
              "      <td>18112.13086</td>\n",
              "      <td>1811213.0</td>\n",
              "      <td>False</td>\n",
              "      <td>NaN</td>\n",
              "      <td>Compliant</td>\n",
              "      <td>NaN</td>\n",
              "      <td>286.43</td>\n",
              "      <td>4.67</td>\n",
              "    </tr>\n",
              "    <tr>\n",
              "      <th>4</th>\n",
              "      <td>8</td>\n",
              "      <td>2016</td>\n",
              "      <td>NonResidential</td>\n",
              "      <td>Hotel</td>\n",
              "      <td>WARWICK SEATTLE HOTEL (ID8)</td>\n",
              "      <td>401 LENORA ST</td>\n",
              "      <td>Seattle</td>\n",
              "      <td>WA</td>\n",
              "      <td>98121.0</td>\n",
              "      <td>0659000970</td>\n",
              "      <td>7</td>\n",
              "      <td>DOWNTOWN</td>\n",
              "      <td>47.61375</td>\n",
              "      <td>-122.34047</td>\n",
              "      <td>1980</td>\n",
              "      <td>1.0</td>\n",
              "      <td>18</td>\n",
              "      <td>175580</td>\n",
              "      <td>62000</td>\n",
              "      <td>113580</td>\n",
              "      <td>Hotel, Parking, Swimming Pool</td>\n",
              "      <td>Hotel</td>\n",
              "      <td>123445.0</td>\n",
              "      <td>Parking</td>\n",
              "      <td>68009.0</td>\n",
              "      <td>Swimming Pool</td>\n",
              "      <td>0.0</td>\n",
              "      <td>NaN</td>\n",
              "      <td>75.0</td>\n",
              "      <td>114.800003</td>\n",
              "      <td>118.699997</td>\n",
              "      <td>211.399994</td>\n",
              "      <td>215.600006</td>\n",
              "      <td>14172606.0</td>\n",
              "      <td>14656503.0</td>\n",
              "      <td>0.00</td>\n",
              "      <td>1.573449e+06</td>\n",
              "      <td>5368607.0</td>\n",
              "      <td>88039.98438</td>\n",
              "      <td>8803998.0</td>\n",
              "      <td>False</td>\n",
              "      <td>NaN</td>\n",
              "      <td>Compliant</td>\n",
              "      <td>NaN</td>\n",
              "      <td>505.01</td>\n",
              "      <td>2.88</td>\n",
              "    </tr>\n",
              "  </tbody>\n",
              "</table>\n",
              "</div>\n",
              "      <button class=\"colab-df-convert\" onclick=\"convertToInteractive('df-ccf365f1-3fb7-4f1b-8ba4-40965ccfdb38')\"\n",
              "              title=\"Convert this dataframe to an interactive table.\"\n",
              "              style=\"display:none;\">\n",
              "        \n",
              "  <svg xmlns=\"http://www.w3.org/2000/svg\" height=\"24px\"viewBox=\"0 0 24 24\"\n",
              "       width=\"24px\">\n",
              "    <path d=\"M0 0h24v24H0V0z\" fill=\"none\"/>\n",
              "    <path d=\"M18.56 5.44l.94 2.06.94-2.06 2.06-.94-2.06-.94-.94-2.06-.94 2.06-2.06.94zm-11 1L8.5 8.5l.94-2.06 2.06-.94-2.06-.94L8.5 2.5l-.94 2.06-2.06.94zm10 10l.94 2.06.94-2.06 2.06-.94-2.06-.94-.94-2.06-.94 2.06-2.06.94z\"/><path d=\"M17.41 7.96l-1.37-1.37c-.4-.4-.92-.59-1.43-.59-.52 0-1.04.2-1.43.59L10.3 9.45l-7.72 7.72c-.78.78-.78 2.05 0 2.83L4 21.41c.39.39.9.59 1.41.59.51 0 1.02-.2 1.41-.59l7.78-7.78 2.81-2.81c.8-.78.8-2.07 0-2.86zM5.41 20L4 18.59l7.72-7.72 1.47 1.35L5.41 20z\"/>\n",
              "  </svg>\n",
              "      </button>\n",
              "      \n",
              "  <style>\n",
              "    .colab-df-container {\n",
              "      display:flex;\n",
              "      flex-wrap:wrap;\n",
              "      gap: 12px;\n",
              "    }\n",
              "\n",
              "    .colab-df-convert {\n",
              "      background-color: #E8F0FE;\n",
              "      border: none;\n",
              "      border-radius: 50%;\n",
              "      cursor: pointer;\n",
              "      display: none;\n",
              "      fill: #1967D2;\n",
              "      height: 32px;\n",
              "      padding: 0 0 0 0;\n",
              "      width: 32px;\n",
              "    }\n",
              "\n",
              "    .colab-df-convert:hover {\n",
              "      background-color: #E2EBFA;\n",
              "      box-shadow: 0px 1px 2px rgba(60, 64, 67, 0.3), 0px 1px 3px 1px rgba(60, 64, 67, 0.15);\n",
              "      fill: #174EA6;\n",
              "    }\n",
              "\n",
              "    [theme=dark] .colab-df-convert {\n",
              "      background-color: #3B4455;\n",
              "      fill: #D2E3FC;\n",
              "    }\n",
              "\n",
              "    [theme=dark] .colab-df-convert:hover {\n",
              "      background-color: #434B5C;\n",
              "      box-shadow: 0px 1px 3px 1px rgba(0, 0, 0, 0.15);\n",
              "      filter: drop-shadow(0px 1px 2px rgba(0, 0, 0, 0.3));\n",
              "      fill: #FFFFFF;\n",
              "    }\n",
              "  </style>\n",
              "\n",
              "      <script>\n",
              "        const buttonEl =\n",
              "          document.querySelector('#df-ccf365f1-3fb7-4f1b-8ba4-40965ccfdb38 button.colab-df-convert');\n",
              "        buttonEl.style.display =\n",
              "          google.colab.kernel.accessAllowed ? 'block' : 'none';\n",
              "\n",
              "        async function convertToInteractive(key) {\n",
              "          const element = document.querySelector('#df-ccf365f1-3fb7-4f1b-8ba4-40965ccfdb38');\n",
              "          const dataTable =\n",
              "            await google.colab.kernel.invokeFunction('convertToInteractive',\n",
              "                                                     [key], {});\n",
              "          if (!dataTable) return;\n",
              "\n",
              "          const docLinkHtml = 'Like what you see? Visit the ' +\n",
              "            '<a target=\"_blank\" href=https://colab.research.google.com/notebooks/data_table.ipynb>data table notebook</a>'\n",
              "            + ' to learn more about interactive tables.';\n",
              "          element.innerHTML = '';\n",
              "          dataTable['output_type'] = 'display_data';\n",
              "          await google.colab.output.renderOutput(dataTable, element);\n",
              "          const docLink = document.createElement('div');\n",
              "          docLink.innerHTML = docLinkHtml;\n",
              "          element.appendChild(docLink);\n",
              "        }\n",
              "      </script>\n",
              "    </div>\n",
              "  </div>\n",
              "  "
            ],
            "text/plain": [
              "   OSEBuildingID  DataYear  ... TotalGHGEmissions GHGEmissionsIntensity\n",
              "0              1      2016  ...            249.98                  2.83\n",
              "1              2      2016  ...            295.86                  2.86\n",
              "2              3      2016  ...           2089.28                  2.19\n",
              "3              5      2016  ...            286.43                  4.67\n",
              "4              8      2016  ...            505.01                  2.88\n",
              "\n",
              "[5 rows x 46 columns]"
            ]
          },
          "metadata": {},
          "execution_count": 9
        }
      ]
    },
    {
      "cell_type": "code",
      "source": [
        "df_2016.columns"
      ],
      "metadata": {
        "colab": {
          "base_uri": "https://localhost:8080/"
        },
        "id": "4Awwrn4JZ3hB",
        "outputId": "3bc2ef89-4dfd-4657-fbd6-d3aa95eb8677"
      },
      "execution_count": null,
      "outputs": [
        {
          "output_type": "execute_result",
          "data": {
            "text/plain": [
              "Index(['OSEBuildingID', 'DataYear', 'BuildingType', 'PrimaryPropertyType',\n",
              "       'PropertyName', 'Address', 'City', 'State', 'ZipCode',\n",
              "       'TaxParcelIdentificationNumber', 'CouncilDistrictCode', 'Neighborhood',\n",
              "       'Latitude', 'Longitude', 'YearBuilt', 'NumberofBuildings',\n",
              "       'NumberofFloors', 'PropertyGFATotal', 'PropertyGFAParking',\n",
              "       'PropertyGFABuilding(s)', 'ListOfAllPropertyUseTypes',\n",
              "       'LargestPropertyUseType', 'LargestPropertyUseTypeGFA',\n",
              "       'SecondLargestPropertyUseType', 'SecondLargestPropertyUseTypeGFA',\n",
              "       'ThirdLargestPropertyUseType', 'ThirdLargestPropertyUseTypeGFA',\n",
              "       'YearsENERGYSTARCertified', 'ENERGYSTARScore', 'SiteEUI(kBtu/sf)',\n",
              "       'SiteEUIWN(kBtu/sf)', 'SourceEUI(kBtu/sf)', 'SourceEUIWN(kBtu/sf)',\n",
              "       'SiteEnergyUse(kBtu)', 'SiteEnergyUseWN(kBtu)', 'SteamUse(kBtu)',\n",
              "       'Electricity(kWh)', 'Electricity(kBtu)', 'NaturalGas(therms)',\n",
              "       'NaturalGas(kBtu)', 'DefaultData', 'Comments', 'ComplianceStatus',\n",
              "       'Outlier', 'TotalGHGEmissions', 'GHGEmissionsIntensity'],\n",
              "      dtype='object')"
            ]
          },
          "metadata": {},
          "execution_count": 10
        }
      ]
    },
    {
      "cell_type": "code",
      "source": [
        "df_2015.columns"
      ],
      "metadata": {
        "colab": {
          "base_uri": "https://localhost:8080/"
        },
        "id": "bypHvNUuYkG6",
        "outputId": "1ab0843a-d4ea-4122-cf1e-c9c69af5427f"
      },
      "execution_count": null,
      "outputs": [
        {
          "output_type": "execute_result",
          "data": {
            "text/plain": [
              "Index(['OSEBuildingID', 'DataYear', 'BuildingType', 'PrimaryPropertyType',\n",
              "       'PropertyName', 'TaxParcelIdentificationNumber', 'Location',\n",
              "       'CouncilDistrictCode', 'Neighborhood', 'YearBuilt', 'NumberofBuildings',\n",
              "       'NumberofFloors', 'PropertyGFATotal', 'PropertyGFAParking',\n",
              "       'PropertyGFABuilding(s)', 'ListOfAllPropertyUseTypes',\n",
              "       'LargestPropertyUseType', 'LargestPropertyUseTypeGFA',\n",
              "       'SecondLargestPropertyUseType', 'SecondLargestPropertyUseTypeGFA',\n",
              "       'ThirdLargestPropertyUseType', 'ThirdLargestPropertyUseTypeGFA',\n",
              "       'YearsENERGYSTARCertified', 'ENERGYSTARScore', 'SiteEUI(kBtu/sf)',\n",
              "       'SiteEUIWN(kBtu/sf)', 'SourceEUI(kBtu/sf)', 'SourceEUIWN(kBtu/sf)',\n",
              "       'SiteEnergyUse(kBtu)', 'SiteEnergyUseWN(kBtu)', 'SteamUse(kBtu)',\n",
              "       'Electricity(kWh)', 'Electricity(kBtu)', 'NaturalGas(therms)',\n",
              "       'NaturalGas(kBtu)', 'OtherFuelUse(kBtu)',\n",
              "       'GHGEmissions(MetricTonsCO2e)', 'GHGEmissionsIntensity(kgCO2e/ft2)',\n",
              "       'DefaultData', 'Comment', 'ComplianceStatus', 'Outlier',\n",
              "       '2010 Census Tracts',\n",
              "       'Seattle Police Department Micro Community Policing Plan Areas',\n",
              "       'City Council Districts', 'SPD Beats', 'Zip Codes'],\n",
              "      dtype='object')"
            ]
          },
          "metadata": {},
          "execution_count": 11
        }
      ]
    },
    {
      "cell_type": "code",
      "source": [
        "df_2015.describe()"
      ],
      "metadata": {
        "id": "5M7DLz25hw7f",
        "colab": {
          "base_uri": "https://localhost:8080/",
          "height": 468
        },
        "outputId": "c02044e0-6ac1-48dc-bcaa-ef5cce8bf27a"
      },
      "execution_count": null,
      "outputs": [
        {
          "output_type": "execute_result",
          "data": {
            "text/html": [
              "\n",
              "  <div id=\"df-221ba003-6a46-40ed-91ff-e4286e29c4dd\">\n",
              "    <div class=\"colab-df-container\">\n",
              "      <div>\n",
              "<style scoped>\n",
              "    .dataframe tbody tr th:only-of-type {\n",
              "        vertical-align: middle;\n",
              "    }\n",
              "\n",
              "    .dataframe tbody tr th {\n",
              "        vertical-align: top;\n",
              "    }\n",
              "\n",
              "    .dataframe thead th {\n",
              "        text-align: right;\n",
              "    }\n",
              "</style>\n",
              "<table border=\"1\" class=\"dataframe\">\n",
              "  <thead>\n",
              "    <tr style=\"text-align: right;\">\n",
              "      <th></th>\n",
              "      <th>OSEBuildingID</th>\n",
              "      <th>DataYear</th>\n",
              "      <th>CouncilDistrictCode</th>\n",
              "      <th>YearBuilt</th>\n",
              "      <th>NumberofBuildings</th>\n",
              "      <th>NumberofFloors</th>\n",
              "      <th>PropertyGFATotal</th>\n",
              "      <th>PropertyGFAParking</th>\n",
              "      <th>PropertyGFABuilding(s)</th>\n",
              "      <th>LargestPropertyUseTypeGFA</th>\n",
              "      <th>SecondLargestPropertyUseTypeGFA</th>\n",
              "      <th>ThirdLargestPropertyUseTypeGFA</th>\n",
              "      <th>ENERGYSTARScore</th>\n",
              "      <th>SiteEUI(kBtu/sf)</th>\n",
              "      <th>SiteEUIWN(kBtu/sf)</th>\n",
              "      <th>SourceEUI(kBtu/sf)</th>\n",
              "      <th>SourceEUIWN(kBtu/sf)</th>\n",
              "      <th>SiteEnergyUse(kBtu)</th>\n",
              "      <th>SiteEnergyUseWN(kBtu)</th>\n",
              "      <th>SteamUse(kBtu)</th>\n",
              "      <th>Electricity(kWh)</th>\n",
              "      <th>Electricity(kBtu)</th>\n",
              "      <th>NaturalGas(therms)</th>\n",
              "      <th>NaturalGas(kBtu)</th>\n",
              "      <th>OtherFuelUse(kBtu)</th>\n",
              "      <th>GHGEmissions(MetricTonsCO2e)</th>\n",
              "      <th>GHGEmissionsIntensity(kgCO2e/ft2)</th>\n",
              "      <th>2010 Census Tracts</th>\n",
              "      <th>Seattle Police Department Micro Community Policing Plan Areas</th>\n",
              "      <th>City Council Districts</th>\n",
              "      <th>SPD Beats</th>\n",
              "      <th>Zip Codes</th>\n",
              "    </tr>\n",
              "  </thead>\n",
              "  <tbody>\n",
              "    <tr>\n",
              "      <th>count</th>\n",
              "      <td>3340.000000</td>\n",
              "      <td>3340.0</td>\n",
              "      <td>3340.000000</td>\n",
              "      <td>3340.000000</td>\n",
              "      <td>3340.000000</td>\n",
              "      <td>3332.000000</td>\n",
              "      <td>3.340000e+03</td>\n",
              "      <td>3340.000000</td>\n",
              "      <td>3.340000e+03</td>\n",
              "      <td>3.204000e+03</td>\n",
              "      <td>1559.000000</td>\n",
              "      <td>560.000000</td>\n",
              "      <td>2560.000000</td>\n",
              "      <td>3330.000000</td>\n",
              "      <td>3330.000000</td>\n",
              "      <td>3330.000000</td>\n",
              "      <td>3330.000000</td>\n",
              "      <td>3.330000e+03</td>\n",
              "      <td>3.330000e+03</td>\n",
              "      <td>3.330000e+03</td>\n",
              "      <td>3.330000e+03</td>\n",
              "      <td>3.330000e+03</td>\n",
              "      <td>3.330000e+03</td>\n",
              "      <td>3.330000e+03</td>\n",
              "      <td>3.330000e+03</td>\n",
              "      <td>3330.000000</td>\n",
              "      <td>3330.000000</td>\n",
              "      <td>224.000000</td>\n",
              "      <td>3338.000000</td>\n",
              "      <td>213.000000</td>\n",
              "      <td>3338.000000</td>\n",
              "      <td>3340.000000</td>\n",
              "    </tr>\n",
              "    <tr>\n",
              "      <th>mean</th>\n",
              "      <td>20522.168263</td>\n",
              "      <td>2015.0</td>\n",
              "      <td>4.450898</td>\n",
              "      <td>1967.624850</td>\n",
              "      <td>1.035629</td>\n",
              "      <td>4.682173</td>\n",
              "      <td>9.077289e+04</td>\n",
              "      <td>11054.032335</td>\n",
              "      <td>7.971886e+04</td>\n",
              "      <td>7.488154e+04</td>\n",
              "      <td>27675.646568</td>\n",
              "      <td>10755.708929</td>\n",
              "      <td>67.894141</td>\n",
              "      <td>53.626126</td>\n",
              "      <td>57.586547</td>\n",
              "      <td>132.779730</td>\n",
              "      <td>138.936036</td>\n",
              "      <td>4.983106e+06</td>\n",
              "      <td>5.203055e+06</td>\n",
              "      <td>2.502851e+05</td>\n",
              "      <td>1.017897e+06</td>\n",
              "      <td>3.473209e+06</td>\n",
              "      <td>1.253304e+04</td>\n",
              "      <td>1.253304e+06</td>\n",
              "      <td>7.142301e+03</td>\n",
              "      <td>110.094102</td>\n",
              "      <td>0.985339</td>\n",
              "      <td>123.062500</td>\n",
              "      <td>32.380168</td>\n",
              "      <td>1.347418</td>\n",
              "      <td>24.825644</td>\n",
              "      <td>18786.680240</td>\n",
              "    </tr>\n",
              "    <tr>\n",
              "      <th>std</th>\n",
              "      <td>11511.515874</td>\n",
              "      <td>0.0</td>\n",
              "      <td>2.127203</td>\n",
              "      <td>32.949847</td>\n",
              "      <td>0.784463</td>\n",
              "      <td>5.458460</td>\n",
              "      <td>1.493058e+05</td>\n",
              "      <td>35296.330507</td>\n",
              "      <td>1.292314e+05</td>\n",
              "      <td>1.236249e+05</td>\n",
              "      <td>52480.843425</td>\n",
              "      <td>22618.529737</td>\n",
              "      <td>27.154057</td>\n",
              "      <td>53.893311</td>\n",
              "      <td>55.604963</td>\n",
              "      <td>131.943223</td>\n",
              "      <td>131.359121</td>\n",
              "      <td>1.375330e+07</td>\n",
              "      <td>1.400757e+07</td>\n",
              "      <td>3.481900e+06</td>\n",
              "      <td>2.789931e+06</td>\n",
              "      <td>9.519639e+06</td>\n",
              "      <td>4.415142e+04</td>\n",
              "      <td>4.415142e+06</td>\n",
              "      <td>1.962790e+05</td>\n",
              "      <td>409.450179</td>\n",
              "      <td>1.637172</td>\n",
              "      <td>5.812128</td>\n",
              "      <td>19.907567</td>\n",
              "      <td>0.477272</td>\n",
              "      <td>15.006287</td>\n",
              "      <td>588.604192</td>\n",
              "    </tr>\n",
              "    <tr>\n",
              "      <th>min</th>\n",
              "      <td>1.000000</td>\n",
              "      <td>2015.0</td>\n",
              "      <td>1.000000</td>\n",
              "      <td>1900.000000</td>\n",
              "      <td>1.000000</td>\n",
              "      <td>0.000000</td>\n",
              "      <td>2.000000e+04</td>\n",
              "      <td>-3.000000</td>\n",
              "      <td>-5.055000e+04</td>\n",
              "      <td>5.872000e+03</td>\n",
              "      <td>0.000000</td>\n",
              "      <td>0.000000</td>\n",
              "      <td>1.000000</td>\n",
              "      <td>0.000000</td>\n",
              "      <td>0.000000</td>\n",
              "      <td>-2.000000</td>\n",
              "      <td>-2.000000</td>\n",
              "      <td>0.000000e+00</td>\n",
              "      <td>0.000000e+00</td>\n",
              "      <td>0.000000e+00</td>\n",
              "      <td>0.000000e+00</td>\n",
              "      <td>0.000000e+00</td>\n",
              "      <td>0.000000e+00</td>\n",
              "      <td>0.000000e+00</td>\n",
              "      <td>0.000000e+00</td>\n",
              "      <td>0.000000</td>\n",
              "      <td>0.000000</td>\n",
              "      <td>116.000000</td>\n",
              "      <td>1.000000</td>\n",
              "      <td>1.000000</td>\n",
              "      <td>1.000000</td>\n",
              "      <td>17916.000000</td>\n",
              "    </tr>\n",
              "    <tr>\n",
              "      <th>25%</th>\n",
              "      <td>19921.750000</td>\n",
              "      <td>2015.0</td>\n",
              "      <td>3.000000</td>\n",
              "      <td>1947.000000</td>\n",
              "      <td>1.000000</td>\n",
              "      <td>2.000000</td>\n",
              "      <td>2.848700e+04</td>\n",
              "      <td>0.000000</td>\n",
              "      <td>2.668300e+04</td>\n",
              "      <td>2.500000e+04</td>\n",
              "      <td>4959.000000</td>\n",
              "      <td>2385.250000</td>\n",
              "      <td>51.750000</td>\n",
              "      <td>27.300000</td>\n",
              "      <td>29.700000</td>\n",
              "      <td>73.500000</td>\n",
              "      <td>80.300000</td>\n",
              "      <td>9.139300e+05</td>\n",
              "      <td>9.883248e+05</td>\n",
              "      <td>0.000000e+00</td>\n",
              "      <td>1.864908e+05</td>\n",
              "      <td>6.363322e+05</td>\n",
              "      <td>0.000000e+00</td>\n",
              "      <td>0.000000e+00</td>\n",
              "      <td>0.000000e+00</td>\n",
              "      <td>9.265000</td>\n",
              "      <td>0.080000</td>\n",
              "      <td>117.000000</td>\n",
              "      <td>14.000000</td>\n",
              "      <td>1.000000</td>\n",
              "      <td>10.000000</td>\n",
              "      <td>18379.000000</td>\n",
              "    </tr>\n",
              "    <tr>\n",
              "      <th>50%</th>\n",
              "      <td>22977.000000</td>\n",
              "      <td>2015.0</td>\n",
              "      <td>4.000000</td>\n",
              "      <td>1973.000000</td>\n",
              "      <td>1.000000</td>\n",
              "      <td>4.000000</td>\n",
              "      <td>4.385500e+04</td>\n",
              "      <td>0.000000</td>\n",
              "      <td>4.132600e+04</td>\n",
              "      <td>3.900000e+04</td>\n",
              "      <td>10600.000000</td>\n",
              "      <td>5019.500000</td>\n",
              "      <td>76.000000</td>\n",
              "      <td>37.400000</td>\n",
              "      <td>40.900000</td>\n",
              "      <td>95.000000</td>\n",
              "      <td>102.800000</td>\n",
              "      <td>1.776219e+06</td>\n",
              "      <td>1.953996e+06</td>\n",
              "      <td>0.000000e+00</td>\n",
              "      <td>3.400320e+05</td>\n",
              "      <td>1.160236e+06</td>\n",
              "      <td>2.945500e+03</td>\n",
              "      <td>2.945770e+05</td>\n",
              "      <td>0.000000e+00</td>\n",
              "      <td>32.740000</td>\n",
              "      <td>0.460000</td>\n",
              "      <td>123.000000</td>\n",
              "      <td>33.000000</td>\n",
              "      <td>1.000000</td>\n",
              "      <td>26.000000</td>\n",
              "      <td>18390.000000</td>\n",
              "    </tr>\n",
              "    <tr>\n",
              "      <th>75%</th>\n",
              "      <td>25748.000000</td>\n",
              "      <td>2015.0</td>\n",
              "      <td>7.000000</td>\n",
              "      <td>1996.000000</td>\n",
              "      <td>1.000000</td>\n",
              "      <td>5.000000</td>\n",
              "      <td>8.842800e+04</td>\n",
              "      <td>4304.250000</td>\n",
              "      <td>7.872600e+04</td>\n",
              "      <td>7.206750e+04</td>\n",
              "      <td>26224.500000</td>\n",
              "      <td>10275.000000</td>\n",
              "      <td>90.000000</td>\n",
              "      <td>59.875000</td>\n",
              "      <td>65.575000</td>\n",
              "      <td>143.900000</td>\n",
              "      <td>151.275000</td>\n",
              "      <td>4.044277e+06</td>\n",
              "      <td>4.368462e+06</td>\n",
              "      <td>0.000000e+00</td>\n",
              "      <td>8.061935e+05</td>\n",
              "      <td>2.750847e+06</td>\n",
              "      <td>1.115325e+04</td>\n",
              "      <td>1.115366e+06</td>\n",
              "      <td>0.000000e+00</td>\n",
              "      <td>88.642500</td>\n",
              "      <td>1.180000</td>\n",
              "      <td>125.500000</td>\n",
              "      <td>50.000000</td>\n",
              "      <td>2.000000</td>\n",
              "      <td>38.000000</td>\n",
              "      <td>19576.000000</td>\n",
              "    </tr>\n",
              "    <tr>\n",
              "      <th>max</th>\n",
              "      <td>50059.000000</td>\n",
              "      <td>2015.0</td>\n",
              "      <td>7.000000</td>\n",
              "      <td>2015.000000</td>\n",
              "      <td>39.000000</td>\n",
              "      <td>99.000000</td>\n",
              "      <td>2.200000e+06</td>\n",
              "      <td>512608.000000</td>\n",
              "      <td>2.200000e+06</td>\n",
              "      <td>1.719643e+06</td>\n",
              "      <td>686750.000000</td>\n",
              "      <td>303910.000000</td>\n",
              "      <td>100.000000</td>\n",
              "      <td>800.600000</td>\n",
              "      <td>800.600000</td>\n",
              "      <td>2511.100000</td>\n",
              "      <td>2511.000000</td>\n",
              "      <td>2.958126e+08</td>\n",
              "      <td>2.977410e+08</td>\n",
              "      <td>1.278697e+08</td>\n",
              "      <td>8.344505e+07</td>\n",
              "      <td>2.847263e+08</td>\n",
              "      <td>1.364484e+06</td>\n",
              "      <td>1.364484e+08</td>\n",
              "      <td>8.269669e+06</td>\n",
              "      <td>11824.890000</td>\n",
              "      <td>31.380000</td>\n",
              "      <td>135.000000</td>\n",
              "      <td>61.000000</td>\n",
              "      <td>2.000000</td>\n",
              "      <td>51.000000</td>\n",
              "      <td>19584.000000</td>\n",
              "    </tr>\n",
              "  </tbody>\n",
              "</table>\n",
              "</div>\n",
              "      <button class=\"colab-df-convert\" onclick=\"convertToInteractive('df-221ba003-6a46-40ed-91ff-e4286e29c4dd')\"\n",
              "              title=\"Convert this dataframe to an interactive table.\"\n",
              "              style=\"display:none;\">\n",
              "        \n",
              "  <svg xmlns=\"http://www.w3.org/2000/svg\" height=\"24px\"viewBox=\"0 0 24 24\"\n",
              "       width=\"24px\">\n",
              "    <path d=\"M0 0h24v24H0V0z\" fill=\"none\"/>\n",
              "    <path d=\"M18.56 5.44l.94 2.06.94-2.06 2.06-.94-2.06-.94-.94-2.06-.94 2.06-2.06.94zm-11 1L8.5 8.5l.94-2.06 2.06-.94-2.06-.94L8.5 2.5l-.94 2.06-2.06.94zm10 10l.94 2.06.94-2.06 2.06-.94-2.06-.94-.94-2.06-.94 2.06-2.06.94z\"/><path d=\"M17.41 7.96l-1.37-1.37c-.4-.4-.92-.59-1.43-.59-.52 0-1.04.2-1.43.59L10.3 9.45l-7.72 7.72c-.78.78-.78 2.05 0 2.83L4 21.41c.39.39.9.59 1.41.59.51 0 1.02-.2 1.41-.59l7.78-7.78 2.81-2.81c.8-.78.8-2.07 0-2.86zM5.41 20L4 18.59l7.72-7.72 1.47 1.35L5.41 20z\"/>\n",
              "  </svg>\n",
              "      </button>\n",
              "      \n",
              "  <style>\n",
              "    .colab-df-container {\n",
              "      display:flex;\n",
              "      flex-wrap:wrap;\n",
              "      gap: 12px;\n",
              "    }\n",
              "\n",
              "    .colab-df-convert {\n",
              "      background-color: #E8F0FE;\n",
              "      border: none;\n",
              "      border-radius: 50%;\n",
              "      cursor: pointer;\n",
              "      display: none;\n",
              "      fill: #1967D2;\n",
              "      height: 32px;\n",
              "      padding: 0 0 0 0;\n",
              "      width: 32px;\n",
              "    }\n",
              "\n",
              "    .colab-df-convert:hover {\n",
              "      background-color: #E2EBFA;\n",
              "      box-shadow: 0px 1px 2px rgba(60, 64, 67, 0.3), 0px 1px 3px 1px rgba(60, 64, 67, 0.15);\n",
              "      fill: #174EA6;\n",
              "    }\n",
              "\n",
              "    [theme=dark] .colab-df-convert {\n",
              "      background-color: #3B4455;\n",
              "      fill: #D2E3FC;\n",
              "    }\n",
              "\n",
              "    [theme=dark] .colab-df-convert:hover {\n",
              "      background-color: #434B5C;\n",
              "      box-shadow: 0px 1px 3px 1px rgba(0, 0, 0, 0.15);\n",
              "      filter: drop-shadow(0px 1px 2px rgba(0, 0, 0, 0.3));\n",
              "      fill: #FFFFFF;\n",
              "    }\n",
              "  </style>\n",
              "\n",
              "      <script>\n",
              "        const buttonEl =\n",
              "          document.querySelector('#df-221ba003-6a46-40ed-91ff-e4286e29c4dd button.colab-df-convert');\n",
              "        buttonEl.style.display =\n",
              "          google.colab.kernel.accessAllowed ? 'block' : 'none';\n",
              "\n",
              "        async function convertToInteractive(key) {\n",
              "          const element = document.querySelector('#df-221ba003-6a46-40ed-91ff-e4286e29c4dd');\n",
              "          const dataTable =\n",
              "            await google.colab.kernel.invokeFunction('convertToInteractive',\n",
              "                                                     [key], {});\n",
              "          if (!dataTable) return;\n",
              "\n",
              "          const docLinkHtml = 'Like what you see? Visit the ' +\n",
              "            '<a target=\"_blank\" href=https://colab.research.google.com/notebooks/data_table.ipynb>data table notebook</a>'\n",
              "            + ' to learn more about interactive tables.';\n",
              "          element.innerHTML = '';\n",
              "          dataTable['output_type'] = 'display_data';\n",
              "          await google.colab.output.renderOutput(dataTable, element);\n",
              "          const docLink = document.createElement('div');\n",
              "          docLink.innerHTML = docLinkHtml;\n",
              "          element.appendChild(docLink);\n",
              "        }\n",
              "      </script>\n",
              "    </div>\n",
              "  </div>\n",
              "  "
            ],
            "text/plain": [
              "       OSEBuildingID  DataYear  ...    SPD Beats     Zip Codes\n",
              "count    3340.000000    3340.0  ...  3338.000000   3340.000000\n",
              "mean    20522.168263    2015.0  ...    24.825644  18786.680240\n",
              "std     11511.515874       0.0  ...    15.006287    588.604192\n",
              "min         1.000000    2015.0  ...     1.000000  17916.000000\n",
              "25%     19921.750000    2015.0  ...    10.000000  18379.000000\n",
              "50%     22977.000000    2015.0  ...    26.000000  18390.000000\n",
              "75%     25748.000000    2015.0  ...    38.000000  19576.000000\n",
              "max     50059.000000    2015.0  ...    51.000000  19584.000000\n",
              "\n",
              "[8 rows x 32 columns]"
            ]
          },
          "metadata": {},
          "execution_count": 12
        }
      ]
    },
    {
      "cell_type": "code",
      "source": [
        "df_2016.describe()"
      ],
      "metadata": {
        "colab": {
          "base_uri": "https://localhost:8080/",
          "height": 364
        },
        "id": "fHfvNAG3abiW",
        "outputId": "ee75e42c-d5d9-4b72-d691-d9d0b3801743"
      },
      "execution_count": null,
      "outputs": [
        {
          "output_type": "execute_result",
          "data": {
            "text/html": [
              "\n",
              "  <div id=\"df-94c205e1-afe9-4e48-a054-ace594d0ce32\">\n",
              "    <div class=\"colab-df-container\">\n",
              "      <div>\n",
              "<style scoped>\n",
              "    .dataframe tbody tr th:only-of-type {\n",
              "        vertical-align: middle;\n",
              "    }\n",
              "\n",
              "    .dataframe tbody tr th {\n",
              "        vertical-align: top;\n",
              "    }\n",
              "\n",
              "    .dataframe thead th {\n",
              "        text-align: right;\n",
              "    }\n",
              "</style>\n",
              "<table border=\"1\" class=\"dataframe\">\n",
              "  <thead>\n",
              "    <tr style=\"text-align: right;\">\n",
              "      <th></th>\n",
              "      <th>OSEBuildingID</th>\n",
              "      <th>DataYear</th>\n",
              "      <th>ZipCode</th>\n",
              "      <th>CouncilDistrictCode</th>\n",
              "      <th>Latitude</th>\n",
              "      <th>Longitude</th>\n",
              "      <th>YearBuilt</th>\n",
              "      <th>NumberofBuildings</th>\n",
              "      <th>NumberofFloors</th>\n",
              "      <th>PropertyGFATotal</th>\n",
              "      <th>PropertyGFAParking</th>\n",
              "      <th>PropertyGFABuilding(s)</th>\n",
              "      <th>LargestPropertyUseTypeGFA</th>\n",
              "      <th>SecondLargestPropertyUseTypeGFA</th>\n",
              "      <th>ThirdLargestPropertyUseTypeGFA</th>\n",
              "      <th>ENERGYSTARScore</th>\n",
              "      <th>SiteEUI(kBtu/sf)</th>\n",
              "      <th>SiteEUIWN(kBtu/sf)</th>\n",
              "      <th>SourceEUI(kBtu/sf)</th>\n",
              "      <th>SourceEUIWN(kBtu/sf)</th>\n",
              "      <th>SiteEnergyUse(kBtu)</th>\n",
              "      <th>SiteEnergyUseWN(kBtu)</th>\n",
              "      <th>SteamUse(kBtu)</th>\n",
              "      <th>Electricity(kWh)</th>\n",
              "      <th>Electricity(kBtu)</th>\n",
              "      <th>NaturalGas(therms)</th>\n",
              "      <th>NaturalGas(kBtu)</th>\n",
              "      <th>Comments</th>\n",
              "      <th>TotalGHGEmissions</th>\n",
              "      <th>GHGEmissionsIntensity</th>\n",
              "    </tr>\n",
              "  </thead>\n",
              "  <tbody>\n",
              "    <tr>\n",
              "      <th>count</th>\n",
              "      <td>3376.000000</td>\n",
              "      <td>3376.0</td>\n",
              "      <td>3360.000000</td>\n",
              "      <td>3376.000000</td>\n",
              "      <td>3376.000000</td>\n",
              "      <td>3376.000000</td>\n",
              "      <td>3376.000000</td>\n",
              "      <td>3368.000000</td>\n",
              "      <td>3376.000000</td>\n",
              "      <td>3.376000e+03</td>\n",
              "      <td>3376.000000</td>\n",
              "      <td>3.376000e+03</td>\n",
              "      <td>3.356000e+03</td>\n",
              "      <td>1679.000000</td>\n",
              "      <td>596.000000</td>\n",
              "      <td>2533.000000</td>\n",
              "      <td>3369.000000</td>\n",
              "      <td>3370.000000</td>\n",
              "      <td>3367.000000</td>\n",
              "      <td>3367.000000</td>\n",
              "      <td>3.371000e+03</td>\n",
              "      <td>3.370000e+03</td>\n",
              "      <td>3.367000e+03</td>\n",
              "      <td>3.367000e+03</td>\n",
              "      <td>3.367000e+03</td>\n",
              "      <td>3.367000e+03</td>\n",
              "      <td>3.367000e+03</td>\n",
              "      <td>0.0</td>\n",
              "      <td>3367.000000</td>\n",
              "      <td>3367.000000</td>\n",
              "    </tr>\n",
              "    <tr>\n",
              "      <th>mean</th>\n",
              "      <td>21208.991114</td>\n",
              "      <td>2016.0</td>\n",
              "      <td>98116.949107</td>\n",
              "      <td>4.439277</td>\n",
              "      <td>47.624033</td>\n",
              "      <td>-122.334795</td>\n",
              "      <td>1968.573164</td>\n",
              "      <td>1.106888</td>\n",
              "      <td>4.709123</td>\n",
              "      <td>9.483354e+04</td>\n",
              "      <td>8001.526066</td>\n",
              "      <td>8.683201e+04</td>\n",
              "      <td>7.917764e+04</td>\n",
              "      <td>28444.075817</td>\n",
              "      <td>11738.675166</td>\n",
              "      <td>67.918674</td>\n",
              "      <td>54.732116</td>\n",
              "      <td>57.033798</td>\n",
              "      <td>134.232848</td>\n",
              "      <td>137.783932</td>\n",
              "      <td>5.403667e+06</td>\n",
              "      <td>5.276726e+06</td>\n",
              "      <td>2.745959e+05</td>\n",
              "      <td>1.086639e+06</td>\n",
              "      <td>3.707612e+06</td>\n",
              "      <td>1.368505e+04</td>\n",
              "      <td>1.368505e+06</td>\n",
              "      <td>NaN</td>\n",
              "      <td>119.723971</td>\n",
              "      <td>1.175916</td>\n",
              "    </tr>\n",
              "    <tr>\n",
              "      <th>std</th>\n",
              "      <td>12223.757015</td>\n",
              "      <td>0.0</td>\n",
              "      <td>18.615205</td>\n",
              "      <td>2.120625</td>\n",
              "      <td>0.047758</td>\n",
              "      <td>0.027203</td>\n",
              "      <td>33.088156</td>\n",
              "      <td>2.108402</td>\n",
              "      <td>5.494465</td>\n",
              "      <td>2.188376e+05</td>\n",
              "      <td>32326.723928</td>\n",
              "      <td>2.079398e+05</td>\n",
              "      <td>2.017034e+05</td>\n",
              "      <td>54392.917928</td>\n",
              "      <td>29331.199286</td>\n",
              "      <td>26.873271</td>\n",
              "      <td>56.273124</td>\n",
              "      <td>57.163330</td>\n",
              "      <td>139.287554</td>\n",
              "      <td>139.109807</td>\n",
              "      <td>2.161063e+07</td>\n",
              "      <td>1.593879e+07</td>\n",
              "      <td>3.912173e+06</td>\n",
              "      <td>4.352478e+06</td>\n",
              "      <td>1.485066e+07</td>\n",
              "      <td>6.709781e+04</td>\n",
              "      <td>6.709781e+06</td>\n",
              "      <td>NaN</td>\n",
              "      <td>538.832227</td>\n",
              "      <td>1.821452</td>\n",
              "    </tr>\n",
              "    <tr>\n",
              "      <th>min</th>\n",
              "      <td>1.000000</td>\n",
              "      <td>2016.0</td>\n",
              "      <td>98006.000000</td>\n",
              "      <td>1.000000</td>\n",
              "      <td>47.499170</td>\n",
              "      <td>-122.414250</td>\n",
              "      <td>1900.000000</td>\n",
              "      <td>0.000000</td>\n",
              "      <td>0.000000</td>\n",
              "      <td>1.128500e+04</td>\n",
              "      <td>0.000000</td>\n",
              "      <td>3.636000e+03</td>\n",
              "      <td>5.656000e+03</td>\n",
              "      <td>0.000000</td>\n",
              "      <td>0.000000</td>\n",
              "      <td>1.000000</td>\n",
              "      <td>0.000000</td>\n",
              "      <td>0.000000</td>\n",
              "      <td>0.000000</td>\n",
              "      <td>-2.100000</td>\n",
              "      <td>0.000000e+00</td>\n",
              "      <td>0.000000e+00</td>\n",
              "      <td>0.000000e+00</td>\n",
              "      <td>-3.382680e+04</td>\n",
              "      <td>-1.154170e+05</td>\n",
              "      <td>0.000000e+00</td>\n",
              "      <td>0.000000e+00</td>\n",
              "      <td>NaN</td>\n",
              "      <td>-0.800000</td>\n",
              "      <td>-0.020000</td>\n",
              "    </tr>\n",
              "    <tr>\n",
              "      <th>25%</th>\n",
              "      <td>19990.750000</td>\n",
              "      <td>2016.0</td>\n",
              "      <td>98105.000000</td>\n",
              "      <td>3.000000</td>\n",
              "      <td>47.599860</td>\n",
              "      <td>-122.350662</td>\n",
              "      <td>1948.000000</td>\n",
              "      <td>1.000000</td>\n",
              "      <td>2.000000</td>\n",
              "      <td>2.848700e+04</td>\n",
              "      <td>0.000000</td>\n",
              "      <td>2.775600e+04</td>\n",
              "      <td>2.509475e+04</td>\n",
              "      <td>5000.000000</td>\n",
              "      <td>2239.000000</td>\n",
              "      <td>53.000000</td>\n",
              "      <td>27.900000</td>\n",
              "      <td>29.400000</td>\n",
              "      <td>74.699997</td>\n",
              "      <td>78.400002</td>\n",
              "      <td>9.251286e+05</td>\n",
              "      <td>9.701822e+05</td>\n",
              "      <td>0.000000e+00</td>\n",
              "      <td>1.874229e+05</td>\n",
              "      <td>6.394870e+05</td>\n",
              "      <td>0.000000e+00</td>\n",
              "      <td>0.000000e+00</td>\n",
              "      <td>NaN</td>\n",
              "      <td>9.495000</td>\n",
              "      <td>0.210000</td>\n",
              "    </tr>\n",
              "    <tr>\n",
              "      <th>50%</th>\n",
              "      <td>23112.000000</td>\n",
              "      <td>2016.0</td>\n",
              "      <td>98115.000000</td>\n",
              "      <td>4.000000</td>\n",
              "      <td>47.618675</td>\n",
              "      <td>-122.332495</td>\n",
              "      <td>1975.000000</td>\n",
              "      <td>1.000000</td>\n",
              "      <td>4.000000</td>\n",
              "      <td>4.417500e+04</td>\n",
              "      <td>0.000000</td>\n",
              "      <td>4.321600e+04</td>\n",
              "      <td>3.989400e+04</td>\n",
              "      <td>10664.000000</td>\n",
              "      <td>5043.000000</td>\n",
              "      <td>75.000000</td>\n",
              "      <td>38.599998</td>\n",
              "      <td>40.900002</td>\n",
              "      <td>96.199997</td>\n",
              "      <td>101.099998</td>\n",
              "      <td>1.803753e+06</td>\n",
              "      <td>1.904452e+06</td>\n",
              "      <td>0.000000e+00</td>\n",
              "      <td>3.451299e+05</td>\n",
              "      <td>1.177583e+06</td>\n",
              "      <td>3.237538e+03</td>\n",
              "      <td>3.237540e+05</td>\n",
              "      <td>NaN</td>\n",
              "      <td>33.920000</td>\n",
              "      <td>0.610000</td>\n",
              "    </tr>\n",
              "    <tr>\n",
              "      <th>75%</th>\n",
              "      <td>25994.250000</td>\n",
              "      <td>2016.0</td>\n",
              "      <td>98122.000000</td>\n",
              "      <td>7.000000</td>\n",
              "      <td>47.657115</td>\n",
              "      <td>-122.319407</td>\n",
              "      <td>1997.000000</td>\n",
              "      <td>1.000000</td>\n",
              "      <td>5.000000</td>\n",
              "      <td>9.099200e+04</td>\n",
              "      <td>0.000000</td>\n",
              "      <td>8.427625e+04</td>\n",
              "      <td>7.620025e+04</td>\n",
              "      <td>26640.000000</td>\n",
              "      <td>10138.750000</td>\n",
              "      <td>90.000000</td>\n",
              "      <td>60.400002</td>\n",
              "      <td>64.275002</td>\n",
              "      <td>143.899994</td>\n",
              "      <td>148.349998</td>\n",
              "      <td>4.222455e+06</td>\n",
              "      <td>4.381429e+06</td>\n",
              "      <td>0.000000e+00</td>\n",
              "      <td>8.293178e+05</td>\n",
              "      <td>2.829632e+06</td>\n",
              "      <td>1.189033e+04</td>\n",
              "      <td>1.189034e+06</td>\n",
              "      <td>NaN</td>\n",
              "      <td>93.940000</td>\n",
              "      <td>1.370000</td>\n",
              "    </tr>\n",
              "    <tr>\n",
              "      <th>max</th>\n",
              "      <td>50226.000000</td>\n",
              "      <td>2016.0</td>\n",
              "      <td>98272.000000</td>\n",
              "      <td>7.000000</td>\n",
              "      <td>47.733870</td>\n",
              "      <td>-122.220966</td>\n",
              "      <td>2015.000000</td>\n",
              "      <td>111.000000</td>\n",
              "      <td>99.000000</td>\n",
              "      <td>9.320156e+06</td>\n",
              "      <td>512608.000000</td>\n",
              "      <td>9.320156e+06</td>\n",
              "      <td>9.320156e+06</td>\n",
              "      <td>686750.000000</td>\n",
              "      <td>459748.000000</td>\n",
              "      <td>100.000000</td>\n",
              "      <td>834.400024</td>\n",
              "      <td>834.400024</td>\n",
              "      <td>2620.000000</td>\n",
              "      <td>2620.000000</td>\n",
              "      <td>8.739237e+08</td>\n",
              "      <td>4.716139e+08</td>\n",
              "      <td>1.349435e+08</td>\n",
              "      <td>1.925775e+08</td>\n",
              "      <td>6.570744e+08</td>\n",
              "      <td>2.979090e+06</td>\n",
              "      <td>2.979090e+08</td>\n",
              "      <td>NaN</td>\n",
              "      <td>16870.980000</td>\n",
              "      <td>34.090000</td>\n",
              "    </tr>\n",
              "  </tbody>\n",
              "</table>\n",
              "</div>\n",
              "      <button class=\"colab-df-convert\" onclick=\"convertToInteractive('df-94c205e1-afe9-4e48-a054-ace594d0ce32')\"\n",
              "              title=\"Convert this dataframe to an interactive table.\"\n",
              "              style=\"display:none;\">\n",
              "        \n",
              "  <svg xmlns=\"http://www.w3.org/2000/svg\" height=\"24px\"viewBox=\"0 0 24 24\"\n",
              "       width=\"24px\">\n",
              "    <path d=\"M0 0h24v24H0V0z\" fill=\"none\"/>\n",
              "    <path d=\"M18.56 5.44l.94 2.06.94-2.06 2.06-.94-2.06-.94-.94-2.06-.94 2.06-2.06.94zm-11 1L8.5 8.5l.94-2.06 2.06-.94-2.06-.94L8.5 2.5l-.94 2.06-2.06.94zm10 10l.94 2.06.94-2.06 2.06-.94-2.06-.94-.94-2.06-.94 2.06-2.06.94z\"/><path d=\"M17.41 7.96l-1.37-1.37c-.4-.4-.92-.59-1.43-.59-.52 0-1.04.2-1.43.59L10.3 9.45l-7.72 7.72c-.78.78-.78 2.05 0 2.83L4 21.41c.39.39.9.59 1.41.59.51 0 1.02-.2 1.41-.59l7.78-7.78 2.81-2.81c.8-.78.8-2.07 0-2.86zM5.41 20L4 18.59l7.72-7.72 1.47 1.35L5.41 20z\"/>\n",
              "  </svg>\n",
              "      </button>\n",
              "      \n",
              "  <style>\n",
              "    .colab-df-container {\n",
              "      display:flex;\n",
              "      flex-wrap:wrap;\n",
              "      gap: 12px;\n",
              "    }\n",
              "\n",
              "    .colab-df-convert {\n",
              "      background-color: #E8F0FE;\n",
              "      border: none;\n",
              "      border-radius: 50%;\n",
              "      cursor: pointer;\n",
              "      display: none;\n",
              "      fill: #1967D2;\n",
              "      height: 32px;\n",
              "      padding: 0 0 0 0;\n",
              "      width: 32px;\n",
              "    }\n",
              "\n",
              "    .colab-df-convert:hover {\n",
              "      background-color: #E2EBFA;\n",
              "      box-shadow: 0px 1px 2px rgba(60, 64, 67, 0.3), 0px 1px 3px 1px rgba(60, 64, 67, 0.15);\n",
              "      fill: #174EA6;\n",
              "    }\n",
              "\n",
              "    [theme=dark] .colab-df-convert {\n",
              "      background-color: #3B4455;\n",
              "      fill: #D2E3FC;\n",
              "    }\n",
              "\n",
              "    [theme=dark] .colab-df-convert:hover {\n",
              "      background-color: #434B5C;\n",
              "      box-shadow: 0px 1px 3px 1px rgba(0, 0, 0, 0.15);\n",
              "      filter: drop-shadow(0px 1px 2px rgba(0, 0, 0, 0.3));\n",
              "      fill: #FFFFFF;\n",
              "    }\n",
              "  </style>\n",
              "\n",
              "      <script>\n",
              "        const buttonEl =\n",
              "          document.querySelector('#df-94c205e1-afe9-4e48-a054-ace594d0ce32 button.colab-df-convert');\n",
              "        buttonEl.style.display =\n",
              "          google.colab.kernel.accessAllowed ? 'block' : 'none';\n",
              "\n",
              "        async function convertToInteractive(key) {\n",
              "          const element = document.querySelector('#df-94c205e1-afe9-4e48-a054-ace594d0ce32');\n",
              "          const dataTable =\n",
              "            await google.colab.kernel.invokeFunction('convertToInteractive',\n",
              "                                                     [key], {});\n",
              "          if (!dataTable) return;\n",
              "\n",
              "          const docLinkHtml = 'Like what you see? Visit the ' +\n",
              "            '<a target=\"_blank\" href=https://colab.research.google.com/notebooks/data_table.ipynb>data table notebook</a>'\n",
              "            + ' to learn more about interactive tables.';\n",
              "          element.innerHTML = '';\n",
              "          dataTable['output_type'] = 'display_data';\n",
              "          await google.colab.output.renderOutput(dataTable, element);\n",
              "          const docLink = document.createElement('div');\n",
              "          docLink.innerHTML = docLinkHtml;\n",
              "          element.appendChild(docLink);\n",
              "        }\n",
              "      </script>\n",
              "    </div>\n",
              "  </div>\n",
              "  "
            ],
            "text/plain": [
              "       OSEBuildingID  DataYear  ...  TotalGHGEmissions  GHGEmissionsIntensity\n",
              "count    3376.000000    3376.0  ...        3367.000000            3367.000000\n",
              "mean    21208.991114    2016.0  ...         119.723971               1.175916\n",
              "std     12223.757015       0.0  ...         538.832227               1.821452\n",
              "min         1.000000    2016.0  ...          -0.800000              -0.020000\n",
              "25%     19990.750000    2016.0  ...           9.495000               0.210000\n",
              "50%     23112.000000    2016.0  ...          33.920000               0.610000\n",
              "75%     25994.250000    2016.0  ...          93.940000               1.370000\n",
              "max     50226.000000    2016.0  ...       16870.980000              34.090000\n",
              "\n",
              "[8 rows x 30 columns]"
            ]
          },
          "metadata": {},
          "execution_count": 13
        }
      ]
    },
    {
      "cell_type": "markdown",
      "source": [
        "# Gestion des deux dataframes 2015 - 2016"
      ],
      "metadata": {
        "id": "V1SKXNNd0diS"
      }
    },
    {
      "cell_type": "markdown",
      "source": [
        "Les colonnes ne semblent pas correspondent entre les deux années, il va falloir formatter ça pour les rendre exploitables"
      ],
      "metadata": {
        "id": "yglCVd_oaLc_"
      }
    },
    {
      "cell_type": "code",
      "source": [
        "coloumns_2015 = list(df_2015.columns) \n",
        "coloumns_2016 = list(df_2016.columns)\n",
        "\n",
        "for i in range(len(coloumns_2016)):\n",
        "  print(coloumns_2015[i] == coloumns_2016[i])"
      ],
      "metadata": {
        "colab": {
          "base_uri": "https://localhost:8080/"
        },
        "id": "QpdQutibdUPb",
        "outputId": "c424f76b-e956-4c51-d284-d8844cfee61e"
      },
      "execution_count": null,
      "outputs": [
        {
          "output_type": "stream",
          "name": "stdout",
          "text": [
            "True\n",
            "True\n",
            "True\n",
            "True\n",
            "True\n",
            "False\n",
            "False\n",
            "False\n",
            "False\n",
            "False\n",
            "False\n",
            "False\n",
            "False\n",
            "False\n",
            "False\n",
            "False\n",
            "False\n",
            "False\n",
            "False\n",
            "False\n",
            "False\n",
            "False\n",
            "False\n",
            "False\n",
            "False\n",
            "False\n",
            "False\n",
            "False\n",
            "False\n",
            "False\n",
            "False\n",
            "False\n",
            "False\n",
            "False\n",
            "False\n",
            "False\n",
            "False\n",
            "False\n",
            "False\n",
            "False\n",
            "False\n",
            "False\n",
            "False\n",
            "False\n",
            "False\n",
            "False\n"
          ]
        }
      ]
    },
    {
      "cell_type": "markdown",
      "source": [
        "Evaluation des colonnes discordantes :\n",
        "Pour cela utilisation des \"set\" qui à l'opposé des list ne prennent qu'une occurence d'un élément et ne sont pas ordonnées (car sinon erreur : \"TypeError: unsupported operand type(s) for -: 'list' and 'list'\")"
      ],
      "metadata": {
        "id": "Rhlsy9EiebcN"
      }
    },
    {
      "cell_type": "code",
      "source": [
        "dif_2015_to_2016 = set(coloumns_2015) - set(coloumns_2016)\n",
        "dif_2016_to_2015 = set(coloumns_2016) - set(coloumns_2015)"
      ],
      "metadata": {
        "id": "NS7i2ua-eUP9"
      },
      "execution_count": null,
      "outputs": []
    },
    {
      "cell_type": "code",
      "source": [
        "dif_2015_to_2016"
      ],
      "metadata": {
        "colab": {
          "base_uri": "https://localhost:8080/"
        },
        "id": "HvRVcwfBfGP-",
        "outputId": "bd42983e-b853-4e20-8e22-d021c1e6e7b3"
      },
      "execution_count": null,
      "outputs": [
        {
          "output_type": "execute_result",
          "data": {
            "text/plain": [
              "{'2010 Census Tracts',\n",
              " 'City Council Districts',\n",
              " 'Comment',\n",
              " 'GHGEmissions(MetricTonsCO2e)',\n",
              " 'GHGEmissionsIntensity(kgCO2e/ft2)',\n",
              " 'Location',\n",
              " 'OtherFuelUse(kBtu)',\n",
              " 'SPD Beats',\n",
              " 'Seattle Police Department Micro Community Policing Plan Areas',\n",
              " 'Zip Codes'}"
            ]
          },
          "metadata": {},
          "execution_count": 17
        }
      ]
    },
    {
      "cell_type": "code",
      "source": [
        "dif_2016_to_2015"
      ],
      "metadata": {
        "colab": {
          "base_uri": "https://localhost:8080/"
        },
        "id": "lYNHWSiXfFXZ",
        "outputId": "0f286f64-0269-44b6-f8d6-03f4f3fc6dee"
      },
      "execution_count": null,
      "outputs": [
        {
          "output_type": "execute_result",
          "data": {
            "text/plain": [
              "{'Address',\n",
              " 'City',\n",
              " 'Comments',\n",
              " 'GHGEmissionsIntensity',\n",
              " 'Latitude',\n",
              " 'Longitude',\n",
              " 'State',\n",
              " 'TotalGHGEmissions',\n",
              " 'ZipCode'}"
            ]
          },
          "metadata": {},
          "execution_count": 18
        }
      ]
    },
    {
      "cell_type": "code",
      "source": [
        "df_2015['City Council Districts'].isna().sum()"
      ],
      "metadata": {
        "colab": {
          "base_uri": "https://localhost:8080/"
        },
        "id": "UcKkE0b3gchL",
        "outputId": "363eea7f-7294-445f-95a9-f022eeee0c1d"
      },
      "execution_count": null,
      "outputs": [
        {
          "output_type": "execute_result",
          "data": {
            "text/plain": [
              "3127"
            ]
          },
          "metadata": {},
          "execution_count": 19
        }
      ]
    },
    {
      "cell_type": "markdown",
      "source": [
        "Les variables '2010 Census Tracts', 'OtherFuelUse(kBtu)', 'SPD Beats' et 'Seattle Police Department Micro Community Policing Plan Areas' ne sont présentes qu'en 2015 et 'City Council Districts' ne contient quasiment que des NaN on va donc les supprimer."
      ],
      "metadata": {
        "id": "-B5G872BfggL"
      }
    },
    {
      "cell_type": "code",
      "source": [
        "df_2015.drop(['2010 Census Tracts', 'City Council Districts', 'OtherFuelUse(kBtu)', 'SPD Beats', 'Seattle Police Department Micro Community Policing Plan Areas'], axis=1, inplace=True)"
      ],
      "metadata": {
        "id": "qKYIRSEgi6Hy"
      },
      "execution_count": null,
      "outputs": []
    },
    {
      "cell_type": "code",
      "source": [
        "df_2015['GHGEmissions(MetricTonsCO2e)'].describe()"
      ],
      "metadata": {
        "colab": {
          "base_uri": "https://localhost:8080/"
        },
        "id": "oJeNQMp4juuk",
        "outputId": "ba8085c9-bb6e-4f7b-895f-9e86384e5b28"
      },
      "execution_count": null,
      "outputs": [
        {
          "output_type": "execute_result",
          "data": {
            "text/plain": [
              "count     3330.000000\n",
              "mean       110.094102\n",
              "std        409.450179\n",
              "min          0.000000\n",
              "25%          9.265000\n",
              "50%         32.740000\n",
              "75%         88.642500\n",
              "max      11824.890000\n",
              "Name: GHGEmissions(MetricTonsCO2e), dtype: float64"
            ]
          },
          "metadata": {},
          "execution_count": 21
        }
      ]
    },
    {
      "cell_type": "code",
      "source": [
        "df_2016['TotalGHGEmissions'].describe()"
      ],
      "metadata": {
        "colab": {
          "base_uri": "https://localhost:8080/"
        },
        "id": "w9EXVU-HkAcj",
        "outputId": "1b04d7e4-2570-4125-e80c-795fbc467444"
      },
      "execution_count": null,
      "outputs": [
        {
          "output_type": "execute_result",
          "data": {
            "text/plain": [
              "count     3367.000000\n",
              "mean       119.723971\n",
              "std        538.832227\n",
              "min         -0.800000\n",
              "25%          9.495000\n",
              "50%         33.920000\n",
              "75%         93.940000\n",
              "max      16870.980000\n",
              "Name: TotalGHGEmissions, dtype: float64"
            ]
          },
          "metadata": {},
          "execution_count": 22
        }
      ]
    },
    {
      "cell_type": "code",
      "source": [
        "df_2015['GHGEmissionsIntensity(kgCO2e/ft2)'].describe()"
      ],
      "metadata": {
        "colab": {
          "base_uri": "https://localhost:8080/"
        },
        "id": "9CNjuOhsj8I1",
        "outputId": "0503bffd-db08-4734-aabc-c006a996c3b2"
      },
      "execution_count": null,
      "outputs": [
        {
          "output_type": "execute_result",
          "data": {
            "text/plain": [
              "count    3330.000000\n",
              "mean        0.985339\n",
              "std         1.637172\n",
              "min         0.000000\n",
              "25%         0.080000\n",
              "50%         0.460000\n",
              "75%         1.180000\n",
              "max        31.380000\n",
              "Name: GHGEmissionsIntensity(kgCO2e/ft2), dtype: float64"
            ]
          },
          "metadata": {},
          "execution_count": 23
        }
      ]
    },
    {
      "cell_type": "code",
      "source": [
        "df_2016['GHGEmissionsIntensity'].describe()"
      ],
      "metadata": {
        "colab": {
          "base_uri": "https://localhost:8080/"
        },
        "id": "xpRJZIDSkQhI",
        "outputId": "1a6555c5-d96a-4575-8d43-997b29657e22"
      },
      "execution_count": null,
      "outputs": [
        {
          "output_type": "execute_result",
          "data": {
            "text/plain": [
              "count    3367.000000\n",
              "mean        1.175916\n",
              "std         1.821452\n",
              "min        -0.020000\n",
              "25%         0.210000\n",
              "50%         0.610000\n",
              "75%         1.370000\n",
              "max        34.090000\n",
              "Name: GHGEmissionsIntensity, dtype: float64"
            ]
          },
          "metadata": {},
          "execution_count": 24
        }
      ]
    },
    {
      "cell_type": "markdown",
      "source": [
        "Les variables concernant les émissions de GHG ne se nomment pas pareil mais sembles correspondrent on ne va pas les supprimer mais les renommer (idem pour \"Comment\" et Zip Codes\")."
      ],
      "metadata": {
        "id": "JlQKftTXiUWK"
      }
    },
    {
      "cell_type": "code",
      "source": [
        "df_2015 = df_2015.rename(columns={\"GHGEmissions(MetricTonsCO2e)\":\"TotalGHGEmissions\", \n",
        "                                  \"GHGEmissionsIntensity(kgCO2e/ft2)\":\"GHGEmissionsIntensity\",\n",
        "                                  \"Comment\":\"Comments\", \n",
        "                                  \"Zip Codes\":\"ZipCode\"})"
      ],
      "metadata": {
        "id": "0zbu0s8nksn9"
      },
      "execution_count": null,
      "outputs": []
    },
    {
      "cell_type": "code",
      "source": [
        "df_2015['Location'][0]"
      ],
      "metadata": {
        "colab": {
          "base_uri": "https://localhost:8080/",
          "height": 35
        },
        "id": "onWCHQQxiACi",
        "outputId": "7f37f2db-fa7d-4ad1-fbde-b2e5abed64c3"
      },
      "execution_count": null,
      "outputs": [
        {
          "output_type": "execute_result",
          "data": {
            "application/vnd.google.colaboratory.intrinsic+json": {
              "type": "string"
            },
            "text/plain": [
              "'{\\'latitude\\': \\'47.61219025\\', \\'longitude\\': \\'-122.33799744\\', \\'human_address\\': \\'{\"address\": \"405 OLIVE WAY\", \"city\": \"SEATTLE\", \"state\": \"WA\", \"zip\": \"98101\"}\\'}'"
            ]
          },
          "metadata": {},
          "execution_count": 26
        }
      ]
    },
    {
      "cell_type": "markdown",
      "source": [
        "Enfin, la variable location semble contenir des infos qui sont splitter dans la database de 2016, on pourrait les extraires, cependant est-ce vraiment utile pour la problématique du projet ? \n",
        "L'idée étant de prédire la consommation en énergie il est peu probable que la latitude ou la longitude impact la consommation car nous sommes à l'échelle d'une ville, tout comme le code postal.\n",
        "Enfin le nom de la ville ne sert pas à grand chose car ce sont toutes des données de Seattle...\n",
        "Je supprime donc la variable 'Location' et 'ZipCode' en 2015 et les variables 'Address', 'City', 'Latitude', 'Longitude', 'State', 'ZipCode' en 2016"
      ],
      "metadata": {
        "id": "i_IZD4UZiVn6"
      }
    },
    {
      "cell_type": "code",
      "source": [
        "df_2015.drop(['Location', 'ZipCode'], axis=1, inplace=True)\n",
        "df_2016.drop(['Address', 'City', 'Latitude', 'Longitude', 'State', 'ZipCode'], axis=1, inplace=True)"
      ],
      "metadata": {
        "id": "p_TAkftqpT4Q"
      },
      "execution_count": null,
      "outputs": []
    },
    {
      "cell_type": "markdown",
      "source": [
        "Je vérifie qu'il n'y a maintenant plus de différence entre les deux datasets"
      ],
      "metadata": {
        "id": "mTOCmavmqdJO"
      }
    },
    {
      "cell_type": "code",
      "source": [
        "dif_2015_to_2016 = set(df_2015.columns) - set(df_2016.columns)\n",
        "dif_2016_to_2015 = set(df_2016.columns) - set(df_2015.columns)"
      ],
      "metadata": {
        "id": "AUhpvJCzpr_3"
      },
      "execution_count": null,
      "outputs": []
    },
    {
      "cell_type": "code",
      "source": [
        "dif_2015_to_2016"
      ],
      "metadata": {
        "colab": {
          "base_uri": "https://localhost:8080/"
        },
        "id": "Ws6bT7Fbp2_T",
        "outputId": "4ada1983-8c01-4876-d5b1-2b38235701c9"
      },
      "execution_count": null,
      "outputs": [
        {
          "output_type": "execute_result",
          "data": {
            "text/plain": [
              "set()"
            ]
          },
          "metadata": {},
          "execution_count": 29
        }
      ]
    },
    {
      "cell_type": "code",
      "source": [
        "dif_2016_to_2015"
      ],
      "metadata": {
        "colab": {
          "base_uri": "https://localhost:8080/"
        },
        "id": "qkxKVa06qaM-",
        "outputId": "d9e310fa-80dd-4956-fc71-53a62eda1bf7"
      },
      "execution_count": null,
      "outputs": [
        {
          "output_type": "execute_result",
          "data": {
            "text/plain": [
              "set()"
            ]
          },
          "metadata": {},
          "execution_count": 30
        }
      ]
    },
    {
      "cell_type": "markdown",
      "source": [
        "Les deux datasets ont maintenant les mêmes features, on peut les concaténer pour ne faire qu'un dataset"
      ],
      "metadata": {
        "id": "Lic7cSkYrtjr"
      }
    },
    {
      "cell_type": "code",
      "source": [
        "df = pad.concat([df_2015[df_2016.columns],df_2016], axis = 0).sort_values([\"DataYear\", \"OSEBuildingID\"])\n",
        "df.shape"
      ],
      "metadata": {
        "colab": {
          "base_uri": "https://localhost:8080/"
        },
        "id": "9H05ohLvrkQP",
        "outputId": "49030b6e-8a34-4f72-ffc0-f2a873e66364"
      },
      "execution_count": null,
      "outputs": [
        {
          "output_type": "execute_result",
          "data": {
            "text/plain": [
              "(6716, 40)"
            ]
          },
          "metadata": {},
          "execution_count": 31
        }
      ]
    },
    {
      "cell_type": "markdown",
      "source": [
        "# Nettoyage des données"
      ],
      "metadata": {
        "id": "BIGABMh70kXP"
      }
    },
    {
      "cell_type": "code",
      "source": [
        "df.info()"
      ],
      "metadata": {
        "colab": {
          "base_uri": "https://localhost:8080/"
        },
        "id": "oiN5UJb3r4H5",
        "outputId": "78cf820b-6f9a-432b-b84d-cedd4a2b2801"
      },
      "execution_count": null,
      "outputs": [
        {
          "output_type": "stream",
          "name": "stdout",
          "text": [
            "<class 'pandas.core.frame.DataFrame'>\n",
            "Int64Index: 6716 entries, 0 to 3375\n",
            "Data columns (total 40 columns):\n",
            " #   Column                           Non-Null Count  Dtype  \n",
            "---  ------                           --------------  -----  \n",
            " 0   OSEBuildingID                    6716 non-null   int64  \n",
            " 1   DataYear                         6716 non-null   int64  \n",
            " 2   BuildingType                     6716 non-null   object \n",
            " 3   PrimaryPropertyType              6716 non-null   object \n",
            " 4   PropertyName                     6716 non-null   object \n",
            " 5   TaxParcelIdentificationNumber    6714 non-null   object \n",
            " 6   CouncilDistrictCode              6716 non-null   int64  \n",
            " 7   Neighborhood                     6716 non-null   object \n",
            " 8   YearBuilt                        6716 non-null   int64  \n",
            " 9   NumberofBuildings                6708 non-null   float64\n",
            " 10  NumberofFloors                   6708 non-null   float64\n",
            " 11  PropertyGFATotal                 6716 non-null   int64  \n",
            " 12  PropertyGFAParking               6716 non-null   int64  \n",
            " 13  PropertyGFABuilding(s)           6716 non-null   int64  \n",
            " 14  ListOfAllPropertyUseTypes        6580 non-null   object \n",
            " 15  LargestPropertyUseType           6560 non-null   object \n",
            " 16  LargestPropertyUseTypeGFA        6560 non-null   float64\n",
            " 17  SecondLargestPropertyUseType     3238 non-null   object \n",
            " 18  SecondLargestPropertyUseTypeGFA  3238 non-null   float64\n",
            " 19  ThirdLargestPropertyUseType      1156 non-null   object \n",
            " 20  ThirdLargestPropertyUseTypeGFA   1156 non-null   float64\n",
            " 21  YearsENERGYSTARCertified         229 non-null    object \n",
            " 22  ENERGYSTARScore                  5093 non-null   float64\n",
            " 23  SiteEUI(kBtu/sf)                 6699 non-null   float64\n",
            " 24  SiteEUIWN(kBtu/sf)               6700 non-null   float64\n",
            " 25  SourceEUI(kBtu/sf)               6697 non-null   float64\n",
            " 26  SourceEUIWN(kBtu/sf)             6697 non-null   float64\n",
            " 27  SiteEnergyUse(kBtu)              6701 non-null   float64\n",
            " 28  SiteEnergyUseWN(kBtu)            6700 non-null   float64\n",
            " 29  SteamUse(kBtu)                   6697 non-null   float64\n",
            " 30  Electricity(kWh)                 6697 non-null   float64\n",
            " 31  Electricity(kBtu)                6697 non-null   float64\n",
            " 32  NaturalGas(therms)               6697 non-null   float64\n",
            " 33  NaturalGas(kBtu)                 6697 non-null   float64\n",
            " 34  DefaultData                      6715 non-null   object \n",
            " 35  Comments                         13 non-null     object \n",
            " 36  ComplianceStatus                 6716 non-null   object \n",
            " 37  Outlier                          116 non-null    object \n",
            " 38  TotalGHGEmissions                6697 non-null   float64\n",
            " 39  GHGEmissionsIntensity            6697 non-null   float64\n",
            "dtypes: float64(19), int64(7), object(14)\n",
            "memory usage: 2.1+ MB\n"
          ]
        }
      ]
    },
    {
      "cell_type": "markdown",
      "source": [
        "Il y a quelques variables qui présentent beaucoup de NaN et qui ne semblent pas importante pour la problématique. J'applique un filtre qui supprime les features qui ont plus de 50% de NaN"
      ],
      "metadata": {
        "id": "rdYM-bs4sWpL"
      }
    },
    {
      "cell_type": "code",
      "source": [
        "df = df[df.columns[df.isna().sum()/len(df)*100 <= 50]]"
      ],
      "metadata": {
        "id": "VorsOV7lsibN"
      },
      "execution_count": null,
      "outputs": []
    },
    {
      "cell_type": "code",
      "source": [
        "df.shape"
      ],
      "metadata": {
        "colab": {
          "base_uri": "https://localhost:8080/"
        },
        "id": "ancJvGQ5sjyh",
        "outputId": "2aefd16c-73e9-45c2-d089-be9d1aa847bd"
      },
      "execution_count": null,
      "outputs": [
        {
          "output_type": "execute_result",
          "data": {
            "text/plain": [
              "(6716, 33)"
            ]
          },
          "metadata": {},
          "execution_count": 34
        }
      ]
    },
    {
      "cell_type": "code",
      "source": [
        "df['BuildingType'].value_counts()"
      ],
      "metadata": {
        "colab": {
          "base_uri": "https://localhost:8080/"
        },
        "id": "tR7WLrza2kTQ",
        "outputId": "6ff8cd72-1971-4877-91be-a5bc08908ee8"
      },
      "execution_count": null,
      "outputs": [
        {
          "output_type": "execute_result",
          "data": {
            "text/plain": [
              "NonResidential          2921\n",
              "Multifamily LR (1-4)    2047\n",
              "Multifamily MR (5-9)    1134\n",
              "Multifamily HR (10+)     217\n",
              "SPS-District K-12        197\n",
              "Nonresidential COS       153\n",
              "Campus                    46\n",
              "Nonresidential WA          1\n",
              "Name: BuildingType, dtype: int64"
            ]
          },
          "metadata": {},
          "execution_count": 35
        }
      ]
    },
    {
      "cell_type": "markdown",
      "source": [
        "Dans l'AO il est mentionné *\"votre équipe s’intéresse de près aux émissions des bâtiments **non destinés à l’habitation**\"*. il apparait donc nécessaire ici de supprimer les lignes correspondantes aux maisons résidentielles, information que l'on peut trouver dans le feature : *BuildingType*"
      ],
      "metadata": {
        "id": "59tyoXHH2OPc"
      }
    },
    {
      "cell_type": "code",
      "source": [
        "df = df[df['BuildingType'] == \"NonResidential\"]"
      ],
      "metadata": {
        "id": "qnTeZ10g2y31"
      },
      "execution_count": null,
      "outputs": []
    },
    {
      "cell_type": "code",
      "source": [
        "df['NumberofBuildings'].value_counts()"
      ],
      "metadata": {
        "colab": {
          "base_uri": "https://localhost:8080/"
        },
        "id": "UFoFhLNp3Qfv",
        "outputId": "f0bff11c-618f-4ccf-ebb2-7675f88ac36b"
      },
      "execution_count": null,
      "outputs": [
        {
          "output_type": "execute_result",
          "data": {
            "text/plain": [
              "1.0    2835\n",
              "0.0      45\n",
              "2.0      13\n",
              "3.0      11\n",
              "6.0       5\n",
              "5.0       4\n",
              "4.0       2\n",
              "7.0       2\n",
              "8.0       1\n",
              "9.0       1\n",
              "Name: NumberofBuildings, dtype: int64"
            ]
          },
          "metadata": {},
          "execution_count": 37
        }
      ]
    },
    {
      "cell_type": "code",
      "source": [
        "df['NumberofFloors'].value_counts()"
      ],
      "metadata": {
        "colab": {
          "base_uri": "https://localhost:8080/"
        },
        "id": "RePUldzK3a1q",
        "outputId": "0d545781-c7db-47f8-e8f5-39b63b401ea5"
      },
      "execution_count": null,
      "outputs": [
        {
          "output_type": "execute_result",
          "data": {
            "text/plain": [
              "1.0     765\n",
              "2.0     647\n",
              "3.0     478\n",
              "4.0     276\n",
              "5.0     198\n",
              "6.0     165\n",
              "7.0      67\n",
              "8.0      41\n",
              "11.0     34\n",
              "10.0     33\n",
              "0.0      18\n",
              "12.0     16\n",
              "9.0      16\n",
              "14.0     15\n",
              "15.0     13\n",
              "13.0     12\n",
              "42.0     10\n",
              "19.0     10\n",
              "17.0      8\n",
              "25.0      6\n",
              "18.0      6\n",
              "24.0      6\n",
              "20.0      6\n",
              "16.0      6\n",
              "22.0      6\n",
              "29.0      6\n",
              "21.0      6\n",
              "33.0      6\n",
              "23.0      5\n",
              "41.0      4\n",
              "36.0      4\n",
              "34.0      4\n",
              "39.0      2\n",
              "55.0      2\n",
              "37.0      2\n",
              "49.0      2\n",
              "47.0      2\n",
              "28.0      2\n",
              "76.0      2\n",
              "27.0      2\n",
              "56.0      2\n",
              "30.0      2\n",
              "46.0      2\n",
              "99.0      2\n",
              "Name: NumberofFloors, dtype: int64"
            ]
          },
          "metadata": {},
          "execution_count": 38
        }
      ]
    },
    {
      "cell_type": "markdown",
      "source": [
        "Les variables *NumberofBuildings* et *NumberofFloors* ne peuvent être égales à 0, je supprime donc les lignes avec 0 "
      ],
      "metadata": {
        "id": "CZK8RlWc3HK_"
      }
    },
    {
      "cell_type": "code",
      "source": [
        "df = df[df['NumberofBuildings'] != 0]\n",
        "df = df[df['NumberofFloors'] != 0]"
      ],
      "metadata": {
        "id": "Ln11hq7f3lcJ"
      },
      "execution_count": null,
      "outputs": []
    },
    {
      "cell_type": "markdown",
      "source": [
        "Les variables présentant un \"WN\" à la fin sont des normalisations des autres variables, s'ils n'apportent pas plus d'information on peut les supprimer"
      ],
      "metadata": {
        "id": "lCDEkDzo5P5L"
      }
    },
    {
      "cell_type": "code",
      "source": [
        "df.plot.scatter(x='SiteEUI(kBtu/sf)',y='SiteEUIWN(kBtu/sf)',)\n",
        "df.plot.scatter(x='SourceEUI(kBtu/sf)',y='SourceEUIWN(kBtu/sf)')\n",
        "df.plot.scatter(x='SiteEnergyUse(kBtu)',y='SiteEnergyUseWN(kBtu)')"
      ],
      "metadata": {
        "colab": {
          "base_uri": "https://localhost:8080/",
          "height": 831
        },
        "id": "qi8oNawK5jok",
        "outputId": "289b76d7-9e71-4e45-9a6e-a8720dc70f0d"
      },
      "execution_count": null,
      "outputs": [
        {
          "output_type": "execute_result",
          "data": {
            "text/plain": [
              "<matplotlib.axes._subplots.AxesSubplot at 0x7f85a402a150>"
            ]
          },
          "metadata": {},
          "execution_count": 40
        },
        {
          "output_type": "display_data",
          "data": {
            "image/png": "[encoded data removed]",
            "text/plain": [
              "<Figure size 432x288 with 1 Axes>"
            ]
          },
          "metadata": {
            "needs_background": "light"
          }
        },
        {
          "output_type": "display_data",
          "data": {
            "image/png": "[encoded data removed]",
            "text/plain": [
              "<Figure size 432x288 with 1 Axes>"
            ]
          },
          "metadata": {
            "needs_background": "light"
          }
        },
        {
          "output_type": "display_data",
          "data": {
            "image/png": "[encoded data removed]",
            "text/plain": [
              "<Figure size 432x288 with 1 Axes>"
            ]
          },
          "metadata": {
            "needs_background": "light"
          }
        }
      ]
    },
    {
      "cell_type": "code",
      "source": [
        "df.drop(['SiteEUIWN(kBtu/sf)'], axis=1, inplace=True)\n",
        "df.drop(['SourceEUIWN(kBtu/sf)'], axis=1, inplace=True)\n",
        "df.drop(['SiteEnergyUseWN(kBtu)'], axis=1, inplace=True)"
      ],
      "metadata": {
        "id": "W65qqljC46qF"
      },
      "execution_count": null,
      "outputs": []
    },
    {
      "cell_type": "markdown",
      "source": [
        "On remarque aussi que les features \"Electricity\" et \"NaturalGas\" ont deux unités, ce qui n'est pas nécessaire pour la construction du modèle, je choisi de supprimer les features avec l'unité BTU"
      ],
      "metadata": {
        "id": "6oK4cedY7rHz"
      }
    },
    {
      "cell_type": "code",
      "source": [
        "df.drop(['Electricity(kBtu)'], axis=1, inplace=True)\n",
        "df.drop(['NaturalGas(kBtu)'], axis=1, inplace=True)"
      ],
      "metadata": {
        "id": "gEVz2t44-bmk"
      },
      "execution_count": null,
      "outputs": []
    },
    {
      "cell_type": "code",
      "source": [
        "df['ComplianceStatus'].value_counts()"
      ],
      "metadata": {
        "colab": {
          "base_uri": "https://localhost:8080/"
        },
        "id": "RngAVZr5wArh",
        "outputId": "1e3116c9-4bb3-4c67-cfe5-7deda6b1bbc1"
      },
      "execution_count": null,
      "outputs": [
        {
          "output_type": "execute_result",
          "data": {
            "text/plain": [
              "Compliant                       2831\n",
              "Non-Compliant                     17\n",
              "Error - Correct Default Data      10\n",
              "Missing Data                       1\n",
              "Name: ComplianceStatus, dtype: int64"
            ]
          },
          "metadata": {},
          "execution_count": 43
        }
      ]
    },
    {
      "cell_type": "markdown",
      "source": [
        "La variable *ComplianceStatus* nous informe sur la validité des données, je supprimer les lignes avec un *compliancestatus* différent de *compliant* et ensuite la colonne *ComplianceStatus*"
      ],
      "metadata": {
        "id": "CzyO2vsyxJ2C"
      }
    },
    {
      "cell_type": "code",
      "source": [
        "df = df[df['ComplianceStatus'] == \"Compliant\"]\n",
        "df.drop(['ComplianceStatus'], axis=1, inplace=True)"
      ],
      "metadata": {
        "colab": {
          "base_uri": "https://localhost:8080/"
        },
        "id": "K0XEo_kNwhnn",
        "outputId": "4d9bb2bc-d63c-4abc-b1dc-48b3503cecdf"
      },
      "execution_count": null,
      "outputs": [
        {
          "output_type": "stream",
          "name": "stderr",
          "text": [
            "/usr/local/lib/python3.7/dist-packages/pandas/core/frame.py:4174: SettingWithCopyWarning: \n",
            "A value is trying to be set on a copy of a slice from a DataFrame\n",
            "\n",
            "See the caveats in the documentation: https://pandas.pydata.org/pandas-docs/stable/user_guide/indexing.html#returning-a-view-versus-a-copy\n",
            "  errors=errors,\n"
          ]
        }
      ]
    },
    {
      "cell_type": "code",
      "source": [
        "df['DefaultData'].value_counts()"
      ],
      "metadata": {
        "colab": {
          "base_uri": "https://localhost:8080/"
        },
        "id": "TebOUqaQtAV6",
        "outputId": "1758c872-079d-4728-8007-da4e49a7a4f2"
      },
      "execution_count": null,
      "outputs": [
        {
          "output_type": "execute_result",
          "data": {
            "text/plain": [
              "False    1375\n",
              "No       1342\n",
              "Yes       113\n",
              "Name: DefaultData, dtype: int64"
            ]
          },
          "metadata": {},
          "execution_count": 45
        }
      ]
    },
    {
      "cell_type": "markdown",
      "source": [
        "Le sens de la variable *DefaultData* n'est pas identifié, suppresion du feature"
      ],
      "metadata": {
        "id": "JO3YipOfx24-"
      }
    },
    {
      "cell_type": "code",
      "source": [
        "df.drop(['DefaultData'], axis=1, inplace=True)"
      ],
      "metadata": {
        "colab": {
          "base_uri": "https://localhost:8080/"
        },
        "id": "DRiV1eLgyBoQ",
        "outputId": "16fc4513-f07a-42ff-e07d-c55d3a01059c"
      },
      "execution_count": null,
      "outputs": [
        {
          "output_type": "stream",
          "name": "stderr",
          "text": [
            "/usr/local/lib/python3.7/dist-packages/pandas/core/frame.py:4174: SettingWithCopyWarning: \n",
            "A value is trying to be set on a copy of a slice from a DataFrame\n",
            "\n",
            "See the caveats in the documentation: https://pandas.pydata.org/pandas-docs/stable/user_guide/indexing.html#returning-a-view-versus-a-copy\n",
            "  errors=errors,\n"
          ]
        }
      ]
    },
    {
      "cell_type": "markdown",
      "source": [
        "*PropertyName* et *TaxParcelIdentificationNumber* n'apporte pas plus d'infos en comparaison à *OSEBuildingID*, je choisi donc de supprimer ces features"
      ],
      "metadata": {
        "id": "LNsjsKTbz9D3"
      }
    },
    {
      "cell_type": "code",
      "source": [
        "df.drop(['TaxParcelIdentificationNumber'], axis=1, inplace=True)\n",
        "df.drop(['PropertyName'], axis=1, inplace=True)"
      ],
      "metadata": {
        "colab": {
          "base_uri": "https://localhost:8080/"
        },
        "id": "aGw1V7C80K68",
        "outputId": "2d1c817a-be3a-48c9-99a4-7f66061b2b8b"
      },
      "execution_count": null,
      "outputs": [
        {
          "output_type": "stream",
          "name": "stderr",
          "text": [
            "/usr/local/lib/python3.7/dist-packages/pandas/core/frame.py:4174: SettingWithCopyWarning: \n",
            "A value is trying to be set on a copy of a slice from a DataFrame\n",
            "\n",
            "See the caveats in the documentation: https://pandas.pydata.org/pandas-docs/stable/user_guide/indexing.html#returning-a-view-versus-a-copy\n",
            "  errors=errors,\n"
          ]
        }
      ]
    },
    {
      "cell_type": "markdown",
      "source": [
        "### Identification des valeurs abberantes"
      ],
      "metadata": {
        "id": "CtwQ5dBm0QaL"
      }
    },
    {
      "cell_type": "code",
      "source": [
        "df.describe()"
      ],
      "metadata": {
        "colab": {
          "base_uri": "https://localhost:8080/",
          "height": 364
        },
        "id": "9IeV-QHk_kwy",
        "outputId": "db8af5e4-b0d0-4a2a-bf0d-094b54443f9f"
      },
      "execution_count": null,
      "outputs": [
        {
          "output_type": "execute_result",
          "data": {
            "text/html": [
              "\n",
              "  <div id=\"df-7b795c76-67e1-49c4-9700-7ab918c46bfa\">\n",
              "    <div class=\"colab-df-container\">\n",
              "      <div>\n",
              "<style scoped>\n",
              "    .dataframe tbody tr th:only-of-type {\n",
              "        vertical-align: middle;\n",
              "    }\n",
              "\n",
              "    .dataframe tbody tr th {\n",
              "        vertical-align: top;\n",
              "    }\n",
              "\n",
              "    .dataframe thead th {\n",
              "        text-align: right;\n",
              "    }\n",
              "</style>\n",
              "<table border=\"1\" class=\"dataframe\">\n",
              "  <thead>\n",
              "    <tr style=\"text-align: right;\">\n",
              "      <th></th>\n",
              "      <th>OSEBuildingID</th>\n",
              "      <th>DataYear</th>\n",
              "      <th>CouncilDistrictCode</th>\n",
              "      <th>YearBuilt</th>\n",
              "      <th>NumberofBuildings</th>\n",
              "      <th>NumberofFloors</th>\n",
              "      <th>PropertyGFATotal</th>\n",
              "      <th>PropertyGFAParking</th>\n",
              "      <th>PropertyGFABuilding(s)</th>\n",
              "      <th>LargestPropertyUseTypeGFA</th>\n",
              "      <th>ENERGYSTARScore</th>\n",
              "      <th>SiteEUI(kBtu/sf)</th>\n",
              "      <th>SourceEUI(kBtu/sf)</th>\n",
              "      <th>SiteEnergyUse(kBtu)</th>\n",
              "      <th>SteamUse(kBtu)</th>\n",
              "      <th>Electricity(kWh)</th>\n",
              "      <th>NaturalGas(therms)</th>\n",
              "      <th>TotalGHGEmissions</th>\n",
              "      <th>GHGEmissionsIntensity</th>\n",
              "    </tr>\n",
              "  </thead>\n",
              "  <tbody>\n",
              "    <tr>\n",
              "      <th>count</th>\n",
              "      <td>2831.000000</td>\n",
              "      <td>2831.000000</td>\n",
              "      <td>2831.000000</td>\n",
              "      <td>2831.000000</td>\n",
              "      <td>2831.000000</td>\n",
              "      <td>2827.000000</td>\n",
              "      <td>2.831000e+03</td>\n",
              "      <td>2831.000000</td>\n",
              "      <td>2.831000e+03</td>\n",
              "      <td>2.767000e+03</td>\n",
              "      <td>1954.000000</td>\n",
              "      <td>2830.000000</td>\n",
              "      <td>2830.000000</td>\n",
              "      <td>2.830000e+03</td>\n",
              "      <td>2.830000e+03</td>\n",
              "      <td>2.830000e+03</td>\n",
              "      <td>2.830000e+03</td>\n",
              "      <td>2830.000000</td>\n",
              "      <td>2830.000000</td>\n",
              "    </tr>\n",
              "    <tr>\n",
              "      <th>mean</th>\n",
              "      <td>15809.585306</td>\n",
              "      <td>2015.485694</td>\n",
              "      <td>4.428117</td>\n",
              "      <td>1960.506182</td>\n",
              "      <td>1.037089</td>\n",
              "      <td>4.400424</td>\n",
              "      <td>1.104152e+05</td>\n",
              "      <td>14586.707171</td>\n",
              "      <td>9.582848e+04</td>\n",
              "      <td>8.896411e+04</td>\n",
              "      <td>63.132037</td>\n",
              "      <td>72.376290</td>\n",
              "      <td>179.357103</td>\n",
              "      <td>7.557818e+06</td>\n",
              "      <td>4.986357e+05</td>\n",
              "      <td>1.585879e+06</td>\n",
              "      <td>1.625853e+04</td>\n",
              "      <td>162.560057</td>\n",
              "      <td>1.425516</td>\n",
              "    </tr>\n",
              "    <tr>\n",
              "      <th>std</th>\n",
              "      <td>12978.598551</td>\n",
              "      <td>0.499884</td>\n",
              "      <td>2.195814</td>\n",
              "      <td>32.848209</td>\n",
              "      <td>0.389394</td>\n",
              "      <td>6.820381</td>\n",
              "      <td>1.883760e+05</td>\n",
              "      <td>44969.510244</td>\n",
              "      <td>1.625837e+05</td>\n",
              "      <td>1.550284e+05</td>\n",
              "      <td>28.945204</td>\n",
              "      <td>73.486136</td>\n",
              "      <td>186.818806</td>\n",
              "      <td>1.902346e+07</td>\n",
              "      <td>5.386580e+06</td>\n",
              "      <td>3.903204e+06</td>\n",
              "      <td>5.593740e+04</td>\n",
              "      <td>581.995112</td>\n",
              "      <td>2.098558</td>\n",
              "    </tr>\n",
              "    <tr>\n",
              "      <th>min</th>\n",
              "      <td>1.000000</td>\n",
              "      <td>2015.000000</td>\n",
              "      <td>1.000000</td>\n",
              "      <td>1900.000000</td>\n",
              "      <td>1.000000</td>\n",
              "      <td>1.000000</td>\n",
              "      <td>1.630000e+04</td>\n",
              "      <td>-2.000000</td>\n",
              "      <td>-5.055000e+04</td>\n",
              "      <td>5.656000e+03</td>\n",
              "      <td>1.000000</td>\n",
              "      <td>0.000000</td>\n",
              "      <td>-2.000000</td>\n",
              "      <td>0.000000e+00</td>\n",
              "      <td>0.000000e+00</td>\n",
              "      <td>-3.382680e+04</td>\n",
              "      <td>0.000000e+00</td>\n",
              "      <td>-0.800000</td>\n",
              "      <td>-0.020000</td>\n",
              "    </tr>\n",
              "    <tr>\n",
              "      <th>25%</th>\n",
              "      <td>606.000000</td>\n",
              "      <td>2015.000000</td>\n",
              "      <td>2.000000</td>\n",
              "      <td>1929.000000</td>\n",
              "      <td>1.000000</td>\n",
              "      <td>1.000000</td>\n",
              "      <td>2.884250e+04</td>\n",
              "      <td>0.000000</td>\n",
              "      <td>2.803200e+04</td>\n",
              "      <td>2.500000e+04</td>\n",
              "      <td>44.000000</td>\n",
              "      <td>33.225000</td>\n",
              "      <td>76.400002</td>\n",
              "      <td>1.160103e+06</td>\n",
              "      <td>0.000000e+00</td>\n",
              "      <td>2.040721e+05</td>\n",
              "      <td>0.000000e+00</td>\n",
              "      <td>18.772500</td>\n",
              "      <td>0.250000</td>\n",
              "    </tr>\n",
              "    <tr>\n",
              "      <th>50%</th>\n",
              "      <td>21122.000000</td>\n",
              "      <td>2015.000000</td>\n",
              "      <td>4.000000</td>\n",
              "      <td>1965.000000</td>\n",
              "      <td>1.000000</td>\n",
              "      <td>3.000000</td>\n",
              "      <td>4.741500e+04</td>\n",
              "      <td>0.000000</td>\n",
              "      <td>4.515500e+04</td>\n",
              "      <td>4.125600e+04</td>\n",
              "      <td>70.000000</td>\n",
              "      <td>52.299999</td>\n",
              "      <td>135.000000</td>\n",
              "      <td>2.512737e+06</td>\n",
              "      <td>0.000000e+00</td>\n",
              "      <td>4.788493e+05</td>\n",
              "      <td>4.074000e+03</td>\n",
              "      <td>46.325000</td>\n",
              "      <td>0.700000</td>\n",
              "    </tr>\n",
              "    <tr>\n",
              "      <th>75%</th>\n",
              "      <td>24493.000000</td>\n",
              "      <td>2016.000000</td>\n",
              "      <td>7.000000</td>\n",
              "      <td>1987.000000</td>\n",
              "      <td>1.000000</td>\n",
              "      <td>5.000000</td>\n",
              "      <td>1.029300e+05</td>\n",
              "      <td>0.000000</td>\n",
              "      <td>9.080300e+04</td>\n",
              "      <td>8.557200e+04</td>\n",
              "      <td>88.000000</td>\n",
              "      <td>81.900001</td>\n",
              "      <td>208.300002</td>\n",
              "      <td>6.854864e+06</td>\n",
              "      <td>0.000000e+00</td>\n",
              "      <td>1.467783e+06</td>\n",
              "      <td>1.302451e+04</td>\n",
              "      <td>131.387500</td>\n",
              "      <td>1.710000</td>\n",
              "    </tr>\n",
              "    <tr>\n",
              "      <th>max</th>\n",
              "      <td>50094.000000</td>\n",
              "      <td>2016.000000</td>\n",
              "      <td>7.000000</td>\n",
              "      <td>2015.000000</td>\n",
              "      <td>9.000000</td>\n",
              "      <td>99.000000</td>\n",
              "      <td>1.952220e+06</td>\n",
              "      <td>512608.000000</td>\n",
              "      <td>1.765970e+06</td>\n",
              "      <td>1.680937e+06</td>\n",
              "      <td>100.000000</td>\n",
              "      <td>834.400024</td>\n",
              "      <td>2620.000000</td>\n",
              "      <td>2.958126e+08</td>\n",
              "      <td>1.349435e+08</td>\n",
              "      <td>8.344505e+07</td>\n",
              "      <td>1.381912e+06</td>\n",
              "      <td>12307.160000</td>\n",
              "      <td>31.380000</td>\n",
              "    </tr>\n",
              "  </tbody>\n",
              "</table>\n",
              "</div>\n",
              "      <button class=\"colab-df-convert\" onclick=\"convertToInteractive('df-7b795c76-67e1-49c4-9700-7ab918c46bfa')\"\n",
              "              title=\"Convert this dataframe to an interactive table.\"\n",
              "              style=\"display:none;\">\n",
              "        \n",
              "  <svg xmlns=\"http://www.w3.org/2000/svg\" height=\"24px\"viewBox=\"0 0 24 24\"\n",
              "       width=\"24px\">\n",
              "    <path d=\"M0 0h24v24H0V0z\" fill=\"none\"/>\n",
              "    <path d=\"M18.56 5.44l.94 2.06.94-2.06 2.06-.94-2.06-.94-.94-2.06-.94 2.06-2.06.94zm-11 1L8.5 8.5l.94-2.06 2.06-.94-2.06-.94L8.5 2.5l-.94 2.06-2.06.94zm10 10l.94 2.06.94-2.06 2.06-.94-2.06-.94-.94-2.06-.94 2.06-2.06.94z\"/><path d=\"M17.41 7.96l-1.37-1.37c-.4-.4-.92-.59-1.43-.59-.52 0-1.04.2-1.43.59L10.3 9.45l-7.72 7.72c-.78.78-.78 2.05 0 2.83L4 21.41c.39.39.9.59 1.41.59.51 0 1.02-.2 1.41-.59l7.78-7.78 2.81-2.81c.8-.78.8-2.07 0-2.86zM5.41 20L4 18.59l7.72-7.72 1.47 1.35L5.41 20z\"/>\n",
              "  </svg>\n",
              "      </button>\n",
              "      \n",
              "  <style>\n",
              "    .colab-df-container {\n",
              "      display:flex;\n",
              "      flex-wrap:wrap;\n",
              "      gap: 12px;\n",
              "    }\n",
              "\n",
              "    .colab-df-convert {\n",
              "      background-color: #E8F0FE;\n",
              "      border: none;\n",
              "      border-radius: 50%;\n",
              "      cursor: pointer;\n",
              "      display: none;\n",
              "      fill: #1967D2;\n",
              "      height: 32px;\n",
              "      padding: 0 0 0 0;\n",
              "      width: 32px;\n",
              "    }\n",
              "\n",
              "    .colab-df-convert:hover {\n",
              "      background-color: #E2EBFA;\n",
              "      box-shadow: 0px 1px 2px rgba(60, 64, 67, 0.3), 0px 1px 3px 1px rgba(60, 64, 67, 0.15);\n",
              "      fill: #174EA6;\n",
              "    }\n",
              "\n",
              "    [theme=dark] .colab-df-convert {\n",
              "      background-color: #3B4455;\n",
              "      fill: #D2E3FC;\n",
              "    }\n",
              "\n",
              "    [theme=dark] .colab-df-convert:hover {\n",
              "      background-color: #434B5C;\n",
              "      box-shadow: 0px 1px 3px 1px rgba(0, 0, 0, 0.15);\n",
              "      filter: drop-shadow(0px 1px 2px rgba(0, 0, 0, 0.3));\n",
              "      fill: #FFFFFF;\n",
              "    }\n",
              "  </style>\n",
              "\n",
              "      <script>\n",
              "        const buttonEl =\n",
              "          document.querySelector('#df-7b795c76-67e1-49c4-9700-7ab918c46bfa button.colab-df-convert');\n",
              "        buttonEl.style.display =\n",
              "          google.colab.kernel.accessAllowed ? 'block' : 'none';\n",
              "\n",
              "        async function convertToInteractive(key) {\n",
              "          const element = document.querySelector('#df-7b795c76-67e1-49c4-9700-7ab918c46bfa');\n",
              "          const dataTable =\n",
              "            await google.colab.kernel.invokeFunction('convertToInteractive',\n",
              "                                                     [key], {});\n",
              "          if (!dataTable) return;\n",
              "\n",
              "          const docLinkHtml = 'Like what you see? Visit the ' +\n",
              "            '<a target=\"_blank\" href=https://colab.research.google.com/notebooks/data_table.ipynb>data table notebook</a>'\n",
              "            + ' to learn more about interactive tables.';\n",
              "          element.innerHTML = '';\n",
              "          dataTable['output_type'] = 'display_data';\n",
              "          await google.colab.output.renderOutput(dataTable, element);\n",
              "          const docLink = document.createElement('div');\n",
              "          docLink.innerHTML = docLinkHtml;\n",
              "          element.appendChild(docLink);\n",
              "        }\n",
              "      </script>\n",
              "    </div>\n",
              "  </div>\n",
              "  "
            ],
            "text/plain": [
              "       OSEBuildingID     DataYear  ...  TotalGHGEmissions  GHGEmissionsIntensity\n",
              "count    2831.000000  2831.000000  ...        2830.000000            2830.000000\n",
              "mean    15809.585306  2015.485694  ...         162.560057               1.425516\n",
              "std     12978.598551     0.499884  ...         581.995112               2.098558\n",
              "min         1.000000  2015.000000  ...          -0.800000              -0.020000\n",
              "25%       606.000000  2015.000000  ...          18.772500               0.250000\n",
              "50%     21122.000000  2015.000000  ...          46.325000               0.700000\n",
              "75%     24493.000000  2016.000000  ...         131.387500               1.710000\n",
              "max     50094.000000  2016.000000  ...       12307.160000              31.380000\n",
              "\n",
              "[8 rows x 19 columns]"
            ]
          },
          "metadata": {},
          "execution_count": 48
        }
      ]
    },
    {
      "cell_type": "code",
      "source": [
        "df[df['TotalGHGEmissions'] < 0 ]"
      ],
      "metadata": {
        "colab": {
          "base_uri": "https://localhost:8080/",
          "height": 162
        },
        "id": "BqT7eamjAf5C",
        "outputId": "7d067ab4-081f-4c76-bb39-beeabbcf5a5e"
      },
      "execution_count": null,
      "outputs": [
        {
          "output_type": "execute_result",
          "data": {
            "text/html": [
              "\n",
              "  <div id=\"df-3dfe9372-62c5-454c-b512-169ca34a56c1\">\n",
              "    <div class=\"colab-df-container\">\n",
              "      <div>\n",
              "<style scoped>\n",
              "    .dataframe tbody tr th:only-of-type {\n",
              "        vertical-align: middle;\n",
              "    }\n",
              "\n",
              "    .dataframe tbody tr th {\n",
              "        vertical-align: top;\n",
              "    }\n",
              "\n",
              "    .dataframe thead th {\n",
              "        text-align: right;\n",
              "    }\n",
              "</style>\n",
              "<table border=\"1\" class=\"dataframe\">\n",
              "  <thead>\n",
              "    <tr style=\"text-align: right;\">\n",
              "      <th></th>\n",
              "      <th>OSEBuildingID</th>\n",
              "      <th>DataYear</th>\n",
              "      <th>BuildingType</th>\n",
              "      <th>PrimaryPropertyType</th>\n",
              "      <th>CouncilDistrictCode</th>\n",
              "      <th>Neighborhood</th>\n",
              "      <th>YearBuilt</th>\n",
              "      <th>NumberofBuildings</th>\n",
              "      <th>NumberofFloors</th>\n",
              "      <th>PropertyGFATotal</th>\n",
              "      <th>PropertyGFAParking</th>\n",
              "      <th>PropertyGFABuilding(s)</th>\n",
              "      <th>ListOfAllPropertyUseTypes</th>\n",
              "      <th>LargestPropertyUseType</th>\n",
              "      <th>LargestPropertyUseTypeGFA</th>\n",
              "      <th>ENERGYSTARScore</th>\n",
              "      <th>SiteEUI(kBtu/sf)</th>\n",
              "      <th>SourceEUI(kBtu/sf)</th>\n",
              "      <th>SiteEnergyUse(kBtu)</th>\n",
              "      <th>SteamUse(kBtu)</th>\n",
              "      <th>Electricity(kWh)</th>\n",
              "      <th>NaturalGas(therms)</th>\n",
              "      <th>TotalGHGEmissions</th>\n",
              "      <th>GHGEmissionsIntensity</th>\n",
              "    </tr>\n",
              "  </thead>\n",
              "  <tbody>\n",
              "    <tr>\n",
              "      <th>3206</th>\n",
              "      <td>49784</td>\n",
              "      <td>2016</td>\n",
              "      <td>NonResidential</td>\n",
              "      <td>Small- and Mid-Sized Office</td>\n",
              "      <td>3</td>\n",
              "      <td>CENTRAL</td>\n",
              "      <td>2013</td>\n",
              "      <td>1.0</td>\n",
              "      <td>6.0</td>\n",
              "      <td>52000</td>\n",
              "      <td>0</td>\n",
              "      <td>52000</td>\n",
              "      <td>Office</td>\n",
              "      <td>Office</td>\n",
              "      <td>48159.0</td>\n",
              "      <td>100.0</td>\n",
              "      <td>7.1</td>\n",
              "      <td>2.0</td>\n",
              "      <td>342726.0938</td>\n",
              "      <td>0.0</td>\n",
              "      <td>-33826.80078</td>\n",
              "      <td>0.0</td>\n",
              "      <td>-0.8</td>\n",
              "      <td>-0.02</td>\n",
              "    </tr>\n",
              "  </tbody>\n",
              "</table>\n",
              "</div>\n",
              "      <button class=\"colab-df-convert\" onclick=\"convertToInteractive('df-3dfe9372-62c5-454c-b512-169ca34a56c1')\"\n",
              "              title=\"Convert this dataframe to an interactive table.\"\n",
              "              style=\"display:none;\">\n",
              "        \n",
              "  <svg xmlns=\"http://www.w3.org/2000/svg\" height=\"24px\"viewBox=\"0 0 24 24\"\n",
              "       width=\"24px\">\n",
              "    <path d=\"M0 0h24v24H0V0z\" fill=\"none\"/>\n",
              "    <path d=\"M18.56 5.44l.94 2.06.94-2.06 2.06-.94-2.06-.94-.94-2.06-.94 2.06-2.06.94zm-11 1L8.5 8.5l.94-2.06 2.06-.94-2.06-.94L8.5 2.5l-.94 2.06-2.06.94zm10 10l.94 2.06.94-2.06 2.06-.94-2.06-.94-.94-2.06-.94 2.06-2.06.94z\"/><path d=\"M17.41 7.96l-1.37-1.37c-.4-.4-.92-.59-1.43-.59-.52 0-1.04.2-1.43.59L10.3 9.45l-7.72 7.72c-.78.78-.78 2.05 0 2.83L4 21.41c.39.39.9.59 1.41.59.51 0 1.02-.2 1.41-.59l7.78-7.78 2.81-2.81c.8-.78.8-2.07 0-2.86zM5.41 20L4 18.59l7.72-7.72 1.47 1.35L5.41 20z\"/>\n",
              "  </svg>\n",
              "      </button>\n",
              "      \n",
              "  <style>\n",
              "    .colab-df-container {\n",
              "      display:flex;\n",
              "      flex-wrap:wrap;\n",
              "      gap: 12px;\n",
              "    }\n",
              "\n",
              "    .colab-df-convert {\n",
              "      background-color: #E8F0FE;\n",
              "      border: none;\n",
              "      border-radius: 50%;\n",
              "      cursor: pointer;\n",
              "      display: none;\n",
              "      fill: #1967D2;\n",
              "      height: 32px;\n",
              "      padding: 0 0 0 0;\n",
              "      width: 32px;\n",
              "    }\n",
              "\n",
              "    .colab-df-convert:hover {\n",
              "      background-color: #E2EBFA;\n",
              "      box-shadow: 0px 1px 2px rgba(60, 64, 67, 0.3), 0px 1px 3px 1px rgba(60, 64, 67, 0.15);\n",
              "      fill: #174EA6;\n",
              "    }\n",
              "\n",
              "    [theme=dark] .colab-df-convert {\n",
              "      background-color: #3B4455;\n",
              "      fill: #D2E3FC;\n",
              "    }\n",
              "\n",
              "    [theme=dark] .colab-df-convert:hover {\n",
              "      background-color: #434B5C;\n",
              "      box-shadow: 0px 1px 3px 1px rgba(0, 0, 0, 0.15);\n",
              "      filter: drop-shadow(0px 1px 2px rgba(0, 0, 0, 0.3));\n",
              "      fill: #FFFFFF;\n",
              "    }\n",
              "  </style>\n",
              "\n",
              "      <script>\n",
              "        const buttonEl =\n",
              "          document.querySelector('#df-3dfe9372-62c5-454c-b512-169ca34a56c1 button.colab-df-convert');\n",
              "        buttonEl.style.display =\n",
              "          google.colab.kernel.accessAllowed ? 'block' : 'none';\n",
              "\n",
              "        async function convertToInteractive(key) {\n",
              "          const element = document.querySelector('#df-3dfe9372-62c5-454c-b512-169ca34a56c1');\n",
              "          const dataTable =\n",
              "            await google.colab.kernel.invokeFunction('convertToInteractive',\n",
              "                                                     [key], {});\n",
              "          if (!dataTable) return;\n",
              "\n",
              "          const docLinkHtml = 'Like what you see? Visit the ' +\n",
              "            '<a target=\"_blank\" href=https://colab.research.google.com/notebooks/data_table.ipynb>data table notebook</a>'\n",
              "            + ' to learn more about interactive tables.';\n",
              "          element.innerHTML = '';\n",
              "          dataTable['output_type'] = 'display_data';\n",
              "          await google.colab.output.renderOutput(dataTable, element);\n",
              "          const docLink = document.createElement('div');\n",
              "          docLink.innerHTML = docLinkHtml;\n",
              "          element.appendChild(docLink);\n",
              "        }\n",
              "      </script>\n",
              "    </div>\n",
              "  </div>\n",
              "  "
            ],
            "text/plain": [
              "      OSEBuildingID  DataYear  ... TotalGHGEmissions GHGEmissionsIntensity\n",
              "3206          49784      2016  ...              -0.8                 -0.02\n",
              "\n",
              "[1 rows x 24 columns]"
            ]
          },
          "metadata": {},
          "execution_count": 49
        }
      ]
    },
    {
      "cell_type": "markdown",
      "source": [
        "Il ne semble pas avoir beaucoup de valeurs aberrantes dans ce dataset, exception faite des valeurs négatives trouvées dans les features PropertyGFAParking, PropertyGFABuilding, LargestPropertyUseTypeGFA, SourceEUI(kBtu/sf), Electricity(kWh), TotalGHGEmissions et GHGEmissionsIntensity"
      ],
      "metadata": {
        "id": "izumfTtFACzV"
      }
    },
    {
      "cell_type": "markdown",
      "source": [
        "Evaluation des variables utilisables ou non pour la problématique"
      ],
      "metadata": {
        "id": "J4EeC8mW5Hs-"
      }
    },
    {
      "cell_type": "code",
      "source": [
        "df_clean.reset_index(inplace=True, drop=True)"
      ],
      "metadata": {
        "id": "3b9I_K9aWR2k",
        "colab": {
          "base_uri": "https://localhost:8080/",
          "height": 165
        },
        "outputId": "4a8ec7f6-eeba-4c35-c710-0b7ee48c5499"
      },
      "execution_count": null,
      "outputs": [
        {
          "output_type": "error",
          "ename": "NameError",
          "evalue": "ignored",
          "traceback": [
            "\u001b[0;31m---------------------------------------------------------------------------\u001b[0m",
            "\u001b[0;31mNameError\u001b[0m                                 Traceback (most recent call last)",
            "\u001b[0;32m<ipython-input-50-54d3e50410e1>\u001b[0m in \u001b[0;36m<module>\u001b[0;34m()\u001b[0m\n\u001b[0;32m----> 1\u001b[0;31m \u001b[0mdf_clean\u001b[0m\u001b[0;34m.\u001b[0m\u001b[0mreset_index\u001b[0m\u001b[0;34m(\u001b[0m\u001b[0minplace\u001b[0m\u001b[0;34m=\u001b[0m\u001b[0;32mTrue\u001b[0m\u001b[0;34m,\u001b[0m \u001b[0mdrop\u001b[0m\u001b[0;34m=\u001b[0m\u001b[0;32mTrue\u001b[0m\u001b[0;34m)\u001b[0m\u001b[0;34m\u001b[0m\u001b[0;34m\u001b[0m\u001b[0m\n\u001b[0m",
            "\u001b[0;31mNameError\u001b[0m: name 'df_clean' is not defined"
          ]
        }
      ]
    },
    {
      "cell_type": "code",
      "source": [
        "df_clean.head()"
      ],
      "metadata": {
        "id": "PHxh8I40RnFE"
      },
      "execution_count": null,
      "outputs": []
    },
    {
      "cell_type": "markdown",
      "source": [
        "Sauvegarde de la database nettoyée"
      ],
      "metadata": {
        "id": "IdF6lj7xTT-D"
      }
    },
    {
      "cell_type": "code",
      "source": [
        "df_clean.to_csv('data_projet2_clean.csv', sep='\\t', index=False)"
      ],
      "metadata": {
        "id": "QXQNNb0dTTLD"
      },
      "execution_count": null,
      "outputs": []
    }
  ]
}