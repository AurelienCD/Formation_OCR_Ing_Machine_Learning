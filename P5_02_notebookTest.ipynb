{
  "cells": [
    {
      "cell_type": "markdown",
      "metadata": {
        "id": "view-in-github",
        "colab_type": "text"
      },
      "source": [
        "<a href=\"https://colab.research.google.com/github/AurelienCD/Formation_OCR_Ing_Machine_Learning/blob/main/P5_02_notebookTest.ipynb\" target=\"_parent\"><img src=\"https://colab.research.google.com/assets/colab-badge.svg\" alt=\"Open In Colab\"/></a>"
      ]
    },
    {
      "cell_type": "markdown",
      "metadata": {
        "id": "RnrPKrEBbjRT"
      },
      "source": [
        "Connexion au google drive, déplacement dans le dossier contenant les données nécessaires au projet"
      ]
    },
    {
      "cell_type": "code",
      "execution_count": null,
      "metadata": {
        "colab": {
          "base_uri": "https://localhost:8080/"
        },
        "id": "T5i5CaiYbh0u",
        "outputId": "7ffad0c5-ea37-4d8a-a454-eb4bbb0462ae"
      },
      "outputs": [
        {
          "name": "stdout",
          "output_type": "stream",
          "text": [
            "Mounted at /content/drive\n"
          ]
        }
      ],
      "source": [
        "from google.colab import drive\n",
        "drive.mount(\"/content/drive\")"
      ]
    },
    {
      "cell_type": "code",
      "execution_count": null,
      "metadata": {
        "colab": {
          "base_uri": "https://localhost:8080/"
        },
        "id": "6p4sG_DlbnQ9",
        "outputId": "05476d0e-6b0f-4f12-f2a3-9428f2460a9f"
      },
      "outputs": [
        {
          "name": "stdout",
          "output_type": "stream",
          "text": [
            "/content/drive/MyDrive/Formation_OCR_Ing_Machine_Learning/Projet 5\n"
          ]
        }
      ],
      "source": [
        "%cd drive/MyDrive/Formation_OCR_Ing_Machine_Learning/Projet 5"
      ]
    },
    {
      "cell_type": "markdown",
      "metadata": {
        "id": "49azK4Wyblv8"
      },
      "source": [
        "Importation des librairies nécessaires au projet"
      ]
    },
    {
      "cell_type": "code",
      "execution_count": null,
      "metadata": {
        "colab": {
          "background_save": true
        },
        "id": "ZtEiFdwLbZ2A"
      },
      "outputs": [],
      "source": [
        "import pandas as pad \n",
        "import numpy as np\n",
        "from numpy.core.numeric import NaN\n",
        "\n",
        "import matplotlib.pyplot as plt\n",
        "import seaborn as sns\n",
        "\n",
        "import statistics\n",
        "from scipy import stats\n",
        "from scipy.stats import pearsonr\n",
        "from scipy.stats import ttest_ind\n",
        "from sklearn.preprocessing import StandardScaler\n",
        "from sklearn.preprocessing import MultiLabelBinarizer\n",
        "from sklearn.pipeline import Pipeline\n",
        "from sklearn.feature_extraction.text import TfidfTransformer\n",
        "from sklearn.naive_bayes import MultinomialNB\n",
        "from sklearn import svm\n",
        "from sklearn.model_selection import GridSearchCV\n",
        "from sklearn.ensemble import RandomForestClassifier\n",
        "from sklearn.svm import LinearSVC\n",
        "\n",
        "from sklearn.metrics import accuracy_score\n",
        "from sklearn.metrics import f1_score\n",
        "from sklearn.metrics import recall_score\n",
        "from sklearn.metrics import precision_score\n",
        "\n",
        "import time\n",
        "import nltk\n",
        "\n",
        "from nltk.corpus import stopwords\n",
        "from nltk.tokenize import word_tokenize\n",
        "from nltk.stem import PorterStemmer\n",
        "from sklearn.feature_extraction.text import CountVectorizer\n",
        "from wordcloud import WordCloud\n",
        "import spacy\n",
        "\n",
        "from sklearn.model_selection import train_test_split\n",
        "from sklearn.decomposition import LatentDirichletAllocation\n",
        "\n",
        "import gensim\n",
        "import gensim.corpora as corpora\n",
        "from gensim.utils import simple_preprocess\n",
        "from gensim.models import CoherenceModel\n",
        "from gensim.corpora import Dictionary\n",
        "from gensim.matutils import corpus2csc\n",
        "\n",
        "\n",
        "from nltk.tokenize import RegexpTokenizer\n",
        "tokenizer = RegexpTokenizer(r'\\w+')\n",
        "\n",
        "from pprint import pprint\n",
        "\n",
        "from sklearn.feature_extraction.text import TfidfVectorizer\n",
        "from sklearn.multiclass import OneVsRestClassifier\n",
        "from sklearn.linear_model import SGDClassifier\n",
        "from sklearn import metrics\n",
        "from sklearn.metrics import f1_score,precision_score,recall_score\n",
        "\n",
        "\n",
        "from tensorflow.keras.preprocessing.text import Tokenizer\n",
        "from tensorflow.keras.preprocessing.sequence import pad_sequences\n",
        "from tensorflow.keras import metrics as kmetrics\n",
        "from tensorflow.keras.layers import *\n",
        "from tensorflow.keras.models import Model\n",
        "\n",
        "import tensorflow as tf\n",
        "# import tensorflow_hub as hub\n",
        "import tensorflow.keras\n",
        "from tensorflow.keras import backend as K\n",
        "\n",
        "from tensorflow.keras.preprocessing.text import Tokenizer\n",
        "from tensorflow.keras.preprocessing.sequence import pad_sequences\n",
        "from tensorflow.keras import metrics as kmetrics\n",
        "from tensorflow.keras.layers import *\n",
        "from tensorflow.keras.models import Model\n",
        "import tensorflow_hub as hub\n",
        "embed = hub.load(\"https://tfhub.dev/google/universal-sentence-encoder/4\")\n",
        "\n",
        "# Bert\n",
        "import os\n",
        "os.environ[\"TF_KERAS\"]='1'"
      ]
    },
    {
      "cell_type": "code",
      "execution_count": null,
      "metadata": {
        "colab": {
          "background_save": true
        },
        "id": "DeWARHpMzbqk"
      },
      "outputs": [],
      "source": [
        "from sklearn import manifold\n",
        "from sklearn.manifold import TSNE\n",
        "from joblib import dump, load\n",
        "from random import sample\n",
        "from sklearn.metrics import jaccard_score"
      ]
    },
    {
      "cell_type": "code",
      "execution_count": null,
      "metadata": {
        "colab": {
          "background_save": true,
          "base_uri": "https://localhost:8080/"
        },
        "id": "dCjLNtPxAO_6",
        "outputId": "f0ee8dbe-d1eb-4f3a-bdb6-8e581eaeb955"
      },
      "outputs": [
        {
          "name": "stdout",
          "output_type": "stream",
          "text": [
            "[nltk_data] Downloading package stopwords to /root/nltk_data...\n",
            "[nltk_data]   Unzipping corpora/stopwords.zip.\n",
            "[nltk_data] Downloading package punkt to /root/nltk_data...\n",
            "[nltk_data]   Unzipping tokenizers/punkt.zip.\n",
            "Collecting en_core_web_sm==2.2.5\n",
            "  Downloading https://github.com/explosion/spacy-models/releases/download/en_core_web_sm-2.2.5/en_core_web_sm-2.2.5.tar.gz (12.0 MB)\n",
            "\u001b[K     |████████████████████████████████| 12.0 MB 5.2 MB/s \n",
            "\u001b[?25hRequirement already satisfied: spacy>=2.2.2 in /usr/local/lib/python3.7/dist-packages (from en_core_web_sm==2.2.5) (2.2.4)\n",
            "Requirement already satisfied: preshed<3.1.0,>=3.0.2 in /usr/local/lib/python3.7/dist-packages (from spacy>=2.2.2->en_core_web_sm==2.2.5) (3.0.6)\n",
            "Requirement already satisfied: plac<1.2.0,>=0.9.6 in /usr/local/lib/python3.7/dist-packages (from spacy>=2.2.2->en_core_web_sm==2.2.5) (1.1.3)\n",
            "Requirement already satisfied: tqdm<5.0.0,>=4.38.0 in /usr/local/lib/python3.7/dist-packages (from spacy>=2.2.2->en_core_web_sm==2.2.5) (4.63.0)\n",
            "Requirement already satisfied: thinc==7.4.0 in /usr/local/lib/python3.7/dist-packages (from spacy>=2.2.2->en_core_web_sm==2.2.5) (7.4.0)\n",
            "Requirement already satisfied: catalogue<1.1.0,>=0.0.7 in /usr/local/lib/python3.7/dist-packages (from spacy>=2.2.2->en_core_web_sm==2.2.5) (1.0.0)\n",
            "Requirement already satisfied: numpy>=1.15.0 in /usr/local/lib/python3.7/dist-packages (from spacy>=2.2.2->en_core_web_sm==2.2.5) (1.21.5)\n",
            "Requirement already satisfied: srsly<1.1.0,>=1.0.2 in /usr/local/lib/python3.7/dist-packages (from spacy>=2.2.2->en_core_web_sm==2.2.5) (1.0.5)\n",
            "Requirement already satisfied: requests<3.0.0,>=2.13.0 in /usr/local/lib/python3.7/dist-packages (from spacy>=2.2.2->en_core_web_sm==2.2.5) (2.23.0)\n",
            "Requirement already satisfied: setuptools in /usr/local/lib/python3.7/dist-packages (from spacy>=2.2.2->en_core_web_sm==2.2.5) (57.4.0)\n",
            "Requirement already satisfied: murmurhash<1.1.0,>=0.28.0 in /usr/local/lib/python3.7/dist-packages (from spacy>=2.2.2->en_core_web_sm==2.2.5) (1.0.6)\n",
            "Requirement already satisfied: blis<0.5.0,>=0.4.0 in /usr/local/lib/python3.7/dist-packages (from spacy>=2.2.2->en_core_web_sm==2.2.5) (0.4.1)\n",
            "Requirement already satisfied: wasabi<1.1.0,>=0.4.0 in /usr/local/lib/python3.7/dist-packages (from spacy>=2.2.2->en_core_web_sm==2.2.5) (0.9.0)\n",
            "Requirement already satisfied: cymem<2.1.0,>=2.0.2 in /usr/local/lib/python3.7/dist-packages (from spacy>=2.2.2->en_core_web_sm==2.2.5) (2.0.6)\n",
            "Requirement already satisfied: importlib-metadata>=0.20 in /usr/local/lib/python3.7/dist-packages (from catalogue<1.1.0,>=0.0.7->spacy>=2.2.2->en_core_web_sm==2.2.5) (4.11.3)\n",
            "Requirement already satisfied: typing-extensions>=3.6.4 in /usr/local/lib/python3.7/dist-packages (from importlib-metadata>=0.20->catalogue<1.1.0,>=0.0.7->spacy>=2.2.2->en_core_web_sm==2.2.5) (3.10.0.2)\n",
            "Requirement already satisfied: zipp>=0.5 in /usr/local/lib/python3.7/dist-packages (from importlib-metadata>=0.20->catalogue<1.1.0,>=0.0.7->spacy>=2.2.2->en_core_web_sm==2.2.5) (3.7.0)\n",
            "Requirement already satisfied: chardet<4,>=3.0.2 in /usr/local/lib/python3.7/dist-packages (from requests<3.0.0,>=2.13.0->spacy>=2.2.2->en_core_web_sm==2.2.5) (3.0.4)\n",
            "Requirement already satisfied: certifi>=2017.4.17 in /usr/local/lib/python3.7/dist-packages (from requests<3.0.0,>=2.13.0->spacy>=2.2.2->en_core_web_sm==2.2.5) (2021.10.8)\n",
            "Requirement already satisfied: idna<3,>=2.5 in /usr/local/lib/python3.7/dist-packages (from requests<3.0.0,>=2.13.0->spacy>=2.2.2->en_core_web_sm==2.2.5) (2.10)\n",
            "Requirement already satisfied: urllib3!=1.25.0,!=1.25.1,<1.26,>=1.21.1 in /usr/local/lib/python3.7/dist-packages (from requests<3.0.0,>=2.13.0->spacy>=2.2.2->en_core_web_sm==2.2.5) (1.24.3)\n",
            "\u001b[38;5;2m✔ Download and installation successful\u001b[0m\n",
            "You can now load the model via spacy.load('en_core_web_sm')\n"
          ]
        }
      ],
      "source": [
        "nltk.download('stopwords')\n",
        "nltk.download('punkt')\n",
        "!python -m spacy download en_core_web_sm"
      ]
    },
    {
      "cell_type": "code",
      "execution_count": null,
      "metadata": {
        "colab": {
          "background_save": true
        },
        "id": "mvXRm9fhg3Zc",
        "outputId": "8b1fe772-d5d2-4119-9127-c0a0baba34ad"
      },
      "outputs": [
        {
          "name": "stdout",
          "output_type": "stream",
          "text": [
            "Collecting transformers\n",
            "  Downloading transformers-4.17.0-py3-none-any.whl (3.8 MB)\n",
            "\u001b[K     |████████████████████████████████| 3.8 MB 5.2 MB/s \n",
            "\u001b[?25hRequirement already satisfied: packaging>=20.0 in /usr/local/lib/python3.7/dist-packages (from transformers) (21.3)\n",
            "Requirement already satisfied: filelock in /usr/local/lib/python3.7/dist-packages (from transformers) (3.6.0)\n",
            "Collecting huggingface-hub<1.0,>=0.1.0\n",
            "  Downloading huggingface_hub-0.4.0-py3-none-any.whl (67 kB)\n",
            "\u001b[K     |████████████████████████████████| 67 kB 4.2 MB/s \n",
            "\u001b[?25hRequirement already satisfied: regex!=2019.12.17 in /usr/local/lib/python3.7/dist-packages (from transformers) (2019.12.20)\n",
            "Requirement already satisfied: requests in /usr/local/lib/python3.7/dist-packages (from transformers) (2.23.0)\n",
            "Collecting sacremoses\n",
            "  Downloading sacremoses-0.0.49-py3-none-any.whl (895 kB)\n",
            "\u001b[K     |████████████████████████████████| 895 kB 68.1 MB/s \n",
            "\u001b[?25hRequirement already satisfied: tqdm>=4.27 in /usr/local/lib/python3.7/dist-packages (from transformers) (4.63.0)\n",
            "Collecting pyyaml>=5.1\n",
            "  Downloading PyYAML-6.0-cp37-cp37m-manylinux_2_5_x86_64.manylinux1_x86_64.manylinux_2_12_x86_64.manylinux2010_x86_64.whl (596 kB)\n",
            "\u001b[K     |████████████████████████████████| 596 kB 57.3 MB/s \n",
            "\u001b[?25hCollecting tokenizers!=0.11.3,>=0.11.1\n",
            "  Downloading tokenizers-0.12.0-cp37-cp37m-manylinux_2_12_x86_64.manylinux2010_x86_64.whl (6.6 MB)\n",
            "\u001b[K     |████████████████████████████████| 6.6 MB 53.6 MB/s \n",
            "\u001b[?25hRequirement already satisfied: numpy>=1.17 in /usr/local/lib/python3.7/dist-packages (from transformers) (1.21.5)\n",
            "Requirement already satisfied: importlib-metadata in /usr/local/lib/python3.7/dist-packages (from transformers) (4.11.3)\n",
            "Requirement already satisfied: typing-extensions>=3.7.4.3 in /usr/local/lib/python3.7/dist-packages (from huggingface-hub<1.0,>=0.1.0->transformers) (3.10.0.2)\n",
            "Requirement already satisfied: pyparsing!=3.0.5,>=2.0.2 in /usr/local/lib/python3.7/dist-packages (from packaging>=20.0->transformers) (3.0.7)\n",
            "Requirement already satisfied: zipp>=0.5 in /usr/local/lib/python3.7/dist-packages (from importlib-metadata->transformers) (3.7.0)\n",
            "Requirement already satisfied: urllib3!=1.25.0,!=1.25.1,<1.26,>=1.21.1 in /usr/local/lib/python3.7/dist-packages (from requests->transformers) (1.24.3)\n",
            "Requirement already satisfied: chardet<4,>=3.0.2 in /usr/local/lib/python3.7/dist-packages (from requests->transformers) (3.0.4)\n",
            "Requirement already satisfied: certifi>=2017.4.17 in /usr/local/lib/python3.7/dist-packages (from requests->transformers) (2021.10.8)\n",
            "Requirement already satisfied: idna<3,>=2.5 in /usr/local/lib/python3.7/dist-packages (from requests->transformers) (2.10)\n",
            "Requirement already satisfied: six in /usr/local/lib/python3.7/dist-packages (from sacremoses->transformers) (1.15.0)\n",
            "Requirement already satisfied: click in /usr/local/lib/python3.7/dist-packages (from sacremoses->transformers) (7.1.2)\n",
            "Requirement already satisfied: joblib in /usr/local/lib/python3.7/dist-packages (from sacremoses->transformers) (1.1.0)\n",
            "Installing collected packages: pyyaml, tokenizers, sacremoses, huggingface-hub, transformers\n",
            "  Attempting uninstall: pyyaml\n",
            "    Found existing installation: PyYAML 3.13\n",
            "    Uninstalling PyYAML-3.13:\n",
            "      Successfully uninstalled PyYAML-3.13\n",
            "Successfully installed huggingface-hub-0.4.0 pyyaml-6.0 sacremoses-0.0.49 tokenizers-0.12.0 transformers-4.17.0\n"
          ]
        }
      ],
      "source": [
        "pip install transformers"
      ]
    },
    {
      "cell_type": "code",
      "execution_count": null,
      "metadata": {
        "colab": {
          "background_save": true
        },
        "id": "qUWmcgVS023I"
      },
      "outputs": [],
      "source": [
        "from sklearn import cluster, metrics\n",
        "from sklearn import manifold, decomposition\n",
        "import logging"
      ]
    },
    {
      "cell_type": "code",
      "execution_count": 359,
      "metadata": {
        "id": "t2mjIrIbg7-8"
      },
      "outputs": [],
      "source": [
        "import transformers\n",
        "import random"
      ]
    },
    {
      "cell_type": "code",
      "execution_count": null,
      "metadata": {
        "id": "zC02kgWNkiMM"
      },
      "outputs": [],
      "source": [
        "pip install pyLDAvis"
      ]
    },
    {
      "cell_type": "code",
      "execution_count": null,
      "metadata": {
        "colab": {
          "background_save": true
        },
        "id": "No45l2wmhKak",
        "outputId": "7d9166e7-291c-4529-fa2b-33e91b6179a5"
      },
      "outputs": [
        {
          "name": "stdout",
          "output_type": "stream",
          "text": [
            "2.8.0\n",
            "2.8.0\n",
            "Num GPUs Available:  0\n",
            "True\n"
          ]
        }
      ],
      "source": [
        "print(tf.__version__)\n",
        "print(tensorflow.__version__)\n",
        "print(\"Num GPUs Available: \", len(tf.config.experimental.list_physical_devices('GPU')))\n",
        "print(tf.test.is_built_with_cuda())"
      ]
    },
    {
      "cell_type": "code",
      "execution_count": null,
      "metadata": {
        "id": "zoQeXdHE91Ew"
      },
      "outputs": [],
      "source": [
        "import pyLDAvis\n",
        "import pyLDAvis.gensim_models as gensimvis"
      ]
    },
    {
      "cell_type": "code",
      "execution_count": null,
      "metadata": {
        "id": "0BaSwaGpbt8v"
      },
      "outputs": [],
      "source": [
        "df = pad.read_csv('data_projet5_clean.csv', sep='\\t')"
      ]
    },
    {
      "cell_type": "code",
      "execution_count": null,
      "metadata": {
        "colab": {
          "base_uri": "https://localhost:8080/",
          "height": 667
        },
        "id": "IrXlwwlNZvNe",
        "outputId": "6ad59701-8b0f-4d8e-afdc-e7678cabeeaa"
      },
      "outputs": [
        {
          "data": {
            "text/html": [
              "\n",
              "  <div id=\"df-6b02c27c-ee03-4a23-90c8-ad9d5f02fae2\">\n",
              "    <div class=\"colab-df-container\">\n",
              "      <div>\n",
              "<style scoped>\n",
              "    .dataframe tbody tr th:only-of-type {\n",
              "        vertical-align: middle;\n",
              "    }\n",
              "\n",
              "    .dataframe tbody tr th {\n",
              "        vertical-align: top;\n",
              "    }\n",
              "\n",
              "    .dataframe thead th {\n",
              "        text-align: right;\n",
              "    }\n",
              "</style>\n",
              "<table border=\"1\" class=\"dataframe\">\n",
              "  <thead>\n",
              "    <tr style=\"text-align: right;\">\n",
              "      <th></th>\n",
              "      <th>Unnamed: 0</th>\n",
              "      <th>Unnamed: 0.1</th>\n",
              "      <th>Body</th>\n",
              "      <th>Tags</th>\n",
              "      <th>Title</th>\n",
              "      <th>Title_Clean</th>\n",
              "      <th>Body_Clean</th>\n",
              "      <th>Tags_Clean</th>\n",
              "      <th>Title_and_Body_Clean</th>\n",
              "    </tr>\n",
              "  </thead>\n",
              "  <tbody>\n",
              "    <tr>\n",
              "      <th>0</th>\n",
              "      <td>0</td>\n",
              "      <td>0</td>\n",
              "      <td>&lt;p&gt;I want to use a &lt;code&gt;Track-Bar&lt;/code&gt; to c...</td>\n",
              "      <td>&lt;c#&gt;&lt;floating-point&gt;&lt;type-conversion&gt;&lt;double&gt;&lt;...</td>\n",
              "      <td>How to convert a Decimal to a Double in C#?</td>\n",
              "      <td>convert decimal double c #</td>\n",
              "      <td>want use &lt; code &gt; track-bar &lt; /code &gt; change &lt;...</td>\n",
              "      <td>c# floating-point type-conversion double deci...</td>\n",
              "      <td>convert, decimal, double, code, track, bar, co...</td>\n",
              "    </tr>\n",
              "    <tr>\n",
              "      <th>1</th>\n",
              "      <td>1</td>\n",
              "      <td>1</td>\n",
              "      <td>&lt;p&gt;I have an absolutely positioned &lt;code&gt;div&lt;/...</td>\n",
              "      <td>&lt;html&gt;&lt;css&gt;&lt;internet-explorer-7&gt;</td>\n",
              "      <td>Why did the width collapse in the percentage w...</td>\n",
              "      <td>width collapse percentage width child element ...</td>\n",
              "      <td>absolutely positioned &lt; code &gt; div &lt; /code &gt; c...</td>\n",
              "      <td>html css internet-explorer-7</td>\n",
              "      <td>width, collapse, percentage, width, child, ele...</td>\n",
              "    </tr>\n",
              "    <tr>\n",
              "      <th>2</th>\n",
              "      <td>2</td>\n",
              "      <td>2</td>\n",
              "      <td>&lt;p&gt;Given a &lt;code&gt;DateTime&lt;/code&gt; representing ...</td>\n",
              "      <td>&lt;c#&gt;&lt;.net&gt;&lt;datetime&gt;</td>\n",
              "      <td>How do I calculate someone's age based on a Da...</td>\n",
              "      <td>calculate someone age based datetime type birt...</td>\n",
              "      <td>given &lt; code &gt; datetime &lt; /code &gt; representing...</td>\n",
              "      <td>c# .net datetime</td>\n",
              "      <td>calculate, age, base, represent, person, birth...</td>\n",
              "    </tr>\n",
              "    <tr>\n",
              "      <th>3</th>\n",
              "      <td>3</td>\n",
              "      <td>3</td>\n",
              "      <td>&lt;p&gt;Given a specific &lt;code&gt;DateTime&lt;/code&gt; valu...</td>\n",
              "      <td>&lt;c#&gt;&lt;datetime&gt;&lt;time&gt;&lt;datediff&gt;&lt;relative-time-s...</td>\n",
              "      <td>Calculate relative time in C#</td>\n",
              "      <td>calculate relative time c #</td>\n",
              "      <td>given specific &lt; code &gt; datetime &lt; /code &gt; val...</td>\n",
              "      <td>c# datetime time datediff relative-time-span</td>\n",
              "      <td>calculate, relative, time, give, specific, cod...</td>\n",
              "    </tr>\n",
              "    <tr>\n",
              "      <th>4</th>\n",
              "      <td>4</td>\n",
              "      <td>4</td>\n",
              "      <td>&lt;p&gt;Is there a standard way for a web server to...</td>\n",
              "      <td>&lt;html&gt;&lt;browser&gt;&lt;timezone&gt;&lt;user-agent&gt;&lt;timezone...</td>\n",
              "      <td>Determine a user's timezone</td>\n",
              "      <td>determine user timezon</td>\n",
              "      <td>standard web server able determine user timezo...</td>\n",
              "      <td>html browser timezone user-agent timezone-off...</td>\n",
              "      <td>determine, web, server, able, determine, timez...</td>\n",
              "    </tr>\n",
              "    <tr>\n",
              "      <th>...</th>\n",
              "      <td>...</td>\n",
              "      <td>...</td>\n",
              "      <td>...</td>\n",
              "      <td>...</td>\n",
              "      <td>...</td>\n",
              "      <td>...</td>\n",
              "      <td>...</td>\n",
              "      <td>...</td>\n",
              "      <td>...</td>\n",
              "    </tr>\n",
              "    <tr>\n",
              "      <th>49752</th>\n",
              "      <td>49752</td>\n",
              "      <td>49995</td>\n",
              "      <td>&lt;p&gt;For a long time now C++ has been the domina...</td>\n",
              "      <td>&lt;c#&gt;&lt;mono&gt;&lt;xna&gt;</td>\n",
              "      <td>Viability of C#/.NET as the new standard game ...</td>\n",
              "      <td>viability c # /.net new standard game dev plat...</td>\n",
              "      <td>for long time c++ dominate game development la...</td>\n",
              "      <td>c# mono xna</td>\n",
              "      <td>long, time, game, development, language, many,...</td>\n",
              "    </tr>\n",
              "    <tr>\n",
              "      <th>49753</th>\n",
              "      <td>49753</td>\n",
              "      <td>49996</td>\n",
              "      <td>&lt;p&gt;I have a NavigationWindow which hosts a ser...</td>\n",
              "      <td>&lt;wpf&gt;&lt;animation&gt;&lt;navigationwindow&gt;</td>\n",
              "      <td>Is it possible to have an animation appear on ...</td>\n",
              "      <td>possible animation appear wpf navigationwindow</td>\n",
              "      <td>navigationwindow hosts series pages . for desi...</td>\n",
              "      <td>wpf animation navigationwindow</td>\n",
              "      <td>possible, animation, appear, page, design, rea...</td>\n",
              "    </tr>\n",
              "    <tr>\n",
              "      <th>49754</th>\n",
              "      <td>49754</td>\n",
              "      <td>49997</td>\n",
              "      <td>&lt;p&gt;I'm sure there's a simple explanation for t...</td>\n",
              "      <td>&lt;apache-flex&gt;&lt;flexbuilder&gt;</td>\n",
              "      <td>Deploying Flex Projects Leveraging Imported We...</td>\n",
              "      <td>deploying flex projects leveraging imported we...</td>\n",
              "      <td>'m sure simple explanation n't much luck findi...</td>\n",
              "      <td>apache-flex flexbuilder</td>\n",
              "      <td>deploy, flex, project, leverage, import, web, ...</td>\n",
              "    </tr>\n",
              "    <tr>\n",
              "      <th>49755</th>\n",
              "      <td>49755</td>\n",
              "      <td>49998</td>\n",
              "      <td>&lt;p&gt;I need a way to compute the nth root of a l...</td>\n",
              "      <td>&lt;python&gt;&lt;math&gt;&lt;nth-root&gt;</td>\n",
              "      <td>How to compute the nth root of a very big integer</td>\n",
              "      <td>compute nth root big integ</td>\n",
              "      <td>need compute nth root long integer python . &lt; ...</td>\n",
              "      <td>python math nth-root</td>\n",
              "      <td>nth, root, compute, nth, root, long, try, long...</td>\n",
              "    </tr>\n",
              "    <tr>\n",
              "      <th>49756</th>\n",
              "      <td>49756</td>\n",
              "      <td>49999</td>\n",
              "      <td>&lt;p&gt;I need return a list of the element &lt;code&gt;&amp;...</td>\n",
              "      <td>&lt;xml&gt;&lt;linq&gt;</td>\n",
              "      <td>linq to xml: how to select the value from elem...</td>\n",
              "      <td>linq xml select value el</td>\n",
              "      <td>need return list element &lt; code &gt; &amp; lt ; asset...</td>\n",
              "      <td>xml linq</td>\n",
              "      <td>select, value, elnee, return, list, element, q...</td>\n",
              "    </tr>\n",
              "  </tbody>\n",
              "</table>\n",
              "<p>49757 rows × 9 columns</p>\n",
              "</div>\n",
              "      <button class=\"colab-df-convert\" onclick=\"convertToInteractive('df-6b02c27c-ee03-4a23-90c8-ad9d5f02fae2')\"\n",
              "              title=\"Convert this dataframe to an interactive table.\"\n",
              "              style=\"display:none;\">\n",
              "        \n",
              "  <svg xmlns=\"http://www.w3.org/2000/svg\" height=\"24px\"viewBox=\"0 0 24 24\"\n",
              "       width=\"24px\">\n",
              "    <path d=\"M0 0h24v24H0V0z\" fill=\"none\"/>\n",
              "    <path d=\"M18.56 5.44l.94 2.06.94-2.06 2.06-.94-2.06-.94-.94-2.06-.94 2.06-2.06.94zm-11 1L8.5 8.5l.94-2.06 2.06-.94-2.06-.94L8.5 2.5l-.94 2.06-2.06.94zm10 10l.94 2.06.94-2.06 2.06-.94-2.06-.94-.94-2.06-.94 2.06-2.06.94z\"/><path d=\"M17.41 7.96l-1.37-1.37c-.4-.4-.92-.59-1.43-.59-.52 0-1.04.2-1.43.59L10.3 9.45l-7.72 7.72c-.78.78-.78 2.05 0 2.83L4 21.41c.39.39.9.59 1.41.59.51 0 1.02-.2 1.41-.59l7.78-7.78 2.81-2.81c.8-.78.8-2.07 0-2.86zM5.41 20L4 18.59l7.72-7.72 1.47 1.35L5.41 20z\"/>\n",
              "  </svg>\n",
              "      </button>\n",
              "      \n",
              "  <style>\n",
              "    .colab-df-container {\n",
              "      display:flex;\n",
              "      flex-wrap:wrap;\n",
              "      gap: 12px;\n",
              "    }\n",
              "\n",
              "    .colab-df-convert {\n",
              "      background-color: #E8F0FE;\n",
              "      border: none;\n",
              "      border-radius: 50%;\n",
              "      cursor: pointer;\n",
              "      display: none;\n",
              "      fill: #1967D2;\n",
              "      height: 32px;\n",
              "      padding: 0 0 0 0;\n",
              "      width: 32px;\n",
              "    }\n",
              "\n",
              "    .colab-df-convert:hover {\n",
              "      background-color: #E2EBFA;\n",
              "      box-shadow: 0px 1px 2px rgba(60, 64, 67, 0.3), 0px 1px 3px 1px rgba(60, 64, 67, 0.15);\n",
              "      fill: #174EA6;\n",
              "    }\n",
              "\n",
              "    [theme=dark] .colab-df-convert {\n",
              "      background-color: #3B4455;\n",
              "      fill: #D2E3FC;\n",
              "    }\n",
              "\n",
              "    [theme=dark] .colab-df-convert:hover {\n",
              "      background-color: #434B5C;\n",
              "      box-shadow: 0px 1px 3px 1px rgba(0, 0, 0, 0.15);\n",
              "      filter: drop-shadow(0px 1px 2px rgba(0, 0, 0, 0.3));\n",
              "      fill: #FFFFFF;\n",
              "    }\n",
              "  </style>\n",
              "\n",
              "      <script>\n",
              "        const buttonEl =\n",
              "          document.querySelector('#df-6b02c27c-ee03-4a23-90c8-ad9d5f02fae2 button.colab-df-convert');\n",
              "        buttonEl.style.display =\n",
              "          google.colab.kernel.accessAllowed ? 'block' : 'none';\n",
              "\n",
              "        async function convertToInteractive(key) {\n",
              "          const element = document.querySelector('#df-6b02c27c-ee03-4a23-90c8-ad9d5f02fae2');\n",
              "          const dataTable =\n",
              "            await google.colab.kernel.invokeFunction('convertToInteractive',\n",
              "                                                     [key], {});\n",
              "          if (!dataTable) return;\n",
              "\n",
              "          const docLinkHtml = 'Like what you see? Visit the ' +\n",
              "            '<a target=\"_blank\" href=https://colab.research.google.com/notebooks/data_table.ipynb>data table notebook</a>'\n",
              "            + ' to learn more about interactive tables.';\n",
              "          element.innerHTML = '';\n",
              "          dataTable['output_type'] = 'display_data';\n",
              "          await google.colab.output.renderOutput(dataTable, element);\n",
              "          const docLink = document.createElement('div');\n",
              "          docLink.innerHTML = docLinkHtml;\n",
              "          element.appendChild(docLink);\n",
              "        }\n",
              "      </script>\n",
              "    </div>\n",
              "  </div>\n",
              "  "
            ],
            "text/plain": [
              "       Unnamed: 0  Unnamed: 0.1  \\\n",
              "0               0             0   \n",
              "1               1             1   \n",
              "2               2             2   \n",
              "3               3             3   \n",
              "4               4             4   \n",
              "...           ...           ...   \n",
              "49752       49752         49995   \n",
              "49753       49753         49996   \n",
              "49754       49754         49997   \n",
              "49755       49755         49998   \n",
              "49756       49756         49999   \n",
              "\n",
              "                                                    Body  \\\n",
              "0      <p>I want to use a <code>Track-Bar</code> to c...   \n",
              "1      <p>I have an absolutely positioned <code>div</...   \n",
              "2      <p>Given a <code>DateTime</code> representing ...   \n",
              "3      <p>Given a specific <code>DateTime</code> valu...   \n",
              "4      <p>Is there a standard way for a web server to...   \n",
              "...                                                  ...   \n",
              "49752  <p>For a long time now C++ has been the domina...   \n",
              "49753  <p>I have a NavigationWindow which hosts a ser...   \n",
              "49754  <p>I'm sure there's a simple explanation for t...   \n",
              "49755  <p>I need a way to compute the nth root of a l...   \n",
              "49756  <p>I need return a list of the element <code>&...   \n",
              "\n",
              "                                                    Tags  \\\n",
              "0      <c#><floating-point><type-conversion><double><...   \n",
              "1                       <html><css><internet-explorer-7>   \n",
              "2                                   <c#><.net><datetime>   \n",
              "3      <c#><datetime><time><datediff><relative-time-s...   \n",
              "4      <html><browser><timezone><user-agent><timezone...   \n",
              "...                                                  ...   \n",
              "49752                                    <c#><mono><xna>   \n",
              "49753                 <wpf><animation><navigationwindow>   \n",
              "49754                         <apache-flex><flexbuilder>   \n",
              "49755                           <python><math><nth-root>   \n",
              "49756                                        <xml><linq>   \n",
              "\n",
              "                                                   Title  \\\n",
              "0            How to convert a Decimal to a Double in C#?   \n",
              "1      Why did the width collapse in the percentage w...   \n",
              "2      How do I calculate someone's age based on a Da...   \n",
              "3                          Calculate relative time in C#   \n",
              "4                            Determine a user's timezone   \n",
              "...                                                  ...   \n",
              "49752  Viability of C#/.NET as the new standard game ...   \n",
              "49753  Is it possible to have an animation appear on ...   \n",
              "49754  Deploying Flex Projects Leveraging Imported We...   \n",
              "49755  How to compute the nth root of a very big integer   \n",
              "49756  linq to xml: how to select the value from elem...   \n",
              "\n",
              "                                             Title_Clean  \\\n",
              "0                             convert decimal double c #   \n",
              "1      width collapse percentage width child element ...   \n",
              "2      calculate someone age based datetime type birt...   \n",
              "3                            calculate relative time c #   \n",
              "4                                 determine user timezon   \n",
              "...                                                  ...   \n",
              "49752  viability c # /.net new standard game dev plat...   \n",
              "49753     possible animation appear wpf navigationwindow   \n",
              "49754  deploying flex projects leveraging imported we...   \n",
              "49755                         compute nth root big integ   \n",
              "49756                           linq xml select value el   \n",
              "\n",
              "                                              Body_Clean  \\\n",
              "0      want use < code > track-bar < /code > change <...   \n",
              "1      absolutely positioned < code > div < /code > c...   \n",
              "2      given < code > datetime < /code > representing...   \n",
              "3      given specific < code > datetime < /code > val...   \n",
              "4      standard web server able determine user timezo...   \n",
              "...                                                  ...   \n",
              "49752  for long time c++ dominate game development la...   \n",
              "49753  navigationwindow hosts series pages . for desi...   \n",
              "49754  'm sure simple explanation n't much luck findi...   \n",
              "49755  need compute nth root long integer python . < ...   \n",
              "49756  need return list element < code > & lt ; asset...   \n",
              "\n",
              "                                              Tags_Clean  \\\n",
              "0       c# floating-point type-conversion double deci...   \n",
              "1                          html css internet-explorer-7    \n",
              "2                                      c# .net datetime    \n",
              "3          c# datetime time datediff relative-time-span    \n",
              "4       html browser timezone user-agent timezone-off...   \n",
              "...                                                  ...   \n",
              "49752                                       c# mono xna    \n",
              "49753                    wpf animation navigationwindow    \n",
              "49754                           apache-flex flexbuilder    \n",
              "49755                              python math nth-root    \n",
              "49756                                          xml linq    \n",
              "\n",
              "                                    Title_and_Body_Clean  \n",
              "0      convert, decimal, double, code, track, bar, co...  \n",
              "1      width, collapse, percentage, width, child, ele...  \n",
              "2      calculate, age, base, represent, person, birth...  \n",
              "3      calculate, relative, time, give, specific, cod...  \n",
              "4      determine, web, server, able, determine, timez...  \n",
              "...                                                  ...  \n",
              "49752  long, time, game, development, language, many,...  \n",
              "49753  possible, animation, appear, page, design, rea...  \n",
              "49754  deploy, flex, project, leverage, import, web, ...  \n",
              "49755  nth, root, compute, nth, root, long, try, long...  \n",
              "49756  select, value, elnee, return, list, element, q...  \n",
              "\n",
              "[49757 rows x 9 columns]"
            ]
          },
          "execution_count": 50,
          "metadata": {},
          "output_type": "execute_result"
        }
      ],
      "source": [
        "df"
      ]
    },
    {
      "cell_type": "markdown",
      "metadata": {
        "id": "8vNvo1eY2HQO"
      },
      "source": [
        "# Modèle non-supervisé"
      ]
    },
    {
      "cell_type": "markdown",
      "metadata": {
        "id": "OMQNYVEHNqZa"
      },
      "source": [
        "## GENSIM"
      ]
    },
    {
      "cell_type": "markdown",
      "metadata": {
        "id": "35mZU7NKNyiA"
      },
      "source": [
        "Préparation du corpus"
      ]
    },
    {
      "cell_type": "code",
      "execution_count": 356,
      "metadata": {
        "id": "vqxs1VWf3c4b"
      },
      "outputs": [],
      "source": [
        "data_words = load('data_words.joblib')"
      ]
    },
    {
      "cell_type": "code",
      "execution_count": 202,
      "metadata": {
        "id": "3slSR6uPSRXd"
      },
      "outputs": [],
      "source": [
        "from pandas.core.common import random_state\n",
        "data_words = sample(data_words,1000)"
      ]
    },
    {
      "cell_type": "code",
      "execution_count": null,
      "metadata": {
        "colab": {
          "base_uri": "https://localhost:8080/"
        },
        "id": "RB0YpswtSfKk",
        "outputId": "e0fe1427-137a-4993-9f03-104e1db65b5f"
      },
      "outputs": [
        {
          "output_type": "stream",
          "name": "stdout",
          "text": [
            "[(0, 1), (1, 1), (2, 1), (3, 3), (4, 3), (5, 2), (6, 1), (7, 1), (8, 1), (9, 2), (10, 1), (11, 1), (12, 1), (13, 1), (14, 1), (15, 1), (16, 1), (17, 1), (18, 6), (19, 1), (20, 1), (21, 1), (22, 1), (23, 1), (24, 1), (25, 1), (26, 1), (27, 1), (28, 1), (29, 2)]\n"
          ]
        }
      ],
      "source": [
        "# Create Dictionary\n",
        "id2word = corpora.Dictionary(data_words)\n",
        "\n",
        "# Create Corpus\n",
        "texts = data_words\n",
        "\n",
        "# Term Document Frequency\n",
        "corpus = [id2word.doc2bow(text) for text in texts]\n",
        "\n",
        "# View\n",
        "print(corpus[:1][0][:30])"
      ]
    },
    {
      "cell_type": "markdown",
      "metadata": {
        "id": "1Mv-BcXK4VpE"
      },
      "source": [
        "Entrainement du modèle non-supervisé"
      ]
    },
    {
      "cell_type": "code",
      "execution_count": null,
      "metadata": {
        "id": "eeqSOei6Sjad"
      },
      "outputs": [],
      "source": [
        "# Build LDA model\n",
        "lda_model = gensim.models.LdaMulticore(corpus=corpus, id2word=id2word, num_topics=10, random_state=7, chunksize=100, passes=10, per_word_topics=True)"
      ]
    },
    {
      "cell_type": "code",
      "execution_count": null,
      "metadata": {
        "colab": {
          "base_uri": "https://localhost:8080/"
        },
        "id": "A6vOV7fESyXl",
        "outputId": "109f3462-d8f0-46bd-8ad0-c259d738b05b"
      },
      "outputs": [
        {
          "name": "stdout",
          "output_type": "stream",
          "text": [
            "[(0,\n",
            "  '0.026*\"address\" + 0.025*\"table\" + 0.018*\"row\" + 0.015*\"column\" + '\n",
            "  '0.013*\"key\" + 0.012*\"datum\" + 0.012*\"write\" + 0.012*\"print\" + 0.011*\"would\" '\n",
            "  '+ 0.011*\"size\"'),\n",
            " (1,\n",
            "  '0.019*\"com\" + 0.018*\"application\" + 0.015*\"image\" + 0.012*\"input\" + '\n",
            "  '0.011*\"sample\" + 0.010*\"request\" + 0.009*\"net\" + 0.009*\"send\" + '\n",
            "  '0.009*\"domain\" + 0.009*\"use\"'),\n",
            " (2,\n",
            "  '0.029*\"string\" + 0.017*\"code\" + 0.016*\"word\" + 0.014*\"report\" + '\n",
            "  '0.013*\"stre\" + 0.012*\"text\" + 0.012*\"resource\" + 0.012*\"language\" + '\n",
            "  '0.011*\"example\" + 0.010*\"system\"'),\n",
            " (3,\n",
            "  '0.039*\"code\" + 0.018*\"would\" + 0.017*\"element\" + 0.017*\"child\" + '\n",
            "  '0.013*\"view\" + 0.012*\"replace\" + 0.012*\"number\" + 0.010*\"source\" + '\n",
            "  '0.009*\"controller\" + 0.008*\"style\"'),\n",
            " (4,\n",
            "  '0.019*\"page\" + 0.017*\"web\" + 0.015*\"use\" + 0.014*\"tool\" + 0.011*\"problem\" + '\n",
            "  '0.010*\"application\" + 0.009*\"server\" + 0.009*\"site\" + 0.008*\"service\" + '\n",
            "  '0.008*\"database\"'),\n",
            " (5,\n",
            "  '0.074*\"file\" + 0.024*\"server\" + 0.019*\"use\" + 0.018*\"build\" + '\n",
            "  '0.016*\"application\" + 0.015*\"project\" + 0.014*\"run\" + 0.010*\"window\" + '\n",
            "  '0.010*\"include\" + 0.009*\"program\"'),\n",
            " (6,\n",
            "  '0.056*\"code\" + 0.050*\"class\" + 0.036*\"test\" + 0.025*\"public\" + '\n",
            "  '0.013*\"method\" + 0.011*\"void\" + 0.010*\"foo\" + 0.010*\"return\" + 0.009*\"use\" '\n",
            "  '+ 0.009*\"static\"'),\n",
            " (7,\n",
            "  '0.035*\"object\" + 0.031*\"name\" + 0.028*\"value\" + 0.027*\"code\" + 0.016*\"type\" '\n",
            "  '+ 0.014*\"exception\" + 0.013*\"call\" + 0.013*\"list\" + 0.013*\"method\" + '\n",
            "  '0.013*\"parameter\"'),\n",
            " (8,\n",
            "  '0.050*\"code\" + 0.014*\"function\" + 0.012*\"use\" + 0.012*\"system\" + '\n",
            "  '0.011*\"pattern\" + 0.010*\"web\" + 0.010*\"database\" + 0.009*\"return\" + '\n",
            "  '0.009*\"path\" + 0.009*\"type\"'),\n",
            " (9,\n",
            "  '0.021*\"use\" + 0.016*\"point\" + 0.014*\"time\" + 0.011*\"part\" + 0.010*\"number\" '\n",
            "  '+ 0.010*\"flash\" + 0.009*\"list\" + 0.009*\"day\" + 0.008*\"function\" + '\n",
            "  '0.008*\"date\"')]\n"
          ]
        }
      ],
      "source": [
        "# Print the Keyword in the 10 topics\n",
        "pprint(lda_model.print_topics())\n",
        "doc_lda = lda_model[corpus]"
      ]
    },
    {
      "cell_type": "code",
      "execution_count": null,
      "metadata": {
        "colab": {
          "base_uri": "https://localhost:8080/"
        },
        "id": "kITMjpcwS5cl",
        "outputId": "f9699a85-10b2-4851-e204-2a063973dde2"
      },
      "outputs": [
        {
          "name": "stdout",
          "output_type": "stream",
          "text": [
            "Coherence Score:  0.29846972942292305\n"
          ]
        }
      ],
      "source": [
        "# Compute Coherence Score\n",
        "coherence_model_lda = CoherenceModel(model=lda_model, texts=data_words, dictionary=id2word, coherence='c_v')\n",
        "coherence_lda = coherence_model_lda.get_coherence()\n",
        "print('Coherence Score: ', coherence_lda)"
      ]
    },
    {
      "cell_type": "code",
      "execution_count": null,
      "metadata": {
        "id": "_73x5hVj4iNX"
      },
      "outputs": [],
      "source": [
        "nb_of_topics = [1,10,20,30,40,50,60,70,80,90,100]"
      ]
    },
    {
      "cell_type": "code",
      "execution_count": null,
      "metadata": {
        "id": "3hg2zNYBUYr8"
      },
      "outputs": [],
      "source": [
        "score = []\n",
        "for n in nb_of_topics:\n",
        "    lda_model = gensim.models.LdaMulticore(corpus=corpus, id2word=id2word, num_topics=n, random_state=7, chunksize=100, passes=10, per_word_topics=True)\n",
        "    coherence_model_lda = CoherenceModel(model=lda_model, texts=data_words, dictionary=id2word, coherence='c_v')\n",
        "    coherence_lda = coherence_model_lda.get_coherence()\n",
        "    score.append(coherence_lda)"
      ]
    },
    {
      "cell_type": "code",
      "execution_count": null,
      "metadata": {
        "colab": {
          "base_uri": "https://localhost:8080/"
        },
        "id": "E8v649fZW_CD",
        "outputId": "00864618-4fc8-4c70-c387-48c06a5dc50d"
      },
      "outputs": [
        {
          "name": "stdout",
          "output_type": "stream",
          "text": [
            "[0.26535900643439, 0.29836063526923234, 0.337575008975642, 0.34473930484991205, 0.3674946194759955, 0.3788519363156784, 0.37068444443404225, 0.3686580796729679, 0.38870499545920795, 0.37799366179580063, 0.36800986133910035]\n"
          ]
        }
      ],
      "source": [
        "print(score)"
      ]
    },
    {
      "cell_type": "code",
      "execution_count": null,
      "metadata": {
        "id": "vp5Foum8cd9j"
      },
      "outputs": [],
      "source": [
        "# le code précédent est très long, donc je récupère les valeurs ci-dessous pour les avoir sans lancer le code à chaque fois\n",
        "score = [0.26535900643439, 0.29836063526923234, 0.337575008975642, 0.34473930484991205, 0.3674946194759955, 0.3788519363156784, 0.37068444443404225, 0.3686580796729679, 0.38870499545920795, 0.37799366179580063, 0.36800986133910035]"
      ]
    },
    {
      "cell_type": "code",
      "execution_count": null,
      "metadata": {
        "colab": {
          "base_uri": "https://localhost:8080/",
          "height": 365
        },
        "id": "l2RnJDXqXGX1",
        "outputId": "02e67f43-92ae-4603-e28d-36bbaa81376b"
      },
      "outputs": [
        {
          "data": {
            "image/png": "[encoded data removed]",
            "text/plain": [
              "<Figure size 360x360 with 1 Axes>"
            ]
          },
          "metadata": {},
          "output_type": "display_data"
        }
      ],
      "source": [
        "sns.set_theme()\n",
        "ax = sns.relplot(x=nb_of_topics, y=score, kind='line')\n",
        "ax = sns.scatterplot(x=nb_of_topics, y=score)\n",
        "ax.set_ylabel('Score de coherence')\n",
        "ax.set_xlabel('Nombre de topic')\n",
        "fig = ax.get_figure()\n",
        "#fig.savefig(\"Coherence score fonction nb topic\", dpi=400)"
      ]
    },
    {
      "cell_type": "markdown",
      "metadata": {
        "id": "Pflb0eAOeOoR"
      },
      "source": [
        "Avec 50 topics on semble être assez représentatif de nos données, car ensuite on obtient un plateau"
      ]
    },
    {
      "cell_type": "code",
      "execution_count": 184,
      "metadata": {
        "colab": {
          "base_uri": "https://localhost:8080/"
        },
        "outputId": "0804f6a9-01fa-4473-fc03-b29412b1a309",
        "id": "EzgvaH2OJNra"
      },
      "outputs": [
        {
          "output_type": "execute_result",
          "data": {
            "text/plain": [
              "['LDA_model.joblib']"
            ]
          },
          "metadata": {},
          "execution_count": 184
        }
      ],
      "source": [
        "#Sauvegarde du modèle optimisé\n",
        "dump(lda_model, 'LDA_model.joblib')"
      ]
    },
    {
      "cell_type": "code",
      "execution_count": 185,
      "metadata": {
        "id": "ntWBn1OJJNrb"
      },
      "outputs": [],
      "source": [
        "#Chargement du modèle optimisé\n",
        "lda_model = load('LDA_model.joblib')"
      ]
    },
    {
      "cell_type": "markdown",
      "metadata": {
        "id": "wFtdB77fIAXK"
      },
      "source": [
        "### Visualisation des topics :"
      ]
    },
    {
      "cell_type": "code",
      "execution_count": null,
      "metadata": {
        "colab": {
          "base_uri": "https://localhost:8080/"
        },
        "id": "yvwMAT_C7aEp",
        "outputId": "53fdc095-018e-4f98-c740-5d34ef394a96"
      },
      "outputs": [
        {
          "name": "stderr",
          "output_type": "stream",
          "text": [
            "/usr/local/lib/python3.7/dist-packages/pyLDAvis/_prepare.py:247: FutureWarning: In a future version of pandas all arguments of DataFrame.drop except for the argument 'labels' will be keyword-only\n",
            "  by='saliency', ascending=False).head(R).drop('saliency', 1)\n"
          ]
        }
      ],
      "source": [
        "pyLDAvis.enable_notebook()\n",
        "lda_viz = gensimvis.prepare(lda_model, corpus, dictionary=lda_model.id2word, mds='mmds')"
      ]
    },
    {
      "cell_type": "code",
      "execution_count": null,
      "metadata": {
        "colab": {
          "base_uri": "https://localhost:8080/",
          "height": 861
        },
        "id": "kPu6b0ZIG89r",
        "outputId": "9944fbbd-ef60-45b3-f1a2-52d56a366b72"
      },
      "outputs": [
        {
          "data": {
            "text/html": [
              "\n",
              "<link rel=\"stylesheet\" type=\"text/css\" href=\"https://cdn.jsdelivr.net/gh/bmabey/pyLDAvis@3.3.1/pyLDAvis/js/ldavis.v1.0.0.css\">\n",
              "\n",
              "\n",
              "<div id=\"ldavis_el751403856406420003021791382\"></div>\n",
              "<script type=\"text/javascript\">\n",
              "\n",
              "var ldavis_el751403856406420003021791382_data = {\"mdsDat\": {\"x\": [0.17608602687571506, 0.2776527893242762, -0.037016720062464516, -0.23591590637684395, 0.415318198685211, 0.40600163562762676, 0.06193694983944675, -0.4063602262390368, -0.3286598249545199, 0.22211048163742741, 0.3314960798513961, -0.11445339686225403, -0.3550396021847642, -0.19179986383417813, 0.14332943369426857, -0.09964775640924067, -0.008899634384352111, -0.45675822291950374, 0.01780182845609723, 0.3218840681945044, -0.20583314553061866, 0.1168654356036014, 0.13486793362023483, -0.2228416623542978, -0.4359374791332115, 0.2311828164249772, 0.30417587478436103, -0.3275400525280172, 0.3145699532355155, -0.010026478876395382, -0.2800685294363061, 0.2067349839685139, -0.3053608231852975, 0.2493010042455384, 0.3428559020568516, 0.4188468268607172, 0.40470841634259436, 0.015287796878503342, -0.1619181393052883, -0.10642597100667484, -0.1689728070626575, -0.3832452698285734, 0.1471616965843923, 0.013800989828124393, 0.14712904331676055, -0.22698913686535643, -0.2854276573751271, -0.09553329641522076, -0.034147533385858624, 0.0637129705794039], \"y\": [0.4198579563393611, 0.13186575695207786, 0.39446652077101774, 0.39737900420721983, -0.11900127868361655, 0.1491814972859016, 0.419911154631697, -0.18550427542421274, 0.29897544941061444, 0.34052164485533243, 0.3017313124648357, 0.4142645424145204, 0.0855044183165692, 0.3027817496550287, 0.01352678455507097, 0.22095948200109886, 0.17014652646062767, 0.03709994709847714, 0.31539951848202363, 0.22664556530747482, -0.007740104383205557, -0.45646079668400513, 0.15948745895197736, -0.40547215664079, -0.0716643007218064, -0.013888647605921171, -0.09110016855376606, -0.22025139326163795, -0.29982272431406626, 0.024742336971989555, -0.29848219042540897, -0.26443993792231413, -0.07302543458212397, -0.392369434257921, -0.20541929678436333, -0.04165854778933931, 0.04418070876500267, -0.1453527190756451, -0.2827833163657887, -0.4345245323382579, -0.12112213425494077, 0.15554829967773873, -0.20402310194534154, -0.42113209235497656, 0.24589855323635446, 0.09340914877019066, 0.18367187874301447, -0.18561999820966324, -0.3079185787395276, -0.29838005500657827], \"topics\": [1, 2, 3, 4, 5, 6, 7, 8, 9, 10, 11, 12, 13, 14, 15, 16, 17, 18, 19, 20, 21, 22, 23, 24, 25, 26, 27, 28, 29, 30, 31, 32, 33, 34, 35, 36, 37, 38, 39, 40, 41, 42, 43, 44, 45, 46, 47, 48, 49, 50], \"cluster\": [1, 1, 1, 1, 1, 1, 1, 1, 1, 1, 1, 1, 1, 1, 1, 1, 1, 1, 1, 1, 1, 1, 1, 1, 1, 1, 1, 1, 1, 1, 1, 1, 1, 1, 1, 1, 1, 1, 1, 1, 1, 1, 1, 1, 1, 1, 1, 1, 1, 1], \"Freq\": [3.9927875478389496, 3.519646615044178, 3.0860137379240387, 3.053146794387515, 3.0035914224987446, 2.9762495075450954, 2.8730358318766407, 2.815644720208955, 2.802794785322271, 2.780541104049931, 2.772577642901361, 2.767928377868734, 2.6816508626744664, 2.57381351072745, 2.509634117217608, 2.3649497507816175, 2.3226491089597165, 2.275746802528553, 2.246285633341286, 2.2053017546706433, 2.1300052270287804, 2.1022833450532743, 2.0363127136475416, 2.034562684210174, 2.0260940064805633, 1.9854968305356404, 1.8434104189386913, 1.7769227299512593, 1.7682217755560936, 1.6821819654122463, 1.617115875929224, 1.5664937700038222, 1.5429292353044874, 1.5357589784226422, 1.5217178920873415, 1.4942464624754015, 1.4289960869605576, 1.4019197734212734, 1.3279008722474839, 1.311064266718472, 1.280731658182598, 1.2804510315989395, 1.2246345423385607, 1.0763816101660797, 1.075791553224109, 1.017021558392958, 0.970197303538116, 0.8967918619757348, 0.7834720205931874, 0.6369023212369922]}, \"tinfo\": {\"Term\": [\"file\", \"code\", \"name\", \"server\", \"web\", \"class\", \"string\", \"test\", \"page\", \"object\", \"would\", \"table\", \"list\", \"com\", \"type\", \"database\", \"value\", \"application\", \"function\", \"build\", \"use\", \"number\", \"text\", \"system\", \"service\", \"public\", \"project\", \"return\", \"run\", \"method\", \"compilation\", \"param\", \"factory\", \"cast\", \"reflection\", \"selector\", \"traffic\", \"regardless\", \"cover\", \"exception\", \"gac\", \"argument\", \"viewpage\", \"throw\", \"affect\", \"mine\", \"parameter\", \"method\", \"regain\", \"classname\", \"running\", \"object\", \"strict\", \"tweak\", \"convert\", \"codewriter\", \"compilerversion\", \"invoke\", \"operator\", \"candidate\", \"type\", \"extend\", \"call\", \"assembly\", \"null\", \"code\", \"instance\", \"reference\", \"correct\", \"class\", \"error\", \"follow\", \"void\", \"name\", \"value\", \"fine\", \"string\", \"use\", \"expect\", \"example\", \"return\", \"set\", \"seem\", \"describe\", \"info\", \"cookie\", \"history\", \"boost\", \"operate\", \"essentially\", \"transform\", \"queue\", \"populate\", \"login\", \"safe\", \"forum\", \"focus\", \"concern\", \"feature\", \"stackoverflow\", \"receive\", \"mainly\", \"adopt\", \"obtain\", \"traditional\", \"lambda\", \"httponly\", \"virtualdir\", \"official\", \"purchase\", \"req\", \"certificate\", \"question\", \"game\", \"side\", \"believe\", \"check\", \"obvious\", \"stuff\", \"way\", \"com\", \"blockquote\", \"learn\", \"still\", \"framework\", \"possible\", \"base\", \"group\", \"net\", \"easy\", \"miss\", \"end\", \"allow\", \"state\", \"start\", \"read\", \"use\", \"application\", \"solution\", \"platform\", \"widget\", \"append\", \"pc\", \"generically\", \"container\", \"localhost\", \"modification\", \"fast\", \"culture\", \"relatively\", \"trouble\", \"kick\", \"master\", \"alert\", \"complicated\", \"overwrite\", \"endif\", \"hunt\", \"server\", \"varying\", \"restriction\", \"corner\", \"various\", \"definitive\", \"instantiate\", \"client\", \"custom\", \"bug\", \"neutral\", \"thought\", \"generate\", \"original\", \"href\", \"cross\", \"error\", \"figure\", \"contain\", \"default\", \"exist\", \"remote\", \"get\", \"already\", \"say\", \"else\", \"however\", \"database\", \"library\", \"use\", \"work\", \"set\", \"open\", \"frame\", \"rule\", \"effect\", \"image\", \"designer\", \"outlook\", \"datatoread\", \"zip\", \"istream\", \"reflect\", \"war\", \"permission\", \"zos\", \"contenttype\", \"notify\", \"zipentry\", \"super\", \"uiscrollview\", \"viewdidload\", \"enhanced\", \"swc\", \"filestream\", \"integrity\", \"soft\", \"eye\", \"scope\", \"ought\", \"file\", \"brick\", \"defineconstant\", \"recommend\", \"finish\", \"path\", \"crash\", \"read\", \"break\", \"suggest\", \"uiimageview\", \"experiment\", \"change\", \"case\", \"copy\", \"flush\", \"application\", \"use\", \"update\", \"error\", \"actually\", \"open\", \"folder\", \"several\", \"result\", \"system\", \"exception\", \"create\", \"set\", \"try\", \"procedure\", \"expression\", \"active\", \"inner\", \"regular\", \"whole\", \"vector\", \"mind\", \"member\", \"thus\", \"outer\", \"printing\", \"front\", \"uid\", \"rollback\", \"routine\", \"eliminate\", \"raster\", \"rendering\", \"issave\", \"suspect\", \"proper\", \"form\", \"branch\", \"max\", \"human\", \"beginner\", \"identify\", \"overkill\", \"internal\", \"may\", \"editor\", \"color\", \"block\", \"associate\", \"tag\", \"perhaps\", \"state\", \"blockquote\", \"hack\", \"answer\", \"get\", \"print\", \"do\", \"look\", \"good\", \"code\", \"say\", \"thank\", \"case\", \"program\", \"thing\", \"easy\", \"self\", \"total\", \"actual\", \"usage\", \"rail\", \"suppose\", \"processor\", \"inline\", \"apparently\", \"particularly\", \"unzip\", \"symbol\", \"hyperlink\", \"subclass\", \"overflow\", \"old\", \"undefined\", \"upgrade\", \"progress\", \"function\", \"mouse\", \"perfectly\", \"complex\", \"visible\", \"analyze\", \"appanythe\", \"freeware\", \"charfield\", \"item_set\", \"pythonuse\", \"response\", \"memory\", \"load\", \"somewhere\", \"solve\", \"approach\", \"big\", \"end\", \"large\", \"need\", \"call\", \"location\", \"access\", \"return\", \"view\", \"code\", \"work\", \"else\", \"problem\", \"library\", \"base\", \"point\", \"use\", \"add\", \"write\", \"link\", \"report\", \"mode\", \"condition\", \"integration\", \"theme\", \"almost\", \"evaluate\", \"release\", \"successfully\", \"book\", \"ideally\", \"exe\", \"continuous\", \"distribution\", \"management\", \"debug\", \"dot\", \"flow\", \"maven\", \"ease\", \"orientation\", \"junit\", \"swf\", \"analysis\", \"compatible\", \"legal\", \"shop\", \"catch\", \"datetime\", \"meet\", \"day\", \"properly\", \"log\", \"date\", \"switch\", \"complete\", \"direction\", \"post\", \"run\", \"pretty\", \"build\", \"time\", \"framework\", \"use\", \"reason\", \"program\", \"check\", \"see\", \"still\", \"could\", \"look\", \"try\", \"problem\", \"net\", \"foo\", \"static\", \"drive\", \"explicit\", \"tutorial\", \"dosomework\", \"innerclass\", \"around\", \"public\", \"outerclass\", \"expectation\", \"watch\", \"matcher\", \"knife\", \"override\", \"literal\", \"person\", \"methodtable\", \"bar\", \"cd\", \"class\", \"serialization\", \"getfoo\", \"databind\", \"markup\", \"private\", \"dosomethe\", \"cpp\", \"progresschanged\", \"equalsbuilder\", \"void\", \"interface\", \"implementation\", \"code\", \"int\", \"create\", \"follow\", \"use\", \"available\", \"instance\", \"write\", \"return\", \"ca\", \"option\", \"work\", \"devenv\", \"initial\", \"constant\", \"boolean\", \"partial\", \"weird\", \"ccomptr\", \"writing\", \"keyboard\", \"warn\", \"unit\", \"linq\", \"test\", \"highlight\", \"consideration\", \"hundred\", \"subobject\", \"context\", \"mistake\", \"synchronize\", \"black\", \"tostring\", \"chain\", \"multipli\", \"enum\", \"item_op\", \"punk\", \"explain\", \"iorder\", \"multiplication\", \"result\", \"return\", \"functionality\", \"fail\", \"count\", \"collection\", \"false\", \"declare\", \"line\", \"store\", \"value\", \"code\", \"issue\", \"time\", \"number\", \"could\", \"change\", \"write\", \"bean\", \"definition\", \"encode\", \"wiki\", \"soap\", \"cost\", \"cpu\", \"body\", \"amount\", \"imagine\", \"determine\", \"payment\", \"repeat\", \"huge\", \"possibly\", \"dumb\", \"optimization\", \"sequence\", \"singleton\", \"movie\", \"minimize\", \"iteration\", \"efficiently\", \"anti\", \"entirely\", \"exact\", \"substre\", \"servicwe\", \"timer\", \"tim\", \"purpose\", \"week\", \"variable\", \"combination\", \"common\", \"term\", \"several\", \"reference\", \"course\", \"choose\", \"due\", \"give\", \"design\", \"implementation\", \"understand\", \"range\", \"technique\", \"find\", \"go\", \"code\", \"contain\", \"ca\", \"implement\", \"provide\", \"could\", \"try\", \"good\", \"instead\", \"example\", \"function\", \"table\", \"column\", \"join\", \"record\", \"fmtonly\", \"appsetting\", \"export\", \"configsection\", \"sql\", \"wasfmtonlyon\", \"stored\", \"protection\", \"schedulerpage\", \"pv\", \"credential\", \"somevalue\", \"somevariable\", \"ubschedulerform\", \"summary\", \"dosomething\", \"profile_value\", \"lib\", \"repopulate\", \"cms\", \"schedulertheme\", \"association\", \"twice\", \"simplified\", \"select\", \"sum\", \"value\", \"insert\", \"dynamic\", \"query\", \"group\", \"store\", \"add\", \"datum\", \"create\", \"update\", \"set\", \"change\", \"code\", \"use\", \"name\", \"type\", \"access\", \"try\", \"key\", \"example\", \"flash\", \"mvc\", \"compiler\", \"silverlight\", \"definitely\", \"somewhat\", \"oledb\", \"away\", \"model\", \"speed\", \"role\", \"size\", \"least\", \"doc\", \"transformation\", \"native\", \"csv\", \"colleague\", \"early\", \"short\", \"poor\", \"pitfall\", \"requirement\", \"openform\", \"gui\", \"unused\", \"reasonable\", \"logically\", \"wo\", \"numeric\", \"non\", \"limit\", \"app\", \"level\", \"architecture\", \"developer\", \"long\", \"application\", \"many\", \"support\", \"deploy\", \"good\", \"solution\", \"development\", \"free\", \"could\", \"say\", \"particular\", \"get\", \"project\", \"reason\", \"never\", \"case\", \"issue\", \"view\", \"row\", \"move\", \"author\", \"slow\", \"perl\", \"html\", \"unfortunately\", \"fetch\", \"curl\", \"realize\", \"refer\", \"shane\", \"documentation\", \"english\", \"anymore\", \"pm\", \"filesystem\", \"bool\", \"high\", \"capable\", \"ugly\", \"format\", \"prstdoctor\", \"walk\", \"loop\", \"place\", \"take\", \"requestlike\", \"benchmark\", \"changuse\", \"language\", \"syntax\", \"example\", \"array\", \"much\", \"lot\", \"time\", \"small\", \"code\", \"field\", \"look\", \"make\", \"system\", \"could\", \"help\", \"find\", \"use\", \"link\", \"engine\", \"install\", \"internet\", \"header\", \"explorer\", \"express\", \"completely\", \"country\", \"monitor\", \"virtual\", \"grid\", \"usability\", \"scroll\", \"background\", \"city\", \"maximum\", \"msde\", \"slowly\", \"hopefully\", \"stay\", \"declaration\", \"urls\", \"massive\", \"sp\", \"edge\", \"top\", \"partially\", \"ping\", \"datasource\", \"datavaluefield\", \"special\", \"machine\", \"assume\", \"box\", \"instal\", \"source\", \"run\", \"window\", \"design\", \"application\", \"one\", \"control\", \"define\", \"problem\", \"far\", \"set\", \"try\", \"ca\", \"see\", \"allow\", \"thing\", \"system\", \"session\", \"oracle\", \"third\", \"capture\", \"party\", \"maintain\", \"debugging\", \"half\", \"resolve\", \"spec\", \"filepath\", \"target\", \"likely\", \"rating\", \"merge\", \"artifact\", \"fit\", \"vmware\", \"output\", \"commonly\", \"etc\", \"falsifineed\", \"hijack\", \"period\", \"automatically\", \"external\", \"peak\", \"reinstall\", \"utterly\", \"environment\", \"screen\", \"multiple\", \"development\", \"query\", \"project\", \"want\", \"single\", \"tool\", \"performance\", \"hope\", \"personal\", \"force\", \"execute\", \"make\", \"file\", \"library\", \"use\", \"data\", \"currently\", \"second\", \"instead\", \"solution\", \"path\", \"feed\", \"unique\", \"regex\", \"mention\", \"steal\", \"science\", \"struggle\", \"nicely\", \"temp\", \"plcoder\", \"rework\", \"aculo\", \"pay\", \"improvement\", \"people\", \"delete\", \"https\", \"usual\", \"deployment\", \"feel\", \"originate\", \"policy\", \"defaulttarget\", \"programming\", \"news\", \"ul\", \"amp\", \"willing\", \"hit\", \"aproach\", \"interesting\", \"later\", \"sometimes\", \"suggestion\", \"kind\", \"position\", \"do\", \"think\", \"version\", \"problem\", \"see\", \"must\", \"net\", \"find\", \"able\", \"however\", \"first\", \"thing\", \"access\", \"say\", \"use\", \"write\", \"filter\", \"expose\", \"accomplish\", \"arbitrary\", \"goal\", \"strsql\", \"accessor\", \"erode\", \"accept\", \"picture\", \"allocate\", \"dynamically\", \"volume\", \"manner\", \"scratch\", \"tricky\", \"autocompleter\", \"win\", \"basis\", \"logic\", \"logical\", \"practice\", \"tier\", \"certainly\", \"emit\", \"notification\", \"sort\", \"compatibility\", \"looking\", \"generic\", \"welcome\", \"runtime\", \"standard\", \"hard\", \"fully\", \"interface\", \"know\", \"break\", \"datum\", \"different\", \"type\", \"possible\", \"set\", \"input\", \"look\", \"go\", \"property\", \"actually\", \"sample\", \"call\", \"time\", \"method\", \"part\", \"web\", \"download\", \"tile\", \"quickly\", \"tomcat\", \"beta\", \"mapping\", \"tracking\", \"excel\", \"awesome\", \"httpwebrequ\", \"configuring\", \"defect\", \"httpapplication\", \"pageparser\", \"tcp\", \"publishing\", \"cache\", \"strut\", \"definitcreate\", \"loss\", \"onet\", \"issuuse\", \"notation\", \"scientific\", \"host\", \"subforum\", \"chat\", \"rerun\", \"interop\", \"cheap\", \"achieve\", \"version\", \"system\", \"stack\", \"com\", \"inherit\", \"different\", \"service\", \"create\", \"page\", \"control\", \"request\", \"application\", \"problem\", \"work\", \"link\", \"multiple\", \"need\", \"description\", \"net\", \"http\", \"project\", \"idea\", \"month\", \"extension\", \"jquery\", \"appreciate\", \"asp\", \"tostre\", \"today\", \"retrieve\", \"nant\", \"filedate\", \"envision\", \"dim\", \"getelementbyid\", \"openmonth\", \"callback\", \"animation\", \"dataset\", \"sdk\", \"subversion\", \"clutter\", \"year\", \"hold\", \"ship\", \"remember\", \"embe\", \"sit\", \"seating\", \"binary\", \"legacy\", \"dumbe\", \"general\", \"date\", \"help\", \"fine\", \"encrypt\", \"copy\", \"work\", \"end\", \"none\", \"exist\", \"open\", \"set\", \"idea\", \"project\", \"certain\", \"efficient\", \"run\", \"format\", \"code\", \"follow\", \"define\", \"could\", \"command\", \"config\", \"annotation\", \"onebigplanet\", \"jar\", \"cglib\", \"task\", \"accurately\", \"tab\", \"weak\", \"accurate\", \"preference\", \"clickable\", \"disappear\", \"getproxy\", \"please\", \"quick\", \"skill\", \"earlier\", \"remainder\", \"effectively\", \"annotate\", \"aspectj\", \"proxye\", \"proxyfactory\", \"testdatasource\", \"remoting\", \"manager\", \"ajax\", \"editing\", \"configuration\", \"build\", \"property\", \"assembly\", \"window\", \"run\", \"allow\", \"file\", \"machine\", \"value\", \"rather\", \"use\", \"write\", \"could\", \"specific\", \"look\", \"script\", \"support\", \"net\", \"program\", \"redirect\", \"provider\", \"customer\", \"ad\", \"comment\", \"aspx\", \"blank\", \"necessary\", \"core\", \"opinion\", \"route\", \"wizard\", \"brio\", \"home\", \"ssl\", \"addition\", \"getter\", \"domain\", \"grab\", \"navigate\", \"prove\", \"facilitate\", \"typing\", \"byval\", \"consultant\", \"subdomain\", \"like\", \"setter\", \"direct\", \"briotrye\", \"page\", \"configure\", \"site\", \"detail\", \"request\", \"action\", \"behavior\", \"equivalent\", \"add\", \"connection\", \"datum\", \"handle\", \"display\", \"com\", \"default\", \"go\", \"article\", \"application\", \"idea\", \"use\", \"type\", \"business\", \"quot\", \"spring\", \"springframework\", \"score\", \"datatable\", \"ccnet\", \"ip\", \"reporting\", \"orm\", \"render\", \"chess\", \"regexoption\", \"clue\", \"delimit\", \"promote\", \"potentially\", \"smooth\", \"limitation\", \"ignorecase\", \"htm\", \"trac\", \"msbuild\", \"guarantee\", \"lack\", \"lazy\", \"graphic\", \"layer\", \"vote\", \"trust\", \"interest\", \"together\", \"org\", \"big\", \"occur\", \"often\", \"video\", \"generation\", \"idea\", \"component\", \"enter\", \"guess\", \"piece\", \"fundamental\", \"sharepoint\", \"agile\", \"openid\", \"care\", \"life\", \"room\", \"slimdx\", \"internally\", \"upload\", \"allocator\", \"wise\", \"flexible\", \"invent\", \"wheel\", \"hour\", \"discussion\", \"collect\", \"apart\", \"exclude\", \"die\", \"compute\", \"necessarily\", \"statistic\", \"placement\", \"hint\", \"divide\", \"less\", \"fix\", \"share\", \"point\", \"empty\", \"real\", \"even\", \"ask\", \"thing\", \"mean\", \"performance\", \"wrong\", \"think\", \"time\", \"always\", \"note\", \"write\", \"net\", \"check\", \"problem\", \"exist\", \"case\", \"font\", \"icon\", \"selection\", \"listen\", \"ok\", \"team\", \"ignore\", \"aggregate\", \"whenever\", \"present\", \"recieve\", \"keyword\", \"research\", \"sensitive\", \"trick\", \"proxy\", \"worker\", \"nest\", \"len\", \"paste\", \"partition\", \"ability\", \"review\", \"aspect\", \"border\", \"narrow\", \"photo\", \"heap\", \"cruise\", \"assign\", \"mostly\", \"soon\", \"automatic\", \"manage\", \"index\", \"friendly\", \"tree\", \"suggest\", \"modify\", \"control\", \"xml\", \"publisher\", \"trigger\", \"detect\", \"final\", \"relay\", \"delay\", \"assertion\", \"troubleshoot\", \"initialize\", \"printf\", \"starteam\", \"include\", \"name\", \"omniture\", \"potential\", \"yet\", \"forcebuild\", \"defer\", \"sendmail\", \"anothtransfer\", \"variation\", \"terminal\", \"fake\", \"analytic\", \"breakpoint\", \"confuddle\", \"crippling\", \"discernable\", \"javascriptlast\", \"description\", \"field\", \"optional\", \"google\", \"instal\", \"crash\", \"enough\", \"cause\", \"connection\", \"do\", \"technology\", \"somehow\", \"common\", \"solution\", \"ca\", \"see\", \"trace\", \"browser\", \"error\", \"end\", \"first\", \"fail\", \"value\", \"file\", \"problem\", \"link\", \"would\", \"parent\", \"closure\", \"step\", \"gmail\", \"menu\", \"updatepanel\", \"discover\", \"online\", \"password\", \"mask\", \"ago\", \"iframe\", \"auto\", \"preferably\", \"correspond\", \"story\", \"webpage\", \"validation\", \"attachment\", \"authenticate\", \"refresh\", \"global\", \"swing\", \"buy\", \"writable\", \"validate\", \"indexing\", \"destroy\", \"cell\", \"fill\", \"lock\", \"relate\", \"prefer\", \"entry\", \"computer\", \"page\", \"back\", \"similar\", \"next\", \"time\", \"answer\", \"instead\", \"long\", \"object\", \"browser\", \"site\", \"button\", \"see\", \"first\", \"link\", \"ask\", \"stuff\", \"use\", \"call\", \"problem\", \"load\", \"office\", \"offer\", \"gt\", \"integrate\", \"combinator\", \"future\", \"powerful\", \"bll\", \"cgi\", \"odbc\", \"choice\", \"spell\", \"mdb\", \"confuse\", \"natural\", \"bill\", \"manual\", \"backup\", \"char\", \"customize\", \"quality\", \"few\", \"contact\", \"epsilon\", \"iaplay\", \"macromedia\", \"diagnostic\", \"exercise\", \"database\", \"spit\", \"php\", \"import\", \"port\", \"access\", \"mysql\", \"data\", \"failure\", \"use\", \"net\", \"little\", \"notice\", \"different\", \"answer\", \"good\", \"com\", \"example\", \"service\", \"learn\", \"try\", \"look\", \"stre\", \"word\", \"map\", \"timestamp\", \"functional\", \"shortnamebuffer\", \"hate\", \"guid\", \"string\", \"capacity\", \"cluster\", \"optimal\", \"occurrence\", \"paragraph\", \"backward\", \"mystery\", \"longpathname\", \"cp\", \"gnu\", \"chronologically\", \"postrow\", \"splitting\", \"dbtype\", \"strstre\", \"clustered\", \"fragmentation\", \"impact\", \"informit\", \"measurable\", \"gratefully\", \"quite\", \"character\", \"iterate\", \"efficient\", \"length\", \"system\", \"insert\", \"code\", \"use\", \"try\", \"possible\", \"follow\", \"wonder\", \"example\", \"return\", \"index\", \"list\", \"wrong\", \"title\", \"mail\", \"serve\", \"css\", \"alternative\", \"medium\", \"conform\", \"normal\", \"especially\", \"shadow\", \"ocgi\", \"oprocess\", \"pubdate\", \"intranet\", \"ready\", \"launch\", \"user\", \"enforce\", \"descrition\", \"json\", \"usable\", \"redirection\", \"django\", \"horrible\", \"graphical\", \"preview\", \"localize\", \"fly\", \"unobtrusive\", \"mac\", \"template\", \"print\", \"part\", \"tool\", \"style\", \"current\", \"java\", \"rss\", \"plugin\", \"useful\", \"standard\", \"text\", \"button\", \"moment\", \"able\", \"program\", \"wonder\", \"application\", \"use\", \"issue\", \"submit\", \"document\", \"concept\", \"child\", \"relation\", \"bash\", \"bunch\", \"ie\", \"sign\", \"confused\", \"objective\", \"snippet\", \"kernel\", \"ms\", \"linux\", \"uri\", \"responsible\", \"technical\", \"elegant\", \"chrome\", \"solid\", \"fact\", \"unlock\", \"presume\", \"browse\", \"primaryjoin\", \"sqlalchemi\", \"descriptor\", \"fd\", \"subprocess\", \"process\", \"opening\", \"directive\", \"dump\", \"trace\", \"begin\", \"order\", \"open\", \"extra\", \"tell\", \"programmer\", \"provide\", \"code\", \"many\", \"problem\", \"answer\", \"however\", \"work\", \"understand\", \"execute\", \"go\", \"external\", \"possible\", \"even\", \"couple\", \"servlet\", \"listview\", \"lead\", \"quote\", \"newline\", \"columnheader\", \"delimiter\", \"typically\", \"interpret\", \"colon\", \"fstream\", \"catalyst\", \"omit\", \"commercial\", \"mssql\", \"meaning\", \"text\", \"textalign\", \"formview\", \"deep\", \"awful\", \"following\", \"deny\", \"timeout\", \"qualifier\", \"renderer\", \"infile\", \"newlinwante\", \"gooddoe\", \"full\", \"space\", \"txt\", \"control\", \"change\", \"contain\", \"lot\", \"double\", \"mysql\", \"remove\", \"produce\", \"draw\", \"handle\", \"execute\", \"read\", \"field\", \"datum\", \"try\", \"code\", \"problem\", \"query\", \"even\", \"use\", \"value\", \"search\", \"stream\", \"play\", \"register\", \"pro\", \"label\", \"con\", \"software\", \"perform\", \"remoteobject\", \"talk\", \"nature\", \"flexibility\", \"hotmail\", \"smtp\", \"msaccess\", \"spreadsheet\", \"mobile\", \"fileinputstream\", \"thunderbird\", \"threadpool\", \"symbian\", \"compare\", \"reliably\", \"concrete\", \"designing\", \"previous\", \"predefine\", \"fis\", \"replacement\", \"send\", \"explicitly\", \"message\", \"close\", \"regard\", \"involve\", \"hang\", \"forward\", \"device\", \"tool\", \"use\", \"net\", \"example\", \"find\", \"let\", \"start\", \"visual\", \"studio\", \"drop\", \"utility\", \"compliant\", \"btw\", \"category\", \"drag\", \"ide\", \"organize\", \"reply\", \"gcc\", \"schedule\", \"student\", \"visually\", \"portable\", \"finger\", \"frequently\", \"topic\", \"websphere\", \"loc\", \"toolwe\", \"editmisse\", \"objectnewbie\", \"trap\", \"confirm\", \"longer\", \"product\", \"preprocessor\", \"merit\", \"anywhere\", \"free\", \"component\", \"able\", \"hear\", \"project\", \"draw\", \"available\", \"still\", \"go\", \"help\", \"find\", \"compile\", \"however\", \"build\", \"use\", \"com\", \"video\", \"address\", \"nice\", \"nsstre\", \"pick\", \"random\", \"important\", \"nsobject\", \"observedkey\", \"float\", \"myobserver\", \"desktop\", \"act\", \"ahead\", \"operation\", \"segment\", \"autorelease\", \"performselector\", \"happy\", \"jump\", \"pair\", \"area\", \"bridge\", \"modifyaddress\", \"nslog\", \"transparent\", \"represent\", \"br\", \"aselector\", \"inv\", \"kvo\", \"main\", \"point\", \"line\", \"well\", \"right\", \"appear\", \"come\", \"number\", \"change\", \"module\", \"normally\", \"constraint\", \"prepare\", \"constructor\", \"serializable\", \"nsdata\", \"would\", \"tip\", \"reach\", \"gzip\", \"macro\", \"attach\", \"underscore\", \"ansi\", \"sigquit\", \"stdout\", \"respond\", \"odd\", \"integer\", \"generator\", \"faulty\", \"registry\", \"signum\", \"sigtstp\", \"accelerator\", \"illegal\", \"typhttp\", \"exit\", \"deleteaction\", \"archive\", \"transaction\", \"program\", \"start\", \"generation\", \"unhandled\", \"custom\", \"null\", \"commit\", \"code\", \"output\", \"first\", \"write\", \"follow\", \"go\", \"execution\", \"set\", \"miss\", \"however\", \"control\", \"filename\", \"stage\", \"pull\", \"reader\", \"allowoverride\", \"sync\", \"wide\", \"promotion\", \"ftp\", \"followsymlink\", \"multiview\", \"toolbar\", \"local\", \"ram\", \"blend\", \"document\", \"magnitude\", \"arrow\", \"bomb\", \"var\", \"morning\", \"second\", \"ci\", \"hybrid\", \"appeal\", \"balance\", \"push\", \"scalable\", \"lamp\", \"execcgi\", \"expand\", \"none\", \"basic\", \"location\", \"option\", \"expect\", \"server\", \"first\", \"job\", \"lock\", \"direction\", \"clean\", \"exactly\", \"different\", \"go\", \"datum\", \"create\", \"line\", \"use\", \"element\", \"width\", \"put\", \"windbg\", \"encounter\", \"console\", \"intend\", \"alpha\", \"guide\", \"lt\", \"debugger\", \"webserver\", \"bat\", \"height\", \"handler\", \"impossible\", \"nbsp\", \"arg\", \"sample\", \"conadmindb\", \"left\", \"input\", \"ten\", \"chm\", \"windbgcould\", \"normalization\", \"broker\", \"bounty\", \"activemq\", \"bottom\", \"restore\", \"leave\", \"great\", \"fairly\", \"show\", \"display\", \"style\", \"stop\", \"default\", \"function\", \"code\", \"fine\", \"value\", \"problem\", \"find\", \"ca\", \"size\", \"directory\", \"controller\", \"www\", \"become\", \"press\", \"visualsvn\", \"content\", \"encryption\", \"rsa\", \"hardware\", \"ex\", \"music\", \"chunk\", \"remain\", \"manipulate\", \"physical\", \"attribute\", \"injection\", \"wordpress\", \"bus\", \"url\", \"cryptography\", \"cypher\", \"enhance\", \"rfcs\", \"workload\", \"fruitless\", \"inputs\", \"checkout\", \"strange\", \"head\", \"http\", \"com\", \"request\", \"easy\", \"length\", \"allow\", \"use\", \"connection\", \"simply\", \"blockquote\", \"file\", \"however\", \"access\", \"write\", \"key\", \"require\", \"datum\", \"find\", \"send\", \"phone\", \"dependency\", \"player\", \"curious\", \"vehicle\", \"grant\", \"behave\", \"sequential\", \"scaffold\", \"configview\", \"velocity\", \"vxwork\", \"consume\", \"communication\", \"performant\", \"vanish\", \"eventually\", \"popular\", \"percent\", \"wsdl\", \"immutable\", \"afternoon\", \"cutter\", \"descriptive\", \"beneficial\", \"overcomplicate\", \"seriously\", \"universal\", \"multicast\", \"relevant\", \"entity\", \"basically\", \"unable\", \"turn\", \"disk\", \"license\", \"generate\", \"large\", \"thing\", \"developer\", \"approach\", \"require\", \"create\", \"object\", \"key\", \"seem\", \"fine\", \"think\", \"see\", \"datum\", \"game\", \"client\", \"base\", \"event\", \"click\", \"textbox\", \"flag\", \"webcontrol\", \"split\", \"duplicate\", \"administrator\", \"anyway\", \"shoot\", \"gracefully\", \"ontextchange\", \"derive\", \"closing\", \"py\", \"tap\", \"wait\", \"triple\", \"shell\", \"fwlink\", \"scatter\", \"working\", \"shortcut\", \"portal\", \"readability\", \"controlmy\", \"landscape\", \"portrait\", \"executscript\", \"starting\", \"script\", \"separate\", \"disable\", \"view\", \"remove\", \"button\", \"link\", \"handle\", \"close\", \"situation\", \"prefer\", \"display\", \"option\", \"create\", \"default\", \"foreign\", \"root\", \"reset\", \"mess\", \"msdn\", \"aware\", \"originally\", \"conditional\", \"drain\", \"cocoa\", \"caveat\", \"secondary\", \"eventarg\", \"isolate\", \"conflict\", \"calculation\", \"grow\", \"operating\", \"track\", \"const\", \"recreate\", \"clearly\", \"priorityqueue\", \"processrequ\", \"testing\", \"mock\", \"save\", \"temporary\", \"setsetting\", \"stall\", \"key\", \"int\", \"setup\", \"property\", \"primary\", \"node\", \"write\", \"do\", \"even\", \"exist\", \"create\", \"datum\", \"delete\", \"find\", \"application\", \"quite\", \"view\", \"issue\", \"thread\", \"recently\", \"connect\", \"cut\", \"qaas\", \"universe\", \"schema\", \"processing\", \"batch\", \"resort\", \"status\", \"businessobject\", \"atom\", \"async\", \"cached\", \"ssm\", \"orient\", \"relative\", \"snmp\", \"ensure\", \"relegate\", \"reveal\", \"snoop\", \"feadd\", \"invokerequire\", \"username\", \"boundariever\", \"cred\", \"dmz\", \"dmzdomain\", \"service\", \"entire\", \"approximately\", \"rest\", \"profile\", \"notice\", \"message\", \"start\", \"error\", \"make\", \"http\", \"fail\", \"path\", \"use\", \"window\", \"wonder\", \"method\", \"panel\", \"postback\", \"api\", \"equal\", \"benefit\", \"camera\", \"tend\", \"bvalidatefield\", \"vice\", \"leak\", \"appropriate\", \"accessible\", \"mix\", \"rewriterule\", \"htaccess\", \"rewritecond\", \"listbox\", \"setting\", \"limited\", \"resource\", \"chapter\", \"versaconvert\", \"intellisence\", \"habit\", \"purely\", \"depend\", \"suddenly\", \"modern\", \"hardpresse\", \"rewritebase\", \"world\", \"article\", \"acceptable\", \"certain\", \"memory\", \"update\", \"lot\", \"accord\", \"much\", \"show\", \"mean\", \"client\", \"clean\", \"side\", \"property\", \"however\", \"item\", \"current\", \"publish\", \"lgire\", \"transition\", \"offset\", \"familiar\", \"rename\", \"match\", \"complicate\", \"seta\", \"replace\", \"lgi\", \"snprintf\", \"hide\", \"therefore\", \"number\", \"card\", \"fire\", \"average\", \"generally\", \"actionscript\", \"ground\", \"changea\", \"flowbean\", \"fooview\", \"statea\", \"dladdr\", \"scary\", \"settle\", \"starter\", \"tart\", \"submit\", \"account\", \"interested\", \"never\", \"power\", \"love\", \"view\", \"would\", \"get\", \"href\", \"user\", \"hour\", \"code\", \"far\", \"advance\", \"transfer\", \"section\", \"dialog\", \"overview\", \"item\", \"live\", \"sound\", \"datepicker\", \"mamp\", \"brief\", \"folder\", \"confirmation\", \"art\", \"list\", \"idosomethe\", \"calendar\", \"sprite\", \"infragisitc\", \"strongly\", \"shall\", \"wipe\", \"artist\", \"ienumerable\", \"foreach\", \"specialfolder\", \"revert\", \"dialogdoe\", \"idosomething\", \"mylist\", \"thank\", \"right\", \"possible\", \"want\", \"give\", \"make\", \"multiple\", \"work\", \"character\", \"pattern\", \"related\", \"anchor\", \"div\", \"subnav\", \"instruction\", \"knowledge\", \"prompt\", \"crazy\", \"optimize\", \"relationship\", \"buffer\", \"expensive\", \"codeplex\", \"divs\", \"destination\", \"apply\", \"repository\", \"storage\", \"storefront\", \"persistent\", \"nil\", \"distinct\", \"nonsense\", \"sidebar\", \"specify\", \"positioning\", \"applicable\", \"descibe\", \"interator\", \"hand\", \"faster\", \"one\", \"relate\", \"correct\", \"entity\", \"increase\", \"many\", \"parse\", \"echo\", \"remote\", \"set\", \"actually\", \"late\", \"bit\", \"secure\", \"structure\", \"copyright\", \"struct\", \"capitalize\", \"glassfish\", \"weblogic\", \"signature\", \"allowable\", \"independant\", \"differ\", \"verse\", \"board\", \"conversion\", \"dereference\", \"consistent\", \"editordoe\", \"gvim\", \"appconfuse\", \"jdeveloper\", \"cool\", \"netstarte\", \"banked\", \"pointrealize\", \"specifier\", \"warrior\", \"throat\", \"appl\", \"differently\", \"worth\", \"enable\", \"byte\", \"pointer\", \"wrap\", \"job\", \"difference\", \"experience\", \"unsigne\", \"far\", \"verify\", \"combine\", \"write\", \"client\", \"know\", \"look\", \"actually\", \"device\", \"desire\", \"authentication\", \"multi\", \"red\", \"website\", \"membership\", \"understanding\", \"information\", \"ssis\", \"identifier\", \"administrative\", \"major\", \"pass\", \"canonical\", \"fragment\", \"aim\", \"commandmy\", \"icommand\", \"parametrize\", \"informhire\", \"managing\", \"megabyte\", \"resolution\", \"scan\", \"scripting\", \"opengl\", \"difficult\", \"explanation\", \"nasty\", \"widgetdoe\", \"simple\", \"source\", \"package\", \"manage\", \"automate\", \"head\", \"avoid\", \"form\", \"parse\", \"use\", \"entire\", \"application\", \"system\", \"solution\", \"explain\", \"email\", \"pipe\", \"buf\", \"recipient\", \"incremental\", \"runner\", \"extract\", \"dirty\", \"edition\", \"pool\", \"creation\", \"redraw\", \"tblb\", \"flicker\", \"oppose\", \"charbuffer\", \"idiom\", \"bite\", \"coverage\", \"plain\", \"sourceforge\", \"wcsf\", \"eclipswant\", \"statement\", \"agent\", \"drawing\", \"decodebyte\", \"tabpage\", \"flip\", \"piping\", \"develop\", \"particular\", \"note\", \"produce\", \"use\", \"decide\", \"select\", \"wo\", \"soon\", \"form\", \"vmimage\", \"quartz\", \"bind\", \"binding\", \"tcvmdevsql\", \"trivial\", \"suspend\", \"vmx\", \"inode\", \"activate\", \"migration\", \"mb\", \"belong\", \"strategy\", \"preserve\", \"migrate\", \"subscription\", \"lookup\", \"exclusion\", \"appdir\", \"spoil\", \"cmd\", \"robocopy\", \"natively\", \"namespace\", \"delegate\", \"qualify\", \"dataitem\", \"nowhere\", \"fuzzy\", \"account\", \"disk\", \"flush\", \"level\", \"find\", \"thank\", \"equivalent\", \"cell\", \"wonder\"], \"Freq\": [450.0, 832.0, 233.0, 264.0, 201.0, 229.0, 170.0, 170.0, 174.0, 204.0, 135.0, 140.0, 120.0, 208.0, 188.0, 127.0, 192.0, 257.0, 130.0, 149.0, 542.0, 88.0, 99.0, 158.0, 98.0, 103.0, 139.0, 142.0, 173.0, 127.0, 17.510991889488647, 16.767705268228706, 13.869426286817266, 12.594250824631532, 11.352746401092759, 9.557063649787091, 7.1765731677985505, 7.100204512052983, 6.527290052333832, 83.61305853733505, 5.693459867863273, 18.451101513403064, 5.417757958638379, 28.794454220646745, 4.799352935864521, 4.724508785312244, 59.21741594425998, 106.67993240718317, 4.33613279083407, 4.219103561747232, 4.206839509488177, 169.2911124155314, 3.9349802055327996, 3.932492488377826, 17.79358705318199, 3.618033896065146, 3.618033896065146, 3.455605058009305, 3.3584464287275093, 3.1462986868893745, 129.74225693393367, 8.617983200031652, 87.71518940902169, 16.790628975451217, 14.005823000316147, 160.71537779801304, 15.028820475524537, 19.602839170787515, 10.279040793994254, 35.789102009504454, 22.923095945502087, 19.075264503386407, 15.804778459894859, 28.95353373595194, 24.75801350340013, 14.984131701414539, 19.859811503309572, 28.820612943458134, 12.55611893875411, 14.615780764805873, 14.231336690870565, 13.437225582043299, 12.969560158499762, 28.501055707488362, 19.689130217103433, 17.945760295946517, 10.719127741998012, 9.41569578435338, 8.446972429841752, 8.207634412747378, 8.113157321020372, 7.999894457218381, 7.457256654005329, 7.405605170795928, 7.2473851692009825, 6.868440291106876, 16.45046686737472, 10.179902119163392, 33.1068375847488, 40.26968894653469, 25.82644946599852, 5.082815384315286, 4.763965041175601, 9.990591838138133, 4.268463216168616, 3.8291973597355318, 3.73870993319063, 3.6772412083187724, 3.1276706982318476, 3.107006204487875, 3.0000360831619393, 2.8979657344010095, 48.10600532551816, 17.11088990131384, 24.703137149426745, 13.143518016245475, 47.529580869176094, 10.890935791281153, 16.89048934085827, 14.866891578046657, 78.88947744475126, 31.54051099724905, 19.590444239884235, 27.239996471592224, 22.394021365220464, 33.58070305134222, 26.09864091500072, 14.987219330985276, 38.80324592200085, 18.31033775661739, 13.935003736396766, 19.160340492259408, 17.890259636353406, 13.474373831457534, 18.77093588002896, 15.376957649256118, 20.687795382205046, 17.732481686915868, 15.32007449320993, 30.231832522543844, 16.54326246376314, 15.479846591373901, 11.59043515676273, 9.82100234776709, 8.640179073472048, 8.13235034049699, 7.19102271316422, 10.542656505078815, 5.107058903872435, 4.389764181525883, 20.33491134475567, 3.774718111087475, 3.753533986751373, 3.52028157504539, 3.3965707728042376, 3.1574997646367846, 2.9956148530503492, 2.9956148530503492, 203.9389161507725, 2.833253370706117, 2.814306437336017, 2.434842592125511, 13.986821655317167, 2.2621434825659787, 6.600085106562413, 58.94242838680264, 27.08534835056584, 20.271542950225957, 1.831957309126997, 13.714248514522392, 30.844399158408468, 12.181390496229945, 14.568621769701712, 6.81405936030517, 35.214879165463216, 15.000398042848518, 22.231888421503353, 18.013648863862137, 22.205544983308926, 8.859178061291027, 26.07738441493561, 16.517535875958206, 22.890327446907804, 14.584856207981257, 17.445085066870213, 19.815147126728874, 15.401211466362534, 25.989558599110765, 17.710713257591905, 14.341808288088112, 11.819137188542111, 30.69502163311152, 26.568385885382078, 14.843346231855444, 80.15786316720832, 11.80388617247861, 9.509627159142502, 9.489117590452162, 8.513458491655602, 7.910315015425505, 7.281554785267082, 5.702752210240425, 10.113692948790623, 4.752711118515422, 4.752710178657999, 3.3079679266274677, 3.173908230202958, 3.173908230202958, 3.173908230202958, 3.173908230202958, 3.001629858233269, 2.8664282350395003, 2.819816945990434, 2.788566373381291, 2.788566373381291, 2.6082293505787786, 2.5189654519474085, 2.4657256617779093, 331.16725939613053, 2.3320843585496536, 2.3031124702632, 5.62041756710493, 4.384422661352968, 25.266091870564445, 15.883792209123653, 33.187260359513736, 11.034140436543687, 10.8970428076414, 4.752710178657999, 5.214660440621056, 30.267837637092203, 17.733934128531413, 14.617186460381978, 5.076376085079001, 27.475177871346816, 35.05754906264646, 13.025155705408771, 13.531389229583485, 8.952000977920799, 11.975735969463292, 9.28885214413269, 7.360319223337427, 10.043088352869006, 11.954364864801633, 10.185004944066145, 9.444805819232, 8.8252236100975, 8.596239880352952, 32.16151014274008, 26.28780768357473, 20.607018025042223, 20.10249316509584, 17.80598969569103, 17.283227972572536, 16.063940863514674, 15.404648610917029, 11.979423480924094, 11.494813329805014, 7.1818032028237155, 6.683119366179535, 5.59014284502732, 5.460295343686886, 5.357895597372173, 5.125820325814674, 5.057216040094072, 4.44567889928566, 4.151863592270678, 4.014436814598051, 3.916685354134108, 10.783665660753066, 75.54446682104216, 3.505975921061946, 3.4525606998940246, 3.434247094699844, 3.1587232024148304, 8.626401190264914, 3.033387453930081, 9.080598693778748, 27.088959875473268, 14.396368160450303, 9.957592961141918, 11.870432550336433, 7.039418705604907, 12.504437536160173, 11.381023094929581, 16.170186340557798, 28.891843865288656, 8.60632375136672, 23.03422702707036, 24.303519114427907, 12.24886626141216, 18.259709487822505, 22.198906451498583, 18.83666402295904, 45.54423639000916, 18.83624117133543, 17.798162625841794, 13.652165329346447, 14.622840339794104, 14.471921759880173, 11.804875755034372, 56.079204440178934, 21.687035154706003, 21.495176044343335, 19.113385756547007, 14.543214477942664, 11.730041090030959, 10.67754377400166, 7.958838930078013, 7.214487320588009, 6.602472663519171, 5.73048596789807, 14.940961337918498, 5.127537276189523, 4.932667884193884, 4.6797318483343275, 28.084724988866455, 4.636336700861765, 4.339900156145514, 3.855714511233638, 102.75757877730297, 2.7891729807927073, 7.075847008837985, 7.212004456666323, 7.681521048349376, 2.2133887443778963, 2.2133887443778963, 2.2133887443778963, 2.2133887443778963, 2.2133887443778963, 2.2133887443778963, 21.426007669940535, 43.757466032683304, 40.32757367825017, 5.462980437682811, 11.596889953696481, 10.647858127674041, 12.418090629794747, 26.630901579754045, 15.825912675508038, 19.473241608836325, 35.340338675122084, 13.734541117719864, 28.018319831285723, 30.759965971371365, 23.432398705428096, 80.4962489518375, 30.212954096590718, 16.610943551922567, 31.62476976915261, 19.186769807896297, 16.416778096131047, 17.624743616630262, 28.75060649340917, 14.166971112979589, 15.475412914129517, 12.882947499741382, 54.914324694556136, 29.47566267502723, 23.293758964750637, 16.64952518158923, 15.821246053883176, 13.118979754236396, 9.898730192081148, 32.52148586045693, 9.134137676062764, 8.71241868904402, 12.103669589482994, 8.096376381375158, 7.999415777705059, 7.115123209301507, 6.984169290719212, 34.04206378091274, 6.280037046165799, 5.989079175599814, 5.763317905265055, 5.279826177238991, 5.114252189421266, 4.466926114810495, 4.177111496015676, 4.122481277935584, 4.102782442621183, 4.046413172917031, 3.6853634737391614, 15.795134631532575, 3.52448631088745, 3.349533118557188, 30.496754545230885, 11.422608743488473, 23.60473759712254, 25.957574505756487, 13.142387229901818, 10.151533287703536, 10.04376692064502, 18.170180930427605, 48.52078910303411, 12.570071501837464, 28.181098377540554, 28.091428288646348, 14.493355878825694, 37.00463182292027, 14.378317274869008, 17.919716223935925, 15.800787802229806, 15.509872383508856, 13.65734344001567, 15.675119727963391, 13.538631572245494, 13.54271402467641, 13.304212483959322, 12.17126353974081, 40.73201435043593, 34.475620155029155, 17.577574743200813, 13.189007905850916, 12.609022687551741, 9.696310350269629, 9.696310350269629, 8.740487050784001, 93.6537494324272, 6.93119397951966, 6.475824964164746, 6.007878877868799, 5.8421517282075675, 4.728817170045504, 4.72582602754223, 4.613609790317857, 29.387043342071095, 4.0982934023031605, 29.12523733222793, 3.9998541022244063, 185.48550968944983, 3.3462598514171162, 3.3462598514171162, 3.1479710545476913, 3.0914635102124506, 23.810150742145712, 2.8965128434002865, 2.873178869370114, 2.7835208679723693, 2.7835208679723693, 40.48155463136728, 43.14792602940559, 27.434776374956286, 159.42730719245327, 9.001307280831828, 19.010286064699216, 13.650261552762547, 29.121726430682504, 7.222346295614882, 7.91199055976429, 12.381384984190474, 12.090256359168881, 8.064996180718467, 6.640115625800643, 7.23611889902752, 28.162838619281974, 11.371066162101307, 10.730520942730418, 10.439138025890733, 9.224498022090856, 9.172093248949626, 8.34038000950827, 8.267978042454015, 7.378362901003376, 7.043338866503645, 33.91523627494022, 6.654822942240249, 150.1540756061078, 5.755414548084001, 5.659466440259349, 5.47229141679891, 5.382447842685324, 26.19000609538634, 4.786333482309192, 4.677982466691104, 4.473764445599561, 4.418710904179856, 4.322154528721222, 4.322154528721222, 4.299766541029806, 4.179421868135141, 4.179421868135141, 14.699541166890683, 3.5944533291088807, 3.2462314687351816, 61.74274370613708, 78.7798007338143, 14.72603345122728, 34.75433845625026, 12.883498469261404, 11.680486011769753, 19.79501092823612, 11.10912857549218, 22.599801724208643, 18.769273255418994, 21.35424907033491, 33.858846557904684, 12.063319019509514, 16.413292517482493, 11.531562538375589, 11.882126013442376, 10.427011786401737, 8.34769762732342, 24.52426303571593, 23.891334930556305, 20.63770169341442, 15.998991137557, 15.799457696417072, 13.15002377525509, 8.701413624865845, 8.659942163156575, 31.16385792160693, 7.923876072848396, 22.75123807330862, 7.458482356057251, 6.863367993251991, 6.755100641600901, 6.7223243947949145, 6.4709785886462505, 6.2626215415180395, 6.238678030733047, 6.001448396409911, 4.978942366092537, 4.760605622583993, 4.566793573505212, 4.191845669826513, 3.149696659444621, 3.0967573060231035, 7.1484778016205786, 2.8954055618060446, 2.824549660442983, 2.75613290438141, 2.7095143867312306, 11.078500382135338, 9.79255581734338, 50.698204291911516, 9.459524749782142, 16.57169184068343, 10.89312077420587, 16.46270321644816, 33.3321676502435, 12.686196429700951, 12.838245711964275, 9.04453280794586, 28.758671776787736, 21.6127275592445, 18.198842846702416, 20.56496044029651, 10.215965649339344, 8.487598530057499, 28.0175094163456, 22.37025093830502, 41.32284760181234, 15.39882615478134, 16.056177097443292, 12.939403050641557, 13.125398935779028, 16.635815484176106, 15.697342845559207, 14.314296959121899, 13.414206978022676, 14.264023575252036, 12.93474787521296, 139.96948123718047, 42.08888683262201, 24.75687088603276, 24.59960356027881, 12.20877431673864, 11.018608725038693, 9.235950392579406, 7.875072175962108, 49.18407191286628, 7.331758049336985, 6.730719037166976, 6.4649510490275475, 6.303304185920202, 6.094881565147835, 5.300690560176141, 4.893249062147001, 4.893249062147001, 4.7315359113819095, 4.637167037937259, 4.6198028010680705, 4.068664739354235, 3.9515515179003415, 3.6142161880989265, 3.6142161880989265, 3.1597676368436183, 3.1597676368436183, 3.0499992585658013, 2.988256715069466, 56.2309062634572, 2.839553583998452, 97.97277123335533, 14.197349425809666, 8.367368134826474, 25.23712354391988, 12.611750928498836, 23.10381715781127, 18.42416115374082, 24.01258509896302, 25.2337551067194, 18.955994144245796, 21.656306377951402, 18.0139173663177, 41.10060101382816, 26.12319322547678, 18.390520025186582, 15.08452295334105, 13.041636346354474, 12.810981471066182, 8.471930229255578, 7.9693798826839455, 38.81925629570182, 17.21284322356819, 29.816448231731435, 9.988411909666713, 8.960130752846522, 12.597804197563136, 7.845490113422989, 7.641000178996294, 47.4241555639285, 6.558540064652807, 6.157921156553727, 48.40874830084416, 17.6873031787041, 5.600334994758055, 4.90079711269737, 4.83220587877905, 4.736301074855276, 4.480727141439823, 4.432746053526574, 4.099250283478601, 3.893292821223333, 3.6843883744994623, 14.684196492387828, 3.4062349051111958, 3.0298539217968194, 2.956646805883151, 2.949465661385835, 2.642889810565223, 9.224160225449983, 2.4379440251292657, 16.223231297222192, 8.197342336168559, 47.737344804624925, 24.210588493152713, 4.555568504523146, 20.912131251616504, 12.869351661577923, 75.86471423277978, 23.511103438685623, 22.836084944556173, 8.707212684096248, 21.892204673105756, 22.099470612370165, 12.67859065306134, 11.71221377927967, 23.276314891195938, 19.316492532301158, 9.703403065941645, 14.882309056993977, 15.482206713028818, 11.570876676824033, 9.902809622571592, 11.355145825734041, 11.192418660219477, 11.167465858805295, 66.28945874794958, 45.24977992201102, 16.8865693989468, 15.503476728545735, 15.343190147953472, 13.250310367242417, 11.116766508304236, 9.058124571668753, 8.489165931058123, 7.632492289428465, 13.066867990798421, 5.28892994088259, 18.51415394539791, 4.352128693436832, 4.233024879577972, 4.233024879577972, 3.7228269051541685, 3.1379603494639188, 14.765168079215593, 3.0744640709730686, 2.7882762430096664, 35.11245691002776, 2.691167848646577, 2.59519946833204, 11.841533672875189, 26.079266258946856, 20.631776681273283, 2.283057265496681, 2.2830571279135228, 2.2830571279135228, 35.68007879267366, 14.91142558033613, 64.30677317094097, 14.029878554708215, 21.288768180801835, 20.231590200117875, 35.83512070327669, 11.231169655981246, 83.34392362646778, 14.562245028240762, 23.535567193545297, 15.51626535826345, 21.735625070537196, 19.532524670157333, 16.560483005448305, 18.138058825569754, 18.536737395311675, 11.628154301879848, 28.833364186210563, 18.94250133472177, 17.209121694627417, 14.405865570897053, 14.206629858871729, 14.0536192237353, 12.851020346881896, 12.265747087785199, 12.112054015560528, 10.181539851317808, 10.169650022481633, 9.068162757125064, 8.429980023808426, 21.59794855740627, 7.56053774271881, 6.997076060341839, 5.6241642327950725, 5.624163704592992, 4.991403493836646, 4.435616059489919, 3.8001945025500525, 3.4734251904469247, 3.3083847529229393, 3.011823581915116, 2.926763503448159, 14.311099779197546, 2.7018653574338876, 2.633040098118805, 2.427765979907111, 2.427765979907111, 8.417367086323795, 45.1377961467023, 16.78159281771423, 20.340343772274693, 16.58751447080469, 33.008235401379615, 55.051456199993375, 33.159417400912716, 21.522850898383076, 52.11255672553944, 8.772820676519457, 17.59586597608274, 12.438899124662234, 19.026502368016956, 10.35898088908999, 13.896969276262965, 13.038396865791725, 12.030030570855418, 12.186835809739474, 11.457962363775797, 11.7844028700837, 12.04177039030068, 35.16258947085228, 30.869055500377158, 16.497594140132488, 11.991792168507304, 10.999267526015801, 10.73992980403597, 9.245502219866648, 8.74038651428678, 7.313883804632012, 7.059042304015581, 6.849569376558438, 20.79997531456872, 4.40018145704091, 3.0330765097583003, 2.8874226290139906, 2.755678450271059, 2.6113754960601057, 2.5889605707373984, 50.22657707758826, 2.266730085449323, 2.266730085449323, 2.2667298279337813, 2.2667298279337813, 2.2478096460316186, 18.54853135169279, 16.99242158477819, 2.0299945025912356, 1.9529310452797919, 1.9529307877642499, 17.86413126564498, 15.877467873244688, 31.415967008486543, 20.347328915703372, 38.40865734291813, 69.77014848358685, 9.391722634803369, 14.39473973517972, 41.68926937985065, 14.854410127968784, 9.94798195708752, 6.35431342605084, 8.248054910274186, 10.748447388103314, 17.532789107934153, 47.476879683295806, 16.300348565640807, 34.22297706180755, 12.268927304626159, 11.737838581479703, 12.531620969149394, 11.732212381917988, 12.258224958700447, 10.792585552002905, 26.701067449072447, 16.92719575190407, 15.909090992414361, 11.079396964256032, 9.471397923538586, 6.744002959822947, 6.2074978801868905, 6.029716847582273, 5.5252960553323245, 4.76759784976076, 4.76759784976076, 3.7025664165310315, 3.499092764937471, 3.418386515629458, 33.370314655079504, 28.895565341266575, 3.218540285699621, 3.1877707809315257, 5.111618074645535, 18.66149934356711, 3.0318702742655823, 2.9057452986498706, 2.8764262286746627, 17.346947746789613, 2.7046539322096934, 2.6872940938662504, 16.55333932862788, 2.465540887036986, 9.948751860187224, 2.063153826551543, 7.938826345438559, 11.169627258120919, 8.396924953335985, 16.911849341279645, 17.62524873966166, 6.858032323623926, 22.330112675934384, 27.844851643224253, 24.992059711987043, 30.540226869604798, 22.390636356848617, 11.336504185491542, 24.24261517684808, 23.26880631251555, 15.09427521313167, 16.03716800039982, 13.844847337745895, 13.883357024570861, 14.46128091137606, 13.100796857245765, 16.892245539320704, 9.65384160531679, 22.870428494610437, 15.684706522117361, 13.216969402397746, 9.0770931512394, 8.356449590181258, 6.934965213241247, 6.9145776090366615, 6.9145776090366615, 13.958459112391719, 5.653539082206275, 5.630124224791567, 18.023482941080427, 5.291217245863998, 5.072333158695499, 4.922392368182454, 4.2964554538045, 4.168345587086695, 6.380557940333441, 3.779804477605927, 33.547521490588416, 3.486434756087014, 13.991748887890836, 3.3903391287967977, 3.2955014012422943, 3.149684176706381, 2.9522504021398794, 20.381218897704617, 2.8891309095658717, 2.8300191551418723, 11.139730310448012, 6.189324291122106, 12.109267375711786, 18.491694290984118, 10.128604858696578, 7.00602534685248, 32.44723149152289, 9.696130445051063, 11.737423824659167, 37.13940056192189, 22.176870532105585, 32.28032502261151, 20.353349673851778, 23.829393291538437, 14.802163304888996, 15.300482263321127, 15.549865771667841, 12.843313598675486, 10.401892751941357, 9.994090142130812, 12.822470309686004, 12.68236058474669, 11.683613934107973, 9.33053492345495, 200.40815853817506, 29.03585386235094, 11.019549121175238, 9.812514263386614, 9.16496735882332, 8.012364188441419, 7.579867004021746, 5.79987124350794, 4.497374037422404, 4.222567526911807, 4.050638437466054, 4.050638437466054, 3.782631918106244, 3.1457683787609607, 3.1457683787609607, 2.794816445364693, 2.522581648540348, 6.305442178986448, 2.4438642784522457, 2.0333988785481782, 2.0333988785481782, 2.0333988785481782, 2.0333988785481782, 2.0333988785481782, 2.0333988785481782, 16.73106624889416, 1.8993956188682737, 1.8993956188682737, 1.667697362698026, 1.648976720851466, 4.832383821235423, 6.849314438247649, 39.90345026918293, 62.065712417187314, 10.804349950676652, 56.619244559929385, 4.303477146894263, 18.99324956872318, 22.165759286310497, 22.740696669980057, 24.904636930845143, 16.602068175008416, 12.628965982793902, 23.88716023296716, 14.428311828016458, 12.876683682402856, 9.365466218781922, 7.656388854988979, 7.491805250489624, 5.176870158650131, 7.513670304452973, 6.03153050247619, 6.2879298666113765, 5.929759014038069, 42.027190848274984, 15.225217366947023, 11.296522547774192, 26.110293054045258, 9.87374552133983, 9.301135087235485, 8.116104364864885, 17.85785291543994, 7.456117667095834, 7.197495137834912, 6.244545658991752, 6.115756691829569, 6.084149166752432, 6.084149166752432, 6.079017006369091, 5.9336869290950744, 5.931596356263093, 5.83403091259722, 5.570456007606646, 4.268057253445933, 22.51493189042521, 21.891027511664944, 3.36990682852616, 3.238882538836461, 3.1015819207879027, 3.1015819207879027, 2.8988224018111644, 13.943819304282176, 2.456929932005812, 2.4119432017902853, 9.681558492465644, 28.802952705582637, 38.45973963868789, 26.514517181505894, 4.744169888135534, 15.183313713049092, 34.857762399812145, 20.233381657598404, 9.280042198481318, 16.77255657723675, 19.685713347782304, 20.186108435377005, 14.376140546210127, 17.10019244222651, 9.441662148338297, 8.155183094768466, 14.981733627499173, 10.167632579928409, 19.901187560158228, 10.975522119464374, 8.752931111348655, 9.287365426708188, 45.60585000433727, 28.050156125848158, 27.891756505870358, 13.185497078530036, 11.330589175421958, 9.89337317184745, 36.738107085380285, 7.5533034114168816, 7.232527390410225, 6.43041558548561, 5.947845628138014, 5.393376809010873, 5.134998731995575, 4.955381466719544, 4.955185048945997, 4.692761851976867, 4.641369639361353, 4.597021312062628, 3.965909734606819, 3.8476562782701764, 3.331035218030833, 3.3091230956047046, 3.3091230956047046, 3.3091230956047046, 3.3091230956047046, 3.3091230956047046, 3.266804569491137, 12.818135196878073, 3.0288455682777005, 3.020735641335129, 14.722777528489905, 86.22645398886554, 36.35614059185652, 15.305683930107433, 26.28574160213242, 29.220762608938994, 16.55745530607367, 46.497427389659464, 13.891400833033329, 18.85875111182482, 8.378568527117746, 22.69902814632153, 12.68375919039203, 11.360672775060708, 8.621600673567531, 9.47351796135177, 7.999017881693506, 7.968683555219397, 9.492942502459233, 8.536534579752095, 17.610848108362397, 17.02896914752497, 14.504231255588488, 13.70927841614903, 13.065028116861374, 12.737606347310887, 11.106490456471906, 10.808869113224672, 10.334139501070878, 9.550570219905676, 9.131559807740484, 7.652984122324213, 6.813129566830301, 6.545222536646934, 5.379407513933802, 4.747491952661007, 4.740065669291013, 29.302936568517804, 4.548134120888318, 4.425108463299027, 4.320583601362901, 3.6460758636310002, 3.6460758636310002, 3.473690272076222, 2.744017387812161, 2.562208734828991, 2.4761846685460287, 2.475071097595116, 10.67555707619794, 2.2831388935078567, 113.33277234617368, 10.560405753097264, 55.91982547719665, 12.129804241557682, 28.54497570367774, 11.773108341847182, 8.503029327309246, 7.31722423073696, 14.382674331422187, 11.91644448448582, 20.847857890484843, 10.34988729580202, 12.44638448540668, 20.562816948402386, 11.7987823266287, 12.90346831457855, 8.005922512360895, 11.025984631478178, 9.315801924701566, 10.799416764552427, 9.268467618915285, 36.477616633880714, 27.911938058170843, 16.84480564863112, 16.626517345463725, 14.26093671993042, 13.514061625308274, 11.238510903229312, 10.780674959344367, 10.41772513905064, 9.895275926457574, 9.48817057079352, 9.467654162443408, 8.528590790719988, 8.500703765381752, 7.96539005633868, 7.070632790421598, 6.821758842783404, 6.669237894044294, 6.525638567214422, 6.360453307361438, 5.6340303374362035, 5.631972829099961, 5.519470395929074, 5.468272133345322, 5.386721632038288, 5.280916778949562, 5.068152555618035, 27.8546971321865, 4.77407123672699, 4.763452785233679, 12.962831456307, 11.709321790646266, 9.890373974325808, 12.722846341600574, 10.58140598884523, 7.648297346772405, 6.5563329330315705, 6.822906025560941, 9.083776345845537, 6.711959343084222, 28.899353381889433, 16.959052817265125, 11.523697380213411, 10.017163868635102, 7.9879795497005315, 7.79443718429136, 7.4836768541206276, 7.065204006062678, 5.972017020691989, 5.198461447275581, 5.164651626675522, 4.999625601889389, 9.853745069237112, 4.763667697622733, 4.324003378053393, 4.303284546145226, 4.184664124700717, 4.087868286172444, 18.486269639649677, 3.829403793832649, 3.6783358905206214, 3.5664043015156968, 3.4379597880178356, 3.4225814493098214, 3.274203538151587, 3.2439004861018694, 3.170906084285625, 3.131062482154957, 3.080144445183279, 2.722249284343227, 9.758410610631445, 20.88786554904156, 18.90524312629707, 39.61214997370684, 9.124300435978165, 8.118250056784845, 20.292190878249222, 14.681137205812721, 21.79072169451215, 14.208066334623968, 11.637243716722182, 11.566883518034945, 18.234611408333468, 20.46884692969996, 9.835873358121827, 8.484145823463697, 13.730096058741868, 12.866677530101743, 10.460913532820795, 11.062792277485308, 8.005058095504662, 7.678078412300995, 22.09545143218556, 14.15647709534161, 13.93544346626571, 13.902214267480014, 13.77629871888476, 12.890512429481085, 11.584236316269788, 10.347199391541533, 7.8628641730993305, 7.85671637048925, 7.847209071831854, 7.81355565629447, 7.7724968191941715, 7.707848023396217, 7.695808785386231, 7.10678382566868, 7.075763393237733, 7.059071967189068, 7.01247159000177, 7.012470754929424, 6.991530898321294, 6.839713910775097, 6.808961536567165, 6.590409742503103, 6.265965764552357, 6.022433198798642, 5.5804745000518, 5.54503152447728, 5.141277803088826, 4.601557184814406, 10.324300872746234, 11.50208273395832, 10.497529950312133, 15.662332993991813, 18.895821634755915, 7.670815905147562, 9.822646192284617, 8.812794039531726, 7.8223097196959195, 7.95037223929233, 38.999121878474476, 19.8787971878564, 16.843283922662074, 14.484483919606843, 7.057017159459718, 6.222392881883082, 5.515653583065215, 4.854946473307955, 4.830524149206139, 4.455117402169954, 4.349456838135411, 3.7508579239211284, 71.82522358700571, 184.91794791197538, 3.2258733814229967, 3.137244536073698, 12.4928645116532, 2.506095690000548, 2.0851777490702563, 2.0851777490702563, 2.0851777490702563, 1.9814246593583953, 1.979144837731961, 1.8924825100522265, 1.6212220938920834, 1.6212220938920834, 1.6212220938920834, 1.6212220938920834, 1.6212220938920834, 1.6212220938920834, 9.211886431963325, 21.52335065527719, 3.2433335801713534, 3.778620770902166, 12.770562003967683, 10.882934561801845, 7.957177057286008, 10.695634928352924, 10.462348843647318, 13.92019417950958, 3.3775002305006776, 5.661153853307459, 6.1980196219709285, 12.024377175652285, 10.485217745608635, 11.016261091832753, 5.2693351348291815, 7.1375007256277225, 9.232991517886099, 7.968217331556496, 7.904537002953232, 6.570218069961049, 7.755203904742271, 8.067203086805858, 7.283316170918815, 6.289074026221889, 6.337007660531025, 30.661025969713016, 12.472649230196323, 12.323820351335984, 11.461600227497714, 9.84944153145033, 9.514842833568888, 8.736834688386086, 8.620888380350513, 7.563983878823183, 7.330505401963313, 6.985576605747925, 6.900812102110568, 6.789401307034728, 6.788798256169541, 6.611643507717808, 6.337616379642871, 5.964897940145947, 5.882290565752039, 5.147507313731976, 4.3902486004464425, 7.228767461271724, 4.115268407524429, 4.028397300526923, 3.398979054925791, 3.2748041585814103, 11.503661395477359, 2.760296644141612, 2.700022117632892, 7.859075410632409, 7.02770867295091, 15.104598721686736, 13.241239187745375, 11.712660896812215, 8.147394844212297, 9.241228876829965, 35.10430474441671, 13.517997973252893, 12.2359957720246, 10.421339929849568, 21.56339409802109, 14.270331635317124, 13.477931762729977, 8.967953932469308, 15.10659530901067, 10.52887775298378, 12.205093489851734, 9.378758701304049, 11.758157009922625, 11.134046630602148, 10.47536595296798, 9.592796122164028, 8.97161053953971, 12.842114862222441, 10.056543867360647, 9.72625290849729, 9.331393130511556, 18.501060671108835, 16.021286113768337, 13.666048905980185, 11.357482750512151, 9.70067476883684, 8.631770420707895, 6.6102822328734225, 5.826611981122865, 5.351864312904, 4.856450835276772, 4.533408298784861, 4.523274951341061, 4.46216995075055, 4.441415239055569, 4.2390812008698795, 4.143586904278332, 4.022315105951809, 3.7149802794283153, 3.677374612189798, 3.6183347928019933, 3.6041713344674746, 3.1181366697706183, 3.0506276780829427, 3.020688981872939, 3.0206886035653366, 3.0206886035653366, 2.9663842495933377, 2.937697751548009, 98.20744305602236, 2.6006996367492192, 28.44772995854983, 10.878522627138105, 7.845848482106537, 43.22660396870803, 9.377316345496741, 15.23379495523131, 5.688392758814137, 40.546706202811556, 16.756554177609186, 8.113716746294223, 6.9521149296799045, 9.151065700673366, 8.923170931009002, 8.83008229246252, 9.18764728923159, 8.53737359447155, 7.820689513301846, 5.888505374757238, 6.791291071499381, 6.632120417542309, 47.417273627807134, 46.14571162060694, 23.8417985748906, 11.814212052555195, 10.91821781843117, 8.94228098796304, 7.308353463097311, 6.390583019601327, 148.32127008944437, 4.975497719946902, 8.114195736592102, 4.536661664105371, 3.3431254823236447, 3.3130677786312845, 3.3130677786312845, 3.3130677786312845, 2.9921064506017268, 2.573835011667181, 2.573835011667181, 2.321568332595614, 2.141539914153482, 2.141539914153482, 2.141539914153482, 2.141539914153482, 2.141539914153482, 2.141539914153482, 2.141539914153482, 2.141539914153482, 2.141539914153482, 2.141539914153482, 13.721837312435374, 19.00068715392844, 5.685388434147917, 8.642830030055789, 5.851882571614507, 38.14260387070849, 8.463003087862534, 38.0212819845605, 20.044162731557048, 9.955012566332973, 7.963037861791249, 6.669453862428603, 5.346561906283449, 6.710537513380835, 5.546559447126831, 4.438791613326804, 4.881848642165193, 3.8353777235261135, 29.78682427541699, 9.901897391776647, 9.771325440878876, 9.444333829620069, 11.368544261064786, 7.924227155121155, 7.431031222287648, 6.63963871534583, 6.3223235893760545, 5.925719054097659, 5.767698340722095, 5.767698340722095, 5.576986376945142, 5.319172962736142, 5.195099055117103, 4.5293375621610545, 57.61804197796547, 4.084502283136481, 3.722941168725367, 3.722941168725367, 3.722941168725367, 3.467116321957448, 3.144553627782292, 3.141657141410994, 3.134571236954424, 2.911811585614908, 2.891275635135766, 2.891275090819861, 2.7343381104119597, 2.7343377475346893, 12.577905339694897, 18.72099223321176, 28.369236961560325, 44.621755112248714, 18.585983019053124, 24.275351397969192, 11.096372519025726, 5.391549197168841, 4.921627486695935, 7.67519754811632, 9.301472677087322, 15.837718949078631, 8.730918567777573, 6.707473540741095, 10.708139562372468, 10.872037436017331, 8.33330958821507, 12.392695683967055, 10.366684388875225, 7.001053590217025, 6.422818094850194, 6.042366678380614, 13.214258288557474, 47.8370863047893, 11.12168282457107, 9.2410621111895, 8.572805862617424, 6.67954319121323, 6.261545238042325, 6.086892894105334, 5.880021163432919, 5.836132648759737, 5.611305333142684, 5.578687562476126, 7.615583866395993, 4.911227736546272, 3.615559603724578, 3.433786405933611, 3.299211347380623, 2.8786347730887467, 2.878634600478725, 6.309567417526072, 2.6904496308047934, 2.426753472568844, 7.6773161147194555, 2.238568330284891, 2.238568330284891, 2.238568330284891, 2.238568330284891, 2.238568330284891, 46.49510828390363, 2.107952773030113, 4.153647182389236, 7.616192144114067, 11.686043719927962, 9.148479618826345, 21.388574582707932, 44.259780879394725, 5.872815040227998, 10.100149786295185, 6.097205307268954, 10.34685093435979, 37.74100735325661, 9.81843089781598, 14.016959792945878, 9.927597761107775, 9.93642641852095, 10.19247750626564, 7.510431221779433, 6.474537029660263, 7.311527169729685, 6.1225541246825275, 6.364008618513713, 6.292209063258091, 20.708852166720025, 15.802976635213401, 11.687742558958753, 11.141203942084259, 9.931659948343281, 6.368502686768893, 6.023767130448125, 5.447420212584069, 4.421953595000755, 4.282236891224237, 3.9978487081894136, 3.8882290297607383, 3.88822869789366, 3.4539341643045023, 3.4409070540056357, 3.3917090870884863, 3.3839158524844133, 78.01880670695436, 3.0196392988482663, 3.0196392988482663, 2.919889015466669, 2.6827587044081693, 2.6530272306472784, 2.6457105571679103, 2.6054041389510814, 2.345878109968072, 2.218732531124582, 1.9518702485045734, 1.9518702485045734, 1.9518702485045734, 16.102770751765675, 15.492088865961518, 4.892077493984433, 43.98021996237014, 33.39002024056848, 20.377944847825585, 16.347571838476288, 8.827162504689449, 7.165698516820954, 7.946089925486827, 7.6567237362747225, 7.148288106149452, 8.609506817530631, 8.21132340448563, 12.774205018099373, 9.12673825270408, 13.036413196810702, 11.404113024065348, 16.639784783487638, 8.16157984809145, 6.694697493148838, 5.645954382414714, 6.1939903835473356, 5.916925843200529, 57.86472601191273, 17.03855079694726, 16.990287898248262, 16.212310340087388, 6.206713960400685, 5.5944989875308275, 5.404043651726449, 18.329746648137007, 25.139103885615533, 5.14121775726998, 4.89703149785472, 4.710698157195275, 4.44942564602849, 4.116491114448533, 4.116491114448533, 4.116491114448533, 3.960088692208514, 3.463311122444888, 3.310328908155808, 3.2375947575126927, 3.0917651145837457, 3.091764793105416, 7.3177694294766145, 3.0077824371802793, 2.9323311516935373, 2.8295137019026626, 8.501950288323048, 2.515414907145104, 2.4023270284123512, 2.3205916452734816, 34.33625684878112, 5.835945287141044, 44.75012813551073, 16.796801664750355, 8.545309999535654, 5.834247238602942, 5.281944574669717, 5.016203193240124, 7.345400491924519, 17.95606538120921, 22.294733062700306, 8.463565132786055, 7.3227497717621635, 6.770646102915096, 5.327535024012934, 4.71717305223615, 71.2887486220364, 63.74001457831443, 19.73334809392626, 17.479865079868134, 11.911447936646654, 9.113571813400576, 7.6413405403737675, 6.719341895283381, 6.510827822614074, 5.36587684566922, 5.1643092735044105, 4.669828185832702, 4.661440962505, 4.61937407256408, 3.894611965182284, 3.690080620352597, 3.266237381096658, 3.208695861465006, 3.1914597502214206, 2.5904476589722356, 2.193116727765858, 2.193116727765858, 2.1931164111234795, 2.19311625280229, 2.1748106819245563, 2.0815729586907668, 6.445697018449111, 11.156542108094877, 1.820826350832722, 1.5930653294937287, 4.751379113831273, 18.88511255752967, 8.774138782823107, 19.80489153954519, 8.1263891682256, 26.210815108802493, 7.336512088797777, 8.254155634611163, 14.108591405542775, 21.46938173208701, 16.79381123671611, 18.783965582638867, 6.581952033723568, 7.933173988726831, 8.400603368056819, 10.615339487514971, 7.303591413966365, 4.855061760890917, 63.51101335585494, 13.464668872239875, 12.501137260478272, 11.944883336759494, 11.838760256283184, 11.698752523375243, 10.717302816330852, 10.717302816330852, 9.202368391147253, 8.933465220474561, 8.620465230281077, 8.483388586624702, 8.400718632553327, 14.886630407047408, 7.248871785309134, 7.149631406668917, 7.149631406668917, 6.561436804551158, 6.198464579156492, 5.832512728193622, 18.907472167988594, 5.365796332179722, 5.365796332179722, 5.365796332179722, 4.992974701387139, 4.224559397684416, 4.01171031482446, 3.5819606273487548, 3.5819606273487548, 3.5819606273487548, 24.160919533984977, 33.10476333177717, 18.51994813047599, 11.415834964029427, 12.574021158500068, 8.33040463794629, 6.900629386501683, 8.030222647737872, 6.284834639444357, 14.529082284216706, 9.24126404492149, 8.214228680000648, 7.625299052212866, 7.537741237067106, 7.513288356123997, 6.817604486642309, 118.95304330853534, 5.944544636529821, 5.114270926136032, 4.87448079535211, 4.5277034550167095, 4.386769455892056, 4.358683088323151, 3.9029189497070096, 3.774030887807696, 3.774030887807696, 3.5542147840616685, 3.5234795781979633, 7.536210394657166, 3.079736081369544, 3.069621966083798, 2.682712633243506, 2.5215786657338355, 2.5215786657338355, 2.521578353444482, 2.240687196292338, 2.098060588872728, 6.0564703899145895, 1.9597961952848701, 7.546269859306082, 10.720673647528262, 29.584651940026273, 26.02304682841845, 6.64481166456073, 4.997539039603777, 10.608248231178193, 8.343164209881666, 6.143597870331485, 33.588831024834356, 10.814135605187756, 11.786951917165114, 13.152459599359354, 9.225173023702688, 9.677160647169217, 5.288896886721558, 7.163249465782596, 5.756722577030704, 6.299574535315869, 6.311290382694757, 16.349986228468772, 13.13766573729029, 12.282701386479458, 10.436972626886428, 6.502220776476338, 6.406983981900847, 6.313177410495335, 6.287220577209323, 5.047667253421001, 4.880851223686287, 4.880851223686287, 4.827685498537285, 25.969339765807792, 4.166496148251358, 3.6053160117506926, 34.813329580651356, 3.013916277751779, 2.7428721212016676, 2.5604096523774644, 14.991282803235057, 2.3127939864811893, 38.8146941365335, 2.1069022603740923, 2.1069022603740923, 2.0916198167611824, 3.5833980869920774, 8.722086595126287, 2.031322601466166, 1.9944012860716303, 1.6381125780836217, 3.2650440246870245, 12.056236709632511, 16.096349764605225, 16.031930844844585, 14.071195460537025, 14.531159402464045, 44.271839435266486, 17.189218124409845, 6.000444272441075, 7.336193597081835, 5.810286534461852, 5.682759937280798, 4.941138012826119, 7.394624223947251, 7.778889986114029, 7.395078068349388, 6.1448115634576475, 5.501019173051479, 5.884657525997465, 71.32014423279584, 16.686596802168907, 7.3704049852597295, 6.8491837004654, 6.4793243049128195, 16.209227983489725, 6.023006335690467, 4.92936452947884, 4.827896572871145, 13.819051273933395, 3.6842930907719387, 3.408216751573281, 3.3378684620264223, 8.488997423548856, 3.0350866178970475, 2.9848903333392522, 2.9074958656432863, 2.851855193632285, 35.806998142207554, 2.741933113593348, 2.666089995729187, 46.045883571253604, 2.473191227947326, 2.2814046518927085, 2.2814046518927085, 2.0157749968875236, 2.0157749968875236, 1.9655741667867432, 1.7103373826113009, 3.358229855253654, 4.832953269496819, 30.228604562660674, 11.795352075948479, 8.581624445680289, 19.462805655959173, 17.672903382191567, 12.031896267694023, 8.45001367386237, 9.196370717291302, 13.786136850545406, 22.10544358249187, 8.02116486079229, 8.14739312319377, 7.094374394751763, 5.540780531016134, 4.902653745853043, 4.40307950979873, 32.72930965166094, 27.927105457054957, 15.244175882191307, 8.431624247719112, 7.93663838870247, 7.467478584352632, 34.90402882697652, 6.056550173427021, 5.675466404762939, 5.59469920641822, 5.312437800489271, 5.23006406192599, 4.48240343316526, 4.325232358280032, 4.091282240585492, 4.049992948610834, 21.389455755232554, 3.783106167098027, 3.262956836173059, 3.2454368015832395, 9.852305830816867, 2.847146020492267, 2.847146020492267, 2.529987822072226, 2.368946406518982, 2.368946406518982, 2.34917278497859, 1.7411620456964922, 1.6321313627545142, 1.6321310750503204, 5.207124255732075, 15.21603150713031, 26.954290115510442, 11.891311485434326, 9.418501419443148, 4.462121150610108, 9.79686408184162, 22.497699214914874, 7.408213246640873, 5.452713734293762, 8.867652612511435, 16.02762432333154, 9.136333229673012, 9.779157614934174, 9.812301138067832, 7.974347777392821, 6.369991809070668, 7.167408864231607, 7.474531364961125, 5.918754825182065, 16.462900425310064, 13.567915312268202, 13.220407744318218, 7.624196548919949, 6.170378944365374, 5.680450152660833, 5.582297179779923, 5.436737685747234, 4.304089451494917, 3.312548923913049, 3.0936976292123473, 2.9916370792631723, 2.87934744689302, 2.8562039299044253, 2.8373677679016027, 2.7690635169583535, 2.5338338632800532, 2.503293501018851, 2.3222491521992192, 2.3222491521992192, 2.1412048033795874, 2.1412045308656693, 2.1412045308656693, 2.1412045308656693, 2.1412043946087107, 2.1412043946087107, 2.1412043946087107, 2.1412043946087107, 2.0000968241952215, 5.461100430004357, 16.209135464994265, 14.535643846220953, 10.061500532213897, 11.314844363146825, 9.227348510297478, 4.152210087193024, 23.98705438984263, 11.996306836883535, 20.129175139750938, 10.671564359470002, 6.827163102728075, 9.084869513592334, 14.705244518087685, 13.718914184101475, 7.986639514652437, 7.65935629460288, 7.135161057838169, 7.633847356807217, 7.15611356292713, 7.3773125650302385, 4.842004946482372, 5.36070957282994, 4.954355349456208, 54.11655641895568, 33.80464271323537, 14.138791640998784, 12.466163584474506, 11.002339057041695, 9.886644178422195, 7.918939464206665, 7.596398372385303, 7.135539592786135, 5.632103707918637, 5.443822898934819, 4.724549397795589, 4.656097102008353, 4.193565315518035, 4.062656696695135, 4.062656427636452, 10.612610783360756, 3.3955273064466502, 3.383467020038013, 3.1551018484547213, 3.155101579396038, 10.507436820394695, 2.6507960108354314, 2.607746083431478, 2.0774707017250544, 2.039431992292743, 2.039431992292743, 2.039431992292743, 2.039431992292743, 2.039431992292743, 40.32790590948462, 12.604930062135624, 5.993576514941324, 31.70728938200962, 10.40657210129622, 11.559707033778267, 20.14215920141598, 11.001697621141325, 10.377737620352065, 5.46507315372141, 5.385834295331054, 6.438766931192273, 5.960985974781914, 6.530750561280923, 5.2578237075831895, 10.10900970507343, 9.045943799418874, 8.711349041788608, 8.601890338300807, 6.648941279744285, 6.302280874741163, 5.789990508405012, 5.556411182006076, 5.499959217686875, 4.690372835032757, 4.651994372564016, 4.650901509718716, 4.286154724010055, 3.9454343623700354, 3.9210086937939352, 3.488081512129271, 3.2259363594969073, 3.056954216170382, 14.997210164805004, 6.169091435183989, 2.428512872713185, 5.189833233372161, 2.092560447207164, 2.033170526927222, 20.538028995816713, 6.47904657754357, 20.93881686321411, 1.9300662242521658, 1.7417445087707528, 1.7417445087707528, 45.25508561059258, 11.965312155442053, 5.642868775989813, 19.01010475858171, 5.452302197217946, 4.566274815826455, 16.921590768790328, 11.39366656288454, 10.493388334097146, 9.852141203350696, 12.790965566892034, 9.869933998727184, 6.864103317712277, 9.361002648062733, 8.270564707190466, 5.414151874467753, 5.856395987864066, 5.41510228140585, 34.41342795540998, 14.089812110351927, 36.504434773002956, 12.659677941856101, 10.936169927707605, 10.936169927707605, 8.919846204526557, 8.772196469752897, 8.103911955539411, 6.87844312210624, 6.719554449836104, 4.384963830079341, 4.384963830079341, 3.5152682010967817, 3.405408835255623, 3.405408835255623, 3.2116103466093655, 2.94570764904546, 2.428404871650417, 8.689941742303244, 2.201228420407222, 2.201228420407222, 2.201228420407222, 2.201228420407222, 2.201228420407222, 2.1730291195056735, 1.7114511857715493, 1.7114511857715493, 1.7114511857715493, 1.7114511857715493, 61.191189571970845, 12.264256540834454, 3.176862400364126, 4.695645429255634, 5.084814859248147, 8.238576342281139, 12.877116827344372, 14.698777002673214, 13.600375696430142, 9.739118236634587, 6.310184888835197, 6.425844250664717, 5.148314724715139, 8.883077509407157, 5.294345232627605, 4.370217618821691, 4.726738684299074, 17.47540700454175, 10.883075785582424, 9.327607192735853, 8.94770166436983, 8.699486559082686, 7.000091707613913, 6.646063742460191, 6.185512683055358, 5.833644071699202, 5.222123219043378, 4.427456392038488, 4.125609543147224, 3.7678537270997317, 3.6529241820601253, 3.206753735352764, 3.206753735352764, 3.071353556523671, 26.989065447453005, 2.9600073525508344, 27.421547420703874, 2.250286920357768, 2.0728191769241215, 2.072818925602683, 1.9984619595921165, 1.9984619595921165, 10.39080243159702, 1.7000280558324794, 1.7000280558324794, 1.6116129225297344, 1.6116129225297344, 6.130036994058696, 11.401051280416217, 3.925350086781003, 12.791380577322467, 23.1044643673507, 23.823887063667954, 15.825988426357545, 3.397300372094393, 10.513038142168403, 9.461287076320028, 8.074778367918269, 9.596489967820084, 5.013957190229369, 5.878200346846166, 7.345863763520659, 7.034110074854463, 5.266383940178943, 4.20229902342632, 32.40198869147829, 23.565225022536183, 8.111624183304416, 7.865883632116678, 5.965402531704105, 5.552038909598561, 31.233494433756125, 4.4330423091105295, 4.063917676518723, 28.315310698768737, 3.156080905735396, 3.156080905735396, 20.514876119056545, 2.892171156138092, 68.01382256640076, 2.819212498263447, 9.543437954542691, 2.5775013244548486, 2.475872920881852, 2.4518758038607062, 2.092508401037768, 2.0400650858160883, 2.0400650858160883, 2.0400650858160883, 2.0400650858160883, 1.5861467004244243, 1.5861467004244243, 1.5861467004244243, 1.5861467004244243, 1.5861467004244243, 12.914566030760056, 6.420194895035606, 5.580659174427831, 6.592202766182342, 2.6456117407463933, 3.0051887745727193, 8.384526197270448, 9.453547119985533, 8.414724548388657, 4.237973260417206, 4.7356580267538515, 3.057525396670441, 3.59244562147507, 2.9253745864660936, 17.490358761111963, 14.186016753883667, 8.467790679019517, 8.075521812390345, 7.443238028437492, 57.068031430148956, 7.392099324338019, 16.33708507872882, 5.64100714387344, 5.387743480120036, 5.091287710817255, 38.84150423019283, 3.260947450412864, 3.1124217394169698, 92.32270856659812, 2.0846961012714074, 1.908456865165861, 1.9047290684075564, 1.742709108465195, 1.6682638922848454, 1.3328957533023804, 1.3317259735497078, 1.0933189652453168, 2.6683697245818694, 3.830966983210202, 0.8808874257888211, 0.8808874257888211, 0.6876136928885522, 0.5354733878460985, 0.5354733878460985, 13.44458325746817, 6.699446206586862, 8.792828063266338, 2.630457027020728, 5.715986526725789, 4.309514530180027, 3.4283185704279404, 2.9577134272709675, 1.8574219256193272, 45.03367532113844, 21.54241851249514, 13.33999721763345, 11.225951995019143, 8.827681498789621, 7.168079300532523, 6.582709498924507, 6.431735667704401, 5.746515466291746, 4.5769776427400055, 15.030996796657954, 4.346506441542121, 4.173952337628528, 4.047234502494792, 3.8501121651940675, 3.4483301739867547, 19.196013637414712, 2.710556010102875, 2.5464406619007507, 2.540850027984857, 2.3891175185640385, 2.2928474119794857, 2.2775127201603063, 2.09644868879757, 1.974773820014757, 25.01318823789679, 1.8224573266584252, 1.6437049157666621, 1.6437049157666621, 1.6437049157666621, 5.867471938825081, 3.93854461461407, 7.89222272000592, 7.908107583967349, 7.424207391374737, 7.998176357209521, 4.374953430275066, 8.542981190350522, 4.133824417896669, 3.13743073492246, 3.7013657380339335, 5.41215982615212, 3.3294474914402903, 13.173545274687685, 44.899264215571606, 9.70892211775379, 24.322452783291286, 6.1230031391384125, 4.9331610622327435, 4.126987972613168, 4.126987972613168, 4.126987972613168, 3.2695993925840017, 3.205061758149243, 3.205061758149243, 3.03109239702669, 3.03109239702669, 2.5701292897947274, 2.4954066164201483, 2.2468959669657136, 2.0717258010215223, 2.0717258010215223, 2.0717258010215223, 2.0717258010215223, 2.0717258010215223, 2.0717258010215223, 2.0717258010215223, 2.071725601916097, 2.071725601916097, 2.071725601916097, 2.071725601916097, 1.9351968214402113, 1.8732909625206924, 6.356408854587088, 6.746797251775458, 5.577525552807559, 10.043556217251181, 6.593756857462133, 6.320873314652315, 8.089889181902157, 16.798013452959328, 10.578692665988564, 3.1759507529814703, 8.573630945346931, 3.8221300895103942, 3.3507268892884503, 8.362669189890678, 5.375742159259423, 3.5867046486246936, 4.753004500010473, 3.9899381332385553, 3.2954675676854484, 10.246187018433782, 8.152272546894366, 5.700445725959189, 2.8750498158716176, 23.87695657641914, 2.5052620340240916, 2.3516083742777973, 44.72068705258736, 2.1618786208629057, 2.1553111161819825, 2.046569728743503, 1.8259411402891033, 23.66200399782503, 1.7397944719112077, 1.6907633610225026, 1.602830574305575, 1.602830574305575, 1.602830574305575, 1.602830574305575, 1.6028303902645304, 1.6028303902645304, 1.6028303902645304, 1.6028303902645304, 1.6028303902645304, 1.5219077269410837, 1.252475962431867, 2.7819736340778296, 2.1773008923285633, 0.8067260675598229, 0.7569298060276839, 29.976726095329195, 35.12149779920395, 9.883979519136286, 11.452449446351123, 6.826501962340188, 3.557543209135533, 4.150133288216677, 7.8546958455183455, 3.4309781826798567, 8.034697557391295, 2.890032597322478, 4.596181053519604, 2.6458817229420926, 2.339431114512687, 1.8143969817178385, 33.77349641116585, 17.302962353262043, 10.266350239704758, 6.007858452955127, 5.678774539115315, 5.678774539115315, 5.505259472400862, 5.393519430198004, 4.893736444571736, 4.35956725709088, 4.346457139788204, 4.0260418082567195, 3.433144157409393, 3.144804863570942, 2.9962298583650773, 2.9440453594595803, 2.6155979948900625, 2.586610965679197, 2.586610965679197, 5.937698793094372, 2.065935690173457, 2.065935368602722, 1.903006732061229, 26.16775168880347, 1.6814348483980883, 1.6386421443843462, 1.6060167030902526, 1.6060165423048849, 1.4795842547822509, 1.4795842547822509, 14.570421462459228, 9.412134883896409, 6.512490403697219, 4.362651120441285, 10.812983187310572, 2.691276451708029, 3.583040496766125, 2.323164623236629, 2.202115751391694, 2.3127354411531744, 8.830526209932192, 7.675949019798566, 22.140777160216203, 7.154174966023185, 7.067245997352, 6.1841077377207485, 5.942452022445134, 5.303966307596217, 3.306419718511035, 3.048568732960665, 2.7769875942193125, 2.5875863486389763, 2.5875863486389763, 2.3912111482801803, 2.27270253971631, 2.1752058519920987, 2.155569874288223, 2.11416897789105, 2.020414405867178, 1.9295808538108639, 1.8016794433448706, 1.7774052289053244, 1.7774052289053244, 1.7198750688149078, 11.810831328412075, 1.6023653162825426, 1.5704574733677286, 1.5000169487580906, 1.475683785866541, 1.291095400374151, 8.213202335821931, 3.7852745938083787, 2.719241115530081, 4.1394044783306, 6.291748395315293, 3.4898346246196446, 2.028541188465302, 1.8403268849972532, 1.888943019637183], \"Total\": [450.0, 832.0, 233.0, 264.0, 201.0, 229.0, 170.0, 170.0, 174.0, 204.0, 135.0, 140.0, 120.0, 208.0, 188.0, 127.0, 192.0, 257.0, 130.0, 149.0, 542.0, 88.0, 99.0, 158.0, 98.0, 103.0, 139.0, 142.0, 173.0, 127.0, 18.370152683147474, 17.626866061887533, 14.728587080476096, 13.453411640515293, 12.211908447840061, 10.416224443445921, 8.035733961457375, 7.959365305711807, 7.386453102069606, 94.64133879826407, 6.552620661522097, 21.36744359796101, 6.2769187596164855, 33.78442004174326, 5.658513729523345, 5.583669578971068, 70.0470721895087, 127.47575006729362, 5.1952935844928945, 5.0782643554060565, 5.066000316417982, 204.3611332240349, 4.794142282120073, 4.79165328203665, 21.882653920025597, 4.477194689723969, 4.477194689723969, 4.3147658598816845, 4.217607222386334, 4.005459480548198, 188.1334755393342, 11.754201496585846, 165.2061860532336, 32.938475229819716, 27.350638554826872, 832.8567526780474, 35.595630030809915, 63.092468797386275, 22.052375343039685, 229.09233094317395, 112.80461943151177, 81.90739042446228, 57.127088674308055, 233.94968059873554, 192.83856116859744, 68.81025534217343, 170.30938093229173, 542.3081955012821, 43.03811930695192, 150.30829567058444, 142.19624228939523, 164.43989302869568, 84.69303756817085, 29.35857610374473, 20.5466506133598, 18.803280982400977, 11.576648673827604, 10.27321618060975, 9.304505800813166, 9.065154809003749, 8.970677717276743, 8.857414856171784, 8.314777050261696, 8.263125567052294, 8.104905565457345, 7.725960687363242, 18.630422463457283, 11.75357918279034, 38.41065904704996, 46.895264217281905, 30.132883696533032, 5.940335786157484, 5.621485437431967, 11.939578903030426, 5.125983612424982, 4.686717755991897, 4.596230329446995, 4.534761755840293, 3.9851910944882123, 3.9645266007442395, 3.857556479418304, 3.755486130657374, 62.56269909732011, 22.793399179551212, 33.77807702806561, 18.321571680479032, 83.06645344085398, 16.72575585035617, 29.166358002033054, 25.054167738523994, 208.69427665202056, 73.49451477111549, 38.394612909866325, 62.63957036822727, 49.5038916695811, 97.23785362713949, 68.74323788102281, 28.440260531233218, 168.23024177529194, 54.17825462498185, 32.25885022266861, 80.31404071048873, 70.19029703454557, 30.948613696917903, 97.0772610735399, 86.19885497818983, 542.3081955012821, 257.817243169051, 95.78369784823778, 31.089770987026373, 17.401200928245668, 16.33778505585643, 12.45280763651055, 10.678940812249623, 9.498117537954581, 8.990288804979523, 8.048961177646747, 12.284704410932553, 5.964997368354963, 5.247702646008411, 24.644870803989527, 4.632656575570002, 4.6114724512339, 4.378220039527917, 4.254509237286766, 4.015438229119312, 3.8535533175328758, 3.853553334290374, 264.62855705024447, 3.6911918370129886, 3.6722449018185435, 3.2927810566080375, 18.94821957406109, 3.1200819470485053, 9.141715977875055, 81.73495939568106, 38.53486184202062, 29.366243937697547, 2.6898957736095244, 21.430397046187426, 56.32185348868676, 23.871748030807453, 33.327933395151476, 11.947632610373889, 112.80461943151177, 35.734372390350096, 66.99758035922527, 50.278444286833746, 69.16342611646454, 18.098032822541168, 101.97199701720893, 49.724296144907996, 95.07562094392952, 49.826762834973444, 90.53284165908421, 127.83036011963952, 70.42883438275032, 542.3081955012821, 158.2739691966855, 164.43989302869568, 98.44337124817378, 31.556463834059297, 27.429828088393144, 15.704788432803223, 85.3676011097605, 12.665328373426389, 10.371069360090281, 10.350559791399942, 9.374900696902854, 8.771757216373283, 8.142996986214854, 6.5641944111882, 11.644868587001174, 5.614153319463196, 5.614152379605773, 4.169410127575243, 4.035350431150733, 4.035350455009742, 4.035350455009742, 4.035350455009742, 3.863072059181043, 3.727870435987274, 3.6812591496352396, 3.650008574329065, 3.650008574329065, 3.4698948958660494, 3.3804076528951823, 3.327167862725683, 450.47494824922666, 3.1935265594974274, 3.164554689678018, 7.779766699770949, 6.11171747082999, 42.03293104737291, 27.611598146021564, 86.19885497818983, 23.614591742152353, 23.594779829692275, 7.637377659777414, 8.891489087748818, 119.853558065008, 58.14455224853139, 43.91879529923531, 8.642934470020517, 257.817243169051, 542.3081955012821, 87.23899905833841, 112.80461943151177, 40.91927800277673, 98.44337124817378, 48.97273283682683, 24.677720076236103, 80.1086571265616, 158.77567783606986, 94.64133879826407, 147.78961190955687, 164.43989302869568, 133.44374893513614, 33.02152095296971, 27.14781848934634, 21.4670304184133, 20.96250397086745, 18.666000501462637, 18.143530072715635, 16.923951669286282, 16.2658149728427, 12.83943429785376, 12.354824135576624, 8.041814072178271, 7.543130171951142, 6.450153654595584, 6.320306149458493, 6.21790640314378, 5.985831131586281, 5.917226845865679, 5.305689707519539, 5.011874399673286, 4.874447620369658, 4.776696180131357, 13.264499051316816, 93.74218392866948, 4.365986726833553, 4.312571509493408, 4.294257900471451, 4.018734288677723, 11.03345566325028, 3.8933982597016867, 11.700545121497363, 37.43445490459778, 19.611345402907986, 13.504052561520856, 16.360244804510035, 9.293191608887254, 18.647340068778288, 18.28058294903355, 30.948613696917903, 73.49451477111549, 13.820858292861391, 74.30472346811104, 101.97199701720893, 31.81502090596597, 74.04987205846159, 120.59765951916694, 91.86993468480873, 832.8567526780474, 95.07562094392952, 89.19743414386305, 58.14455224853139, 99.74198245123311, 95.42506209583783, 54.17825462498185, 56.939360819371686, 22.547205422089476, 22.355348920200992, 19.979291002151488, 15.403370865388576, 12.59019747589457, 11.537706019847388, 8.81899531253277, 8.074643701372425, 7.462629042711922, 6.590642348314594, 17.407506476783464, 5.987693657150148, 5.792824263386635, 5.539888227527078, 33.25303632768392, 5.496493080054516, 5.200056535338265, 4.715870890426389, 130.30144903121612, 3.6493293599854577, 9.297793228902378, 9.548169320866027, 10.23471938595019, 3.073545123570647, 3.073545123570647, 3.073545123570647, 3.0735451252954564, 3.0735451252954564, 3.0735451296895104, 29.78302729744262, 67.70561421881037, 69.16816050771526, 8.408402225700483, 20.475431124558348, 21.359779274940344, 25.98261141099202, 80.31404071048873, 38.59975360065299, 54.69540219660963, 165.2061860532336, 33.911695591044, 118.87596601029314, 142.19624228939523, 87.49303466916157, 832.8567526780474, 158.2739691966855, 49.826762834973444, 182.34673105696106, 70.42883438275032, 68.74323788102281, 101.16786731353581, 542.3081955012821, 55.7868016971308, 149.03148453588145, 73.97565071299367, 55.77326606749493, 30.334602168973618, 24.15269843037819, 17.508464647216783, 16.68018551951073, 13.977919219863953, 10.757669659309107, 35.53003810512086, 9.993077141690321, 9.571358154671577, 13.347705031205006, 8.955315847002716, 8.858355243332616, 7.974062674929061, 7.843108772050824, 38.46297912029063, 7.138976511793353, 6.848018641227368, 6.622257377416611, 6.138765642866545, 5.973350761351414, 5.325865580438049, 5.036050963890918, 4.981420743563138, 4.9617219082487365, 4.905352638544585, 4.544302939366714, 19.584813590886537, 4.383425776515002, 4.208472584184742, 40.2348109977959, 15.316262397842186, 36.127460111991006, 55.6009575042774, 22.833398259733514, 16.41282309233401, 16.69624945965353, 40.24270219374817, 173.95663621145167, 27.567838588918015, 149.08122034711565, 160.27017330553306, 49.5038916695811, 542.3081955012821, 51.32616294970468, 99.74198245123311, 83.06645344085398, 107.39162126311713, 62.63957036822727, 141.21760637057375, 120.59765951916694, 133.44374893513614, 182.34673105696106, 168.23024177529194, 41.59135522338342, 35.33496102797664, 18.43693230847838, 14.048348778798399, 13.468441737623602, 10.555651223217112, 10.555651223217112, 9.599828297230639, 103.7897812304661, 7.790534852467139, 7.335165837112224, 6.867219757000699, 6.701492601155046, 5.5881580429929825, 5.585166900489709, 5.472950664485215, 35.19682855705272, 4.957634275250639, 35.24392751479904, 4.859194975171885, 229.09233094317395, 4.205600724364595, 4.205600724364595, 4.007311927495169, 3.950804383159928, 30.46492635817518, 3.755853716347764, 3.7325197423175913, 3.6428617409198467, 3.6428617409198467, 57.127088674308055, 76.43613773843481, 46.473097496226885, 832.8567526780474, 28.803009077349436, 147.78961190955687, 81.90739042446228, 542.3081955012821, 25.19105158208002, 35.595630030809915, 149.03148453588145, 142.19624228939523, 86.17653412698228, 38.514307779855464, 158.2739691966855, 29.025346436952418, 12.230373067997526, 11.589802866920804, 11.298419950081119, 10.083779956548184, 10.031375173140011, 9.199661934918534, 9.127259968055156, 8.237646081764309, 7.902620790694026, 38.08384182036153, 7.514104866430629, 170.0487272535221, 6.614696472274382, 6.5187483644497295, 6.331573340989291, 6.241729774654902, 30.845917408871195, 5.645615406499572, 5.537264390881484, 5.333046369789941, 5.277992828370237, 5.181436452911602, 5.181436452911602, 5.159048465220186, 5.038703792325522, 5.038703792325522, 18.055603020602913, 4.453735257744517, 4.105513392925563, 80.1086571265616, 142.19624228939523, 22.29606571393416, 62.29680994863812, 20.625334668878693, 18.825422617421506, 38.695361155894915, 18.94213998204717, 57.41178860109472, 68.58596429923396, 192.83856116859744, 832.8567526780474, 54.23060666462318, 160.27017330553306, 88.40491229137338, 141.21760637057375, 119.853558065008, 149.03148453588145, 25.382162666260495, 24.749218371599493, 21.49558513445761, 16.856874578600188, 16.65734113746026, 14.007907217929281, 9.559297065909035, 9.51782560545554, 34.40782217019733, 8.781759513891586, 25.23036986798432, 8.316365819766498, 7.721251434295178, 7.612984082644088, 7.5802078358381015, 7.328862029689438, 7.1205049825612265, 7.096561471776234, 6.859331837453098, 5.836825807135724, 5.61848906362718, 5.424677014548399, 5.0497291108697, 4.007580100487808, 3.95464074706629, 9.168928350138117, 3.753289002849231, 3.6824331014861698, 3.6140163454245964, 3.567397827774417, 14.707539716200323, 13.03288890792339, 70.30623023511053, 12.791835975207226, 23.61102424742885, 15.202138033914709, 24.677720076236103, 63.092468797386275, 19.927950662073577, 20.24717847592956, 12.960401512895576, 82.1177687108046, 53.243866026389334, 46.473097496226885, 59.68352571285695, 17.851540993364857, 12.513944649513112, 185.66766454346367, 139.1739834299805, 832.8567526780474, 66.99758035922527, 86.17653412698228, 45.07305175576431, 50.17267645964899, 141.21760637057375, 133.44374893513614, 91.86993468480873, 67.66629676047118, 150.30829567058444, 130.30144903121612, 140.83104368993526, 42.95040213722694, 25.618385731065604, 25.462963048690234, 13.070289396533884, 11.8801235652559, 10.097465232796614, 8.736587016179316, 54.7829127083433, 8.193272952157493, 7.592233877384179, 7.326537059572572, 7.164819026137405, 6.956396405365038, 6.162205400393344, 5.7547639204228505, 5.7547639204228505, 5.593050751599113, 5.498681878154462, 5.481317655470542, 4.930179579571438, 4.813066358117545, 4.47573102831613, 4.47573102831613, 4.021282477060821, 4.021282477060821, 3.911514098783004, 3.8497715552866687, 72.45243462841901, 3.7010684242156544, 192.83856116859744, 23.591646380335963, 14.305816294502405, 71.16846817656975, 28.440260531233218, 68.58596429923396, 55.7868016971308, 132.3926570936653, 147.78961190955687, 87.23899905833841, 164.43989302869568, 119.853558065008, 832.8567526780474, 542.3081955012821, 233.94968059873554, 188.1334755393342, 118.87596601029314, 133.44374893513614, 72.72399155345984, 150.30829567058444, 39.67762814335263, 18.071215071219, 31.373573596542162, 10.846783757317528, 9.818502600497338, 13.887463488957746, 8.703861965968894, 8.499372039343916, 53.574299850289194, 7.416916569972076, 7.016293004204538, 55.38591670460384, 20.363687227109192, 6.458706842408866, 5.759168960348181, 5.6905777264298605, 5.594672922506087, 5.339098992461212, 5.291117901177385, 4.957622502079319, 4.751664668874144, 4.542760226077172, 18.280925787358747, 4.264606752762008, 3.8882257694476303, 3.815018653533962, 3.807837509036646, 3.501261658216034, 12.39057358728575, 3.2963158727800765, 22.310351822871116, 11.383126800759497, 72.01077083189081, 36.7899721667385, 6.2806174069534, 41.23208299775899, 23.564216321928928, 257.817243169051, 56.676960069093774, 58.30813079717405, 15.764661330388135, 91.86993468480873, 95.78369784823778, 35.11151715520492, 31.438269715363077, 141.21760637057375, 95.07562094392952, 24.578036302693423, 101.97199701720893, 139.84799062822597, 51.32616294970468, 27.158267952772334, 58.14455224853139, 54.23060666462318, 87.49303466916157, 67.1490691421504, 46.21107714203926, 17.74617212732177, 16.3630794569207, 16.20279290996078, 14.109913113528323, 11.993406635306266, 9.917727300043724, 9.348768659433095, 8.492095017803434, 14.670318946066958, 6.148533852665824, 22.17052392303802, 5.2117314218118, 5.09262760795294, 5.09262760795294, 4.5824308638878755, 3.997563077838887, 18.865835587959527, 3.9340667993480367, 3.6478789955899096, 46.1205281740774, 3.550770577021545, 3.454802196707008, 16.0444253383944, 35.86290232856703, 28.374429315418848, 3.142659993871649, 3.142659856288491, 3.142659856288491, 53.60163089498865, 23.13433498093376, 150.30829567058444, 27.996370164250028, 55.38412908975516, 53.23277394775147, 160.27017330553306, 28.440932275738508, 832.8567526780474, 46.05182175544552, 120.59765951916694, 70.39345176317636, 158.77567783606986, 141.21760637057375, 95.1702924790105, 185.66766454346367, 542.3081955012821, 73.97565071299367, 29.69181691981223, 19.800954290858666, 18.067574428229083, 15.264318309554588, 15.065082596040623, 14.912071958814732, 13.709473080483564, 13.124199821386867, 12.981739853795842, 11.039992584919476, 11.028102756083301, 9.926615508833294, 9.288432757410094, 23.986803572916127, 8.418990476320479, 7.855528793943506, 6.48261696639674, 6.482616438194659, 5.8498562274383135, 5.294068793091586, 4.65864723615172, 4.331877924048592, 4.1668374865246065, 3.870276315516782, 3.7852162370498252, 18.71108624246762, 3.560318091035554, 3.491492831720471, 3.2862187135087773, 3.2862187135087773, 11.498296098430131, 63.613746006088164, 26.41578340135883, 33.971172358232835, 30.199987781083177, 81.67890057924494, 173.95663621145167, 89.35142028016789, 53.243866026389334, 257.817243169051, 19.76557641754994, 94.51492238027062, 45.36848018340748, 182.34673105696106, 33.05491313437872, 164.43989302869568, 133.44374893513614, 86.17653412698228, 107.39162126311713, 70.19029703454557, 95.42506209583783, 158.77567783606986, 36.02234263764468, 31.72878798031645, 17.35732662007178, 12.85259789511123, 11.859000005955098, 11.59966230843403, 10.105234699805944, 9.600118994226076, 8.173616337266612, 7.918774783954876, 7.709301856497732, 23.850352029779888, 5.259913936980205, 3.892808989697594, 3.7471551089532844, 3.615410930210353, 3.4711079759993995, 3.448693050676692, 68.06396362522017, 3.126462565388617, 3.126462565388617, 3.126462307873075, 3.126462307873075, 3.1075421259709124, 26.145296337344654, 23.95694646309875, 2.890071861736321, 2.8126635252190857, 2.812663267703544, 26.331047989175396, 23.465089948173627, 52.31564038964807, 35.11151715520492, 71.16846817656975, 139.84799062822597, 15.195063336580562, 28.57938772580565, 107.97671659216736, 34.71099330664553, 20.93050031342526, 11.507278427902525, 18.008797739900547, 28.731321246491248, 70.39345176317636, 450.47494824922666, 70.42883438275032, 542.3081955012821, 41.255568285847126, 41.35335813255337, 53.72395051182207, 67.66629676047118, 95.78369784823778, 42.03293104737291, 27.559794011568265, 17.786409897377272, 16.76781755491018, 11.938126287996106, 10.330124486034409, 7.60272952231877, 7.066224442682713, 6.888443410078096, 6.384034177692748, 5.626324413476462, 5.626324413476462, 4.561292979026853, 4.357819327433293, 4.277113078125281, 41.82748153105254, 36.60059330320845, 4.0772668481954435, 4.046497343427348, 6.490460568588568, 23.775618166643504, 3.890596836761404, 3.7644718611456924, 3.7351527911704845, 22.742725218132204, 3.563380494705515, 3.546020656362072, 22.119064653011076, 3.3242674495328077, 13.920841360235535, 2.921880389047365, 11.477260885562487, 17.44610717060535, 12.75756638462556, 32.293668638246345, 34.47039348034292, 12.360787993813865, 74.04987205846159, 104.89192237322952, 92.02016312975486, 182.34673105696106, 107.39162126311713, 35.31751860530257, 168.23024177529194, 185.66766454346367, 78.35787684504416, 90.53284165908421, 85.66230542023686, 95.42506209583783, 118.87596601029314, 95.07562094392952, 542.3081955012821, 149.03148453588145, 23.729759351566955, 16.54403737907388, 14.076300259354268, 9.93642400819592, 9.21578044713778, 7.794296076095372, 7.774306190762145, 7.774306190762145, 15.858140374880438, 6.512869939162795, 6.489455263887761, 20.905170932078416, 6.150553951041428, 5.931664015652019, 5.781723225138974, 5.15578631076102, 5.027676454288286, 7.71975207331823, 4.639135339378086, 41.70099402203021, 4.345765613043534, 17.499646396592848, 4.249669985753319, 4.154832258198816, 4.009015033662901, 3.8115812590963993, 26.314584451912374, 3.7484617665223916, 3.689350012098392, 14.546323000820598, 8.1677490946407, 17.888297148716852, 29.14688363587375, 15.06350600162832, 10.00670349099504, 76.43613773843481, 16.865781850082453, 23.614591742152353, 132.3926570936653, 78.52190402987179, 188.1334755393342, 97.23785362713949, 164.43989302869568, 61.68924802780867, 120.59765951916694, 139.1739834299805, 77.83254321811461, 40.91927800277673, 46.67332497929067, 165.2061860532336, 160.27017330553306, 127.47575006729362, 53.557486202663334, 201.46590736094683, 29.897440740560988, 11.88113587393585, 10.674101022307392, 10.026554111583932, 8.873950944803486, 8.441453756782359, 6.661457996268551, 5.3589607983450325, 5.084154279672418, 4.912225190226665, 4.912225191644154, 4.644218670866855, 4.007355131521572, 4.007355131521572, 3.656403198125304, 3.3841684013009585, 8.493757215209506, 3.3054510312128564, 2.894985631308789, 2.894985631308789, 2.894985631308789, 2.894985631308789, 2.894985631308789, 2.894985631308789, 23.870178332662878, 2.7609823716288844, 2.7609823716288844, 2.529284115458637, 2.510563473612077, 7.659149732798715, 11.709033802024436, 92.02016312975486, 158.77567783606986, 22.906802043619432, 208.69427665202056, 7.873927322848157, 78.52190402987179, 98.9552807264443, 147.78961190955687, 174.1662696914723, 94.51492238027062, 60.24893288643506, 257.817243169051, 182.34673105696106, 158.2739691966855, 73.97565071299367, 52.31564038964807, 54.69540219660963, 15.24253670552683, 168.23024177529194, 41.85998259491455, 139.84799062822597, 74.90079405712393, 42.88576933671748, 16.08379718029144, 12.155101027801685, 28.191185559349048, 10.732324007224253, 10.159713562371225, 8.974682840000625, 19.749953342672313, 8.31590003253333, 8.05607361297065, 7.103124134127491, 6.974335166965307, 6.942727646679603, 6.942727646679603, 6.93759548150483, 6.792265404230813, 6.7901750939228815, 6.692609387732959, 6.429034484372968, 5.126635728581672, 27.219052494352272, 26.908628807691866, 4.2284853036619, 4.0974610139722, 3.960160395923641, 3.960160395923641, 3.7574008769469027, 18.310484303831547, 3.31550840714155, 3.2705216769260237, 14.846298079797243, 55.6009575042774, 95.1702924790105, 68.81025534217343, 7.060491648856829, 43.91879529923531, 158.2739691966855, 80.31404071048873, 22.17811763776043, 69.16342611646454, 98.44337124817378, 164.43989302869568, 74.90079405712393, 139.84799062822597, 27.254228013071018, 17.63957287067211, 173.95663621145167, 46.1205281740774, 832.8567526780474, 81.90739042446228, 45.36848018340748, 141.21760637057375, 46.46660747951231, 28.910903752619944, 28.752504128931303, 14.04624497445856, 12.191336798482903, 10.754120892361103, 40.655879601968685, 8.41405103447783, 8.09327501347117, 7.291163208546556, 6.8085932511989595, 6.254124432071819, 5.995746355056521, 5.81612908978049, 5.815932680128002, 5.553509475037813, 5.502117262422299, 5.457768936347346, 4.826657357667765, 4.708403901331122, 4.191782841091779, 4.169870720289863, 4.169870720289863, 4.169870720289863, 4.169870720289863, 4.169870720289863, 4.127552192552083, 16.328633678782978, 3.8895931913386455, 3.881483264396074, 20.472507420069046, 149.08122034711565, 77.83254321811461, 32.938475229819716, 89.35142028016789, 173.95663621145167, 70.19029703454557, 450.47494824922666, 63.613746006088164, 192.83856116859744, 32.82703003650896, 542.3081955012821, 149.03148453588145, 141.21760637057375, 55.82807986437385, 120.59765951916694, 57.59201989416829, 58.30813079717405, 168.23024177529194, 99.74198245123311, 18.470450186361287, 17.88857123666553, 15.363833478895323, 14.56888049414792, 13.924630197268085, 13.597208427783672, 11.966092772390812, 11.6684711979106, 11.19374157906977, 10.410172301275145, 9.991161885739375, 8.512586200323105, 7.672731644829192, 7.404824617906993, 6.2390095919326924, 5.607094030659898, 5.599667747289904, 34.66837709240894, 5.407736198887209, 5.284710541297918, 5.1801856793617915, 4.505677941629891, 4.505677941629891, 4.333292350075113, 3.6036194658110516, 3.4218108128278817, 3.3357867465449194, 3.3346731755940064, 14.425404851335982, 3.1427409715067474, 174.1662696914723, 15.180967580695546, 95.96408423546907, 20.353433968072718, 60.24893288643506, 22.06057925326671, 14.573834692563269, 14.274354578751412, 55.7868016971308, 41.239845347850874, 132.3926570936653, 30.789023278742274, 47.35021210155085, 208.69427665202056, 50.278444286833746, 139.1739834299805, 20.250103321061736, 257.817243169051, 74.90079405712393, 542.3081955012821, 188.1334755393342, 37.33688078837438, 28.771202221608664, 17.704069803796937, 17.485781498326382, 15.120200877970344, 14.373325779316483, 12.097775056091969, 11.639939112207024, 11.276989293537508, 10.75454007932023, 10.347434723656177, 10.326918315306065, 9.387854944780504, 9.35996791824441, 8.824654209201338, 7.929896943284255, 7.681022995646061, 7.528502046906951, 7.384902720077079, 7.219717460224095, 6.493294490298861, 6.491236981962619, 6.378734548791731, 6.327536286207979, 6.245985784900945, 6.140180931812219, 5.927416708480692, 32.73405169052174, 5.633335389589647, 5.622716938096336, 15.36952506704684, 14.817812523568534, 12.419672920413483, 25.98261141099202, 26.690794930822737, 13.485258619098628, 12.253230302323608, 14.310308638778372, 74.90079405712393, 21.41676953144324, 29.7579564220463, 17.817655678245348, 12.382300210581857, 10.875766699003547, 8.846582380068977, 8.653040024904877, 8.342279684489075, 7.923806836431123, 6.830619857341112, 6.057064277644026, 6.023254457043968, 5.858228432257834, 11.570753198474952, 5.622270527991178, 5.182606208421839, 5.161887379537318, 5.0432670644235, 4.947754921706076, 22.38618555105371, 4.688006624201094, 4.536938720889067, 4.425007131884142, 4.2965626183862815, 4.281184279678268, 4.132806368520033, 4.102503316470315, 4.029508914654071, 3.9896653125234014, 3.9387472755517234, 3.5808521147116714, 13.825574588145285, 33.010254766588545, 30.006426909154566, 101.16786731353581, 16.53237559283957, 15.930583742223899, 69.44591046725098, 45.745142619177486, 95.42506209583783, 47.53671961252285, 34.71099330664553, 36.62594711378577, 104.89192237322952, 160.27017330553306, 32.71022964426695, 25.636475108885207, 149.03148453588145, 168.23024177529194, 83.06645344085398, 182.34673105696106, 69.16342611646454, 58.14455224853139, 22.95291144447103, 15.01393710639595, 14.792903496278594, 14.759674278534353, 14.6337587299391, 13.74829091123143, 12.441696329092002, 11.204659402595873, 8.72032418415367, 8.71417638154359, 8.704669082886193, 8.67101566734881, 8.629956830248512, 8.565308034450556, 8.553268810125363, 7.964243880483059, 7.933223404292072, 7.916533011484061, 7.869931601056108, 7.869930765983763, 7.848990909375632, 7.697173921829435, 7.666421547621503, 7.447869753557441, 7.123425775606695, 6.87989320985298, 6.437934511106138, 6.4024915355316185, 5.998737814143165, 5.459017195868745, 12.603445318628646, 14.546535377702822, 13.396606368090803, 27.955859610561877, 37.13417790507927, 10.403452279506393, 16.971650727503267, 23.594779829692275, 17.83439266875307, 94.51492238027062, 39.86029714508149, 20.739972459105967, 17.70445918926907, 15.345659312890591, 7.918192426066718, 7.083568152923374, 6.376828909962593, 5.716121739914954, 5.69169941896617, 5.316292678560458, 5.210632104742411, 4.612033190528128, 88.9364036533904, 233.94968059873554, 4.087048653285049, 3.998419802680697, 16.197723504480177, 3.3672709566075474, 2.9463530156772557, 2.9463530156772557, 2.9463530156772557, 2.8425999259653945, 2.8403201043389603, 2.753657776659226, 2.4823973604990828, 2.4823973604990828, 2.4823973604990828, 2.4823973604990828, 2.4823973604990828, 2.4823973604990828, 15.24253670552683, 46.05182175544552, 5.701471012846751, 6.86544566057369, 30.199987781083177, 27.611598146021564, 19.66357943047478, 39.78992766160959, 41.239845347850874, 74.04987205846159, 6.78864090308524, 17.085988369308076, 23.61102424742885, 95.78369784823778, 86.17653412698228, 107.39162126311713, 17.798764308118045, 45.461924513621895, 112.80461943151177, 80.31404071048873, 85.66230542023686, 62.29680994863812, 192.83856116859744, 450.47494824922666, 182.34673105696106, 73.97565071299367, 135.572003014836, 31.519785105637986, 13.331408366121298, 13.182579534099288, 12.32035936342269, 10.708200667375305, 10.373602046068363, 9.595593831513971, 9.479647516275488, 8.42274302611764, 8.189264537888285, 7.844335741672897, 7.759571238035541, 7.648160442959701, 7.647557392094513, 7.470402643642781, 7.196375515567843, 6.82365707607092, 6.741049701677012, 6.006266449656948, 5.249007739680128, 8.736638737044121, 4.9740275434494015, 4.887156443193051, 4.257738190850765, 4.133563294506383, 14.743391842845076, 3.6190597361779604, 3.5587812535578642, 10.544036475250016, 9.491661194438448, 23.282807984994694, 21.991305278258185, 20.87011196173968, 14.573734389481602, 17.426731048639475, 174.1662696914723, 35.557911483844514, 37.67968306250239, 27.021301724581377, 160.27017330553306, 74.30472346811104, 67.66629676047118, 23.564216321928928, 204.3611332240349, 45.461924513621895, 95.96408423546907, 30.497084135290645, 107.39162126311713, 85.66230542023686, 73.97565071299367, 45.745142619177486, 29.166358002033054, 542.3081955012821, 165.2061860532336, 182.34673105696106, 69.16816050771526, 19.36328993933993, 16.88351538199943, 14.528291106938283, 12.21971201874325, 10.562904041992484, 9.493999688938993, 7.472513164349516, 6.688841250585099, 6.214094221840279, 5.718680138852892, 5.395637567015959, 5.385504242176103, 5.324552908227246, 5.303644509505568, 5.101310469100977, 5.00581617250943, 4.884544374182907, 4.577209547659413, 4.539603880420896, 4.480564061033091, 4.466401120027924, 3.980365938001716, 3.91285694631404, 3.8829182501040367, 3.882917871796434, 3.882917871796434, 3.828613517824435, 3.7999270197791066, 127.83036011963952, 3.4629289049803167, 38.83314746012165, 15.205365261832803, 12.15973620944158, 118.87596601029314, 17.389732695709274, 41.255568285847126, 12.215881583159828, 542.3081955012821, 168.23024177529194, 32.59079669137086, 22.512700976607416, 78.52190402987179, 74.30472346811104, 91.86993468480873, 208.69427665202056, 150.30829567058444, 98.9552807264443, 38.394612909866325, 133.44374893513614, 120.59765951916694, 48.27800101166328, 47.00643911924188, 24.702530091743256, 12.674939431802784, 11.778945177675107, 9.80300835054092, 8.169080822341245, 7.251310378845263, 170.30938093229173, 5.836225081413465, 9.57341557256839, 5.397389023349307, 4.203852841567581, 4.173795137875221, 4.173795137875221, 4.173795137875221, 3.852833809845662, 3.434562370911116, 3.434562370911116, 3.182295691839549, 3.0022672733974174, 3.0022672733974174, 3.0022672733974174, 3.0022672733974174, 3.0022672733974174, 3.0022672733974174, 3.0022672733974174, 3.0022672733974174, 3.0022672733974174, 3.0022672751652904, 20.81968468546272, 31.174564599011255, 8.829630721234903, 17.63957287067211, 11.766161637102183, 158.77567783606986, 23.591646380335963, 832.8567526780474, 542.3081955012821, 133.44374893513614, 97.23785362713949, 81.90739042446228, 40.72685230393653, 150.30829567058444, 142.19624228939523, 37.13417790507927, 120.40141884698248, 36.62594711378577, 30.650157920706096, 10.76479143636429, 10.634219485466518, 10.307227874207712, 12.563834253712468, 8.787121202970798, 8.293925269025028, 7.502532759933472, 7.185217633963696, 6.788613098685301, 6.630592385309737, 6.630592385309737, 6.439880423682521, 6.182067007323784, 6.057993099704745, 5.392231606748696, 69.72493621629307, 4.947396327724123, 4.5858352133130085, 4.5858352133130085, 4.585835226973104, 4.33001036654509, 4.0074507204770775, 4.004551185998635, 3.997465281542065, 3.774705632255938, 3.754169679723407, 3.7541691354075017, 3.5972321549996007, 3.5972317921223302, 17.60907246016122, 31.81502090596597, 53.557486202663334, 107.97671659216736, 36.664744668175565, 55.59433803683578, 20.43366980637527, 8.866202779981299, 7.754357040873384, 18.853181304989537, 29.14688363587375, 99.07127383391571, 30.497084135290645, 16.695248875940845, 78.35787684504416, 99.74198245123311, 40.72685230393653, 257.817243169051, 542.3081955012821, 54.23060666462318, 22.947040098488582, 44.32541852797771, 14.074214590060212, 51.12859193057996, 11.981639275683746, 10.101018419668446, 9.432762141830043, 7.539499472133359, 7.121501517254942, 6.946849173317951, 6.739977442645536, 6.696088927972354, 6.471261612355301, 6.43877012879089, 8.916049018826557, 5.771184015758889, 4.475515882937195, 4.315007789709846, 4.159167626593241, 3.7385910523013632, 3.738590879691342, 8.231151258817105, 3.55040591001741, 3.2867097517814607, 10.450202972125613, 3.0985246094975074, 3.0985246094975074, 3.0985246094975074, 3.0985246094975074, 3.0985246094975074, 64.7291751082709, 2.9679090522427294, 5.91458967815397, 11.000273040558458, 17.798764308118045, 14.650220948781499, 39.9635897037336, 98.44337124817378, 13.035699828721336, 36.194555789625554, 16.78447800298746, 50.17267645964899, 832.8567526780474, 56.676960069093774, 182.34673105696106, 74.30472346811104, 90.53284165908421, 158.2739691966855, 59.68352571285695, 28.731321246491248, 139.1739834299805, 23.95694646309875, 97.23785362713949, 69.44591046725098, 21.57111521058896, 16.665211469713075, 12.549977216577952, 12.003442280181012, 10.79389460596248, 7.23073734438809, 6.8860017901207105, 6.309654870203266, 5.284188252619952, 5.144471548843434, 4.860083365808611, 4.750463687379936, 4.750463356577365, 4.316168821923699, 4.303141711624833, 4.253943744707684, 4.246150510103611, 99.07127383391571, 3.8818739564674627, 3.8818739564674627, 3.782123673085865, 3.5449933669245763, 3.515261888266475, 3.5079452147871066, 3.4676387965702777, 3.2081127675872683, 3.080967188743778, 2.8141049061237697, 2.8141049061237697, 2.8141049061237697, 24.045102743998584, 24.33507154781961, 7.696119280474413, 94.51492238027062, 119.853558065008, 66.99758035922527, 53.23277394775147, 21.5524573226372, 17.389732695709274, 24.92930393259717, 23.567398558987986, 20.820343288487805, 30.789023278742274, 28.731321246491248, 86.19885497818983, 46.05182175544552, 132.3926570936653, 133.44374893513614, 832.8567526780474, 182.34673105696106, 71.16846817656975, 69.44591046725098, 542.3081955012821, 192.83856116859744, 58.72488661363857, 17.898711596107304, 17.850468498395806, 17.072470853369204, 7.066874473682502, 6.454659500812645, 6.264204165008267, 21.265112364780222, 29.20277027119494, 6.001378270551798, 5.757192424032276, 5.570858670477093, 5.3095861593103075, 4.976651627730351, 4.976651627730351, 4.976651627730351, 4.820249207122735, 4.323471635726706, 4.170489421437626, 4.097755270794511, 3.9519256278655623, 3.951925306387233, 9.369745003915295, 3.867942950462096, 3.792491664975354, 3.6896742151844792, 11.125275381017573, 3.3755754204269213, 3.262487541694168, 3.1807521585552987, 47.56556304654342, 8.061188984937957, 65.99647707391206, 34.67831007978842, 15.26672195740549, 10.119860818935896, 9.432615531813912, 8.91128062361088, 17.88430347532248, 107.97671659216736, 542.3081955012821, 168.23024177529194, 150.30829567058444, 185.66766454346367, 36.20963475354981, 97.0772610735399, 72.14906807712502, 64.60033415957358, 20.593665576365268, 18.34018256431898, 12.771765419085664, 9.973890283418779, 8.501658022812776, 7.57965937772239, 7.371145314839087, 6.226194328108229, 6.0246267559434195, 5.530145668271711, 5.521758444944009, 5.479691555003089, 4.754929447621293, 4.550398102791606, 4.126554863535667, 4.069013343904015, 4.051777232660429, 3.4507651414112432, 3.0534342102048657, 3.0534342102048657, 3.053433893562487, 3.0534337352412977, 3.035128164363564, 2.9418904411297744, 9.241324393695145, 16.082012764370266, 2.68114383327173, 2.453382811932736, 7.502024709556809, 31.438269715363077, 21.41676953144324, 78.35787684504416, 22.233546382362075, 139.84799062822597, 20.820343288487805, 25.19105158208002, 62.63957036822727, 139.1739834299805, 95.1702924790105, 185.66766454346367, 34.83721591128921, 90.53284165908421, 149.08122034711565, 542.3081955012821, 208.69427665202056, 12.253230302323608, 64.37446982693731, 14.328125410756874, 13.364593725281784, 12.808339801563006, 12.702216721086696, 12.562208988178755, 11.580759281134364, 11.580759281134364, 10.065824855950765, 9.796921685278074, 9.483921740228805, 9.346845051428215, 9.264175105861774, 16.565840021277022, 8.112328250112643, 8.013087871472429, 8.013087871472429, 7.424893269354669, 7.0619210439600035, 6.6959691929971346, 21.827213000233968, 6.229252796983234, 6.229252796983234, 6.229252796983234, 5.856431166190651, 5.088015862487929, 4.875166779627971, 4.445417092152267, 4.445417092152267, 4.445417092152267, 42.16101002101375, 101.16786731353581, 57.41178860109472, 27.044243278677, 58.25043739798354, 36.11975636120406, 26.989837992312307, 88.40491229137338, 119.853558065008, 15.390155203658, 10.102337797865781, 9.075301568253403, 8.486371940465622, 8.398814461382026, 8.374361244376752, 7.678677374895066, 135.572003014836, 6.805617548499065, 5.975343814388789, 5.7355536836048655, 5.388776343269465, 5.247842345775813, 5.2197559765759065, 4.763991837959765, 4.635103776060452, 4.635103776060452, 4.415287672314425, 4.384552959317689, 9.54807098238269, 3.9408960781063747, 3.930694854336553, 3.543785521496261, 3.3826515539865905, 3.3826515539865905, 3.382651241697237, 3.1017600845450928, 2.959133477125483, 8.665616334274787, 2.8208690835376253, 11.368805892802108, 19.430874764680453, 99.74198245123311, 97.0772610735399, 14.310308638778372, 9.702448778139214, 38.53486184202062, 27.350638554826872, 15.14667356975779, 832.8567526780474, 68.06396362522017, 85.66230542023686, 149.03148453588145, 81.90739042446228, 139.1739834299805, 14.294265549876387, 164.43989302869568, 32.25885022266861, 90.53284165908421, 94.51492238027062, 17.210988852996504, 13.998668360050146, 13.143704536856115, 11.297975249646285, 7.363223399236197, 7.267986606385516, 7.174180033255194, 7.148223199969181, 5.908669877948733, 5.741853846446146, 5.741853846446146, 5.688688121297144, 31.334324897337844, 5.027498771011217, 4.466318634510551, 44.32541852797771, 3.8749189005116356, 3.60387475331255, 3.421412275137321, 20.21875667166021, 3.1737966210631585, 53.72395051182207, 2.967904883133949, 2.967904883133949, 2.952622439521039, 5.083735946840649, 12.379159927547892, 2.8923252242260227, 2.855403908831487, 2.4991152008434785, 5.20529696289581, 22.17811763776043, 31.969500333937848, 33.911695591044, 38.514307779855464, 43.03811930695192, 264.62855705024447, 85.66230542023686, 14.93487215530582, 23.282807984994694, 16.69624945965353, 16.838798100065286, 15.460419519568685, 78.52190402987179, 139.1739834299805, 132.3926570936653, 147.78961190955687, 57.41178860109472, 542.3081955012821, 72.17976087173626, 18.477713676791808, 8.233733698104642, 7.7087995602260415, 7.338940166304461, 18.51209046962483, 6.882622195451108, 5.788980389239481, 5.687512432631786, 16.80150824189345, 4.54390895053258, 4.2678326113339216, 4.197484321787063, 10.679434484236742, 3.894706529378659, 3.8445061930998916, 3.767113248504527, 3.7114710533929243, 46.67332497929067, 3.6015489750614993, 3.5257058554898264, 61.68924802780867, 3.332807087707965, 3.141020511653348, 3.141020511653348, 2.875390856648163, 2.875390856648163, 2.8251900265473826, 2.5699532423719402, 5.276945173990634, 7.627486562017836, 54.380378432705506, 23.27521380515593, 18.30681065582091, 52.92677981073704, 47.35021210155085, 36.664744668175565, 25.461536145515105, 50.278444286833746, 130.30144903121612, 832.8567526780474, 68.81025534217343, 192.83856116859744, 182.34673105696106, 185.66766454346367, 86.17653412698228, 55.38591670460384, 33.58826295624351, 28.786025629667254, 16.1030960609698, 9.291401944833227, 8.795558574087195, 8.326398754009398, 39.66363811284907, 6.915470343083788, 6.534386575975217, 6.453619376074987, 6.171359366323207, 6.088984231582757, 5.341323602822027, 5.184152527936799, 4.950202410242259, 4.908913118267601, 26.090998428649108, 4.642026336754794, 4.121877005829826, 4.104356971240006, 12.678654373871035, 3.7060661901490324, 3.7060661901490324, 3.3889079917289915, 3.2278665761757472, 3.2278665761757472, 3.2080929546353554, 2.600082215353258, 2.4910515324112796, 2.491051244707086, 9.607204792457843, 41.85998259491455, 208.69427665202056, 60.24893288643506, 54.17825462498185, 11.766161637102183, 70.19029703454557, 542.3081955012821, 41.239845347850874, 19.882194456831364, 73.49451477111549, 450.47494824922666, 90.53284165908421, 118.87596601029314, 149.03148453588145, 72.72399155345984, 42.33707787201224, 132.3926570936653, 185.66766454346367, 47.56556304654342, 17.323630449610686, 14.428645338199821, 14.081137768618838, 8.48492657322057, 7.031108971178266, 6.541180176961454, 6.443027204080544, 6.29746771147232, 5.164819475795539, 4.17327894821367, 3.954427653512967, 3.8523671035637923, 3.74007747119364, 3.717050826019727, 3.6980977922022227, 3.629987730045508, 3.394563887580673, 3.364023525319471, 3.182979176499839, 3.182979176499839, 3.0019348276802074, 3.0019345551662893, 3.0019345551662893, 3.0019345551662893, 3.0019344189093307, 3.0019344189093307, 3.0019344189093307, 3.0019344189093307, 2.8608268484958415, 7.914044710294172, 25.05124121712489, 24.130130911301567, 17.358681564704103, 20.088904954894677, 16.65122109922624, 6.6523659277544525, 56.32185348868676, 38.59975360065299, 95.42506209583783, 41.23208299775899, 21.359779274940344, 42.33707787201224, 147.78961190955687, 204.3611332240349, 72.72399155345984, 84.69303756817085, 68.81025534217343, 104.89192237322952, 107.39162126311713, 132.3926570936653, 22.793399179551212, 81.73495939568106, 68.74323788102281, 54.97809576983439, 34.66630045705894, 15.000330448720174, 13.32800361011943, 11.863877877687468, 10.748182986143584, 8.780478271928056, 8.457937180106693, 7.997078419612883, 6.493642515640029, 6.3053617078799835, 5.586088206736861, 5.517635913498151, 5.055104123239427, 4.924195504416526, 4.9241952353578435, 13.179369310888921, 4.257066114168042, 4.245005827759405, 4.016640656176112, 4.0166403871174285, 13.760387269986188, 3.512334818556822, 3.4692848911528684, 2.939009509446445, 2.9009708000141337, 2.9009708000141337, 2.9009708000141337, 2.9009708000141337, 2.9009708000141337, 57.59201989416829, 18.264497909353583, 10.791183923252838, 87.49303466916157, 24.92930393259717, 30.497084135290645, 73.97565071299367, 30.789023278742274, 34.67831007978842, 11.999174326816583, 20.87011196173968, 47.35021210155085, 38.514307779855464, 147.78961190955687, 50.278444286833746, 10.968953086340731, 9.905997150661198, 9.57129242305591, 9.461833719568109, 7.50888466101159, 7.162224256008467, 6.649934409961532, 6.41635456327338, 6.3599025989541795, 5.550316216300061, 5.511937753831321, 5.510844890986021, 5.14609810527736, 4.80537774363734, 4.78095207506124, 4.348024893396576, 4.085879740764211, 3.9168975986614583, 19.589283071109936, 8.089960450865272, 3.288456253980488, 7.20648492044466, 2.9525038355282507, 2.893113908194525, 29.562238056087633, 9.342732009307632, 30.26725034990651, 2.790009605519469, 2.6016878900380562, 2.6016878900380562, 72.72399155345984, 28.803009077349436, 11.890375280313956, 77.83254321811461, 13.133569543881812, 10.45155239160198, 149.03148453588145, 74.04987205846159, 69.44591046725098, 69.16342611646454, 147.78961190955687, 132.3926570936653, 36.60059330320845, 185.66766454346367, 257.817243169051, 20.81968468546272, 87.49303466916157, 54.23060666462318, 35.27368713871559, 14.950065129627376, 38.87801472233001, 13.519931030594359, 11.796422945790104, 11.796422945790104, 9.780099222609056, 9.632479290534297, 8.96416497362191, 7.73869614018874, 7.5798106980032225, 5.245216848161841, 5.245216848161841, 4.375521219179282, 4.265661855560751, 4.265661855560751, 4.071863364691866, 3.8059606671279598, 3.288657889732917, 11.773456832746424, 3.0614814384897215, 3.0614814384897215, 3.0614814384897215, 3.0614814384897215, 3.0614814384897215, 3.033282137588173, 2.5717042038540487, 2.5717042038540487, 2.5717042038540487, 2.5717042038540487, 98.9552807264443, 21.751449783957298, 5.673665062539078, 9.544317454469628, 11.133555521555655, 22.512700976607416, 65.99647707391206, 97.0772610735399, 112.80461943151177, 70.39345176317636, 41.85998259491455, 62.29680994863812, 42.03293104737291, 542.3081955012821, 89.35142028016789, 40.72685230393653, 127.47575006729362, 18.336692101175903, 11.744349566668985, 10.18888067284498, 9.808975144478959, 9.56076004557886, 7.861365187723043, 7.507337222569321, 7.046786163164488, 6.694917551808332, 6.083396699152508, 5.288729874555438, 4.986883023256354, 4.629127207208862, 4.514197662169256, 4.0680272154618935, 4.0680272154618935, 3.9326270366327996, 34.78846010563861, 3.821280835921131, 35.474329129771185, 3.1115604004668964, 2.9340926584577147, 2.934092405711812, 2.8597354397012453, 2.8597354397012453, 15.152236666292739, 2.5613015359416083, 2.5613015359416083, 2.472886402638863, 2.472886402638863, 9.833684498292628, 20.250103321061736, 6.485736892343574, 27.254228013071018, 67.70561421881037, 87.23899905833841, 53.23277394775147, 6.701983043207141, 55.38412908975516, 52.92677981073704, 47.53671961252285, 81.73495939568106, 16.838798100065286, 33.77807702806561, 77.83254321811461, 90.53284165908421, 63.674148271888676, 55.59433803683578, 33.26352246830215, 24.426762427166427, 8.973157963329076, 8.727417700388063, 6.826936308527961, 6.413573122912198, 37.10613935074142, 5.294576085934386, 4.925451454942983, 35.63154708317104, 4.01761470444176, 4.01761470444176, 26.36825265546125, 3.753704932961948, 88.40491229137338, 3.6807462750873032, 12.616775821653754, 3.4390351012787046, 3.337406697705708, 3.3134095829417145, 2.954042177861624, 2.9015988626399443, 2.9015988626399443, 2.9015988626399443, 2.9015988626399443, 2.44768048312496, 2.44768048312496, 2.44768048312496, 2.44768048312496, 2.44768048312496, 22.947040098488582, 15.480806038328765, 14.628336740662935, 27.158267952772334, 5.938333740540207, 7.698199491902543, 87.49303466916157, 135.572003014836, 101.97199701720893, 33.327933395151476, 69.72493621629307, 22.38618555105371, 832.8567526780474, 33.05491313437872, 18.34903910576209, 15.044697087706641, 9.326471012842491, 8.934202479864497, 8.301918362260466, 63.674148271888676, 8.250779658160992, 18.325459762625467, 6.499687477696416, 6.246423813943012, 5.949968044640231, 48.97273283682683, 4.11962778423584, 3.971102078997845, 120.40141884698248, 2.9433764350943825, 2.767137198988836, 2.7634094022305313, 2.6013895255407524, 2.5269442261078203, 2.1915760871253553, 2.1904063073726827, 1.9519992990682915, 4.9555076655893, 7.336942111736304, 1.739567759611796, 1.739567759611796, 1.546294026711527, 1.3941537216690734, 1.3941537216690734, 89.19743414386305, 58.25043739798354, 97.23785362713949, 15.195063336580562, 82.1177687108046, 70.39345176317636, 52.31564038964807, 158.2739691966855, 31.174564599011255, 45.89462079069942, 22.40336398752692, 14.200942680712643, 12.086897458098337, 9.688626961868815, 8.029024763611716, 7.443654962003702, 7.2929453359639815, 6.607460930607825, 5.437923476911011, 17.94757594853215, 5.2074519046213155, 5.034897800707722, 4.908179965573987, 4.711057628273262, 4.309275637065949, 24.551145387379325, 3.5715014731820682, 3.4073861249799444, 3.4017954910640507, 3.2500629816432323, 3.153792875058679, 3.1384581832395, 2.9573941518767635, 2.8357192830939506, 36.378441157900525, 2.6834027897376185, 2.504650378845856, 2.504650378845856, 2.504650378845856, 9.531305319735333, 6.470598933615068, 19.76557641754994, 21.991305278258185, 22.052375343039685, 25.05124121712489, 9.84979062986881, 56.676960069093774, 15.095121334266063, 8.107819225866162, 18.098032822541168, 164.43989302869568, 40.91927800277673, 14.034830833491638, 47.89537001420171, 10.570204286791018, 27.7364508766787, 6.984285308175642, 5.794443231269972, 4.988270141650397, 4.988270141650397, 4.988270141650397, 4.130881561621231, 4.066343927186472, 4.066343927186472, 3.892374566063918, 3.8923745685378113, 3.4314114588319558, 3.3566887854573766, 3.108178136002942, 2.9330079700587506, 2.9330079700587506, 2.9330079700587506, 2.9330079700587506, 2.9330079700587506, 2.9330079700587506, 2.9330079700587506, 2.933007770953325, 2.933007770953325, 2.933007770953325, 2.933007770953325, 2.7964789947097097, 2.7345731315579207, 9.731573102900194, 10.513201848506178, 8.876575798856273, 17.24042036223003, 11.478683890395457, 11.065488906721258, 14.93487215530582, 36.67148612392488, 33.51705894049326, 6.0122088961704385, 33.05491313437872, 9.036168390235078, 9.703794300662741, 149.03148453588145, 81.73495939568106, 16.865781850082453, 120.59765951916694, 40.91927800277673, 17.88430347532248, 11.107550268825959, 9.013635797286543, 6.561808990263368, 3.736413066263795, 31.554992298257414, 3.366625284416269, 3.212971624669975, 62.26027984550241, 3.0232418712550833, 3.01667436657416, 2.9079329791356807, 2.687304390681281, 35.049213879559176, 2.6011577223033853, 2.55212661141468, 2.4641938246977526, 2.4641938246977526, 2.4641938246977526, 2.4641938246977526, 2.464193640656708, 2.464193640656708, 2.464193640656708, 2.464193640656708, 2.464193640656708, 2.383270977333261, 2.1138392206449135, 5.012184792373836, 4.3099053810315135, 1.6680893179520004, 1.6182930564198614, 65.31896574266183, 81.67890057924494, 22.224072323277355, 27.955859610561877, 16.00414555327832, 9.607204792457843, 19.183290590321675, 93.74218392866948, 15.095121334266063, 542.3081955012821, 21.751449783957298, 257.817243169051, 158.77567783606986, 95.78369784823778, 18.055603020602913, 34.63611939838453, 18.16558752998421, 11.128973216286115, 6.8704825080657566, 6.541397514283253, 6.541397514283253, 6.367882474736289, 6.256142403955185, 5.756359418328918, 5.222190230848062, 5.209080113545386, 4.888664784232802, 4.295767131166574, 4.007427837328123, 3.858852832122258, 3.806668333216761, 3.478220968647243, 3.4492339394363776, 3.4492339394363776, 8.284235506027784, 2.928558663930638, 2.928558342359903, 2.7656297058184096, 38.734465998722364, 2.544057822155269, 2.501267388225442, 2.4686396768474332, 2.4686395160620656, 2.3422072285394315, 2.3422072285394315, 27.37066701696607, 24.578036302693423, 25.636475108885207, 23.567398558987986, 542.3081955012821, 14.002596025703816, 72.45243462841901, 12.39057358728575, 14.546535377702822, 93.74218392866948, 9.694147347408846, 8.539570142904648, 24.799757796373722, 8.017796090814556, 7.930867130722777, 7.0477288608268305, 6.806073145551216, 6.167587436861115, 4.170040842681624, 3.912189856066747, 3.6406087190106833, 3.4512074717450583, 3.4512074717450583, 3.2548322713862623, 3.136323662822392, 3.0388269750981807, 3.019190997394305, 2.977790100997132, 2.8840355289732598, 2.793201976916946, 2.665301389830651, 2.6410263520114063, 2.6410263520114063, 2.58349619192099, 17.886586249366765, 2.4659864393886246, 2.4340785964738108, 2.3636380718641727, 2.339304908972623, 2.154716523480233, 15.480806038328765, 16.65122109922624, 8.642934470020517, 36.7899721667385, 185.66766454346367, 89.19743414386305, 14.274354578751412, 10.544036475250016, 40.72685230393653], \"Category\": [\"Default\", \"Default\", \"Default\", \"Default\", \"Default\", \"Default\", \"Default\", \"Default\", \"Default\", \"Default\", \"Default\", \"Default\", \"Default\", \"Default\", \"Default\", \"Default\", \"Default\", \"Default\", \"Default\", \"Default\", \"Default\", \"Default\", \"Default\", \"Default\", \"Default\", \"Default\", \"Default\", \"Default\", \"Default\", \"Default\", \"Topic1\", \"Topic1\", \"Topic1\", \"Topic1\", \"Topic1\", \"Topic1\", \"Topic1\", \"Topic1\", \"Topic1\", \"Topic1\", \"Topic1\", \"Topic1\", \"Topic1\", \"Topic1\", \"Topic1\", \"Topic1\", \"Topic1\", \"Topic1\", \"Topic1\", \"Topic1\", \"Topic1\", \"Topic1\", \"Topic1\", \"Topic1\", \"Topic1\", \"Topic1\", \"Topic1\", \"Topic1\", \"Topic1\", \"Topic1\", \"Topic1\", \"Topic1\", \"Topic1\", \"Topic1\", \"Topic1\", \"Topic1\", \"Topic1\", \"Topic1\", \"Topic1\", \"Topic1\", \"Topic1\", \"Topic1\", \"Topic1\", \"Topic1\", \"Topic1\", \"Topic1\", \"Topic1\", \"Topic1\", \"Topic1\", \"Topic1\", \"Topic1\", \"Topic1\", \"Topic1\", \"Topic2\", \"Topic2\", \"Topic2\", \"Topic2\", \"Topic2\", \"Topic2\", \"Topic2\", \"Topic2\", \"Topic2\", \"Topic2\", \"Topic2\", \"Topic2\", \"Topic2\", \"Topic2\", \"Topic2\", \"Topic2\", \"Topic2\", \"Topic2\", \"Topic2\", \"Topic2\", \"Topic2\", \"Topic2\", \"Topic2\", \"Topic2\", \"Topic2\", \"Topic2\", \"Topic2\", \"Topic2\", \"Topic2\", \"Topic2\", \"Topic2\", \"Topic2\", \"Topic2\", \"Topic2\", \"Topic2\", \"Topic2\", \"Topic2\", \"Topic2\", \"Topic2\", \"Topic2\", \"Topic2\", \"Topic2\", \"Topic2\", \"Topic2\", \"Topic2\", \"Topic2\", \"Topic2\", \"Topic2\", \"Topic2\", \"Topic2\", \"Topic2\", \"Topic2\", \"Topic2\", \"Topic2\", \"Topic2\", \"Topic2\", \"Topic3\", \"Topic3\", \"Topic3\", \"Topic3\", \"Topic3\", \"Topic3\", \"Topic3\", \"Topic3\", \"Topic3\", \"Topic3\", \"Topic3\", \"Topic3\", \"Topic3\", \"Topic3\", \"Topic3\", \"Topic3\", \"Topic3\", \"Topic3\", \"Topic3\", \"Topic3\", \"Topic3\", \"Topic3\", \"Topic3\", \"Topic3\", \"Topic3\", \"Topic3\", \"Topic3\", \"Topic3\", \"Topic3\", \"Topic3\", \"Topic3\", \"Topic3\", \"Topic3\", \"Topic3\", \"Topic3\", \"Topic3\", \"Topic3\", \"Topic3\", \"Topic3\", \"Topic3\", \"Topic3\", \"Topic3\", \"Topic3\", \"Topic3\", \"Topic3\", \"Topic3\", \"Topic3\", \"Topic3\", \"Topic3\", \"Topic3\", \"Topic3\", \"Topic3\", \"Topic4\", \"Topic4\", \"Topic4\", \"Topic4\", \"Topic4\", \"Topic4\", \"Topic4\", \"Topic4\", \"Topic4\", \"Topic4\", \"Topic4\", \"Topic4\", \"Topic4\", \"Topic4\", \"Topic4\", \"Topic4\", \"Topic4\", \"Topic4\", \"Topic4\", \"Topic4\", \"Topic4\", \"Topic4\", \"Topic4\", \"Topic4\", \"Topic4\", \"Topic4\", \"Topic4\", \"Topic4\", \"Topic4\", \"Topic4\", \"Topic4\", \"Topic4\", \"Topic4\", \"Topic4\", \"Topic4\", \"Topic4\", \"Topic4\", \"Topic4\", \"Topic4\", \"Topic4\", \"Topic4\", \"Topic4\", \"Topic4\", \"Topic4\", \"Topic4\", \"Topic4\", \"Topic4\", \"Topic4\", \"Topic4\", \"Topic4\", \"Topic4\", \"Topic4\", \"Topic4\", \"Topic4\", \"Topic4\", \"Topic4\", \"Topic4\", \"Topic5\", \"Topic5\", \"Topic5\", \"Topic5\", \"Topic5\", \"Topic5\", \"Topic5\", \"Topic5\", \"Topic5\", \"Topic5\", \"Topic5\", \"Topic5\", \"Topic5\", \"Topic5\", \"Topic5\", \"Topic5\", \"Topic5\", \"Topic5\", \"Topic5\", \"Topic5\", \"Topic5\", \"Topic5\", \"Topic5\", \"Topic5\", \"Topic5\", \"Topic5\", \"Topic5\", \"Topic5\", \"Topic5\", \"Topic5\", \"Topic5\", \"Topic5\", \"Topic5\", \"Topic5\", \"Topic5\", \"Topic5\", \"Topic5\", \"Topic5\", \"Topic5\", \"Topic5\", \"Topic5\", \"Topic5\", \"Topic5\", \"Topic5\", \"Topic5\", \"Topic5\", \"Topic5\", \"Topic5\", \"Topic5\", \"Topic5\", \"Topic5\", \"Topic5\", \"Topic5\", \"Topic6\", \"Topic6\", \"Topic6\", \"Topic6\", \"Topic6\", \"Topic6\", \"Topic6\", \"Topic6\", \"Topic6\", \"Topic6\", \"Topic6\", \"Topic6\", \"Topic6\", \"Topic6\", \"Topic6\", \"Topic6\", \"Topic6\", \"Topic6\", \"Topic6\", \"Topic6\", \"Topic6\", \"Topic6\", \"Topic6\", \"Topic6\", \"Topic6\", \"Topic6\", \"Topic6\", \"Topic6\", \"Topic6\", \"Topic6\", \"Topic6\", \"Topic6\", \"Topic6\", \"Topic6\", \"Topic6\", \"Topic6\", \"Topic6\", \"Topic6\", \"Topic6\", \"Topic6\", \"Topic6\", \"Topic6\", \"Topic6\", \"Topic6\", \"Topic6\", \"Topic6\", \"Topic6\", \"Topic6\", \"Topic6\", \"Topic6\", \"Topic6\", \"Topic6\", \"Topic6\", \"Topic6\", \"Topic6\", \"Topic6\", \"Topic7\", \"Topic7\", \"Topic7\", \"Topic7\", \"Topic7\", \"Topic7\", \"Topic7\", \"Topic7\", \"Topic7\", \"Topic7\", \"Topic7\", \"Topic7\", \"Topic7\", \"Topic7\", \"Topic7\", \"Topic7\", \"Topic7\", \"Topic7\", \"Topic7\", \"Topic7\", \"Topic7\", \"Topic7\", \"Topic7\", \"Topic7\", \"Topic7\", \"Topic7\", \"Topic7\", \"Topic7\", \"Topic7\", \"Topic7\", \"Topic7\", \"Topic7\", \"Topic7\", \"Topic7\", \"Topic7\", \"Topic7\", \"Topic7\", \"Topic7\", \"Topic7\", \"Topic7\", \"Topic7\", \"Topic7\", \"Topic7\", \"Topic7\", \"Topic7\", \"Topic7\", \"Topic7\", \"Topic7\", \"Topic7\", \"Topic7\", \"Topic7\", \"Topic7\", \"Topic7\", \"Topic7\", \"Topic8\", \"Topic8\", \"Topic8\", \"Topic8\", \"Topic8\", \"Topic8\", \"Topic8\", \"Topic8\", \"Topic8\", \"Topic8\", \"Topic8\", \"Topic8\", \"Topic8\", \"Topic8\", \"Topic8\", \"Topic8\", \"Topic8\", \"Topic8\", \"Topic8\", \"Topic8\", \"Topic8\", \"Topic8\", \"Topic8\", \"Topic8\", \"Topic8\", \"Topic8\", \"Topic8\", \"Topic8\", \"Topic8\", \"Topic8\", \"Topic8\", \"Topic8\", \"Topic8\", \"Topic8\", \"Topic8\", \"Topic8\", \"Topic8\", \"Topic8\", \"Topic8\", \"Topic8\", \"Topic8\", \"Topic8\", \"Topic8\", \"Topic8\", \"Topic8\", \"Topic9\", \"Topic9\", \"Topic9\", \"Topic9\", \"Topic9\", \"Topic9\", \"Topic9\", \"Topic9\", \"Topic9\", \"Topic9\", \"Topic9\", \"Topic9\", \"Topic9\", \"Topic9\", \"Topic9\", \"Topic9\", \"Topic9\", \"Topic9\", \"Topic9\", \"Topic9\", \"Topic9\", \"Topic9\", \"Topic9\", \"Topic9\", \"Topic9\", \"Topic9\", \"Topic9\", \"Topic9\", \"Topic9\", \"Topic9\", \"Topic9\", \"Topic9\", \"Topic9\", \"Topic9\", \"Topic9\", \"Topic9\", \"Topic9\", \"Topic9\", \"Topic9\", \"Topic9\", \"Topic9\", \"Topic9\", \"Topic9\", \"Topic9\", \"Topic9\", \"Topic9\", \"Topic9\", \"Topic9\", \"Topic10\", \"Topic10\", \"Topic10\", \"Topic10\", \"Topic10\", \"Topic10\", \"Topic10\", \"Topic10\", \"Topic10\", \"Topic10\", \"Topic10\", \"Topic10\", \"Topic10\", \"Topic10\", \"Topic10\", \"Topic10\", \"Topic10\", \"Topic10\", \"Topic10\", \"Topic10\", \"Topic10\", \"Topic10\", \"Topic10\", \"Topic10\", \"Topic10\", \"Topic10\", \"Topic10\", \"Topic10\", \"Topic10\", \"Topic10\", \"Topic10\", \"Topic10\", \"Topic10\", \"Topic10\", \"Topic10\", \"Topic10\", \"Topic10\", \"Topic10\", \"Topic10\", \"Topic10\", \"Topic10\", \"Topic10\", \"Topic10\", \"Topic10\", \"Topic10\", \"Topic10\", \"Topic10\", \"Topic10\", \"Topic10\", \"Topic10\", \"Topic10\", \"Topic10\", \"Topic10\", \"Topic10\", \"Topic10\", \"Topic10\", \"Topic10\", \"Topic10\", \"Topic10\", \"Topic10\", \"Topic11\", \"Topic11\", \"Topic11\", \"Topic11\", \"Topic11\", \"Topic11\", \"Topic11\", \"Topic11\", \"Topic11\", \"Topic11\", \"Topic11\", \"Topic11\", \"Topic11\", \"Topic11\", \"Topic11\", \"Topic11\", \"Topic11\", \"Topic11\", \"Topic11\", \"Topic11\", \"Topic11\", \"Topic11\", \"Topic11\", \"Topic11\", \"Topic11\", \"Topic11\", \"Topic11\", \"Topic11\", \"Topic11\", \"Topic11\", \"Topic11\", \"Topic11\", \"Topic11\", \"Topic11\", \"Topic11\", \"Topic11\", \"Topic11\", \"Topic11\", \"Topic11\", \"Topic11\", \"Topic11\", \"Topic11\", \"Topic11\", \"Topic11\", \"Topic11\", \"Topic11\", \"Topic11\", \"Topic11\", \"Topic11\", \"Topic11\", \"Topic12\", \"Topic12\", \"Topic12\", \"Topic12\", \"Topic12\", \"Topic12\", \"Topic12\", \"Topic12\", \"Topic12\", \"Topic12\", \"Topic12\", \"Topic12\", \"Topic12\", \"Topic12\", \"Topic12\", \"Topic12\", \"Topic12\", \"Topic12\", \"Topic12\", \"Topic12\", \"Topic12\", \"Topic12\", \"Topic12\", \"Topic12\", \"Topic12\", \"Topic12\", \"Topic12\", \"Topic12\", \"Topic12\", \"Topic12\", \"Topic12\", \"Topic12\", \"Topic12\", \"Topic12\", \"Topic12\", \"Topic12\", \"Topic12\", \"Topic12\", \"Topic12\", \"Topic12\", \"Topic12\", \"Topic12\", \"Topic12\", \"Topic12\", \"Topic12\", \"Topic12\", \"Topic12\", \"Topic12\", \"Topic12\", \"Topic12\", \"Topic12\", \"Topic12\", \"Topic12\", \"Topic12\", \"Topic12\", \"Topic13\", \"Topic13\", \"Topic13\", \"Topic13\", \"Topic13\", \"Topic13\", \"Topic13\", \"Topic13\", \"Topic13\", \"Topic13\", \"Topic13\", \"Topic13\", \"Topic13\", \"Topic13\", \"Topic13\", \"Topic13\", \"Topic13\", \"Topic13\", \"Topic13\", \"Topic13\", \"Topic13\", \"Topic13\", \"Topic13\", \"Topic13\", \"Topic13\", \"Topic13\", \"Topic13\", \"Topic13\", \"Topic13\", \"Topic13\", \"Topic13\", \"Topic13\", \"Topic13\", \"Topic13\", \"Topic13\", \"Topic13\", \"Topic13\", \"Topic13\", \"Topic13\", \"Topic13\", \"Topic13\", \"Topic13\", \"Topic13\", \"Topic13\", \"Topic13\", \"Topic13\", \"Topic13\", \"Topic13\", \"Topic14\", \"Topic14\", \"Topic14\", \"Topic14\", \"Topic14\", \"Topic14\", \"Topic14\", \"Topic14\", \"Topic14\", \"Topic14\", \"Topic14\", \"Topic14\", \"Topic14\", \"Topic14\", \"Topic14\", \"Topic14\", \"Topic14\", \"Topic14\", \"Topic14\", \"Topic14\", \"Topic14\", \"Topic14\", \"Topic14\", \"Topic14\", \"Topic14\", \"Topic14\", \"Topic14\", \"Topic14\", \"Topic14\", \"Topic14\", \"Topic14\", \"Topic14\", \"Topic14\", \"Topic14\", \"Topic14\", \"Topic14\", \"Topic14\", \"Topic14\", \"Topic14\", \"Topic14\", \"Topic14\", \"Topic14\", \"Topic14\", \"Topic14\", \"Topic14\", \"Topic14\", \"Topic14\", \"Topic14\", \"Topic14\", \"Topic14\", \"Topic14\", \"Topic14\", \"Topic15\", \"Topic15\", \"Topic15\", \"Topic15\", \"Topic15\", \"Topic15\", \"Topic15\", \"Topic15\", \"Topic15\", \"Topic15\", \"Topic15\", \"Topic15\", \"Topic15\", \"Topic15\", \"Topic15\", \"Topic15\", \"Topic15\", \"Topic15\", \"Topic15\", \"Topic15\", \"Topic15\", \"Topic15\", \"Topic15\", \"Topic15\", \"Topic15\", \"Topic15\", \"Topic15\", \"Topic15\", \"Topic15\", \"Topic15\", \"Topic15\", \"Topic15\", \"Topic15\", \"Topic15\", \"Topic15\", \"Topic15\", \"Topic15\", \"Topic15\", \"Topic15\", \"Topic15\", \"Topic15\", \"Topic15\", \"Topic15\", \"Topic15\", \"Topic15\", \"Topic15\", \"Topic15\", \"Topic15\", \"Topic15\", \"Topic15\", \"Topic15\", \"Topic15\", \"Topic15\", \"Topic16\", \"Topic16\", \"Topic16\", \"Topic16\", \"Topic16\", \"Topic16\", \"Topic16\", \"Topic16\", \"Topic16\", \"Topic16\", \"Topic16\", \"Topic16\", \"Topic16\", \"Topic16\", \"Topic16\", \"Topic16\", \"Topic16\", \"Topic16\", \"Topic16\", \"Topic16\", \"Topic16\", \"Topic16\", \"Topic16\", \"Topic16\", \"Topic16\", \"Topic16\", \"Topic16\", \"Topic16\", \"Topic16\", \"Topic16\", \"Topic16\", \"Topic16\", \"Topic16\", \"Topic16\", \"Topic16\", \"Topic16\", \"Topic16\", \"Topic16\", \"Topic16\", \"Topic16\", \"Topic16\", \"Topic16\", \"Topic16\", \"Topic16\", \"Topic16\", \"Topic16\", \"Topic16\", \"Topic16\", \"Topic16\", \"Topic16\", \"Topic16\", \"Topic16\", \"Topic17\", \"Topic17\", \"Topic17\", \"Topic17\", \"Topic17\", \"Topic17\", \"Topic17\", \"Topic17\", \"Topic17\", \"Topic17\", \"Topic17\", \"Topic17\", \"Topic17\", \"Topic17\", \"Topic17\", \"Topic17\", \"Topic17\", \"Topic17\", \"Topic17\", \"Topic17\", \"Topic17\", \"Topic17\", \"Topic17\", \"Topic17\", \"Topic17\", \"Topic17\", \"Topic17\", \"Topic17\", \"Topic17\", \"Topic17\", \"Topic17\", \"Topic17\", \"Topic17\", \"Topic17\", \"Topic17\", \"Topic17\", \"Topic17\", \"Topic17\", \"Topic17\", \"Topic17\", \"Topic17\", \"Topic17\", \"Topic17\", \"Topic17\", \"Topic17\", \"Topic17\", \"Topic17\", \"Topic17\", \"Topic17\", \"Topic17\", \"Topic17\", \"Topic17\", \"Topic17\", \"Topic18\", \"Topic18\", \"Topic18\", \"Topic18\", \"Topic18\", \"Topic18\", \"Topic18\", \"Topic18\", \"Topic18\", \"Topic18\", \"Topic18\", \"Topic18\", \"Topic18\", \"Topic18\", \"Topic18\", \"Topic18\", \"Topic18\", \"Topic18\", \"Topic18\", \"Topic18\", \"Topic18\", \"Topic18\", \"Topic18\", \"Topic18\", \"Topic18\", \"Topic18\", \"Topic18\", \"Topic18\", \"Topic18\", \"Topic18\", \"Topic18\", \"Topic18\", \"Topic18\", \"Topic18\", \"Topic18\", \"Topic18\", \"Topic18\", \"Topic18\", \"Topic18\", \"Topic18\", \"Topic18\", \"Topic18\", \"Topic18\", \"Topic18\", \"Topic18\", \"Topic18\", \"Topic18\", \"Topic18\", \"Topic18\", \"Topic18\", \"Topic18\", \"Topic18\", \"Topic18\", \"Topic18\", \"Topic19\", \"Topic19\", \"Topic19\", \"Topic19\", \"Topic19\", \"Topic19\", \"Topic19\", \"Topic19\", \"Topic19\", \"Topic19\", \"Topic19\", \"Topic19\", \"Topic19\", \"Topic19\", \"Topic19\", \"Topic19\", \"Topic19\", \"Topic19\", \"Topic19\", \"Topic19\", \"Topic19\", \"Topic19\", \"Topic19\", \"Topic19\", \"Topic19\", \"Topic19\", \"Topic19\", \"Topic19\", \"Topic19\", \"Topic19\", \"Topic19\", \"Topic19\", \"Topic19\", \"Topic19\", \"Topic19\", \"Topic19\", \"Topic19\", \"Topic19\", \"Topic19\", \"Topic19\", \"Topic19\", \"Topic19\", \"Topic19\", \"Topic19\", \"Topic19\", \"Topic19\", \"Topic19\", \"Topic19\", \"Topic19\", \"Topic19\", \"Topic19\", \"Topic19\", \"Topic20\", \"Topic20\", \"Topic20\", \"Topic20\", \"Topic20\", \"Topic20\", \"Topic20\", \"Topic20\", \"Topic20\", \"Topic20\", \"Topic20\", \"Topic20\", \"Topic20\", \"Topic20\", \"Topic20\", \"Topic20\", \"Topic20\", \"Topic20\", \"Topic20\", \"Topic20\", \"Topic20\", \"Topic20\", \"Topic20\", \"Topic20\", \"Topic20\", \"Topic20\", \"Topic20\", \"Topic20\", \"Topic20\", \"Topic20\", \"Topic20\", \"Topic20\", \"Topic20\", \"Topic20\", \"Topic20\", \"Topic20\", \"Topic20\", \"Topic20\", \"Topic20\", \"Topic20\", \"Topic20\", \"Topic20\", \"Topic20\", \"Topic20\", \"Topic20\", \"Topic20\", \"Topic20\", \"Topic20\", \"Topic20\", \"Topic20\", \"Topic21\", \"Topic21\", \"Topic21\", \"Topic21\", \"Topic21\", \"Topic21\", \"Topic21\", \"Topic21\", \"Topic21\", \"Topic21\", \"Topic21\", \"Topic21\", \"Topic21\", \"Topic21\", \"Topic21\", \"Topic21\", \"Topic21\", \"Topic21\", \"Topic21\", \"Topic21\", \"Topic21\", \"Topic21\", \"Topic21\", \"Topic21\", \"Topic21\", \"Topic21\", \"Topic21\", \"Topic21\", \"Topic21\", \"Topic21\", \"Topic21\", \"Topic21\", \"Topic21\", \"Topic21\", \"Topic21\", \"Topic21\", \"Topic21\", \"Topic21\", \"Topic21\", \"Topic21\", \"Topic21\", \"Topic21\", \"Topic21\", \"Topic21\", \"Topic21\", \"Topic21\", \"Topic21\", \"Topic21\", \"Topic21\", \"Topic21\", \"Topic21\", \"Topic22\", \"Topic22\", \"Topic22\", \"Topic22\", \"Topic22\", \"Topic22\", \"Topic22\", \"Topic22\", \"Topic22\", \"Topic22\", \"Topic22\", \"Topic22\", \"Topic22\", \"Topic22\", \"Topic22\", \"Topic22\", \"Topic22\", \"Topic22\", \"Topic22\", \"Topic22\", \"Topic22\", \"Topic22\", \"Topic22\", \"Topic22\", \"Topic22\", \"Topic22\", \"Topic22\", \"Topic22\", \"Topic22\", \"Topic22\", \"Topic22\", \"Topic22\", \"Topic22\", \"Topic22\", \"Topic22\", \"Topic22\", \"Topic22\", \"Topic22\", \"Topic22\", \"Topic22\", \"Topic23\", \"Topic23\", \"Topic23\", \"Topic23\", \"Topic23\", \"Topic23\", \"Topic23\", \"Topic23\", \"Topic23\", \"Topic23\", \"Topic23\", \"Topic23\", \"Topic23\", \"Topic23\", \"Topic23\", \"Topic23\", \"Topic23\", \"Topic23\", \"Topic23\", \"Topic23\", \"Topic23\", \"Topic23\", \"Topic23\", \"Topic23\", \"Topic23\", \"Topic23\", \"Topic23\", \"Topic23\", \"Topic23\", \"Topic23\", \"Topic23\", \"Topic23\", \"Topic23\", \"Topic23\", \"Topic23\", \"Topic23\", \"Topic23\", \"Topic23\", \"Topic23\", \"Topic23\", \"Topic23\", \"Topic23\", \"Topic23\", \"Topic23\", \"Topic23\", \"Topic23\", \"Topic23\", \"Topic23\", \"Topic23\", \"Topic23\", \"Topic23\", \"Topic23\", \"Topic24\", \"Topic24\", \"Topic24\", \"Topic24\", \"Topic24\", \"Topic24\", \"Topic24\", \"Topic24\", \"Topic24\", \"Topic24\", \"Topic24\", \"Topic24\", \"Topic24\", \"Topic24\", \"Topic24\", \"Topic24\", \"Topic24\", \"Topic24\", \"Topic24\", \"Topic24\", \"Topic24\", \"Topic24\", \"Topic24\", \"Topic24\", \"Topic24\", \"Topic24\", \"Topic24\", \"Topic24\", \"Topic24\", \"Topic24\", \"Topic24\", \"Topic24\", \"Topic24\", \"Topic24\", \"Topic24\", \"Topic24\", \"Topic24\", \"Topic24\", \"Topic24\", \"Topic24\", \"Topic25\", \"Topic25\", \"Topic25\", \"Topic25\", \"Topic25\", \"Topic25\", \"Topic25\", \"Topic25\", \"Topic25\", \"Topic25\", \"Topic25\", \"Topic25\", \"Topic25\", \"Topic25\", \"Topic25\", \"Topic25\", \"Topic25\", \"Topic25\", \"Topic25\", \"Topic25\", \"Topic25\", \"Topic25\", \"Topic25\", \"Topic25\", \"Topic25\", \"Topic25\", \"Topic25\", \"Topic25\", \"Topic25\", \"Topic25\", \"Topic25\", \"Topic25\", \"Topic25\", \"Topic25\", \"Topic25\", \"Topic25\", \"Topic25\", \"Topic25\", \"Topic25\", \"Topic25\", \"Topic25\", \"Topic25\", \"Topic25\", \"Topic25\", \"Topic25\", \"Topic25\", \"Topic25\", \"Topic25\", \"Topic25\", \"Topic25\", \"Topic25\", \"Topic25\", \"Topic25\", \"Topic25\", \"Topic25\", \"Topic25\", \"Topic25\", \"Topic26\", \"Topic26\", \"Topic26\", \"Topic26\", \"Topic26\", \"Topic26\", \"Topic26\", \"Topic26\", \"Topic26\", \"Topic26\", \"Topic26\", \"Topic26\", \"Topic26\", \"Topic26\", \"Topic26\", \"Topic26\", \"Topic26\", \"Topic26\", \"Topic26\", \"Topic26\", \"Topic26\", \"Topic26\", \"Topic26\", \"Topic26\", \"Topic26\", \"Topic26\", \"Topic26\", \"Topic26\", \"Topic26\", \"Topic26\", \"Topic26\", \"Topic26\", \"Topic26\", \"Topic26\", \"Topic26\", \"Topic26\", \"Topic26\", \"Topic26\", \"Topic26\", \"Topic26\", \"Topic26\", \"Topic26\", \"Topic26\", \"Topic26\", \"Topic26\", \"Topic26\", \"Topic26\", \"Topic26\", \"Topic26\", \"Topic26\", \"Topic26\", \"Topic26\", \"Topic26\", \"Topic26\", \"Topic26\", \"Topic26\", \"Topic27\", \"Topic27\", \"Topic27\", \"Topic27\", \"Topic27\", \"Topic27\", \"Topic27\", \"Topic27\", \"Topic27\", \"Topic27\", \"Topic27\", \"Topic27\", \"Topic27\", \"Topic27\", \"Topic27\", \"Topic27\", \"Topic27\", \"Topic27\", \"Topic27\", \"Topic27\", \"Topic27\", \"Topic27\", \"Topic27\", \"Topic27\", \"Topic27\", \"Topic27\", \"Topic27\", \"Topic27\", \"Topic27\", \"Topic27\", \"Topic27\", \"Topic27\", \"Topic27\", \"Topic27\", \"Topic27\", \"Topic27\", \"Topic27\", \"Topic27\", \"Topic27\", \"Topic27\", \"Topic27\", \"Topic27\", \"Topic27\", \"Topic27\", \"Topic27\", \"Topic27\", \"Topic27\", \"Topic27\", \"Topic27\", \"Topic27\", \"Topic28\", \"Topic28\", \"Topic28\", \"Topic28\", \"Topic28\", \"Topic28\", \"Topic28\", \"Topic28\", \"Topic28\", \"Topic28\", \"Topic28\", \"Topic28\", \"Topic28\", \"Topic28\", \"Topic28\", \"Topic28\", \"Topic28\", \"Topic28\", \"Topic28\", \"Topic28\", \"Topic28\", \"Topic28\", \"Topic28\", \"Topic28\", \"Topic28\", \"Topic28\", \"Topic28\", \"Topic28\", \"Topic28\", \"Topic28\", \"Topic28\", \"Topic28\", \"Topic28\", \"Topic28\", \"Topic28\", \"Topic28\", \"Topic28\", \"Topic28\", \"Topic28\", \"Topic28\", \"Topic28\", \"Topic28\", \"Topic28\", \"Topic28\", \"Topic28\", \"Topic28\", \"Topic28\", \"Topic28\", \"Topic29\", \"Topic29\", \"Topic29\", \"Topic29\", \"Topic29\", \"Topic29\", \"Topic29\", \"Topic29\", \"Topic29\", \"Topic29\", \"Topic29\", \"Topic29\", \"Topic29\", \"Topic29\", \"Topic29\", \"Topic29\", \"Topic29\", \"Topic29\", \"Topic29\", \"Topic29\", \"Topic29\", \"Topic29\", \"Topic29\", \"Topic29\", \"Topic29\", \"Topic29\", \"Topic29\", \"Topic29\", \"Topic29\", \"Topic29\", \"Topic29\", \"Topic29\", \"Topic29\", \"Topic29\", \"Topic29\", \"Topic29\", \"Topic29\", \"Topic29\", \"Topic29\", \"Topic29\", \"Topic29\", \"Topic29\", \"Topic29\", \"Topic29\", \"Topic29\", \"Topic29\", \"Topic29\", \"Topic29\", \"Topic29\", \"Topic29\", \"Topic29\", \"Topic29\", \"Topic30\", \"Topic30\", \"Topic30\", \"Topic30\", \"Topic30\", \"Topic30\", \"Topic30\", \"Topic30\", \"Topic30\", \"Topic30\", \"Topic30\", \"Topic30\", \"Topic30\", \"Topic30\", \"Topic30\", \"Topic30\", \"Topic30\", \"Topic30\", \"Topic30\", \"Topic30\", \"Topic30\", \"Topic30\", \"Topic30\", \"Topic30\", \"Topic30\", \"Topic30\", \"Topic30\", \"Topic30\", \"Topic30\", \"Topic30\", \"Topic30\", \"Topic30\", \"Topic30\", \"Topic30\", \"Topic30\", \"Topic30\", \"Topic30\", \"Topic30\", \"Topic30\", \"Topic30\", \"Topic30\", \"Topic30\", \"Topic30\", \"Topic30\", \"Topic30\", \"Topic30\", \"Topic30\", \"Topic30\", \"Topic30\", \"Topic30\", \"Topic30\", \"Topic30\", \"Topic31\", \"Topic31\", \"Topic31\", \"Topic31\", \"Topic31\", \"Topic31\", \"Topic31\", \"Topic31\", \"Topic31\", \"Topic31\", \"Topic31\", \"Topic31\", \"Topic31\", \"Topic31\", \"Topic31\", \"Topic31\", \"Topic31\", \"Topic31\", \"Topic31\", \"Topic31\", \"Topic31\", \"Topic31\", \"Topic31\", \"Topic31\", \"Topic31\", \"Topic31\", \"Topic31\", \"Topic31\", \"Topic31\", \"Topic31\", \"Topic31\", \"Topic31\", \"Topic31\", \"Topic31\", \"Topic31\", \"Topic31\", \"Topic31\", \"Topic31\", \"Topic31\", \"Topic31\", \"Topic31\", \"Topic31\", \"Topic31\", \"Topic31\", \"Topic31\", \"Topic31\", \"Topic31\", \"Topic31\", \"Topic31\", \"Topic31\", \"Topic31\", \"Topic31\", \"Topic31\", \"Topic31\", \"Topic32\", \"Topic32\", \"Topic32\", \"Topic32\", \"Topic32\", \"Topic32\", \"Topic32\", \"Topic32\", \"Topic32\", \"Topic32\", \"Topic32\", \"Topic32\", \"Topic32\", \"Topic32\", \"Topic32\", \"Topic32\", \"Topic32\", \"Topic32\", \"Topic32\", \"Topic32\", \"Topic32\", \"Topic32\", \"Topic32\", \"Topic32\", \"Topic32\", \"Topic32\", \"Topic32\", \"Topic32\", \"Topic32\", \"Topic32\", \"Topic32\", \"Topic32\", \"Topic32\", \"Topic32\", \"Topic32\", \"Topic32\", \"Topic32\", \"Topic32\", \"Topic32\", \"Topic32\", \"Topic32\", \"Topic32\", \"Topic32\", \"Topic32\", \"Topic32\", \"Topic32\", \"Topic33\", \"Topic33\", \"Topic33\", \"Topic33\", \"Topic33\", \"Topic33\", \"Topic33\", \"Topic33\", \"Topic33\", \"Topic33\", \"Topic33\", \"Topic33\", \"Topic33\", \"Topic33\", \"Topic33\", \"Topic33\", \"Topic33\", \"Topic33\", \"Topic33\", \"Topic33\", \"Topic33\", \"Topic33\", \"Topic33\", \"Topic33\", \"Topic33\", \"Topic33\", \"Topic33\", \"Topic33\", \"Topic33\", \"Topic33\", \"Topic33\", \"Topic33\", \"Topic33\", \"Topic33\", \"Topic33\", \"Topic33\", \"Topic33\", \"Topic33\", \"Topic33\", \"Topic33\", \"Topic33\", \"Topic33\", \"Topic33\", \"Topic33\", \"Topic33\", \"Topic33\", \"Topic33\", \"Topic33\", \"Topic34\", \"Topic34\", \"Topic34\", \"Topic34\", \"Topic34\", \"Topic34\", \"Topic34\", \"Topic34\", \"Topic34\", \"Topic34\", \"Topic34\", \"Topic34\", \"Topic34\", \"Topic34\", \"Topic34\", \"Topic34\", \"Topic34\", \"Topic34\", \"Topic34\", \"Topic34\", \"Topic34\", \"Topic34\", \"Topic34\", \"Topic34\", \"Topic34\", \"Topic34\", \"Topic34\", \"Topic34\", \"Topic34\", \"Topic34\", \"Topic34\", \"Topic34\", \"Topic34\", \"Topic34\", \"Topic34\", \"Topic34\", \"Topic34\", \"Topic34\", \"Topic34\", \"Topic35\", \"Topic35\", \"Topic35\", \"Topic35\", \"Topic35\", \"Topic35\", \"Topic35\", \"Topic35\", \"Topic35\", \"Topic35\", \"Topic35\", \"Topic35\", \"Topic35\", \"Topic35\", \"Topic35\", \"Topic35\", \"Topic35\", \"Topic35\", \"Topic35\", \"Topic35\", \"Topic35\", \"Topic35\", \"Topic35\", \"Topic35\", \"Topic35\", \"Topic35\", \"Topic35\", \"Topic35\", \"Topic35\", \"Topic35\", \"Topic35\", \"Topic35\", \"Topic35\", \"Topic35\", \"Topic35\", \"Topic35\", \"Topic35\", \"Topic35\", \"Topic35\", \"Topic35\", \"Topic35\", \"Topic35\", \"Topic35\", \"Topic35\", \"Topic35\", \"Topic35\", \"Topic35\", \"Topic35\", \"Topic35\", \"Topic35\", \"Topic36\", \"Topic36\", \"Topic36\", \"Topic36\", \"Topic36\", \"Topic36\", \"Topic36\", \"Topic36\", \"Topic36\", \"Topic36\", \"Topic36\", \"Topic36\", \"Topic36\", \"Topic36\", \"Topic36\", \"Topic36\", \"Topic36\", \"Topic36\", \"Topic36\", \"Topic36\", \"Topic36\", \"Topic36\", \"Topic36\", \"Topic36\", \"Topic36\", \"Topic36\", \"Topic36\", \"Topic36\", \"Topic36\", \"Topic36\", \"Topic36\", \"Topic36\", \"Topic36\", \"Topic36\", \"Topic36\", \"Topic36\", \"Topic36\", \"Topic36\", \"Topic36\", \"Topic36\", \"Topic36\", \"Topic36\", \"Topic36\", \"Topic36\", \"Topic36\", \"Topic36\", \"Topic36\", \"Topic36\", \"Topic36\", \"Topic37\", \"Topic37\", \"Topic37\", \"Topic37\", \"Topic37\", \"Topic37\", \"Topic37\", \"Topic37\", \"Topic37\", \"Topic37\", \"Topic37\", \"Topic37\", \"Topic37\", \"Topic37\", \"Topic37\", \"Topic37\", \"Topic37\", \"Topic37\", \"Topic37\", \"Topic37\", \"Topic37\", \"Topic37\", \"Topic37\", \"Topic37\", \"Topic37\", \"Topic37\", \"Topic37\", \"Topic37\", \"Topic37\", \"Topic37\", \"Topic37\", \"Topic37\", \"Topic37\", \"Topic37\", \"Topic37\", \"Topic37\", \"Topic37\", \"Topic37\", \"Topic37\", \"Topic37\", \"Topic37\", \"Topic37\", \"Topic37\", \"Topic37\", \"Topic37\", \"Topic37\", \"Topic37\", \"Topic38\", \"Topic38\", \"Topic38\", \"Topic38\", \"Topic38\", \"Topic38\", \"Topic38\", \"Topic38\", \"Topic38\", \"Topic38\", \"Topic38\", \"Topic38\", \"Topic38\", \"Topic38\", \"Topic38\", \"Topic38\", \"Topic38\", \"Topic38\", \"Topic38\", \"Topic38\", \"Topic38\", \"Topic38\", \"Topic38\", \"Topic38\", \"Topic38\", \"Topic38\", \"Topic38\", \"Topic38\", \"Topic38\", \"Topic38\", \"Topic38\", \"Topic38\", \"Topic38\", \"Topic38\", \"Topic38\", \"Topic38\", \"Topic38\", \"Topic38\", \"Topic38\", \"Topic38\", \"Topic38\", \"Topic38\", \"Topic38\", \"Topic38\", \"Topic38\", \"Topic38\", \"Topic38\", \"Topic38\", \"Topic38\", \"Topic38\", \"Topic39\", \"Topic39\", \"Topic39\", \"Topic39\", \"Topic39\", \"Topic39\", \"Topic39\", \"Topic39\", \"Topic39\", \"Topic39\", \"Topic39\", \"Topic39\", \"Topic39\", \"Topic39\", \"Topic39\", \"Topic39\", \"Topic39\", \"Topic39\", \"Topic39\", \"Topic39\", \"Topic39\", \"Topic39\", \"Topic39\", \"Topic39\", \"Topic39\", \"Topic39\", \"Topic39\", \"Topic39\", \"Topic39\", \"Topic39\", \"Topic39\", \"Topic39\", \"Topic39\", \"Topic39\", \"Topic39\", \"Topic39\", \"Topic39\", \"Topic39\", \"Topic39\", \"Topic39\", \"Topic39\", \"Topic39\", \"Topic39\", \"Topic39\", \"Topic39\", \"Topic39\", \"Topic39\", \"Topic39\", \"Topic39\", \"Topic39\", \"Topic39\", \"Topic39\", \"Topic39\", \"Topic40\", \"Topic40\", \"Topic40\", \"Topic40\", \"Topic40\", \"Topic40\", \"Topic40\", \"Topic40\", \"Topic40\", \"Topic40\", \"Topic40\", \"Topic40\", \"Topic40\", \"Topic40\", \"Topic40\", \"Topic40\", \"Topic40\", \"Topic40\", \"Topic40\", \"Topic40\", \"Topic40\", \"Topic40\", \"Topic40\", \"Topic40\", \"Topic40\", \"Topic40\", \"Topic40\", \"Topic40\", \"Topic40\", \"Topic40\", \"Topic40\", \"Topic40\", \"Topic40\", \"Topic40\", \"Topic40\", \"Topic40\", \"Topic40\", \"Topic40\", \"Topic40\", \"Topic40\", \"Topic40\", \"Topic40\", \"Topic40\", \"Topic40\", \"Topic40\", \"Topic41\", \"Topic41\", \"Topic41\", \"Topic41\", \"Topic41\", \"Topic41\", \"Topic41\", \"Topic41\", \"Topic41\", \"Topic41\", \"Topic41\", \"Topic41\", \"Topic41\", \"Topic41\", \"Topic41\", \"Topic41\", \"Topic41\", \"Topic41\", \"Topic41\", \"Topic41\", \"Topic41\", \"Topic41\", \"Topic41\", \"Topic41\", \"Topic41\", \"Topic41\", \"Topic41\", \"Topic41\", \"Topic41\", \"Topic41\", \"Topic41\", \"Topic41\", \"Topic41\", \"Topic41\", \"Topic41\", \"Topic41\", \"Topic41\", \"Topic41\", \"Topic41\", \"Topic41\", \"Topic41\", \"Topic41\", \"Topic41\", \"Topic41\", \"Topic41\", \"Topic41\", \"Topic41\", \"Topic41\", \"Topic42\", \"Topic42\", \"Topic42\", \"Topic42\", \"Topic42\", \"Topic42\", \"Topic42\", \"Topic42\", \"Topic42\", \"Topic42\", \"Topic42\", \"Topic42\", \"Topic42\", \"Topic42\", \"Topic42\", \"Topic42\", \"Topic42\", \"Topic42\", \"Topic42\", \"Topic42\", \"Topic42\", \"Topic42\", \"Topic42\", \"Topic42\", \"Topic42\", \"Topic42\", \"Topic42\", \"Topic42\", \"Topic42\", \"Topic42\", \"Topic42\", \"Topic42\", \"Topic42\", \"Topic42\", \"Topic42\", \"Topic42\", \"Topic42\", \"Topic42\", \"Topic42\", \"Topic42\", \"Topic42\", \"Topic42\", \"Topic42\", \"Topic42\", \"Topic42\", \"Topic42\", \"Topic42\", \"Topic43\", \"Topic43\", \"Topic43\", \"Topic43\", \"Topic43\", \"Topic43\", \"Topic43\", \"Topic43\", \"Topic43\", \"Topic43\", \"Topic43\", \"Topic43\", \"Topic43\", \"Topic43\", \"Topic43\", \"Topic43\", \"Topic43\", \"Topic43\", \"Topic43\", \"Topic43\", \"Topic43\", \"Topic43\", \"Topic43\", \"Topic43\", \"Topic43\", \"Topic43\", \"Topic43\", \"Topic43\", \"Topic43\", \"Topic43\", \"Topic43\", \"Topic43\", \"Topic43\", \"Topic43\", \"Topic43\", \"Topic43\", \"Topic43\", \"Topic43\", \"Topic43\", \"Topic43\", \"Topic43\", \"Topic43\", \"Topic43\", \"Topic43\", \"Topic43\", \"Topic43\", \"Topic43\", \"Topic43\", \"Topic44\", \"Topic44\", \"Topic44\", \"Topic44\", \"Topic44\", \"Topic44\", \"Topic44\", \"Topic44\", \"Topic44\", \"Topic44\", \"Topic44\", \"Topic44\", \"Topic44\", \"Topic44\", \"Topic44\", \"Topic44\", \"Topic44\", \"Topic44\", \"Topic44\", \"Topic44\", \"Topic44\", \"Topic44\", \"Topic44\", \"Topic44\", \"Topic44\", \"Topic44\", \"Topic44\", \"Topic44\", \"Topic44\", \"Topic44\", \"Topic44\", \"Topic44\", \"Topic44\", \"Topic44\", \"Topic44\", \"Topic44\", \"Topic44\", \"Topic44\", \"Topic44\", \"Topic44\", \"Topic44\", \"Topic44\", \"Topic44\", \"Topic44\", \"Topic45\", \"Topic45\", \"Topic45\", \"Topic45\", \"Topic45\", \"Topic45\", \"Topic45\", \"Topic45\", \"Topic45\", \"Topic45\", \"Topic45\", \"Topic45\", \"Topic45\", \"Topic45\", \"Topic45\", \"Topic45\", \"Topic45\", \"Topic45\", \"Topic45\", \"Topic45\", \"Topic45\", \"Topic45\", \"Topic45\", \"Topic45\", \"Topic45\", \"Topic45\", \"Topic45\", \"Topic45\", \"Topic45\", \"Topic45\", \"Topic45\", \"Topic45\", \"Topic45\", \"Topic45\", \"Topic45\", \"Topic45\", \"Topic45\", \"Topic45\", \"Topic45\", \"Topic46\", \"Topic46\", \"Topic46\", \"Topic46\", \"Topic46\", \"Topic46\", \"Topic46\", \"Topic46\", \"Topic46\", \"Topic46\", \"Topic46\", \"Topic46\", \"Topic46\", \"Topic46\", \"Topic46\", \"Topic46\", \"Topic46\", \"Topic46\", \"Topic46\", \"Topic46\", \"Topic46\", \"Topic46\", \"Topic46\", \"Topic46\", \"Topic46\", \"Topic46\", \"Topic46\", \"Topic46\", \"Topic46\", \"Topic46\", \"Topic46\", \"Topic46\", \"Topic46\", \"Topic46\", \"Topic46\", \"Topic46\", \"Topic46\", \"Topic46\", \"Topic46\", \"Topic46\", \"Topic46\", \"Topic46\", \"Topic46\", \"Topic47\", \"Topic47\", \"Topic47\", \"Topic47\", \"Topic47\", \"Topic47\", \"Topic47\", \"Topic47\", \"Topic47\", \"Topic47\", \"Topic47\", \"Topic47\", \"Topic47\", \"Topic47\", \"Topic47\", \"Topic47\", \"Topic47\", \"Topic47\", \"Topic47\", \"Topic47\", \"Topic47\", \"Topic47\", \"Topic47\", \"Topic47\", \"Topic47\", \"Topic47\", \"Topic47\", \"Topic47\", \"Topic47\", \"Topic47\", \"Topic47\", \"Topic47\", \"Topic47\", \"Topic47\", \"Topic47\", \"Topic47\", \"Topic47\", \"Topic47\", \"Topic47\", \"Topic47\", \"Topic47\", \"Topic47\", \"Topic47\", \"Topic47\", \"Topic47\", \"Topic47\", \"Topic47\", \"Topic47\", \"Topic47\", \"Topic48\", \"Topic48\", \"Topic48\", \"Topic48\", \"Topic48\", \"Topic48\", \"Topic48\", \"Topic48\", \"Topic48\", \"Topic48\", \"Topic48\", \"Topic48\", \"Topic48\", \"Topic48\", \"Topic48\", \"Topic48\", \"Topic48\", \"Topic48\", \"Topic48\", \"Topic48\", \"Topic48\", \"Topic48\", \"Topic48\", \"Topic48\", \"Topic48\", \"Topic48\", \"Topic48\", \"Topic48\", \"Topic48\", \"Topic48\", \"Topic48\", \"Topic48\", \"Topic48\", \"Topic48\", \"Topic48\", \"Topic48\", \"Topic48\", \"Topic48\", \"Topic48\", \"Topic48\", \"Topic48\", \"Topic48\", \"Topic48\", \"Topic48\", \"Topic48\", \"Topic49\", \"Topic49\", \"Topic49\", \"Topic49\", \"Topic49\", \"Topic49\", \"Topic49\", \"Topic49\", \"Topic49\", \"Topic49\", \"Topic49\", \"Topic49\", \"Topic49\", \"Topic49\", \"Topic49\", \"Topic49\", \"Topic49\", \"Topic49\", \"Topic49\", \"Topic49\", \"Topic49\", \"Topic49\", \"Topic49\", \"Topic49\", \"Topic49\", \"Topic49\", \"Topic49\", \"Topic49\", \"Topic49\", \"Topic49\", \"Topic49\", \"Topic49\", \"Topic49\", \"Topic49\", \"Topic49\", \"Topic49\", \"Topic49\", \"Topic49\", \"Topic49\", \"Topic49\", \"Topic50\", \"Topic50\", \"Topic50\", \"Topic50\", \"Topic50\", \"Topic50\", \"Topic50\", \"Topic50\", \"Topic50\", \"Topic50\", \"Topic50\", \"Topic50\", \"Topic50\", \"Topic50\", \"Topic50\", \"Topic50\", \"Topic50\", \"Topic50\", \"Topic50\", \"Topic50\", \"Topic50\", \"Topic50\", \"Topic50\", \"Topic50\", \"Topic50\", \"Topic50\", \"Topic50\", \"Topic50\", \"Topic50\", \"Topic50\", \"Topic50\", \"Topic50\", \"Topic50\", \"Topic50\", \"Topic50\", \"Topic50\", \"Topic50\", \"Topic50\", \"Topic50\"], \"logprob\": [30.0, 29.0, 28.0, 27.0, 26.0, 25.0, 24.0, 23.0, 22.0, 21.0, 20.0, 19.0, 18.0, 17.0, 16.0, 15.0, 14.0, 13.0, 12.0, 11.0, 10.0, 9.0, 8.0, 7.0, 6.0, 5.0, 4.0, 3.0, 2.0, 1.0, -4.61, -4.6534, -4.8432, -4.9396, -5.0434, -5.2156, -5.5021, -5.5128, -5.5969, -3.0467, -5.7336, -4.5578, -5.7832, -4.1127, -5.9044, -5.9201, -3.3917, -2.803, -6.0059, -6.0333, -6.0362, -2.3413, -6.103, -6.1036, -4.594, -6.1869, -6.1869, -6.2329, -6.2614, -6.3266, -2.6073, -5.319, -2.9988, -4.6521, -4.8334, -2.3932, -4.7629, -4.4972, -5.1428, -3.8952, -4.3407, -4.5245, -4.7126, -4.1072, -4.2637, -4.7659, -4.4842, -4.1118, -4.9427, -4.7908, -4.8174, -4.8748, -4.9103, -3.9968, -4.3667, -4.4594, -4.9747, -5.1044, -5.2129, -5.2417, -5.2533, -5.2673, -5.3376, -5.3445, -5.3661, -5.4198, -4.5464, -5.0263, -3.847, -3.6511, -4.0953, -5.7209, -5.7857, -5.0451, -5.8955, -6.0041, -6.028, -6.0446, -6.2065, -6.2131, -6.2481, -6.2827, -3.4733, -4.507, -4.1398, -4.7708, -3.4854, -4.9588, -4.52, -4.6476, -2.9787, -3.8955, -4.3717, -4.0421, -4.238, -3.8328, -4.0849, -4.6395, -3.6882, -4.4393, -4.7123, -4.3939, -4.4625, -4.746, -4.4144, -4.6139, -4.3172, -4.4713, -4.6176, -3.8064, -4.4093, -4.4757, -4.7651, -4.9307, -5.0588, -5.1194, -5.2424, -4.8598, -5.5846, -5.736, -4.2029, -5.8869, -5.8926, -5.9567, -5.9925, -6.0655, -6.1181, -6.1181, -1.8974, -6.1738, -6.1806, -6.3254, -4.5772, -6.399, -5.3282, -3.1387, -3.9163, -4.206, -6.6099, -4.5968, -3.7863, -4.7154, -4.5364, -5.2963, -3.6538, -4.5072, -4.1137, -4.3241, -4.1149, -5.0338, -3.9542, -4.4108, -4.0846, -4.5353, -4.3562, -4.2288, -4.4808, -3.9576, -4.3411, -4.5521, -4.7455, -3.7805, -3.9248, -4.507, -2.8206, -4.7361, -4.9523, -4.9544, -5.0629, -5.1364, -5.2192, -5.4636, -4.8907, -5.6458, -5.6458, -6.0082, -6.0496, -6.0496, -6.0496, -6.0496, -6.1054, -6.1515, -6.1679, -6.179, -6.179, -6.2459, -6.2807, -6.3021, -1.4019, -6.3578, -6.3703, -5.4782, -5.7265, -3.9751, -4.4393, -3.7024, -4.8036, -4.8161, -5.6458, -5.5531, -3.7945, -4.3291, -4.5224, -5.58, -3.8913, -3.6476, -4.6377, -4.5995, -5.0127, -4.7217, -4.9757, -5.2085, -4.8977, -4.7235, -4.8836, -4.9591, -5.0269, -5.0532, -3.7174, -3.9191, -4.1626, -4.1874, -4.3087, -4.3385, -4.4116, -4.4535, -4.705, -4.7463, -5.2166, -5.2886, -5.4672, -5.4907, -5.5096, -5.5539, -5.5674, -5.6963, -5.7646, -5.7983, -5.823, -4.8102, -2.8635, -5.9337, -5.9491, -5.9544, -6.038, -5.0334, -6.0785, -4.9821, -3.8891, -4.5212, -4.8899, -4.7141, -5.2367, -4.6621, -4.7562, -4.405, -3.8246, -5.0357, -4.0512, -3.9976, -4.6828, -4.2835, -4.0882, -4.2524, -3.3695, -4.2524, -4.3091, -4.5743, -4.5056, -4.516, -4.7197, -3.1523, -4.1023, -4.1112, -4.2287, -4.5019, -4.7169, -4.8109, -5.1048, -5.203, -5.2916, -5.4333, -4.4749, -5.5444, -5.5832, -5.6358, -3.8438, -5.6451, -5.7112, -5.8295, -2.5467, -6.1533, -5.2224, -5.2033, -5.1402, -6.3845, -6.3845, -6.3845, -6.3845, -6.3845, -6.3845, -4.1144, -3.4004, -3.482, -5.4811, -4.7283, -4.8137, -4.6599, -3.897, -4.4174, -4.21, -3.614, -4.5591, -3.8462, -3.7528, -4.0249, -2.7908, -3.7708, -4.369, -3.7251, -4.2248, -4.3807, -4.3097, -3.8204, -4.5281, -4.4398, -4.6231, -3.138, -3.7602, -3.9956, -4.3314, -4.3824, -4.5697, -4.8513, -3.6619, -4.9317, -4.979, -4.6502, -5.0523, -5.0644, -5.1815, -5.2001, -3.6162, -5.3064, -5.3538, -5.3922, -5.4799, -5.5117, -5.6471, -5.7141, -5.7273, -5.7321, -5.7459, -5.8394, -4.3841, -5.884, -5.9349, -3.7261, -4.7082, -3.9823, -3.8873, -4.5679, -4.8261, -4.8368, -4.244, -3.2618, -4.6124, -3.8051, -3.8083, -4.4701, -3.5327, -4.478, -4.2579, -4.3837, -4.4023, -4.5295, -4.3917, -4.5382, -4.5379, -4.5557, -4.6447, -3.4166, -3.5833, -4.257, -4.5442, -4.5892, -4.8518, -4.8518, -4.9556, -2.584, -5.1875, -5.2555, -5.3305, -5.3585, -5.5699, -5.5705, -5.5946, -3.743, -5.713, -3.752, -5.7373, -1.9006, -5.9157, -5.9157, -5.9768, -5.9949, -3.9535, -6.0601, -6.0682, -6.0999, -6.0999, -3.4227, -3.3589, -3.8118, -2.052, -4.9262, -4.1786, -4.5098, -3.7521, -5.1464, -5.0552, -4.6074, -4.6312, -5.036, -5.2304, -5.1445, -3.781, -4.6879, -4.7459, -4.7734, -4.8971, -4.9028, -4.9979, -5.0066, -5.1205, -5.1669, -3.5951, -5.2237, -2.1073, -5.3689, -5.3857, -5.4193, -5.4359, -3.8536, -5.5532, -5.5761, -5.6208, -5.6332, -5.6553, -5.6553, -5.6604, -5.6888, -5.6888, -4.4312, -5.8396, -5.9415, -2.996, -2.7523, -4.4294, -3.5707, -4.5631, -4.6611, -4.1336, -4.7112, -4.0011, -4.1868, -4.0578, -3.5968, -4.6288, -4.3209, -4.6739, -4.644, -4.7746, -4.997, -3.9114, -3.9375, -4.0839, -4.3385, -4.3511, -4.5346, -4.9475, -4.9523, -3.6718, -5.0412, -3.9864, -5.1017, -5.1848, -5.2007, -5.2056, -5.2437, -5.2764, -5.2803, -5.319, -5.5058, -5.5507, -5.5922, -5.6779, -5.9637, -5.9807, -5.1441, -6.0479, -6.0727, -6.0972, -6.1143, -4.706, -4.8294, -3.1851, -4.864, -4.3033, -4.7229, -4.3099, -3.6045, -4.5705, -4.5586, -4.9089, -3.7521, -4.0378, -4.2097, -4.0874, -4.7871, -4.9724, -3.7782, -4.0033, -3.3896, -4.3767, -4.3349, -4.5508, -4.5365, -4.2995, -4.3575, -4.4498, -4.5147, -4.4533, -4.5511, -2.1667, -3.3684, -3.8991, -3.9054, -4.606, -4.7086, -4.8851, -5.0445, -3.2126, -5.1159, -5.2015, -5.2418, -5.2671, -5.3007, -5.4403, -5.5203, -5.5203, -5.5539, -5.5741, -5.5778, -5.7048, -5.7341, -5.8233, -5.8233, -5.9577, -5.9577, -5.993, -6.0135, -3.0787, -6.0645, -2.5235, -4.4551, -4.9838, -3.8798, -4.5735, -3.9682, -4.1945, -3.9296, -3.88, -4.166, -4.0329, -4.217, -3.3921, -3.8453, -4.1963, -4.3945, -4.54, -4.5579, -4.9714, -5.0326, -3.4476, -4.2608, -3.7114, -4.8051, -4.9137, -4.573, -5.0465, -5.073, -3.2474, -5.2257, -5.2887, -3.2268, -4.2336, -5.3837, -5.5171, -5.5312, -5.5512, -5.6067, -5.6175, -5.6957, -5.7472, -5.8024, -4.4197, -5.8809, -5.998, -6.0224, -6.0249, -6.1346, -4.8847, -6.2153, -4.32, -5.0027, -3.2408, -3.9197, -5.5901, -4.0662, -4.5516, -2.7775, -3.949, -3.9781, -4.9423, -4.0204, -4.0109, -4.5666, -4.6459, -3.959, -4.1455, -4.834, -4.4063, -4.3668, -4.658, -4.8137, -4.6768, -4.6912, -4.6935, -2.8808, -3.2626, -4.2483, -4.3338, -4.3441, -4.4908, -4.6664, -4.8712, -4.936, -5.0424, -4.5047, -5.4092, -4.1563, -5.6042, -5.6319, -5.6319, -5.7603, -5.9312, -4.3825, -5.9517, -6.0494, -3.5163, -6.0848, -6.1212, -4.6032, -3.8137, -4.048, -6.2493, -6.2493, -6.2493, -3.5002, -4.3727, -2.9112, -4.4336, -4.0166, -4.0676, -3.4959, -4.6561, -2.6518, -4.3964, -3.9163, -4.3329, -3.9959, -4.1027, -4.2678, -4.1768, -4.1551, -4.6214, -3.6722, -4.0924, -4.1883, -4.3661, -4.3801, -4.3909, -4.4804, -4.527, -4.5396, -4.7132, -4.7144, -4.829, -4.902, -3.9612, -5.0108, -5.0883, -5.3067, -5.3067, -5.4261, -5.5441, -5.6987, -5.7886, -5.8373, -5.9312, -5.9599, -4.3727, -6.0398, -6.0656, -6.1468, -6.1468, -4.9035, -3.2241, -4.2135, -4.0212, -4.2251, -3.537, -3.0255, -3.5324, -3.9647, -3.0804, -4.8621, -4.1661, -4.5129, -4.0879, -4.6959, -4.4021, -4.4659, -4.5464, -4.5334, -4.5951, -4.567, -4.5454, -3.4485, -3.5788, -4.2053, -4.5243, -4.6107, -4.6346, -4.7844, -4.8406, -5.0187, -5.0542, -5.0843, -3.9736, -5.5269, -5.8989, -5.9482, -5.9949, -6.0486, -6.0573, -3.092, -6.1902, -6.1902, -6.1902, -6.1902, -6.1986, -4.0881, -4.1758, -6.3005, -6.3392, -6.3392, -4.1257, -4.2436, -3.5612, -3.9956, -3.3602, -2.7633, -4.7687, -4.3417, -3.2783, -4.3102, -4.7112, -5.1594, -4.8985, -4.6338, -4.1445, -3.1483, -4.2173, -3.4756, -4.5015, -4.5457, -4.4803, -4.5462, -4.5023, -4.6297, -3.6644, -4.1202, -4.1823, -4.5441, -4.7009, -5.0405, -5.1234, -5.1524, -5.2398, -5.3873, -5.3873, -5.6401, -5.6966, -5.72, -3.4415, -3.5855, -5.7802, -5.7898, -5.3176, -4.0227, -5.84, -5.8825, -5.8926, -4.0957, -5.9542, -5.9606, -4.1426, -6.0467, -4.6517, -6.2249, -4.8774, -4.5359, -4.8213, -4.1211, -4.0798, -5.0237, -3.8432, -3.6225, -3.7306, -3.5301, -3.8405, -4.5211, -3.761, -3.802, -4.2348, -4.1742, -4.3212, -4.3185, -4.2777, -4.3765, -4.1223, -4.6818, -3.8013, -4.1784, -4.3496, -4.7253, -4.8081, -4.9945, -4.9975, -4.9975, -4.295, -5.1988, -5.203, -4.0394, -5.265, -5.3073, -5.3373, -5.4733, -5.5036, -5.0778, -5.6014, -3.4181, -5.6822, -4.2926, -5.7102, -5.7385, -5.7838, -5.8485, -3.9165, -5.8701, -5.8908, -4.5206, -5.1083, -4.4371, -4.0138, -4.6157, -4.9843, -3.4515, -4.6594, -4.4683, -3.3164, -3.832, -3.4566, -3.9178, -3.7602, -4.2363, -4.2032, -4.187, -4.3783, -4.5891, -4.6291, -4.3799, -4.3909, -4.4729, -4.6978, -1.6103, -3.5422, -4.511, -4.627, -4.6953, -4.8297, -4.8852, -5.1529, -5.4072, -5.4703, -5.5118, -5.5118, -5.5803, -5.7646, -5.7646, -5.8829, -5.9854, -5.0693, -6.0171, -6.201, -6.201, -6.201, -6.201, -6.201, -6.201, -4.0934, -6.2692, -6.2692, -6.3993, -6.4105, -5.3354, -4.9865, -3.2242, -2.7825, -4.5307, -2.8743, -5.4513, -3.9666, -3.8121, -3.7865, -3.6956, -4.1012, -4.3747, -3.7374, -4.2415, -4.3553, -4.6737, -4.8752, -4.8969, -5.2665, -4.894, -5.1137, -5.0721, -5.1307, -3.1593, -4.1747, -4.4732, -3.6353, -4.6078, -4.6675, -4.8038, -4.0152, -4.8886, -4.9239, -5.066, -5.0868, -5.092, -5.092, -5.0928, -5.117, -5.1174, -5.134, -5.1802, -5.4465, -3.7835, -3.8116, -5.6828, -5.7224, -5.7658, -5.7658, -5.8334, -4.2626, -5.9988, -6.0172, -4.6274, -3.5372, -3.2481, -3.62, -5.3407, -4.1775, -3.3464, -3.8903, -4.6698, -4.0779, -3.9178, -3.8927, -4.2321, -4.0586, -4.6525, -4.799, -4.1908, -4.5785, -3.9069, -4.502, -4.7283, -4.669, -3.0592, -3.5453, -3.5509, -4.3001, -4.4517, -4.5874, -3.2754, -4.8573, -4.9007, -5.0182, -5.0962, -5.1941, -5.2432, -5.2788, -5.2788, -5.3332, -5.3442, -5.3538, -5.5015, -5.5318, -5.676, -5.6826, -5.6826, -5.6826, -5.6826, -5.6826, -5.6954, -4.3284, -5.7711, -5.7738, -4.1899, -2.4223, -3.2859, -4.151, -3.6102, -3.5044, -4.0724, -3.0399, -4.248, -3.9423, -4.7536, -3.7569, -4.3389, -4.4491, -4.725, -4.6308, -4.7999, -4.8037, -4.6287, -4.7349, -3.976, -4.0096, -4.1701, -4.2264, -4.2746, -4.3, -4.437, -4.4641, -4.5091, -4.5879, -4.6328, -4.8094, -4.9257, -4.9658, -5.1619, -5.2869, -5.2885, -3.4668, -5.3298, -5.3572, -5.3811, -5.5509, -5.5509, -5.5993, -5.8351, -5.9036, -5.9378, -5.9382, -4.4766, -6.019, -2.1142, -4.4874, -2.8206, -4.3488, -3.493, -4.3787, -4.7041, -4.8543, -4.1785, -4.3666, -3.8073, -4.5075, -4.3231, -3.821, -4.3765, -4.287, -4.7643, -4.4443, -4.6128, -4.465, -4.6179, -3.2347, -3.5024, -4.0074, -4.0204, -4.1739, -4.2277, -4.4121, -4.4537, -4.4879, -4.5394, -4.5814, -4.5835, -4.688, -4.6913, -4.7563, -4.8755, -4.9113, -4.9339, -4.9557, -4.9813, -5.1026, -5.103, -5.1231, -5.1324, -5.1475, -5.1673, -5.2084, -3.5044, -5.2682, -5.2704, -4.2693, -4.371, -4.5398, -4.288, -4.4723, -4.7969, -4.951, -4.9111, -4.6249, -4.9275, -3.4357, -3.9687, -4.3551, -4.4952, -4.7216, -4.7461, -4.7868, -4.8443, -5.0124, -5.1512, -5.1577, -5.1902, -4.5117, -5.2385, -5.3353, -5.3401, -5.3681, -5.3915, -3.8825, -5.4568, -5.4971, -5.528, -5.5646, -5.5691, -5.6135, -5.6228, -5.6455, -5.6582, -5.6746, -5.7981, -4.5214, -3.7604, -3.8601, -3.1204, -4.5886, -4.7054, -3.7893, -4.113, -3.718, -4.1457, -4.3453, -4.3514, -3.8962, -3.7806, -4.5135, -4.6613, -4.1799, -4.2449, -4.4519, -4.3959, -4.7195, -4.7612, -3.7033, -4.1485, -4.1642, -4.1666, -4.1757, -4.2422, -4.349, -4.462, -4.7365, -4.7373, -4.7385, -4.7428, -4.7481, -4.7564, -4.758, -4.8376, -4.842, -4.8444, -4.851, -4.851, -4.854, -4.8759, -4.8804, -4.9131, -4.9635, -5.0032, -5.0794, -5.0858, -5.1614, -5.2723, -4.4642, -4.3561, -4.4475, -4.0474, -3.8597, -4.7612, -4.514, -4.6225, -4.7417, -4.7254, -3.131, -3.8048, -3.9705, -4.1214, -4.8405, -4.9663, -5.0869, -5.2145, -5.2195, -5.3004, -5.3244, -5.4725, -2.5203, -1.5746, -5.6233, -5.6512, -4.2693, -5.8758, -6.0596, -6.0596, -6.0596, -6.1107, -6.1118, -6.1566, -6.3113, -6.3113, -6.3113, -6.3113, -6.3113, -6.3113, -4.574, -3.7254, -5.6179, -5.4651, -4.2474, -4.4073, -4.7204, -4.4247, -4.4467, -4.1612, -5.5774, -5.0609, -4.9703, -4.3076, -4.4445, -4.3951, -5.1326, -4.8291, -4.5717, -4.719, -4.7271, -4.9119, -4.7461, -4.7067, -4.8089, -4.9557, -4.9481, -3.3513, -4.2507, -4.2627, -4.3353, -4.4868, -4.5214, -4.6067, -4.6201, -4.7509, -4.7822, -4.8304, -4.8426, -4.8589, -4.859, -4.8854, -4.9278, -4.9884, -5.0023, -5.1357, -5.2949, -4.7962, -5.3596, -5.3809, -5.5508, -5.588, -4.3316, -5.7589, -5.781, -4.7126, -4.8244, -4.0593, -4.1909, -4.3136, -4.6766, -4.5506, -3.2159, -4.1702, -4.2699, -4.4304, -3.7033, -4.1161, -4.1732, -4.5806, -4.0591, -4.4201, -4.2724, -4.5358, -4.3097, -4.3642, -4.4252, -4.5132, -4.5802, -4.2215, -4.466, -4.4994, -4.5409, -3.7822, -3.9261, -4.0851, -4.2701, -4.4278, -4.5446, -4.8114, -4.9376, -5.0226, -5.1197, -5.1885, -5.1908, -5.2044, -5.209, -5.2557, -5.2784, -5.3081, -5.3876, -5.3978, -5.414, -5.4179, -5.5628, -5.5847, -5.5945, -5.5945, -5.5945, -5.6127, -5.6224, -2.1129, -5.7442, -3.3519, -4.3132, -4.64, -2.9335, -4.4617, -3.9765, -4.9616, -2.9975, -3.8812, -4.6064, -4.761, -4.4861, -4.5114, -4.5218, -4.4821, -4.5556, -4.6432, -4.927, -4.7844, -4.8081, -2.8043, -2.8315, -3.4918, -4.194, -4.2728, -4.4725, -4.6743, -4.8084, -1.6639, -5.0587, -4.5697, -5.1511, -5.4564, -5.4654, -5.4654, -5.4654, -5.5673, -5.7179, -5.7179, -5.821, -5.9017, -5.9017, -5.9017, -5.9017, -5.9017, -5.9017, -5.9017, -5.9017, -5.9017, -5.9017, -4.0443, -3.7188, -4.9254, -4.5065, -4.8965, -3.0219, -4.5276, -3.0251, -3.6653, -4.3652, -4.5885, -4.7657, -4.9868, -4.7596, -4.9501, -5.1729, -5.0777, -5.319, -3.2643, -4.3656, -4.3789, -4.4129, -4.2275, -4.5884, -4.6527, -4.7653, -4.8143, -4.8791, -4.9061, -4.9061, -4.9397, -4.987, -5.0106, -5.1478, -2.6045, -5.2512, -5.3438, -5.3438, -5.3438, -5.415, -5.5127, -5.5136, -5.5159, -5.5896, -5.5967, -5.5967, -5.6525, -5.6525, -4.1264, -3.7287, -3.3131, -2.8601, -3.736, -3.4689, -4.2517, -4.9735, -5.0647, -4.6204, -4.4282, -3.896, -4.4915, -4.7551, -4.2874, -4.2722, -4.5381, -4.1413, -4.3198, -4.7123, -4.7985, -4.8596, -4.0272, -2.7407, -4.1996, -4.3848, -4.4599, -4.7094, -4.7741, -4.8023, -4.8369, -4.8444, -4.8837, -4.8895, -4.5783, -5.017, -5.3232, -5.3748, -5.4148, -5.5512, -5.5512, -4.7664, -5.6188, -5.7219, -4.5702, -5.8026, -5.8026, -5.8026, -5.8026, -5.8026, -2.7691, -5.8628, -5.1845, -4.5782, -4.1501, -4.3949, -3.5456, -2.8184, -4.8381, -4.2959, -4.8006, -4.2718, -2.9777, -4.3242, -3.9682, -4.3132, -4.3123, -4.2868, -4.5922, -4.7406, -4.619, -4.7965, -4.7578, -4.7692, -3.5385, -3.8088, -4.1105, -4.1584, -4.2733, -4.7177, -4.7733, -4.8739, -5.0824, -5.1146, -5.1833, -5.2111, -5.2111, -5.3295, -5.3333, -5.3477, -5.35, -2.2121, -5.4639, -5.4639, -5.4975, -5.5822, -5.5933, -5.5961, -5.6114, -5.7164, -5.7721, -5.9002, -5.9002, -5.9002, -3.79, -3.8287, -4.9814, -2.7853, -3.0608, -3.5546, -3.775, -4.3912, -4.5997, -4.4964, -4.5334, -4.6022, -4.4162, -4.4635, -4.0216, -4.3578, -4.0013, -4.1351, -3.7572, -4.4696, -4.6677, -4.8381, -4.7455, -4.7912, -2.4791, -3.7017, -3.7046, -3.7515, -4.7116, -4.8154, -4.8501, -3.6287, -3.3128, -4.8999, -4.9486, -4.9874, -5.0445, -5.1222, -5.1222, -5.1222, -5.161, -5.295, -5.3402, -5.3624, -5.4085, -5.4085, -4.5469, -5.436, -5.4614, -5.4971, -4.3969, -5.6148, -5.6608, -5.6954, -3.001, -4.7732, -2.7361, -3.716, -4.3918, -4.7735, -4.8729, -4.9246, -4.5432, -3.6493, -3.4329, -4.4015, -4.5462, -4.6246, -4.8643, -4.986, -2.2553, -2.3673, -3.5398, -3.661, -4.0446, -4.3123, -4.4885, -4.6171, -4.6486, -4.842, -4.8803, -4.9809, -4.9827, -4.9918, -5.1625, -5.2164, -5.3384, -5.3562, -5.3616, -5.5702, -5.7367, -5.7367, -5.7367, -5.7367, -5.7451, -5.7889, -4.6587, -4.11, -5.9228, -6.0564, -4.9636, -3.5837, -4.3503, -3.5361, -4.427, -3.2559, -4.5292, -4.4114, -3.8753, -3.4554, -3.7011, -3.5891, -4.6377, -4.451, -4.3938, -4.1598, -4.5337, -4.942, -2.3662, -3.9173, -3.9916, -4.0371, -4.046, -4.0579, -4.1456, -4.1456, -4.298, -4.3276, -4.3633, -4.3793, -4.3891, -3.8169, -4.5366, -4.5504, -4.5504, -4.6362, -4.6931, -4.754, -3.5779, -4.8374, -4.8374, -4.8374, -4.9094, -5.0765, -5.1282, -5.2415, -5.2415, -5.2415, -3.3327, -3.0177, -3.5986, -4.0824, -3.9858, -4.3975, -4.5858, -4.4342, -4.6793, -3.8321, -4.2845, -4.4024, -4.4768, -4.4883, -4.4916, -4.5887, -1.7295, -4.7258, -4.8762, -4.9242, -4.998, -5.0296, -5.0361, -5.1465, -5.1801, -5.1801, -5.2401, -5.2488, -4.4885, -5.3834, -5.3867, -5.5214, -5.5833, -5.5833, -5.5833, -5.7014, -5.7672, -4.7071, -5.8354, -4.4872, -4.1361, -3.121, -3.2492, -4.6144, -4.8993, -4.1466, -4.3868, -4.6928, -2.994, -4.1274, -4.0412, -3.9316, -4.2863, -4.2385, -4.8426, -4.5393, -4.7579, -4.6677, -4.6659, -3.6958, -3.9145, -3.9818, -4.1447, -4.6179, -4.6326, -4.6474, -4.6515, -4.8711, -4.9047, -4.9047, -4.9156, -3.2331, -5.0629, -5.2076, -2.94, -5.3868, -5.481, -5.5498, -3.7825, -5.6516, -2.8312, -5.7448, -5.7448, -5.7521, -5.2137, -4.3242, -5.7813, -5.7997, -5.9965, -5.3067, -4.0004, -3.7114, -3.7154, -3.8459, -3.8137, -2.6997, -3.6457, -4.6982, -4.4972, -4.7304, -4.7526, -4.8924, -4.4893, -4.4386, -4.4892, -4.6744, -4.7851, -4.7177, -2.1782, -3.6308, -4.4479, -4.5212, -4.5767, -3.6598, -4.6498, -4.8501, -4.8709, -3.8193, -5.1413, -5.2192, -5.24, -4.3066, -5.3351, -5.3518, -5.3781, -5.3974, -2.8672, -5.4367, -5.4647, -2.6157, -5.5398, -5.6206, -5.6206, -5.7444, -5.7444, -5.7696, -5.9087, -5.2339, -4.8699, -3.0366, -3.9777, -4.2957, -3.4769, -3.5733, -3.9578, -4.3112, -4.2266, -3.8217, -3.3495, -4.3633, -4.3477, -4.4861, -4.7332, -4.8556, -4.9631, -2.938, -3.0966, -3.702, -4.2942, -4.3547, -4.4157, -2.8736, -4.6251, -4.6901, -4.7044, -4.7562, -4.7718, -4.9261, -4.9618, -5.0174, -5.0275, -3.3633, -5.0957, -5.2436, -5.249, -4.1385, -5.3799, -5.3799, -5.498, -5.5638, -5.5638, -5.5722, -5.8717, -5.9363, -5.9363, -4.7762, -3.7039, -3.1321, -3.9504, -4.1836, -4.9306, -4.1442, -3.3128, -4.4236, -4.7301, -4.2438, -3.6519, -4.214, -4.146, -4.1426, -4.35, -4.5746, -4.4567, -4.4147, -4.6481, -3.5709, -3.7643, -3.7902, -4.3407, -4.5522, -4.635, -4.6524, -4.6788, -4.9124, -5.1743, -5.2426, -5.2762, -5.3144, -5.3225, -5.3291, -5.3535, -5.4423, -5.4544, -5.5295, -5.5295, -5.6106, -5.6106, -5.6106, -5.6106, -5.6106, -5.6106, -5.6106, -5.6106, -5.6788, -4.6743, -3.5864, -3.6954, -4.0633, -3.9459, -4.1498, -4.9483, -3.1945, -3.8874, -3.3698, -4.0044, -4.4511, -4.1654, -3.6838, -3.7532, -4.2942, -4.3361, -4.407, -4.3394, -4.404, -4.3736, -4.7947, -4.6929, -4.7717, -2.3681, -2.8386, -3.7103, -3.8362, -3.9611, -4.068, -4.29, -4.3316, -4.3941, -4.6307, -4.6647, -4.8065, -4.821, -4.9257, -4.9574, -4.9574, -3.9972, -5.1368, -5.1403, -5.2102, -5.2102, -4.0071, -5.3844, -5.4007, -5.6281, -5.6466, -5.6466, -5.6466, -5.6466, -5.6466, -2.6622, -3.8251, -4.5685, -2.9027, -4.0168, -3.9117, -3.3564, -3.9612, -4.0196, -4.6608, -4.6755, -4.4969, -4.574, -4.4827, -4.6995, -4.0224, -4.1335, -4.1712, -4.1838, -4.4414, -4.4949, -4.5797, -4.6209, -4.6311, -4.7903, -4.7985, -4.7988, -4.8804, -4.9633, -4.9695, -5.0865, -5.1646, -5.2184, -3.628, -4.5163, -5.4485, -4.6891, -5.5974, -5.6262, -3.3135, -4.4672, -3.2942, -5.6783, -5.7809, -5.7809, -2.5235, -3.8538, -4.6054, -3.3908, -4.6398, -4.8171, -3.5072, -3.9028, -3.9851, -4.0481, -3.7871, -4.0463, -4.4095, -4.0993, -4.2231, -4.6468, -4.5683, -4.6466, -2.7972, -3.6901, -2.7382, -3.7972, -3.9435, -3.9435, -4.1473, -4.164, -4.2433, -4.4072, -4.4306, -4.8574, -4.8574, -5.0785, -5.1102, -5.1102, -5.1688, -5.2553, -5.4484, -4.1734, -5.5466, -5.5466, -5.5466, -5.5466, -5.5466, -5.5595, -5.7983, -5.7983, -5.7983, -5.7983, -2.2216, -3.8289, -5.1797, -4.789, -4.7093, -4.2268, -3.7801, -3.6478, -3.7255, -4.0594, -4.4934, -4.4753, -4.6969, -4.1515, -4.669, -4.8608, -4.7824, -3.4302, -3.9038, -4.0581, -4.0996, -4.1278, -4.3451, -4.397, -4.4688, -4.5274, -4.6381, -4.8032, -4.8738, -4.9645, -4.9955, -5.1258, -5.1258, -5.1689, -2.9956, -5.2058, -2.9797, -5.48, -5.5621, -5.5621, -5.5987, -5.5987, -3.9501, -5.7604, -5.7604, -5.8138, -5.8138, -4.4778, -3.8573, -4.9236, -3.7423, -3.151, -3.1203, -3.5294, -5.068, -3.9384, -4.0438, -4.2023, -4.0296, -4.6788, -4.5198, -4.2969, -4.3403, -4.6297, -4.8554, -2.6838, -3.0022, -4.0687, -4.0995, -4.376, -4.4478, -2.7205, -4.6729, -4.7598, -2.8186, -5.0127, -5.0127, -3.1408, -5.1, -1.9423, -5.1255, -3.9061, -5.2152, -5.2554, -5.2651, -5.4236, -5.449, -5.449, -5.449, -5.449, -5.7007, -5.7007, -5.7007, -5.7007, -5.7007, -3.6036, -4.3025, -4.4427, -4.2761, -5.1891, -5.0617, -4.0356, -3.9156, -4.032, -4.7179, -4.6069, -5.0444, -4.8832, -5.0886, -3.2998, -3.5092, -4.0252, -4.0726, -4.1541, -2.1172, -4.161, -3.368, -4.4314, -4.4773, -4.5339, -2.502, -4.9794, -5.026, -1.6362, -5.4268, -5.5151, -5.5171, -5.606, -5.6497, -5.8741, -5.875, -6.0722, -5.18, -4.8183, -6.2883, -6.2883, -6.536, -6.786, -6.786, -3.5629, -4.2594, -3.9875, -5.1943, -4.4182, -4.7006, -4.9294, -5.077, -5.5423, -2.2979, -3.0352, -3.5145, -3.687, -3.9274, -4.1356, -4.2208, -4.244, -4.3567, -4.5842, -3.3952, -4.6359, -4.6764, -4.7072, -4.7572, -4.8674, -3.1506, -5.1081, -5.1706, -5.1728, -5.2343, -5.2755, -5.2822, -5.365, -5.4248, -2.8859, -5.5051, -5.6083, -5.6083, -5.6083, -4.3358, -4.7345, -4.0394, -4.0374, -4.1005, -4.0261, -4.6294, -3.9602, -4.6861, -4.9619, -4.7966, -4.4166, -4.9025, -3.4799, -2.2537, -3.7851, -2.8667, -4.2461, -4.4622, -4.6406, -4.6406, -4.6406, -4.8735, -4.8934, -4.8934, -4.9492, -4.9492, -5.1142, -5.1437, -5.2486, -5.3297, -5.3297, -5.3297, -5.3297, -5.3297, -5.3297, -5.3297, -5.3297, -5.3297, -5.3297, -5.3297, -5.3979, -5.4304, -4.2087, -4.1491, -4.3394, -3.7512, -4.172, -4.2143, -3.9675, -3.2369, -3.6993, -4.9025, -3.9094, -4.7173, -4.849, -3.9344, -4.3762, -4.7809, -4.4994, -4.6744, -4.8656, -3.6525, -3.8812, -4.2389, -4.9234, -2.8065, -5.0611, -5.1244, -2.179, -5.2085, -5.2115, -5.2633, -5.3774, -2.8156, -5.4257, -5.4543, -5.5077, -5.5077, -5.5077, -5.5077, -5.5077, -5.5077, -5.5077, -5.5077, -5.5077, -5.5595, -5.7543, -4.9563, -5.2014, -6.1942, -6.2579, -2.579, -2.4206, -3.6885, -3.5413, -4.0586, -4.7104, -4.5563, -3.9183, -4.7466, -3.8957, -4.9182, -4.4542, -5.0065, -5.1295, -5.3837, -2.3247, -2.9935, -3.5155, -4.0513, -4.1076, -4.1076, -4.1387, -4.1592, -4.2564, -4.372, -4.375, -4.4516, -4.6109, -4.6986, -4.747, -4.7646, -4.8829, -4.894, -4.894, -4.063, -5.1188, -5.1188, -5.2009, -2.5798, -5.3247, -5.3505, -5.3706, -5.3706, -5.4526, -5.4526, -3.1654, -3.6024, -3.9706, -4.3713, -3.4636, -4.8544, -4.5682, -5.0014, -5.0549, -5.0059, -3.459, -3.5992, -2.5398, -3.6696, -3.6818, -3.8153, -3.8551, -3.9688, -4.4414, -4.5226, -4.6159, -4.6865, -4.6865, -4.7654, -4.8163, -4.8601, -4.8692, -4.8886, -4.9339, -4.9799, -5.0485, -5.0621, -5.0621, -5.095, -3.1682, -5.1658, -5.1859, -5.2318, -5.2481, -5.3818, -3.5315, -4.3061, -4.6369, -4.2167, -3.798, -4.3874, -4.9299, -5.0273, -5.0012], \"loglift\": [30.0, 29.0, 28.0, 27.0, 26.0, 25.0, 24.0, 23.0, 22.0, 21.0, 20.0, 19.0, 18.0, 17.0, 16.0, 15.0, 14.0, 13.0, 12.0, 11.0, 10.0, 9.0, 8.0, 7.0, 6.0, 5.0, 4.0, 3.0, 2.0, 1.0, 3.1728, 3.1707, 3.1606, 3.1547, 3.1477, 3.1346, 3.1076, 3.1065, 3.097, 3.0968, 3.0801, 3.0739, 3.0735, 3.0609, 3.056, 3.0536, 3.0527, 3.0426, 3.0399, 3.0353, 3.0348, 3.0324, 3.0232, 3.0231, 3.0138, 3.0076, 3.0076, 2.9986, 2.9929, 2.9792, 2.8491, 2.9103, 2.5876, 2.5469, 2.5514, 1.5755, 2.3584, 2.0518, 2.4574, 1.3642, 1.6272, 1.7635, 1.9357, 1.1313, 1.168, 1.6963, 1.0718, 0.2859, 1.9888, 0.8901, 0.9189, 0.7162, 1.3443, 3.3172, 3.3042, 3.3001, 3.2698, 3.2596, 3.2501, 3.2474, 3.2463, 3.245, 3.238, 3.2372, 3.235, 3.2292, 3.2224, 3.2031, 3.1982, 3.1945, 3.1926, 3.1909, 3.1813, 3.1686, 3.1637, 3.1447, 3.1403, 3.1372, 3.1045, 3.1031, 3.0954, 3.0876, 3.084, 3.0601, 3.0339, 3.0147, 2.7885, 2.9178, 2.8005, 2.8249, 2.374, 2.5009, 2.6739, 2.5141, 2.5536, 2.2836, 2.3783, 2.7062, 1.88, 2.262, 2.5074, 1.9137, 1.9799, 2.5153, 1.7036, 1.623, 0.0805, 0.67, 1.5139, 3.4503, 3.4277, 3.4243, 3.4065, 3.3945, 3.3836, 3.378, 3.3656, 3.3254, 3.323, 3.2998, 3.2861, 3.2735, 3.2724, 3.2602, 3.2531, 3.2379, 3.2264, 3.2264, 3.2178, 3.2138, 3.2122, 3.1764, 3.1747, 3.1567, 3.1525, 3.1514, 3.1257, 3.1077, 3.0942, 3.0319, 2.8762, 2.8055, 2.6508, 2.9167, 2.3141, 2.6103, 2.3752, 2.4518, 2.3422, 2.7639, 2.1147, 2.3762, 2.0543, 2.2497, 1.8316, 1.614, 1.9581, 0.4402, 1.2881, 1.0389, 1.3585, 3.4613, 3.4571, 3.4326, 3.426, 3.4186, 3.4023, 3.4021, 3.3926, 3.3856, 3.3772, 3.3483, 3.348, 3.3224, 3.3224, 3.2576, 3.2489, 3.2489, 3.2489, 3.2489, 3.2367, 3.2262, 3.2224, 3.2198, 3.2198, 3.2035, 3.1948, 3.1894, 3.1813, 3.1746, 3.1712, 3.1639, 3.1568, 2.98, 2.9361, 2.5345, 2.7281, 2.7165, 3.0147, 2.9554, 2.1128, 2.3015, 2.3889, 2.9569, 1.25, 0.7502, 1.5872, 1.3684, 1.9693, 1.3824, 1.8265, 2.2792, 1.4125, 0.9026, 1.2598, 0.7387, 0.5641, 0.7466, 3.479, 3.4732, 3.4645, 3.4635, 3.4582, 3.4568, 3.4532, 3.451, 3.436, 3.4332, 3.3923, 3.3843, 3.3623, 3.3591, 3.3565, 3.3503, 3.3483, 3.3285, 3.3171, 3.3113, 3.3069, 3.2983, 3.2895, 3.286, 3.2829, 3.2819, 3.2646, 3.2593, 3.2558, 3.2519, 3.1819, 3.1962, 3.2007, 3.1846, 3.2276, 3.1057, 3.0315, 2.8562, 2.5717, 3.0317, 2.3342, 2.0713, 2.5509, 2.1053, 1.8129, 1.9208, 0.5992, 1.8865, 1.8936, 2.0563, 1.5854, 1.6192, 1.9816, 3.4993, 3.4756, 3.4753, 3.4702, 3.457, 3.4437, 3.437, 3.4119, 3.4019, 3.392, 3.3747, 3.3617, 3.3594, 3.3538, 3.3458, 3.3456, 3.3443, 3.3337, 3.3131, 3.277, 3.2457, 3.2414, 3.2339, 3.2275, 3.1862, 3.1862, 3.1862, 3.1862, 3.1862, 3.1862, 3.1852, 3.078, 2.975, 3.0833, 2.946, 2.8184, 2.7762, 2.4106, 2.6229, 2.4818, 1.9723, 2.6107, 2.0693, 1.9835, 2.1971, 1.1779, 1.8584, 2.416, 1.7625, 2.2141, 2.0824, 1.767, 0.5773, 2.1439, 1.2496, 1.7667, 3.5343, 3.5211, 3.5136, 3.4995, 3.4969, 3.4864, 3.4666, 3.4613, 3.4599, 3.4558, 3.452, 3.449, 3.4478, 3.4358, 3.4338, 3.4277, 3.4216, 3.4158, 3.4109, 3.3991, 3.3945, 3.3739, 3.3628, 3.3605, 3.3597, 3.3573, 3.3403, 3.3347, 3.3317, 3.3215, 3.2727, 3.2565, 3.1242, 2.7881, 2.9974, 3.0694, 3.0416, 2.7547, 2.273, 2.7645, 1.884, 1.8084, 2.3214, 0.865, 2.2773, 1.8331, 1.8902, 1.6148, 2.0267, 1.3516, 1.3629, 1.262, 0.932, 0.9235, 3.5491, 3.5454, 3.5222, 3.5069, 3.504, 3.4851, 3.4851, 3.4762, 3.4672, 3.4531, 3.4454, 3.4363, 3.4327, 3.403, 3.4029, 3.3992, 3.3896, 3.3796, 3.3793, 3.3754, 3.3588, 3.3414, 3.3414, 3.3286, 3.3247, 3.3235, 3.3102, 3.3083, 3.3009, 3.3009, 3.2255, 2.9982, 3.0429, 1.9167, 2.4069, 1.5192, 1.7781, 0.6456, 2.3207, 2.0661, 1.082, 1.1052, 1.2011, 1.8121, 0.4847, 3.5444, 3.5017, 3.4975, 3.4955, 3.4855, 3.485, 3.4765, 3.4757, 3.4644, 3.4594, 3.4586, 3.4531, 3.4501, 3.4354, 3.4332, 3.4287, 3.4264, 3.4109, 3.4094, 3.4059, 3.3989, 3.3969, 3.3932, 3.3932, 3.3924, 3.3876, 3.3876, 3.3689, 3.3602, 3.3397, 3.3141, 2.984, 3.1598, 2.9909, 3.104, 3.0973, 2.9043, 3.0409, 2.6422, 2.2787, 1.374, 0.3719, 2.0715, 1.2958, 1.5377, 1.0993, 1.1327, 0.6924, 3.5481, 3.5472, 3.5418, 3.5303, 3.5296, 3.5193, 3.4885, 3.4881, 3.4835, 3.4797, 3.4791, 3.4737, 3.4647, 3.463, 3.4624, 3.458, 3.4541, 3.4537, 3.4489, 3.4236, 3.4168, 3.4104, 3.3963, 3.3416, 3.338, 3.3336, 3.323, 3.3173, 3.3115, 3.3075, 3.2992, 3.2967, 3.2556, 3.2807, 3.2285, 3.2492, 3.1777, 2.9444, 3.1309, 3.1269, 3.2228, 2.5333, 2.6809, 2.645, 2.5171, 3.0244, 3.1943, 1.6914, 1.7545, 0.5791, 2.1122, 1.9022, 2.3345, 2.2416, 1.4438, 1.4423, 1.7234, 1.9643, 1.2276, 1.2726, 3.5793, 3.5651, 3.5512, 3.5509, 3.5172, 3.5101, 3.4962, 3.4816, 3.4776, 3.4743, 3.4649, 3.4603, 3.4573, 3.4532, 3.4348, 3.4232, 3.4232, 3.4181, 3.415, 3.4144, 3.3933, 3.3882, 3.3716, 3.3716, 3.3443, 3.3443, 3.3366, 3.3321, 3.3319, 3.3204, 2.9082, 3.0776, 3.0491, 2.5487, 2.7722, 2.4973, 2.4775, 1.8782, 1.8178, 2.0589, 1.5581, 1.6903, 0.5766, 0.5524, 1.0421, 1.0619, 1.3755, 1.242, 1.4355, 0.6483, 3.5652, 3.5384, 3.5362, 3.5046, 3.4956, 3.4896, 3.4832, 3.4806, 3.4651, 3.4641, 3.4566, 3.4524, 3.4462, 3.4445, 3.4257, 3.4236, 3.4205, 3.4118, 3.4101, 3.3969, 3.3878, 3.3776, 3.368, 3.3623, 3.3376, 3.3322, 3.3316, 3.3058, 3.292, 3.2854, 3.2685, 3.2587, 3.176, 3.1686, 3.266, 2.9082, 2.9822, 2.3638, 2.7072, 2.6497, 2.9935, 2.1528, 2.1205, 2.5685, 2.5997, 1.7842, 1.9934, 2.6577, 1.6625, 1.3862, 2.0974, 2.5782, 1.9538, 2.0091, 1.5285, 3.6059, 3.5977, 3.5691, 3.5648, 3.5642, 3.5559, 3.5428, 3.5281, 3.5223, 3.512, 3.503, 3.4681, 3.4385, 3.4385, 3.4339, 3.4339, 3.411, 3.3766, 3.3737, 3.3722, 3.35, 3.346, 3.3415, 3.3326, 3.315, 3.3002, 3.3001, 3.2992, 3.2992, 3.2992, 3.2118, 3.1795, 2.7697, 2.9279, 2.6626, 2.6513, 2.1208, 2.6896, 1.3169, 2.4674, 1.9848, 2.1065, 1.6302, 1.6405, 1.8701, 1.2928, 0.2427, 1.7684, 3.6304, 3.6155, 3.6111, 3.6019, 3.6011, 3.6005, 3.5951, 3.5921, 3.5904, 3.5788, 3.5787, 3.5693, 3.5628, 3.5549, 3.5522, 3.5441, 3.5177, 3.5177, 3.5011, 3.4829, 3.4561, 3.4389, 3.4291, 3.409, 3.4026, 3.3917, 3.3839, 3.3776, 3.357, 3.357, 3.3479, 3.3167, 3.2061, 3.1469, 3.0606, 2.7537, 2.5092, 2.6685, 2.754, 2.0609, 2.8475, 1.9787, 2.3658, 1.3997, 2.4995, 1.1889, 1.334, 1.6908, 1.4837, 1.8473, 1.5682, 1.0807, 3.6609, 3.6576, 3.6342, 3.6157, 3.6098, 3.608, 3.5961, 3.5912, 3.5739, 3.5701, 3.5668, 3.5482, 3.5066, 3.4355, 3.4244, 3.4135, 3.4004, 3.3983, 3.3811, 3.3635, 3.3635, 3.3635, 3.3635, 3.3612, 3.3418, 3.3415, 3.3318, 3.3202, 3.3202, 3.2971, 3.2944, 3.1751, 3.1395, 3.0683, 2.9897, 3.2039, 2.9992, 2.7334, 2.8363, 2.9412, 3.0912, 2.9042, 2.7018, 2.295, 1.435, 2.2216, 0.9221, 2.4723, 2.4257, 2.2294, 1.9328, 1.6291, 2.3254, 3.7128, 3.6949, 3.6918, 3.6698, 3.6576, 3.6246, 3.6148, 3.6113, 3.6, 3.5788, 3.5788, 3.5358, 3.5249, 3.5203, 3.5185, 3.508, 3.5079, 3.5059, 3.5056, 3.5022, 3.495, 3.4855, 3.4832, 3.4736, 3.4687, 3.4671, 3.4546, 3.4456, 3.4085, 3.3964, 3.3758, 3.2985, 3.3262, 3.0976, 3.0736, 3.1553, 2.5456, 2.4181, 2.441, 1.9575, 2.1766, 2.6081, 1.8072, 1.6676, 2.0974, 2.0136, 1.9219, 1.8168, 1.6378, 1.7624, 0.2754, 1.0076, 3.7256, 3.7091, 3.6995, 3.672, 3.6646, 3.6456, 3.6453, 3.6453, 3.6349, 3.621, 3.6204, 3.6141, 3.612, 3.606, 3.6016, 3.5801, 3.575, 3.5719, 3.5576, 3.5449, 3.5421, 3.5387, 3.5366, 3.5307, 3.5212, 3.507, 3.507, 3.5021, 3.4973, 3.4956, 3.4851, 3.3723, 3.3074, 3.3656, 3.406, 2.9056, 3.2089, 3.0634, 2.4914, 2.4981, 1.9998, 2.1985, 1.8308, 2.3351, 1.6979, 1.5708, 1.9607, 2.3928, 2.2213, 1.2065, 1.2258, 1.3727, 2.015, 3.7776, 3.7536, 3.7076, 3.6987, 3.693, 3.6807, 3.6752, 3.6444, 3.6076, 3.5972, 3.59, 3.59, 3.5777, 3.5408, 3.5408, 3.5141, 3.489, 3.4849, 3.4809, 3.4296, 3.4296, 3.4296, 3.4296, 3.4296, 3.4296, 3.4275, 3.4088, 3.4088, 3.3664, 3.3625, 3.3223, 3.2466, 2.9473, 2.8436, 3.0314, 2.4783, 3.1787, 2.3636, 2.2867, 1.9112, 1.8379, 2.0436, 2.2204, 1.404, 1.2461, 1.274, 1.7162, 1.8611, 1.7949, 2.703, 0.6743, 1.8455, 0.6809, 1.2467, 3.7757, 3.741, 3.7226, 3.7192, 3.7125, 3.7076, 3.6953, 3.6952, 3.6868, 3.6832, 3.6671, 3.6645, 3.6639, 3.6639, 3.6638, 3.6608, 3.6607, 3.6586, 3.6525, 3.6126, 3.6062, 3.5895, 3.5689, 3.5608, 3.5515, 3.5515, 3.5365, 3.5235, 3.4962, 3.4914, 3.3684, 3.1382, 2.8898, 2.8422, 3.3983, 2.7337, 2.2828, 2.4173, 2.9247, 2.3792, 2.1863, 1.6983, 2.1453, 1.6944, 2.7358, 3.0244, 1.3439, 2.2838, 0.0618, 1.786, 2.1505, 1.0742, 3.7956, 3.7841, 3.7839, 3.7511, 3.7411, 3.7309, 3.713, 3.7064, 3.7019, 3.6887, 3.6791, 3.6662, 3.6593, 3.6541, 3.6541, 3.6459, 3.6442, 3.6427, 3.6179, 3.6124, 3.5845, 3.5831, 3.5831, 3.5831, 3.5831, 3.5831, 3.5804, 3.5722, 3.5642, 3.5636, 3.4846, 3.2668, 3.0531, 3.0479, 2.5908, 2.0304, 2.3699, 1.5434, 2.2927, 1.4894, 2.4487, 0.6408, 1.3505, 1.2942, 1.9463, 1.2703, 1.8402, 1.8241, 0.9395, 1.3561, 3.8014, 3.7998, 3.7915, 3.7882, 3.7853, 3.7837, 3.7745, 3.7725, 3.7691, 3.7629, 3.7591, 3.7426, 3.7302, 3.7256, 3.7008, 3.6826, 3.6824, 3.6809, 3.6759, 3.6715, 3.6676, 3.6374, 3.6374, 3.6279, 3.5765, 3.5597, 3.5511, 3.5509, 3.548, 3.5295, 3.4194, 3.4861, 3.309, 3.3315, 3.102, 3.2211, 3.3102, 3.1808, 2.4935, 2.6076, 2.0005, 2.7589, 2.5129, 1.5317, 2.3995, 1.4708, 2.9211, 0.697, 1.7646, -0.0673, 0.8385, 3.8389, 3.8318, 3.8124, 3.8118, 3.8036, 3.8005, 3.7885, 3.7855, 3.7829, 3.7789, 3.7755, 3.7753, 3.7662, 3.7659, 3.7597, 3.7475, 3.7435, 3.741, 3.7384, 3.7354, 3.7202, 3.7202, 3.7175, 3.7162, 3.7141, 3.7114, 3.7055, 3.7007, 3.6966, 3.6963, 3.6918, 3.6267, 3.6344, 3.1481, 2.9369, 3.295, 3.2368, 3.1215, 1.7525, 2.7019, 3.8648, 3.8446, 3.8222, 3.8118, 3.7919, 3.7895, 3.7854, 3.7793, 3.7597, 3.7412, 3.7402, 3.7355, 3.7334, 3.7283, 3.7129, 3.7121, 3.7074, 3.7031, 3.7026, 3.6917, 3.6842, 3.6783, 3.6711, 3.6702, 3.6611, 3.6592, 3.6544, 3.6517, 3.6481, 3.6199, 3.5456, 3.4364, 3.4321, 2.9564, 3.2997, 3.2199, 2.6637, 2.7575, 2.4172, 2.6863, 2.8012, 2.7414, 2.1444, 1.8361, 2.6924, 2.7882, 1.5095, 1.3233, 1.822, 1.0917, 1.7376, 1.8695, 3.8568, 3.8361, 3.8352, 3.835, 3.8345, 3.8305, 3.8235, 3.8153, 3.7914, 3.7913, 3.7912, 3.7908, 3.7902, 3.7894, 3.7893, 3.781, 3.7805, 3.7802, 3.7795, 3.7795, 3.7792, 3.7768, 3.7763, 3.7726, 3.7666, 3.7618, 3.752, 3.7511, 3.7406, 3.724, 3.6954, 3.6601, 3.651, 3.3155, 3.2193, 3.5902, 3.348, 2.9101, 3.0707, 1.4194, 3.8772, 3.8567, 3.8492, 3.8413, 3.7839, 3.7694, 3.754, 3.7358, 3.735, 3.7223, 3.7184, 3.6924, 3.6854, 3.6639, 3.6624, 3.6565, 3.6393, 3.6037, 3.5533, 3.5533, 3.5533, 3.5382, 3.5378, 3.524, 3.473, 3.473, 3.473, 3.473, 3.473, 3.473, 3.3955, 3.1384, 3.3349, 3.3019, 3.0384, 2.968, 2.9944, 2.5853, 2.5274, 2.2277, 3.2009, 2.7944, 2.5616, 1.8239, 1.7926, 1.622, 2.6818, 2.0475, 1.3962, 1.5886, 1.5161, 1.6497, 0.6856, -0.1234, 0.6787, 1.4341, 0.836, 3.8917, 3.8527, 3.8519, 3.8471, 3.8357, 3.8329, 3.8255, 3.8243, 3.8118, 3.8085, 3.8034, 3.802, 3.8002, 3.8002, 3.7972, 3.7922, 3.7848, 3.783, 3.765, 3.7406, 3.7298, 3.7298, 3.7261, 3.694, 3.6864, 3.6712, 3.6484, 3.6431, 3.6254, 3.6187, 3.4866, 3.412, 3.3417, 3.3378, 3.285, 2.3176, 2.9522, 2.7946, 2.9665, 1.9134, 2.2693, 2.3058, 2.9532, 1.3145, 2.4565, 1.8572, 2.7401, 1.7074, 1.8789, 1.9646, 2.3572, 2.7404, 0.1762, 1.1203, 0.9882, 1.9161, 3.948, 3.9411, 3.9324, 3.9204, 3.9084, 3.8983, 3.8709, 3.8555, 3.8442, 3.8301, 3.8194, 3.8191, 3.8169, 3.8161, 3.8084, 3.8045, 3.7993, 3.7848, 3.7829, 3.7798, 3.7791, 3.7494, 3.7446, 3.7425, 3.7425, 3.7425, 3.7384, 3.7362, 3.7299, 3.7072, 3.6823, 3.6587, 3.5554, 2.9819, 3.376, 2.9973, 3.2292, 1.4002, 1.687, 2.6031, 2.8185, 1.844, 1.874, 1.6513, 0.8705, 1.1253, 1.4557, 2.1186, 1.0155, 1.093, 4.0123, 4.0118, 3.9948, 3.96, 3.9544, 3.9384, 3.9189, 3.9039, 3.8921, 3.8707, 3.8649, 3.8566, 3.8012, 3.7993, 3.7993, 3.7993, 3.7775, 3.7418, 3.7418, 3.7149, 3.6924, 3.6924, 3.6924, 3.6924, 3.6924, 3.6924, 3.6924, 3.6924, 3.6924, 3.6924, 3.6134, 3.5352, 3.5901, 3.3169, 3.3318, 2.6041, 3.0051, 0.9436, 0.7324, 1.4347, 1.5279, 1.5222, 1.9999, 0.9213, 0.7863, 1.9061, 0.825, 1.7738, 4.0066, 3.9516, 3.9506, 3.9478, 3.9352, 3.9318, 3.9253, 3.913, 3.9073, 3.8993, 3.8958, 3.8958, 3.8913, 3.8849, 3.8815, 3.8608, 3.8445, 3.8435, 3.8267, 3.8267, 3.8267, 3.8129, 3.7927, 3.7925, 3.792, 3.7756, 3.774, 3.774, 3.7609, 3.7609, 3.6987, 3.5049, 3.3997, 3.1515, 3.3558, 3.2066, 3.4246, 3.5378, 3.5806, 3.1365, 2.893, 2.2018, 2.7844, 3.1233, 2.0449, 1.8188, 2.4486, 1.0001, 0.078, 1.988, 2.7619, 2.0424, 4.022, 4.0185, 4.0106, 3.9961, 3.9895, 3.964, 3.9564, 3.9529, 3.9486, 3.9476, 3.9425, 3.9417, 3.9274, 3.9237, 3.8717, 3.8566, 3.8534, 3.8237, 3.8237, 3.8192, 3.8077, 3.7817, 3.7767, 3.76, 3.76, 3.76, 3.76, 3.76, 3.7542, 3.7429, 3.7316, 3.7174, 3.6643, 3.6142, 3.46, 3.2857, 3.2877, 2.8087, 3.0725, 2.5063, 0.991, 2.332, 1.5194, 2.0722, 1.8756, 1.3424, 2.0123, 2.595, 1.1388, 2.7208, 1.3586, 1.6838, 4.0837, 4.0714, 4.0533, 4.05, 4.0413, 3.9975, 3.9907, 3.9776, 3.9464, 3.9411, 3.9292, 3.9242, 3.9242, 3.9017, 3.9009, 3.898, 3.8975, 3.8856, 3.8733, 3.8733, 3.8658, 3.8458, 3.8431, 3.8424, 3.8386, 3.8115, 3.7962, 3.7587, 3.7587, 3.7587, 3.7236, 3.6729, 3.6714, 3.3595, 2.8465, 2.9343, 2.9439, 3.2319, 3.238, 2.9812, 3.0002, 3.0555, 2.8502, 2.8721, 2.2153, 2.506, 1.8065, 1.6648, 0.2115, 1.0181, 1.7608, 1.6149, -0.3477, 0.6405, 4.1416, 4.1071, 4.1069, 4.1046, 4.0265, 4.0133, 4.0086, 4.0078, 4.0065, 4.0016, 3.9945, 3.9886, 3.9796, 3.9666, 3.9666, 3.9666, 3.9598, 3.9345, 3.9253, 3.9207, 3.9109, 3.9109, 3.9091, 3.9048, 3.8991, 3.8909, 3.8874, 3.8622, 3.8503, 3.841, 3.8304, 3.8333, 3.7678, 3.4314, 3.576, 3.6056, 3.5765, 3.5817, 3.2665, 2.3623, 0.9648, 1.1668, 1.1346, 0.845, 2.2399, 1.132, 4.1595, 4.1581, 4.1288, 4.1234, 4.1018, 4.0813, 4.0648, 4.051, 4.0474, 4.0228, 4.0174, 4.0024, 4.0021, 4.0007, 3.9719, 3.9619, 3.9377, 3.934, 3.9328, 3.8847, 3.8405, 3.8405, 3.8405, 3.8405, 3.8382, 3.8256, 3.8112, 3.8058, 3.7845, 3.7397, 3.7147, 3.6618, 3.2791, 2.7961, 3.165, 2.4971, 3.1284, 3.0557, 2.6809, 2.3024, 2.4368, 1.8805, 2.5051, 1.7368, 1.2953, 0.238, 0.819, 3.2457, 4.1626, 4.114, 4.1094, 4.1064, 4.1057, 4.1049, 4.0987, 4.0987, 4.0865, 4.0839, 4.0807, 4.0792, 4.0783, 4.0693, 4.0636, 4.0621, 4.0621, 4.0525, 4.0457, 4.0381, 4.0325, 4.0269, 4.0269, 4.0269, 4.0166, 3.9902, 3.9812, 3.9602, 3.9602, 3.9602, 3.6194, 3.059, 3.0447, 3.3137, 2.643, 2.7092, 2.8123, 1.7774, 1.228, 4.1278, 4.0962, 4.0856, 4.0783, 4.0772, 4.0768, 4.0664, 4.0546, 4.0501, 4.0297, 4.0227, 4.0112, 4.0061, 4.005, 3.986, 3.9798, 3.9798, 3.9684, 3.9667, 3.9487, 3.9388, 3.9381, 3.907, 3.8916, 3.8916, 3.8916, 3.8601, 3.8414, 3.8271, 3.8211, 3.7755, 3.5906, 2.97, 2.8688, 3.4182, 3.5219, 2.8954, 2.998, 3.283, 0.9747, 2.3457, 2.2019, 1.7578, 2.0017, 1.5194, 3.1911, 1.0517, 2.4619, 1.5201, 1.4789, 4.1522, 4.1401, 4.1358, 4.1243, 4.0792, 4.0775, 4.0757, 4.0752, 4.0461, 4.0411, 4.0411, 4.0394, 4.0158, 4.0157, 3.9894, 3.962, 3.9523, 3.9305, 3.9137, 3.9044, 3.8871, 3.8785, 3.8609, 3.8609, 3.8588, 3.8538, 3.8534, 3.8502, 3.8447, 3.7812, 3.7371, 3.594, 3.5174, 3.4544, 3.1966, 3.1178, 2.4156, 2.5974, 3.2917, 3.0487, 3.148, 3.1173, 3.0629, 1.8409, 1.3192, 1.3186, 1.0234, 1.8582, -0.3199, 4.2362, 4.1462, 4.1374, 4.13, 4.1236, 4.1154, 4.1148, 4.0875, 4.0843, 4.0528, 4.0385, 4.0233, 4.019, 4.0186, 3.9988, 3.9951, 3.9892, 3.9847, 3.9832, 3.9755, 3.9687, 3.9557, 3.9499, 3.9284, 3.9284, 3.893, 3.893, 3.8854, 3.841, 3.7963, 3.7919, 3.661, 3.5685, 3.4905, 3.2478, 3.2627, 3.1339, 3.1452, 2.5494, 2.002, 0.6192, 2.0989, 1.084, 1.0016, 0.7364, 1.3816, 1.7162, 4.2414, 4.237, 4.2125, 4.1702, 4.1646, 4.1585, 4.1395, 4.1347, 4.1264, 4.1245, 4.1175, 4.1153, 4.092, 4.0862, 4.0768, 4.075, 4.0686, 4.0627, 4.0337, 4.0325, 4.0151, 4.0037, 4.0037, 3.975, 3.958, 3.958, 3.9557, 3.8663, 3.8445, 3.8445, 3.6548, 3.2553, 2.2206, 2.6447, 2.5177, 3.2977, 2.2982, 1.0849, 2.5505, 2.9736, 2.1525, 0.9313, 1.9739, 1.7695, 1.5468, 2.0569, 2.3733, 1.3511, 1.0549, 2.1833, 4.2706, 4.2601, 4.2585, 4.2146, 4.191, 4.1805, 4.1782, 4.1746, 4.1393, 4.0906, 4.0761, 4.0687, 4.06, 4.0581, 4.0566, 4.0509, 4.0291, 4.026, 4.0063, 4.0063, 3.9837, 3.9837, 3.9837, 3.9837, 3.9837, 3.9837, 3.9837, 3.9837, 3.9637, 3.9506, 3.8862, 3.8147, 3.7762, 3.7475, 3.7313, 3.8502, 3.468, 3.1529, 2.7654, 2.9699, 3.181, 2.7825, 2.014, 1.6205, 2.1127, 1.9185, 2.0553, 1.7012, 1.6131, 1.4342, 2.7724, 1.5972, 1.6915, 4.3185, 4.3092, 4.2752, 4.2675, 4.2589, 4.2508, 4.2311, 4.2269, 4.2203, 4.192, 4.1874, 4.1668, 4.1646, 4.1475, 4.142, 4.142, 4.1177, 4.1082, 4.1075, 4.0929, 4.0929, 4.0646, 4.0529, 4.0489, 3.9874, 3.982, 3.982, 3.982, 3.982, 3.982, 3.978, 3.9635, 3.7463, 3.3193, 3.4607, 3.3642, 3.0334, 3.3052, 3.1279, 3.5479, 2.9798, 2.3391, 2.4685, 1.2151, 2.0765, 4.2761, 4.2669, 4.2636, 4.2625, 4.2361, 4.2298, 4.2193, 4.2138, 4.2125, 4.1894, 4.1881, 4.1881, 4.1749, 4.1606, 4.1594, 4.1374, 4.1214, 4.1099, 4.0906, 4.0867, 4.0546, 4.0295, 4.0135, 4.005, 3.9935, 3.9917, 3.9893, 3.9892, 3.9565, 3.9565, 3.8834, 3.4793, 3.6124, 2.9481, 3.4786, 3.5297, 2.1822, 2.4861, 2.4679, 2.409, 1.9107, 1.7615, 2.684, 1.3703, 0.9182, 3.0109, 1.6537, 2.0537, 4.3333, 4.2987, 4.295, 4.2922, 4.2822, 4.2822, 4.2659, 4.2644, 4.2571, 4.2401, 4.2375, 4.1788, 4.1788, 4.139, 4.1327, 4.1327, 4.1206, 4.1017, 4.0547, 4.0543, 4.0281, 4.0281, 4.0281, 4.0281, 4.0281, 4.0244, 3.9507, 3.9507, 3.9507, 3.9507, 3.8773, 3.785, 3.778, 3.6486, 3.5743, 3.3527, 2.7238, 2.4702, 2.2424, 2.38, 2.4658, 2.0864, 2.2582, 0.2463, 1.532, 2.1259, 1.0633, 4.3544, 4.3264, 4.3142, 4.3106, 4.3081, 4.2865, 4.2807, 4.2722, 4.2648, 4.2499, 4.2248, 4.2129, 4.1967, 4.1908, 4.1646, 4.1646, 4.1553, 4.1487, 4.1471, 4.145, 4.0785, 4.055, 4.055, 4.0442, 4.0442, 4.0253, 3.9927, 3.9927, 3.9744, 3.9744, 3.9299, 3.8281, 3.9004, 3.6461, 3.3274, 3.1046, 3.1895, 3.7231, 2.7409, 2.6808, 2.6298, 2.2604, 3.1911, 2.654, 2.0421, 1.8476, 1.9101, 1.8201, 4.5053, 4.4957, 4.4306, 4.4276, 4.3967, 4.3873, 4.3593, 4.354, 4.3393, 4.3017, 4.2902, 4.2902, 4.2806, 4.2708, 4.2693, 4.2649, 4.2524, 4.2432, 4.233, 4.2304, 4.1868, 4.1793, 4.1793, 4.1793, 4.1793, 4.0977, 4.0977, 4.0977, 4.0977, 4.0977, 3.9567, 3.6514, 3.5679, 3.1158, 3.723, 3.5909, 2.1864, 1.8685, 2.0368, 2.4693, 1.8421, 2.5407, -0.9145, 2.1068, 4.4842, 4.4733, 4.4355, 4.4311, 4.4229, 4.4226, 4.4222, 4.4173, 4.3904, 4.3842, 4.3763, 4.3003, 4.2984, 4.2885, 4.2666, 4.1872, 4.1606, 4.16, 4.1315, 4.1169, 4.0348, 4.0345, 3.9525, 3.9131, 3.8823, 3.8517, 3.8517, 3.7217, 3.5752, 3.5752, 2.6398, 2.3694, 2.1289, 2.7783, 1.8672, 1.7388, 1.8069, 0.5522, 1.7117, 4.5694, 4.5491, 4.5258, 4.5144, 4.4952, 4.4749, 4.4654, 4.4626, 4.4487, 4.4159, 4.411, 4.4076, 4.4008, 4.3954, 4.3865, 4.3654, 4.3422, 4.3125, 4.297, 4.2965, 4.2805, 4.2695, 4.2676, 4.2442, 4.2265, 4.2137, 4.2014, 4.1671, 4.1671, 4.1671, 4.1031, 4.0918, 3.6702, 3.5655, 3.4996, 3.4466, 3.7767, 2.696, 3.2931, 3.6389, 3.0012, 1.1744, 2.0795, 4.5721, 4.5708, 4.5504, 4.5041, 4.5038, 4.4745, 4.4459, 4.4459, 4.4459, 4.4016, 4.3974, 4.3974, 4.3853, 4.3853, 4.3464, 4.3389, 4.3109, 4.2878, 4.2878, 4.2878, 4.2878, 4.2878, 4.2878, 4.2878, 4.2878, 4.2878, 4.2878, 4.2878, 4.2673, 4.2571, 4.2095, 4.1919, 4.1708, 4.0951, 4.0811, 4.0755, 4.0223, 3.8547, 3.4822, 3.9972, 3.2859, 3.775, 3.5721, 1.755, 1.9138, 3.0874, 1.4017, 2.3076, 2.9441, 4.6334, 4.6137, 4.5734, 4.452, 4.4353, 4.4186, 4.402, 4.3832, 4.3787, 4.3779, 4.3628, 4.3277, 4.3212, 4.3119, 4.3024, 4.284, 4.284, 4.284, 4.284, 4.284, 4.284, 4.284, 4.284, 4.284, 4.2656, 4.1907, 4.1254, 4.0313, 3.9877, 3.9542, 3.9352, 3.8701, 3.9038, 3.8217, 3.8621, 3.7207, 3.1832, 2.2347, 3.2326, 0.502, 2.6957, 0.6871, 0.6196, 1.0019, 2.4164, 4.824, 4.8005, 4.7685, 4.715, 4.7078, 4.7078, 4.7036, 4.7008, 4.6868, 4.6686, 4.6681, 4.6551, 4.625, 4.6068, 4.5962, 4.5922, 4.5642, 4.5614, 4.5614, 4.5162, 4.5003, 4.5003, 4.4754, 4.457, 4.4351, 4.4263, 4.4193, 4.4193, 4.3899, 4.3899, 4.2187, 3.8893, 3.4789, 3.1624, 0.9341, 3.2, 1.8425, 3.1752, 2.9613, 1.1471, 4.963, 4.9497, 4.9429, 4.9423, 4.941, 4.9256, 4.9206, 4.9055, 4.8242, 4.8069, 4.7855, 4.7683, 4.7683, 4.748, 4.7342, 4.722, 4.7194, 4.7138, 4.7004, 4.6864, 4.6647, 4.6603, 4.6603, 4.6494, 4.6413, 4.6252, 4.6181, 4.6016, 4.5956, 4.5441, 4.4225, 3.5749, 3.8999, 2.8716, 1.6716, 1.8153, 3.1052, 3.3107, 1.9854]}, \"token.table\": {\"Topic\": [24, 2, 6, 14, 15, 16, 17, 21, 29, 30, 33, 38, 42, 35, 17, 37, 11, 27, 43, 2, 6, 9, 11, 16, 27, 28, 38, 43, 17, 17, 22, 43, 44, 50, 20, 20, 18, 22, 50, 34, 7, 21, 44, 50, 5, 37, 6, 2, 4, 12, 17, 46, 47, 16, 21, 3, 6, 9, 11, 21, 24, 21, 34, 48, 40, 2, 45, 1, 39, 49, 24, 23, 26, 34, 48, 20, 3, 17, 23, 2, 14, 15, 16, 20, 38, 42, 47, 36, 7, 37, 3, 7, 11, 12, 16, 19, 20, 26, 29, 1, 2, 8, 14, 19, 23, 10, 13, 27, 9, 16, 17, 7, 25, 6, 46, 19, 20, 20, 25, 35, 5, 13, 17, 19, 26, 27, 30, 10, 13, 40, 5, 33, 23, 43, 3, 7, 12, 14, 33, 6, 6, 47, 50, 36, 1, 5, 14, 26, 34, 37, 3, 47, 46, 2, 4, 6, 12, 14, 15, 18, 19, 20, 21, 29, 32, 33, 38, 39, 41, 48, 4, 9, 46, 19, 25, 6, 17, 39, 43, 25, 42, 11, 16, 17, 12, 32, 18, 35, 28, 34, 37, 1, 40, 8, 5, 13, 19, 36, 45, 21, 43, 15, 45, 34, 5, 16, 23, 26, 29, 37, 39, 19, 24, 20, 21, 1, 20, 25, 24, 2, 5, 11, 14, 16, 42, 42, 35, 26, 38, 40, 26, 48, 13, 26, 17, 2, 20, 48, 8, 24, 15, 24, 26, 34, 34, 8, 9, 19, 32, 33, 50, 44, 4, 6, 10, 41, 48, 41, 12, 18, 31, 4, 5, 21, 26, 41, 5, 14, 27, 28, 16, 36, 47, 8, 14, 40, 2, 3, 6, 9, 11, 12, 16, 25, 27, 39, 30, 7, 12, 32, 34, 35, 36, 9, 27, 39, 17, 37, 42, 10, 38, 2, 30, 5, 39, 10, 21, 2, 16, 33, 50, 13, 39, 43, 18, 6, 22, 27, 6, 19, 25, 50, 50, 4, 47, 49, 9, 21, 36, 27, 5, 16, 2, 5, 7, 34, 38, 47, 10, 36, 7, 13, 9, 2, 24, 14, 37, 42, 37, 14, 15, 26, 34, 5, 4, 17, 25, 4, 34, 45, 21, 21, 37, 30, 44, 2, 16, 17, 25, 26, 30, 33, 49, 46, 3, 6, 8, 12, 6, 7, 11, 16, 18, 19, 20, 33, 30, 38, 22, 42, 26, 29, 40, 26, 43, 10, 43, 47, 21, 8, 9, 10, 11, 14, 21, 23, 24, 25, 37, 41, 18, 50, 42, 41, 45, 1, 6, 7, 8, 9, 17, 26, 27, 29, 19, 43, 1, 48, 13, 28, 47, 15, 44, 23, 4, 5, 10, 12, 13, 17, 23, 1, 31, 7, 16, 33, 7, 9, 10, 12, 25, 41, 22, 9, 8, 26, 50, 19, 30, 41, 43, 17, 2, 27, 20, 9, 4, 9, 11, 14, 17, 25, 31, 34, 36, 44, 13, 43, 27, 16, 28, 34, 45, 49, 6, 18, 18, 23, 2, 3, 7, 23, 25, 38, 22, 26, 30, 37, 27, 10, 17, 29, 30, 28, 38, 36, 14, 1, 8, 9, 10, 1, 16, 36, 43, 48, 41, 46, 40, 20, 3, 26, 39, 43, 47, 2, 5, 16, 32, 40, 40, 26, 22, 28, 35, 28, 19, 50, 11, 41, 1, 5, 6, 8, 9, 10, 11, 13, 19, 23, 25, 26, 27, 28, 30, 31, 32, 35, 37, 44, 46, 1, 12, 23, 1, 9, 17, 31, 5, 9, 11, 31, 2, 5, 18, 21, 27, 32, 33, 38, 10, 29, 27, 17, 47, 2, 7, 11, 34, 20, 48, 21, 31, 7, 35, 10, 25, 15, 39, 24, 32, 17, 7, 1, 1, 6, 7, 8, 19, 33, 12, 17, 1, 7, 16, 14, 6, 45, 33, 44, 3, 22, 33, 36, 23, 4, 15, 26, 32, 37, 30, 2, 12, 32, 7, 41, 20, 11, 3, 20, 36, 9, 21, 50, 18, 39, 33, 45, 41, 29, 25, 27, 30, 12, 42, 3, 12, 21, 25, 33, 38, 9, 47, 8, 37, 16, 41, 9, 35, 35, 21, 39, 27, 3, 10, 15, 28, 31, 34, 49, 3, 26, 38, 4, 3, 9, 30, 7, 14, 18, 20, 24, 31, 35, 38, 40, 47, 1, 11, 2, 47, 3, 4, 7, 10, 19, 47, 21, 3, 1, 6, 36, 46, 26, 10, 1, 2, 5, 7, 9, 10, 12, 13, 14, 16, 19, 20, 23, 43, 50, 9, 23, 14, 31, 6, 10, 12, 1, 49, 28, 8, 10, 4, 25, 46, 4, 8, 11, 14, 15, 16, 17, 18, 26, 36, 39, 40, 41, 49, 42, 11, 25, 3, 16, 24, 38, 29, 12, 3, 39, 13, 4, 6, 7, 16, 23, 29, 43, 46, 4, 6, 13, 15, 27, 3, 35, 21, 27, 42, 39, 38, 6, 15, 21, 23, 27, 42, 3, 27, 31, 41, 8, 50, 19, 14, 22, 4, 14, 7, 19, 45, 7, 11, 13, 17, 21, 29, 31, 36, 38, 39, 41, 5, 7, 9, 36, 28, 4, 7, 37, 15, 11, 17, 30, 47, 49, 14, 9, 11, 13, 49, 31, 3, 8, 10, 21, 37, 40, 43, 16, 18, 25, 3, 13, 14, 19, 21, 34, 4, 18, 12, 10, 3, 25, 50, 16, 41, 35, 22, 31, 31, 17, 43, 39, 12, 15, 1, 16, 47, 40, 46, 2, 18, 25, 39, 30, 29, 6, 10, 14, 16, 4, 32, 48, 34, 46, 26, 21, 29, 34, 25, 9, 10, 3, 23, 49, 8, 12, 18, 39, 12, 15, 16, 9, 15, 32, 47, 27, 45, 45, 23, 47, 1, 10, 13, 47, 1, 3, 10, 11, 17, 18, 26, 27, 36, 46, 24, 47, 2, 48, 19, 15, 21, 7, 36, 1, 30, 38, 49, 14, 31, 40, 20, 25, 26, 23, 15, 39, 41, 50, 5, 17, 21, 37, 40, 45, 46, 7, 46, 23, 46, 29, 44, 42, 42, 5, 16, 20, 25, 38, 41, 12, 2, 29, 36, 13, 41, 2, 21, 8, 11, 8, 7, 9, 18, 27, 31, 18, 33, 41, 12, 31, 33, 34, 49, 8, 33, 8, 10, 15, 40, 10, 19, 11, 30, 40, 11, 21, 17, 26, 20, 12, 7, 2, 3, 5, 10, 27, 38, 3, 46, 49, 14, 20, 49, 33, 5, 20, 22, 47, 4, 20, 19, 28, 10, 30, 37, 5, 3, 6, 7, 14, 15, 44, 49, 19, 17, 16, 23, 19, 47, 10, 37, 19, 20, 38, 2, 3, 6, 19, 25, 31, 3, 29, 14, 13, 38, 4, 9, 20, 25, 43, 24, 42, 23, 20, 42, 48, 10, 39, 46, 7, 25, 26, 9, 3, 15, 36, 19, 27, 43, 8, 19, 21, 50, 17, 1, 3, 4, 5, 19, 25, 35, 39, 42, 29, 2, 15, 7, 10, 14, 17, 23, 27, 30, 31, 41, 42, 40, 41, 39, 38, 9, 10, 6, 13, 36, 38, 1, 5, 10, 11, 13, 16, 21, 27, 28, 32, 36, 18, 1, 4, 23, 50, 7, 36, 2, 15, 30, 31, 32, 35, 40, 40, 27, 3, 11, 19, 23, 27, 39, 41, 35, 40, 33, 36, 1, 11, 26, 27, 36, 8, 46, 2, 3, 19, 47, 4, 7, 9, 12, 48, 9, 48, 8, 24, 32, 14, 11, 17, 14, 5, 1, 7, 41, 19, 15, 30, 1, 30, 49, 4, 21, 8, 30, 1, 4, 8, 9, 16, 25, 42, 24, 27, 5, 36, 37, 25, 5, 7, 9, 26, 15, 44, 14, 23, 29, 33, 38, 43, 44, 47, 3, 12, 15, 46, 35, 30, 42, 2, 18, 16, 3, 15, 16, 13, 27, 13, 25, 31, 3, 8, 10, 16, 25, 40, 4, 15, 20, 25, 38, 19, 32, 36, 15, 4, 13, 26, 29, 17, 25, 1, 2, 3, 5, 7, 8, 9, 10, 12, 13, 14, 16, 17, 20, 23, 29, 32, 33, 37, 38, 41, 50, 1, 3, 19, 25, 37, 39, 33, 4, 24, 25, 44, 1, 10, 12, 16, 22, 25, 26, 35, 36, 32, 15, 12, 23, 33, 36, 40, 12, 32, 23, 49, 49, 34, 7, 44, 4, 50, 29, 11, 2, 20, 4, 45, 1, 2, 8, 12, 19, 20, 21, 28, 35, 47, 31, 36, 24, 8, 44, 8, 15, 17, 25, 28, 45, 41, 5, 25, 29, 42, 48, 49, 13, 19, 31, 2, 4, 32, 48, 28, 4, 2, 7, 15, 17, 20, 12, 33, 6, 33, 24, 28, 5, 38, 31, 36, 19, 31, 3, 16, 17, 6, 10, 37, 28, 4, 9, 23, 27, 50, 40, 1, 2, 39, 33, 5, 19, 44, 3, 16, 39, 22, 35, 35, 1, 17, 3, 1, 3, 5, 7, 12, 16, 25, 34, 35, 44, 19, 8, 20, 21, 1, 2, 9, 10, 12, 13, 15, 20, 25, 26, 27, 45, 47, 26, 26, 28, 2, 5, 10, 14, 17, 19, 21, 26, 30, 33, 35, 36, 17, 2, 5, 10, 12, 14, 16, 17, 26, 27, 43, 48, 31, 11, 25, 21, 40, 39, 22, 29, 28, 18, 19, 37, 14, 44, 2, 11, 41, 27, 22, 23, 12, 28, 37, 47, 35, 43, 5, 25, 15, 39, 46, 21, 31, 40, 37, 7, 32, 34, 2, 17, 43, 38, 28, 38, 48, 14, 24, 5, 14, 33, 37, 46, 4, 9, 13, 19, 21, 30, 32, 33, 5, 44, 13, 34, 9, 15, 23, 2, 16, 26, 19, 23, 21, 5, 9, 15, 32, 14, 29, 14, 18, 30, 32, 23, 44, 1, 3, 5, 8, 12, 16, 30, 33, 35, 38, 43, 2, 3, 5, 18, 44, 43, 22, 13, 2, 3, 13, 18, 38, 42, 18, 2, 16, 18, 10, 5, 9, 3, 36, 6, 27, 48, 24, 33, 8, 9, 10, 11, 12, 17, 18, 19, 21, 22, 23, 7, 48, 5, 11, 49, 45, 45, 30, 23, 45, 26, 24, 22, 35, 4, 13, 10, 39, 28, 1, 10, 12, 16, 17, 32, 8, 10, 15, 27, 34, 37, 16, 13, 19, 21, 25, 26, 5, 12, 46, 49, 47, 15, 24, 26, 28, 36, 26, 31, 2, 2, 9, 17, 18, 19, 48, 48, 28, 45, 6, 18, 39, 9, 25, 38, 6, 5, 8, 50, 17, 37, 38, 11, 28, 14, 25, 14, 1, 8, 9, 10, 21, 3, 8, 5, 7, 10, 11, 15, 17, 23, 26, 46, 8, 16, 35, 41, 34, 35, 27, 7, 4, 43, 37, 46, 22, 50, 2, 24, 44, 5, 16, 8, 17, 5, 14, 34, 23, 14, 18, 31, 29, 34, 23, 1, 42, 7, 32, 9, 22, 41, 5, 2, 3, 9, 12, 24, 29, 33, 39, 41, 18, 4, 14, 43, 45, 9, 6, 10, 28, 10, 20, 10, 12, 20, 29, 25, 47, 36, 47, 11, 19, 29, 34, 7, 30, 11, 35, 38, 39, 41, 9, 24, 3, 3, 13, 16, 17, 8, 5, 17, 47, 46, 34, 32, 22, 2, 36, 40, 2, 12, 13, 23, 6, 19, 26, 27, 34, 39, 47, 2, 13, 16, 29, 22, 39, 22, 31, 43, 2, 16, 20, 27, 12, 23, 1, 5, 6, 7, 37, 37, 19, 7, 24, 9, 28, 38, 7, 15, 23, 1, 9, 12, 17, 23, 28, 32, 33, 34, 12, 13, 50, 44, 44, 11, 2, 3, 6, 13, 15, 48, 15, 39, 23, 21, 15, 12, 14, 22, 43, 9, 20, 34, 35, 36, 37, 6, 13, 18, 19, 25, 26, 40, 9, 30, 2, 17, 20, 23, 28, 32, 45, 43, 24, 31, 8, 3, 14, 17, 23, 27, 34, 45, 6, 7, 20, 21, 26, 33, 26, 36, 3, 29, 6, 11, 33, 36, 26, 36, 7, 14, 25, 3, 17, 17, 12, 2, 12, 26, 27, 14, 26, 33, 28, 2, 3, 5, 7, 13, 14, 16, 17, 20, 21, 27, 32, 47, 17, 50, 13, 28, 18, 13, 31, 43, 37, 44, 46, 8, 37, 29, 12, 14, 20, 35, 27, 36, 29, 13, 20, 23, 26, 34, 2, 15, 48, 2, 7, 9, 13, 15, 42, 45, 45, 24, 48, 7, 7, 20, 48, 38, 17, 27, 3, 5, 12, 18, 30, 46, 28, 18, 8, 26, 14, 3, 9, 44, 8, 7, 5, 14, 5, 23, 33, 47, 50, 27, 2, 6, 11, 16, 23, 39, 43, 31, 28, 29, 7, 48, 5, 48, 6, 43, 16, 26, 15, 33, 41, 4, 32, 42, 1, 17, 28, 42, 8, 50, 50, 5, 1, 10, 1, 2, 6, 35, 39, 9, 43, 32, 3, 41, 7, 12, 21, 39, 43, 3, 2, 24, 38, 34, 35, 29, 30, 43, 47, 14, 19, 36, 24, 48, 6, 13, 10, 30, 32, 22, 14, 41, 31, 4, 10, 13, 19, 27, 43, 48, 39, 15, 18, 21, 45, 9, 9, 36, 38, 3, 5, 16, 17, 38, 12, 45, 34, 27, 31, 28, 1, 11, 25, 27, 1, 50, 19, 24, 48, 12, 50, 27, 32, 21, 37, 23, 21, 6, 10, 11, 14, 17, 18, 32, 39, 24, 1, 2, 4, 7, 12, 16, 18, 19, 20, 23, 27, 30, 32, 48, 49, 47, 3, 1, 12, 23, 44, 31, 31, 16, 2, 26, 34, 41, 42, 34, 16, 46, 9, 41, 5, 12, 19, 36, 46, 29, 37, 35, 18, 2, 19, 21, 23, 30, 49, 4, 27, 41, 42, 17, 4, 50, 35, 34, 34, 34, 1, 13, 35, 9, 34, 44, 12, 1, 17, 26, 39, 30, 33, 34, 2, 17, 2, 7, 4, 7, 20, 22, 41, 43, 28, 29, 27, 35, 27, 27, 2, 44, 9, 18, 22, 24, 6, 7, 12, 31, 25, 14, 17, 46, 20, 18, 26, 40, 2, 3, 4, 19, 30, 32, 40, 12, 48, 23, 30, 19, 2, 41, 34, 1, 21, 49, 29, 28, 10, 46, 8, 24, 25, 36, 40, 25, 40, 15, 3, 15, 17, 30, 34, 22, 24, 33, 42, 7, 3, 7, 15, 29, 41, 16, 22, 4, 5, 8, 4, 11, 15, 19, 35, 41, 39, 6, 5, 8, 45, 3, 3, 9, 48, 18, 21, 26, 18, 34, 43, 28, 1, 1, 14, 17, 48, 26, 7, 46, 48, 2, 3, 16, 17, 29, 39, 9, 14, 12, 30, 49, 6, 24, 15, 10, 48, 26, 24, 4, 15, 42, 46, 16, 10, 3, 15, 2, 16, 26, 27, 39, 6, 12, 32, 41, 10, 14, 15, 23, 39, 34, 5, 19, 15, 13, 2, 4, 46, 8, 14, 15, 24, 39, 24, 13, 27, 38, 34, 17, 23, 14, 49, 49, 12, 6, 13, 36, 23, 29, 49, 3, 32, 39, 16, 20, 6, 29, 13, 1, 6, 15, 23, 34, 38, 24, 47, 47, 16, 49, 12, 39, 2, 27, 33, 33, 40, 40, 10, 16, 46, 2, 9, 10, 12, 17, 20, 28, 30, 41, 45, 10, 2, 5, 7, 9, 43, 28, 25, 22, 4, 44, 27, 1, 17, 32, 26, 40, 42, 26, 20, 35, 33, 24, 50, 38, 30, 3, 7, 13, 39, 29, 5, 32, 21, 41, 30, 5, 29, 25, 5, 41, 8, 9, 25, 32, 5, 6, 7, 12, 14, 16, 18, 19, 23, 25, 26, 30, 31, 34, 37, 5, 3, 4, 29, 30, 42, 6, 41, 5, 8, 31, 33, 49, 2, 3, 33, 23, 42, 11, 5, 7, 13, 15, 20, 29, 32, 35, 16, 23, 30, 4, 16, 26, 6, 8, 12, 15, 16, 18, 19, 33, 22, 36, 46, 5, 16, 7, 18, 17, 20, 28, 41, 43, 11, 21, 4, 5, 10, 16, 20, 23, 30, 32, 21, 24, 20, 20, 13, 29, 1, 8, 44, 25, 18, 36, 9, 2, 43, 10, 15, 30, 36, 39, 37, 11, 40, 6, 42, 31, 50, 27, 50, 11, 15, 31, 2, 5, 27, 2, 20, 18, 28, 31, 41, 22, 31, 6, 36, 34, 7, 10, 5, 9, 10, 15, 17, 20, 29, 15, 35, 2, 4, 6, 13, 16, 30, 31, 38, 40, 36, 29, 12, 14, 23, 13, 2, 7, 8, 10, 12, 13, 16, 18, 12, 1, 2, 42, 24, 49, 4, 24, 11, 41, 48, 21, 29, 49, 13, 18, 1, 10, 20, 30, 41, 4, 1, 14, 26, 1, 12, 31, 32, 1, 16, 22, 32, 35, 5, 15, 26, 46, 46, 30, 41, 46, 42, 3, 25, 7, 9, 42, 22, 39, 32, 38, 20, 19, 3, 15, 36, 46, 32, 20, 14, 31, 40, 44, 22, 31, 5, 10, 4, 6, 21, 44, 32, 33, 11, 7, 22, 46, 34, 2, 2, 10, 18, 21, 38, 13, 3, 5, 22, 25, 36, 38, 39, 47, 12, 39, 18, 24, 41, 48, 15, 42, 26, 43, 48, 35, 6, 15, 30, 24, 42, 15, 37, 3, 1, 4, 6, 9, 6, 19, 1, 6, 8, 9, 28, 42, 45, 24, 16, 43, 43, 43, 38, 1, 5, 7, 9, 15, 25, 27, 29, 34, 36, 45, 50, 12, 5, 23, 41, 21, 5, 13, 38, 16, 29, 4, 3, 4, 7, 10, 14, 15, 19, 20, 27, 40, 41, 49, 1, 6, 17, 20, 2, 17, 37, 6, 29, 41, 45, 1, 3, 5, 12, 14, 15, 16, 21, 25, 29, 39, 36, 48, 44, 40, 33, 11, 11, 42, 16, 18, 4, 22, 17, 2, 15, 29, 2, 20, 23, 40, 48, 14, 19, 32, 19, 15, 32, 36, 41, 45, 47, 7, 10, 12, 13, 14, 15, 16, 17, 19, 23, 25, 26, 39, 1, 2, 4, 5, 9, 10, 14, 19, 20, 21, 26, 27, 30, 31, 32, 39, 34, 2, 11, 14, 17, 26, 49, 24, 1, 6, 2, 32, 38, 25, 24, 15, 40, 10, 39, 35, 8, 39, 29, 2, 3, 7, 36, 1, 18, 27, 42, 10, 31, 15, 1, 2, 3, 4, 5, 6, 7, 10, 11, 14, 16, 17, 19, 21, 25, 29, 30, 35, 39, 41, 46, 44, 41, 21, 5, 37, 43, 44, 7, 13, 41, 4, 10, 29, 45, 13, 6, 18, 23, 24, 23, 40, 19, 40, 7, 12, 40, 28, 7, 11, 14, 27, 34, 37, 43, 2, 5, 43, 46, 30, 47, 35, 35, 35, 12, 2, 13, 16, 26, 28, 1, 5, 13, 17, 27, 31, 35, 41, 48, 11, 3, 14, 16, 38, 10, 13, 15, 17, 18, 31, 10, 19, 2, 3, 18, 21, 26, 30, 5, 39, 40, 45, 5, 12, 37, 20, 23, 13, 14, 12, 13, 23, 34, 49, 22, 32, 30, 42, 42, 44, 10, 4, 15, 32, 30, 2, 7, 12, 14, 15, 25, 29, 30, 34, 39, 41, 48, 5, 6, 23, 25, 29, 31, 4, 16, 11, 11, 12, 6, 46, 24, 49, 4, 17, 39, 2, 45, 3, 14, 19, 48, 49, 14, 10, 17, 31, 15, 14, 24, 45, 5, 6, 9, 10, 13, 15, 20, 35, 47, 3, 5, 7, 46, 12, 27, 27, 40, 28, 50, 32, 22, 22, 45, 3, 11, 30, 48, 21, 42, 6, 18, 25, 2, 5, 36, 41, 17, 29, 42, 2, 7, 13, 16, 19, 32, 35, 42, 25, 44, 40, 2, 5, 44, 5, 6, 49, 8, 23, 42, 14, 35, 16, 26, 2, 7, 11, 17, 31, 33, 7, 18, 22, 23, 37, 43, 46, 1, 5, 9, 10, 11, 12, 17, 20, 26, 34, 11, 46, 26, 38, 50, 28, 32, 1, 1, 19, 28, 45, 17, 28, 47, 38, 47, 16, 18, 33, 33, 2, 26, 46, 24, 29, 37, 6, 21, 18, 2, 29, 44, 46, 9, 30, 50, 10, 19, 7, 43, 4, 11, 24, 3, 16, 17, 20, 33, 42, 11, 11, 4, 2, 3, 12, 17, 20, 25, 33, 6, 5, 50, 4, 7, 26, 7, 19, 23, 32, 6, 11, 36, 9, 3, 13, 4, 6, 13, 14, 18, 28, 29, 41, 48, 20, 11, 49, 5, 30, 1, 3, 6, 13, 15, 32, 40, 3, 15, 44, 12, 20, 49, 18, 50, 24, 30, 10, 29, 2, 25, 2, 10, 12, 14, 30, 16, 12, 29, 41, 37, 43, 10, 32, 25, 2, 3, 9, 25, 41, 20, 22, 36, 41, 2, 29, 31, 31, 40, 1, 3, 5, 7, 9, 11, 12, 23, 26, 30, 45, 50, 7, 44, 3, 5, 11, 14, 16, 23, 33, 39, 2, 7, 8, 10, 12, 14, 16, 17, 20, 23, 33, 39, 15, 3, 28, 33, 39, 42, 32, 47, 1, 26, 32, 5, 17, 18, 10, 2, 4, 7, 9, 13, 15, 17, 19, 23, 26, 28, 37, 31, 10, 28, 35, 29, 19, 22, 24, 18, 15, 29, 32, 43, 36, 33, 12, 14, 33, 19, 9, 6, 22, 25, 30, 24, 41, 18, 2, 1, 5, 35, 45, 2, 12, 44, 34, 33, 9, 24, 24, 17, 25, 40, 50, 3, 30, 25, 22, 2, 3, 4, 7, 10, 11, 12, 14, 15, 19, 26, 27, 28, 30, 31, 33, 50, 4, 6, 10, 39, 46, 8, 1, 11, 4, 31, 1, 11, 17, 21, 39, 35, 31, 21, 11, 13, 5, 4, 40, 4, 16, 15, 35, 39, 6, 35, 2, 3, 10, 13, 17, 19, 22, 23, 30, 48, 13, 4, 35, 16, 9, 25, 41, 39, 42, 30, 29, 9, 47, 12, 6, 3, 4, 11, 12, 14, 23, 24, 36, 43, 26, 6, 23, 26, 30, 14, 38, 14, 14, 29, 6, 1, 2, 3, 4, 5, 6, 7, 8, 9, 11, 12, 13, 14, 15, 16, 17, 20, 21, 23, 26, 27, 28, 29, 31, 32, 33, 36, 38, 42, 43, 48, 49, 12, 23, 29, 30, 24, 29, 32, 44, 42, 16, 33, 15, 17, 26, 26, 1, 9, 10, 11, 20, 25, 31, 37, 39, 8, 36, 6, 10, 13, 19, 35, 25, 3, 7, 23, 3, 5, 39, 39, 26, 47, 43, 47, 3, 6, 16, 18, 19, 25, 47, 43, 22, 33, 6, 12, 14, 40, 41, 44, 4, 1, 14, 2, 6, 16, 33, 33, 38, 50, 15, 50, 1, 8, 17, 22, 39, 37, 40, 13, 15, 22, 24, 45, 4, 9, 47, 11, 8, 2, 14, 17, 47, 49, 20, 18, 40, 47, 26, 37, 2, 4, 26, 48, 33, 3, 10, 9, 2, 17, 14, 23, 29, 34, 41, 23, 24, 5, 36, 3, 48, 34, 37, 10, 16, 17, 37, 37, 13, 14, 15, 20, 29, 30, 42, 45, 23, 21, 12, 49, 12, 14, 19, 27, 28, 29, 33, 42, 50, 28, 38, 1, 3, 5, 6, 8, 10, 12, 18, 19, 23, 26, 29, 30, 45, 24, 19, 40, 38, 24, 41, 43, 12, 47, 25, 35, 44, 9, 47, 26, 3, 5, 6, 8, 9, 11, 16, 20, 23, 35, 38, 41, 42, 46, 47, 9, 1, 12, 17, 23, 28, 39, 39, 38, 25, 16, 19, 25, 30, 4, 4, 4], \"Freq\": [0.9094246889949794, 0.076571753109968, 0.06380979425830667, 0.025523917703322668, 0.025523917703322668, 0.19142938277492, 0.076571753109968, 0.038285876554984, 0.14038154736827468, 0.012761958851661334, 0.2552391770332267, 0.06380979425830667, 0.025523917703322668, 0.8868783051056595, 0.8828273472831806, 0.0630590962345129, 0.15418448460043177, 0.15418448460043177, 0.6167379384017271, 0.042060646637076024, 0.23553962116762575, 0.025236387982245614, 0.10935768125639767, 0.11776981058381288, 0.36172156107885384, 0.01682425865483041, 0.08412129327415205, 0.8021042365232912, 0.9004018915948773, 0.9235381286613986, 0.2984191376054165, 0.44762870640812474, 0.38757671823706485, 0.5167689576494198, 0.8812393072450656, 0.9507905249467595, 0.5978290026620073, 0.25621242971228886, 0.08540414323742962, 0.8559037788668151, 0.40796752871605985, 0.5439567049547465, 0.6036078395790593, 0.7668339498779213, 0.9782442932575943, 0.7782242754557271, 0.9393724998415812, 0.14663015314182345, 0.2199452297127352, 0.17106851199879405, 0.24438358856970577, 0.07331507657091173, 0.09775343542788231, 0.8769443266179748, 0.9609523535884291, 0.05377616046689937, 0.2509554155121971, 0.035850773644599584, 0.3226569628013962, 0.2509554155121971, 0.07170154728919917, 0.8917275103038625, 0.9941829450721066, 0.687773760382351, 0.945857107902885, 0.8894446237833044, 0.9264790326083913, 0.883624258771779, 0.6662370425624459, 0.7861456538380266, 0.8924858525983592, 0.9245305669423324, 0.8923636405326995, 0.8635415359256449, 0.8116244671805845, 0.7712888861180667, 0.9136132866522857, 0.9245768336502047, 0.8893204222576757, 0.25644570204826084, 0.15671681791838163, 0.028493966894251207, 0.12822285102413042, 0.24219871860113526, 0.14246983447125602, 0.04274095034137681, 0.7377634685405762, 0.9506705990648233, 0.9300382836327858, 0.86370995647074, 0.34188518124938566, 0.10055446507334873, 0.08044357205867898, 0.16088714411735797, 0.06033267904400924, 0.06033267904400924, 0.12066535808801848, 0.06033267904400924, 0.8755289012786545, 0.12228590393589826, 0.2751432838557711, 0.12228590393589826, 0.06114295196794913, 0.12228590393589826, 0.30571475983974566, 0.9009579230751475, 0.029063158808875725, 0.029063158808875725, 0.13562960491602927, 0.7685677611908325, 0.09041973661068617, 0.8029837682690617, 0.8056727870504594, 0.6507143769135652, 0.9154321858968044, 0.8833577080575619, 0.7194467649566505, 0.9738282229068834, 0.6788052855031953, 0.8396320010726648, 0.30953617652410464, 0.06729047315741406, 0.1211228516833453, 0.05383237852593124, 0.18841332484075937, 0.1211228516833453, 0.13458094631482811, 0.7485814194044021, 0.7854491449077035, 0.8753196645955675, 0.26659469642271444, 0.6664867410567861, 0.9039533453354738, 0.8833158704063008, 0.08332086895732589, 0.16664173791465178, 0.6665669516586071, 0.0555472459715506, 0.0277736229857753, 0.6507143769135652, 0.8669113163234966, 0.6818938170017786, 0.7160241244736413, 0.6773639505105268, 0.13842839774441168, 0.16611407729329403, 0.13842839774441168, 0.19379975684217637, 0.2214854363910587, 0.08305703864664701, 0.9181171100438191, 0.7313755762898815, 0.7985146417607398, 0.06981689734459454, 0.1047253460168918, 0.0077574330382882825, 0.29478245545495474, 0.20169325899549534, 0.023272299114864847, 0.09308919645945939, 0.0077574330382882825, 0.011636149557432423, 0.04266588171058555, 0.04654459822972969, 0.011636149557432423, 0.0038787165191441412, 0.011636149557432423, 0.015514866076576565, 0.03102973215315313, 0.019393582595720705, 0.12219389167652314, 0.08146259445101543, 0.7738946472846465, 0.9222740897243896, 0.03547208037401498, 0.5149865950583762, 0.14045088956137533, 0.3277187423098758, 0.7563252604834981, 0.35250582788279017, 0.5287587418241853, 0.9259162953633014, 0.6844907161487435, 0.9057584491741171, 0.796100076795698, 0.15922001535913963, 0.2638799561086164, 0.7036798829563105, 0.0916287388581658, 0.8704730191525751, 0.8083048356951303, 0.8424030660231929, 0.09360034066924366, 0.9375167681484806, 0.3214702458639639, 0.5000648268994994, 0.1785945810355355, 0.8324373640461589, 0.7554577898831263, 0.395059712691903, 0.5432071049513666, 0.8297811944230232, 0.5122952659241783, 0.8998030819338447, 0.06558073334637121, 0.10930122224395203, 0.32790366673185606, 0.21860244448790406, 0.13116146669274242, 0.06558073334637121, 0.06558073334637121, 0.9317646386065773, 0.9398660599101484, 0.7194467649566505, 0.9560786001806537, 0.5161137509064061, 0.4553944860938877, 0.8747189488785085, 0.9159157812845656, 0.10760565821581482, 0.7532396075107037, 0.7460306549249724, 0.643554640863898, 0.30284924275948144, 0.9141768030895944, 0.7625995484632402, 0.7622180196056674, 0.8324639011453743, 0.804875292811372, 0.1533095795831185, 0.7620487906241415, 0.8875441808297061, 0.9579530660489327, 0.9152527659698423, 0.7955961439380723, 0.1874514318813774, 0.312419053135629, 0.4373866743898806, 0.14929154033843775, 0.7464577016921887, 0.7267081525812097, 0.03824779750427419, 0.11474339251282258, 0.11474339251282258, 0.8735708521206731, 0.27787645057975824, 0.07939327159421665, 0.07939327159421665, 0.1587865431884333, 0.3175730863768666, 0.039696635797108325, 0.8723377085870795, 0.10425739997959667, 0.156386099969395, 0.31277219993879, 0.156386099969395, 0.20851479995919334, 0.8377285861953478, 0.9412460077012391, 0.7867581863109252, 0.8462639247764292, 0.1124925461895413, 0.25310822892646795, 0.14061568273692662, 0.39372391166339454, 0.08436940964215597, 0.08337917946925746, 0.9171709741618321, 0.8738948825372059, 0.7187703039798039, 0.1967057318587647, 0.7868229274350588, 0.6818938632917203, 0.8228367847999576, 0.056747364468962586, 0.11349472893792517, 0.3782190190837306, 0.04364065604812276, 0.2327501655899881, 0.029093770698748512, 0.014546885349374256, 0.014546885349374256, 0.07273442674687128, 0.07273442674687128, 0.04364065604812276, 0.07273442674687128, 0.8909992662200704, 0.12511925298230958, 0.15639906622788696, 0.06255962649115479, 0.09383943973673219, 0.031279813245577395, 0.5004770119292383, 0.3315357065159198, 0.041441963314489974, 0.6216294497173496, 0.8622296413831791, 0.7147138071316872, 0.8924422992594316, 0.9849436523086944, 0.8610110774993055, 0.3412917810236756, 0.6143252058426161, 0.746503696064734, 0.9312392777419963, 0.34308060338789204, 0.6175450860982057, 0.7095461146409742, 0.16374141107099402, 0.05458047035699801, 0.869260983166303, 0.6364035853253358, 0.6662370728027578, 0.9413477544770962, 0.9015150128460802, 0.4618473412923908, 0.5003346197334234, 0.7990704936323677, 0.21845407983900147, 0.7645892794365051, 0.08064594890085759, 0.8871054379094335, 0.8730578728510474, 0.04175768971837924, 0.9395480186635329, 0.869758344222432, 0.7500403564196935, 0.9192641415400135, 0.8955921704942009, 0.8970163553328697, 0.7334853569362211, 0.24449511897874038, 0.4354066436067758, 0.39458727076864053, 0.013606457612711743, 0.027212915225423486, 0.12245811851440569, 0.8742758004955758, 0.9455941275958317, 0.8768308986906854, 0.9403054252658272, 0.7504572014462928, 0.8850795106025603, 0.8760645003253323, 0.842291362190685, 0.18950357963332043, 0.5685107388999613, 0.7776944164117816, 0.7079169830017298, 0.5887344654784352, 0.20605706291745232, 0.17662033964353055, 0.8204847507402083, 0.9161731929728092, 0.465813685034616, 0.5081603836741265, 0.8056727870504594, 0.626266906737342, 0.8026644868902175, 0.8403406476281888, 0.9123217550189496, 0.6363871595313582, 0.6955576127592601, 0.76553537011088, 0.19138384252772, 0.2639571493812235, 0.13197857469061175, 0.08798571646040783, 0.1539750038057137, 0.24196072026612153, 0.10998214557550978, 0.9023560260094463, 0.8985554916572197, 0.7681299939515963, 0.681054071553425, 0.034052703577671255, 0.06810540715534251, 0.20431622146602751, 0.08720078873604094, 0.1878170834314728, 0.013415505959390915, 0.033538764898477284, 0.02683101191878183, 0.013415505959390915, 0.5768667562538093, 0.05366202383756366, 0.9541213766102573, 0.7309305747578876, 0.9641940954855917, 0.7625995484632402, 0.2951101803724695, 0.2951101803724695, 0.393480240496626, 0.704599452931734, 0.8514519755635086, 0.17400967824266864, 0.23201290432355817, 0.5800322608088955, 0.6923142399907539, 0.09283269605867292, 0.04641634802933646, 0.18566539211734584, 0.0812286090513388, 0.1392490440880094, 0.10443678306600704, 0.05802043503667058, 0.0696245220440047, 0.11604087007334116, 0.05802043503667058, 0.03481226102200235, 0.7064011659358461, 0.11773352765597435, 0.7032906267732347, 0.689968450860563, 0.7227686436114688, 0.532667705140558, 0.21185647363544918, 0.01815912631160993, 0.006053042103869977, 0.04842433683095981, 0.0786895473503097, 0.06053042103869977, 0.01815912631160993, 0.01815912631160993, 0.8648529618072432, 0.8904305846180226, 0.7489777426457481, 0.7688884002885276, 0.7625696646780801, 0.856718157756359, 0.8018811905556859, 0.9336633805811715, 0.8150521051410541, 0.88341376115029, 0.3095732842358356, 0.24077922107231656, 0.03439703158175951, 0.18918367369967728, 0.06879406316351902, 0.017198515790879755, 0.13758812632703804, 0.9662976460818434, 0.8420231248519593, 0.8169595245698601, 0.15317991085684876, 0.9409929190909984, 0.27645187228156487, 0.05026397677846634, 0.22618789550309853, 0.1759239187246322, 0.27645187228156487, 0.9071220001576623, 0.9092581031634266, 0.8695971717868176, 0.8231816217373552, 0.7587227167487873, 0.18968067918719683, 0.33022399297766336, 0.07338310955059187, 0.07338310955059187, 0.47699021207884706, 0.7220508106145653, 0.7988313351792006, 0.8046224954920735, 0.9298761005284242, 0.7719866944913089, 0.2503054601326741, 0.08343515337755802, 0.15018327607960447, 0.05006109202653482, 0.06674812270204643, 0.04171757668877901, 0.2753360061459415, 0.05006109202653482, 0.016687030675511607, 0.6892751530031798, 0.6364035853253358, 0.6427643184107549, 0.8811341485656529, 0.2566194621449093, 0.6094712225941598, 0.06415486553622733, 0.06415486553622733, 0.788090723276882, 0.6507143765483978, 0.7243798513715497, 0.6528139773255169, 0.2611255909302068, 0.5778506004734819, 0.04815421670612349, 0.19261686682449397, 0.12038554176530873, 0.060192770882654366, 0.8028737960567387, 0.8715087817302312, 0.03911705612224776, 0.9388093469339461, 0.6367357336826986, 0.9266745473353272, 0.6420647704298543, 0.29633758635224045, 0.04938959772537341, 0.8024413363299767, 0.628477110134252, 0.7488780492323375, 0.673876043455984, 0.9502326938723894, 0.1571418818420847, 0.8075346705773796, 0.017460209093564966, 0.013095156820173722, 0.7876706922005365, 0.23754664532645542, 0.35631996798968313, 0.2969333066580693, 0.059386661331613855, 0.6938195327121404, 0.13876390654242807, 0.9807795914685421, 0.8339245364813078, 0.7218453454461202, 0.012234666871968138, 0.061173334359840695, 0.12234666871968139, 0.061173334359840695, 0.08650940582449235, 0.057672937216328234, 0.057672937216328234, 0.49021996633879, 0.2883646860816412, 0.7912794479565949, 0.9001299540486085, 0.961541757259364, 0.8356474175134687, 0.10445592718918359, 0.6661632086262478, 0.7802387787568895, 0.7572813495317074, 0.8937087538758757, 0.9008495741767103, 0.19331055368441832, 0.05523158676697666, 0.0960549335077855, 0.1909091803467237, 0.04082334674080884, 0.04922815342274007, 0.04922815342274007, 0.09965699351432745, 0.024013733376946376, 0.0036020600065419565, 0.0024013733376946375, 0.0024013733376946375, 0.006003433344236594, 0.04562609341619811, 0.04562609341619811, 0.02041167337040442, 0.0036020600065419565, 0.04082334674080884, 0.026415106714641014, 0.004802746675389275, 0.8149660420066158, 0.8934165872171644, 0.7491900797583985, 0.8816517581741005, 0.10623931481618645, 0.6374358888971187, 0.2655982870404661, 0.823031149658991, 0.7405184446996685, 0.22215553340990057, 0.9778721015419042, 0.8713329131874683, 0.37854416166728705, 0.028750189493718003, 0.27312680019032104, 0.10062566322801302, 0.043125284240577, 0.014375094746859001, 0.03354188774267101, 0.12937585272173102, 0.7035737494948766, 0.15634972210997258, 0.9467093481343126, 0.6183148378969882, 0.3091574189484941, 0.44461178327257983, 0.11115294581814496, 0.18525490969690825, 0.25935687357567155, 0.9899582193574591, 0.8116244671805845, 0.933597504266254, 0.6971650484797126, 0.5281687733716657, 0.39612658002874923, 0.720002648841091, 0.25411858194391446, 0.6397006067307259, 0.8070914659007891, 0.1067264903775006, 0.7470854326425042, 0.8003282911388018, 0.8061717431906253, 0.9798503208148592, 0.2296394757942626, 0.1148197378971313, 0.25834441026854543, 0.1148197378971313, 0.05740986894856565, 0.2009345413199798, 0.9562187714346462, 0.03187395904782154, 0.8934165872171644, 0.6092797042740766, 0.3046398521370383, 0.9482494275076443, 0.733124828934757, 0.104732118419251, 0.939572534120274, 0.7554901346354116, 0.705134207656156, 0.3268466791746011, 0.4202314446530585, 0.23346191369614364, 0.7258989975555779, 0.3442986514942759, 0.05738310858237932, 0.5164479772414139, 0.7981859895196123, 0.832974928502471, 0.9236749885269714, 0.85080466507105, 0.08508046650710499, 0.791036675889305, 0.9522745487962381, 0.9351104183586495, 0.968492726467003, 0.9156893859335198, 0.14653798572123716, 0.7326899286061859, 0.09769199048082478, 0.13174390824358548, 0.7245914953397202, 0.06587195412179274, 0.8142949160401121, 0.7188592081255722, 0.6798349700718086, 0.7282211299476604, 0.8366534399842867, 0.8439912071721462, 0.8056727870504594, 0.7541983616795802, 0.8637009168192841, 0.051442955981270265, 0.9516946856534999, 0.07274518065466845, 0.12124196775778075, 0.2909807226186738, 0.2424839355155615, 0.07274518065466845, 0.16973875486089304, 0.9204220909524985, 0.6818938170017786, 0.05401875069921621, 0.8643000111874594, 0.1236099985993187, 0.7416599915959122, 0.9491101899063186, 0.8815134064508722, 0.9525153861636323, 0.8324963355487932, 0.8021224220905121, 0.7667032148532895, 0.3283700677254488, 0.22388868254007874, 0.029851824338677165, 0.014925912169338583, 0.29851824338677163, 0.07462956084669291, 0.014925912169338583, 0.9475561830053063, 0.10084803589169992, 0.8824203140523743, 0.8906063929014875, 0.032419201113221, 0.8428992289437459, 0.064838402226442, 0.9031021877364118, 0.19044611736101244, 0.17986577750762286, 0.01058033985338958, 0.08464271882711664, 0.46553495354914154, 0.06348203912033748, 0.9726941940586211, 0.6894243816553604, 0.5958252694336342, 0.8225693312056431, 0.13709488853427385, 0.9572797437238314, 0.6818938170017786, 0.0455385897170732, 0.341539422878049, 0.11384647429268299, 0.1366157691512196, 0.341539422878049, 0.8590714346930443, 0.8933563392867809, 0.6073893057621759, 0.4534658894764489, 0.045346588947644886, 0.13603976684293467, 0.3174261226335142, 0.9370311526590756, 0.928047266286914, 0.05665016003037849, 0.03540635001898656, 0.007081270003797311, 0.11330032006075698, 0.08497524004556774, 0.12038159006455429, 0.16286921008733815, 0.14162540007594623, 0.021243810011391934, 0.03540635001898656, 0.0637314300341758, 0.07789397004177043, 0.04956889002658118, 0.021243810011391934, 0.007081270003797311, 0.6302928029388796, 0.3393884323517044, 0.9143414580175091, 0.9735240758294866, 0.15054232373776055, 0.6523500695302957, 0.15054232373776055, 0.9476808291165721, 0.869758344222432, 0.873473728533328, 0.803746585982488, 0.9414918207842252, 0.5794666399020214, 0.39838331493263973, 0.9080643931175021, 0.06089737894100263, 0.12856113331989444, 0.16915938594722954, 0.05413100350311345, 0.04736462806522427, 0.03383187718944591, 0.03383187718944591, 0.15562663507145116, 0.04059825262733509, 0.04059825262733509, 0.10149563156833771, 0.04736462806522427, 0.08796288069255935, 0.7678898985635938, 0.7776944164117816, 0.8113978154121317, 0.8056727870504594, 0.5858901280511456, 0.3347943588863689, 0.8335086738099388, 0.8094836535769915, 0.8731736709267045, 0.8937072942881337, 0.8382233371175667, 0.9428484655658594, 0.8557276676140488, 0.1438995459339645, 0.03597488648349113, 0.10792465945047337, 0.03597488648349113, 0.10792465945047337, 0.4316986378018935, 0.07194977296698225, 0.03597488648349113, 0.1934546639321753, 0.1934546639321753, 0.1934546639321753, 0.29018199589826293, 0.12090916495760956, 0.7006642481473141, 0.2854558048007576, 0.9763188347885242, 0.8927447405087907, 0.9615433666475219, 0.6662370425624459, 0.8094836535769915, 0.09695660891846725, 0.29086982675540174, 0.14543491337770087, 0.04847830445923362, 0.3635872834442522, 0.02423915222961681, 0.15645735474171799, 0.7666410382344181, 0.0312914709483436, 0.0312914709483436, 0.7486315151601376, 0.8461532346289482, 0.8836296438614554, 0.6086022186467773, 0.9740264859331508, 0.86951818852135, 0.6086022186467773, 0.467617846293381, 0.5215737516349249, 0.9231213070765192, 0.9125282835700617, 0.18127893590820868, 0.030213155984701447, 0.2794716928584884, 0.1586190689196826, 0.007553288996175362, 0.09819275695027971, 0.05287302297322753, 0.05287302297322753, 0.05287302297322753, 0.07553288996175361, 0.04970819920365879, 0.7456229880548819, 0.12427049800914698, 0.04970819920365879, 0.6661632086262478, 0.10399610460464445, 0.8839668891394779, 0.8802993289579824, 0.8906275081540492, 0.07141532885504613, 0.3570766442752306, 0.21424598656513838, 0.07141532885504613, 0.21424598656513838, 0.8586183493267037, 0.5807158014049887, 0.15837703674681508, 0.2111693823290868, 0.8101627867190777, 0.7932051564967139, 0.3580063038011222, 0.039778478200124694, 0.039778478200124694, 0.23867086920074815, 0.1790031519005611, 0.09944619550031172, 0.039778478200124694, 0.8031799949634431, 0.861285887568552, 0.6788052855031953, 0.22041734613048114, 0.11020867306524057, 0.2645008153565774, 0.19837561151743302, 0.1322504076782887, 0.044083469226096225, 0.6320004538153495, 0.6908497155807379, 0.9166367180616851, 0.9697275946112607, 0.6410088048783251, 0.9409065359470647, 0.8110344680142875, 0.7923368826225511, 0.19125373028820197, 0.7090013541116976, 0.9065511022129928, 0.79243636979449, 0.8552014972622846, 0.2639874289251496, 0.659968572312874, 0.9702920594309028, 0.5708971357761743, 0.3805980905174495, 0.15407227105571378, 0.7703613552785689, 0.6434637631715543, 0.9061851993112078, 0.7985146417607398, 0.987786325110672, 0.3280293888475294, 0.5904528999255529, 0.6662370425624459, 0.6454684897030213, 0.8722511415996181, 0.03756301240425962, 0.41319313644685585, 0.41319313644685585, 0.13147054341490869, 0.9474685255834077, 0.8130799157426433, 0.9002885206889976, 0.9489745114432871, 0.696172687167119, 0.8429852205725691, 0.5895811006056139, 0.14739527515140347, 0.19652703353520462, 0.9123101011528246, 0.0792695473932734, 0.9115997950226441, 0.36535463289226267, 0.07307092657845253, 0.5480319493383939, 0.0727588756591088, 0.5093121296137616, 0.12126479276518133, 0.2667825440833989, 0.37024888279636425, 0.5696136658405604, 0.02848068329202802, 0.9646741016793846, 0.33548972193851745, 0.391404675594937, 0.16774486096925872, 0.7835734753673217, 0.8954352689039721, 0.6467075360348382, 0.7007406838897976, 0.7707377460935593, 0.05453828604713072, 0.24542228721208822, 0.19088400116495752, 0.46357543140061114, 0.025470599888142646, 0.038205899832213966, 0.06367649972035662, 0.038205899832213966, 0.2801765987695691, 0.24197069893735512, 0.05094119977628529, 0.11461769949664191, 0.08914709960849926, 0.025470599888142646, 0.3082749282442263, 0.6165498564884526, 0.1995137931708992, 0.5985413795126976, 0.860297054322776, 0.20796643358832045, 0.7625435898238416, 0.5989369064091304, 0.35936214384547827, 0.16907343609880215, 0.6762937443952086, 0.9824860560068301, 0.7992145442275992, 0.18533647598113873, 0.18533647598113873, 0.5560094279434162, 0.8596783054188896, 0.8056727870504594, 0.9379304874745829, 0.8532411151790255, 0.1201113112414883, 0.5405009005866973, 0.06005565562074415, 0.2402226224829766, 0.04223845915854925, 0.12671537747564773, 0.25343075495129547, 0.38014613242694323, 0.12671537747564773, 0.04223845915854925, 0.6372555832289633, 0.8778461225302915, 0.9100763895891162, 0.8377894154507854, 0.8490662427889074, 0.7486055872554453, 0.8171001132658438, 0.7776944164117816, 0.7776944164117816, 0.24307942066110785, 0.2970970696969096, 0.027008824517900872, 0.1890617716253061, 0.06752206129475218, 0.1485485348484548, 0.9289785318328856, 0.06768125602934653, 0.13536251205869307, 0.7896146536757096, 0.856993730322113, 0.13531479952454417, 0.11537892268039995, 0.8364971894328996, 0.7987531534953484, 0.9121894249295751, 0.9473598348915736, 0.8404566102841491, 0.09279684307270797, 0.23199210768176992, 0.18559368614541594, 0.41758579382718586, 0.969982690212562, 0.9235243499957155, 0.7861755620003046, 0.09605989547280232, 0.33620963415480815, 0.33620963415480815, 0.14408984320920348, 0.799594641266613, 0.9763012468035448, 0.9711724183262158, 0.07715810339710555, 0.6944229305739499, 0.07715810339710555, 0.07715810339710555, 0.8186809869927721, 0.6115232362195526, 0.2727205032946798, 0.7272546754524793, 0.9111121003028603, 0.5592131085224635, 0.34950819282653967, 0.8610309888631186, 0.09567010987367984, 0.8287308801080496, 0.755983910150616, 0.8144959900546408, 0.3322366164173202, 0.12920312860673566, 0.22149107761154682, 0.07383035920384894, 0.03691517960192447, 0.1661183082086601, 0.49335091083912, 0.37001318312934, 0.7231626113186244, 0.792557099020103, 0.7729004083357228, 0.8686045530929529, 0.6550002619072817, 0.7138724912735497, 0.050990892233824976, 0.15297267670147494, 0.6818938170017786, 0.9551227044019833, 0.7156859297650613, 0.4535257207560253, 0.5102164358505284, 0.7921216984471255, 0.721298170532571, 0.983655239952475, 0.8449904203847554, 0.30104303684508055, 0.3411821084244246, 0.08027814315868814, 0.14048675052770426, 0.08027814315868814, 0.04013907157934407, 0.9816342185720089, 0.7575450739540817, 0.7483134821919094, 0.42341162410027805, 0.5443863738432146, 0.22531210742972482, 0.6759363222891744, 0.9769447944144036, 0.8175567403516948, 0.7081659817287023, 0.14163319634574045, 0.8676199451857448, 0.23657133711513867, 0.02490224601211986, 0.3361803211636181, 0.2490224601211986, 0.09960898404847944, 0.04980449202423972, 0.7785022686336314, 0.8085060777493969, 0.9767000813159868, 0.7674992581658102, 0.8852409116216301, 0.7765840124235189, 0.20342176327270134, 0.152566322454526, 0.4068435265454027, 0.20342176327270134, 0.16987364275522254, 0.7644313923985014, 0.9745292851667474, 0.2758436821266635, 0.551687364253327, 0.13792184106333175, 0.7586024096437886, 0.6386909080202576, 0.3193454540101288, 0.13723318584998181, 0.27446637169996363, 0.5489327433999273, 0.7753367751759008, 0.227867876829915, 0.683603630489745, 0.075955958943305, 0.8446987391326236, 0.7726147723866243, 0.9175270471620783, 0.8235283722962486, 0.2802228274442852, 0.4903899480274992, 0.1401114137221426, 0.9004018915948773, 0.20389235933697047, 0.3102709815997377, 0.12410839263989508, 0.07091908150851148, 0.0265946555656918, 0.07978396669707541, 0.0265946555656918, 0.0265946555656918, 0.12410839263989508, 0.8350477752599574, 0.8825000971913012, 0.6397006067307259, 0.9295693506768484, 0.057598784047712986, 0.14399696011928245, 0.10079787208349772, 0.2879939202385649, 0.057598784047712986, 0.08639817607156948, 0.08639817607156948, 0.14399696011928245, 0.014399696011928247, 0.9822093552688841, 0.7772879409154622, 0.8837659562030276, 0.8101942705337732, 0.10906399982773739, 0.7634479987941617, 0.258725191443679, 0.258725191443679, 0.32340648930459875, 0.06468129786091975, 0.09979489111415374, 0.05987693466849224, 0.09314189837321016, 0.05322394192754866, 0.4257915354203893, 0.04657094918660508, 0.05987693466849224, 0.05987693466849224, 0.04657094918660508, 0.04657094918660508, 0.0066529927409435825, 0.746413372017069, 0.8875614088580576, 0.10566207248310208, 0.6982325794955482, 0.6934727328799644, 0.8933241592676541, 0.8002832359728669, 0.06961044300196413, 0.38285743651080273, 0.20883132900589238, 0.2784417720078565, 0.27983249548869554, 0.3497906193608694, 0.27983249548869554, 0.6894243816553604, 0.7894888465974783, 0.31808719196406093, 0.11566806980511307, 0.24579464833586526, 0.11566806980511307, 0.014458508725639134, 0.028917017451278268, 0.14458508725639133, 0.6923916047688871, 0.230797201589629, 0.19211199805278356, 0.5763359941583507, 0.30205780850419545, 0.09294086415513707, 0.1394112962327056, 0.11617608019392132, 0.34852824058176396, 0.8179774163582013, 0.7944550531766, 0.387862193490199, 0.20884887341779945, 0.08950666003619977, 0.3281910867993992, 0.5623355042845719, 0.33740130257074313, 0.830767046821077, 0.0553844697880718, 0.1107689395761436, 0.2320236551830436, 0.4640473103660872, 0.9253756583563362, 0.12405117928241904, 0.7443070756945143, 0.9293012441683827, 0.8913127990545546, 0.9671158033188428, 0.9388366713000206, 0.9577196786623287, 0.7656836581042245, 0.08507596201158049, 0.08507596201158049, 0.9326155902028228, 0.7096062941988605, 0.25044928030548014, 0.4602744830607638, 0.4602744830607638, 0.942228444668096, 0.8645795016944545, 0.887768733544465, 0.12148968820477118, 0.7289381292286271, 0.9505324525363403, 0.1284174905038599, 0.08026093156491243, 0.561826520954387, 0.016052186312982487, 0.1123653041908774, 0.09631311787789491, 0.4093032472492806, 0.4911638966991367, 0.3277468758924545, 0.16387343794622725, 0.49162031383868177, 0.726306666337611, 0.18090023689916146, 0.10337156394237797, 0.5168578197118898, 0.18090023689916146, 0.6397006594205817, 0.8788715360512471, 0.3025268878894591, 0.09075806636683773, 0.03025268878894591, 0.03025268878894591, 0.03025268878894591, 0.09075806636683773, 0.09075806636683773, 0.27227419910051315, 0.8954224401370818, 0.08140204001246198, 0.30909039804799293, 0.6181807960959859, 0.7632238347604723, 0.6454684897030213, 0.6532784993746793, 0.8591365214425939, 0.10413776017485986, 0.9796880190275264, 0.08411978969303693, 0.08411978969303693, 0.7991380020838509, 0.9074659675266854, 0.753699545903085, 0.32572001341567525, 0.4777226863429903, 0.19543200804940514, 0.4197639134709046, 0.027984260898060307, 0.25185834808254276, 0.11193704359224123, 0.13992130449030155, 0.055968521796120614, 0.734780038904346, 0.1043343257658739, 0.10211444649425956, 0.017759034172914707, 0.035518068345829414, 0.8689096371624109, 0.7193400334692273, 0.9296386242917317, 0.9079940220657072, 0.8149385517445186, 0.8728991486859612, 0.7374894506455398, 0.2107112716130114, 0.9692470816599846, 0.8840401474654713, 0.021543869848503556, 0.048473707159133, 0.010771934924251778, 0.005385967462125889, 0.04308773969700711, 0.005385967462125889, 0.005385967462125889, 0.1508070889395249, 0.04308773969700711, 0.096947414318266, 0.04308773969700711, 0.12387725162889546, 0.026929837310629447, 0.026929837310629447, 0.03770177223488123, 0.010771934924251778, 0.03770177223488123, 0.10233338178039189, 0.032315804772755335, 0.03770177223488123, 0.048473707159133, 0.032315804772755335, 0.2179907620660518, 0.10172902229749085, 0.39238337171889326, 0.07266358735535061, 0.11626173976856097, 0.10172902229749085, 0.7269986948457956, 0.654480515352878, 0.1636201288382195, 0.15851910410958292, 0.7925955205479146, 0.011673746055447161, 0.10506371449902445, 0.08171622238813013, 0.16343244477626026, 0.07004247633268297, 0.09338996844357729, 0.12841120660991875, 0.14008495266536594, 0.19845368294260174, 0.6130291608596996, 0.8642773491182572, 0.1817616992787624, 0.6361659474756683, 0.0605872330929208, 0.0908808496393812, 0.9003599001795641, 0.9829216569875497, 0.7533543820521754, 0.7749103585360548, 0.7486098619308372, 0.42694770463311493, 0.8941145041560439, 0.8761658392513696, 0.6892751530031798, 0.5785072208222042, 0.34710433249332256, 0.7991115721733087, 0.9181128004084046, 0.8588103695116557, 0.05367564809447848, 0.18377573557079752, 0.7963615208067892, 0.23196929973641917, 0.10988019461198803, 0.1709247471742036, 0.024417821024886228, 0.13429801563687427, 0.012208910512443114, 0.0854623735871018, 0.0854623735871018, 0.10988019461198803, 0.03662673153732934, 0.8534214790692103, 0.8707988976582349, 0.9584840708867645, 0.9857817755587116, 0.6892751530031798, 0.05552841530250439, 0.4442273224200351, 0.4442273224200351, 0.8909291941930432, 0.40888969196051667, 0.5451862559473555, 0.9116640322268006, 0.8107342587391616, 0.0213351120720832, 0.0213351120720832, 0.0320026681081248, 0.0853404482883328, 0.0213351120720832, 0.7588811617225184, 0.2168231890635767, 0.7728226196014939, 0.9060361919067697, 0.33665195011941956, 0.561086583532366, 0.7836601801238111, 0.6661632086262478, 0.9823660902886495, 0.44440950515246963, 0.28280604873338977, 0.040400864104769965, 0.040400864104769965, 0.14140302436669488, 0.38170039600289796, 0.6043589603379217, 0.6507143769135652, 0.7372794696027343, 0.7689755078474365, 0.19224387696185913, 0.9302103982786736, 0.6234233322666699, 0.8420230662169642, 0.8462141401163896, 0.29111957118782245, 0.6654161627150227, 0.09993300999673796, 0.09993300999673796, 0.6995310699771657, 0.7904747089598708, 0.09976865258716816, 0.10744316432464263, 0.9338697000516262, 0.269105773053505, 0.6727644326337625, 0.919475405896323, 0.9479671681984012, 0.4640981721274547, 0.7468928034144917, 0.915664176202483, 0.7458299600724458, 0.21936175296248406, 0.9041353157633201, 0.2694274342668074, 0.6735685856670184, 0.5992676893034627, 0.5504080224601787, 0.01775509749871544, 0.42612233996917065, 0.4891578635160429, 0.4891578635160429, 0.7612481883667226, 0.20623768630950665, 0.7562048498015244, 0.9364224576026471, 0.02941984160115758, 0.2549719605433657, 0.23535873280926065, 0.08825952480347274, 0.1470992080057879, 0.05883968320231516, 0.02941984160115758, 0.0392264554682101, 0.02941984160115758, 0.0784529109364202, 0.8642136499290063, 0.7133344786203536, 0.8597073375838931, 0.8929101199655769, 0.08524342672597458, 0.0608881619471247, 0.0608881619471247, 0.35315133929332326, 0.024355264778849882, 0.13395395628367435, 0.0608881619471247, 0.048710529557699764, 0.012177632389424941, 0.03653289716827482, 0.048710529557699764, 0.07306579433654964, 0.8018811905556859, 0.8041772919548551, 0.8928310997694889, 0.873473728533328, 0.06466725876627631, 0.07903776071433771, 0.15807552142867543, 0.05029675681821491, 0.11496401558449122, 0.06466725876627631, 0.09340826266239911, 0.0359262548701535, 0.05029675681821491, 0.15089027045464473, 0.071852509740307, 0.05748200779224561, 0.8680762357445945, 0.032654861574600305, 0.20681412330580193, 0.15238935401480141, 0.23946898488040222, 0.032654861574600305, 0.06530972314920061, 0.032654861574600305, 0.0979645847238009, 0.0979645847238009, 0.0108849538582001, 0.0108849538582001, 0.7107055588609376, 0.29131393632396413, 0.5826278726479283, 0.9246013148771732, 0.7929759198035162, 0.9172656673076316, 0.8435377915722064, 0.7504755610642146, 0.6661632082339803, 0.1718566382884921, 0.3007491170048612, 0.5155699148654763, 0.9067742857658647, 0.6770384035097843, 0.527421328771828, 0.4570984849355843, 0.7342360006510834, 0.9636370786454033, 0.790196969853561, 0.9541098058571379, 0.7715601351066058, 0.827436654415484, 0.8791189574044319, 0.6818938170017786, 0.8717554181896243, 0.6993653931179518, 0.651189659085687, 0.28941762626030537, 0.9374883796141471, 0.3147522715265724, 0.6295045430531448, 0.32479107601001167, 0.29231196840901047, 0.3572701836110128, 0.7702762653284185, 0.3180454021349361, 0.5300756702248935, 0.9427744946707364, 0.2655424307971605, 0.6638560769929012, 0.8087714817250654, 0.9297108568632579, 0.8568895512523295, 0.5204427414647453, 0.41635419317179634, 0.917171649338366, 0.9371351710036742, 0.4047937222979291, 0.17990832102130183, 0.35981664204260366, 0.7491033361184348, 0.09363791701480435, 0.04202992231932236, 0.08405984463864472, 0.17862716985712002, 0.3992842620335624, 0.031522441739491765, 0.06304488347898353, 0.02101496115966118, 0.17862716985712002, 0.1896219694695783, 0.7964122717722288, 0.7950880272471598, 0.15901760544943194, 0.9070710992029803, 0.6397006594205817, 0.7616634909838871, 0.9501886348912629, 0.7183473858530347, 0.21550421575591042, 0.8175816076407161, 0.1486512013892211, 0.9453296142993028, 0.1911086663052348, 0.23888583288154347, 0.47777166576308694, 0.0955543331526174, 0.8547218607780263, 0.7491476224574402, 0.2094663864810019, 0.7121857140354064, 0.04189327729620038, 0.8037532660939416, 0.8040673101252279, 0.13401121835420465, 0.1104571536333366, 0.1877771611766722, 0.03313714609000098, 0.02209143072666732, 0.01104571536333366, 0.17673144581333855, 0.1104571536333366, 0.08836572290666928, 0.06627429218000196, 0.09941143827000293, 0.07732000754333561, 0.09001458219537962, 0.4500729109768981, 0.18002916439075925, 0.15002430365896605, 0.12001944292717283, 0.7374581931501097, 0.9240301681933794, 0.9213380617869178, 0.11944582128439385, 0.1672241497981514, 0.04777832851375754, 0.1433349855412726, 0.35833746385318155, 0.1433349855412726, 0.7486234440272619, 0.8702784049730745, 0.7357870141189726, 0.8142949162750879, 0.9194817595847132, 0.6986073192461592, 0.7896931348218046, 0.7785022652482493, 0.673876043455984, 0.8350460605193616, 0.7726148476614697, 0.8116244671805845, 0.9324669406025411, 0.9496488945765427, 0.0400529799151664, 0.0801059598303328, 0.06675496652527733, 0.0400529799151664, 0.13350993305055467, 0.05340397322022187, 0.0801059598303328, 0.18691390627077656, 0.12015893974549921, 0.12015893974549921, 0.0801059598303328, 0.8990309549054113, 0.6629817331829784, 0.8157009258646664, 0.1812668724143703, 0.8625098942942565, 0.6794917483722628, 0.7172810174783347, 0.9284435957416808, 0.2017956721051872, 0.6053870163155616, 0.9021116998949238, 0.9644987052079709, 0.831057452463488, 0.6447951954650684, 0.9371236740873254, 0.04685618370436627, 0.9109791707852002, 0.6662369820818301, 0.6661632086262478, 0.24404826324175463, 0.2884206747402555, 0.1996758517432538, 0.08874482299700169, 0.06655861724775126, 0.08874482299700169, 0.5809812871240637, 0.38732085808270916, 0.19729877897312612, 0.7234288562347957, 0.9552460089855372, 0.7803342872445859, 0.7014076890655746, 0.022487979250820054, 0.05621994812705013, 0.06746393775246015, 0.8095672530295219, 0.04497595850164011, 0.30457500191960496, 0.20305000127973666, 0.4061000025594733, 0.9172351912414584, 0.7377634685405762, 0.21543495645572774, 0.5116580215823534, 0.053858739113931936, 0.10771747822786387, 0.0807881086708979, 0.8289445929865361, 0.7107055588609376, 0.9733946605874361, 0.08030802322776891, 0.03212320929110756, 0.06424641858221512, 0.01606160464555378, 0.06424641858221512, 0.7227722090499202, 0.8116245277976611, 0.6661632086262478, 0.7688198865889794, 0.12700142622579857, 0.5080057049031943, 0.25400285245159715, 0.8994002013546939, 0.7524040232267869, 0.8616926552804459, 0.9071328100867808, 0.9540844942853638, 0.9473598348915736, 0.7194174141639325, 0.24315420400712626, 0.7456728922885205, 0.7692064459308922, 0.5934303937206026, 0.33910308212605866, 0.5629141350397681, 0.4304637503245285, 0.9595497126505446, 0.42140004228094013, 0.2247466892165014, 0.1123733446082507, 0.08428000845618802, 0.14046668076031338, 0.7657205733520408, 0.21877730667201167, 0.08867043546418868, 0.04433521773209434, 0.19211927683907548, 0.1034488413748868, 0.17734087092837736, 0.13300565319628302, 0.029556811821396228, 0.19211927683907548, 0.871836892535772, 0.31246735283215815, 0.17359297379564342, 0.06943718951825736, 0.4166231371095442, 0.10473319708715166, 0.8378655766972133, 0.9001848802269325, 0.9709589242996466, 0.821915877430905, 0.6816417901858136, 0.8717607664075395, 0.7985146417607398, 0.8458296494712617, 0.13012763838019412, 0.41016283029099104, 0.13672094343033034, 0.41016283029099104, 0.2613864083000648, 0.6970304221335063, 0.5625611297518252, 0.41865014307112564, 0.7691949312228485, 0.08546610346920538, 0.08546610346920538, 0.8535003470448382, 0.9409121333652244, 0.7966339114790422, 0.7775337004049073, 0.8087909746168376, 0.8998030819338447, 0.7931366609983886, 0.695286858527768, 0.6532784993746793, 0.2964467648000173, 0.5928935296000346, 0.8981225350214687, 0.9450221254563173, 0.8324007421261072, 0.8206058022419895, 0.12907840111931448, 0.05531931476542049, 0.22127725906168197, 0.20283748747320846, 0.03687954317694699, 0.12907840111931448, 0.05531931476542049, 0.03687954317694699, 0.09219885794236748, 0.6908497155807379, 0.9120179460812335, 0.015704960759427813, 0.07852480379713907, 0.8951827632873854, 0.7938549604944872, 0.6507143765483978, 0.22651003911070497, 0.6795301173321149, 0.9217138617821004, 0.902280051960245, 0.24469417619932413, 0.09787767047972966, 0.09787767047972966, 0.5383271876385131, 0.8056727870504594, 0.6818938170017786, 0.4017443160950271, 0.5356590881267028, 0.9758616433698345, 0.9049698537955639, 0.8722511415996181, 0.8496271712258444, 0.7510516252404182, 0.9271762384856237, 0.11000496299930336, 0.02750124074982584, 0.11000496299930336, 0.11000496299930336, 0.6187779168710814, 0.8497573130139582, 0.922613948228054, 0.8634354683430943, 0.05802080562673355, 0.2320832225069342, 0.5221872506406019, 0.17406241688020066, 0.8947492110158773, 0.11858329591700621, 0.592916479585031, 0.23716659183401242, 0.9403982365829222, 0.8998030819338447, 0.9295610402445856, 0.8005141497579145, 0.8534757602772347, 0.7004263017971624, 0.6894243816553604, 0.05596844629368315, 0.16790533888104947, 0.6716213555241979, 0.09328074382280525, 0.41451041800767685, 0.025906901125479803, 0.025906901125479803, 0.10362760450191921, 0.10362760450191921, 0.31088281350575764, 0.926266953569387, 0.22927750935403698, 0.057319377338509246, 0.6305131507236017, 0.9272598739531522, 0.8553783767656082, 0.12219691096651547, 0.8143082517479325, 0.9164037901162898, 0.821909246966676, 0.5209064106714973, 0.20836256426859892, 0.10418128213429946, 0.1562719232014492, 0.883926363592811, 0.09821404039920122, 0.0735559426999926, 0.20227884242497968, 0.055166957024994454, 0.09194492837499076, 0.5516695702499446, 0.8508934445931565, 0.6032257362677872, 0.8154357687904773, 0.8894613517429596, 0.08498948347324285, 0.5099369008394571, 0.3399579338929714, 0.07232972442660346, 0.14465944885320692, 0.7232972442660346, 0.19331871331051623, 0.11046783617743784, 0.22093567235487568, 0.05523391808871892, 0.08285087713307838, 0.08285087713307838, 0.1380847952217973, 0.05523391808871892, 0.02761695904435946, 0.6523516759194016, 0.19026923880982546, 0.10872527931990027, 0.7467117234221803, 0.9825288992579795, 0.831071026738234, 0.19878221928132506, 0.2129809492299911, 0.26977586902465545, 0.04259618984599822, 0.2271796791786572, 0.014198729948666075, 0.3006449166687847, 0.6012898333375694, 0.8783975869410423, 0.599558710421619, 0.7604687163943332, 0.7027945958983984, 0.1756986489745996, 0.947879784654352, 0.7850770798626322, 0.40061458735952776, 0.10450815322422463, 0.33094248521004466, 0.017418025537370773, 0.10450815322422463, 0.052254076612112316, 0.17573349980301797, 0.16221553827970892, 0.12166165370978169, 0.02703592304661815, 0.08110776913985446, 0.13517961523309074, 0.2703592304661815, 0.9315813559207299, 0.8972584138005201, 0.0166110999284966, 0.0664443997139864, 0.058138849749738104, 0.0083055499642483, 0.0415277498212415, 0.0415277498212415, 0.7641105967108437, 0.762848846853442, 0.9485304171217938, 0.956177034660154, 0.913583970790334, 0.18410105333781648, 0.3068350888963608, 0.18410105333781648, 0.030683508889636082, 0.24546807111708865, 0.061367017779272164, 0.8484046708332801, 0.5783007630445551, 0.13011767168502492, 0.10120263353279715, 0.043372557228341636, 0.13011767168502492, 0.6550001939834862, 0.12765553472447205, 0.8297609757090683, 0.8898490553016468, 0.7991114563103681, 0.4128369211858981, 0.05897670302655687, 0.029488351513278437, 0.471813624212455, 0.6442521885533395, 0.30065102132489174, 0.6643146217753126, 0.16607865544382816, 0.13839887953652347, 0.16786170603755804, 0.815328286468139, 0.690327152250387, 0.8568339909587228, 0.8471370721886672, 0.5516839525828899, 0.3819350440958469, 0.04243722712176076, 0.1082095982565276, 0.1082095982565276, 0.6492575895391656, 0.7786476521083516, 0.03316813954722121, 0.07462831398124774, 0.18242476750971667, 0.11608848841527425, 0.1990088372833273, 0.008292034886805303, 0.04146017443402652, 0.12438052330207956, 0.07462831398124774, 0.008292034886805303, 0.058044244207637125, 0.024876104660415913, 0.04146017443402652, 0.8131513654606302, 0.6716390115375449, 0.7479233283154076, 0.1869808320788519, 0.6908497155807379, 0.37570839384831256, 0.30056671507865, 0.30056671507865, 0.25980100958720637, 0.3897015143808096, 0.25980100958720637, 0.11903693235189042, 0.833258526463233, 0.8339746153055182, 0.06287949147998892, 0.7073942791498754, 0.22007822017996123, 0.9278544295580121, 0.7726148476614697, 0.7742097517457428, 0.9289543656386351, 0.18974877489919398, 0.047437193724798495, 0.11859298431199623, 0.047437193724798495, 0.569246324697582, 0.8417032605549489, 0.9483034684554549, 0.7442402159336194, 0.1988821353312804, 0.042617600428131515, 0.08523520085626303, 0.22729386895003476, 0.2557056025687891, 0.1420586680937717, 0.05682346723750869, 0.8004580138861542, 0.5723308180427087, 0.39347743740436225, 0.8925032411822121, 0.1837263336918462, 0.7961474459980002, 0.8116245277976611, 0.8080477662335112, 0.8429337849895719, 0.8189095427491383, 0.12350697693500916, 0.01764385384785845, 0.4234524923486028, 0.1058631230871507, 0.1764385384785845, 0.15879468463072607, 0.9715603993139927, 0.9477040602837314, 0.759339038092426, 0.8547776137422283, 0.7199704835386275, 0.8674019073733624, 0.13474859113577103, 0.8354412650417804, 0.8953229313370966, 0.9060354586128517, 0.6956406388615237, 0.8910921446048157, 0.7212606693168064, 0.10685343249137873, 0.08014007436853404, 0.08014007436853404, 0.869260983166303, 0.7512367834338523, 0.08414547811890366, 0.10518184764862958, 0.1472545867080814, 0.1472545867080814, 0.2945091734161628, 0.021036369529725915, 0.16829095623780732, 0.7065222942195698, 0.6661632086262478, 0.910423313302577, 0.7128476994893279, 0.8116245277976611, 0.9346206165801183, 0.8911000620968017, 0.6498722522153216, 0.33970595002164544, 0.9214176274094704, 0.9338637097516317, 0.8006073708643484, 0.815200950407096, 0.9511898292385982, 0.12121859157785778, 0.68185457762545, 0.19698021131401888, 0.83937533172792, 0.09413555122182281, 0.03137851707394093, 0.03922314634242617, 0.806836442124964, 0.6581486923701481, 0.8240380198878485, 0.9221794312208704, 0.8954684601737082, 0.8899189699182405, 0.06199848990881207, 0.4339894293616845, 0.24799395963524828, 0.1859954697264362, 0.06199848990881207, 0.8856430415440094, 0.86409377425854, 0.6938868235446972, 0.2140701454357798, 0.6422104363073394, 0.9560039666404904, 0.8772863132386096, 0.07466266495647741, 0.018665666239119354, 0.7808530045896148, 0.869677446008824, 0.39250004920349335, 0.4485714848039924, 0.1121428712009981, 0.8026644868902175, 0.9746490403446181, 0.41928096142894555, 0.17969184061240523, 0.17969184061240523, 0.17969184061240523, 0.9243753252759273, 0.9793458447774863, 0.6301601012260325, 0.7934338386995976, 0.07934338386995976, 0.8220688526759763, 0.9737924926892146, 0.8566299843807785, 0.9318549785107354, 0.8037532660939416, 0.9406254413168093, 0.9255521390669185, 0.9322289948527411, 0.7052279437715387, 0.018055714090572886, 0.1444457127245831, 0.3791699959020306, 0.16250142681515597, 0.09027857045286443, 0.19861285499630174, 0.9143819957123105, 0.699098584401064, 0.5925570205986451, 0.15291794079965035, 0.17203268339960665, 0.057344227799868884, 0.7719866944913089, 0.7307246896744912, 0.8707988976582349, 0.8211550251790208, 0.25483104010168883, 0.1415728000564938, 0.31146016012428634, 0.08494368003389628, 0.1415728000564938, 0.9407225763736793, 0.7172810174783347, 0.9186559093888017, 0.5175467706999689, 0.4025363772110869, 0.7187703039798039, 0.12395827994200194, 0.07693962203296673, 0.7907683375610468, 0.004274423446275929, 0.2795390875761446, 0.6708938101827471, 0.8417609606434316, 0.8721065599400804, 0.5994882823347564, 0.8786454100745386, 0.7741447447278317, 0.7841122441435984, 0.8975277054680326, 0.7569004903374718, 0.7963657586325401, 0.7312608348068613, 0.942711329824399, 0.347378376187857, 0.018283072430939844, 0.09141536215469921, 0.16454765187845857, 0.05484921729281953, 0.1279815070165789, 0.07313228972375937, 0.09141536215469921, 0.8842254544818421, 0.07133081349326365, 0.23182514385310685, 0.03566540674663182, 0.07133081349326365, 0.03566540674663182, 0.1426616269865273, 0.04755387566217576, 0.041609641204403795, 0.053498110119947734, 0.07727504795103561, 0.1010519857821235, 0.01783270337331591, 0.04755387566217576, 0.00594423445777197, 0.01188846891554394, 0.6818938170017786, 0.7435232322463687, 0.14728479765189434, 0.3682119941297359, 0.2209271964778415, 0.2577483958908151, 0.8297908932699252, 0.7107055588609376, 0.8418971828737941, 0.29606271679807233, 0.3700783959975904, 0.14803135839903617, 0.07401567919951808, 0.03700783959975904, 0.907306408013446, 0.8710240678208572, 0.6341570544523436, 0.4783978315046858, 0.4783978315046858, 0.22411121257506691, 0.717155880240214, 0.4058054045432879, 0.5410738727243839, 0.6762710336499446, 0.9330182518339409, 0.6955576127592601, 0.890882900579838, 0.6908497155807379, 0.1950346129397125, 0.078013845175885, 0.0390069225879425, 0.31205538070354, 0.0390069225879425, 0.27304845811559747, 0.22209685124834286, 0.31093559174768, 0.08883874049933714, 0.35535496199734856, 0.7870749161756561, 0.719526241891842, 0.4274774084235049, 0.9116153288177001, 0.8026644868902175, 0.9498513640568931, 0.972719430700532, 0.5118710472494349, 0.14624887064269568, 0.29249774128539135, 0.1357390634634561, 0.0904927089756374, 0.7691880262929178, 0.6067379696573866, 0.8269674244501788, 0.024466491847638428, 0.07339947554291527, 0.0685061771733876, 0.8902106944804427, 0.6550002958691847, 0.9498513640568931, 0.837550476546695, 0.0837550476546695, 0.6576683348971496, 0.2989401522259771, 0.18733050150656852, 0.18733050150656852, 0.037466100301313705, 0.41212710331445074, 0.07493220060262741, 0.07493220060262741, 0.7136310696549799, 0.9048965237696058, 0.8743276208140832, 0.9122936903976793, 0.9476699394640644, 0.9812382120766657, 0.752786987843369, 0.9166514397087103, 0.07415504798578651, 0.29662019194314604, 0.5932403838862921, 0.9566920063645372, 0.8420283707051843, 0.12028976724359776, 0.9191322232911191, 0.6950608569251728, 0.7340260061716388, 0.4553370875644619, 0.1011860194587693, 0.4047440778350772, 0.9255142583401448, 0.6908497155807379, 0.9494023891234366, 0.8950807461239093, 0.040632497132956566, 0.1218974913988697, 0.1218974913988697, 0.20316248566478284, 0.44695746846252227, 0.020316248566478283, 0.040632497132956566, 0.7034646273204499, 0.473072876230818, 0.8390991748952273, 0.6738750968425669, 0.8642136499290063, 0.8597984859443949, 0.7659122875781091, 0.9054777772050273, 0.7113037895222949, 0.9605988941004461, 0.7774331208039583, 0.9048965237696058, 0.9263738408274469, 0.8426368656007619, 0.9194686209229683, 0.18175063771135158, 0.1557862608954442, 0.12982188407953685, 0.36350127542270316, 0.1557862608954442, 0.5261799969236529, 0.35078666461576863, 0.9770307021885435, 0.15013666300951564, 0.10009110867301042, 0.15013666300951564, 0.5254783205333048, 0.025022777168252606, 0.8051741832559528, 0.16103483665119056, 0.8030587765992847, 0.736763425318674, 0.8370511292172632, 0.5026862710059404, 0.2513431355029702, 0.1256715677514851, 0.08378104516765673, 0.9022645382805675, 0.7710899190719666, 0.9298398561207535, 0.6011118412166796, 0.8704503656976396, 0.8985262414663624, 0.9642207233211435, 0.05876824955456833, 0.7346031194321041, 0.014692062388642083, 0.1616126862750629, 0.014692062388642083, 0.6662370728027578, 0.9025452851477337, 0.7705350955362734, 0.8952283949762717, 0.8431786118038895, 0.7471164612232067, 0.404966284715221, 0.13498876157174033, 0.44996253857246776, 0.14354099702707288, 0.6488053065623695, 0.20095739583790204, 0.7486234440272619, 0.8960614702760279, 0.9271028769092882, 0.7187703039798039, 0.964436896514297, 0.8422907361549471, 0.04282834251635324, 0.09993279920482423, 0.8116244671805845, 0.9835092433563257, 0.4637259843754907, 0.2649862767859947, 0.198739707589496, 0.07468610428920926, 0.03734305214460463, 0.09335763036151158, 0.16804373465072084, 0.5228027300244649, 0.09335763036151158, 0.8925224507854912, 0.8426213398048994, 0.4068673297103127, 0.20343366485515635, 0.36618059673928144, 0.9380072304191872, 0.891834387480114, 0.9275655615546216, 0.3138444142513347, 0.6847514492756394, 0.949809340637987, 0.8894614461230246, 0.5947717510307319, 0.261699570453522, 0.11895435020614636, 0.9805070665083103, 0.6884177095444125, 0.8417138148687815, 0.9636381087921927, 0.6920243148550721, 0.11953863385936879, 0.788954983471834, 0.04781545354374751, 0.023907726771873757, 0.6283421565450826, 0.7528668177132998, 0.1075524025304714, 0.8560831649817664, 0.10272997979781197, 0.17285590034818396, 0.057618633449394656, 0.4321397508704599, 0.3457118006963679, 0.8112278713466622, 0.8735708521206731, 0.6017313578384295, 0.328217104275507, 0.6435954587019879, 0.925766322099855, 0.08587473465490807, 0.8587473465490807, 0.61537269009747, 0.823937871362248, 0.1420582536831462, 0.5214091270661678, 0.3476060847107786, 0.9235939341086307, 0.9319759294925021, 0.2575119621779087, 0.7210334940981445, 0.8148443257459067, 0.9368895724124711, 0.921252851054366, 0.9691252671894399, 0.8592313215552894, 0.9358354070265943, 0.42694770463311493, 0.8805219296053705, 0.11153586966701665, 0.7249831528356082, 0.1394198370837708, 0.7519427733908203, 0.12071119891176187, 0.7242671934705711, 0.9649476032653592, 0.9523559564572641, 0.9232208514408362, 0.8886796481240474, 0.9003315871656015, 0.2579195140819486, 0.6447987852048714, 0.7854491449077035, 0.029653684313641883, 0.17792210588185128, 0.04942280718940314, 0.3953824575152251, 0.3261905274500607, 0.019769122875761255, 0.3484720058670589, 0.6098260102673531, 0.6818938632917203, 0.7969245383300513, 0.765962139098563, 0.8418102451972388, 0.8917892450574046, 0.8418746477128554, 0.6579090090612574, 0.24671587839797154, 0.8790439670643445, 0.8647315207956526, 0.6894243816553604, 0.4045049557117493, 0.566306937996449, 0.7453223227048813, 0.349658067632526, 0.030852182438164056, 0.030852182438164056, 0.08227248650177083, 0.20568121625442704, 0.04113624325088541, 0.08227248650177083, 0.06170436487632811, 0.020568121625442706, 0.09255654731449217, 0.9234575293443849, 0.1739445817107051, 0.2236430336280494, 0.4472860672560988, 0.14909535575203292, 0.9366206223304623, 0.6661632086262478, 0.750296404091607, 0.911336940921529, 0.33679481271762624, 0.5051922190764394, 0.9367664995755617, 0.17143203536867438, 0.8000161650538137, 0.888737363664231, 0.5749849364487889, 0.23957705685366204, 0.14374623411219722, 0.9153249385530717, 0.7994724208491064, 0.9426878831286605, 0.7459502825551333, 0.9180443050181774, 0.6376892868895396, 0.9095499657712462, 0.6085112927650399, 0.3264673786800938, 0.47156399142680216, 0.10882245956003127, 0.03627415318667709, 0.7947639610262965, 0.17977083096859667, 0.808968739358685, 0.5329853378102303, 0.3807038127215931, 0.6454684897030213, 0.3771803273512781, 0.5972021849728569, 0.7676611819052501, 0.9279967122971373, 0.6773911606594637, 0.787791170667303, 0.032824632111137626, 0.16412316055568812, 0.849031636594705, 0.0274202886501876, 0.17548984736120063, 0.07129275049048776, 0.02193623092015008, 0.10419709687071288, 0.1700057896311631, 0.07677680822052528, 0.01096811546007504, 0.060324635030412715, 0.03838840411026264, 0.0548405773003752, 0.07677680822052528, 0.04387246184030016, 0.02193623092015008, 0.03838840411026264, 0.9690649938740075, 0.12359187316412726, 0.046346952436547725, 0.09269390487309545, 0.7106532706937317, 0.9343388891418821, 0.9533957600477586, 0.6912966663134666, 0.21215748473405996, 0.16972598778724796, 0.3394519755744959, 0.08486299389362398, 0.16972598778724796, 0.12436254275528275, 0.12436254275528275, 0.6839939851540551, 0.4490928338498434, 0.4490928338498434, 0.8113294729819365, 0.15038802750220004, 0.18046563300264007, 0.03007760550044001, 0.1002586850014667, 0.09023281650132003, 0.11028455350161337, 0.04010347400058668, 0.3007760550044001, 0.35747313672382686, 0.23831542448255122, 0.35747313672382686, 0.04397010430406665, 0.7474917731691331, 0.1758804172162666, 0.8481996417926396, 0.8235283722962486, 0.10725931729599339, 0.5005434807146358, 0.028602484612264906, 0.042903726918397354, 0.12156055960212585, 0.1859161499797219, 0.8827353053974081, 0.8393694254015275, 0.8227128716311597, 0.8292812233197747, 0.15077840423995903, 0.7181908819706381, 0.19587024053744675, 0.1670252501395124, 0.4625314619248035, 0.012848096164577875, 0.24411382712697963, 0.08993667315204512, 0.8189407835125369, 0.772173093319081, 0.0797246685298316, 0.0398623342649158, 0.25910517272195266, 0.13951816992720528, 0.05979350139737369, 0.1594493370596632, 0.19931167132457897, 0.05979350139737369, 0.9503274339291973, 0.8789283835410909, 0.7194467649566505, 0.7194467649566505, 0.8448870280198327, 0.9316943181017974, 0.08671373899531999, 0.9056768295066755, 0.9620147725032369, 0.9643214348251905, 0.8864807078887461, 0.9129846130024404, 0.7938549604944872, 0.7567107758683789, 0.6993653931179518, 0.7479157093747993, 0.1359846744317817, 0.06799233721589085, 0.7270283325100196, 0.24234277750333988, 0.8501610881113826, 0.8625155397085438, 0.812315432320343, 0.6507143756181124, 0.9324860638305335, 0.6234194820726778, 0.8216661544525926, 0.8955756306936875, 0.9368153040638744, 0.3512791639406194, 0.5339443291897416, 0.09835816590337344, 0.7672303256183538, 0.14385568605344135, 0.07991982558524519, 0.903198069629273, 0.9087410830278737, 0.9368470449269111, 0.6724405393985364, 0.048031467099895454, 0.2401573354994773, 0.9731953424932153, 0.9264496611330689, 0.9738128187061346, 0.7956242621209932, 0.9447169941667772, 0.3921230107026498, 0.560175729575214, 0.7539076388751046, 0.1218508039122441, 0.3350897107586712, 0.06092540195612205, 0.030462700978061023, 0.2437016078244882, 0.18277620586836613, 0.7706517345031741, 0.8367719340199078, 0.1740162326262376, 0.3828357117777227, 0.10440973957574255, 0.011601082175082506, 0.08120757522557755, 0.06960649305049504, 0.15081406827607258, 0.011601082175082506, 0.6805013708093428, 0.8851143482822799, 0.8253558427202056, 0.37663403281934, 0.06277233880322333, 0.5021787104257867, 0.9420525775121721, 0.019483240954129295, 0.27276537335781015, 0.11689944572477579, 0.15586592763303436, 0.23379889144955157, 0.09741620477064648, 0.07793296381651718, 0.03896648190825859, 0.7878487443018485, 0.09955900770111717, 0.8628447334096822, 0.936450769853532, 0.9190469992395682, 0.8733011099229444, 0.7712313532713843, 0.12853855887856405, 0.9818181785126516, 0.6081881118470451, 0.8029090860127606, 0.9745295766148315, 0.6928389879107141, 0.8182193250191804, 0.8861429698830943, 0.0681648438371611, 0.31699504522841776, 0.5230418246268893, 0.03169950452284178, 0.06339900904568356, 0.04754925678426267, 0.8596343596651436, 0.9007601102631576, 0.11446049563202282, 0.8012234694241598, 0.7699276152437946, 0.19650583854019676, 0.19650583854019676, 0.5895175156205903, 0.8794671096421034, 0.9542088556011669, 0.9586854561492618, 0.937181274896858, 0.8465523609717037, 0.9643201283847361, 0.7110697678792612, 0.591142719156944, 0.36378013486581173, 0.9819953830258932, 0.9180713712792253, 0.11143566160329138, 0.8357674620246853, 0.7882372579178147, 0.7622383107096479, 0.8470307436124282, 0.9287915735515012, 0.056290398397060674, 0.6532784993746793, 0.25271527685438844, 0.6317881921359711, 0.7756060620391507, 0.7715822361407119, 0.8495447892372088, 0.7321607184961867, 0.4972916166220268, 0.05525462406911409, 0.16576387220734226, 0.22101849627645637, 0.8331419508306172, 0.7268230321625775, 0.24068060689630782, 0.3209074758617438, 0.40113434482717975, 0.9355159573320015, 0.8697807949852838, 0.6491468027660081, 0.7981045974058631, 0.906588790634168, 0.08419505313640774, 0.02806501771213591, 0.08419505313640774, 0.7858204959398055, 0.6287820931349779, 0.829926931999131, 0.8937087538758757, 0.9861355426709429, 0.8867615051945371, 0.839982853857573, 0.7861610710553264, 0.7776943814060194, 0.03319560868853656, 0.06639121737707313, 0.21577145647548768, 0.4813363259837802, 0.1991736521312194, 0.6364035574640923, 0.18895966377709214, 0.21257962174922865, 0.047239915944273035, 0.047239915944273035, 0.047239915944273035, 0.1417197478328191, 0.21257962174922865, 0.07085987391640955, 0.8205273723266517, 0.16410547446533036, 0.790737579766652, 0.927003478390474, 0.9403118828884858, 0.8116245277976611, 0.8564140658381957, 0.9045451421263939, 0.19732578942910517, 0.7611137592265484, 0.028189398489872165, 0.9059432356087599, 0.7050995787054598, 0.26860936331636565, 0.893751715919479, 0.41909754354689766, 0.523871929433622, 0.26220957372239595, 0.6555239343059898, 0.8169389788013215, 0.07489827211209839, 0.12483045352016398, 0.024966090704032794, 0.7739488118250166, 0.05063303100769213, 0.9113945581384583, 0.09845548500154774, 0.21800857393199857, 0.08439041571561234, 0.555570236794448, 0.04219520785780617, 0.6532784993746793, 0.5748554458281988, 0.9130726710653865, 0.8886796481240474, 0.8087714817250654, 0.7374581931501097, 0.8860932328066993, 0.6196042967703836, 0.017167253065718903, 0.13733802452575122, 0.13733802452575122, 0.034334506131437806, 0.10300351839431342, 0.034334506131437806, 0.034334506131437806, 0.08583626532859452, 0.22317428985434576, 0.05150175919715671, 0.12017077146003233, 0.7572813495317074, 0.8551524282700963, 0.8041291836544846, 0.8254824071216254, 0.9085405399495067, 0.9007961339157076, 0.8353058898731363, 0.9828877874730044, 0.918219320243467, 0.3383635671827402, 0.5639392786379003, 0.9843299022141876, 0.022994236305752834, 0.04598847261150567, 0.2816793947454722, 0.0057485590764382085, 0.3161707492041015, 0.011497118152876417, 0.08622838614657313, 0.16670821321670803, 0.02874279538219104, 0.017245677229314624, 0.011497118152876417, 0.9172351912414584, 0.7895775266805116, 0.055902470295878956, 0.6708296435505474, 0.22360988118351582, 0.8636744676993657, 0.2142551447628186, 0.771318521146147, 0.06607802086013333, 0.19823406258039997, 0.6938192190313999, 0.03303901043006666, 0.010517943402018337, 0.24191269824642178, 0.1998409246383484, 0.1998409246383484, 0.04207177360807335, 0.03155383020605501, 0.13673326422623838, 0.09466149061816503, 0.021035886804036674, 0.021035886804036674, 0.7744704376882173, 0.6914851702180878, 0.8116245277976611, 0.8171001132658438, 0.746892853445855, 0.9055086436419985, 0.8374251991727745, 0.7460306549249724, 0.9202360625538779, 0.9207219564303345, 0.6908497155807379, 0.8874669294487668, 0.9259136246263473, 0.8647940770080388, 0.21308249876916274, 0.6818639960613208, 0.0852329995076651, 0.017363516713558767, 0.13890813370847013, 0.12154461699491136, 0.6945406685423506, 0.8391827949996192, 0.8612863126578364, 0.8965113085783164, 0.9876562279565098, 0.7984242560878058, 0.2419777376040007, 0.037227344246769344, 0.7259332128120022, 0.9073018927058536, 0.8577735339534162, 0.946055509305192, 0.14898741458422401, 0.009311713411514001, 0.08380542070362601, 0.009311713411514001, 0.11174056093816802, 0.05587028046908401, 0.20485769505330803, 0.027935140234542005, 0.018623426823028002, 0.037246853646056004, 0.10242884752665402, 0.11174056093816802, 0.065181993880598, 0.15349549825197947, 0.02361469203876607, 0.035422038058149106, 0.11807346019383036, 0.035422038058149106, 0.07084407611629821, 0.11807346019383036, 0.02361469203876607, 0.035422038058149106, 0.10626611417444733, 0.07084407611629821, 0.011807346019383035, 0.02361469203876607, 0.035422038058149106, 0.05903673009691518, 0.09445876815506428, 0.8628842157493815, 0.041406476060961366, 0.7729208864712788, 0.041406476060961366, 0.013802158686987122, 0.0690107934349356, 0.05520863474794849, 0.9463997384639153, 0.9600407570222992, 0.9835024347682508, 0.12614167930964962, 0.7148028494213479, 0.12614167930964962, 0.6788052855031953, 0.9340002680374333, 0.2737551300241004, 0.711763338062661, 0.8454798882335658, 0.7939699303088641, 0.955296740437591, 0.7133344786203536, 0.6662370728027578, 0.9403605044701882, 0.04156769822053428, 0.7708918579080902, 0.015115526625648827, 0.16627079288213711, 0.07073902421995107, 0.22232264754841763, 0.0808445991085155, 0.6164400682024307, 0.8146787510652261, 0.9600838266635853, 0.9716192073367186, 0.0790562421354253, 0.030406246975163576, 0.085137491530458, 0.054731244555294434, 0.018243748185098146, 0.030406246975163576, 0.01216249879006543, 0.01216249879006543, 0.13378748669071974, 0.085137491530458, 0.006081249395032715, 0.14594998548078517, 0.1216249879006543, 0.02432499758013086, 0.018243748185098146, 0.01216249879006543, 0.030406246975163576, 0.042568745765229, 0.006081249395032715, 0.02432499758013086, 0.030406246975163576, 0.8121082984151153, 0.7687317174585245, 0.5997589252937027, 0.11498065702976225, 0.08623549277232169, 0.7761194349508952, 0.8171001132658438, 0.25230490453626686, 0.16820326969084456, 0.5046098090725337, 0.283656674051538, 0.6483581121178011, 0.8838329586292043, 0.4562926224075018, 0.8132019957623144, 0.13330477541061886, 0.06665238770530943, 0.6331976832004397, 0.13330477541061886, 0.9043040189196343, 0.7067128107061886, 0.7094739095822273, 0.9239806449999236, 0.8802230074382833, 0.8068383581691275, 0.8541326937711097, 0.9180855180546071, 0.18894026872141845, 0.05668208061642553, 0.07557610748856737, 0.09447013436070922, 0.037788053744283685, 0.358986510570695, 0.17004624184927658, 0.7401250218959456, 0.05921000175167566, 0.17763000525502698, 0.7052884296141868, 0.8425189527043396, 0.7262372341710522, 0.8868782232282778, 0.8629795994340712, 0.8868782232282778, 0.9219322726198662, 0.318474016357691, 0.07961850408942275, 0.1592370081788455, 0.318474016357691, 0.07961850408942275, 0.015309489190929873, 0.09185693514557924, 0.15309489190929873, 0.04592846757278962, 0.061237956763719494, 0.061237956763719494, 0.04592846757278962, 0.061237956763719494, 0.4592846757278962, 0.7792670180339073, 0.25148129452491297, 0.10059251780996518, 0.3520738123348781, 0.25148129452491297, 0.13996101100473246, 0.06998050550236623, 0.48986353851656356, 0.034990252751183115, 0.10497075825354935, 0.06998050550236623, 0.8747207661304557, 0.7575450739540817, 0.12504678282090775, 0.06252339141045388, 0.06252339141045388, 0.5835516531642363, 0.12504678282090775, 0.03126169570522694, 0.2500172027083058, 0.08333906756943525, 0.4166953378471763, 0.08333906756943525, 0.036110262662381, 0.866646303897144, 0.072220525324762, 0.9161252625960908, 0.8301160171230504, 0.9778110558054439, 0.9255522144806916, 0.24612414009970196, 0.38676650587096023, 0.17580295721407282, 0.1054817743284437, 0.03516059144281457, 0.9297998401788197, 0.8037532660939416, 0.8960454475052594, 0.6081508223290526, 0.6532784993746793, 0.7467117234221803, 0.9605374512033026, 0.821915877430905, 0.09405076096905308, 0.8464568487214779, 0.8024413733785388, 0.15660284930496624, 0.09396170958297974, 0.22968417898061716, 0.08352151962931532, 0.125282279443973, 0.125282279443973, 0.010440189953664416, 0.05220094976832208, 0.02088037990732883, 0.010440189953664416, 0.04176075981465766, 0.02088037990732883, 0.3907121638286168, 0.5860682457429252, 0.1755824676428414, 0.3511649352856828, 0.1755824676428414, 0.23410995685712188, 0.3135394227554632, 0.6270788455109264, 0.8688453721369352, 0.8688453721369352, 0.9360960704117502, 0.5946432943844409, 0.23785731775377633, 0.8249387011008686, 0.13748978351681143, 0.07600348026224116, 0.7600348026224115, 0.11400522039336172, 0.054568890109894366, 0.8731022417583099, 0.0857014473794073, 0.4040211090743487, 0.061215319556719494, 0.42850723689703646, 0.6829298059256393, 0.7751384540613665, 0.20546477499253515, 0.12327886499552108, 0.6163943249776055, 0.883975133903731, 0.6957552607374795, 0.17393881518436988, 0.5748554458281988, 0.19703346464221752, 0.179121331492925, 0.0895606657464625, 0.1612091983436325, 0.0895606657464625, 0.0537363994478775, 0.1612091983436325, 0.0537363994478775, 0.6818938632917203, 0.21991046744625536, 0.02748880843078192, 0.02748880843078192, 0.6872202107695481, 0.9437884239307756, 0.9284181712908031, 0.8663186806074645, 0.9303898168547994, 0.6661632086262478, 0.750384180802561, 0.8298326140667834, 0.9602311891220663, 0.9722184851519002, 0.723743647389224, 0.09126933477632548, 0.8944394808079897, 0.6454684897030213, 0.6615415124459461, 0.8014092503504426, 0.7032906267732347, 0.26193093163221653, 0.480206707992397, 0.21827577636018047, 0.8529645939228795, 0.12794468908843193, 0.9286597600311628, 0.7687317174585245, 0.617561734038892, 0.308780867019446, 0.034308985224382894, 0.19572039620696283, 0.08240858787661594, 0.10301073484576992, 0.07210751439203894, 0.07210751439203894, 0.05150536742288496, 0.2678279105990018, 0.15451610226865486, 0.8672964470886552, 0.8171001132658438, 0.6894243816553604, 0.42005112498123426, 0.5169859999769036, 0.6892751530031798, 0.2581680098630983, 0.05163360197261965, 0.6712368256440555, 0.9622198245267717, 0.7445075972136289, 0.9235059131284157, 0.7555625278650966, 0.8629795994340712, 0.8712382907066956, 0.9102922511455124, 0.43103743913440434, 0.22350089436598744, 0.0478930487927116, 0.01596434959757053, 0.0478930487927116, 0.22350089436598744, 0.0785498560876221, 0.19637464021905526, 0.23564956826286632, 0.03927492804381105, 0.3141994243504884, 0.03927492804381105, 0.8804402817768878, 0.014580242622777689, 0.04374072786833307, 0.2770246098327761, 0.08748145573666614, 0.33534558032388684, 0.07290121311388845, 0.029160485245555378, 0.08748145573666614, 0.04374072786833307, 0.014580242622777689, 0.9219947795406658, 0.8818872292236555, 0.833753045129491, 0.802873888784722, 0.6144709875167184, 0.9735282947743729, 0.9497890341837364, 0.8343515408205853, 0.11743334331037941, 0.005871667165518971, 0.8690067404968076, 0.7914697836764457, 0.8980926477079272, 0.6661632086262478, 0.8628956744311992, 0.07210727893386085, 0.86528734720633, 0.8491097400979358, 0.6050611493300954, 0.9124601174741087, 0.9907069496252039, 0.5828633111756706, 0.3085746941518256, 0.06857215425596123, 0.13637078466660982, 0.5182089817331172, 0.3272898831998635, 0.863136834929094, 0.8767287743534584, 0.7243798513715497, 0.1307358154744148, 0.2614716309488296, 0.5665218670557973, 0.9289241948751852, 0.8010599914630947, 0.6454684897030213, 0.6624291082366396, 0.7992989609173747, 0.9332661093332412, 0.9006234888803888, 0.7808530045896148, 0.4662048164635687, 0.12714676812642783, 0.3814403043792835, 0.030965822161675073, 0.5264189767484763, 0.09289746648502523, 0.12386328864670029, 0.1548291108083754, 0.061931644323350146, 0.8105767459934957, 0.9093088326975852, 0.7434298540974572, 0.22295346844886435, 0.06860106721503519, 0.3944561364864523, 0.12005186762631156, 0.13720213443007037, 0.017150266803758796, 0.03430053360751759, 0.9531224607854981, 0.8373988734385032, 0.8815656064351726, 0.8047489985272227, 0.7942731375596621, 0.8184718550541381, 0.5693414467755936, 0.26277297543488937, 0.13138648771744468, 0.7591236593341733, 0.8616972235515538, 0.11489296314020717, 0.8255381201072266, 0.9029729568690585, 0.3025805585407609, 0.6483869111587733, 0.07557832637558988, 0.05038555091705992, 0.13856026502191476, 0.07557832637558988, 0.39048801960721435, 0.23933136685603462, 0.00629819386463249, 0.00629819386463249, 0.01889458159389747, 0.8649156229522135, 0.9940990021222527, 0.8101628394859238, 0.6971503684735298, 0.2681347571052038, 0.07048599912855999, 0.035242999564279995, 0.035242999564279995, 0.74010299084988, 0.07048599912855999, 0.868478875072592, 0.8123154767053663, 0.08385620461713822, 0.8804901484799512, 0.8171001132658438, 0.0737900650378434, 0.9100774688000686, 0.6983618777271358, 0.8204784421855194, 0.8826273198908147, 0.9455720775721929, 0.69524787583332, 0.6392868295378996, 0.23973256107671237, 0.44191466934664153, 0.44191466934664153, 0.08288539352263276, 0.27628464507544254, 0.11051385803017702, 0.22102771606035404, 0.27628464507544254, 0.9398445924624511, 0.22715563293010485, 0.7382558070228408, 0.7168434101600958, 0.6000947391693883, 0.9324211491333955, 0.7235824313303768, 0.19734066309010279, 0.7041459858502351, 0.0764486756823447, 0.017642002080541085, 0.8821001040270542, 0.005880667360180361, 0.011761334720360722, 0.7194467649566505, 0.13530775283017843, 0.13530775283017843, 0.7103657023584368, 0.04037497293822676, 0.16149989175290705, 0.7873119722954218, 0.7728226196014939, 0.9333127725325863, 0.02242216964194596, 0.12332193303070277, 0.20179952677751364, 0.12332193303070277, 0.07847759374681086, 0.06726650892583788, 0.02242216964194596, 0.07847759374681086, 0.03363325446291894, 0.06726650892583788, 0.14574410267264873, 0.03363325446291894, 0.9592219451806984, 0.7992103944176508, 0.052397136456441305, 0.14671198207803565, 0.04191770916515305, 0.12575312749545914, 0.14671198207803565, 0.23054740040834176, 0.04191770916515305, 0.20958854582576522, 0.04766811291920891, 0.07626898067073426, 0.03813449033536713, 0.028600867751525344, 0.08580260325457603, 0.07626898067073426, 0.2669414323475699, 0.05720173550305069, 0.03813449033536713, 0.17160520650915206, 0.019067245167683565, 0.07626898067073426, 0.9218009403301666, 0.6532776770223522, 0.1399880736476469, 0.0466626912158823, 0.0933253824317646, 0.9638912956928277, 0.759123597581542, 0.7151850608509974, 0.8583838338550214, 0.1183977701868995, 0.7321081425680973, 0.8903404758570939, 0.7059371692524976, 0.9258374044969189, 0.84094910207186, 0.0561551773132655, 0.006239464145918389, 0.17470499608571488, 0.09983142633469422, 0.224620709253062, 0.04367624902142872, 0.08111303389693905, 0.018718392437755166, 0.12478928291836777, 0.13726821121020455, 0.018718392437755166, 0.006239464145918389, 0.86514201045599, 0.830101392263499, 0.9467500862284763, 0.8816246221951249, 0.9787877790911194, 0.8913964028169984, 0.809836133431527, 0.13497268890525452, 0.8976164592381816, 0.3889727463989832, 0.4167565139989106, 0.16670260559956424, 0.027783767599927373, 0.8789372687318094, 0.6550001939834862, 0.21377700621791798, 0.748219521762713, 0.7404158293347674, 0.8858517461883488, 0.7578638565970046, 0.9757306765141999, 0.9243230553240265, 0.2809183780089437, 0.6742041072214648, 0.2041932818817222, 0.7657248070564583, 0.9007037203208262, 0.7803380389871545, 0.8711089781686187, 0.4117158952895738, 0.566109356023164, 0.9305604438815663, 0.8917943830032705, 0.8681808147017301, 0.8915478845567953, 0.8537622757124077, 0.6589507565059877, 0.3535307258165966, 0.5892178763609943, 0.9353149278471871, 0.7758273440563871, 0.9602100701445853, 0.7047106903074936, 0.8513380861385873, 0.8115278898829685, 0.12172918348244528, 0.8784722508955315, 0.8892498155336329, 0.02997517704590498, 0.07493794261476246, 0.0674441483532862, 0.10491311966066744, 0.11990070818361992, 0.09741932539919118, 0.01498758852295249, 0.09741932539919118, 0.007493794261476245, 0.04496276556885747, 0.05995035409180996, 0.05245655983033372, 0.07493794261476246, 0.03746897130738123, 0.0824317368762387, 0.022481382784428735, 0.01498758852295249, 0.2488936062581025, 0.0497787212516205, 0.0497787212516205, 0.5475659337678255, 0.0497787212516205, 0.9652193069733503, 0.834784940512189, 0.7669664289164636, 0.2598712321252788, 0.6496780803131971, 0.6909987689714482, 0.07973062718901326, 0.17009200466989496, 0.047838376313407954, 0.005315375145934218, 0.6758735337423204, 0.756975302311904, 0.887768733544465, 0.89396649915441, 0.8223956999743794, 0.7911009184940173, 0.6546749712709272, 0.2618699885083709, 0.7434298540974572, 0.8460187603863976, 0.11521612356013583, 0.2880403089003396, 0.5760806178006792, 0.9096709351174892, 0.7663193486343683, 0.03351008466929698, 0.13404033867718793, 0.35185588902761833, 0.10053025400789095, 0.11728529634253945, 0.050265127003945476, 0.03351008466929698, 0.03351008466929698, 0.13404033867718793, 0.6224767080554074, 0.9171706033561916, 0.41226705664372915, 0.5153338208046614, 0.9557859117205416, 0.8927670732478964, 0.05251571019105273, 0.026257855095526365, 0.6662370728027578, 0.9324860638305335, 0.844973807511854, 0.8339745311768273, 0.33265643867995476, 0.49898465801993214, 0.7863657487548622, 0.910381671907043, 0.08023934336200905, 0.14901592338658826, 0.21779250341116743, 0.02292552667485973, 0.08023934336200905, 0.04585105334971946, 0.08023934336200905, 0.04585105334971946, 0.27510632009831676, 0.9639853115234973, 0.7692224061059749, 0.8642479731844959, 0.08642479731844958, 0.8663733449404695, 0.15774544687658063, 0.7887272343829032, 0.6925402914392812, 0.906653430062972, 0.8722511390013927, 0.9509846970022093, 0.05347512768674624, 0.03872336832488521, 0.04794321792604835, 0.06453894720814202, 0.007375879680930515, 0.05347512768674624, 0.06822688704860727, 0.05347512768674624, 0.01475175936186103, 0.04794321792604835, 0.0018439699202326288, 0.03503542848441995, 0.0018439699202326288, 0.06269497728790939, 0.031347488643954695, 0.012907789441628402, 0.042411308165350464, 0.02028366912255892, 0.009219849601163144, 0.023971608963024176, 0.07560276672953778, 0.036879398404652576, 0.018439699202326288, 0.011063819521395773, 0.04056733824511784, 0.02028366912255892, 0.011063819521395773, 0.04056733824511784, 0.01659572928209366, 0.0036879398404652576, 0.01475175936186103, 0.02028366912255892, 0.15912433829966102, 0.26520723049943506, 0.4243315687990961, 0.15912433829966102, 0.05736828482125301, 0.8318401299081686, 0.04302621361593976, 0.07171035602656625, 0.6593517876943166, 0.7413819274768202, 0.926926432732119, 0.711069832981799, 0.13565399477397694, 0.8139239686438615, 0.8900690939138668, 0.12964212058262906, 0.10889938128940842, 0.03629979376313614, 0.508197112683906, 0.09852801164279809, 0.041485478586441304, 0.031114108939830975, 0.041485478586441304, 0.8264490745158497, 0.19783610164351173, 0.7418853811631689, 0.14223490530724056, 0.7253980170669269, 0.04267047159217217, 0.028446981061448114, 0.04267047159217217, 0.7035812467773729, 0.7388556980395726, 0.05277540700282662, 0.15832622100847987, 0.8127456205114716, 0.9454056778616854, 0.8533504493523055, 0.7586432887032112, 0.4426655001607312, 0.4426655001607312, 0.6816417314684554, 0.7707377456036981, 0.10867183517050824, 0.06520310110230494, 0.2716795879262706, 0.43468734068203296, 0.04346873406820329, 0.03260155055115247, 0.03260155055115247, 0.8962022240855482, 0.5712779264968663, 0.40805566178347585, 0.2628780689453757, 0.12572429384344053, 0.06857688755096757, 0.365743400271827, 0.06857688755096757, 0.09143585006795675, 0.7434298540974572, 0.7965691753361956, 0.9057977098336012, 0.8820750053403409, 0.7816530867453072, 0.1954132716863268, 0.9840736948134007, 0.8412322504597929, 0.8406995877574684, 0.9283952138818702, 0.8698947560471783, 0.810689763410093, 0.2800772868230502, 0.7001932170576255, 0.8129349063190294, 0.887573640518538, 0.7787419836558996, 0.15175232993490673, 0.834637814641987, 0.8683565162889763, 0.5922976298712372, 0.06581084776347079, 0.06581084776347079, 0.1974325432904124, 0.9140497103153175, 0.885782095003605, 0.6818938632917203, 0.854359428872283, 0.8737160324428787, 0.5987027849636202, 0.03991351899757468, 0.27939463298302275, 0.03991351899757468, 0.6829298809148366, 0.8229139615153478, 0.9927237944119225, 0.927184189976182, 0.8018811905556859, 0.8792938937451434, 0.7029329107315534, 0.06338141302954613, 0.06338141302954613, 0.09507211954431918, 0.7605769563545535, 0.8693724078750558, 0.15345791820446603, 0.7672895910223301, 0.897185066320556, 0.12243275208541285, 0.734596512512477, 0.11092933786634533, 0.22185867573269066, 0.22185867573269066, 0.4067409055099329, 0.036976445955448446, 0.8084474803818148, 0.9173970865139827, 0.9369731210997753, 0.8363325107799916, 0.976944066682522, 0.6179350495467695, 0.05411924968054949, 0.9200272445693414, 0.9491676482135075, 0.6016363094615266, 0.7772270330724471, 0.9080531858834247, 0.6367357336826986, 0.06715058340635843, 0.36932820873497135, 0.10072587510953765, 0.2909858614275532, 0.033575291703179216, 0.06715058340635843, 0.05595881950529869, 0.4565363040793403, 0.7718124509440675, 0.9397849034053072, 0.7263586254985891, 0.16141302788857534, 0.1473229493706799, 0.07366147468533996, 0.09821529958045327, 0.07366147468533996, 0.1227691244755666, 0.19643059916090655, 0.07366147468533996, 0.09821529958045327, 0.04910764979022664, 0.9785893350336784, 0.7278237549924256, 0.018954475048717136, 0.11372685029230283, 0.044227108447006655, 0.18954475048717137, 0.044227108447006655, 0.0631815834957238, 0.044227108447006655, 0.08213605854444092, 0.22113554223503326, 0.025272633398289515, 0.05686342514615141, 0.012636316699144758, 0.0631815834957238, 0.018954475048717136, 0.8823651677592774, 0.14534474653648374, 0.7993961059506606, 0.6196042967703836, 0.20338256737311936, 0.10169128368655968, 0.6101477021193581, 0.28535550284581196, 0.6658295066402279, 0.04425692522477081, 0.8777623502912877, 0.06638538783715621, 0.36148425376581156, 0.5422263806487173, 0.7257660730602772, 0.04696994075983086, 0.07380990690830563, 0.10064987305678041, 0.08051989844542433, 0.05367993229694955, 0.03354995768559347, 0.06709991537118694, 0.08722988998254302, 0.09393988151966172, 0.08722988998254302, 0.06709991537118694, 0.11406985613101779, 0.020129974611356082, 0.013419983074237387, 0.05367993229694955, 0.8764952491765879, 0.2730304821588099, 0.08190914464764297, 0.16381828929528594, 0.3276365785905719, 0.10921219286352395, 0.05460609643176197, 0.6283421565450826, 0.9314978897975122, 0.9784171918751579, 0.1469558869042178, 0.8449963496992523, 0.7408448475294003, 0.18521121188235007, 0.9600101687448584, 0.7434298584929862, 0.8906062438063378], \"Term\": [\"ability\", \"able\", \"able\", \"able\", \"able\", \"able\", \"able\", \"able\", \"able\", \"able\", \"able\", \"able\", \"able\", \"accelerator\", \"accept\", \"accept\", \"acceptable\", \"acceptable\", \"acceptable\", \"access\", \"access\", \"access\", \"access\", \"access\", \"access\", \"access\", \"access\", \"accessible\", \"accessor\", \"accomplish\", \"accord\", \"accord\", \"account\", \"account\", \"accurate\", \"accurately\", \"achieve\", \"achieve\", \"achieve\", \"act\", \"action\", \"action\", \"actionscript\", \"activate\", \"active\", \"activemq\", \"actual\", \"actually\", \"actually\", \"actually\", \"actually\", \"actually\", \"actually\", \"aculo\", \"ad\", \"add\", \"add\", \"add\", \"add\", \"add\", \"add\", \"addition\", \"address\", \"administrative\", \"administrator\", \"adopt\", \"advance\", \"affect\", \"afternoon\", \"agent\", \"aggregate\", \"agile\", \"ago\", \"ahead\", \"aim\", \"ajax\", \"alert\", \"allocate\", \"allocator\", \"allow\", \"allow\", \"allow\", \"allow\", \"allow\", \"allow\", \"allow\", \"allowable\", \"allowoverride\", \"almost\", \"alpha\", \"already\", \"already\", \"already\", \"already\", \"already\", \"already\", \"already\", \"already\", \"alternative\", \"always\", \"always\", \"always\", \"always\", \"always\", \"always\", \"amount\", \"amount\", \"amount\", \"amp\", \"amp\", \"amp\", \"analysis\", \"analytic\", \"analyze\", \"anchor\", \"animation\", \"annotate\", \"annotation\", \"anothtransfer\", \"ansi\", \"answer\", \"answer\", \"answer\", \"answer\", \"answer\", \"answer\", \"answer\", \"anti\", \"anymore\", \"anyway\", \"anywhere\", \"anywhere\", \"apart\", \"api\", \"app\", \"app\", \"app\", \"app\", \"app\", \"appanythe\", \"apparently\", \"appconfuse\", \"appdir\", \"appeal\", \"appear\", \"appear\", \"appear\", \"appear\", \"appear\", \"appear\", \"append\", \"appl\", \"applicable\", \"application\", \"application\", \"application\", \"application\", \"application\", \"application\", \"application\", \"application\", \"application\", \"application\", \"application\", \"application\", \"application\", \"application\", \"application\", \"application\", \"application\", \"apply\", \"apply\", \"apply\", \"appreciate\", \"appreciate\", \"approach\", \"approach\", \"approach\", \"appropriate\", \"approximately\", \"approximately\", \"appsetting\", \"aproach\", \"arbitrary\", \"architecture\", \"architecture\", \"archive\", \"archive\", \"area\", \"area\", \"arg\", \"argument\", \"argument\", \"around\", \"array\", \"array\", \"array\", \"arrow\", \"art\", \"article\", \"article\", \"artifact\", \"artist\", \"aselector\", \"ask\", \"ask\", \"ask\", \"ask\", \"ask\", \"ask\", \"ask\", \"asp\", \"aspect\", \"aspectj\", \"aspx\", \"assembly\", \"assembly\", \"assertion\", \"assign\", \"associate\", \"associate\", \"association\", \"assume\", \"assume\", \"async\", \"atom\", \"attach\", \"attachment\", \"attribute\", \"attribute\", \"authenticate\", \"authentication\", \"author\", \"auto\", \"autocompleter\", \"automate\", \"automate\", \"automate\", \"automatic\", \"automatic\", \"automatically\", \"automatically\", \"automatically\", \"automatically\", \"autorelease\", \"available\", \"available\", \"available\", \"available\", \"available\", \"available\", \"average\", \"avoid\", \"avoid\", \"avoid\", \"avoid\", \"avoid\", \"aware\", \"away\", \"awesome\", \"awful\", \"back\", \"back\", \"back\", \"back\", \"back\", \"background\", \"background\", \"backup\", \"backward\", \"balance\", \"balance\", \"banked\", \"bar\", \"bar\", \"bar\", \"base\", \"base\", \"base\", \"base\", \"base\", \"base\", \"base\", \"base\", \"base\", \"base\", \"bash\", \"basic\", \"basic\", \"basic\", \"basic\", \"basic\", \"basic\", \"basically\", \"basically\", \"basically\", \"basis\", \"bat\", \"batch\", \"bean\", \"become\", \"begin\", \"begin\", \"beginner\", \"behave\", \"behavior\", \"behavior\", \"believe\", \"believe\", \"believe\", \"belong\", \"benchmark\", \"beneficial\", \"benefit\", \"beta\", \"big\", \"big\", \"bill\", \"binary\", \"binary\", \"bind\", \"bind\", \"binding\", \"bit\", \"bit\", \"bite\", \"black\", \"blank\", \"blend\", \"bll\", \"block\", \"block\", \"blockquote\", \"blockquote\", \"blockquote\", \"blockquote\", \"blockquote\", \"board\", \"body\", \"bomb\", \"book\", \"bool\", \"boolean\", \"boost\", \"border\", \"bottom\", \"bottom\", \"boundariever\", \"bounty\", \"box\", \"box\", \"box\", \"br\", \"branch\", \"break\", \"break\", \"breakpoint\", \"brick\", \"bridge\", \"brief\", \"brio\", \"briotrye\", \"broker\", \"browse\", \"browse\", \"browser\", \"browser\", \"browser\", \"browser\", \"browser\", \"browser\", \"btw\", \"buf\", \"buffer\", \"bug\", \"bug\", \"bug\", \"bug\", \"build\", \"build\", \"build\", \"build\", \"build\", \"build\", \"build\", \"build\", \"bunch\", \"bus\", \"business\", \"businessobject\", \"button\", \"button\", \"button\", \"buy\", \"bvalidatefield\", \"byte\", \"byte\", \"byte\", \"byval\", \"ca\", \"ca\", \"ca\", \"ca\", \"ca\", \"ca\", \"ca\", \"ca\", \"ca\", \"ca\", \"ca\", \"cache\", \"cache\", \"cached\", \"calculation\", \"calendar\", \"call\", \"call\", \"call\", \"call\", \"call\", \"call\", \"call\", \"call\", \"call\", \"callback\", \"camera\", \"candidate\", \"canonical\", \"capable\", \"capacity\", \"capitalize\", \"capture\", \"card\", \"care\", \"case\", \"case\", \"case\", \"case\", \"case\", \"case\", \"case\", \"cast\", \"catalyst\", \"catch\", \"catch\", \"category\", \"cause\", \"cause\", \"cause\", \"cause\", \"cause\", \"caveat\", \"ccnet\", \"ccomptr\", \"cd\", \"cell\", \"cell\", \"certain\", \"certain\", \"certain\", \"certain\", \"certainly\", \"certificate\", \"cgi\", \"cglib\", \"chain\", \"change\", \"change\", \"change\", \"change\", \"change\", \"change\", \"change\", \"change\", \"change\", \"changea\", \"changuse\", \"chapter\", \"char\", \"character\", \"character\", \"character\", \"character\", \"charbuffer\", \"charfield\", \"chat\", \"cheap\", \"cheap\", \"check\", \"check\", \"check\", \"check\", \"check\", \"checkout\", \"chess\", \"child\", \"child\", \"chm\", \"choice\", \"choose\", \"choose\", \"choose\", \"chrome\", \"chronologically\", \"chunk\", \"ci\", \"city\", \"class\", \"class\", \"class\", \"class\", \"classname\", \"clean\", \"clean\", \"clean\", \"clean\", \"clearly\", \"clearly\", \"click\", \"clickable\", \"client\", \"client\", \"client\", \"client\", \"client\", \"close\", \"close\", \"close\", \"close\", \"close\", \"closing\", \"closure\", \"clue\", \"cluster\", \"cluster\", \"clustered\", \"clutter\", \"cmd\", \"cms\", \"cocoa\", \"code\", \"code\", \"code\", \"code\", \"code\", \"code\", \"code\", \"code\", \"code\", \"code\", \"code\", \"code\", \"code\", \"code\", \"code\", \"code\", \"code\", \"code\", \"code\", \"code\", \"codeplex\", \"codewriter\", \"colleague\", \"collect\", \"collection\", \"collection\", \"collection\", \"colon\", \"color\", \"color\", \"column\", \"columnheader\", \"com\", \"com\", \"com\", \"com\", \"com\", \"com\", \"com\", \"com\", \"combination\", \"combination\", \"combinator\", \"combine\", \"combine\", \"come\", \"come\", \"come\", \"come\", \"command\", \"commandmy\", \"comment\", \"commercial\", \"commit\", \"commit\", \"common\", \"common\", \"commonly\", \"communication\", \"compare\", \"compare\", \"compatibility\", \"compatible\", \"compilation\", \"compile\", \"compile\", \"compile\", \"compile\", \"compile\", \"compile\", \"compiler\", \"compiler\", \"compilerversion\", \"complete\", \"complete\", \"completely\", \"complex\", \"complex\", \"compliant\", \"complicate\", \"complicated\", \"component\", \"component\", \"component\", \"compute\", \"computer\", \"computer\", \"computer\", \"con\", \"conadmindb\", \"concept\", \"concern\", \"concern\", \"concrete\", \"condition\", \"conditional\", \"config\", \"configsection\", \"configuration\", \"configuration\", \"configuration\", \"configure\", \"configure\", \"configure\", \"configuring\", \"configview\", \"confirm\", \"confirmation\", \"conflict\", \"conform\", \"confuddle\", \"confuse\", \"confused\", \"connect\", \"connect\", \"connection\", \"connection\", \"connection\", \"connection\", \"connection\", \"connection\", \"consideration\", \"consistent\", \"console\", \"console\", \"const\", \"const\", \"constant\", \"constraint\", \"constructor\", \"consultant\", \"consume\", \"contact\", \"contain\", \"contain\", \"contain\", \"contain\", \"contain\", \"contain\", \"contain\", \"container\", \"content\", \"content\", \"contenttype\", \"context\", \"context\", \"context\", \"continuous\", \"control\", \"control\", \"control\", \"control\", \"control\", \"control\", \"controller\", \"controlmy\", \"conversion\", \"convert\", \"convert\", \"cookie\", \"cool\", \"copy\", \"copy\", \"copy\", \"copy\", \"copy\", \"copyright\", \"core\", \"corner\", \"correct\", \"correct\", \"correct\", \"correct\", \"correspond\", \"cost\", \"could\", \"could\", \"could\", \"could\", \"could\", \"could\", \"could\", \"could\", \"could\", \"could\", \"could\", \"could\", \"could\", \"could\", \"could\", \"count\", \"count\", \"country\", \"couple\", \"course\", \"course\", \"course\", \"cover\", \"coverage\", \"cp\", \"cpp\", \"cpu\", \"crash\", \"crash\", \"crazy\", \"create\", \"create\", \"create\", \"create\", \"create\", \"create\", \"create\", \"create\", \"create\", \"create\", \"create\", \"create\", \"create\", \"creation\", \"cred\", \"credential\", \"crippling\", \"cross\", \"cross\", \"cruise\", \"cryptography\", \"css\", \"csv\", \"culture\", \"curious\", \"curl\", \"current\", \"current\", \"current\", \"current\", \"current\", \"current\", \"current\", \"current\", \"currently\", \"currently\", \"currently\", \"currently\", \"currently\", \"custom\", \"custom\", \"customer\", \"customize\", \"cut\", \"cutter\", \"cypher\", \"data\", \"data\", \"data\", \"data\", \"data\", \"data\", \"database\", \"database\", \"database\", \"database\", \"databind\", \"dataitem\", \"dataset\", \"datasource\", \"datatable\", \"datatoread\", \"datavaluefield\", \"date\", \"date\", \"datepicker\", \"datetime\", \"datum\", \"datum\", \"datum\", \"datum\", \"datum\", \"datum\", \"datum\", \"datum\", \"datum\", \"datum\", \"day\", \"day\", \"day\", \"day\", \"dbtype\", \"debug\", \"debug\", \"debugger\", \"debugging\", \"decide\", \"decide\", \"decide\", \"decide\", \"decide\", \"declaration\", \"declare\", \"declare\", \"declare\", \"decodebyte\", \"deep\", \"default\", \"default\", \"default\", \"default\", \"default\", \"default\", \"default\", \"defaulttarget\", \"defect\", \"defer\", \"define\", \"define\", \"define\", \"define\", \"define\", \"define\", \"defineconstant\", \"definitcreate\", \"definitely\", \"definition\", \"definitive\", \"delay\", \"delegate\", \"delete\", \"delete\", \"deleteaction\", \"delimit\", \"delimiter\", \"deny\", \"depend\", \"depend\", \"dependency\", \"deploy\", \"deploy\", \"deployment\", \"deployment\", \"dereference\", \"derive\", \"descibe\", \"describe\", \"description\", \"description\", \"descriptive\", \"descriptor\", \"descrition\", \"design\", \"design\", \"design\", \"design\", \"designer\", \"designing\", \"desire\", \"desktop\", \"destination\", \"destroy\", \"detail\", \"detail\", \"detail\", \"detect\", \"determine\", \"determine\", \"develop\", \"develop\", \"develop\", \"developer\", \"developer\", \"developer\", \"developer\", \"development\", \"development\", \"development\", \"devenv\", \"device\", \"device\", \"device\", \"diagnostic\", \"dialog\", \"dialogdoe\", \"die\", \"differ\", \"difference\", \"difference\", \"difference\", \"difference\", \"different\", \"different\", \"different\", \"different\", \"different\", \"different\", \"different\", \"different\", \"different\", \"different\", \"differently\", \"differently\", \"difficult\", \"difficult\", \"dim\", \"direct\", \"direct\", \"direction\", \"direction\", \"directive\", \"directive\", \"directory\", \"dirty\", \"disable\", \"disable\", \"disable\", \"disappear\", \"discernable\", \"discover\", \"discussion\", \"disk\", \"disk\", \"disk\", \"disk\", \"display\", \"display\", \"display\", \"display\", \"display\", \"display\", \"distinct\", \"distribution\", \"div\", \"divide\", \"divs\", \"django\", \"dladdr\", \"dmz\", \"dmzdomain\", \"do\", \"do\", \"do\", \"do\", \"do\", \"do\", \"doc\", \"document\", \"document\", \"document\", \"documentation\", \"documentation\", \"domain\", \"domain\", \"dosomethe\", \"dosomething\", \"dosomework\", \"dot\", \"double\", \"double\", \"double\", \"double\", \"download\", \"drag\", \"drain\", \"draw\", \"draw\", \"draw\", \"draw\", \"drawing\", \"drive\", \"drop\", \"due\", \"due\", \"due\", \"due\", \"dumb\", \"dumbe\", \"dump\", \"dump\", \"duplicate\", \"dynamic\", \"dynamic\", \"dynamically\", \"dynamically\", \"earlier\", \"early\", \"ease\", \"easy\", \"easy\", \"easy\", \"easy\", \"easy\", \"easy\", \"echo\", \"echo\", \"eclipswant\", \"edge\", \"editing\", \"edition\", \"editmisse\", \"editor\", \"editor\", \"editor\", \"editordoe\", \"effect\", \"effectively\", \"efficient\", \"efficient\", \"efficiently\", \"elegant\", \"element\", \"eliminate\", \"else\", \"else\", \"else\", \"else\", \"else\", \"else\", \"email\", \"embe\", \"emit\", \"empty\", \"empty\", \"enable\", \"enable\", \"encode\", \"encounter\", \"encrypt\", \"encrypt\", \"encryption\", \"end\", \"end\", \"end\", \"end\", \"end\", \"end\", \"endif\", \"enforce\", \"engine\", \"english\", \"enhance\", \"enhanced\", \"enough\", \"enough\", \"enough\", \"enough\", \"ensure\", \"ensure\", \"enter\", \"entire\", \"entire\", \"entire\", \"entirely\", \"entity\", \"entity\", \"entry\", \"entry\", \"entry\", \"enum\", \"environment\", \"environment\", \"environment\", \"envision\", \"epsilon\", \"equal\", \"equalsbuilder\", \"equivalent\", \"equivalent\", \"equivalent\", \"erode\", \"error\", \"error\", \"error\", \"error\", \"error\", \"error\", \"error\", \"error\", \"error\", \"especially\", \"essentially\", \"etc\", \"evaluate\", \"even\", \"even\", \"even\", \"even\", \"even\", \"even\", \"even\", \"even\", \"even\", \"event\", \"eventarg\", \"eventually\", \"ex\", \"exact\", \"exact\", \"exactly\", \"exactly\", \"exactly\", \"exactly\", \"example\", \"example\", \"example\", \"example\", \"example\", \"example\", \"example\", \"example\", \"example\", \"example\", \"example\", \"excel\", \"exception\", \"exception\", \"exclude\", \"exclusion\", \"exe\", \"execcgi\", \"execute\", \"execute\", \"execute\", \"execute\", \"execution\", \"execution\", \"execution\", \"executscript\", \"exercise\", \"exist\", \"exist\", \"exist\", \"exist\", \"exist\", \"exist\", \"exist\", \"exit\", \"exit\", \"expand\", \"expand\", \"expect\", \"expect\", \"expect\", \"expect\", \"expect\", \"expectation\", \"expensive\", \"experience\", \"experience\", \"experience\", \"experience\", \"experiment\", \"experiment\", \"explain\", \"explain\", \"explain\", \"explanation\", \"explanation\", \"explicit\", \"explicitly\", \"explicitly\", \"explorer\", \"export\", \"expose\", \"express\", \"expression\", \"extend\", \"extend\", \"extend\", \"extension\", \"external\", \"external\", \"extra\", \"extra\", \"extract\", \"eye\", \"facilitate\", \"fact\", \"fact\", \"factory\", \"fail\", \"fail\", \"fail\", \"fail\", \"fail\", \"fail\", \"failure\", \"failure\", \"fairly\", \"fairly\", \"fairly\", \"fake\", \"false\", \"false\", \"false\", \"false\", \"falsifineed\", \"familiar\", \"far\", \"far\", \"far\", \"far\", \"far\", \"far\", \"far\", \"far\", \"fast\", \"fast\", \"faster\", \"faster\", \"faulty\", \"fd\", \"feadd\", \"feature\", \"feature\", \"feed\", \"feel\", \"feel\", \"feel\", \"fetch\", \"few\", \"field\", \"field\", \"field\", \"figure\", \"figure\", \"figure\", \"figure\", \"figure\", \"figure\", \"file\", \"file\", \"file\", \"file\", \"file\", \"filedate\", \"fileinputstream\", \"filename\", \"filepath\", \"filestream\", \"filesystem\", \"fill\", \"fill\", \"filter\", \"final\", \"find\", \"find\", \"find\", \"find\", \"find\", \"find\", \"find\", \"find\", \"find\", \"find\", \"find\", \"find\", \"find\", \"find\", \"find\", \"find\", \"find\", \"find\", \"find\", \"find\", \"find\", \"find\", \"fine\", \"fine\", \"fine\", \"fine\", \"fine\", \"fine\", \"finger\", \"finish\", \"finish\", \"fire\", \"fire\", \"first\", \"first\", \"first\", \"first\", \"first\", \"first\", \"first\", \"first\", \"first\", \"fis\", \"fit\", \"fix\", \"fix\", \"fix\", \"fix\", \"flag\", \"flash\", \"flexibility\", \"flexible\", \"flicker\", \"flip\", \"float\", \"flow\", \"flowbean\", \"flush\", \"flush\", \"fly\", \"fmtonly\", \"focus\", \"focus\", \"folder\", \"folder\", \"follow\", \"follow\", \"follow\", \"follow\", \"follow\", \"follow\", \"follow\", \"follow\", \"follow\", \"follow\", \"following\", \"followsymlink\", \"font\", \"foo\", \"fooview\", \"force\", \"force\", \"force\", \"forcebuild\", \"foreach\", \"foreach\", \"foreign\", \"form\", \"form\", \"form\", \"form\", \"form\", \"form\", \"format\", \"format\", \"formview\", \"forum\", \"forward\", \"forward\", \"fragment\", \"fragmentation\", \"frame\", \"framework\", \"framework\", \"framework\", \"framework\", \"framework\", \"free\", \"free\", \"freeware\", \"frequently\", \"friendly\", \"friendly\", \"front\", \"fruitless\", \"fstream\", \"ftp\", \"full\", \"full\", \"fully\", \"fully\", \"fully\", \"function\", \"function\", \"function\", \"functional\", \"functionality\", \"functionality\", \"fundamental\", \"future\", \"fuzzy\", \"fwlink\", \"gac\", \"game\", \"game\", \"gcc\", \"general\", \"general\", \"generally\", \"generate\", \"generate\", \"generate\", \"generation\", \"generation\", \"generator\", \"generic\", \"generic\", \"generically\", \"get\", \"get\", \"get\", \"get\", \"get\", \"get\", \"get\", \"get\", \"get\", \"get\", \"getelementbyid\", \"getfoo\", \"getproxy\", \"getter\", \"give\", \"give\", \"give\", \"give\", \"give\", \"give\", \"give\", \"give\", \"give\", \"give\", \"give\", \"give\", \"glassfish\", \"global\", \"gmail\", \"gnu\", \"go\", \"go\", \"go\", \"go\", \"go\", \"go\", \"go\", \"go\", \"go\", \"go\", \"go\", \"go\", \"goal\", \"good\", \"good\", \"good\", \"good\", \"good\", \"good\", \"good\", \"good\", \"good\", \"good\", \"good\", \"gooddoe\", \"google\", \"google\", \"grab\", \"gracefully\", \"grant\", \"graphic\", \"graphical\", \"gratefully\", \"great\", \"great\", \"great\", \"grid\", \"ground\", \"group\", \"group\", \"grow\", \"gt\", \"guarantee\", \"guess\", \"gui\", \"guid\", \"guide\", \"gvim\", \"gzip\", \"habit\", \"hack\", \"hack\", \"half\", \"hand\", \"hand\", \"handle\", \"handle\", \"handle\", \"handler\", \"hang\", \"hang\", \"happy\", \"hard\", \"hard\", \"hardpresse\", \"hardware\", \"hate\", \"head\", \"head\", \"header\", \"heap\", \"hear\", \"hear\", \"hear\", \"height\", \"height\", \"help\", \"help\", \"help\", \"help\", \"help\", \"help\", \"help\", \"help\", \"hide\", \"hide\", \"high\", \"high\", \"highlight\", \"hijack\", \"hint\", \"history\", \"hit\", \"hit\", \"hold\", \"hold\", \"home\", \"hope\", \"hope\", \"hope\", \"hope\", \"hopefully\", \"horrible\", \"host\", \"host\", \"host\", \"hotmail\", \"hour\", \"hour\", \"however\", \"however\", \"however\", \"however\", \"however\", \"however\", \"however\", \"however\", \"however\", \"however\", \"however\", \"href\", \"href\", \"href\", \"href\", \"href\", \"htaccess\", \"htm\", \"html\", \"http\", \"http\", \"http\", \"http\", \"http\", \"http\", \"httpapplication\", \"httponly\", \"https\", \"httpwebrequ\", \"huge\", \"human\", \"hundred\", \"hunt\", \"hybrid\", \"hyperlink\", \"iaplay\", \"icommand\", \"icon\", \"ide\", \"idea\", \"idea\", \"idea\", \"idea\", \"idea\", \"idea\", \"idea\", \"idea\", \"idea\", \"idea\", \"idea\", \"ideally\", \"identifier\", \"identify\", \"identify\", \"idiom\", \"idosomethe\", \"idosomething\", \"ie\", \"ienumerable\", \"ienumerable\", \"iframe\", \"ignore\", \"ignorecase\", \"illegal\", \"image\", \"image\", \"imagine\", \"immutable\", \"impact\", \"implement\", \"implement\", \"implement\", \"implement\", \"implement\", \"implement\", \"implementation\", \"implementation\", \"import\", \"import\", \"important\", \"impossible\", \"improvement\", \"include\", \"include\", \"include\", \"include\", \"include\", \"increase\", \"increase\", \"increase\", \"incremental\", \"independant\", \"index\", \"index\", \"index\", \"index\", \"index\", \"indexing\", \"infile\", \"info\", \"information\", \"information\", \"information\", \"information\", \"information\", \"information\", \"informhire\", \"informit\", \"infragisitc\", \"inherit\", \"inherit\", \"inherit\", \"initial\", \"initialize\", \"injection\", \"inline\", \"inner\", \"innerclass\", \"inode\", \"input\", \"input\", \"inputs\", \"insert\", \"insert\", \"instal\", \"instal\", \"install\", \"instance\", \"instance\", \"instance\", \"instance\", \"instance\", \"instantiate\", \"instantiate\", \"instead\", \"instead\", \"instead\", \"instead\", \"instead\", \"instead\", \"instead\", \"instead\", \"instruction\", \"int\", \"int\", \"int\", \"int\", \"integer\", \"integer\", \"integrate\", \"integration\", \"integrity\", \"intellisence\", \"intend\", \"interator\", \"interest\", \"interest\", \"interested\", \"interested\", \"interested\", \"interesting\", \"interesting\", \"interface\", \"interface\", \"internal\", \"internal\", \"internal\", \"internally\", \"internet\", \"interop\", \"interpret\", \"intranet\", \"inv\", \"invent\", \"invoke\", \"invokerequire\", \"involve\", \"involve\", \"iorder\", \"ip\", \"isolate\", \"issave\", \"issue\", \"issue\", \"issue\", \"issue\", \"issue\", \"issue\", \"issue\", \"issue\", \"issue\", \"issuuse\", \"istream\", \"item\", \"item\", \"item\", \"item_op\", \"item_set\", \"iterate\", \"iterate\", \"iteration\", \"jar\", \"java\", \"java\", \"java\", \"java\", \"javascriptlast\", \"jdeveloper\", \"job\", \"job\", \"join\", \"jquery\", \"json\", \"jump\", \"junit\", \"kernel\", \"key\", \"key\", \"key\", \"key\", \"key\", \"keyboard\", \"keyword\", \"kick\", \"kind\", \"kind\", \"kind\", \"kind\", \"knife\", \"know\", \"know\", \"know\", \"knowledge\", \"kvo\", \"label\", \"lack\", \"lambda\", \"lamp\", \"landscape\", \"language\", \"language\", \"language\", \"language\", \"large\", \"large\", \"large\", \"large\", \"large\", \"large\", \"late\", \"later\", \"later\", \"later\", \"launch\", \"layer\", \"layer\", \"lazy\", \"lead\", \"leak\", \"learn\", \"learn\", \"learn\", \"learn\", \"least\", \"least\", \"leave\", \"leave\", \"leave\", \"leave\", \"leave\", \"left\", \"legacy\", \"legal\", \"len\", \"length\", \"length\", \"length\", \"less\", \"less\", \"less\", \"let\", \"let\", \"let\", \"let\", \"let\", \"let\", \"let\", \"let\", \"let\", \"level\", \"level\", \"level\", \"lgi\", \"lgire\", \"lib\", \"library\", \"library\", \"library\", \"library\", \"library\", \"library\", \"license\", \"license\", \"life\", \"like\", \"likely\", \"limit\", \"limit\", \"limitation\", \"limited\", \"line\", \"line\", \"line\", \"line\", \"line\", \"line\", \"link\", \"link\", \"link\", \"link\", \"link\", \"link\", \"link\", \"linq\", \"linux\", \"list\", \"list\", \"list\", \"list\", \"list\", \"list\", \"list\", \"listbox\", \"listen\", \"listview\", \"literal\", \"little\", \"little\", \"little\", \"little\", \"little\", \"little\", \"live\", \"load\", \"load\", \"load\", \"load\", \"load\", \"loc\", \"local\", \"local\", \"localhost\", \"localize\", \"location\", \"location\", \"location\", \"location\", \"lock\", \"lock\", \"log\", \"log\", \"log\", \"logic\", \"logic\", \"logical\", \"logically\", \"login\", \"long\", \"long\", \"long\", \"longer\", \"longer\", \"longer\", \"longpathname\", \"look\", \"look\", \"look\", \"look\", \"look\", \"look\", \"look\", \"look\", \"look\", \"look\", \"look\", \"look\", \"look\", \"looking\", \"lookup\", \"loop\", \"loop\", \"loss\", \"lot\", \"lot\", \"lot\", \"love\", \"love\", \"love\", \"lt\", \"lt\", \"mac\", \"machine\", \"machine\", \"machine\", \"macro\", \"macromedia\", \"magnitude\", \"mail\", \"main\", \"main\", \"main\", \"main\", \"main\", \"mainly\", \"maintain\", \"major\", \"make\", \"make\", \"make\", \"make\", \"make\", \"make\", \"make\", \"mamp\", \"manage\", \"manage\", \"management\", \"manager\", \"manager\", \"managing\", \"manipulate\", \"manner\", \"manual\", \"many\", \"many\", \"many\", \"many\", \"many\", \"many\", \"map\", \"mapping\", \"markup\", \"mask\", \"massive\", \"master\", \"match\", \"match\", \"matcher\", \"maven\", \"max\", \"maximum\", \"may\", \"may\", \"may\", \"may\", \"mb\", \"mdb\", \"mean\", \"mean\", \"mean\", \"mean\", \"mean\", \"mean\", \"mean\", \"meaning\", \"measurable\", \"medium\", \"meet\", \"megabyte\", \"member\", \"membership\", \"memory\", \"memory\", \"mention\", \"menu\", \"merge\", \"merit\", \"mess\", \"message\", \"message\", \"message\", \"method\", \"method\", \"method\", \"method\", \"methodtable\", \"migrate\", \"migration\", \"mind\", \"mine\", \"minimize\", \"miss\", \"miss\", \"miss\", \"miss\", \"miss\", \"mistake\", \"mix\", \"mobile\", \"mock\", \"mock\", \"mode\", \"model\", \"model\", \"model\", \"modern\", \"modification\", \"modify\", \"modify\", \"modify\", \"modifyaddress\", \"module\", \"moment\", \"moment\", \"moment\", \"moment\", \"monitor\", \"month\", \"morning\", \"mostly\", \"mostly\", \"mouse\", \"move\", \"movie\", \"ms\", \"msaccess\", \"msbuild\", \"msde\", \"msdn\", \"mssql\", \"much\", \"much\", \"much\", \"much\", \"much\", \"much\", \"multi\", \"multicast\", \"multiple\", \"multiple\", \"multiple\", \"multiple\", \"multipli\", \"multiplication\", \"multiview\", \"music\", \"must\", \"must\", \"must\", \"must\", \"must\", \"mvc\", \"mylist\", \"myobserver\", \"mysql\", \"mysql\", \"mystery\", \"name\", \"name\", \"name\", \"name\", \"namespace\", \"namespace\", \"nant\", \"narrow\", \"nasty\", \"native\", \"natively\", \"natural\", \"nature\", \"navigate\", \"nbsp\", \"necessarily\", \"necessary\", \"need\", \"need\", \"need\", \"need\", \"need\", \"need\", \"need\", \"need\", \"nest\", \"net\", \"net\", \"net\", \"net\", \"net\", \"net\", \"net\", \"net\", \"net\", \"net\", \"net\", \"net\", \"net\", \"net\", \"net\", \"netstarte\", \"neutral\", \"never\", \"never\", \"never\", \"never\", \"newline\", \"newlinwante\", \"news\", \"next\", \"next\", \"next\", \"next\", \"next\", \"nice\", \"nicely\", \"nil\", \"node\", \"node\", \"non\", \"non\", \"none\", \"none\", \"nonsense\", \"normal\", \"normalization\", \"normally\", \"notation\", \"note\", \"note\", \"note\", \"note\", \"note\", \"note\", \"notice\", \"notice\", \"notice\", \"notice\", \"notification\", \"notify\", \"nowhere\", \"nsdata\", \"nslog\", \"nsobject\", \"nsstre\", \"null\", \"null\", \"null\", \"number\", \"number\", \"number\", \"numeric\", \"object\", \"object\", \"object\", \"object\", \"objective\", \"objectnewbie\", \"observedkey\", \"obtain\", \"obtain\", \"obvious\", \"obvious\", \"occur\", \"occur\", \"occur\", \"occur\", \"occur\", \"occur\", \"occurrence\", \"ocgi\", \"odbc\", \"odd\", \"offer\", \"office\", \"official\", \"offset\", \"often\", \"often\", \"often\", \"ok\", \"old\", \"old\", \"oledb\", \"omit\", \"omniture\", \"one\", \"one\", \"one\", \"onebigplanet\", \"onet\", \"online\", \"ontextchange\", \"open\", \"open\", \"open\", \"open\", \"open\", \"open\", \"open\", \"openform\", \"opengl\", \"openid\", \"opening\", \"openmonth\", \"operate\", \"operating\", \"operation\", \"operator\", \"opinion\", \"oppose\", \"oprocess\", \"optimal\", \"optimization\", \"optimize\", \"option\", \"option\", \"option\", \"option\", \"option\", \"optional\", \"optional\", \"oracle\", \"order\", \"order\", \"order\", \"order\", \"order\", \"org\", \"org\", \"organize\", \"orient\", \"orientation\", \"original\", \"original\", \"original\", \"original\", \"originally\", \"originate\", \"orm\", \"ought\", \"outer\", \"outerclass\", \"outlook\", \"output\", \"output\", \"output\", \"output\", \"output\", \"overcomplicate\", \"overflow\", \"overkill\", \"override\", \"overview\", \"overwrite\", \"package\", \"package\", \"package\", \"page\", \"page\", \"page\", \"pageparser\", \"pair\", \"panel\", \"paragraph\", \"param\", \"parameter\", \"parameter\", \"parameter\", \"parametrize\", \"parent\", \"parse\", \"parse\", \"parse\", \"part\", \"part\", \"part\", \"part\", \"part\", \"part\", \"partial\", \"partially\", \"particular\", \"particular\", \"particular\", \"particularly\", \"partition\", \"party\", \"pass\", \"pass\", \"password\", \"paste\", \"path\", \"path\", \"path\", \"pattern\", \"pay\", \"payment\", \"pc\", \"peak\", \"people\", \"people\", \"people\", \"people\", \"percent\", \"perfectly\", \"perfectly\", \"perform\", \"perform\", \"performance\", \"performance\", \"performance\", \"performance\", \"performant\", \"performselector\", \"perhaps\", \"perhaps\", \"period\", \"perl\", \"permission\", \"permission\", \"persistent\", \"person\", \"person\", \"personal\", \"personal\", \"phone\", \"photo\", \"php\", \"php\", \"physical\", \"pick\", \"picture\", \"piece\", \"ping\", \"pipe\", \"piping\", \"pitfall\", \"place\", \"place\", \"place\", \"placement\", \"plain\", \"plain\", \"platform\", \"play\", \"player\", \"plcoder\", \"please\", \"plugin\", \"plugin\", \"pm\", \"point\", \"point\", \"point\", \"point\", \"point\", \"point\", \"pointer\", \"pointer\", \"pointrealize\", \"policy\", \"pool\", \"poor\", \"popular\", \"populate\", \"port\", \"port\", \"portable\", \"portal\", \"portrait\", \"position\", \"position\", \"positioning\", \"possible\", \"possible\", \"possible\", \"possible\", \"possible\", \"possible\", \"possible\", \"possible\", \"possible\", \"possible\", \"possibly\", \"post\", \"post\", \"post\", \"post\", \"postback\", \"postrow\", \"potential\", \"potentially\", \"power\", \"power\", \"powerful\", \"practice\", \"practice\", \"predefine\", \"prefer\", \"prefer\", \"prefer\", \"preferably\", \"preference\", \"prepare\", \"preprocessor\", \"present\", \"preserve\", \"press\", \"presume\", \"pretty\", \"pretty\", \"pretty\", \"pretty\", \"preview\", \"previous\", \"previous\", \"primary\", \"primary\", \"primaryjoin\", \"print\", \"print\", \"printf\", \"printing\", \"priorityqueue\", \"private\", \"private\", \"private\", \"pro\", \"problem\", \"problem\", \"problem\", \"problem\", \"problem\", \"problem\", \"problem\", \"problem\", \"problem\", \"problem\", \"problem\", \"problem\", \"problem\", \"problem\", \"problem\", \"procedure\", \"process\", \"process\", \"process\", \"process\", \"processing\", \"processor\", \"processrequ\", \"produce\", \"produce\", \"produce\", \"produce\", \"produce\", \"product\", \"product\", \"product\", \"profile\", \"profile\", \"profile_value\", \"program\", \"program\", \"program\", \"program\", \"program\", \"program\", \"program\", \"program\", \"programmer\", \"programmer\", \"programmer\", \"programming\", \"programming\", \"programming\", \"progress\", \"progresschanged\", \"project\", \"project\", \"project\", \"project\", \"project\", \"project\", \"promote\", \"promotion\", \"prompt\", \"proper\", \"proper\", \"properly\", \"properly\", \"property\", \"property\", \"property\", \"property\", \"property\", \"protection\", \"prove\", \"provide\", \"provide\", \"provide\", \"provide\", \"provide\", \"provide\", \"provide\", \"provide\", \"provider\", \"proxy\", \"proxye\", \"proxyfactory\", \"prstdoctor\", \"pubdate\", \"public\", \"public\", \"publish\", \"publisher\", \"publishing\", \"pull\", \"punk\", \"purchase\", \"purely\", \"purpose\", \"purpose\", \"purpose\", \"push\", \"push\", \"put\", \"pv\", \"py\", \"pythonuse\", \"qaas\", \"qualifier\", \"qualify\", \"quality\", \"quartz\", \"query\", \"query\", \"query\", \"question\", \"question\", \"question\", \"queue\", \"quick\", \"quickly\", \"quite\", \"quite\", \"quite\", \"quot\", \"quote\", \"rail\", \"ram\", \"random\", \"range\", \"range\", \"raster\", \"rather\", \"rather\", \"rather\", \"rather\", \"rather\", \"rather\", \"rating\", \"reach\", \"read\", \"read\", \"read\", \"read\", \"read\", \"read\", \"read\", \"read\", \"readability\", \"reader\", \"ready\", \"real\", \"real\", \"real\", \"realize\", \"reason\", \"reason\", \"reason\", \"reason\", \"reason\", \"reason\", \"reason\", \"reason\", \"reasonable\", \"receive\", \"receive\", \"recently\", \"recieve\", \"recipient\", \"recommend\", \"recommend\", \"record\", \"recreate\", \"red\", \"redirect\", \"redirection\", \"redraw\", \"refer\", \"refer\", \"reference\", \"reference\", \"reference\", \"reference\", \"reference\", \"reflect\", \"reflection\", \"refresh\", \"refresh\", \"regain\", \"regard\", \"regard\", \"regard\", \"regardless\", \"regex\", \"regexoption\", \"register\", \"registry\", \"regular\", \"reinstall\", \"relate\", \"relate\", \"related\", \"relation\", \"relationship\", \"relationship\", \"relative\", \"relatively\", \"relay\", \"release\", \"release\", \"relegate\", \"relevant\", \"relevant\", \"reliably\", \"remain\", \"remainder\", \"remember\", \"remote\", \"remote\", \"remote\", \"remote\", \"remoteobject\", \"remoting\", \"remove\", \"remove\", \"remove\", \"rename\", \"render\", \"renderer\", \"rendering\", \"repeat\", \"replace\", \"replace\", \"replace\", \"replace\", \"replacement\", \"reply\", \"repopulate\", \"report\", \"reporting\", \"repository\", \"represent\", \"req\", \"request\", \"request\", \"request\", \"request\", \"request\", \"requestlike\", \"require\", \"require\", \"require\", \"require\", \"require\", \"require\", \"require\", \"require\", \"requirement\", \"requirement\", \"rerun\", \"research\", \"reset\", \"resolution\", \"resolve\", \"resort\", \"resource\", \"resource\", \"resource\", \"respond\", \"response\", \"response\", \"responsible\", \"rest\", \"rest\", \"restore\", \"restore\", \"restriction\", \"result\", \"result\", \"result\", \"result\", \"retrieve\", \"retrieve\", \"return\", \"return\", \"return\", \"return\", \"return\", \"reveal\", \"revert\", \"review\", \"rework\", \"rewritebase\", \"rewritecond\", \"rewriterule\", \"rfcs\", \"right\", \"right\", \"right\", \"right\", \"right\", \"right\", \"right\", \"right\", \"right\", \"right\", \"right\", \"robocopy\", \"role\", \"rollback\", \"room\", \"root\", \"route\", \"routine\", \"row\", \"rsa\", \"rss\", \"rss\", \"rule\", \"run\", \"run\", \"run\", \"run\", \"run\", \"run\", \"run\", \"run\", \"run\", \"run\", \"run\", \"runner\", \"running\", \"runtime\", \"runtime\", \"runtime\", \"safe\", \"sample\", \"sample\", \"save\", \"save\", \"save\", \"save\", \"say\", \"say\", \"say\", \"say\", \"say\", \"say\", \"say\", \"say\", \"say\", \"say\", \"scaffold\", \"scalable\", \"scan\", \"scary\", \"scatter\", \"schedule\", \"schedulerpage\", \"schedulertheme\", \"schema\", \"science\", \"scientific\", \"scope\", \"score\", \"scratch\", \"screen\", \"screen\", \"screen\", \"script\", \"script\", \"script\", \"script\", \"scripting\", \"scroll\", \"sdk\", \"search\", \"seating\", \"second\", \"second\", \"second\", \"secondary\", \"section\", \"secure\", \"see\", \"see\", \"see\", \"see\", \"see\", \"see\", \"see\", \"see\", \"see\", \"see\", \"see\", \"see\", \"see\", \"seem\", \"seem\", \"seem\", \"seem\", \"seem\", \"seem\", \"seem\", \"seem\", \"seem\", \"seem\", \"seem\", \"seem\", \"seem\", \"seem\", \"seem\", \"seem\", \"segment\", \"select\", \"select\", \"select\", \"select\", \"select\", \"select\", \"selection\", \"selector\", \"self\", \"send\", \"send\", \"send\", \"sendmail\", \"sensitive\", \"separate\", \"separate\", \"sequence\", \"sequential\", \"serializable\", \"serialization\", \"seriously\", \"serve\", \"server\", \"server\", \"server\", \"server\", \"service\", \"service\", \"service\", \"service\", \"servicwe\", \"servlet\", \"session\", \"set\", \"set\", \"set\", \"set\", \"set\", \"set\", \"set\", \"set\", \"set\", \"set\", \"set\", \"set\", \"set\", \"set\", \"set\", \"set\", \"set\", \"set\", \"set\", \"set\", \"set\", \"seta\", \"setsetting\", \"setter\", \"setting\", \"setting\", \"setting\", \"settle\", \"setup\", \"setup\", \"setup\", \"several\", \"several\", \"shadow\", \"shall\", \"shane\", \"share\", \"share\", \"share\", \"share\", \"sharepoint\", \"shell\", \"ship\", \"shoot\", \"shop\", \"short\", \"shortcut\", \"shortnamebuffer\", \"show\", \"show\", \"show\", \"show\", \"show\", \"show\", \"show\", \"side\", \"side\", \"side\", \"sidebar\", \"sign\", \"signature\", \"signum\", \"sigquit\", \"sigtstp\", \"silverlight\", \"similar\", \"similar\", \"similar\", \"similar\", \"similar\", \"simple\", \"simple\", \"simple\", \"simple\", \"simple\", \"simple\", \"simple\", \"simple\", \"simple\", \"simplified\", \"simply\", \"simply\", \"simply\", \"simply\", \"single\", \"single\", \"single\", \"single\", \"single\", \"single\", \"singleton\", \"sit\", \"site\", \"site\", \"site\", \"site\", \"site\", \"site\", \"situation\", \"situation\", \"situation\", \"situation\", \"size\", \"size\", \"size\", \"skill\", \"slimdx\", \"slow\", \"slowly\", \"small\", \"small\", \"small\", \"small\", \"small\", \"smooth\", \"smtp\", \"snippet\", \"snmp\", \"snoop\", \"snprintf\", \"soap\", \"soft\", \"software\", \"software\", \"solid\", \"solution\", \"solution\", \"solution\", \"solution\", \"solution\", \"solution\", \"solution\", \"solution\", \"solution\", \"solution\", \"solution\", \"solution\", \"solve\", \"solve\", \"somehow\", \"somehow\", \"somehow\", \"somehow\", \"sometimes\", \"sometimes\", \"somevalue\", \"somevariable\", \"somewhat\", \"somewhere\", \"somewhere\", \"soon\", \"soon\", \"sort\", \"sort\", \"sort\", \"sound\", \"sound\", \"source\", \"source\", \"source\", \"source\", \"sourceforge\", \"sp\", \"space\", \"space\", \"space\", \"spec\", \"special\", \"special\", \"specialfolder\", \"specific\", \"specific\", \"specific\", \"specific\", \"specific\", \"specific\", \"specific\", \"specific\", \"specifier\", \"specify\", \"specify\", \"specify\", \"specify\", \"speed\", \"spell\", \"spit\", \"split\", \"splitting\", \"spoil\", \"spreadsheet\", \"spring\", \"springframework\", \"sprite\", \"sql\", \"sql\", \"sqlalchemi\", \"ssis\", \"ssl\", \"ssm\", \"stack\", \"stack\", \"stack\", \"stackoverflow\", \"stackoverflow\", \"stage\", \"stall\", \"standard\", \"standard\", \"standard\", \"start\", \"start\", \"start\", \"start\", \"start\", \"start\", \"start\", \"start\", \"starteam\", \"starter\", \"starting\", \"state\", \"state\", \"statea\", \"statement\", \"statement\", \"statement\", \"static\", \"statistic\", \"status\", \"stay\", \"stdout\", \"steal\", \"step\", \"still\", \"still\", \"still\", \"still\", \"still\", \"still\", \"stop\", \"stop\", \"stop\", \"stop\", \"stop\", \"stop\", \"storage\", \"store\", \"store\", \"store\", \"store\", \"store\", \"store\", \"store\", \"store\", \"store\", \"store\", \"stored\", \"storefront\", \"story\", \"strange\", \"strategy\", \"stre\", \"stream\", \"strict\", \"string\", \"string\", \"string\", \"strongly\", \"strsql\", \"strstre\", \"struct\", \"structure\", \"structure\", \"struggle\", \"strut\", \"student\", \"studio\", \"stuff\", \"stuff\", \"stuff\", \"style\", \"style\", \"style\", \"subclass\", \"subdomain\", \"subforum\", \"submit\", \"submit\", \"submit\", \"subnav\", \"subobject\", \"subprocess\", \"subscription\", \"substre\", \"subversion\", \"successfully\", \"suddenly\", \"suggest\", \"suggest\", \"suggest\", \"suggestion\", \"suggestion\", \"suggestion\", \"suggestion\", \"suggestion\", \"suggestion\", \"sum\", \"summary\", \"super\", \"support\", \"support\", \"support\", \"support\", \"support\", \"support\", \"support\", \"suppose\", \"suspect\", \"suspend\", \"swc\", \"swf\", \"swing\", \"switch\", \"switch\", \"switch\", \"symbian\", \"symbol\", \"symbol\", \"sync\", \"synchronize\", \"syntax\", \"syntax\", \"system\", \"system\", \"system\", \"system\", \"system\", \"system\", \"system\", \"system\", \"system\", \"tab\", \"table\", \"tabpage\", \"tag\", \"tag\", \"take\", \"take\", \"take\", \"take\", \"take\", \"talk\", \"tap\", \"target\", \"target\", \"tart\", \"task\", \"task\", \"tblb\", \"tcp\", \"tcvmdevsql\", \"team\", \"technical\", \"technique\", \"technique\", \"technology\", \"technology\", \"tell\", \"tell\", \"tell\", \"tell\", \"tell\", \"temp\", \"template\", \"template\", \"temporary\", \"ten\", \"tend\", \"term\", \"term\", \"terminal\", \"test\", \"test\", \"test\", \"test\", \"test\", \"testdatasource\", \"testing\", \"testing\", \"testing\", \"text\", \"text\", \"text\", \"textalign\", \"textbox\", \"thank\", \"thank\", \"thank\", \"thank\", \"thank\", \"thank\", \"thank\", \"thank\", \"thank\", \"thank\", \"thank\", \"thank\", \"theme\", \"therefore\", \"thing\", \"thing\", \"thing\", \"thing\", \"thing\", \"thing\", \"thing\", \"thing\", \"think\", \"think\", \"think\", \"think\", \"think\", \"think\", \"think\", \"think\", \"think\", \"think\", \"think\", \"think\", \"third\", \"thought\", \"thought\", \"thought\", \"thought\", \"thread\", \"threadpool\", \"throat\", \"throw\", \"throw\", \"thunderbird\", \"thus\", \"tier\", \"tile\", \"tim\", \"time\", \"time\", \"time\", \"time\", \"time\", \"time\", \"time\", \"time\", \"time\", \"time\", \"time\", \"time\", \"timeout\", \"timer\", \"timestamp\", \"tip\", \"title\", \"today\", \"together\", \"together\", \"tomcat\", \"tool\", \"tool\", \"tool\", \"tool\", \"toolbar\", \"toolwe\", \"top\", \"top\", \"topic\", \"tostre\", \"tostring\", \"total\", \"trac\", \"trace\", \"trace\", \"track\", \"track\", \"tracking\", \"traditional\", \"traffic\", \"transaction\", \"transaction\", \"transfer\", \"transform\", \"transformation\", \"transition\", \"transparent\", \"trap\", \"tree\", \"tree\", \"trick\", \"tricky\", \"trigger\", \"triple\", \"trivial\", \"trouble\", \"trouble\", \"troubleshoot\", \"trust\", \"try\", \"try\", \"try\", \"try\", \"try\", \"try\", \"try\", \"try\", \"try\", \"try\", \"try\", \"try\", \"try\", \"try\", \"try\", \"try\", \"try\", \"turn\", \"turn\", \"turn\", \"turn\", \"turn\", \"tutorial\", \"tweak\", \"twice\", \"txt\", \"txt\", \"type\", \"type\", \"type\", \"type\", \"type\", \"typhttp\", \"typically\", \"typing\", \"ubschedulerform\", \"ugly\", \"uid\", \"uiimageview\", \"uiimageview\", \"uiscrollview\", \"ul\", \"unable\", \"unable\", \"unable\", \"undefined\", \"underscore\", \"understand\", \"understand\", \"understand\", \"understand\", \"understand\", \"understand\", \"understand\", \"understand\", \"understand\", \"understanding\", \"unfortunately\", \"unhandled\", \"unhandled\", \"unique\", \"unit\", \"unit\", \"unit\", \"universal\", \"universe\", \"unlock\", \"unobtrusive\", \"unsigne\", \"unsigne\", \"unused\", \"unzip\", \"update\", \"update\", \"update\", \"update\", \"update\", \"update\", \"update\", \"update\", \"update\", \"updatepanel\", \"upgrade\", \"upload\", \"upload\", \"uri\", \"url\", \"url\", \"urls\", \"usability\", \"usable\", \"usage\", \"use\", \"use\", \"use\", \"use\", \"use\", \"use\", \"use\", \"use\", \"use\", \"use\", \"use\", \"use\", \"use\", \"use\", \"use\", \"use\", \"use\", \"use\", \"use\", \"use\", \"use\", \"use\", \"use\", \"use\", \"use\", \"use\", \"use\", \"use\", \"use\", \"use\", \"use\", \"use\", \"useful\", \"useful\", \"useful\", \"useful\", \"user\", \"user\", \"user\", \"user\", \"username\", \"usual\", \"utility\", \"utterly\", \"validate\", \"validate\", \"validation\", \"value\", \"value\", \"value\", \"value\", \"value\", \"value\", \"value\", \"value\", \"vanish\", \"var\", \"var\", \"variable\", \"variable\", \"variable\", \"variable\", \"variable\", \"variation\", \"various\", \"various\", \"various\", \"varying\", \"vector\", \"vehicle\", \"velocity\", \"verify\", \"verify\", \"versaconvert\", \"verse\", \"version\", \"version\", \"version\", \"version\", \"version\", \"version\", \"version\", \"vice\", \"video\", \"video\", \"view\", \"view\", \"view\", \"view\", \"view\", \"view\", \"viewdidload\", \"viewpage\", \"virtual\", \"virtualdir\", \"visible\", \"visible\", \"visual\", \"visually\", \"visualsvn\", \"vmimage\", \"vmware\", \"vmx\", \"void\", \"void\", \"volume\", \"vote\", \"vxwork\", \"wait\", \"wait\", \"walk\", \"want\", \"want\", \"want\", \"want\", \"war\", \"warn\", \"warrior\", \"wasfmtonlyon\", \"watch\", \"way\", \"way\", \"way\", \"way\", \"wcsf\", \"weak\", \"web\", \"webcontrol\", \"weblogic\", \"webpage\", \"webserver\", \"website\", \"website\", \"website\", \"website\", \"websphere\", \"week\", \"week\", \"weird\", \"welcome\", \"welcome\", \"well\", \"well\", \"well\", \"well\", \"well\", \"wheel\", \"whenever\", \"whole\", \"wide\", \"widget\", \"widgetdoe\", \"width\", \"width\", \"wiki\", \"willing\", \"win\", \"windbg\", \"windbgcould\", \"window\", \"window\", \"window\", \"window\", \"window\", \"window\", \"window\", \"wipe\", \"wise\", \"wizard\", \"wo\", \"wo\", \"wonder\", \"wonder\", \"wonder\", \"wonder\", \"wonder\", \"wonder\", \"wonder\", \"wonder\", \"wonder\", \"word\", \"wordpress\", \"work\", \"work\", \"work\", \"work\", \"work\", \"work\", \"work\", \"work\", \"work\", \"work\", \"work\", \"work\", \"work\", \"work\", \"worker\", \"working\", \"working\", \"workload\", \"world\", \"world\", \"world\", \"worth\", \"worth\", \"would\", \"would\", \"would\", \"wrap\", \"wrap\", \"writable\", \"write\", \"write\", \"write\", \"write\", \"write\", \"write\", \"write\", \"write\", \"write\", \"write\", \"write\", \"write\", \"write\", \"write\", \"write\", \"writing\", \"wrong\", \"wrong\", \"wrong\", \"wrong\", \"wrong\", \"wrong\", \"wsdl\", \"www\", \"xml\", \"year\", \"year\", \"yet\", \"yet\", \"zip\", \"zipentry\", \"zos\"]}, \"R\": 30, \"lambda.step\": 0.01, \"plot.opts\": {\"xlab\": \"PC1\", \"ylab\": \"PC2\"}, \"topic.order\": [49, 2, 11, 42, 47, 21, 31, 7, 18, 32, 22, 46, 17, 5, 48, 35, 8, 15, 50, 6, 16, 41, 10, 25, 28, 19, 13, 3, 39, 14, 43, 1, 23, 24, 33, 12, 4, 38, 40, 44, 45, 30, 26, 34, 27, 9, 29, 36, 20, 37]};\n",
              "\n",
              "function LDAvis_load_lib(url, callback){\n",
              "  var s = document.createElement('script');\n",
              "  s.src = url;\n",
              "  s.async = true;\n",
              "  s.onreadystatechange = s.onload = callback;\n",
              "  s.onerror = function(){console.warn(\"failed to load library \" + url);};\n",
              "  document.getElementsByTagName(\"head\")[0].appendChild(s);\n",
              "}\n",
              "\n",
              "if(typeof(LDAvis) !== \"undefined\"){\n",
              "   // already loaded: just create the visualization\n",
              "   !function(LDAvis){\n",
              "       new LDAvis(\"#\" + \"ldavis_el751403856406420003021791382\", ldavis_el751403856406420003021791382_data);\n",
              "   }(LDAvis);\n",
              "}else if(typeof define === \"function\" && define.amd){\n",
              "   // require.js is available: use it to load d3/LDAvis\n",
              "   require.config({paths: {d3: \"https://d3js.org/d3.v5\"}});\n",
              "   require([\"d3\"], function(d3){\n",
              "      window.d3 = d3;\n",
              "      LDAvis_load_lib(\"https://cdn.jsdelivr.net/gh/bmabey/pyLDAvis@3.3.1/pyLDAvis/js/ldavis.v3.0.0.js\", function(){\n",
              "        new LDAvis(\"#\" + \"ldavis_el751403856406420003021791382\", ldavis_el751403856406420003021791382_data);\n",
              "      });\n",
              "    });\n",
              "}else{\n",
              "    // require.js not available: dynamically load d3 & LDAvis\n",
              "    LDAvis_load_lib(\"https://d3js.org/d3.v5.js\", function(){\n",
              "         LDAvis_load_lib(\"https://cdn.jsdelivr.net/gh/bmabey/pyLDAvis@3.3.1/pyLDAvis/js/ldavis.v3.0.0.js\", function(){\n",
              "                 new LDAvis(\"#\" + \"ldavis_el751403856406420003021791382\", ldavis_el751403856406420003021791382_data);\n",
              "            })\n",
              "         });\n",
              "}\n",
              "</script>"
            ],
            "text/plain": [
              "PreparedData(topic_coordinates=              x         y  topics  cluster      Freq\n",
              "topic                                               \n",
              "48     0.176086  0.419858       1        1  3.992788\n",
              "1      0.277653  0.131866       2        1  3.519647\n",
              "10    -0.037017  0.394467       3        1  3.086014\n",
              "41    -0.235916  0.397379       4        1  3.053147\n",
              "46     0.415318 -0.119001       5        1  3.003591\n",
              "20     0.406002  0.149181       6        1  2.976250\n",
              "30     0.061937  0.419911       7        1  2.873036\n",
              "6     -0.406360 -0.185504       8        1  2.815645\n",
              "17    -0.328660  0.298975       9        1  2.802795\n",
              "31     0.222110  0.340522      10        1  2.780541\n",
              "21     0.331496  0.301731      11        1  2.772578\n",
              "45    -0.114453  0.414265      12        1  2.767928\n",
              "16    -0.355040  0.085504      13        1  2.681651\n",
              "4     -0.191800  0.302782      14        1  2.573814\n",
              "47     0.143329  0.013527      15        1  2.509634\n",
              "34    -0.099648  0.220959      16        1  2.364950\n",
              "7     -0.008900  0.170147      17        1  2.322649\n",
              "14    -0.456758  0.037100      18        1  2.275747\n",
              "49     0.017802  0.315400      19        1  2.246286\n",
              "5      0.321884  0.226646      20        1  2.205302\n",
              "15    -0.205833 -0.007740      21        1  2.130005\n",
              "40     0.116865 -0.456461      22        1  2.102283\n",
              "9      0.134868  0.159487      23        1  2.036313\n",
              "24    -0.222842 -0.405472      24        1  2.034563\n",
              "27    -0.435937 -0.071664      25        1  2.026094\n",
              "18     0.231183 -0.013889      26        1  1.985497\n",
              "12     0.304176 -0.091100      27        1  1.843410\n",
              "2     -0.327540 -0.220251      28        1  1.776923\n",
              "38     0.314570 -0.299823      29        1  1.768222\n",
              "13    -0.010026  0.024742      30        1  1.682182\n",
              "42    -0.280069 -0.298482      31        1  1.617116\n",
              "0      0.206735 -0.264440      32        1  1.566494\n",
              "22    -0.305361 -0.073025      33        1  1.542929\n",
              "23     0.249301 -0.392369      34        1  1.535759\n",
              "32     0.342856 -0.205419      35        1  1.521718\n",
              "11     0.418847 -0.041659      36        1  1.494246\n",
              "3      0.404708  0.044181      37        1  1.428996\n",
              "37     0.015288 -0.145353      38        1  1.401920\n",
              "39    -0.161918 -0.282783      39        1  1.327901\n",
              "43    -0.106426 -0.434525      40        1  1.311064\n",
              "44    -0.168973 -0.121122      41        1  1.280732\n",
              "29    -0.383245  0.155548      42        1  1.280451\n",
              "25     0.147162 -0.204023      43        1  1.224635\n",
              "33     0.013801 -0.421132      44        1  1.076382\n",
              "26     0.147129  0.245899      45        1  1.075792\n",
              "8     -0.226989  0.093409      46        1  1.017022\n",
              "28    -0.285428  0.183672      47        1  0.970197\n",
              "35    -0.095533 -0.185620      48        1  0.896792\n",
              "19    -0.034148 -0.307919      49        1  0.783472\n",
              "36     0.063713 -0.298380      50        1  0.636902, topic_info=            Term        Freq       Total Category  logprob  loglift\n",
              "1           file  450.000000  450.000000  Default  30.0000  30.0000\n",
              "11          code  832.000000  832.000000  Default  29.0000  29.0000\n",
              "29          name  233.000000  233.000000  Default  28.0000  28.0000\n",
              "265       server  264.000000  264.000000  Default  27.0000  27.0000\n",
              "146          web  201.000000  201.000000  Default  26.0000  26.0000\n",
              "...          ...         ...         ...      ...      ...      ...\n",
              "356         find    6.291748  185.667665  Topic50  -3.7980   1.6716\n",
              "269        thank    3.489835   89.197434  Topic50  -4.3874   1.8153\n",
              "1823  equivalent    2.028541   14.274355  Topic50  -4.9299   3.1052\n",
              "2655        cell    1.840327   10.544036  Topic50  -5.0273   3.3107\n",
              "184       wonder    1.888943   40.726852  Topic50  -5.0012   1.9854\n",
              "\n",
              "[2504 rows x 6 columns], token_table=      Topic      Freq      Term\n",
              "term                           \n",
              "2326     24  0.909425   ability\n",
              "0         2  0.076572      able\n",
              "0         6  0.063810      able\n",
              "0        14  0.025524      able\n",
              "0        15  0.025524      able\n",
              "...     ...       ...       ...\n",
              "816      25  0.740845       yet\n",
              "816      30  0.185211       yet\n",
              "2002      4  0.960010       zip\n",
              "5032      4  0.743430  zipentry\n",
              "5033      4  0.890606       zos\n",
              "\n",
              "[3776 rows x 3 columns], R=30, lambda_step=0.01, plot_opts={'xlab': 'PC1', 'ylab': 'PC2'}, topic_order=[49, 2, 11, 42, 47, 21, 31, 7, 18, 32, 22, 46, 17, 5, 48, 35, 8, 15, 50, 6, 16, 41, 10, 25, 28, 19, 13, 3, 39, 14, 43, 1, 23, 24, 33, 12, 4, 38, 40, 44, 45, 30, 26, 34, 27, 9, 29, 36, 20, 37])"
            ]
          },
          "execution_count": 89,
          "metadata": {},
          "output_type": "execute_result"
        }
      ],
      "source": [
        "lda_viz"
      ]
    },
    {
      "cell_type": "markdown",
      "metadata": {
        "id": "F-UNnDQKnQ8q"
      },
      "source": [
        "Récupération des topics :"
      ]
    },
    {
      "cell_type": "code",
      "execution_count": null,
      "metadata": {
        "id": "MHJVvwGHlV3Y"
      },
      "outputs": [],
      "source": [
        "top_topics = lda_model.top_topics(corpus)"
      ]
    },
    {
      "cell_type": "code",
      "execution_count": null,
      "metadata": {
        "id": "A7MJNnwzmBpz",
        "colab": {
          "base_uri": "https://localhost:8080/"
        },
        "outputId": "57612612-cfa7-4615-e1cc-4bb0876bab64"
      },
      "outputs": [
        {
          "output_type": "execute_result",
          "data": {
            "text/plain": [
              "[([(0.036293793, 'page'),\n",
              "   (0.024366986, 'problem'),\n",
              "   (0.021318402, 'control'),\n",
              "   (0.020823054, 'first'),\n",
              "   (0.016458562, 'use'),\n",
              "   (0.015786625, 'run'),\n",
              "   (0.014439821, 'net'),\n",
              "   (0.012783482, 'time'),\n",
              "   (0.012460834, 'seem'),\n",
              "   (0.012280776, 'set'),\n",
              "   (0.012268051, 'find'),\n",
              "   (0.012179549, 'view'),\n",
              "   (0.011324841, 'return'),\n",
              "   (0.011073059, 'log'),\n",
              "   (0.010964141, 'result'),\n",
              "   (0.010277292, 'could'),\n",
              "   (0.010136015, 'may'),\n",
              "   (0.010127816, 'think'),\n",
              "   (0.010122703, 'allow'),\n",
              "   (0.00946887, 'ca')],\n",
              "  -2.0575404695468147),\n",
              " ([(0.024778813, 'see'),\n",
              "   (0.022344435, 'index'),\n",
              "   (0.021238074, 'much'),\n",
              "   (0.017944947, 'update'),\n",
              "   (0.01765685, 'thing'),\n",
              "   (0.0175483, 'come'),\n",
              "   (0.017427966, 'width'),\n",
              "   (0.016511487, 'think'),\n",
              "   (0.015556417, 'easy'),\n",
              "   (0.015550268, 'say'),\n",
              "   (0.014997282, 'delete'),\n",
              "   (0.014895319, 'however'),\n",
              "   (0.014522123, 'wonder'),\n",
              "   (0.014388779, 'interested'),\n",
              "   (0.014071215, 'tell'),\n",
              "   (0.013712761, 'idea'),\n",
              "   (0.013702594, 'look'),\n",
              "   (0.013208043, 'good'),\n",
              "   (0.013072332, 'go'),\n",
              "   (0.012003235, 'problem')],\n",
              "  -3.1811241254094083),\n",
              " ([(0.15883656, 'code'),\n",
              "   (0.04904402, 'string'),\n",
              "   (0.04549977, 'return'),\n",
              "   (0.027419357, 'write'),\n",
              "   (0.026723403, 'would'),\n",
              "   (0.025701026, 'output'),\n",
              "   (0.024962518, 'list'),\n",
              "   (0.023175692, 'find'),\n",
              "   (0.021499356, 'value'),\n",
              "   (0.021286612, 'method'),\n",
              "   (0.017863216, 'call'),\n",
              "   (0.01754858, 'base'),\n",
              "   (0.01726231, 'select'),\n",
              "   (0.016704714, 'array'),\n",
              "   (0.016365414, 'group'),\n",
              "   (0.016351862, 'stre'),\n",
              "   (0.015215631, 'date'),\n",
              "   (0.014259725, 'get'),\n",
              "   (0.014101023, 'int'),\n",
              "   (0.013931368, 'print')],\n",
              "  -3.5049599056828713),\n",
              " ([(0.053352743, 'function'),\n",
              "   (0.04035267, 'message'),\n",
              "   (0.03604191, 'open'),\n",
              "   (0.03236033, 'browser'),\n",
              "   (0.029426144, 'call'),\n",
              "   (0.02895307, 'web'),\n",
              "   (0.026088323, 'send'),\n",
              "   (0.023661373, 'window'),\n",
              "   (0.022572234, 'application'),\n",
              "   (0.019687572, 'website'),\n",
              "   (0.01703163, 'program'),\n",
              "   (0.01702774, 'setup'),\n",
              "   (0.01627338, 'work'),\n",
              "   (0.016162813, 'request'),\n",
              "   (0.01580965, 'unable'),\n",
              "   (0.012845307, 'handle'),\n",
              "   (0.012712043, 'right'),\n",
              "   (0.012646032, 'app'),\n",
              "   (0.012633073, 'try'),\n",
              "   (0.012589533, 'convert')],\n",
              "  -3.6259311902441955),\n",
              " ([(0.1051291, 'name'),\n",
              "   (0.052063644, 'code'),\n",
              "   (0.045955878, 'query'),\n",
              "   (0.04481335, 'value'),\n",
              "   (0.042968027, 'would'),\n",
              "   (0.039207123, 'column'),\n",
              "   (0.038425785, 'table'),\n",
              "   (0.037410177, 'property'),\n",
              "   (0.03340237, 'row'),\n",
              "   (0.028259264, 'field'),\n",
              "   (0.020672334, 'class'),\n",
              "   (0.0202261, 'statement'),\n",
              "   (0.019654268, 'entity'),\n",
              "   (0.01607017, 'select'),\n",
              "   (0.015866771, 'sql'),\n",
              "   (0.014128806, 'join'),\n",
              "   (0.012813409, 'country'),\n",
              "   (0.012238164, 'datum'),\n",
              "   (0.011883063, 'nhibernate'),\n",
              "   (0.011647233, 'thank')],\n",
              "  -3.6831747222476157),\n",
              " ([(0.08585275, 'com'),\n",
              "   (0.07337614, 'question'),\n",
              "   (0.04023943, 'stackoverflow'),\n",
              "   (0.034022544, 'framework'),\n",
              "   (0.029030971, 'common'),\n",
              "   (0.025601232, 'answer'),\n",
              "   (0.023457395, 'module'),\n",
              "   (0.022817332, 'post'),\n",
              "   (0.020523572, 'use'),\n",
              "   (0.020388156, 'perform'),\n",
              "   (0.020207217, 'specific'),\n",
              "   (0.019937376, 'href'),\n",
              "   (0.019720206, 'problem'),\n",
              "   (0.019152194, 'consider'),\n",
              "   (0.017568732, 'node'),\n",
              "   (0.015405949, 'relate'),\n",
              "   (0.013667546, 'option'),\n",
              "   (0.013006296, 'find'),\n",
              "   (0.012910525, 'operation'),\n",
              "   (0.012383845, 'solution')],\n",
              "  -3.712509868017002),\n",
              " ([(0.03060057, 'code'),\n",
              "   (0.027455587, 'define'),\n",
              "   (0.025294911, 'interface'),\n",
              "   (0.02435193, 'serialize'),\n",
              "   (0.02380624, 'amount'),\n",
              "   (0.022003872, 'account'),\n",
              "   (0.021272378, 'use'),\n",
              "   (0.018902095, 'script'),\n",
              "   (0.018087918, 'well'),\n",
              "   (0.017044608, 'type'),\n",
              "   (0.016621774, 'class'),\n",
              "   (0.016077664, 'object'),\n",
              "   (0.013826761, 'application'),\n",
              "   (0.01342908, 'complex'),\n",
              "   (0.013031836, 'solution'),\n",
              "   (0.012456589, 'however'),\n",
              "   (0.012387443, 'function'),\n",
              "   (0.011110253, 'problem'),\n",
              "   (0.01108294, 'actual'),\n",
              "   (0.011026617, 'security')],\n",
              "  -3.937677776248925),\n",
              " ([(0.06557082, 'process'),\n",
              "   (0.049670383, 'bar'),\n",
              "   (0.039096817, 'foo'),\n",
              "   (0.037671186, 'create'),\n",
              "   (0.035769198, 'parameter'),\n",
              "   (0.032398038, 'last'),\n",
              "   (0.026413012, 'practice'),\n",
              "   (0.024109567, 'insert'),\n",
              "   (0.019800073, 'use'),\n",
              "   (0.019321142, 'import'),\n",
              "   (0.017286748, 'thank'),\n",
              "   (0.017061017, 'run'),\n",
              "   (0.016479118, 'base'),\n",
              "   (0.01561832, 'advice'),\n",
              "   (0.015118379, 'integration'),\n",
              "   (0.012799856, 'code'),\n",
              "   (0.012667749, 'could'),\n",
              "   (0.0120513905, 'external'),\n",
              "   (0.011663208, 'time'),\n",
              "   (0.0115292715, 'start')],\n",
              "  -3.9384022380919066),\n",
              " ([(0.10266496, 'application'),\n",
              "   (0.052681282, 'net'),\n",
              "   (0.051326036, 'use'),\n",
              "   (0.045087982, 'server'),\n",
              "   (0.037965514, 'web'),\n",
              "   (0.033441305, 'site'),\n",
              "   (0.016029792, 'run'),\n",
              "   (0.014886585, 'look'),\n",
              "   (0.014816025, 'solution'),\n",
              "   (0.014530316, 'go'),\n",
              "   (0.01225762, 'lot'),\n",
              "   (0.011441845, 'quite'),\n",
              "   (0.0113024935, 'mysql'),\n",
              "   (0.0110855, 'base'),\n",
              "   (0.009795273, 'software'),\n",
              "   (0.009566832, 'window'),\n",
              "   (0.009430725, 'hard'),\n",
              "   (0.009274777, 'serve'),\n",
              "   (0.00909508, 'suggestion'),\n",
              "   (0.008979338, 'upload')],\n",
              "  -4.046796350497253),\n",
              " ([(0.033107087, 'access'),\n",
              "   (0.02703231, 'develop'),\n",
              "   (0.026733233, 'software'),\n",
              "   (0.025865696, 'development'),\n",
              "   (0.025335457, 'work'),\n",
              "   (0.02399769, 'exception'),\n",
              "   (0.023527946, 'note'),\n",
              "   (0.022202987, 'throw'),\n",
              "   (0.019457202, 'company'),\n",
              "   (0.01910735, 'tool'),\n",
              "   (0.018437294, 'reason'),\n",
              "   (0.018279256, 'could'),\n",
              "   (0.01748858, 'large'),\n",
              "   (0.016859008, 'paste'),\n",
              "   (0.0164684, 'take'),\n",
              "   (0.016303344, 'copy'),\n",
              "   (0.015091821, 'time'),\n",
              "   (0.014734137, 'find'),\n",
              "   (0.014522055, 'use'),\n",
              "   (0.014505598, 'bug')],\n",
              "  -4.118418794754604),\n",
              " ([(0.06801336, 'create'),\n",
              "   (0.04563992, 'list'),\n",
              "   (0.043638974, 'custom'),\n",
              "   (0.03992587, 'default'),\n",
              "   (0.033420023, 'hide'),\n",
              "   (0.027064152, 'bit'),\n",
              "   (0.026338384, 'system'),\n",
              "   (0.02619839, 'change'),\n",
              "   (0.025320688, 'set'),\n",
              "   (0.022842577, 'var'),\n",
              "   (0.021753432, 'com'),\n",
              "   (0.021618282, 'extension'),\n",
              "   (0.021160467, 'see'),\n",
              "   (0.019950986, 'reflection'),\n",
              "   (0.019635, 'information'),\n",
              "   (0.01827989, 'page'),\n",
              "   (0.01730857, 'place'),\n",
              "   (0.016828649, 'web'),\n",
              "   (0.016513335, 'console'),\n",
              "   (0.014307928, 'separate')],\n",
              "  -4.206904559512057),\n",
              " ([(0.09085781, 'project'),\n",
              "   (0.07101162, 'visual'),\n",
              "   (0.0705736, 'line'),\n",
              "   (0.05787836, 'studio'),\n",
              "   (0.052836783, 'file'),\n",
              "   (0.035244, 'version'),\n",
              "   (0.034606308, 'build'),\n",
              "   (0.02258306, 'assembly'),\n",
              "   (0.01746914, 'copy'),\n",
              "   (0.01702374, 'automatically'),\n",
              "   (0.01659739, 'window'),\n",
              "   (0.0148760425, 'target'),\n",
              "   (0.0140155945, 'app'),\n",
              "   (0.013082607, 'find'),\n",
              "   (0.012705351, 'change'),\n",
              "   (0.011479555, 'get'),\n",
              "   (0.011333143, 'biztalk'),\n",
              "   (0.010695132, 'command'),\n",
              "   (0.009910971, 'name'),\n",
              "   (0.009534389, 'character')],\n",
              "  -4.32465847789184),\n",
              " ([(0.057943862, 'end'),\n",
              "   (0.039344616, 'code'),\n",
              "   (0.032232035, 'private'),\n",
              "   (0.028354822, 'use'),\n",
              "   (0.026145825, 'pointer'),\n",
              "   (0.02520489, 'variable'),\n",
              "   (0.02383027, 'class'),\n",
              "   (0.02298857, 'static'),\n",
              "   (0.018414281, 'sometimes'),\n",
              "   (0.018030973, 'build'),\n",
              "   (0.017960241, 'tool'),\n",
              "   (0.013753675, 'rail'),\n",
              "   (0.013740723, 'create'),\n",
              "   (0.0130101815, 'dynamic'),\n",
              "   (0.012991708, 'change'),\n",
              "   (0.011083001, 'generate'),\n",
              "   (0.010830042, 'well'),\n",
              "   (0.010451504, 'link'),\n",
              "   (0.010395626, 'solution'),\n",
              "   (0.010356054, 'speed')],\n",
              "  -5.018829687541005),\n",
              " ([(0.10396875, 'public'),\n",
              "   (0.09456123, 'class'),\n",
              "   (0.06269642, 'void'),\n",
              "   (0.038992077, 'server'),\n",
              "   (0.03776959, 'database'),\n",
              "   (0.03167498, 'worker'),\n",
              "   (0.031156912, 'line'),\n",
              "   (0.028236797, 'instance'),\n",
              "   (0.022810273, 'sql'),\n",
              "   (0.018699896, 'datum'),\n",
              "   (0.018433567, 'extend'),\n",
              "   (0.016532587, 'runner'),\n",
              "   (0.013354489, 'access'),\n",
              "   (0.013207879, 'state'),\n",
              "   (0.012837019, 'move'),\n",
              "   (0.012132632, 'need'),\n",
              "   (0.011060544, 'follow'),\n",
              "   (0.009481853, 'connect'),\n",
              "   (0.009352832, 'program'),\n",
              "   (0.009056982, 'local')],\n",
              "  -5.195130709776871),\n",
              " ([(0.07373913, 'library'),\n",
              "   (0.07192781, 'many'),\n",
              "   (0.063726336, 'standard'),\n",
              "   (0.03475653, 'use'),\n",
              "   (0.024946526, 'produce'),\n",
              "   (0.021480015, 'value'),\n",
              "   (0.020956755, 'appear'),\n",
              "   (0.019404665, 'right'),\n",
              "   (0.019170284, 'assume'),\n",
              "   (0.018123945, 'algorithm'),\n",
              "   (0.01591492, 'perhaps'),\n",
              "   (0.015909256, 'round'),\n",
              "   (0.015788417, 'performance'),\n",
              "   (0.015006394, 'help'),\n",
              "   (0.01433647, 'depend'),\n",
              "   (0.012859155, 'different'),\n",
              "   (0.010981299, 'non'),\n",
              "   (0.010513735, 'version'),\n",
              "   (0.010327341, 'could'),\n",
              "   (0.009186823, 'look')],\n",
              "  -5.210265513256895),\n",
              " ([(0.030455466, 'tool'),\n",
              "   (0.028942125, 'year'),\n",
              "   (0.028143995, 'com'),\n",
              "   (0.026584592, 'use'),\n",
              "   (0.024202906, 'problem'),\n",
              "   (0.02361652, 'day'),\n",
              "   (0.0216304, 'language'),\n",
              "   (0.01991635, 'developer'),\n",
              "   (0.01937247, 'tag'),\n",
              "   (0.016962182, 'platform'),\n",
              "   (0.015728476, 'work'),\n",
              "   (0.015589614, 'good'),\n",
              "   (0.015409556, 'book'),\n",
              "   (0.014685451, 'provide'),\n",
              "   (0.01454962, 'move'),\n",
              "   (0.014463749, 'document'),\n",
              "   (0.014449154, 'many'),\n",
              "   (0.014042061, 'prevent'),\n",
              "   (0.014041639, 'write'),\n",
              "   (0.013733659, 'people')],\n",
              "  -5.249711524902052),\n",
              " ([(0.42099607, 'file'),\n",
              "   (0.04121542, 'path'),\n",
              "   (0.03733596, 'code'),\n",
              "   (0.030199682, 'use'),\n",
              "   (0.021120898, 'read'),\n",
              "   (0.02023478, 'http'),\n",
              "   (0.016040456, 'master'),\n",
              "   (0.014226658, 'script'),\n",
              "   (0.014151996, 'find'),\n",
              "   (0.0139053725, 'sort'),\n",
              "   (0.012907886, 'portion'),\n",
              "   (0.012702406, 'example'),\n",
              "   (0.009203958, 'document'),\n",
              "   (0.0087791, 'write'),\n",
              "   (0.008735331, 'pretty'),\n",
              "   (0.008505981, 'get'),\n",
              "   (0.007959901, 'href'),\n",
              "   (0.0076355073, 'critical'),\n",
              "   (0.0072370972, 'correspond'),\n",
              "   (0.0070948, 'work')],\n",
              "  -5.508447152319446),\n",
              " ([(0.08050698, 'source'),\n",
              "   (0.043826446, 'write'),\n",
              "   (0.03539118, 'team'),\n",
              "   (0.029036341, 'large'),\n",
              "   (0.026776474, 'already'),\n",
              "   (0.025553603, 'available'),\n",
              "   (0.025048943, 'use'),\n",
              "   (0.02301751, 'process'),\n",
              "   (0.022642747, 'rather'),\n",
              "   (0.021670125, 'program'),\n",
              "   (0.01959315, 'proper'),\n",
              "   (0.01806175, 'java'),\n",
              "   (0.017907878, 'matter'),\n",
              "   (0.016534455, 'make'),\n",
              "   (0.015702259, 'read'),\n",
              "   (0.015223268, 'construct'),\n",
              "   (0.015143183, 'app'),\n",
              "   (0.0140436115, 'stack'),\n",
              "   (0.013997412, 'change'),\n",
              "   (0.013807345, 'replace')],\n",
              "  -5.657095538621565),\n",
              " ([(0.080882534, 'server'),\n",
              "   (0.050245814, 'install'),\n",
              "   (0.04549461, 'run'),\n",
              "   (0.033301797, 'mail'),\n",
              "   (0.032864757, 'require'),\n",
              "   (0.027721437, 'instal'),\n",
              "   (0.02712467, 'talk'),\n",
              "   (0.02583408, 'request'),\n",
              "   (0.023178969, 'client'),\n",
              "   (0.019848278, 'core'),\n",
              "   (0.014486997, 'directory'),\n",
              "   (0.014428104, 'system'),\n",
              "   (0.014357251, 'send'),\n",
              "   (0.014136729, 'suggestion'),\n",
              "   (0.013159187, 'calendar'),\n",
              "   (0.01298639, 'provide'),\n",
              "   (0.012593215, 'try'),\n",
              "   (0.011348203, 'socket'),\n",
              "   (0.011046416, 'use'),\n",
              "   (0.010825053, 'email')],\n",
              "  -5.752475190511962),\n",
              " ([(0.044970863, 'part'),\n",
              "   (0.03683507, 'size'),\n",
              "   (0.035653945, 'system'),\n",
              "   (0.03390605, 'show'),\n",
              "   (0.031124549, 'click'),\n",
              "   (0.028261462, 'code'),\n",
              "   (0.02804779, 'boolean'),\n",
              "   (0.027570924, 'fix'),\n",
              "   (0.019875225, 'select'),\n",
              "   (0.019224722, 'call'),\n",
              "   (0.018881403, 'override'),\n",
              "   (0.016058601, 'problem'),\n",
              "   (0.015710266, 'get'),\n",
              "   (0.015007935, 'next'),\n",
              "   (0.014739097, 'user'),\n",
              "   (0.014724538, 'take'),\n",
              "   (0.014505921, 'asset'),\n",
              "   (0.012467985, 'still'),\n",
              "   (0.0124419555, 'love'),\n",
              "   (0.012081721, 'go')],\n",
              "  -5.991738039990826),\n",
              " ([(0.06708114, 'type'),\n",
              "   (0.05992264, 'element'),\n",
              "   (0.04805022, 'input'),\n",
              "   (0.039465193, 'link'),\n",
              "   (0.03709618, 'domain'),\n",
              "   (0.032839913, 'text'),\n",
              "   (0.023254873, 'code'),\n",
              "   (0.01987777, 'attribute'),\n",
              "   (0.019149834, 'host'),\n",
              "   (0.017731339, 'example'),\n",
              "   (0.017072221, 'back'),\n",
              "   (0.01633806, 'cell'),\n",
              "   (0.016086033, 'configuration'),\n",
              "   (0.015440164, 'go'),\n",
              "   (0.014550745, 'com'),\n",
              "   (0.014322592, 'rewrite'),\n",
              "   (0.014144658, 'problem'),\n",
              "   (0.012907199, 'character'),\n",
              "   (0.012772329, 'sub'),\n",
              "   (0.012614844, 'add')],\n",
              "  -6.504778861184934),\n",
              " ([(0.07871477, 'side'),\n",
              "   (0.056156926, 'client'),\n",
              "   (0.041471127, 'expression'),\n",
              "   (0.029097924, 'single'),\n",
              "   (0.026273245, 'server'),\n",
              "   (0.024858782, 'code'),\n",
              "   (0.023912562, 'technique'),\n",
              "   (0.023229618, 'hope'),\n",
              "   (0.021225078, 'valid'),\n",
              "   (0.01937702, 'architecture'),\n",
              "   (0.019202655, 'help'),\n",
              "   (0.019129368, 'thing'),\n",
              "   (0.01863972, 'pretty'),\n",
              "   (0.017924473, 'miss'),\n",
              "   (0.017636219, 'structure'),\n",
              "   (0.016813098, 'trouble'),\n",
              "   (0.014665261, 'regular'),\n",
              "   (0.014042465, 'logic'),\n",
              "   (0.013351238, 'match'),\n",
              "   (0.012963402, 'project')],\n",
              "  -6.631645164477002),\n",
              " ([(0.05711046, 'point'),\n",
              "   (0.03215726, 'time'),\n",
              "   (0.025272181, 'format'),\n",
              "   (0.025271103, 'determine'),\n",
              "   (0.023482252, 'multiple'),\n",
              "   (0.02268078, 'must'),\n",
              "   (0.016775332, 'choose'),\n",
              "   (0.015957283, 'avoid'),\n",
              "   (0.015511274, 'use'),\n",
              "   (0.015407006, 'user'),\n",
              "   (0.015329891, 'one'),\n",
              "   (0.014726996, 'step'),\n",
              "   (0.014725921, 'date'),\n",
              "   (0.014177602, 'current'),\n",
              "   (0.013728217, 'enter'),\n",
              "   (0.012286882, 'real'),\n",
              "   (0.011598882, 'com'),\n",
              "   (0.011509876, 'effect'),\n",
              "   (0.0111497305, 'datum'),\n",
              "   (0.010905122, 'integer')],\n",
              "  -6.688526210361253),\n",
              " ([(0.12565023, 'table'),\n",
              "   (0.12502311, 'database'),\n",
              "   (0.0654302, 'datum'),\n",
              "   (0.038869407, 'create'),\n",
              "   (0.026956022, 'data'),\n",
              "   (0.025216766, 'design'),\n",
              "   (0.020279223, 'schema'),\n",
              "   (0.02016481, 'store'),\n",
              "   (0.019036902, 'manually'),\n",
              "   (0.01859106, 'several'),\n",
              "   (0.015135613, 'sqlite'),\n",
              "   (0.013754271, 'icon'),\n",
              "   (0.0136596905, 'basically'),\n",
              "   (0.013220899, 'use'),\n",
              "   (0.012575759, 'always'),\n",
              "   (0.011394365, 'temporary'),\n",
              "   (0.01081312, 'result'),\n",
              "   (0.010748315, 'export'),\n",
              "   (0.010049327, 'indicate'),\n",
              "   (0.008800475, 'sort')],\n",
              "  -6.689780033333962),\n",
              " ([(0.081405245, 'button'),\n",
              "   (0.061723556, 'trigger'),\n",
              "   (0.04266008, 'text'),\n",
              "   (0.03842191, 'display'),\n",
              "   (0.03826557, 'control'),\n",
              "   (0.02936845, 'window'),\n",
              "   (0.026790142, 'behavior'),\n",
              "   (0.025915613, 'forward'),\n",
              "   (0.020891989, 'navigation'),\n",
              "   (0.020272974, 'enable'),\n",
              "   (0.019931288, 'currently'),\n",
              "   (0.01926138, 'press'),\n",
              "   (0.018106662, 'property'),\n",
              "   (0.017690131, 'type'),\n",
              "   (0.0163529, 'event'),\n",
              "   (0.01598316, 'kind'),\n",
              "   (0.015767863, 'leak'),\n",
              "   (0.015566452, 'feedback'),\n",
              "   (0.014502071, 'additional'),\n",
              "   (0.014045414, 'false')],\n",
              "  -7.6261815518009985),\n",
              " ([(0.0867575, 'error'),\n",
              "   (0.083024874, 'set'),\n",
              "   (0.06372756, 'value'),\n",
              "   (0.055227403, 'model'),\n",
              "   (0.0432819, 'box'),\n",
              "   (0.04264087, 'bind'),\n",
              "   (0.041046936, 'code'),\n",
              "   (0.023098556, 'param'),\n",
              "   (0.022812761, 'dialog'),\n",
              "   (0.022520168, 'blog'),\n",
              "   (0.021641225, 'blockquote'),\n",
              "   (0.0156045295, 'difference'),\n",
              "   (0.013132922, 'public'),\n",
              "   (0.012383005, 'operator'),\n",
              "   (0.010890185, 'idea'),\n",
              "   (0.010769966, 'future'),\n",
              "   (0.010077675, 'int'),\n",
              "   (0.009568336, 'fine'),\n",
              "   (0.009375841, 'click'),\n",
              "   (0.009023675, 'select')],\n",
              "  -7.753765572117658),\n",
              " ([(0.051821526, 'compiler'),\n",
              "   (0.04405352, 'debug'),\n",
              "   (0.035403896, 'compile'),\n",
              "   (0.033457354, 'useful'),\n",
              "   (0.03007254, 'output'),\n",
              "   (0.02967359, 'turn'),\n",
              "   (0.028786166, 'fail'),\n",
              "   (0.026007226, 'relative'),\n",
              "   (0.022174215, 'parse'),\n",
              "   (0.02161726, 'code'),\n",
              "   (0.0215261, 'time'),\n",
              "   (0.020233283, 'run'),\n",
              "   (0.018407045, 'add'),\n",
              "   (0.017295651, 'maybe'),\n",
              "   (0.017201802, 'release'),\n",
              "   (0.014225927, 'none'),\n",
              "   (0.013561286, 'sort'),\n",
              "   (0.012504564, 'calculate'),\n",
              "   (0.012309093, 'week'),\n",
              "   (0.011887001, 'compilation')],\n",
              "  -8.104219289347565),\n",
              " ([(0.17406273, 'test'),\n",
              "   (0.053331047, 'unit'),\n",
              "   (0.049086925, 'share'),\n",
              "   (0.04208755, 'request'),\n",
              "   (0.039651927, 'machine'),\n",
              "   (0.027490284, 'testing'),\n",
              "   (0.027380934, 'manage'),\n",
              "   (0.0216701, 'error'),\n",
              "   (0.021361077, 'requirement'),\n",
              "   (0.01757788, 'remote'),\n",
              "   (0.015415578, 'due'),\n",
              "   (0.014030475, 'engine'),\n",
              "   (0.0132620605, 'project'),\n",
              "   (0.013018162, 'repository'),\n",
              "   (0.0119645195, 'kind'),\n",
              "   (0.010984857, 'try'),\n",
              "   (0.0107946675, 'response'),\n",
              "   (0.010410645, 'lot'),\n",
              "   (0.010334823, 'cvs'),\n",
              "   (0.009598354, 'drive')],\n",
              "  -8.672973619697306),\n",
              " ([(0.13498852, 'service'),\n",
              "   (0.073149264, 'web'),\n",
              "   (0.03539655, 'computer'),\n",
              "   (0.022471813, 'framework'),\n",
              "   (0.020265823, 'able'),\n",
              "   (0.0201549, 'net'),\n",
              "   (0.017447034, 'generate'),\n",
              "   (0.017175427, 'application'),\n",
              "   (0.01649936, 'exactly'),\n",
              "   (0.015915127, 'client'),\n",
              "   (0.015613784, 'incoming'),\n",
              "   (0.01294723, 'information'),\n",
              "   (0.012743671, 'sign'),\n",
              "   (0.012412143, 'register'),\n",
              "   (0.012402806, 'amp'),\n",
              "   (0.011954736, 'setup'),\n",
              "   (0.010470427, 'case'),\n",
              "   (0.010455797, 'config'),\n",
              "   (0.009972371, 'research'),\n",
              "   (0.00994745, 'spring')],\n",
              "  -9.226595104348487),\n",
              " ([(0.1781134, 'object'),\n",
              "   (0.071927324, 'method'),\n",
              "   (0.038550615, 'implement'),\n",
              "   (0.038332984, 'order'),\n",
              "   (0.035928342, 'class'),\n",
              "   (0.03126728, 'reference'),\n",
              "   (0.030483618, 'public'),\n",
              "   (0.018433405, 'find'),\n",
              "   (0.01340528, 'call'),\n",
              "   (0.012818851, 'pass'),\n",
              "   (0.012711075, 'access'),\n",
              "   (0.012174298, 'local'),\n",
              "   (0.011110747, 'runbehavior'),\n",
              "   (0.010958409, 'dispose'),\n",
              "   (0.010488823, 'impl'),\n",
              "   (0.009724212, 'sessionimpl'),\n",
              "   (0.009540312, 'ienumerable'),\n",
              "   (0.009235314, 'textwriter'),\n",
              "   (0.008876988, 'manager'),\n",
              "   (0.008661152, 'treat')],\n",
              "  -9.449191797863948),\n",
              " ([(0.05071862, 'run'),\n",
              "   (0.05016684, 'code'),\n",
              "   (0.047337547, 'download'),\n",
              "   (0.030898696, 'content'),\n",
              "   (0.030324725, 'nice'),\n",
              "   (0.029655783, 'list'),\n",
              "   (0.028480332, 'fast'),\n",
              "   (0.026526999, 'start'),\n",
              "   (0.025797047, 'random'),\n",
              "   (0.025358384, 'slow'),\n",
              "   (0.025050692, 'always'),\n",
              "   (0.018816898, 'viewer'),\n",
              "   (0.018593466, 'job'),\n",
              "   (0.016787292, 'terminal'),\n",
              "   (0.015200577, 'weight'),\n",
              "   (0.014371983, 'draw'),\n",
              "   (0.0143127935, 'optimize'),\n",
              "   (0.012738032, 'sharepoint'),\n",
              "   (0.012367826, 'follow'),\n",
              "   (0.011946785, 'think')],\n",
              "  -9.572833919447465),\n",
              " ([(0.16027893, 'thread'),\n",
              "   (0.0769698, 'connection'),\n",
              "   (0.02374319, 'similar'),\n",
              "   (0.022830203, 'wait'),\n",
              "   (0.02264688, 'oracle'),\n",
              "   (0.022372833, 'synchronize'),\n",
              "   (0.021304304, 'block'),\n",
              "   (0.019865891, 'process'),\n",
              "   (0.018146174, 'message'),\n",
              "   (0.01559498, 'application'),\n",
              "   (0.013684851, 'timer'),\n",
              "   (0.013401172, 'receive'),\n",
              "   (0.0131656155, 'invoke'),\n",
              "   (0.013064695, 'return'),\n",
              "   (0.011064992, 'code'),\n",
              "   (0.010565488, 'summary'),\n",
              "   (0.00998619, 'rjs'),\n",
              "   (0.009297949, 'artifact'),\n",
              "   (0.009241597, 'activate'),\n",
              "   (0.009217683, 'try')],\n",
              "  -10.121138399737434),\n",
              " ([(0.13894878, 'number'),\n",
              "   (0.070006974, 'image'),\n",
              "   (0.041981786, 'load'),\n",
              "   (0.036499597, 'tree'),\n",
              "   (0.03311868, 'decimal'),\n",
              "   (0.03020534, 'use'),\n",
              "   (0.025166636, 'term'),\n",
              "   (0.022578722, 'remove'),\n",
              "   (0.022071728, 'drop'),\n",
              "   (0.02154728, 'mean'),\n",
              "   (0.019298745, 'accept'),\n",
              "   (0.018271761, 'argument'),\n",
              "   (0.01787466, 'third'),\n",
              "   (0.01692256, 'pattern'),\n",
              "   (0.015558689, 'write'),\n",
              "   (0.01528561, 'info'),\n",
              "   (0.014527351, 'dependency'),\n",
              "   (0.014426022, 'home'),\n",
              "   (0.014417235, 'possible'),\n",
              "   (0.014047305, 'drag')],\n",
              "  -10.23175279207559),\n",
              " ([(0.13197067, 'form'),\n",
              "   (0.033298742, 'internet'),\n",
              "   (0.02585469, 'detect'),\n",
              "   (0.024271827, 'proxy'),\n",
              "   (0.02386675, 'post'),\n",
              "   (0.022836221, 'controller'),\n",
              "   (0.02121315, 'web'),\n",
              "   (0.021211812, 'textbox'),\n",
              "   (0.019619288, 'certificate'),\n",
              "   (0.018987631, 'thank'),\n",
              "   (0.01827572, 'connect'),\n",
              "   (0.017930381, 'iis'),\n",
              "   (0.016426701, 'explorer'),\n",
              "   (0.015780266, 'network'),\n",
              "   (0.015455911, 'mvc'),\n",
              "   (0.015224527, 'submit'),\n",
              "   (0.015177958, 'issue'),\n",
              "   (0.013113265, 'expire'),\n",
              "   (0.012484104, 'ever'),\n",
              "   (0.012266132, 'different')],\n",
              "  -10.295743167274905),\n",
              " ([(0.09058406, 'support'),\n",
              "   (0.06498974, 'component'),\n",
              "   (0.05583841, 'product'),\n",
              "   (0.042979334, 'screen'),\n",
              "   (0.030506419, 'different'),\n",
              "   (0.022780849, 'installer'),\n",
              "   (0.021813456, 'area'),\n",
              "   (0.021348704, 'design'),\n",
              "   (0.02013508, 'program'),\n",
              "   (0.019925665, 'window'),\n",
              "   (0.01870885, 'version'),\n",
              "   (0.01639552, 'mode'),\n",
              "   (0.01636642, 'always'),\n",
              "   (0.016312445, 'system'),\n",
              "   (0.015161138, 'location'),\n",
              "   (0.013487564, 'wrap'),\n",
              "   (0.013072492, 'exist'),\n",
              "   (0.01256661, 'optimization'),\n",
              "   (0.012377209, 'opengl'),\n",
              "   (0.011275642, 'cruisecontrol')],\n",
              "  -10.345963045410631),\n",
              " ([(0.10139278, 'event'),\n",
              "   (0.04961645, 'null'),\n",
              "   (0.043836277, 'record'),\n",
              "   (0.03221645, 'empty'),\n",
              "   (0.031741813, 'various'),\n",
              "   (0.028051231, 'keyboard'),\n",
              "   (0.025023831, 'constructor'),\n",
              "   (0.023880573, 'utility'),\n",
              "   (0.020780051, 'code'),\n",
              "   (0.01757779, 'power'),\n",
              "   (0.014891206, 'let'),\n",
              "   (0.014870292, 'method'),\n",
              "   (0.013049872, 'call'),\n",
              "   (0.011765992, 'dot'),\n",
              "   (0.011539713, 'drive'),\n",
              "   (0.010942037, 'email'),\n",
              "   (0.010535067, 'must'),\n",
              "   (0.01008102, 'seem'),\n",
              "   (0.010068666, 'worry'),\n",
              "   (0.009434358, 'shortcut')],\n",
              "  -10.535187360561553),\n",
              " ([(0.096786045, 'search'),\n",
              "   (0.076348454, 'column'),\n",
              "   (0.047900498, 'word'),\n",
              "   (0.044632748, 'save'),\n",
              "   (0.040811125, 'document'),\n",
              "   (0.037142593, 'declare'),\n",
              "   (0.031846542, 'com'),\n",
              "   (0.02307029, 'name'),\n",
              "   (0.022483908, 'retrieve'),\n",
              "   (0.01966693, 'archive'),\n",
              "   (0.018505631, 'template'),\n",
              "   (0.017915947, 'possible'),\n",
              "   (0.017898902, 'silverlight'),\n",
              "   (0.017148944, 'respond'),\n",
              "   (0.015720548, 'helpful'),\n",
              "   (0.014133482, 'inner'),\n",
              "   (0.012645949, 'code'),\n",
              "   (0.011174434, 'big'),\n",
              "   (0.010678467, 'twitter'),\n",
              "   (0.010537441, 'object')],\n",
              "  -11.075174136675832),\n",
              " ([(0.073778525, 'code'),\n",
              "   (0.045878913, 'example'),\n",
              "   (0.045445744, 'php'),\n",
              "   (0.024934893, 'basic'),\n",
              "   (0.022109944, 'even'),\n",
              "   (0.020366495, 'note'),\n",
              "   (0.01973176, 'fairly'),\n",
              "   (0.017339569, 'concurrency'),\n",
              "   (0.017058121, 'could'),\n",
              "   (0.014709031, 'implement'),\n",
              "   (0.014197684, 'system'),\n",
              "   (0.01376409, 'cast'),\n",
              "   (0.013202796, 'overload'),\n",
              "   (0.012650881, 'explicitly'),\n",
              "   (0.011988847, 'must'),\n",
              "   (0.0116803935, 'understand'),\n",
              "   (0.011161705, 'constraint'),\n",
              "   (0.010820509, 'convert'),\n",
              "   (0.010770984, 'fizzbuzz'),\n",
              "   (0.010770983, 'tenet')],\n",
              "  -11.73665697366007),\n",
              " ([(0.08238619, 'style'),\n",
              "   (0.07858803, 'css'),\n",
              "   (0.034471568, 'background'),\n",
              "   (0.027732737, 'position'),\n",
              "   (0.02448648, 'display'),\n",
              "   (0.020075586, 'clean'),\n",
              "   (0.019794537, 'writing'),\n",
              "   (0.019070644, 'top'),\n",
              "   (0.017921839, 'value'),\n",
              "   (0.017840067, 'code'),\n",
              "   (0.016326418, 'arm'),\n",
              "   (0.014366925, 'color'),\n",
              "   (0.014044085, 'menu'),\n",
              "   (0.0135619175, 'multipli'),\n",
              "   (0.012543958, 'bottom'),\n",
              "   (0.012252971, 'spybot'),\n",
              "   (0.0116460705, 'head'),\n",
              "   (0.011518153, 'asp'),\n",
              "   (0.010959909, 'race'),\n",
              "   (0.010736578, 'gcc')],\n",
              "  -12.09406164383053),\n",
              " ([(0.06387484, 'folder'),\n",
              "   (0.041151702, 'function'),\n",
              "   (0.0337467, 'system'),\n",
              "   (0.031428512, 'handle'),\n",
              "   (0.030458039, 'mobile'),\n",
              "   (0.0284764, 'game'),\n",
              "   (0.027257495, 'lt'),\n",
              "   (0.025124824, 'customer'),\n",
              "   (0.022933569, 'port'),\n",
              "   (0.021350233, 'phone'),\n",
              "   (0.02134079, 'contain'),\n",
              "   (0.018832847, 'call'),\n",
              "   (0.016962925, 'binary'),\n",
              "   (0.015376622, 'start'),\n",
              "   (0.0145033775, 'anyway'),\n",
              "   (0.014288053, 'let'),\n",
              "   (0.013871799, 'linq'),\n",
              "   (0.013871799, 'func'),\n",
              "   (0.0132985655, 'appear'),\n",
              "   (0.012545196, 'refresh')],\n",
              "  -12.152661798223921),\n",
              " ([(0.083643466, 'store'),\n",
              "   (0.06721734, 'monitor'),\n",
              "   (0.055482306, 'procedure'),\n",
              "   (0.055312593, 'log'),\n",
              "   (0.047689192, 'call'),\n",
              "   (0.038452223, 'redirect'),\n",
              "   (0.03646687, 'protect'),\n",
              "   (0.029916955, 'possible'),\n",
              "   (0.029473612, 'inherit'),\n",
              "   (0.02538697, 'total'),\n",
              "   (0.022295501, 'fire'),\n",
              "   (0.019046143, 'class'),\n",
              "   (0.015386727, 'parent'),\n",
              "   (0.0144819645, 'suggestion'),\n",
              "   (0.012980505, 'ajax'),\n",
              "   (0.012611397, 'dual'),\n",
              "   (0.012433423, 'make'),\n",
              "   (0.010250342, 'inheritance'),\n",
              "   (0.008327876, 'translation'),\n",
              "   (0.007625359, 'position')],\n",
              "  -12.92476142269935),\n",
              " ([(0.05017844, 'key'),\n",
              "   (0.043455202, 'update'),\n",
              "   (0.041662958, 'find'),\n",
              "   (0.041323114, 'good'),\n",
              "   (0.03729888, 'processing'),\n",
              "   (0.023895035, 'vote'),\n",
              "   (0.023286901, 'config'),\n",
              "   (0.01843356, 'font'),\n",
              "   (0.017275965, 'authentication'),\n",
              "   (0.0151432, 'wrapper'),\n",
              "   (0.014229945, 'opening'),\n",
              "   (0.0137891425, 'support'),\n",
              "   (0.013611787, 'ide'),\n",
              "   (0.01315647, 'mymethod'),\n",
              "   (0.012810244, 'documentation'),\n",
              "   (0.012271097, 'capture'),\n",
              "   (0.011056325, 'bold'),\n",
              "   (0.010783374, 'handler'),\n",
              "   (0.010517589, 'org'),\n",
              "   (0.010087706, 'http')],\n",
              "  -13.148314455114539),\n",
              " ([(0.053572193, 'cookie'),\n",
              "   (0.048442043, 'rating'),\n",
              "   (0.046749547, 'entry'),\n",
              "   (0.046106603, 'super'),\n",
              "   (0.036493573, 'movie'),\n",
              "   (0.025561282, 'scale'),\n",
              "   (0.021028547, 'person'),\n",
              "   (0.020524189, 'insert'),\n",
              "   (0.018115431, 'merge'),\n",
              "   (0.01709017, 'criterion'),\n",
              "   (0.015349228, 'destination'),\n",
              "   (0.014738261, 'globally'),\n",
              "   (0.013816825, 'exist'),\n",
              "   (0.01374856, 'varchar'),\n",
              "   (0.0126062045, 'show'),\n",
              "   (0.011909189, 'example'),\n",
              "   (0.011332471, 'fashion'),\n",
              "   (0.010899806, 'find'),\n",
              "   (0.010473635, 'binding'),\n",
              "   (0.010469339, 'hold')],\n",
              "  -13.584031751992585),\n",
              " ([(0.06710082, 'second'),\n",
              "   (0.057082757, 'session'),\n",
              "   (0.041879434, 'page'),\n",
              "   (0.03994108, 'render'),\n",
              "   (0.032836992, 'select'),\n",
              "   (0.030832926, 'title'),\n",
              "   (0.030662892, 'html'),\n",
              "   (0.022865754, 'use'),\n",
              "   (0.015339108, 'newdirname'),\n",
              "   (0.0149629, 'nest'),\n",
              "   (0.013990581, 'hover'),\n",
              "   (0.012559574, 'object'),\n",
              "   (0.012276194, 'samesubdir'),\n",
              "   (0.012020528, 'body'),\n",
              "   (0.011657449, 'sheet'),\n",
              "   (0.011480126, 'would'),\n",
              "   (0.010335119, 'parent'),\n",
              "   (0.010180159, 'aspx'),\n",
              "   (0.009528339, 'stopwatch'),\n",
              "   (0.009528339, 'supplierlist')],\n",
              "  -13.783522781479162),\n",
              " ([(0.06439707, 'project'),\n",
              "   (0.05240746, 'include'),\n",
              "   (0.044146437, 'header'),\n",
              "   (0.039901204, 'address'),\n",
              "   (0.03103718, 'business'),\n",
              "   (0.022911755, 'pro'),\n",
              "   (0.02223291, 'vector'),\n",
              "   (0.021724943, 'layer'),\n",
              "   (0.02127631, 'locate'),\n",
              "   (0.015773885, 'approach'),\n",
              "   (0.015720753, 'accounting'),\n",
              "   (0.015708148, 'con'),\n",
              "   (0.014593757, 'getinstance'),\n",
              "   (0.012189345, 'field'),\n",
              "   (0.010879591, 'management'),\n",
              "   (0.010693781, 'consideration'),\n",
              "   (0.010028354, 'lib'),\n",
              "   (0.009799722, 'subsonic'),\n",
              "   (0.009756502, 'opt'),\n",
              "   (0.008920574, 'provide')],\n",
              "  -14.628113008768425),\n",
              " ([(0.063815795, 'response'),\n",
              "   (0.049839213, 'memory'),\n",
              "   (0.04589027, 'self'),\n",
              "   (0.036788475, 'http'),\n",
              "   (0.036520492, 'distribute'),\n",
              "   (0.035453636, 'explain'),\n",
              "   (0.021578236, 'card'),\n",
              "   (0.021033194, 'access'),\n",
              "   (0.019114524, 'agent'),\n",
              "   (0.018881312, 'page'),\n",
              "   (0.01833059, 'updatepanel'),\n",
              "   (0.01715111, 'symbol'),\n",
              "   (0.016441267, 'dictionary'),\n",
              "   (0.014057172, 'server'),\n",
              "   (0.014008927, 'adapt'),\n",
              "   (0.013555661, 'work'),\n",
              "   (0.011695416, 'synchronization'),\n",
              "   (0.011546876, 'postback'),\n",
              "   (0.011060654, 'jar'),\n",
              "   (0.011016285, 'storage')],\n",
              "  -14.882275232022613),\n",
              " ([(0.13961719, 'feature'),\n",
              "   (0.13246185, 'collection'),\n",
              "   (0.034383904, 'hack'),\n",
              "   (0.03047859, 'long'),\n",
              "   (0.030013956, 'old'),\n",
              "   (0.022339618, 'unique'),\n",
              "   (0.021912256, 'period'),\n",
              "   (0.02166046, 'technical'),\n",
              "   (0.019852089, 'production'),\n",
              "   (0.019294418, 'disk'),\n",
              "   (0.014718334, 'less'),\n",
              "   (0.014616852, 'aid'),\n",
              "   (0.013892761, 'bracket'),\n",
              "   (0.012019423, 'collapse'),\n",
              "   (0.011644713, 'turn'),\n",
              "   (0.010346657, 'time'),\n",
              "   (0.010319106, 'yield'),\n",
              "   (0.009193393, 'subcoll'),\n",
              "   (0.009193393, 'subtype'),\n",
              "   (0.00869438, 'reside')],\n",
              "  -16.214315900412025),\n",
              " ([(0.10930208, 'report'),\n",
              "   (0.09070905, 'item'),\n",
              "   (0.032156587, 'integer'),\n",
              "   (0.02704763, 'buffer'),\n",
              "   (0.025150057, 'task'),\n",
              "   (0.019922478, 'pipeline'),\n",
              "   (0.019189896, 'involve'),\n",
              "   (0.018519936, 'point'),\n",
              "   (0.016899714, 'individual'),\n",
              "   (0.014813698, 'boost'),\n",
              "   (0.014367668, 'clone'),\n",
              "   (0.0142998025, 'description'),\n",
              "   (0.013765493, 'mypropertie'),\n",
              "   (0.013111267, 'float'),\n",
              "   (0.0129245585, 'cache'),\n",
              "   (0.011642637, 'owner'),\n",
              "   (0.010843779, 'time'),\n",
              "   (0.010384512, 'compose'),\n",
              "   (0.008797137, 'forget'),\n",
              "   (0.008675908, 'resize')],\n",
              "  -16.53303528145691),\n",
              " ([(0.10926542, 'text'),\n",
              "   (0.07575726, 'break'),\n",
              "   (0.033483565, 'root'),\n",
              "   (0.025866713, 'packet'),\n",
              "   (0.023353994, 'flex'),\n",
              "   (0.022422861, 'copy'),\n",
              "   (0.021820793, 'arg'),\n",
              "   (0.021483913, 'throughput'),\n",
              "   (0.02146206, 'label'),\n",
              "   (0.02146002, 'short'),\n",
              "   (0.010989994, 'ready'),\n",
              "   (0.010514964, 'pk'),\n",
              "   (0.010417452, 'determine'),\n",
              "   (0.010382842, 'thank'),\n",
              "   (0.0098467255, 'payload'),\n",
              "   (0.009030737, 'paste'),\n",
              "   (0.008941607, 'gbit'),\n",
              "   (0.008941607, 'bottleneck'),\n",
              "   (0.008941606, 'rotation'),\n",
              "   (0.008401712, 'perl')],\n",
              "  -16.94269043748743),\n",
              " ([(0.03642794, 'compare'),\n",
              "   (0.032359548, 'converter'),\n",
              "   (0.029592942, 'child'),\n",
              "   (0.022996753, 'rate'),\n",
              "   (0.022260292, 'border'),\n",
              "   (0.019058213, 'certain'),\n",
              "   (0.017882805, 'bring'),\n",
              "   (0.015863033, 'textbox'),\n",
              "   (0.013533545, 'possibility'),\n",
              "   (0.013393104, 'dominator'),\n",
              "   (0.0128337955, 'therefore'),\n",
              "   (0.012745161, 'theory'),\n",
              "   (0.012020081, 'remain'),\n",
              "   (0.01072704, 'helper'),\n",
              "   (0.010425318, 'callback'),\n",
              "   (0.010151942, 'equal'),\n",
              "   (0.010100663, 'collision'),\n",
              "   (0.010074739, 'graph'),\n",
              "   (0.009499993, 'publish'),\n",
              "   (0.009130298, 'experiment')],\n",
              "  -17.447169522320646)]"
            ]
          },
          "metadata": {},
          "execution_count": 23
        }
      ],
      "source": [
        "top_topics"
      ]
    },
    {
      "cell_type": "markdown",
      "metadata": {
        "id": "Owf-Dq_rna_V"
      },
      "source": [
        "Je filtre en ne gardant que les trois mots clés par topic ayant le plus de fréquence.\n",
        "\n",
        "Ce qui me donne 50 topics * 3 mots clés = 150 mots clés"
      ]
    },
    {
      "cell_type": "markdown",
      "source": [
        "Je crée une dataframe avec les 3 mots clés les plus fréquent par topic"
      ],
      "metadata": {
        "id": "4dfP5J0c1glD"
      }
    },
    {
      "cell_type": "code",
      "execution_count": null,
      "metadata": {
        "id": "NiZwHrRDmNIL"
      },
      "outputs": [],
      "source": [
        "list_of_keywords_01 = []\n",
        "list_of_keywords_02 = []\n",
        "list_of_keywords_03 = []\n",
        "for elm in top_topics:\n",
        "    list_of_keywords_01.append(elm[0][0][1])\n",
        "    list_of_keywords_02.append(elm[0][1][1])\n",
        "    list_of_keywords_03.append(elm[0][2][1])"
      ]
    },
    {
      "cell_type": "code",
      "source": [
        "df_results_unsupervised = pad.DataFrame(index = np.arange(1,51), columns = [\"Keyword_1\", \"Keyword_2\", \"Keyword_3\"])"
      ],
      "metadata": {
        "id": "yW7uL4Saz9kn"
      },
      "execution_count": null,
      "outputs": []
    },
    {
      "cell_type": "code",
      "source": [
        "df_results_unsupervised.index.names = ['n°_Topic']"
      ],
      "metadata": {
        "id": "i47AzTQb1GdB"
      },
      "execution_count": null,
      "outputs": []
    },
    {
      "cell_type": "code",
      "source": [
        "df_results_unsupervised[\"Keyword_1\"] = list_of_keywords_01\n",
        "df_results_unsupervised[\"Keyword_2\"] = list_of_keywords_02\n",
        "df_results_unsupervised[\"Keyword_3\"] = list_of_keywords_03"
      ],
      "metadata": {
        "id": "LVJi4bPR0QHs"
      },
      "execution_count": null,
      "outputs": []
    },
    {
      "cell_type": "code",
      "source": [
        "df_results_unsupervised"
      ],
      "metadata": {
        "colab": {
          "base_uri": "https://localhost:8080/",
          "height": 1000
        },
        "id": "_2AAhjmM02D_",
        "outputId": "e72e62c8-b96e-4672-8e2c-414239a79d9c"
      },
      "execution_count": null,
      "outputs": [
        {
          "output_type": "execute_result",
          "data": {
            "text/plain": [
              "            Keyword_1   Keyword_2      Keyword_3\n",
              "n°_Topic                                        \n",
              "1                page     problem        control\n",
              "2                 see       index           much\n",
              "3                code      string         return\n",
              "4            function     message           open\n",
              "5                name        code          query\n",
              "6                 com    question  stackoverflow\n",
              "7                code      define      interface\n",
              "8             process         bar            foo\n",
              "9         application         net            use\n",
              "10             access     develop       software\n",
              "11             create        list         custom\n",
              "12            project      visual           line\n",
              "13                end        code        private\n",
              "14             public       class           void\n",
              "15            library        many       standard\n",
              "16               tool        year            com\n",
              "17               file        path           code\n",
              "18             source       write           team\n",
              "19             server     install            run\n",
              "20               part        size         system\n",
              "21               type     element          input\n",
              "22               side      client     expression\n",
              "23              point        time         format\n",
              "24              table    database          datum\n",
              "25             button     trigger           text\n",
              "26              error         set          value\n",
              "27           compiler       debug        compile\n",
              "28               test        unit          share\n",
              "29            service         web       computer\n",
              "30             object      method      implement\n",
              "31                run        code       download\n",
              "32             thread  connection        similar\n",
              "33             number       image           load\n",
              "34               form    internet         detect\n",
              "35            support   component        product\n",
              "36              event        null         record\n",
              "37             search      column           word\n",
              "38               code     example            php\n",
              "39              style         css     background\n",
              "40             folder    function         system\n",
              "41              store     monitor      procedure\n",
              "42                key      update           find\n",
              "43             cookie      rating          entry\n",
              "44             second     session           page\n",
              "45            project     include         header\n",
              "46           response      memory           self\n",
              "47            feature  collection           hack\n",
              "48             report        item        integer\n",
              "49               text       break           root\n",
              "50            compare   converter          child"
            ],
            "text/html": [
              "\n",
              "  <div id=\"df-d508035a-9afc-455e-a6ba-55bfca2059c3\">\n",
              "    <div class=\"colab-df-container\">\n",
              "      <div>\n",
              "<style scoped>\n",
              "    .dataframe tbody tr th:only-of-type {\n",
              "        vertical-align: middle;\n",
              "    }\n",
              "\n",
              "    .dataframe tbody tr th {\n",
              "        vertical-align: top;\n",
              "    }\n",
              "\n",
              "    .dataframe thead th {\n",
              "        text-align: right;\n",
              "    }\n",
              "</style>\n",
              "<table border=\"1\" class=\"dataframe\">\n",
              "  <thead>\n",
              "    <tr style=\"text-align: right;\">\n",
              "      <th></th>\n",
              "      <th>Keyword_1</th>\n",
              "      <th>Keyword_2</th>\n",
              "      <th>Keyword_3</th>\n",
              "    </tr>\n",
              "    <tr>\n",
              "      <th>n°_Topic</th>\n",
              "      <th></th>\n",
              "      <th></th>\n",
              "      <th></th>\n",
              "    </tr>\n",
              "  </thead>\n",
              "  <tbody>\n",
              "    <tr>\n",
              "      <th>1</th>\n",
              "      <td>page</td>\n",
              "      <td>problem</td>\n",
              "      <td>control</td>\n",
              "    </tr>\n",
              "    <tr>\n",
              "      <th>2</th>\n",
              "      <td>see</td>\n",
              "      <td>index</td>\n",
              "      <td>much</td>\n",
              "    </tr>\n",
              "    <tr>\n",
              "      <th>3</th>\n",
              "      <td>code</td>\n",
              "      <td>string</td>\n",
              "      <td>return</td>\n",
              "    </tr>\n",
              "    <tr>\n",
              "      <th>4</th>\n",
              "      <td>function</td>\n",
              "      <td>message</td>\n",
              "      <td>open</td>\n",
              "    </tr>\n",
              "    <tr>\n",
              "      <th>5</th>\n",
              "      <td>name</td>\n",
              "      <td>code</td>\n",
              "      <td>query</td>\n",
              "    </tr>\n",
              "    <tr>\n",
              "      <th>6</th>\n",
              "      <td>com</td>\n",
              "      <td>question</td>\n",
              "      <td>stackoverflow</td>\n",
              "    </tr>\n",
              "    <tr>\n",
              "      <th>7</th>\n",
              "      <td>code</td>\n",
              "      <td>define</td>\n",
              "      <td>interface</td>\n",
              "    </tr>\n",
              "    <tr>\n",
              "      <th>8</th>\n",
              "      <td>process</td>\n",
              "      <td>bar</td>\n",
              "      <td>foo</td>\n",
              "    </tr>\n",
              "    <tr>\n",
              "      <th>9</th>\n",
              "      <td>application</td>\n",
              "      <td>net</td>\n",
              "      <td>use</td>\n",
              "    </tr>\n",
              "    <tr>\n",
              "      <th>10</th>\n",
              "      <td>access</td>\n",
              "      <td>develop</td>\n",
              "      <td>software</td>\n",
              "    </tr>\n",
              "    <tr>\n",
              "      <th>11</th>\n",
              "      <td>create</td>\n",
              "      <td>list</td>\n",
              "      <td>custom</td>\n",
              "    </tr>\n",
              "    <tr>\n",
              "      <th>12</th>\n",
              "      <td>project</td>\n",
              "      <td>visual</td>\n",
              "      <td>line</td>\n",
              "    </tr>\n",
              "    <tr>\n",
              "      <th>13</th>\n",
              "      <td>end</td>\n",
              "      <td>code</td>\n",
              "      <td>private</td>\n",
              "    </tr>\n",
              "    <tr>\n",
              "      <th>14</th>\n",
              "      <td>public</td>\n",
              "      <td>class</td>\n",
              "      <td>void</td>\n",
              "    </tr>\n",
              "    <tr>\n",
              "      <th>15</th>\n",
              "      <td>library</td>\n",
              "      <td>many</td>\n",
              "      <td>standard</td>\n",
              "    </tr>\n",
              "    <tr>\n",
              "      <th>16</th>\n",
              "      <td>tool</td>\n",
              "      <td>year</td>\n",
              "      <td>com</td>\n",
              "    </tr>\n",
              "    <tr>\n",
              "      <th>17</th>\n",
              "      <td>file</td>\n",
              "      <td>path</td>\n",
              "      <td>code</td>\n",
              "    </tr>\n",
              "    <tr>\n",
              "      <th>18</th>\n",
              "      <td>source</td>\n",
              "      <td>write</td>\n",
              "      <td>team</td>\n",
              "    </tr>\n",
              "    <tr>\n",
              "      <th>19</th>\n",
              "      <td>server</td>\n",
              "      <td>install</td>\n",
              "      <td>run</td>\n",
              "    </tr>\n",
              "    <tr>\n",
              "      <th>20</th>\n",
              "      <td>part</td>\n",
              "      <td>size</td>\n",
              "      <td>system</td>\n",
              "    </tr>\n",
              "    <tr>\n",
              "      <th>21</th>\n",
              "      <td>type</td>\n",
              "      <td>element</td>\n",
              "      <td>input</td>\n",
              "    </tr>\n",
              "    <tr>\n",
              "      <th>22</th>\n",
              "      <td>side</td>\n",
              "      <td>client</td>\n",
              "      <td>expression</td>\n",
              "    </tr>\n",
              "    <tr>\n",
              "      <th>23</th>\n",
              "      <td>point</td>\n",
              "      <td>time</td>\n",
              "      <td>format</td>\n",
              "    </tr>\n",
              "    <tr>\n",
              "      <th>24</th>\n",
              "      <td>table</td>\n",
              "      <td>database</td>\n",
              "      <td>datum</td>\n",
              "    </tr>\n",
              "    <tr>\n",
              "      <th>25</th>\n",
              "      <td>button</td>\n",
              "      <td>trigger</td>\n",
              "      <td>text</td>\n",
              "    </tr>\n",
              "    <tr>\n",
              "      <th>26</th>\n",
              "      <td>error</td>\n",
              "      <td>set</td>\n",
              "      <td>value</td>\n",
              "    </tr>\n",
              "    <tr>\n",
              "      <th>27</th>\n",
              "      <td>compiler</td>\n",
              "      <td>debug</td>\n",
              "      <td>compile</td>\n",
              "    </tr>\n",
              "    <tr>\n",
              "      <th>28</th>\n",
              "      <td>test</td>\n",
              "      <td>unit</td>\n",
              "      <td>share</td>\n",
              "    </tr>\n",
              "    <tr>\n",
              "      <th>29</th>\n",
              "      <td>service</td>\n",
              "      <td>web</td>\n",
              "      <td>computer</td>\n",
              "    </tr>\n",
              "    <tr>\n",
              "      <th>30</th>\n",
              "      <td>object</td>\n",
              "      <td>method</td>\n",
              "      <td>implement</td>\n",
              "    </tr>\n",
              "    <tr>\n",
              "      <th>31</th>\n",
              "      <td>run</td>\n",
              "      <td>code</td>\n",
              "      <td>download</td>\n",
              "    </tr>\n",
              "    <tr>\n",
              "      <th>32</th>\n",
              "      <td>thread</td>\n",
              "      <td>connection</td>\n",
              "      <td>similar</td>\n",
              "    </tr>\n",
              "    <tr>\n",
              "      <th>33</th>\n",
              "      <td>number</td>\n",
              "      <td>image</td>\n",
              "      <td>load</td>\n",
              "    </tr>\n",
              "    <tr>\n",
              "      <th>34</th>\n",
              "      <td>form</td>\n",
              "      <td>internet</td>\n",
              "      <td>detect</td>\n",
              "    </tr>\n",
              "    <tr>\n",
              "      <th>35</th>\n",
              "      <td>support</td>\n",
              "      <td>component</td>\n",
              "      <td>product</td>\n",
              "    </tr>\n",
              "    <tr>\n",
              "      <th>36</th>\n",
              "      <td>event</td>\n",
              "      <td>null</td>\n",
              "      <td>record</td>\n",
              "    </tr>\n",
              "    <tr>\n",
              "      <th>37</th>\n",
              "      <td>search</td>\n",
              "      <td>column</td>\n",
              "      <td>word</td>\n",
              "    </tr>\n",
              "    <tr>\n",
              "      <th>38</th>\n",
              "      <td>code</td>\n",
              "      <td>example</td>\n",
              "      <td>php</td>\n",
              "    </tr>\n",
              "    <tr>\n",
              "      <th>39</th>\n",
              "      <td>style</td>\n",
              "      <td>css</td>\n",
              "      <td>background</td>\n",
              "    </tr>\n",
              "    <tr>\n",
              "      <th>40</th>\n",
              "      <td>folder</td>\n",
              "      <td>function</td>\n",
              "      <td>system</td>\n",
              "    </tr>\n",
              "    <tr>\n",
              "      <th>41</th>\n",
              "      <td>store</td>\n",
              "      <td>monitor</td>\n",
              "      <td>procedure</td>\n",
              "    </tr>\n",
              "    <tr>\n",
              "      <th>42</th>\n",
              "      <td>key</td>\n",
              "      <td>update</td>\n",
              "      <td>find</td>\n",
              "    </tr>\n",
              "    <tr>\n",
              "      <th>43</th>\n",
              "      <td>cookie</td>\n",
              "      <td>rating</td>\n",
              "      <td>entry</td>\n",
              "    </tr>\n",
              "    <tr>\n",
              "      <th>44</th>\n",
              "      <td>second</td>\n",
              "      <td>session</td>\n",
              "      <td>page</td>\n",
              "    </tr>\n",
              "    <tr>\n",
              "      <th>45</th>\n",
              "      <td>project</td>\n",
              "      <td>include</td>\n",
              "      <td>header</td>\n",
              "    </tr>\n",
              "    <tr>\n",
              "      <th>46</th>\n",
              "      <td>response</td>\n",
              "      <td>memory</td>\n",
              "      <td>self</td>\n",
              "    </tr>\n",
              "    <tr>\n",
              "      <th>47</th>\n",
              "      <td>feature</td>\n",
              "      <td>collection</td>\n",
              "      <td>hack</td>\n",
              "    </tr>\n",
              "    <tr>\n",
              "      <th>48</th>\n",
              "      <td>report</td>\n",
              "      <td>item</td>\n",
              "      <td>integer</td>\n",
              "    </tr>\n",
              "    <tr>\n",
              "      <th>49</th>\n",
              "      <td>text</td>\n",
              "      <td>break</td>\n",
              "      <td>root</td>\n",
              "    </tr>\n",
              "    <tr>\n",
              "      <th>50</th>\n",
              "      <td>compare</td>\n",
              "      <td>converter</td>\n",
              "      <td>child</td>\n",
              "    </tr>\n",
              "  </tbody>\n",
              "</table>\n",
              "</div>\n",
              "      <button class=\"colab-df-convert\" onclick=\"convertToInteractive('df-d508035a-9afc-455e-a6ba-55bfca2059c3')\"\n",
              "              title=\"Convert this dataframe to an interactive table.\"\n",
              "              style=\"display:none;\">\n",
              "        \n",
              "  <svg xmlns=\"http://www.w3.org/2000/svg\" height=\"24px\"viewBox=\"0 0 24 24\"\n",
              "       width=\"24px\">\n",
              "    <path d=\"M0 0h24v24H0V0z\" fill=\"none\"/>\n",
              "    <path d=\"M18.56 5.44l.94 2.06.94-2.06 2.06-.94-2.06-.94-.94-2.06-.94 2.06-2.06.94zm-11 1L8.5 8.5l.94-2.06 2.06-.94-2.06-.94L8.5 2.5l-.94 2.06-2.06.94zm10 10l.94 2.06.94-2.06 2.06-.94-2.06-.94-.94-2.06-.94 2.06-2.06.94z\"/><path d=\"M17.41 7.96l-1.37-1.37c-.4-.4-.92-.59-1.43-.59-.52 0-1.04.2-1.43.59L10.3 9.45l-7.72 7.72c-.78.78-.78 2.05 0 2.83L4 21.41c.39.39.9.59 1.41.59.51 0 1.02-.2 1.41-.59l7.78-7.78 2.81-2.81c.8-.78.8-2.07 0-2.86zM5.41 20L4 18.59l7.72-7.72 1.47 1.35L5.41 20z\"/>\n",
              "  </svg>\n",
              "      </button>\n",
              "      \n",
              "  <style>\n",
              "    .colab-df-container {\n",
              "      display:flex;\n",
              "      flex-wrap:wrap;\n",
              "      gap: 12px;\n",
              "    }\n",
              "\n",
              "    .colab-df-convert {\n",
              "      background-color: #E8F0FE;\n",
              "      border: none;\n",
              "      border-radius: 50%;\n",
              "      cursor: pointer;\n",
              "      display: none;\n",
              "      fill: #1967D2;\n",
              "      height: 32px;\n",
              "      padding: 0 0 0 0;\n",
              "      width: 32px;\n",
              "    }\n",
              "\n",
              "    .colab-df-convert:hover {\n",
              "      background-color: #E2EBFA;\n",
              "      box-shadow: 0px 1px 2px rgba(60, 64, 67, 0.3), 0px 1px 3px 1px rgba(60, 64, 67, 0.15);\n",
              "      fill: #174EA6;\n",
              "    }\n",
              "\n",
              "    [theme=dark] .colab-df-convert {\n",
              "      background-color: #3B4455;\n",
              "      fill: #D2E3FC;\n",
              "    }\n",
              "\n",
              "    [theme=dark] .colab-df-convert:hover {\n",
              "      background-color: #434B5C;\n",
              "      box-shadow: 0px 1px 3px 1px rgba(0, 0, 0, 0.15);\n",
              "      filter: drop-shadow(0px 1px 2px rgba(0, 0, 0, 0.3));\n",
              "      fill: #FFFFFF;\n",
              "    }\n",
              "  </style>\n",
              "\n",
              "      <script>\n",
              "        const buttonEl =\n",
              "          document.querySelector('#df-d508035a-9afc-455e-a6ba-55bfca2059c3 button.colab-df-convert');\n",
              "        buttonEl.style.display =\n",
              "          google.colab.kernel.accessAllowed ? 'block' : 'none';\n",
              "\n",
              "        async function convertToInteractive(key) {\n",
              "          const element = document.querySelector('#df-d508035a-9afc-455e-a6ba-55bfca2059c3');\n",
              "          const dataTable =\n",
              "            await google.colab.kernel.invokeFunction('convertToInteractive',\n",
              "                                                     [key], {});\n",
              "          if (!dataTable) return;\n",
              "\n",
              "          const docLinkHtml = 'Like what you see? Visit the ' +\n",
              "            '<a target=\"_blank\" href=https://colab.research.google.com/notebooks/data_table.ipynb>data table notebook</a>'\n",
              "            + ' to learn more about interactive tables.';\n",
              "          element.innerHTML = '';\n",
              "          dataTable['output_type'] = 'display_data';\n",
              "          await google.colab.output.renderOutput(dataTable, element);\n",
              "          const docLink = document.createElement('div');\n",
              "          docLink.innerHTML = docLinkHtml;\n",
              "          element.appendChild(docLink);\n",
              "        }\n",
              "      </script>\n",
              "    </div>\n",
              "  </div>\n",
              "  "
            ]
          },
          "metadata": {},
          "execution_count": 51
        }
      ]
    },
    {
      "cell_type": "markdown",
      "source": [
        "### Prédiction des tags en fonction d'une nouvelle phrase :"
      ],
      "metadata": {
        "id": "_zDohecFzGiA"
      }
    },
    {
      "cell_type": "code",
      "source": [
        "random_data_words = random.choice(data_words)"
      ],
      "metadata": {
        "id": "H4xIhMQlz1z_"
      },
      "execution_count": 376,
      "outputs": []
    },
    {
      "cell_type": "code",
      "source": [
        "def unsupervised_model_prediction_tag(sentence):\n",
        "    new_corpus = [id2word.doc2bow(text) for text in [sentence]]\n",
        "    proba = []\n",
        "    for elm in lda_model.get_document_topics(new_corpus)[0]:\n",
        "        proba.append(elm[1])\n",
        "\n",
        "    top_topic_index = proba.index(max(proba))\n",
        "    top_topic = lda_model.get_document_topics(new_corpus)[0][top_topic_index][0]\n",
        "    print(\"Les mots clés les plus probables pour cette phrase sont : \")\n",
        "    print(df_results_unsupervised.loc[top_topic].values)"
      ],
      "metadata": {
        "id": "spAgNUHH0dfZ"
      },
      "execution_count": 383,
      "outputs": []
    },
    {
      "cell_type": "code",
      "source": [
        "unsupervised_model_prediction_tag(random_data_words)"
      ],
      "metadata": {
        "colab": {
          "base_uri": "https://localhost:8080/"
        },
        "id": "-2FD1noN0xDO",
        "outputId": "38f442d6-9e46-4346-dcef-e921838307cc"
      },
      "execution_count": 384,
      "outputs": [
        {
          "output_type": "stream",
          "name": "stdout",
          "text": [
            "Les mots clés les plus probables pour cette phrase sont : \n",
            "['feature' 'collection' 'hack']\n"
          ]
        }
      ]
    },
    {
      "cell_type": "markdown",
      "source": [
        "On remarque que même si les résultats ne sont pas incongrus ile ne sont pas très bon, un modèle supervisé devrait faire mieux"
      ],
      "metadata": {
        "id": "Y0-Z0TN32i6E"
      }
    },
    {
      "cell_type": "markdown",
      "metadata": {
        "id": "SohRRoeY18NZ"
      },
      "source": [
        "# Modèle supervisé"
      ]
    },
    {
      "cell_type": "markdown",
      "source": [
        "## Préparation des données"
      ],
      "metadata": {
        "id": "JhFpASo322Dp"
      }
    },
    {
      "cell_type": "code",
      "execution_count": null,
      "metadata": {
        "id": "0vHki7wBd24K"
      },
      "outputs": [],
      "source": [
        "df_Title_Body = df.sample(n=10000, random_state=7)"
      ]
    },
    {
      "cell_type": "code",
      "execution_count": null,
      "metadata": {
        "id": "xMcNnfJn2oxJ"
      },
      "outputs": [],
      "source": [
        "#df_Title_Body = df"
      ]
    },
    {
      "cell_type": "code",
      "execution_count": null,
      "metadata": {
        "id": "qCMbY3Yz2fSL"
      },
      "outputs": [],
      "source": [
        "df_Title_Body[\"Title_and_Body_Clean\"] = df_Title_Body[\"Title_Clean\"] + df_Title_Body[\"Body_Clean\"]"
      ]
    },
    {
      "cell_type": "markdown",
      "metadata": {
        "id": "DcQ4_zneGsIy"
      },
      "source": [
        "Préparation du dataset \"Tags\""
      ]
    },
    {
      "cell_type": "code",
      "execution_count": null,
      "metadata": {
        "colab": {
          "base_uri": "https://localhost:8080/"
        },
        "id": "t_Et2Zb-GvDV",
        "outputId": "db517330-c932-46d2-d086-41ab17313b88"
      },
      "outputs": [
        {
          "output_type": "stream",
          "name": "stdout",
          "text": [
            "Nombre de tags: 4286\n"
          ]
        }
      ],
      "source": [
        "all_tags = {}\n",
        "for index, row in df_Title_Body['Tags_Clean'].iteritems():\n",
        "    for tag in row.split():\n",
        "        all_tags[tag] = all_tags.get(tag, 0) + 1\n",
        "        \n",
        "print(\"Nombre de tags:\", len(all_tags))"
      ]
    },
    {
      "cell_type": "code",
      "execution_count": null,
      "metadata": {
        "id": "pxDpQP3uIkSv"
      },
      "outputs": [],
      "source": [
        "# Je les mets par fréquence d'apparitin\n",
        "tags_sorted = sorted(all_tags.items(), key=lambda x: x[1], reverse=True)"
      ]
    },
    {
      "cell_type": "code",
      "execution_count": null,
      "metadata": {
        "colab": {
          "base_uri": "https://localhost:8080/"
        },
        "id": "DKZzjp-lIucj",
        "outputId": "931d3b2f-6c12-4fe5-815a-fbd5ca178bd8"
      },
      "outputs": [
        {
          "output_type": "execute_result",
          "data": {
            "text/plain": [
              "[('c#', 1264),\n",
              " ('.net', 1033),\n",
              " ('java', 756),\n",
              " ('asp.net', 670),\n",
              " ('c++', 583),\n",
              " ('javascript', 467),\n",
              " ('sql-server', 386),\n",
              " ('php', 376),\n",
              " ('sql', 352),\n",
              " ('python', 329),\n",
              " ('windows', 282),\n",
              " ('visual-studio', 249),\n",
              " ('html', 248),\n",
              " ('c', 220),\n",
              " ('database', 199),\n",
              " ('mysql', 180),\n",
              " ('css', 169),\n",
              " ('ruby', 166),\n",
              " ('winforms', 164),\n",
              " ('vb.net', 163),\n",
              " ('jquery', 159),\n",
              " ('asp.net-mvc', 158),\n",
              " ('xml', 157),\n",
              " ('linux', 149),\n",
              " ('performance', 146),\n",
              " ('wpf', 144),\n",
              " ('svn', 139),\n",
              " ('visual-studio-2008', 136),\n",
              " ('ruby-on-rails', 136),\n",
              " ('web-services', 124),\n",
              " ('language-agnostic', 123),\n",
              " ('unit-testing', 119),\n",
              " ('multithreading', 110),\n",
              " ('winapi', 110),\n",
              " ('regex', 110),\n",
              " ('user-interface', 106),\n",
              " ('algorithm', 104),\n",
              " ('ajax', 103),\n",
              " ('oop', 100),\n",
              " ('linq', 100),\n",
              " ('sql-server-2005', 100),\n",
              " ('perl', 98),\n",
              " ('security', 98),\n",
              " ('oracle', 97),\n",
              " ('version-control', 96),\n",
              " ('string', 95),\n",
              " ('flash', 92),\n",
              " ('iphone', 92),\n",
              " ('debugging', 90),\n",
              " ('delphi', 89),\n",
              " ('sharepoint', 85),\n",
              " ('excel', 84),\n",
              " ('apache-flex', 82),\n",
              " ('wcf', 81),\n",
              " ('linq-to-sql', 80),\n",
              " ('macos', 75),\n",
              " ('iis', 75),\n",
              " ('arrays', 72),\n",
              " ('tsql', 66),\n",
              " ('testing', 65),\n",
              " ('apache', 64),\n",
              " ('.net-2.0', 63),\n",
              " ('file', 63),\n",
              " ('exception', 62),\n",
              " ('eclipse', 61),\n",
              " ('networking', 61),\n",
              " ('.net-3.5', 60),\n",
              " ('vba', 57),\n",
              " ('http', 57),\n",
              " ('actionscript-3', 56),\n",
              " ('django', 54),\n",
              " ('stored-procedures', 54),\n",
              " ('deployment', 54),\n",
              " ('internet-explorer', 53),\n",
              " ('optimization', 53),\n",
              " ('email', 53),\n",
              " ('firefox', 52),\n",
              " ('database-design', 52),\n",
              " ('web-applications', 52),\n",
              " ('objective-c', 52),\n",
              " ('events', 51),\n",
              " ('silverlight', 51),\n",
              " ('image', 50),\n",
              " ('parsing', 50),\n",
              " ('installation', 50),\n",
              " ('generics', 49),\n",
              " ('browser', 49),\n",
              " ('ide', 48),\n",
              " ('asp-classic', 48),\n",
              " ('design-patterns', 47),\n",
              " ('datetime', 47),\n",
              " ('ms-access', 47),\n",
              " ('math', 46),\n",
              " ('command-line', 46),\n",
              " ('visual-studio-2005', 45),\n",
              " ('validation', 45),\n",
              " ('caching', 45),\n",
              " ('architecture', 45),\n",
              " ('scripting', 45),\n",
              " ('emacs', 44),\n",
              " ('cocoa-touch', 44),\n",
              " ('bash', 43),\n",
              " ('coding-style', 43),\n",
              " ('unix', 43),\n",
              " ('com', 43),\n",
              " ('logging', 42),\n",
              " ('mfc', 42),\n",
              " ('configuration', 42),\n",
              " ('cocoa', 41),\n",
              " ('swing', 41),\n",
              " ('data-binding', 40),\n",
              " ('shell', 40),\n",
              " ('date', 39),\n",
              " ('data-structures', 39),\n",
              " ('url', 39),\n",
              " ('serialization', 38),\n",
              " ('reflection', 38),\n",
              " ('git', 38),\n",
              " ('jsp', 38),\n",
              " ('hibernate', 38),\n",
              " ('compiler-construction', 37),\n",
              " ('visual-c++', 37),\n",
              " ('forms', 37),\n",
              " ('vim', 37),\n",
              " ('memory', 37),\n",
              " ('nhibernate', 37),\n",
              " ('windows-vista', 37),\n",
              " ('dll', 36),\n",
              " ('authentication', 35),\n",
              " ('graphics', 35),\n",
              " ('tfs', 35),\n",
              " ('jakarta-ee', 35),\n",
              " ('xslt', 34),\n",
              " ('json', 34),\n",
              " ('tdd', 34),\n",
              " ('vb6', 33),\n",
              " ('user-controls', 33),\n",
              " ('actionscript', 33),\n",
              " ('controls', 33),\n",
              " ('functional-programming', 32),\n",
              " ('file-io', 32),\n",
              " ('batch-file', 32),\n",
              " ('search', 32),\n",
              " ('refactoring', 32),\n",
              " ('rest', 32),\n",
              " ('asp.net-ajax', 32),\n",
              " ('open-source', 31),\n",
              " ('reporting-services', 31),\n",
              " ('spring', 30),\n",
              " ('api', 30),\n",
              " ('msbuild', 29),\n",
              " ('ssl', 29),\n",
              " ('inheritance', 29),\n",
              " ('moss', 29),\n",
              " ('ado.net', 29),\n",
              " ('audio', 29),\n",
              " ('project-management', 29),\n",
              " ('stl', 29),\n",
              " ('model-view-controller', 28),\n",
              " ('unicode', 28),\n",
              " ('vbscript', 28),\n",
              " ('concurrency', 28),\n",
              " ('orm', 28),\n",
              " ('iis-6', 28),\n",
              " ('templates', 28),\n",
              " ('postgresql', 27),\n",
              " ('pdf', 27),\n",
              " ('gridview', 27),\n",
              " ('xhtml', 27),\n",
              " ('windows-xp', 27),\n",
              " ('memory-management', 27),\n",
              " ('dom', 26),\n",
              " ('tomcat', 26),\n",
              " ('build-process', 26),\n",
              " ('embedded', 26),\n",
              " ('ftp', 26),\n",
              " ('syntax', 26),\n",
              " ('powershell', 26),\n",
              " ('windows-installer', 26),\n",
              " ('filesystems', 26),\n",
              " ('plugins', 25),\n",
              " ('entity-framework', 25),\n",
              " ('transactions', 25),\n",
              " ('encryption', 25),\n",
              " ('merge', 25),\n",
              " ('gcc', 25),\n",
              " ('soap', 25),\n",
              " ('xsd', 25),\n",
              " ('collections', 24),\n",
              " ('qt', 24),\n",
              " ('opengl', 24),\n",
              " ('continuous-integration', 24),\n",
              " ('ant', 24),\n",
              " ('lisp', 23),\n",
              " ('sockets', 23),\n",
              " ('utf-8', 23),\n",
              " ('sorting', 23),\n",
              " ('permissions', 23),\n",
              " ('class', 23),\n",
              " ('64-bit', 23),\n",
              " ('datagridview', 23),\n",
              " ('interface', 23),\n",
              " ('ms-word', 23),\n",
              " ('list', 23),\n",
              " ('localization', 22),\n",
              " ('passwords', 22),\n",
              " ('formatting', 22),\n",
              " ('printing', 22),\n",
              " ('tortoisesvn', 22),\n",
              " ('frameworks', 22),\n",
              " ('internationalization', 22),\n",
              " ('enums', 22),\n",
              " ('migration', 22),\n",
              " ('process', 22),\n",
              " ('outlook', 22),\n",
              " ('active-directory', 21),\n",
              " ('listview', 21),\n",
              " ('sql-server-2000', 21),\n",
              " ('automated-tests', 21),\n",
              " ('cvs', 21),\n",
              " ('jsf', 21),\n",
              " ('interop', 21),\n",
              " ('proxy', 21),\n",
              " ('build-automation', 21),\n",
              " ('csv', 21),\n",
              " ('types', 21),\n",
              " ('indexing', 21),\n",
              " ('sqlite', 20),\n",
              " ('encoding', 20),\n",
              " ('windows-services', 20),\n",
              " ('session', 20),\n",
              " ('xaml', 20),\n",
              " ('jvm', 20),\n",
              " ('http-headers', 20),\n",
              " ('error-handling', 20),\n",
              " ('webforms', 20),\n",
              " ('resharper', 19),\n",
              " ('windows-mobile', 19),\n",
              " ('diff', 19),\n",
              " ('assembly', 19),\n",
              " ('hash', 19),\n",
              " ('windows-server-2003', 19),\n",
              " ('jdbc', 18),\n",
              " ('memory-leaks', 18),\n",
              " ('mocking', 18),\n",
              " ('time', 18),\n",
              " ('solaris', 18),\n",
              " ('hardware', 18),\n",
              " ('cross-platform', 18),\n",
              " ('editor', 18),\n",
              " ('reference', 18),\n",
              " ('iis-7', 18),\n",
              " ('pointers', 18),\n",
              " ('cross-browser', 18),\n",
              " ('servlets', 18),\n",
              " ('lambda', 18),\n",
              " ('maven-2', 18),\n",
              " ('monitoring', 17),\n",
              " ('webserver', 17),\n",
              " ('text', 17),\n",
              " ('resources', 17),\n",
              " ('programming-languages', 17),\n",
              " ('smtp', 17),\n",
              " ('synchronization', 17),\n",
              " ('asp.net-2.0', 17),\n",
              " ('activerecord', 17),\n",
              " ('c-preprocessor', 17),\n",
              " ('dataset', 17),\n",
              " ('compact-framework', 16),\n",
              " ('groovy', 16),\n",
              " ('recursion', 16),\n",
              " ('tcp', 16),\n",
              " ('naming-conventions', 16),\n",
              " ('comparison', 16),\n",
              " ('netbeans', 16),\n",
              " ('post', 16),\n",
              " ('master-pages', 16),\n",
              " ('automation', 16),\n",
              " ('activex', 16),\n",
              " ('silverlight-2.0', 16),\n",
              " ('fonts', 16),\n",
              " ('colors', 16),\n",
              " ('function', 16),\n",
              " ('console', 16),\n",
              " ('crystal-reports', 16),\n",
              " ('schema', 16),\n",
              " ('assemblies', 16),\n",
              " ('layout', 16),\n",
              " ('junit', 16),\n",
              " ('agile', 16),\n",
              " ('join', 16),\n",
              " ('mobile', 16),\n",
              " ('internet-explorer-6', 15),\n",
              " ('websphere', 15),\n",
              " ('terminology', 15),\n",
              " ('keyboard-shortcuts', 15),\n",
              " ('backup', 15),\n",
              " ('ssis', 15),\n",
              " ('cygwin', 15),\n",
              " ('3d', 15),\n",
              " ('https', 15),\n",
              " ('delegates', 15),\n",
              " ('io', 15),\n",
              " ('redirect', 15),\n",
              " ('jpa', 15),\n",
              " ('macros', 15),\n",
              " ('inversion-of-control', 15),\n",
              " ('mono', 15),\n",
              " ('garbage-collection', 15),\n",
              " ('statistics', 15),\n",
              " ('directx', 15),\n",
              " ('sql-server-2008', 15),\n",
              " ('rss', 14),\n",
              " ('variables', 14),\n",
              " ('video', 14),\n",
              " ('namespaces', 14),\n",
              " ('xpath', 14),\n",
              " ('service', 14),\n",
              " ('asynchronous', 14),\n",
              " ('msmq', 14),\n",
              " ('coldfusion', 14),\n",
              " ('nunit', 14),\n",
              " ('header', 14),\n",
              " ('clr', 14),\n",
              " ('iframe', 14),\n",
              " ('full-text-search', 14),\n",
              " ('build', 14),\n",
              " ('f#', 14),\n",
              " ('cruisecontrol.net', 14),\n",
              " ('random', 14),\n",
              " ('nant', 14),\n",
              " ('documentation', 13),\n",
              " ('path', 13),\n",
              " ('applet', 13),\n",
              " ('parameters', 13),\n",
              " ('mod-rewrite', 13),\n",
              " ('constants', 13),\n",
              " ('triggers', 13),\n",
              " ('registry', 13),\n",
              " ('java-me', 13),\n",
              " ('tags', 13),\n",
              " ('operating-system', 13),\n",
              " ('static', 13),\n",
              " ('castle-windsor', 13),\n",
              " ('zend-framework', 13),\n",
              " ('boost', 13),\n",
              " ('datatable', 13),\n",
              " ('binary', 13),\n",
              " ('ms-office', 13),\n",
              " ('lucene', 13),\n",
              " ('jboss', 13),\n",
              " ('safari', 13),\n",
              " ('input', 13),\n",
              " ('dns', 13),\n",
              " ('odbc', 13),\n",
              " ('grails', 13),\n",
              " ('dependencies', 12),\n",
              " ('versioning', 12),\n",
              " ('locking', 12),\n",
              " ('virtualization', 12),\n",
              " ('jar', 12),\n",
              " ('constructor', 12),\n",
              " ('profiling', 12),\n",
              " ('settings', 12),\n",
              " ('exception-handling', 12),\n",
              " ('casting', 12),\n",
              " ('directory', 12),\n",
              " ('soa', 12),\n",
              " ('dependency-injection', 12),\n",
              " ('vmware', 12),\n",
              " ('development-environment', 12),\n",
              " ('common-lisp', 12),\n",
              " ('code-analysis', 12),\n",
              " ('image-processing', 12),\n",
              " ('loops', 12),\n",
              " ('ssms', 12),\n",
              " ('dynamic', 12),\n",
              " ('geometry', 12),\n",
              " ('wix', 12),\n",
              " ('xcode', 12),\n",
              " ('matlab', 11),\n",
              " ('reporting', 11),\n",
              " ('openid', 11),\n",
              " ('attributes', 11),\n",
              " ('ubuntu', 11),\n",
              " ('eclipse-plugin', 11),\n",
              " ('haskell', 11),\n",
              " ('timezone', 11),\n",
              " ('treeview', 11),\n",
              " ('timeout', 11),\n",
              " ('branch', 11),\n",
              " ('gdb', 11),\n",
              " ('c#-3.0', 11),\n",
              " ('direct3d', 11),\n",
              " ('air', 11),\n",
              " ('scheme', 11),\n",
              " ('crash', 11),\n",
              " ('standards', 11),\n",
              " ('remoting', 11),\n",
              " ('scalability', 11),\n",
              " ('puzzle', 11),\n",
              " ('integration-testing', 11),\n",
              " ('updatepanel', 11),\n",
              " ('data-access-layer', 11),\n",
              " ('wsdl', 11),\n",
              " ('cookies', 11),\n",
              " ('scope', 11),\n",
              " ('persistence', 11),\n",
              " ('iterator', 11),\n",
              " ('ios', 11),\n",
              " ('exchange-server', 11),\n",
              " ('ldap', 11),\n",
              " ('file-upload', 11),\n",
              " ('nlp', 11),\n",
              " ('google-app-engine', 11),\n",
              " ('viewstate', 11),\n",
              " ('sharepoint-2007', 11),\n",
              " ('linker', 11),\n",
              " ('lua', 11),\n",
              " ('web-config', 11),\n",
              " ('character-encoding', 11),\n",
              " ('jython', 10),\n",
              " ('windows-server-2008', 10),\n",
              " ('class-design', 10),\n",
              " ('kernel', 10),\n",
              " ('seo', 10),\n",
              " ('xna', 10),\n",
              " ('module', 10),\n",
              " ('db2', 10),\n",
              " ('struts', 10),\n",
              " ('subsonic', 10),\n",
              " ('x86', 10),\n",
              " ('mercurial', 10),\n",
              " ('drag-and-drop', 10),\n",
              " ('compression', 10),\n",
              " ('code-coverage', 10),\n",
              " ('clickonce', 10),\n",
              " ('event-handling', 10),\n",
              " ('visual-sourcesafe', 10),\n",
              " ('scroll', 10),\n",
              " ('usability', 10),\n",
              " ('escaping', 10),\n",
              " ('initialization', 10),\n",
              " ('windows-ce', 10),\n",
              " ('erlang', 10),\n",
              " ('properties', 10),\n",
              " ('keyboard', 10),\n",
              " ('html-select', 10),\n",
              " ('gdi+', 10),\n",
              " ('sysadmin', 10),\n",
              " ('google-maps', 10),\n",
              " ('c++-cli', 9),\n",
              " ('datagrid', 9),\n",
              " ('postback', 9),\n",
              " ('licensing', 9),\n",
              " ('diagram', 9),\n",
              " ('vxworks', 9),\n",
              " ('bug-tracking', 9),\n",
              " ('cmd', 9),\n",
              " ('select', 9),\n",
              " ('compilation', 9),\n",
              " ('guid', 9),\n",
              " ('components', 9),\n",
              " ('button', 9),\n",
              " ('java-native-interface', 9),\n",
              " ('installshield', 9),\n",
              " ('modeling', 9),\n",
              " ('runtime', 9),\n",
              " ('methods', 9),\n",
              " ('customization', 9),\n",
              " ('comments', 9),\n",
              " ('sql-injection', 9),\n",
              " ('hyperlink', 9),\n",
              " ('include', 9),\n",
              " ('lucene.net', 9),\n",
              " ('certificate', 9),\n",
              " ('vsto', 9),\n",
              " ('null', 9),\n",
              " ('globalization', 9),\n",
              " ('focus', 9),\n",
              " ('obfuscation', 9),\n",
              " ('mouse', 9),\n",
              " ('export', 9),\n",
              " ('content-management-system', 9),\n",
              " ('webkit', 9),\n",
              " ('jms', 9),\n",
              " ('translation', 9),\n",
              " ('scrum', 9),\n",
              " ('operators', 9),\n",
              " ('wxwidgets', 9),\n",
              " ('drop-down-menu', 9),\n",
              " ('.htaccess', 9),\n",
              " ('report', 9),\n",
              " ('currency', 9),\n",
              " ('makefile', 9),\n",
              " ('dictionary', 9),\n",
              " ('delphi-2009', 9),\n",
              " ('idioms', 8),\n",
              " ('image-manipulation', 8),\n",
              " ('visual-c++-6', 8),\n",
              " ('stream', 8),\n",
              " ('floating-point', 8),\n",
              " ('vi', 8),\n",
              " ('textbox', 8),\n",
              " ('aop', 8),\n",
              " ('menu', 8),\n",
              " ('rdf', 8),\n",
              " ('legacy', 8),\n",
              " ('oracle10g', 8),\n",
              " ('plsql', 8),\n",
              " ('monitor', 8),\n",
              " ('printf', 8),\n",
              " ('foreign-keys', 8),\n",
              " ('dos', 8),\n",
              " ('css-selectors', 8),\n",
              " ('administration', 8),\n",
              " ('workflow-foundation', 8),\n",
              " ('udp', 8),\n",
              " ('repeater', 8),\n",
              " ('rdbms', 8),\n",
              " ('hosting', 8),\n",
              " ('extension-methods', 8),\n",
              " ('listbox', 8),\n",
              " ('wiki', 8),\n",
              " ('closures', 8),\n",
              " ('selenium', 8),\n",
              " ('binding', 8),\n",
              " ('compare', 8),\n",
              " ('charts', 8),\n",
              " ('pdf-generation', 8),\n",
              " ('graph', 8),\n",
              " ('object', 8),\n",
              " ('url-rewriting', 8),\n",
              " ('expression', 8),\n",
              " ('content-type', 8),\n",
              " ('window', 8),\n",
              " ('upload', 8),\n",
              " ('xml-serialization', 8),\n",
              " ('metrics', 8),\n",
              " ('network-programming', 8),\n",
              " ('popup', 8),\n",
              " ('gwt', 8),\n",
              " ('replace', 8),\n",
              " ('project-planning', 8),\n",
              " ('thread-safety', 8),\n",
              " ('linq-to-xml', 8),\n",
              " ('svg', 8),\n",
              " ('format', 8),\n",
              " ('code-generation', 8),\n",
              " ('copy', 8),\n",
              " ('cakephp', 8),\n",
              " ('xss', 8),\n",
              " ('messaging', 8),\n",
              " ('replication', 8),\n",
              " ('cryptography', 8),\n",
              " ('numbers', 8),\n",
              " ('openssl', 8),\n",
              " ('metaprogramming', 8),\n",
              " ('dialog', 8),\n",
              " ('integer', 8),\n",
              " ('phpunit', 8),\n",
              " ('drupal', 8),\n",
              " ('icons', 7),\n",
              " ('visio', 7),\n",
              " ('ip', 7),\n",
              " ('cgi', 7),\n",
              " ('insert', 7),\n",
              " ('command', 7),\n",
              " ('django-models', 7),\n",
              " ('authorization', 7),\n",
              " ('wss', 7),\n",
              " ('struct', 7),\n",
              " ('actionscript-2', 7),\n",
              " ('linq-to-entities', 7),\n",
              " ('ironpython', 7),\n",
              " ('set', 7),\n",
              " ('2d', 7),\n",
              " ('workflow', 7),\n",
              " ('javabeans', 7),\n",
              " ('ascii', 7),\n",
              " ('resize', 7),\n",
              " ('animation', 7),\n",
              " ('codeigniter', 7),\n",
              " ('unmanaged', 7),\n",
              " ('log4net', 7),\n",
              " ('yui', 7),\n",
              " ('singleton', 7),\n",
              " ('theory', 7),\n",
              " ('calendar', 7),\n",
              " ('queue', 7),\n",
              " ('pthreads', 7),\n",
              " ('database-connection', 7),\n",
              " ('boolean', 7),\n",
              " ('elisp', 7),\n",
              " ('character', 7),\n",
              " ('dojo', 7),\n",
              " ('version', 7),\n",
              " ('asp.net-membership', 7),\n",
              " ('uml', 7),\n",
              " ('big-o', 7),\n",
              " ('ibm-midrange', 7),\n",
              " ('x11', 7),\n",
              " ('parallel-processing', 7),\n",
              " ('maintenance', 7),\n",
              " ('lotus-notes', 7),\n",
              " ('release', 7),\n",
              " ('hook', 7),\n",
              " ('html-table', 7),\n",
              " ('opengl-es', 7),\n",
              " ('benchmarking', 7),\n",
              " ('xml-rpc', 7),\n",
              " ('annotations', 7),\n",
              " ('fastcgi', 6),\n",
              " ('routing', 6),\n",
              " ('ip-address', 6),\n",
              " ('environment-variables', 6),\n",
              " ('computer-science', 6),\n",
              " ('text-files', 6),\n",
              " ('encapsulation', 6),\n",
              " ('dispose', 6),\n",
              " ('atl', 6),\n",
              " ('vmware-server', 6),\n",
              " ('enterprise-library', 6),\n",
              " ('semantic-web', 6),\n",
              " ('screen-scraping', 6),\n",
              " ('embed', 6),\n",
              " ('sybase', 6),\n",
              " ('sed', 6),\n",
              " ('autocomplete', 6),\n",
              " ('file-permissions', 6),\n",
              " ('switch-statement', 6),\n",
              " ('serial-port', 6),\n",
              " ('dts', 6),\n",
              " ('memcached', 6),\n",
              " ('multicore', 6),\n",
              " ('code-reuse', 6),\n",
              " ('xmlhttprequest', 6),\n",
              " ('grep', 6),\n",
              " ('ntfs', 6),\n",
              " ('add-in', 6),\n",
              " ('gac', 6),\n",
              " ('cpu', 6),\n",
              " ('tree', 6),\n",
              " ('web', 6),\n",
              " ('internet-explorer-7', 6),\n",
              " ('perforce', 6),\n",
              " ('desktop', 6),\n",
              " ('ssh', 6),\n",
              " ('hex', 6),\n",
              " ('download', 6),\n",
              " ('pivot', 6),\n",
              " ('mutex', 6),\n",
              " ('intellisense', 6),\n",
              " ('reverse-proxy', 6),\n",
              " ('communication', 6),\n",
              " ('styles', 6),\n",
              " ('pdo', 6),\n",
              " ('amazon-web-services', 6),\n",
              " ('capistrano', 6),\n",
              " ('static-analysis', 6),\n",
              " ('multiple-monitors', 6),\n",
              " ('message-queue', 6),\n",
              " ('ejb', 6),\n",
              " ('eclipse-3.4', 6),\n",
              " ('pdb-files', 6),\n",
              " ('prototypejs', 6),\n",
              " ('posix', 6),\n",
              " ('iostream', 6),\n",
              " ('scaling', 6),\n",
              " ('gmail', 6),\n",
              " ('glossary', 6),\n",
              " ('breakpoints', 6),\n",
              " ('linq-to-objects', 6),\n",
              " ('stack-trace', 6),\n",
              " ('upgrade', 6),\n",
              " ('linked-list', 6),\n",
              " ('ipc', 6),\n",
              " ('designer', 6),\n",
              " ('constraints', 6),\n",
              " ('abstract-class', 6),\n",
              " ('text-editor', 6),\n",
              " ('gdi', 6),\n",
              " ('configuration-files', 6),\n",
              " ('named-pipes', 6),\n",
              " ('textarea', 6),\n",
              " ('naming', 6),\n",
              " ('dsl', 6),\n",
              " ('enumeration', 6),\n",
              " ('vector', 6),\n",
              " ('event-log', 6),\n",
              " ('distributed', 6),\n",
              " ('tkinter', 6),\n",
              " ('google-chrome', 6),\n",
              " ('mapping', 6),\n",
              " ('integration', 6),\n",
              " ('loading', 6),\n",
              " ('graph-theory', 6),\n",
              " ('ajaxcontroltoolkit', 6),\n",
              " ('ocaml', 6),\n",
              " ('firebug', 6),\n",
              " ('blackberry', 6),\n",
              " ('callback', 6),\n",
              " ('methodology', 6),\n",
              " ('readability', 6),\n",
              " ('wmi', 6),\n",
              " ('credentials', 5),\n",
              " ('android', 5),\n",
              " ('paging', 5),\n",
              " ('operator-overloading', 5),\n",
              " ('contextmenu', 5),\n",
              " ('syntax-highlighting', 5),\n",
              " ('lamp', 5),\n",
              " ('usb', 5),\n",
              " ('hashtable', 5),\n",
              " ('weblogic', 5),\n",
              " ('c#-2.0', 5),\n",
              " ('physics', 5),\n",
              " ('javafx', 5),\n",
              " ('login', 5),\n",
              " ('msdn', 5),\n",
              " ('sqlclr', 5),\n",
              " ('identity', 5),\n",
              " ('apache2', 5),\n",
              " ('combobox', 5),\n",
              " ('intellij-idea', 5),\n",
              " ('domain-driven-design', 5),\n",
              " ('screen', 5),\n",
              " ('web-parts', 5),\n",
              " ('rotation', 5),\n",
              " ('literals', 5),\n",
              " ('language-features', 5),\n",
              " ('if-statement', 5),\n",
              " ('expression-blend', 5),\n",
              " ('interpreter', 5),\n",
              " ('xul', 5),\n",
              " ('visual-studio-2003', 5),\n",
              " ('sql-order-by', 5),\n",
              " ('uitableview', 5),\n",
              " ('primitive', 5),\n",
              " ('ado', 5),\n",
              " ('rounding', 5),\n",
              " ('system', 5),\n",
              " ('rhino-mocks', 5),\n",
              " ('count', 5),\n",
              " ('patch', 5),\n",
              " ('geolocation', 5),\n",
              " ('localhost', 5),\n",
              " ('relational', 5),\n",
              " ('entity-relationship', 5),\n",
              " ('filtering', 5),\n",
              " ('native', 5),\n",
              " ('quicktime', 5),\n",
              " ('awt', 5),\n",
              " ('primary-key', 5),\n",
              " ('x509', 5),\n",
              " ('tar', 5),\n",
              " ('teamcity', 5),\n",
              " ('speech-recognition', 5),\n",
              " ('debian', 5),\n",
              " ('query-string', 5),\n",
              " ('snmp', 5),\n",
              " ('mongrel', 5),\n",
              " ('wicket', 5),\n",
              " ('search-engine', 5),\n",
              " ('hql', 5),\n",
              " ('timing', 5),\n",
              " ('cruisecontrol', 5),\n",
              " ('specifications', 5),\n",
              " ('code-snippets', 5),\n",
              " ('clipboard', 5),\n",
              " ('estimation', 5),\n",
              " ('openxml', 5),\n",
              " ('save', 5),\n",
              " ('complexity-theory', 5),\n",
              " ('openoffice.org', 5),\n",
              " ('view', 5),\n",
              " ('pseudocode', 5),\n",
              " ('smart-pointers', 5),\n",
              " ('terminal', 5),\n",
              " ('client-server', 5),\n",
              " ('biztalk', 5),\n",
              " ('bit-manipulation', 5),\n",
              " ('multicast', 5),\n",
              " ('grid', 5),\n",
              " ('wxpython', 5),\n",
              " ('http-status-code-404', 5),\n",
              " ('model', 5),\n",
              " ('infopath', 5),\n",
              " ('gnu', 5),\n",
              " ('map', 5),\n",
              " ('custom-server-controls', 5),\n",
              " ('requirements', 5),\n",
              " ('repository', 5),\n",
              " ('dhtml', 5),\n",
              " ('cil', 5),\n",
              " ('mxml', 5),\n",
              " ('dvcs', 5),\n",
              " ('nullable', 5),\n",
              " ('friendly-url', 5),\n",
              " ('filenames', 5),\n",
              " ('multilingual', 5),\n",
              " ('lighttpd', 5),\n",
              " ('watin', 5),\n",
              " ('command-line-interface', 5),\n",
              " ('amazon-ec2', 5),\n",
              " ('pop3', 5),\n",
              " ('delphi-7', 5),\n",
              " ('dotnetnuke', 5),\n",
              " ('load', 5),\n",
              " ('markdown', 5),\n",
              " ('facebook', 5),\n",
              " ('locale', 5),\n",
              " ('jsp-tags', 5),\n",
              " ('jndi', 5),\n",
              " ('indentation', 5),\n",
              " ('com-interop', 5),\n",
              " ('web-crawler', 5),\n",
              " ('reportviewer', 5),\n",
              " ('scala', 5),\n",
              " ('blob', 5),\n",
              " ('warnings', 5),\n",
              " ('modal-dialog', 5),\n",
              " ('sql-server-ce', 5),\n",
              " ('expression-trees', 5),\n",
              " ('heap-memory', 5),\n",
              " ('gtk', 5),\n",
              " ('checkbox', 5),\n",
              " ('stack', 5),\n",
              " ('controller', 5),\n",
              " ('grammar', 5),\n",
              " ('wordpress', 5),\n",
              " ('pinvoke', 5),\n",
              " ('views', 5),\n",
              " ('rdlc', 5),\n",
              " ('py2exe', 5),\n",
              " ('sitemap', 5),\n",
              " ('concatenation', 5),\n",
              " ('styling', 5),\n",
              " ('adam', 4),\n",
              " ('png', 4),\n",
              " ('symbols', 4),\n",
              " ('background', 4),\n",
              " ('taskbar', 4),\n",
              " ('using', 4),\n",
              " ('hover', 4),\n",
              " ('scheduling', 4),\n",
              " ('firefox-addon', 4),\n",
              " ('icalendar', 4),\n",
              " ('normalization', 4),\n",
              " ('accessibility', 4),\n",
              " ('foreach', 4),\n",
              " ('jax-ws', 4),\n",
              " ('managed-c++', 4),\n",
              " ('fluent-nhibernate', 4),\n",
              " ('relative-path', 4),\n",
              " ('instantiation', 4),\n",
              " ('split', 4),\n",
              " ('wizard', 4),\n",
              " ('cron', 4),\n",
              " ('bitmap', 4),\n",
              " ('gps', 4),\n",
              " ('client', 4),\n",
              " ('principles', 4),\n",
              " ('buffer', 4),\n",
              " ('themes', 4),\n",
              " ('forms-authentication', 4),\n",
              " ('gecko', 4),\n",
              " ('connection-string', 4),\n",
              " ('flv', 4),\n",
              " ('esb', 4),\n",
              " ('aes', 4),\n",
              " ('bdd', 4),\n",
              " ('qa', 4),\n",
              " ('decorator', 4),\n",
              " ('malloc', 4),\n",
              " ('pipe', 4),\n",
              " ('virtual-pc', 4),\n",
              " ('artificial-intelligence', 4),\n",
              " ('rpc', 4),\n",
              " ('enterprise', 4),\n",
              " ('aggregate', 4),\n",
              " ('size', 4),\n",
              " ('rake', 4),\n",
              " ('hp-ux', 4),\n",
              " ('stdstring', 4),\n",
              " ('entities', 4),\n",
              " ('daemon', 4),\n",
              " ('file-format', 4),\n",
              " ('real-time', 4),\n",
              " ('publish', 4),\n",
              " ('string-formatting', 4),\n",
              " ('.net-1.1', 4),\n",
              " ('jaxb', 4),\n",
              " ('try-catch', 4),\n",
              " ('httphandler', 4),\n",
              " ('connection', 4),\n",
              " ('user-defined-functions', 4),\n",
              " ('import', 4),\n",
              " ('java-web-start', 4),\n",
              " ('blogs', 4),\n",
              " ('mshtml', 4),\n",
              " ('gem', 4),\n",
              " ('outputcache', 4),\n",
              " ('projects-and-solutions', 4),\n",
              " ('wcf-binding', 4),\n",
              " ('redistributable', 4),\n",
              " ('rspec', 4),\n",
              " ('packaging', 4),\n",
              " ('mime-types', 4),\n",
              " ('email-validation', 4),\n",
              " ('tag-cloud', 4),\n",
              " ('uac', 4),\n",
              " ('google-analytics', 4),\n",
              " ('hungarian-notation', 4),\n",
              " ('analytics', 4),\n",
              " ('single-sign-on', 4),\n",
              " ('archive', 4),\n",
              " ('podcast', 4),\n",
              " ('stylecop', 4),\n",
              " ('code-formatting', 4),\n",
              " ('foxpro', 4),\n",
              " ('python-3.x', 4),\n",
              " ('shipping', 4),\n",
              " ('scheduled-tasks', 4),\n",
              " ('tagging', 4),\n",
              " ('visual-studio-addins', 4),\n",
              " ('facelets', 4),\n",
              " ('mapi', 4),\n",
              " ('conventions', 4),\n",
              " ('zip', 4),\n",
              " ('jquery-ui', 4),\n",
              " ('markup', 4),\n",
              " ('asp.net-mvc-routing', 4),\n",
              " ('webcam', 4),\n",
              " ('joomla', 4),\n",
              " ('semantics', 4),\n",
              " ('kerberos', 4),\n",
              " ('awk', 4),\n",
              " ('session-state', 4),\n",
              " ('sun', 4),\n",
              " ('language-design', 4),\n",
              " ('structure', 4),\n",
              " ('social-networking', 4),\n",
              " ('twitter', 4),\n",
              " ('labview', 4),\n",
              " ('windbg', 4),\n",
              " ('network-protocols', 4),\n",
              " ('server-side', 4),\n",
              " ('eclipse-pde', 4),\n",
              " ('cs3', 4),\n",
              " ('destructor', 4),\n",
              " ('caret', 4),\n",
              " ('hierarchy', 4),\n",
              " ('fogbugz', 4),\n",
              " ('stdmap', 4),\n",
              " ('mingw', 4),\n",
              " ('xquery', 4),\n",
              " ('protocols', 4),\n",
              " ('subdomain', 4),\n",
              " ('varchar', 4),\n",
              " ('latex', 4),\n",
              " ('label', 4),\n",
              " ('pagination', 4),\n",
              " ('objectdatasource', 4),\n",
              " ('strong-typing', 4),\n",
              " ('desktop-application', 4),\n",
              " ('anonymous-methods', 4),\n",
              " ('iis-5', 4),\n",
              " ('core-data', 4),\n",
              " ('mstest', 4),\n",
              " ('tabs', 4),\n",
              " ('whitespace', 4),\n",
              " ('jpeg', 4),\n",
              " ('gd', 4),\n",
              " ('pocketpc', 4),\n",
              " ('rendering', 4),\n",
              " ('antivirus', 4),\n",
              " ('g++', 4),\n",
              " ('virtual-earth', 4),\n",
              " ('probability', 4),\n",
              " ('base64', 4),\n",
              " ('client-side', 4),\n",
              " ('google-calendar-api', 4),\n",
              " ('symlink', 4),\n",
              " ('extract', 4),\n",
              " ('freebsd', 4),\n",
              " ('shared-libraries', 4),\n",
              " ('field', 4),\n",
              " ('password-protection', 4),\n",
              " ('rmi', 4),\n",
              " ('hashmap', 4),\n",
              " ('timeline', 4),\n",
              " ('redhat', 4),\n",
              " ('storage', 4),\n",
              " ('toolbar', 4),\n",
              " ('scriptaculous', 4),\n",
              " ('truncate', 4),\n",
              " ('c++-faq', 4),\n",
              " ('where', 4),\n",
              " ('media', 4),\n",
              " ...]"
            ]
          },
          "metadata": {},
          "execution_count": 61
        }
      ],
      "source": [
        "tags_sorted"
      ]
    },
    {
      "cell_type": "code",
      "execution_count": null,
      "metadata": {
        "colab": {
          "base_uri": "https://localhost:8080/"
        },
        "id": "MuN6b466I6R8",
        "outputId": "3a42e3cf-4ba6-4457-896d-99ba1111e294"
      },
      "outputs": [
        {
          "output_type": "stream",
          "name": "stdout",
          "text": [
            "tags les plus présents:\n",
            "c#               1264\n",
            ".net             1033\n",
            "java              756\n",
            "asp.net           670\n",
            "c++               583\n",
            "javascript        467\n",
            "sql-server        386\n",
            "php               376\n",
            "sql               352\n",
            "python            329\n",
            "windows           282\n",
            "visual-studio     249\n",
            "html              248\n",
            "c                 220\n",
            "database          199\n",
            "mysql             180\n",
            "css               169\n",
            "ruby              166\n",
            "winforms          164\n",
            "vb.net            163\n",
            "jquery            159\n",
            "asp.net-mvc       158\n",
            "xml               157\n",
            "linux             149\n",
            "performance       146\n",
            "wpf               144\n",
            "svn               139\n",
            "visual-studio-2008   136\n",
            "ruby-on-rails     136\n",
            "web-services      124\n",
            "language-agnostic   123\n",
            "unit-testing      119\n",
            "multithreading    110\n",
            "winapi            110\n",
            "regex             110\n",
            "user-interface    106\n",
            "algorithm         104\n",
            "ajax              103\n",
            "oop               100\n",
            "linq              100\n",
            "sql-server-2005   100\n",
            "perl               98\n",
            "security           98\n",
            "oracle             97\n",
            "version-control    96\n",
            "string             95\n",
            "flash              92\n",
            "iphone             92\n",
            "debugging          90\n",
            "delphi             89\n"
          ]
        }
      ],
      "source": [
        "n_selec_tags = 50 # Top N words\n",
        "\n",
        "print(\"tags les plus présents:\")\n",
        "for tag, count in tags_sorted[:n_selec_tags]:\n",
        "    print(f\"{tag:15} {count:5}\") # Params correspond to spacing"
      ]
    },
    {
      "cell_type": "markdown",
      "metadata": {
        "id": "oqEzM0nuJD1J"
      },
      "source": [
        "ça me donne 50 tags qui apparaissent de 1264 à 89 fois"
      ]
    },
    {
      "cell_type": "code",
      "execution_count": null,
      "metadata": {
        "colab": {
          "base_uri": "https://localhost:8080/",
          "height": 363
        },
        "id": "yzfQzkv8JVar",
        "outputId": "aaf87264-a156-4144-ee9b-062fb2a8132d"
      },
      "outputs": [
        {
          "output_type": "execute_result",
          "data": {
            "text/plain": [
              "                                                Document                  Tags\n",
              "43816  .net databinding ignores property changwritten...                  [c#]\n",
              "10813  auto-indent spaces c vim've somewhat spoiled u...                   [c]\n",
              "4762   flex .net good get data flex  weborb web servi...                [.net]\n",
              "27810  .net webservice  access ...note consuming webs...  [.net, web-services]\n",
              "22315  test data builder pattern useful upkeeplet sta...  [.net, unit-testing]\n",
              "16957  deploy complex sql solutions instalpart setup ...       [sql, database]\n",
              "18237  obtaining requestdispatchbenefit using servlet...                [java]\n",
              "18321  c # network loginperform network login access ...                  [c#]\n",
              "8096   automated testing flex based appltools prefera...        [web-services]\n",
              "29373  restricting access objects applone problem com...      [.net, security]"
            ],
            "text/html": [
              "\n",
              "  <div id=\"df-5c074bc0-b2f3-486d-9ea3-616374b8bd60\">\n",
              "    <div class=\"colab-df-container\">\n",
              "      <div>\n",
              "<style scoped>\n",
              "    .dataframe tbody tr th:only-of-type {\n",
              "        vertical-align: middle;\n",
              "    }\n",
              "\n",
              "    .dataframe tbody tr th {\n",
              "        vertical-align: top;\n",
              "    }\n",
              "\n",
              "    .dataframe thead th {\n",
              "        text-align: right;\n",
              "    }\n",
              "</style>\n",
              "<table border=\"1\" class=\"dataframe\">\n",
              "  <thead>\n",
              "    <tr style=\"text-align: right;\">\n",
              "      <th></th>\n",
              "      <th>Document</th>\n",
              "      <th>Tags</th>\n",
              "    </tr>\n",
              "  </thead>\n",
              "  <tbody>\n",
              "    <tr>\n",
              "      <th>43816</th>\n",
              "      <td>.net databinding ignores property changwritten...</td>\n",
              "      <td>[c#]</td>\n",
              "    </tr>\n",
              "    <tr>\n",
              "      <th>10813</th>\n",
              "      <td>auto-indent spaces c vim've somewhat spoiled u...</td>\n",
              "      <td>[c]</td>\n",
              "    </tr>\n",
              "    <tr>\n",
              "      <th>4762</th>\n",
              "      <td>flex .net good get data flex  weborb web servi...</td>\n",
              "      <td>[.net]</td>\n",
              "    </tr>\n",
              "    <tr>\n",
              "      <th>27810</th>\n",
              "      <td>.net webservice  access ...note consuming webs...</td>\n",
              "      <td>[.net, web-services]</td>\n",
              "    </tr>\n",
              "    <tr>\n",
              "      <th>22315</th>\n",
              "      <td>test data builder pattern useful upkeeplet sta...</td>\n",
              "      <td>[.net, unit-testing]</td>\n",
              "    </tr>\n",
              "    <tr>\n",
              "      <th>16957</th>\n",
              "      <td>deploy complex sql solutions instalpart setup ...</td>\n",
              "      <td>[sql, database]</td>\n",
              "    </tr>\n",
              "    <tr>\n",
              "      <th>18237</th>\n",
              "      <td>obtaining requestdispatchbenefit using servlet...</td>\n",
              "      <td>[java]</td>\n",
              "    </tr>\n",
              "    <tr>\n",
              "      <th>18321</th>\n",
              "      <td>c # network loginperform network login access ...</td>\n",
              "      <td>[c#]</td>\n",
              "    </tr>\n",
              "    <tr>\n",
              "      <th>8096</th>\n",
              "      <td>automated testing flex based appltools prefera...</td>\n",
              "      <td>[web-services]</td>\n",
              "    </tr>\n",
              "    <tr>\n",
              "      <th>29373</th>\n",
              "      <td>restricting access objects applone problem com...</td>\n",
              "      <td>[.net, security]</td>\n",
              "    </tr>\n",
              "  </tbody>\n",
              "</table>\n",
              "</div>\n",
              "      <button class=\"colab-df-convert\" onclick=\"convertToInteractive('df-5c074bc0-b2f3-486d-9ea3-616374b8bd60')\"\n",
              "              title=\"Convert this dataframe to an interactive table.\"\n",
              "              style=\"display:none;\">\n",
              "        \n",
              "  <svg xmlns=\"http://www.w3.org/2000/svg\" height=\"24px\"viewBox=\"0 0 24 24\"\n",
              "       width=\"24px\">\n",
              "    <path d=\"M0 0h24v24H0V0z\" fill=\"none\"/>\n",
              "    <path d=\"M18.56 5.44l.94 2.06.94-2.06 2.06-.94-2.06-.94-.94-2.06-.94 2.06-2.06.94zm-11 1L8.5 8.5l.94-2.06 2.06-.94-2.06-.94L8.5 2.5l-.94 2.06-2.06.94zm10 10l.94 2.06.94-2.06 2.06-.94-2.06-.94-.94-2.06-.94 2.06-2.06.94z\"/><path d=\"M17.41 7.96l-1.37-1.37c-.4-.4-.92-.59-1.43-.59-.52 0-1.04.2-1.43.59L10.3 9.45l-7.72 7.72c-.78.78-.78 2.05 0 2.83L4 21.41c.39.39.9.59 1.41.59.51 0 1.02-.2 1.41-.59l7.78-7.78 2.81-2.81c.8-.78.8-2.07 0-2.86zM5.41 20L4 18.59l7.72-7.72 1.47 1.35L5.41 20z\"/>\n",
              "  </svg>\n",
              "      </button>\n",
              "      \n",
              "  <style>\n",
              "    .colab-df-container {\n",
              "      display:flex;\n",
              "      flex-wrap:wrap;\n",
              "      gap: 12px;\n",
              "    }\n",
              "\n",
              "    .colab-df-convert {\n",
              "      background-color: #E8F0FE;\n",
              "      border: none;\n",
              "      border-radius: 50%;\n",
              "      cursor: pointer;\n",
              "      display: none;\n",
              "      fill: #1967D2;\n",
              "      height: 32px;\n",
              "      padding: 0 0 0 0;\n",
              "      width: 32px;\n",
              "    }\n",
              "\n",
              "    .colab-df-convert:hover {\n",
              "      background-color: #E2EBFA;\n",
              "      box-shadow: 0px 1px 2px rgba(60, 64, 67, 0.3), 0px 1px 3px 1px rgba(60, 64, 67, 0.15);\n",
              "      fill: #174EA6;\n",
              "    }\n",
              "\n",
              "    [theme=dark] .colab-df-convert {\n",
              "      background-color: #3B4455;\n",
              "      fill: #D2E3FC;\n",
              "    }\n",
              "\n",
              "    [theme=dark] .colab-df-convert:hover {\n",
              "      background-color: #434B5C;\n",
              "      box-shadow: 0px 1px 3px 1px rgba(0, 0, 0, 0.15);\n",
              "      filter: drop-shadow(0px 1px 2px rgba(0, 0, 0, 0.3));\n",
              "      fill: #FFFFFF;\n",
              "    }\n",
              "  </style>\n",
              "\n",
              "      <script>\n",
              "        const buttonEl =\n",
              "          document.querySelector('#df-5c074bc0-b2f3-486d-9ea3-616374b8bd60 button.colab-df-convert');\n",
              "        buttonEl.style.display =\n",
              "          google.colab.kernel.accessAllowed ? 'block' : 'none';\n",
              "\n",
              "        async function convertToInteractive(key) {\n",
              "          const element = document.querySelector('#df-5c074bc0-b2f3-486d-9ea3-616374b8bd60');\n",
              "          const dataTable =\n",
              "            await google.colab.kernel.invokeFunction('convertToInteractive',\n",
              "                                                     [key], {});\n",
              "          if (!dataTable) return;\n",
              "\n",
              "          const docLinkHtml = 'Like what you see? Visit the ' +\n",
              "            '<a target=\"_blank\" href=https://colab.research.google.com/notebooks/data_table.ipynb>data table notebook</a>'\n",
              "            + ' to learn more about interactive tables.';\n",
              "          element.innerHTML = '';\n",
              "          dataTable['output_type'] = 'display_data';\n",
              "          await google.colab.output.renderOutput(dataTable, element);\n",
              "          const docLink = document.createElement('div');\n",
              "          docLink.innerHTML = docLinkHtml;\n",
              "          element.appendChild(docLink);\n",
              "        }\n",
              "      </script>\n",
              "    </div>\n",
              "  </div>\n",
              "  "
            ]
          },
          "metadata": {},
          "execution_count": 63
        }
      ],
      "source": [
        "n_selec_tags = 50\n",
        "# Select only desired tags\n",
        "selected_tags = [tag for tag, count in tags_sorted[:n_selec_tags]]\n",
        "\n",
        "copy_tags = df_Title_Body['Tags_Clean'].copy()\n",
        "\n",
        "for index, row in df_Title_Body['Tags_Clean'].iteritems():\n",
        "    copy_tags[index] = [tag for tag in row.split() if tag in selected_tags]\n",
        "    \n",
        "mask = (copy_tags.apply(len) > 0)\n",
        "df_Title_Body['Tags'] = copy_tags\n",
        "df_Title_Body['Document'] = df_Title_Body[\"Title_and_Body_Clean\"]\n",
        "\n",
        "corpus = df_Title_Body.loc[mask, ['Document', 'Tags']]\n",
        "corpus.sample(10)"
      ]
    },
    {
      "cell_type": "code",
      "execution_count": null,
      "metadata": {
        "id": "frb-J9VI-abw"
      },
      "outputs": [],
      "source": [
        "df_Title_Body.to_csv('data_projet5_ready_for_sup_model.csv', sep='\\t', index=True)"
      ]
    },
    {
      "cell_type": "code",
      "execution_count": null,
      "metadata": {
        "id": "4Oh2Q2yo-bWP"
      },
      "outputs": [],
      "source": [
        "df_Title_Body = pad.read_csv('data_projet5_ready_for_sup_model.csv', sep='\\t')"
      ]
    },
    {
      "cell_type": "markdown",
      "metadata": {
        "id": "xxOaNYLJPOCt"
      },
      "source": [
        "Split des données en train et test dataset"
      ]
    },
    {
      "cell_type": "code",
      "execution_count": null,
      "metadata": {
        "id": "1qxZ-lknPJ9f"
      },
      "outputs": [],
      "source": [
        "# Split data into train and test sets\n",
        "X_train, X_test, Y_train, Y_test = train_test_split(df_Title_Body['Document'], df_Title_Body['Tags'], train_size=0.75, test_size=0.25,  random_state=7)"
      ]
    },
    {
      "cell_type": "code",
      "execution_count": null,
      "metadata": {
        "id": "qj2egCLyNIQN"
      },
      "outputs": [],
      "source": [
        "dictionary = [d.split() for d in df_Title_Body['Document']]\n",
        "dictionary = Dictionary(dictionary)"
      ]
    },
    {
      "cell_type": "markdown",
      "metadata": {
        "id": "I0U9rT4-P-gu"
      },
      "source": [
        "Transformation des deux datasets"
      ]
    },
    {
      "cell_type": "code",
      "execution_count": null,
      "metadata": {
        "id": "PzJ3hdsRQCFz"
      },
      "outputs": [],
      "source": [
        "binarizer = MultiLabelBinarizer()"
      ]
    },
    {
      "cell_type": "code",
      "execution_count": null,
      "metadata": {
        "id": "IjCHrYIrQFH9"
      },
      "outputs": [],
      "source": [
        "Y_train_bin = binarizer.fit_transform(Y_train)\n",
        "Y_test_bin = binarizer.transform(Y_test)"
      ]
    },
    {
      "cell_type": "markdown",
      "metadata": {
        "id": "J5z6s0dnQjan"
      },
      "source": [
        "## Extraction des features"
      ]
    },
    {
      "cell_type": "markdown",
      "metadata": {
        "id": "TJjdyMEDT-RY"
      },
      "source": [
        "### Bag-Of-Words"
      ]
    },
    {
      "cell_type": "code",
      "execution_count": null,
      "metadata": {
        "id": "LGTqmsc-Q3m4"
      },
      "outputs": [],
      "source": [
        "n_terms = len(dictionary)"
      ]
    },
    {
      "cell_type": "code",
      "execution_count": null,
      "metadata": {
        "id": "WKqo2LcfRJdu"
      },
      "outputs": [],
      "source": [
        "list_X_train = [d.split() for d in X_train] "
      ]
    },
    {
      "cell_type": "code",
      "execution_count": null,
      "metadata": {
        "id": "RPerOI-FQ9w2"
      },
      "outputs": [],
      "source": [
        "X_train_bow = [dictionary.doc2bow(doc, allow_update=False) for doc in list_X_train]"
      ]
    },
    {
      "cell_type": "code",
      "execution_count": null,
      "metadata": {
        "id": "ez3tOzN3Stdk"
      },
      "outputs": [],
      "source": [
        "list_X_test = [d.split() for d in X_test] "
      ]
    },
    {
      "cell_type": "code",
      "execution_count": null,
      "metadata": {
        "id": "ojgGhyMXSo47"
      },
      "outputs": [],
      "source": [
        "X_test_bow = [dictionary.doc2bow(doc, allow_update=False) for doc in list_X_test]"
      ]
    },
    {
      "cell_type": "code",
      "execution_count": null,
      "metadata": {
        "id": "NJfpiS6DTGt_"
      },
      "outputs": [],
      "source": [
        "X_train_Sparse = corpus2csc(X_train_bow, num_terms=n_terms).transpose()\n",
        "X_test_Sparse = corpus2csc(X_test_bow, num_terms=n_terms).transpose()"
      ]
    },
    {
      "cell_type": "code",
      "execution_count": null,
      "metadata": {
        "colab": {
          "base_uri": "https://localhost:8080/"
        },
        "id": "ATb2LlIdUIAS",
        "outputId": "ddb669ea-7112-4b64-b39c-4f2a854263b5"
      },
      "outputs": [
        {
          "output_type": "execute_result",
          "data": {
            "text/plain": [
              "<2500x73608 sparse matrix of type '<class 'numpy.float64'>'\n",
              "\twith 144141 stored elements in Compressed Sparse Row format>"
            ]
          },
          "metadata": {},
          "execution_count": 76
        }
      ],
      "source": [
        "X_test_Sparse"
      ]
    },
    {
      "cell_type": "markdown",
      "metadata": {
        "id": "3n-p0K-3Vzoo"
      },
      "source": [
        "## Execution des modèles et évaluations"
      ]
    },
    {
      "cell_type": "markdown",
      "metadata": {
        "id": "6d71d3b3-c359-4774-829f-9b3c10ac08fe"
      },
      "source": [
        "### Naive Bayes | TF-IDF"
      ]
    },
    {
      "cell_type": "code",
      "execution_count": null,
      "metadata": {
        "id": "9anROWWacN9j"
      },
      "outputs": [],
      "source": [
        "hyperparameters = {'nb__estimator__alpha': [0.03, 0.025, 0.02, 0.0175, 0.01, 0.05]}\n",
        "estimator_nb = Pipeline([('tfidf', TfidfTransformer(use_idf=True)), ('nb', OneVsRestClassifier(MultinomialNB()))])\n",
        "grid_nb = GridSearchCV(estimator_nb, hyperparameters, scoring='f1_micro', cv=5 ,verbose=1)"
      ]
    },
    {
      "cell_type": "code",
      "execution_count": null,
      "metadata": {
        "id": "b4b5e57a-51c5-4559-b0dd-6347791ac6a1"
      },
      "outputs": [],
      "source": [
        "grid_nb.fit(X_train_Sparse, Y_train_bin)"
      ]
    },
    {
      "cell_type": "code",
      "execution_count": null,
      "metadata": {
        "colab": {
          "base_uri": "https://localhost:8080/"
        },
        "id": "fXZCbl-sccDE",
        "outputId": "31c10515-6979-4c06-d5b3-a0235ddae6d5"
      },
      "outputs": [
        {
          "name": "stdout",
          "output_type": "stream",
          "text": [
            "{'nb__estimator__alpha': 0.025}\n"
          ]
        }
      ],
      "source": [
        "print(grid_nb.best_params_)\n",
        "# return {'nb__estimator__alpha': 0.02}"
      ]
    },
    {
      "cell_type": "code",
      "execution_count": null,
      "metadata": {
        "id": "ruS1i5NhcttR"
      },
      "outputs": [],
      "source": [
        "model_nb = grid_nb.best_estimator_"
      ]
    },
    {
      "cell_type": "code",
      "execution_count": null,
      "metadata": {
        "colab": {
          "base_uri": "https://localhost:8080/"
        },
        "id": "6c7a5e12-c8eb-4913-8549-931314b08b50",
        "outputId": "5d3d2da4-63c8-4113-bf96-6f93a7d21542"
      },
      "outputs": [
        {
          "output_type": "stream",
          "name": "stdout",
          "text": [
            "Accuracy: 0.0792\n",
            "F1 score: 0.6482374066723371\n",
            "Recall: 0.6288621985880627\n",
            "Precision: 0.6688444661140907\n",
            "Jaccard score: 0.4795497448087814\n"
          ]
        }
      ],
      "source": [
        "prediction = model_nb.predict(X_test_Sparse)\n",
        "print('Accuracy:', accuracy_score(Y_test_bin, prediction))\n",
        "print('F1 score:', f1_score(Y_test_bin, prediction, average='micro'))\n",
        "print('Recall:', recall_score(Y_test_bin, prediction, average='micro'))\n",
        "print('Precision:', precision_score(Y_test_bin, prediction, average='micro'))\n",
        "print('Jaccard score:', jaccard_score(Y_test_bin, prediction, average='micro'))"
      ]
    },
    {
      "cell_type": "code",
      "execution_count": null,
      "metadata": {
        "colab": {
          "base_uri": "https://localhost:8080/"
        },
        "id": "yYWnpKLS_7XO",
        "outputId": "109a0d1a-1420-402d-9765-a4491271ffe9"
      },
      "outputs": [
        {
          "data": {
            "text/plain": [
              "['Naive_Bayes_model.joblib']"
            ]
          },
          "execution_count": 276,
          "metadata": {},
          "output_type": "execute_result"
        }
      ],
      "source": [
        "#Sauvegarde du modèle optimisé\n",
        "dump(model_nb, 'Naive_Bayes_model.joblib')"
      ]
    },
    {
      "cell_type": "code",
      "execution_count": null,
      "metadata": {
        "id": "BdnfFyc1AbjI"
      },
      "outputs": [],
      "source": [
        "#Chargement du modèle optimisé\n",
        "model_nb = load('Naive_Bayes_model.joblib')"
      ]
    },
    {
      "cell_type": "markdown",
      "metadata": {
        "id": "c0455619-59f3-4490-ba2b-70c83b5c91e2"
      },
      "source": [
        "### SVM | TF-IDF"
      ]
    },
    {
      "cell_type": "code",
      "execution_count": null,
      "metadata": {
        "id": "9fi8ekVNdU_w"
      },
      "outputs": [],
      "source": [
        "hyperparameters = {'svm__estimator__C': [1, 1.2, 1.3, 1.4, 1.5]}\n",
        "estimator_svm = Pipeline([('tfidf', TfidfTransformer(use_idf=True)), ('svm', OneVsRestClassifier(LinearSVC(max_iter=10000)))])\n",
        "grid_svm = GridSearchCV(estimator_svm, hyperparameters, scoring='f1_micro', cv=5,verbose=1)"
      ]
    },
    {
      "cell_type": "code",
      "execution_count": null,
      "metadata": {
        "id": "tMiRhwETeKyc"
      },
      "outputs": [],
      "source": [
        "grid_svm.fit(X_train_Sparse, Y_train_bin)"
      ]
    },
    {
      "cell_type": "code",
      "execution_count": null,
      "metadata": {
        "colab": {
          "base_uri": "https://localhost:8080/"
        },
        "id": "TA4J6Mejq4_f",
        "outputId": "38a44b55-8373-4658-82bb-d7e2c580e5a5"
      },
      "outputs": [
        {
          "name": "stdout",
          "output_type": "stream",
          "text": [
            "{'svm__estimator__C': 1.5}\n"
          ]
        }
      ],
      "source": [
        "print(grid_svm.best_params_)\n",
        "# return {'svm__estimator__C': 1}"
      ]
    },
    {
      "cell_type": "code",
      "execution_count": null,
      "metadata": {
        "id": "HvuGC7eiedjX"
      },
      "outputs": [],
      "source": [
        "model_svm = grid_svm.best_estimator_"
      ]
    },
    {
      "cell_type": "code",
      "execution_count": null,
      "metadata": {
        "colab": {
          "base_uri": "https://localhost:8080/"
        },
        "id": "JbGDG3HEeeeT",
        "outputId": "c3ff32b7-3adc-46d8-c594-7b86e22d5a92"
      },
      "outputs": [
        {
          "output_type": "stream",
          "name": "stdout",
          "text": [
            "Accuracy: 0.1552\n",
            "F1 score: 0.7278706914134204\n",
            "Recall: 0.6543962592830292\n",
            "Precision: 0.8199310740953475\n",
            "Jaccard score: 0.5721672211311074\n"
          ]
        }
      ],
      "source": [
        "prediction = model_svm.predict(X_test_Sparse)\n",
        "print('Accuracy:', accuracy_score(Y_test_bin, prediction))\n",
        "print('F1 score:', f1_score(Y_test_bin, prediction, average='micro'))\n",
        "print('Recall:', recall_score(Y_test_bin, prediction, average='micro'))\n",
        "print('Precision:', precision_score(Y_test_bin, prediction, average='micro'))\n",
        "print('Jaccard score:', jaccard_score(Y_test_bin, prediction, average='micro'))"
      ]
    },
    {
      "cell_type": "code",
      "execution_count": null,
      "metadata": {
        "colab": {
          "base_uri": "https://localhost:8080/"
        },
        "id": "czWJD_8_AH0U",
        "outputId": "37d57034-e82f-4981-f7a2-75f769271899"
      },
      "outputs": [
        {
          "data": {
            "text/plain": [
              "['SVM_model.joblib']"
            ]
          },
          "execution_count": 283,
          "metadata": {},
          "output_type": "execute_result"
        }
      ],
      "source": [
        "#Sauvegarde du modèle optimisé\n",
        "dump(model_svm, 'SVM_model.joblib')"
      ]
    },
    {
      "cell_type": "code",
      "execution_count": null,
      "metadata": {
        "id": "akr1UaQLAWnw"
      },
      "outputs": [],
      "source": [
        "#Chargement du modèle optimisé\n",
        "model_svm = load('SVM_model.joblib')"
      ]
    },
    {
      "cell_type": "markdown",
      "metadata": {
        "id": "513537b1-7621-4160-845d-ec81707ad908"
      },
      "source": [
        "### Random Forest | TF-IDF"
      ]
    },
    {
      "cell_type": "code",
      "execution_count": null,
      "metadata": {
        "id": "Ez-_QhwUkAOL"
      },
      "outputs": [],
      "source": [
        "hyperparameters = {'rf__n_estimators': [25, 30, 31, 35], 'rf__criterion': ['gini', 'entropy']}\n",
        "estimator_rf = Pipeline([('tfidf', TfidfTransformer(use_idf=True)), ('rf', RandomForestClassifier())])\n",
        "grid_rf = GridSearchCV(estimator_rf, hyperparameters, scoring='f1_micro', cv=5,verbose=1)"
      ]
    },
    {
      "cell_type": "code",
      "execution_count": null,
      "metadata": {
        "colab": {
          "base_uri": "https://localhost:8080/"
        },
        "id": "5vT2f1vqkg8T",
        "outputId": "3a0ef986-0e29-418c-de55-5092ef3b3bf5"
      },
      "outputs": [
        {
          "name": "stdout",
          "output_type": "stream",
          "text": [
            "Fitting 5 folds for each of 8 candidates, totalling 40 fits\n"
          ]
        },
        {
          "data": {
            "text/plain": [
              "GridSearchCV(cv=5,\n",
              "             estimator=Pipeline(steps=[('tfidf', TfidfTransformer()),\n",
              "                                       ('rf', RandomForestClassifier())]),\n",
              "             param_grid={'rf__criterion': ['gini', 'entropy'],\n",
              "                         'rf__n_estimators': [25, 30, 31, 35]},\n",
              "             scoring='f1_micro', verbose=1)"
            ]
          },
          "execution_count": 286,
          "metadata": {},
          "output_type": "execute_result"
        }
      ],
      "source": [
        "grid_rf.fit(X_train_Sparse, Y_train_bin)"
      ]
    },
    {
      "cell_type": "code",
      "execution_count": null,
      "metadata": {
        "colab": {
          "base_uri": "https://localhost:8080/"
        },
        "id": "Xmtop-H5xtax",
        "outputId": "1d9abda6-bdf8-4e70-b0b0-6613243516a0"
      },
      "outputs": [
        {
          "name": "stdout",
          "output_type": "stream",
          "text": [
            "{'rf__criterion': 'gini', 'rf__n_estimators': 25}\n"
          ]
        }
      ],
      "source": [
        "print(grid_rf.best_params_)\n",
        "# return {'rf__criterion': 'gini', 'rf__n_estimators': 31}"
      ]
    },
    {
      "cell_type": "code",
      "execution_count": null,
      "metadata": {
        "id": "Qdajqo6hkjBo"
      },
      "outputs": [],
      "source": [
        "model_rf = grid_rf.best_estimator_"
      ]
    },
    {
      "cell_type": "code",
      "execution_count": null,
      "metadata": {
        "colab": {
          "base_uri": "https://localhost:8080/"
        },
        "id": "9uXiHOWKklrg",
        "outputId": "a9cd64ad-9f3c-46ff-ec94-3552959a76b7"
      },
      "outputs": [
        {
          "output_type": "stream",
          "name": "stdout",
          "text": [
            "Accuracy: 0.1432\n",
            "F1 score: 0.6178881461540788\n",
            "Recall: 0.4682314110204456\n",
            "Precision: 0.90815328532053\n",
            "Jaccard score: 0.4470608832669497\n"
          ]
        }
      ],
      "source": [
        "prediction = model_rf.predict(X_test_Sparse)\n",
        "print('Accuracy:', accuracy_score(Y_test_bin, prediction))\n",
        "print('F1 score:', f1_score(Y_test_bin, prediction, average='micro'))\n",
        "print('Recall:', recall_score(Y_test_bin, prediction, average='micro'))\n",
        "print('Precision:', precision_score(Y_test_bin, prediction, average='micro'))\n",
        "print('Jaccard score:', jaccard_score(Y_test_bin, prediction, average='micro'))"
      ]
    },
    {
      "cell_type": "code",
      "execution_count": null,
      "metadata": {
        "colab": {
          "base_uri": "https://localhost:8080/"
        },
        "id": "2kSySNZGALkI",
        "outputId": "5a52686a-e85f-4cac-d39e-0a0fdd6d69a2"
      },
      "outputs": [
        {
          "data": {
            "text/plain": [
              "['RandomForest_model.joblib']"
            ]
          },
          "execution_count": 290,
          "metadata": {},
          "output_type": "execute_result"
        }
      ],
      "source": [
        "#Sauvegarde du modèle optimisé\n",
        "dump(model_rf, 'RandomForest_model.joblib')"
      ]
    },
    {
      "cell_type": "code",
      "execution_count": null,
      "metadata": {
        "id": "JfOx4zciAd-0"
      },
      "outputs": [],
      "source": [
        "#Chargement du modèle optimisé\n",
        "model_rf = load('RandomForest_model.joblib')"
      ]
    },
    {
      "cell_type": "code",
      "execution_count": null,
      "metadata": {
        "id": "9tvi2BbJ89p6"
      },
      "outputs": [],
      "source": [
        "def run_model_and_performance_check(model_class):\n",
        "\n",
        "  # Prédiction du modèle et archivage des résultats\n",
        "  y_pred = model_class.predict(X_test_Sparse)\n",
        " \n",
        "  # Création des dataframes résultats\n",
        "  results_classification = np.array([accuracy_score(Y_test_bin, y_pred), f1_score(Y_test_bin, y_pred, average='micro'), recall_score(Y_test_bin, y_pred, average='micro'), precision_score(Y_test_bin, y_pred, average='micro'), jaccard_score(Y_test_bin, y_pred, average='micro')])\n",
        "  df_results = pad.DataFrame(index = [\"Accuracy\", \"F1 score\", \"Recall\", \"Precision\", \"Jaccard score\"], columns = [str(model_class)])\n",
        "  df_results[str(model_class)] = results_classification\n",
        "\n",
        "  return df_results"
      ]
    },
    {
      "cell_type": "code",
      "execution_count": null,
      "metadata": {
        "id": "6f8wuT5PC-5o"
      },
      "outputs": [],
      "source": [
        "df_results = pad.DataFrame(index = [\"Accuracy\", \"F1 score\", \"Recall\", \"Precision\", \"Jaccard score\"])"
      ]
    },
    {
      "cell_type": "code",
      "execution_count": null,
      "metadata": {
        "id": "sYTH2a899oja"
      },
      "outputs": [],
      "source": [
        "df_results['Naive_Bayes'] = run_model_and_performance_check(model_nb)"
      ]
    },
    {
      "cell_type": "code",
      "execution_count": null,
      "metadata": {
        "id": "lpFhgbeT978S"
      },
      "outputs": [],
      "source": [
        "df_results['SVM'] = run_model_and_performance_check(model_svm)"
      ]
    },
    {
      "cell_type": "code",
      "execution_count": null,
      "metadata": {
        "id": "pMLCv_2q98bJ"
      },
      "outputs": [],
      "source": [
        "df_results['RandomForest'] = run_model_and_performance_check(model_rf)"
      ]
    },
    {
      "cell_type": "code",
      "execution_count": null,
      "metadata": {
        "colab": {
          "base_uri": "https://localhost:8080/",
          "height": 206
        },
        "id": "V7xONYg8DH5f",
        "outputId": "7caec629-0472-4050-9817-cf8f3619961e"
      },
      "outputs": [
        {
          "output_type": "execute_result",
          "data": {
            "text/plain": [
              "               Naive_Bayes       SVM  RandomForest\n",
              "Accuracy          0.079200  0.155200      0.143200\n",
              "F1 score          0.648237  0.727871      0.617888\n",
              "Recall            0.628862  0.654396      0.468231\n",
              "Precision         0.668844  0.819931      0.908153\n",
              "Jaccard score     0.479550  0.572167      0.447061"
            ],
            "text/html": [
              "\n",
              "  <div id=\"df-856d091b-449b-4a41-b8b0-2b15f26c0d04\">\n",
              "    <div class=\"colab-df-container\">\n",
              "      <div>\n",
              "<style scoped>\n",
              "    .dataframe tbody tr th:only-of-type {\n",
              "        vertical-align: middle;\n",
              "    }\n",
              "\n",
              "    .dataframe tbody tr th {\n",
              "        vertical-align: top;\n",
              "    }\n",
              "\n",
              "    .dataframe thead th {\n",
              "        text-align: right;\n",
              "    }\n",
              "</style>\n",
              "<table border=\"1\" class=\"dataframe\">\n",
              "  <thead>\n",
              "    <tr style=\"text-align: right;\">\n",
              "      <th></th>\n",
              "      <th>Naive_Bayes</th>\n",
              "      <th>SVM</th>\n",
              "      <th>RandomForest</th>\n",
              "    </tr>\n",
              "  </thead>\n",
              "  <tbody>\n",
              "    <tr>\n",
              "      <th>Accuracy</th>\n",
              "      <td>0.079200</td>\n",
              "      <td>0.155200</td>\n",
              "      <td>0.143200</td>\n",
              "    </tr>\n",
              "    <tr>\n",
              "      <th>F1 score</th>\n",
              "      <td>0.648237</td>\n",
              "      <td>0.727871</td>\n",
              "      <td>0.617888</td>\n",
              "    </tr>\n",
              "    <tr>\n",
              "      <th>Recall</th>\n",
              "      <td>0.628862</td>\n",
              "      <td>0.654396</td>\n",
              "      <td>0.468231</td>\n",
              "    </tr>\n",
              "    <tr>\n",
              "      <th>Precision</th>\n",
              "      <td>0.668844</td>\n",
              "      <td>0.819931</td>\n",
              "      <td>0.908153</td>\n",
              "    </tr>\n",
              "    <tr>\n",
              "      <th>Jaccard score</th>\n",
              "      <td>0.479550</td>\n",
              "      <td>0.572167</td>\n",
              "      <td>0.447061</td>\n",
              "    </tr>\n",
              "  </tbody>\n",
              "</table>\n",
              "</div>\n",
              "      <button class=\"colab-df-convert\" onclick=\"convertToInteractive('df-856d091b-449b-4a41-b8b0-2b15f26c0d04')\"\n",
              "              title=\"Convert this dataframe to an interactive table.\"\n",
              "              style=\"display:none;\">\n",
              "        \n",
              "  <svg xmlns=\"http://www.w3.org/2000/svg\" height=\"24px\"viewBox=\"0 0 24 24\"\n",
              "       width=\"24px\">\n",
              "    <path d=\"M0 0h24v24H0V0z\" fill=\"none\"/>\n",
              "    <path d=\"M18.56 5.44l.94 2.06.94-2.06 2.06-.94-2.06-.94-.94-2.06-.94 2.06-2.06.94zm-11 1L8.5 8.5l.94-2.06 2.06-.94-2.06-.94L8.5 2.5l-.94 2.06-2.06.94zm10 10l.94 2.06.94-2.06 2.06-.94-2.06-.94-.94-2.06-.94 2.06-2.06.94z\"/><path d=\"M17.41 7.96l-1.37-1.37c-.4-.4-.92-.59-1.43-.59-.52 0-1.04.2-1.43.59L10.3 9.45l-7.72 7.72c-.78.78-.78 2.05 0 2.83L4 21.41c.39.39.9.59 1.41.59.51 0 1.02-.2 1.41-.59l7.78-7.78 2.81-2.81c.8-.78.8-2.07 0-2.86zM5.41 20L4 18.59l7.72-7.72 1.47 1.35L5.41 20z\"/>\n",
              "  </svg>\n",
              "      </button>\n",
              "      \n",
              "  <style>\n",
              "    .colab-df-container {\n",
              "      display:flex;\n",
              "      flex-wrap:wrap;\n",
              "      gap: 12px;\n",
              "    }\n",
              "\n",
              "    .colab-df-convert {\n",
              "      background-color: #E8F0FE;\n",
              "      border: none;\n",
              "      border-radius: 50%;\n",
              "      cursor: pointer;\n",
              "      display: none;\n",
              "      fill: #1967D2;\n",
              "      height: 32px;\n",
              "      padding: 0 0 0 0;\n",
              "      width: 32px;\n",
              "    }\n",
              "\n",
              "    .colab-df-convert:hover {\n",
              "      background-color: #E2EBFA;\n",
              "      box-shadow: 0px 1px 2px rgba(60, 64, 67, 0.3), 0px 1px 3px 1px rgba(60, 64, 67, 0.15);\n",
              "      fill: #174EA6;\n",
              "    }\n",
              "\n",
              "    [theme=dark] .colab-df-convert {\n",
              "      background-color: #3B4455;\n",
              "      fill: #D2E3FC;\n",
              "    }\n",
              "\n",
              "    [theme=dark] .colab-df-convert:hover {\n",
              "      background-color: #434B5C;\n",
              "      box-shadow: 0px 1px 3px 1px rgba(0, 0, 0, 0.15);\n",
              "      filter: drop-shadow(0px 1px 2px rgba(0, 0, 0, 0.3));\n",
              "      fill: #FFFFFF;\n",
              "    }\n",
              "  </style>\n",
              "\n",
              "      <script>\n",
              "        const buttonEl =\n",
              "          document.querySelector('#df-856d091b-449b-4a41-b8b0-2b15f26c0d04 button.colab-df-convert');\n",
              "        buttonEl.style.display =\n",
              "          google.colab.kernel.accessAllowed ? 'block' : 'none';\n",
              "\n",
              "        async function convertToInteractive(key) {\n",
              "          const element = document.querySelector('#df-856d091b-449b-4a41-b8b0-2b15f26c0d04');\n",
              "          const dataTable =\n",
              "            await google.colab.kernel.invokeFunction('convertToInteractive',\n",
              "                                                     [key], {});\n",
              "          if (!dataTable) return;\n",
              "\n",
              "          const docLinkHtml = 'Like what you see? Visit the ' +\n",
              "            '<a target=\"_blank\" href=https://colab.research.google.com/notebooks/data_table.ipynb>data table notebook</a>'\n",
              "            + ' to learn more about interactive tables.';\n",
              "          element.innerHTML = '';\n",
              "          dataTable['output_type'] = 'display_data';\n",
              "          await google.colab.output.renderOutput(dataTable, element);\n",
              "          const docLink = document.createElement('div');\n",
              "          docLink.innerHTML = docLinkHtml;\n",
              "          element.appendChild(docLink);\n",
              "        }\n",
              "      </script>\n",
              "    </div>\n",
              "  </div>\n",
              "  "
            ]
          },
          "metadata": {},
          "execution_count": 103
        }
      ],
      "source": [
        "df_results"
      ]
    },
    {
      "cell_type": "code",
      "execution_count": null,
      "metadata": {
        "id": "VaBilGc3-SEK"
      },
      "outputs": [],
      "source": [
        "custom_palette = [sns.xkcd_rgb[\"windows blue\"], sns.xkcd_rgb[\"pale red\"], sns.xkcd_rgb[\"medium green\"], \"orange\", \"blue\",\"yellow\", \"purple\", \"deeppink\", \"brown\", \"teal\", \"black\"] \n",
        "sns.set_palette(custom_palette)"
      ]
    },
    {
      "cell_type": "code",
      "execution_count": null,
      "metadata": {
        "colab": {
          "base_uri": "https://localhost:8080/",
          "height": 441
        },
        "id": "LthuQCmk-TWK",
        "outputId": "afd96efc-c1d6-4a9e-ac75-254422c4d3ba"
      },
      "outputs": [
        {
          "output_type": "display_data",
          "data": {
            "text/plain": [
              "<Figure size 1152x432 with 3 Axes>"
            ],
            "image/png": "[encoded data removed]"
          },
          "metadata": {
            "needs_background": "light"
          }
        }
      ],
      "source": [
        "df_graph = df_results.transpose()\n",
        "fig, axs = plt.subplots(1, 3, figsize=(16, 6))\n",
        "ax0 = sns.barplot(x=df_graph.index, y=df_graph[\"Jaccard score\"].values, data=df_graph, ax=axs[0], palette = custom_palette)\n",
        "ax1 = sns.barplot(x=df_graph.index, y=df_graph[\"F1 score\"].values, data=df_graph, ax=axs[1], palette = custom_palette)\n",
        "ax2 = sns.barplot(x=df_graph.index, y=df_graph[\"Precision\"].values, data=df_graph, ax=axs[2], palette = custom_palette)\n",
        "ax0.set_xticklabels(ax1.get_xticklabels(),rotation=30)\n",
        "ax0.set_title('Efficacité des modèles pour la prédiction des Tags')\n",
        "ax0.set_ylabel('Jaccard score')\n",
        "ax0.set(ylim=(0, 1))\n",
        "ax1.set_xticklabels(ax1.get_xticklabels(),rotation=30)\n",
        "ax1.set_title('Efficacité des modèles pour la prédiction des Tags')\n",
        "ax1.set_ylabel('F1 score')\n",
        "ax1.set(ylim=(0, 1))\n",
        "ax2.set_xticklabels(ax2.get_xticklabels(),rotation=30)\n",
        "ax2.set_title('Efficacité des modèles pour la prédiction des Tags')\n",
        "ax2.set_ylabel('Précision')\n",
        "ax2.set(ylim=(0, 1))\n",
        "\n",
        "plt.tight_layout()\n",
        "#fig.savefig(\"Performance modèles BOW\", dpi=400)"
      ]
    },
    {
      "cell_type": "markdown",
      "source": [
        "Confusion matrix pour quelques post d'exemple"
      ],
      "metadata": {
        "id": "c5Aw311SAgqs"
      }
    },
    {
      "cell_type": "code",
      "source": [
        "y_pred_nb = model_nb.predict(X_test_Sparse)\n",
        "y_pred_svm = model_svm.predict(X_test_Sparse)\n",
        "y_pred_rf = model_rf.predict(X_test_Sparse)"
      ],
      "metadata": {
        "id": "cV8g9RL9Cyiu"
      },
      "execution_count": null,
      "outputs": []
    },
    {
      "cell_type": "code",
      "source": [
        "fig, axs = plt.subplots(3, 3, figsize=(20, 10))\n",
        "\n",
        "conf_matrix_NB_01 = tf.math.confusion_matrix(labels=Y_test_bin[0], predictions=y_pred_nb[0])\n",
        "conf_matrix_NB_02 = tf.math.confusion_matrix(labels=Y_test_bin[100], predictions=y_pred_nb[100])\n",
        "conf_matrix_NB_03 = tf.math.confusion_matrix(labels=Y_test_bin[1000], predictions=y_pred_nb[1000])\n",
        "\n",
        "conf_matrix_SVM_01 = tf.math.confusion_matrix(labels=Y_test_bin[0], predictions=y_pred_svm[0])\n",
        "conf_matrix_SVM_02 = tf.math.confusion_matrix(labels=Y_test_bin[100], predictions=y_pred_svm[100])\n",
        "conf_matrix_SVM_03 = tf.math.confusion_matrix(labels=Y_test_bin[1000], predictions=y_pred_svm[1000])\n",
        "\n",
        "conf_matrix_RF_01 = tf.math.confusion_matrix(labels=Y_test_bin[0], predictions=y_pred_rf[0])\n",
        "conf_matrix_RF_02 = tf.math.confusion_matrix(labels=Y_test_bin[100], predictions=y_pred_rf[100])\n",
        "conf_matrix_RF_03 = tf.math.confusion_matrix(labels=Y_test_bin[1000], predictions=y_pred_rf[1000])\n",
        "\n",
        "ax_nb_01 = sns.heatmap(conf_matrix_NB_01, annot = True, fmt='d', ax=axs[0,0])\n",
        "ax_nb_01.set_title('Confusion matrix Naive Bayes')\n",
        "ax_nb_01.set_ylabel('Example n°1')\n",
        "ax_svm_01 = sns.heatmap(conf_matrix_SVM_01, annot = True, fmt='d', ax=axs[0,1])\n",
        "ax_svm_01.set_title('Confusion matrix SVM')\n",
        "ax_rf_01 = sns.heatmap(conf_matrix_RF_01, annot = True, fmt='d', ax=axs[0,2])\n",
        "ax_rf_01.set_title('Confusion matrix Random Forest')\n",
        "\n",
        "ax_nb_02 = sns.heatmap(conf_matrix_NB_02, annot = True, fmt='d', ax=axs[1,0])\n",
        "ax_nb_02.set_ylabel('Example n°2')\n",
        "ax_svm_02 = sns.heatmap(conf_matrix_SVM_02, annot = True, fmt='d', ax=axs[1,1])\n",
        "ax_rf_02 = sns.heatmap(conf_matrix_RF_02, annot = True, fmt='d', ax=axs[1,2])\n",
        "\n",
        "ax_nb_03 = sns.heatmap(conf_matrix_NB_03, annot = True, fmt='d', ax=axs[2,0])\n",
        "ax_nb_03.set_ylabel('Example n°3')\n",
        "ax_svm_03 = sns.heatmap(conf_matrix_SVM_03, annot = True, fmt='d', ax=axs[2,1])\n",
        "ax_rf_03 = sns.heatmap(conf_matrix_RF_03, annot = True, fmt='d', ax=axs[2,2])\n",
        "\n",
        "#plt.tight_layout()\n",
        "\n",
        "plt.subplots_adjust(left=0.125, bottom=0.1, right=0.9, top=0.9, wspace=0.2, hspace=0.35)\n",
        "\n",
        "#fig.savefig(\"Confusion matrix supervised\", dpi=400)"
      ],
      "metadata": {
        "colab": {
          "base_uri": "https://localhost:8080/",
          "height": 640
        },
        "id": "saSPZIKRA2eu",
        "outputId": "ddd1aab6-e60b-4889-d81d-f1139efac1e2"
      },
      "execution_count": 183,
      "outputs": [
        {
          "output_type": "display_data",
          "data": {
            "text/plain": [
              "<Figure size 1440x720 with 18 Axes>"
            ],
            "image/png": "[encoded data removed]"
          },
          "metadata": {
            "needs_background": "light"
          }
        }
      ]
    },
    {
      "cell_type": "markdown",
      "metadata": {
        "id": "j43UClTR8UrK"
      },
      "source": [
        "# Analyse de l'intérêt d'autres méthodes d'extraction de features (Approches *Word/Sentence Embedding*)"
      ]
    },
    {
      "cell_type": "markdown",
      "metadata": {
        "id": "0sJ33IAJ2Cnq"
      },
      "source": [
        "### Word2Vec"
      ]
    },
    {
      "cell_type": "code",
      "execution_count": null,
      "metadata": {
        "colab": {
          "base_uri": "https://localhost:8080/",
          "height": 35
        },
        "id": "W6eJjN9g5z4O",
        "outputId": "55254f08-f5b3-479d-b63c-a9048e7b29a2"
      },
      "outputs": [
        {
          "data": {
            "application/vnd.google.colaboratory.intrinsic+json": {
              "type": "string"
            },
            "text/plain": [
              "'3.6.0'"
            ]
          },
          "execution_count": 140,
          "metadata": {},
          "output_type": "execute_result"
        }
      ],
      "source": [
        "gensim.__version__"
      ]
    },
    {
      "cell_type": "code",
      "execution_count": null,
      "metadata": {
        "id": "WnrotvZp2YHS"
      },
      "outputs": [],
      "source": [
        "w2v_size=300\n",
        "w2v_window=5\n",
        "w2v_min_count=1\n",
        "w2v_epochs=100\n",
        "maxlen = 50 # adapt to length of sentences\n",
        "sentences = df_Title_Body[\"Title_and_Body_Clean\"].to_list()\n",
        "sentences = [gensim.utils.simple_preprocess(text) for text in sentences]"
      ]
    },
    {
      "cell_type": "code",
      "execution_count": null,
      "metadata": {
        "colab": {
          "base_uri": "https://localhost:8080/"
        },
        "id": "TpCM3Rxs29ye",
        "outputId": "ac243aa0-9662-4b84-f158-cce09ba54480"
      },
      "outputs": [
        {
          "name": "stdout",
          "output_type": "stream",
          "text": [
            "Build & train Word2Vec model ...\n",
            "Vocabulary size: 9389\n",
            "Word2Vec trained\n"
          ]
        }
      ],
      "source": [
        "# Création et entraînement du modèle Word2Vec\n",
        "\n",
        "print(\"Build & train Word2Vec model ...\")\n",
        "w2v_model = gensim.models.Word2Vec(min_count=w2v_min_count, window=w2v_window, size=w2v_size, seed=42, workers=1)\n",
        "w2v_model.build_vocab(sentences)\n",
        "w2v_model.train(sentences, total_examples=w2v_model.corpus_count, epochs=w2v_epochs)\n",
        "model_vectors = w2v_model.wv\n",
        "w2v_words = model_vectors.index2word\n",
        "print(\"Vocabulary size: %i\" % len(w2v_words))\n",
        "print(\"Word2Vec trained\")"
      ]
    },
    {
      "cell_type": "code",
      "execution_count": null,
      "metadata": {
        "colab": {
          "base_uri": "https://localhost:8080/"
        },
        "id": "ci_uOhbr_T-O",
        "outputId": "8a4306cd-2f28-4237-ff35-a67dea45e069"
      },
      "outputs": [
        {
          "name": "stdout",
          "output_type": "stream",
          "text": [
            "Fit Tokenizer ...\n",
            "Number of unique words: 9390\n"
          ]
        }
      ],
      "source": [
        "# Préparation des sentences (tokenization)\n",
        "\n",
        "print(\"Fit Tokenizer ...\")\n",
        "tokenizer = Tokenizer()\n",
        "tokenizer.fit_on_texts(sentences)\n",
        "x_sentences = pad_sequences(tokenizer.texts_to_sequences(sentences), maxlen=maxlen, padding='post')                                         \n",
        "num_words = len(tokenizer.word_index) + 1\n",
        "print(\"Number of unique words: %i\" % num_words)"
      ]
    },
    {
      "cell_type": "code",
      "execution_count": null,
      "metadata": {
        "id": "lRX51lAMDM8L"
      },
      "outputs": [],
      "source": [
        "tokenizer.word_index"
      ]
    },
    {
      "cell_type": "markdown",
      "metadata": {
        "id": "g-d-9R3B1AQ6"
      },
      "source": [
        "### Création de la matrice d'embedding"
      ]
    },
    {
      "cell_type": "code",
      "execution_count": null,
      "metadata": {
        "colab": {
          "base_uri": "https://localhost:8080/"
        },
        "id": "7P3L8dB01AQ7",
        "outputId": "7a4ceb26-c735-4b85-ed69-cf93452b2dcb"
      },
      "outputs": [
        {
          "name": "stdout",
          "output_type": "stream",
          "text": [
            "Create Embedding matrix ...\n",
            "Word embedding rate :  1.0\n",
            "Embedding matrix: (9390, 300)\n"
          ]
        }
      ],
      "source": [
        "# Création de la matrice d'embedding\n",
        "\n",
        "print(\"Create Embedding matrix ...\")\n",
        "w2v_size = 300\n",
        "word_index = tokenizer.word_index\n",
        "vocab_size = len(word_index) + 1\n",
        "embedding_matrix = np.zeros((vocab_size, w2v_size))\n",
        "i=0\n",
        "j=0\n",
        "    \n",
        "for word, idx in word_index.items():\n",
        "    i +=1\n",
        "    if word in w2v_words:\n",
        "        j +=1\n",
        "        embedding_vector = model_vectors[word]\n",
        "        if embedding_vector is not None:\n",
        "            embedding_matrix[idx] = model_vectors[word]\n",
        "            \n",
        "word_rate = np.round(j/i,4)\n",
        "print(\"Word embedding rate : \", word_rate)\n",
        "print(\"Embedding matrix: %s\" % str(embedding_matrix.shape))"
      ]
    },
    {
      "cell_type": "markdown",
      "metadata": {
        "id": "nsPiSYyN1AQ7"
      },
      "source": [
        "### Création du modèle d'embedding"
      ]
    },
    {
      "cell_type": "code",
      "execution_count": null,
      "metadata": {
        "colab": {
          "base_uri": "https://localhost:8080/"
        },
        "id": "Alphtrsm1AQ7",
        "outputId": "5c77ed8a-99e5-4169-b0a5-585fa0cb5ac4"
      },
      "outputs": [
        {
          "name": "stdout",
          "output_type": "stream",
          "text": [
            "Model: \"model\"\n",
            "_________________________________________________________________\n",
            " Layer (type)                Output Shape              Param #   \n",
            "=================================================================\n",
            " input_2 (InputLayer)        [(None, 50)]              0         \n",
            "                                                                 \n",
            " embedding (Embedding)       (None, 50, 300)           2817000   \n",
            "                                                                 \n",
            " global_average_pooling1d (G  (None, 300)              0         \n",
            " lobalAveragePooling1D)                                          \n",
            "                                                                 \n",
            "=================================================================\n",
            "Total params: 2,817,000\n",
            "Trainable params: 2,817,000\n",
            "Non-trainable params: 0\n",
            "_________________________________________________________________\n"
          ]
        }
      ],
      "source": [
        "# Création du modèle\n",
        "\n",
        "input=Input(shape=(len(x_sentences),maxlen),dtype='float64')\n",
        "word_input=Input(shape=(maxlen,),dtype='float64')  \n",
        "word_embedding=Embedding(input_dim=vocab_size, output_dim=w2v_size, weights = [embedding_matrix], input_length=maxlen)(word_input)\n",
        "word_vec=GlobalAveragePooling1D()(word_embedding)  \n",
        "embed_model = Model([word_input],word_vec)\n",
        "\n",
        "embed_model.summary()"
      ]
    },
    {
      "cell_type": "markdown",
      "metadata": {
        "id": "8FfRUUel1AQ7"
      },
      "source": [
        "### Exécution du modèle"
      ]
    },
    {
      "cell_type": "code",
      "execution_count": null,
      "metadata": {
        "colab": {
          "base_uri": "https://localhost:8080/"
        },
        "id": "mVLOHA9N1AQ8",
        "outputId": "da657b9b-90ad-4dcd-db60-a8b3ed3472bb"
      },
      "outputs": [
        {
          "data": {
            "text/plain": [
              "(1000, 300)"
            ]
          },
          "execution_count": 158,
          "metadata": {},
          "output_type": "execute_result"
        }
      ],
      "source": [
        "embeddings = embed_model.predict(x_sentences)\n",
        "embeddings.shape"
      ]
    },
    {
      "cell_type": "markdown",
      "metadata": {
        "id": "hURtzwLhfqT3"
      },
      "source": [
        "### BERT"
      ]
    },
    {
      "cell_type": "markdown",
      "metadata": {
        "id": "fNu8yv1i8uMv"
      },
      "source": [
        "Préparation du text pour extraction avec méthodes deep learning (fonctions OCR)"
      ]
    },
    {
      "cell_type": "code",
      "execution_count": null,
      "metadata": {
        "id": "Azt9VRrK8g7b"
      },
      "outputs": [],
      "source": [
        "def tokenizer_fct(sentence) :\n",
        "    # print(sentence)\n",
        "    sentence_clean = sentence.replace('-', ' ').replace('+', ' ').replace('/', ' ').replace('#', ' ')\n",
        "    word_tokens = word_tokenize(sentence_clean)\n",
        "    return word_tokens\n",
        "\n",
        "# Stop words\n",
        "stop_w = list(set(stopwords.words('english'))) + ['[', ']', ',', '.', ':', '?', '(', ')']\n",
        "\n",
        "def stop_word_filter_fct(list_words) :\n",
        "    filtered_w = [w for w in list_words if not w in stop_w]\n",
        "    filtered_w2 = [w for w in filtered_w if len(w) > 2]\n",
        "    return filtered_w2\n",
        "\n",
        "# lower case et alpha\n",
        "def lower_start_fct(list_words) :\n",
        "    lw = [w.lower() for w in list_words if (not w.startswith(\"@\")) \n",
        "    #                                   and (not w.startswith(\"#\"))\n",
        "                                       and (not w.startswith(\"http\"))]\n",
        "    return lw\n",
        "\n",
        "# Fonction de préparation du texte pour le Deep learning (USE et BERT)\n",
        "def transform_dl_fct(desc_text) :\n",
        "    word_tokens = tokenizer_fct(desc_text)\n",
        "#    sw = stop_word_filter_fct(word_tokens)\n",
        "    lw = lower_start_fct(word_tokens)\n",
        "    # lem_w = lemma_fct(lw)    \n",
        "    transf_desc_text = ' '.join(lw)\n",
        "    return transf_desc_text"
      ]
    },
    {
      "cell_type": "code",
      "execution_count": null,
      "metadata": {
        "colab": {
          "base_uri": "https://localhost:8080/"
        },
        "id": "RLvrbKlJ8tnE",
        "outputId": "1e1fdcfd-011f-4ff2-962b-b33330be1d3e"
      },
      "outputs": [
        {
          "data": {
            "text/plain": [
              "(10000, 11)"
            ]
          },
          "execution_count": 13,
          "metadata": {},
          "output_type": "execute_result"
        }
      ],
      "source": [
        "df_Title_Body['Document_DL'] = df_Title_Body['Document'].apply(lambda x : transform_dl_fct(x))\n",
        "df_Title_Body.shape"
      ]
    },
    {
      "cell_type": "code",
      "execution_count": null,
      "metadata": {
        "id": "9_XrzPR7fd4N"
      },
      "outputs": [],
      "source": [
        "# Fonction de préparation des sentences\n",
        "def bert_inp_fct(sentences, bert_tokenizer, max_length) :\n",
        "    input_ids=[]\n",
        "    token_type_ids = []\n",
        "    attention_mask=[]\n",
        "    bert_inp_tot = []\n",
        "\n",
        "    for sent in sentences:\n",
        "        bert_inp = bert_tokenizer.encode_plus(sent,\n",
        "                                              add_special_tokens = True,\n",
        "                                              max_length = max_length,\n",
        "                                              padding='max_length',\n",
        "                                              return_attention_mask = True, \n",
        "                                              return_token_type_ids=True,\n",
        "                                              truncation=True,\n",
        "                                              return_tensors=\"tf\")\n",
        "    \n",
        "        input_ids.append(bert_inp['input_ids'][0])\n",
        "        token_type_ids.append(bert_inp['token_type_ids'][0])\n",
        "        attention_mask.append(bert_inp['attention_mask'][0])\n",
        "        bert_inp_tot.append((bert_inp['input_ids'][0], \n",
        "                             bert_inp['token_type_ids'][0], \n",
        "                             bert_inp['attention_mask'][0]))\n",
        "\n",
        "    input_ids = np.asarray(input_ids)\n",
        "    token_type_ids = np.asarray(token_type_ids)\n",
        "    attention_mask = np.array(attention_mask)\n",
        "    \n",
        "    return input_ids, token_type_ids, attention_mask, bert_inp_tot\n",
        "    \n",
        "\n",
        "# Fonction de création des features\n",
        "def feature_BERT_fct(model, model_type, sentences, max_length, b_size, mode='HF') :\n",
        "    batch_size = b_size\n",
        "    batch_size_pred = b_size\n",
        "    bert_tokenizer = transformers.AutoTokenizer.from_pretrained(model_type)\n",
        "    time1 = time.time()\n",
        "\n",
        "    for step in range(len(sentences)//batch_size) :\n",
        "        idx = step*batch_size\n",
        "        input_ids, token_type_ids, attention_mask, bert_inp_tot = bert_inp_fct(sentences[idx:idx+batch_size], \n",
        "                                                                      bert_tokenizer, max_length)\n",
        "        \n",
        "        if mode=='HF' :    # Bert HuggingFace\n",
        "            outputs = model.predict([input_ids, attention_mask, token_type_ids], batch_size=batch_size_pred)\n",
        "            last_hidden_states = outputs.last_hidden_state\n",
        "\n",
        "        if mode=='TFhub' : # Bert Tensorflow Hub\n",
        "            text_preprocessed = {\"input_word_ids\" : input_ids, \n",
        "                                 \"input_mask\" : attention_mask, \n",
        "                                 \"input_type_ids\" : token_type_ids}\n",
        "            outputs = model(text_preprocessed)\n",
        "            last_hidden_states = outputs['sequence_output']\n",
        "             \n",
        "        if step ==0 :\n",
        "            last_hidden_states_tot = last_hidden_states\n",
        "            last_hidden_states_tot_0 = last_hidden_states\n",
        "        else :\n",
        "            last_hidden_states_tot = np.concatenate((last_hidden_states_tot,last_hidden_states))\n",
        "    \n",
        "    features_bert = np.array(last_hidden_states_tot).mean(axis=1)\n",
        "    \n",
        "    time2 = np.round(time.time() - time1,0)\n",
        "    print(\"temps traitement : \", time2)\n",
        "     \n",
        "    return features_bert, last_hidden_states_tot"
      ]
    },
    {
      "cell_type": "code",
      "execution_count": null,
      "metadata": {
        "colab": {
          "base_uri": "https://localhost:8080/"
        },
        "id": "QIF27u1UnFPJ",
        "outputId": "3a02f21c-901c-4602-c266-811d1e86ec26"
      },
      "outputs": [
        {
          "name": "stderr",
          "output_type": "stream",
          "text": [
            "Some layers from the model checkpoint at bert-base-uncased were not used when initializing TFBertModel: ['nsp___cls', 'mlm___cls']\n",
            "- This IS expected if you are initializing TFBertModel from the checkpoint of a model trained on another task or with another architecture (e.g. initializing a BertForSequenceClassification model from a BertForPreTraining model).\n",
            "- This IS NOT expected if you are initializing TFBertModel from the checkpoint of a model that you expect to be exactly identical (initializing a BertForSequenceClassification model from a BertForSequenceClassification model).\n",
            "All the layers of TFBertModel were initialized from the model checkpoint at bert-base-uncased.\n",
            "If your task is similar to the task the model of the checkpoint was trained on, you can already use TFBertModel for predictions without further training.\n"
          ]
        }
      ],
      "source": [
        "max_length = 16\n",
        "batch_size = 1000\n",
        "model_type = 'bert-base-uncased'\n",
        "model = transformers.TFAutoModel.from_pretrained(model_type)\n",
        "sentences = df_Title_Body['Document_DL'].to_list()"
      ]
    },
    {
      "cell_type": "code",
      "execution_count": null,
      "metadata": {
        "colab": {
          "base_uri": "https://localhost:8080/",
          "referenced_widgets": [
            "333056e3278e433d9384fb8ad44e2706",
            "8082bbc757e147d78fed701494ad96a4",
            "e7c7b96ebb00408ab70072822e75b64e"
          ]
        },
        "id": "OM2wPgxznhG0",
        "outputId": "c581f8e3-520d-4ed2-eaec-80d14a0b3073"
      },
      "outputs": [
        {
          "data": {
            "application/vnd.jupyter.widget-view+json": {
              "model_id": "333056e3278e433d9384fb8ad44e2706",
              "version_major": 2,
              "version_minor": 0
            },
            "text/plain": [
              "Downloading:   0%|          | 0.00/28.0 [00:00<?, ?B/s]"
            ]
          },
          "metadata": {},
          "output_type": "display_data"
        },
        {
          "data": {
            "application/vnd.jupyter.widget-view+json": {
              "model_id": "8082bbc757e147d78fed701494ad96a4",
              "version_major": 2,
              "version_minor": 0
            },
            "text/plain": [
              "Downloading:   0%|          | 0.00/226k [00:00<?, ?B/s]"
            ]
          },
          "metadata": {},
          "output_type": "display_data"
        },
        {
          "data": {
            "application/vnd.jupyter.widget-view+json": {
              "model_id": "e7c7b96ebb00408ab70072822e75b64e",
              "version_major": 2,
              "version_minor": 0
            },
            "text/plain": [
              "Downloading:   0%|          | 0.00/455k [00:00<?, ?B/s]"
            ]
          },
          "metadata": {},
          "output_type": "display_data"
        },
        {
          "name": "stdout",
          "output_type": "stream",
          "text": [
            "temps traitement :  59.0\n"
          ]
        }
      ],
      "source": [
        "# Création des features BERT\n",
        "features_bert, last_hidden_states_tot = feature_BERT_fct(model, model_type, sentences, max_length, batch_size, mode='HF')"
      ]
    },
    {
      "cell_type": "markdown",
      "metadata": {
        "id": "vh_O6k3Kpnhv"
      },
      "source": [
        "Fonctions OCR pour évaluation du modèle et représentation (ARI + TSNE)"
      ]
    },
    {
      "cell_type": "code",
      "execution_count": null,
      "metadata": {
        "id": "sa9T8MgF2tnx"
      },
      "outputs": [],
      "source": [
        "l_cat = list(set(df_Title_Body['Tags']))\n",
        "print(\"catégories : \", l_cat)\n",
        "y_cat_num = [(1-l_cat.index(df_Title_Body.iloc[i]['Tags'])) for i in range(len(df_Title_Body))]"
      ]
    },
    {
      "cell_type": "code",
      "execution_count": null,
      "metadata": {
        "id": "m8Y-jrNFpl4_"
      },
      "outputs": [],
      "source": [
        "# Calcul Tsne, détermination des clusters et calcul ARI entre vrais catégorie et n° de clusters\n",
        "def ARI_fct(features) :\n",
        "    time1 = time.time()\n",
        "    #num_labels=50\n",
        "    num_labels=len(l_cat)\n",
        "    tsne = manifold.TSNE(n_components=2, perplexity=30, n_iter=250, \n",
        "                                 init='random', learning_rate=200, random_state=7)\n",
        "    X_tsne = tsne.fit_transform(features)\n",
        "    \n",
        "    # Détermination des clusters à partir des données après Tsne \n",
        "    cls = cluster.KMeans(n_clusters=num_labels, n_init=100, random_state=7)\n",
        "    cls.fit(X_tsne)\n",
        "    ARI = np.round(metrics.adjusted_rand_score(y_cat_num, cls.labels_),4)\n",
        "    time2 = np.round(time.time() - time1,0)\n",
        "    print(\"ARI : \", ARI, \"time : \", time2)\n",
        "    \n",
        "    return ARI, X_tsne, cls.labels_\n",
        "\n",
        "\n",
        "# visualisation du Tsne selon les vraies catégories et selon les clusters\n",
        "def TSNE_visu_fct(X_tsne, y_cat_num, labels, ARI) :\n",
        "    fig = plt.figure(figsize=(15,6))\n",
        "    \n",
        "    ax = fig.add_subplot(121)\n",
        "    scatter = ax.scatter(X_tsne[:,0],X_tsne[:,1], c=y_cat_num, cmap='Set1')\n",
        "    ax.legend(handles=scatter.legend_elements()[0], labels=l_cat, loc=\"best\", title=\"Categorie\")\n",
        "    plt.title('Représentation des tweets par catégories réelles')\n",
        "    \n",
        "    ax = fig.add_subplot(122)\n",
        "    scatter = ax.scatter(X_tsne[:,0],X_tsne[:,1], c=labels, cmap='Set1')\n",
        "    ax.legend(handles=scatter.legend_elements()[0], labels=set(labels), loc=\"best\", title=\"Clusters\")\n",
        "    plt.title('Représentation des tweets par clusters')\n",
        "    \n",
        "    plt.show()\n",
        "    print(\"ARI : \", ARI)"
      ]
    },
    {
      "cell_type": "code",
      "execution_count": null,
      "metadata": {
        "colab": {
          "base_uri": "https://localhost:8080/"
        },
        "id": "OZjriAbIqjP2",
        "outputId": "f8db3a87-ea8f-4461-a552-2e301a887c52"
      },
      "outputs": [
        {
          "name": "stdout",
          "output_type": "stream",
          "text": [
            "ARI :  -0.0009 time :  212.0\n"
          ]
        }
      ],
      "source": [
        "ARI, X_tsne, labels = ARI_fct(features_bert)"
      ]
    },
    {
      "cell_type": "code",
      "execution_count": null,
      "metadata": {
        "colab": {
          "base_uri": "https://localhost:8080/"
        },
        "id": "0xUQM1WYqh77",
        "outputId": "4fb9b0a3-4979-445a-ae8e-979588a2a830"
      },
      "outputs": [
        {
          "data": {
            "image/png": "[encoded data removed]",
            "text/plain": [
              "<Figure size 1080x432 with 2 Axes>"
            ]
          },
          "metadata": {},
          "output_type": "display_data"
        },
        {
          "name": "stdout",
          "output_type": "stream",
          "text": [
            "ARI :  -0.0009\n"
          ]
        }
      ],
      "source": [
        "TSNE_visu_fct(X_tsne, y_cat_num, labels, ARI)"
      ]
    },
    {
      "cell_type": "markdown",
      "metadata": {
        "id": "psiojOQEfvdy"
      },
      "source": [
        "### USE"
      ]
    },
    {
      "cell_type": "markdown",
      "metadata": {
        "id": "jog3xil4qOM0"
      },
      "source": [
        "Fonction d'extraction des features avec USE"
      ]
    },
    {
      "cell_type": "code",
      "execution_count": null,
      "metadata": {
        "colab": {
          "background_save": true
        },
        "id": "kxpEqchPqFjg"
      },
      "outputs": [],
      "source": [
        "def feature_USE_fct(sentences, b_size) :\n",
        "    batch_size = b_size\n",
        "    time1 = time.time()\n",
        "\n",
        "    for step in range(len(sentences)//batch_size) :\n",
        "        idx = step*batch_size\n",
        "        feat = embed(sentences[idx:idx+batch_size])\n",
        "\n",
        "        if step ==0 :\n",
        "            features = feat\n",
        "        else :\n",
        "            features = np.concatenate((features,feat))\n",
        "\n",
        "    time2 = np.round(time.time() - time1,0)\n",
        "    return features"
      ]
    },
    {
      "cell_type": "code",
      "execution_count": null,
      "metadata": {
        "id": "UKzn6HWoqUO7"
      },
      "outputs": [],
      "source": [
        "batch_size = 10\n",
        "sentences = df_Title_Body['Document_DL'].to_list()"
      ]
    },
    {
      "cell_type": "code",
      "execution_count": null,
      "metadata": {
        "id": "fRtsSxHRqZ7u"
      },
      "outputs": [],
      "source": [
        "features_USE = feature_USE_fct(sentences, batch_size)"
      ]
    },
    {
      "cell_type": "code",
      "execution_count": null,
      "metadata": {
        "id": "Mi3Y4_idqbOG"
      },
      "outputs": [],
      "source": [
        "ARI, X_tsne, labels = ARI_fct(features_USE)"
      ]
    },
    {
      "cell_type": "code",
      "execution_count": null,
      "metadata": {
        "id": "dtkYKd42qcWa"
      },
      "outputs": [],
      "source": [
        "TSNE_visu_fct(X_tsne, y_cat_num, labels, ARI)"
      ]
    },
    {
      "cell_type": "markdown",
      "metadata": {
        "id": "UTP67CNyLcB7"
      },
      "source": [
        "# Méthode supervisée OCR MAJ 23 mars"
      ]
    },
    {
      "cell_type": "markdown",
      "metadata": {
        "id": "xQjyrMW1LgKp"
      },
      "source": [
        "préparation des données pour l'extraction pour les modélisations avec les différentes méthodes"
      ]
    },
    {
      "cell_type": "code",
      "execution_count": null,
      "metadata": {
        "id": "haaXjzz3LfUp"
      },
      "outputs": [],
      "source": [
        "# Tokenizer\n",
        "import nltk\n",
        "from nltk.tokenize import sent_tokenize, word_tokenize\n",
        "\n",
        "def tokenizer_fct(sentence) :\n",
        "    # print(sentence)\n",
        "    sentence_clean = sentence.replace('-', ' ').replace('+', ' ').replace('/', ' ').replace('#', ' ')\n",
        "    word_tokens = word_tokenize(sentence_clean)\n",
        "    return word_tokens\n",
        "\n",
        "# Stop words\n",
        "from nltk.corpus import stopwords\n",
        "stop_w = list(set(stopwords.words('english'))) + ['[', ']', ',', '.', ':', '?', '(', ')']\n",
        "\n",
        "def stop_word_filter_fct(list_words) :\n",
        "    filtered_w = [w for w in list_words if not w in stop_w]\n",
        "    filtered_w2 = [w for w in filtered_w if len(w) > 2]\n",
        "    return filtered_w2\n",
        "\n",
        "# lower case et alpha\n",
        "def lower_start_fct(list_words) :\n",
        "    lw = [w.lower() for w in list_words if (not w.startswith(\"@\")) \n",
        "    #                                   and (not w.startswith(\"#\"))\n",
        "                                       and (not w.startswith(\"http\"))]\n",
        "    return lw\n",
        "\n",
        "# Lemmatizer (base d'un mot)\n",
        "from nltk.stem import WordNetLemmatizer\n",
        "\n",
        "def lemma_fct(list_words) :\n",
        "    lemmatizer = WordNetLemmatizer()\n",
        "    lem_w = [lemmatizer.lemmatize(w) for w in list_words]\n",
        "    return lem_w\n",
        "\n",
        "# Fonction de préparation du texte pour le bag of words (Countvectorizer et Tf_idf, Word2Vec)\n",
        "def transform_bow_fct(desc_text) :\n",
        "    word_tokens = tokenizer_fct(desc_text)\n",
        "    sw = stop_word_filter_fct(word_tokens)\n",
        "    lw = lower_start_fct(sw)\n",
        "    # lem_w = lemma_fct(lw)    \n",
        "    transf_desc_text = ' '.join(lw)\n",
        "    return transf_desc_text\n",
        "\n",
        "# Fonction de préparation du texte pour le bag of words avec lemmatization\n",
        "def transform_bow_lem_fct(desc_text) :\n",
        "    word_tokens = tokenizer_fct(desc_text)\n",
        "    sw = stop_word_filter_fct(word_tokens)\n",
        "    lw = lower_start_fct(sw)\n",
        "    lem_w = lemma_fct(lw)    \n",
        "    transf_desc_text = ' '.join(lem_w)\n",
        "    return transf_desc_text\n",
        "\n",
        "# Fonction de préparation du texte pour le Deep learning (USE et BERT)\n",
        "def transform_dl_fct(desc_text) :\n",
        "    word_tokens = tokenizer_fct(desc_text)\n",
        "#    sw = stop_word_filter_fct(word_tokens)\n",
        "    lw = lower_start_fct(word_tokens)\n",
        "    # lem_w = lemma_fct(lw)    \n",
        "    transf_desc_text = ' '.join(lw)\n",
        "    return transf_desc_text\n",
        "\n",
        "data_T['sentence_bow'] = data_T0['text'].apply(lambda x : transform_bow_fct(x))\n",
        "data_T['sentence_bow_lem'] = data_T0['text'].apply(lambda x : transform_bow_lem_fct(x))\n",
        "data_T['sentence_dl'] = data_T0['text'].apply(lambda x : transform_dl_fct(x))\n",
        "data_T.shape"
      ]
    },
    {
      "cell_type": "markdown",
      "metadata": {
        "id": "rt_Vaupj_lZx"
      },
      "source": [
        "# Conclusion"
      ]
    }
  ],
  "metadata": {
    "accelerator": "GPU",
    "colab": {
      "collapsed_sections": [],
      "name": "P5_02_notebookTest.ipynb",
      "provenance": [],
      "include_colab_link": true
    },
    "kernelspec": {
      "display_name": "Python 3",
      "language": "python",
      "name": "python3"
    },
    "language_info": {
      "codemirror_mode": {
        "name": "ipython",
        "version": 3
      },
      "file_extension": ".py",
      "mimetype": "text/x-python",
      "name": "python",
      "nbconvert_exporter": "python",
      "pygments_lexer": "ipython3",
      "version": "3.8.5"
    }
  },
  "nbformat": 4,
  "nbformat_minor": 0
}