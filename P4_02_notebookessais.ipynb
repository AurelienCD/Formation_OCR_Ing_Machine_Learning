{
  "nbformat": 4,
  "nbformat_minor": 0,
  "metadata": {
    "colab": {
      "name": "P4_02_notebookessais.ipynb",
      "provenance": [],
      "collapsed_sections": [],
      "authorship_tag": "ABX9TyNVqc21fUb+6XJcOH/9GjzQ",
      "include_colab_link": true
    },
    "kernelspec": {
      "name": "python3",
      "display_name": "Python 3"
    },
    "language_info": {
      "name": "python"
    }
  },
  "cells": [
    {
      "cell_type": "markdown",
      "metadata": {
        "id": "view-in-github",
        "colab_type": "text"
      },
      "source": [
        "<a href=\"https://colab.research.google.com/github/AurelienCD/Formation_OCR_Ing_Machine_Learning/blob/main/P4_02_notebookessais.ipynb\" target=\"_parent\"><img src=\"https://colab.research.google.com/assets/colab-badge.svg\" alt=\"Open In Colab\"/></a>"
      ]
    },
    {
      "cell_type": "markdown",
      "source": [
        "Connexion au google drive, déplacement dans le dossier contenant les données nécessaires au projet"
      ],
      "metadata": {
        "id": "RnrPKrEBbjRT"
      }
    },
    {
      "cell_type": "code",
      "source": [
        "from google.colab import drive\n",
        "drive.mount(\"/content/drive\")"
      ],
      "metadata": {
        "colab": {
          "base_uri": "https://localhost:8080/"
        },
        "id": "T5i5CaiYbh0u",
        "outputId": "59b3f60d-784d-4803-d40f-d7f23531033f"
      },
      "execution_count": 1,
      "outputs": [
        {
          "output_type": "stream",
          "name": "stdout",
          "text": [
            "Mounted at /content/drive\n"
          ]
        }
      ]
    },
    {
      "cell_type": "code",
      "source": [
        "%cd drive/MyDrive/Formation_OCR_Ing_Machine_Learning/Projet 4"
      ],
      "metadata": {
        "colab": {
          "base_uri": "https://localhost:8080/"
        },
        "id": "6p4sG_DlbnQ9",
        "outputId": "1a3cd19d-d140-44f7-e5c9-088d8b262c1c"
      },
      "execution_count": 7,
      "outputs": [
        {
          "output_type": "stream",
          "name": "stdout",
          "text": [
            "[Errno 2] No such file or directory: 'drive/MyDrive/Formation_OCR_Ing_Machine_Learning/Projet 4'\n",
            "/content/drive/MyDrive/Formation_OCR_Ing_Machine_Learning/Projet 4\n"
          ]
        }
      ]
    },
    {
      "cell_type": "markdown",
      "source": [
        "Importation des librairies nécessaires au projet"
      ],
      "metadata": {
        "id": "49azK4Wyblv8"
      }
    },
    {
      "cell_type": "code",
      "execution_count": 3,
      "metadata": {
        "colab": {
          "base_uri": "https://localhost:8080/"
        },
        "id": "ZtEiFdwLbZ2A",
        "outputId": "50c51316-9474-4603-d8fb-105ea653aeca"
      },
      "outputs": [
        {
          "output_type": "stream",
          "name": "stderr",
          "text": [
            "/usr/local/lib/python3.7/dist-packages/statsmodels/tools/_testing.py:19: FutureWarning: pandas.util.testing is deprecated. Use the functions in the public API at pandas.testing instead.\n",
            "  import pandas.util.testing as tm\n"
          ]
        }
      ],
      "source": [
        "import pandas as pad \n",
        "import numpy as np\n",
        "from numpy.core.numeric import NaN\n",
        "\n",
        "import datetime\n",
        "\n",
        "import matplotlib.pyplot as plt\n",
        "import seaborn as sns\n",
        "\n",
        "import statistics\n",
        "from scipy import stats\n",
        "from scipy.stats import pearsonr\n",
        "from scipy.stats import ttest_ind\n",
        "from sklearn.preprocessing import StandardScaler\n",
        "from sklearn.decomposition import PCA\n",
        "\n",
        "import statsmodels.api as sm\n",
        "from statsmodels.formula.api import ols\n",
        "import statsmodels.stats.multicomp as multi "
      ]
    },
    {
      "cell_type": "code",
      "source": [
        "df = pad.read_csv('data_projet4_clean.csv', sep='\\t')"
      ],
      "metadata": {
        "id": "0BaSwaGpbt8v"
      },
      "execution_count": 11,
      "outputs": []
    },
    {
      "cell_type": "code",
      "source": [
        "df.set_index('customer_unique_id', inplace=True)"
      ],
      "metadata": {
        "id": "44FnHiyVbzbk"
      },
      "execution_count": 13,
      "outputs": []
    },
    {
      "cell_type": "code",
      "source": [
        "df"
      ],
      "metadata": {
        "colab": {
          "base_uri": "https://localhost:8080/",
          "height": 554
        },
        "id": "IrXlwwlNZvNe",
        "outputId": "ff3fd6f0-ee65-4880-c842-75f975c6e4a4"
      },
      "execution_count": 14,
      "outputs": [
        {
          "output_type": "execute_result",
          "data": {
            "text/html": [
              "\n",
              "  <div id=\"df-0c678946-a1ca-4812-882f-32e4bbb8298f\">\n",
              "    <div class=\"colab-df-container\">\n",
              "      <div>\n",
              "<style scoped>\n",
              "    .dataframe tbody tr th:only-of-type {\n",
              "        vertical-align: middle;\n",
              "    }\n",
              "\n",
              "    .dataframe tbody tr th {\n",
              "        vertical-align: top;\n",
              "    }\n",
              "\n",
              "    .dataframe thead th {\n",
              "        text-align: right;\n",
              "    }\n",
              "</style>\n",
              "<table border=\"1\" class=\"dataframe\">\n",
              "  <thead>\n",
              "    <tr style=\"text-align: right;\">\n",
              "      <th></th>\n",
              "      <th>customer_zip_code_prefix</th>\n",
              "      <th>customer_city</th>\n",
              "      <th>customer_state</th>\n",
              "      <th>payment_type</th>\n",
              "      <th>geolocation_lat</th>\n",
              "      <th>geolocation_lng</th>\n",
              "      <th>review_score_mean</th>\n",
              "      <th>Time_after_last_purchase (days)</th>\n",
              "      <th>nb_of_product</th>\n",
              "      <th>moy_achats</th>\n",
              "      <th>Main_prod_category</th>\n",
              "      <th>Tot_achats</th>\n",
              "    </tr>\n",
              "    <tr>\n",
              "      <th>customer_unique_id</th>\n",
              "      <th></th>\n",
              "      <th></th>\n",
              "      <th></th>\n",
              "      <th></th>\n",
              "      <th></th>\n",
              "      <th></th>\n",
              "      <th></th>\n",
              "      <th></th>\n",
              "      <th></th>\n",
              "      <th></th>\n",
              "      <th></th>\n",
              "      <th></th>\n",
              "    </tr>\n",
              "  </thead>\n",
              "  <tbody>\n",
              "    <tr>\n",
              "      <th>0000366f3b9a7992bf8c76cfdf3221e2</th>\n",
              "      <td>7787</td>\n",
              "      <td>cajamar</td>\n",
              "      <td>SP</td>\n",
              "      <td>credit_card</td>\n",
              "      <td>-23.340235</td>\n",
              "      <td>-46.830140</td>\n",
              "      <td>5.0</td>\n",
              "      <td>160.273507</td>\n",
              "      <td>1</td>\n",
              "      <td>129.90</td>\n",
              "      <td>bed_bath_table</td>\n",
              "      <td>141.90</td>\n",
              "    </tr>\n",
              "    <tr>\n",
              "      <th>0000b849f77a49e4a4ce2b2a4ca5be3f</th>\n",
              "      <td>6053</td>\n",
              "      <td>osasco</td>\n",
              "      <td>SP</td>\n",
              "      <td>credit_card</td>\n",
              "      <td>-23.559115</td>\n",
              "      <td>-46.787626</td>\n",
              "      <td>4.0</td>\n",
              "      <td>163.263090</td>\n",
              "      <td>1</td>\n",
              "      <td>18.90</td>\n",
              "      <td>health_beauty</td>\n",
              "      <td>27.19</td>\n",
              "    </tr>\n",
              "    <tr>\n",
              "      <th>0000f46a3911fa3c0805444483337064</th>\n",
              "      <td>88115</td>\n",
              "      <td>sao jose</td>\n",
              "      <td>SC</td>\n",
              "      <td>credit_card</td>\n",
              "      <td>-27.542880</td>\n",
              "      <td>-48.633426</td>\n",
              "      <td>3.0</td>\n",
              "      <td>585.850868</td>\n",
              "      <td>1</td>\n",
              "      <td>69.00</td>\n",
              "      <td>stationery</td>\n",
              "      <td>86.22</td>\n",
              "    </tr>\n",
              "    <tr>\n",
              "      <th>0000f6ccb0745a6a4b88665a16c9f078</th>\n",
              "      <td>66812</td>\n",
              "      <td>belem</td>\n",
              "      <td>PA</td>\n",
              "      <td>credit_card</td>\n",
              "      <td>-1.312214</td>\n",
              "      <td>-48.483159</td>\n",
              "      <td>4.0</td>\n",
              "      <td>369.875428</td>\n",
              "      <td>1</td>\n",
              "      <td>25.99</td>\n",
              "      <td>telephony</td>\n",
              "      <td>43.62</td>\n",
              "    </tr>\n",
              "    <tr>\n",
              "      <th>0004aac84e0df4da2b147fca70cf8255</th>\n",
              "      <td>18040</td>\n",
              "      <td>sorocaba</td>\n",
              "      <td>SP</td>\n",
              "      <td>credit_card</td>\n",
              "      <td>-23.505548</td>\n",
              "      <td>-47.469705</td>\n",
              "      <td>5.0</td>\n",
              "      <td>336.905972</td>\n",
              "      <td>1</td>\n",
              "      <td>180.00</td>\n",
              "      <td>telephony</td>\n",
              "      <td>196.89</td>\n",
              "    </tr>\n",
              "    <tr>\n",
              "      <th>...</th>\n",
              "      <td>...</td>\n",
              "      <td>...</td>\n",
              "      <td>...</td>\n",
              "      <td>...</td>\n",
              "      <td>...</td>\n",
              "      <td>...</td>\n",
              "      <td>...</td>\n",
              "      <td>...</td>\n",
              "      <td>...</td>\n",
              "      <td>...</td>\n",
              "      <td>...</td>\n",
              "      <td>...</td>\n",
              "    </tr>\n",
              "    <tr>\n",
              "      <th>fffcf5a5ff07b0908bd4e2dbc735a684</th>\n",
              "      <td>55250</td>\n",
              "      <td>sanharo</td>\n",
              "      <td>PE</td>\n",
              "      <td>credit_card</td>\n",
              "      <td>-8.362511</td>\n",
              "      <td>-36.562343</td>\n",
              "      <td>5.0</td>\n",
              "      <td>495.853958</td>\n",
              "      <td>4</td>\n",
              "      <td>1570.00</td>\n",
              "      <td>health_beauty</td>\n",
              "      <td>4134.84</td>\n",
              "    </tr>\n",
              "    <tr>\n",
              "      <th>fffea47cd6d3cc0a88bd621562a9d061</th>\n",
              "      <td>44054</td>\n",
              "      <td>feira de santana</td>\n",
              "      <td>BA</td>\n",
              "      <td>credit_card</td>\n",
              "      <td>-12.217395</td>\n",
              "      <td>-38.959308</td>\n",
              "      <td>4.0</td>\n",
              "      <td>310.890532</td>\n",
              "      <td>1</td>\n",
              "      <td>64.89</td>\n",
              "      <td>baby</td>\n",
              "      <td>84.58</td>\n",
              "    </tr>\n",
              "    <tr>\n",
              "      <th>ffff371b4d645b6ecea244b27531430a</th>\n",
              "      <td>78552</td>\n",
              "      <td>sinop</td>\n",
              "      <td>MT</td>\n",
              "      <td>credit_card</td>\n",
              "      <td>-11.834552</td>\n",
              "      <td>-55.508110</td>\n",
              "      <td>5.0</td>\n",
              "      <td>617.070162</td>\n",
              "      <td>1</td>\n",
              "      <td>89.90</td>\n",
              "      <td>auto</td>\n",
              "      <td>112.46</td>\n",
              "    </tr>\n",
              "    <tr>\n",
              "      <th>ffff5962728ec6157033ef9805bacc48</th>\n",
              "      <td>29460</td>\n",
              "      <td>bom jesus do norte</td>\n",
              "      <td>ES</td>\n",
              "      <td>credit_card</td>\n",
              "      <td>-21.126568</td>\n",
              "      <td>-41.672806</td>\n",
              "      <td>5.0</td>\n",
              "      <td>168.092095</td>\n",
              "      <td>1</td>\n",
              "      <td>115.00</td>\n",
              "      <td>watches_gifts</td>\n",
              "      <td>133.69</td>\n",
              "    </tr>\n",
              "    <tr>\n",
              "      <th>ffffd2657e2aad2907e67c3e9daecbeb</th>\n",
              "      <td>83608</td>\n",
              "      <td>campo largo</td>\n",
              "      <td>PR</td>\n",
              "      <td>credit_card</td>\n",
              "      <td>-25.447504</td>\n",
              "      <td>-49.441283</td>\n",
              "      <td>5.0</td>\n",
              "      <td>532.883021</td>\n",
              "      <td>1</td>\n",
              "      <td>56.99</td>\n",
              "      <td>perfumery</td>\n",
              "      <td>71.56</td>\n",
              "    </tr>\n",
              "  </tbody>\n",
              "</table>\n",
              "<p>97027 rows × 12 columns</p>\n",
              "</div>\n",
              "      <button class=\"colab-df-convert\" onclick=\"convertToInteractive('df-0c678946-a1ca-4812-882f-32e4bbb8298f')\"\n",
              "              title=\"Convert this dataframe to an interactive table.\"\n",
              "              style=\"display:none;\">\n",
              "        \n",
              "  <svg xmlns=\"http://www.w3.org/2000/svg\" height=\"24px\"viewBox=\"0 0 24 24\"\n",
              "       width=\"24px\">\n",
              "    <path d=\"M0 0h24v24H0V0z\" fill=\"none\"/>\n",
              "    <path d=\"M18.56 5.44l.94 2.06.94-2.06 2.06-.94-2.06-.94-.94-2.06-.94 2.06-2.06.94zm-11 1L8.5 8.5l.94-2.06 2.06-.94-2.06-.94L8.5 2.5l-.94 2.06-2.06.94zm10 10l.94 2.06.94-2.06 2.06-.94-2.06-.94-.94-2.06-.94 2.06-2.06.94z\"/><path d=\"M17.41 7.96l-1.37-1.37c-.4-.4-.92-.59-1.43-.59-.52 0-1.04.2-1.43.59L10.3 9.45l-7.72 7.72c-.78.78-.78 2.05 0 2.83L4 21.41c.39.39.9.59 1.41.59.51 0 1.02-.2 1.41-.59l7.78-7.78 2.81-2.81c.8-.78.8-2.07 0-2.86zM5.41 20L4 18.59l7.72-7.72 1.47 1.35L5.41 20z\"/>\n",
              "  </svg>\n",
              "      </button>\n",
              "      \n",
              "  <style>\n",
              "    .colab-df-container {\n",
              "      display:flex;\n",
              "      flex-wrap:wrap;\n",
              "      gap: 12px;\n",
              "    }\n",
              "\n",
              "    .colab-df-convert {\n",
              "      background-color: #E8F0FE;\n",
              "      border: none;\n",
              "      border-radius: 50%;\n",
              "      cursor: pointer;\n",
              "      display: none;\n",
              "      fill: #1967D2;\n",
              "      height: 32px;\n",
              "      padding: 0 0 0 0;\n",
              "      width: 32px;\n",
              "    }\n",
              "\n",
              "    .colab-df-convert:hover {\n",
              "      background-color: #E2EBFA;\n",
              "      box-shadow: 0px 1px 2px rgba(60, 64, 67, 0.3), 0px 1px 3px 1px rgba(60, 64, 67, 0.15);\n",
              "      fill: #174EA6;\n",
              "    }\n",
              "\n",
              "    [theme=dark] .colab-df-convert {\n",
              "      background-color: #3B4455;\n",
              "      fill: #D2E3FC;\n",
              "    }\n",
              "\n",
              "    [theme=dark] .colab-df-convert:hover {\n",
              "      background-color: #434B5C;\n",
              "      box-shadow: 0px 1px 3px 1px rgba(0, 0, 0, 0.15);\n",
              "      filter: drop-shadow(0px 1px 2px rgba(0, 0, 0, 0.3));\n",
              "      fill: #FFFFFF;\n",
              "    }\n",
              "  </style>\n",
              "\n",
              "      <script>\n",
              "        const buttonEl =\n",
              "          document.querySelector('#df-0c678946-a1ca-4812-882f-32e4bbb8298f button.colab-df-convert');\n",
              "        buttonEl.style.display =\n",
              "          google.colab.kernel.accessAllowed ? 'block' : 'none';\n",
              "\n",
              "        async function convertToInteractive(key) {\n",
              "          const element = document.querySelector('#df-0c678946-a1ca-4812-882f-32e4bbb8298f');\n",
              "          const dataTable =\n",
              "            await google.colab.kernel.invokeFunction('convertToInteractive',\n",
              "                                                     [key], {});\n",
              "          if (!dataTable) return;\n",
              "\n",
              "          const docLinkHtml = 'Like what you see? Visit the ' +\n",
              "            '<a target=\"_blank\" href=https://colab.research.google.com/notebooks/data_table.ipynb>data table notebook</a>'\n",
              "            + ' to learn more about interactive tables.';\n",
              "          element.innerHTML = '';\n",
              "          dataTable['output_type'] = 'display_data';\n",
              "          await google.colab.output.renderOutput(dataTable, element);\n",
              "          const docLink = document.createElement('div');\n",
              "          docLink.innerHTML = docLinkHtml;\n",
              "          element.appendChild(docLink);\n",
              "        }\n",
              "      </script>\n",
              "    </div>\n",
              "  </div>\n",
              "  "
            ],
            "text/plain": [
              "                                  customer_zip_code_prefix  ... Tot_achats\n",
              "customer_unique_id                                          ...           \n",
              "0000366f3b9a7992bf8c76cfdf3221e2                      7787  ...     141.90\n",
              "0000b849f77a49e4a4ce2b2a4ca5be3f                      6053  ...      27.19\n",
              "0000f46a3911fa3c0805444483337064                     88115  ...      86.22\n",
              "0000f6ccb0745a6a4b88665a16c9f078                     66812  ...      43.62\n",
              "0004aac84e0df4da2b147fca70cf8255                     18040  ...     196.89\n",
              "...                                                    ...  ...        ...\n",
              "fffcf5a5ff07b0908bd4e2dbc735a684                     55250  ...    4134.84\n",
              "fffea47cd6d3cc0a88bd621562a9d061                     44054  ...      84.58\n",
              "ffff371b4d645b6ecea244b27531430a                     78552  ...     112.46\n",
              "ffff5962728ec6157033ef9805bacc48                     29460  ...     133.69\n",
              "ffffd2657e2aad2907e67c3e9daecbeb                     83608  ...      71.56\n",
              "\n",
              "[97027 rows x 12 columns]"
            ]
          },
          "metadata": {},
          "execution_count": 14
        }
      ]
    },
    {
      "cell_type": "code",
      "source": [
        "features_Quant = ['customer_zip_code_prefix', 'geolocation_lat','geolocation_lng', 'review_score_mean', 'Time_after_last_purchase (days)', 'nb_of_product', 'moy_achats','Tot_achats']\n",
        "features_Qual = ['customer_city', 'customer_state', 'payment_type', 'order_status', 'Main_prod_category']"
      ],
      "metadata": {
        "id": "wVv-M4mMF9ZX"
      },
      "execution_count": 15,
      "outputs": []
    }
  ]
}