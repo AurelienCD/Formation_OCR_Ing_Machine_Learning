{
  "nbformat": 4,
  "nbformat_minor": 0,
  "metadata": {
    "colab": {
      "name": "Pélec_02_code.ipynb",
      "provenance": [],
      "collapsed_sections": [],
      "authorship_tag": "ABX9TyOvzKP9e+PReQ7H7jC9CCCC",
      "include_colab_link": true
    },
    "kernelspec": {
      "name": "python3",
      "display_name": "Python 3"
    },
    "language_info": {
      "name": "python"
    }
  },
  "cells": [
    {
      "cell_type": "markdown",
      "metadata": {
        "id": "view-in-github",
        "colab_type": "text"
      },
      "source": [
        "<a href=\"https://colab.research.google.com/github/AurelienCD/Formation_OCR_Ing_Machine_Learning/blob/main/P3_02_code.ipynb\" target=\"_parent\"><img src=\"https://colab.research.google.com/assets/colab-badge.svg\" alt=\"Open In Colab\"/></a>"
      ]
    },
    {
      "cell_type": "markdown",
      "source": [
        "Connexion au google drive, déplacement dans le dossier contenant les données nécessaires au projet"
      ],
      "metadata": {
        "id": "qJ1LudLSaN7y"
      }
    },
    {
      "cell_type": "code",
      "execution_count": null,
      "metadata": {
        "id": "J1yZsOaDZMVN",
        "colab": {
          "base_uri": "https://localhost:8080/"
        },
        "outputId": "bbf9e12a-6735-453f-8b1d-918265c9741f"
      },
      "outputs": [
        {
          "output_type": "stream",
          "name": "stdout",
          "text": [
            "Mounted at /content/drive\n"
          ]
        }
      ],
      "source": [
        "from google.colab import drive\n",
        "drive.mount(\"/content/drive\")"
      ]
    },
    {
      "cell_type": "code",
      "source": [
        "%cd drive/MyDrive/Formation_OCR_Ing_Machine_Learning/Projet 3"
      ],
      "metadata": {
        "colab": {
          "base_uri": "https://localhost:8080/"
        },
        "id": "TMHjjJ81aImE",
        "outputId": "1fd9fd97-6185-45d5-ac2f-5d9b6e15e691"
      },
      "execution_count": null,
      "outputs": [
        {
          "output_type": "stream",
          "name": "stdout",
          "text": [
            "/content/drive/MyDrive/Formation_OCR_Ing_Machine_Learning/Projet 3\n"
          ]
        }
      ]
    },
    {
      "cell_type": "markdown",
      "source": [
        "Importation des librairies nécessaires au projet"
      ],
      "metadata": {
        "id": "scL1IlIIawNw"
      }
    },
    {
      "cell_type": "code",
      "source": [
        "import pandas as pad \n",
        "import statistics\n",
        "from scipy import stats\n",
        "import matplotlib.pyplot as plt\n",
        "import seaborn as sns\n",
        "import numpy as np\n",
        "from scipy.stats import pearsonr\n",
        "from scipy.stats import ttest_ind\n",
        "\n",
        "\n",
        "from sklearn.model_selection import train_test_split, StratifiedShuffleSplit, GridSearchCV\n",
        "\n",
        "from sklearn.preprocessing import *\n",
        "from sklearn.pipeline import make_pipeline\n",
        "from sklearn.compose import make_column_transformer\n",
        "from sklearn.preprocessing import StandardScaler\n",
        "\n",
        "from sklearn import model_selection\n",
        "from sklearn import linear_model\n",
        "from sklearn.dummy import DummyRegressor\n",
        "from sklearn.linear_model import LinearRegression, Lasso, Ridge, SGDRegressor, ElasticNet, BayesianRidge, TweedieRegressor, HuberRegressor, QuantileRegressor\n",
        "from sklearn.preprocessing import PolynomialFeatures\n",
        "from sklearn.svm import SVR\n",
        "from sklearn.ensemble import RandomForestRegressor\n",
        "from xgboost import XGBRegressor\n",
        "\n",
        "from sklearn.metrics import *\n",
        "from sklearn.model_selection import KFold\n",
        "from sklearn.metrics import  make_scorer\n",
        "from sklearn.model_selection import cross_val_score\n",
        "from sklearn.metrics import r2_score\n",
        "from sklearn.model_selection import RandomizedSearchCV"
      ],
      "metadata": {
        "id": "u4WZGclQamDR"
      },
      "execution_count": null,
      "outputs": []
    },
    {
      "cell_type": "code",
      "source": [
        "df = pad.read_csv('data_projet3_clean.csv', sep='\\t')"
      ],
      "metadata": {
        "id": "0qx2shAZabXR"
      },
      "execution_count": null,
      "outputs": []
    },
    {
      "cell_type": "markdown",
      "source": [
        "Exploration rapide des données"
      ],
      "metadata": {
        "id": "bkwkr-E0revs"
      }
    },
    {
      "cell_type": "code",
      "source": [
        "df.shape"
      ],
      "metadata": {
        "id": "SQOGSjkl0ayB",
        "colab": {
          "base_uri": "https://localhost:8080/"
        },
        "outputId": "f96ec0a1-28b9-47ce-9d7e-54bf29a898e5"
      },
      "execution_count": null,
      "outputs": [
        {
          "output_type": "execute_result",
          "data": {
            "text/plain": [
              "(1532, 25)"
            ]
          },
          "metadata": {},
          "execution_count": 5
        }
      ]
    },
    {
      "cell_type": "code",
      "source": [
        "df.head()"
      ],
      "metadata": {
        "colab": {
          "base_uri": "https://localhost:8080/",
          "height": 299
        },
        "id": "6yLVmgZ70b_K",
        "outputId": "6a98caa6-4af4-47ee-8dd5-14ef58830a99"
      },
      "execution_count": null,
      "outputs": [
        {
          "output_type": "execute_result",
          "data": {
            "text/html": [
              "\n",
              "  <div id=\"df-7a635bc5-a7d3-4321-8d6c-12c27d47079a\">\n",
              "    <div class=\"colab-df-container\">\n",
              "      <div>\n",
              "<style scoped>\n",
              "    .dataframe tbody tr th:only-of-type {\n",
              "        vertical-align: middle;\n",
              "    }\n",
              "\n",
              "    .dataframe tbody tr th {\n",
              "        vertical-align: top;\n",
              "    }\n",
              "\n",
              "    .dataframe thead th {\n",
              "        text-align: right;\n",
              "    }\n",
              "</style>\n",
              "<table border=\"1\" class=\"dataframe\">\n",
              "  <thead>\n",
              "    <tr style=\"text-align: right;\">\n",
              "      <th></th>\n",
              "      <th>OSEBuildingID</th>\n",
              "      <th>DataYear</th>\n",
              "      <th>BuildingType</th>\n",
              "      <th>PrimaryPropertyType</th>\n",
              "      <th>CouncilDistrictCode</th>\n",
              "      <th>Neighborhood</th>\n",
              "      <th>YearBuilt</th>\n",
              "      <th>NumberofBuildings</th>\n",
              "      <th>NumberofFloors</th>\n",
              "      <th>PropertyGFATotal</th>\n",
              "      <th>...</th>\n",
              "      <th>ENERGYSTARScore</th>\n",
              "      <th>SiteEUI(kBtu/sf)</th>\n",
              "      <th>SourceEUI(kBtu/sf)</th>\n",
              "      <th>SiteEnergyUse(kBtu)</th>\n",
              "      <th>SteamUse(kBtu)</th>\n",
              "      <th>Electricity(kWh)</th>\n",
              "      <th>NaturalGas(therms)</th>\n",
              "      <th>TotalGHGEmissions</th>\n",
              "      <th>GHGEmissionsIntensity</th>\n",
              "      <th>YearBuilt_age</th>\n",
              "    </tr>\n",
              "  </thead>\n",
              "  <tbody>\n",
              "    <tr>\n",
              "      <th>0</th>\n",
              "      <td>1.0</td>\n",
              "      <td>2015.0</td>\n",
              "      <td>NonResidential</td>\n",
              "      <td>Hotel</td>\n",
              "      <td>7.0</td>\n",
              "      <td>DOWNTOWN</td>\n",
              "      <td>1927.0</td>\n",
              "      <td>1.0</td>\n",
              "      <td>12.0</td>\n",
              "      <td>88434.0</td>\n",
              "      <td>...</td>\n",
              "      <td>65.0</td>\n",
              "      <td>78.9</td>\n",
              "      <td>173.5</td>\n",
              "      <td>6981428.0</td>\n",
              "      <td>2023032.0</td>\n",
              "      <td>1080307.0</td>\n",
              "      <td>12724.0</td>\n",
              "      <td>249.43</td>\n",
              "      <td>2.64</td>\n",
              "      <td>old</td>\n",
              "    </tr>\n",
              "    <tr>\n",
              "      <th>1</th>\n",
              "      <td>2.0</td>\n",
              "      <td>2015.0</td>\n",
              "      <td>NonResidential</td>\n",
              "      <td>Hotel</td>\n",
              "      <td>7.0</td>\n",
              "      <td>DOWNTOWN</td>\n",
              "      <td>1996.0</td>\n",
              "      <td>1.0</td>\n",
              "      <td>11.0</td>\n",
              "      <td>103566.0</td>\n",
              "      <td>...</td>\n",
              "      <td>51.0</td>\n",
              "      <td>94.4</td>\n",
              "      <td>191.3</td>\n",
              "      <td>8354235.0</td>\n",
              "      <td>0.0</td>\n",
              "      <td>1144563.0</td>\n",
              "      <td>44490.0</td>\n",
              "      <td>263.51</td>\n",
              "      <td>2.38</td>\n",
              "      <td>old</td>\n",
              "    </tr>\n",
              "    <tr>\n",
              "      <th>2</th>\n",
              "      <td>10.0</td>\n",
              "      <td>2015.0</td>\n",
              "      <td>NonResidential</td>\n",
              "      <td>Hotel</td>\n",
              "      <td>7.0</td>\n",
              "      <td>DOWNTOWN</td>\n",
              "      <td>1926.0</td>\n",
              "      <td>1.0</td>\n",
              "      <td>11.0</td>\n",
              "      <td>83008.0</td>\n",
              "      <td>...</td>\n",
              "      <td>25.0</td>\n",
              "      <td>76.9</td>\n",
              "      <td>149.5</td>\n",
              "      <td>6252842.0</td>\n",
              "      <td>0.0</td>\n",
              "      <td>785342.0</td>\n",
              "      <td>35733.0</td>\n",
              "      <td>208.46</td>\n",
              "      <td>2.37</td>\n",
              "      <td>old</td>\n",
              "    </tr>\n",
              "    <tr>\n",
              "      <th>3</th>\n",
              "      <td>12.0</td>\n",
              "      <td>2015.0</td>\n",
              "      <td>NonResidential</td>\n",
              "      <td>Hotel</td>\n",
              "      <td>7.0</td>\n",
              "      <td>DOWNTOWN</td>\n",
              "      <td>1904.0</td>\n",
              "      <td>1.0</td>\n",
              "      <td>15.0</td>\n",
              "      <td>163984.0</td>\n",
              "      <td>...</td>\n",
              "      <td>46.0</td>\n",
              "      <td>77.0</td>\n",
              "      <td>174.6</td>\n",
              "      <td>12633744.0</td>\n",
              "      <td>0.0</td>\n",
              "      <td>2155728.0</td>\n",
              "      <td>52784.0</td>\n",
              "      <td>331.61</td>\n",
              "      <td>1.83</td>\n",
              "      <td>old</td>\n",
              "    </tr>\n",
              "    <tr>\n",
              "      <th>4</th>\n",
              "      <td>17.0</td>\n",
              "      <td>2015.0</td>\n",
              "      <td>NonResidential</td>\n",
              "      <td>Hotel</td>\n",
              "      <td>7.0</td>\n",
              "      <td>DOWNTOWN</td>\n",
              "      <td>1928.0</td>\n",
              "      <td>1.0</td>\n",
              "      <td>9.0</td>\n",
              "      <td>65009.0</td>\n",
              "      <td>...</td>\n",
              "      <td>39.0</td>\n",
              "      <td>104.7</td>\n",
              "      <td>166.5</td>\n",
              "      <td>6807227.0</td>\n",
              "      <td>1987163.0</td>\n",
              "      <td>473326.0</td>\n",
              "      <td>32051.0</td>\n",
              "      <td>334.87</td>\n",
              "      <td>5.04</td>\n",
              "      <td>old</td>\n",
              "    </tr>\n",
              "  </tbody>\n",
              "</table>\n",
              "<p>5 rows × 25 columns</p>\n",
              "</div>\n",
              "      <button class=\"colab-df-convert\" onclick=\"convertToInteractive('df-7a635bc5-a7d3-4321-8d6c-12c27d47079a')\"\n",
              "              title=\"Convert this dataframe to an interactive table.\"\n",
              "              style=\"display:none;\">\n",
              "        \n",
              "  <svg xmlns=\"http://www.w3.org/2000/svg\" height=\"24px\"viewBox=\"0 0 24 24\"\n",
              "       width=\"24px\">\n",
              "    <path d=\"M0 0h24v24H0V0z\" fill=\"none\"/>\n",
              "    <path d=\"M18.56 5.44l.94 2.06.94-2.06 2.06-.94-2.06-.94-.94-2.06-.94 2.06-2.06.94zm-11 1L8.5 8.5l.94-2.06 2.06-.94-2.06-.94L8.5 2.5l-.94 2.06-2.06.94zm10 10l.94 2.06.94-2.06 2.06-.94-2.06-.94-.94-2.06-.94 2.06-2.06.94z\"/><path d=\"M17.41 7.96l-1.37-1.37c-.4-.4-.92-.59-1.43-.59-.52 0-1.04.2-1.43.59L10.3 9.45l-7.72 7.72c-.78.78-.78 2.05 0 2.83L4 21.41c.39.39.9.59 1.41.59.51 0 1.02-.2 1.41-.59l7.78-7.78 2.81-2.81c.8-.78.8-2.07 0-2.86zM5.41 20L4 18.59l7.72-7.72 1.47 1.35L5.41 20z\"/>\n",
              "  </svg>\n",
              "      </button>\n",
              "      \n",
              "  <style>\n",
              "    .colab-df-container {\n",
              "      display:flex;\n",
              "      flex-wrap:wrap;\n",
              "      gap: 12px;\n",
              "    }\n",
              "\n",
              "    .colab-df-convert {\n",
              "      background-color: #E8F0FE;\n",
              "      border: none;\n",
              "      border-radius: 50%;\n",
              "      cursor: pointer;\n",
              "      display: none;\n",
              "      fill: #1967D2;\n",
              "      height: 32px;\n",
              "      padding: 0 0 0 0;\n",
              "      width: 32px;\n",
              "    }\n",
              "\n",
              "    .colab-df-convert:hover {\n",
              "      background-color: #E2EBFA;\n",
              "      box-shadow: 0px 1px 2px rgba(60, 64, 67, 0.3), 0px 1px 3px 1px rgba(60, 64, 67, 0.15);\n",
              "      fill: #174EA6;\n",
              "    }\n",
              "\n",
              "    [theme=dark] .colab-df-convert {\n",
              "      background-color: #3B4455;\n",
              "      fill: #D2E3FC;\n",
              "    }\n",
              "\n",
              "    [theme=dark] .colab-df-convert:hover {\n",
              "      background-color: #434B5C;\n",
              "      box-shadow: 0px 1px 3px 1px rgba(0, 0, 0, 0.15);\n",
              "      filter: drop-shadow(0px 1px 2px rgba(0, 0, 0, 0.3));\n",
              "      fill: #FFFFFF;\n",
              "    }\n",
              "  </style>\n",
              "\n",
              "      <script>\n",
              "        const buttonEl =\n",
              "          document.querySelector('#df-7a635bc5-a7d3-4321-8d6c-12c27d47079a button.colab-df-convert');\n",
              "        buttonEl.style.display =\n",
              "          google.colab.kernel.accessAllowed ? 'block' : 'none';\n",
              "\n",
              "        async function convertToInteractive(key) {\n",
              "          const element = document.querySelector('#df-7a635bc5-a7d3-4321-8d6c-12c27d47079a');\n",
              "          const dataTable =\n",
              "            await google.colab.kernel.invokeFunction('convertToInteractive',\n",
              "                                                     [key], {});\n",
              "          if (!dataTable) return;\n",
              "\n",
              "          const docLinkHtml = 'Like what you see? Visit the ' +\n",
              "            '<a target=\"_blank\" href=https://colab.research.google.com/notebooks/data_table.ipynb>data table notebook</a>'\n",
              "            + ' to learn more about interactive tables.';\n",
              "          element.innerHTML = '';\n",
              "          dataTable['output_type'] = 'display_data';\n",
              "          await google.colab.output.renderOutput(dataTable, element);\n",
              "          const docLink = document.createElement('div');\n",
              "          docLink.innerHTML = docLinkHtml;\n",
              "          element.appendChild(docLink);\n",
              "        }\n",
              "      </script>\n",
              "    </div>\n",
              "  </div>\n",
              "  "
            ],
            "text/plain": [
              "   OSEBuildingID  DataYear    BuildingType PrimaryPropertyType  \\\n",
              "0            1.0    2015.0  NonResidential               Hotel   \n",
              "1            2.0    2015.0  NonResidential               Hotel   \n",
              "2           10.0    2015.0  NonResidential               Hotel   \n",
              "3           12.0    2015.0  NonResidential               Hotel   \n",
              "4           17.0    2015.0  NonResidential               Hotel   \n",
              "\n",
              "   CouncilDistrictCode Neighborhood  YearBuilt  NumberofBuildings  \\\n",
              "0                  7.0     DOWNTOWN     1927.0                1.0   \n",
              "1                  7.0     DOWNTOWN     1996.0                1.0   \n",
              "2                  7.0     DOWNTOWN     1926.0                1.0   \n",
              "3                  7.0     DOWNTOWN     1904.0                1.0   \n",
              "4                  7.0     DOWNTOWN     1928.0                1.0   \n",
              "\n",
              "   NumberofFloors  PropertyGFATotal  ...  ENERGYSTARScore  SiteEUI(kBtu/sf)  \\\n",
              "0            12.0           88434.0  ...             65.0              78.9   \n",
              "1            11.0          103566.0  ...             51.0              94.4   \n",
              "2            11.0           83008.0  ...             25.0              76.9   \n",
              "3            15.0          163984.0  ...             46.0              77.0   \n",
              "4             9.0           65009.0  ...             39.0             104.7   \n",
              "\n",
              "  SourceEUI(kBtu/sf) SiteEnergyUse(kBtu)  SteamUse(kBtu)  Electricity(kWh)  \\\n",
              "0              173.5           6981428.0       2023032.0         1080307.0   \n",
              "1              191.3           8354235.0             0.0         1144563.0   \n",
              "2              149.5           6252842.0             0.0          785342.0   \n",
              "3              174.6          12633744.0             0.0         2155728.0   \n",
              "4              166.5           6807227.0       1987163.0          473326.0   \n",
              "\n",
              "   NaturalGas(therms)  TotalGHGEmissions  GHGEmissionsIntensity  YearBuilt_age  \n",
              "0             12724.0             249.43                   2.64            old  \n",
              "1             44490.0             263.51                   2.38            old  \n",
              "2             35733.0             208.46                   2.37            old  \n",
              "3             52784.0             331.61                   1.83            old  \n",
              "4             32051.0             334.87                   5.04            old  \n",
              "\n",
              "[5 rows x 25 columns]"
            ]
          },
          "metadata": {},
          "execution_count": 6
        }
      ]
    },
    {
      "cell_type": "code",
      "source": [
        "df.columns"
      ],
      "metadata": {
        "colab": {
          "base_uri": "https://localhost:8080/"
        },
        "id": "EGUDY8HnUAyf",
        "outputId": "1ce09da8-e9c5-48ac-f30c-a97a116ab0e6"
      },
      "execution_count": null,
      "outputs": [
        {
          "output_type": "execute_result",
          "data": {
            "text/plain": [
              "Index(['OSEBuildingID', 'DataYear', 'BuildingType', 'PrimaryPropertyType',\n",
              "       'CouncilDistrictCode', 'Neighborhood', 'YearBuilt', 'NumberofBuildings',\n",
              "       'NumberofFloors', 'PropertyGFATotal', 'PropertyGFAParking',\n",
              "       'PropertyGFABuilding(s)', 'ListOfAllPropertyUseTypes',\n",
              "       'LargestPropertyUseType', 'LargestPropertyUseTypeGFA',\n",
              "       'ENERGYSTARScore', 'SiteEUI(kBtu/sf)', 'SourceEUI(kBtu/sf)',\n",
              "       'SiteEnergyUse(kBtu)', 'SteamUse(kBtu)', 'Electricity(kWh)',\n",
              "       'NaturalGas(therms)', 'TotalGHGEmissions', 'GHGEmissionsIntensity',\n",
              "       'YearBuilt_age'],\n",
              "      dtype='object')"
            ]
          },
          "metadata": {},
          "execution_count": 7
        }
      ]
    },
    {
      "cell_type": "markdown",
      "source": [
        "# Création des variables d'intérêt :\n",
        "\n",
        "Dans notre problématique de prédiction des émissions de GES et de consommation, pour moi il y aurait comme variables intéressantes en plus de celles de la databse :\n",
        "  - Isolation des batiments\n",
        "  - Nombre de fenêtre\n",
        "  - Type d'énergie consommée\n",
        "\n",
        "Nous n'avons pas les deux premières et aucun moyen par feature engineering de les retrouver à partir des données présentes\n",
        "Pour la dernière on pourrait créer un feature avec le type d'énergie utilisé, on suppose facilement que si le batiment utilise \"Steam\", \"Electricity\" ou \"NaturalGAS\" sont bilan carbon ne sera pas le même, cependant dans l'AAP il est bien stipulé que le but à long terme est de se passer des relevés de consommation trop couteux, on ne peut donc pas se servir de cette variable\n",
        "\n",
        "En revanche on peut créer ces features là :\n",
        "  - « GFA_per_floor » (en plus de la surface totale et du nombre d'étage, la surface par étage pourrait être une information intéressante pour notre modèle\n",
        "  - « Building_age » (exprime l'âge du batiment directement, ce sera sûrement plus parlant que la date de construction qui ne varie que de 5% (1900 vs 2000)"
      ],
      "metadata": {
        "id": "EWRWEgri8qfk"
      }
    },
    {
      "cell_type": "code",
      "source": [
        "df['GFA_per_floor'] = df['PropertyGFATotal'] / df['NumberofFloors']\n",
        "df['Building_age'] = 2022 - df['YearBuilt']"
      ],
      "metadata": {
        "id": "R3xTkrScVUTE"
      },
      "execution_count": null,
      "outputs": []
    },
    {
      "cell_type": "code",
      "source": [
        "df.describe()"
      ],
      "metadata": {
        "colab": {
          "base_uri": "https://localhost:8080/",
          "height": 393
        },
        "id": "q3stmOIg1iEG",
        "outputId": "67ccbedf-848a-4d5d-9851-82cb35f6741b"
      },
      "execution_count": null,
      "outputs": [
        {
          "output_type": "execute_result",
          "data": {
            "text/html": [
              "\n",
              "  <div id=\"df-b1c50a65-6f11-4cbf-a25f-c7a072112e62\">\n",
              "    <div class=\"colab-df-container\">\n",
              "      <div>\n",
              "<style scoped>\n",
              "    .dataframe tbody tr th:only-of-type {\n",
              "        vertical-align: middle;\n",
              "    }\n",
              "\n",
              "    .dataframe tbody tr th {\n",
              "        vertical-align: top;\n",
              "    }\n",
              "\n",
              "    .dataframe thead th {\n",
              "        text-align: right;\n",
              "    }\n",
              "</style>\n",
              "<table border=\"1\" class=\"dataframe\">\n",
              "  <thead>\n",
              "    <tr style=\"text-align: right;\">\n",
              "      <th></th>\n",
              "      <th>OSEBuildingID</th>\n",
              "      <th>DataYear</th>\n",
              "      <th>CouncilDistrictCode</th>\n",
              "      <th>YearBuilt</th>\n",
              "      <th>NumberofBuildings</th>\n",
              "      <th>NumberofFloors</th>\n",
              "      <th>PropertyGFATotal</th>\n",
              "      <th>PropertyGFAParking</th>\n",
              "      <th>PropertyGFABuilding(s)</th>\n",
              "      <th>LargestPropertyUseTypeGFA</th>\n",
              "      <th>...</th>\n",
              "      <th>SiteEUI(kBtu/sf)</th>\n",
              "      <th>SourceEUI(kBtu/sf)</th>\n",
              "      <th>SiteEnergyUse(kBtu)</th>\n",
              "      <th>SteamUse(kBtu)</th>\n",
              "      <th>Electricity(kWh)</th>\n",
              "      <th>NaturalGas(therms)</th>\n",
              "      <th>TotalGHGEmissions</th>\n",
              "      <th>GHGEmissionsIntensity</th>\n",
              "      <th>GFA_per_floor</th>\n",
              "      <th>Building_age</th>\n",
              "    </tr>\n",
              "  </thead>\n",
              "  <tbody>\n",
              "    <tr>\n",
              "      <th>count</th>\n",
              "      <td>1532.000000</td>\n",
              "      <td>1532.000000</td>\n",
              "      <td>1532.000000</td>\n",
              "      <td>1532.000000</td>\n",
              "      <td>1532.0</td>\n",
              "      <td>1532.000000</td>\n",
              "      <td>1532.000000</td>\n",
              "      <td>1532.000000</td>\n",
              "      <td>1532.000000</td>\n",
              "      <td>1532.000000</td>\n",
              "      <td>...</td>\n",
              "      <td>1532.000000</td>\n",
              "      <td>1532.000000</td>\n",
              "      <td>1.532000e+03</td>\n",
              "      <td>1.532000e+03</td>\n",
              "      <td>1.532000e+03</td>\n",
              "      <td>1532.000000</td>\n",
              "      <td>1532.000000</td>\n",
              "      <td>1532.000000</td>\n",
              "      <td>1532.000000</td>\n",
              "      <td>1532.000000</td>\n",
              "    </tr>\n",
              "    <tr>\n",
              "      <th>mean</th>\n",
              "      <td>15189.592037</td>\n",
              "      <td>2015.490209</td>\n",
              "      <td>4.344648</td>\n",
              "      <td>1958.757180</td>\n",
              "      <td>1.0</td>\n",
              "      <td>3.355744</td>\n",
              "      <td>74082.328982</td>\n",
              "      <td>6774.404047</td>\n",
              "      <td>67307.924935</td>\n",
              "      <td>62530.179504</td>\n",
              "      <td>...</td>\n",
              "      <td>51.555809</td>\n",
              "      <td>129.475261</td>\n",
              "      <td>3.612240e+06</td>\n",
              "      <td>9.941527e+04</td>\n",
              "      <td>7.823197e+05</td>\n",
              "      <td>8345.889858</td>\n",
              "      <td>70.607134</td>\n",
              "      <td>0.966397</td>\n",
              "      <td>29293.260956</td>\n",
              "      <td>63.242820</td>\n",
              "    </tr>\n",
              "    <tr>\n",
              "      <th>std</th>\n",
              "      <td>12450.877949</td>\n",
              "      <td>0.500067</td>\n",
              "      <td>2.194945</td>\n",
              "      <td>32.541263</td>\n",
              "      <td>0.0</td>\n",
              "      <td>2.758174</td>\n",
              "      <td>66720.168681</td>\n",
              "      <td>17959.627448</td>\n",
              "      <td>59857.023820</td>\n",
              "      <td>54490.822868</td>\n",
              "      <td>...</td>\n",
              "      <td>31.033147</td>\n",
              "      <td>80.447218</td>\n",
              "      <td>4.067234e+06</td>\n",
              "      <td>5.768289e+05</td>\n",
              "      <td>1.009597e+06</td>\n",
              "      <td>13863.269932</td>\n",
              "      <td>93.478450</td>\n",
              "      <td>1.022007</td>\n",
              "      <td>31827.396892</td>\n",
              "      <td>32.541263</td>\n",
              "    </tr>\n",
              "    <tr>\n",
              "      <th>min</th>\n",
              "      <td>1.000000</td>\n",
              "      <td>2015.000000</td>\n",
              "      <td>1.000000</td>\n",
              "      <td>1900.000000</td>\n",
              "      <td>1.0</td>\n",
              "      <td>1.000000</td>\n",
              "      <td>16300.000000</td>\n",
              "      <td>0.000000</td>\n",
              "      <td>16200.000000</td>\n",
              "      <td>8061.000000</td>\n",
              "      <td>...</td>\n",
              "      <td>1.800000</td>\n",
              "      <td>0.000000</td>\n",
              "      <td>4.394300e+04</td>\n",
              "      <td>0.000000e+00</td>\n",
              "      <td>0.000000e+00</td>\n",
              "      <td>0.000000</td>\n",
              "      <td>0.000000</td>\n",
              "      <td>0.000000</td>\n",
              "      <td>3294.545455</td>\n",
              "      <td>7.000000</td>\n",
              "    </tr>\n",
              "    <tr>\n",
              "      <th>25%</th>\n",
              "      <td>611.000000</td>\n",
              "      <td>2015.000000</td>\n",
              "      <td>2.000000</td>\n",
              "      <td>1928.000000</td>\n",
              "      <td>1.0</td>\n",
              "      <td>1.000000</td>\n",
              "      <td>28846.250000</td>\n",
              "      <td>0.000000</td>\n",
              "      <td>28008.500000</td>\n",
              "      <td>25981.750000</td>\n",
              "      <td>...</td>\n",
              "      <td>29.900000</td>\n",
              "      <td>68.475000</td>\n",
              "      <td>1.069189e+06</td>\n",
              "      <td>0.000000e+00</td>\n",
              "      <td>1.821662e+05</td>\n",
              "      <td>0.000000</td>\n",
              "      <td>15.492500</td>\n",
              "      <td>0.220000</td>\n",
              "      <td>12113.125000</td>\n",
              "      <td>37.750000</td>\n",
              "    </tr>\n",
              "    <tr>\n",
              "      <th>50%</th>\n",
              "      <td>20871.000000</td>\n",
              "      <td>2015.000000</td>\n",
              "      <td>4.000000</td>\n",
              "      <td>1963.000000</td>\n",
              "      <td>1.0</td>\n",
              "      <td>3.000000</td>\n",
              "      <td>48112.000000</td>\n",
              "      <td>0.000000</td>\n",
              "      <td>45864.000000</td>\n",
              "      <td>41732.500000</td>\n",
              "      <td>...</td>\n",
              "      <td>47.099999</td>\n",
              "      <td>118.950001</td>\n",
              "      <td>2.067009e+06</td>\n",
              "      <td>0.000000e+00</td>\n",
              "      <td>3.939894e+05</td>\n",
              "      <td>3240.865112</td>\n",
              "      <td>37.420000</td>\n",
              "      <td>0.610000</td>\n",
              "      <td>20648.833333</td>\n",
              "      <td>59.000000</td>\n",
              "    </tr>\n",
              "    <tr>\n",
              "      <th>75%</th>\n",
              "      <td>24218.000000</td>\n",
              "      <td>2016.000000</td>\n",
              "      <td>7.000000</td>\n",
              "      <td>1984.250000</td>\n",
              "      <td>1.0</td>\n",
              "      <td>4.000000</td>\n",
              "      <td>94002.000000</td>\n",
              "      <td>0.000000</td>\n",
              "      <td>83008.000000</td>\n",
              "      <td>79384.000000</td>\n",
              "      <td>...</td>\n",
              "      <td>66.425000</td>\n",
              "      <td>171.125005</td>\n",
              "      <td>4.712360e+06</td>\n",
              "      <td>0.000000e+00</td>\n",
              "      <td>9.600228e+05</td>\n",
              "      <td>9936.879883</td>\n",
              "      <td>82.295000</td>\n",
              "      <td>1.350000</td>\n",
              "      <td>33514.000000</td>\n",
              "      <td>94.000000</td>\n",
              "    </tr>\n",
              "    <tr>\n",
              "      <th>max</th>\n",
              "      <td>50081.000000</td>\n",
              "      <td>2016.000000</td>\n",
              "      <td>7.000000</td>\n",
              "      <td>2015.000000</td>\n",
              "      <td>1.0</td>\n",
              "      <td>17.000000</td>\n",
              "      <td>411584.000000</td>\n",
              "      <td>101342.000000</td>\n",
              "      <td>411584.000000</td>\n",
              "      <td>388934.000000</td>\n",
              "      <td>...</td>\n",
              "      <td>216.000000</td>\n",
              "      <td>540.500000</td>\n",
              "      <td>2.843306e+07</td>\n",
              "      <td>1.092107e+07</td>\n",
              "      <td>8.306096e+06</td>\n",
              "      <td>122680.000000</td>\n",
              "      <td>940.470000</td>\n",
              "      <td>5.540000</td>\n",
              "      <td>411584.000000</td>\n",
              "      <td>122.000000</td>\n",
              "    </tr>\n",
              "  </tbody>\n",
              "</table>\n",
              "<p>8 rows × 21 columns</p>\n",
              "</div>\n",
              "      <button class=\"colab-df-convert\" onclick=\"convertToInteractive('df-b1c50a65-6f11-4cbf-a25f-c7a072112e62')\"\n",
              "              title=\"Convert this dataframe to an interactive table.\"\n",
              "              style=\"display:none;\">\n",
              "        \n",
              "  <svg xmlns=\"http://www.w3.org/2000/svg\" height=\"24px\"viewBox=\"0 0 24 24\"\n",
              "       width=\"24px\">\n",
              "    <path d=\"M0 0h24v24H0V0z\" fill=\"none\"/>\n",
              "    <path d=\"M18.56 5.44l.94 2.06.94-2.06 2.06-.94-2.06-.94-.94-2.06-.94 2.06-2.06.94zm-11 1L8.5 8.5l.94-2.06 2.06-.94-2.06-.94L8.5 2.5l-.94 2.06-2.06.94zm10 10l.94 2.06.94-2.06 2.06-.94-2.06-.94-.94-2.06-.94 2.06-2.06.94z\"/><path d=\"M17.41 7.96l-1.37-1.37c-.4-.4-.92-.59-1.43-.59-.52 0-1.04.2-1.43.59L10.3 9.45l-7.72 7.72c-.78.78-.78 2.05 0 2.83L4 21.41c.39.39.9.59 1.41.59.51 0 1.02-.2 1.41-.59l7.78-7.78 2.81-2.81c.8-.78.8-2.07 0-2.86zM5.41 20L4 18.59l7.72-7.72 1.47 1.35L5.41 20z\"/>\n",
              "  </svg>\n",
              "      </button>\n",
              "      \n",
              "  <style>\n",
              "    .colab-df-container {\n",
              "      display:flex;\n",
              "      flex-wrap:wrap;\n",
              "      gap: 12px;\n",
              "    }\n",
              "\n",
              "    .colab-df-convert {\n",
              "      background-color: #E8F0FE;\n",
              "      border: none;\n",
              "      border-radius: 50%;\n",
              "      cursor: pointer;\n",
              "      display: none;\n",
              "      fill: #1967D2;\n",
              "      height: 32px;\n",
              "      padding: 0 0 0 0;\n",
              "      width: 32px;\n",
              "    }\n",
              "\n",
              "    .colab-df-convert:hover {\n",
              "      background-color: #E2EBFA;\n",
              "      box-shadow: 0px 1px 2px rgba(60, 64, 67, 0.3), 0px 1px 3px 1px rgba(60, 64, 67, 0.15);\n",
              "      fill: #174EA6;\n",
              "    }\n",
              "\n",
              "    [theme=dark] .colab-df-convert {\n",
              "      background-color: #3B4455;\n",
              "      fill: #D2E3FC;\n",
              "    }\n",
              "\n",
              "    [theme=dark] .colab-df-convert:hover {\n",
              "      background-color: #434B5C;\n",
              "      box-shadow: 0px 1px 3px 1px rgba(0, 0, 0, 0.15);\n",
              "      filter: drop-shadow(0px 1px 2px rgba(0, 0, 0, 0.3));\n",
              "      fill: #FFFFFF;\n",
              "    }\n",
              "  </style>\n",
              "\n",
              "      <script>\n",
              "        const buttonEl =\n",
              "          document.querySelector('#df-b1c50a65-6f11-4cbf-a25f-c7a072112e62 button.colab-df-convert');\n",
              "        buttonEl.style.display =\n",
              "          google.colab.kernel.accessAllowed ? 'block' : 'none';\n",
              "\n",
              "        async function convertToInteractive(key) {\n",
              "          const element = document.querySelector('#df-b1c50a65-6f11-4cbf-a25f-c7a072112e62');\n",
              "          const dataTable =\n",
              "            await google.colab.kernel.invokeFunction('convertToInteractive',\n",
              "                                                     [key], {});\n",
              "          if (!dataTable) return;\n",
              "\n",
              "          const docLinkHtml = 'Like what you see? Visit the ' +\n",
              "            '<a target=\"_blank\" href=https://colab.research.google.com/notebooks/data_table.ipynb>data table notebook</a>'\n",
              "            + ' to learn more about interactive tables.';\n",
              "          element.innerHTML = '';\n",
              "          dataTable['output_type'] = 'display_data';\n",
              "          await google.colab.output.renderOutput(dataTable, element);\n",
              "          const docLink = document.createElement('div');\n",
              "          docLink.innerHTML = docLinkHtml;\n",
              "          element.appendChild(docLink);\n",
              "        }\n",
              "      </script>\n",
              "    </div>\n",
              "  </div>\n",
              "  "
            ],
            "text/plain": [
              "       OSEBuildingID     DataYear  CouncilDistrictCode    YearBuilt  \\\n",
              "count    1532.000000  1532.000000          1532.000000  1532.000000   \n",
              "mean    15189.592037  2015.490209             4.344648  1958.757180   \n",
              "std     12450.877949     0.500067             2.194945    32.541263   \n",
              "min         1.000000  2015.000000             1.000000  1900.000000   \n",
              "25%       611.000000  2015.000000             2.000000  1928.000000   \n",
              "50%     20871.000000  2015.000000             4.000000  1963.000000   \n",
              "75%     24218.000000  2016.000000             7.000000  1984.250000   \n",
              "max     50081.000000  2016.000000             7.000000  2015.000000   \n",
              "\n",
              "       NumberofBuildings  NumberofFloors  PropertyGFATotal  \\\n",
              "count             1532.0     1532.000000       1532.000000   \n",
              "mean                 1.0        3.355744      74082.328982   \n",
              "std                  0.0        2.758174      66720.168681   \n",
              "min                  1.0        1.000000      16300.000000   \n",
              "25%                  1.0        1.000000      28846.250000   \n",
              "50%                  1.0        3.000000      48112.000000   \n",
              "75%                  1.0        4.000000      94002.000000   \n",
              "max                  1.0       17.000000     411584.000000   \n",
              "\n",
              "       PropertyGFAParking  PropertyGFABuilding(s)  LargestPropertyUseTypeGFA  \\\n",
              "count         1532.000000             1532.000000                1532.000000   \n",
              "mean          6774.404047            67307.924935               62530.179504   \n",
              "std          17959.627448            59857.023820               54490.822868   \n",
              "min              0.000000            16200.000000                8061.000000   \n",
              "25%              0.000000            28008.500000               25981.750000   \n",
              "50%              0.000000            45864.000000               41732.500000   \n",
              "75%              0.000000            83008.000000               79384.000000   \n",
              "max         101342.000000           411584.000000              388934.000000   \n",
              "\n",
              "       ...  SiteEUI(kBtu/sf)  SourceEUI(kBtu/sf)  SiteEnergyUse(kBtu)  \\\n",
              "count  ...       1532.000000         1532.000000         1.532000e+03   \n",
              "mean   ...         51.555809          129.475261         3.612240e+06   \n",
              "std    ...         31.033147           80.447218         4.067234e+06   \n",
              "min    ...          1.800000            0.000000         4.394300e+04   \n",
              "25%    ...         29.900000           68.475000         1.069189e+06   \n",
              "50%    ...         47.099999          118.950001         2.067009e+06   \n",
              "75%    ...         66.425000          171.125005         4.712360e+06   \n",
              "max    ...        216.000000          540.500000         2.843306e+07   \n",
              "\n",
              "       SteamUse(kBtu)  Electricity(kWh)  NaturalGas(therms)  \\\n",
              "count    1.532000e+03      1.532000e+03         1532.000000   \n",
              "mean     9.941527e+04      7.823197e+05         8345.889858   \n",
              "std      5.768289e+05      1.009597e+06        13863.269932   \n",
              "min      0.000000e+00      0.000000e+00            0.000000   \n",
              "25%      0.000000e+00      1.821662e+05            0.000000   \n",
              "50%      0.000000e+00      3.939894e+05         3240.865112   \n",
              "75%      0.000000e+00      9.600228e+05         9936.879883   \n",
              "max      1.092107e+07      8.306096e+06       122680.000000   \n",
              "\n",
              "       TotalGHGEmissions  GHGEmissionsIntensity  GFA_per_floor  Building_age  \n",
              "count        1532.000000            1532.000000    1532.000000   1532.000000  \n",
              "mean           70.607134               0.966397   29293.260956     63.242820  \n",
              "std            93.478450               1.022007   31827.396892     32.541263  \n",
              "min             0.000000               0.000000    3294.545455      7.000000  \n",
              "25%            15.492500               0.220000   12113.125000     37.750000  \n",
              "50%            37.420000               0.610000   20648.833333     59.000000  \n",
              "75%            82.295000               1.350000   33514.000000     94.000000  \n",
              "max           940.470000               5.540000  411584.000000    122.000000  \n",
              "\n",
              "[8 rows x 21 columns]"
            ]
          },
          "metadata": {},
          "execution_count": 9
        }
      ]
    },
    {
      "cell_type": "markdown",
      "source": [
        "# Préparation du jeu de données pour l'entrainement des modèles :"
      ],
      "metadata": {
        "id": "bTiySuvvxljZ"
      }
    },
    {
      "cell_type": "markdown",
      "source": [
        "La problématique est de prédire la consommation en énergie (variable *SiteEnergyUse(kBtu)*) et les émissions de GES (variable *TotalGHGEmissions*) sans avoir accès aux relevés qui sont couteux à obtenir (variables : *SiteEUI(kBtu/sf)* , *SourceEUI(kBtu/sf)*, *SteamUse(kBtu)*, *Electricity(kWh)*, *NaturalGas(therms)*)\n",
        "\n",
        "Il faut donc exclures ces dernières variables pour l'entrainement des modèles"
      ],
      "metadata": {
        "id": "xoyHAmYLypR-"
      }
    },
    {
      "cell_type": "code",
      "source": [
        "data = df.drop(['SiteEUI(kBtu/sf)'], axis=1)\n",
        "data = data.drop(['SourceEUI(kBtu/sf)'], axis=1)\n",
        "data = data.drop(['SteamUse(kBtu)'], axis=1)\n",
        "data = data.drop(['Electricity(kWh)'], axis=1)\n",
        "data = data.drop(['NaturalGas(therms)'], axis=1)"
      ],
      "metadata": {
        "id": "Mr_NliU3xpTi"
      },
      "execution_count": null,
      "outputs": []
    },
    {
      "cell_type": "markdown",
      "source": [
        "La variable *GHGEmissionsIntensity* est intéressante mais ne dois pas être utilisée pour les modélisations, il faut donc la supprimer du dataset utilisé pour faire le modèle en la gardant dans une autre dataframe"
      ],
      "metadata": {
        "id": "WfCQpiZF3jkF"
      }
    },
    {
      "cell_type": "code",
      "source": [
        "df_GES_Intensity = data[\"GHGEmissionsIntensity\"]\n",
        "data = data.drop(['GHGEmissionsIntensity'], axis=1)"
      ],
      "metadata": {
        "id": "DnW8jSrs3U-9"
      },
      "execution_count": null,
      "outputs": []
    },
    {
      "cell_type": "markdown",
      "source": [
        "C'est aussi vrai pour la variable *ENERGYSTARScore*, elle est intéressante mais ne dois pas être utilisée pour les modélisations, il faut donc la supprimer du dataset utilisé pour faire le modèle en la gardant dans une autre dataframe"
      ],
      "metadata": {
        "id": "2Bug5gAj35Sp"
      }
    },
    {
      "cell_type": "code",
      "source": [
        "df_EnergyStarScore = data[\"ENERGYSTARScore\"]\n",
        "data = data.drop(['ENERGYSTARScore'], axis=1)"
      ],
      "metadata": {
        "id": "AGUrci1X4GzM"
      },
      "execution_count": null,
      "outputs": []
    },
    {
      "cell_type": "markdown",
      "source": [
        "Suppression des dernières variables non utilisables pour le modèle"
      ],
      "metadata": {
        "id": "1oJJEhSg4iQY"
      }
    },
    {
      "cell_type": "code",
      "source": [
        "data = data.drop(['DataYear'], axis=1)\n",
        "data = data.drop(['YearBuilt'], axis=1)\n",
        "data = data.drop(['NumberofBuildings'], axis=1)\n",
        "data = data.drop(['OSEBuildingID'], axis=1)\n",
        "data = data.drop(['BuildingType'], axis=1)\n",
        "data = data.drop(['ListOfAllPropertyUseTypes'], axis=1)"
      ],
      "metadata": {
        "id": "rB4hNg524o5C"
      },
      "execution_count": null,
      "outputs": []
    },
    {
      "cell_type": "markdown",
      "source": [
        "Préparation des données utilisées pour les modèles de machine learning"
      ],
      "metadata": {
        "id": "yKZMdKu6Ujeo"
      }
    },
    {
      "cell_type": "code",
      "source": [
        "to_predict_features = ['SiteEnergyUse(kBtu)', 'TotalGHGEmissions']\n",
        "Y = data[to_predict_features]\n",
        "X = data.drop(to_predict_features, axis=1)"
      ],
      "metadata": {
        "id": "eUUprYhm2DWD"
      },
      "execution_count": null,
      "outputs": []
    },
    {
      "cell_type": "markdown",
      "source": [
        "Split des features quantitatives et qualitatives :"
      ],
      "metadata": {
        "id": "dV_o8fJsUX81"
      }
    },
    {
      "cell_type": "code",
      "source": [
        "features_Quant = ['CouncilDistrictCode', 'NumberofFloors','PropertyGFATotal', 'PropertyGFAParking', 'PropertyGFABuilding(s)', 'LargestPropertyUseTypeGFA', 'GFA_per_floor','Building_age',]\n",
        "features_Qual = ['PrimaryPropertyType', 'Neighborhood', 'LargestPropertyUseType', 'YearBuilt_age']"
      ],
      "metadata": {
        "id": "9M3rQBZ3CzmS"
      },
      "execution_count": null,
      "outputs": []
    },
    {
      "cell_type": "code",
      "source": [
        "X.describe()"
      ],
      "metadata": {
        "colab": {
          "base_uri": "https://localhost:8080/",
          "height": 300
        },
        "id": "fiEZaFC93IrG",
        "outputId": "b87708c0-dc6d-4200-f33b-cb107be4170c"
      },
      "execution_count": null,
      "outputs": [
        {
          "output_type": "execute_result",
          "data": {
            "text/html": [
              "\n",
              "  <div id=\"df-a7241eae-b7d8-448b-a7e1-2baad85b4f49\">\n",
              "    <div class=\"colab-df-container\">\n",
              "      <div>\n",
              "<style scoped>\n",
              "    .dataframe tbody tr th:only-of-type {\n",
              "        vertical-align: middle;\n",
              "    }\n",
              "\n",
              "    .dataframe tbody tr th {\n",
              "        vertical-align: top;\n",
              "    }\n",
              "\n",
              "    .dataframe thead th {\n",
              "        text-align: right;\n",
              "    }\n",
              "</style>\n",
              "<table border=\"1\" class=\"dataframe\">\n",
              "  <thead>\n",
              "    <tr style=\"text-align: right;\">\n",
              "      <th></th>\n",
              "      <th>CouncilDistrictCode</th>\n",
              "      <th>NumberofFloors</th>\n",
              "      <th>PropertyGFATotal</th>\n",
              "      <th>PropertyGFAParking</th>\n",
              "      <th>PropertyGFABuilding(s)</th>\n",
              "      <th>LargestPropertyUseTypeGFA</th>\n",
              "      <th>GFA_per_floor</th>\n",
              "      <th>Building_age</th>\n",
              "    </tr>\n",
              "  </thead>\n",
              "  <tbody>\n",
              "    <tr>\n",
              "      <th>count</th>\n",
              "      <td>1532.000000</td>\n",
              "      <td>1532.000000</td>\n",
              "      <td>1532.000000</td>\n",
              "      <td>1532.000000</td>\n",
              "      <td>1532.000000</td>\n",
              "      <td>1532.000000</td>\n",
              "      <td>1532.000000</td>\n",
              "      <td>1532.000000</td>\n",
              "    </tr>\n",
              "    <tr>\n",
              "      <th>mean</th>\n",
              "      <td>4.344648</td>\n",
              "      <td>3.355744</td>\n",
              "      <td>74082.328982</td>\n",
              "      <td>6774.404047</td>\n",
              "      <td>67307.924935</td>\n",
              "      <td>62530.179504</td>\n",
              "      <td>29293.260956</td>\n",
              "      <td>63.242820</td>\n",
              "    </tr>\n",
              "    <tr>\n",
              "      <th>std</th>\n",
              "      <td>2.194945</td>\n",
              "      <td>2.758174</td>\n",
              "      <td>66720.168681</td>\n",
              "      <td>17959.627448</td>\n",
              "      <td>59857.023820</td>\n",
              "      <td>54490.822868</td>\n",
              "      <td>31827.396892</td>\n",
              "      <td>32.541263</td>\n",
              "    </tr>\n",
              "    <tr>\n",
              "      <th>min</th>\n",
              "      <td>1.000000</td>\n",
              "      <td>1.000000</td>\n",
              "      <td>16300.000000</td>\n",
              "      <td>0.000000</td>\n",
              "      <td>16200.000000</td>\n",
              "      <td>8061.000000</td>\n",
              "      <td>3294.545455</td>\n",
              "      <td>7.000000</td>\n",
              "    </tr>\n",
              "    <tr>\n",
              "      <th>25%</th>\n",
              "      <td>2.000000</td>\n",
              "      <td>1.000000</td>\n",
              "      <td>28846.250000</td>\n",
              "      <td>0.000000</td>\n",
              "      <td>28008.500000</td>\n",
              "      <td>25981.750000</td>\n",
              "      <td>12113.125000</td>\n",
              "      <td>37.750000</td>\n",
              "    </tr>\n",
              "    <tr>\n",
              "      <th>50%</th>\n",
              "      <td>4.000000</td>\n",
              "      <td>3.000000</td>\n",
              "      <td>48112.000000</td>\n",
              "      <td>0.000000</td>\n",
              "      <td>45864.000000</td>\n",
              "      <td>41732.500000</td>\n",
              "      <td>20648.833333</td>\n",
              "      <td>59.000000</td>\n",
              "    </tr>\n",
              "    <tr>\n",
              "      <th>75%</th>\n",
              "      <td>7.000000</td>\n",
              "      <td>4.000000</td>\n",
              "      <td>94002.000000</td>\n",
              "      <td>0.000000</td>\n",
              "      <td>83008.000000</td>\n",
              "      <td>79384.000000</td>\n",
              "      <td>33514.000000</td>\n",
              "      <td>94.000000</td>\n",
              "    </tr>\n",
              "    <tr>\n",
              "      <th>max</th>\n",
              "      <td>7.000000</td>\n",
              "      <td>17.000000</td>\n",
              "      <td>411584.000000</td>\n",
              "      <td>101342.000000</td>\n",
              "      <td>411584.000000</td>\n",
              "      <td>388934.000000</td>\n",
              "      <td>411584.000000</td>\n",
              "      <td>122.000000</td>\n",
              "    </tr>\n",
              "  </tbody>\n",
              "</table>\n",
              "</div>\n",
              "      <button class=\"colab-df-convert\" onclick=\"convertToInteractive('df-a7241eae-b7d8-448b-a7e1-2baad85b4f49')\"\n",
              "              title=\"Convert this dataframe to an interactive table.\"\n",
              "              style=\"display:none;\">\n",
              "        \n",
              "  <svg xmlns=\"http://www.w3.org/2000/svg\" height=\"24px\"viewBox=\"0 0 24 24\"\n",
              "       width=\"24px\">\n",
              "    <path d=\"M0 0h24v24H0V0z\" fill=\"none\"/>\n",
              "    <path d=\"M18.56 5.44l.94 2.06.94-2.06 2.06-.94-2.06-.94-.94-2.06-.94 2.06-2.06.94zm-11 1L8.5 8.5l.94-2.06 2.06-.94-2.06-.94L8.5 2.5l-.94 2.06-2.06.94zm10 10l.94 2.06.94-2.06 2.06-.94-2.06-.94-.94-2.06-.94 2.06-2.06.94z\"/><path d=\"M17.41 7.96l-1.37-1.37c-.4-.4-.92-.59-1.43-.59-.52 0-1.04.2-1.43.59L10.3 9.45l-7.72 7.72c-.78.78-.78 2.05 0 2.83L4 21.41c.39.39.9.59 1.41.59.51 0 1.02-.2 1.41-.59l7.78-7.78 2.81-2.81c.8-.78.8-2.07 0-2.86zM5.41 20L4 18.59l7.72-7.72 1.47 1.35L5.41 20z\"/>\n",
              "  </svg>\n",
              "      </button>\n",
              "      \n",
              "  <style>\n",
              "    .colab-df-container {\n",
              "      display:flex;\n",
              "      flex-wrap:wrap;\n",
              "      gap: 12px;\n",
              "    }\n",
              "\n",
              "    .colab-df-convert {\n",
              "      background-color: #E8F0FE;\n",
              "      border: none;\n",
              "      border-radius: 50%;\n",
              "      cursor: pointer;\n",
              "      display: none;\n",
              "      fill: #1967D2;\n",
              "      height: 32px;\n",
              "      padding: 0 0 0 0;\n",
              "      width: 32px;\n",
              "    }\n",
              "\n",
              "    .colab-df-convert:hover {\n",
              "      background-color: #E2EBFA;\n",
              "      box-shadow: 0px 1px 2px rgba(60, 64, 67, 0.3), 0px 1px 3px 1px rgba(60, 64, 67, 0.15);\n",
              "      fill: #174EA6;\n",
              "    }\n",
              "\n",
              "    [theme=dark] .colab-df-convert {\n",
              "      background-color: #3B4455;\n",
              "      fill: #D2E3FC;\n",
              "    }\n",
              "\n",
              "    [theme=dark] .colab-df-convert:hover {\n",
              "      background-color: #434B5C;\n",
              "      box-shadow: 0px 1px 3px 1px rgba(0, 0, 0, 0.15);\n",
              "      filter: drop-shadow(0px 1px 2px rgba(0, 0, 0, 0.3));\n",
              "      fill: #FFFFFF;\n",
              "    }\n",
              "  </style>\n",
              "\n",
              "      <script>\n",
              "        const buttonEl =\n",
              "          document.querySelector('#df-a7241eae-b7d8-448b-a7e1-2baad85b4f49 button.colab-df-convert');\n",
              "        buttonEl.style.display =\n",
              "          google.colab.kernel.accessAllowed ? 'block' : 'none';\n",
              "\n",
              "        async function convertToInteractive(key) {\n",
              "          const element = document.querySelector('#df-a7241eae-b7d8-448b-a7e1-2baad85b4f49');\n",
              "          const dataTable =\n",
              "            await google.colab.kernel.invokeFunction('convertToInteractive',\n",
              "                                                     [key], {});\n",
              "          if (!dataTable) return;\n",
              "\n",
              "          const docLinkHtml = 'Like what you see? Visit the ' +\n",
              "            '<a target=\"_blank\" href=https://colab.research.google.com/notebooks/data_table.ipynb>data table notebook</a>'\n",
              "            + ' to learn more about interactive tables.';\n",
              "          element.innerHTML = '';\n",
              "          dataTable['output_type'] = 'display_data';\n",
              "          await google.colab.output.renderOutput(dataTable, element);\n",
              "          const docLink = document.createElement('div');\n",
              "          docLink.innerHTML = docLinkHtml;\n",
              "          element.appendChild(docLink);\n",
              "        }\n",
              "      </script>\n",
              "    </div>\n",
              "  </div>\n",
              "  "
            ],
            "text/plain": [
              "       CouncilDistrictCode  NumberofFloors  PropertyGFATotal  \\\n",
              "count          1532.000000     1532.000000       1532.000000   \n",
              "mean              4.344648        3.355744      74082.328982   \n",
              "std               2.194945        2.758174      66720.168681   \n",
              "min               1.000000        1.000000      16300.000000   \n",
              "25%               2.000000        1.000000      28846.250000   \n",
              "50%               4.000000        3.000000      48112.000000   \n",
              "75%               7.000000        4.000000      94002.000000   \n",
              "max               7.000000       17.000000     411584.000000   \n",
              "\n",
              "       PropertyGFAParking  PropertyGFABuilding(s)  LargestPropertyUseTypeGFA  \\\n",
              "count         1532.000000             1532.000000                1532.000000   \n",
              "mean          6774.404047            67307.924935               62530.179504   \n",
              "std          17959.627448            59857.023820               54490.822868   \n",
              "min              0.000000            16200.000000                8061.000000   \n",
              "25%              0.000000            28008.500000               25981.750000   \n",
              "50%              0.000000            45864.000000               41732.500000   \n",
              "75%              0.000000            83008.000000               79384.000000   \n",
              "max         101342.000000           411584.000000              388934.000000   \n",
              "\n",
              "       GFA_per_floor  Building_age  \n",
              "count    1532.000000   1532.000000  \n",
              "mean    29293.260956     63.242820  \n",
              "std     31827.396892     32.541263  \n",
              "min      3294.545455      7.000000  \n",
              "25%     12113.125000     37.750000  \n",
              "50%     20648.833333     59.000000  \n",
              "75%     33514.000000     94.000000  \n",
              "max    411584.000000    122.000000  "
            ]
          },
          "metadata": {},
          "execution_count": 16
        }
      ]
    },
    {
      "cell_type": "code",
      "source": [
        "X.head()"
      ],
      "metadata": {
        "colab": {
          "base_uri": "https://localhost:8080/",
          "height": 270
        },
        "id": "GHGtOfNEELdz",
        "outputId": "8c1340f9-74b3-4daf-f134-16a9d6a29f24"
      },
      "execution_count": null,
      "outputs": [
        {
          "output_type": "execute_result",
          "data": {
            "text/html": [
              "\n",
              "  <div id=\"df-1b6737f9-c401-47cf-b465-f159e1b70948\">\n",
              "    <div class=\"colab-df-container\">\n",
              "      <div>\n",
              "<style scoped>\n",
              "    .dataframe tbody tr th:only-of-type {\n",
              "        vertical-align: middle;\n",
              "    }\n",
              "\n",
              "    .dataframe tbody tr th {\n",
              "        vertical-align: top;\n",
              "    }\n",
              "\n",
              "    .dataframe thead th {\n",
              "        text-align: right;\n",
              "    }\n",
              "</style>\n",
              "<table border=\"1\" class=\"dataframe\">\n",
              "  <thead>\n",
              "    <tr style=\"text-align: right;\">\n",
              "      <th></th>\n",
              "      <th>PrimaryPropertyType</th>\n",
              "      <th>CouncilDistrictCode</th>\n",
              "      <th>Neighborhood</th>\n",
              "      <th>NumberofFloors</th>\n",
              "      <th>PropertyGFATotal</th>\n",
              "      <th>PropertyGFAParking</th>\n",
              "      <th>PropertyGFABuilding(s)</th>\n",
              "      <th>LargestPropertyUseType</th>\n",
              "      <th>LargestPropertyUseTypeGFA</th>\n",
              "      <th>YearBuilt_age</th>\n",
              "      <th>GFA_per_floor</th>\n",
              "      <th>Building_age</th>\n",
              "    </tr>\n",
              "  </thead>\n",
              "  <tbody>\n",
              "    <tr>\n",
              "      <th>0</th>\n",
              "      <td>Hotel</td>\n",
              "      <td>7.0</td>\n",
              "      <td>DOWNTOWN</td>\n",
              "      <td>12.0</td>\n",
              "      <td>88434.0</td>\n",
              "      <td>0.0</td>\n",
              "      <td>88434.0</td>\n",
              "      <td>Hotel</td>\n",
              "      <td>88434.0</td>\n",
              "      <td>old</td>\n",
              "      <td>7369.500000</td>\n",
              "      <td>95.0</td>\n",
              "    </tr>\n",
              "    <tr>\n",
              "      <th>1</th>\n",
              "      <td>Hotel</td>\n",
              "      <td>7.0</td>\n",
              "      <td>DOWNTOWN</td>\n",
              "      <td>11.0</td>\n",
              "      <td>103566.0</td>\n",
              "      <td>15064.0</td>\n",
              "      <td>88502.0</td>\n",
              "      <td>Hotel</td>\n",
              "      <td>83880.0</td>\n",
              "      <td>old</td>\n",
              "      <td>9415.090909</td>\n",
              "      <td>26.0</td>\n",
              "    </tr>\n",
              "    <tr>\n",
              "      <th>2</th>\n",
              "      <td>Hotel</td>\n",
              "      <td>7.0</td>\n",
              "      <td>DOWNTOWN</td>\n",
              "      <td>11.0</td>\n",
              "      <td>83008.0</td>\n",
              "      <td>0.0</td>\n",
              "      <td>83008.0</td>\n",
              "      <td>Hotel</td>\n",
              "      <td>81352.0</td>\n",
              "      <td>old</td>\n",
              "      <td>7546.181818</td>\n",
              "      <td>96.0</td>\n",
              "    </tr>\n",
              "    <tr>\n",
              "      <th>3</th>\n",
              "      <td>Hotel</td>\n",
              "      <td>7.0</td>\n",
              "      <td>DOWNTOWN</td>\n",
              "      <td>15.0</td>\n",
              "      <td>163984.0</td>\n",
              "      <td>0.0</td>\n",
              "      <td>163984.0</td>\n",
              "      <td>Hotel</td>\n",
              "      <td>163984.0</td>\n",
              "      <td>old</td>\n",
              "      <td>10932.266667</td>\n",
              "      <td>118.0</td>\n",
              "    </tr>\n",
              "    <tr>\n",
              "      <th>4</th>\n",
              "      <td>Hotel</td>\n",
              "      <td>7.0</td>\n",
              "      <td>DOWNTOWN</td>\n",
              "      <td>9.0</td>\n",
              "      <td>65009.0</td>\n",
              "      <td>0.0</td>\n",
              "      <td>65009.0</td>\n",
              "      <td>Hotel</td>\n",
              "      <td>65009.0</td>\n",
              "      <td>old</td>\n",
              "      <td>7223.222222</td>\n",
              "      <td>94.0</td>\n",
              "    </tr>\n",
              "  </tbody>\n",
              "</table>\n",
              "</div>\n",
              "      <button class=\"colab-df-convert\" onclick=\"convertToInteractive('df-1b6737f9-c401-47cf-b465-f159e1b70948')\"\n",
              "              title=\"Convert this dataframe to an interactive table.\"\n",
              "              style=\"display:none;\">\n",
              "        \n",
              "  <svg xmlns=\"http://www.w3.org/2000/svg\" height=\"24px\"viewBox=\"0 0 24 24\"\n",
              "       width=\"24px\">\n",
              "    <path d=\"M0 0h24v24H0V0z\" fill=\"none\"/>\n",
              "    <path d=\"M18.56 5.44l.94 2.06.94-2.06 2.06-.94-2.06-.94-.94-2.06-.94 2.06-2.06.94zm-11 1L8.5 8.5l.94-2.06 2.06-.94-2.06-.94L8.5 2.5l-.94 2.06-2.06.94zm10 10l.94 2.06.94-2.06 2.06-.94-2.06-.94-.94-2.06-.94 2.06-2.06.94z\"/><path d=\"M17.41 7.96l-1.37-1.37c-.4-.4-.92-.59-1.43-.59-.52 0-1.04.2-1.43.59L10.3 9.45l-7.72 7.72c-.78.78-.78 2.05 0 2.83L4 21.41c.39.39.9.59 1.41.59.51 0 1.02-.2 1.41-.59l7.78-7.78 2.81-2.81c.8-.78.8-2.07 0-2.86zM5.41 20L4 18.59l7.72-7.72 1.47 1.35L5.41 20z\"/>\n",
              "  </svg>\n",
              "      </button>\n",
              "      \n",
              "  <style>\n",
              "    .colab-df-container {\n",
              "      display:flex;\n",
              "      flex-wrap:wrap;\n",
              "      gap: 12px;\n",
              "    }\n",
              "\n",
              "    .colab-df-convert {\n",
              "      background-color: #E8F0FE;\n",
              "      border: none;\n",
              "      border-radius: 50%;\n",
              "      cursor: pointer;\n",
              "      display: none;\n",
              "      fill: #1967D2;\n",
              "      height: 32px;\n",
              "      padding: 0 0 0 0;\n",
              "      width: 32px;\n",
              "    }\n",
              "\n",
              "    .colab-df-convert:hover {\n",
              "      background-color: #E2EBFA;\n",
              "      box-shadow: 0px 1px 2px rgba(60, 64, 67, 0.3), 0px 1px 3px 1px rgba(60, 64, 67, 0.15);\n",
              "      fill: #174EA6;\n",
              "    }\n",
              "\n",
              "    [theme=dark] .colab-df-convert {\n",
              "      background-color: #3B4455;\n",
              "      fill: #D2E3FC;\n",
              "    }\n",
              "\n",
              "    [theme=dark] .colab-df-convert:hover {\n",
              "      background-color: #434B5C;\n",
              "      box-shadow: 0px 1px 3px 1px rgba(0, 0, 0, 0.15);\n",
              "      filter: drop-shadow(0px 1px 2px rgba(0, 0, 0, 0.3));\n",
              "      fill: #FFFFFF;\n",
              "    }\n",
              "  </style>\n",
              "\n",
              "      <script>\n",
              "        const buttonEl =\n",
              "          document.querySelector('#df-1b6737f9-c401-47cf-b465-f159e1b70948 button.colab-df-convert');\n",
              "        buttonEl.style.display =\n",
              "          google.colab.kernel.accessAllowed ? 'block' : 'none';\n",
              "\n",
              "        async function convertToInteractive(key) {\n",
              "          const element = document.querySelector('#df-1b6737f9-c401-47cf-b465-f159e1b70948');\n",
              "          const dataTable =\n",
              "            await google.colab.kernel.invokeFunction('convertToInteractive',\n",
              "                                                     [key], {});\n",
              "          if (!dataTable) return;\n",
              "\n",
              "          const docLinkHtml = 'Like what you see? Visit the ' +\n",
              "            '<a target=\"_blank\" href=https://colab.research.google.com/notebooks/data_table.ipynb>data table notebook</a>'\n",
              "            + ' to learn more about interactive tables.';\n",
              "          element.innerHTML = '';\n",
              "          dataTable['output_type'] = 'display_data';\n",
              "          await google.colab.output.renderOutput(dataTable, element);\n",
              "          const docLink = document.createElement('div');\n",
              "          docLink.innerHTML = docLinkHtml;\n",
              "          element.appendChild(docLink);\n",
              "        }\n",
              "      </script>\n",
              "    </div>\n",
              "  </div>\n",
              "  "
            ],
            "text/plain": [
              "  PrimaryPropertyType  CouncilDistrictCode Neighborhood  NumberofFloors  \\\n",
              "0               Hotel                  7.0     DOWNTOWN            12.0   \n",
              "1               Hotel                  7.0     DOWNTOWN            11.0   \n",
              "2               Hotel                  7.0     DOWNTOWN            11.0   \n",
              "3               Hotel                  7.0     DOWNTOWN            15.0   \n",
              "4               Hotel                  7.0     DOWNTOWN             9.0   \n",
              "\n",
              "   PropertyGFATotal  PropertyGFAParking  PropertyGFABuilding(s)  \\\n",
              "0           88434.0                 0.0                 88434.0   \n",
              "1          103566.0             15064.0                 88502.0   \n",
              "2           83008.0                 0.0                 83008.0   \n",
              "3          163984.0                 0.0                163984.0   \n",
              "4           65009.0                 0.0                 65009.0   \n",
              "\n",
              "  LargestPropertyUseType  LargestPropertyUseTypeGFA YearBuilt_age  \\\n",
              "0                  Hotel                    88434.0           old   \n",
              "1                  Hotel                    83880.0           old   \n",
              "2                  Hotel                    81352.0           old   \n",
              "3                  Hotel                   163984.0           old   \n",
              "4                  Hotel                    65009.0           old   \n",
              "\n",
              "   GFA_per_floor  Building_age  \n",
              "0    7369.500000          95.0  \n",
              "1    9415.090909          26.0  \n",
              "2    7546.181818          96.0  \n",
              "3   10932.266667         118.0  \n",
              "4    7223.222222          94.0  "
            ]
          },
          "metadata": {},
          "execution_count": 17
        }
      ]
    },
    {
      "cell_type": "code",
      "source": [
        "Y.describe()"
      ],
      "metadata": {
        "colab": {
          "base_uri": "https://localhost:8080/",
          "height": 300
        },
        "id": "HjqisNyi3Ng0",
        "outputId": "8125d8af-9406-4d35-c908-31b01b80e976"
      },
      "execution_count": null,
      "outputs": [
        {
          "output_type": "execute_result",
          "data": {
            "text/html": [
              "\n",
              "  <div id=\"df-443ebe5c-8fac-4a9b-983a-e31de4c3cefd\">\n",
              "    <div class=\"colab-df-container\">\n",
              "      <div>\n",
              "<style scoped>\n",
              "    .dataframe tbody tr th:only-of-type {\n",
              "        vertical-align: middle;\n",
              "    }\n",
              "\n",
              "    .dataframe tbody tr th {\n",
              "        vertical-align: top;\n",
              "    }\n",
              "\n",
              "    .dataframe thead th {\n",
              "        text-align: right;\n",
              "    }\n",
              "</style>\n",
              "<table border=\"1\" class=\"dataframe\">\n",
              "  <thead>\n",
              "    <tr style=\"text-align: right;\">\n",
              "      <th></th>\n",
              "      <th>SiteEnergyUse(kBtu)</th>\n",
              "      <th>TotalGHGEmissions</th>\n",
              "    </tr>\n",
              "  </thead>\n",
              "  <tbody>\n",
              "    <tr>\n",
              "      <th>count</th>\n",
              "      <td>1.532000e+03</td>\n",
              "      <td>1532.000000</td>\n",
              "    </tr>\n",
              "    <tr>\n",
              "      <th>mean</th>\n",
              "      <td>3.612240e+06</td>\n",
              "      <td>70.607134</td>\n",
              "    </tr>\n",
              "    <tr>\n",
              "      <th>std</th>\n",
              "      <td>4.067234e+06</td>\n",
              "      <td>93.478450</td>\n",
              "    </tr>\n",
              "    <tr>\n",
              "      <th>min</th>\n",
              "      <td>4.394300e+04</td>\n",
              "      <td>0.000000</td>\n",
              "    </tr>\n",
              "    <tr>\n",
              "      <th>25%</th>\n",
              "      <td>1.069189e+06</td>\n",
              "      <td>15.492500</td>\n",
              "    </tr>\n",
              "    <tr>\n",
              "      <th>50%</th>\n",
              "      <td>2.067009e+06</td>\n",
              "      <td>37.420000</td>\n",
              "    </tr>\n",
              "    <tr>\n",
              "      <th>75%</th>\n",
              "      <td>4.712360e+06</td>\n",
              "      <td>82.295000</td>\n",
              "    </tr>\n",
              "    <tr>\n",
              "      <th>max</th>\n",
              "      <td>2.843306e+07</td>\n",
              "      <td>940.470000</td>\n",
              "    </tr>\n",
              "  </tbody>\n",
              "</table>\n",
              "</div>\n",
              "      <button class=\"colab-df-convert\" onclick=\"convertToInteractive('df-443ebe5c-8fac-4a9b-983a-e31de4c3cefd')\"\n",
              "              title=\"Convert this dataframe to an interactive table.\"\n",
              "              style=\"display:none;\">\n",
              "        \n",
              "  <svg xmlns=\"http://www.w3.org/2000/svg\" height=\"24px\"viewBox=\"0 0 24 24\"\n",
              "       width=\"24px\">\n",
              "    <path d=\"M0 0h24v24H0V0z\" fill=\"none\"/>\n",
              "    <path d=\"M18.56 5.44l.94 2.06.94-2.06 2.06-.94-2.06-.94-.94-2.06-.94 2.06-2.06.94zm-11 1L8.5 8.5l.94-2.06 2.06-.94-2.06-.94L8.5 2.5l-.94 2.06-2.06.94zm10 10l.94 2.06.94-2.06 2.06-.94-2.06-.94-.94-2.06-.94 2.06-2.06.94z\"/><path d=\"M17.41 7.96l-1.37-1.37c-.4-.4-.92-.59-1.43-.59-.52 0-1.04.2-1.43.59L10.3 9.45l-7.72 7.72c-.78.78-.78 2.05 0 2.83L4 21.41c.39.39.9.59 1.41.59.51 0 1.02-.2 1.41-.59l7.78-7.78 2.81-2.81c.8-.78.8-2.07 0-2.86zM5.41 20L4 18.59l7.72-7.72 1.47 1.35L5.41 20z\"/>\n",
              "  </svg>\n",
              "      </button>\n",
              "      \n",
              "  <style>\n",
              "    .colab-df-container {\n",
              "      display:flex;\n",
              "      flex-wrap:wrap;\n",
              "      gap: 12px;\n",
              "    }\n",
              "\n",
              "    .colab-df-convert {\n",
              "      background-color: #E8F0FE;\n",
              "      border: none;\n",
              "      border-radius: 50%;\n",
              "      cursor: pointer;\n",
              "      display: none;\n",
              "      fill: #1967D2;\n",
              "      height: 32px;\n",
              "      padding: 0 0 0 0;\n",
              "      width: 32px;\n",
              "    }\n",
              "\n",
              "    .colab-df-convert:hover {\n",
              "      background-color: #E2EBFA;\n",
              "      box-shadow: 0px 1px 2px rgba(60, 64, 67, 0.3), 0px 1px 3px 1px rgba(60, 64, 67, 0.15);\n",
              "      fill: #174EA6;\n",
              "    }\n",
              "\n",
              "    [theme=dark] .colab-df-convert {\n",
              "      background-color: #3B4455;\n",
              "      fill: #D2E3FC;\n",
              "    }\n",
              "\n",
              "    [theme=dark] .colab-df-convert:hover {\n",
              "      background-color: #434B5C;\n",
              "      box-shadow: 0px 1px 3px 1px rgba(0, 0, 0, 0.15);\n",
              "      filter: drop-shadow(0px 1px 2px rgba(0, 0, 0, 0.3));\n",
              "      fill: #FFFFFF;\n",
              "    }\n",
              "  </style>\n",
              "\n",
              "      <script>\n",
              "        const buttonEl =\n",
              "          document.querySelector('#df-443ebe5c-8fac-4a9b-983a-e31de4c3cefd button.colab-df-convert');\n",
              "        buttonEl.style.display =\n",
              "          google.colab.kernel.accessAllowed ? 'block' : 'none';\n",
              "\n",
              "        async function convertToInteractive(key) {\n",
              "          const element = document.querySelector('#df-443ebe5c-8fac-4a9b-983a-e31de4c3cefd');\n",
              "          const dataTable =\n",
              "            await google.colab.kernel.invokeFunction('convertToInteractive',\n",
              "                                                     [key], {});\n",
              "          if (!dataTable) return;\n",
              "\n",
              "          const docLinkHtml = 'Like what you see? Visit the ' +\n",
              "            '<a target=\"_blank\" href=https://colab.research.google.com/notebooks/data_table.ipynb>data table notebook</a>'\n",
              "            + ' to learn more about interactive tables.';\n",
              "          element.innerHTML = '';\n",
              "          dataTable['output_type'] = 'display_data';\n",
              "          await google.colab.output.renderOutput(dataTable, element);\n",
              "          const docLink = document.createElement('div');\n",
              "          docLink.innerHTML = docLinkHtml;\n",
              "          element.appendChild(docLink);\n",
              "        }\n",
              "      </script>\n",
              "    </div>\n",
              "  </div>\n",
              "  "
            ],
            "text/plain": [
              "       SiteEnergyUse(kBtu)  TotalGHGEmissions\n",
              "count         1.532000e+03        1532.000000\n",
              "mean          3.612240e+06          70.607134\n",
              "std           4.067234e+06          93.478450\n",
              "min           4.394300e+04           0.000000\n",
              "25%           1.069189e+06          15.492500\n",
              "50%           2.067009e+06          37.420000\n",
              "75%           4.712360e+06          82.295000\n",
              "max           2.843306e+07         940.470000"
            ]
          },
          "metadata": {},
          "execution_count": 18
        }
      ]
    },
    {
      "cell_type": "markdown",
      "source": [
        "# Utilisation des variables quantitatives uniquement"
      ],
      "metadata": {
        "id": "ZBbpzcJO3NHL"
      }
    },
    {
      "cell_type": "markdown",
      "source": [
        "## Modélisation linéaire, évaluation des performances des différents algorithmes\n",
        "\n",
        "*Je choisi comme métric d'évaluation des performances des modèles le score de prédiction ainsi que le RMSE qui donnent des informations complémentaires* "
      ],
      "metadata": {
        "id": "RwB_n5BA7k6K"
      }
    },
    {
      "cell_type": "markdown",
      "source": [
        "Définition des modèles que je vais évaluer :"
      ],
      "metadata": {
        "id": "L2ZDsWWvUrkF"
      }
    },
    {
      "cell_type": "code",
      "source": [
        "X = X[features_Quant]"
      ],
      "metadata": {
        "id": "PKZbP_20CmMI"
      },
      "execution_count": null,
      "outputs": []
    },
    {
      "cell_type": "code",
      "source": [
        "# Split des données\n",
        "X_train, X_test, y_train, y_test = train_test_split(X, Y['SiteEnergyUse(kBtu)'], test_size=0.25, random_state = 7)\n",
        "# je centre-réduit les données pour un gain de temps\n",
        "X_train=StandardScaler().fit_transform(X_train)"
      ],
      "metadata": {
        "id": "i2OO8yeNtgv0"
      },
      "execution_count": null,
      "outputs": []
    },
    {
      "cell_type": "markdown",
      "source": [
        "Evaluation des meilleurs hyperparamètres pour chaque modèle par gridsearch et validation croisée"
      ],
      "metadata": {
        "id": "NREIzSgpyaPD"
      }
    },
    {
      "cell_type": "code",
      "source": [
        "# Je mets ce code en commentaire car très long à executer\n",
        "\n",
        "lasso_parameters = {'alpha':[0.02, 0.024, 0.025, 0.026, 0.03]}\n",
        "lasso_GridSearchCV = GridSearchCV(estimator = Lasso(), param_grid = lasso_parameters, cv = 5, n_jobs=-1)\n",
        "lasso_GridSearchCV.fit(X_train, y_train)\n",
        "lasso_GridSearchCV.best_params_\n",
        "print(\"Lasso best param = \" +str(lasso_GridSearchCV.best_params_))\n",
        "\n",
        "ridge_parameters = {'alpha':[200, 230, 250,265, 270, 275, 290, 300, 500]}\n",
        "ridge_GridSearchCV = GridSearchCV(estimator = Ridge(), param_grid = ridge_parameters, cv = 5, n_jobs=-1)\n",
        "ridge_GridSearchCV.fit(X_train, y_train)\n",
        "print(\"Ridge best param = \" +str(ridge_GridSearchCV.best_params_))\n",
        "\n",
        "ElasticNet_parameters = {\"max_iter\": [1, 5, 10], \"alpha\": [0.0001, 0.001, 0.01, 0.1, 1, 10, 100], \"l1_ratio\": np.arange(0.0, 1.0, 0.1)}\n",
        "ElasticNet_GridSearchCV = GridSearchCV(estimator = ElasticNet(), param_grid = ElasticNet_parameters, cv = 5, n_jobs=-1)\n",
        "ElasticNet_GridSearchCV.fit(X_train, y_train)\n",
        "print(\"ElasticNet best param = \" +str(ElasticNet_GridSearchCV.best_params_))\n",
        "\n",
        "TweedieRegressor_parameters = {\"max_iter\": [1, 5, 10], \"alpha\": [0.0001, 0.001, 0.01, 0.1, 1, 10, 100]}\n",
        "TweedieRegressor_GridSearchCV = GridSearchCV(estimator = TweedieRegressor(), param_grid = TweedieRegressor_parameters, cv = 5, n_jobs=-1)\n",
        "TweedieRegressor_GridSearchCV.fit(X_train, y_train)\n",
        "print(\"TweedieRegressor best param = \" +str(TweedieRegressor_GridSearchCV.best_params_))\n",
        "\n",
        "HuberRegressor_parameters = {\"max_iter\": [1, 5, 10], \"alpha\": [0.0001, 0.001, 0.01, 0.1, 1, 10, 100]}\n",
        "HuberRegressor_GridSearchCV = GridSearchCV(estimator = HuberRegressor(), param_grid = HuberRegressor_parameters, cv = 5, n_jobs=-1)\n",
        "HuberRegressor_GridSearchCV.fit(X_train, y_train)\n",
        "print(\"HuberRegressor best param = \" +str(HuberRegressor_GridSearchCV.best_params_))\n",
        "\n",
        "SVR_parameters = {'C': [0.1,1, 10, 100], 'gamma': [1,0.1,0.01,0.001],'kernel': ['rbf', 'poly', 'sigmoid']}\n",
        "SVR_GridSearchCV = GridSearchCV(estimator = SVR(), param_grid = SVR_parameters, cv = 5, n_jobs=-1)\n",
        "SVR_GridSearchCV.fit(X_train, y_train)\n",
        "print(\"HuberRegressor best param = \" +str(SVR_GridSearchCV.best_params_))\n",
        "\n",
        "XGBRegressor_parameters = {'C': [0.1,1, 10, 100], 'gamma': [1,0.1,0.01,0.001],'kernel': ['rbf', 'poly', 'sigmoid']}\n",
        "XGBRegressor_GridSearchCV = GridSearchCV(estimator = XGBRegressor(), param_grid = XGBRegressor_parameters, cv = 5, n_jobs=-1)\n",
        "XGBRegressor_GridSearchCV.fit(X_train, y_train)\n",
        "print(\"XGBRegressor best param = \" +str(XGBRegressor_GridSearchCV.best_params_))\n",
        "\n",
        "RandomForest_parameters = {\"n_estimators\" : [10,20,30],\"max_features\": [\"auto\", \"sqrt\", \"log2\"], \"max_depth\": [int(x) for x in np.linspace(10, 110, num = 11)], \"min_samples_split\": [2,4,8], \"min_samples_leaf\": [1, 2, 4], \"bootstrap\": [True, False],}\n",
        "RandomForest_GridSearchCV = GridSearchCV(estimator = RandomForest(), param_grid = RandomForest_parameters, cv = 5, n_jobs=-1)\n",
        "RandomForest_GridSearchCV.fit(X_train, y_train)\n",
        "print(\"RandomForest best param = \" +str(RandomForest_GridSearchCV.best_params_))\n",
        "\n"
      ],
      "metadata": {
        "colab": {
          "base_uri": "https://localhost:8080/",
          "height": 146
        },
        "id": "kKTU7ebsmsrt",
        "outputId": "905cf780-8d6b-4d35-bca3-f5de392cb282"
      },
      "execution_count": null,
      "outputs": [
        {
          "output_type": "execute_result",
          "data": {
            "application/vnd.google.colaboratory.intrinsic+json": {
              "type": "string"
            },
            "text/plain": [
              "'\\n\\nlasso_parameters = {\\'alpha\\':[0.02, 0.024, 0.025, 0.026, 0.03]}\\nlasso_GridSearchCV = GridSearchCV(estimator = Lasso(), param_grid = lasso_parameters, cv = 5, n_jobs=-1)\\nlasso_GridSearchCV.fit(X_train, y_train)\\nlasso_GridSearchCV.best_params_\\nprint(\"Lasso best param = \" +str(lasso_GridSearchCV.best_params_))\\n\\nridge_parameters = {\\'alpha\\':[200, 230, 250,265, 270, 275, 290, 300, 500]}\\nridge_GridSearchCV = GridSearchCV(estimator = Ridge(), param_grid = ridge_parameters, cv = 5, n_jobs=-1)\\nridge_GridSearchCV.fit(X_train, y_train)\\nprint(\"Ridge best param = \" +str(ridge_GridSearchCV.best_params_))\\n\\nElasticNet_parameters = {\"max_iter\": [1, 5, 10], \"alpha\": [0.0001, 0.001, 0.01, 0.1, 1, 10, 100], \"l1_ratio\": np.arange(0.0, 1.0, 0.1)}\\nElasticNet_GridSearchCV = GridSearchCV(estimator = ElasticNet(), param_grid = ElasticNet_parameters, cv = 5, n_jobs=-1)\\nElasticNet_GridSearchCV.fit(X_train, y_train)\\nprint(\"ElasticNet best param = \" +str(ElasticNet_GridSearchCV.best_params_))\\n\\nTweedieRegressor_parameters = {\"max_iter\": [1, 5, 10], \"alpha\": [0.0001, 0.001, 0.01, 0.1, 1, 10, 100]}\\nTweedieRegressor_GridSearchCV = GridSearchCV(estimator = TweedieRegressor(), param_grid = TweedieRegressor_parameters, cv = 5, n_jobs=-1)\\nTweedieRegressor_GridSearchCV.fit(X_train, y_train)\\nprint(\"TweedieRegressor best param = \" +str(TweedieRegressor_GridSearchCV.best_params_))\\n\\nHuberRegressor_parameters = {\"max_iter\": [1, 5, 10], \"alpha\": [0.0001, 0.001, 0.01, 0.1, 1, 10, 100]}\\nHuberRegressor_GridSearchCV = GridSearchCV(estimator = HuberRegressor(), param_grid = HuberRegressor_parameters, cv = 5, n_jobs=-1)\\nHuberRegressor_GridSearchCV.fit(X_train, y_train)\\nprint(\"HuberRegressor best param = \" +str(HuberRegressor_GridSearchCV.best_params_))\\n\\nSVR_parameters = {\\'C\\': [0.1,1, 10, 100], \\'gamma\\': [1,0.1,0.01,0.001],\\'kernel\\': [\\'rbf\\', \\'poly\\', \\'sigmoid\\']}\\nSVR_GridSearchCV = GridSearchCV(estimator = SVR(), param_grid = SVR_parameters, cv = 5, n_jobs=-1)\\nSVR_GridSearchCV.fit(X_train, y_train)\\nprint(\"HuberRegressor best param = \" +str(SVR_GridSearchCV.best_params_))\\n\\nXGBRegressor_parameters = {\\'C\\': [0.1,1, 10, 100], \\'gamma\\': [1,0.1,0.01,0.001],\\'kernel\\': [\\'rbf\\', \\'poly\\', \\'sigmoid\\']}\\nXGBRegressor_GridSearchCV = GridSearchCV(estimator = XGBRegressor(), param_grid = XGBRegressor_parameters, cv = 5, n_jobs=-1)\\nXGBRegressor_GridSearchCV.fit(X_train, y_train)\\nprint(\"XGBRegressor best param = \" +str(XGBRegressor_GridSearchCV.best_params_))\\n\\nRandomForest_parameters = {\"n_estimators\" : [10,20,30],\"max_features\": [\"auto\", \"sqrt\", \"log2\"], \"max_depth\": [int(x) for x in np.linspace(10, 110, num = 11)], \"min_samples_split\": [2,4,8], \"min_samples_leaf\": [1, 2, 4], \"bootstrap\": [True, False],}\\nRandomForest_GridSearchCV = GridSearchCV(estimator = RandomForest(), param_grid = RandomForest_parameters, cv = 5, n_jobs=-1)\\nRandomForest_GridSearchCV.fit(X_train, y_train)\\nprint(\"RandomForest best param = \" +str(RandomForest_GridSearchCV.best_params_))\\n\\n'"
            ]
          },
          "metadata": {},
          "execution_count": 21
        }
      ]
    },
    {
      "cell_type": "markdown",
      "source": [
        "J'obtiens ainsi les meilleurs hyperparamètres pour chaque modèle"
      ],
      "metadata": {
        "id": "36AzMYD3yl42"
      }
    },
    {
      "cell_type": "code",
      "source": [
        "List_of_models = [LinearRegression(), Lasso(alpha = 0.3), Ridge(alpha = 250), ElasticNet(alpha = 1, l1_ratio = 0.7, max_iter = 5), TweedieRegressor(alpha = 0.1, max_iter = 5), HuberRegressor(alpha = 0.0001, max_iter = 10), SVR(C= 10, gamma = 1, kernel= 'rbf'), XGBRegressor(C = 0.1, gamma = 1, kernel = 'rbf'), RandomForestRegressor(bootstrap = False, max_depth = 20, max_features=\"sqrt\", min_samples_leaf = 1, min_samples_split=4, n_estimators=30)]\n",
        "List_of_models_for_graph = [\"LinearRegression\", \"Lasso\", \"Ridge\", \"ElasticNet\", \"TweedieRegressor\", \"HuberRegressor\", \"SVR\", \"XGBRegressor\", \"RandomForestRegressor\"]"
      ],
      "metadata": {
        "id": "UK_1UPTPDhZD"
      },
      "execution_count": null,
      "outputs": []
    },
    {
      "cell_type": "markdown",
      "source": [
        "Création d'une fonction permettant de montrer les résultats en fonction du modèle choisit"
      ],
      "metadata": {
        "id": "8j3sv_QsnwMN"
      }
    },
    {
      "cell_type": "code",
      "source": [
        "def run_model_and_performance_check(feature_to_predict, model):\n",
        "   # Sélection des données\n",
        "  if feature_to_predict == \"Consommation\":\n",
        "    X_train, X_test, y_train, y_test = train_test_split(X, Y['SiteEnergyUse(kBtu)'], test_size=0.25, random_state=7)\n",
        "  if feature_to_predict == \"EmissionGES\":\n",
        "    X_train, X_test, y_train, y_test = train_test_split(X, Y['TotalGHGEmissions'], test_size=0.25, random_state=7)\n",
        "\n",
        "  # Choix du model et entrainement\n",
        "  model_regr = model\n",
        "  model_regr.fit(X_train, y_train)\n",
        "\n",
        "  # Prédiction du modèle et archivage des résultats\n",
        "  y_pred = model_regr.predict(X_test)\n",
        " \n",
        "  # Création des dataframes résultats\n",
        "  results_regression = np.array([model_regr.score(X_train,y_train), model_regr.score(X_test,y_test), mean_absolute_error(y_test,y_pred), np.sqrt(mean_squared_error(y_test,y_pred)), median_absolute_error(y_test,y_pred)])\n",
        "  df_results = pad.DataFrame(index = [\"Score entrainement\", \"Score de prédiction\", \"MAE\", \"RMSE\", \"median absolute error\"], columns = [str(model)[:-2]])\n",
        "  df_results[str(model)[:-2]] = results_regression\n",
        "\n",
        "  # Ennoncé des résultats de performance du modèle\n",
        "  if feature_to_predict == \"Consommation\":\n",
        "    print(\"Prédiction de la consommation : \\n\")\n",
        "  if feature_to_predict == \"EmissionGES\":\n",
        "    print(\"Prédiction des Emission de GES : \\n\")\n",
        "\n",
        "  return df_results"
      ],
      "metadata": {
        "id": "LZJ2xMvBJbPI"
      },
      "execution_count": null,
      "outputs": []
    },
    {
      "cell_type": "markdown",
      "source": [
        "### Dummy regressor"
      ],
      "metadata": {
        "id": "82aFyh5UEb5h"
      }
    },
    {
      "cell_type": "code",
      "source": [
        "run_model_and_performance_check(\"Consommation\", DummyRegressor(strategy=\"mean\"))"
      ],
      "metadata": {
        "id": "CwKELE45CdTd",
        "colab": {
          "base_uri": "https://localhost:8080/",
          "height": 242
        },
        "outputId": "af532e76-b989-4b86-a7b2-750de751864a"
      },
      "execution_count": null,
      "outputs": [
        {
          "output_type": "stream",
          "name": "stdout",
          "text": [
            "Prédiction de la consommation : \n",
            "\n"
          ]
        },
        {
          "output_type": "execute_result",
          "data": {
            "text/html": [
              "\n",
              "  <div id=\"df-1a461ea0-9b19-421a-b715-5ebd052199dd\">\n",
              "    <div class=\"colab-df-container\">\n",
              "      <div>\n",
              "<style scoped>\n",
              "    .dataframe tbody tr th:only-of-type {\n",
              "        vertical-align: middle;\n",
              "    }\n",
              "\n",
              "    .dataframe tbody tr th {\n",
              "        vertical-align: top;\n",
              "    }\n",
              "\n",
              "    .dataframe thead th {\n",
              "        text-align: right;\n",
              "    }\n",
              "</style>\n",
              "<table border=\"1\" class=\"dataframe\">\n",
              "  <thead>\n",
              "    <tr style=\"text-align: right;\">\n",
              "      <th></th>\n",
              "      <th>DummyRegressor</th>\n",
              "    </tr>\n",
              "  </thead>\n",
              "  <tbody>\n",
              "    <tr>\n",
              "      <th>Score entrainement</th>\n",
              "      <td>0.000000e+00</td>\n",
              "    </tr>\n",
              "    <tr>\n",
              "      <th>Score de prédiction</th>\n",
              "      <td>-1.414062e-05</td>\n",
              "    </tr>\n",
              "    <tr>\n",
              "      <th>MAE</th>\n",
              "      <td>2.833419e+06</td>\n",
              "    </tr>\n",
              "    <tr>\n",
              "      <th>RMSE</th>\n",
              "      <td>4.137385e+06</td>\n",
              "    </tr>\n",
              "    <tr>\n",
              "      <th>median absolute error</th>\n",
              "      <td>2.287668e+06</td>\n",
              "    </tr>\n",
              "  </tbody>\n",
              "</table>\n",
              "</div>\n",
              "      <button class=\"colab-df-convert\" onclick=\"convertToInteractive('df-1a461ea0-9b19-421a-b715-5ebd052199dd')\"\n",
              "              title=\"Convert this dataframe to an interactive table.\"\n",
              "              style=\"display:none;\">\n",
              "        \n",
              "  <svg xmlns=\"http://www.w3.org/2000/svg\" height=\"24px\"viewBox=\"0 0 24 24\"\n",
              "       width=\"24px\">\n",
              "    <path d=\"M0 0h24v24H0V0z\" fill=\"none\"/>\n",
              "    <path d=\"M18.56 5.44l.94 2.06.94-2.06 2.06-.94-2.06-.94-.94-2.06-.94 2.06-2.06.94zm-11 1L8.5 8.5l.94-2.06 2.06-.94-2.06-.94L8.5 2.5l-.94 2.06-2.06.94zm10 10l.94 2.06.94-2.06 2.06-.94-2.06-.94-.94-2.06-.94 2.06-2.06.94z\"/><path d=\"M17.41 7.96l-1.37-1.37c-.4-.4-.92-.59-1.43-.59-.52 0-1.04.2-1.43.59L10.3 9.45l-7.72 7.72c-.78.78-.78 2.05 0 2.83L4 21.41c.39.39.9.59 1.41.59.51 0 1.02-.2 1.41-.59l7.78-7.78 2.81-2.81c.8-.78.8-2.07 0-2.86zM5.41 20L4 18.59l7.72-7.72 1.47 1.35L5.41 20z\"/>\n",
              "  </svg>\n",
              "      </button>\n",
              "      \n",
              "  <style>\n",
              "    .colab-df-container {\n",
              "      display:flex;\n",
              "      flex-wrap:wrap;\n",
              "      gap: 12px;\n",
              "    }\n",
              "\n",
              "    .colab-df-convert {\n",
              "      background-color: #E8F0FE;\n",
              "      border: none;\n",
              "      border-radius: 50%;\n",
              "      cursor: pointer;\n",
              "      display: none;\n",
              "      fill: #1967D2;\n",
              "      height: 32px;\n",
              "      padding: 0 0 0 0;\n",
              "      width: 32px;\n",
              "    }\n",
              "\n",
              "    .colab-df-convert:hover {\n",
              "      background-color: #E2EBFA;\n",
              "      box-shadow: 0px 1px 2px rgba(60, 64, 67, 0.3), 0px 1px 3px 1px rgba(60, 64, 67, 0.15);\n",
              "      fill: #174EA6;\n",
              "    }\n",
              "\n",
              "    [theme=dark] .colab-df-convert {\n",
              "      background-color: #3B4455;\n",
              "      fill: #D2E3FC;\n",
              "    }\n",
              "\n",
              "    [theme=dark] .colab-df-convert:hover {\n",
              "      background-color: #434B5C;\n",
              "      box-shadow: 0px 1px 3px 1px rgba(0, 0, 0, 0.15);\n",
              "      filter: drop-shadow(0px 1px 2px rgba(0, 0, 0, 0.3));\n",
              "      fill: #FFFFFF;\n",
              "    }\n",
              "  </style>\n",
              "\n",
              "      <script>\n",
              "        const buttonEl =\n",
              "          document.querySelector('#df-1a461ea0-9b19-421a-b715-5ebd052199dd button.colab-df-convert');\n",
              "        buttonEl.style.display =\n",
              "          google.colab.kernel.accessAllowed ? 'block' : 'none';\n",
              "\n",
              "        async function convertToInteractive(key) {\n",
              "          const element = document.querySelector('#df-1a461ea0-9b19-421a-b715-5ebd052199dd');\n",
              "          const dataTable =\n",
              "            await google.colab.kernel.invokeFunction('convertToInteractive',\n",
              "                                                     [key], {});\n",
              "          if (!dataTable) return;\n",
              "\n",
              "          const docLinkHtml = 'Like what you see? Visit the ' +\n",
              "            '<a target=\"_blank\" href=https://colab.research.google.com/notebooks/data_table.ipynb>data table notebook</a>'\n",
              "            + ' to learn more about interactive tables.';\n",
              "          element.innerHTML = '';\n",
              "          dataTable['output_type'] = 'display_data';\n",
              "          await google.colab.output.renderOutput(dataTable, element);\n",
              "          const docLink = document.createElement('div');\n",
              "          docLink.innerHTML = docLinkHtml;\n",
              "          element.appendChild(docLink);\n",
              "        }\n",
              "      </script>\n",
              "    </div>\n",
              "  </div>\n",
              "  "
            ],
            "text/plain": [
              "                       DummyRegressor\n",
              "Score entrainement       0.000000e+00\n",
              "Score de prédiction     -1.414062e-05\n",
              "MAE                      2.833419e+06\n",
              "RMSE                     4.137385e+06\n",
              "median absolute error    2.287668e+06"
            ]
          },
          "metadata": {},
          "execution_count": 24
        }
      ]
    },
    {
      "cell_type": "code",
      "source": [
        "run_model_and_performance_check(\"EmissionGES\", DummyRegressor(strategy=\"mean\"))"
      ],
      "metadata": {
        "id": "JnaDmNdbENdw",
        "colab": {
          "base_uri": "https://localhost:8080/",
          "height": 242
        },
        "outputId": "414930e9-cfb9-4e74-ef54-66bf847053b3"
      },
      "execution_count": null,
      "outputs": [
        {
          "output_type": "stream",
          "name": "stdout",
          "text": [
            "Prédiction des Emission de GES : \n",
            "\n"
          ]
        },
        {
          "output_type": "execute_result",
          "data": {
            "text/html": [
              "\n",
              "  <div id=\"df-5015a397-7fcb-4971-9a8c-70f5d5ba21e2\">\n",
              "    <div class=\"colab-df-container\">\n",
              "      <div>\n",
              "<style scoped>\n",
              "    .dataframe tbody tr th:only-of-type {\n",
              "        vertical-align: middle;\n",
              "    }\n",
              "\n",
              "    .dataframe tbody tr th {\n",
              "        vertical-align: top;\n",
              "    }\n",
              "\n",
              "    .dataframe thead th {\n",
              "        text-align: right;\n",
              "    }\n",
              "</style>\n",
              "<table border=\"1\" class=\"dataframe\">\n",
              "  <thead>\n",
              "    <tr style=\"text-align: right;\">\n",
              "      <th></th>\n",
              "      <th>DummyRegressor</th>\n",
              "    </tr>\n",
              "  </thead>\n",
              "  <tbody>\n",
              "    <tr>\n",
              "      <th>Score entrainement</th>\n",
              "      <td>0.000000</td>\n",
              "    </tr>\n",
              "    <tr>\n",
              "      <th>Score de prédiction</th>\n",
              "      <td>-0.001389</td>\n",
              "    </tr>\n",
              "    <tr>\n",
              "      <th>MAE</th>\n",
              "      <td>60.369907</td>\n",
              "    </tr>\n",
              "    <tr>\n",
              "      <th>RMSE</th>\n",
              "      <td>92.542495</td>\n",
              "    </tr>\n",
              "    <tr>\n",
              "      <th>median absolute error</th>\n",
              "      <td>48.968799</td>\n",
              "    </tr>\n",
              "  </tbody>\n",
              "</table>\n",
              "</div>\n",
              "      <button class=\"colab-df-convert\" onclick=\"convertToInteractive('df-5015a397-7fcb-4971-9a8c-70f5d5ba21e2')\"\n",
              "              title=\"Convert this dataframe to an interactive table.\"\n",
              "              style=\"display:none;\">\n",
              "        \n",
              "  <svg xmlns=\"http://www.w3.org/2000/svg\" height=\"24px\"viewBox=\"0 0 24 24\"\n",
              "       width=\"24px\">\n",
              "    <path d=\"M0 0h24v24H0V0z\" fill=\"none\"/>\n",
              "    <path d=\"M18.56 5.44l.94 2.06.94-2.06 2.06-.94-2.06-.94-.94-2.06-.94 2.06-2.06.94zm-11 1L8.5 8.5l.94-2.06 2.06-.94-2.06-.94L8.5 2.5l-.94 2.06-2.06.94zm10 10l.94 2.06.94-2.06 2.06-.94-2.06-.94-.94-2.06-.94 2.06-2.06.94z\"/><path d=\"M17.41 7.96l-1.37-1.37c-.4-.4-.92-.59-1.43-.59-.52 0-1.04.2-1.43.59L10.3 9.45l-7.72 7.72c-.78.78-.78 2.05 0 2.83L4 21.41c.39.39.9.59 1.41.59.51 0 1.02-.2 1.41-.59l7.78-7.78 2.81-2.81c.8-.78.8-2.07 0-2.86zM5.41 20L4 18.59l7.72-7.72 1.47 1.35L5.41 20z\"/>\n",
              "  </svg>\n",
              "      </button>\n",
              "      \n",
              "  <style>\n",
              "    .colab-df-container {\n",
              "      display:flex;\n",
              "      flex-wrap:wrap;\n",
              "      gap: 12px;\n",
              "    }\n",
              "\n",
              "    .colab-df-convert {\n",
              "      background-color: #E8F0FE;\n",
              "      border: none;\n",
              "      border-radius: 50%;\n",
              "      cursor: pointer;\n",
              "      display: none;\n",
              "      fill: #1967D2;\n",
              "      height: 32px;\n",
              "      padding: 0 0 0 0;\n",
              "      width: 32px;\n",
              "    }\n",
              "\n",
              "    .colab-df-convert:hover {\n",
              "      background-color: #E2EBFA;\n",
              "      box-shadow: 0px 1px 2px rgba(60, 64, 67, 0.3), 0px 1px 3px 1px rgba(60, 64, 67, 0.15);\n",
              "      fill: #174EA6;\n",
              "    }\n",
              "\n",
              "    [theme=dark] .colab-df-convert {\n",
              "      background-color: #3B4455;\n",
              "      fill: #D2E3FC;\n",
              "    }\n",
              "\n",
              "    [theme=dark] .colab-df-convert:hover {\n",
              "      background-color: #434B5C;\n",
              "      box-shadow: 0px 1px 3px 1px rgba(0, 0, 0, 0.15);\n",
              "      filter: drop-shadow(0px 1px 2px rgba(0, 0, 0, 0.3));\n",
              "      fill: #FFFFFF;\n",
              "    }\n",
              "  </style>\n",
              "\n",
              "      <script>\n",
              "        const buttonEl =\n",
              "          document.querySelector('#df-5015a397-7fcb-4971-9a8c-70f5d5ba21e2 button.colab-df-convert');\n",
              "        buttonEl.style.display =\n",
              "          google.colab.kernel.accessAllowed ? 'block' : 'none';\n",
              "\n",
              "        async function convertToInteractive(key) {\n",
              "          const element = document.querySelector('#df-5015a397-7fcb-4971-9a8c-70f5d5ba21e2');\n",
              "          const dataTable =\n",
              "            await google.colab.kernel.invokeFunction('convertToInteractive',\n",
              "                                                     [key], {});\n",
              "          if (!dataTable) return;\n",
              "\n",
              "          const docLinkHtml = 'Like what you see? Visit the ' +\n",
              "            '<a target=\"_blank\" href=https://colab.research.google.com/notebooks/data_table.ipynb>data table notebook</a>'\n",
              "            + ' to learn more about interactive tables.';\n",
              "          element.innerHTML = '';\n",
              "          dataTable['output_type'] = 'display_data';\n",
              "          await google.colab.output.renderOutput(dataTable, element);\n",
              "          const docLink = document.createElement('div');\n",
              "          docLink.innerHTML = docLinkHtml;\n",
              "          element.appendChild(docLink);\n",
              "        }\n",
              "      </script>\n",
              "    </div>\n",
              "  </div>\n",
              "  "
            ],
            "text/plain": [
              "                       DummyRegressor\n",
              "Score entrainement           0.000000\n",
              "Score de prédiction         -0.001389\n",
              "MAE                         60.369907\n",
              "RMSE                        92.542495\n",
              "median absolute error       48.968799"
            ]
          },
          "metadata": {},
          "execution_count": 25
        }
      ]
    },
    {
      "cell_type": "markdown",
      "source": [
        "Le dummy regressor est de façon attendu pas optimal du tout..."
      ],
      "metadata": {
        "id": "SnVW2CfwEere"
      }
    },
    {
      "cell_type": "markdown",
      "source": [
        "### Régression linéaire classique"
      ],
      "metadata": {
        "id": "ZCcfOM-oFNqv"
      }
    },
    {
      "cell_type": "markdown",
      "source": [
        "Prédiction de la consommation :"
      ],
      "metadata": {
        "id": "5tXL3Vi2o7ar"
      }
    },
    {
      "cell_type": "code",
      "source": [
        "run_model_and_performance_check(\"Consommation\", LinearRegression())"
      ],
      "metadata": {
        "colab": {
          "base_uri": "https://localhost:8080/",
          "height": 242
        },
        "id": "FTkjWGJtmSkU",
        "outputId": "d5e5aba1-d4bc-486e-c02d-ec62fcd12aa0"
      },
      "execution_count": null,
      "outputs": [
        {
          "output_type": "stream",
          "name": "stdout",
          "text": [
            "Prédiction de la consommation : \n",
            "\n"
          ]
        },
        {
          "output_type": "execute_result",
          "data": {
            "text/html": [
              "\n",
              "  <div id=\"df-63c2178d-637b-4be4-b0aa-1a261cf78d2a\">\n",
              "    <div class=\"colab-df-container\">\n",
              "      <div>\n",
              "<style scoped>\n",
              "    .dataframe tbody tr th:only-of-type {\n",
              "        vertical-align: middle;\n",
              "    }\n",
              "\n",
              "    .dataframe tbody tr th {\n",
              "        vertical-align: top;\n",
              "    }\n",
              "\n",
              "    .dataframe thead th {\n",
              "        text-align: right;\n",
              "    }\n",
              "</style>\n",
              "<table border=\"1\" class=\"dataframe\">\n",
              "  <thead>\n",
              "    <tr style=\"text-align: right;\">\n",
              "      <th></th>\n",
              "      <th>LinearRegression</th>\n",
              "    </tr>\n",
              "  </thead>\n",
              "  <tbody>\n",
              "    <tr>\n",
              "      <th>Score entrainement</th>\n",
              "      <td>6.294315e-01</td>\n",
              "    </tr>\n",
              "    <tr>\n",
              "      <th>Score de prédiction</th>\n",
              "      <td>6.696227e-01</td>\n",
              "    </tr>\n",
              "    <tr>\n",
              "      <th>MAE</th>\n",
              "      <td>1.448111e+06</td>\n",
              "    </tr>\n",
              "    <tr>\n",
              "      <th>RMSE</th>\n",
              "      <td>2.378088e+06</td>\n",
              "    </tr>\n",
              "    <tr>\n",
              "      <th>median absolute error</th>\n",
              "      <td>8.279928e+05</td>\n",
              "    </tr>\n",
              "  </tbody>\n",
              "</table>\n",
              "</div>\n",
              "      <button class=\"colab-df-convert\" onclick=\"convertToInteractive('df-63c2178d-637b-4be4-b0aa-1a261cf78d2a')\"\n",
              "              title=\"Convert this dataframe to an interactive table.\"\n",
              "              style=\"display:none;\">\n",
              "        \n",
              "  <svg xmlns=\"http://www.w3.org/2000/svg\" height=\"24px\"viewBox=\"0 0 24 24\"\n",
              "       width=\"24px\">\n",
              "    <path d=\"M0 0h24v24H0V0z\" fill=\"none\"/>\n",
              "    <path d=\"M18.56 5.44l.94 2.06.94-2.06 2.06-.94-2.06-.94-.94-2.06-.94 2.06-2.06.94zm-11 1L8.5 8.5l.94-2.06 2.06-.94-2.06-.94L8.5 2.5l-.94 2.06-2.06.94zm10 10l.94 2.06.94-2.06 2.06-.94-2.06-.94-.94-2.06-.94 2.06-2.06.94z\"/><path d=\"M17.41 7.96l-1.37-1.37c-.4-.4-.92-.59-1.43-.59-.52 0-1.04.2-1.43.59L10.3 9.45l-7.72 7.72c-.78.78-.78 2.05 0 2.83L4 21.41c.39.39.9.59 1.41.59.51 0 1.02-.2 1.41-.59l7.78-7.78 2.81-2.81c.8-.78.8-2.07 0-2.86zM5.41 20L4 18.59l7.72-7.72 1.47 1.35L5.41 20z\"/>\n",
              "  </svg>\n",
              "      </button>\n",
              "      \n",
              "  <style>\n",
              "    .colab-df-container {\n",
              "      display:flex;\n",
              "      flex-wrap:wrap;\n",
              "      gap: 12px;\n",
              "    }\n",
              "\n",
              "    .colab-df-convert {\n",
              "      background-color: #E8F0FE;\n",
              "      border: none;\n",
              "      border-radius: 50%;\n",
              "      cursor: pointer;\n",
              "      display: none;\n",
              "      fill: #1967D2;\n",
              "      height: 32px;\n",
              "      padding: 0 0 0 0;\n",
              "      width: 32px;\n",
              "    }\n",
              "\n",
              "    .colab-df-convert:hover {\n",
              "      background-color: #E2EBFA;\n",
              "      box-shadow: 0px 1px 2px rgba(60, 64, 67, 0.3), 0px 1px 3px 1px rgba(60, 64, 67, 0.15);\n",
              "      fill: #174EA6;\n",
              "    }\n",
              "\n",
              "    [theme=dark] .colab-df-convert {\n",
              "      background-color: #3B4455;\n",
              "      fill: #D2E3FC;\n",
              "    }\n",
              "\n",
              "    [theme=dark] .colab-df-convert:hover {\n",
              "      background-color: #434B5C;\n",
              "      box-shadow: 0px 1px 3px 1px rgba(0, 0, 0, 0.15);\n",
              "      filter: drop-shadow(0px 1px 2px rgba(0, 0, 0, 0.3));\n",
              "      fill: #FFFFFF;\n",
              "    }\n",
              "  </style>\n",
              "\n",
              "      <script>\n",
              "        const buttonEl =\n",
              "          document.querySelector('#df-63c2178d-637b-4be4-b0aa-1a261cf78d2a button.colab-df-convert');\n",
              "        buttonEl.style.display =\n",
              "          google.colab.kernel.accessAllowed ? 'block' : 'none';\n",
              "\n",
              "        async function convertToInteractive(key) {\n",
              "          const element = document.querySelector('#df-63c2178d-637b-4be4-b0aa-1a261cf78d2a');\n",
              "          const dataTable =\n",
              "            await google.colab.kernel.invokeFunction('convertToInteractive',\n",
              "                                                     [key], {});\n",
              "          if (!dataTable) return;\n",
              "\n",
              "          const docLinkHtml = 'Like what you see? Visit the ' +\n",
              "            '<a target=\"_blank\" href=https://colab.research.google.com/notebooks/data_table.ipynb>data table notebook</a>'\n",
              "            + ' to learn more about interactive tables.';\n",
              "          element.innerHTML = '';\n",
              "          dataTable['output_type'] = 'display_data';\n",
              "          await google.colab.output.renderOutput(dataTable, element);\n",
              "          const docLink = document.createElement('div');\n",
              "          docLink.innerHTML = docLinkHtml;\n",
              "          element.appendChild(docLink);\n",
              "        }\n",
              "      </script>\n",
              "    </div>\n",
              "  </div>\n",
              "  "
            ],
            "text/plain": [
              "                       LinearRegression\n",
              "Score entrainement         6.294315e-01\n",
              "Score de prédiction        6.696227e-01\n",
              "MAE                        1.448111e+06\n",
              "RMSE                       2.378088e+06\n",
              "median absolute error      8.279928e+05"
            ]
          },
          "metadata": {},
          "execution_count": 26
        }
      ]
    },
    {
      "cell_type": "markdown",
      "source": [
        "Prédiction de l'émission de GES :"
      ],
      "metadata": {
        "id": "lFWlrdh8CUwL"
      }
    },
    {
      "cell_type": "code",
      "source": [
        "run_model_and_performance_check(\"EmissionGES\", LinearRegression())"
      ],
      "metadata": {
        "colab": {
          "base_uri": "https://localhost:8080/",
          "height": 242
        },
        "id": "-NZszeufn-_1",
        "outputId": "1f98efa4-080b-439e-aa28-fa9805c8bf00"
      },
      "execution_count": null,
      "outputs": [
        {
          "output_type": "stream",
          "name": "stdout",
          "text": [
            "Prédiction des Emission de GES : \n",
            "\n"
          ]
        },
        {
          "output_type": "execute_result",
          "data": {
            "text/html": [
              "\n",
              "  <div id=\"df-4e0029cc-4a8e-409f-b928-3c8911963608\">\n",
              "    <div class=\"colab-df-container\">\n",
              "      <div>\n",
              "<style scoped>\n",
              "    .dataframe tbody tr th:only-of-type {\n",
              "        vertical-align: middle;\n",
              "    }\n",
              "\n",
              "    .dataframe tbody tr th {\n",
              "        vertical-align: top;\n",
              "    }\n",
              "\n",
              "    .dataframe thead th {\n",
              "        text-align: right;\n",
              "    }\n",
              "</style>\n",
              "<table border=\"1\" class=\"dataframe\">\n",
              "  <thead>\n",
              "    <tr style=\"text-align: right;\">\n",
              "      <th></th>\n",
              "      <th>LinearRegression</th>\n",
              "    </tr>\n",
              "  </thead>\n",
              "  <tbody>\n",
              "    <tr>\n",
              "      <th>Score entrainement</th>\n",
              "      <td>0.346022</td>\n",
              "    </tr>\n",
              "    <tr>\n",
              "      <th>Score de prédiction</th>\n",
              "      <td>0.297621</td>\n",
              "    </tr>\n",
              "    <tr>\n",
              "      <th>MAE</th>\n",
              "      <td>49.576897</td>\n",
              "    </tr>\n",
              "    <tr>\n",
              "      <th>RMSE</th>\n",
              "      <td>77.504272</td>\n",
              "    </tr>\n",
              "    <tr>\n",
              "      <th>median absolute error</th>\n",
              "      <td>31.534283</td>\n",
              "    </tr>\n",
              "  </tbody>\n",
              "</table>\n",
              "</div>\n",
              "      <button class=\"colab-df-convert\" onclick=\"convertToInteractive('df-4e0029cc-4a8e-409f-b928-3c8911963608')\"\n",
              "              title=\"Convert this dataframe to an interactive table.\"\n",
              "              style=\"display:none;\">\n",
              "        \n",
              "  <svg xmlns=\"http://www.w3.org/2000/svg\" height=\"24px\"viewBox=\"0 0 24 24\"\n",
              "       width=\"24px\">\n",
              "    <path d=\"M0 0h24v24H0V0z\" fill=\"none\"/>\n",
              "    <path d=\"M18.56 5.44l.94 2.06.94-2.06 2.06-.94-2.06-.94-.94-2.06-.94 2.06-2.06.94zm-11 1L8.5 8.5l.94-2.06 2.06-.94-2.06-.94L8.5 2.5l-.94 2.06-2.06.94zm10 10l.94 2.06.94-2.06 2.06-.94-2.06-.94-.94-2.06-.94 2.06-2.06.94z\"/><path d=\"M17.41 7.96l-1.37-1.37c-.4-.4-.92-.59-1.43-.59-.52 0-1.04.2-1.43.59L10.3 9.45l-7.72 7.72c-.78.78-.78 2.05 0 2.83L4 21.41c.39.39.9.59 1.41.59.51 0 1.02-.2 1.41-.59l7.78-7.78 2.81-2.81c.8-.78.8-2.07 0-2.86zM5.41 20L4 18.59l7.72-7.72 1.47 1.35L5.41 20z\"/>\n",
              "  </svg>\n",
              "      </button>\n",
              "      \n",
              "  <style>\n",
              "    .colab-df-container {\n",
              "      display:flex;\n",
              "      flex-wrap:wrap;\n",
              "      gap: 12px;\n",
              "    }\n",
              "\n",
              "    .colab-df-convert {\n",
              "      background-color: #E8F0FE;\n",
              "      border: none;\n",
              "      border-radius: 50%;\n",
              "      cursor: pointer;\n",
              "      display: none;\n",
              "      fill: #1967D2;\n",
              "      height: 32px;\n",
              "      padding: 0 0 0 0;\n",
              "      width: 32px;\n",
              "    }\n",
              "\n",
              "    .colab-df-convert:hover {\n",
              "      background-color: #E2EBFA;\n",
              "      box-shadow: 0px 1px 2px rgba(60, 64, 67, 0.3), 0px 1px 3px 1px rgba(60, 64, 67, 0.15);\n",
              "      fill: #174EA6;\n",
              "    }\n",
              "\n",
              "    [theme=dark] .colab-df-convert {\n",
              "      background-color: #3B4455;\n",
              "      fill: #D2E3FC;\n",
              "    }\n",
              "\n",
              "    [theme=dark] .colab-df-convert:hover {\n",
              "      background-color: #434B5C;\n",
              "      box-shadow: 0px 1px 3px 1px rgba(0, 0, 0, 0.15);\n",
              "      filter: drop-shadow(0px 1px 2px rgba(0, 0, 0, 0.3));\n",
              "      fill: #FFFFFF;\n",
              "    }\n",
              "  </style>\n",
              "\n",
              "      <script>\n",
              "        const buttonEl =\n",
              "          document.querySelector('#df-4e0029cc-4a8e-409f-b928-3c8911963608 button.colab-df-convert');\n",
              "        buttonEl.style.display =\n",
              "          google.colab.kernel.accessAllowed ? 'block' : 'none';\n",
              "\n",
              "        async function convertToInteractive(key) {\n",
              "          const element = document.querySelector('#df-4e0029cc-4a8e-409f-b928-3c8911963608');\n",
              "          const dataTable =\n",
              "            await google.colab.kernel.invokeFunction('convertToInteractive',\n",
              "                                                     [key], {});\n",
              "          if (!dataTable) return;\n",
              "\n",
              "          const docLinkHtml = 'Like what you see? Visit the ' +\n",
              "            '<a target=\"_blank\" href=https://colab.research.google.com/notebooks/data_table.ipynb>data table notebook</a>'\n",
              "            + ' to learn more about interactive tables.';\n",
              "          element.innerHTML = '';\n",
              "          dataTable['output_type'] = 'display_data';\n",
              "          await google.colab.output.renderOutput(dataTable, element);\n",
              "          const docLink = document.createElement('div');\n",
              "          docLink.innerHTML = docLinkHtml;\n",
              "          element.appendChild(docLink);\n",
              "        }\n",
              "      </script>\n",
              "    </div>\n",
              "  </div>\n",
              "  "
            ],
            "text/plain": [
              "                       LinearRegression\n",
              "Score entrainement             0.346022\n",
              "Score de prédiction            0.297621\n",
              "MAE                           49.576897\n",
              "RMSE                          77.504272\n",
              "median absolute error         31.534283"
            ]
          },
          "metadata": {},
          "execution_count": 27
        }
      ]
    },
    {
      "cell_type": "markdown",
      "source": [
        "Les performances de ce premier algorithme de régression linéaire ne sont pas très intéressante, essayons un autre modèle"
      ],
      "metadata": {
        "id": "BvKQopmPna_N"
      }
    },
    {
      "cell_type": "markdown",
      "source": [
        "### Régression RandomForest (modèle de type \"ensembliste\")"
      ],
      "metadata": {
        "id": "4di-eiXWGBan"
      }
    },
    {
      "cell_type": "markdown",
      "source": [
        "Prédiction de la consommation :"
      ],
      "metadata": {
        "id": "PFFl5Xf24Zhj"
      }
    },
    {
      "cell_type": "code",
      "source": [
        "run_model_and_performance_check(\"Consommation\", RandomForestRegressor())"
      ],
      "metadata": {
        "colab": {
          "base_uri": "https://localhost:8080/",
          "height": 242
        },
        "id": "T47uELhEqcho",
        "outputId": "3e931fcf-8ff6-46de-fa88-766d0f3932c4"
      },
      "execution_count": null,
      "outputs": [
        {
          "output_type": "stream",
          "name": "stdout",
          "text": [
            "Prédiction de la consommation : \n",
            "\n"
          ]
        },
        {
          "output_type": "execute_result",
          "data": {
            "text/html": [
              "\n",
              "  <div id=\"df-3750db55-fcf5-43f1-b77f-3be3955b4abc\">\n",
              "    <div class=\"colab-df-container\">\n",
              "      <div>\n",
              "<style scoped>\n",
              "    .dataframe tbody tr th:only-of-type {\n",
              "        vertical-align: middle;\n",
              "    }\n",
              "\n",
              "    .dataframe tbody tr th {\n",
              "        vertical-align: top;\n",
              "    }\n",
              "\n",
              "    .dataframe thead th {\n",
              "        text-align: right;\n",
              "    }\n",
              "</style>\n",
              "<table border=\"1\" class=\"dataframe\">\n",
              "  <thead>\n",
              "    <tr style=\"text-align: right;\">\n",
              "      <th></th>\n",
              "      <th>RandomForestRegressor</th>\n",
              "    </tr>\n",
              "  </thead>\n",
              "  <tbody>\n",
              "    <tr>\n",
              "      <th>Score entrainement</th>\n",
              "      <td>9.641498e-01</td>\n",
              "    </tr>\n",
              "    <tr>\n",
              "      <th>Score de prédiction</th>\n",
              "      <td>8.307483e-01</td>\n",
              "    </tr>\n",
              "    <tr>\n",
              "      <th>MAE</th>\n",
              "      <td>9.373603e+05</td>\n",
              "    </tr>\n",
              "    <tr>\n",
              "      <th>RMSE</th>\n",
              "      <td>1.702117e+06</td>\n",
              "    </tr>\n",
              "    <tr>\n",
              "      <th>median absolute error</th>\n",
              "      <td>4.021582e+05</td>\n",
              "    </tr>\n",
              "  </tbody>\n",
              "</table>\n",
              "</div>\n",
              "      <button class=\"colab-df-convert\" onclick=\"convertToInteractive('df-3750db55-fcf5-43f1-b77f-3be3955b4abc')\"\n",
              "              title=\"Convert this dataframe to an interactive table.\"\n",
              "              style=\"display:none;\">\n",
              "        \n",
              "  <svg xmlns=\"http://www.w3.org/2000/svg\" height=\"24px\"viewBox=\"0 0 24 24\"\n",
              "       width=\"24px\">\n",
              "    <path d=\"M0 0h24v24H0V0z\" fill=\"none\"/>\n",
              "    <path d=\"M18.56 5.44l.94 2.06.94-2.06 2.06-.94-2.06-.94-.94-2.06-.94 2.06-2.06.94zm-11 1L8.5 8.5l.94-2.06 2.06-.94-2.06-.94L8.5 2.5l-.94 2.06-2.06.94zm10 10l.94 2.06.94-2.06 2.06-.94-2.06-.94-.94-2.06-.94 2.06-2.06.94z\"/><path d=\"M17.41 7.96l-1.37-1.37c-.4-.4-.92-.59-1.43-.59-.52 0-1.04.2-1.43.59L10.3 9.45l-7.72 7.72c-.78.78-.78 2.05 0 2.83L4 21.41c.39.39.9.59 1.41.59.51 0 1.02-.2 1.41-.59l7.78-7.78 2.81-2.81c.8-.78.8-2.07 0-2.86zM5.41 20L4 18.59l7.72-7.72 1.47 1.35L5.41 20z\"/>\n",
              "  </svg>\n",
              "      </button>\n",
              "      \n",
              "  <style>\n",
              "    .colab-df-container {\n",
              "      display:flex;\n",
              "      flex-wrap:wrap;\n",
              "      gap: 12px;\n",
              "    }\n",
              "\n",
              "    .colab-df-convert {\n",
              "      background-color: #E8F0FE;\n",
              "      border: none;\n",
              "      border-radius: 50%;\n",
              "      cursor: pointer;\n",
              "      display: none;\n",
              "      fill: #1967D2;\n",
              "      height: 32px;\n",
              "      padding: 0 0 0 0;\n",
              "      width: 32px;\n",
              "    }\n",
              "\n",
              "    .colab-df-convert:hover {\n",
              "      background-color: #E2EBFA;\n",
              "      box-shadow: 0px 1px 2px rgba(60, 64, 67, 0.3), 0px 1px 3px 1px rgba(60, 64, 67, 0.15);\n",
              "      fill: #174EA6;\n",
              "    }\n",
              "\n",
              "    [theme=dark] .colab-df-convert {\n",
              "      background-color: #3B4455;\n",
              "      fill: #D2E3FC;\n",
              "    }\n",
              "\n",
              "    [theme=dark] .colab-df-convert:hover {\n",
              "      background-color: #434B5C;\n",
              "      box-shadow: 0px 1px 3px 1px rgba(0, 0, 0, 0.15);\n",
              "      filter: drop-shadow(0px 1px 2px rgba(0, 0, 0, 0.3));\n",
              "      fill: #FFFFFF;\n",
              "    }\n",
              "  </style>\n",
              "\n",
              "      <script>\n",
              "        const buttonEl =\n",
              "          document.querySelector('#df-3750db55-fcf5-43f1-b77f-3be3955b4abc button.colab-df-convert');\n",
              "        buttonEl.style.display =\n",
              "          google.colab.kernel.accessAllowed ? 'block' : 'none';\n",
              "\n",
              "        async function convertToInteractive(key) {\n",
              "          const element = document.querySelector('#df-3750db55-fcf5-43f1-b77f-3be3955b4abc');\n",
              "          const dataTable =\n",
              "            await google.colab.kernel.invokeFunction('convertToInteractive',\n",
              "                                                     [key], {});\n",
              "          if (!dataTable) return;\n",
              "\n",
              "          const docLinkHtml = 'Like what you see? Visit the ' +\n",
              "            '<a target=\"_blank\" href=https://colab.research.google.com/notebooks/data_table.ipynb>data table notebook</a>'\n",
              "            + ' to learn more about interactive tables.';\n",
              "          element.innerHTML = '';\n",
              "          dataTable['output_type'] = 'display_data';\n",
              "          await google.colab.output.renderOutput(dataTable, element);\n",
              "          const docLink = document.createElement('div');\n",
              "          docLink.innerHTML = docLinkHtml;\n",
              "          element.appendChild(docLink);\n",
              "        }\n",
              "      </script>\n",
              "    </div>\n",
              "  </div>\n",
              "  "
            ],
            "text/plain": [
              "                       RandomForestRegressor\n",
              "Score entrainement              9.641498e-01\n",
              "Score de prédiction             8.307483e-01\n",
              "MAE                             9.373603e+05\n",
              "RMSE                            1.702117e+06\n",
              "median absolute error           4.021582e+05"
            ]
          },
          "metadata": {},
          "execution_count": 28
        }
      ]
    },
    {
      "cell_type": "markdown",
      "source": [
        "Prédiction des émissions de GES :"
      ],
      "metadata": {
        "id": "NS5zxnvtGGiu"
      }
    },
    {
      "cell_type": "code",
      "source": [
        "run_model_and_performance_check(\"EmissionGES\", RandomForestRegressor())"
      ],
      "metadata": {
        "colab": {
          "base_uri": "https://localhost:8080/",
          "height": 242
        },
        "id": "NUkxvkAXqZOI",
        "outputId": "55599bb2-3cca-4e63-eb79-9888b82d43e7"
      },
      "execution_count": null,
      "outputs": [
        {
          "output_type": "stream",
          "name": "stdout",
          "text": [
            "Prédiction des Emission de GES : \n",
            "\n"
          ]
        },
        {
          "output_type": "execute_result",
          "data": {
            "text/html": [
              "\n",
              "  <div id=\"df-e41ac2d4-375f-44cc-9363-5cb25613d6d2\">\n",
              "    <div class=\"colab-df-container\">\n",
              "      <div>\n",
              "<style scoped>\n",
              "    .dataframe tbody tr th:only-of-type {\n",
              "        vertical-align: middle;\n",
              "    }\n",
              "\n",
              "    .dataframe tbody tr th {\n",
              "        vertical-align: top;\n",
              "    }\n",
              "\n",
              "    .dataframe thead th {\n",
              "        text-align: right;\n",
              "    }\n",
              "</style>\n",
              "<table border=\"1\" class=\"dataframe\">\n",
              "  <thead>\n",
              "    <tr style=\"text-align: right;\">\n",
              "      <th></th>\n",
              "      <th>RandomForestRegressor</th>\n",
              "    </tr>\n",
              "  </thead>\n",
              "  <tbody>\n",
              "    <tr>\n",
              "      <th>Score entrainement</th>\n",
              "      <td>0.925366</td>\n",
              "    </tr>\n",
              "    <tr>\n",
              "      <th>Score de prédiction</th>\n",
              "      <td>0.651425</td>\n",
              "    </tr>\n",
              "    <tr>\n",
              "      <th>MAE</th>\n",
              "      <td>30.160683</td>\n",
              "    </tr>\n",
              "    <tr>\n",
              "      <th>RMSE</th>\n",
              "      <td>54.599442</td>\n",
              "    </tr>\n",
              "    <tr>\n",
              "      <th>median absolute error</th>\n",
              "      <td>14.715567</td>\n",
              "    </tr>\n",
              "  </tbody>\n",
              "</table>\n",
              "</div>\n",
              "      <button class=\"colab-df-convert\" onclick=\"convertToInteractive('df-e41ac2d4-375f-44cc-9363-5cb25613d6d2')\"\n",
              "              title=\"Convert this dataframe to an interactive table.\"\n",
              "              style=\"display:none;\">\n",
              "        \n",
              "  <svg xmlns=\"http://www.w3.org/2000/svg\" height=\"24px\"viewBox=\"0 0 24 24\"\n",
              "       width=\"24px\">\n",
              "    <path d=\"M0 0h24v24H0V0z\" fill=\"none\"/>\n",
              "    <path d=\"M18.56 5.44l.94 2.06.94-2.06 2.06-.94-2.06-.94-.94-2.06-.94 2.06-2.06.94zm-11 1L8.5 8.5l.94-2.06 2.06-.94-2.06-.94L8.5 2.5l-.94 2.06-2.06.94zm10 10l.94 2.06.94-2.06 2.06-.94-2.06-.94-.94-2.06-.94 2.06-2.06.94z\"/><path d=\"M17.41 7.96l-1.37-1.37c-.4-.4-.92-.59-1.43-.59-.52 0-1.04.2-1.43.59L10.3 9.45l-7.72 7.72c-.78.78-.78 2.05 0 2.83L4 21.41c.39.39.9.59 1.41.59.51 0 1.02-.2 1.41-.59l7.78-7.78 2.81-2.81c.8-.78.8-2.07 0-2.86zM5.41 20L4 18.59l7.72-7.72 1.47 1.35L5.41 20z\"/>\n",
              "  </svg>\n",
              "      </button>\n",
              "      \n",
              "  <style>\n",
              "    .colab-df-container {\n",
              "      display:flex;\n",
              "      flex-wrap:wrap;\n",
              "      gap: 12px;\n",
              "    }\n",
              "\n",
              "    .colab-df-convert {\n",
              "      background-color: #E8F0FE;\n",
              "      border: none;\n",
              "      border-radius: 50%;\n",
              "      cursor: pointer;\n",
              "      display: none;\n",
              "      fill: #1967D2;\n",
              "      height: 32px;\n",
              "      padding: 0 0 0 0;\n",
              "      width: 32px;\n",
              "    }\n",
              "\n",
              "    .colab-df-convert:hover {\n",
              "      background-color: #E2EBFA;\n",
              "      box-shadow: 0px 1px 2px rgba(60, 64, 67, 0.3), 0px 1px 3px 1px rgba(60, 64, 67, 0.15);\n",
              "      fill: #174EA6;\n",
              "    }\n",
              "\n",
              "    [theme=dark] .colab-df-convert {\n",
              "      background-color: #3B4455;\n",
              "      fill: #D2E3FC;\n",
              "    }\n",
              "\n",
              "    [theme=dark] .colab-df-convert:hover {\n",
              "      background-color: #434B5C;\n",
              "      box-shadow: 0px 1px 3px 1px rgba(0, 0, 0, 0.15);\n",
              "      filter: drop-shadow(0px 1px 2px rgba(0, 0, 0, 0.3));\n",
              "      fill: #FFFFFF;\n",
              "    }\n",
              "  </style>\n",
              "\n",
              "      <script>\n",
              "        const buttonEl =\n",
              "          document.querySelector('#df-e41ac2d4-375f-44cc-9363-5cb25613d6d2 button.colab-df-convert');\n",
              "        buttonEl.style.display =\n",
              "          google.colab.kernel.accessAllowed ? 'block' : 'none';\n",
              "\n",
              "        async function convertToInteractive(key) {\n",
              "          const element = document.querySelector('#df-e41ac2d4-375f-44cc-9363-5cb25613d6d2');\n",
              "          const dataTable =\n",
              "            await google.colab.kernel.invokeFunction('convertToInteractive',\n",
              "                                                     [key], {});\n",
              "          if (!dataTable) return;\n",
              "\n",
              "          const docLinkHtml = 'Like what you see? Visit the ' +\n",
              "            '<a target=\"_blank\" href=https://colab.research.google.com/notebooks/data_table.ipynb>data table notebook</a>'\n",
              "            + ' to learn more about interactive tables.';\n",
              "          element.innerHTML = '';\n",
              "          dataTable['output_type'] = 'display_data';\n",
              "          await google.colab.output.renderOutput(dataTable, element);\n",
              "          const docLink = document.createElement('div');\n",
              "          docLink.innerHTML = docLinkHtml;\n",
              "          element.appendChild(docLink);\n",
              "        }\n",
              "      </script>\n",
              "    </div>\n",
              "  </div>\n",
              "  "
            ],
            "text/plain": [
              "                       RandomForestRegressor\n",
              "Score entrainement                  0.925366\n",
              "Score de prédiction                 0.651425\n",
              "MAE                                30.160683\n",
              "RMSE                               54.599442\n",
              "median absolute error              14.715567"
            ]
          },
          "metadata": {},
          "execution_count": 29
        }
      ]
    },
    {
      "cell_type": "markdown",
      "source": [
        "Les résultats sont ici beaucoup plus intéressant avec le RandomForestRegressor"
      ],
      "metadata": {
        "id": "VziQFbDx34Vb"
      }
    },
    {
      "cell_type": "markdown",
      "source": [
        "### Boucle sur un ensemble de modèles de régression, archivage des résultats"
      ],
      "metadata": {
        "id": "4fJMvapvGUKN"
      }
    },
    {
      "cell_type": "code",
      "source": [
        "# Création des dataframes résultats\n",
        "df_results01_Consommation = pad.DataFrame(index = [\"Score entrainement\", \"Score de prédiction\", \"MAE\", \"RMSE\", \"median absolute error\"], columns = [\"LinearRegression\"])\n",
        "df_results01_GESEmission = pad.DataFrame(index = [\"Score entrainement\", \"Score de prédiction\", \"MAE\", \"RMSE\", \"median absolute error\"], columns = [\"LinearRegression\"])"
      ],
      "metadata": {
        "id": "J_5n4mmlNE07"
      },
      "execution_count": null,
      "outputs": []
    },
    {
      "cell_type": "code",
      "source": [
        "X_train, X_test, y_train, y_test = train_test_split(X, Y['SiteEnergyUse(kBtu)'], test_size=0.25,random_state = 7)\n",
        "#X_train=StandardScaler().fit_transform(X_train)\n",
        "for i in range(len(List_of_models)):\n",
        "  model_regr = List_of_models[i] \n",
        "  model_regr.fit(X_train, y_train)\n",
        "  y_pred = model_regr.predict(X_test)\n",
        "  results_linear_regression = np.array([model_regr.score(X_train,y_train), model_regr.score(X_test,y_test), mean_absolute_error(y_test,y_pred), np.sqrt(mean_squared_error(y_test,y_pred)), median_absolute_error(y_test,y_pred)])\n",
        "  df_results01_Consommation[List_of_models_for_graph[i]] = results_linear_regression\n",
        "\n",
        "X_train, X_test, y_train, y_test = train_test_split(X, Y['TotalGHGEmissions'], test_size=0.25,random_state = 7)\n",
        "#X_train=StandardScaler().fit_transform(X_train)\n",
        "for i in range(len(List_of_models)):\n",
        "  model_regr = List_of_models[i]\n",
        "  model_regr.fit(X_train, y_train)\n",
        "  y_pred = model_regr.predict(X_test)\n",
        "  results_linear_regression = np.array([model_regr.score(X_train,y_train), model_regr.score(X_test,y_test), mean_absolute_error(y_test,y_pred), np.sqrt(mean_squared_error(y_test,y_pred)), median_absolute_error(y_test,y_pred)])\n",
        "  df_results01_GESEmission[List_of_models_for_graph[i]] = results_linear_regression"
      ],
      "metadata": {
        "colab": {
          "base_uri": "https://localhost:8080/"
        },
        "id": "zb3PVe3y9hbs",
        "outputId": "cdd56ea8-2cdd-4fd3-8d87-a654ce81814a"
      },
      "execution_count": null,
      "outputs": [
        {
          "output_type": "stream",
          "name": "stderr",
          "text": [
            "/usr/local/lib/python3.7/dist-packages/sklearn/linear_model/_coordinate_descent.py:648: ConvergenceWarning: Objective did not converge. You might want to increase the number of iterations, check the scale of the features or consider increasing regularisation. Duality gap: 1.284e+13, tolerance: 1.877e+12\n",
            "  coef_, l1_reg, l2_reg, X, y, max_iter, tol, rng, random, positive\n",
            "/usr/local/lib/python3.7/dist-packages/sklearn/linear_model/_coordinate_descent.py:648: ConvergenceWarning: Objective did not converge. You might want to increase the number of iterations, check the scale of the features or consider increasing regularisation. Duality gap: 3.505e+15, tolerance: 1.877e+12\n",
            "  coef_, l1_reg, l2_reg, X, y, max_iter, tol, rng, random, positive\n",
            "/usr/local/lib/python3.7/dist-packages/sklearn/linear_model/_glm/glm.py:323: ConvergenceWarning: lbfgs failed to converge (status=1):\n",
            "STOP: TOTAL NO. of ITERATIONS REACHED LIMIT.\n",
            "\n",
            "Increase the number of iterations (max_iter) or scale the data as shown in:\n",
            "    https://scikit-learn.org/stable/modules/preprocessing.html\n",
            "  self.n_iter_ = _check_optimize_result(\"lbfgs\", opt_res)\n",
            "/usr/local/lib/python3.7/dist-packages/sklearn/linear_model/_huber.py:332: ConvergenceWarning: lbfgs failed to converge (status=1):\n",
            "STOP: TOTAL NO. of ITERATIONS REACHED LIMIT.\n",
            "\n",
            "Increase the number of iterations (max_iter) or scale the data as shown in:\n",
            "    https://scikit-learn.org/stable/modules/preprocessing.html\n",
            "  self.n_iter_ = _check_optimize_result(\"lbfgs\", opt_res, self.max_iter)\n"
          ]
        },
        {
          "output_type": "stream",
          "name": "stdout",
          "text": [
            "[07:29:42] WARNING: /workspace/src/objective/regression_obj.cu:152: reg:linear is now deprecated in favor of reg:squarederror.\n"
          ]
        },
        {
          "output_type": "stream",
          "name": "stderr",
          "text": [
            "/usr/local/lib/python3.7/dist-packages/sklearn/linear_model/_coordinate_descent.py:648: ConvergenceWarning: Objective did not converge. You might want to increase the number of iterations, check the scale of the features or consider increasing regularisation. Duality gap: 1.255e+04, tolerance: 1.010e+03\n",
            "  coef_, l1_reg, l2_reg, X, y, max_iter, tol, rng, random, positive\n",
            "/usr/local/lib/python3.7/dist-packages/sklearn/linear_model/_coordinate_descent.py:648: ConvergenceWarning: Objective did not converge. You might want to increase the number of iterations, check the scale of the features or consider increasing regularisation. Duality gap: 3.356e+06, tolerance: 1.010e+03\n",
            "  coef_, l1_reg, l2_reg, X, y, max_iter, tol, rng, random, positive\n",
            "/usr/local/lib/python3.7/dist-packages/sklearn/linear_model/_glm/glm.py:323: ConvergenceWarning: lbfgs failed to converge (status=1):\n",
            "STOP: TOTAL NO. of ITERATIONS REACHED LIMIT.\n",
            "\n",
            "Increase the number of iterations (max_iter) or scale the data as shown in:\n",
            "    https://scikit-learn.org/stable/modules/preprocessing.html\n",
            "  self.n_iter_ = _check_optimize_result(\"lbfgs\", opt_res)\n",
            "/usr/local/lib/python3.7/dist-packages/sklearn/linear_model/_huber.py:332: ConvergenceWarning: lbfgs failed to converge (status=1):\n",
            "STOP: TOTAL NO. of ITERATIONS REACHED LIMIT.\n",
            "\n",
            "Increase the number of iterations (max_iter) or scale the data as shown in:\n",
            "    https://scikit-learn.org/stable/modules/preprocessing.html\n",
            "  self.n_iter_ = _check_optimize_result(\"lbfgs\", opt_res, self.max_iter)\n"
          ]
        },
        {
          "output_type": "stream",
          "name": "stdout",
          "text": [
            "[07:29:43] WARNING: /workspace/src/objective/regression_obj.cu:152: reg:linear is now deprecated in favor of reg:squarederror.\n"
          ]
        }
      ]
    },
    {
      "cell_type": "markdown",
      "source": [
        "### Comparaison des performances des différents modèles"
      ],
      "metadata": {
        "id": "7ovEMlIkVvKu"
      }
    },
    {
      "cell_type": "code",
      "source": [
        "df_results01_Consommation"
      ],
      "metadata": {
        "colab": {
          "base_uri": "https://localhost:8080/",
          "height": 206
        },
        "id": "z1q3vuKdNT-5",
        "outputId": "605c3020-68ab-46c6-f1fe-b0448f814b82"
      },
      "execution_count": null,
      "outputs": [
        {
          "output_type": "execute_result",
          "data": {
            "text/html": [
              "\n",
              "  <div id=\"df-e7d2a864-f29f-4afc-be28-6ab4c644dbe6\">\n",
              "    <div class=\"colab-df-container\">\n",
              "      <div>\n",
              "<style scoped>\n",
              "    .dataframe tbody tr th:only-of-type {\n",
              "        vertical-align: middle;\n",
              "    }\n",
              "\n",
              "    .dataframe tbody tr th {\n",
              "        vertical-align: top;\n",
              "    }\n",
              "\n",
              "    .dataframe thead th {\n",
              "        text-align: right;\n",
              "    }\n",
              "</style>\n",
              "<table border=\"1\" class=\"dataframe\">\n",
              "  <thead>\n",
              "    <tr style=\"text-align: right;\">\n",
              "      <th></th>\n",
              "      <th>LinearRegression</th>\n",
              "      <th>Lasso</th>\n",
              "      <th>Ridge</th>\n",
              "      <th>ElasticNet</th>\n",
              "      <th>TweedieRegressor</th>\n",
              "      <th>HuberRegressor</th>\n",
              "      <th>SVR</th>\n",
              "      <th>XGBRegressor</th>\n",
              "      <th>RandomForestRegressor</th>\n",
              "    </tr>\n",
              "  </thead>\n",
              "  <tbody>\n",
              "    <tr>\n",
              "      <th>Score entrainement</th>\n",
              "      <td>6.294315e-01</td>\n",
              "      <td>6.294315e-01</td>\n",
              "      <td>6.293816e-01</td>\n",
              "      <td>6.282454e-01</td>\n",
              "      <td>3.423086e-01</td>\n",
              "      <td>6.001061e-01</td>\n",
              "      <td>-1.468314e-01</td>\n",
              "      <td>8.547210e-01</td>\n",
              "      <td>9.931013e-01</td>\n",
              "    </tr>\n",
              "    <tr>\n",
              "      <th>Score de prédiction</th>\n",
              "      <td>6.696227e-01</td>\n",
              "      <td>6.696227e-01</td>\n",
              "      <td>6.701446e-01</td>\n",
              "      <td>6.652704e-01</td>\n",
              "      <td>3.640390e-01</td>\n",
              "      <td>6.557249e-01</td>\n",
              "      <td>-1.373293e-01</td>\n",
              "      <td>7.643213e-01</td>\n",
              "      <td>8.584660e-01</td>\n",
              "    </tr>\n",
              "    <tr>\n",
              "      <th>MAE</th>\n",
              "      <td>1.448111e+06</td>\n",
              "      <td>1.448111e+06</td>\n",
              "      <td>1.445918e+06</td>\n",
              "      <td>1.455457e+06</td>\n",
              "      <td>2.694214e+06</td>\n",
              "      <td>1.370093e+06</td>\n",
              "      <td>2.503805e+06</td>\n",
              "      <td>1.243338e+06</td>\n",
              "      <td>7.689926e+05</td>\n",
              "    </tr>\n",
              "    <tr>\n",
              "      <th>RMSE</th>\n",
              "      <td>2.378088e+06</td>\n",
              "      <td>2.378088e+06</td>\n",
              "      <td>2.376209e+06</td>\n",
              "      <td>2.393701e+06</td>\n",
              "      <td>3.299424e+06</td>\n",
              "      <td>2.427592e+06</td>\n",
              "      <td>4.412310e+06</td>\n",
              "      <td>2.008552e+06</td>\n",
              "      <td>1.556515e+06</td>\n",
              "    </tr>\n",
              "    <tr>\n",
              "      <th>median absolute error</th>\n",
              "      <td>8.279928e+05</td>\n",
              "      <td>8.279928e+05</td>\n",
              "      <td>8.347505e+05</td>\n",
              "      <td>8.230366e+05</td>\n",
              "      <td>2.567318e+06</td>\n",
              "      <td>6.879573e+05</td>\n",
              "      <td>1.235756e+06</td>\n",
              "      <td>6.401756e+05</td>\n",
              "      <td>2.811783e+05</td>\n",
              "    </tr>\n",
              "  </tbody>\n",
              "</table>\n",
              "</div>\n",
              "      <button class=\"colab-df-convert\" onclick=\"convertToInteractive('df-e7d2a864-f29f-4afc-be28-6ab4c644dbe6')\"\n",
              "              title=\"Convert this dataframe to an interactive table.\"\n",
              "              style=\"display:none;\">\n",
              "        \n",
              "  <svg xmlns=\"http://www.w3.org/2000/svg\" height=\"24px\"viewBox=\"0 0 24 24\"\n",
              "       width=\"24px\">\n",
              "    <path d=\"M0 0h24v24H0V0z\" fill=\"none\"/>\n",
              "    <path d=\"M18.56 5.44l.94 2.06.94-2.06 2.06-.94-2.06-.94-.94-2.06-.94 2.06-2.06.94zm-11 1L8.5 8.5l.94-2.06 2.06-.94-2.06-.94L8.5 2.5l-.94 2.06-2.06.94zm10 10l.94 2.06.94-2.06 2.06-.94-2.06-.94-.94-2.06-.94 2.06-2.06.94z\"/><path d=\"M17.41 7.96l-1.37-1.37c-.4-.4-.92-.59-1.43-.59-.52 0-1.04.2-1.43.59L10.3 9.45l-7.72 7.72c-.78.78-.78 2.05 0 2.83L4 21.41c.39.39.9.59 1.41.59.51 0 1.02-.2 1.41-.59l7.78-7.78 2.81-2.81c.8-.78.8-2.07 0-2.86zM5.41 20L4 18.59l7.72-7.72 1.47 1.35L5.41 20z\"/>\n",
              "  </svg>\n",
              "      </button>\n",
              "      \n",
              "  <style>\n",
              "    .colab-df-container {\n",
              "      display:flex;\n",
              "      flex-wrap:wrap;\n",
              "      gap: 12px;\n",
              "    }\n",
              "\n",
              "    .colab-df-convert {\n",
              "      background-color: #E8F0FE;\n",
              "      border: none;\n",
              "      border-radius: 50%;\n",
              "      cursor: pointer;\n",
              "      display: none;\n",
              "      fill: #1967D2;\n",
              "      height: 32px;\n",
              "      padding: 0 0 0 0;\n",
              "      width: 32px;\n",
              "    }\n",
              "\n",
              "    .colab-df-convert:hover {\n",
              "      background-color: #E2EBFA;\n",
              "      box-shadow: 0px 1px 2px rgba(60, 64, 67, 0.3), 0px 1px 3px 1px rgba(60, 64, 67, 0.15);\n",
              "      fill: #174EA6;\n",
              "    }\n",
              "\n",
              "    [theme=dark] .colab-df-convert {\n",
              "      background-color: #3B4455;\n",
              "      fill: #D2E3FC;\n",
              "    }\n",
              "\n",
              "    [theme=dark] .colab-df-convert:hover {\n",
              "      background-color: #434B5C;\n",
              "      box-shadow: 0px 1px 3px 1px rgba(0, 0, 0, 0.15);\n",
              "      filter: drop-shadow(0px 1px 2px rgba(0, 0, 0, 0.3));\n",
              "      fill: #FFFFFF;\n",
              "    }\n",
              "  </style>\n",
              "\n",
              "      <script>\n",
              "        const buttonEl =\n",
              "          document.querySelector('#df-e7d2a864-f29f-4afc-be28-6ab4c644dbe6 button.colab-df-convert');\n",
              "        buttonEl.style.display =\n",
              "          google.colab.kernel.accessAllowed ? 'block' : 'none';\n",
              "\n",
              "        async function convertToInteractive(key) {\n",
              "          const element = document.querySelector('#df-e7d2a864-f29f-4afc-be28-6ab4c644dbe6');\n",
              "          const dataTable =\n",
              "            await google.colab.kernel.invokeFunction('convertToInteractive',\n",
              "                                                     [key], {});\n",
              "          if (!dataTable) return;\n",
              "\n",
              "          const docLinkHtml = 'Like what you see? Visit the ' +\n",
              "            '<a target=\"_blank\" href=https://colab.research.google.com/notebooks/data_table.ipynb>data table notebook</a>'\n",
              "            + ' to learn more about interactive tables.';\n",
              "          element.innerHTML = '';\n",
              "          dataTable['output_type'] = 'display_data';\n",
              "          await google.colab.output.renderOutput(dataTable, element);\n",
              "          const docLink = document.createElement('div');\n",
              "          docLink.innerHTML = docLinkHtml;\n",
              "          element.appendChild(docLink);\n",
              "        }\n",
              "      </script>\n",
              "    </div>\n",
              "  </div>\n",
              "  "
            ],
            "text/plain": [
              "                       LinearRegression         Lasso         Ridge  \\\n",
              "Score entrainement         6.294315e-01  6.294315e-01  6.293816e-01   \n",
              "Score de prédiction        6.696227e-01  6.696227e-01  6.701446e-01   \n",
              "MAE                        1.448111e+06  1.448111e+06  1.445918e+06   \n",
              "RMSE                       2.378088e+06  2.378088e+06  2.376209e+06   \n",
              "median absolute error      8.279928e+05  8.279928e+05  8.347505e+05   \n",
              "\n",
              "                         ElasticNet  TweedieRegressor  HuberRegressor  \\\n",
              "Score entrainement     6.282454e-01      3.423086e-01    6.001061e-01   \n",
              "Score de prédiction    6.652704e-01      3.640390e-01    6.557249e-01   \n",
              "MAE                    1.455457e+06      2.694214e+06    1.370093e+06   \n",
              "RMSE                   2.393701e+06      3.299424e+06    2.427592e+06   \n",
              "median absolute error  8.230366e+05      2.567318e+06    6.879573e+05   \n",
              "\n",
              "                                SVR  XGBRegressor  RandomForestRegressor  \n",
              "Score entrainement    -1.468314e-01  8.547210e-01           9.931013e-01  \n",
              "Score de prédiction   -1.373293e-01  7.643213e-01           8.584660e-01  \n",
              "MAE                    2.503805e+06  1.243338e+06           7.689926e+05  \n",
              "RMSE                   4.412310e+06  2.008552e+06           1.556515e+06  \n",
              "median absolute error  1.235756e+06  6.401756e+05           2.811783e+05  "
            ]
          },
          "metadata": {},
          "execution_count": 32
        }
      ]
    },
    {
      "cell_type": "code",
      "source": [
        "df_results01_GESEmission"
      ],
      "metadata": {
        "colab": {
          "base_uri": "https://localhost:8080/",
          "height": 206
        },
        "id": "rYcgOhq9NU6B",
        "outputId": "7f506e6f-7473-4a71-d4e3-bcd2d12c12ca"
      },
      "execution_count": null,
      "outputs": [
        {
          "output_type": "execute_result",
          "data": {
            "text/html": [
              "\n",
              "  <div id=\"df-564e6428-bbed-48fe-ba2f-ee5684e7e22b\">\n",
              "    <div class=\"colab-df-container\">\n",
              "      <div>\n",
              "<style scoped>\n",
              "    .dataframe tbody tr th:only-of-type {\n",
              "        vertical-align: middle;\n",
              "    }\n",
              "\n",
              "    .dataframe tbody tr th {\n",
              "        vertical-align: top;\n",
              "    }\n",
              "\n",
              "    .dataframe thead th {\n",
              "        text-align: right;\n",
              "    }\n",
              "</style>\n",
              "<table border=\"1\" class=\"dataframe\">\n",
              "  <thead>\n",
              "    <tr style=\"text-align: right;\">\n",
              "      <th></th>\n",
              "      <th>LinearRegression</th>\n",
              "      <th>Lasso</th>\n",
              "      <th>Ridge</th>\n",
              "      <th>ElasticNet</th>\n",
              "      <th>TweedieRegressor</th>\n",
              "      <th>HuberRegressor</th>\n",
              "      <th>SVR</th>\n",
              "      <th>XGBRegressor</th>\n",
              "      <th>RandomForestRegressor</th>\n",
              "    </tr>\n",
              "  </thead>\n",
              "  <tbody>\n",
              "    <tr>\n",
              "      <th>Score entrainement</th>\n",
              "      <td>0.346022</td>\n",
              "      <td>0.346017</td>\n",
              "      <td>0.345582</td>\n",
              "      <td>0.343083</td>\n",
              "      <td>0.129978</td>\n",
              "      <td>0.191001</td>\n",
              "      <td>0.042293</td>\n",
              "      <td>0.718230</td>\n",
              "      <td>0.978825</td>\n",
              "    </tr>\n",
              "    <tr>\n",
              "      <th>Score de prédiction</th>\n",
              "      <td>0.297621</td>\n",
              "      <td>0.298219</td>\n",
              "      <td>0.302328</td>\n",
              "      <td>0.306703</td>\n",
              "      <td>0.122741</td>\n",
              "      <td>0.208909</td>\n",
              "      <td>-0.039503</td>\n",
              "      <td>0.514353</td>\n",
              "      <td>0.672057</td>\n",
              "    </tr>\n",
              "    <tr>\n",
              "      <th>MAE</th>\n",
              "      <td>49.576897</td>\n",
              "      <td>49.552337</td>\n",
              "      <td>49.358058</td>\n",
              "      <td>49.226145</td>\n",
              "      <td>65.491611</td>\n",
              "      <td>44.974946</td>\n",
              "      <td>46.191127</td>\n",
              "      <td>40.751490</td>\n",
              "      <td>24.842969</td>\n",
              "    </tr>\n",
              "    <tr>\n",
              "      <th>RMSE</th>\n",
              "      <td>77.504272</td>\n",
              "      <td>77.471280</td>\n",
              "      <td>77.244144</td>\n",
              "      <td>77.001535</td>\n",
              "      <td>86.617137</td>\n",
              "      <td>82.253220</td>\n",
              "      <td>94.287180</td>\n",
              "      <td>64.446633</td>\n",
              "      <td>52.958870</td>\n",
              "    </tr>\n",
              "    <tr>\n",
              "      <th>median absolute error</th>\n",
              "      <td>31.534283</td>\n",
              "      <td>31.464323</td>\n",
              "      <td>32.081099</td>\n",
              "      <td>31.599403</td>\n",
              "      <td>61.941644</td>\n",
              "      <td>20.933544</td>\n",
              "      <td>20.509461</td>\n",
              "      <td>23.731093</td>\n",
              "      <td>8.477333</td>\n",
              "    </tr>\n",
              "  </tbody>\n",
              "</table>\n",
              "</div>\n",
              "      <button class=\"colab-df-convert\" onclick=\"convertToInteractive('df-564e6428-bbed-48fe-ba2f-ee5684e7e22b')\"\n",
              "              title=\"Convert this dataframe to an interactive table.\"\n",
              "              style=\"display:none;\">\n",
              "        \n",
              "  <svg xmlns=\"http://www.w3.org/2000/svg\" height=\"24px\"viewBox=\"0 0 24 24\"\n",
              "       width=\"24px\">\n",
              "    <path d=\"M0 0h24v24H0V0z\" fill=\"none\"/>\n",
              "    <path d=\"M18.56 5.44l.94 2.06.94-2.06 2.06-.94-2.06-.94-.94-2.06-.94 2.06-2.06.94zm-11 1L8.5 8.5l.94-2.06 2.06-.94-2.06-.94L8.5 2.5l-.94 2.06-2.06.94zm10 10l.94 2.06.94-2.06 2.06-.94-2.06-.94-.94-2.06-.94 2.06-2.06.94z\"/><path d=\"M17.41 7.96l-1.37-1.37c-.4-.4-.92-.59-1.43-.59-.52 0-1.04.2-1.43.59L10.3 9.45l-7.72 7.72c-.78.78-.78 2.05 0 2.83L4 21.41c.39.39.9.59 1.41.59.51 0 1.02-.2 1.41-.59l7.78-7.78 2.81-2.81c.8-.78.8-2.07 0-2.86zM5.41 20L4 18.59l7.72-7.72 1.47 1.35L5.41 20z\"/>\n",
              "  </svg>\n",
              "      </button>\n",
              "      \n",
              "  <style>\n",
              "    .colab-df-container {\n",
              "      display:flex;\n",
              "      flex-wrap:wrap;\n",
              "      gap: 12px;\n",
              "    }\n",
              "\n",
              "    .colab-df-convert {\n",
              "      background-color: #E8F0FE;\n",
              "      border: none;\n",
              "      border-radius: 50%;\n",
              "      cursor: pointer;\n",
              "      display: none;\n",
              "      fill: #1967D2;\n",
              "      height: 32px;\n",
              "      padding: 0 0 0 0;\n",
              "      width: 32px;\n",
              "    }\n",
              "\n",
              "    .colab-df-convert:hover {\n",
              "      background-color: #E2EBFA;\n",
              "      box-shadow: 0px 1px 2px rgba(60, 64, 67, 0.3), 0px 1px 3px 1px rgba(60, 64, 67, 0.15);\n",
              "      fill: #174EA6;\n",
              "    }\n",
              "\n",
              "    [theme=dark] .colab-df-convert {\n",
              "      background-color: #3B4455;\n",
              "      fill: #D2E3FC;\n",
              "    }\n",
              "\n",
              "    [theme=dark] .colab-df-convert:hover {\n",
              "      background-color: #434B5C;\n",
              "      box-shadow: 0px 1px 3px 1px rgba(0, 0, 0, 0.15);\n",
              "      filter: drop-shadow(0px 1px 2px rgba(0, 0, 0, 0.3));\n",
              "      fill: #FFFFFF;\n",
              "    }\n",
              "  </style>\n",
              "\n",
              "      <script>\n",
              "        const buttonEl =\n",
              "          document.querySelector('#df-564e6428-bbed-48fe-ba2f-ee5684e7e22b button.colab-df-convert');\n",
              "        buttonEl.style.display =\n",
              "          google.colab.kernel.accessAllowed ? 'block' : 'none';\n",
              "\n",
              "        async function convertToInteractive(key) {\n",
              "          const element = document.querySelector('#df-564e6428-bbed-48fe-ba2f-ee5684e7e22b');\n",
              "          const dataTable =\n",
              "            await google.colab.kernel.invokeFunction('convertToInteractive',\n",
              "                                                     [key], {});\n",
              "          if (!dataTable) return;\n",
              "\n",
              "          const docLinkHtml = 'Like what you see? Visit the ' +\n",
              "            '<a target=\"_blank\" href=https://colab.research.google.com/notebooks/data_table.ipynb>data table notebook</a>'\n",
              "            + ' to learn more about interactive tables.';\n",
              "          element.innerHTML = '';\n",
              "          dataTable['output_type'] = 'display_data';\n",
              "          await google.colab.output.renderOutput(dataTable, element);\n",
              "          const docLink = document.createElement('div');\n",
              "          docLink.innerHTML = docLinkHtml;\n",
              "          element.appendChild(docLink);\n",
              "        }\n",
              "      </script>\n",
              "    </div>\n",
              "  </div>\n",
              "  "
            ],
            "text/plain": [
              "                       LinearRegression      Lasso      Ridge  ElasticNet  \\\n",
              "Score entrainement             0.346022   0.346017   0.345582    0.343083   \n",
              "Score de prédiction            0.297621   0.298219   0.302328    0.306703   \n",
              "MAE                           49.576897  49.552337  49.358058   49.226145   \n",
              "RMSE                          77.504272  77.471280  77.244144   77.001535   \n",
              "median absolute error         31.534283  31.464323  32.081099   31.599403   \n",
              "\n",
              "                       TweedieRegressor  HuberRegressor        SVR  \\\n",
              "Score entrainement             0.129978        0.191001   0.042293   \n",
              "Score de prédiction            0.122741        0.208909  -0.039503   \n",
              "MAE                           65.491611       44.974946  46.191127   \n",
              "RMSE                          86.617137       82.253220  94.287180   \n",
              "median absolute error         61.941644       20.933544  20.509461   \n",
              "\n",
              "                       XGBRegressor  RandomForestRegressor  \n",
              "Score entrainement         0.718230               0.978825  \n",
              "Score de prédiction        0.514353               0.672057  \n",
              "MAE                       40.751490              24.842969  \n",
              "RMSE                      64.446633              52.958870  \n",
              "median absolute error     23.731093               8.477333  "
            ]
          },
          "metadata": {},
          "execution_count": 33
        }
      ]
    },
    {
      "cell_type": "code",
      "source": [
        "custom_palette = [sns.xkcd_rgb[\"windows blue\"], sns.xkcd_rgb[\"pale red\"], sns.xkcd_rgb[\"medium green\"], \"orange\", \"blue\",\"yellow\", \"purple\", \"deeppink\", \"brown\", \"teal\", \"black\"] \n",
        "sns.set_palette(custom_palette)"
      ],
      "metadata": {
        "id": "jI7U6UktklH1"
      },
      "execution_count": null,
      "outputs": []
    },
    {
      "cell_type": "code",
      "source": [
        "df_graph_conso = df_results01_Consommation.transpose()\n",
        "fig, axs = plt.subplots(1, 2, figsize=(25, 7))\n",
        "ax1 = sns.barplot(x=df_graph_conso.index, y=df_graph_conso[\"Score entrainement\"].values, data=df_graph_conso, ax=axs[0], palette = custom_palette)\n",
        "ax2 = sns.barplot(x=df_graph_conso.index, y=df_graph_conso[\"Score de prédiction\"].values, data=df_graph_conso, ax=axs[1], palette = custom_palette)\n",
        "ax1.set_xticklabels(ax1.get_xticklabels(),rotation=30)\n",
        "ax1.set_title('Efficacité des modèles linéaires pour la prédiction de la consommation')\n",
        "ax1.set_ylabel('Score entrainement')\n",
        "ax1.set(ylim=(-0.2, 1))\n",
        "ax2.set_xticklabels(ax2.get_xticklabels(),rotation=30)\n",
        "ax2.set_title('Efficacité des modèles linéaires pour la prédiction de la consommation')\n",
        "ax2.set_ylabel('Score prédiction')\n",
        "ax2.set(ylim=(-0.2, 1))\n",
        "\n",
        "plt.tight_layout()\n",
        "#fig.savefig(\"Performance modèles variables quantif consommation\", dpi=400)"
      ],
      "metadata": {
        "id": "ga0SVfyRObNB",
        "colab": {
          "base_uri": "https://localhost:8080/",
          "height": 409
        },
        "outputId": "a01d7c0c-863f-433c-870c-76bf1ef9f416"
      },
      "execution_count": null,
      "outputs": [
        {
          "output_type": "display_data",
          "data": {
            "image/png": "[encoded data removed]",
            "text/plain": [
              "<Figure size 1800x504 with 2 Axes>"
            ]
          },
          "metadata": {
            "needs_background": "light"
          }
        }
      ]
    },
    {
      "cell_type": "code",
      "source": [
        "df_graph_conso = df_results01_GESEmission.transpose()\n",
        "fig, axs = plt.subplots(1, 2, figsize=(25, 7))\n",
        "ax1 = sns.barplot(x=df_graph_conso.index, y=df_graph_conso[\"Score entrainement\"].values, data=df_graph_conso, ax=axs[0], palette = custom_palette)\n",
        "ax2 = sns.barplot(x=df_graph_conso.index, y=df_graph_conso[\"Score de prédiction\"].values, data=df_graph_conso, ax=axs[1], palette = custom_palette)\n",
        "ax1.set_xticklabels(ax1.get_xticklabels(),rotation=30)\n",
        "ax1.set_title('Efficacité des modèles linéaires pour la prédiction des émissions de GES')\n",
        "ax1.set_ylabel('Score entrainement')\n",
        "ax1.set(ylim=(0, 1))\n",
        "ax2.set_xticklabels(ax2.get_xticklabels(),rotation=30)\n",
        "ax2.set_title('Efficacité des modèles linéaires pour la prédiction des émissions de GES')\n",
        "ax2.set_ylabel('Score prédiction')\n",
        "ax2.set(ylim=(0, 1))\n",
        "\n",
        "\n",
        "plt.tight_layout()\n",
        "fig.savefig(\"Performance modèles variables quantif GES émission\", dpi=400)"
      ],
      "metadata": {
        "id": "6tXcXR3vObz7",
        "colab": {
          "base_uri": "https://localhost:8080/",
          "height": 409
        },
        "outputId": "11f08cae-78a4-4647-e98c-728ad7c6e2b2"
      },
      "execution_count": null,
      "outputs": [
        {
          "output_type": "display_data",
          "data": {
            "image/png": "[encoded data removed]",
            "text/plain": [
              "<Figure size 1800x504 with 2 Axes>"
            ]
          },
          "metadata": {
            "needs_background": "light"
          }
        }
      ]
    },
    {
      "cell_type": "markdown",
      "source": [
        "Le modèle RandomForest semble être le plus efficace. Peut-on quand même optimiser ses prédictions en optimisant le choix des paramètres ?"
      ],
      "metadata": {
        "id": "AzAYd9B-QNDC"
      }
    },
    {
      "cell_type": "markdown",
      "source": [
        "## Optimisation du modèle de machine learning : Validation croisée et choix des hyperparamètres"
      ],
      "metadata": {
        "id": "qrUNqvbE3lEz"
      }
    },
    {
      "cell_type": "markdown",
      "source": [
        "On va chercher les meilleurs paramètres par un \"*grid search*\""
      ],
      "metadata": {
        "id": "2R5PbNQHRf44"
      }
    },
    {
      "cell_type": "markdown",
      "source": [
        "Prédiction de la consommation :"
      ],
      "metadata": {
        "id": "ci0Ebw8ISzGO"
      }
    },
    {
      "cell_type": "code",
      "source": [
        "# création des différentes valeurs possibles pour les différents paramètres\n",
        "parameters = {\"n_estimators\" : [10,20,30],\"max_features\": [\"auto\", \"sqrt\", \"log2\"], \"max_depth\": [int(x) for x in np.linspace(10, 110, num = 11)], \"min_samples_split\": [2,4,8], \"min_samples_leaf\": [1, 2, 4], \"bootstrap\": [True, False],}"
      ],
      "metadata": {
        "id": "tnSGqM2J76BW"
      },
      "execution_count": null,
      "outputs": []
    },
    {
      "cell_type": "code",
      "source": [
        "# Je mets ce code en commentaire car très long à executer\n",
        "\n",
        "# Application de la grid search pour obtenir les meilleurs paramètres du modèles\n",
        "X_train, X_test, y_train, y_test = train_test_split(X, Y['SiteEnergyUse(kBtu)'], test_size=0.25, random_state = 7)\n",
        "# je centre-réduit les données pour un gain de temps\n",
        "X_train=StandardScaler().fit_transform(X_train)\n",
        "model = RandomForestRegressor()\n",
        "rf_GridSearchCV_conso = GridSearchCV(estimator = model, param_grid = parameters, cv = 5, n_jobs=-1)\n",
        "rf_GridSearchCV_conso.fit(X_train, y_train)"
      ],
      "metadata": {
        "id": "5qUYW88AG51S",
        "colab": {
          "base_uri": "https://localhost:8080/"
        },
        "outputId": "3116ea2d-b7e7-476a-eccd-1ae9155d8d0b"
      },
      "execution_count": null,
      "outputs": [
        {
          "output_type": "execute_result",
          "data": {
            "text/plain": [
              "GridSearchCV(cv=5, estimator=RandomForestRegressor(), n_jobs=-1,\n",
              "             param_grid={'bootstrap': [True, False],\n",
              "                         'max_depth': [10, 20, 30, 40, 50, 60, 70, 80, 90, 100,\n",
              "                                       110],\n",
              "                         'max_features': ['auto', 'sqrt', 'log2'],\n",
              "                         'min_samples_leaf': [1, 2, 4],\n",
              "                         'min_samples_split': [2, 4, 8],\n",
              "                         'n_estimators': [10, 20, 30]})"
            ]
          },
          "metadata": {},
          "execution_count": 38
        }
      ]
    },
    {
      "cell_type": "markdown",
      "source": [
        "Il est a noté ici que le temps de calcul du code ci-dessus requiert **9min**.\n",
        "\n",
        "Ce long temps de calcul sera à mettre en relief du gain en performance du modèle (peut-être que le gain en performance optenu ici n'est pas significatif par rapport à la lourdeur d'application du code)."
      ],
      "metadata": {
        "id": "ywe8lSZgVAYE"
      }
    },
    {
      "cell_type": "code",
      "source": [
        "# Je mets ce code en commentaire car le précédent est très long à executer, les paramètres en sortie sont ceux dans le bloc de code ci-dessous\n",
        "rf_GridSearchCV_conso.best_params_"
      ],
      "metadata": {
        "id": "ODXl8qJzdKyq",
        "colab": {
          "base_uri": "https://localhost:8080/"
        },
        "outputId": "a739adfe-508e-4e9e-8b30-247cf8e0aaac"
      },
      "execution_count": null,
      "outputs": [
        {
          "output_type": "execute_result",
          "data": {
            "text/plain": [
              "{'bootstrap': False,\n",
              " 'max_depth': 20,\n",
              " 'max_features': 'sqrt',\n",
              " 'min_samples_leaf': 1,\n",
              " 'min_samples_split': 2,\n",
              " 'n_estimators': 30}"
            ]
          },
          "metadata": {},
          "execution_count": 39
        }
      ]
    },
    {
      "cell_type": "markdown",
      "source": [
        "Application des meilleurs hyperparamètres :"
      ],
      "metadata": {
        "id": "84jyT7ze5nb1"
      }
    },
    {
      "cell_type": "code",
      "source": [
        "df_results = run_model_and_performance_check(\"Consommation\", RandomForestRegressor(bootstrap = False, max_depth = 20, max_features=\"sqrt\", min_samples_leaf = 1, min_samples_split=4, n_estimators=30))\n",
        "results_regression = df_results\n",
        "df_results01_Consommation[\"RandomForestRegressor_Optimised\"] = results_regression\n",
        "df_results"
      ],
      "metadata": {
        "id": "aLGdc-rC5FzI",
        "colab": {
          "base_uri": "https://localhost:8080/",
          "height": 242
        },
        "outputId": "3aeb9411-7d08-4ce1-d1f7-a608198bca14"
      },
      "execution_count": null,
      "outputs": [
        {
          "output_type": "stream",
          "name": "stdout",
          "text": [
            "Prédiction de la consommation : \n",
            "\n"
          ]
        },
        {
          "output_type": "execute_result",
          "data": {
            "text/html": [
              "\n",
              "  <div id=\"df-28457015-74d1-4271-801e-1973df89e9cb\">\n",
              "    <div class=\"colab-df-container\">\n",
              "      <div>\n",
              "<style scoped>\n",
              "    .dataframe tbody tr th:only-of-type {\n",
              "        vertical-align: middle;\n",
              "    }\n",
              "\n",
              "    .dataframe tbody tr th {\n",
              "        vertical-align: top;\n",
              "    }\n",
              "\n",
              "    .dataframe thead th {\n",
              "        text-align: right;\n",
              "    }\n",
              "</style>\n",
              "<table border=\"1\" class=\"dataframe\">\n",
              "  <thead>\n",
              "    <tr style=\"text-align: right;\">\n",
              "      <th></th>\n",
              "      <th>RandomForestRegressor(bootstrap=False, max_depth=20, max_features='sqrt',\\n                      min_samples_split=4, n_estimators=3</th>\n",
              "    </tr>\n",
              "  </thead>\n",
              "  <tbody>\n",
              "    <tr>\n",
              "      <th>Score entrainement</th>\n",
              "      <td>9.924124e-01</td>\n",
              "    </tr>\n",
              "    <tr>\n",
              "      <th>Score de prédiction</th>\n",
              "      <td>8.573943e-01</td>\n",
              "    </tr>\n",
              "    <tr>\n",
              "      <th>MAE</th>\n",
              "      <td>7.789493e+05</td>\n",
              "    </tr>\n",
              "    <tr>\n",
              "      <th>RMSE</th>\n",
              "      <td>1.562397e+06</td>\n",
              "    </tr>\n",
              "    <tr>\n",
              "      <th>median absolute error</th>\n",
              "      <td>2.853926e+05</td>\n",
              "    </tr>\n",
              "  </tbody>\n",
              "</table>\n",
              "</div>\n",
              "      <button class=\"colab-df-convert\" onclick=\"convertToInteractive('df-28457015-74d1-4271-801e-1973df89e9cb')\"\n",
              "              title=\"Convert this dataframe to an interactive table.\"\n",
              "              style=\"display:none;\">\n",
              "        \n",
              "  <svg xmlns=\"http://www.w3.org/2000/svg\" height=\"24px\"viewBox=\"0 0 24 24\"\n",
              "       width=\"24px\">\n",
              "    <path d=\"M0 0h24v24H0V0z\" fill=\"none\"/>\n",
              "    <path d=\"M18.56 5.44l.94 2.06.94-2.06 2.06-.94-2.06-.94-.94-2.06-.94 2.06-2.06.94zm-11 1L8.5 8.5l.94-2.06 2.06-.94-2.06-.94L8.5 2.5l-.94 2.06-2.06.94zm10 10l.94 2.06.94-2.06 2.06-.94-2.06-.94-.94-2.06-.94 2.06-2.06.94z\"/><path d=\"M17.41 7.96l-1.37-1.37c-.4-.4-.92-.59-1.43-.59-.52 0-1.04.2-1.43.59L10.3 9.45l-7.72 7.72c-.78.78-.78 2.05 0 2.83L4 21.41c.39.39.9.59 1.41.59.51 0 1.02-.2 1.41-.59l7.78-7.78 2.81-2.81c.8-.78.8-2.07 0-2.86zM5.41 20L4 18.59l7.72-7.72 1.47 1.35L5.41 20z\"/>\n",
              "  </svg>\n",
              "      </button>\n",
              "      \n",
              "  <style>\n",
              "    .colab-df-container {\n",
              "      display:flex;\n",
              "      flex-wrap:wrap;\n",
              "      gap: 12px;\n",
              "    }\n",
              "\n",
              "    .colab-df-convert {\n",
              "      background-color: #E8F0FE;\n",
              "      border: none;\n",
              "      border-radius: 50%;\n",
              "      cursor: pointer;\n",
              "      display: none;\n",
              "      fill: #1967D2;\n",
              "      height: 32px;\n",
              "      padding: 0 0 0 0;\n",
              "      width: 32px;\n",
              "    }\n",
              "\n",
              "    .colab-df-convert:hover {\n",
              "      background-color: #E2EBFA;\n",
              "      box-shadow: 0px 1px 2px rgba(60, 64, 67, 0.3), 0px 1px 3px 1px rgba(60, 64, 67, 0.15);\n",
              "      fill: #174EA6;\n",
              "    }\n",
              "\n",
              "    [theme=dark] .colab-df-convert {\n",
              "      background-color: #3B4455;\n",
              "      fill: #D2E3FC;\n",
              "    }\n",
              "\n",
              "    [theme=dark] .colab-df-convert:hover {\n",
              "      background-color: #434B5C;\n",
              "      box-shadow: 0px 1px 3px 1px rgba(0, 0, 0, 0.15);\n",
              "      filter: drop-shadow(0px 1px 2px rgba(0, 0, 0, 0.3));\n",
              "      fill: #FFFFFF;\n",
              "    }\n",
              "  </style>\n",
              "\n",
              "      <script>\n",
              "        const buttonEl =\n",
              "          document.querySelector('#df-28457015-74d1-4271-801e-1973df89e9cb button.colab-df-convert');\n",
              "        buttonEl.style.display =\n",
              "          google.colab.kernel.accessAllowed ? 'block' : 'none';\n",
              "\n",
              "        async function convertToInteractive(key) {\n",
              "          const element = document.querySelector('#df-28457015-74d1-4271-801e-1973df89e9cb');\n",
              "          const dataTable =\n",
              "            await google.colab.kernel.invokeFunction('convertToInteractive',\n",
              "                                                     [key], {});\n",
              "          if (!dataTable) return;\n",
              "\n",
              "          const docLinkHtml = 'Like what you see? Visit the ' +\n",
              "            '<a target=\"_blank\" href=https://colab.research.google.com/notebooks/data_table.ipynb>data table notebook</a>'\n",
              "            + ' to learn more about interactive tables.';\n",
              "          element.innerHTML = '';\n",
              "          dataTable['output_type'] = 'display_data';\n",
              "          await google.colab.output.renderOutput(dataTable, element);\n",
              "          const docLink = document.createElement('div');\n",
              "          docLink.innerHTML = docLinkHtml;\n",
              "          element.appendChild(docLink);\n",
              "        }\n",
              "      </script>\n",
              "    </div>\n",
              "  </div>\n",
              "  "
            ],
            "text/plain": [
              "                       RandomForestRegressor(bootstrap=False, max_depth=20, max_features='sqrt',\\n                      min_samples_split=4, n_estimators=3\n",
              "Score entrainement                                          9.924124e-01                                                                                   \n",
              "Score de prédiction                                         8.573943e-01                                                                                   \n",
              "MAE                                                         7.789493e+05                                                                                   \n",
              "RMSE                                                        1.562397e+06                                                                                   \n",
              "median absolute error                                       2.853926e+05                                                                                   "
            ]
          },
          "metadata": {},
          "execution_count": 40
        }
      ]
    },
    {
      "cell_type": "markdown",
      "source": [
        "Prédiction de l'émission des GES :"
      ],
      "metadata": {
        "id": "nLrT1uRrSv5O"
      }
    },
    {
      "cell_type": "code",
      "source": [
        "# Je mets ce code en commentaire car très long à executer\n",
        "\n",
        "# Application de la grid search pour obtenir les meilleurs paramètres du modèles\n",
        "X_train, X_test, y_train, y_test = train_test_split(X, Y['TotalGHGEmissions'], test_size=0.25, random_state = 7)\n",
        "# Je centre-réduit les données pour un gain de temps\n",
        "X_train=StandardScaler().fit_transform(X_train)\n",
        "model = RandomForestRegressor()\n",
        "rf_GridSearchCV_GES = GridSearchCV(estimator = model, param_grid = parameters, cv = 5, n_jobs=-1)\n",
        "rf_GridSearchCV_GES.fit(X_train, y_train)"
      ],
      "metadata": {
        "id": "fhBJPj-groPq",
        "colab": {
          "base_uri": "https://localhost:8080/"
        },
        "outputId": "7b7dc35f-1e98-47c6-c41a-6a26ed95a2a9"
      },
      "execution_count": null,
      "outputs": [
        {
          "output_type": "execute_result",
          "data": {
            "text/plain": [
              "GridSearchCV(cv=5, estimator=RandomForestRegressor(), n_jobs=-1,\n",
              "             param_grid={'bootstrap': [True, False],\n",
              "                         'max_depth': [10, 20, 30, 40, 50, 60, 70, 80, 90, 100,\n",
              "                                       110],\n",
              "                         'max_features': ['auto', 'sqrt', 'log2'],\n",
              "                         'min_samples_leaf': [1, 2, 4],\n",
              "                         'min_samples_split': [2, 4, 8],\n",
              "                         'n_estimators': [10, 20, 30]})"
            ]
          },
          "metadata": {},
          "execution_count": 41
        }
      ]
    },
    {
      "cell_type": "markdown",
      "source": [
        "Il est a noté ici que le temps de calcul du code ci-dessus requiert **8min**.\n",
        "\n",
        "Ce long temps de calcul sera à mettre en relief du gain en performance du modèle (peut-être que le gain en performance optenu ici n'est pas significatif par rapport à la lourdeur d'application du code)."
      ],
      "metadata": {
        "id": "BeKVqytAeDOA"
      }
    },
    {
      "cell_type": "code",
      "source": [
        "# Je mets ce code en commentaire car le précédent est très long à executer, les paramètres en sortie sont ceux dans le bloc de code ci-dessous\n",
        "rf_GridSearchCV_GES.best_params_"
      ],
      "metadata": {
        "id": "ID6ObPDQXrlB",
        "colab": {
          "base_uri": "https://localhost:8080/"
        },
        "outputId": "f089f651-c42a-49a6-bbb3-7d422f7b6bf4"
      },
      "execution_count": null,
      "outputs": [
        {
          "output_type": "execute_result",
          "data": {
            "text/plain": [
              "{'bootstrap': False,\n",
              " 'max_depth': 40,\n",
              " 'max_features': 'sqrt',\n",
              " 'min_samples_leaf': 1,\n",
              " 'min_samples_split': 2,\n",
              " 'n_estimators': 30}"
            ]
          },
          "metadata": {},
          "execution_count": 42
        }
      ]
    },
    {
      "cell_type": "markdown",
      "source": [
        "Application des hyperparamètres optimaux :"
      ],
      "metadata": {
        "id": "nL341XhnxRRH"
      }
    },
    {
      "cell_type": "code",
      "source": [
        "df_results = run_model_and_performance_check(\"EmissionGES\", RandomForestRegressor(bootstrap = False, max_depth = 60, max_features=\"sqrt\", min_samples_leaf = 1, min_samples_split=4, n_estimators=10))\n",
        "results_regression = df_results\n",
        "df_results01_GESEmission[\"RandomForestRegressor_Optimised\"] = results_regression\n",
        "df_results"
      ],
      "metadata": {
        "id": "gLyiIjF18Xg2",
        "colab": {
          "base_uri": "https://localhost:8080/",
          "height": 242
        },
        "outputId": "56e52d7f-a21a-4831-ef67-d19635ac66df"
      },
      "execution_count": null,
      "outputs": [
        {
          "output_type": "stream",
          "name": "stdout",
          "text": [
            "Prédiction des Emission de GES : \n",
            "\n"
          ]
        },
        {
          "output_type": "execute_result",
          "data": {
            "text/html": [
              "\n",
              "  <div id=\"df-b7683e5c-5f6f-4951-a66f-182335c7d2af\">\n",
              "    <div class=\"colab-df-container\">\n",
              "      <div>\n",
              "<style scoped>\n",
              "    .dataframe tbody tr th:only-of-type {\n",
              "        vertical-align: middle;\n",
              "    }\n",
              "\n",
              "    .dataframe tbody tr th {\n",
              "        vertical-align: top;\n",
              "    }\n",
              "\n",
              "    .dataframe thead th {\n",
              "        text-align: right;\n",
              "    }\n",
              "</style>\n",
              "<table border=\"1\" class=\"dataframe\">\n",
              "  <thead>\n",
              "    <tr style=\"text-align: right;\">\n",
              "      <th></th>\n",
              "      <th>RandomForestRegressor(bootstrap=False, max_depth=60, max_features='sqrt',\\n                      min_samples_split=4, n_estimators=1</th>\n",
              "    </tr>\n",
              "  </thead>\n",
              "  <tbody>\n",
              "    <tr>\n",
              "      <th>Score entrainement</th>\n",
              "      <td>0.980487</td>\n",
              "    </tr>\n",
              "    <tr>\n",
              "      <th>Score de prédiction</th>\n",
              "      <td>0.694269</td>\n",
              "    </tr>\n",
              "    <tr>\n",
              "      <th>MAE</th>\n",
              "      <td>25.139185</td>\n",
              "    </tr>\n",
              "    <tr>\n",
              "      <th>RMSE</th>\n",
              "      <td>51.133965</td>\n",
              "    </tr>\n",
              "    <tr>\n",
              "      <th>median absolute error</th>\n",
              "      <td>9.134500</td>\n",
              "    </tr>\n",
              "  </tbody>\n",
              "</table>\n",
              "</div>\n",
              "      <button class=\"colab-df-convert\" onclick=\"convertToInteractive('df-b7683e5c-5f6f-4951-a66f-182335c7d2af')\"\n",
              "              title=\"Convert this dataframe to an interactive table.\"\n",
              "              style=\"display:none;\">\n",
              "        \n",
              "  <svg xmlns=\"http://www.w3.org/2000/svg\" height=\"24px\"viewBox=\"0 0 24 24\"\n",
              "       width=\"24px\">\n",
              "    <path d=\"M0 0h24v24H0V0z\" fill=\"none\"/>\n",
              "    <path d=\"M18.56 5.44l.94 2.06.94-2.06 2.06-.94-2.06-.94-.94-2.06-.94 2.06-2.06.94zm-11 1L8.5 8.5l.94-2.06 2.06-.94-2.06-.94L8.5 2.5l-.94 2.06-2.06.94zm10 10l.94 2.06.94-2.06 2.06-.94-2.06-.94-.94-2.06-.94 2.06-2.06.94z\"/><path d=\"M17.41 7.96l-1.37-1.37c-.4-.4-.92-.59-1.43-.59-.52 0-1.04.2-1.43.59L10.3 9.45l-7.72 7.72c-.78.78-.78 2.05 0 2.83L4 21.41c.39.39.9.59 1.41.59.51 0 1.02-.2 1.41-.59l7.78-7.78 2.81-2.81c.8-.78.8-2.07 0-2.86zM5.41 20L4 18.59l7.72-7.72 1.47 1.35L5.41 20z\"/>\n",
              "  </svg>\n",
              "      </button>\n",
              "      \n",
              "  <style>\n",
              "    .colab-df-container {\n",
              "      display:flex;\n",
              "      flex-wrap:wrap;\n",
              "      gap: 12px;\n",
              "    }\n",
              "\n",
              "    .colab-df-convert {\n",
              "      background-color: #E8F0FE;\n",
              "      border: none;\n",
              "      border-radius: 50%;\n",
              "      cursor: pointer;\n",
              "      display: none;\n",
              "      fill: #1967D2;\n",
              "      height: 32px;\n",
              "      padding: 0 0 0 0;\n",
              "      width: 32px;\n",
              "    }\n",
              "\n",
              "    .colab-df-convert:hover {\n",
              "      background-color: #E2EBFA;\n",
              "      box-shadow: 0px 1px 2px rgba(60, 64, 67, 0.3), 0px 1px 3px 1px rgba(60, 64, 67, 0.15);\n",
              "      fill: #174EA6;\n",
              "    }\n",
              "\n",
              "    [theme=dark] .colab-df-convert {\n",
              "      background-color: #3B4455;\n",
              "      fill: #D2E3FC;\n",
              "    }\n",
              "\n",
              "    [theme=dark] .colab-df-convert:hover {\n",
              "      background-color: #434B5C;\n",
              "      box-shadow: 0px 1px 3px 1px rgba(0, 0, 0, 0.15);\n",
              "      filter: drop-shadow(0px 1px 2px rgba(0, 0, 0, 0.3));\n",
              "      fill: #FFFFFF;\n",
              "    }\n",
              "  </style>\n",
              "\n",
              "      <script>\n",
              "        const buttonEl =\n",
              "          document.querySelector('#df-b7683e5c-5f6f-4951-a66f-182335c7d2af button.colab-df-convert');\n",
              "        buttonEl.style.display =\n",
              "          google.colab.kernel.accessAllowed ? 'block' : 'none';\n",
              "\n",
              "        async function convertToInteractive(key) {\n",
              "          const element = document.querySelector('#df-b7683e5c-5f6f-4951-a66f-182335c7d2af');\n",
              "          const dataTable =\n",
              "            await google.colab.kernel.invokeFunction('convertToInteractive',\n",
              "                                                     [key], {});\n",
              "          if (!dataTable) return;\n",
              "\n",
              "          const docLinkHtml = 'Like what you see? Visit the ' +\n",
              "            '<a target=\"_blank\" href=https://colab.research.google.com/notebooks/data_table.ipynb>data table notebook</a>'\n",
              "            + ' to learn more about interactive tables.';\n",
              "          element.innerHTML = '';\n",
              "          dataTable['output_type'] = 'display_data';\n",
              "          await google.colab.output.renderOutput(dataTable, element);\n",
              "          const docLink = document.createElement('div');\n",
              "          docLink.innerHTML = docLinkHtml;\n",
              "          element.appendChild(docLink);\n",
              "        }\n",
              "      </script>\n",
              "    </div>\n",
              "  </div>\n",
              "  "
            ],
            "text/plain": [
              "                       RandomForestRegressor(bootstrap=False, max_depth=60, max_features='sqrt',\\n                      min_samples_split=4, n_estimators=1\n",
              "Score entrainement                                              0.980487                                                                                   \n",
              "Score de prédiction                                             0.694269                                                                                   \n",
              "MAE                                                            25.139185                                                                                   \n",
              "RMSE                                                           51.133965                                                                                   \n",
              "median absolute error                                           9.134500                                                                                   "
            ]
          },
          "metadata": {},
          "execution_count": 43
        }
      ]
    },
    {
      "cell_type": "markdown",
      "source": [
        "Présentation des résultats d'optimisation des hyperparamètres sur le modèle RandomForestRegressor"
      ],
      "metadata": {
        "id": "mVvXZpq8_6-5"
      }
    },
    {
      "cell_type": "code",
      "source": [
        "df_graph_conso = df_results01_Consommation.transpose()\n",
        "fig, axs = plt.subplots(1, 2, figsize=(25, 7))\n",
        "ax1 = sns.barplot(x=df_graph_conso.index, y=df_graph_conso[\"Score entrainement\"].values, data=df_graph_conso, ax=axs[0], palette = custom_palette)\n",
        "ax2 = sns.barplot(x=df_graph_conso.index, y=df_graph_conso[\"Score de prédiction\"].values, data=df_graph_conso, ax=axs[1], palette = custom_palette)\n",
        "ax1.set_xticklabels(ax1.get_xticklabels(),rotation=30)\n",
        "ax1.set_title('Efficacité des modèles linéaires pour la prédiction de la consommation')\n",
        "ax1.set_ylabel('Score entrainement')\n",
        "ax1.set(ylim=(-0.4, 1))\n",
        "ax2.set_xticklabels(ax2.get_xticklabels(),rotation=30)\n",
        "ax2.set_title('Efficacité des modèles linéaires pour la prédiction de la consommation')\n",
        "ax2.set_ylabel('Score prédiction')\n",
        "ax2.set(ylim=(-0.4, 1))\n",
        "\n",
        "plt.tight_layout()\n",
        "fig.savefig(\"Performance modèles variables quantif consommation optimisation RF\", dpi=400)"
      ],
      "metadata": {
        "id": "BsqgXJFETnW4",
        "colab": {
          "base_uri": "https://localhost:8080/",
          "height": 409
        },
        "outputId": "5f29a200-3c65-41b2-d510-481aa515d09f"
      },
      "execution_count": null,
      "outputs": [
        {
          "output_type": "display_data",
          "data": {
            "image/png": "[encoded data removed]",
            "text/plain": [
              "<Figure size 1800x504 with 2 Axes>"
            ]
          },
          "metadata": {
            "needs_background": "light"
          }
        }
      ]
    },
    {
      "cell_type": "code",
      "source": [
        "df_barplot_conso = df_graph_conso.drop('LinearRegression') \n",
        "df_barplot_conso = df_barplot_conso.drop('Lasso')\n",
        "df_barplot_conso = df_barplot_conso.drop('Ridge') \n",
        "df_barplot_conso = df_barplot_conso.drop('ElasticNet') \n",
        "df_barplot_conso = df_barplot_conso.drop('TweedieRegressor') \n",
        "df_barplot_conso = df_barplot_conso.drop('HuberRegressor') \n",
        "df_barplot_conso = df_barplot_conso.drop('SVR') \n",
        "df_barplot_conso = df_barplot_conso.drop('XGBRegressor') "
      ],
      "metadata": {
        "id": "KkCV7pbM8OMt"
      },
      "execution_count": null,
      "outputs": []
    },
    {
      "cell_type": "code",
      "source": [
        "fig, axs = plt.subplots(1, 2, figsize=(13, 7))\n",
        "ax1 = sns.barplot(x=df_barplot_conso.index, y=df_barplot_conso[\"Score entrainement\"].values, data=df_barplot_conso, ax=axs[0], palette = custom_palette)\n",
        "ax2 = sns.barplot(x=df_barplot_conso.index, y=df_barplot_conso[\"Score de prédiction\"].values, data=df_barplot_conso, ax=axs[1], palette = custom_palette)\n",
        "ax1.set_xticklabels(ax1.get_xticklabels(),rotation=30)\n",
        "ax1.set_title('Efficacité des modèles linéaires pour la prédiction de la consommation')\n",
        "ax1.set_ylabel('Score entrainement')\n",
        "ax1.set(ylim=(0.6, 1))\n",
        "ax2.set_xticklabels(ax2.get_xticklabels(),rotation=30)\n",
        "ax2.set_title('Efficacité des modèles linéaires pour la prédiction de la consommation')\n",
        "ax2.set_ylabel('Score prédiction')\n",
        "ax2.set(ylim=(0.6, 1))\n",
        "\n",
        "plt.tight_layout()\n",
        "fig.savefig(\"Performance modèles variables quantif consommation optimisation RF2\", dpi=400)"
      ],
      "metadata": {
        "id": "o4hGfKMu6Mld",
        "colab": {
          "base_uri": "https://localhost:8080/",
          "height": 513
        },
        "outputId": "28218526-c65e-43d6-cf67-ae60a58b4de0"
      },
      "execution_count": null,
      "outputs": [
        {
          "output_type": "display_data",
          "data": {
            "image/png": "[encoded data removed]",
            "text/plain": [
              "<Figure size 936x504 with 2 Axes>"
            ]
          },
          "metadata": {
            "needs_background": "light"
          }
        }
      ]
    },
    {
      "cell_type": "markdown",
      "source": [
        "On remarque ici que l'optimisation du modèle de RandomForest créé de l'overfitting sur le jeu d'entrainement pour la prédiction de la consommation"
      ],
      "metadata": {
        "id": "g7WyA6Pc10iD"
      }
    },
    {
      "cell_type": "code",
      "source": [
        "df_graph_GES = df_results01_GESEmission.transpose()\n",
        "fig, axs = plt.subplots(1, 2, figsize=(25, 7))\n",
        "ax1 = sns.barplot(x=df_graph_GES.index, y=df_graph_GES[\"Score entrainement\"].values, data=df_graph_GES, ax=axs[0], palette = custom_palette)\n",
        "ax2 = sns.barplot(x=df_graph_GES.index, y=df_graph_GES[\"Score de prédiction\"].values, data=df_graph_GES, ax=axs[1], palette = custom_palette)\n",
        "ax1.set_xticklabels(ax1.get_xticklabels(),rotation=30)\n",
        "ax1.set_title('Efficacité des modèles linéaires pour la prédiction des émissions de GES')\n",
        "ax1.set_ylabel('Score entrainement')\n",
        "ax1.set(ylim=(-0.4, 1))\n",
        "ax2.set_xticklabels(ax2.get_xticklabels(),rotation=30)\n",
        "ax2.set_title('Efficacité des modèles linéaires pour la prédiction des émissions de GES')\n",
        "ax2.set_ylabel('Score prédiction')\n",
        "ax2.set(ylim=(-0.4, 1))\n",
        "\n",
        "\n",
        "plt.tight_layout()\n",
        "fig.savefig(\"Performance modèles variables quantif GES émission optimisation RF\", dpi=400)"
      ],
      "metadata": {
        "id": "IfIUkaA4Tkwx",
        "colab": {
          "base_uri": "https://localhost:8080/",
          "height": 409
        },
        "outputId": "a935a321-3288-4b84-f972-c69282675d39"
      },
      "execution_count": null,
      "outputs": [
        {
          "output_type": "display_data",
          "data": {
            "image/png": "[encoded data removed]",
            "text/plain": [
              "<Figure size 1800x504 with 2 Axes>"
            ]
          },
          "metadata": {
            "needs_background": "light"
          }
        }
      ]
    },
    {
      "cell_type": "code",
      "source": [
        "df_barplotGES = df_graph_GES.drop('LinearRegression') \n",
        "df_barplotGES = df_barplotGES.drop('Lasso')\n",
        "df_barplotGES = df_barplotGES.drop('Ridge') \n",
        "df_barplotGES = df_barplotGES.drop('ElasticNet') \n",
        "df_barplotGES = df_barplotGES.drop('TweedieRegressor') \n",
        "df_barplotGES = df_barplotGES.drop('HuberRegressor') \n",
        "df_barplotGES = df_barplotGES.drop('SVR') \n",
        "df_barplotGES = df_barplotGES.drop('XGBRegressor') "
      ],
      "metadata": {
        "id": "mrUs8HKiV6i5"
      },
      "execution_count": null,
      "outputs": []
    },
    {
      "cell_type": "code",
      "source": [
        "fig, axs = plt.subplots(1, 2, figsize=(13, 7))\n",
        "ax1 = sns.barplot(x=df_barplotGES.index, y=df_barplotGES[\"Score entrainement\"].values, data=df_barplotGES, ax=axs[0], palette = custom_palette)\n",
        "ax2 = sns.barplot(x=df_barplotGES.index, y=df_barplotGES[\"Score de prédiction\"].values, data=df_barplotGES, ax=axs[1], palette = custom_palette)\n",
        "ax1.set_xticklabels(ax1.get_xticklabels(),rotation=30)\n",
        "ax1.set_title(\"Efficacité des modèles linéaires pour la prédiction de l'émission des GES\")\n",
        "ax1.set_ylabel('Score entrainement')\n",
        "ax1.set(ylim=(0.6, 1))\n",
        "ax2.set_xticklabels(ax2.get_xticklabels(),rotation=30)\n",
        "ax2.set_title(\"Efficacité des modèles linéaires pour la prédiction de l'émission des GES\")\n",
        "ax2.set_ylabel('Score prédiction')\n",
        "ax2.set(ylim=(0.4, 1))\n",
        "\n",
        "plt.tight_layout()\n",
        "fig.savefig(\"Performance modèles variables quantif GES optimisation RF2\", dpi=400)"
      ],
      "metadata": {
        "id": "EY3zCpZOV4qh",
        "colab": {
          "base_uri": "https://localhost:8080/",
          "height": 513
        },
        "outputId": "b0a88f35-a7ac-488f-a3a2-5b6e0c3169a4"
      },
      "execution_count": null,
      "outputs": [
        {
          "output_type": "display_data",
          "data": {
            "image/png": "[encoded data removed]",
            "text/plain": [
              "<Figure size 936x504 with 2 Axes>"
            ]
          },
          "metadata": {
            "needs_background": "light"
          }
        }
      ]
    },
    {
      "cell_type": "markdown",
      "source": [
        "L'optimisation par validation croisée et grid search améliore l'algorithme de RandomForest. On peut cependant noté que l'entrainement prend beaucoup de temps (environ 8min sur google collab) pour un gain en performance relativement faible pour la prédiction de la consommation (0.87 (optimisé) à la place de 0.81 (non-optimisé)) et provoque un overfitting pour la prédiction des émissions de GES."
      ],
      "metadata": {
        "id": "1zl25MeXe1hx"
      }
    },
    {
      "cell_type": "markdown",
      "source": [
        "## Importance de normalisation de type log sur les variables d'intérêt (consommation et émission de GES) :"
      ],
      "metadata": {
        "id": "TCh55JIhAmqs"
      }
    },
    {
      "cell_type": "code",
      "source": [
        "# Pour la prédiction de la consommation en énergie\n",
        "X = X[features_Quant]\n",
        "Y_conso = Y['SiteEnergyUse(kBtu)']\n",
        "X_train, X_test, y_train, y_test = train_test_split(X, Y_conso, test_size=0.25, random_state = 7)\n",
        "model_regr_RF_Consommation_nolog = RandomForestRegressor(bootstrap = False, max_depth=None, max_features=\"sqrt\", min_samples_leaf=1, min_samples_split=2, n_estimators=400)\n",
        "model_regr_RF_Consommation_nolog.fit(X_train, y_train)\n",
        "y_pred = model_regr_RF_Consommation_nolog.predict(X_test)\n",
        "print(\"Efficacité du modèle de régression Random Forest sans normalisation log :\")\n",
        "print(\"Score entrainement = \",model_regr_RF_Consommation_nolog.score(X_train,y_train))\n",
        "print(\"Score de prédiction = \",model_regr_RF_Consommation_nolog.score(X_test,y_test))\n",
        "\n",
        "y_trainlog_conso = np.log(1+y_train)\n",
        "y_testlog_conso = np.log(1+y_test)\n",
        "model_regr_RF_Consommation_log = RandomForestRegressor(bootstrap = False, max_depth=None, max_features=\"sqrt\", min_samples_leaf=1, min_samples_split=2, n_estimators=400)\n",
        "model_regr_RF_Consommation_log.fit(X_train, y_trainlog_conso)\n",
        "y_pred = model_regr_RF_Consommation_log.predict(X_test)\n",
        "results_conso_log = np.array([model_regr_RF_Consommation_log.score(X_train,y_trainlog_conso), model_regr_RF_Consommation_log.score(X_test,y_testlog_conso), mean_absolute_error(y_testlog_conso,y_pred), np.sqrt(mean_squared_error(y_testlog_conso,y_pred)), median_absolute_error(y_testlog_conso,y_pred)])\n",
        "df_barplot_conso.loc[2]=[results_conso_log[0],results_conso_log[1],results_conso_log[2], results_conso_log[3], results_conso_log[4]]\n",
        "print(\"\\nEfficacité du modèle de régression Random Forest avec normalisation log : \")\n",
        "print(\"Score entrainement = \",model_regr_RF_Consommation_log.score(X_train,y_trainlog_conso))\n",
        "print(\"Score de prédiction = \",model_regr_RF_Consommation_log.score(X_test,y_testlog_conso))"
      ],
      "metadata": {
        "id": "kGkY2yT5Awzu",
        "colab": {
          "base_uri": "https://localhost:8080/"
        },
        "outputId": "00826e04-5a11-4ef1-cb7a-7f2d8296f667"
      },
      "execution_count": null,
      "outputs": [
        {
          "output_type": "stream",
          "name": "stdout",
          "text": [
            "Efficacité du modèle de régression Random Forest sans normalisation log :\n",
            "Score entrainement =  0.996884487729903\n",
            "Score de prédiction =  0.8699023150231211\n",
            "\n",
            "Efficacité du modèle de régression Random Forest avec normalisation log : \n",
            "Score entrainement =  0.9952258349886923\n",
            "Score de prédiction =  0.8651494493702925\n"
          ]
        }
      ]
    },
    {
      "cell_type": "code",
      "source": [
        "y1 = [model_regr_RF_Consommation_nolog.score(X_train,y_train), model_regr_RF_Consommation_log.score(X_train,y_trainlog_conso)]\n",
        "x1 = [\"RandomForestOpt\", \"RandomForestOpt+Log\"]\n",
        "y2 = [model_regr_RF_Consommation_nolog.score(X_test,y_test), model_regr_RF_Consommation_log.score(X_test,y_testlog_conso)]\n",
        "x2 = x1\n",
        "fig, axs = plt.subplots(1, 2, figsize=(13, 7))\n",
        "ax1 = sns.barplot(x=x1, y=y1, ax=axs[0], palette = custom_palette)\n",
        "ax2 = sns.barplot(x=x2, y=y2, ax=axs[1], palette = custom_palette)\n",
        "ax1.set_xticklabels(ax1.get_xticklabels(),rotation=30)\n",
        "ax1.set_title(\"Efficacité des modèles linéaires pour la prédiction de la consommation\")\n",
        "ax1.set_ylabel('Score entrainement')\n",
        "ax1.set(ylim=(0.9, 1))\n",
        "ax2.set_xticklabels(ax2.get_xticklabels(),rotation=30)\n",
        "ax2.set_title(\"Efficacité des modèles linéaires pour la prédiction de la consommation\")\n",
        "ax2.set_ylabel('Score prédiction')\n",
        "ax2.set(ylim=(0.4, 1))\n",
        "\n",
        "plt.tight_layout()\n",
        "fig.savefig(\"Performance modèles variables quantif consommation optimisation + Log RF\", dpi=400)"
      ],
      "metadata": {
        "id": "5-9F5q57GOOm",
        "colab": {
          "base_uri": "https://localhost:8080/",
          "height": 513
        },
        "outputId": "cc3a1792-ba11-4ade-f057-781e3a2c20f0"
      },
      "execution_count": null,
      "outputs": [
        {
          "output_type": "display_data",
          "data": {
            "image/png": "[encoded data removed]",
            "text/plain": [
              "<Figure size 936x504 with 2 Axes>"
            ]
          },
          "metadata": {
            "needs_background": "light"
          }
        }
      ]
    },
    {
      "cell_type": "markdown",
      "source": [
        "Il n'y a pas d'intérêt à normaliser les données de consommation par le log"
      ],
      "metadata": {
        "id": "LnnT9j84Cnfd"
      }
    },
    {
      "cell_type": "code",
      "source": [
        "# Pour la prédiction de l'émission de GES\n",
        "X = X[features_Quant]\n",
        "Y_conso = Y['TotalGHGEmissions']\n",
        "X_train, X_test, y_train, y_test = train_test_split(X, Y_conso, test_size=0.25)\n",
        "model_regr_RF_GESEmission_nolog = RandomForestRegressor(bootstrap = False, max_depth=None, max_features=\"sqrt\", min_samples_leaf=1, min_samples_split=2, n_estimators=400)\n",
        "model_regr_RF_GESEmission_nolog.fit(X_train, y_train)\n",
        "y_pred = model_regr_RF_Consommation_nolog.predict(X_test)\n",
        "print(\"Efficacité du modèle de régression Random Forest sans normalisation log :\")\n",
        "print(\"Score entrainement = \",model_regr_RF_GESEmission_nolog.score(X_train,y_train))\n",
        "print(\"Score de prédiction = \",model_regr_RF_GESEmission_nolog.score(X_test,y_test))\n",
        "\n",
        "y_trainlog_conso = np.log(1+y_train)\n",
        "y_testlog_conso = np.log(1+y_test)\n",
        "model_regr_RF_GESEmission_log = RandomForestRegressor(bootstrap = False, max_depth=None, max_features=\"sqrt\", min_samples_leaf=1, min_samples_split=2, n_estimators=400)\n",
        "model_regr_RF_GESEmission_log.fit(X_train, y_trainlog_conso)\n",
        "y_pred = model_regr_RF_GESEmission_log.predict(X_test)\n",
        "results_conso_log = np.array([model_regr_RF_GESEmission_log.score(X_train,y_trainlog_conso), model_regr_RF_GESEmission_log.score(X_test,y_testlog_conso), mean_absolute_error(y_testlog_conso,y_pred), np.sqrt(mean_squared_error(y_testlog_conso,y_pred)), median_absolute_error(y_testlog_conso,y_pred)])\n",
        "df_barplot_conso.loc[2]=[results_conso_log[0],results_conso_log[1],results_conso_log[2], results_conso_log[3], results_conso_log[4]]\n",
        "print(\"\\nEfficacité du modèle de régression Random Forest avec normalisation log : \")\n",
        "print(\"Score entrainement = \",model_regr_RF_GESEmission_log.score(X_train,y_trainlog_conso))\n",
        "print(\"Score de prédiction = \",model_regr_RF_GESEmission_log.score(X_test,y_testlog_conso))"
      ],
      "metadata": {
        "id": "ln0rqroSKiVm",
        "colab": {
          "base_uri": "https://localhost:8080/"
        },
        "outputId": "3680a82b-3bdf-4d8a-c265-f34ef2ed2572"
      },
      "execution_count": null,
      "outputs": [
        {
          "output_type": "stream",
          "name": "stdout",
          "text": [
            "Efficacité du modèle de régression Random Forest sans normalisation log :\n",
            "Score entrainement =  0.9934060581569996\n",
            "Score de prédiction =  0.7097313651909005\n",
            "\n",
            "Efficacité du modèle de régression Random Forest avec normalisation log : \n",
            "Score entrainement =  0.9959829137775107\n",
            "Score de prédiction =  0.7022409786490782\n"
          ]
        }
      ]
    },
    {
      "cell_type": "code",
      "source": [
        "y1 = [model_regr_RF_GESEmission_nolog.score(X_train,y_train), model_regr_RF_GESEmission_log.score(X_train,y_trainlog_conso)]\n",
        "x1 = [\"RandomForestOpt\", \"RandomForestOpt+Log\"]\n",
        "y2 = [model_regr_RF_GESEmission_nolog.score(X_test,y_test), model_regr_RF_GESEmission_log.score(X_test,y_testlog_conso)]\n",
        "x2 = x1\n",
        "fig, axs = plt.subplots(1, 2, figsize=(13, 7))\n",
        "ax1 = sns.barplot(x=x1, y=y1, ax=axs[0], palette = custom_palette)\n",
        "ax2 = sns.barplot(x=x2, y=y2, ax=axs[1], palette = custom_palette)\n",
        "ax1.set_xticklabels(ax1.get_xticklabels(),rotation=30)\n",
        "ax1.set_title(\"Efficacité des modèles linéaires pour la prédiction de l'émission des GES\")\n",
        "ax1.set_ylabel('Score entrainement')\n",
        "ax1.set(ylim=(0.9, 1))\n",
        "ax2.set_xticklabels(ax2.get_xticklabels(),rotation=30)\n",
        "ax2.set_title(\"Efficacité des modèles linéaires pour la prédiction de l'émission des GES\")\n",
        "ax2.set_ylabel('Score prédiction')\n",
        "ax2.set(ylim=(0.4, 1))\n",
        "\n",
        "plt.tight_layout()\n",
        "fig.savefig(\"Performance modèles variables quantif GES optimisation + Log RF\", dpi=400)"
      ],
      "metadata": {
        "id": "9-YPwZkhGQwv",
        "colab": {
          "base_uri": "https://localhost:8080/",
          "height": 513
        },
        "outputId": "d15790a8-b234-4f75-a492-9a41387eaaac"
      },
      "execution_count": null,
      "outputs": [
        {
          "output_type": "display_data",
          "data": {
            "image/png": "[encoded data removed]",
            "text/plain": [
              "<Figure size 936x504 with 2 Axes>"
            ]
          },
          "metadata": {
            "needs_background": "light"
          }
        }
      ]
    },
    {
      "cell_type": "markdown",
      "source": [
        "Il y aurait un léger intérêt à normaliser les données d'émission de GES par le log"
      ],
      "metadata": {
        "id": "xg6dE7MWCtUN"
      }
    },
    {
      "cell_type": "markdown",
      "source": [
        "# Utilisation des variables quantitatives ET qualitatives"
      ],
      "metadata": {
        "id": "ICr4tYdi3WEQ"
      }
    },
    {
      "cell_type": "markdown",
      "source": [
        "Les modèles de prédiction peuvent prendre en entrée des variables catégorielles si au préalable, une transformation incluant des encoders est effectuée.\n",
        "\n",
        "L'objectif ici est de tester la plus-value à utiliser ce mode d'entrainement de modèle de machine learning."
      ],
      "metadata": {
        "id": "OBFaVuQzfWoi"
      }
    },
    {
      "cell_type": "markdown",
      "source": [
        "## Modélisation linéaire, test des différents algorithmes"
      ],
      "metadata": {
        "id": "uIwvcs_c3srH"
      }
    },
    {
      "cell_type": "code",
      "source": [
        "Y = data[to_predict_features]\n",
        "X = data.drop(to_predict_features, axis=1)"
      ],
      "metadata": {
        "id": "WbMIXWCCC8w0"
      },
      "execution_count": null,
      "outputs": []
    },
    {
      "cell_type": "code",
      "source": [
        "X.columns"
      ],
      "metadata": {
        "id": "Ugxa41E9GZrs",
        "colab": {
          "base_uri": "https://localhost:8080/"
        },
        "outputId": "a0222a6e-8132-45c0-a2b0-26b5047ae5e1"
      },
      "execution_count": null,
      "outputs": [
        {
          "output_type": "execute_result",
          "data": {
            "text/plain": [
              "Index(['PrimaryPropertyType', 'CouncilDistrictCode', 'Neighborhood',\n",
              "       'NumberofFloors', 'PropertyGFATotal', 'PropertyGFAParking',\n",
              "       'PropertyGFABuilding(s)', 'LargestPropertyUseType',\n",
              "       'LargestPropertyUseTypeGFA', 'YearBuilt_age', 'GFA_per_floor',\n",
              "       'Building_age'],\n",
              "      dtype='object')"
            ]
          },
          "metadata": {},
          "execution_count": 55
        }
      ]
    },
    {
      "cell_type": "code",
      "source": [
        "features_Quant = ['CouncilDistrictCode', 'NumberofFloors','PropertyGFATotal', 'PropertyGFAParking', 'PropertyGFABuilding(s)', 'LargestPropertyUseTypeGFA', 'GFA_per_floor','Building_age']\n",
        "features_Qual = ['PrimaryPropertyType', 'Neighborhood', 'LargestPropertyUseType', 'YearBuilt_age']"
      ],
      "metadata": {
        "id": "1q8kIK3dT_-C"
      },
      "execution_count": null,
      "outputs": []
    },
    {
      "cell_type": "markdown",
      "source": [
        "Standardisation des données"
      ],
      "metadata": {
        "id": "kpqOLJv-F6NG"
      }
    },
    {
      "cell_type": "code",
      "source": [
        "preprocessor = make_column_transformer((RobustScaler(),features_Quant),(OneHotEncoder(handle_unknown = 'ignore'),features_Qual))"
      ],
      "metadata": {
        "id": "pLRSqB7rF9pZ"
      },
      "execution_count": null,
      "outputs": []
    },
    {
      "cell_type": "markdown",
      "source": [
        "  ### Régression linéaire basic\n"
      ],
      "metadata": {
        "id": "hp1HqP7l7sbo"
      }
    },
    {
      "cell_type": "markdown",
      "source": [
        "Prédiction de la consommation :"
      ],
      "metadata": {
        "id": "q7bRKnHCN0Bc"
      }
    },
    {
      "cell_type": "code",
      "source": [
        "def run_model_and_performance_check_with_Quali(feature_to_predict, model):\n",
        "   # Sélection des données\n",
        "  if feature_to_predict == \"Consommation\":\n",
        "    X_train, X_test, y_train, y_test = train_test_split(X, Y['SiteEnergyUse(kBtu)'], test_size=0.25, random_state=7)\n",
        "  if feature_to_predict == \"EmissionGES\":\n",
        "    X_train, X_test, y_train, y_test = train_test_split(X, Y['TotalGHGEmissions'], test_size=0.25, random_state=7)\n",
        "\n",
        "  # Choix du model et entrainement\n",
        "  model_regr = make_pipeline(preprocessor,model)\n",
        "  model_regr.fit(X_train, y_train)\n",
        "\n",
        "  # Prédiction du modèle et archivage des résultats\n",
        "  y_pred = model_regr.predict(X_test)\n",
        " \n",
        "  # Création des dataframes résultats\n",
        "  results_regression = np.array([model_regr.score(X_train,y_train), model_regr.score(X_test,y_test), mean_absolute_error(y_test,y_pred), np.sqrt(mean_squared_error(y_test,y_pred)), median_absolute_error(y_test,y_pred)])\n",
        "  df_results = pad.DataFrame(index = [\"Score entrainement\", \"Score de prédiction\", \"MAE\", \"RMSE\", \"median absolute error\"], columns = [str(model)[:-2]])\n",
        "  df_results[str(model)[:-2]] = results_regression\n",
        "\n",
        "  # Ennoncé des résultats de performance du modèle\n",
        "  if feature_to_predict == \"Consommation\":\n",
        "    print(\"Prédiction de la consommation : \\n\")\n",
        "  if feature_to_predict == \"EmissionGES\":\n",
        "    print(\"Prédiction des Emission de GES : \\n\")\n",
        "\n",
        "  return df_results"
      ],
      "metadata": {
        "id": "v1ATmP-eEmHa"
      },
      "execution_count": null,
      "outputs": []
    },
    {
      "cell_type": "code",
      "source": [
        "run_model_and_performance_check_with_Quali(\"Consommation\", LinearRegression())"
      ],
      "metadata": {
        "id": "PKNyNzMfEnzn",
        "colab": {
          "base_uri": "https://localhost:8080/",
          "height": 242
        },
        "outputId": "e50f5183-654c-4e5e-d2f8-fb961886f0f0"
      },
      "execution_count": null,
      "outputs": [
        {
          "output_type": "stream",
          "name": "stdout",
          "text": [
            "Prédiction de la consommation : \n",
            "\n"
          ]
        },
        {
          "output_type": "execute_result",
          "data": {
            "text/html": [
              "\n",
              "  <div id=\"df-8ca6e52f-aecf-4880-bc12-b4ddbae299bf\">\n",
              "    <div class=\"colab-df-container\">\n",
              "      <div>\n",
              "<style scoped>\n",
              "    .dataframe tbody tr th:only-of-type {\n",
              "        vertical-align: middle;\n",
              "    }\n",
              "\n",
              "    .dataframe tbody tr th {\n",
              "        vertical-align: top;\n",
              "    }\n",
              "\n",
              "    .dataframe thead th {\n",
              "        text-align: right;\n",
              "    }\n",
              "</style>\n",
              "<table border=\"1\" class=\"dataframe\">\n",
              "  <thead>\n",
              "    <tr style=\"text-align: right;\">\n",
              "      <th></th>\n",
              "      <th>LinearRegression</th>\n",
              "    </tr>\n",
              "  </thead>\n",
              "  <tbody>\n",
              "    <tr>\n",
              "      <th>Score entrainement</th>\n",
              "      <td>7.156261e-01</td>\n",
              "    </tr>\n",
              "    <tr>\n",
              "      <th>Score de prédiction</th>\n",
              "      <td>7.134886e-01</td>\n",
              "    </tr>\n",
              "    <tr>\n",
              "      <th>MAE</th>\n",
              "      <td>1.423770e+06</td>\n",
              "    </tr>\n",
              "    <tr>\n",
              "      <th>RMSE</th>\n",
              "      <td>2.214592e+06</td>\n",
              "    </tr>\n",
              "    <tr>\n",
              "      <th>median absolute error</th>\n",
              "      <td>9.654726e+05</td>\n",
              "    </tr>\n",
              "  </tbody>\n",
              "</table>\n",
              "</div>\n",
              "      <button class=\"colab-df-convert\" onclick=\"convertToInteractive('df-8ca6e52f-aecf-4880-bc12-b4ddbae299bf')\"\n",
              "              title=\"Convert this dataframe to an interactive table.\"\n",
              "              style=\"display:none;\">\n",
              "        \n",
              "  <svg xmlns=\"http://www.w3.org/2000/svg\" height=\"24px\"viewBox=\"0 0 24 24\"\n",
              "       width=\"24px\">\n",
              "    <path d=\"M0 0h24v24H0V0z\" fill=\"none\"/>\n",
              "    <path d=\"M18.56 5.44l.94 2.06.94-2.06 2.06-.94-2.06-.94-.94-2.06-.94 2.06-2.06.94zm-11 1L8.5 8.5l.94-2.06 2.06-.94-2.06-.94L8.5 2.5l-.94 2.06-2.06.94zm10 10l.94 2.06.94-2.06 2.06-.94-2.06-.94-.94-2.06-.94 2.06-2.06.94z\"/><path d=\"M17.41 7.96l-1.37-1.37c-.4-.4-.92-.59-1.43-.59-.52 0-1.04.2-1.43.59L10.3 9.45l-7.72 7.72c-.78.78-.78 2.05 0 2.83L4 21.41c.39.39.9.59 1.41.59.51 0 1.02-.2 1.41-.59l7.78-7.78 2.81-2.81c.8-.78.8-2.07 0-2.86zM5.41 20L4 18.59l7.72-7.72 1.47 1.35L5.41 20z\"/>\n",
              "  </svg>\n",
              "      </button>\n",
              "      \n",
              "  <style>\n",
              "    .colab-df-container {\n",
              "      display:flex;\n",
              "      flex-wrap:wrap;\n",
              "      gap: 12px;\n",
              "    }\n",
              "\n",
              "    .colab-df-convert {\n",
              "      background-color: #E8F0FE;\n",
              "      border: none;\n",
              "      border-radius: 50%;\n",
              "      cursor: pointer;\n",
              "      display: none;\n",
              "      fill: #1967D2;\n",
              "      height: 32px;\n",
              "      padding: 0 0 0 0;\n",
              "      width: 32px;\n",
              "    }\n",
              "\n",
              "    .colab-df-convert:hover {\n",
              "      background-color: #E2EBFA;\n",
              "      box-shadow: 0px 1px 2px rgba(60, 64, 67, 0.3), 0px 1px 3px 1px rgba(60, 64, 67, 0.15);\n",
              "      fill: #174EA6;\n",
              "    }\n",
              "\n",
              "    [theme=dark] .colab-df-convert {\n",
              "      background-color: #3B4455;\n",
              "      fill: #D2E3FC;\n",
              "    }\n",
              "\n",
              "    [theme=dark] .colab-df-convert:hover {\n",
              "      background-color: #434B5C;\n",
              "      box-shadow: 0px 1px 3px 1px rgba(0, 0, 0, 0.15);\n",
              "      filter: drop-shadow(0px 1px 2px rgba(0, 0, 0, 0.3));\n",
              "      fill: #FFFFFF;\n",
              "    }\n",
              "  </style>\n",
              "\n",
              "      <script>\n",
              "        const buttonEl =\n",
              "          document.querySelector('#df-8ca6e52f-aecf-4880-bc12-b4ddbae299bf button.colab-df-convert');\n",
              "        buttonEl.style.display =\n",
              "          google.colab.kernel.accessAllowed ? 'block' : 'none';\n",
              "\n",
              "        async function convertToInteractive(key) {\n",
              "          const element = document.querySelector('#df-8ca6e52f-aecf-4880-bc12-b4ddbae299bf');\n",
              "          const dataTable =\n",
              "            await google.colab.kernel.invokeFunction('convertToInteractive',\n",
              "                                                     [key], {});\n",
              "          if (!dataTable) return;\n",
              "\n",
              "          const docLinkHtml = 'Like what you see? Visit the ' +\n",
              "            '<a target=\"_blank\" href=https://colab.research.google.com/notebooks/data_table.ipynb>data table notebook</a>'\n",
              "            + ' to learn more about interactive tables.';\n",
              "          element.innerHTML = '';\n",
              "          dataTable['output_type'] = 'display_data';\n",
              "          await google.colab.output.renderOutput(dataTable, element);\n",
              "          const docLink = document.createElement('div');\n",
              "          docLink.innerHTML = docLinkHtml;\n",
              "          element.appendChild(docLink);\n",
              "        }\n",
              "      </script>\n",
              "    </div>\n",
              "  </div>\n",
              "  "
            ],
            "text/plain": [
              "                       LinearRegression\n",
              "Score entrainement         7.156261e-01\n",
              "Score de prédiction        7.134886e-01\n",
              "MAE                        1.423770e+06\n",
              "RMSE                       2.214592e+06\n",
              "median absolute error      9.654726e+05"
            ]
          },
          "metadata": {},
          "execution_count": 59
        }
      ]
    },
    {
      "cell_type": "markdown",
      "source": [
        "Prédiction de l'émission de GES :"
      ],
      "metadata": {
        "id": "cW8AdR8ON3Ew"
      }
    },
    {
      "cell_type": "code",
      "source": [
        "run_model_and_performance_check_with_Quali(\"EmissionGES\", LinearRegression())"
      ],
      "metadata": {
        "id": "Xf1g1Aw3NN0c",
        "colab": {
          "base_uri": "https://localhost:8080/",
          "height": 242
        },
        "outputId": "0ceb3126-90d3-4b44-d9d2-ea5449b1bf18"
      },
      "execution_count": null,
      "outputs": [
        {
          "output_type": "stream",
          "name": "stdout",
          "text": [
            "Prédiction des Emission de GES : \n",
            "\n"
          ]
        },
        {
          "output_type": "execute_result",
          "data": {
            "text/html": [
              "\n",
              "  <div id=\"df-51e4464a-f8d0-4e19-b86f-ee4139ac4511\">\n",
              "    <div class=\"colab-df-container\">\n",
              "      <div>\n",
              "<style scoped>\n",
              "    .dataframe tbody tr th:only-of-type {\n",
              "        vertical-align: middle;\n",
              "    }\n",
              "\n",
              "    .dataframe tbody tr th {\n",
              "        vertical-align: top;\n",
              "    }\n",
              "\n",
              "    .dataframe thead th {\n",
              "        text-align: right;\n",
              "    }\n",
              "</style>\n",
              "<table border=\"1\" class=\"dataframe\">\n",
              "  <thead>\n",
              "    <tr style=\"text-align: right;\">\n",
              "      <th></th>\n",
              "      <th>LinearRegression</th>\n",
              "    </tr>\n",
              "  </thead>\n",
              "  <tbody>\n",
              "    <tr>\n",
              "      <th>Score entrainement</th>\n",
              "      <td>0.516256</td>\n",
              "    </tr>\n",
              "    <tr>\n",
              "      <th>Score de prédiction</th>\n",
              "      <td>0.434288</td>\n",
              "    </tr>\n",
              "    <tr>\n",
              "      <th>MAE</th>\n",
              "      <td>43.267042</td>\n",
              "    </tr>\n",
              "    <tr>\n",
              "      <th>RMSE</th>\n",
              "      <td>69.556452</td>\n",
              "    </tr>\n",
              "    <tr>\n",
              "      <th>median absolute error</th>\n",
              "      <td>27.457283</td>\n",
              "    </tr>\n",
              "  </tbody>\n",
              "</table>\n",
              "</div>\n",
              "      <button class=\"colab-df-convert\" onclick=\"convertToInteractive('df-51e4464a-f8d0-4e19-b86f-ee4139ac4511')\"\n",
              "              title=\"Convert this dataframe to an interactive table.\"\n",
              "              style=\"display:none;\">\n",
              "        \n",
              "  <svg xmlns=\"http://www.w3.org/2000/svg\" height=\"24px\"viewBox=\"0 0 24 24\"\n",
              "       width=\"24px\">\n",
              "    <path d=\"M0 0h24v24H0V0z\" fill=\"none\"/>\n",
              "    <path d=\"M18.56 5.44l.94 2.06.94-2.06 2.06-.94-2.06-.94-.94-2.06-.94 2.06-2.06.94zm-11 1L8.5 8.5l.94-2.06 2.06-.94-2.06-.94L8.5 2.5l-.94 2.06-2.06.94zm10 10l.94 2.06.94-2.06 2.06-.94-2.06-.94-.94-2.06-.94 2.06-2.06.94z\"/><path d=\"M17.41 7.96l-1.37-1.37c-.4-.4-.92-.59-1.43-.59-.52 0-1.04.2-1.43.59L10.3 9.45l-7.72 7.72c-.78.78-.78 2.05 0 2.83L4 21.41c.39.39.9.59 1.41.59.51 0 1.02-.2 1.41-.59l7.78-7.78 2.81-2.81c.8-.78.8-2.07 0-2.86zM5.41 20L4 18.59l7.72-7.72 1.47 1.35L5.41 20z\"/>\n",
              "  </svg>\n",
              "      </button>\n",
              "      \n",
              "  <style>\n",
              "    .colab-df-container {\n",
              "      display:flex;\n",
              "      flex-wrap:wrap;\n",
              "      gap: 12px;\n",
              "    }\n",
              "\n",
              "    .colab-df-convert {\n",
              "      background-color: #E8F0FE;\n",
              "      border: none;\n",
              "      border-radius: 50%;\n",
              "      cursor: pointer;\n",
              "      display: none;\n",
              "      fill: #1967D2;\n",
              "      height: 32px;\n",
              "      padding: 0 0 0 0;\n",
              "      width: 32px;\n",
              "    }\n",
              "\n",
              "    .colab-df-convert:hover {\n",
              "      background-color: #E2EBFA;\n",
              "      box-shadow: 0px 1px 2px rgba(60, 64, 67, 0.3), 0px 1px 3px 1px rgba(60, 64, 67, 0.15);\n",
              "      fill: #174EA6;\n",
              "    }\n",
              "\n",
              "    [theme=dark] .colab-df-convert {\n",
              "      background-color: #3B4455;\n",
              "      fill: #D2E3FC;\n",
              "    }\n",
              "\n",
              "    [theme=dark] .colab-df-convert:hover {\n",
              "      background-color: #434B5C;\n",
              "      box-shadow: 0px 1px 3px 1px rgba(0, 0, 0, 0.15);\n",
              "      filter: drop-shadow(0px 1px 2px rgba(0, 0, 0, 0.3));\n",
              "      fill: #FFFFFF;\n",
              "    }\n",
              "  </style>\n",
              "\n",
              "      <script>\n",
              "        const buttonEl =\n",
              "          document.querySelector('#df-51e4464a-f8d0-4e19-b86f-ee4139ac4511 button.colab-df-convert');\n",
              "        buttonEl.style.display =\n",
              "          google.colab.kernel.accessAllowed ? 'block' : 'none';\n",
              "\n",
              "        async function convertToInteractive(key) {\n",
              "          const element = document.querySelector('#df-51e4464a-f8d0-4e19-b86f-ee4139ac4511');\n",
              "          const dataTable =\n",
              "            await google.colab.kernel.invokeFunction('convertToInteractive',\n",
              "                                                     [key], {});\n",
              "          if (!dataTable) return;\n",
              "\n",
              "          const docLinkHtml = 'Like what you see? Visit the ' +\n",
              "            '<a target=\"_blank\" href=https://colab.research.google.com/notebooks/data_table.ipynb>data table notebook</a>'\n",
              "            + ' to learn more about interactive tables.';\n",
              "          element.innerHTML = '';\n",
              "          dataTable['output_type'] = 'display_data';\n",
              "          await google.colab.output.renderOutput(dataTable, element);\n",
              "          const docLink = document.createElement('div');\n",
              "          docLink.innerHTML = docLinkHtml;\n",
              "          element.appendChild(docLink);\n",
              "        }\n",
              "      </script>\n",
              "    </div>\n",
              "  </div>\n",
              "  "
            ],
            "text/plain": [
              "                       LinearRegression\n",
              "Score entrainement             0.516256\n",
              "Score de prédiction            0.434288\n",
              "MAE                           43.267042\n",
              "RMSE                          69.556452\n",
              "median absolute error         27.457283"
            ]
          },
          "metadata": {},
          "execution_count": 60
        }
      ]
    },
    {
      "cell_type": "markdown",
      "source": [
        "Prédiction de la consommation ET de l'émission de GES:"
      ],
      "metadata": {
        "id": "eZtk_QEEN5MC"
      }
    },
    {
      "cell_type": "code",
      "source": [
        "X_train, X_test, y_train, y_test = train_test_split(X, Y, test_size=0.25, random_state = 7)\n",
        "\n",
        "model_regr = make_pipeline(preprocessor,LinearRegression())\n",
        "model_regr.fit(X_train, y_train)\n",
        "y_pred = model_regr.predict(X_test)\n",
        "\n",
        "print(\"Efficacité du modèle de régression linéaire basic : \\n\")\n",
        "print(\"Score entrainement = \",model_regr.score(X_train,y_train))\n",
        "print(\"\\nErreur de prédiction : \")\n",
        "print(\" MAE = \",mean_absolute_error(y_test,y_pred))\n",
        "print(\" RMSE = \",np.sqrt(mean_squared_error(y_test,y_pred)))\n",
        "print(\" median abs err = \",median_absolute_error(y_test,y_pred))"
      ],
      "metadata": {
        "id": "x6-kv-oVCZWM",
        "colab": {
          "base_uri": "https://localhost:8080/"
        },
        "outputId": "918c13f5-042f-4c9c-befc-09ef74cdc873"
      },
      "execution_count": null,
      "outputs": [
        {
          "output_type": "stream",
          "name": "stdout",
          "text": [
            "Efficacité du modèle de régression linéaire basic : \n",
            "\n",
            "Score entrainement =  0.6159407963317719\n",
            "\n",
            "Erreur de prédiction : \n",
            " MAE =  711906.7721064793\n",
            " RMSE =  1565953.2612351342\n",
            " median abs err =  482750.0166488208\n"
          ]
        }
      ]
    },
    {
      "cell_type": "markdown",
      "source": [
        "  ### Régression Random Forest"
      ],
      "metadata": {
        "id": "x2YPSjECURIJ"
      }
    },
    {
      "cell_type": "code",
      "source": [
        "run_model_and_performance_check_with_Quali(\"Consommation\", RandomForestRegressor())"
      ],
      "metadata": {
        "id": "05KgD-URGmWI",
        "colab": {
          "base_uri": "https://localhost:8080/",
          "height": 242
        },
        "outputId": "2bb33ec0-a1c7-4b8c-93c0-6945e433e01f"
      },
      "execution_count": null,
      "outputs": [
        {
          "output_type": "stream",
          "name": "stdout",
          "text": [
            "Prédiction de la consommation : \n",
            "\n"
          ]
        },
        {
          "output_type": "execute_result",
          "data": {
            "text/html": [
              "\n",
              "  <div id=\"df-93324828-0c4c-4389-8515-f5798e381aa3\">\n",
              "    <div class=\"colab-df-container\">\n",
              "      <div>\n",
              "<style scoped>\n",
              "    .dataframe tbody tr th:only-of-type {\n",
              "        vertical-align: middle;\n",
              "    }\n",
              "\n",
              "    .dataframe tbody tr th {\n",
              "        vertical-align: top;\n",
              "    }\n",
              "\n",
              "    .dataframe thead th {\n",
              "        text-align: right;\n",
              "    }\n",
              "</style>\n",
              "<table border=\"1\" class=\"dataframe\">\n",
              "  <thead>\n",
              "    <tr style=\"text-align: right;\">\n",
              "      <th></th>\n",
              "      <th>RandomForestRegressor</th>\n",
              "    </tr>\n",
              "  </thead>\n",
              "  <tbody>\n",
              "    <tr>\n",
              "      <th>Score entrainement</th>\n",
              "      <td>9.705936e-01</td>\n",
              "    </tr>\n",
              "    <tr>\n",
              "      <th>Score de prédiction</th>\n",
              "      <td>8.674222e-01</td>\n",
              "    </tr>\n",
              "    <tr>\n",
              "      <th>MAE</th>\n",
              "      <td>8.137752e+05</td>\n",
              "    </tr>\n",
              "    <tr>\n",
              "      <th>RMSE</th>\n",
              "      <td>1.506462e+06</td>\n",
              "    </tr>\n",
              "    <tr>\n",
              "      <th>median absolute error</th>\n",
              "      <td>3.869253e+05</td>\n",
              "    </tr>\n",
              "  </tbody>\n",
              "</table>\n",
              "</div>\n",
              "      <button class=\"colab-df-convert\" onclick=\"convertToInteractive('df-93324828-0c4c-4389-8515-f5798e381aa3')\"\n",
              "              title=\"Convert this dataframe to an interactive table.\"\n",
              "              style=\"display:none;\">\n",
              "        \n",
              "  <svg xmlns=\"http://www.w3.org/2000/svg\" height=\"24px\"viewBox=\"0 0 24 24\"\n",
              "       width=\"24px\">\n",
              "    <path d=\"M0 0h24v24H0V0z\" fill=\"none\"/>\n",
              "    <path d=\"M18.56 5.44l.94 2.06.94-2.06 2.06-.94-2.06-.94-.94-2.06-.94 2.06-2.06.94zm-11 1L8.5 8.5l.94-2.06 2.06-.94-2.06-.94L8.5 2.5l-.94 2.06-2.06.94zm10 10l.94 2.06.94-2.06 2.06-.94-2.06-.94-.94-2.06-.94 2.06-2.06.94z\"/><path d=\"M17.41 7.96l-1.37-1.37c-.4-.4-.92-.59-1.43-.59-.52 0-1.04.2-1.43.59L10.3 9.45l-7.72 7.72c-.78.78-.78 2.05 0 2.83L4 21.41c.39.39.9.59 1.41.59.51 0 1.02-.2 1.41-.59l7.78-7.78 2.81-2.81c.8-.78.8-2.07 0-2.86zM5.41 20L4 18.59l7.72-7.72 1.47 1.35L5.41 20z\"/>\n",
              "  </svg>\n",
              "      </button>\n",
              "      \n",
              "  <style>\n",
              "    .colab-df-container {\n",
              "      display:flex;\n",
              "      flex-wrap:wrap;\n",
              "      gap: 12px;\n",
              "    }\n",
              "\n",
              "    .colab-df-convert {\n",
              "      background-color: #E8F0FE;\n",
              "      border: none;\n",
              "      border-radius: 50%;\n",
              "      cursor: pointer;\n",
              "      display: none;\n",
              "      fill: #1967D2;\n",
              "      height: 32px;\n",
              "      padding: 0 0 0 0;\n",
              "      width: 32px;\n",
              "    }\n",
              "\n",
              "    .colab-df-convert:hover {\n",
              "      background-color: #E2EBFA;\n",
              "      box-shadow: 0px 1px 2px rgba(60, 64, 67, 0.3), 0px 1px 3px 1px rgba(60, 64, 67, 0.15);\n",
              "      fill: #174EA6;\n",
              "    }\n",
              "\n",
              "    [theme=dark] .colab-df-convert {\n",
              "      background-color: #3B4455;\n",
              "      fill: #D2E3FC;\n",
              "    }\n",
              "\n",
              "    [theme=dark] .colab-df-convert:hover {\n",
              "      background-color: #434B5C;\n",
              "      box-shadow: 0px 1px 3px 1px rgba(0, 0, 0, 0.15);\n",
              "      filter: drop-shadow(0px 1px 2px rgba(0, 0, 0, 0.3));\n",
              "      fill: #FFFFFF;\n",
              "    }\n",
              "  </style>\n",
              "\n",
              "      <script>\n",
              "        const buttonEl =\n",
              "          document.querySelector('#df-93324828-0c4c-4389-8515-f5798e381aa3 button.colab-df-convert');\n",
              "        buttonEl.style.display =\n",
              "          google.colab.kernel.accessAllowed ? 'block' : 'none';\n",
              "\n",
              "        async function convertToInteractive(key) {\n",
              "          const element = document.querySelector('#df-93324828-0c4c-4389-8515-f5798e381aa3');\n",
              "          const dataTable =\n",
              "            await google.colab.kernel.invokeFunction('convertToInteractive',\n",
              "                                                     [key], {});\n",
              "          if (!dataTable) return;\n",
              "\n",
              "          const docLinkHtml = 'Like what you see? Visit the ' +\n",
              "            '<a target=\"_blank\" href=https://colab.research.google.com/notebooks/data_table.ipynb>data table notebook</a>'\n",
              "            + ' to learn more about interactive tables.';\n",
              "          element.innerHTML = '';\n",
              "          dataTable['output_type'] = 'display_data';\n",
              "          await google.colab.output.renderOutput(dataTable, element);\n",
              "          const docLink = document.createElement('div');\n",
              "          docLink.innerHTML = docLinkHtml;\n",
              "          element.appendChild(docLink);\n",
              "        }\n",
              "      </script>\n",
              "    </div>\n",
              "  </div>\n",
              "  "
            ],
            "text/plain": [
              "                       RandomForestRegressor\n",
              "Score entrainement              9.705936e-01\n",
              "Score de prédiction             8.674222e-01\n",
              "MAE                             8.137752e+05\n",
              "RMSE                            1.506462e+06\n",
              "median absolute error           3.869253e+05"
            ]
          },
          "metadata": {},
          "execution_count": 62
        }
      ]
    },
    {
      "cell_type": "code",
      "source": [
        "run_model_and_performance_check_with_Quali(\"EmissionGES\", RandomForestRegressor())"
      ],
      "metadata": {
        "id": "QBWRVE6xGlW-",
        "colab": {
          "base_uri": "https://localhost:8080/",
          "height": 242
        },
        "outputId": "54ffd9dd-a1e2-418a-e9e3-52aeca24503c"
      },
      "execution_count": null,
      "outputs": [
        {
          "output_type": "stream",
          "name": "stdout",
          "text": [
            "Prédiction des Emission de GES : \n",
            "\n"
          ]
        },
        {
          "output_type": "execute_result",
          "data": {
            "text/html": [
              "\n",
              "  <div id=\"df-08273bef-5037-482c-8434-df25ae380024\">\n",
              "    <div class=\"colab-df-container\">\n",
              "      <div>\n",
              "<style scoped>\n",
              "    .dataframe tbody tr th:only-of-type {\n",
              "        vertical-align: middle;\n",
              "    }\n",
              "\n",
              "    .dataframe tbody tr th {\n",
              "        vertical-align: top;\n",
              "    }\n",
              "\n",
              "    .dataframe thead th {\n",
              "        text-align: right;\n",
              "    }\n",
              "</style>\n",
              "<table border=\"1\" class=\"dataframe\">\n",
              "  <thead>\n",
              "    <tr style=\"text-align: right;\">\n",
              "      <th></th>\n",
              "      <th>RandomForestRegressor</th>\n",
              "    </tr>\n",
              "  </thead>\n",
              "  <tbody>\n",
              "    <tr>\n",
              "      <th>Score entrainement</th>\n",
              "      <td>0.935863</td>\n",
              "    </tr>\n",
              "    <tr>\n",
              "      <th>Score de prédiction</th>\n",
              "      <td>0.734064</td>\n",
              "    </tr>\n",
              "    <tr>\n",
              "      <th>MAE</th>\n",
              "      <td>25.037041</td>\n",
              "    </tr>\n",
              "    <tr>\n",
              "      <th>RMSE</th>\n",
              "      <td>47.690075</td>\n",
              "    </tr>\n",
              "    <tr>\n",
              "      <th>median absolute error</th>\n",
              "      <td>11.772517</td>\n",
              "    </tr>\n",
              "  </tbody>\n",
              "</table>\n",
              "</div>\n",
              "      <button class=\"colab-df-convert\" onclick=\"convertToInteractive('df-08273bef-5037-482c-8434-df25ae380024')\"\n",
              "              title=\"Convert this dataframe to an interactive table.\"\n",
              "              style=\"display:none;\">\n",
              "        \n",
              "  <svg xmlns=\"http://www.w3.org/2000/svg\" height=\"24px\"viewBox=\"0 0 24 24\"\n",
              "       width=\"24px\">\n",
              "    <path d=\"M0 0h24v24H0V0z\" fill=\"none\"/>\n",
              "    <path d=\"M18.56 5.44l.94 2.06.94-2.06 2.06-.94-2.06-.94-.94-2.06-.94 2.06-2.06.94zm-11 1L8.5 8.5l.94-2.06 2.06-.94-2.06-.94L8.5 2.5l-.94 2.06-2.06.94zm10 10l.94 2.06.94-2.06 2.06-.94-2.06-.94-.94-2.06-.94 2.06-2.06.94z\"/><path d=\"M17.41 7.96l-1.37-1.37c-.4-.4-.92-.59-1.43-.59-.52 0-1.04.2-1.43.59L10.3 9.45l-7.72 7.72c-.78.78-.78 2.05 0 2.83L4 21.41c.39.39.9.59 1.41.59.51 0 1.02-.2 1.41-.59l7.78-7.78 2.81-2.81c.8-.78.8-2.07 0-2.86zM5.41 20L4 18.59l7.72-7.72 1.47 1.35L5.41 20z\"/>\n",
              "  </svg>\n",
              "      </button>\n",
              "      \n",
              "  <style>\n",
              "    .colab-df-container {\n",
              "      display:flex;\n",
              "      flex-wrap:wrap;\n",
              "      gap: 12px;\n",
              "    }\n",
              "\n",
              "    .colab-df-convert {\n",
              "      background-color: #E8F0FE;\n",
              "      border: none;\n",
              "      border-radius: 50%;\n",
              "      cursor: pointer;\n",
              "      display: none;\n",
              "      fill: #1967D2;\n",
              "      height: 32px;\n",
              "      padding: 0 0 0 0;\n",
              "      width: 32px;\n",
              "    }\n",
              "\n",
              "    .colab-df-convert:hover {\n",
              "      background-color: #E2EBFA;\n",
              "      box-shadow: 0px 1px 2px rgba(60, 64, 67, 0.3), 0px 1px 3px 1px rgba(60, 64, 67, 0.15);\n",
              "      fill: #174EA6;\n",
              "    }\n",
              "\n",
              "    [theme=dark] .colab-df-convert {\n",
              "      background-color: #3B4455;\n",
              "      fill: #D2E3FC;\n",
              "    }\n",
              "\n",
              "    [theme=dark] .colab-df-convert:hover {\n",
              "      background-color: #434B5C;\n",
              "      box-shadow: 0px 1px 3px 1px rgba(0, 0, 0, 0.15);\n",
              "      filter: drop-shadow(0px 1px 2px rgba(0, 0, 0, 0.3));\n",
              "      fill: #FFFFFF;\n",
              "    }\n",
              "  </style>\n",
              "\n",
              "      <script>\n",
              "        const buttonEl =\n",
              "          document.querySelector('#df-08273bef-5037-482c-8434-df25ae380024 button.colab-df-convert');\n",
              "        buttonEl.style.display =\n",
              "          google.colab.kernel.accessAllowed ? 'block' : 'none';\n",
              "\n",
              "        async function convertToInteractive(key) {\n",
              "          const element = document.querySelector('#df-08273bef-5037-482c-8434-df25ae380024');\n",
              "          const dataTable =\n",
              "            await google.colab.kernel.invokeFunction('convertToInteractive',\n",
              "                                                     [key], {});\n",
              "          if (!dataTable) return;\n",
              "\n",
              "          const docLinkHtml = 'Like what you see? Visit the ' +\n",
              "            '<a target=\"_blank\" href=https://colab.research.google.com/notebooks/data_table.ipynb>data table notebook</a>'\n",
              "            + ' to learn more about interactive tables.';\n",
              "          element.innerHTML = '';\n",
              "          dataTable['output_type'] = 'display_data';\n",
              "          await google.colab.output.renderOutput(dataTable, element);\n",
              "          const docLink = document.createElement('div');\n",
              "          docLink.innerHTML = docLinkHtml;\n",
              "          element.appendChild(docLink);\n",
              "        }\n",
              "      </script>\n",
              "    </div>\n",
              "  </div>\n",
              "  "
            ],
            "text/plain": [
              "                       RandomForestRegressor\n",
              "Score entrainement                  0.935863\n",
              "Score de prédiction                 0.734064\n",
              "MAE                                25.037041\n",
              "RMSE                               47.690075\n",
              "median absolute error              11.772517"
            ]
          },
          "metadata": {},
          "execution_count": 63
        }
      ]
    },
    {
      "cell_type": "markdown",
      "source": [
        "  ### Test d'autres modèles de régression linéaire et archivage des résultats dans une dataframe"
      ],
      "metadata": {
        "id": "Qwon4XhdWw0O"
      }
    },
    {
      "cell_type": "code",
      "source": [
        "X_train, X_test, y_train, y_test = train_test_split(X, Y['SiteEnergyUse(kBtu)'], test_size=0.25)\n",
        "df_results_Consommation = pad.DataFrame(index = [\"Score entrainement\", \"Score de prédiction\", \"MAE\", \"RMSE\", \"median absolute error\"], columns = [\"LinearRegression\"])\n",
        "for i in range(len(List_of_models)):\n",
        "  model_regr = make_pipeline(preprocessor,List_of_models[i])\n",
        "  model_regr.fit(X_train, y_train)\n",
        "  y_pred = model_regr.predict(X_test)\n",
        "  results_linear_regression = np.array([model_regr.score(X_train,y_train), model_regr.score(X_test,y_test), mean_absolute_error(y_test,y_pred), np.sqrt(mean_squared_error(y_test,y_pred)), median_absolute_error(y_test,y_pred)])\n",
        "  df_results_Consommation[List_of_models_for_graph[i]] = results_linear_regression"
      ],
      "metadata": {
        "id": "Y4tlmeHnWCyp",
        "colab": {
          "base_uri": "https://localhost:8080/"
        },
        "outputId": "c44e329d-c36d-4361-979a-6c3d1cd15711"
      },
      "execution_count": null,
      "outputs": [
        {
          "output_type": "stream",
          "name": "stderr",
          "text": [
            "/usr/local/lib/python3.7/dist-packages/sklearn/linear_model/_coordinate_descent.py:622: ConvergenceWarning: Objective did not converge. You might want to increase the number of iterations. Duality gap: 2427281074497719.5, tolerance: 1819331459054.6633\n",
            "  positive,\n",
            "/usr/local/lib/python3.7/dist-packages/sklearn/linear_model/_coordinate_descent.py:622: ConvergenceWarning: Objective did not converge. You might want to increase the number of iterations. Duality gap: 3489804710782894.0, tolerance: 1819331459054.6633\n",
            "  positive,\n",
            "/usr/local/lib/python3.7/dist-packages/sklearn/linear_model/_glm/glm.py:323: ConvergenceWarning: lbfgs failed to converge (status=1):\n",
            "STOP: TOTAL NO. of ITERATIONS REACHED LIMIT.\n",
            "\n",
            "Increase the number of iterations (max_iter) or scale the data as shown in:\n",
            "    https://scikit-learn.org/stable/modules/preprocessing.html\n",
            "  self.n_iter_ = _check_optimize_result(\"lbfgs\", opt_res)\n",
            "/usr/local/lib/python3.7/dist-packages/sklearn/linear_model/_huber.py:332: ConvergenceWarning: lbfgs failed to converge (status=1):\n",
            "STOP: TOTAL NO. of ITERATIONS REACHED LIMIT.\n",
            "\n",
            "Increase the number of iterations (max_iter) or scale the data as shown in:\n",
            "    https://scikit-learn.org/stable/modules/preprocessing.html\n",
            "  self.n_iter_ = _check_optimize_result(\"lbfgs\", opt_res, self.max_iter)\n"
          ]
        },
        {
          "output_type": "stream",
          "name": "stdout",
          "text": [
            "[07:46:50] WARNING: /workspace/src/objective/regression_obj.cu:152: reg:linear is now deprecated in favor of reg:squarederror.\n"
          ]
        }
      ]
    },
    {
      "cell_type": "code",
      "source": [
        "df_results_Consommation"
      ],
      "metadata": {
        "id": "w-Ase682WYko",
        "colab": {
          "base_uri": "https://localhost:8080/",
          "height": 206
        },
        "outputId": "5ec2339d-b6f4-4136-deb5-1c99c8b87f8b"
      },
      "execution_count": null,
      "outputs": [
        {
          "output_type": "execute_result",
          "data": {
            "text/html": [
              "\n",
              "  <div id=\"df-3f4bbb0c-bdd5-4878-86c0-b10df66a99aa\">\n",
              "    <div class=\"colab-df-container\">\n",
              "      <div>\n",
              "<style scoped>\n",
              "    .dataframe tbody tr th:only-of-type {\n",
              "        vertical-align: middle;\n",
              "    }\n",
              "\n",
              "    .dataframe tbody tr th {\n",
              "        vertical-align: top;\n",
              "    }\n",
              "\n",
              "    .dataframe thead th {\n",
              "        text-align: right;\n",
              "    }\n",
              "</style>\n",
              "<table border=\"1\" class=\"dataframe\">\n",
              "  <thead>\n",
              "    <tr style=\"text-align: right;\">\n",
              "      <th></th>\n",
              "      <th>LinearRegression</th>\n",
              "      <th>Lasso</th>\n",
              "      <th>Ridge</th>\n",
              "      <th>ElasticNet</th>\n",
              "      <th>TweedieRegressor</th>\n",
              "      <th>HuberRegressor</th>\n",
              "      <th>SVR</th>\n",
              "      <th>XGBRegressor</th>\n",
              "      <th>RandomForestRegressor</th>\n",
              "    </tr>\n",
              "  </thead>\n",
              "  <tbody>\n",
              "    <tr>\n",
              "      <th>Score entrainement</th>\n",
              "      <td>7.330777e-01</td>\n",
              "      <td>7.330897e-01</td>\n",
              "      <td>1.406238e-01</td>\n",
              "      <td>6.717015e-01</td>\n",
              "      <td>4.210859e-01</td>\n",
              "      <td>1.831979e-01</td>\n",
              "      <td>-1.413777e-01</td>\n",
              "      <td>8.914171e-01</td>\n",
              "      <td>9.893873e-01</td>\n",
              "    </tr>\n",
              "    <tr>\n",
              "      <th>Score de prédiction</th>\n",
              "      <td>6.701082e-01</td>\n",
              "      <td>6.702725e-01</td>\n",
              "      <td>1.375812e-01</td>\n",
              "      <td>6.363152e-01</td>\n",
              "      <td>3.626013e-01</td>\n",
              "      <td>1.665540e-01</td>\n",
              "      <td>-1.624729e-01</td>\n",
              "      <td>7.794377e-01</td>\n",
              "      <td>8.435578e-01</td>\n",
              "    </tr>\n",
              "    <tr>\n",
              "      <th>MAE</th>\n",
              "      <td>1.557228e+06</td>\n",
              "      <td>1.555546e+06</td>\n",
              "      <td>2.570783e+06</td>\n",
              "      <td>1.536821e+06</td>\n",
              "      <td>2.522153e+06</td>\n",
              "      <td>2.195154e+06</td>\n",
              "      <td>2.650198e+06</td>\n",
              "      <td>1.135837e+06</td>\n",
              "      <td>8.099781e+05</td>\n",
              "    </tr>\n",
              "    <tr>\n",
              "      <th>RMSE</th>\n",
              "      <td>2.475801e+06</td>\n",
              "      <td>2.475184e+06</td>\n",
              "      <td>4.003031e+06</td>\n",
              "      <td>2.599516e+06</td>\n",
              "      <td>3.441402e+06</td>\n",
              "      <td>3.935217e+06</td>\n",
              "      <td>4.647520e+06</td>\n",
              "      <td>2.024396e+06</td>\n",
              "      <td>1.704931e+06</td>\n",
              "    </tr>\n",
              "    <tr>\n",
              "      <th>median absolute error</th>\n",
              "      <td>1.032197e+06</td>\n",
              "      <td>1.032617e+06</td>\n",
              "      <td>1.902492e+06</td>\n",
              "      <td>7.748467e+05</td>\n",
              "      <td>1.970968e+06</td>\n",
              "      <td>1.141536e+06</td>\n",
              "      <td>1.242016e+06</td>\n",
              "      <td>6.418165e+05</td>\n",
              "      <td>3.853562e+05</td>\n",
              "    </tr>\n",
              "  </tbody>\n",
              "</table>\n",
              "</div>\n",
              "      <button class=\"colab-df-convert\" onclick=\"convertToInteractive('df-3f4bbb0c-bdd5-4878-86c0-b10df66a99aa')\"\n",
              "              title=\"Convert this dataframe to an interactive table.\"\n",
              "              style=\"display:none;\">\n",
              "        \n",
              "  <svg xmlns=\"http://www.w3.org/2000/svg\" height=\"24px\"viewBox=\"0 0 24 24\"\n",
              "       width=\"24px\">\n",
              "    <path d=\"M0 0h24v24H0V0z\" fill=\"none\"/>\n",
              "    <path d=\"M18.56 5.44l.94 2.06.94-2.06 2.06-.94-2.06-.94-.94-2.06-.94 2.06-2.06.94zm-11 1L8.5 8.5l.94-2.06 2.06-.94-2.06-.94L8.5 2.5l-.94 2.06-2.06.94zm10 10l.94 2.06.94-2.06 2.06-.94-2.06-.94-.94-2.06-.94 2.06-2.06.94z\"/><path d=\"M17.41 7.96l-1.37-1.37c-.4-.4-.92-.59-1.43-.59-.52 0-1.04.2-1.43.59L10.3 9.45l-7.72 7.72c-.78.78-.78 2.05 0 2.83L4 21.41c.39.39.9.59 1.41.59.51 0 1.02-.2 1.41-.59l7.78-7.78 2.81-2.81c.8-.78.8-2.07 0-2.86zM5.41 20L4 18.59l7.72-7.72 1.47 1.35L5.41 20z\"/>\n",
              "  </svg>\n",
              "      </button>\n",
              "      \n",
              "  <style>\n",
              "    .colab-df-container {\n",
              "      display:flex;\n",
              "      flex-wrap:wrap;\n",
              "      gap: 12px;\n",
              "    }\n",
              "\n",
              "    .colab-df-convert {\n",
              "      background-color: #E8F0FE;\n",
              "      border: none;\n",
              "      border-radius: 50%;\n",
              "      cursor: pointer;\n",
              "      display: none;\n",
              "      fill: #1967D2;\n",
              "      height: 32px;\n",
              "      padding: 0 0 0 0;\n",
              "      width: 32px;\n",
              "    }\n",
              "\n",
              "    .colab-df-convert:hover {\n",
              "      background-color: #E2EBFA;\n",
              "      box-shadow: 0px 1px 2px rgba(60, 64, 67, 0.3), 0px 1px 3px 1px rgba(60, 64, 67, 0.15);\n",
              "      fill: #174EA6;\n",
              "    }\n",
              "\n",
              "    [theme=dark] .colab-df-convert {\n",
              "      background-color: #3B4455;\n",
              "      fill: #D2E3FC;\n",
              "    }\n",
              "\n",
              "    [theme=dark] .colab-df-convert:hover {\n",
              "      background-color: #434B5C;\n",
              "      box-shadow: 0px 1px 3px 1px rgba(0, 0, 0, 0.15);\n",
              "      filter: drop-shadow(0px 1px 2px rgba(0, 0, 0, 0.3));\n",
              "      fill: #FFFFFF;\n",
              "    }\n",
              "  </style>\n",
              "\n",
              "      <script>\n",
              "        const buttonEl =\n",
              "          document.querySelector('#df-3f4bbb0c-bdd5-4878-86c0-b10df66a99aa button.colab-df-convert');\n",
              "        buttonEl.style.display =\n",
              "          google.colab.kernel.accessAllowed ? 'block' : 'none';\n",
              "\n",
              "        async function convertToInteractive(key) {\n",
              "          const element = document.querySelector('#df-3f4bbb0c-bdd5-4878-86c0-b10df66a99aa');\n",
              "          const dataTable =\n",
              "            await google.colab.kernel.invokeFunction('convertToInteractive',\n",
              "                                                     [key], {});\n",
              "          if (!dataTable) return;\n",
              "\n",
              "          const docLinkHtml = 'Like what you see? Visit the ' +\n",
              "            '<a target=\"_blank\" href=https://colab.research.google.com/notebooks/data_table.ipynb>data table notebook</a>'\n",
              "            + ' to learn more about interactive tables.';\n",
              "          element.innerHTML = '';\n",
              "          dataTable['output_type'] = 'display_data';\n",
              "          await google.colab.output.renderOutput(dataTable, element);\n",
              "          const docLink = document.createElement('div');\n",
              "          docLink.innerHTML = docLinkHtml;\n",
              "          element.appendChild(docLink);\n",
              "        }\n",
              "      </script>\n",
              "    </div>\n",
              "  </div>\n",
              "  "
            ],
            "text/plain": [
              "                       LinearRegression         Lasso         Ridge  \\\n",
              "Score entrainement         7.330777e-01  7.330897e-01  1.406238e-01   \n",
              "Score de prédiction        6.701082e-01  6.702725e-01  1.375812e-01   \n",
              "MAE                        1.557228e+06  1.555546e+06  2.570783e+06   \n",
              "RMSE                       2.475801e+06  2.475184e+06  4.003031e+06   \n",
              "median absolute error      1.032197e+06  1.032617e+06  1.902492e+06   \n",
              "\n",
              "                         ElasticNet  TweedieRegressor  HuberRegressor  \\\n",
              "Score entrainement     6.717015e-01      4.210859e-01    1.831979e-01   \n",
              "Score de prédiction    6.363152e-01      3.626013e-01    1.665540e-01   \n",
              "MAE                    1.536821e+06      2.522153e+06    2.195154e+06   \n",
              "RMSE                   2.599516e+06      3.441402e+06    3.935217e+06   \n",
              "median absolute error  7.748467e+05      1.970968e+06    1.141536e+06   \n",
              "\n",
              "                                SVR  XGBRegressor  RandomForestRegressor  \n",
              "Score entrainement    -1.413777e-01  8.914171e-01           9.893873e-01  \n",
              "Score de prédiction   -1.624729e-01  7.794377e-01           8.435578e-01  \n",
              "MAE                    2.650198e+06  1.135837e+06           8.099781e+05  \n",
              "RMSE                   4.647520e+06  2.024396e+06           1.704931e+06  \n",
              "median absolute error  1.242016e+06  6.418165e+05           3.853562e+05  "
            ]
          },
          "metadata": {},
          "execution_count": 65
        }
      ]
    },
    {
      "cell_type": "code",
      "source": [
        "X_train, X_test, y_train, y_test = train_test_split(X, Y['TotalGHGEmissions'], test_size=0.25)\n",
        "df_results_GESEmission = pad.DataFrame(index = [\"Score entrainement\", \"Score de prédiction\", \"MAE\", \"RMSE\", \"median absolute error\"], columns = [\"LinearRegression\"])\n",
        "for i in range(len(List_of_models)):\n",
        "  model_regr = make_pipeline(preprocessor,List_of_models[i])\n",
        "  model_regr.fit(X_train, y_train)\n",
        "  y_pred = model_regr.predict(X_test)\n",
        "  results_linear_regression = np.array([model_regr.score(X_train,y_train), model_regr.score(X_test,y_test), mean_absolute_error(y_test,y_pred), np.sqrt(mean_squared_error(y_test,y_pred)), median_absolute_error(y_test,y_pred)])\n",
        "  df_results_GESEmission[List_of_models_for_graph[i]] = results_linear_regression\n",
        "  df_results_GESEmission"
      ],
      "metadata": {
        "id": "YZ3zdaagQHID",
        "colab": {
          "base_uri": "https://localhost:8080/"
        },
        "outputId": "faa3e29b-c37f-47b6-d557-aed2802fa35f"
      },
      "execution_count": null,
      "outputs": [
        {
          "output_type": "stream",
          "name": "stderr",
          "text": [
            "/usr/local/lib/python3.7/dist-packages/sklearn/linear_model/_coordinate_descent.py:622: ConvergenceWarning: Objective did not converge. You might want to increase the number of iterations. Duality gap: 3229719.8160921214, tolerance: 957.6037987719235\n",
            "  positive,\n",
            "/usr/local/lib/python3.7/dist-packages/sklearn/linear_model/_glm/glm.py:323: ConvergenceWarning: lbfgs failed to converge (status=1):\n",
            "STOP: TOTAL NO. of ITERATIONS REACHED LIMIT.\n",
            "\n",
            "Increase the number of iterations (max_iter) or scale the data as shown in:\n",
            "    https://scikit-learn.org/stable/modules/preprocessing.html\n",
            "  self.n_iter_ = _check_optimize_result(\"lbfgs\", opt_res)\n",
            "/usr/local/lib/python3.7/dist-packages/sklearn/linear_model/_huber.py:332: ConvergenceWarning: lbfgs failed to converge (status=1):\n",
            "STOP: TOTAL NO. of ITERATIONS REACHED LIMIT.\n",
            "\n",
            "Increase the number of iterations (max_iter) or scale the data as shown in:\n",
            "    https://scikit-learn.org/stable/modules/preprocessing.html\n",
            "  self.n_iter_ = _check_optimize_result(\"lbfgs\", opt_res, self.max_iter)\n"
          ]
        },
        {
          "output_type": "stream",
          "name": "stdout",
          "text": [
            "[07:46:51] WARNING: /workspace/src/objective/regression_obj.cu:152: reg:linear is now deprecated in favor of reg:squarederror.\n"
          ]
        }
      ]
    },
    {
      "cell_type": "code",
      "source": [
        "df_results_GESEmission"
      ],
      "metadata": {
        "id": "m6GO7pTZVb4o",
        "colab": {
          "base_uri": "https://localhost:8080/",
          "height": 206
        },
        "outputId": "fa8c2eed-7bfa-423d-a98d-edb8e516e7c0"
      },
      "execution_count": null,
      "outputs": [
        {
          "output_type": "execute_result",
          "data": {
            "text/html": [
              "\n",
              "  <div id=\"df-2dbcd581-5e0a-4492-af1c-1303c4369b2a\">\n",
              "    <div class=\"colab-df-container\">\n",
              "      <div>\n",
              "<style scoped>\n",
              "    .dataframe tbody tr th:only-of-type {\n",
              "        vertical-align: middle;\n",
              "    }\n",
              "\n",
              "    .dataframe tbody tr th {\n",
              "        vertical-align: top;\n",
              "    }\n",
              "\n",
              "    .dataframe thead th {\n",
              "        text-align: right;\n",
              "    }\n",
              "</style>\n",
              "<table border=\"1\" class=\"dataframe\">\n",
              "  <thead>\n",
              "    <tr style=\"text-align: right;\">\n",
              "      <th></th>\n",
              "      <th>LinearRegression</th>\n",
              "      <th>Lasso</th>\n",
              "      <th>Ridge</th>\n",
              "      <th>ElasticNet</th>\n",
              "      <th>TweedieRegressor</th>\n",
              "      <th>HuberRegressor</th>\n",
              "      <th>SVR</th>\n",
              "      <th>XGBRegressor</th>\n",
              "      <th>RandomForestRegressor</th>\n",
              "    </tr>\n",
              "  </thead>\n",
              "  <tbody>\n",
              "    <tr>\n",
              "      <th>Score entrainement</th>\n",
              "      <td>0.536794</td>\n",
              "      <td>0.520838</td>\n",
              "      <td>0.021895</td>\n",
              "      <td>0.402198</td>\n",
              "      <td>0.415948</td>\n",
              "      <td>0.118365</td>\n",
              "      <td>0.123315</td>\n",
              "      <td>0.795312</td>\n",
              "      <td>0.973917</td>\n",
              "    </tr>\n",
              "    <tr>\n",
              "      <th>Score de prédiction</th>\n",
              "      <td>0.370686</td>\n",
              "      <td>0.373631</td>\n",
              "      <td>0.054051</td>\n",
              "      <td>0.346300</td>\n",
              "      <td>0.365625</td>\n",
              "      <td>0.105783</td>\n",
              "      <td>0.030978</td>\n",
              "      <td>0.582271</td>\n",
              "      <td>0.707049</td>\n",
              "    </tr>\n",
              "    <tr>\n",
              "      <th>MAE</th>\n",
              "      <td>46.971861</td>\n",
              "      <td>46.008098</td>\n",
              "      <td>62.322445</td>\n",
              "      <td>46.649517</td>\n",
              "      <td>44.594048</td>\n",
              "      <td>49.133314</td>\n",
              "      <td>46.457163</td>\n",
              "      <td>37.497754</td>\n",
              "      <td>27.685559</td>\n",
              "    </tr>\n",
              "    <tr>\n",
              "      <th>RMSE</th>\n",
              "      <td>78.999718</td>\n",
              "      <td>78.814691</td>\n",
              "      <td>96.855830</td>\n",
              "      <td>80.515829</td>\n",
              "      <td>79.316723</td>\n",
              "      <td>94.170187</td>\n",
              "      <td>98.029955</td>\n",
              "      <td>64.363435</td>\n",
              "      <td>53.900119</td>\n",
              "    </tr>\n",
              "    <tr>\n",
              "      <th>median absolute error</th>\n",
              "      <td>26.841047</td>\n",
              "      <td>25.784858</td>\n",
              "      <td>50.365782</td>\n",
              "      <td>29.560045</td>\n",
              "      <td>24.534779</td>\n",
              "      <td>26.629273</td>\n",
              "      <td>20.648580</td>\n",
              "      <td>20.509662</td>\n",
              "      <td>12.753788</td>\n",
              "    </tr>\n",
              "  </tbody>\n",
              "</table>\n",
              "</div>\n",
              "      <button class=\"colab-df-convert\" onclick=\"convertToInteractive('df-2dbcd581-5e0a-4492-af1c-1303c4369b2a')\"\n",
              "              title=\"Convert this dataframe to an interactive table.\"\n",
              "              style=\"display:none;\">\n",
              "        \n",
              "  <svg xmlns=\"http://www.w3.org/2000/svg\" height=\"24px\"viewBox=\"0 0 24 24\"\n",
              "       width=\"24px\">\n",
              "    <path d=\"M0 0h24v24H0V0z\" fill=\"none\"/>\n",
              "    <path d=\"M18.56 5.44l.94 2.06.94-2.06 2.06-.94-2.06-.94-.94-2.06-.94 2.06-2.06.94zm-11 1L8.5 8.5l.94-2.06 2.06-.94-2.06-.94L8.5 2.5l-.94 2.06-2.06.94zm10 10l.94 2.06.94-2.06 2.06-.94-2.06-.94-.94-2.06-.94 2.06-2.06.94z\"/><path d=\"M17.41 7.96l-1.37-1.37c-.4-.4-.92-.59-1.43-.59-.52 0-1.04.2-1.43.59L10.3 9.45l-7.72 7.72c-.78.78-.78 2.05 0 2.83L4 21.41c.39.39.9.59 1.41.59.51 0 1.02-.2 1.41-.59l7.78-7.78 2.81-2.81c.8-.78.8-2.07 0-2.86zM5.41 20L4 18.59l7.72-7.72 1.47 1.35L5.41 20z\"/>\n",
              "  </svg>\n",
              "      </button>\n",
              "      \n",
              "  <style>\n",
              "    .colab-df-container {\n",
              "      display:flex;\n",
              "      flex-wrap:wrap;\n",
              "      gap: 12px;\n",
              "    }\n",
              "\n",
              "    .colab-df-convert {\n",
              "      background-color: #E8F0FE;\n",
              "      border: none;\n",
              "      border-radius: 50%;\n",
              "      cursor: pointer;\n",
              "      display: none;\n",
              "      fill: #1967D2;\n",
              "      height: 32px;\n",
              "      padding: 0 0 0 0;\n",
              "      width: 32px;\n",
              "    }\n",
              "\n",
              "    .colab-df-convert:hover {\n",
              "      background-color: #E2EBFA;\n",
              "      box-shadow: 0px 1px 2px rgba(60, 64, 67, 0.3), 0px 1px 3px 1px rgba(60, 64, 67, 0.15);\n",
              "      fill: #174EA6;\n",
              "    }\n",
              "\n",
              "    [theme=dark] .colab-df-convert {\n",
              "      background-color: #3B4455;\n",
              "      fill: #D2E3FC;\n",
              "    }\n",
              "\n",
              "    [theme=dark] .colab-df-convert:hover {\n",
              "      background-color: #434B5C;\n",
              "      box-shadow: 0px 1px 3px 1px rgba(0, 0, 0, 0.15);\n",
              "      filter: drop-shadow(0px 1px 2px rgba(0, 0, 0, 0.3));\n",
              "      fill: #FFFFFF;\n",
              "    }\n",
              "  </style>\n",
              "\n",
              "      <script>\n",
              "        const buttonEl =\n",
              "          document.querySelector('#df-2dbcd581-5e0a-4492-af1c-1303c4369b2a button.colab-df-convert');\n",
              "        buttonEl.style.display =\n",
              "          google.colab.kernel.accessAllowed ? 'block' : 'none';\n",
              "\n",
              "        async function convertToInteractive(key) {\n",
              "          const element = document.querySelector('#df-2dbcd581-5e0a-4492-af1c-1303c4369b2a');\n",
              "          const dataTable =\n",
              "            await google.colab.kernel.invokeFunction('convertToInteractive',\n",
              "                                                     [key], {});\n",
              "          if (!dataTable) return;\n",
              "\n",
              "          const docLinkHtml = 'Like what you see? Visit the ' +\n",
              "            '<a target=\"_blank\" href=https://colab.research.google.com/notebooks/data_table.ipynb>data table notebook</a>'\n",
              "            + ' to learn more about interactive tables.';\n",
              "          element.innerHTML = '';\n",
              "          dataTable['output_type'] = 'display_data';\n",
              "          await google.colab.output.renderOutput(dataTable, element);\n",
              "          const docLink = document.createElement('div');\n",
              "          docLink.innerHTML = docLinkHtml;\n",
              "          element.appendChild(docLink);\n",
              "        }\n",
              "      </script>\n",
              "    </div>\n",
              "  </div>\n",
              "  "
            ],
            "text/plain": [
              "                       LinearRegression      Lasso      Ridge  ElasticNet  \\\n",
              "Score entrainement             0.536794   0.520838   0.021895    0.402198   \n",
              "Score de prédiction            0.370686   0.373631   0.054051    0.346300   \n",
              "MAE                           46.971861  46.008098  62.322445   46.649517   \n",
              "RMSE                          78.999718  78.814691  96.855830   80.515829   \n",
              "median absolute error         26.841047  25.784858  50.365782   29.560045   \n",
              "\n",
              "                       TweedieRegressor  HuberRegressor        SVR  \\\n",
              "Score entrainement             0.415948        0.118365   0.123315   \n",
              "Score de prédiction            0.365625        0.105783   0.030978   \n",
              "MAE                           44.594048       49.133314  46.457163   \n",
              "RMSE                          79.316723       94.170187  98.029955   \n",
              "median absolute error         24.534779       26.629273  20.648580   \n",
              "\n",
              "                       XGBRegressor  RandomForestRegressor  \n",
              "Score entrainement         0.795312               0.973917  \n",
              "Score de prédiction        0.582271               0.707049  \n",
              "MAE                       37.497754              27.685559  \n",
              "RMSE                      64.363435              53.900119  \n",
              "median absolute error     20.509662              12.753788  "
            ]
          },
          "metadata": {},
          "execution_count": 67
        }
      ]
    },
    {
      "cell_type": "code",
      "source": [
        "custom_palette = [sns.xkcd_rgb[\"windows blue\"], sns.xkcd_rgb[\"pale red\"], sns.xkcd_rgb[\"medium green\"], \"orange\", \"blue\",\"yellow\", \"purple\", \"deeppink\", \"brown\", \"teal\", \"black\"] \n",
        "sns.set_palette(custom_palette)"
      ],
      "metadata": {
        "id": "pXIYN24cpT71"
      },
      "execution_count": null,
      "outputs": []
    },
    {
      "cell_type": "code",
      "source": [
        "df_graph_conso = df_results_Consommation.transpose()\n",
        "fig, axs = plt.subplots(1, 2, figsize=(25, 7))\n",
        "ax1 = sns.barplot(x=df_graph_conso.index, y=df_graph_conso[\"Score entrainement\"].values, data=df_graph_conso, ax=axs[0], palette = custom_palette)\n",
        "ax2 = sns.barplot(x=df_graph_conso.index, y=df_graph_conso[\"Score de prédiction\"].values, data=df_graph_conso, ax=axs[1], palette = custom_palette)\n",
        "ax1.set_xticklabels(ax1.get_xticklabels(),rotation=30)\n",
        "ax1.set_title('Efficacité des modèles linéaires pour la prédiction de la consommation')\n",
        "ax1.set_ylabel('Score entrainement')\n",
        "ax1.set(ylim=(-0.4, 1))\n",
        "ax2.set_xticklabels(ax2.get_xticklabels(),rotation=30)\n",
        "ax2.set_title('Efficacité des modèles linéaires pour la prédiction de la consommation')\n",
        "ax2.set_ylabel('Score prédiction')\n",
        "ax2.set(ylim=(-0.4, 1))\n",
        "\n",
        "plt.tight_layout()\n",
        "fig.savefig(\"Performance modèles variables quantif-quali consommation\", dpi=400)"
      ],
      "metadata": {
        "id": "yXKT-QgTl-q4",
        "colab": {
          "base_uri": "https://localhost:8080/",
          "height": 409
        },
        "outputId": "c54f5aee-01ab-4328-e7b6-ba3ad4f8576c"
      },
      "execution_count": null,
      "outputs": [
        {
          "output_type": "display_data",
          "data": {
            "image/png": "[encoded data removed]",
            "text/plain": [
              "<Figure size 1800x504 with 2 Axes>"
            ]
          },
          "metadata": {
            "needs_background": "light"
          }
        }
      ]
    },
    {
      "cell_type": "code",
      "source": [
        "df_graph_GES = df_results_GESEmission.transpose()\n",
        "fig, axs = plt.subplots(1, 2, figsize=(25, 7))\n",
        "ax1 = sns.barplot(x=df_graph_GES.index, y=df_graph_GES[\"Score entrainement\"].values, data=df_graph_GES, ax=axs[0], palette = custom_palette)\n",
        "ax2 = sns.barplot(x=df_graph_GES.index, y=df_graph_GES[\"Score de prédiction\"].values, data=df_graph_GES, ax=axs[1], palette = custom_palette)\n",
        "ax1.set_xticklabels(ax1.get_xticklabels(),rotation=30)\n",
        "ax1.set_title('Efficacité des modèles linéaires pour la prédiction des GES')\n",
        "ax1.set_ylabel('Score entrainement')\n",
        "ax1.set(ylim=(-0.2, 1))\n",
        "ax2.set_xticklabels(ax2.get_xticklabels(),rotation=30)\n",
        "ax2.set_title('Efficacité des modèles linéaires pour la prédiction des GES')\n",
        "ax2.set_ylabel('Score prédiction')\n",
        "ax2.set(ylim=(-0.2, 1))\n",
        "\n",
        "plt.tight_layout()\n",
        "fig.savefig(\"Performance modèles variables quantif-quali GES émission\", dpi=400)"
      ],
      "metadata": {
        "id": "MKttSFxtsKm8",
        "colab": {
          "base_uri": "https://localhost:8080/",
          "height": 409
        },
        "outputId": "752af0a8-134d-44d6-b180-a8e1ea6695bb"
      },
      "execution_count": null,
      "outputs": [
        {
          "output_type": "display_data",
          "data": {
            "image/png": "[encoded data removed]",
            "text/plain": [
              "<Figure size 1800x504 with 2 Axes>"
            ]
          },
          "metadata": {
            "needs_background": "light"
          }
        }
      ]
    },
    {
      "cell_type": "markdown",
      "source": [
        "# CONCLUSION :      \n",
        "Les performances sont globalement similaires en comparaison aux performances des modèles n'incluant pas les variables catégorielles.\n",
        "\n",
        "Dans les deux cas l'algorithme *RandomForestRegressor* est le plus performant suivi par l'algorithme *XGBRegressor*"
      ],
      "metadata": {
        "id": "S7urG1alf0T_"
      }
    },
    {
      "cell_type": "markdown",
      "source": [
        "Visualisation finale de la validation de notre approche"
      ],
      "metadata": {
        "id": "J1QD9faekKR7"
      }
    },
    {
      "cell_type": "code",
      "source": [
        "X = X[features_Quant]\n",
        "X_train, X_test, y_train, y_test = train_test_split(X, Y['SiteEnergyUse(kBtu)'], test_size=0.25)\n",
        "model_regr_RF_Consommation = RandomForestRegressor(bootstrap = False, max_depth = 20, max_features=\"sqrt\", min_samples_leaf = 1, min_samples_split=4, n_estimators=30)\n",
        "model_regr_RF_Consommation.fit(X_train, y_train)\n",
        "data[\"Predicted_consommation\"] = model_regr_RF_Consommation.predict(data[features_Quant])"
      ],
      "metadata": {
        "id": "oYMMkiBRiE6d"
      },
      "execution_count": null,
      "outputs": []
    },
    {
      "cell_type": "code",
      "source": [
        "data.plot.scatter(x=\"Predicted_consommation\",y=\"SiteEnergyUse(kBtu)\")"
      ],
      "metadata": {
        "id": "mhHMcAEfikeG",
        "colab": {
          "base_uri": "https://localhost:8080/",
          "height": 347
        },
        "outputId": "a860cb29-2f59-4515-866e-26d96aafde6e"
      },
      "execution_count": null,
      "outputs": [
        {
          "output_type": "stream",
          "name": "stderr",
          "text": [
            "*c* argument looks like a single numeric RGB or RGBA sequence, which should be avoided as value-mapping will have precedence in case its length matches with *x* & *y*.  Please use the *color* keyword-argument or provide a 2-D array with a single row if you intend to specify the same RGB or RGBA value for all points.\n"
          ]
        },
        {
          "output_type": "execute_result",
          "data": {
            "text/plain": [
              "<matplotlib.axes._subplots.AxesSubplot at 0x7f5cadaa3890>"
            ]
          },
          "metadata": {},
          "execution_count": 72
        },
        {
          "output_type": "display_data",
          "data": {
            "image/png": "[encoded data removed]",
            "text/plain": [
              "<Figure size 432x288 with 1 Axes>"
            ]
          },
          "metadata": {
            "needs_background": "light"
          }
        }
      ]
    },
    {
      "cell_type": "code",
      "source": [
        "X_train, X_test, y_train, y_test = train_test_split(X, Y['TotalGHGEmissions'], test_size=0.25, random_state = 7)\n",
        "model_regr = RandomForestRegressor(bootstrap = False, max_depth=None, max_features=\"sqrt\", min_samples_leaf=1, min_samples_split=2, n_estimators=400)\n",
        "model_regr.fit(X_train, y_train)\n",
        "data[\"Predicted_GES-emission\"] = model_regr.predict(data[features_Quant])"
      ],
      "metadata": {
        "id": "0a8bGhQ9iDnF"
      },
      "execution_count": null,
      "outputs": []
    },
    {
      "cell_type": "code",
      "source": [
        "data.plot.scatter(x=\"Predicted_GES-emission\",y=\"TotalGHGEmissions\")"
      ],
      "metadata": {
        "id": "AW4gO9vzjy9N",
        "colab": {
          "base_uri": "https://localhost:8080/",
          "height": 336
        },
        "outputId": "b34974c2-8da8-422e-bcb7-1f67cfceeae1"
      },
      "execution_count": null,
      "outputs": [
        {
          "output_type": "stream",
          "name": "stderr",
          "text": [
            "*c* argument looks like a single numeric RGB or RGBA sequence, which should be avoided as value-mapping will have precedence in case its length matches with *x* & *y*.  Please use the *color* keyword-argument or provide a 2-D array with a single row if you intend to specify the same RGB or RGBA value for all points.\n"
          ]
        },
        {
          "output_type": "execute_result",
          "data": {
            "text/plain": [
              "<matplotlib.axes._subplots.AxesSubplot at 0x7f5cb2ae4d10>"
            ]
          },
          "metadata": {},
          "execution_count": 74
        },
        {
          "output_type": "display_data",
          "data": {
            "image/png": "[encoded data removed]",
            "text/plain": [
              "<Figure size 432x288 with 1 Axes>"
            ]
          },
          "metadata": {
            "needs_background": "light"
          }
        }
      ]
    },
    {
      "cell_type": "code",
      "source": [
        "data.head()"
      ],
      "metadata": {
        "id": "j_i-aifCiEvW",
        "colab": {
          "base_uri": "https://localhost:8080/",
          "height": 287
        },
        "outputId": "fe54e435-abe9-4de6-9c86-41f70e928f54"
      },
      "execution_count": null,
      "outputs": [
        {
          "output_type": "execute_result",
          "data": {
            "text/html": [
              "\n",
              "  <div id=\"df-b92a3607-abcf-4c89-b2ab-2ce51055cdaa\">\n",
              "    <div class=\"colab-df-container\">\n",
              "      <div>\n",
              "<style scoped>\n",
              "    .dataframe tbody tr th:only-of-type {\n",
              "        vertical-align: middle;\n",
              "    }\n",
              "\n",
              "    .dataframe tbody tr th {\n",
              "        vertical-align: top;\n",
              "    }\n",
              "\n",
              "    .dataframe thead th {\n",
              "        text-align: right;\n",
              "    }\n",
              "</style>\n",
              "<table border=\"1\" class=\"dataframe\">\n",
              "  <thead>\n",
              "    <tr style=\"text-align: right;\">\n",
              "      <th></th>\n",
              "      <th>PrimaryPropertyType</th>\n",
              "      <th>CouncilDistrictCode</th>\n",
              "      <th>Neighborhood</th>\n",
              "      <th>NumberofFloors</th>\n",
              "      <th>PropertyGFATotal</th>\n",
              "      <th>PropertyGFAParking</th>\n",
              "      <th>PropertyGFABuilding(s)</th>\n",
              "      <th>LargestPropertyUseType</th>\n",
              "      <th>LargestPropertyUseTypeGFA</th>\n",
              "      <th>SiteEnergyUse(kBtu)</th>\n",
              "      <th>TotalGHGEmissions</th>\n",
              "      <th>YearBuilt_age</th>\n",
              "      <th>GFA_per_floor</th>\n",
              "      <th>Building_age</th>\n",
              "      <th>Predicted_consommation</th>\n",
              "      <th>Predicted_GES-emission</th>\n",
              "    </tr>\n",
              "  </thead>\n",
              "  <tbody>\n",
              "    <tr>\n",
              "      <th>0</th>\n",
              "      <td>Hotel</td>\n",
              "      <td>7.0</td>\n",
              "      <td>DOWNTOWN</td>\n",
              "      <td>12.0</td>\n",
              "      <td>88434.0</td>\n",
              "      <td>0.0</td>\n",
              "      <td>88434.0</td>\n",
              "      <td>Hotel</td>\n",
              "      <td>88434.0</td>\n",
              "      <td>6981428.0</td>\n",
              "      <td>249.43</td>\n",
              "      <td>old</td>\n",
              "      <td>7369.500000</td>\n",
              "      <td>95.0</td>\n",
              "      <td>7.075277e+06</td>\n",
              "      <td>249.705</td>\n",
              "    </tr>\n",
              "    <tr>\n",
              "      <th>1</th>\n",
              "      <td>Hotel</td>\n",
              "      <td>7.0</td>\n",
              "      <td>DOWNTOWN</td>\n",
              "      <td>11.0</td>\n",
              "      <td>103566.0</td>\n",
              "      <td>15064.0</td>\n",
              "      <td>88502.0</td>\n",
              "      <td>Hotel</td>\n",
              "      <td>83880.0</td>\n",
              "      <td>8354235.0</td>\n",
              "      <td>263.51</td>\n",
              "      <td>old</td>\n",
              "      <td>9415.090909</td>\n",
              "      <td>26.0</td>\n",
              "      <td>5.718227e+06</td>\n",
              "      <td>279.685</td>\n",
              "    </tr>\n",
              "    <tr>\n",
              "      <th>2</th>\n",
              "      <td>Hotel</td>\n",
              "      <td>7.0</td>\n",
              "      <td>DOWNTOWN</td>\n",
              "      <td>11.0</td>\n",
              "      <td>83008.0</td>\n",
              "      <td>0.0</td>\n",
              "      <td>83008.0</td>\n",
              "      <td>Hotel</td>\n",
              "      <td>81352.0</td>\n",
              "      <td>6252842.0</td>\n",
              "      <td>208.46</td>\n",
              "      <td>old</td>\n",
              "      <td>7546.181818</td>\n",
              "      <td>96.0</td>\n",
              "      <td>6.022525e+06</td>\n",
              "      <td>192.300</td>\n",
              "    </tr>\n",
              "    <tr>\n",
              "      <th>3</th>\n",
              "      <td>Hotel</td>\n",
              "      <td>7.0</td>\n",
              "      <td>DOWNTOWN</td>\n",
              "      <td>15.0</td>\n",
              "      <td>163984.0</td>\n",
              "      <td>0.0</td>\n",
              "      <td>163984.0</td>\n",
              "      <td>Hotel</td>\n",
              "      <td>163984.0</td>\n",
              "      <td>12633744.0</td>\n",
              "      <td>331.61</td>\n",
              "      <td>old</td>\n",
              "      <td>10932.266667</td>\n",
              "      <td>118.0</td>\n",
              "      <td>1.199774e+07</td>\n",
              "      <td>361.885</td>\n",
              "    </tr>\n",
              "    <tr>\n",
              "      <th>4</th>\n",
              "      <td>Hotel</td>\n",
              "      <td>7.0</td>\n",
              "      <td>DOWNTOWN</td>\n",
              "      <td>9.0</td>\n",
              "      <td>65009.0</td>\n",
              "      <td>0.0</td>\n",
              "      <td>65009.0</td>\n",
              "      <td>Hotel</td>\n",
              "      <td>65009.0</td>\n",
              "      <td>6807227.0</td>\n",
              "      <td>334.87</td>\n",
              "      <td>old</td>\n",
              "      <td>7223.222222</td>\n",
              "      <td>94.0</td>\n",
              "      <td>6.374925e+06</td>\n",
              "      <td>328.230</td>\n",
              "    </tr>\n",
              "  </tbody>\n",
              "</table>\n",
              "</div>\n",
              "      <button class=\"colab-df-convert\" onclick=\"convertToInteractive('df-b92a3607-abcf-4c89-b2ab-2ce51055cdaa')\"\n",
              "              title=\"Convert this dataframe to an interactive table.\"\n",
              "              style=\"display:none;\">\n",
              "        \n",
              "  <svg xmlns=\"http://www.w3.org/2000/svg\" height=\"24px\"viewBox=\"0 0 24 24\"\n",
              "       width=\"24px\">\n",
              "    <path d=\"M0 0h24v24H0V0z\" fill=\"none\"/>\n",
              "    <path d=\"M18.56 5.44l.94 2.06.94-2.06 2.06-.94-2.06-.94-.94-2.06-.94 2.06-2.06.94zm-11 1L8.5 8.5l.94-2.06 2.06-.94-2.06-.94L8.5 2.5l-.94 2.06-2.06.94zm10 10l.94 2.06.94-2.06 2.06-.94-2.06-.94-.94-2.06-.94 2.06-2.06.94z\"/><path d=\"M17.41 7.96l-1.37-1.37c-.4-.4-.92-.59-1.43-.59-.52 0-1.04.2-1.43.59L10.3 9.45l-7.72 7.72c-.78.78-.78 2.05 0 2.83L4 21.41c.39.39.9.59 1.41.59.51 0 1.02-.2 1.41-.59l7.78-7.78 2.81-2.81c.8-.78.8-2.07 0-2.86zM5.41 20L4 18.59l7.72-7.72 1.47 1.35L5.41 20z\"/>\n",
              "  </svg>\n",
              "      </button>\n",
              "      \n",
              "  <style>\n",
              "    .colab-df-container {\n",
              "      display:flex;\n",
              "      flex-wrap:wrap;\n",
              "      gap: 12px;\n",
              "    }\n",
              "\n",
              "    .colab-df-convert {\n",
              "      background-color: #E8F0FE;\n",
              "      border: none;\n",
              "      border-radius: 50%;\n",
              "      cursor: pointer;\n",
              "      display: none;\n",
              "      fill: #1967D2;\n",
              "      height: 32px;\n",
              "      padding: 0 0 0 0;\n",
              "      width: 32px;\n",
              "    }\n",
              "\n",
              "    .colab-df-convert:hover {\n",
              "      background-color: #E2EBFA;\n",
              "      box-shadow: 0px 1px 2px rgba(60, 64, 67, 0.3), 0px 1px 3px 1px rgba(60, 64, 67, 0.15);\n",
              "      fill: #174EA6;\n",
              "    }\n",
              "\n",
              "    [theme=dark] .colab-df-convert {\n",
              "      background-color: #3B4455;\n",
              "      fill: #D2E3FC;\n",
              "    }\n",
              "\n",
              "    [theme=dark] .colab-df-convert:hover {\n",
              "      background-color: #434B5C;\n",
              "      box-shadow: 0px 1px 3px 1px rgba(0, 0, 0, 0.15);\n",
              "      filter: drop-shadow(0px 1px 2px rgba(0, 0, 0, 0.3));\n",
              "      fill: #FFFFFF;\n",
              "    }\n",
              "  </style>\n",
              "\n",
              "      <script>\n",
              "        const buttonEl =\n",
              "          document.querySelector('#df-b92a3607-abcf-4c89-b2ab-2ce51055cdaa button.colab-df-convert');\n",
              "        buttonEl.style.display =\n",
              "          google.colab.kernel.accessAllowed ? 'block' : 'none';\n",
              "\n",
              "        async function convertToInteractive(key) {\n",
              "          const element = document.querySelector('#df-b92a3607-abcf-4c89-b2ab-2ce51055cdaa');\n",
              "          const dataTable =\n",
              "            await google.colab.kernel.invokeFunction('convertToInteractive',\n",
              "                                                     [key], {});\n",
              "          if (!dataTable) return;\n",
              "\n",
              "          const docLinkHtml = 'Like what you see? Visit the ' +\n",
              "            '<a target=\"_blank\" href=https://colab.research.google.com/notebooks/data_table.ipynb>data table notebook</a>'\n",
              "            + ' to learn more about interactive tables.';\n",
              "          element.innerHTML = '';\n",
              "          dataTable['output_type'] = 'display_data';\n",
              "          await google.colab.output.renderOutput(dataTable, element);\n",
              "          const docLink = document.createElement('div');\n",
              "          docLink.innerHTML = docLinkHtml;\n",
              "          element.appendChild(docLink);\n",
              "        }\n",
              "      </script>\n",
              "    </div>\n",
              "  </div>\n",
              "  "
            ],
            "text/plain": [
              "  PrimaryPropertyType  CouncilDistrictCode Neighborhood  NumberofFloors  \\\n",
              "0               Hotel                  7.0     DOWNTOWN            12.0   \n",
              "1               Hotel                  7.0     DOWNTOWN            11.0   \n",
              "2               Hotel                  7.0     DOWNTOWN            11.0   \n",
              "3               Hotel                  7.0     DOWNTOWN            15.0   \n",
              "4               Hotel                  7.0     DOWNTOWN             9.0   \n",
              "\n",
              "   PropertyGFATotal  PropertyGFAParking  PropertyGFABuilding(s)  \\\n",
              "0           88434.0                 0.0                 88434.0   \n",
              "1          103566.0             15064.0                 88502.0   \n",
              "2           83008.0                 0.0                 83008.0   \n",
              "3          163984.0                 0.0                163984.0   \n",
              "4           65009.0                 0.0                 65009.0   \n",
              "\n",
              "  LargestPropertyUseType  LargestPropertyUseTypeGFA  SiteEnergyUse(kBtu)  \\\n",
              "0                  Hotel                    88434.0            6981428.0   \n",
              "1                  Hotel                    83880.0            8354235.0   \n",
              "2                  Hotel                    81352.0            6252842.0   \n",
              "3                  Hotel                   163984.0           12633744.0   \n",
              "4                  Hotel                    65009.0            6807227.0   \n",
              "\n",
              "   TotalGHGEmissions YearBuilt_age  GFA_per_floor  Building_age  \\\n",
              "0             249.43           old    7369.500000          95.0   \n",
              "1             263.51           old    9415.090909          26.0   \n",
              "2             208.46           old    7546.181818          96.0   \n",
              "3             331.61           old   10932.266667         118.0   \n",
              "4             334.87           old    7223.222222          94.0   \n",
              "\n",
              "   Predicted_consommation  Predicted_GES-emission  \n",
              "0            7.075277e+06                 249.705  \n",
              "1            5.718227e+06                 279.685  \n",
              "2            6.022525e+06                 192.300  \n",
              "3            1.199774e+07                 361.885  \n",
              "4            6.374925e+06                 328.230  "
            ]
          },
          "metadata": {},
          "execution_count": 75
        }
      ]
    },
    {
      "cell_type": "markdown",
      "source": [
        "## Importance des features pour la modélisation :     \n",
        " \n",
        " Il y a t-il des features qui sont primordiaux pour la modélisation et qu'il faudra donc garder dans les années à suivre et au contraire existe-t-il des features dont nous pourrions nous passer (et ainsi gagner du temps sur le terrain dans la préparation de la base de donnée) ?\n"
      ],
      "metadata": {
        "id": "gdrvgSEGrt0o"
      }
    },
    {
      "cell_type": "markdown",
      "source": [
        "Pour la prédiction de la consommation :"
      ],
      "metadata": {
        "id": "wTWU3hbZyPiC"
      }
    },
    {
      "cell_type": "code",
      "source": [
        "# Calcul des coefficients relevant l'importance de chaque features\n",
        "coefficients = abs(rf_GridSearchCV_conso.best_estimator_.feature_importances_)\n",
        "liste_coef_conso = pad.concat((pad.DataFrame(X.columns, columns = ['Variables']), pad.DataFrame(coefficients, columns = ['Coefficients'])), axis = 1).sort_values(by='Coefficients', ascending = False)"
      ],
      "metadata": {
        "id": "VUDH6i4HyVjV"
      },
      "execution_count": null,
      "outputs": []
    },
    {
      "cell_type": "code",
      "source": [
        "plt.figure(figsize=(8,8))\n",
        "plt.title('Prédiction de la consommation - Random Forest - Importance des features')\n",
        "ax = sns.barplot(y = liste_coef_conso['Variables'], x = liste_coef_conso['Coefficients'])\n",
        "plt.tight_layout()\n",
        "fig = ax.get_figure()\n",
        "fig.savefig(\"Importance des features consommation\", dpi=400)\n",
        "plt.show()"
      ],
      "metadata": {
        "id": "hT8T70cxyWMF",
        "colab": {
          "base_uri": "https://localhost:8080/",
          "height": 585
        },
        "outputId": "52ea0ee2-63f0-45bc-8094-dd8bbbb68c25"
      },
      "execution_count": null,
      "outputs": [
        {
          "output_type": "display_data",
          "data": {
            "image/png": "[encoded data removed]",
            "text/plain": [
              "<Figure size 576x576 with 1 Axes>"
            ]
          },
          "metadata": {
            "needs_background": "light"
          }
        }
      ]
    },
    {
      "cell_type": "markdown",
      "source": [
        "De façon assez logique, les surfaces des batiments et étages sont importants pour la création du modèle, vient ensuite le nombre d'étage, l'âge du batiment et enfin le n° du district où se situe le batiment"
      ],
      "metadata": {
        "id": "dz7OeQuS17rW"
      }
    },
    {
      "cell_type": "markdown",
      "source": [
        "Pour la prédiction des émissions de GES :"
      ],
      "metadata": {
        "id": "Sb6YW9AbySym"
      }
    },
    {
      "cell_type": "code",
      "source": [
        "# Calcul des coefficients relevant l'importance de chaque features\n",
        "coefficients = abs(rf_GridSearchCV_GES.best_estimator_.feature_importances_)\n",
        "liste_coef = pad.concat((pad.DataFrame(X.columns, columns = ['Variables']), pad.DataFrame(coefficients, columns = ['Coefficients'])), axis = 1).sort_values(by='Coefficients', ascending = False)"
      ],
      "metadata": {
        "id": "S9Y_Ctf_rp5b"
      },
      "execution_count": null,
      "outputs": []
    },
    {
      "cell_type": "code",
      "source": [
        "plt.figure(figsize=(8,8))\n",
        "plt.title('Prédiction des émissions de GES - Random Forest - Importance des features')\n",
        "ax = sns.barplot(y = liste_coef['Variables'], x = liste_coef['Coefficients'])\n",
        "plt.tight_layout()\n",
        "fig = ax.get_figure()\n",
        "fig.savefig(\"Importance des features émission GES\", dpi=400)\n",
        "plt.show()"
      ],
      "metadata": {
        "id": "vU9aFamor0YL",
        "colab": {
          "base_uri": "https://localhost:8080/",
          "height": 585
        },
        "outputId": "fac97101-c978-48c1-90be-6ae18e741fd0"
      },
      "execution_count": null,
      "outputs": [
        {
          "output_type": "display_data",
          "data": {
            "image/png": "[encoded data removed]",
            "text/plain": [
              "<Figure size 576x576 with 1 Axes>"
            ]
          },
          "metadata": {
            "needs_background": "light"
          }
        }
      ]
    },
    {
      "cell_type": "markdown",
      "source": [
        "De façon assez logique, les surfaces des batiments et étages sont importants pour la création du modèle, vient ensuite le nombre d'étage, l'âge du batiment et enfin le n° du district où se situe le batiment"
      ],
      "metadata": {
        "id": "p9-hYhDovIj_"
      }
    }
  ]
}